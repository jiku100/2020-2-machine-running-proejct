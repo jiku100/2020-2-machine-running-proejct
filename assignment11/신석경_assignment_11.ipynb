{
  "nbformat": 4,
  "nbformat_minor": 0,
  "metadata": {
    "accelerator": "GPU",
    "colab": {
      "name": "신석경_assignment_11",
      "provenance": [],
      "collapsed_sections": [],
      "authorship_tag": "ABX9TyPIbRiQwDCduYydh52+f1nb",
      "include_colab_link": true
    },
    "kernelspec": {
      "display_name": "Python 3",
      "name": "python3"
    },
    "widgets": {
      "application/vnd.jupyter.widget-state+json": {
        "951f266de287418b81f6ea9b26496354": {
          "model_module": "@jupyter-widgets/controls",
          "model_name": "HBoxModel",
          "state": {
            "_view_name": "HBoxView",
            "_dom_classes": [],
            "_model_name": "HBoxModel",
            "_view_module": "@jupyter-widgets/controls",
            "_model_module_version": "1.5.0",
            "_view_count": null,
            "_view_module_version": "1.5.0",
            "box_style": "",
            "layout": "IPY_MODEL_e3b639f7e0284f49b554d306d098f988",
            "_model_module": "@jupyter-widgets/controls",
            "children": [
              "IPY_MODEL_91b91e123732484aae1bf1f28d6e126f",
              "IPY_MODEL_2f67e691659b40d0a7fcf010f42c5928"
            ]
          }
        },
        "e3b639f7e0284f49b554d306d098f988": {
          "model_module": "@jupyter-widgets/base",
          "model_name": "LayoutModel",
          "state": {
            "_view_name": "LayoutView",
            "grid_template_rows": null,
            "right": null,
            "justify_content": null,
            "_view_module": "@jupyter-widgets/base",
            "overflow": null,
            "_model_module_version": "1.2.0",
            "_view_count": null,
            "flex_flow": null,
            "width": null,
            "min_width": null,
            "border": null,
            "align_items": null,
            "bottom": null,
            "_model_module": "@jupyter-widgets/base",
            "top": null,
            "grid_column": null,
            "overflow_y": null,
            "overflow_x": null,
            "grid_auto_flow": null,
            "grid_area": null,
            "grid_template_columns": null,
            "flex": null,
            "_model_name": "LayoutModel",
            "justify_items": null,
            "grid_row": null,
            "max_height": null,
            "align_content": null,
            "visibility": null,
            "align_self": null,
            "height": null,
            "min_height": null,
            "padding": null,
            "grid_auto_rows": null,
            "grid_gap": null,
            "max_width": null,
            "order": null,
            "_view_module_version": "1.2.0",
            "grid_template_areas": null,
            "object_position": null,
            "object_fit": null,
            "grid_auto_columns": null,
            "margin": null,
            "display": null,
            "left": null
          }
        },
        "91b91e123732484aae1bf1f28d6e126f": {
          "model_module": "@jupyter-widgets/controls",
          "model_name": "FloatProgressModel",
          "state": {
            "_view_name": "ProgressView",
            "style": "IPY_MODEL_51c268ed27f64221a95fa9b4e962d702",
            "_dom_classes": [],
            "description": "",
            "_model_name": "FloatProgressModel",
            "bar_style": "success",
            "max": 1,
            "_view_module": "@jupyter-widgets/controls",
            "_model_module_version": "1.5.0",
            "value": 1,
            "_view_count": null,
            "_view_module_version": "1.5.0",
            "orientation": "horizontal",
            "min": 0,
            "description_tooltip": null,
            "_model_module": "@jupyter-widgets/controls",
            "layout": "IPY_MODEL_4a2220c429bd4ef593cc812eef620ca8"
          }
        },
        "2f67e691659b40d0a7fcf010f42c5928": {
          "model_module": "@jupyter-widgets/controls",
          "model_name": "HTMLModel",
          "state": {
            "_view_name": "HTMLView",
            "style": "IPY_MODEL_a887de0c1a7b4fa095b30dba95304ee3",
            "_dom_classes": [],
            "description": "",
            "_model_name": "HTMLModel",
            "placeholder": "​",
            "_view_module": "@jupyter-widgets/controls",
            "_model_module_version": "1.5.0",
            "value": " 9920512/? [00:03&lt;00:00, 3138132.18it/s]",
            "_view_count": null,
            "_view_module_version": "1.5.0",
            "description_tooltip": null,
            "_model_module": "@jupyter-widgets/controls",
            "layout": "IPY_MODEL_b8000e8e649d48f99a38cf81b68aa02c"
          }
        },
        "51c268ed27f64221a95fa9b4e962d702": {
          "model_module": "@jupyter-widgets/controls",
          "model_name": "ProgressStyleModel",
          "state": {
            "_view_name": "StyleView",
            "_model_name": "ProgressStyleModel",
            "description_width": "initial",
            "_view_module": "@jupyter-widgets/base",
            "_model_module_version": "1.5.0",
            "_view_count": null,
            "_view_module_version": "1.2.0",
            "bar_color": null,
            "_model_module": "@jupyter-widgets/controls"
          }
        },
        "4a2220c429bd4ef593cc812eef620ca8": {
          "model_module": "@jupyter-widgets/base",
          "model_name": "LayoutModel",
          "state": {
            "_view_name": "LayoutView",
            "grid_template_rows": null,
            "right": null,
            "justify_content": null,
            "_view_module": "@jupyter-widgets/base",
            "overflow": null,
            "_model_module_version": "1.2.0",
            "_view_count": null,
            "flex_flow": null,
            "width": null,
            "min_width": null,
            "border": null,
            "align_items": null,
            "bottom": null,
            "_model_module": "@jupyter-widgets/base",
            "top": null,
            "grid_column": null,
            "overflow_y": null,
            "overflow_x": null,
            "grid_auto_flow": null,
            "grid_area": null,
            "grid_template_columns": null,
            "flex": null,
            "_model_name": "LayoutModel",
            "justify_items": null,
            "grid_row": null,
            "max_height": null,
            "align_content": null,
            "visibility": null,
            "align_self": null,
            "height": null,
            "min_height": null,
            "padding": null,
            "grid_auto_rows": null,
            "grid_gap": null,
            "max_width": null,
            "order": null,
            "_view_module_version": "1.2.0",
            "grid_template_areas": null,
            "object_position": null,
            "object_fit": null,
            "grid_auto_columns": null,
            "margin": null,
            "display": null,
            "left": null
          }
        },
        "a887de0c1a7b4fa095b30dba95304ee3": {
          "model_module": "@jupyter-widgets/controls",
          "model_name": "DescriptionStyleModel",
          "state": {
            "_view_name": "StyleView",
            "_model_name": "DescriptionStyleModel",
            "description_width": "",
            "_view_module": "@jupyter-widgets/base",
            "_model_module_version": "1.5.0",
            "_view_count": null,
            "_view_module_version": "1.2.0",
            "_model_module": "@jupyter-widgets/controls"
          }
        },
        "b8000e8e649d48f99a38cf81b68aa02c": {
          "model_module": "@jupyter-widgets/base",
          "model_name": "LayoutModel",
          "state": {
            "_view_name": "LayoutView",
            "grid_template_rows": null,
            "right": null,
            "justify_content": null,
            "_view_module": "@jupyter-widgets/base",
            "overflow": null,
            "_model_module_version": "1.2.0",
            "_view_count": null,
            "flex_flow": null,
            "width": null,
            "min_width": null,
            "border": null,
            "align_items": null,
            "bottom": null,
            "_model_module": "@jupyter-widgets/base",
            "top": null,
            "grid_column": null,
            "overflow_y": null,
            "overflow_x": null,
            "grid_auto_flow": null,
            "grid_area": null,
            "grid_template_columns": null,
            "flex": null,
            "_model_name": "LayoutModel",
            "justify_items": null,
            "grid_row": null,
            "max_height": null,
            "align_content": null,
            "visibility": null,
            "align_self": null,
            "height": null,
            "min_height": null,
            "padding": null,
            "grid_auto_rows": null,
            "grid_gap": null,
            "max_width": null,
            "order": null,
            "_view_module_version": "1.2.0",
            "grid_template_areas": null,
            "object_position": null,
            "object_fit": null,
            "grid_auto_columns": null,
            "margin": null,
            "display": null,
            "left": null
          }
        },
        "5dd0558b955f40399d0295f52a6692fb": {
          "model_module": "@jupyter-widgets/controls",
          "model_name": "HBoxModel",
          "state": {
            "_view_name": "HBoxView",
            "_dom_classes": [],
            "_model_name": "HBoxModel",
            "_view_module": "@jupyter-widgets/controls",
            "_model_module_version": "1.5.0",
            "_view_count": null,
            "_view_module_version": "1.5.0",
            "box_style": "",
            "layout": "IPY_MODEL_67dd2febb3094c05aa2660b17cd394f5",
            "_model_module": "@jupyter-widgets/controls",
            "children": [
              "IPY_MODEL_4ca2f353abe64db39c7d7fc40b33376d",
              "IPY_MODEL_bdf27ad6f8314ee4a1651f299540769f"
            ]
          }
        },
        "67dd2febb3094c05aa2660b17cd394f5": {
          "model_module": "@jupyter-widgets/base",
          "model_name": "LayoutModel",
          "state": {
            "_view_name": "LayoutView",
            "grid_template_rows": null,
            "right": null,
            "justify_content": null,
            "_view_module": "@jupyter-widgets/base",
            "overflow": null,
            "_model_module_version": "1.2.0",
            "_view_count": null,
            "flex_flow": null,
            "width": null,
            "min_width": null,
            "border": null,
            "align_items": null,
            "bottom": null,
            "_model_module": "@jupyter-widgets/base",
            "top": null,
            "grid_column": null,
            "overflow_y": null,
            "overflow_x": null,
            "grid_auto_flow": null,
            "grid_area": null,
            "grid_template_columns": null,
            "flex": null,
            "_model_name": "LayoutModel",
            "justify_items": null,
            "grid_row": null,
            "max_height": null,
            "align_content": null,
            "visibility": null,
            "align_self": null,
            "height": null,
            "min_height": null,
            "padding": null,
            "grid_auto_rows": null,
            "grid_gap": null,
            "max_width": null,
            "order": null,
            "_view_module_version": "1.2.0",
            "grid_template_areas": null,
            "object_position": null,
            "object_fit": null,
            "grid_auto_columns": null,
            "margin": null,
            "display": null,
            "left": null
          }
        },
        "4ca2f353abe64db39c7d7fc40b33376d": {
          "model_module": "@jupyter-widgets/controls",
          "model_name": "FloatProgressModel",
          "state": {
            "_view_name": "ProgressView",
            "style": "IPY_MODEL_9b9c585e2a8447029b59498a419d543b",
            "_dom_classes": [],
            "description": "",
            "_model_name": "FloatProgressModel",
            "bar_style": "success",
            "max": 1,
            "_view_module": "@jupyter-widgets/controls",
            "_model_module_version": "1.5.0",
            "value": 1,
            "_view_count": null,
            "_view_module_version": "1.5.0",
            "orientation": "horizontal",
            "min": 0,
            "description_tooltip": null,
            "_model_module": "@jupyter-widgets/controls",
            "layout": "IPY_MODEL_ef81078023594a889ab86ebccb9560dc"
          }
        },
        "bdf27ad6f8314ee4a1651f299540769f": {
          "model_module": "@jupyter-widgets/controls",
          "model_name": "HTMLModel",
          "state": {
            "_view_name": "HTMLView",
            "style": "IPY_MODEL_4c6adb57b43a4a94934393b3ab07db30",
            "_dom_classes": [],
            "description": "",
            "_model_name": "HTMLModel",
            "placeholder": "​",
            "_view_module": "@jupyter-widgets/controls",
            "_model_module_version": "1.5.0",
            "value": " 32768/? [00:00&lt;00:00, 112492.69it/s]",
            "_view_count": null,
            "_view_module_version": "1.5.0",
            "description_tooltip": null,
            "_model_module": "@jupyter-widgets/controls",
            "layout": "IPY_MODEL_1dc2d503d7794719a540c252ffbf473d"
          }
        },
        "9b9c585e2a8447029b59498a419d543b": {
          "model_module": "@jupyter-widgets/controls",
          "model_name": "ProgressStyleModel",
          "state": {
            "_view_name": "StyleView",
            "_model_name": "ProgressStyleModel",
            "description_width": "initial",
            "_view_module": "@jupyter-widgets/base",
            "_model_module_version": "1.5.0",
            "_view_count": null,
            "_view_module_version": "1.2.0",
            "bar_color": null,
            "_model_module": "@jupyter-widgets/controls"
          }
        },
        "ef81078023594a889ab86ebccb9560dc": {
          "model_module": "@jupyter-widgets/base",
          "model_name": "LayoutModel",
          "state": {
            "_view_name": "LayoutView",
            "grid_template_rows": null,
            "right": null,
            "justify_content": null,
            "_view_module": "@jupyter-widgets/base",
            "overflow": null,
            "_model_module_version": "1.2.0",
            "_view_count": null,
            "flex_flow": null,
            "width": null,
            "min_width": null,
            "border": null,
            "align_items": null,
            "bottom": null,
            "_model_module": "@jupyter-widgets/base",
            "top": null,
            "grid_column": null,
            "overflow_y": null,
            "overflow_x": null,
            "grid_auto_flow": null,
            "grid_area": null,
            "grid_template_columns": null,
            "flex": null,
            "_model_name": "LayoutModel",
            "justify_items": null,
            "grid_row": null,
            "max_height": null,
            "align_content": null,
            "visibility": null,
            "align_self": null,
            "height": null,
            "min_height": null,
            "padding": null,
            "grid_auto_rows": null,
            "grid_gap": null,
            "max_width": null,
            "order": null,
            "_view_module_version": "1.2.0",
            "grid_template_areas": null,
            "object_position": null,
            "object_fit": null,
            "grid_auto_columns": null,
            "margin": null,
            "display": null,
            "left": null
          }
        },
        "4c6adb57b43a4a94934393b3ab07db30": {
          "model_module": "@jupyter-widgets/controls",
          "model_name": "DescriptionStyleModel",
          "state": {
            "_view_name": "StyleView",
            "_model_name": "DescriptionStyleModel",
            "description_width": "",
            "_view_module": "@jupyter-widgets/base",
            "_model_module_version": "1.5.0",
            "_view_count": null,
            "_view_module_version": "1.2.0",
            "_model_module": "@jupyter-widgets/controls"
          }
        },
        "1dc2d503d7794719a540c252ffbf473d": {
          "model_module": "@jupyter-widgets/base",
          "model_name": "LayoutModel",
          "state": {
            "_view_name": "LayoutView",
            "grid_template_rows": null,
            "right": null,
            "justify_content": null,
            "_view_module": "@jupyter-widgets/base",
            "overflow": null,
            "_model_module_version": "1.2.0",
            "_view_count": null,
            "flex_flow": null,
            "width": null,
            "min_width": null,
            "border": null,
            "align_items": null,
            "bottom": null,
            "_model_module": "@jupyter-widgets/base",
            "top": null,
            "grid_column": null,
            "overflow_y": null,
            "overflow_x": null,
            "grid_auto_flow": null,
            "grid_area": null,
            "grid_template_columns": null,
            "flex": null,
            "_model_name": "LayoutModel",
            "justify_items": null,
            "grid_row": null,
            "max_height": null,
            "align_content": null,
            "visibility": null,
            "align_self": null,
            "height": null,
            "min_height": null,
            "padding": null,
            "grid_auto_rows": null,
            "grid_gap": null,
            "max_width": null,
            "order": null,
            "_view_module_version": "1.2.0",
            "grid_template_areas": null,
            "object_position": null,
            "object_fit": null,
            "grid_auto_columns": null,
            "margin": null,
            "display": null,
            "left": null
          }
        },
        "0ed591e804d346a38e6dc6659f3232e5": {
          "model_module": "@jupyter-widgets/controls",
          "model_name": "HBoxModel",
          "state": {
            "_view_name": "HBoxView",
            "_dom_classes": [],
            "_model_name": "HBoxModel",
            "_view_module": "@jupyter-widgets/controls",
            "_model_module_version": "1.5.0",
            "_view_count": null,
            "_view_module_version": "1.5.0",
            "box_style": "",
            "layout": "IPY_MODEL_6246ea35aac244f08752225a5a7525f5",
            "_model_module": "@jupyter-widgets/controls",
            "children": [
              "IPY_MODEL_d5bea2fd373847c1869bf9e46067b5b1",
              "IPY_MODEL_5413926e017a4d6a9193356f28cc167f"
            ]
          }
        },
        "6246ea35aac244f08752225a5a7525f5": {
          "model_module": "@jupyter-widgets/base",
          "model_name": "LayoutModel",
          "state": {
            "_view_name": "LayoutView",
            "grid_template_rows": null,
            "right": null,
            "justify_content": null,
            "_view_module": "@jupyter-widgets/base",
            "overflow": null,
            "_model_module_version": "1.2.0",
            "_view_count": null,
            "flex_flow": null,
            "width": null,
            "min_width": null,
            "border": null,
            "align_items": null,
            "bottom": null,
            "_model_module": "@jupyter-widgets/base",
            "top": null,
            "grid_column": null,
            "overflow_y": null,
            "overflow_x": null,
            "grid_auto_flow": null,
            "grid_area": null,
            "grid_template_columns": null,
            "flex": null,
            "_model_name": "LayoutModel",
            "justify_items": null,
            "grid_row": null,
            "max_height": null,
            "align_content": null,
            "visibility": null,
            "align_self": null,
            "height": null,
            "min_height": null,
            "padding": null,
            "grid_auto_rows": null,
            "grid_gap": null,
            "max_width": null,
            "order": null,
            "_view_module_version": "1.2.0",
            "grid_template_areas": null,
            "object_position": null,
            "object_fit": null,
            "grid_auto_columns": null,
            "margin": null,
            "display": null,
            "left": null
          }
        },
        "d5bea2fd373847c1869bf9e46067b5b1": {
          "model_module": "@jupyter-widgets/controls",
          "model_name": "FloatProgressModel",
          "state": {
            "_view_name": "ProgressView",
            "style": "IPY_MODEL_3d78e3314c6c4028b5319a79961061cc",
            "_dom_classes": [],
            "description": "",
            "_model_name": "FloatProgressModel",
            "bar_style": "success",
            "max": 1,
            "_view_module": "@jupyter-widgets/controls",
            "_model_module_version": "1.5.0",
            "value": 1,
            "_view_count": null,
            "_view_module_version": "1.5.0",
            "orientation": "horizontal",
            "min": 0,
            "description_tooltip": null,
            "_model_module": "@jupyter-widgets/controls",
            "layout": "IPY_MODEL_23766c6dd43f44a98b80eb3e5cf85961"
          }
        },
        "5413926e017a4d6a9193356f28cc167f": {
          "model_module": "@jupyter-widgets/controls",
          "model_name": "HTMLModel",
          "state": {
            "_view_name": "HTMLView",
            "style": "IPY_MODEL_d7806a04798f4b9c9f8c99e4a57b8d5d",
            "_dom_classes": [],
            "description": "",
            "_model_name": "HTMLModel",
            "placeholder": "​",
            "_view_module": "@jupyter-widgets/controls",
            "_model_module_version": "1.5.0",
            "value": " 1654784/? [00:01&lt;00:00, 1173198.33it/s]",
            "_view_count": null,
            "_view_module_version": "1.5.0",
            "description_tooltip": null,
            "_model_module": "@jupyter-widgets/controls",
            "layout": "IPY_MODEL_124df3544ffc48a98785457a2e05815f"
          }
        },
        "3d78e3314c6c4028b5319a79961061cc": {
          "model_module": "@jupyter-widgets/controls",
          "model_name": "ProgressStyleModel",
          "state": {
            "_view_name": "StyleView",
            "_model_name": "ProgressStyleModel",
            "description_width": "initial",
            "_view_module": "@jupyter-widgets/base",
            "_model_module_version": "1.5.0",
            "_view_count": null,
            "_view_module_version": "1.2.0",
            "bar_color": null,
            "_model_module": "@jupyter-widgets/controls"
          }
        },
        "23766c6dd43f44a98b80eb3e5cf85961": {
          "model_module": "@jupyter-widgets/base",
          "model_name": "LayoutModel",
          "state": {
            "_view_name": "LayoutView",
            "grid_template_rows": null,
            "right": null,
            "justify_content": null,
            "_view_module": "@jupyter-widgets/base",
            "overflow": null,
            "_model_module_version": "1.2.0",
            "_view_count": null,
            "flex_flow": null,
            "width": null,
            "min_width": null,
            "border": null,
            "align_items": null,
            "bottom": null,
            "_model_module": "@jupyter-widgets/base",
            "top": null,
            "grid_column": null,
            "overflow_y": null,
            "overflow_x": null,
            "grid_auto_flow": null,
            "grid_area": null,
            "grid_template_columns": null,
            "flex": null,
            "_model_name": "LayoutModel",
            "justify_items": null,
            "grid_row": null,
            "max_height": null,
            "align_content": null,
            "visibility": null,
            "align_self": null,
            "height": null,
            "min_height": null,
            "padding": null,
            "grid_auto_rows": null,
            "grid_gap": null,
            "max_width": null,
            "order": null,
            "_view_module_version": "1.2.0",
            "grid_template_areas": null,
            "object_position": null,
            "object_fit": null,
            "grid_auto_columns": null,
            "margin": null,
            "display": null,
            "left": null
          }
        },
        "d7806a04798f4b9c9f8c99e4a57b8d5d": {
          "model_module": "@jupyter-widgets/controls",
          "model_name": "DescriptionStyleModel",
          "state": {
            "_view_name": "StyleView",
            "_model_name": "DescriptionStyleModel",
            "description_width": "",
            "_view_module": "@jupyter-widgets/base",
            "_model_module_version": "1.5.0",
            "_view_count": null,
            "_view_module_version": "1.2.0",
            "_model_module": "@jupyter-widgets/controls"
          }
        },
        "124df3544ffc48a98785457a2e05815f": {
          "model_module": "@jupyter-widgets/base",
          "model_name": "LayoutModel",
          "state": {
            "_view_name": "LayoutView",
            "grid_template_rows": null,
            "right": null,
            "justify_content": null,
            "_view_module": "@jupyter-widgets/base",
            "overflow": null,
            "_model_module_version": "1.2.0",
            "_view_count": null,
            "flex_flow": null,
            "width": null,
            "min_width": null,
            "border": null,
            "align_items": null,
            "bottom": null,
            "_model_module": "@jupyter-widgets/base",
            "top": null,
            "grid_column": null,
            "overflow_y": null,
            "overflow_x": null,
            "grid_auto_flow": null,
            "grid_area": null,
            "grid_template_columns": null,
            "flex": null,
            "_model_name": "LayoutModel",
            "justify_items": null,
            "grid_row": null,
            "max_height": null,
            "align_content": null,
            "visibility": null,
            "align_self": null,
            "height": null,
            "min_height": null,
            "padding": null,
            "grid_auto_rows": null,
            "grid_gap": null,
            "max_width": null,
            "order": null,
            "_view_module_version": "1.2.0",
            "grid_template_areas": null,
            "object_position": null,
            "object_fit": null,
            "grid_auto_columns": null,
            "margin": null,
            "display": null,
            "left": null
          }
        },
        "a18e7259ddab4169a51d3dc463077213": {
          "model_module": "@jupyter-widgets/controls",
          "model_name": "HBoxModel",
          "state": {
            "_view_name": "HBoxView",
            "_dom_classes": [],
            "_model_name": "HBoxModel",
            "_view_module": "@jupyter-widgets/controls",
            "_model_module_version": "1.5.0",
            "_view_count": null,
            "_view_module_version": "1.5.0",
            "box_style": "",
            "layout": "IPY_MODEL_2c53e3a17b9d4c66a11c74ad2c0f8ffd",
            "_model_module": "@jupyter-widgets/controls",
            "children": [
              "IPY_MODEL_a4892e9e864a447e997fe4055adf8b54",
              "IPY_MODEL_3f56e0a7b3c54337acb11052f3be173f"
            ]
          }
        },
        "2c53e3a17b9d4c66a11c74ad2c0f8ffd": {
          "model_module": "@jupyter-widgets/base",
          "model_name": "LayoutModel",
          "state": {
            "_view_name": "LayoutView",
            "grid_template_rows": null,
            "right": null,
            "justify_content": null,
            "_view_module": "@jupyter-widgets/base",
            "overflow": null,
            "_model_module_version": "1.2.0",
            "_view_count": null,
            "flex_flow": null,
            "width": null,
            "min_width": null,
            "border": null,
            "align_items": null,
            "bottom": null,
            "_model_module": "@jupyter-widgets/base",
            "top": null,
            "grid_column": null,
            "overflow_y": null,
            "overflow_x": null,
            "grid_auto_flow": null,
            "grid_area": null,
            "grid_template_columns": null,
            "flex": null,
            "_model_name": "LayoutModel",
            "justify_items": null,
            "grid_row": null,
            "max_height": null,
            "align_content": null,
            "visibility": null,
            "align_self": null,
            "height": null,
            "min_height": null,
            "padding": null,
            "grid_auto_rows": null,
            "grid_gap": null,
            "max_width": null,
            "order": null,
            "_view_module_version": "1.2.0",
            "grid_template_areas": null,
            "object_position": null,
            "object_fit": null,
            "grid_auto_columns": null,
            "margin": null,
            "display": null,
            "left": null
          }
        },
        "a4892e9e864a447e997fe4055adf8b54": {
          "model_module": "@jupyter-widgets/controls",
          "model_name": "FloatProgressModel",
          "state": {
            "_view_name": "ProgressView",
            "style": "IPY_MODEL_bb33a34e9a2a45d6a434edaa09b5b58f",
            "_dom_classes": [],
            "description": "",
            "_model_name": "FloatProgressModel",
            "bar_style": "success",
            "max": 1,
            "_view_module": "@jupyter-widgets/controls",
            "_model_module_version": "1.5.0",
            "value": 1,
            "_view_count": null,
            "_view_module_version": "1.5.0",
            "orientation": "horizontal",
            "min": 0,
            "description_tooltip": null,
            "_model_module": "@jupyter-widgets/controls",
            "layout": "IPY_MODEL_e7c16ccc04de43829e81153dfb5420ad"
          }
        },
        "3f56e0a7b3c54337acb11052f3be173f": {
          "model_module": "@jupyter-widgets/controls",
          "model_name": "HTMLModel",
          "state": {
            "_view_name": "HTMLView",
            "style": "IPY_MODEL_6bcbc30d78144735bade55dab6bebf71",
            "_dom_classes": [],
            "description": "",
            "_model_name": "HTMLModel",
            "placeholder": "​",
            "_view_module": "@jupyter-widgets/controls",
            "_model_module_version": "1.5.0",
            "value": " 8192/? [00:00&lt;00:00, 16133.14it/s]",
            "_view_count": null,
            "_view_module_version": "1.5.0",
            "description_tooltip": null,
            "_model_module": "@jupyter-widgets/controls",
            "layout": "IPY_MODEL_968dffc73e7f49c8a971bfbaf6cc4269"
          }
        },
        "bb33a34e9a2a45d6a434edaa09b5b58f": {
          "model_module": "@jupyter-widgets/controls",
          "model_name": "ProgressStyleModel",
          "state": {
            "_view_name": "StyleView",
            "_model_name": "ProgressStyleModel",
            "description_width": "initial",
            "_view_module": "@jupyter-widgets/base",
            "_model_module_version": "1.5.0",
            "_view_count": null,
            "_view_module_version": "1.2.0",
            "bar_color": null,
            "_model_module": "@jupyter-widgets/controls"
          }
        },
        "e7c16ccc04de43829e81153dfb5420ad": {
          "model_module": "@jupyter-widgets/base",
          "model_name": "LayoutModel",
          "state": {
            "_view_name": "LayoutView",
            "grid_template_rows": null,
            "right": null,
            "justify_content": null,
            "_view_module": "@jupyter-widgets/base",
            "overflow": null,
            "_model_module_version": "1.2.0",
            "_view_count": null,
            "flex_flow": null,
            "width": null,
            "min_width": null,
            "border": null,
            "align_items": null,
            "bottom": null,
            "_model_module": "@jupyter-widgets/base",
            "top": null,
            "grid_column": null,
            "overflow_y": null,
            "overflow_x": null,
            "grid_auto_flow": null,
            "grid_area": null,
            "grid_template_columns": null,
            "flex": null,
            "_model_name": "LayoutModel",
            "justify_items": null,
            "grid_row": null,
            "max_height": null,
            "align_content": null,
            "visibility": null,
            "align_self": null,
            "height": null,
            "min_height": null,
            "padding": null,
            "grid_auto_rows": null,
            "grid_gap": null,
            "max_width": null,
            "order": null,
            "_view_module_version": "1.2.0",
            "grid_template_areas": null,
            "object_position": null,
            "object_fit": null,
            "grid_auto_columns": null,
            "margin": null,
            "display": null,
            "left": null
          }
        },
        "6bcbc30d78144735bade55dab6bebf71": {
          "model_module": "@jupyter-widgets/controls",
          "model_name": "DescriptionStyleModel",
          "state": {
            "_view_name": "StyleView",
            "_model_name": "DescriptionStyleModel",
            "description_width": "",
            "_view_module": "@jupyter-widgets/base",
            "_model_module_version": "1.5.0",
            "_view_count": null,
            "_view_module_version": "1.2.0",
            "_model_module": "@jupyter-widgets/controls"
          }
        },
        "968dffc73e7f49c8a971bfbaf6cc4269": {
          "model_module": "@jupyter-widgets/base",
          "model_name": "LayoutModel",
          "state": {
            "_view_name": "LayoutView",
            "grid_template_rows": null,
            "right": null,
            "justify_content": null,
            "_view_module": "@jupyter-widgets/base",
            "overflow": null,
            "_model_module_version": "1.2.0",
            "_view_count": null,
            "flex_flow": null,
            "width": null,
            "min_width": null,
            "border": null,
            "align_items": null,
            "bottom": null,
            "_model_module": "@jupyter-widgets/base",
            "top": null,
            "grid_column": null,
            "overflow_y": null,
            "overflow_x": null,
            "grid_auto_flow": null,
            "grid_area": null,
            "grid_template_columns": null,
            "flex": null,
            "_model_name": "LayoutModel",
            "justify_items": null,
            "grid_row": null,
            "max_height": null,
            "align_content": null,
            "visibility": null,
            "align_self": null,
            "height": null,
            "min_height": null,
            "padding": null,
            "grid_auto_rows": null,
            "grid_gap": null,
            "max_width": null,
            "order": null,
            "_view_module_version": "1.2.0",
            "grid_template_areas": null,
            "object_position": null,
            "object_fit": null,
            "grid_auto_columns": null,
            "margin": null,
            "display": null,
            "left": null
          }
        }
      }
    }
  },
  "cells": [
    {
      "cell_type": "markdown",
      "metadata": {
        "id": "view-in-github",
        "colab_type": "text"
      },
      "source": [
        "<a href=\"https://colab.research.google.com/github/jiku100/2020-2-machine-running-proejct/blob/master/assignment11/%EC%8B%A0%EC%84%9D%EA%B2%BD_assignment_11.ipynb\" target=\"_parent\"><img src=\"https://colab.research.google.com/assets/colab-badge.svg\" alt=\"Open In Colab\"/></a>"
      ]
    },
    {
      "cell_type": "markdown",
      "metadata": {
        "id": "0gzdXwFJz0KJ"
      },
      "source": [
        "# **Classification for Multiple Categories using Pytorch for best accuracy with CNN**\n",
        "\n"
      ]
    },
    {
      "cell_type": "markdown",
      "metadata": {
        "id": "w_C7Cujjz4ff"
      },
      "source": [
        "# 1. Import library\n",
        "<hr>"
      ]
    },
    {
      "cell_type": "code",
      "metadata": {
        "id": "gtlbKT3Izgre"
      },
      "source": [
        "import torch\n",
        "import torch.nn as nn\n",
        "import torch.optim as optim\n",
        "import torch.nn.init as init\n",
        "import torchvision\n",
        "import torchvision.transforms as transforms\n",
        "import torchvision.datasets as datasets\n",
        "from torch.utils.data import DataLoader\n",
        "\n",
        "import matplotlib.pyplot as plt\n",
        "import cv2\n",
        "import numpy as np"
      ],
      "execution_count": 1,
      "outputs": []
    },
    {
      "cell_type": "code",
      "metadata": {
        "colab": {
          "base_uri": "https://localhost:8080/"
        },
        "id": "JC9KWsHg7lTJ",
        "outputId": "3853d142-eb00-4ec2-8efd-3bd0843387f5"
      },
      "source": [
        "USE_CUDA = torch.cuda.is_available()\n",
        "device = torch.device(\"cuda\" if USE_CUDA else \"cpu\")\n",
        "print(\"다음 기기로 학습합니다:\", device)"
      ],
      "execution_count": 2,
      "outputs": [
        {
          "output_type": "stream",
          "text": [
            "다음 기기로 학습합니다: cuda\n"
          ],
          "name": "stdout"
        }
      ]
    },
    {
      "cell_type": "markdown",
      "metadata": {
        "id": "nBCurPvD3NoM"
      },
      "source": [
        "# 2. Preprocessing Data\n",
        "<hr>"
      ]
    },
    {
      "cell_type": "code",
      "metadata": {
        "id": "4tVba13YD-s9"
      },
      "source": [
        "transform_train = transforms.Compose([\n",
        "        transforms.ToTensor(),\n",
        "        transforms.Resize(34),\n",
        "        transforms.CenterCrop(28),\n",
        "        transforms.RandomRotation(20),\n",
        "        transforms.Normalize((0.1307,),(0.3081,))                    # 이미지를 텐서로 변형합니다.\n",
        "])\n",
        "\n",
        "transform_test = transforms.Compose([\n",
        "        transforms.ToTensor(), \n",
        "        transforms.Normalize((0.1307,),(0.3081,))            \n",
        "])"
      ],
      "execution_count": 3,
      "outputs": []
    },
    {
      "cell_type": "code",
      "metadata": {
        "id": "1uNdu0HqJEQv",
        "colab": {
          "base_uri": "https://localhost:8080/",
          "height": 392,
          "referenced_widgets": [
            "951f266de287418b81f6ea9b26496354",
            "e3b639f7e0284f49b554d306d098f988",
            "91b91e123732484aae1bf1f28d6e126f",
            "2f67e691659b40d0a7fcf010f42c5928",
            "51c268ed27f64221a95fa9b4e962d702",
            "4a2220c429bd4ef593cc812eef620ca8",
            "a887de0c1a7b4fa095b30dba95304ee3",
            "b8000e8e649d48f99a38cf81b68aa02c",
            "5dd0558b955f40399d0295f52a6692fb",
            "67dd2febb3094c05aa2660b17cd394f5",
            "4ca2f353abe64db39c7d7fc40b33376d",
            "bdf27ad6f8314ee4a1651f299540769f",
            "9b9c585e2a8447029b59498a419d543b",
            "ef81078023594a889ab86ebccb9560dc",
            "4c6adb57b43a4a94934393b3ab07db30",
            "1dc2d503d7794719a540c252ffbf473d",
            "0ed591e804d346a38e6dc6659f3232e5",
            "6246ea35aac244f08752225a5a7525f5",
            "d5bea2fd373847c1869bf9e46067b5b1",
            "5413926e017a4d6a9193356f28cc167f",
            "3d78e3314c6c4028b5319a79961061cc",
            "23766c6dd43f44a98b80eb3e5cf85961",
            "d7806a04798f4b9c9f8c99e4a57b8d5d",
            "124df3544ffc48a98785457a2e05815f",
            "a18e7259ddab4169a51d3dc463077213",
            "2c53e3a17b9d4c66a11c74ad2c0f8ffd",
            "a4892e9e864a447e997fe4055adf8b54",
            "3f56e0a7b3c54337acb11052f3be173f",
            "bb33a34e9a2a45d6a434edaa09b5b58f",
            "e7c16ccc04de43829e81153dfb5420ad",
            "6bcbc30d78144735bade55dab6bebf71",
            "968dffc73e7f49c8a971bfbaf6cc4269"
          ]
        },
        "outputId": "2f31b54a-8f21-48b7-a1d9-067eacca9d25"
      },
      "source": [
        "data_path = './MNIST'\n",
        "\n",
        "data_test   = datasets.MNIST(root = data_path, train= True, download=True, transform= transform_test)\n",
        "data_train  = datasets.MNIST(root = data_path, train= False, download=True, transform= transform_train)"
      ],
      "execution_count": 4,
      "outputs": [
        {
          "output_type": "stream",
          "text": [
            "Downloading http://yann.lecun.com/exdb/mnist/train-images-idx3-ubyte.gz to ./MNIST/MNIST/raw/train-images-idx3-ubyte.gz\n"
          ],
          "name": "stdout"
        },
        {
          "output_type": "display_data",
          "data": {
            "application/vnd.jupyter.widget-view+json": {
              "model_id": "951f266de287418b81f6ea9b26496354",
              "version_minor": 0,
              "version_major": 2
            },
            "text/plain": [
              "HBox(children=(FloatProgress(value=1.0, bar_style='info', max=1.0), HTML(value='')))"
            ]
          },
          "metadata": {
            "tags": []
          }
        },
        {
          "output_type": "stream",
          "text": [
            "Extracting ./MNIST/MNIST/raw/train-images-idx3-ubyte.gz to ./MNIST/MNIST/raw\n",
            "Downloading http://yann.lecun.com/exdb/mnist/train-labels-idx1-ubyte.gz to ./MNIST/MNIST/raw/train-labels-idx1-ubyte.gz\n"
          ],
          "name": "stdout"
        },
        {
          "output_type": "display_data",
          "data": {
            "application/vnd.jupyter.widget-view+json": {
              "model_id": "5dd0558b955f40399d0295f52a6692fb",
              "version_minor": 0,
              "version_major": 2
            },
            "text/plain": [
              "HBox(children=(FloatProgress(value=1.0, bar_style='info', max=1.0), HTML(value='')))"
            ]
          },
          "metadata": {
            "tags": []
          }
        },
        {
          "output_type": "stream",
          "text": [
            "Extracting ./MNIST/MNIST/raw/train-labels-idx1-ubyte.gz to ./MNIST/MNIST/raw\n",
            "Downloading http://yann.lecun.com/exdb/mnist/t10k-images-idx3-ubyte.gz to ./MNIST/MNIST/raw/t10k-images-idx3-ubyte.gz\n",
            "\n"
          ],
          "name": "stdout"
        },
        {
          "output_type": "display_data",
          "data": {
            "application/vnd.jupyter.widget-view+json": {
              "model_id": "0ed591e804d346a38e6dc6659f3232e5",
              "version_minor": 0,
              "version_major": 2
            },
            "text/plain": [
              "HBox(children=(FloatProgress(value=1.0, bar_style='info', max=1.0), HTML(value='')))"
            ]
          },
          "metadata": {
            "tags": []
          }
        },
        {
          "output_type": "stream",
          "text": [
            "Extracting ./MNIST/MNIST/raw/t10k-images-idx3-ubyte.gz to ./MNIST/MNIST/raw\n",
            "Downloading http://yann.lecun.com/exdb/mnist/t10k-labels-idx1-ubyte.gz to ./MNIST/MNIST/raw/t10k-labels-idx1-ubyte.gz\n"
          ],
          "name": "stdout"
        },
        {
          "output_type": "display_data",
          "data": {
            "application/vnd.jupyter.widget-view+json": {
              "model_id": "a18e7259ddab4169a51d3dc463077213",
              "version_minor": 0,
              "version_major": 2
            },
            "text/plain": [
              "HBox(children=(FloatProgress(value=1.0, bar_style='info', max=1.0), HTML(value='')))"
            ]
          },
          "metadata": {
            "tags": []
          }
        },
        {
          "output_type": "stream",
          "text": [
            "Extracting ./MNIST/MNIST/raw/t10k-labels-idx1-ubyte.gz to ./MNIST/MNIST/raw\n",
            "Processing...\n",
            "Done!\n"
          ],
          "name": "stdout"
        },
        {
          "output_type": "stream",
          "text": [
            "/usr/local/lib/python3.6/dist-packages/torchvision/datasets/mnist.py:480: UserWarning: The given NumPy array is not writeable, and PyTorch does not support non-writeable tensors. This means you can write to the underlying (supposedly non-writeable) NumPy array using the tensor. You may want to copy the array to protect its data or make it writeable before converting it to a tensor. This type of warning will be suppressed for the rest of this program. (Triggered internally at  /pytorch/torch/csrc/utils/tensor_numpy.cpp:141.)\n",
            "  return torch.from_numpy(parsed.astype(m[2], copy=False)).view(*s)\n"
          ],
          "name": "stderr"
        }
      ]
    },
    {
      "cell_type": "code",
      "metadata": {
        "colab": {
          "base_uri": "https://localhost:8080/",
          "height": 440
        },
        "id": "8SJcK-t2D3Bp",
        "outputId": "880971bf-1000-480d-cab7-60486fae567f"
      },
      "source": [
        "one_image, label = data_train[0]\n",
        "print(\"type of one image\", type(one_image))\n",
        "print(\"size of one image : \", one_image.shape)\n",
        "plt.imshow(one_image.squeeze().numpy(), cmap='gray')\n",
        "print(\"type of label : \", type(label))\n",
        "print(\"label : \", label)\n",
        "print(np.max(data_train.train_data[0].view(-1).numpy()))"
      ],
      "execution_count": 5,
      "outputs": [
        {
          "output_type": "stream",
          "text": [
            "type of one image <class 'torch.Tensor'>\n",
            "size of one image :  torch.Size([1, 28, 28])\n",
            "\n",
            "type of label :  <class 'int'>\n",
            "label :  7\n",
            "255\n",
            "\n",
            "\n"
          ],
          "name": "stdout"
        },
        {
          "output_type": "stream",
          "text": [
            "/usr/local/lib/python3.6/dist-packages/torchvision/datasets/mnist.py:58: UserWarning: train_data has been renamed data\n",
            "  warnings.warn(\"train_data has been renamed data\")\n"
          ],
          "name": "stderr"
        },
        {
          "output_type": "display_data",
          "data": {
            "image/png": "[encoded data removed]",
            "text/plain": [
              "<Figure size 432x288 with 1 Axes>"
            ]
          },
          "metadata": {
            "tags": [],
            "needs_background": "light"
          }
        }
      ]
    },
    {
      "cell_type": "code",
      "metadata": {
        "id": "lUj2JTgY4r4c"
      },
      "source": [
        "learning_rate = 0.003\n",
        "training_epochs = 600\n",
        "batch_size = 256"
      ],
      "execution_count": 12,
      "outputs": []
    },
    {
      "cell_type": "code",
      "metadata": {
        "id": "CkgCtS3b3giF"
      },
      "source": [
        "train_loader = DataLoader(dataset = data_train, batch_size = batch_size, num_workers = 2, shuffle = True) ## batch size 32 짜리 train loader 생성\n",
        "test_loader = DataLoader(dataset = data_test, batch_size = batch_size, num_workers = 2, shuffle = True) ## batch size 32 짜리 test loader 생성"
      ],
      "execution_count": 13,
      "outputs": []
    },
    {
      "cell_type": "markdown",
      "metadata": {
        "id": "SCsB9Pdk6zd7"
      },
      "source": [
        "# 3. Define Model\n",
        "<hr>"
      ]
    },
    {
      "cell_type": "code",
      "metadata": {
        "id": "-cUHqcW25etQ"
      },
      "source": [
        "class classification(nn.Module):\n",
        "    def __init__(self):\n",
        "        super(classification, self).__init__()\n",
        "        \n",
        "        self.conv_block = nn.Sequential(\n",
        "            nn.Conv2d(1, 32, kernel_size=3, stride=1, padding=1),\n",
        "            nn.BatchNorm2d(32),\n",
        "            nn.ReLU(inplace=True),\n",
        "            nn.Conv2d(32, 64, kernel_size=3, stride=1, padding=1),\n",
        "            nn.BatchNorm2d(64),\n",
        "            nn.ReLU(inplace=True),\n",
        "            nn.MaxPool2d(kernel_size=2, stride=2),\n",
        "            nn.Conv2d(64, 128, kernel_size=3, stride=1, padding=1),\n",
        "            nn.BatchNorm2d(128),\n",
        "            nn.ReLU(inplace=True),\n",
        "            nn.MaxPool2d(kernel_size=2, stride=2) \n",
        "        )\n",
        "        \n",
        "        self.linear_block = nn.Sequential(\n",
        "            nn.Dropout(p=0.5),\n",
        "            nn.Linear(128*7*7, 128),\n",
        "            nn.BatchNorm1d(128),\n",
        "            nn.ReLU(inplace=True),\n",
        "            nn.Dropout(0.5),\n",
        "            nn.Linear(128, 64),\n",
        "            nn.BatchNorm1d(64),\n",
        "            nn.ReLU(inplace=True),\n",
        "            nn.Dropout(0.5),\n",
        "            nn.Linear(64, 10)\n",
        "        )\n",
        "        \n",
        "    def forward(self, x):\n",
        "        x = self.conv_block(x)\n",
        "        x = x.view(x.size(0), -1)\n",
        "        x = self.linear_block(x)\n",
        "        \n",
        "        return x"
      ],
      "execution_count": 14,
      "outputs": []
    },
    {
      "cell_type": "code",
      "metadata": {
        "id": "MWYQ30d37dwC"
      },
      "source": [
        "model = classification().to(device)"
      ],
      "execution_count": 15,
      "outputs": []
    },
    {
      "cell_type": "code",
      "metadata": {
        "id": "-GpzWr1V64wc"
      },
      "source": [
        "criterion = nn.CrossEntropyLoss().to(device)    # Softmax is internally computed.\n",
        "optimizer = torch.optim.Adam(model.parameters(), lr=learning_rate)\n",
        "scheduler = optim.lr_scheduler.StepLR(optimizer, step_size=20, gamma=0.1)"
      ],
      "execution_count": 16,
      "outputs": []
    },
    {
      "cell_type": "markdown",
      "metadata": {
        "id": "lsNWP3Wk8Siq"
      },
      "source": [
        "# 4. Training\n",
        "<hr>"
      ]
    },
    {
      "cell_type": "code",
      "metadata": {
        "id": "1_QSSPkC7sCr"
      },
      "source": [
        "total_batch= len(train_loader)"
      ],
      "execution_count": 17,
      "outputs": []
    },
    {
      "cell_type": "code",
      "metadata": {
        "colab": {
          "base_uri": "https://localhost:8080/"
        },
        "id": "9_SeUrHB5gLH",
        "outputId": "9ae1eb21-15bc-4270-e2ca-c16edaa10e8f"
      },
      "source": [
        "print(total_batch)"
      ],
      "execution_count": 18,
      "outputs": [
        {
          "output_type": "stream",
          "text": [
            "40\n"
          ],
          "name": "stdout"
        }
      ]
    },
    {
      "cell_type": "code",
      "metadata": {
        "id": "eaJMZ8TvcglJ"
      },
      "source": [
        "def accuracy(log_pred, y_true):\n",
        "    y_pred = torch.argmax(log_pred, dim=1)\n",
        "    return (y_pred == y_true).to(torch.float).mean()"
      ],
      "execution_count": 19,
      "outputs": []
    },
    {
      "cell_type": "code",
      "metadata": {
        "id": "Kl5FuVgt8_LF"
      },
      "source": [
        "def training(model, loss, optim, training_epochs, train_loader, test_loader):\n",
        "  L_iters_train = []\n",
        "  accuracy_train = []\n",
        "  L_iters_test = []\n",
        "  accuracy_test = []\n",
        "  for epoch in range(training_epochs):\n",
        "    total_cost_train = 0\n",
        "    total_cost_test = 0\n",
        "    total_acc_train = 0\n",
        "    total_acc_test = 0\n",
        "    model.train()\n",
        "    for X, Y in train_loader:\n",
        "      X = X.to(device)\n",
        "      Y = Y.to(device)\n",
        "\n",
        "      optim.zero_grad()\n",
        "      train_pred = model(X)\n",
        "      cost = loss(train_pred, Y)\n",
        "      cost.backward()\n",
        "      optim.step()\n",
        "\n",
        "      total_cost_train += cost\n",
        "      total_acc_train += accuracy(train_pred, Y)\n",
        "      \n",
        "    avg_cost_train = total_cost_train / len(train_loader)\n",
        "    avg_acc_train = total_acc_train / len(train_loader)\n",
        "\n",
        "    L_iters_train.append(avg_cost_train)\n",
        "    accuracy_train.append(avg_acc_train)\n",
        "    model.eval()\n",
        "    with torch.no_grad():\n",
        "      for X_test, Y_test in test_loader:\n",
        "        X_test = X_test.to(device)\n",
        "        Y_test = Y_test.to(device)\n",
        "        test_pred = model(X_test)\n",
        "        cost_test = loss(test_pred, Y_test)\n",
        "        total_cost_test += cost_test\n",
        "        total_acc_test += accuracy(test_pred, Y_test)\n",
        "      avg_cost_test = total_cost_test / len(test_loader)\n",
        "      avg_acc_test = total_acc_test / len(test_loader)\n",
        "    \n",
        "      accuracy_test.append(avg_acc_test)\n",
        "      L_iters_test.append(avg_cost_test)\n",
        "\n",
        "    print(\"Epoch: %02d Training Loss: %.9f Testing Loss: %.9f  Training Acc: %.9f Testing Acc: %.9f\" %((epoch + 1),avg_cost_train, avg_cost_test, avg_acc_train, avg_acc_test))\n",
        "  return L_iters_train, accuracy_train, L_iters_test, accuracy_test"
      ],
      "execution_count": 20,
      "outputs": []
    },
    {
      "cell_type": "code",
      "metadata": {
        "colab": {
          "base_uri": "https://localhost:8080/"
        },
        "id": "hOfKPriA84jq",
        "outputId": "d9cb84e9-f5f6-47fa-b9c1-cc6a4f3daae8"
      },
      "source": [
        "L_train, A_train, L_test, A_test = training(model, criterion, optimizer, training_epochs, train_loader, test_loader)"
      ],
      "execution_count": 21,
      "outputs": [
        {
          "output_type": "stream",
          "text": [
            "Epoch: 01 Training Loss: 1.064321756 Testing Loss: 0.405111432  Training Acc: 0.731347680 Testing Acc: 0.911042750\n",
            "Epoch: 02 Training Loss: 0.373092949 Testing Loss: 0.219832018  Training Acc: 0.912597656 Testing Acc: 0.940868795\n",
            "Epoch: 03 Training Loss: 0.268248767 Testing Loss: 0.178953484  Training Acc: 0.928710938 Testing Acc: 0.947024584\n",
            "Epoch: 04 Training Loss: 0.221460208 Testing Loss: 0.134850457  Training Acc: 0.941503942 Testing Acc: 0.960937440\n",
            "Epoch: 05 Training Loss: 0.184111491 Testing Loss: 0.134863764  Training Acc: 0.949902356 Testing Acc: 0.960322440\n",
            "Epoch: 06 Training Loss: 0.170606598 Testing Loss: 0.125373691  Training Acc: 0.953027368 Testing Acc: 0.962222934\n",
            "Epoch: 07 Training Loss: 0.149822921 Testing Loss: 0.102175191  Training Acc: 0.959082067 Testing Acc: 0.969786048\n",
            "Epoch: 08 Training Loss: 0.141400516 Testing Loss: 0.134634018  Training Acc: 0.959667981 Testing Acc: 0.959552288\n",
            "Epoch: 09 Training Loss: 0.120399952 Testing Loss: 0.107183956  Training Acc: 0.966503918 Testing Acc: 0.968362153\n",
            "Epoch: 10 Training Loss: 0.123087279 Testing Loss: 0.113894753  Training Acc: 0.963867188 Testing Acc: 0.964982212\n",
            "Epoch: 11 Training Loss: 0.126832351 Testing Loss: 0.100947790  Training Acc: 0.965820312 Testing Acc: 0.969813824\n",
            "Epoch: 12 Training Loss: 0.123424880 Testing Loss: 0.130119920  Training Acc: 0.965624988 Testing Acc: 0.961136937\n",
            "Epoch: 13 Training Loss: 0.119485617 Testing Loss: 0.102965184  Training Acc: 0.963867188 Testing Acc: 0.968761086\n",
            "Epoch: 14 Training Loss: 0.106062293 Testing Loss: 0.121599749  Training Acc: 0.971972644 Testing Acc: 0.964838207\n",
            "Epoch: 15 Training Loss: 0.109679416 Testing Loss: 0.119429745  Training Acc: 0.967187524 Testing Acc: 0.964079082\n",
            "Epoch: 16 Training Loss: 0.122930266 Testing Loss: 0.129267246  Training Acc: 0.965722680 Testing Acc: 0.962538719\n",
            "Epoch: 17 Training Loss: 0.142176256 Testing Loss: 0.145278037  Training Acc: 0.960058630 Testing Acc: 0.956737518\n",
            "Epoch: 18 Training Loss: 0.124027900 Testing Loss: 0.114714496  Training Acc: 0.966015637 Testing Acc: 0.964998841\n",
            "Epoch: 19 Training Loss: 0.131711826 Testing Loss: 0.126362234  Training Acc: 0.962792993 Testing Acc: 0.963181496\n",
            "Epoch: 20 Training Loss: 0.147784397 Testing Loss: 0.120371558  Training Acc: 0.959472656 Testing Acc: 0.964749515\n",
            "Epoch: 21 Training Loss: 0.119956948 Testing Loss: 0.113677941  Training Acc: 0.966015637 Testing Acc: 0.966251075\n",
            "Epoch: 22 Training Loss: 0.099245206 Testing Loss: 0.096092328  Training Acc: 0.971191406 Testing Acc: 0.971459389\n",
            "Epoch: 23 Training Loss: 0.082211129 Testing Loss: 0.152205989  Training Acc: 0.976855457 Testing Acc: 0.955862164\n",
            "Epoch: 24 Training Loss: 0.094061255 Testing Loss: 0.118008085  Training Acc: 0.975781262 Testing Acc: 0.965087533\n",
            "Epoch: 25 Training Loss: 0.077411018 Testing Loss: 0.113482706  Training Acc: 0.978125036 Testing Acc: 0.967043400\n",
            "Epoch: 26 Training Loss: 0.080309287 Testing Loss: 0.073668934  Training Acc: 0.977441430 Testing Acc: 0.978102803\n",
            "Epoch: 27 Training Loss: 0.095194869 Testing Loss: 0.109628692  Training Acc: 0.973535180 Testing Acc: 0.968954980\n",
            "Epoch: 28 Training Loss: 0.112604320 Testing Loss: 0.087464988  Training Acc: 0.969921887 Testing Acc: 0.973908424\n",
            "Epoch: 29 Training Loss: 0.101531267 Testing Loss: 0.109379470  Training Acc: 0.971582055 Testing Acc: 0.967403531\n",
            "Epoch: 30 Training Loss: 0.086055815 Testing Loss: 0.083758257  Training Acc: 0.973437488 Testing Acc: 0.975742459\n",
            "Epoch: 31 Training Loss: 0.077664159 Testing Loss: 0.087791391  Training Acc: 0.977832019 Testing Acc: 0.974263072\n",
            "Epoch: 32 Training Loss: 0.061210867 Testing Loss: 0.077418707  Training Acc: 0.984765649 Testing Acc: 0.977759302\n",
            "Epoch: 33 Training Loss: 0.062580720 Testing Loss: 0.077926159  Training Acc: 0.979589880 Testing Acc: 0.977886736\n",
            "Epoch: 34 Training Loss: 0.063599370 Testing Loss: 0.103361182  Training Acc: 0.982031286 Testing Acc: 0.971271038\n",
            "Epoch: 35 Training Loss: 0.056550931 Testing Loss: 0.072671898  Training Acc: 0.984667957 Testing Acc: 0.979753971\n",
            "Epoch: 36 Training Loss: 0.059314519 Testing Loss: 0.079320058  Training Acc: 0.982910156 Testing Acc: 0.977919996\n",
            "Epoch: 37 Training Loss: 0.059848506 Testing Loss: 0.094755925  Training Acc: 0.982128918 Testing Acc: 0.974019229\n",
            "Epoch: 38 Training Loss: 0.073625520 Testing Loss: 0.088346243  Training Acc: 0.979296863 Testing Acc: 0.976207852\n",
            "Epoch: 39 Training Loss: 0.060178276 Testing Loss: 0.105117410  Training Acc: 0.983105481 Testing Acc: 0.970262587\n",
            "Epoch: 40 Training Loss: 0.050595205 Testing Loss: 0.097447544  Training Acc: 0.984765649 Testing Acc: 0.973664641\n",
            "Epoch: 41 Training Loss: 0.057490088 Testing Loss: 0.073940746  Training Acc: 0.983300805 Testing Acc: 0.978645802\n",
            "Epoch: 42 Training Loss: 0.075652950 Testing Loss: 0.099317506  Training Acc: 0.978613317 Testing Acc: 0.972578645\n",
            "Epoch: 43 Training Loss: 0.072283499 Testing Loss: 0.099984132  Training Acc: 0.977148473 Testing Acc: 0.972528756\n",
            "Epoch: 44 Training Loss: 0.074388266 Testing Loss: 0.089230433  Training Acc: 0.979199231 Testing Acc: 0.974390447\n",
            "Epoch: 45 Training Loss: 0.059316017 Testing Loss: 0.088728175  Training Acc: 0.984179676 Testing Acc: 0.975498617\n",
            "Epoch: 46 Training Loss: 0.050595444 Testing Loss: 0.091593288  Training Acc: 0.985546887 Testing Acc: 0.974966705\n",
            "Epoch: 47 Training Loss: 0.058044124 Testing Loss: 0.078929983  Training Acc: 0.985839844 Testing Acc: 0.978451908\n",
            "Epoch: 48 Training Loss: 0.059610695 Testing Loss: 0.079429433  Training Acc: 0.982421875 Testing Acc: 0.978041828\n",
            "Epoch: 49 Training Loss: 0.063406579 Testing Loss: 0.074184135  Training Acc: 0.979785144 Testing Acc: 0.979958951\n",
            "Epoch: 50 Training Loss: 0.073142961 Testing Loss: 0.081975900  Training Acc: 0.984472692 Testing Acc: 0.977543175\n",
            "Epoch: 51 Training Loss: 0.074735425 Testing Loss: 0.094871894  Training Acc: 0.977832019 Testing Acc: 0.973143816\n",
            "Epoch: 52 Training Loss: 0.067960314 Testing Loss: 0.100382663  Training Acc: 0.980078161 Testing Acc: 0.972445667\n",
            "Epoch: 53 Training Loss: 0.073805861 Testing Loss: 0.099960074  Training Acc: 0.979199231 Testing Acc: 0.971243322\n",
            "Epoch: 54 Training Loss: 0.061684340 Testing Loss: 0.113932811  Training Acc: 0.981445312 Testing Acc: 0.967226207\n",
            "Epoch: 55 Training Loss: 0.057499707 Testing Loss: 0.089708410  Training Acc: 0.985156238 Testing Acc: 0.974662006\n",
            "Epoch: 56 Training Loss: 0.057668120 Testing Loss: 0.087047711  Training Acc: 0.983105481 Testing Acc: 0.975537419\n",
            "Epoch: 57 Training Loss: 0.059264977 Testing Loss: 0.078704096  Training Acc: 0.982714832 Testing Acc: 0.978612542\n",
            "Epoch: 58 Training Loss: 0.048338789 Testing Loss: 0.094079614  Training Acc: 0.986718774 Testing Acc: 0.974384964\n",
            "Epoch: 59 Training Loss: 0.047172438 Testing Loss: 0.096086621  Training Acc: 0.986914098 Testing Acc: 0.975238204\n",
            "Epoch: 60 Training Loss: 0.044469088 Testing Loss: 0.092678376  Training Acc: 0.988476574 Testing Acc: 0.975332439\n",
            "Epoch: 61 Training Loss: 0.048406374 Testing Loss: 0.102733552  Training Acc: 0.985058606 Testing Acc: 0.973021924\n",
            "Epoch: 62 Training Loss: 0.039412033 Testing Loss: 0.085444979  Training Acc: 0.988671899 Testing Acc: 0.977149785\n",
            "Epoch: 63 Training Loss: 0.054221530 Testing Loss: 0.091672398  Training Acc: 0.983593762 Testing Acc: 0.976146936\n",
            "Epoch: 64 Training Loss: 0.045273393 Testing Loss: 0.088717356  Training Acc: 0.986425817 Testing Acc: 0.978119433\n",
            "Epoch: 65 Training Loss: 0.047414120 Testing Loss: 0.087171167  Training Acc: 0.988964856 Testing Acc: 0.978230238\n",
            "Epoch: 66 Training Loss: 0.038807798 Testing Loss: 0.077819213  Training Acc: 0.989062488 Testing Acc: 0.980562925\n",
            "Epoch: 67 Training Loss: 0.051097441 Testing Loss: 0.083518907  Training Acc: 0.984179676 Testing Acc: 0.978645802\n",
            "Epoch: 68 Training Loss: 0.067366257 Testing Loss: 0.080424383  Training Acc: 0.980761707 Testing Acc: 0.979632080\n",
            "Epoch: 69 Training Loss: 0.071866423 Testing Loss: 0.090573572  Training Acc: 0.981933594 Testing Acc: 0.977626324\n",
            "Epoch: 70 Training Loss: 0.056851692 Testing Loss: 0.082855329  Training Acc: 0.983300805 Testing Acc: 0.978335559\n",
            "Epoch: 71 Training Loss: 0.054361392 Testing Loss: 0.076888628  Training Acc: 0.983398438 Testing Acc: 0.980374515\n",
            "Epoch: 72 Training Loss: 0.064079180 Testing Loss: 0.079118378  Training Acc: 0.980957031 Testing Acc: 0.979859233\n",
            "Epoch: 73 Training Loss: 0.081746332 Testing Loss: 0.098182134  Training Acc: 0.976855457 Testing Acc: 0.975232661\n",
            "Epoch: 74 Training Loss: 0.079924047 Testing Loss: 0.096538790  Training Acc: 0.979980469 Testing Acc: 0.975487530\n",
            "Epoch: 75 Training Loss: 0.120564751 Testing Loss: 0.105705597  Training Acc: 0.973144531 Testing Acc: 0.973210275\n",
            "Epoch: 76 Training Loss: 0.071362250 Testing Loss: 0.109782152  Training Acc: 0.977343738 Testing Acc: 0.971536994\n",
            "Epoch: 77 Training Loss: 0.063689485 Testing Loss: 0.100281321  Training Acc: 0.981054723 Testing Acc: 0.973991513\n",
            "Epoch: 78 Training Loss: 0.059071343 Testing Loss: 0.092718586  Training Acc: 0.982226551 Testing Acc: 0.976230025\n",
            "Epoch: 79 Training Loss: 0.051378943 Testing Loss: 0.098498985  Training Acc: 0.984667957 Testing Acc: 0.974174380\n",
            "Epoch: 80 Training Loss: 0.059600390 Testing Loss: 0.080607586  Training Acc: 0.983105481 Testing Acc: 0.979316235\n",
            "Epoch: 81 Training Loss: 0.062072791 Testing Loss: 0.081044450  Training Acc: 0.982421875 Testing Acc: 0.980025411\n",
            "Epoch: 82 Training Loss: 0.045667972 Testing Loss: 0.085118033  Training Acc: 0.985546887 Testing Acc: 0.978008628\n",
            "Epoch: 83 Training Loss: 0.038895030 Testing Loss: 0.084928803  Training Acc: 0.988183618 Testing Acc: 0.979039192\n",
            "Epoch: 84 Training Loss: 0.036765974 Testing Loss: 0.085299425  Training Acc: 0.989062488 Testing Acc: 0.977870107\n",
            "Epoch: 85 Training Loss: 0.039822709 Testing Loss: 0.078525595  Training Acc: 0.988867223 Testing Acc: 0.979886949\n",
            "Epoch: 86 Training Loss: 0.032404818 Testing Loss: 0.080758639  Training Acc: 0.991015613 Testing Acc: 0.979571104\n",
            "Epoch: 87 Training Loss: 0.037017047 Testing Loss: 0.079648241  Training Acc: 0.989941418 Testing Acc: 0.980197251\n",
            "Epoch: 88 Training Loss: 0.036022764 Testing Loss: 0.087857053  Training Acc: 0.989257812 Testing Acc: 0.978246868\n",
            "Epoch: 89 Training Loss: 0.030936060 Testing Loss: 0.073956870  Training Acc: 0.989843786 Testing Acc: 0.982081115\n",
            "Epoch: 90 Training Loss: 0.037323155 Testing Loss: 0.074616000  Training Acc: 0.989355505 Testing Acc: 0.981997967\n",
            "Epoch: 91 Training Loss: 0.031536121 Testing Loss: 0.090628378  Training Acc: 0.991210938 Testing Acc: 0.977925479\n",
            "Epoch: 92 Training Loss: 0.040770140 Testing Loss: 0.085489750  Training Acc: 0.987792969 Testing Acc: 0.978241324\n",
            "Epoch: 93 Training Loss: 0.040599182 Testing Loss: 0.101465300  Training Acc: 0.988769531 Testing Acc: 0.975465417\n",
            "Epoch: 94 Training Loss: 0.036556877 Testing Loss: 0.092798822  Training Acc: 0.988964856 Testing Acc: 0.977149785\n",
            "Epoch: 95 Training Loss: 0.040816095 Testing Loss: 0.095389135  Training Acc: 0.987500012 Testing Acc: 0.977798045\n",
            "Epoch: 96 Training Loss: 0.039537147 Testing Loss: 0.091195688  Training Acc: 0.990039051 Testing Acc: 0.977670670\n",
            "Epoch: 97 Training Loss: 0.031880882 Testing Loss: 0.078954853  Training Acc: 0.990136743 Testing Acc: 0.980673730\n",
            "Epoch: 98 Training Loss: 0.033878934 Testing Loss: 0.084107094  Training Acc: 0.989648461 Testing Acc: 0.979931295\n",
            "Epoch: 99 Training Loss: 0.043811772 Testing Loss: 0.110634789  Training Acc: 0.987792969 Testing Acc: 0.972933292\n",
            "Epoch: 100 Training Loss: 0.035042606 Testing Loss: 0.079687499  Training Acc: 0.990332067 Testing Acc: 0.980579555\n",
            "Epoch: 101 Training Loss: 0.032985192 Testing Loss: 0.082770646  Training Acc: 0.990234375 Testing Acc: 0.980103016\n",
            "Epoch: 102 Training Loss: 0.025293564 Testing Loss: 0.102470458  Training Acc: 0.991894543 Testing Acc: 0.974977851\n",
            "Epoch: 103 Training Loss: 0.030084750 Testing Loss: 0.099718012  Training Acc: 0.991503894 Testing Acc: 0.976595700\n",
            "Epoch: 104 Training Loss: 0.033022430 Testing Loss: 0.078970306  Training Acc: 0.991015613 Testing Acc: 0.980967402\n",
            "Epoch: 105 Training Loss: 0.037037961 Testing Loss: 0.083172962  Training Acc: 0.989453137 Testing Acc: 0.979742885\n",
            "Epoch: 106 Training Loss: 0.034912277 Testing Loss: 0.078379251  Training Acc: 0.989550769 Testing Acc: 0.980862141\n",
            "Epoch: 107 Training Loss: 0.063057296 Testing Loss: 0.086535133  Training Acc: 0.987207055 Testing Acc: 0.979155540\n",
            "Epoch: 108 Training Loss: 0.061775845 Testing Loss: 0.085678101  Training Acc: 0.983007848 Testing Acc: 0.978911757\n",
            "Epoch: 109 Training Loss: 0.056833711 Testing Loss: 0.081257872  Training Acc: 0.984179676 Testing Acc: 0.979604363\n",
            "Epoch: 110 Training Loss: 0.051117014 Testing Loss: 0.091711439  Training Acc: 0.986035168 Testing Acc: 0.977072239\n",
            "Epoch: 111 Training Loss: 0.041439649 Testing Loss: 0.077226520  Training Acc: 0.987695336 Testing Acc: 0.979637623\n",
            "Epoch: 112 Training Loss: 0.045185469 Testing Loss: 0.090287551  Training Acc: 0.987597644 Testing Acc: 0.977487803\n",
            "Epoch: 113 Training Loss: 0.101656452 Testing Loss: 0.077594273  Training Acc: 0.984765649 Testing Acc: 0.980756819\n",
            "Epoch: 114 Training Loss: 0.079700343 Testing Loss: 0.090748072  Training Acc: 0.977832019 Testing Acc: 0.976789653\n",
            "Epoch: 115 Training Loss: 0.061661631 Testing Loss: 0.093724109  Training Acc: 0.985351562 Testing Acc: 0.976479352\n",
            "Epoch: 116 Training Loss: 0.049908772 Testing Loss: 0.082839638  Training Acc: 0.985839844 Testing Acc: 0.978047371\n",
            "Epoch: 117 Training Loss: 0.037954215 Testing Loss: 0.094565399  Training Acc: 0.988476574 Testing Acc: 0.976590216\n",
            "Epoch: 118 Training Loss: 0.035917096 Testing Loss: 0.078234918  Training Acc: 0.990039051 Testing Acc: 0.980186164\n",
            "Epoch: 119 Training Loss: 0.046666000 Testing Loss: 0.079366818  Training Acc: 0.989062488 Testing Acc: 0.979870319\n",
            "Epoch: 120 Training Loss: 0.036528286 Testing Loss: 0.088077843  Training Acc: 0.988964856 Testing Acc: 0.978673518\n",
            "Epoch: 121 Training Loss: 0.037863638 Testing Loss: 0.082235396  Training Acc: 0.988671899 Testing Acc: 0.979499102\n",
            "Epoch: 122 Training Loss: 0.034869570 Testing Loss: 0.096112199  Training Acc: 0.989941418 Testing Acc: 0.976446092\n",
            "Epoch: 123 Training Loss: 0.042353004 Testing Loss: 0.087568924  Training Acc: 0.988085926 Testing Acc: 0.977936625\n",
            "Epoch: 124 Training Loss: 0.039580874 Testing Loss: 0.085671470  Training Acc: 0.987695336 Testing Acc: 0.978208065\n",
            "Epoch: 125 Training Loss: 0.036712799 Testing Loss: 0.092994615  Training Acc: 0.990039051 Testing Acc: 0.976462722\n",
            "Epoch: 126 Training Loss: 0.031717118 Testing Loss: 0.072839893  Training Acc: 0.991992176 Testing Acc: 0.981454968\n",
            "Epoch: 127 Training Loss: 0.026858065 Testing Loss: 0.087330453  Training Acc: 0.991699219 Testing Acc: 0.978296697\n",
            "Epoch: 128 Training Loss: 0.035262588 Testing Loss: 0.078760937  Training Acc: 0.989355505 Testing Acc: 0.979970038\n",
            "Epoch: 129 Training Loss: 0.031683058 Testing Loss: 0.093518674  Training Acc: 0.990234375 Testing Acc: 0.977044523\n",
            "Epoch: 130 Training Loss: 0.035568535 Testing Loss: 0.080114253  Training Acc: 0.989355505 Testing Acc: 0.980745792\n",
            "Epoch: 131 Training Loss: 0.038013268 Testing Loss: 0.085243806  Training Acc: 0.989160180 Testing Acc: 0.979565620\n",
            "Epoch: 132 Training Loss: 0.029493256 Testing Loss: 0.092522591  Training Acc: 0.990429699 Testing Acc: 0.978047371\n",
            "Epoch: 133 Training Loss: 0.032351762 Testing Loss: 0.076786712  Training Acc: 0.991992176 Testing Acc: 0.981643379\n",
            "Epoch: 134 Training Loss: 0.023232777 Testing Loss: 0.083383299  Training Acc: 0.993652344 Testing Acc: 0.979709625\n",
            "Epoch: 135 Training Loss: 0.029083669 Testing Loss: 0.093447119  Training Acc: 0.990917981 Testing Acc: 0.978823125\n",
            "Epoch: 136 Training Loss: 0.029478431 Testing Loss: 0.083262965  Training Acc: 0.991406262 Testing Acc: 0.980463207\n",
            "Epoch: 137 Training Loss: 0.053112037 Testing Loss: 0.103624992  Training Acc: 0.985839844 Testing Acc: 0.975687027\n",
            "Epoch: 138 Training Loss: 0.044603009 Testing Loss: 0.103705540  Training Acc: 0.986425817 Testing Acc: 0.976773024\n",
            "Epoch: 139 Training Loss: 0.047676787 Testing Loss: 0.089697890  Training Acc: 0.986816406 Testing Acc: 0.977903366\n",
            "Epoch: 140 Training Loss: 0.043077368 Testing Loss: 0.101721235  Training Acc: 0.986914098 Testing Acc: 0.975542963\n",
            "Epoch: 141 Training Loss: 0.035143659 Testing Loss: 0.088169701  Training Acc: 0.989648461 Testing Acc: 0.978756607\n",
            "Epoch: 142 Training Loss: 0.032985743 Testing Loss: 0.082801819  Training Acc: 0.991992176 Testing Acc: 0.980396688\n",
            "Epoch: 143 Training Loss: 0.031265419 Testing Loss: 0.079800710  Training Acc: 0.990917981 Testing Acc: 0.980535209\n",
            "Epoch: 144 Training Loss: 0.023802523 Testing Loss: 0.079869039  Training Acc: 0.993554711 Testing Acc: 0.981200099\n",
            "Epoch: 145 Training Loss: 0.027691266 Testing Loss: 0.080258727  Training Acc: 0.992382824 Testing Acc: 0.980529666\n",
            "Epoch: 146 Training Loss: 0.046175219 Testing Loss: 0.080403656  Training Acc: 0.991699219 Testing Acc: 0.981194556\n",
            "Epoch: 147 Training Loss: 0.040628105 Testing Loss: 0.086443238  Training Acc: 0.988671899 Testing Acc: 0.979055822\n",
            "Epoch: 148 Training Loss: 0.030839233 Testing Loss: 0.082403824  Training Acc: 0.991113305 Testing Acc: 0.980812252\n",
            "Epoch: 149 Training Loss: 0.030943692 Testing Loss: 0.089466065  Training Acc: 0.991503894 Testing Acc: 0.978468537\n",
            "Epoch: 150 Training Loss: 0.034066476 Testing Loss: 0.076669216  Training Acc: 0.989550769 Testing Acc: 0.981682122\n",
            "Epoch: 151 Training Loss: 0.027555257 Testing Loss: 0.084065877  Training Acc: 0.991992176 Testing Acc: 0.979687452\n",
            "Epoch: 152 Training Loss: 0.026673948 Testing Loss: 0.073741145  Training Acc: 0.992773473 Testing Acc: 0.982258439\n",
            "Epoch: 153 Training Loss: 0.032943696 Testing Loss: 0.079032652  Training Acc: 0.989257812 Testing Acc: 0.981931508\n",
            "Epoch: 154 Training Loss: 0.021708630 Testing Loss: 0.082296319  Training Acc: 0.993261755 Testing Acc: 0.981299818\n",
            "Epoch: 155 Training Loss: 0.017608499 Testing Loss: 0.077088758  Training Acc: 0.995312512 Testing Acc: 0.982601881\n",
            "Epoch: 156 Training Loss: 0.024398869 Testing Loss: 0.067387670  Training Acc: 0.991796911 Testing Acc: 0.984524548\n",
            "Epoch: 157 Training Loss: 0.034348223 Testing Loss: 0.080191724  Training Acc: 0.991699219 Testing Acc: 0.982219577\n",
            "Epoch: 158 Training Loss: 0.042472582 Testing Loss: 0.075503819  Training Acc: 0.986718774 Testing Acc: 0.982335925\n",
            "Epoch: 159 Training Loss: 0.033360060 Testing Loss: 0.098964982  Training Acc: 0.989746094 Testing Acc: 0.978169322\n",
            "Epoch: 160 Training Loss: 0.033722870 Testing Loss: 0.084524013  Training Acc: 0.990917981 Testing Acc: 0.980972886\n",
            "Epoch: 161 Training Loss: 0.036612269 Testing Loss: 0.084392667  Training Acc: 0.989746094 Testing Acc: 0.980169535\n",
            "Epoch: 162 Training Loss: 0.034163572 Testing Loss: 0.091397420  Training Acc: 0.989746094 Testing Acc: 0.978961587\n",
            "Epoch: 163 Training Loss: 0.030586928 Testing Loss: 0.082660921  Training Acc: 0.991503894 Testing Acc: 0.981183469\n",
            "Epoch: 164 Training Loss: 0.028519560 Testing Loss: 0.089711957  Training Acc: 0.993261755 Testing Acc: 0.979166687\n",
            "Epoch: 165 Training Loss: 0.024626194 Testing Loss: 0.080109693  Training Acc: 0.993359387 Testing Acc: 0.981604576\n",
            "Epoch: 166 Training Loss: 0.021914583 Testing Loss: 0.074743092  Training Acc: 0.993554711 Testing Acc: 0.983078420\n",
            "Epoch: 167 Training Loss: 0.020901071 Testing Loss: 0.075924575  Training Acc: 0.992968738 Testing Acc: 0.983100593\n",
            "Epoch: 168 Training Loss: 0.026759535 Testing Loss: 0.073944405  Training Acc: 0.992480457 Testing Acc: 0.983333290\n",
            "Epoch: 169 Training Loss: 0.044829279 Testing Loss: 0.076136187  Training Acc: 0.989746094 Testing Acc: 0.982618511\n",
            "Epoch: 170 Training Loss: 0.032160129 Testing Loss: 0.093999907  Training Acc: 0.990820348 Testing Acc: 0.979355037\n",
            "Epoch: 171 Training Loss: 0.025869837 Testing Loss: 0.092859134  Training Acc: 0.992578149 Testing Acc: 0.979017079\n",
            "Epoch: 172 Training Loss: 0.025577147 Testing Loss: 0.088652514  Training Acc: 0.992871106 Testing Acc: 0.980130732\n",
            "Epoch: 173 Training Loss: 0.036231786 Testing Loss: 0.092976205  Training Acc: 0.992480457 Testing Acc: 0.979349494\n",
            "Epoch: 174 Training Loss: 0.068770781 Testing Loss: 0.092719436  Training Acc: 0.986132801 Testing Acc: 0.979244173\n",
            "Epoch: 175 Training Loss: 0.045755431 Testing Loss: 0.085724235  Training Acc: 0.986523449 Testing Acc: 0.979587734\n",
            "Epoch: 176 Training Loss: 0.040972859 Testing Loss: 0.069330096  Training Acc: 0.987500012 Testing Acc: 0.983693480\n",
            "Epoch: 177 Training Loss: 0.044707622 Testing Loss: 0.087666154  Training Acc: 0.987011731 Testing Acc: 0.978856325\n",
            "Epoch: 178 Training Loss: 0.042204019 Testing Loss: 0.076948673  Training Acc: 0.987500012 Testing Acc: 0.981599033\n",
            "Epoch: 179 Training Loss: 0.070783153 Testing Loss: 0.076556794  Training Acc: 0.984960973 Testing Acc: 0.981770754\n",
            "Epoch: 180 Training Loss: 0.076432161 Testing Loss: 0.074306272  Training Acc: 0.977343738 Testing Acc: 0.982524395\n",
            "Epoch: 181 Training Loss: 0.061269511 Testing Loss: 0.082031347  Training Acc: 0.983886719 Testing Acc: 0.981089294\n",
            "Epoch: 182 Training Loss: 0.037088770 Testing Loss: 0.073898323  Training Acc: 0.986914098 Testing Acc: 0.982114315\n",
            "Epoch: 183 Training Loss: 0.049090058 Testing Loss: 0.072957531  Training Acc: 0.988867223 Testing Acc: 0.982973158\n",
            "Epoch: 184 Training Loss: 0.031080225 Testing Loss: 0.082224026  Training Acc: 0.991308630 Testing Acc: 0.980452120\n",
            "Epoch: 185 Training Loss: 0.030742049 Testing Loss: 0.078140385  Training Acc: 0.991699219 Testing Acc: 0.981732011\n",
            "Epoch: 186 Training Loss: 0.060772657 Testing Loss: 0.073772855  Training Acc: 0.988574207 Testing Acc: 0.982214093\n",
            "Epoch: 187 Training Loss: 0.035255391 Testing Loss: 0.074049674  Training Acc: 0.989843786 Testing Acc: 0.982092202\n",
            "Epoch: 188 Training Loss: 0.042913616 Testing Loss: 0.075341165  Training Acc: 0.988671899 Testing Acc: 0.982014596\n",
            "Epoch: 189 Training Loss: 0.039175268 Testing Loss: 0.077463999  Training Acc: 0.988769531 Testing Acc: 0.981992483\n",
            "Epoch: 190 Training Loss: 0.040311627 Testing Loss: 0.094732046  Training Acc: 0.986816406 Testing Acc: 0.977576435\n",
            "Epoch: 191 Training Loss: 0.057487644 Testing Loss: 0.081604801  Training Acc: 0.983496130 Testing Acc: 0.981222272\n",
            "Epoch: 192 Training Loss: 0.041817613 Testing Loss: 0.083412707  Training Acc: 0.989062488 Testing Acc: 0.980047643\n",
            "Epoch: 193 Training Loss: 0.066257581 Testing Loss: 0.088058054  Training Acc: 0.984277368 Testing Acc: 0.979327321\n",
            "Epoch: 194 Training Loss: 0.050134785 Testing Loss: 0.085029833  Training Acc: 0.984667957 Testing Acc: 0.980562925\n",
            "Epoch: 195 Training Loss: 0.054597862 Testing Loss: 0.093210556  Training Acc: 0.982519567 Testing Acc: 0.979216516\n",
            "Epoch: 196 Training Loss: 0.043298710 Testing Loss: 0.090252884  Training Acc: 0.988574207 Testing Acc: 0.978573799\n",
            "Epoch: 197 Training Loss: 0.032190498 Testing Loss: 0.085343681  Training Acc: 0.990722656 Testing Acc: 0.979881406\n",
            "Epoch: 198 Training Loss: 0.036343053 Testing Loss: 0.076630667  Training Acc: 0.990625024 Testing Acc: 0.982324898\n",
            "Epoch: 199 Training Loss: 0.029239956 Testing Loss: 0.082625501  Training Acc: 0.991308630 Testing Acc: 0.980945230\n",
            "Epoch: 200 Training Loss: 0.051077437 Testing Loss: 0.079083852  Training Acc: 0.984472692 Testing Acc: 0.981272101\n",
            "Epoch: 201 Training Loss: 0.031724866 Testing Loss: 0.079015456  Training Acc: 0.991015613 Testing Acc: 0.981111467\n",
            "Epoch: 202 Training Loss: 0.022959461 Testing Loss: 0.080496795  Training Acc: 0.993164062 Testing Acc: 0.981499314\n",
            "Epoch: 203 Training Loss: 0.042610001 Testing Loss: 0.086765900  Training Acc: 0.987500012 Testing Acc: 0.980258167\n",
            "Epoch: 204 Training Loss: 0.044893514 Testing Loss: 0.069474965  Training Acc: 0.985937536 Testing Acc: 0.984458089\n",
            "Epoch: 205 Training Loss: 0.046876594 Testing Loss: 0.079088792  Training Acc: 0.988281250 Testing Acc: 0.982662857\n",
            "Epoch: 206 Training Loss: 0.054704990 Testing Loss: 0.079723306  Training Acc: 0.988769531 Testing Acc: 0.981405079\n",
            "Epoch: 207 Training Loss: 0.040133271 Testing Loss: 0.092438772  Training Acc: 0.988769531 Testing Acc: 0.978313327\n",
            "Epoch: 208 Training Loss: 0.030967355 Testing Loss: 0.073470876  Training Acc: 0.990332067 Testing Acc: 0.982369184\n",
            "Epoch: 209 Training Loss: 0.024358053 Testing Loss: 0.077362530  Training Acc: 0.992578149 Testing Acc: 0.982452273\n",
            "Epoch: 210 Training Loss: 0.031033156 Testing Loss: 0.079342648  Training Acc: 0.992187500 Testing Acc: 0.981754184\n",
            "Epoch: 211 Training Loss: 0.029543711 Testing Loss: 0.079346396  Training Acc: 0.991601586 Testing Acc: 0.981632292\n",
            "Epoch: 212 Training Loss: 0.022628611 Testing Loss: 0.076292738  Training Acc: 0.993261755 Testing Acc: 0.982535422\n",
            "Epoch: 213 Training Loss: 0.027930981 Testing Loss: 0.066602305  Training Acc: 0.990917981 Testing Acc: 0.984746158\n",
            "Epoch: 214 Training Loss: 0.026794408 Testing Loss: 0.072147869  Training Acc: 0.991992176 Testing Acc: 0.984097898\n",
            "Epoch: 215 Training Loss: 0.023573244 Testing Loss: 0.076301292  Training Acc: 0.993554711 Testing Acc: 0.983050704\n",
            "Epoch: 216 Training Loss: 0.026640242 Testing Loss: 0.088124298  Training Acc: 0.990625024 Testing Acc: 0.980889797\n",
            "Epoch: 217 Training Loss: 0.038101967 Testing Loss: 0.093828470  Training Acc: 0.988476574 Testing Acc: 0.979299664\n",
            "Epoch: 218 Training Loss: 0.038553011 Testing Loss: 0.085028984  Training Acc: 0.986914098 Testing Acc: 0.980324626\n",
            "Epoch: 219 Training Loss: 0.030319085 Testing Loss: 0.106706351  Training Acc: 0.990917981 Testing Acc: 0.975437641\n",
            "Epoch: 220 Training Loss: 0.053009804 Testing Loss: 0.069760978  Training Acc: 0.990234375 Testing Acc: 0.984108984\n",
            "Epoch: 221 Training Loss: 0.070476755 Testing Loss: 0.097075604  Training Acc: 0.989648461 Testing Acc: 0.977116525\n",
            "Epoch: 222 Training Loss: 0.045522835 Testing Loss: 0.085670963  Training Acc: 0.987304688 Testing Acc: 0.979787230\n",
            "Epoch: 223 Training Loss: 0.033944067 Testing Loss: 0.072037846  Training Acc: 0.990527332 Testing Acc: 0.982862353\n",
            "Epoch: 224 Training Loss: 0.026464431 Testing Loss: 0.069888130  Training Acc: 0.991894543 Testing Acc: 0.983976007\n",
            "Epoch: 225 Training Loss: 0.028004115 Testing Loss: 0.072968565  Training Acc: 0.993066430 Testing Acc: 0.982729375\n",
            "Epoch: 226 Training Loss: 0.035741758 Testing Loss: 0.076426283  Training Acc: 0.988085926 Testing Acc: 0.982574224\n",
            "Epoch: 227 Training Loss: 0.033895090 Testing Loss: 0.080332093  Training Acc: 0.988671899 Testing Acc: 0.981211185\n",
            "Epoch: 228 Training Loss: 0.033567015 Testing Loss: 0.071766652  Training Acc: 0.991113305 Testing Acc: 0.983754396\n",
            "Epoch: 229 Training Loss: 0.032682654 Testing Loss: 0.068782948  Training Acc: 0.991601586 Testing Acc: 0.984147787\n",
            "Epoch: 230 Training Loss: 0.045855310 Testing Loss: 0.072774097  Training Acc: 0.989355505 Testing Acc: 0.983300030\n",
            "Epoch: 231 Training Loss: 0.031290352 Testing Loss: 0.084026210  Training Acc: 0.989941418 Testing Acc: 0.980296969\n",
            "Epoch: 232 Training Loss: 0.026439825 Testing Loss: 0.077942193  Training Acc: 0.991796911 Testing Acc: 0.981432796\n",
            "Epoch: 233 Training Loss: 0.031081706 Testing Loss: 0.069318719  Training Acc: 0.990234375 Testing Acc: 0.983820915\n",
            "Epoch: 234 Training Loss: 0.033372190 Testing Loss: 0.076917343  Training Acc: 0.990429699 Testing Acc: 0.982529879\n",
            "Epoch: 235 Training Loss: 0.028745642 Testing Loss: 0.076395586  Training Acc: 0.992187500 Testing Acc: 0.982723832\n",
            "Epoch: 236 Training Loss: 0.027088225 Testing Loss: 0.075749770  Training Acc: 0.991503894 Testing Acc: 0.982768118\n",
            "Epoch: 237 Training Loss: 0.025409607 Testing Loss: 0.081105925  Training Acc: 0.991894543 Testing Acc: 0.981754184\n",
            "Epoch: 238 Training Loss: 0.025887592 Testing Loss: 0.085195780  Training Acc: 0.991894543 Testing Acc: 0.980036557\n",
            "Epoch: 239 Training Loss: 0.026794890 Testing Loss: 0.083036944  Training Acc: 0.992871106 Testing Acc: 0.980629444\n",
            "Epoch: 240 Training Loss: 0.021570435 Testing Loss: 0.077926189  Training Acc: 0.991699219 Testing Acc: 0.981986880\n",
            "Epoch: 241 Training Loss: 0.027874088 Testing Loss: 0.095147997  Training Acc: 0.992187500 Testing Acc: 0.979039192\n",
            "Epoch: 242 Training Loss: 0.023251757 Testing Loss: 0.090605505  Training Acc: 0.993847668 Testing Acc: 0.979543388\n",
            "Epoch: 243 Training Loss: 0.021332890 Testing Loss: 0.075436316  Training Acc: 0.993457019 Testing Acc: 0.982917726\n",
            "Epoch: 244 Training Loss: 0.019377029 Testing Loss: 0.083946988  Training Acc: 0.995312512 Testing Acc: 0.980706930\n",
            "Epoch: 245 Training Loss: 0.018308504 Testing Loss: 0.084182456  Training Acc: 0.994921863 Testing Acc: 0.981554687\n",
            "Epoch: 246 Training Loss: 0.019258825 Testing Loss: 0.082510054  Training Acc: 0.994628906 Testing Acc: 0.982014596\n",
            "Epoch: 247 Training Loss: 0.023058726 Testing Loss: 0.078487448  Training Acc: 0.992773473 Testing Acc: 0.981837273\n",
            "Epoch: 248 Training Loss: 0.033763353 Testing Loss: 0.077438548  Training Acc: 0.993066430 Testing Acc: 0.982762575\n",
            "Epoch: 249 Training Loss: 0.027143328 Testing Loss: 0.078619681  Training Acc: 0.992089868 Testing Acc: 0.982535422\n",
            "Epoch: 250 Training Loss: 0.034777056 Testing Loss: 0.079069525  Training Acc: 0.992968738 Testing Acc: 0.982330441\n",
            "Epoch: 251 Training Loss: 0.029015889 Testing Loss: 0.081927538  Training Acc: 0.990429699 Testing Acc: 0.980756819\n",
            "Epoch: 252 Training Loss: 0.031619601 Testing Loss: 0.080969103  Training Acc: 0.991308630 Testing Acc: 0.981449425\n",
            "Epoch: 253 Training Loss: 0.030168293 Testing Loss: 0.074409924  Training Acc: 0.990136743 Testing Acc: 0.982191920\n",
            "Epoch: 254 Training Loss: 0.030565266 Testing Loss: 0.071878076  Training Acc: 0.990429699 Testing Acc: 0.984408200\n",
            "Epoch: 255 Training Loss: 0.031454366 Testing Loss: 0.079955362  Training Acc: 0.991015613 Testing Acc: 0.981299818\n",
            "Epoch: 256 Training Loss: 0.028890362 Testing Loss: 0.071551822  Training Acc: 0.991992176 Testing Acc: 0.983505070\n",
            "Epoch: 257 Training Loss: 0.025768930 Testing Loss: 0.078317478  Training Acc: 0.991992176 Testing Acc: 0.981804013\n",
            "Epoch: 258 Training Loss: 0.027013337 Testing Loss: 0.079344109  Training Acc: 0.990136743 Testing Acc: 0.982241809\n",
            "Epoch: 259 Training Loss: 0.030264625 Testing Loss: 0.077482708  Training Acc: 0.991308630 Testing Acc: 0.982197464\n",
            "Epoch: 260 Training Loss: 0.018926738 Testing Loss: 0.070740126  Training Acc: 0.994140625 Testing Acc: 0.983904004\n",
            "Epoch: 261 Training Loss: 0.017662844 Testing Loss: 0.076833695  Training Acc: 0.995410144 Testing Acc: 0.982851207\n",
            "Epoch: 262 Training Loss: 0.019301483 Testing Loss: 0.080382369  Training Acc: 0.994726598 Testing Acc: 0.982685030\n",
            "Epoch: 263 Training Loss: 0.041662093 Testing Loss: 0.078830555  Training Acc: 0.992480457 Testing Acc: 0.982906699\n",
            "Epoch: 264 Training Loss: 0.032607030 Testing Loss: 0.079636842  Training Acc: 0.990722656 Testing Acc: 0.981981337\n",
            "Epoch: 265 Training Loss: 0.027341181 Testing Loss: 0.085171595  Training Acc: 0.991699219 Testing Acc: 0.980978489\n",
            "Epoch: 266 Training Loss: 0.028370822 Testing Loss: 0.097118415  Training Acc: 0.992578149 Testing Acc: 0.978341043\n",
            "Epoch: 267 Training Loss: 0.019260183 Testing Loss: 0.088448964  Training Acc: 0.995117188 Testing Acc: 0.980069757\n",
            "Epoch: 268 Training Loss: 0.018621068 Testing Loss: 0.081980772  Training Acc: 0.994824231 Testing Acc: 0.981737554\n",
            "Epoch: 269 Training Loss: 0.019562215 Testing Loss: 0.083686210  Training Acc: 0.993457019 Testing Acc: 0.981543660\n",
            "Epoch: 270 Training Loss: 0.021037983 Testing Loss: 0.082326181  Training Acc: 0.991015613 Testing Acc: 0.981959224\n",
            "Epoch: 271 Training Loss: 0.034758817 Testing Loss: 0.074439742  Training Acc: 0.988867223 Testing Acc: 0.984291852\n",
            "Epoch: 272 Training Loss: 0.031397797 Testing Loss: 0.081444442  Training Acc: 0.990429699 Testing Acc: 0.982225180\n",
            "Epoch: 273 Training Loss: 0.031621970 Testing Loss: 0.072145037  Training Acc: 0.990820348 Testing Acc: 0.983931661\n",
            "Epoch: 274 Training Loss: 0.025597174 Testing Loss: 0.080409378  Training Acc: 0.992187500 Testing Acc: 0.981249988\n",
            "Epoch: 275 Training Loss: 0.045734078 Testing Loss: 0.069427930  Training Acc: 0.986718774 Testing Acc: 0.984607697\n",
            "Epoch: 276 Training Loss: 0.040459033 Testing Loss: 0.088952035  Training Acc: 0.989453137 Testing Acc: 0.981355250\n",
            "Epoch: 277 Training Loss: 0.062871069 Testing Loss: 0.086524345  Training Acc: 0.986425817 Testing Acc: 0.981515944\n",
            "Epoch: 278 Training Loss: 0.044034313 Testing Loss: 0.083143629  Training Acc: 0.988378942 Testing Acc: 0.980845511\n",
            "Epoch: 279 Training Loss: 0.032482754 Testing Loss: 0.078498788  Training Acc: 0.990429699 Testing Acc: 0.982823551\n",
            "Epoch: 280 Training Loss: 0.026025746 Testing Loss: 0.067755096  Training Acc: 0.992382824 Testing Acc: 0.984169960\n",
            "Epoch: 281 Training Loss: 0.024534581 Testing Loss: 0.072607055  Training Acc: 0.992675781 Testing Acc: 0.983427525\n",
            "Epoch: 282 Training Loss: 0.021182083 Testing Loss: 0.073811263  Training Acc: 0.993750036 Testing Acc: 0.983266771\n",
            "Epoch: 283 Training Loss: 0.025058419 Testing Loss: 0.074770018  Training Acc: 0.993457019 Testing Acc: 0.983067334\n",
            "Epoch: 284 Training Loss: 0.020000383 Testing Loss: 0.068850324  Training Acc: 0.993750036 Testing Acc: 0.984114528\n",
            "Epoch: 285 Training Loss: 0.025673596 Testing Loss: 0.071545586  Training Acc: 0.992871106 Testing Acc: 0.983904004\n",
            "Epoch: 286 Training Loss: 0.029793814 Testing Loss: 0.073462613  Training Acc: 0.991406262 Testing Acc: 0.983721197\n",
            "Epoch: 287 Training Loss: 0.054537632 Testing Loss: 0.088678367  Training Acc: 0.987695336 Testing Acc: 0.981920362\n",
            "Epoch: 288 Training Loss: 0.047497816 Testing Loss: 0.093103372  Training Acc: 0.985937536 Testing Acc: 0.978823125\n",
            "Epoch: 289 Training Loss: 0.036092531 Testing Loss: 0.092411064  Training Acc: 0.990527332 Testing Acc: 0.978884101\n",
            "Epoch: 290 Training Loss: 0.039374907 Testing Loss: 0.093581088  Training Acc: 0.989355505 Testing Acc: 0.978501737\n",
            "Epoch: 291 Training Loss: 0.034419507 Testing Loss: 0.074294016  Training Acc: 0.990136743 Testing Acc: 0.982917726\n",
            "Epoch: 292 Training Loss: 0.033190984 Testing Loss: 0.076226972  Training Acc: 0.989062488 Testing Acc: 0.983233571\n",
            "Epoch: 293 Training Loss: 0.029987175 Testing Loss: 0.074735373  Training Acc: 0.991699219 Testing Acc: 0.982568681\n",
            "Epoch: 294 Training Loss: 0.027789984 Testing Loss: 0.067067973  Training Acc: 0.992675781 Testing Acc: 0.984086871\n",
            "Epoch: 295 Training Loss: 0.022169782 Testing Loss: 0.075194590  Training Acc: 0.993066430 Testing Acc: 0.982945442\n",
            "Epoch: 296 Training Loss: 0.031624217 Testing Loss: 0.073845729  Training Acc: 0.989648461 Testing Acc: 0.983283401\n",
            "Epoch: 297 Training Loss: 0.035057809 Testing Loss: 0.091870911  Training Acc: 0.990136743 Testing Acc: 0.979931295\n",
            "Epoch: 298 Training Loss: 0.025191322 Testing Loss: 0.084312163  Training Acc: 0.993164062 Testing Acc: 0.982103229\n",
            "Epoch: 299 Training Loss: 0.029000465 Testing Loss: 0.075445749  Training Acc: 0.991894543 Testing Acc: 0.983183682\n",
            "Epoch: 300 Training Loss: 0.020848801 Testing Loss: 0.084096648  Training Acc: 0.993261755 Testing Acc: 0.982108831\n",
            "Epoch: 301 Training Loss: 0.018375183 Testing Loss: 0.075656608  Training Acc: 0.995019555 Testing Acc: 0.983577073\n",
            "Epoch: 302 Training Loss: 0.049617674 Testing Loss: 0.077246852  Training Acc: 0.990722656 Testing Acc: 0.983582616\n",
            "Epoch: 303 Training Loss: 0.032815441 Testing Loss: 0.085319825  Training Acc: 0.991113305 Testing Acc: 0.981599033\n",
            "Epoch: 304 Training Loss: 0.025192007 Testing Loss: 0.077696003  Training Acc: 0.992968738 Testing Acc: 0.982806921\n",
            "Epoch: 305 Training Loss: 0.024163106 Testing Loss: 0.078309111  Training Acc: 0.993750036 Testing Acc: 0.982973158\n",
            "Epoch: 306 Training Loss: 0.021501999 Testing Loss: 0.075683266  Training Acc: 0.993261755 Testing Acc: 0.983377635\n",
            "Epoch: 307 Training Loss: 0.018663904 Testing Loss: 0.074428186  Training Acc: 0.994335949 Testing Acc: 0.983394265\n",
            "Epoch: 308 Training Loss: 0.020525400 Testing Loss: 0.075040765  Training Acc: 0.994335949 Testing Acc: 0.983455241\n",
            "Epoch: 309 Training Loss: 0.017512960 Testing Loss: 0.084872410  Training Acc: 0.993945301 Testing Acc: 0.981571317\n",
            "Epoch: 310 Training Loss: 0.021574078 Testing Loss: 0.071344756  Training Acc: 0.992285192 Testing Acc: 0.984513462\n",
            "Epoch: 311 Training Loss: 0.018372837 Testing Loss: 0.080427468  Training Acc: 0.994921863 Testing Acc: 0.982696116\n",
            "Epoch: 312 Training Loss: 0.016678682 Testing Loss: 0.082577817  Training Acc: 0.994726598 Testing Acc: 0.982219577\n",
            "Epoch: 313 Training Loss: 0.016521115 Testing Loss: 0.074759334  Training Acc: 0.994921863 Testing Acc: 0.984358370\n",
            "Epoch: 314 Training Loss: 0.028710568 Testing Loss: 0.073648550  Training Acc: 0.992773473 Testing Acc: 0.984341741\n",
            "Epoch: 315 Training Loss: 0.019847941 Testing Loss: 0.077778324  Training Acc: 0.993554711 Testing Acc: 0.983953893\n",
            "Epoch: 316 Training Loss: 0.017339826 Testing Loss: 0.071855232  Training Acc: 0.995019555 Testing Acc: 0.984785020\n",
            "Epoch: 317 Training Loss: 0.015841603 Testing Loss: 0.076146707  Training Acc: 0.995800793 Testing Acc: 0.984025896\n",
            "Epoch: 318 Training Loss: 0.016977282 Testing Loss: 0.076690957  Training Acc: 0.994824231 Testing Acc: 0.984618783\n",
            "Epoch: 319 Training Loss: 0.022044485 Testing Loss: 0.071657263  Training Acc: 0.994531274 Testing Acc: 0.985516369\n",
            "Epoch: 320 Training Loss: 0.022110490 Testing Loss: 0.086441807  Training Acc: 0.993945301 Testing Acc: 0.982419074\n",
            "Epoch: 321 Training Loss: 0.020334573 Testing Loss: 0.077811591  Training Acc: 0.994335949 Testing Acc: 0.983527243\n",
            "Epoch: 322 Training Loss: 0.013805783 Testing Loss: 0.072361931  Training Acc: 0.996386707 Testing Acc: 0.984314024\n",
            "Epoch: 323 Training Loss: 0.015371914 Testing Loss: 0.079542875  Training Acc: 0.995703161 Testing Acc: 0.983433008\n",
            "Epoch: 324 Training Loss: 0.016562356 Testing Loss: 0.072458744  Training Acc: 0.994433582 Testing Acc: 0.984507918\n",
            "Epoch: 325 Training Loss: 0.017475147 Testing Loss: 0.069610886  Training Acc: 0.993847668 Testing Acc: 0.985682607\n",
            "Epoch: 326 Training Loss: 0.025670990 Testing Loss: 0.072278470  Training Acc: 0.993066430 Testing Acc: 0.984890282\n",
            "Epoch: 327 Training Loss: 0.018039830 Testing Loss: 0.079745881  Training Acc: 0.994531274 Testing Acc: 0.982690573\n",
            "Epoch: 328 Training Loss: 0.019305911 Testing Loss: 0.087327130  Training Acc: 0.994921863 Testing Acc: 0.981571317\n",
            "Epoch: 329 Training Loss: 0.016323010 Testing Loss: 0.079516582  Training Acc: 0.994628906 Testing Acc: 0.982878983\n",
            "Epoch: 330 Training Loss: 0.015398902 Testing Loss: 0.076384902  Training Acc: 0.994726598 Testing Acc: 0.984480202\n",
            "Epoch: 331 Training Loss: 0.015560132 Testing Loss: 0.079459347  Training Acc: 0.994531274 Testing Acc: 0.984408200\n",
            "Epoch: 332 Training Loss: 0.017450638 Testing Loss: 0.077220887  Training Acc: 0.995019555 Testing Acc: 0.984530091\n",
            "Epoch: 333 Training Loss: 0.024809286 Testing Loss: 0.079772048  Training Acc: 0.993359387 Testing Acc: 0.984275222\n",
            "Epoch: 334 Training Loss: 0.021521963 Testing Loss: 0.098269090  Training Acc: 0.993261755 Testing Acc: 0.980202734\n",
            "Epoch: 335 Training Loss: 0.023634627 Testing Loss: 0.085945226  Training Acc: 0.993457019 Testing Acc: 0.981737554\n",
            "Epoch: 336 Training Loss: 0.017948665 Testing Loss: 0.085997075  Training Acc: 0.994921863 Testing Acc: 0.983117163\n",
            "Epoch: 337 Training Loss: 0.022911146 Testing Loss: 0.076490894  Training Acc: 0.992480457 Testing Acc: 0.984696329\n",
            "Epoch: 338 Training Loss: 0.016264342 Testing Loss: 0.074277170  Training Acc: 0.995898426 Testing Acc: 0.985006630\n",
            "Epoch: 339 Training Loss: 0.032281004 Testing Loss: 0.073247157  Training Acc: 0.994140625 Testing Acc: 0.984845936\n",
            "Epoch: 340 Training Loss: 0.019604852 Testing Loss: 0.086704612  Training Acc: 0.992968738 Testing Acc: 0.981599033\n",
            "Epoch: 341 Training Loss: 0.021890581 Testing Loss: 0.084317803  Training Acc: 0.992480457 Testing Acc: 0.982286096\n",
            "Epoch: 342 Training Loss: 0.021427067 Testing Loss: 0.076176926  Training Acc: 0.993554711 Testing Acc: 0.983466268\n",
            "Epoch: 343 Training Loss: 0.021214658 Testing Loss: 0.079522468  Training Acc: 0.994238317 Testing Acc: 0.983538330\n",
            "Epoch: 344 Training Loss: 0.015378671 Testing Loss: 0.071348973  Training Acc: 0.995605469 Testing Acc: 0.985028744\n",
            "Epoch: 345 Training Loss: 0.019516965 Testing Loss: 0.078535184  Training Acc: 0.993066430 Testing Acc: 0.983383119\n",
            "Epoch: 346 Training Loss: 0.020995466 Testing Loss: 0.089564472  Training Acc: 0.993945301 Testing Acc: 0.981615663\n",
            "Epoch: 347 Training Loss: 0.035330128 Testing Loss: 0.090376206  Training Acc: 0.988378942 Testing Acc: 0.981554687\n",
            "Epoch: 348 Training Loss: 0.032874942 Testing Loss: 0.079400979  Training Acc: 0.990332067 Testing Acc: 0.982818007\n",
            "Epoch: 349 Training Loss: 0.021052090 Testing Loss: 0.079032347  Training Acc: 0.993164062 Testing Acc: 0.982984185\n",
            "Epoch: 350 Training Loss: 0.025956357 Testing Loss: 0.078166418  Training Acc: 0.990917981 Testing Acc: 0.983333290\n",
            "Epoch: 351 Training Loss: 0.026013395 Testing Loss: 0.077517137  Training Acc: 0.993847668 Testing Acc: 0.983233571\n",
            "Epoch: 352 Training Loss: 0.015814943 Testing Loss: 0.072763294  Training Acc: 0.994921863 Testing Acc: 0.983898461\n",
            "Epoch: 353 Training Loss: 0.024980588 Testing Loss: 0.074183896  Training Acc: 0.994042993 Testing Acc: 0.984474719\n",
            "Epoch: 354 Training Loss: 0.019329689 Testing Loss: 0.070702784  Training Acc: 0.994433582 Testing Acc: 0.984629810\n",
            "Epoch: 355 Training Loss: 0.016886003 Testing Loss: 0.072108135  Training Acc: 0.995996118 Testing Acc: 0.984618783\n",
            "Epoch: 356 Training Loss: 0.017145315 Testing Loss: 0.077413097  Training Acc: 0.994921863 Testing Acc: 0.983638048\n",
            "Epoch: 357 Training Loss: 0.023829473 Testing Loss: 0.077354737  Training Acc: 0.993847668 Testing Acc: 0.983898461\n",
            "Epoch: 358 Training Loss: 0.025543422 Testing Loss: 0.094415285  Training Acc: 0.993261755 Testing Acc: 0.980806708\n",
            "Epoch: 359 Training Loss: 0.041869774 Testing Loss: 0.091486856  Training Acc: 0.988378942 Testing Acc: 0.982108831\n",
            "Epoch: 360 Training Loss: 0.036013391 Testing Loss: 0.082089297  Training Acc: 0.987402380 Testing Acc: 0.982624114\n",
            "Epoch: 361 Training Loss: 0.035415508 Testing Loss: 0.100413583  Training Acc: 0.990332067 Testing Acc: 0.980695903\n",
            "Epoch: 362 Training Loss: 0.023935532 Testing Loss: 0.076795131  Training Acc: 0.993945301 Testing Acc: 0.983804286\n",
            "Epoch: 363 Training Loss: 0.018434657 Testing Loss: 0.086708613  Training Acc: 0.995019555 Testing Acc: 0.981781900\n",
            "Epoch: 364 Training Loss: 0.017624328 Testing Loss: 0.075047903  Training Acc: 0.994921863 Testing Acc: 0.983998179\n",
            "Epoch: 365 Training Loss: 0.019573595 Testing Loss: 0.080894716  Training Acc: 0.995117188 Testing Acc: 0.983045161\n",
            "Epoch: 366 Training Loss: 0.021962753 Testing Loss: 0.080091879  Training Acc: 0.994140625 Testing Acc: 0.983255744\n",
            "Epoch: 367 Training Loss: 0.039208699 Testing Loss: 0.091969475  Training Acc: 0.992578149 Testing Acc: 0.981355250\n",
            "Epoch: 368 Training Loss: 0.040107321 Testing Loss: 0.084560268  Training Acc: 0.990332067 Testing Acc: 0.982812464\n",
            "Epoch: 369 Training Loss: 0.024531418 Testing Loss: 0.070703901  Training Acc: 0.992675781 Testing Acc: 0.984840393\n",
            "Epoch: 370 Training Loss: 0.050660837 Testing Loss: 0.076437898  Training Acc: 0.990917981 Testing Acc: 0.983931661\n",
            "Epoch: 371 Training Loss: 0.038541723 Testing Loss: 0.079641491  Training Acc: 0.989062488 Testing Acc: 0.982391417\n",
            "Epoch: 372 Training Loss: 0.028569220 Testing Loss: 0.091806605  Training Acc: 0.991894543 Testing Acc: 0.979643106\n",
            "Epoch: 373 Training Loss: 0.023773773 Testing Loss: 0.078051887  Training Acc: 0.993261755 Testing Acc: 0.982574224\n",
            "Epoch: 374 Training Loss: 0.022252770 Testing Loss: 0.067999095  Training Acc: 0.993164062 Testing Acc: 0.984524548\n",
            "Epoch: 375 Training Loss: 0.039393201 Testing Loss: 0.074417956  Training Acc: 0.989453137 Testing Acc: 0.983848572\n",
            "Epoch: 376 Training Loss: 0.058086395 Testing Loss: 0.091435865  Training Acc: 0.985644519 Testing Acc: 0.979776084\n",
            "Epoch: 377 Training Loss: 0.035031561 Testing Loss: 0.102424294  Training Acc: 0.990820348 Testing Acc: 0.978008628\n",
            "Epoch: 378 Training Loss: 0.026784128 Testing Loss: 0.083826326  Training Acc: 0.991406262 Testing Acc: 0.981416166\n",
            "Epoch: 379 Training Loss: 0.018521896 Testing Loss: 0.076991908  Training Acc: 0.994433582 Testing Acc: 0.983133793\n",
            "Epoch: 380 Training Loss: 0.018438181 Testing Loss: 0.074348390  Training Acc: 0.994726598 Testing Acc: 0.984158874\n",
            "Epoch: 381 Training Loss: 0.024563173 Testing Loss: 0.076871529  Training Acc: 0.993359387 Testing Acc: 0.983759940\n",
            "Epoch: 382 Training Loss: 0.019558113 Testing Loss: 0.075507514  Training Acc: 0.994726598 Testing Acc: 0.983798683\n",
            "Epoch: 383 Training Loss: 0.022742542 Testing Loss: 0.074354753  Training Acc: 0.993652344 Testing Acc: 0.984214246\n",
            "Epoch: 384 Training Loss: 0.039325368 Testing Loss: 0.078075320  Training Acc: 0.993457019 Testing Acc: 0.983632505\n",
            "Epoch: 385 Training Loss: 0.023315970 Testing Loss: 0.076411441  Training Acc: 0.992968738 Testing Acc: 0.983549356\n",
            "Epoch: 386 Training Loss: 0.023971260 Testing Loss: 0.085074477  Training Acc: 0.992480457 Testing Acc: 0.982197464\n",
            "Epoch: 387 Training Loss: 0.024640711 Testing Loss: 0.078195959  Training Acc: 0.993554711 Testing Acc: 0.982596397\n",
            "Epoch: 388 Training Loss: 0.021704642 Testing Loss: 0.075261220  Training Acc: 0.994726598 Testing Acc: 0.983045161\n",
            "Epoch: 389 Training Loss: 0.016378097 Testing Loss: 0.072696805  Training Acc: 0.995703161 Testing Acc: 0.983870804\n",
            "Epoch: 390 Training Loss: 0.018059637 Testing Loss: 0.077495977  Training Acc: 0.995312512 Testing Acc: 0.982984185\n",
            "Epoch: 391 Training Loss: 0.035315860 Testing Loss: 0.076382287  Training Acc: 0.991113305 Testing Acc: 0.983987153\n",
            "Epoch: 392 Training Loss: 0.039930705 Testing Loss: 0.074213691  Training Acc: 0.988476574 Testing Acc: 0.983322263\n",
            "Epoch: 393 Training Loss: 0.023606490 Testing Loss: 0.078070290  Training Acc: 0.994042993 Testing Acc: 0.981992483\n",
            "Epoch: 394 Training Loss: 0.023523850 Testing Loss: 0.077102065  Training Acc: 0.993261755 Testing Acc: 0.983200312\n",
            "Epoch: 395 Training Loss: 0.027533382 Testing Loss: 0.074961558  Training Acc: 0.992187500 Testing Acc: 0.983233571\n",
            "Epoch: 396 Training Loss: 0.020188127 Testing Loss: 0.080670491  Training Acc: 0.993945301 Testing Acc: 0.982053339\n",
            "Epoch: 397 Training Loss: 0.027969709 Testing Loss: 0.078875102  Training Acc: 0.993750036 Testing Acc: 0.982718229\n",
            "Epoch: 398 Training Loss: 0.029156670 Testing Loss: 0.071573436  Training Acc: 0.993164062 Testing Acc: 0.983942807\n",
            "Epoch: 399 Training Loss: 0.022096803 Testing Loss: 0.074731521  Training Acc: 0.993457019 Testing Acc: 0.983726680\n",
            "Epoch: 400 Training Loss: 0.037187234 Testing Loss: 0.073624797  Training Acc: 0.992578149 Testing Acc: 0.984048069\n",
            "Epoch: 401 Training Loss: 0.023426883 Testing Loss: 0.076818876  Training Acc: 0.991308630 Testing Acc: 0.982097685\n",
            "Epoch: 402 Training Loss: 0.018619062 Testing Loss: 0.070837304  Training Acc: 0.995214880 Testing Acc: 0.984236479\n",
            "Epoch: 403 Training Loss: 0.019208718 Testing Loss: 0.068805687  Training Acc: 0.993750036 Testing Acc: 0.984413743\n",
            "Epoch: 404 Training Loss: 0.016182052 Testing Loss: 0.074982136  Training Acc: 0.995214880 Testing Acc: 0.983898461\n",
            "Epoch: 405 Training Loss: 0.020772444 Testing Loss: 0.073505297  Training Acc: 0.993554711 Testing Acc: 0.984181046\n",
            "Epoch: 406 Training Loss: 0.019137140 Testing Loss: 0.078601897  Training Acc: 0.994531274 Testing Acc: 0.982906699\n",
            "Epoch: 407 Training Loss: 0.039700389 Testing Loss: 0.080500312  Training Acc: 0.994140625 Testing Acc: 0.982585251\n",
            "Epoch: 408 Training Loss: 0.024163738 Testing Loss: 0.082189105  Training Acc: 0.992773473 Testing Acc: 0.982468903\n",
            "Epoch: 409 Training Loss: 0.016062625 Testing Loss: 0.076522894  Training Acc: 0.995605469 Testing Acc: 0.983809829\n",
            "Epoch: 410 Training Loss: 0.049105272 Testing Loss: 0.081272870  Training Acc: 0.991796911 Testing Acc: 0.983289003\n",
            "Epoch: 411 Training Loss: 0.036771137 Testing Loss: 0.086048521  Training Acc: 0.989941418 Testing Acc: 0.981200099\n",
            "Epoch: 412 Training Loss: 0.035739023 Testing Loss: 0.080864549  Training Acc: 0.990039051 Testing Acc: 0.982036710\n",
            "Epoch: 413 Training Loss: 0.024147306 Testing Loss: 0.076076627  Training Acc: 0.993261755 Testing Acc: 0.983050704\n",
            "Epoch: 414 Training Loss: 0.032325208 Testing Loss: 0.071554780  Training Acc: 0.991796911 Testing Acc: 0.984330595\n",
            "Epoch: 415 Training Loss: 0.022989647 Testing Loss: 0.072280072  Training Acc: 0.992578149 Testing Acc: 0.983416378\n",
            "Epoch: 416 Training Loss: 0.019620214 Testing Loss: 0.066691518  Training Acc: 0.995019555 Testing Acc: 0.985610545\n",
            "Epoch: 417 Training Loss: 0.018901967 Testing Loss: 0.071265921  Training Acc: 0.994726598 Testing Acc: 0.984712958\n",
            "Epoch: 418 Training Loss: 0.016217886 Testing Loss: 0.071282297  Training Acc: 0.995410144 Testing Acc: 0.984557807\n",
            "Epoch: 419 Training Loss: 0.015872648 Testing Loss: 0.072734758  Training Acc: 0.995605469 Testing Acc: 0.984618783\n",
            "Epoch: 420 Training Loss: 0.013966574 Testing Loss: 0.072562560  Training Acc: 0.995800793 Testing Acc: 0.984978914\n",
            "Epoch: 421 Training Loss: 0.013364928 Testing Loss: 0.073400162  Training Acc: 0.996386707 Testing Acc: 0.984829307\n",
            "Epoch: 422 Training Loss: 0.024355950 Testing Loss: 0.078534588  Training Acc: 0.995117188 Testing Acc: 0.984064639\n",
            "Epoch: 423 Training Loss: 0.023241993 Testing Loss: 0.073612988  Training Acc: 0.993847668 Testing Acc: 0.984208763\n",
            "Epoch: 424 Training Loss: 0.019028191 Testing Loss: 0.072254665  Training Acc: 0.994824231 Testing Acc: 0.985244870\n",
            "Epoch: 425 Training Loss: 0.016128382 Testing Loss: 0.076477863  Training Acc: 0.995214880 Testing Acc: 0.984740674\n",
            "Epoch: 426 Training Loss: 0.015410493 Testing Loss: 0.075223848  Training Acc: 0.994140625 Testing Acc: 0.984729528\n",
            "Epoch: 427 Training Loss: 0.016619353 Testing Loss: 0.066154331  Training Acc: 0.994921863 Testing Acc: 0.986635625\n",
            "Epoch: 428 Training Loss: 0.048702847 Testing Loss: 0.067811273  Training Acc: 0.992480457 Testing Acc: 0.986402869\n",
            "Epoch: 429 Training Loss: 0.047806062 Testing Loss: 0.085138142  Training Acc: 0.987695336 Testing Acc: 0.982973158\n",
            "Epoch: 430 Training Loss: 0.034520324 Testing Loss: 0.080168359  Training Acc: 0.989160180 Testing Acc: 0.982308269\n",
            "Epoch: 431 Training Loss: 0.026955327 Testing Loss: 0.083515652  Training Acc: 0.992285192 Testing Acc: 0.982363641\n",
            "Epoch: 432 Training Loss: 0.018457854 Testing Loss: 0.071212418  Training Acc: 0.995117188 Testing Acc: 0.984696329\n",
            "Epoch: 433 Training Loss: 0.015419506 Testing Loss: 0.079286009  Training Acc: 0.994531274 Testing Acc: 0.983915091\n",
            "Epoch: 434 Training Loss: 0.016664622 Testing Loss: 0.078941561  Training Acc: 0.994921863 Testing Acc: 0.983333290\n",
            "Epoch: 435 Training Loss: 0.019097503 Testing Loss: 0.072816633  Training Acc: 0.995312512 Testing Acc: 0.984402716\n",
            "Epoch: 436 Training Loss: 0.029375320 Testing Loss: 0.070645072  Training Acc: 0.993359387 Testing Acc: 0.985183954\n",
            "Epoch: 437 Training Loss: 0.052377142 Testing Loss: 0.078606099  Training Acc: 0.992285192 Testing Acc: 0.984153330\n",
            "Epoch: 438 Training Loss: 0.027173353 Testing Loss: 0.077592254  Training Acc: 0.993750036 Testing Acc: 0.983211398\n",
            "Epoch: 439 Training Loss: 0.018259173 Testing Loss: 0.081146710  Training Acc: 0.994433582 Testing Acc: 0.982064486\n",
            "Epoch: 440 Training Loss: 0.018511217 Testing Loss: 0.069960147  Training Acc: 0.995117188 Testing Acc: 0.984990001\n",
            "Epoch: 441 Training Loss: 0.015919285 Testing Loss: 0.071967393  Training Acc: 0.995898426 Testing Acc: 0.984480202\n",
            "Epoch: 442 Training Loss: 0.027479649 Testing Loss: 0.075004205  Training Acc: 0.994335949 Testing Acc: 0.984363854\n",
            "Epoch: 443 Training Loss: 0.030577784 Testing Loss: 0.081977017  Training Acc: 0.994042993 Testing Acc: 0.982180834\n",
            "Epoch: 444 Training Loss: 0.054656576 Testing Loss: 0.080053963  Training Acc: 0.989453137 Testing Acc: 0.983200312\n",
            "Epoch: 445 Training Loss: 0.025972817 Testing Loss: 0.080131121  Training Acc: 0.991210938 Testing Acc: 0.982912183\n",
            "Epoch: 446 Training Loss: 0.026070565 Testing Loss: 0.078580506  Training Acc: 0.991796911 Testing Acc: 0.983161509\n",
            "Epoch: 447 Training Loss: 0.017773274 Testing Loss: 0.076362438  Training Acc: 0.994335949 Testing Acc: 0.983793199\n",
            "Epoch: 448 Training Loss: 0.017791674 Testing Loss: 0.078779683  Training Acc: 0.994824231 Testing Acc: 0.982950985\n",
            "Epoch: 449 Training Loss: 0.018600313 Testing Loss: 0.071997285  Training Acc: 0.995605469 Testing Acc: 0.984258592\n",
            "Epoch: 450 Training Loss: 0.014215425 Testing Loss: 0.073856436  Training Acc: 0.995410144 Testing Acc: 0.984009266\n",
            "Epoch: 451 Training Loss: 0.016393190 Testing Loss: 0.084461868  Training Acc: 0.995117188 Testing Acc: 0.982491136\n",
            "Epoch: 452 Training Loss: 0.022276631 Testing Loss: 0.077271059  Training Acc: 0.993652344 Testing Acc: 0.983233571\n",
            "Epoch: 453 Training Loss: 0.031821169 Testing Loss: 0.081094787  Training Acc: 0.992382824 Testing Acc: 0.982812464\n",
            "Epoch: 454 Training Loss: 0.039171655 Testing Loss: 0.087471575  Training Acc: 0.992187500 Testing Acc: 0.981438339\n",
            "Epoch: 455 Training Loss: 0.016858183 Testing Loss: 0.069221437  Training Acc: 0.995019555 Testing Acc: 0.984624326\n",
            "Epoch: 456 Training Loss: 0.017379377 Testing Loss: 0.066667885  Training Acc: 0.995898426 Testing Acc: 0.985411048\n",
            "Epoch: 457 Training Loss: 0.015112437 Testing Loss: 0.074960999  Training Acc: 0.994921863 Testing Acc: 0.983687937\n",
            "Epoch: 458 Training Loss: 0.011750324 Testing Loss: 0.073730245  Training Acc: 0.995898426 Testing Acc: 0.984363854\n",
            "Epoch: 459 Training Loss: 0.011254983 Testing Loss: 0.074502595  Training Acc: 0.996679723 Testing Acc: 0.984707415\n",
            "Epoch: 460 Training Loss: 0.022830447 Testing Loss: 0.077469565  Training Acc: 0.994433582 Testing Acc: 0.983809829\n",
            "Epoch: 461 Training Loss: 0.020779254 Testing Loss: 0.074137814  Training Acc: 0.992382824 Testing Acc: 0.983449638\n",
            "Epoch: 462 Training Loss: 0.019707086 Testing Loss: 0.072360560  Training Acc: 0.993847668 Testing Acc: 0.984314024\n",
            "Epoch: 463 Training Loss: 0.019596657 Testing Loss: 0.077556439  Training Acc: 0.995507836 Testing Acc: 0.983516097\n",
            "Epoch: 464 Training Loss: 0.012739501 Testing Loss: 0.077145666  Training Acc: 0.996191442 Testing Acc: 0.983981550\n",
            "Epoch: 465 Training Loss: 0.018797338 Testing Loss: 0.076233476  Training Acc: 0.993457019 Testing Acc: 0.984236479\n",
            "Epoch: 466 Training Loss: 0.016757896 Testing Loss: 0.094437830  Training Acc: 0.994726598 Testing Acc: 0.981056035\n",
            "Epoch: 467 Training Loss: 0.011815068 Testing Loss: 0.079483844  Training Acc: 0.996191442 Testing Acc: 0.983626962\n",
            "Epoch: 468 Training Loss: 0.014541879 Testing Loss: 0.090172946  Training Acc: 0.994238317 Testing Acc: 0.982402444\n",
            "Epoch: 469 Training Loss: 0.018442390 Testing Loss: 0.087293871  Training Acc: 0.995410144 Testing Acc: 0.983167052\n",
            "Epoch: 470 Training Loss: 0.018814614 Testing Loss: 0.079934597  Training Acc: 0.991699219 Testing Acc: 0.984602153\n",
            "Epoch: 471 Training Loss: 0.023338092 Testing Loss: 0.100265183  Training Acc: 0.993652344 Testing Acc: 0.981493771\n",
            "Epoch: 472 Training Loss: 0.019887244 Testing Loss: 0.078797340  Training Acc: 0.994238317 Testing Acc: 0.985139608\n",
            "Epoch: 473 Training Loss: 0.014695856 Testing Loss: 0.087266348  Training Acc: 0.994921863 Testing Acc: 0.983322263\n",
            "Epoch: 474 Training Loss: 0.018441150 Testing Loss: 0.094488196  Training Acc: 0.994824231 Testing Acc: 0.981621206\n",
            "Epoch: 475 Training Loss: 0.015820485 Testing Loss: 0.087781571  Training Acc: 0.995410144 Testing Acc: 0.982895553\n",
            "Epoch: 476 Training Loss: 0.019117175 Testing Loss: 0.090083636  Training Acc: 0.994726598 Testing Acc: 0.982701659\n",
            "Epoch: 477 Training Loss: 0.015034573 Testing Loss: 0.094263621  Training Acc: 0.995312512 Testing Acc: 0.982269466\n",
            "Epoch: 478 Training Loss: 0.024943028 Testing Loss: 0.088752083  Training Acc: 0.993554711 Testing Acc: 0.983050704\n",
            "Epoch: 479 Training Loss: 0.016978731 Testing Loss: 0.100452997  Training Acc: 0.995703161 Testing Acc: 0.980900884\n",
            "Epoch: 480 Training Loss: 0.013786636 Testing Loss: 0.092869729  Training Acc: 0.996191442 Testing Acc: 0.981732011\n",
            "Epoch: 481 Training Loss: 0.012477674 Testing Loss: 0.092354052  Training Acc: 0.997070312 Testing Acc: 0.981876075\n",
            "Epoch: 482 Training Loss: 0.066962473 Testing Loss: 0.094411753  Training Acc: 0.991796911 Testing Acc: 0.982130945\n",
            "Epoch: 483 Training Loss: 0.025568575 Testing Loss: 0.098965898  Training Acc: 0.993945301 Testing Acc: 0.981283188\n",
            "Epoch: 484 Training Loss: 0.026713196 Testing Loss: 0.092501275  Training Acc: 0.991406262 Testing Acc: 0.981155753\n",
            "Epoch: 485 Training Loss: 0.037943408 Testing Loss: 0.137517095  Training Acc: 0.990332067 Testing Acc: 0.975099683\n",
            "Epoch: 486 Training Loss: 0.033950496 Testing Loss: 0.127753302  Training Acc: 0.989941418 Testing Acc: 0.976961434\n",
            "Epoch: 487 Training Loss: 0.021390410 Testing Loss: 0.103816509  Training Acc: 0.994140625 Testing Acc: 0.980341256\n",
            "Epoch: 488 Training Loss: 0.022421177 Testing Loss: 0.102000795  Training Acc: 0.992871106 Testing Acc: 0.980435491\n",
            "Epoch: 489 Training Loss: 0.018321769 Testing Loss: 0.086772457  Training Acc: 0.992968738 Testing Acc: 0.982729375\n",
            "Epoch: 490 Training Loss: 0.031869624 Testing Loss: 0.098833412  Training Acc: 0.992773473 Testing Acc: 0.981011748\n",
            "Epoch: 491 Training Loss: 0.019980634 Testing Loss: 0.096185833  Training Acc: 0.994140625 Testing Acc: 0.980468690\n",
            "Epoch: 492 Training Loss: 0.020007789 Testing Loss: 0.102233782  Training Acc: 0.994433582 Testing Acc: 0.980258167\n",
            "Epoch: 493 Training Loss: 0.017171625 Testing Loss: 0.090675697  Training Acc: 0.995019555 Testing Acc: 0.982873440\n",
            "Epoch: 494 Training Loss: 0.014319084 Testing Loss: 0.088121787  Training Acc: 0.996289074 Testing Acc: 0.983095050\n",
            "Epoch: 495 Training Loss: 0.009485580 Testing Loss: 0.089710772  Training Acc: 0.997949243 Testing Acc: 0.983377635\n",
            "Epoch: 496 Training Loss: 0.014518673 Testing Loss: 0.085554309  Training Acc: 0.995996118 Testing Acc: 0.984003782\n",
            "Epoch: 497 Training Loss: 0.013910661 Testing Loss: 0.078478366  Training Acc: 0.996777356 Testing Acc: 0.985516369\n",
            "Epoch: 498 Training Loss: 0.025516445 Testing Loss: 0.082010202  Training Acc: 0.992773473 Testing Acc: 0.984563351\n",
            "Epoch: 499 Training Loss: 0.017299233 Testing Loss: 0.088069394  Training Acc: 0.995117188 Testing Acc: 0.982784748\n",
            "Epoch: 500 Training Loss: 0.014546846 Testing Loss: 0.094384983  Training Acc: 0.995898426 Testing Acc: 0.982923329\n",
            "Epoch: 501 Training Loss: 0.016365893 Testing Loss: 0.078118242  Training Acc: 0.995312512 Testing Acc: 0.985156238\n",
            "Epoch: 502 Training Loss: 0.015990941 Testing Loss: 0.087760530  Training Acc: 0.995996118 Testing Acc: 0.983139396\n",
            "Epoch: 503 Training Loss: 0.018121893 Testing Loss: 0.091687322  Training Acc: 0.995214880 Testing Acc: 0.983028531\n",
            "Epoch: 504 Training Loss: 0.017555390 Testing Loss: 0.080312110  Training Acc: 0.993945301 Testing Acc: 0.984624326\n",
            "Epoch: 505 Training Loss: 0.016208118 Testing Loss: 0.085292198  Training Acc: 0.994921863 Testing Acc: 0.983926177\n",
            "Epoch: 506 Training Loss: 0.013499117 Testing Loss: 0.095197819  Training Acc: 0.996582031 Testing Acc: 0.982430160\n",
            "Epoch: 507 Training Loss: 0.010491603 Testing Loss: 0.081098363  Training Acc: 0.996191442 Testing Acc: 0.984945655\n",
            "Epoch: 508 Training Loss: 0.014856385 Testing Loss: 0.085295133  Training Acc: 0.996191442 Testing Acc: 0.984236479\n",
            "Epoch: 509 Training Loss: 0.013163320 Testing Loss: 0.088729352  Training Acc: 0.996386707 Testing Acc: 0.983150423\n",
            "Epoch: 510 Training Loss: 0.019087479 Testing Loss: 0.096513666  Training Acc: 0.995214880 Testing Acc: 0.981898248\n",
            "Epoch: 511 Training Loss: 0.015299640 Testing Loss: 0.088334680  Training Acc: 0.994824231 Testing Acc: 0.983665705\n",
            "Epoch: 512 Training Loss: 0.012104848 Testing Loss: 0.089634635  Training Acc: 0.996777356 Testing Acc: 0.983538330\n",
            "Epoch: 513 Training Loss: 0.020887727 Testing Loss: 0.084037513  Training Acc: 0.994531274 Testing Acc: 0.984025896\n",
            "Epoch: 514 Training Loss: 0.017091312 Testing Loss: 0.089945458  Training Acc: 0.994824231 Testing Acc: 0.983311117\n",
            "Epoch: 515 Training Loss: 0.012743140 Testing Loss: 0.097179659  Training Acc: 0.995996118 Testing Acc: 0.981560290\n",
            "Epoch: 516 Training Loss: 0.010167123 Testing Loss: 0.099488005  Training Acc: 0.997363269 Testing Acc: 0.981022775\n",
            "Epoch: 517 Training Loss: 0.019548541 Testing Loss: 0.100625567  Training Acc: 0.993652344 Testing Acc: 0.982535422\n",
            "Epoch: 518 Training Loss: 0.018153904 Testing Loss: 0.100007378  Training Acc: 0.994433582 Testing Acc: 0.982086599\n",
            "Epoch: 519 Training Loss: 0.015959000 Testing Loss: 0.109353133  Training Acc: 0.994726598 Testing Acc: 0.980147362\n",
            "Epoch: 520 Training Loss: 0.023996538 Testing Loss: 0.097658582  Training Acc: 0.994140625 Testing Acc: 0.982153118\n",
            "Epoch: 521 Training Loss: 0.018302059 Testing Loss: 0.101173192  Training Acc: 0.995019555 Testing Acc: 0.981283188\n",
            "Epoch: 522 Training Loss: 0.012767710 Testing Loss: 0.104844242  Training Acc: 0.993750036 Testing Acc: 0.980895400\n",
            "Epoch: 523 Training Loss: 0.017572567 Testing Loss: 0.096258193  Training Acc: 0.995312512 Testing Acc: 0.983072937\n",
            "Epoch: 524 Training Loss: 0.012424628 Testing Loss: 0.098671757  Training Acc: 0.996386707 Testing Acc: 0.981355250\n",
            "Epoch: 525 Training Loss: 0.014279768 Testing Loss: 0.106171347  Training Acc: 0.995898426 Testing Acc: 0.980906427\n",
            "Epoch: 526 Training Loss: 0.016230799 Testing Loss: 0.091535628  Training Acc: 0.995703161 Testing Acc: 0.983006418\n",
            "Epoch: 527 Training Loss: 0.018451972 Testing Loss: 0.098200530  Training Acc: 0.995410144 Testing Acc: 0.981056035\n",
            "Epoch: 528 Training Loss: 0.014244779 Testing Loss: 0.102145039  Training Acc: 0.995605469 Testing Acc: 0.981432796\n",
            "Epoch: 529 Training Loss: 0.012416652 Testing Loss: 0.090238445  Training Acc: 0.995507836 Testing Acc: 0.981903732\n",
            "Epoch: 530 Training Loss: 0.053439714 Testing Loss: 0.093935624  Training Acc: 0.994433582 Testing Acc: 0.982978702\n",
            "Epoch: 531 Training Loss: 0.067272648 Testing Loss: 0.118412614  Training Acc: 0.988964856 Testing Acc: 0.977881134\n",
            "Epoch: 532 Training Loss: 0.028609434 Testing Loss: 0.087974109  Training Acc: 0.991113305 Testing Acc: 0.981726527\n",
            "Epoch: 533 Training Loss: 0.023705522 Testing Loss: 0.078453057  Training Acc: 0.993457019 Testing Acc: 0.983582616\n",
            "Epoch: 534 Training Loss: 0.019439980 Testing Loss: 0.083063178  Training Acc: 0.995800793 Testing Acc: 0.983156025\n",
            "Epoch: 535 Training Loss: 0.036440041 Testing Loss: 0.078791097  Training Acc: 0.992773473 Testing Acc: 0.983676851\n",
            "Epoch: 536 Training Loss: 0.022077823 Testing Loss: 0.075510047  Training Acc: 0.992773473 Testing Acc: 0.984618783\n",
            "Epoch: 537 Training Loss: 0.020031352 Testing Loss: 0.081662185  Training Acc: 0.994433582 Testing Acc: 0.983466268\n",
            "Epoch: 538 Training Loss: 0.020374907 Testing Loss: 0.082510062  Training Acc: 0.995019555 Testing Acc: 0.983726680\n",
            "Epoch: 539 Training Loss: 0.018963827 Testing Loss: 0.090375938  Training Acc: 0.993652344 Testing Acc: 0.981975853\n",
            "Epoch: 540 Training Loss: 0.020601708 Testing Loss: 0.069950245  Training Acc: 0.994628906 Testing Acc: 0.985638261\n",
            "Epoch: 541 Training Loss: 0.021255506 Testing Loss: 0.075125352  Training Acc: 0.993066430 Testing Acc: 0.985089719\n",
            "Epoch: 542 Training Loss: 0.015396925 Testing Loss: 0.078877516  Training Acc: 0.995117188 Testing Acc: 0.983809829\n",
            "Epoch: 543 Training Loss: 0.013391000 Testing Loss: 0.073664308  Training Acc: 0.996289074 Testing Acc: 0.985206068\n",
            "Epoch: 544 Training Loss: 0.015919391 Testing Loss: 0.077636592  Training Acc: 0.996093750 Testing Acc: 0.984435916\n",
            "Epoch: 545 Training Loss: 0.015161671 Testing Loss: 0.081269771  Training Acc: 0.994824231 Testing Acc: 0.983948290\n",
            "Epoch: 546 Training Loss: 0.021965893 Testing Loss: 0.094372563  Training Acc: 0.993457019 Testing Acc: 0.982895553\n",
            "Epoch: 547 Training Loss: 0.016543873 Testing Loss: 0.093085676  Training Acc: 0.995214880 Testing Acc: 0.982734859\n",
            "Epoch: 548 Training Loss: 0.010931312 Testing Loss: 0.096009724  Training Acc: 0.996972680 Testing Acc: 0.981826246\n",
            "Epoch: 549 Training Loss: 0.023645848 Testing Loss: 0.084459491  Training Acc: 0.994628906 Testing Acc: 0.983676851\n",
            "Epoch: 550 Training Loss: 0.019039856 Testing Loss: 0.100443862  Training Acc: 0.994824231 Testing Acc: 0.981249988\n",
            "Epoch: 551 Training Loss: 0.019312577 Testing Loss: 0.087500870  Training Acc: 0.994824231 Testing Acc: 0.983111680\n",
            "Epoch: 552 Training Loss: 0.009843425 Testing Loss: 0.086190380  Training Acc: 0.997363269 Testing Acc: 0.983072937\n",
            "Epoch: 553 Training Loss: 0.022549393 Testing Loss: 0.090173952  Training Acc: 0.993945301 Testing Acc: 0.982928813\n",
            "Epoch: 554 Training Loss: 0.015515891 Testing Loss: 0.092513226  Training Acc: 0.995117188 Testing Acc: 0.981161356\n",
            "Epoch: 555 Training Loss: 0.012859927 Testing Loss: 0.083934173  Training Acc: 0.996582031 Testing Acc: 0.983843029\n",
            "Epoch: 556 Training Loss: 0.013767311 Testing Loss: 0.087037437  Training Acc: 0.996679723 Testing Acc: 0.982236207\n",
            "Epoch: 557 Training Loss: 0.017482946 Testing Loss: 0.087039836  Training Acc: 0.995312512 Testing Acc: 0.983272374\n",
            "Epoch: 558 Training Loss: 0.015664343 Testing Loss: 0.069748931  Training Acc: 0.994824231 Testing Acc: 0.986314237\n",
            "Epoch: 559 Training Loss: 0.012560292 Testing Loss: 0.072813623  Training Acc: 0.996289074 Testing Acc: 0.985920846\n",
            "Epoch: 560 Training Loss: 0.013749960 Testing Loss: 0.087197646  Training Acc: 0.995898426 Testing Acc: 0.983089507\n",
            "Epoch: 561 Training Loss: 0.018985581 Testing Loss: 0.085023805  Training Acc: 0.994042993 Testing Acc: 0.983665705\n",
            "Epoch: 562 Training Loss: 0.024307190 Testing Loss: 0.095169976  Training Acc: 0.993164062 Testing Acc: 0.981283188\n",
            "Epoch: 563 Training Loss: 0.029146066 Testing Loss: 0.091038615  Training Acc: 0.992382824 Testing Acc: 0.982679486\n",
            "Epoch: 564 Training Loss: 0.013547184 Testing Loss: 0.085138641  Training Acc: 0.995312512 Testing Acc: 0.983172655\n",
            "Epoch: 565 Training Loss: 0.015311228 Testing Loss: 0.085296929  Training Acc: 0.996093750 Testing Acc: 0.983305633\n",
            "Epoch: 566 Training Loss: 0.054307170 Testing Loss: 0.077115573  Training Acc: 0.993847668 Testing Acc: 0.985117435\n",
            "Epoch: 567 Training Loss: 0.033356298 Testing Loss: 0.104919560  Training Acc: 0.991113305 Testing Acc: 0.980679274\n",
            "Epoch: 568 Training Loss: 0.027717495 Testing Loss: 0.081388682  Training Acc: 0.992480457 Testing Acc: 0.983915091\n",
            "Epoch: 569 Training Loss: 0.030504627 Testing Loss: 0.102214105  Training Acc: 0.991503894 Testing Acc: 0.979825974\n",
            "Epoch: 570 Training Loss: 0.030004973 Testing Loss: 0.101357453  Training Acc: 0.991308630 Testing Acc: 0.979798317\n",
            "Epoch: 571 Training Loss: 0.018728161 Testing Loss: 0.084518090  Training Acc: 0.994628906 Testing Acc: 0.983421981\n",
            "Epoch: 572 Training Loss: 0.017239952 Testing Loss: 0.086595967  Training Acc: 0.994921863 Testing Acc: 0.983289003\n",
            "Epoch: 573 Training Loss: 0.012711199 Testing Loss: 0.081901141  Training Acc: 0.996484399 Testing Acc: 0.984374940\n",
            "Epoch: 574 Training Loss: 0.027556991 Testing Loss: 0.080429830  Training Acc: 0.992578149 Testing Acc: 0.984136760\n",
            "Epoch: 575 Training Loss: 0.019052165 Testing Loss: 0.080619313  Training Acc: 0.993945301 Testing Acc: 0.984158874\n",
            "Epoch: 576 Training Loss: 0.013971547 Testing Loss: 0.081652731  Training Acc: 0.996289074 Testing Acc: 0.984308481\n",
            "Epoch: 577 Training Loss: 0.011970894 Testing Loss: 0.082231268  Training Acc: 0.996484399 Testing Acc: 0.983931661\n",
            "Epoch: 578 Training Loss: 0.014196360 Testing Loss: 0.090206735  Training Acc: 0.995507836 Testing Acc: 0.982568681\n",
            "Epoch: 579 Training Loss: 0.014121452 Testing Loss: 0.087964848  Training Acc: 0.996582031 Testing Acc: 0.983460724\n",
            "Epoch: 580 Training Loss: 0.013909141 Testing Loss: 0.083143391  Training Acc: 0.995996118 Testing Acc: 0.983643591\n",
            "Epoch: 581 Training Loss: 0.012350473 Testing Loss: 0.090728842  Training Acc: 0.996679723 Testing Acc: 0.983050704\n",
            "Epoch: 582 Training Loss: 0.011915214 Testing Loss: 0.082636930  Training Acc: 0.996679723 Testing Acc: 0.984258592\n",
            "Epoch: 583 Training Loss: 0.013008093 Testing Loss: 0.079996802  Training Acc: 0.996386707 Testing Acc: 0.984690785\n",
            "Epoch: 584 Training Loss: 0.009037918 Testing Loss: 0.087183394  Training Acc: 0.997851551 Testing Acc: 0.983593702\n",
            "Epoch: 585 Training Loss: 0.015431422 Testing Loss: 0.091274269  Training Acc: 0.995703161 Testing Acc: 0.982751489\n",
            "Epoch: 586 Training Loss: 0.009984314 Testing Loss: 0.090101518  Training Acc: 0.997460961 Testing Acc: 0.982995331\n",
            "Epoch: 587 Training Loss: 0.013630211 Testing Loss: 0.083276138  Training Acc: 0.995898426 Testing Acc: 0.984624326\n",
            "Epoch: 588 Training Loss: 0.025201187 Testing Loss: 0.098771974  Training Acc: 0.993554711 Testing Acc: 0.980657101\n",
            "Epoch: 589 Training Loss: 0.025465673 Testing Loss: 0.093104795  Training Acc: 0.992382824 Testing Acc: 0.982851207\n",
            "Epoch: 590 Training Loss: 0.024367873 Testing Loss: 0.092843786  Training Acc: 0.993750036 Testing Acc: 0.982385814\n",
            "Epoch: 591 Training Loss: 0.015895410 Testing Loss: 0.094315693  Training Acc: 0.994921863 Testing Acc: 0.982535422\n",
            "Epoch: 592 Training Loss: 0.015920207 Testing Loss: 0.095403746  Training Acc: 0.995605469 Testing Acc: 0.981410682\n",
            "Epoch: 593 Training Loss: 0.017130271 Testing Loss: 0.105996557  Training Acc: 0.994726598 Testing Acc: 0.980651557\n",
            "Epoch: 594 Training Loss: 0.008815793 Testing Loss: 0.083106175  Training Acc: 0.997558594 Testing Acc: 0.984031439\n",
            "Epoch: 595 Training Loss: 0.015514872 Testing Loss: 0.083310671  Training Acc: 0.993554711 Testing Acc: 0.984108984\n",
            "Epoch: 596 Training Loss: 0.016291751 Testing Loss: 0.091258466  Training Acc: 0.994921863 Testing Acc: 0.983261287\n",
            "Epoch: 597 Training Loss: 0.012635049 Testing Loss: 0.090632074  Training Acc: 0.996874988 Testing Acc: 0.983349919\n",
            "Epoch: 598 Training Loss: 0.018026233 Testing Loss: 0.082438543  Training Acc: 0.995019555 Testing Acc: 0.984563351\n",
            "Epoch: 599 Training Loss: 0.011940539 Testing Loss: 0.095051125  Training Acc: 0.995898426 Testing Acc: 0.982635140\n",
            "Epoch: 600 Training Loss: 0.014605284 Testing Loss: 0.087902807  Training Acc: 0.996191442 Testing Acc: 0.983676851\n"
          ],
          "name": "stdout"
        }
      ]
    },
    {
      "cell_type": "code",
      "metadata": {
        "id": "vzn6YyGw9ULY",
        "colab": {
          "base_uri": "https://localhost:8080/",
          "height": 592
        },
        "outputId": "a0408115-e795-4bc9-fb11-dd19b1e49bb2"
      },
      "source": [
        "plt.figure(figsize = (10,10))\n",
        "plt.plot(L_train, linewidth = 2, c='b', label = \"train\")\n",
        "plt.plot(L_test, linewidth = 2, c='r', label = \"test\")\n",
        "plt.legend()\n",
        "plt.show()"
      ],
      "execution_count": 22,
      "outputs": [
        {
          "output_type": "display_data",
          "data": {
            "image/png": "[encoded data removed]",
            "text/plain": [
              "<Figure size 720x720 with 1 Axes>"
            ]
          },
          "metadata": {
            "tags": [],
            "needs_background": "light"
          }
        }
      ]
    },
    {
      "cell_type": "code",
      "metadata": {
        "id": "Rl1MuQhtqsg2",
        "colab": {
          "base_uri": "https://localhost:8080/",
          "height": 592
        },
        "outputId": "171038c0-0cd5-437a-bc60-9b3124b515b2"
      },
      "source": [
        "plt.figure(figsize = (10,10))\n",
        "plt.plot(A_train, linewidth = 2, c='b', label = \"train\")\n",
        "plt.plot(A_test, linewidth = 2, c='r', label = \"test\")\n",
        "plt.legend()\n",
        "plt.show()"
      ],
      "execution_count": 23,
      "outputs": [
        {
          "output_type": "display_data",
          "data": {
            "image/png": "[encoded data removed]",
            "text/plain": [
              "<Figure size 720x720 with 1 Axes>"
            ]
          },
          "metadata": {
            "tags": [],
            "needs_background": "light"
          }
        }
      ]
    },
    {
      "cell_type": "code",
      "metadata": {
        "id": "4990rRublMpD",
        "colab": {
          "base_uri": "https://localhost:8080/"
        },
        "outputId": "03353c20-abc8-49be-dbc9-13d2af80fc1a"
      },
      "source": [
        "print(\"training loss    %.2f\" %(L_train[-1]))\n",
        "print(\"testing loss     %.2f\" %(L_test[-1]))\n",
        "print(\"training acc    %.2f\" %(A_train[-1]))\n",
        "print(\"testing acc     %.2f\" %(A_test[-1]))"
      ],
      "execution_count": 24,
      "outputs": [
        {
          "output_type": "stream",
          "text": [
            "training loss    0.01\n",
            "testing loss     0.09\n",
            "training acc    1.00\n",
            "testing acc     0.98\n"
          ],
          "name": "stdout"
        }
      ]
    },
    {
      "cell_type": "markdown",
      "metadata": {
        "id": "z4L9RrzOz5xl"
      },
      "source": [
        "# 5. Output\n",
        "<hr>"
      ]
    },
    {
      "cell_type": "markdown",
      "metadata": {
        "id": "alN6-n0r0DTO"
      },
      "source": [
        "## 1. Plot the training and testing losses over epochs"
      ]
    },
    {
      "cell_type": "code",
      "metadata": {
        "id": "d8WFmmL4Shvy",
        "colab": {
          "base_uri": "https://localhost:8080/",
          "height": 592
        },
        "outputId": "1a967e34-4997-4693-ac93-b14b0c9d469b"
      },
      "source": [
        "plt.figure(figsize = (10,10))\n",
        "plt.plot(L_train, linewidth = 2, c='b', label = \"train\")\n",
        "plt.plot(L_test, linewidth = 2, c='r', label = \"test\")\n",
        "plt.legend()\n",
        "plt.show()"
      ],
      "execution_count": 25,
      "outputs": [
        {
          "output_type": "display_data",
          "data": {
            "image/png": "[encoded data removed]",
            "text/plain": [
              "<Figure size 720x720 with 1 Axes>"
            ]
          },
          "metadata": {
            "tags": [],
            "needs_background": "light"
          }
        }
      ]
    },
    {
      "cell_type": "markdown",
      "metadata": {
        "id": "4t1dSyC1AVe0"
      },
      "source": [
        "## 2. Plot the training and testing accuracies over epochs"
      ]
    },
    {
      "cell_type": "code",
      "metadata": {
        "id": "xUlVVIpISjl6",
        "colab": {
          "base_uri": "https://localhost:8080/",
          "height": 592
        },
        "outputId": "fcff58b5-c4b1-4409-c585-76ad940a1cd7"
      },
      "source": [
        "plt.figure(figsize = (10,10))\n",
        "plt.plot(A_train, linewidth = 2, c='b', label = \"train\")\n",
        "plt.plot(A_test, linewidth = 2, c='r', label = \"test\")\n",
        "plt.legend()\n",
        "plt.show()"
      ],
      "execution_count": 26,
      "outputs": [
        {
          "output_type": "display_data",
          "data": {
            "image/png": "[encoded data removed]",
            "text/plain": [
              "<Figure size 720x720 with 1 Axes>"
            ]
          },
          "metadata": {
            "tags": [],
            "needs_background": "light"
          }
        }
      ]
    },
    {
      "cell_type": "markdown",
      "metadata": {
        "id": "px7XRkcnAnc7"
      },
      "source": [
        "## 3.  Print the final training and testing losses at convergence "
      ]
    },
    {
      "cell_type": "code",
      "metadata": {
        "id": "RrvuQ_SCSlJ_",
        "colab": {
          "base_uri": "https://localhost:8080/"
        },
        "outputId": "00a2b69b-8edc-479d-faa1-7faab1e4c355"
      },
      "source": [
        "print(\"loss\")\n",
        "print(\"train    %.2f\" %(L_train[-1]))\n",
        "print(\"test     %.2f\" %(L_test[-1]))"
      ],
      "execution_count": 27,
      "outputs": [
        {
          "output_type": "stream",
          "text": [
            "loss\n",
            "train    0.01\n",
            "test     0.09\n"
          ],
          "name": "stdout"
        }
      ]
    },
    {
      "cell_type": "markdown",
      "metadata": {
        "id": "gW87VTpwAtMB"
      },
      "source": [
        "## 4. Print the final training and testing accuracies at convergence"
      ]
    },
    {
      "cell_type": "code",
      "metadata": {
        "id": "mpgCDaBpCWT_",
        "colab": {
          "base_uri": "https://localhost:8080/"
        },
        "outputId": "bdfef2cf-2a10-4f73-e706-739f57994215"
      },
      "source": [
        "print(\"Accuracy\")\n",
        "print(\"train    %.5f, %.2f\" %(A_train[-1], A_train[-1]))\n",
        "print(\"test     %.5f, %.2f\" %(A_test[-1], A_test[-1]))"
      ],
      "execution_count": 28,
      "outputs": [
        {
          "output_type": "stream",
          "text": [
            "Accuracy\n",
            "train    0.99619, 1.00\n",
            "test     0.98368, 0.98\n"
          ],
          "name": "stdout"
        }
      ]
    },
    {
      "cell_type": "markdown",
      "metadata": {
        "id": "fzDvqXa7hEem"
      },
      "source": [
        "## 5. Print the testing accuracies within the last 10 epochs"
      ]
    },
    {
      "cell_type": "code",
      "metadata": {
        "id": "vu8Vw6cwassu",
        "colab": {
          "base_uri": "https://localhost:8080/"
        },
        "outputId": "dcde1a46-0c59-49cd-c551-ea03255472af"
      },
      "source": [
        "for i in range(-10, 0):\n",
        "  print(f\"Epoch = {len(A_test) + i + 1} Acc: %.5f\" %(A_test[i]))\n"
      ],
      "execution_count": 29,
      "outputs": [
        {
          "output_type": "stream",
          "text": [
            "Epoch = 591 Acc: 0.98254\n",
            "Epoch = 592 Acc: 0.98141\n",
            "Epoch = 593 Acc: 0.98065\n",
            "Epoch = 594 Acc: 0.98403\n",
            "Epoch = 595 Acc: 0.98411\n",
            "Epoch = 596 Acc: 0.98326\n",
            "Epoch = 597 Acc: 0.98335\n",
            "Epoch = 598 Acc: 0.98456\n",
            "Epoch = 599 Acc: 0.98264\n",
            "Epoch = 600 Acc: 0.98368\n"
          ],
          "name": "stdout"
        }
      ]
    },
    {
      "cell_type": "code",
      "metadata": {
        "id": "hTsLh1xUhUXY"
      },
      "source": [
        ""
      ],
      "execution_count": null,
      "outputs": []
    }
  ]
}