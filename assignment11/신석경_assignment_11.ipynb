{
  "nbformat": 4,
  "nbformat_minor": 0,
  "metadata": {
    "accelerator": "GPU",
    "colab": {
      "name": "신석경_assignment_11",
      "provenance": [],
      "collapsed_sections": [],
      "authorship_tag": "ABX9TyN6yDMMMNF/IEsKcqbTyPWs",
      "include_colab_link": true
    },
    "kernelspec": {
      "display_name": "Python 3",
      "name": "python3"
    },
    "widgets": {
      "application/vnd.jupyter.widget-state+json": {
        "ef11b544a8ba46b58c095815c03e666e": {
          "model_module": "@jupyter-widgets/controls",
          "model_name": "HBoxModel",
          "state": {
            "_view_name": "HBoxView",
            "_dom_classes": [],
            "_model_name": "HBoxModel",
            "_view_module": "@jupyter-widgets/controls",
            "_model_module_version": "1.5.0",
            "_view_count": null,
            "_view_module_version": "1.5.0",
            "box_style": "",
            "layout": "IPY_MODEL_8df72f7a61454acd96e774c6851387d3",
            "_model_module": "@jupyter-widgets/controls",
            "children": [
              "IPY_MODEL_6376ef5325e244ecb265b4d6664a11d7",
              "IPY_MODEL_3768a87365904e06bf35f299d33e4b12"
            ]
          }
        },
        "8df72f7a61454acd96e774c6851387d3": {
          "model_module": "@jupyter-widgets/base",
          "model_name": "LayoutModel",
          "state": {
            "_view_name": "LayoutView",
            "grid_template_rows": null,
            "right": null,
            "justify_content": null,
            "_view_module": "@jupyter-widgets/base",
            "overflow": null,
            "_model_module_version": "1.2.0",
            "_view_count": null,
            "flex_flow": null,
            "width": null,
            "min_width": null,
            "border": null,
            "align_items": null,
            "bottom": null,
            "_model_module": "@jupyter-widgets/base",
            "top": null,
            "grid_column": null,
            "overflow_y": null,
            "overflow_x": null,
            "grid_auto_flow": null,
            "grid_area": null,
            "grid_template_columns": null,
            "flex": null,
            "_model_name": "LayoutModel",
            "justify_items": null,
            "grid_row": null,
            "max_height": null,
            "align_content": null,
            "visibility": null,
            "align_self": null,
            "height": null,
            "min_height": null,
            "padding": null,
            "grid_auto_rows": null,
            "grid_gap": null,
            "max_width": null,
            "order": null,
            "_view_module_version": "1.2.0",
            "grid_template_areas": null,
            "object_position": null,
            "object_fit": null,
            "grid_auto_columns": null,
            "margin": null,
            "display": null,
            "left": null
          }
        },
        "6376ef5325e244ecb265b4d6664a11d7": {
          "model_module": "@jupyter-widgets/controls",
          "model_name": "FloatProgressModel",
          "state": {
            "_view_name": "ProgressView",
            "style": "IPY_MODEL_ea9717b359fc45f992bfe661adbaec02",
            "_dom_classes": [],
            "description": "",
            "_model_name": "FloatProgressModel",
            "bar_style": "info",
            "max": 1,
            "_view_module": "@jupyter-widgets/controls",
            "_model_module_version": "1.5.0",
            "value": 1,
            "_view_count": null,
            "_view_module_version": "1.5.0",
            "orientation": "horizontal",
            "min": 0,
            "description_tooltip": null,
            "_model_module": "@jupyter-widgets/controls",
            "layout": "IPY_MODEL_6dc0c77fefa84d59ae2900f7e78c0181"
          }
        },
        "3768a87365904e06bf35f299d33e4b12": {
          "model_module": "@jupyter-widgets/controls",
          "model_name": "HTMLModel",
          "state": {
            "_view_name": "HTMLView",
            "style": "IPY_MODEL_fcf3ba6fbc8145ea845f8ac3eedea9cc",
            "_dom_classes": [],
            "description": "",
            "_model_name": "HTMLModel",
            "placeholder": "​",
            "_view_module": "@jupyter-widgets/controls",
            "_model_module_version": "1.5.0",
            "value": " 9920512/? [00:20&lt;00:00, 1366807.86it/s]",
            "_view_count": null,
            "_view_module_version": "1.5.0",
            "description_tooltip": null,
            "_model_module": "@jupyter-widgets/controls",
            "layout": "IPY_MODEL_d2bbce739f624d9f84ffc2451b86aba4"
          }
        },
        "ea9717b359fc45f992bfe661adbaec02": {
          "model_module": "@jupyter-widgets/controls",
          "model_name": "ProgressStyleModel",
          "state": {
            "_view_name": "StyleView",
            "_model_name": "ProgressStyleModel",
            "description_width": "initial",
            "_view_module": "@jupyter-widgets/base",
            "_model_module_version": "1.5.0",
            "_view_count": null,
            "_view_module_version": "1.2.0",
            "bar_color": null,
            "_model_module": "@jupyter-widgets/controls"
          }
        },
        "6dc0c77fefa84d59ae2900f7e78c0181": {
          "model_module": "@jupyter-widgets/base",
          "model_name": "LayoutModel",
          "state": {
            "_view_name": "LayoutView",
            "grid_template_rows": null,
            "right": null,
            "justify_content": null,
            "_view_module": "@jupyter-widgets/base",
            "overflow": null,
            "_model_module_version": "1.2.0",
            "_view_count": null,
            "flex_flow": null,
            "width": null,
            "min_width": null,
            "border": null,
            "align_items": null,
            "bottom": null,
            "_model_module": "@jupyter-widgets/base",
            "top": null,
            "grid_column": null,
            "overflow_y": null,
            "overflow_x": null,
            "grid_auto_flow": null,
            "grid_area": null,
            "grid_template_columns": null,
            "flex": null,
            "_model_name": "LayoutModel",
            "justify_items": null,
            "grid_row": null,
            "max_height": null,
            "align_content": null,
            "visibility": null,
            "align_self": null,
            "height": null,
            "min_height": null,
            "padding": null,
            "grid_auto_rows": null,
            "grid_gap": null,
            "max_width": null,
            "order": null,
            "_view_module_version": "1.2.0",
            "grid_template_areas": null,
            "object_position": null,
            "object_fit": null,
            "grid_auto_columns": null,
            "margin": null,
            "display": null,
            "left": null
          }
        },
        "fcf3ba6fbc8145ea845f8ac3eedea9cc": {
          "model_module": "@jupyter-widgets/controls",
          "model_name": "DescriptionStyleModel",
          "state": {
            "_view_name": "StyleView",
            "_model_name": "DescriptionStyleModel",
            "description_width": "",
            "_view_module": "@jupyter-widgets/base",
            "_model_module_version": "1.5.0",
            "_view_count": null,
            "_view_module_version": "1.2.0",
            "_model_module": "@jupyter-widgets/controls"
          }
        },
        "d2bbce739f624d9f84ffc2451b86aba4": {
          "model_module": "@jupyter-widgets/base",
          "model_name": "LayoutModel",
          "state": {
            "_view_name": "LayoutView",
            "grid_template_rows": null,
            "right": null,
            "justify_content": null,
            "_view_module": "@jupyter-widgets/base",
            "overflow": null,
            "_model_module_version": "1.2.0",
            "_view_count": null,
            "flex_flow": null,
            "width": null,
            "min_width": null,
            "border": null,
            "align_items": null,
            "bottom": null,
            "_model_module": "@jupyter-widgets/base",
            "top": null,
            "grid_column": null,
            "overflow_y": null,
            "overflow_x": null,
            "grid_auto_flow": null,
            "grid_area": null,
            "grid_template_columns": null,
            "flex": null,
            "_model_name": "LayoutModel",
            "justify_items": null,
            "grid_row": null,
            "max_height": null,
            "align_content": null,
            "visibility": null,
            "align_self": null,
            "height": null,
            "min_height": null,
            "padding": null,
            "grid_auto_rows": null,
            "grid_gap": null,
            "max_width": null,
            "order": null,
            "_view_module_version": "1.2.0",
            "grid_template_areas": null,
            "object_position": null,
            "object_fit": null,
            "grid_auto_columns": null,
            "margin": null,
            "display": null,
            "left": null
          }
        },
        "67bd07cf631d4b858da5b04b6bf1c120": {
          "model_module": "@jupyter-widgets/controls",
          "model_name": "HBoxModel",
          "state": {
            "_view_name": "HBoxView",
            "_dom_classes": [],
            "_model_name": "HBoxModel",
            "_view_module": "@jupyter-widgets/controls",
            "_model_module_version": "1.5.0",
            "_view_count": null,
            "_view_module_version": "1.5.0",
            "box_style": "",
            "layout": "IPY_MODEL_bdc04075174145c1903db0704fa64742",
            "_model_module": "@jupyter-widgets/controls",
            "children": [
              "IPY_MODEL_af9bab382a27436b892ae362c32151b5",
              "IPY_MODEL_6c4543e2e7564557a304b4c0eb410dcd"
            ]
          }
        },
        "bdc04075174145c1903db0704fa64742": {
          "model_module": "@jupyter-widgets/base",
          "model_name": "LayoutModel",
          "state": {
            "_view_name": "LayoutView",
            "grid_template_rows": null,
            "right": null,
            "justify_content": null,
            "_view_module": "@jupyter-widgets/base",
            "overflow": null,
            "_model_module_version": "1.2.0",
            "_view_count": null,
            "flex_flow": null,
            "width": null,
            "min_width": null,
            "border": null,
            "align_items": null,
            "bottom": null,
            "_model_module": "@jupyter-widgets/base",
            "top": null,
            "grid_column": null,
            "overflow_y": null,
            "overflow_x": null,
            "grid_auto_flow": null,
            "grid_area": null,
            "grid_template_columns": null,
            "flex": null,
            "_model_name": "LayoutModel",
            "justify_items": null,
            "grid_row": null,
            "max_height": null,
            "align_content": null,
            "visibility": null,
            "align_self": null,
            "height": null,
            "min_height": null,
            "padding": null,
            "grid_auto_rows": null,
            "grid_gap": null,
            "max_width": null,
            "order": null,
            "_view_module_version": "1.2.0",
            "grid_template_areas": null,
            "object_position": null,
            "object_fit": null,
            "grid_auto_columns": null,
            "margin": null,
            "display": null,
            "left": null
          }
        },
        "af9bab382a27436b892ae362c32151b5": {
          "model_module": "@jupyter-widgets/controls",
          "model_name": "FloatProgressModel",
          "state": {
            "_view_name": "ProgressView",
            "style": "IPY_MODEL_17b38c9cbfd64b2b8ae5e08bd2186cfe",
            "_dom_classes": [],
            "description": "",
            "_model_name": "FloatProgressModel",
            "bar_style": "info",
            "max": 1,
            "_view_module": "@jupyter-widgets/controls",
            "_model_module_version": "1.5.0",
            "value": 1,
            "_view_count": null,
            "_view_module_version": "1.5.0",
            "orientation": "horizontal",
            "min": 0,
            "description_tooltip": null,
            "_model_module": "@jupyter-widgets/controls",
            "layout": "IPY_MODEL_acf56b60099d485c90a8e59111258c41"
          }
        },
        "6c4543e2e7564557a304b4c0eb410dcd": {
          "model_module": "@jupyter-widgets/controls",
          "model_name": "HTMLModel",
          "state": {
            "_view_name": "HTMLView",
            "style": "IPY_MODEL_b4e29fa3fc3f4998bfc2b4ff4710498a",
            "_dom_classes": [],
            "description": "",
            "_model_name": "HTMLModel",
            "placeholder": "​",
            "_view_module": "@jupyter-widgets/controls",
            "_model_module_version": "1.5.0",
            "value": " 32768/? [00:20&lt;00:00, 96054.87it/s]",
            "_view_count": null,
            "_view_module_version": "1.5.0",
            "description_tooltip": null,
            "_model_module": "@jupyter-widgets/controls",
            "layout": "IPY_MODEL_af4f4d73d5ba4fbaa95b7c1dc4fda8c6"
          }
        },
        "17b38c9cbfd64b2b8ae5e08bd2186cfe": {
          "model_module": "@jupyter-widgets/controls",
          "model_name": "ProgressStyleModel",
          "state": {
            "_view_name": "StyleView",
            "_model_name": "ProgressStyleModel",
            "description_width": "initial",
            "_view_module": "@jupyter-widgets/base",
            "_model_module_version": "1.5.0",
            "_view_count": null,
            "_view_module_version": "1.2.0",
            "bar_color": null,
            "_model_module": "@jupyter-widgets/controls"
          }
        },
        "acf56b60099d485c90a8e59111258c41": {
          "model_module": "@jupyter-widgets/base",
          "model_name": "LayoutModel",
          "state": {
            "_view_name": "LayoutView",
            "grid_template_rows": null,
            "right": null,
            "justify_content": null,
            "_view_module": "@jupyter-widgets/base",
            "overflow": null,
            "_model_module_version": "1.2.0",
            "_view_count": null,
            "flex_flow": null,
            "width": null,
            "min_width": null,
            "border": null,
            "align_items": null,
            "bottom": null,
            "_model_module": "@jupyter-widgets/base",
            "top": null,
            "grid_column": null,
            "overflow_y": null,
            "overflow_x": null,
            "grid_auto_flow": null,
            "grid_area": null,
            "grid_template_columns": null,
            "flex": null,
            "_model_name": "LayoutModel",
            "justify_items": null,
            "grid_row": null,
            "max_height": null,
            "align_content": null,
            "visibility": null,
            "align_self": null,
            "height": null,
            "min_height": null,
            "padding": null,
            "grid_auto_rows": null,
            "grid_gap": null,
            "max_width": null,
            "order": null,
            "_view_module_version": "1.2.0",
            "grid_template_areas": null,
            "object_position": null,
            "object_fit": null,
            "grid_auto_columns": null,
            "margin": null,
            "display": null,
            "left": null
          }
        },
        "b4e29fa3fc3f4998bfc2b4ff4710498a": {
          "model_module": "@jupyter-widgets/controls",
          "model_name": "DescriptionStyleModel",
          "state": {
            "_view_name": "StyleView",
            "_model_name": "DescriptionStyleModel",
            "description_width": "",
            "_view_module": "@jupyter-widgets/base",
            "_model_module_version": "1.5.0",
            "_view_count": null,
            "_view_module_version": "1.2.0",
            "_model_module": "@jupyter-widgets/controls"
          }
        },
        "af4f4d73d5ba4fbaa95b7c1dc4fda8c6": {
          "model_module": "@jupyter-widgets/base",
          "model_name": "LayoutModel",
          "state": {
            "_view_name": "LayoutView",
            "grid_template_rows": null,
            "right": null,
            "justify_content": null,
            "_view_module": "@jupyter-widgets/base",
            "overflow": null,
            "_model_module_version": "1.2.0",
            "_view_count": null,
            "flex_flow": null,
            "width": null,
            "min_width": null,
            "border": null,
            "align_items": null,
            "bottom": null,
            "_model_module": "@jupyter-widgets/base",
            "top": null,
            "grid_column": null,
            "overflow_y": null,
            "overflow_x": null,
            "grid_auto_flow": null,
            "grid_area": null,
            "grid_template_columns": null,
            "flex": null,
            "_model_name": "LayoutModel",
            "justify_items": null,
            "grid_row": null,
            "max_height": null,
            "align_content": null,
            "visibility": null,
            "align_self": null,
            "height": null,
            "min_height": null,
            "padding": null,
            "grid_auto_rows": null,
            "grid_gap": null,
            "max_width": null,
            "order": null,
            "_view_module_version": "1.2.0",
            "grid_template_areas": null,
            "object_position": null,
            "object_fit": null,
            "grid_auto_columns": null,
            "margin": null,
            "display": null,
            "left": null
          }
        },
        "38df05c9c6ab429a80c17dbda8aea03f": {
          "model_module": "@jupyter-widgets/controls",
          "model_name": "HBoxModel",
          "state": {
            "_view_name": "HBoxView",
            "_dom_classes": [],
            "_model_name": "HBoxModel",
            "_view_module": "@jupyter-widgets/controls",
            "_model_module_version": "1.5.0",
            "_view_count": null,
            "_view_module_version": "1.5.0",
            "box_style": "",
            "layout": "IPY_MODEL_2d1804a6bd5f444c8ba69b2eb3bf0ac8",
            "_model_module": "@jupyter-widgets/controls",
            "children": [
              "IPY_MODEL_029da0d516634cdf951f54421569c493",
              "IPY_MODEL_bfebc4b4fe72425da68456828354f5e1"
            ]
          }
        },
        "2d1804a6bd5f444c8ba69b2eb3bf0ac8": {
          "model_module": "@jupyter-widgets/base",
          "model_name": "LayoutModel",
          "state": {
            "_view_name": "LayoutView",
            "grid_template_rows": null,
            "right": null,
            "justify_content": null,
            "_view_module": "@jupyter-widgets/base",
            "overflow": null,
            "_model_module_version": "1.2.0",
            "_view_count": null,
            "flex_flow": null,
            "width": null,
            "min_width": null,
            "border": null,
            "align_items": null,
            "bottom": null,
            "_model_module": "@jupyter-widgets/base",
            "top": null,
            "grid_column": null,
            "overflow_y": null,
            "overflow_x": null,
            "grid_auto_flow": null,
            "grid_area": null,
            "grid_template_columns": null,
            "flex": null,
            "_model_name": "LayoutModel",
            "justify_items": null,
            "grid_row": null,
            "max_height": null,
            "align_content": null,
            "visibility": null,
            "align_self": null,
            "height": null,
            "min_height": null,
            "padding": null,
            "grid_auto_rows": null,
            "grid_gap": null,
            "max_width": null,
            "order": null,
            "_view_module_version": "1.2.0",
            "grid_template_areas": null,
            "object_position": null,
            "object_fit": null,
            "grid_auto_columns": null,
            "margin": null,
            "display": null,
            "left": null
          }
        },
        "029da0d516634cdf951f54421569c493": {
          "model_module": "@jupyter-widgets/controls",
          "model_name": "FloatProgressModel",
          "state": {
            "_view_name": "ProgressView",
            "style": "IPY_MODEL_beb17d97bea5478db0f87562b98f2532",
            "_dom_classes": [],
            "description": "",
            "_model_name": "FloatProgressModel",
            "bar_style": "success",
            "max": 1,
            "_view_module": "@jupyter-widgets/controls",
            "_model_module_version": "1.5.0",
            "value": 1,
            "_view_count": null,
            "_view_module_version": "1.5.0",
            "orientation": "horizontal",
            "min": 0,
            "description_tooltip": null,
            "_model_module": "@jupyter-widgets/controls",
            "layout": "IPY_MODEL_5bc1623e0f6a47eba6f0382522a5d98d"
          }
        },
        "bfebc4b4fe72425da68456828354f5e1": {
          "model_module": "@jupyter-widgets/controls",
          "model_name": "HTMLModel",
          "state": {
            "_view_name": "HTMLView",
            "style": "IPY_MODEL_3f438a3ba60a445eb9520b7cfeb23c68",
            "_dom_classes": [],
            "description": "",
            "_model_name": "HTMLModel",
            "placeholder": "​",
            "_view_module": "@jupyter-widgets/controls",
            "_model_module_version": "1.5.0",
            "value": " 1654784/? [00:02&lt;00:00, 592949.65it/s]",
            "_view_count": null,
            "_view_module_version": "1.5.0",
            "description_tooltip": null,
            "_model_module": "@jupyter-widgets/controls",
            "layout": "IPY_MODEL_73442ee8ecdf41bdb1a34fce5fb6ba10"
          }
        },
        "beb17d97bea5478db0f87562b98f2532": {
          "model_module": "@jupyter-widgets/controls",
          "model_name": "ProgressStyleModel",
          "state": {
            "_view_name": "StyleView",
            "_model_name": "ProgressStyleModel",
            "description_width": "initial",
            "_view_module": "@jupyter-widgets/base",
            "_model_module_version": "1.5.0",
            "_view_count": null,
            "_view_module_version": "1.2.0",
            "bar_color": null,
            "_model_module": "@jupyter-widgets/controls"
          }
        },
        "5bc1623e0f6a47eba6f0382522a5d98d": {
          "model_module": "@jupyter-widgets/base",
          "model_name": "LayoutModel",
          "state": {
            "_view_name": "LayoutView",
            "grid_template_rows": null,
            "right": null,
            "justify_content": null,
            "_view_module": "@jupyter-widgets/base",
            "overflow": null,
            "_model_module_version": "1.2.0",
            "_view_count": null,
            "flex_flow": null,
            "width": null,
            "min_width": null,
            "border": null,
            "align_items": null,
            "bottom": null,
            "_model_module": "@jupyter-widgets/base",
            "top": null,
            "grid_column": null,
            "overflow_y": null,
            "overflow_x": null,
            "grid_auto_flow": null,
            "grid_area": null,
            "grid_template_columns": null,
            "flex": null,
            "_model_name": "LayoutModel",
            "justify_items": null,
            "grid_row": null,
            "max_height": null,
            "align_content": null,
            "visibility": null,
            "align_self": null,
            "height": null,
            "min_height": null,
            "padding": null,
            "grid_auto_rows": null,
            "grid_gap": null,
            "max_width": null,
            "order": null,
            "_view_module_version": "1.2.0",
            "grid_template_areas": null,
            "object_position": null,
            "object_fit": null,
            "grid_auto_columns": null,
            "margin": null,
            "display": null,
            "left": null
          }
        },
        "3f438a3ba60a445eb9520b7cfeb23c68": {
          "model_module": "@jupyter-widgets/controls",
          "model_name": "DescriptionStyleModel",
          "state": {
            "_view_name": "StyleView",
            "_model_name": "DescriptionStyleModel",
            "description_width": "",
            "_view_module": "@jupyter-widgets/base",
            "_model_module_version": "1.5.0",
            "_view_count": null,
            "_view_module_version": "1.2.0",
            "_model_module": "@jupyter-widgets/controls"
          }
        },
        "73442ee8ecdf41bdb1a34fce5fb6ba10": {
          "model_module": "@jupyter-widgets/base",
          "model_name": "LayoutModel",
          "state": {
            "_view_name": "LayoutView",
            "grid_template_rows": null,
            "right": null,
            "justify_content": null,
            "_view_module": "@jupyter-widgets/base",
            "overflow": null,
            "_model_module_version": "1.2.0",
            "_view_count": null,
            "flex_flow": null,
            "width": null,
            "min_width": null,
            "border": null,
            "align_items": null,
            "bottom": null,
            "_model_module": "@jupyter-widgets/base",
            "top": null,
            "grid_column": null,
            "overflow_y": null,
            "overflow_x": null,
            "grid_auto_flow": null,
            "grid_area": null,
            "grid_template_columns": null,
            "flex": null,
            "_model_name": "LayoutModel",
            "justify_items": null,
            "grid_row": null,
            "max_height": null,
            "align_content": null,
            "visibility": null,
            "align_self": null,
            "height": null,
            "min_height": null,
            "padding": null,
            "grid_auto_rows": null,
            "grid_gap": null,
            "max_width": null,
            "order": null,
            "_view_module_version": "1.2.0",
            "grid_template_areas": null,
            "object_position": null,
            "object_fit": null,
            "grid_auto_columns": null,
            "margin": null,
            "display": null,
            "left": null
          }
        },
        "6762f7c5131c4ac68c76c317377928e0": {
          "model_module": "@jupyter-widgets/controls",
          "model_name": "HBoxModel",
          "state": {
            "_view_name": "HBoxView",
            "_dom_classes": [],
            "_model_name": "HBoxModel",
            "_view_module": "@jupyter-widgets/controls",
            "_model_module_version": "1.5.0",
            "_view_count": null,
            "_view_module_version": "1.5.0",
            "box_style": "",
            "layout": "IPY_MODEL_34561488186a4661a5822a3a4d1b6574",
            "_model_module": "@jupyter-widgets/controls",
            "children": [
              "IPY_MODEL_3ad935a3f9ae48d398b2e9c0ed615b3e",
              "IPY_MODEL_4a1471aa6af440e3845ce3f216dac73c"
            ]
          }
        },
        "34561488186a4661a5822a3a4d1b6574": {
          "model_module": "@jupyter-widgets/base",
          "model_name": "LayoutModel",
          "state": {
            "_view_name": "LayoutView",
            "grid_template_rows": null,
            "right": null,
            "justify_content": null,
            "_view_module": "@jupyter-widgets/base",
            "overflow": null,
            "_model_module_version": "1.2.0",
            "_view_count": null,
            "flex_flow": null,
            "width": null,
            "min_width": null,
            "border": null,
            "align_items": null,
            "bottom": null,
            "_model_module": "@jupyter-widgets/base",
            "top": null,
            "grid_column": null,
            "overflow_y": null,
            "overflow_x": null,
            "grid_auto_flow": null,
            "grid_area": null,
            "grid_template_columns": null,
            "flex": null,
            "_model_name": "LayoutModel",
            "justify_items": null,
            "grid_row": null,
            "max_height": null,
            "align_content": null,
            "visibility": null,
            "align_self": null,
            "height": null,
            "min_height": null,
            "padding": null,
            "grid_auto_rows": null,
            "grid_gap": null,
            "max_width": null,
            "order": null,
            "_view_module_version": "1.2.0",
            "grid_template_areas": null,
            "object_position": null,
            "object_fit": null,
            "grid_auto_columns": null,
            "margin": null,
            "display": null,
            "left": null
          }
        },
        "3ad935a3f9ae48d398b2e9c0ed615b3e": {
          "model_module": "@jupyter-widgets/controls",
          "model_name": "FloatProgressModel",
          "state": {
            "_view_name": "ProgressView",
            "style": "IPY_MODEL_b949a349ba6f45cbb01185c80c9725dc",
            "_dom_classes": [],
            "description": "",
            "_model_name": "FloatProgressModel",
            "bar_style": "success",
            "max": 1,
            "_view_module": "@jupyter-widgets/controls",
            "_model_module_version": "1.5.0",
            "value": 1,
            "_view_count": null,
            "_view_module_version": "1.5.0",
            "orientation": "horizontal",
            "min": 0,
            "description_tooltip": null,
            "_model_module": "@jupyter-widgets/controls",
            "layout": "IPY_MODEL_222cf9a27dbf4026acc531dc33d0e7fe"
          }
        },
        "4a1471aa6af440e3845ce3f216dac73c": {
          "model_module": "@jupyter-widgets/controls",
          "model_name": "HTMLModel",
          "state": {
            "_view_name": "HTMLView",
            "style": "IPY_MODEL_e53ee1e0412c474082393bb8f7294110",
            "_dom_classes": [],
            "description": "",
            "_model_name": "HTMLModel",
            "placeholder": "​",
            "_view_module": "@jupyter-widgets/controls",
            "_model_module_version": "1.5.0",
            "value": " 8192/? [00:01&lt;00:00, 7213.44it/s]",
            "_view_count": null,
            "_view_module_version": "1.5.0",
            "description_tooltip": null,
            "_model_module": "@jupyter-widgets/controls",
            "layout": "IPY_MODEL_7aae91614a1a4c59bd1ecd61a4630595"
          }
        },
        "b949a349ba6f45cbb01185c80c9725dc": {
          "model_module": "@jupyter-widgets/controls",
          "model_name": "ProgressStyleModel",
          "state": {
            "_view_name": "StyleView",
            "_model_name": "ProgressStyleModel",
            "description_width": "initial",
            "_view_module": "@jupyter-widgets/base",
            "_model_module_version": "1.5.0",
            "_view_count": null,
            "_view_module_version": "1.2.0",
            "bar_color": null,
            "_model_module": "@jupyter-widgets/controls"
          }
        },
        "222cf9a27dbf4026acc531dc33d0e7fe": {
          "model_module": "@jupyter-widgets/base",
          "model_name": "LayoutModel",
          "state": {
            "_view_name": "LayoutView",
            "grid_template_rows": null,
            "right": null,
            "justify_content": null,
            "_view_module": "@jupyter-widgets/base",
            "overflow": null,
            "_model_module_version": "1.2.0",
            "_view_count": null,
            "flex_flow": null,
            "width": null,
            "min_width": null,
            "border": null,
            "align_items": null,
            "bottom": null,
            "_model_module": "@jupyter-widgets/base",
            "top": null,
            "grid_column": null,
            "overflow_y": null,
            "overflow_x": null,
            "grid_auto_flow": null,
            "grid_area": null,
            "grid_template_columns": null,
            "flex": null,
            "_model_name": "LayoutModel",
            "justify_items": null,
            "grid_row": null,
            "max_height": null,
            "align_content": null,
            "visibility": null,
            "align_self": null,
            "height": null,
            "min_height": null,
            "padding": null,
            "grid_auto_rows": null,
            "grid_gap": null,
            "max_width": null,
            "order": null,
            "_view_module_version": "1.2.0",
            "grid_template_areas": null,
            "object_position": null,
            "object_fit": null,
            "grid_auto_columns": null,
            "margin": null,
            "display": null,
            "left": null
          }
        },
        "e53ee1e0412c474082393bb8f7294110": {
          "model_module": "@jupyter-widgets/controls",
          "model_name": "DescriptionStyleModel",
          "state": {
            "_view_name": "StyleView",
            "_model_name": "DescriptionStyleModel",
            "description_width": "",
            "_view_module": "@jupyter-widgets/base",
            "_model_module_version": "1.5.0",
            "_view_count": null,
            "_view_module_version": "1.2.0",
            "_model_module": "@jupyter-widgets/controls"
          }
        },
        "7aae91614a1a4c59bd1ecd61a4630595": {
          "model_module": "@jupyter-widgets/base",
          "model_name": "LayoutModel",
          "state": {
            "_view_name": "LayoutView",
            "grid_template_rows": null,
            "right": null,
            "justify_content": null,
            "_view_module": "@jupyter-widgets/base",
            "overflow": null,
            "_model_module_version": "1.2.0",
            "_view_count": null,
            "flex_flow": null,
            "width": null,
            "min_width": null,
            "border": null,
            "align_items": null,
            "bottom": null,
            "_model_module": "@jupyter-widgets/base",
            "top": null,
            "grid_column": null,
            "overflow_y": null,
            "overflow_x": null,
            "grid_auto_flow": null,
            "grid_area": null,
            "grid_template_columns": null,
            "flex": null,
            "_model_name": "LayoutModel",
            "justify_items": null,
            "grid_row": null,
            "max_height": null,
            "align_content": null,
            "visibility": null,
            "align_self": null,
            "height": null,
            "min_height": null,
            "padding": null,
            "grid_auto_rows": null,
            "grid_gap": null,
            "max_width": null,
            "order": null,
            "_view_module_version": "1.2.0",
            "grid_template_areas": null,
            "object_position": null,
            "object_fit": null,
            "grid_auto_columns": null,
            "margin": null,
            "display": null,
            "left": null
          }
        }
      }
    }
  },
  "cells": [
    {
      "cell_type": "markdown",
      "metadata": {
        "id": "view-in-github",
        "colab_type": "text"
      },
      "source": [
        "<a href=\"https://colab.research.google.com/github/jiku100/2020-2-machine-running-proejct/blob/master/assignment11/%EC%8B%A0%EC%84%9D%EA%B2%BD_assignment_11.ipynb\" target=\"_parent\"><img src=\"https://colab.research.google.com/assets/colab-badge.svg\" alt=\"Open In Colab\"/></a>"
      ]
    },
    {
      "cell_type": "markdown",
      "metadata": {
        "id": "0gzdXwFJz0KJ"
      },
      "source": [
        "# **Classification for Multiple Categories using Pytorch for best accuracy with CNN**\n",
        "\n"
      ]
    },
    {
      "cell_type": "markdown",
      "metadata": {
        "id": "w_C7Cujjz4ff"
      },
      "source": [
        "# 1. Import library\n",
        "<hr>"
      ]
    },
    {
      "cell_type": "code",
      "metadata": {
        "id": "gtlbKT3Izgre"
      },
      "source": [
        "import torch\n",
        "import torch.nn as nn\n",
        "import torch.optim as optim\n",
        "import torch.nn.init as init\n",
        "import torchvision\n",
        "import torchvision.transforms as transforms\n",
        "import torchvision.datasets as datasets\n",
        "from torch.utils.data import DataLoader\n",
        "\n",
        "import matplotlib.pyplot as plt\n",
        "import cv2\n",
        "import numpy as np"
      ],
      "execution_count": 1,
      "outputs": []
    },
    {
      "cell_type": "code",
      "metadata": {
        "colab": {
          "base_uri": "https://localhost:8080/"
        },
        "id": "JC9KWsHg7lTJ",
        "outputId": "c04bacd1-f97c-4bea-8d26-df855fce4e7c"
      },
      "source": [
        "USE_CUDA = torch.cuda.is_available()\n",
        "device = torch.device(\"cuda\" if USE_CUDA else \"cpu\")\n",
        "print(\"다음 기기로 학습합니다:\", device)"
      ],
      "execution_count": 2,
      "outputs": [
        {
          "output_type": "stream",
          "text": [
            "다음 기기로 학습합니다: cuda\n"
          ],
          "name": "stdout"
        }
      ]
    },
    {
      "cell_type": "markdown",
      "metadata": {
        "id": "nBCurPvD3NoM"
      },
      "source": [
        "# 2. Preprocessing Data\n",
        "<hr>"
      ]
    },
    {
      "cell_type": "code",
      "metadata": {
        "id": "4tVba13YD-s9"
      },
      "source": [
        "transform_train = transforms.Compose([\n",
        "        transforms.ToTensor(),\n",
        "        transforms.RandomRotation(15),\n",
        "        transforms.Normalize((0.1307,),(0.3081,))                    # 이미지를 텐서로 변형합니다.\n",
        "])\n",
        "\n",
        "transform_test = transforms.Compose([\n",
        "        transforms.ToTensor(), \n",
        "        transforms.Normalize((0.1307,),(0.3081,))            \n",
        "])"
      ],
      "execution_count": 3,
      "outputs": []
    },
    {
      "cell_type": "code",
      "metadata": {
        "id": "1uNdu0HqJEQv",
        "colab": {
          "base_uri": "https://localhost:8080/",
          "height": 375,
          "referenced_widgets": [
            "ef11b544a8ba46b58c095815c03e666e",
            "8df72f7a61454acd96e774c6851387d3",
            "6376ef5325e244ecb265b4d6664a11d7",
            "3768a87365904e06bf35f299d33e4b12",
            "ea9717b359fc45f992bfe661adbaec02",
            "6dc0c77fefa84d59ae2900f7e78c0181",
            "fcf3ba6fbc8145ea845f8ac3eedea9cc",
            "d2bbce739f624d9f84ffc2451b86aba4",
            "67bd07cf631d4b858da5b04b6bf1c120",
            "bdc04075174145c1903db0704fa64742",
            "af9bab382a27436b892ae362c32151b5",
            "6c4543e2e7564557a304b4c0eb410dcd",
            "17b38c9cbfd64b2b8ae5e08bd2186cfe",
            "acf56b60099d485c90a8e59111258c41",
            "b4e29fa3fc3f4998bfc2b4ff4710498a",
            "af4f4d73d5ba4fbaa95b7c1dc4fda8c6",
            "38df05c9c6ab429a80c17dbda8aea03f",
            "2d1804a6bd5f444c8ba69b2eb3bf0ac8",
            "029da0d516634cdf951f54421569c493",
            "bfebc4b4fe72425da68456828354f5e1",
            "beb17d97bea5478db0f87562b98f2532",
            "5bc1623e0f6a47eba6f0382522a5d98d",
            "3f438a3ba60a445eb9520b7cfeb23c68",
            "73442ee8ecdf41bdb1a34fce5fb6ba10",
            "6762f7c5131c4ac68c76c317377928e0",
            "34561488186a4661a5822a3a4d1b6574",
            "3ad935a3f9ae48d398b2e9c0ed615b3e",
            "4a1471aa6af440e3845ce3f216dac73c",
            "b949a349ba6f45cbb01185c80c9725dc",
            "222cf9a27dbf4026acc531dc33d0e7fe",
            "e53ee1e0412c474082393bb8f7294110",
            "7aae91614a1a4c59bd1ecd61a4630595"
          ]
        },
        "outputId": "dfe029e0-52ce-40ac-bfc3-253d2f42a677"
      },
      "source": [
        "data_path = './MNIST'\n",
        "\n",
        "data_test   = datasets.MNIST(root = data_path, train= True, download=True, transform= transform_test)\n",
        "data_train  = datasets.MNIST(root = data_path, train= False, download=True, transform= transform_train)"
      ],
      "execution_count": 4,
      "outputs": [
        {
          "output_type": "stream",
          "text": [
            "Downloading http://yann.lecun.com/exdb/mnist/train-images-idx3-ubyte.gz to ./MNIST/MNIST/raw/train-images-idx3-ubyte.gz\n"
          ],
          "name": "stdout"
        },
        {
          "output_type": "display_data",
          "data": {
            "application/vnd.jupyter.widget-view+json": {
              "model_id": "ef11b544a8ba46b58c095815c03e666e",
              "version_minor": 0,
              "version_major": 2
            },
            "text/plain": [
              "HBox(children=(FloatProgress(value=1.0, bar_style='info', max=1.0), HTML(value='')))"
            ]
          },
          "metadata": {
            "tags": []
          }
        },
        {
          "output_type": "stream",
          "text": [
            "Extracting ./MNIST/MNIST/raw/train-images-idx3-ubyte.gz to ./MNIST/MNIST/raw\n",
            "Downloading http://yann.lecun.com/exdb/mnist/train-labels-idx1-ubyte.gz to ./MNIST/MNIST/raw/train-labels-idx1-ubyte.gz\n"
          ],
          "name": "stdout"
        },
        {
          "output_type": "display_data",
          "data": {
            "application/vnd.jupyter.widget-view+json": {
              "model_id": "67bd07cf631d4b858da5b04b6bf1c120",
              "version_minor": 0,
              "version_major": 2
            },
            "text/plain": [
              "HBox(children=(FloatProgress(value=1.0, bar_style='info', max=1.0), HTML(value='')))"
            ]
          },
          "metadata": {
            "tags": []
          }
        },
        {
          "output_type": "stream",
          "text": [
            "Extracting ./MNIST/MNIST/raw/train-labels-idx1-ubyte.gz to ./MNIST/MNIST/raw\n",
            "Downloading http://yann.lecun.com/exdb/mnist/t10k-images-idx3-ubyte.gz to ./MNIST/MNIST/raw/t10k-images-idx3-ubyte.gz\n"
          ],
          "name": "stdout"
        },
        {
          "output_type": "display_data",
          "data": {
            "application/vnd.jupyter.widget-view+json": {
              "model_id": "38df05c9c6ab429a80c17dbda8aea03f",
              "version_minor": 0,
              "version_major": 2
            },
            "text/plain": [
              "HBox(children=(FloatProgress(value=1.0, bar_style='info', max=1.0), HTML(value='')))"
            ]
          },
          "metadata": {
            "tags": []
          }
        },
        {
          "output_type": "stream",
          "text": [
            "Extracting ./MNIST/MNIST/raw/t10k-images-idx3-ubyte.gz to ./MNIST/MNIST/raw\n",
            "Downloading http://yann.lecun.com/exdb/mnist/t10k-labels-idx1-ubyte.gz to ./MNIST/MNIST/raw/t10k-labels-idx1-ubyte.gz\n"
          ],
          "name": "stdout"
        },
        {
          "output_type": "display_data",
          "data": {
            "application/vnd.jupyter.widget-view+json": {
              "model_id": "6762f7c5131c4ac68c76c317377928e0",
              "version_minor": 0,
              "version_major": 2
            },
            "text/plain": [
              "HBox(children=(FloatProgress(value=1.0, bar_style='info', max=1.0), HTML(value='')))"
            ]
          },
          "metadata": {
            "tags": []
          }
        },
        {
          "output_type": "stream",
          "text": [
            "Extracting ./MNIST/MNIST/raw/t10k-labels-idx1-ubyte.gz to ./MNIST/MNIST/raw\n",
            "Processing...\n",
            "Done!\n"
          ],
          "name": "stdout"
        },
        {
          "output_type": "stream",
          "text": [
            "/usr/local/lib/python3.6/dist-packages/torchvision/datasets/mnist.py:480: UserWarning: The given NumPy array is not writeable, and PyTorch does not support non-writeable tensors. This means you can write to the underlying (supposedly non-writeable) NumPy array using the tensor. You may want to copy the array to protect its data or make it writeable before converting it to a tensor. This type of warning will be suppressed for the rest of this program. (Triggered internally at  /pytorch/torch/csrc/utils/tensor_numpy.cpp:141.)\n",
            "  return torch.from_numpy(parsed.astype(m[2], copy=False)).view(*s)\n"
          ],
          "name": "stderr"
        }
      ]
    },
    {
      "cell_type": "code",
      "metadata": {
        "colab": {
          "base_uri": "https://localhost:8080/",
          "height": 422
        },
        "id": "8SJcK-t2D3Bp",
        "outputId": "5cbcf446-f9e9-4440-f4be-a59920428878"
      },
      "source": [
        "one_image, label = data_train[0]\n",
        "print(\"type of one image\", type(one_image))\n",
        "print(\"size of one image : \", one_image.shape)\n",
        "plt.imshow(one_image.squeeze().numpy(), cmap='gray')\n",
        "print(\"type of label : \", type(label))\n",
        "print(\"label : \", label)\n",
        "print(np.max(data_train.train_data[0].view(-1).numpy()))"
      ],
      "execution_count": 5,
      "outputs": [
        {
          "output_type": "stream",
          "text": [
            "type of one image <class 'torch.Tensor'>\n",
            "size of one image :  torch.Size([1, 28, 28])\n",
            "\n",
            "\n",
            "type of label :  <class 'int'>\n",
            "label :  7\n",
            "255\n"
          ],
          "name": "stdout"
        },
        {
          "output_type": "stream",
          "text": [
            "/usr/local/lib/python3.6/dist-packages/torchvision/datasets/mnist.py:58: UserWarning: train_data has been renamed data\n",
            "  warnings.warn(\"train_data has been renamed data\")\n"
          ],
          "name": "stderr"
        },
        {
          "output_type": "display_data",
          "data": {
            "image/png": "[encoded data removed]",
            "text/plain": [
              "<Figure size 432x288 with 1 Axes>"
            ]
          },
          "metadata": {
            "tags": [],
            "needs_background": "light"
          }
        }
      ]
    },
    {
      "cell_type": "code",
      "metadata": {
        "id": "lUj2JTgY4r4c"
      },
      "source": [
        "learning_rate = 0.003\n",
        "training_epochs = 600\n",
        "batch_size = 256"
      ],
      "execution_count": 6,
      "outputs": []
    },
    {
      "cell_type": "code",
      "metadata": {
        "id": "CkgCtS3b3giF"
      },
      "source": [
        "train_loader = DataLoader(dataset = data_train, batch_size = batch_size, num_workers = 2, shuffle = True) ## batch size 32 짜리 train loader 생성\n",
        "test_loader = DataLoader(dataset = data_test, batch_size = batch_size, num_workers = 2, shuffle = True) ## batch size 32 짜리 test loader 생성"
      ],
      "execution_count": 7,
      "outputs": []
    },
    {
      "cell_type": "markdown",
      "metadata": {
        "id": "SCsB9Pdk6zd7"
      },
      "source": [
        "# 3. Define Model\n",
        "<hr>"
      ]
    },
    {
      "cell_type": "code",
      "metadata": {
        "id": "-cUHqcW25etQ"
      },
      "source": [
        "class classification(nn.Module):\n",
        "    def __init__(self):\n",
        "        super(classification, self).__init__()\n",
        "        \n",
        "        self.conv_block = nn.Sequential(\n",
        "            nn.Conv2d(1, 32, kernel_size=3, stride=1, padding=1),\n",
        "            nn.BatchNorm2d(32),\n",
        "            nn.ReLU(inplace=True),\n",
        "            nn.Conv2d(32, 64, kernel_size=3, stride=1, padding=1),\n",
        "            nn.BatchNorm2d(64),\n",
        "            nn.ReLU(inplace=True),\n",
        "            nn.MaxPool2d(kernel_size=2, stride=2),\n",
        "            nn.Conv2d(64, 128, kernel_size=3, stride=1, padding=1),\n",
        "            nn.BatchNorm2d(128),\n",
        "            nn.ReLU(inplace=True),\n",
        "            nn.MaxPool2d(kernel_size=2, stride=2) \n",
        "        )\n",
        "        \n",
        "        self.linear_block = nn.Sequential(\n",
        "            nn.Dropout(p=0.5),\n",
        "            nn.Linear(128*7*7, 128),\n",
        "            nn.BatchNorm1d(128),\n",
        "            nn.ReLU(inplace=True),\n",
        "            nn.Dropout(0.5),\n",
        "            nn.Linear(128, 64),\n",
        "            nn.BatchNorm1d(64),\n",
        "            nn.ReLU(inplace=True),\n",
        "            nn.Dropout(0.5),\n",
        "            nn.Linear(64, 10)\n",
        "        )\n",
        "        \n",
        "    def forward(self, x):\n",
        "        x = self.conv_block(x)\n",
        "        x = x.view(x.size(0), -1)\n",
        "        x = self.linear_block(x)\n",
        "        \n",
        "        return x"
      ],
      "execution_count": 8,
      "outputs": []
    },
    {
      "cell_type": "code",
      "metadata": {
        "id": "MWYQ30d37dwC"
      },
      "source": [
        "model = classification().to(device)"
      ],
      "execution_count": 9,
      "outputs": []
    },
    {
      "cell_type": "code",
      "metadata": {
        "id": "-GpzWr1V64wc"
      },
      "source": [
        "criterion = nn.CrossEntropyLoss().to(device)    # Softmax is internally computed.\n",
        "optimizer = torch.optim.Adam(model.parameters(), lr=learning_rate)\n",
        "scheduler = optim.lr_scheduler.StepLR(optimizer, step_size=50, gamma=0.1)"
      ],
      "execution_count": 10,
      "outputs": []
    },
    {
      "cell_type": "markdown",
      "metadata": {
        "id": "lsNWP3Wk8Siq"
      },
      "source": [
        "# 4. Training\n",
        "<hr>"
      ]
    },
    {
      "cell_type": "code",
      "metadata": {
        "id": "1_QSSPkC7sCr"
      },
      "source": [
        "total_batch= len(train_loader)"
      ],
      "execution_count": 11,
      "outputs": []
    },
    {
      "cell_type": "code",
      "metadata": {
        "colab": {
          "base_uri": "https://localhost:8080/"
        },
        "id": "9_SeUrHB5gLH",
        "outputId": "0efcbd0c-02ef-4345-c611-d5e2ec8b0262"
      },
      "source": [
        "print(total_batch)"
      ],
      "execution_count": 12,
      "outputs": [
        {
          "output_type": "stream",
          "text": [
            "40\n"
          ],
          "name": "stdout"
        }
      ]
    },
    {
      "cell_type": "code",
      "metadata": {
        "id": "eaJMZ8TvcglJ"
      },
      "source": [
        "def accuracy(log_pred, y_true):\n",
        "    y_pred = torch.argmax(log_pred, dim=1)\n",
        "    return (y_pred == y_true).to(torch.float).mean()"
      ],
      "execution_count": 13,
      "outputs": []
    },
    {
      "cell_type": "code",
      "metadata": {
        "id": "Kl5FuVgt8_LF"
      },
      "source": [
        "def training(model, loss, optim, training_epochs, train_loader, test_loader):\n",
        "  L_iters_train = []\n",
        "  accuracy_train = []\n",
        "  L_iters_test = []\n",
        "  accuracy_test = []\n",
        "  for epoch in range(training_epochs):\n",
        "    total_cost_train = 0\n",
        "    total_cost_test = 0\n",
        "    total_acc_train = 0\n",
        "    total_acc_test = 0\n",
        "    model.train()\n",
        "    for X, Y in train_loader:\n",
        "      X = X.to(device)\n",
        "      Y = Y.to(device)\n",
        "\n",
        "      optim.zero_grad()\n",
        "      train_pred = model(X)\n",
        "      cost = loss(train_pred, Y)\n",
        "      cost.backward()\n",
        "      optim.step()\n",
        "\n",
        "      total_cost_train += cost\n",
        "      total_acc_train += accuracy(train_pred, Y)\n",
        "      \n",
        "    avg_cost_train = total_cost_train / len(train_loader)\n",
        "    avg_acc_train = total_acc_train / len(train_loader)\n",
        "\n",
        "    L_iters_train.append(avg_cost_train)\n",
        "    accuracy_train.append(avg_acc_train)\n",
        "    model.eval()\n",
        "    with torch.no_grad():\n",
        "      for X_test, Y_test in test_loader:\n",
        "        X_test = X_test.to(device)\n",
        "        Y_test = Y_test.to(device)\n",
        "        test_pred = model(X_test)\n",
        "        cost_test = loss(test_pred, Y_test)\n",
        "        total_cost_test += cost_test\n",
        "        total_acc_test += accuracy(test_pred, Y_test)\n",
        "      avg_cost_test = total_cost_test / len(test_loader)\n",
        "      avg_acc_test = total_acc_test / len(test_loader)\n",
        "    \n",
        "      accuracy_test.append(avg_acc_test)\n",
        "      L_iters_test.append(avg_cost_test)\n",
        "\n",
        "    print(\"Epoch: %02d Training Loss: %.9f Testing Loss: %.9f  Training Acc: %.9f Testing Acc: %.9f\" %((epoch + 1),avg_cost_train, avg_cost_test, avg_acc_train, avg_acc_test))\n",
        "  return L_iters_train, accuracy_train, L_iters_test, accuracy_test"
      ],
      "execution_count": 14,
      "outputs": []
    },
    {
      "cell_type": "code",
      "metadata": {
        "colab": {
          "base_uri": "https://localhost:8080/"
        },
        "id": "hOfKPriA84jq",
        "outputId": "2a2f8606-e494-4bdf-80b8-62e2559010cf"
      },
      "source": [
        "L_train, A_train, L_test, A_test = training(model, criterion, optimizer, training_epochs, train_loader, test_loader)"
      ],
      "execution_count": 15,
      "outputs": [
        {
          "output_type": "stream",
          "text": [
            "Epoch: 01 Training Loss: 1.075572610 Testing Loss: 0.235367462  Training Acc: 0.731347680 Testing Acc: 0.953679025\n",
            "Epoch: 02 Training Loss: 0.336793602 Testing Loss: 0.129538327  Training Acc: 0.922070324 Testing Acc: 0.963768780\n",
            "Epoch: 03 Training Loss: 0.227584481 Testing Loss: 0.076060720  Training Acc: 0.944824219 Testing Acc: 0.977687240\n",
            "Epoch: 04 Training Loss: 0.186333999 Testing Loss: 0.066079855  Training Acc: 0.951562524 Testing Acc: 0.979742885\n",
            "Epoch: 05 Training Loss: 0.157339141 Testing Loss: 0.061407227  Training Acc: 0.960253894 Testing Acc: 0.981654406\n",
            "Epoch: 06 Training Loss: 0.140221223 Testing Loss: 0.058838457  Training Acc: 0.962792993 Testing Acc: 0.982092202\n",
            "Epoch: 07 Training Loss: 0.119133785 Testing Loss: 0.057022508  Training Acc: 0.967968762 Testing Acc: 0.982701659\n",
            "Epoch: 08 Training Loss: 0.117874362 Testing Loss: 0.069719166  Training Acc: 0.968164086 Testing Acc: 0.979787230\n",
            "Epoch: 09 Training Loss: 0.122137167 Testing Loss: 0.059070207  Training Acc: 0.965918005 Testing Acc: 0.982640743\n",
            "Epoch: 10 Training Loss: 0.120666467 Testing Loss: 0.060085926  Training Acc: 0.966796875 Testing Acc: 0.982740462\n",
            "Epoch: 11 Training Loss: 0.117313400 Testing Loss: 0.060248259  Training Acc: 0.967675805 Testing Acc: 0.982347071\n",
            "Epoch: 12 Training Loss: 0.101867907 Testing Loss: 0.054975782  Training Acc: 0.970605493 Testing Acc: 0.983599246\n",
            "Epoch: 13 Training Loss: 0.093596101 Testing Loss: 0.055829503  Training Acc: 0.974609375 Testing Acc: 0.983665705\n",
            "Epoch: 14 Training Loss: 0.087164752 Testing Loss: 0.053072337  Training Acc: 0.976367176 Testing Acc: 0.985516369\n",
            "Epoch: 15 Training Loss: 0.081303507 Testing Loss: 0.047426768  Training Acc: 0.977734387 Testing Acc: 0.986408412\n",
            "Epoch: 16 Training Loss: 0.092792057 Testing Loss: 0.057338011  Training Acc: 0.971582055 Testing Acc: 0.984513462\n",
            "Epoch: 17 Training Loss: 0.110419981 Testing Loss: 0.056995947  Training Acc: 0.966308594 Testing Acc: 0.984125614\n",
            "Epoch: 18 Training Loss: 0.132268593 Testing Loss: 0.059578072  Training Acc: 0.967578113 Testing Acc: 0.983028531\n",
            "Epoch: 19 Training Loss: 0.121250749 Testing Loss: 0.060656052  Training Acc: 0.965136707 Testing Acc: 0.982890069\n",
            "Epoch: 20 Training Loss: 0.089780770 Testing Loss: 0.051869415  Training Acc: 0.974804699 Testing Acc: 0.985455394\n",
            "Epoch: 21 Training Loss: 0.091438733 Testing Loss: 0.049899500  Training Acc: 0.976464868 Testing Acc: 0.986258805\n",
            "Epoch: 22 Training Loss: 0.082442462 Testing Loss: 0.049272392  Training Acc: 0.975585938 Testing Acc: 0.986297667\n",
            "Epoch: 23 Training Loss: 0.092789732 Testing Loss: 0.050475903  Training Acc: 0.973144531 Testing Acc: 0.985959589\n",
            "Epoch: 24 Training Loss: 0.071062997 Testing Loss: 0.047357704  Training Acc: 0.980175793 Testing Acc: 0.986735344\n",
            "Epoch: 25 Training Loss: 0.059025373 Testing Loss: 0.045851968  Training Acc: 0.983789086 Testing Acc: 0.987638474\n",
            "Epoch: 26 Training Loss: 0.065790318 Testing Loss: 0.049525768  Training Acc: 0.980468750 Testing Acc: 0.987156391\n",
            "Epoch: 27 Training Loss: 0.068564385 Testing Loss: 0.045747951  Training Acc: 0.980957031 Testing Acc: 0.988054037\n",
            "Epoch: 28 Training Loss: 0.057811368 Testing Loss: 0.046507161  Training Acc: 0.985156238 Testing Acc: 0.987378120\n",
            "Epoch: 29 Training Loss: 0.056951679 Testing Loss: 0.050457276  Training Acc: 0.984570324 Testing Acc: 0.987389147\n",
            "Epoch: 30 Training Loss: 0.055716373 Testing Loss: 0.043418426  Training Acc: 0.982421875 Testing Acc: 0.988270104\n",
            "Epoch: 31 Training Loss: 0.063792206 Testing Loss: 0.048783731  Training Acc: 0.981933594 Testing Acc: 0.987405777\n",
            "Epoch: 32 Training Loss: 0.053060096 Testing Loss: 0.048262380  Training Acc: 0.985644519 Testing Acc: 0.987699449\n",
            "Epoch: 33 Training Loss: 0.060670067 Testing Loss: 0.047495920  Training Acc: 0.982128918 Testing Acc: 0.987887800\n",
            "Epoch: 34 Training Loss: 0.060910024 Testing Loss: 0.052387629  Training Acc: 0.982812524 Testing Acc: 0.986884952\n",
            "Epoch: 35 Training Loss: 0.054946061 Testing Loss: 0.048909701  Training Acc: 0.984179676 Testing Acc: 0.986912668\n",
            "Epoch: 36 Training Loss: 0.053247090 Testing Loss: 0.051281486  Training Acc: 0.984960973 Testing Acc: 0.986907065\n",
            "Epoch: 37 Training Loss: 0.052861847 Testing Loss: 0.052485231  Training Acc: 0.983984411 Testing Acc: 0.986890435\n",
            "Epoch: 38 Training Loss: 0.058340501 Testing Loss: 0.050217189  Training Acc: 0.981543005 Testing Acc: 0.987494469\n",
            "Epoch: 39 Training Loss: 0.092578851 Testing Loss: 0.051928952  Training Acc: 0.971972644 Testing Acc: 0.986436129\n",
            "Epoch: 40 Training Loss: 0.075660393 Testing Loss: 0.050398204  Training Acc: 0.978906274 Testing Acc: 0.987372518\n",
            "Epoch: 41 Training Loss: 0.061944168 Testing Loss: 0.048470955  Training Acc: 0.982128918 Testing Acc: 0.987760425\n",
            "Epoch: 42 Training Loss: 0.065410160 Testing Loss: 0.050699357  Training Acc: 0.982031286 Testing Acc: 0.987721562\n",
            "Epoch: 43 Training Loss: 0.080085896 Testing Loss: 0.049157716  Training Acc: 0.976953149 Testing Acc: 0.987383604\n",
            "Epoch: 44 Training Loss: 0.080424540 Testing Loss: 0.050667670  Training Acc: 0.977929711 Testing Acc: 0.986857235\n",
            "Epoch: 45 Training Loss: 0.086365648 Testing Loss: 0.046342392  Training Acc: 0.978320301 Testing Acc: 0.987782538\n",
            "Epoch: 46 Training Loss: 0.073945306 Testing Loss: 0.051822592  Training Acc: 0.979394555 Testing Acc: 0.986940324\n",
            "Epoch: 47 Training Loss: 0.057738710 Testing Loss: 0.049162887  Training Acc: 0.983691394 Testing Acc: 0.987139821\n",
            "Epoch: 48 Training Loss: 0.052077781 Testing Loss: 0.055231057  Training Acc: 0.986523449 Testing Acc: 0.986624479\n",
            "Epoch: 49 Training Loss: 0.060501706 Testing Loss: 0.052979629  Training Acc: 0.983496130 Testing Acc: 0.986801803\n",
            "Epoch: 50 Training Loss: 0.055571403 Testing Loss: 0.054439489  Training Acc: 0.984277368 Testing Acc: 0.986790717\n",
            "Epoch: 51 Training Loss: 0.051825952 Testing Loss: 0.047207572  Training Acc: 0.985449255 Testing Acc: 0.988187015\n",
            "Epoch: 52 Training Loss: 0.042954698 Testing Loss: 0.047277857  Training Acc: 0.987304688 Testing Acc: 0.988536060\n",
            "Epoch: 53 Training Loss: 0.046146497 Testing Loss: 0.047160644  Training Acc: 0.987402380 Testing Acc: 0.988862991\n",
            "Epoch: 54 Training Loss: 0.038092133 Testing Loss: 0.051257700  Training Acc: 0.989257812 Testing Acc: 0.988031864\n",
            "Epoch: 55 Training Loss: 0.036823273 Testing Loss: 0.044056833  Training Acc: 0.990820348 Testing Acc: 0.989694118\n",
            "Epoch: 56 Training Loss: 0.052444495 Testing Loss: 0.046535201  Training Acc: 0.985058606 Testing Acc: 0.989284098\n",
            "Epoch: 57 Training Loss: 0.060681384 Testing Loss: 0.047058173  Training Acc: 0.983203113 Testing Acc: 0.989162207\n",
            "Epoch: 58 Training Loss: 0.048688415 Testing Loss: 0.048390217  Training Acc: 0.985644519 Testing Acc: 0.988630295\n",
            "Epoch: 59 Training Loss: 0.050993979 Testing Loss: 0.045038741  Training Acc: 0.985742211 Testing Acc: 0.989184320\n",
            "Epoch: 60 Training Loss: 0.056031372 Testing Loss: 0.047747161  Training Acc: 0.984277368 Testing Acc: 0.988630295\n",
            "Epoch: 61 Training Loss: 0.056503672 Testing Loss: 0.051662110  Training Acc: 0.984082043 Testing Acc: 0.987544298\n",
            "Epoch: 62 Training Loss: 0.046114277 Testing Loss: 0.047223989  Training Acc: 0.987500012 Testing Acc: 0.988486230\n",
            "Epoch: 63 Training Loss: 0.045982007 Testing Loss: 0.047707748  Training Acc: 0.988574207 Testing Acc: 0.988480687\n",
            "Epoch: 64 Training Loss: 0.040113103 Testing Loss: 0.045402147  Training Acc: 0.988476574 Testing Acc: 0.989250839\n",
            "Epoch: 65 Training Loss: 0.034806691 Testing Loss: 0.046231225  Training Acc: 0.990722656 Testing Acc: 0.988890707\n",
            "Epoch: 66 Training Loss: 0.033782065 Testing Loss: 0.046638906  Training Acc: 0.991113305 Testing Acc: 0.988630295\n",
            "Epoch: 67 Training Loss: 0.036900170 Testing Loss: 0.046873190  Training Acc: 0.990234375 Testing Acc: 0.988707900\n",
            "Epoch: 68 Training Loss: 0.035470232 Testing Loss: 0.046082351  Training Acc: 0.989941418 Testing Acc: 0.989322901\n",
            "Epoch: 69 Training Loss: 0.037640870 Testing Loss: 0.043560185  Training Acc: 0.988867223 Testing Acc: 0.989655375\n",
            "Epoch: 70 Training Loss: 0.033883441 Testing Loss: 0.050402559  Training Acc: 0.990820348 Testing Acc: 0.988713384\n",
            "Epoch: 71 Training Loss: 0.031320840 Testing Loss: 0.050283082  Training Acc: 0.991503894 Testing Acc: 0.988552690\n",
            "Epoch: 72 Training Loss: 0.034757890 Testing Loss: 0.053140331  Training Acc: 0.989843786 Testing Acc: 0.988270104\n",
            "Epoch: 73 Training Loss: 0.046283465 Testing Loss: 0.047044735  Training Acc: 0.985156238 Testing Acc: 0.989317298\n",
            "Epoch: 74 Training Loss: 0.047756534 Testing Loss: 0.050724030  Training Acc: 0.985156238 Testing Acc: 0.988730013\n",
            "Epoch: 75 Training Loss: 0.046030577 Testing Loss: 0.048027497  Training Acc: 0.986425817 Testing Acc: 0.988835275\n",
            "Epoch: 76 Training Loss: 0.035534676 Testing Loss: 0.047006007  Training Acc: 0.990820348 Testing Acc: 0.989134490\n",
            "Epoch: 77 Training Loss: 0.089272752 Testing Loss: 0.047601100  Training Acc: 0.988085926 Testing Acc: 0.989267468\n",
            "Epoch: 78 Training Loss: 0.056644943 Testing Loss: 0.046534646  Training Acc: 0.983398438 Testing Acc: 0.989062488\n",
            "Epoch: 79 Training Loss: 0.043074474 Testing Loss: 0.047314882  Training Acc: 0.987792969 Testing Acc: 0.989140034\n",
            "Epoch: 80 Training Loss: 0.038458508 Testing Loss: 0.046064310  Training Acc: 0.990722656 Testing Acc: 0.989079118\n",
            "Epoch: 81 Training Loss: 0.036562916 Testing Loss: 0.046221189  Training Acc: 0.990527332 Testing Acc: 0.989140034\n",
            "Epoch: 82 Training Loss: 0.034114193 Testing Loss: 0.047952034  Training Acc: 0.989843786 Testing Acc: 0.988652408\n",
            "Epoch: 83 Training Loss: 0.031612236 Testing Loss: 0.045292526  Training Acc: 0.990820348 Testing Acc: 0.989383817\n",
            "Epoch: 84 Training Loss: 0.032867935 Testing Loss: 0.045154057  Training Acc: 0.991503894 Testing Acc: 0.989816010\n",
            "Epoch: 85 Training Loss: 0.027012313 Testing Loss: 0.048920240  Training Acc: 0.991699219 Testing Acc: 0.988752186\n",
            "Epoch: 86 Training Loss: 0.026722321 Testing Loss: 0.042864259  Training Acc: 0.991796911 Testing Acc: 0.990375638\n",
            "Epoch: 87 Training Loss: 0.025594516 Testing Loss: 0.044641841  Training Acc: 0.992089868 Testing Acc: 0.990170658\n",
            "Epoch: 88 Training Loss: 0.028177533 Testing Loss: 0.048208870  Training Acc: 0.992382824 Testing Acc: 0.989483535\n",
            "Epoch: 89 Training Loss: 0.042916682 Testing Loss: 0.048113704  Training Acc: 0.991308630 Testing Acc: 0.989151120\n",
            "Epoch: 90 Training Loss: 0.033721704 Testing Loss: 0.043271098  Training Acc: 0.989648461 Testing Acc: 0.990226030\n",
            "Epoch: 91 Training Loss: 0.061512806 Testing Loss: 0.049255926  Training Acc: 0.989257812 Testing Acc: 0.988757730\n",
            "Epoch: 92 Training Loss: 0.047820579 Testing Loss: 0.051977213  Training Acc: 0.985742211 Testing Acc: 0.988530576\n",
            "Epoch: 93 Training Loss: 0.062433779 Testing Loss: 0.052065406  Training Acc: 0.981347680 Testing Acc: 0.988031864\n",
            "Epoch: 94 Training Loss: 0.074334562 Testing Loss: 0.053083517  Training Acc: 0.978906274 Testing Acc: 0.987970889\n",
            "Epoch: 95 Training Loss: 0.059856702 Testing Loss: 0.051861856  Training Acc: 0.982812524 Testing Acc: 0.987799168\n",
            "Epoch: 96 Training Loss: 0.059820812 Testing Loss: 0.048994318  Training Acc: 0.981933594 Testing Acc: 0.989001513\n",
            "Epoch: 97 Training Loss: 0.047614217 Testing Loss: 0.050707620  Training Acc: 0.985937536 Testing Acc: 0.988757730\n",
            "Epoch: 98 Training Loss: 0.037779689 Testing Loss: 0.044747557  Training Acc: 0.988476574 Testing Acc: 0.989389420\n",
            "Epoch: 99 Training Loss: 0.038716555 Testing Loss: 0.046828512  Training Acc: 0.990136743 Testing Acc: 0.989361644\n",
            "Epoch: 100 Training Loss: 0.039720286 Testing Loss: 0.047279071  Training Acc: 0.985546887 Testing Acc: 0.989051342\n",
            "Epoch: 101 Training Loss: 0.044693228 Testing Loss: 0.045670293  Training Acc: 0.987500012 Testing Acc: 0.989527881\n",
            "Epoch: 102 Training Loss: 0.035376549 Testing Loss: 0.046289731  Training Acc: 0.989648461 Testing Acc: 0.989322901\n",
            "Epoch: 103 Training Loss: 0.036239550 Testing Loss: 0.044467125  Training Acc: 0.989941418 Testing Acc: 0.989876986\n",
            "Epoch: 104 Training Loss: 0.032503497 Testing Loss: 0.045070808  Training Acc: 0.992480457 Testing Acc: 0.989699662\n",
            "Epoch: 105 Training Loss: 0.030699937 Testing Loss: 0.043306779  Training Acc: 0.991503894 Testing Acc: 0.990004420\n",
            "Epoch: 106 Training Loss: 0.028258875 Testing Loss: 0.047661390  Training Acc: 0.991308630 Testing Acc: 0.989345074\n",
            "Epoch: 107 Training Loss: 0.044545304 Testing Loss: 0.046892505  Training Acc: 0.990136743 Testing Acc: 0.990026593\n",
            "Epoch: 108 Training Loss: 0.045769662 Testing Loss: 0.051565912  Training Acc: 0.988769531 Testing Acc: 0.989372790\n",
            "Epoch: 109 Training Loss: 0.056538429 Testing Loss: 0.053116724  Training Acc: 0.984765649 Testing Acc: 0.988358796\n",
            "Epoch: 110 Training Loss: 0.043616198 Testing Loss: 0.051100232  Training Acc: 0.987304688 Testing Acc: 0.989095688\n",
            "Epoch: 111 Training Loss: 0.037902988 Testing Loss: 0.050264962  Training Acc: 0.989746094 Testing Acc: 0.988918364\n",
            "Epoch: 112 Training Loss: 0.088995174 Testing Loss: 0.047147095  Training Acc: 0.988378942 Testing Acc: 0.989638746\n",
            "Epoch: 113 Training Loss: 0.055458158 Testing Loss: 0.050936226  Training Acc: 0.984179676 Testing Acc: 0.988868535\n",
            "Epoch: 114 Training Loss: 0.038810454 Testing Loss: 0.051873587  Training Acc: 0.989550769 Testing Acc: 0.988785386\n",
            "Epoch: 115 Training Loss: 0.042173501 Testing Loss: 0.050081126  Training Acc: 0.988085926 Testing Acc: 0.988452971\n",
            "Epoch: 116 Training Loss: 0.042629458 Testing Loss: 0.053128544  Training Acc: 0.988085926 Testing Acc: 0.987898886\n",
            "Epoch: 117 Training Loss: 0.037514471 Testing Loss: 0.048643071  Training Acc: 0.989941418 Testing Acc: 0.988785386\n",
            "Epoch: 118 Training Loss: 0.033866696 Testing Loss: 0.045791809  Training Acc: 0.989355505 Testing Acc: 0.989178836\n",
            "Epoch: 119 Training Loss: 0.031921789 Testing Loss: 0.045977931  Training Acc: 0.989257812 Testing Acc: 0.989167750\n",
            "Epoch: 120 Training Loss: 0.094656043 Testing Loss: 0.054014124  Training Acc: 0.980273426 Testing Acc: 0.988358796\n",
            "Epoch: 121 Training Loss: 0.068102419 Testing Loss: 0.058348194  Training Acc: 0.981738269 Testing Acc: 0.987438977\n",
            "Epoch: 122 Training Loss: 0.042786442 Testing Loss: 0.051215556  Training Acc: 0.987304688 Testing Acc: 0.988408685\n",
            "Epoch: 123 Training Loss: 0.037073180 Testing Loss: 0.050898567  Training Acc: 0.990429699 Testing Acc: 0.988652408\n",
            "Epoch: 124 Training Loss: 0.035878237 Testing Loss: 0.047025006  Training Acc: 0.990332067 Testing Acc: 0.989128947\n",
            "Epoch: 125 Training Loss: 0.053321183 Testing Loss: 0.050210744  Training Acc: 0.988281250 Testing Acc: 0.988563776\n",
            "Epoch: 126 Training Loss: 0.043091819 Testing Loss: 0.051244441  Training Acc: 0.986914098 Testing Acc: 0.988464057\n",
            "Epoch: 127 Training Loss: 0.033158008 Testing Loss: 0.046580825  Training Acc: 0.990332067 Testing Acc: 0.989067972\n",
            "Epoch: 128 Training Loss: 0.032406665 Testing Loss: 0.048256755  Training Acc: 0.990332067 Testing Acc: 0.989001513\n",
            "Epoch: 129 Training Loss: 0.037752498 Testing Loss: 0.052692581  Training Acc: 0.987500012 Testing Acc: 0.988635778\n",
            "Epoch: 130 Training Loss: 0.032992855 Testing Loss: 0.051553104  Training Acc: 0.990625024 Testing Acc: 0.988680184\n",
            "Epoch: 131 Training Loss: 0.032505225 Testing Loss: 0.047186472  Training Acc: 0.990917981 Testing Acc: 0.989489138\n",
            "Epoch: 132 Training Loss: 0.026522635 Testing Loss: 0.051555391  Training Acc: 0.991894543 Testing Acc: 0.988835275\n",
            "Epoch: 133 Training Loss: 0.029816275 Testing Loss: 0.050157309  Training Acc: 0.991015613 Testing Acc: 0.989056945\n",
            "Epoch: 134 Training Loss: 0.027789360 Testing Loss: 0.053127326  Training Acc: 0.991894543 Testing Acc: 0.988962710\n",
            "Epoch: 135 Training Loss: 0.029485404 Testing Loss: 0.052092973  Training Acc: 0.990722656 Testing Acc: 0.988763273\n",
            "Epoch: 136 Training Loss: 0.023580380 Testing Loss: 0.052361246  Training Acc: 0.993359387 Testing Acc: 0.989295185\n",
            "Epoch: 137 Training Loss: 0.046623792 Testing Loss: 0.047210738  Training Acc: 0.991699219 Testing Acc: 0.989910185\n",
            "Epoch: 138 Training Loss: 0.040199570 Testing Loss: 0.053205192  Training Acc: 0.987890661 Testing Acc: 0.988175988\n",
            "Epoch: 139 Training Loss: 0.033214547 Testing Loss: 0.049512386  Training Acc: 0.991699219 Testing Acc: 0.989162207\n",
            "Epoch: 140 Training Loss: 0.027087411 Testing Loss: 0.047295343  Training Acc: 0.993164062 Testing Acc: 0.989782751\n",
            "Epoch: 141 Training Loss: 0.026129020 Testing Loss: 0.050897982  Training Acc: 0.992089868 Testing Acc: 0.989328444\n",
            "Epoch: 142 Training Loss: 0.026982635 Testing Loss: 0.046028480  Training Acc: 0.993261755 Testing Acc: 0.990098596\n",
            "Epoch: 143 Training Loss: 0.020674270 Testing Loss: 0.047974158  Training Acc: 0.993554711 Testing Acc: 0.989566684\n",
            "Epoch: 144 Training Loss: 0.022272078 Testing Loss: 0.048766434  Training Acc: 0.992773473 Testing Acc: 0.989694118\n",
            "Epoch: 145 Training Loss: 0.026874756 Testing Loss: 0.050800644  Training Acc: 0.990625024 Testing Acc: 0.989350557\n",
            "Epoch: 146 Training Loss: 0.026245294 Testing Loss: 0.054188993  Training Acc: 0.992382824 Testing Acc: 0.988358796\n",
            "Epoch: 147 Training Loss: 0.022827314 Testing Loss: 0.049623284  Training Acc: 0.993652344 Testing Acc: 0.989771724\n",
            "Epoch: 148 Training Loss: 0.032876689 Testing Loss: 0.049555883  Training Acc: 0.988281250 Testing Acc: 0.989694118\n",
            "Epoch: 149 Training Loss: 0.033671051 Testing Loss: 0.052613545  Training Acc: 0.990820348 Testing Acc: 0.988979340\n",
            "Epoch: 150 Training Loss: 0.029526321 Testing Loss: 0.051126525  Training Acc: 0.991406262 Testing Acc: 0.989389420\n",
            "Epoch: 151 Training Loss: 0.030086670 Testing Loss: 0.053498164  Training Acc: 0.990332067 Testing Acc: 0.988940597\n",
            "Epoch: 152 Training Loss: 0.031756960 Testing Loss: 0.055933163  Training Acc: 0.991015613 Testing Acc: 0.988552690\n",
            "Epoch: 153 Training Loss: 0.031504340 Testing Loss: 0.053356692  Training Acc: 0.989648461 Testing Acc: 0.989029229\n",
            "Epoch: 154 Training Loss: 0.033903383 Testing Loss: 0.051283162  Training Acc: 0.988574207 Testing Acc: 0.989444792\n",
            "Epoch: 155 Training Loss: 0.041861862 Testing Loss: 0.050251067  Training Acc: 0.989257812 Testing Acc: 0.989594400\n",
            "Epoch: 156 Training Loss: 0.033770353 Testing Loss: 0.047520477  Training Acc: 0.990332067 Testing Acc: 0.989555597\n",
            "Epoch: 157 Training Loss: 0.027675409 Testing Loss: 0.046246849  Training Acc: 0.991894543 Testing Acc: 0.989849210\n",
            "Epoch: 158 Training Loss: 0.026588714 Testing Loss: 0.049011946  Training Acc: 0.991894543 Testing Acc: 0.989544511\n",
            "Epoch: 159 Training Loss: 0.027834302 Testing Loss: 0.046577990  Training Acc: 0.990429699 Testing Acc: 0.989816010\n",
            "Epoch: 160 Training Loss: 0.022345044 Testing Loss: 0.045715652  Training Acc: 0.993359387 Testing Acc: 0.990115166\n",
            "Epoch: 161 Training Loss: 0.025579771 Testing Loss: 0.050451793  Training Acc: 0.991113305 Testing Acc: 0.989350557\n",
            "Epoch: 162 Training Loss: 0.023877323 Testing Loss: 0.048212651  Training Acc: 0.993164062 Testing Acc: 0.989705205\n",
            "Epoch: 163 Training Loss: 0.024200462 Testing Loss: 0.046139404  Training Acc: 0.993554711 Testing Acc: 0.990275919\n",
            "Epoch: 164 Training Loss: 0.017878165 Testing Loss: 0.047637414  Training Acc: 0.995214880 Testing Acc: 0.990226030\n",
            "Epoch: 165 Training Loss: 0.026198948 Testing Loss: 0.046518508  Training Acc: 0.992968738 Testing Acc: 0.989998817\n",
            "Epoch: 166 Training Loss: 0.019446079 Testing Loss: 0.048944071  Training Acc: 0.994628906 Testing Acc: 0.990109682\n",
            "Epoch: 167 Training Loss: 0.046015628 Testing Loss: 0.051821150  Training Acc: 0.990332067 Testing Acc: 0.989683032\n",
            "Epoch: 168 Training Loss: 0.045295257 Testing Loss: 0.052642707  Training Acc: 0.987304688 Testing Acc: 0.989450276\n",
            "Epoch: 169 Training Loss: 0.044448018 Testing Loss: 0.054434452  Training Acc: 0.987792969 Testing Acc: 0.989001513\n",
            "Epoch: 170 Training Loss: 0.041391414 Testing Loss: 0.050100505  Training Acc: 0.988281250 Testing Acc: 0.989284098\n",
            "Epoch: 171 Training Loss: 0.051737070 Testing Loss: 0.051479749  Training Acc: 0.986914098 Testing Acc: 0.989306271\n",
            "Epoch: 172 Training Loss: 0.046578854 Testing Loss: 0.055226818  Training Acc: 0.986035168 Testing Acc: 0.988081753\n",
            "Epoch: 173 Training Loss: 0.032319687 Testing Loss: 0.052054256  Training Acc: 0.989843786 Testing Acc: 0.988718927\n",
            "Epoch: 174 Training Loss: 0.027075818 Testing Loss: 0.050177768  Training Acc: 0.992871106 Testing Acc: 0.989128947\n",
            "Epoch: 175 Training Loss: 0.040513676 Testing Loss: 0.048904225  Training Acc: 0.989257812 Testing Acc: 0.989511251\n",
            "Epoch: 176 Training Loss: 0.037027799 Testing Loss: 0.051902868  Training Acc: 0.989160180 Testing Acc: 0.988635778\n",
            "Epoch: 177 Training Loss: 0.032797407 Testing Loss: 0.047680195  Training Acc: 0.989550769 Testing Acc: 0.989372790\n",
            "Epoch: 178 Training Loss: 0.033782803 Testing Loss: 0.049684625  Training Acc: 0.987304688 Testing Acc: 0.989012599\n",
            "Epoch: 179 Training Loss: 0.037660968 Testing Loss: 0.050526496  Training Acc: 0.990039051 Testing Acc: 0.989178836\n",
            "Epoch: 180 Training Loss: 0.047925320 Testing Loss: 0.051879026  Training Acc: 0.989453137 Testing Acc: 0.989267468\n",
            "Epoch: 181 Training Loss: 0.036806732 Testing Loss: 0.053630564  Training Acc: 0.990332067 Testing Acc: 0.989167750\n",
            "Epoch: 182 Training Loss: 0.031954616 Testing Loss: 0.048494887  Training Acc: 0.988378942 Testing Acc: 0.989633143\n",
            "Epoch: 183 Training Loss: 0.033134278 Testing Loss: 0.050406184  Training Acc: 0.990234375 Testing Acc: 0.989261925\n",
            "Epoch: 184 Training Loss: 0.034045126 Testing Loss: 0.052417930  Training Acc: 0.988476574 Testing Acc: 0.989239812\n",
            "Epoch: 185 Training Loss: 0.029324228 Testing Loss: 0.057380345  Training Acc: 0.991601586 Testing Acc: 0.988408685\n",
            "Epoch: 186 Training Loss: 0.029803423 Testing Loss: 0.053600214  Training Acc: 0.991699219 Testing Acc: 0.989134490\n",
            "Epoch: 187 Training Loss: 0.021597063 Testing Loss: 0.051497124  Training Acc: 0.993457019 Testing Acc: 0.989616513\n",
            "Epoch: 188 Training Loss: 0.018347343 Testing Loss: 0.049884010  Training Acc: 0.994726598 Testing Acc: 0.989638746\n",
            "Epoch: 189 Training Loss: 0.026292894 Testing Loss: 0.051973548  Training Acc: 0.992382824 Testing Acc: 0.989766121\n",
            "Epoch: 190 Training Loss: 0.024366759 Testing Loss: 0.053998984  Training Acc: 0.993554711 Testing Acc: 0.988768756\n",
            "Epoch: 191 Training Loss: 0.021106474 Testing Loss: 0.049389575  Training Acc: 0.994335949 Testing Acc: 0.989860356\n",
            "Epoch: 192 Training Loss: 0.017535422 Testing Loss: 0.051664509  Training Acc: 0.994433582 Testing Acc: 0.989516795\n",
            "Epoch: 193 Training Loss: 0.032120313 Testing Loss: 0.051166043  Training Acc: 0.991113305 Testing Acc: 0.989744008\n",
            "Epoch: 194 Training Loss: 0.045552082 Testing Loss: 0.053008374  Training Acc: 0.986425817 Testing Acc: 0.989278555\n",
            "Epoch: 195 Training Loss: 0.033766199 Testing Loss: 0.052533232  Training Acc: 0.990234375 Testing Acc: 0.989444792\n",
            "Epoch: 196 Training Loss: 0.028397668 Testing Loss: 0.052381448  Training Acc: 0.991308630 Testing Acc: 0.989433706\n",
            "Epoch: 197 Training Loss: 0.026955931 Testing Loss: 0.051332116  Training Acc: 0.993066430 Testing Acc: 0.989627600\n",
            "Epoch: 198 Training Loss: 0.028847445 Testing Loss: 0.050254837  Training Acc: 0.991992176 Testing Acc: 0.989677489\n",
            "Epoch: 199 Training Loss: 0.020295542 Testing Loss: 0.047952823  Training Acc: 0.994433582 Testing Acc: 0.989932358\n",
            "Epoch: 200 Training Loss: 0.037592564 Testing Loss: 0.046921074  Training Acc: 0.992968738 Testing Acc: 0.990109682\n",
            "Epoch: 201 Training Loss: 0.047650907 Testing Loss: 0.053902309  Training Acc: 0.989550769 Testing Acc: 0.988746643\n",
            "Epoch: 202 Training Loss: 0.026007006 Testing Loss: 0.049860861  Training Acc: 0.993066430 Testing Acc: 0.989899099\n",
            "Epoch: 203 Training Loss: 0.027432099 Testing Loss: 0.049039975  Training Acc: 0.993261755 Testing Acc: 0.989993334\n",
            "Epoch: 204 Training Loss: 0.023541754 Testing Loss: 0.049594507  Training Acc: 0.991796911 Testing Acc: 0.990043163\n",
            "Epoch: 205 Training Loss: 0.025526315 Testing Loss: 0.049854245  Training Acc: 0.991894543 Testing Acc: 0.989749491\n",
            "Epoch: 206 Training Loss: 0.027033076 Testing Loss: 0.053547237  Training Acc: 0.992285192 Testing Acc: 0.989128947\n",
            "Epoch: 207 Training Loss: 0.044591933 Testing Loss: 0.050581682  Training Acc: 0.990625024 Testing Acc: 0.989428163\n",
            "Epoch: 208 Training Loss: 0.045181192 Testing Loss: 0.051921915  Training Acc: 0.988671899 Testing Acc: 0.989101231\n",
            "Epoch: 209 Training Loss: 0.036431313 Testing Loss: 0.051318083  Training Acc: 0.989062488 Testing Acc: 0.988929510\n",
            "Epoch: 210 Training Loss: 0.026402226 Testing Loss: 0.046344638  Training Acc: 0.993359387 Testing Acc: 0.989943445\n",
            "Epoch: 211 Training Loss: 0.032062415 Testing Loss: 0.052991070  Training Acc: 0.991601586 Testing Acc: 0.989256442\n",
            "Epoch: 212 Training Loss: 0.048015911 Testing Loss: 0.052217539  Training Acc: 0.990625024 Testing Acc: 0.989378273\n",
            "Epoch: 213 Training Loss: 0.025764067 Testing Loss: 0.048550941  Training Acc: 0.994042993 Testing Acc: 0.989871442\n",
            "Epoch: 214 Training Loss: 0.032296497 Testing Loss: 0.050122898  Training Acc: 0.991406262 Testing Acc: 0.989572227\n",
            "Epoch: 215 Training Loss: 0.022247063 Testing Loss: 0.051512774  Training Acc: 0.993652344 Testing Acc: 0.989500165\n",
            "Epoch: 216 Training Loss: 0.035055667 Testing Loss: 0.051114831  Training Acc: 0.993164062 Testing Acc: 0.989367187\n",
            "Epoch: 217 Training Loss: 0.045320380 Testing Loss: 0.053403977  Training Acc: 0.988671899 Testing Acc: 0.989245296\n",
            "Epoch: 218 Training Loss: 0.025561912 Testing Loss: 0.051898710  Training Acc: 0.993066430 Testing Acc: 0.989644229\n",
            "Epoch: 219 Training Loss: 0.031078285 Testing Loss: 0.049262479  Training Acc: 0.991699219 Testing Acc: 0.990093052\n",
            "Epoch: 220 Training Loss: 0.026626660 Testing Loss: 0.049065854  Training Acc: 0.992871106 Testing Acc: 0.990032077\n",
            "Epoch: 221 Training Loss: 0.023168292 Testing Loss: 0.047733232  Training Acc: 0.992480457 Testing Acc: 0.990076423\n",
            "Epoch: 222 Training Loss: 0.022702886 Testing Loss: 0.051146314  Training Acc: 0.993750036 Testing Acc: 0.989649773\n",
            "Epoch: 223 Training Loss: 0.029142220 Testing Loss: 0.047879741  Training Acc: 0.990527332 Testing Acc: 0.990209401\n",
            "Epoch: 224 Training Loss: 0.026504517 Testing Loss: 0.052264448  Training Acc: 0.992773473 Testing Acc: 0.989588857\n",
            "Epoch: 225 Training Loss: 0.022650050 Testing Loss: 0.048774283  Training Acc: 0.993750036 Testing Acc: 0.990148425\n",
            "Epoch: 226 Training Loss: 0.034152307 Testing Loss: 0.050591409  Training Acc: 0.993261755 Testing Acc: 0.990037680\n",
            "Epoch: 227 Training Loss: 0.032745019 Testing Loss: 0.056342244  Training Acc: 0.990039051 Testing Acc: 0.989034772\n",
            "Epoch: 228 Training Loss: 0.024813501 Testing Loss: 0.053414028  Training Acc: 0.992187500 Testing Acc: 0.989538968\n",
            "Epoch: 229 Training Loss: 0.034443680 Testing Loss: 0.052849092  Training Acc: 0.991894543 Testing Acc: 0.989705205\n",
            "Epoch: 230 Training Loss: 0.034120783 Testing Loss: 0.057963427  Training Acc: 0.989648461 Testing Acc: 0.988669038\n",
            "Epoch: 231 Training Loss: 0.025958097 Testing Loss: 0.053303495  Training Acc: 0.991113305 Testing Acc: 0.989660859\n",
            "Epoch: 232 Training Loss: 0.041858219 Testing Loss: 0.053336374  Training Acc: 0.988867223 Testing Acc: 0.989173293\n",
            "Epoch: 233 Training Loss: 0.028574144 Testing Loss: 0.050311081  Training Acc: 0.992675781 Testing Acc: 0.989594400\n",
            "Epoch: 234 Training Loss: 0.033948816 Testing Loss: 0.050882686  Training Acc: 0.991308630 Testing Acc: 0.989356160\n",
            "Epoch: 235 Training Loss: 0.031502843 Testing Loss: 0.051859472  Training Acc: 0.990136743 Testing Acc: 0.989300728\n",
            "Epoch: 236 Training Loss: 0.022241490 Testing Loss: 0.047733746  Training Acc: 0.993066430 Testing Acc: 0.990087509\n",
            "Epoch: 237 Training Loss: 0.020645013 Testing Loss: 0.046236947  Training Acc: 0.994433582 Testing Acc: 0.990237117\n",
            "Epoch: 238 Training Loss: 0.023590757 Testing Loss: 0.048844010  Training Acc: 0.993652344 Testing Acc: 0.990059793\n",
            "Epoch: 239 Training Loss: 0.024919314 Testing Loss: 0.048066773  Training Acc: 0.993261755 Testing Acc: 0.990541875\n",
            "Epoch: 240 Training Loss: 0.022626698 Testing Loss: 0.050374534  Training Acc: 0.992675781 Testing Acc: 0.989982188\n",
            "Epoch: 241 Training Loss: 0.028560072 Testing Loss: 0.049713872  Training Acc: 0.989843786 Testing Acc: 0.990159571\n",
            "Epoch: 242 Training Loss: 0.031871717 Testing Loss: 0.053343296  Training Acc: 0.990136743 Testing Acc: 0.989428163\n",
            "Epoch: 243 Training Loss: 0.027773499 Testing Loss: 0.052755345  Training Acc: 0.990527332 Testing Acc: 0.989527881\n",
            "Epoch: 244 Training Loss: 0.034541197 Testing Loss: 0.050581917  Training Acc: 0.989746094 Testing Acc: 0.989494622\n",
            "Epoch: 245 Training Loss: 0.024499685 Testing Loss: 0.052748650  Training Acc: 0.993164062 Testing Acc: 0.989616513\n",
            "Epoch: 246 Training Loss: 0.019532878 Testing Loss: 0.050738435  Training Acc: 0.993847668 Testing Acc: 0.989926815\n",
            "Epoch: 247 Training Loss: 0.032820340 Testing Loss: 0.054489568  Training Acc: 0.993750036 Testing Acc: 0.989766121\n",
            "Epoch: 248 Training Loss: 0.023397952 Testing Loss: 0.054023888  Training Acc: 0.993457019 Testing Acc: 0.989422619\n",
            "Epoch: 249 Training Loss: 0.039784800 Testing Loss: 0.050772768  Training Acc: 0.992773473 Testing Acc: 0.990131795\n",
            "Epoch: 250 Training Loss: 0.029676383 Testing Loss: 0.055439021  Training Acc: 0.991699219 Testing Acc: 0.989156663\n",
            "Epoch: 251 Training Loss: 0.027771506 Testing Loss: 0.051369220  Training Acc: 0.990820348 Testing Acc: 0.989644229\n",
            "Epoch: 252 Training Loss: 0.024606628 Testing Loss: 0.054630559  Training Acc: 0.992187500 Testing Acc: 0.989561141\n",
            "Epoch: 253 Training Loss: 0.018768642 Testing Loss: 0.056100953  Training Acc: 0.994726598 Testing Acc: 0.989677489\n",
            "Epoch: 254 Training Loss: 0.019118203 Testing Loss: 0.058405388  Training Acc: 0.994433582 Testing Acc: 0.989594400\n",
            "Epoch: 255 Training Loss: 0.017548151 Testing Loss: 0.051840305  Training Acc: 0.994824231 Testing Acc: 0.990209401\n",
            "Epoch: 256 Training Loss: 0.019313460 Testing Loss: 0.053443693  Training Acc: 0.994140625 Testing Acc: 0.989915729\n",
            "Epoch: 257 Training Loss: 0.015477816 Testing Loss: 0.055390004  Training Acc: 0.995312512 Testing Acc: 0.989633143\n",
            "Epoch: 258 Training Loss: 0.018377433 Testing Loss: 0.051784910  Training Acc: 0.994433582 Testing Acc: 0.989998817\n",
            "Epoch: 259 Training Loss: 0.018496076 Testing Loss: 0.049716111  Training Acc: 0.994824231 Testing Acc: 0.990264773\n",
            "Epoch: 260 Training Loss: 0.016520228 Testing Loss: 0.053579338  Training Acc: 0.994531274 Testing Acc: 0.990314662\n",
            "Epoch: 261 Training Loss: 0.018910311 Testing Loss: 0.055676114  Training Acc: 0.994531274 Testing Acc: 0.989361644\n",
            "Epoch: 262 Training Loss: 0.015230042 Testing Loss: 0.051747251  Training Acc: 0.996191442 Testing Acc: 0.990375638\n",
            "Epoch: 263 Training Loss: 0.017312234 Testing Loss: 0.054650579  Training Acc: 0.995898426 Testing Acc: 0.989777207\n",
            "Epoch: 264 Training Loss: 0.021379173 Testing Loss: 0.051156662  Training Acc: 0.993457019 Testing Acc: 0.990397751\n",
            "Epoch: 265 Training Loss: 0.024887752 Testing Loss: 0.056791708  Training Acc: 0.993750036 Testing Acc: 0.989289641\n",
            "Epoch: 266 Training Loss: 0.018633684 Testing Loss: 0.052730870  Training Acc: 0.994921863 Testing Acc: 0.990253747\n",
            "Epoch: 267 Training Loss: 0.014622338 Testing Loss: 0.054090306  Training Acc: 0.995996118 Testing Acc: 0.989998817\n",
            "Epoch: 268 Training Loss: 0.015647519 Testing Loss: 0.051480409  Training Acc: 0.993554711 Testing Acc: 0.990203917\n",
            "Epoch: 269 Training Loss: 0.017213166 Testing Loss: 0.051580511  Training Acc: 0.995117188 Testing Acc: 0.990397751\n",
            "Epoch: 270 Training Loss: 0.023794346 Testing Loss: 0.049562544  Training Acc: 0.992968738 Testing Acc: 0.990780115\n",
            "Epoch: 271 Training Loss: 0.014997840 Testing Loss: 0.051476903  Training Acc: 0.994921863 Testing Acc: 0.990414381\n",
            "Epoch: 272 Training Loss: 0.017631806 Testing Loss: 0.048455581  Training Acc: 0.995996118 Testing Acc: 0.990829945\n",
            "Epoch: 273 Training Loss: 0.025476580 Testing Loss: 0.052168027  Training Acc: 0.993066430 Testing Acc: 0.990275919\n",
            "Epoch: 274 Training Loss: 0.018654633 Testing Loss: 0.052529827  Training Acc: 0.994726598 Testing Acc: 0.990026593\n",
            "Epoch: 275 Training Loss: 0.029348901 Testing Loss: 0.052809499  Training Acc: 0.993359387 Testing Acc: 0.990231574\n",
            "Epoch: 276 Training Loss: 0.024995066 Testing Loss: 0.051416233  Training Acc: 0.993750036 Testing Acc: 0.990198314\n",
            "Epoch: 277 Training Loss: 0.018695500 Testing Loss: 0.052565813  Training Acc: 0.994042993 Testing Acc: 0.989987791\n",
            "Epoch: 278 Training Loss: 0.016891196 Testing Loss: 0.053043120  Training Acc: 0.994921863 Testing Acc: 0.990170658\n",
            "Epoch: 279 Training Loss: 0.016341919 Testing Loss: 0.051325064  Training Acc: 0.994531274 Testing Acc: 0.990364552\n",
            "Epoch: 280 Training Loss: 0.019816775 Testing Loss: 0.054879379  Training Acc: 0.994433582 Testing Acc: 0.990009964\n",
            "Epoch: 281 Training Loss: 0.028094897 Testing Loss: 0.052563965  Training Acc: 0.992578149 Testing Acc: 0.990696967\n",
            "Epoch: 282 Training Loss: 0.041713864 Testing Loss: 0.062999696  Training Acc: 0.990722656 Testing Acc: 0.989018142\n",
            "Epoch: 283 Training Loss: 0.022491533 Testing Loss: 0.061090682  Training Acc: 0.994433582 Testing Acc: 0.989267468\n",
            "Epoch: 284 Training Loss: 0.028278327 Testing Loss: 0.055655982  Training Acc: 0.992773473 Testing Acc: 0.989838183\n",
            "Epoch: 285 Training Loss: 0.018608542 Testing Loss: 0.054205198  Training Acc: 0.995410144 Testing Acc: 0.989710748\n",
            "Epoch: 286 Training Loss: 0.018942798 Testing Loss: 0.053682707  Training Acc: 0.994140625 Testing Acc: 0.990048707\n",
            "Epoch: 287 Training Loss: 0.030449754 Testing Loss: 0.058904529  Training Acc: 0.992675781 Testing Acc: 0.989212096\n",
            "Epoch: 288 Training Loss: 0.020484572 Testing Loss: 0.051260334  Training Acc: 0.995605469 Testing Acc: 0.990176141\n",
            "Epoch: 289 Training Loss: 0.017132221 Testing Loss: 0.049387895  Training Acc: 0.995410144 Testing Acc: 0.990763485\n",
            "Epoch: 290 Training Loss: 0.024886696 Testing Loss: 0.050956201  Training Acc: 0.991113305 Testing Acc: 0.990253747\n",
            "Epoch: 291 Training Loss: 0.018265190 Testing Loss: 0.051042277  Training Acc: 0.994042993 Testing Acc: 0.990359008\n",
            "Epoch: 292 Training Loss: 0.014131098 Testing Loss: 0.049932290  Training Acc: 0.995898426 Testing Acc: 0.990719199\n",
            "Epoch: 293 Training Loss: 0.018006159 Testing Loss: 0.052586883  Training Acc: 0.994921863 Testing Acc: 0.990015447\n",
            "Epoch: 294 Training Loss: 0.013125732 Testing Loss: 0.049687229  Training Acc: 0.995800793 Testing Acc: 0.990519702\n",
            "Epoch: 295 Training Loss: 0.014277500 Testing Loss: 0.053545319  Training Acc: 0.995117188 Testing Acc: 0.990613878\n",
            "Epoch: 296 Training Loss: 0.013203322 Testing Loss: 0.053009778  Training Acc: 0.996093750 Testing Acc: 0.989882469\n",
            "Epoch: 297 Training Loss: 0.012431440 Testing Loss: 0.055001430  Training Acc: 0.996582031 Testing Acc: 0.990331292\n",
            "Epoch: 298 Training Loss: 0.015685951 Testing Loss: 0.051211242  Training Acc: 0.996191442 Testing Acc: 0.990757942\n",
            "Epoch: 299 Training Loss: 0.015931372 Testing Loss: 0.052176811  Training Acc: 0.995996118 Testing Acc: 0.990613878\n",
            "Epoch: 300 Training Loss: 0.014765330 Testing Loss: 0.052037451  Training Acc: 0.995703161 Testing Acc: 0.990458727\n",
            "Epoch: 301 Training Loss: 0.012423920 Testing Loss: 0.052474476  Training Acc: 0.996191442 Testing Acc: 0.990431011\n",
            "Epoch: 302 Training Loss: 0.019010752 Testing Loss: 0.053606275  Training Acc: 0.994140625 Testing Acc: 0.990264773\n",
            "Epoch: 303 Training Loss: 0.010217558 Testing Loss: 0.057435568  Training Acc: 0.997265637 Testing Acc: 0.989732862\n",
            "Epoch: 304 Training Loss: 0.011452013 Testing Loss: 0.052913137  Training Acc: 0.996484399 Testing Acc: 0.990741313\n",
            "Epoch: 305 Training Loss: 0.025165725 Testing Loss: 0.053520959  Training Acc: 0.995410144 Testing Acc: 0.990691483\n",
            "Epoch: 306 Training Loss: 0.019371724 Testing Loss: 0.054706093  Training Acc: 0.992773473 Testing Acc: 0.990658224\n",
            "Epoch: 307 Training Loss: 0.018584056 Testing Loss: 0.056376167  Training Acc: 0.995605469 Testing Acc: 0.990347922\n",
            "Epoch: 308 Training Loss: 0.018518591 Testing Loss: 0.057328757  Training Acc: 0.994140625 Testing Acc: 0.990287006\n",
            "Epoch: 309 Training Loss: 0.015388029 Testing Loss: 0.055276059  Training Acc: 0.996093750 Testing Acc: 0.990120769\n",
            "Epoch: 310 Training Loss: 0.014208010 Testing Loss: 0.056136660  Training Acc: 0.995214880 Testing Acc: 0.990170658\n",
            "Epoch: 311 Training Loss: 0.016779695 Testing Loss: 0.056428470  Training Acc: 0.994824231 Testing Acc: 0.990442097\n",
            "Epoch: 312 Training Loss: 0.019773921 Testing Loss: 0.058357995  Training Acc: 0.995214880 Testing Acc: 0.990209401\n",
            "Epoch: 313 Training Loss: 0.016127309 Testing Loss: 0.054730538  Training Acc: 0.995019555 Testing Acc: 0.990658224\n",
            "Epoch: 314 Training Loss: 0.014603947 Testing Loss: 0.055649519  Training Acc: 0.995605469 Testing Acc: 0.990480900\n",
            "Epoch: 315 Training Loss: 0.017952321 Testing Loss: 0.054067500  Training Acc: 0.993750036 Testing Acc: 0.990641594\n",
            "Epoch: 316 Training Loss: 0.022456026 Testing Loss: 0.058620948  Training Acc: 0.993750036 Testing Acc: 0.989799380\n",
            "Epoch: 317 Training Loss: 0.019151935 Testing Loss: 0.054932352  Training Acc: 0.994726598 Testing Acc: 0.990708053\n",
            "Epoch: 318 Training Loss: 0.015730957 Testing Loss: 0.053379305  Training Acc: 0.995507836 Testing Acc: 0.990663707\n",
            "Epoch: 319 Training Loss: 0.020482447 Testing Loss: 0.052062992  Training Acc: 0.994433582 Testing Acc: 0.990636051\n",
            "Epoch: 320 Training Loss: 0.014360993 Testing Loss: 0.056508802  Training Acc: 0.996484399 Testing Acc: 0.989816010\n",
            "Epoch: 321 Training Loss: 0.048897933 Testing Loss: 0.057064172  Training Acc: 0.991992176 Testing Acc: 0.990314662\n",
            "Epoch: 322 Training Loss: 0.039016224 Testing Loss: 0.063076280  Training Acc: 0.989062488 Testing Acc: 0.989428163\n",
            "Epoch: 323 Training Loss: 0.019602019 Testing Loss: 0.058799557  Training Acc: 0.993652344 Testing Acc: 0.989854813\n",
            "Epoch: 324 Training Loss: 0.015363524 Testing Loss: 0.051550105  Training Acc: 0.995312512 Testing Acc: 0.990896463\n",
            "Epoch: 325 Training Loss: 0.053042222 Testing Loss: 0.055739727  Training Acc: 0.993359387 Testing Acc: 0.989998817\n",
            "Epoch: 326 Training Loss: 0.038056836 Testing Loss: 0.059074055  Training Acc: 0.991113305 Testing Acc: 0.989123464\n",
            "Epoch: 327 Training Loss: 0.044716679 Testing Loss: 0.057193778  Training Acc: 0.992773473 Testing Acc: 0.989428163\n",
            "Epoch: 328 Training Loss: 0.024294591 Testing Loss: 0.057260960  Training Acc: 0.992578149 Testing Acc: 0.989289641\n",
            "Epoch: 329 Training Loss: 0.019842681 Testing Loss: 0.053565495  Training Acc: 0.994921863 Testing Acc: 0.989760578\n",
            "Epoch: 330 Training Loss: 0.018303545 Testing Loss: 0.051195890  Training Acc: 0.994921863 Testing Acc: 0.990552962\n",
            "Epoch: 331 Training Loss: 0.013635332 Testing Loss: 0.051574998  Training Acc: 0.995507836 Testing Acc: 0.990536332\n",
            "Epoch: 332 Training Loss: 0.013770153 Testing Loss: 0.055251654  Training Acc: 0.996289074 Testing Acc: 0.990292549\n",
            "Epoch: 333 Training Loss: 0.030576706 Testing Loss: 0.055354510  Training Acc: 0.991406262 Testing Acc: 0.990070939\n",
            "Epoch: 334 Training Loss: 0.019135414 Testing Loss: 0.052894071  Training Acc: 0.993066430 Testing Acc: 0.990347922\n",
            "Epoch: 335 Training Loss: 0.021006985 Testing Loss: 0.057743736  Training Acc: 0.994824231 Testing Acc: 0.989649773\n",
            "Epoch: 336 Training Loss: 0.020335438 Testing Loss: 0.060275741  Training Acc: 0.993457019 Testing Acc: 0.989633143\n",
            "Epoch: 337 Training Loss: 0.022450669 Testing Loss: 0.055507571  Training Acc: 0.994433582 Testing Acc: 0.990181684\n",
            "Epoch: 338 Training Loss: 0.018583134 Testing Loss: 0.051427688  Training Acc: 0.994335949 Testing Acc: 0.990392268\n",
            "Epoch: 339 Training Loss: 0.028569598 Testing Loss: 0.052680325  Training Acc: 0.993847668 Testing Acc: 0.990608335\n",
            "Epoch: 340 Training Loss: 0.014473802 Testing Loss: 0.052824389  Training Acc: 0.995410144 Testing Acc: 0.990464270\n",
            "Epoch: 341 Training Loss: 0.015484616 Testing Loss: 0.051050529  Training Acc: 0.996386707 Testing Acc: 0.990846574\n",
            "Epoch: 342 Training Loss: 0.014474866 Testing Loss: 0.052165769  Training Acc: 0.996289074 Testing Acc: 0.991012812\n",
            "Epoch: 343 Training Loss: 0.020344160 Testing Loss: 0.055432756  Training Acc: 0.992187500 Testing Acc: 0.990414381\n",
            "Epoch: 344 Training Loss: 0.026735047 Testing Loss: 0.058761451  Training Acc: 0.993847668 Testing Acc: 0.989827096\n",
            "Epoch: 345 Training Loss: 0.025628746 Testing Loss: 0.060957313  Training Acc: 0.991308630 Testing Acc: 0.989677489\n",
            "Epoch: 346 Training Loss: 0.025114214 Testing Loss: 0.054756355  Training Acc: 0.991308630 Testing Acc: 0.990359008\n",
            "Epoch: 347 Training Loss: 0.031500917 Testing Loss: 0.059120074  Training Acc: 0.991894543 Testing Acc: 0.989378273\n",
            "Epoch: 348 Training Loss: 0.019374074 Testing Loss: 0.053971693  Training Acc: 0.995019555 Testing Acc: 0.990525246\n",
            "Epoch: 349 Training Loss: 0.016425103 Testing Loss: 0.050023582  Training Acc: 0.995507836 Testing Acc: 0.990663707\n",
            "Epoch: 350 Training Loss: 0.015026147 Testing Loss: 0.050427247  Training Acc: 0.996289074 Testing Acc: 0.990791202\n",
            "Epoch: 351 Training Loss: 0.022003448 Testing Loss: 0.049035955  Training Acc: 0.994531274 Testing Acc: 0.991140246\n",
            "Epoch: 352 Training Loss: 0.020353923 Testing Loss: 0.047936864  Training Acc: 0.992871106 Testing Acc: 0.990890920\n",
            "Epoch: 353 Training Loss: 0.018721048 Testing Loss: 0.051317986  Training Acc: 0.995410144 Testing Acc: 0.990757942\n",
            "Epoch: 354 Training Loss: 0.016087292 Testing Loss: 0.053381391  Training Acc: 0.996093750 Testing Acc: 0.990763485\n",
            "Epoch: 355 Training Loss: 0.020131975 Testing Loss: 0.052999206  Training Acc: 0.994238317 Testing Acc: 0.990486443\n",
            "Epoch: 356 Training Loss: 0.025405386 Testing Loss: 0.056959990  Training Acc: 0.992480457 Testing Acc: 0.989677489\n",
            "Epoch: 357 Training Loss: 0.018860346 Testing Loss: 0.052359428  Training Acc: 0.994238317 Testing Acc: 0.990608335\n",
            "Epoch: 358 Training Loss: 0.024815366 Testing Loss: 0.054597747  Training Acc: 0.992968738 Testing Acc: 0.990447640\n",
            "Epoch: 359 Training Loss: 0.032339882 Testing Loss: 0.058410153  Training Acc: 0.991406262 Testing Acc: 0.989516795\n",
            "Epoch: 360 Training Loss: 0.028360216 Testing Loss: 0.051975340  Training Acc: 0.991601586 Testing Acc: 0.989937961\n",
            "Epoch: 361 Training Loss: 0.021572605 Testing Loss: 0.055519484  Training Acc: 0.993066430 Testing Acc: 0.989943445\n",
            "Epoch: 362 Training Loss: 0.021725802 Testing Loss: 0.051365241  Training Acc: 0.992871106 Testing Acc: 0.990131795\n",
            "Epoch: 363 Training Loss: 0.017144887 Testing Loss: 0.052116748  Training Acc: 0.994433582 Testing Acc: 0.990115166\n",
            "Epoch: 364 Training Loss: 0.044188306 Testing Loss: 0.052112002  Training Acc: 0.992773473 Testing Acc: 0.990026593\n",
            "Epoch: 365 Training Loss: 0.052628219 Testing Loss: 0.056805059  Training Acc: 0.987792969 Testing Acc: 0.989212096\n",
            "Epoch: 366 Training Loss: 0.037779804 Testing Loss: 0.059232831  Training Acc: 0.990625024 Testing Acc: 0.988469601\n",
            "Epoch: 367 Training Loss: 0.025785415 Testing Loss: 0.051922116  Training Acc: 0.992480457 Testing Acc: 0.989860356\n",
            "Epoch: 368 Training Loss: 0.016049067 Testing Loss: 0.049523883  Training Acc: 0.995996118 Testing Acc: 0.990602851\n",
            "Epoch: 369 Training Loss: 0.022422008 Testing Loss: 0.052478880  Training Acc: 0.991992176 Testing Acc: 0.990281403\n",
            "Epoch: 370 Training Loss: 0.015020645 Testing Loss: 0.052011777  Training Acc: 0.995507836 Testing Acc: 0.990198314\n",
            "Epoch: 371 Training Loss: 0.015223982 Testing Loss: 0.049202062  Training Acc: 0.995996118 Testing Acc: 0.990669310\n",
            "Epoch: 372 Training Loss: 0.015528611 Testing Loss: 0.050686248  Training Acc: 0.996289074 Testing Acc: 0.990419984\n",
            "Epoch: 373 Training Loss: 0.012893404 Testing Loss: 0.050567389  Training Acc: 0.996093750 Testing Acc: 0.990591705\n",
            "Epoch: 374 Training Loss: 0.017376948 Testing Loss: 0.053204589  Training Acc: 0.994726598 Testing Acc: 0.990375638\n",
            "Epoch: 375 Training Loss: 0.022945207 Testing Loss: 0.055079583  Training Acc: 0.992578149 Testing Acc: 0.989937961\n",
            "Epoch: 376 Training Loss: 0.042587999 Testing Loss: 0.063405976  Training Acc: 0.986914098 Testing Acc: 0.989034772\n",
            "Epoch: 377 Training Loss: 0.036682330 Testing Loss: 0.056778722  Training Acc: 0.990234375 Testing Acc: 0.989056945\n",
            "Epoch: 378 Training Loss: 0.022777420 Testing Loss: 0.055694561  Training Acc: 0.992578149 Testing Acc: 0.989522398\n",
            "Epoch: 379 Training Loss: 0.018302364 Testing Loss: 0.055710576  Training Acc: 0.995507836 Testing Acc: 0.989649773\n",
            "Epoch: 380 Training Loss: 0.028689116 Testing Loss: 0.053893581  Training Acc: 0.988964856 Testing Acc: 0.990181684\n",
            "Epoch: 381 Training Loss: 0.026389880 Testing Loss: 0.054292213  Training Acc: 0.992578149 Testing Acc: 0.990115166\n",
            "Epoch: 382 Training Loss: 0.020744327 Testing Loss: 0.052636746  Training Acc: 0.993457019 Testing Acc: 0.990259290\n",
            "Epoch: 383 Training Loss: 0.020155212 Testing Loss: 0.050521422  Training Acc: 0.994531274 Testing Acc: 0.990469873\n",
            "Epoch: 384 Training Loss: 0.017418966 Testing Loss: 0.052932590  Training Acc: 0.993847668 Testing Acc: 0.990298033\n",
            "Epoch: 385 Training Loss: 0.012929270 Testing Loss: 0.050130751  Training Acc: 0.996093750 Testing Acc: 0.990829945\n",
            "Epoch: 386 Training Loss: 0.014230994 Testing Loss: 0.050366011  Training Acc: 0.995605469 Testing Acc: 0.991023898\n",
            "Epoch: 387 Training Loss: 0.015576779 Testing Loss: 0.049546584  Training Acc: 0.995312512 Testing Acc: 0.990890920\n",
            "Epoch: 388 Training Loss: 0.034051284 Testing Loss: 0.050733093  Training Acc: 0.993359387 Testing Acc: 0.990480900\n",
            "Epoch: 389 Training Loss: 0.020312158 Testing Loss: 0.050884563  Training Acc: 0.994726598 Testing Acc: 0.990530729\n",
            "Epoch: 390 Training Loss: 0.010122841 Testing Loss: 0.052231360  Training Acc: 0.997460961 Testing Acc: 0.990558505\n",
            "Epoch: 391 Training Loss: 0.020987643 Testing Loss: 0.052254729  Training Acc: 0.994335949 Testing Acc: 0.990608335\n",
            "Epoch: 392 Training Loss: 0.019123923 Testing Loss: 0.058706593  Training Acc: 0.993847668 Testing Acc: 0.989705205\n",
            "Epoch: 393 Training Loss: 0.015968729 Testing Loss: 0.055951778  Training Acc: 0.995703161 Testing Acc: 0.989633143\n",
            "Epoch: 394 Training Loss: 0.014225778 Testing Loss: 0.051126324  Training Acc: 0.995605469 Testing Acc: 0.990636051\n",
            "Epoch: 395 Training Loss: 0.014780821 Testing Loss: 0.053959586  Training Acc: 0.995800793 Testing Acc: 0.990192771\n",
            "Epoch: 396 Training Loss: 0.039830100 Testing Loss: 0.052542012  Training Acc: 0.992285192 Testing Acc: 0.990226030\n",
            "Epoch: 397 Training Loss: 0.020134203 Testing Loss: 0.056777027  Training Acc: 0.993652344 Testing Acc: 0.989289641\n",
            "Epoch: 398 Training Loss: 0.019658314 Testing Loss: 0.050222505  Training Acc: 0.993750036 Testing Acc: 0.990491986\n",
            "Epoch: 399 Training Loss: 0.018471695 Testing Loss: 0.050251186  Training Acc: 0.994726598 Testing Acc: 0.990159571\n",
            "Epoch: 400 Training Loss: 0.012765013 Testing Loss: 0.048191439  Training Acc: 0.996777356 Testing Acc: 0.990541875\n",
            "Epoch: 401 Training Loss: 0.011189502 Testing Loss: 0.051336404  Training Acc: 0.996679723 Testing Acc: 0.990491986\n",
            "Epoch: 402 Training Loss: 0.010747448 Testing Loss: 0.052992597  Training Acc: 0.996679723 Testing Acc: 0.990453243\n",
            "Epoch: 403 Training Loss: 0.012111208 Testing Loss: 0.052240297  Training Acc: 0.996289074 Testing Acc: 0.990497530\n",
            "Epoch: 404 Training Loss: 0.030823816 Testing Loss: 0.052489344  Training Acc: 0.992968738 Testing Acc: 0.990929663\n",
            "Epoch: 405 Training Loss: 0.025829256 Testing Loss: 0.054359544  Training Acc: 0.993750036 Testing Acc: 0.989943445\n",
            "Epoch: 406 Training Loss: 0.023958787 Testing Loss: 0.055494778  Training Acc: 0.993066430 Testing Acc: 0.989649773\n",
            "Epoch: 407 Training Loss: 0.019079518 Testing Loss: 0.057333939  Training Acc: 0.995019555 Testing Acc: 0.989627600\n",
            "Epoch: 408 Training Loss: 0.013673599 Testing Loss: 0.055860620  Training Acc: 0.995996118 Testing Acc: 0.990015447\n",
            "Epoch: 409 Training Loss: 0.014777551 Testing Loss: 0.049981788  Training Acc: 0.996093750 Testing Acc: 0.990957439\n",
            "Epoch: 410 Training Loss: 0.010708421 Testing Loss: 0.052484948  Training Acc: 0.996484399 Testing Acc: 0.990381181\n",
            "Epoch: 411 Training Loss: 0.014910638 Testing Loss: 0.050628871  Training Acc: 0.994921863 Testing Acc: 0.991057158\n",
            "Epoch: 412 Training Loss: 0.011579212 Testing Loss: 0.053030524  Training Acc: 0.997070312 Testing Acc: 0.990929663\n",
            "Epoch: 413 Training Loss: 0.049384821 Testing Loss: 0.053781815  Training Acc: 0.993457019 Testing Acc: 0.990486443\n",
            "Epoch: 414 Training Loss: 0.038966913 Testing Loss: 0.063725546  Training Acc: 0.990917981 Testing Acc: 0.988331079\n",
            "Epoch: 415 Training Loss: 0.022903139 Testing Loss: 0.053895142  Training Acc: 0.991796911 Testing Acc: 0.989943445\n",
            "Epoch: 416 Training Loss: 0.024893040 Testing Loss: 0.053271014  Training Acc: 0.993066430 Testing Acc: 0.990198314\n",
            "Epoch: 417 Training Loss: 0.020775897 Testing Loss: 0.054027945  Training Acc: 0.994140625 Testing Acc: 0.989854813\n",
            "Epoch: 418 Training Loss: 0.016620127 Testing Loss: 0.054171391  Training Acc: 0.995703161 Testing Acc: 0.989932358\n",
            "Epoch: 419 Training Loss: 0.017359519 Testing Loss: 0.052151255  Training Acc: 0.994921863 Testing Acc: 0.990214944\n",
            "Epoch: 420 Training Loss: 0.018890483 Testing Loss: 0.054973926  Training Acc: 0.992089868 Testing Acc: 0.990475357\n",
            "Epoch: 421 Training Loss: 0.030502697 Testing Loss: 0.058881018  Training Acc: 0.992187500 Testing Acc: 0.989311814\n",
            "Epoch: 422 Training Loss: 0.022536419 Testing Loss: 0.056272995  Training Acc: 0.993945301 Testing Acc: 0.989599884\n",
            "Epoch: 423 Training Loss: 0.015910605 Testing Loss: 0.050859217  Training Acc: 0.995410144 Testing Acc: 0.990597248\n",
            "Epoch: 424 Training Loss: 0.018114906 Testing Loss: 0.054633342  Training Acc: 0.994921863 Testing Acc: 0.989982188\n",
            "Epoch: 425 Training Loss: 0.017013157 Testing Loss: 0.055082511  Training Acc: 0.994433582 Testing Acc: 0.989749491\n",
            "Epoch: 426 Training Loss: 0.013254992 Testing Loss: 0.052160785  Training Acc: 0.995703161 Testing Acc: 0.990009964\n",
            "Epoch: 427 Training Loss: 0.013729519 Testing Loss: 0.054559365  Training Acc: 0.995605469 Testing Acc: 0.989932358\n",
            "Epoch: 428 Training Loss: 0.025720522 Testing Loss: 0.052600615  Training Acc: 0.991992176 Testing Acc: 0.990331292\n",
            "Epoch: 429 Training Loss: 0.017712135 Testing Loss: 0.055339020  Training Acc: 0.994238317 Testing Acc: 0.990104139\n",
            "Epoch: 430 Training Loss: 0.017821793 Testing Loss: 0.053771205  Training Acc: 0.994238317 Testing Acc: 0.990181684\n",
            "Epoch: 431 Training Loss: 0.015692359 Testing Loss: 0.056268528  Training Acc: 0.995507836 Testing Acc: 0.990009964\n",
            "Epoch: 432 Training Loss: 0.026082963 Testing Loss: 0.057596736  Training Acc: 0.993945301 Testing Acc: 0.989577770\n",
            "Epoch: 433 Training Loss: 0.020760156 Testing Loss: 0.052386243  Training Acc: 0.994433582 Testing Acc: 0.990403354\n",
            "Epoch: 434 Training Loss: 0.023315752 Testing Loss: 0.054840963  Training Acc: 0.993554711 Testing Acc: 0.990275919\n",
            "Epoch: 435 Training Loss: 0.016545331 Testing Loss: 0.052976564  Training Acc: 0.995312512 Testing Acc: 0.990331292\n",
            "Epoch: 436 Training Loss: 0.019359956 Testing Loss: 0.053315368  Training Acc: 0.994628906 Testing Acc: 0.990325749\n",
            "Epoch: 437 Training Loss: 0.020494042 Testing Loss: 0.046693124  Training Acc: 0.993359387 Testing Acc: 0.991328597\n",
            "Epoch: 438 Training Loss: 0.014934041 Testing Loss: 0.050923921  Training Acc: 0.996386707 Testing Acc: 0.990563989\n",
            "Epoch: 439 Training Loss: 0.017857397 Testing Loss: 0.047642786  Training Acc: 0.995019555 Testing Acc: 0.991323113\n",
            "Epoch: 440 Training Loss: 0.029247820 Testing Loss: 0.053291690  Training Acc: 0.994628906 Testing Acc: 0.990198314\n",
            "Epoch: 441 Training Loss: 0.032628026 Testing Loss: 0.055546552  Training Acc: 0.991894543 Testing Acc: 0.989849210\n",
            "Epoch: 442 Training Loss: 0.016931390 Testing Loss: 0.053188875  Training Acc: 0.995117188 Testing Acc: 0.990009964\n",
            "Epoch: 443 Training Loss: 0.016327633 Testing Loss: 0.052728996  Training Acc: 0.995410144 Testing Acc: 0.990325749\n",
            "Epoch: 444 Training Loss: 0.027214244 Testing Loss: 0.054769006  Training Acc: 0.991601586 Testing Acc: 0.990021050\n",
            "Epoch: 445 Training Loss: 0.017557453 Testing Loss: 0.053564988  Training Acc: 0.995214880 Testing Acc: 0.990275919\n",
            "Epoch: 446 Training Loss: 0.019544225 Testing Loss: 0.052718502  Training Acc: 0.993554711 Testing Acc: 0.990059793\n",
            "Epoch: 447 Training Loss: 0.023361741 Testing Loss: 0.054256029  Training Acc: 0.992871106 Testing Acc: 0.989816010\n",
            "Epoch: 448 Training Loss: 0.024561066 Testing Loss: 0.050706778  Training Acc: 0.993652344 Testing Acc: 0.990392268\n",
            "Epoch: 449 Training Loss: 0.014876910 Testing Loss: 0.048005253  Training Acc: 0.996386707 Testing Acc: 0.990957439\n",
            "Epoch: 450 Training Loss: 0.013646568 Testing Loss: 0.050280798  Training Acc: 0.997168005 Testing Acc: 0.990791202\n",
            "Epoch: 451 Training Loss: 0.015879706 Testing Loss: 0.049356043  Training Acc: 0.995996118 Testing Acc: 0.991007268\n",
            "Epoch: 452 Training Loss: 0.016300244 Testing Loss: 0.049950507  Training Acc: 0.994921863 Testing Acc: 0.990857661\n",
            "Epoch: 453 Training Loss: 0.017550556 Testing Loss: 0.048139524  Training Acc: 0.994531274 Testing Acc: 0.991007268\n",
            "Epoch: 454 Training Loss: 0.016017780 Testing Loss: 0.050280005  Training Acc: 0.995703161 Testing Acc: 0.990835547\n",
            "Epoch: 455 Training Loss: 0.012653062 Testing Loss: 0.053523447  Training Acc: 0.996386707 Testing Acc: 0.990530729\n",
            "Epoch: 456 Training Loss: 0.019584928 Testing Loss: 0.050889537  Training Acc: 0.992968738 Testing Acc: 0.990824461\n",
            "Epoch: 457 Training Loss: 0.019907869 Testing Loss: 0.064541377  Training Acc: 0.995019555 Testing Acc: 0.988713384\n",
            "Epoch: 458 Training Loss: 0.016593300 Testing Loss: 0.053120341  Training Acc: 0.995214880 Testing Acc: 0.990425527\n",
            "Epoch: 459 Training Loss: 0.019587869 Testing Loss: 0.051503081  Training Acc: 0.995117188 Testing Acc: 0.990741313\n",
            "Epoch: 460 Training Loss: 0.014323199 Testing Loss: 0.048554484  Training Acc: 0.995996118 Testing Acc: 0.991439462\n",
            "Epoch: 461 Training Loss: 0.014051336 Testing Loss: 0.050690386  Training Acc: 0.996093750 Testing Acc: 0.990979552\n",
            "Epoch: 462 Training Loss: 0.008295893 Testing Loss: 0.051122472  Training Acc: 0.997558594 Testing Acc: 0.991073787\n",
            "Epoch: 463 Training Loss: 0.037792921 Testing Loss: 0.051826425  Training Acc: 0.995019555 Testing Acc: 0.991057158\n",
            "Epoch: 464 Training Loss: 0.022046346 Testing Loss: 0.052498039  Training Acc: 0.990429699 Testing Acc: 0.990575075\n",
            "Epoch: 465 Training Loss: 0.026495978 Testing Loss: 0.057881132  Training Acc: 0.992382824 Testing Acc: 0.989699662\n",
            "Epoch: 466 Training Loss: 0.018208383 Testing Loss: 0.053048667  Training Acc: 0.995214880 Testing Acc: 0.990475357\n",
            "Epoch: 467 Training Loss: 0.011393425 Testing Loss: 0.057269700  Training Acc: 0.997558594 Testing Acc: 0.989882469\n",
            "Epoch: 468 Training Loss: 0.009194790 Testing Loss: 0.052690554  Training Acc: 0.997363269 Testing Acc: 0.990630507\n",
            "Epoch: 469 Training Loss: 0.037851240 Testing Loss: 0.049651299  Training Acc: 0.994824231 Testing Acc: 0.991156876\n",
            "Epoch: 470 Training Loss: 0.048653603 Testing Loss: 0.067907475  Training Acc: 0.988671899 Testing Acc: 0.988070667\n",
            "Epoch: 471 Training Loss: 0.029588690 Testing Loss: 0.058203574  Training Acc: 0.991699219 Testing Acc: 0.988946140\n",
            "Epoch: 472 Training Loss: 0.024207452 Testing Loss: 0.054442432  Training Acc: 0.993066430 Testing Acc: 0.989760578\n",
            "Epoch: 473 Training Loss: 0.037902582 Testing Loss: 0.055389684  Training Acc: 0.989453137 Testing Acc: 0.989666402\n",
            "Epoch: 474 Training Loss: 0.029173488 Testing Loss: 0.058030151  Training Acc: 0.991699219 Testing Acc: 0.988995969\n",
            "Epoch: 475 Training Loss: 0.025539387 Testing Loss: 0.053594884  Training Acc: 0.992480457 Testing Acc: 0.990203917\n",
            "Epoch: 476 Training Loss: 0.018801441 Testing Loss: 0.053669091  Training Acc: 0.993554711 Testing Acc: 0.989921331\n",
            "Epoch: 477 Training Loss: 0.012172676 Testing Loss: 0.050652761  Training Acc: 0.996386707 Testing Acc: 0.990159571\n",
            "Epoch: 478 Training Loss: 0.019918365 Testing Loss: 0.047436971  Training Acc: 0.996289074 Testing Acc: 0.991018414\n",
            "Epoch: 479 Training Loss: 0.036897041 Testing Loss: 0.050911210  Training Acc: 0.989843786 Testing Acc: 0.990458727\n",
            "Epoch: 480 Training Loss: 0.042073235 Testing Loss: 0.049792223  Training Acc: 0.991406262 Testing Acc: 0.990785658\n",
            "Epoch: 481 Training Loss: 0.038620282 Testing Loss: 0.051723283  Training Acc: 0.991308630 Testing Acc: 0.989816010\n",
            "Epoch: 482 Training Loss: 0.019016795 Testing Loss: 0.048105776  Training Acc: 0.994238317 Testing Acc: 0.990359008\n",
            "Epoch: 483 Training Loss: 0.015573016 Testing Loss: 0.047030333  Training Acc: 0.995898426 Testing Acc: 0.990674853\n",
            "Epoch: 484 Training Loss: 0.013985275 Testing Loss: 0.048632666  Training Acc: 0.996093750 Testing Acc: 0.990813315\n",
            "Epoch: 485 Training Loss: 0.016406795 Testing Loss: 0.046253692  Training Acc: 0.995117188 Testing Acc: 0.991079271\n",
            "Epoch: 486 Training Loss: 0.015659211 Testing Loss: 0.046885133  Training Acc: 0.995800793 Testing Acc: 0.991406202\n",
            "Epoch: 487 Training Loss: 0.043607958 Testing Loss: 0.049561493  Training Acc: 0.995214880 Testing Acc: 0.990902007\n",
            "Epoch: 488 Training Loss: 0.025683701 Testing Loss: 0.051193953  Training Acc: 0.992089868 Testing Acc: 0.990325749\n",
            "Epoch: 489 Training Loss: 0.015318722 Testing Loss: 0.049030114  Training Acc: 0.994726598 Testing Acc: 0.990813315\n",
            "Epoch: 490 Training Loss: 0.013874115 Testing Loss: 0.049200576  Training Acc: 0.996191442 Testing Acc: 0.990807831\n",
            "Epoch: 491 Training Loss: 0.022029238 Testing Loss: 0.051436532  Training Acc: 0.994238317 Testing Acc: 0.990730226\n",
            "Epoch: 492 Training Loss: 0.013239671 Testing Loss: 0.051440425  Training Acc: 0.996679723 Testing Acc: 0.990924180\n",
            "Epoch: 493 Training Loss: 0.022004992 Testing Loss: 0.052082986  Training Acc: 0.995019555 Testing Acc: 0.990841031\n",
            "Epoch: 494 Training Loss: 0.023559820 Testing Loss: 0.049855944  Training Acc: 0.991796911 Testing Acc: 0.991112530\n",
            "Epoch: 495 Training Loss: 0.017237276 Testing Loss: 0.053651139  Training Acc: 0.995117188 Testing Acc: 0.990558505\n",
            "Epoch: 496 Training Loss: 0.012743950 Testing Loss: 0.052472100  Training Acc: 0.996484399 Testing Acc: 0.990913093\n",
            "Epoch: 497 Training Loss: 0.019860296 Testing Loss: 0.052610509  Training Acc: 0.994140625 Testing Acc: 0.990841031\n",
            "Epoch: 498 Training Loss: 0.016102554 Testing Loss: 0.050572239  Training Acc: 0.994531274 Testing Acc: 0.991029441\n",
            "Epoch: 499 Training Loss: 0.019061893 Testing Loss: 0.058235586  Training Acc: 0.993847668 Testing Acc: 0.989932358\n",
            "Epoch: 500 Training Loss: 0.023992447 Testing Loss: 0.059698064  Training Acc: 0.993750036 Testing Acc: 0.989428163\n",
            "Epoch: 501 Training Loss: 0.016147787 Testing Loss: 0.055029850  Training Acc: 0.995312512 Testing Acc: 0.990298033\n",
            "Epoch: 502 Training Loss: 0.017248314 Testing Loss: 0.056857027  Training Acc: 0.995410144 Testing Acc: 0.990104139\n",
            "Epoch: 503 Training Loss: 0.013378927 Testing Loss: 0.050649475  Training Acc: 0.995996118 Testing Acc: 0.990780115\n",
            "Epoch: 504 Training Loss: 0.011885943 Testing Loss: 0.050946418  Training Acc: 0.996386707 Testing Acc: 0.990879834\n",
            "Epoch: 505 Training Loss: 0.026239563 Testing Loss: 0.056340560  Training Acc: 0.995605469 Testing Acc: 0.990281403\n",
            "Epoch: 506 Training Loss: 0.016522061 Testing Loss: 0.050503138  Training Acc: 0.995312512 Testing Acc: 0.990829945\n",
            "Epoch: 507 Training Loss: 0.014009259 Testing Loss: 0.051369321  Training Acc: 0.995898426 Testing Acc: 0.990536332\n",
            "Epoch: 508 Training Loss: 0.013087156 Testing Loss: 0.052008837  Training Acc: 0.995312512 Testing Acc: 0.990674853\n",
            "Epoch: 509 Training Loss: 0.017890355 Testing Loss: 0.057012908  Training Acc: 0.994335949 Testing Acc: 0.990381181\n",
            "Epoch: 510 Training Loss: 0.030767608 Testing Loss: 0.051196914  Training Acc: 0.990625024 Testing Acc: 0.990785658\n",
            "Epoch: 511 Training Loss: 0.017341012 Testing Loss: 0.060550217  Training Acc: 0.994726598 Testing Acc: 0.989012599\n",
            "Epoch: 512 Training Loss: 0.025174854 Testing Loss: 0.058730341  Training Acc: 0.994628906 Testing Acc: 0.989461422\n",
            "Epoch: 513 Training Loss: 0.021143248 Testing Loss: 0.064314224  Training Acc: 0.992773473 Testing Acc: 0.989029229\n",
            "Epoch: 514 Training Loss: 0.019543519 Testing Loss: 0.055515449  Training Acc: 0.994531274 Testing Acc: 0.990386724\n",
            "Epoch: 515 Training Loss: 0.013941615 Testing Loss: 0.055901818  Training Acc: 0.996093750 Testing Acc: 0.990397751\n",
            "Epoch: 516 Training Loss: 0.012134499 Testing Loss: 0.056745768  Training Acc: 0.996582031 Testing Acc: 0.990298033\n",
            "Epoch: 517 Training Loss: 0.011984618 Testing Loss: 0.054778717  Training Acc: 0.996289074 Testing Acc: 0.990569592\n",
            "Epoch: 518 Training Loss: 0.013373802 Testing Loss: 0.057011459  Training Acc: 0.996386707 Testing Acc: 0.990375638\n",
            "Epoch: 519 Training Loss: 0.012636796 Testing Loss: 0.055327233  Training Acc: 0.997558594 Testing Acc: 0.990403354\n",
            "Epoch: 520 Training Loss: 0.022375522 Testing Loss: 0.055671893  Training Acc: 0.995214880 Testing Acc: 0.990713596\n",
            "Epoch: 521 Training Loss: 0.026655270 Testing Loss: 0.066934824  Training Acc: 0.993554711 Testing Acc: 0.989145577\n",
            "Epoch: 522 Training Loss: 0.019122055 Testing Loss: 0.063713014  Training Acc: 0.995410144 Testing Acc: 0.989034772\n",
            "Epoch: 523 Training Loss: 0.014726135 Testing Loss: 0.058354452  Training Acc: 0.996386707 Testing Acc: 0.989849210\n",
            "Epoch: 524 Training Loss: 0.012577794 Testing Loss: 0.053813148  Training Acc: 0.996289074 Testing Acc: 0.990475357\n",
            "Epoch: 525 Training Loss: 0.013631265 Testing Loss: 0.054025907  Training Acc: 0.996191442 Testing Acc: 0.990608335\n",
            "Epoch: 526 Training Loss: 0.012972555 Testing Loss: 0.053556383  Training Acc: 0.995800793 Testing Acc: 0.990608335\n",
            "Epoch: 527 Training Loss: 0.014101828 Testing Loss: 0.057159290  Training Acc: 0.995800793 Testing Acc: 0.990253747\n",
            "Epoch: 528 Training Loss: 0.010541196 Testing Loss: 0.053609334  Training Acc: 0.996191442 Testing Acc: 0.990336895\n",
            "Epoch: 529 Training Loss: 0.013731149 Testing Loss: 0.054385427  Training Acc: 0.995703161 Testing Acc: 0.990530729\n",
            "Epoch: 530 Training Loss: 0.009955945 Testing Loss: 0.054725923  Training Acc: 0.997265637 Testing Acc: 0.990630507\n",
            "Epoch: 531 Training Loss: 0.010291160 Testing Loss: 0.051623169  Training Acc: 0.997265637 Testing Acc: 0.990580618\n",
            "Epoch: 532 Training Loss: 0.011023690 Testing Loss: 0.051817145  Training Acc: 0.997363269 Testing Acc: 0.990780115\n",
            "Epoch: 533 Training Loss: 0.010511066 Testing Loss: 0.054296017  Training Acc: 0.997460961 Testing Acc: 0.990630507\n",
            "Epoch: 534 Training Loss: 0.014736286 Testing Loss: 0.052392561  Training Acc: 0.995996118 Testing Acc: 0.990763485\n",
            "Epoch: 535 Training Loss: 0.010112531 Testing Loss: 0.050912946  Training Acc: 0.997460961 Testing Acc: 0.991356373\n",
            "Epoch: 536 Training Loss: 0.010520460 Testing Loss: 0.054979287  Training Acc: 0.996972680 Testing Acc: 0.990774572\n",
            "Epoch: 537 Training Loss: 0.012200256 Testing Loss: 0.055962455  Training Acc: 0.997070312 Testing Acc: 0.990968525\n",
            "Epoch: 538 Training Loss: 0.009439914 Testing Loss: 0.053337976  Training Acc: 0.996972680 Testing Acc: 0.990962923\n",
            "Epoch: 539 Training Loss: 0.016102219 Testing Loss: 0.049896080  Training Acc: 0.994726598 Testing Acc: 0.991278768\n",
            "Epoch: 540 Training Loss: 0.009644891 Testing Loss: 0.059286598  Training Acc: 0.997265637 Testing Acc: 0.990591705\n",
            "Epoch: 541 Training Loss: 0.027771849 Testing Loss: 0.057452403  Training Acc: 0.995117188 Testing Acc: 0.990674853\n",
            "Epoch: 542 Training Loss: 0.013777426 Testing Loss: 0.052415069  Training Acc: 0.995410144 Testing Acc: 0.990597248\n",
            "Epoch: 543 Training Loss: 0.022023400 Testing Loss: 0.054524820  Training Acc: 0.994824231 Testing Acc: 0.990464270\n",
            "Epoch: 544 Training Loss: 0.012983670 Testing Loss: 0.060956206  Training Acc: 0.996093750 Testing Acc: 0.989561141\n",
            "Epoch: 545 Training Loss: 0.012024009 Testing Loss: 0.057156239  Training Acc: 0.996679723 Testing Acc: 0.990580618\n",
            "Epoch: 546 Training Loss: 0.010587691 Testing Loss: 0.058838401  Training Acc: 0.996679723 Testing Acc: 0.990264773\n",
            "Epoch: 547 Training Loss: 0.013879676 Testing Loss: 0.057354458  Training Acc: 0.994726598 Testing Acc: 0.990464270\n",
            "Epoch: 548 Training Loss: 0.017214131 Testing Loss: 0.058029644  Training Acc: 0.995507836 Testing Acc: 0.990652680\n",
            "Epoch: 549 Training Loss: 0.012698797 Testing Loss: 0.059673686  Training Acc: 0.996582031 Testing Acc: 0.990148425\n",
            "Epoch: 550 Training Loss: 0.020142367 Testing Loss: 0.054835867  Training Acc: 0.994433582 Testing Acc: 0.991123617\n",
            "Epoch: 551 Training Loss: 0.018915243 Testing Loss: 0.056446377  Training Acc: 0.995703161 Testing Acc: 0.990746856\n",
            "Epoch: 552 Training Loss: 0.013787811 Testing Loss: 0.056647092  Training Acc: 0.995800793 Testing Acc: 0.990469873\n",
            "Epoch: 553 Training Loss: 0.045549165 Testing Loss: 0.054642536  Training Acc: 0.993945301 Testing Acc: 0.990879834\n",
            "Epoch: 554 Training Loss: 0.022439692 Testing Loss: 0.055278052  Training Acc: 0.992089868 Testing Acc: 0.990563989\n",
            "Epoch: 555 Training Loss: 0.018373864 Testing Loss: 0.054860853  Training Acc: 0.994824231 Testing Acc: 0.990309119\n",
            "Epoch: 556 Training Loss: 0.016242702 Testing Loss: 0.050665434  Training Acc: 0.995800793 Testing Acc: 0.991073787\n",
            "Epoch: 557 Training Loss: 0.017008040 Testing Loss: 0.053119734  Training Acc: 0.994238317 Testing Acc: 0.990009964\n",
            "Epoch: 558 Training Loss: 0.029941494 Testing Loss: 0.053795975  Training Acc: 0.992382824 Testing Acc: 0.990458727\n",
            "Epoch: 559 Training Loss: 0.030664688 Testing Loss: 0.058821596  Training Acc: 0.992187500 Testing Acc: 0.989117861\n",
            "Epoch: 560 Training Loss: 0.022978289 Testing Loss: 0.053651873  Training Acc: 0.992187500 Testing Acc: 0.990048707\n",
            "Epoch: 561 Training Loss: 0.016523918 Testing Loss: 0.052093990  Training Acc: 0.995800793 Testing Acc: 0.990281403\n",
            "Epoch: 562 Training Loss: 0.012209442 Testing Loss: 0.050304130  Training Acc: 0.996777356 Testing Acc: 0.990708053\n",
            "Epoch: 563 Training Loss: 0.029110093 Testing Loss: 0.053805612  Training Acc: 0.993847668 Testing Acc: 0.990536332\n",
            "Epoch: 564 Training Loss: 0.015125404 Testing Loss: 0.057768304  Training Acc: 0.996093750 Testing Acc: 0.989511251\n",
            "Epoch: 565 Training Loss: 0.014591818 Testing Loss: 0.056743555  Training Acc: 0.995898426 Testing Acc: 0.990009964\n",
            "Epoch: 566 Training Loss: 0.016436120 Testing Loss: 0.054824118  Training Acc: 0.995214880 Testing Acc: 0.990098596\n",
            "Epoch: 567 Training Loss: 0.011756694 Testing Loss: 0.054531284  Training Acc: 0.997070312 Testing Acc: 0.989998817\n",
            "Epoch: 568 Training Loss: 0.009742024 Testing Loss: 0.052945826  Training Acc: 0.997168005 Testing Acc: 0.990298033\n",
            "Epoch: 569 Training Loss: 0.010356870 Testing Loss: 0.056350239  Training Acc: 0.996777356 Testing Acc: 0.990131795\n",
            "Epoch: 570 Training Loss: 0.009070813 Testing Loss: 0.051672075  Training Acc: 0.997265637 Testing Acc: 0.990791202\n",
            "Epoch: 571 Training Loss: 0.007930125 Testing Loss: 0.052181218  Training Acc: 0.997558594 Testing Acc: 0.990746856\n",
            "Epoch: 572 Training Loss: 0.009658887 Testing Loss: 0.055235740  Training Acc: 0.997656286 Testing Acc: 0.990486443\n",
            "Epoch: 573 Training Loss: 0.010160856 Testing Loss: 0.051368833  Training Acc: 0.996972680 Testing Acc: 0.990663707\n",
            "Epoch: 574 Training Loss: 0.018526882 Testing Loss: 0.053047579  Training Acc: 0.995312512 Testing Acc: 0.990713596\n",
            "Epoch: 575 Training Loss: 0.029366532 Testing Loss: 0.067845628  Training Acc: 0.991308630 Testing Acc: 0.988779902\n",
            "Epoch: 576 Training Loss: 0.015433594 Testing Loss: 0.059646826  Training Acc: 0.995703161 Testing Acc: 0.990170658\n",
            "Epoch: 577 Training Loss: 0.014081458 Testing Loss: 0.062694594  Training Acc: 0.994140625 Testing Acc: 0.989472508\n",
            "Epoch: 578 Training Loss: 0.010326609 Testing Loss: 0.057026777  Training Acc: 0.997168005 Testing Acc: 0.990176141\n",
            "Epoch: 579 Training Loss: 0.023860110 Testing Loss: 0.060477830  Training Acc: 0.993847668 Testing Acc: 0.990043163\n",
            "Epoch: 580 Training Loss: 0.030721789 Testing Loss: 0.061830871  Training Acc: 0.989550769 Testing Acc: 0.989483535\n",
            "Epoch: 581 Training Loss: 0.067774236 Testing Loss: 0.061744310  Training Acc: 0.988476574 Testing Acc: 0.989162207\n",
            "Epoch: 582 Training Loss: 0.027538965 Testing Loss: 0.059653595  Training Acc: 0.992285192 Testing Acc: 0.989483535\n",
            "Epoch: 583 Training Loss: 0.019853182 Testing Loss: 0.055671655  Training Acc: 0.994335949 Testing Acc: 0.990021050\n",
            "Epoch: 584 Training Loss: 0.018813360 Testing Loss: 0.051162757  Training Acc: 0.996093750 Testing Acc: 0.990541875\n",
            "Epoch: 585 Training Loss: 0.015753767 Testing Loss: 0.057882573  Training Acc: 0.995019555 Testing Acc: 0.990015447\n",
            "Epoch: 586 Training Loss: 0.012873563 Testing Loss: 0.053900864  Training Acc: 0.996191442 Testing Acc: 0.990342379\n",
            "Epoch: 587 Training Loss: 0.011075188 Testing Loss: 0.056305915  Training Acc: 0.996582031 Testing Acc: 0.990115166\n",
            "Epoch: 588 Training Loss: 0.012957220 Testing Loss: 0.056654144  Training Acc: 0.996679723 Testing Acc: 0.990076423\n",
            "Epoch: 589 Training Loss: 0.034890831 Testing Loss: 0.057515547  Training Acc: 0.995019555 Testing Acc: 0.989965618\n",
            "Epoch: 590 Training Loss: 0.018138226 Testing Loss: 0.059607342  Training Acc: 0.994921863 Testing Acc: 0.989960074\n",
            "Epoch: 591 Training Loss: 0.016253041 Testing Loss: 0.057187863  Training Acc: 0.995800793 Testing Acc: 0.990093052\n",
            "Epoch: 592 Training Loss: 0.041134570 Testing Loss: 0.057728890  Training Acc: 0.991503894 Testing Acc: 0.989926815\n",
            "Epoch: 593 Training Loss: 0.022427578 Testing Loss: 0.056686047  Training Acc: 0.993359387 Testing Acc: 0.989782751\n",
            "Epoch: 594 Training Loss: 0.014967377 Testing Loss: 0.056889974  Training Acc: 0.996191442 Testing Acc: 0.989849210\n",
            "Epoch: 595 Training Loss: 0.015803764 Testing Loss: 0.053029958  Training Acc: 0.994140625 Testing Acc: 0.990325749\n",
            "Epoch: 596 Training Loss: 0.017431565 Testing Loss: 0.054773379  Training Acc: 0.995996118 Testing Acc: 0.990259290\n",
            "Epoch: 597 Training Loss: 0.010491231 Testing Loss: 0.057124637  Training Acc: 0.996191442 Testing Acc: 0.989993334\n",
            "Epoch: 598 Training Loss: 0.013740291 Testing Loss: 0.057437889  Training Acc: 0.995605469 Testing Acc: 0.990165055\n",
            "Epoch: 599 Training Loss: 0.033849712 Testing Loss: 0.055873077  Training Acc: 0.992968738 Testing Acc: 0.990309119\n",
            "Epoch: 600 Training Loss: 0.022014951 Testing Loss: 0.055974022  Training Acc: 0.991601586 Testing Acc: 0.990076423\n"
          ],
          "name": "stdout"
        }
      ]
    },
    {
      "cell_type": "code",
      "metadata": {
        "id": "vzn6YyGw9ULY",
        "colab": {
          "base_uri": "https://localhost:8080/",
          "height": 592
        },
        "outputId": "be7a89a9-acdb-41a5-93a2-184529bc8bb3"
      },
      "source": [
        "plt.figure(figsize = (10,10))\n",
        "plt.plot(L_train, linewidth = 2, c='b', label = \"train\")\n",
        "plt.plot(L_test, linewidth = 2, c='r', label = \"test\")\n",
        "plt.legend()\n",
        "plt.show()"
      ],
      "execution_count": 16,
      "outputs": [
        {
          "output_type": "display_data",
          "data": {
            "image/png": "[encoded data removed]",
            "text/plain": [
              "<Figure size 720x720 with 1 Axes>"
            ]
          },
          "metadata": {
            "tags": [],
            "needs_background": "light"
          }
        }
      ]
    },
    {
      "cell_type": "code",
      "metadata": {
        "id": "Rl1MuQhtqsg2",
        "colab": {
          "base_uri": "https://localhost:8080/",
          "height": 592
        },
        "outputId": "c009dfb2-c1d0-4ec5-faf8-69582b3ce4ad"
      },
      "source": [
        "plt.figure(figsize = (10,10))\n",
        "plt.plot(A_train, linewidth = 2, c='b', label = \"train\")\n",
        "plt.plot(A_test, linewidth = 2, c='r', label = \"test\")\n",
        "plt.legend()\n",
        "plt.show()"
      ],
      "execution_count": 17,
      "outputs": [
        {
          "output_type": "display_data",
          "data": {
            "image/png": "[encoded data removed]",
            "text/plain": [
              "<Figure size 720x720 with 1 Axes>"
            ]
          },
          "metadata": {
            "tags": [],
            "needs_background": "light"
          }
        }
      ]
    },
    {
      "cell_type": "code",
      "metadata": {
        "id": "4990rRublMpD",
        "colab": {
          "base_uri": "https://localhost:8080/"
        },
        "outputId": "20322c1a-4310-4e11-bf11-6d77c47a9fef"
      },
      "source": [
        "print(\"training loss    %.2f\" %(L_train[-1]))\n",
        "print(\"testing loss     %.2f\" %(L_test[-1]))\n",
        "print(\"training acc    %.2f\" %(A_train[-1]))\n",
        "print(\"testing acc     %.2f\" %(A_test[-1]))"
      ],
      "execution_count": 18,
      "outputs": [
        {
          "output_type": "stream",
          "text": [
            "training loss    0.02\n",
            "testing loss     0.06\n",
            "training acc    0.99\n",
            "testing acc     0.99\n"
          ],
          "name": "stdout"
        }
      ]
    },
    {
      "cell_type": "markdown",
      "metadata": {
        "id": "z4L9RrzOz5xl"
      },
      "source": [
        "# 5. Output\n",
        "<hr>"
      ]
    },
    {
      "cell_type": "markdown",
      "metadata": {
        "id": "alN6-n0r0DTO"
      },
      "source": [
        "## 1. Plot the training and testing losses over epochs"
      ]
    },
    {
      "cell_type": "code",
      "metadata": {
        "id": "d8WFmmL4Shvy",
        "colab": {
          "base_uri": "https://localhost:8080/",
          "height": 592
        },
        "outputId": "f8e3ab69-70b3-46a1-a661-3077e02d4e1d"
      },
      "source": [
        "plt.figure(figsize = (10,10))\n",
        "plt.plot(L_train, linewidth = 2, c='b', label = \"train\")\n",
        "plt.plot(L_test, linewidth = 2, c='r', label = \"test\")\n",
        "plt.legend()\n",
        "plt.show()"
      ],
      "execution_count": 19,
      "outputs": [
        {
          "output_type": "display_data",
          "data": {
            "image/png": "[encoded data removed]",
            "text/plain": [
              "<Figure size 720x720 with 1 Axes>"
            ]
          },
          "metadata": {
            "tags": [],
            "needs_background": "light"
          }
        }
      ]
    },
    {
      "cell_type": "markdown",
      "metadata": {
        "id": "4t1dSyC1AVe0"
      },
      "source": [
        "## 2. Plot the training and testing accuracies over epochs"
      ]
    },
    {
      "cell_type": "code",
      "metadata": {
        "id": "xUlVVIpISjl6",
        "colab": {
          "base_uri": "https://localhost:8080/",
          "height": 592
        },
        "outputId": "73ef3ec5-943a-4f66-b64b-bfeb516872b9"
      },
      "source": [
        "plt.figure(figsize = (10,10))\n",
        "plt.plot(A_train, linewidth = 2, c='b', label = \"train\")\n",
        "plt.plot(A_test, linewidth = 2, c='r', label = \"test\")\n",
        "plt.legend()\n",
        "plt.show()"
      ],
      "execution_count": 20,
      "outputs": [
        {
          "output_type": "display_data",
          "data": {
            "image/png": "[encoded data removed]",
            "text/plain": [
              "<Figure size 720x720 with 1 Axes>"
            ]
          },
          "metadata": {
            "tags": [],
            "needs_background": "light"
          }
        }
      ]
    },
    {
      "cell_type": "markdown",
      "metadata": {
        "id": "px7XRkcnAnc7"
      },
      "source": [
        "## 3.  Print the final training and testing losses at convergence "
      ]
    },
    {
      "cell_type": "code",
      "metadata": {
        "id": "RrvuQ_SCSlJ_",
        "colab": {
          "base_uri": "https://localhost:8080/"
        },
        "outputId": "0532e54f-6fa2-480e-a57f-6755e4235a53"
      },
      "source": [
        "print(\"loss\")\n",
        "print(\"train    %.2f\" %(L_train[-1]))\n",
        "print(\"test     %.2f\" %(L_test[-1]))"
      ],
      "execution_count": 21,
      "outputs": [
        {
          "output_type": "stream",
          "text": [
            "loss\n",
            "train    0.02\n",
            "test     0.06\n"
          ],
          "name": "stdout"
        }
      ]
    },
    {
      "cell_type": "markdown",
      "metadata": {
        "id": "gW87VTpwAtMB"
      },
      "source": [
        "## 4. Print the final training and testing accuracies at convergence"
      ]
    },
    {
      "cell_type": "code",
      "metadata": {
        "id": "mpgCDaBpCWT_",
        "colab": {
          "base_uri": "https://localhost:8080/"
        },
        "outputId": "17f96c27-7f60-48d3-bca0-67e8c96cef98"
      },
      "source": [
        "print(\"Accuracy\")\n",
        "print(\"train    %.5f, %.2f\" %(A_train[-1], A_train[-1]))\n",
        "print(\"test     %.5f, %.2f\" %(A_test[-1], A_test[-1]))"
      ],
      "execution_count": 22,
      "outputs": [
        {
          "output_type": "stream",
          "text": [
            "Accuracy\n",
            "train    0.99160, 0.99\n",
            "test     0.99008, 0.99\n"
          ],
          "name": "stdout"
        }
      ]
    },
    {
      "cell_type": "markdown",
      "metadata": {
        "id": "fzDvqXa7hEem"
      },
      "source": [
        "## 5. Print the testing accuracies within the last 10 epochs"
      ]
    },
    {
      "cell_type": "code",
      "metadata": {
        "id": "vu8Vw6cwassu",
        "colab": {
          "base_uri": "https://localhost:8080/"
        },
        "outputId": "9d5fad27-7c9d-4ca6-b971-55b1b79d89d2"
      },
      "source": [
        "for i in range(-10, 0):\n",
        "  print(f\"Epoch = {len(A_test) + i + 1} Acc: %.5f\" %(A_test[i]))\n"
      ],
      "execution_count": 23,
      "outputs": [
        {
          "output_type": "stream",
          "text": [
            "Epoch = 591 Acc: 0.99009\n",
            "Epoch = 592 Acc: 0.98993\n",
            "Epoch = 593 Acc: 0.98978\n",
            "Epoch = 594 Acc: 0.98985\n",
            "Epoch = 595 Acc: 0.99033\n",
            "Epoch = 596 Acc: 0.99026\n",
            "Epoch = 597 Acc: 0.98999\n",
            "Epoch = 598 Acc: 0.99017\n",
            "Epoch = 599 Acc: 0.99031\n",
            "Epoch = 600 Acc: 0.99008\n"
          ],
          "name": "stdout"
        }
      ]
    },
    {
      "cell_type": "code",
      "metadata": {
        "id": "hTsLh1xUhUXY"
      },
      "source": [
        ""
      ],
      "execution_count": 23,
      "outputs": []
    }
  ]
}