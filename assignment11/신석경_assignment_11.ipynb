{
  "nbformat": 4,
  "nbformat_minor": 0,
  "metadata": {
    "accelerator": "GPU",
    "colab": {
      "name": "신석경_assignment_11",
      "provenance": [],
      "collapsed_sections": [],
      "authorship_tag": "ABX9TyPz4zDuZr12hch+HZ8/zJ4v",
      "include_colab_link": true
    },
    "kernelspec": {
      "display_name": "Python 3",
      "name": "python3"
    }
  },
  "cells": [
    {
      "cell_type": "markdown",
      "metadata": {
        "id": "view-in-github",
        "colab_type": "text"
      },
      "source": [
        "<a href=\"https://colab.research.google.com/github/jiku100/2020-2-machine-running-proejct/blob/master/assignment11/%EC%8B%A0%EC%84%9D%EA%B2%BD_assignment_11.ipynb\" target=\"_parent\"><img src=\"https://colab.research.google.com/assets/colab-badge.svg\" alt=\"Open In Colab\"/></a>"
      ]
    },
    {
      "cell_type": "markdown",
      "metadata": {
        "id": "0gzdXwFJz0KJ"
      },
      "source": [
        "# **Classification for Multiple Categories using Pytorch for best accuracy with CNN**\n",
        "\n"
      ]
    },
    {
      "cell_type": "markdown",
      "metadata": {
        "id": "w_C7Cujjz4ff"
      },
      "source": [
        "# 1. Import library\n",
        "<hr>"
      ]
    },
    {
      "cell_type": "code",
      "metadata": {
        "id": "gtlbKT3Izgre"
      },
      "source": [
        "import torch\n",
        "import torch.nn as nn\n",
        "import torch.optim as optim\n",
        "import torch.nn.init as init\n",
        "import torchvision\n",
        "import torchvision.transforms as transforms\n",
        "import torchvision.datasets as datasets\n",
        "from torch.utils.data import DataLoader\n",
        "\n",
        "import matplotlib.pyplot as plt\n",
        "import cv2\n",
        "import numpy as np"
      ],
      "execution_count": 1,
      "outputs": []
    },
    {
      "cell_type": "code",
      "metadata": {
        "colab": {
          "base_uri": "https://localhost:8080/"
        },
        "id": "JC9KWsHg7lTJ",
        "outputId": "b6f083cb-2ee6-4ab6-ba1d-3a3af90683d0"
      },
      "source": [
        "USE_CUDA = torch.cuda.is_available()\n",
        "device = torch.device(\"cuda\" if USE_CUDA else \"cpu\")\n",
        "print(\"다음 기기로 학습합니다:\", device)"
      ],
      "execution_count": 2,
      "outputs": [
        {
          "output_type": "stream",
          "text": [
            "다음 기기로 학습합니다: cuda\n"
          ],
          "name": "stdout"
        }
      ]
    },
    {
      "cell_type": "markdown",
      "metadata": {
        "id": "nBCurPvD3NoM"
      },
      "source": [
        "# 2. Preprocessing Data\n",
        "<hr>"
      ]
    },
    {
      "cell_type": "code",
      "metadata": {
        "id": "4tVba13YD-s9"
      },
      "source": [
        "transform_train = transforms.Compose([\n",
        "        transforms.ToTensor(),\n",
        "        transforms.RandomRotation(20),\n",
        "        transforms.Normalize((0.1307,),(0.3081,))                    # 이미지를 텐서로 변형합니다.\n",
        "])\n",
        "\n",
        "transform_test = transforms.Compose([\n",
        "        transforms.ToTensor(), \n",
        "        transforms.Normalize((0.1307,),(0.3081,))            \n",
        "])"
      ],
      "execution_count": 3,
      "outputs": []
    },
    {
      "cell_type": "code",
      "metadata": {
        "id": "1uNdu0HqJEQv"
      },
      "source": [
        "data_path = './MNIST'\n",
        "\n",
        "data_test   = datasets.MNIST(root = data_path, train= True, download=True, transform= transform_test)\n",
        "data_train  = datasets.MNIST(root = data_path, train= False, download=True, transform= transform_train)"
      ],
      "execution_count": 4,
      "outputs": []
    },
    {
      "cell_type": "code",
      "metadata": {
        "colab": {
          "base_uri": "https://localhost:8080/",
          "height": 387
        },
        "id": "8SJcK-t2D3Bp",
        "outputId": "f522cad8-bc1c-4c51-9273-368f4930f77e"
      },
      "source": [
        "one_image, label = data_train[0]\n",
        "print(\"type of one image\", type(one_image))\n",
        "print(\"size of one image : \", one_image.shape)\n",
        "plt.imshow(one_image.squeeze().numpy(), cmap='gray')\n",
        "print(\"type of label : \", type(label))\n",
        "print(\"label : \", label)\n",
        "print(np.max(data_train.train_data[0].view(-1).numpy()))"
      ],
      "execution_count": 5,
      "outputs": [
        {
          "output_type": "stream",
          "text": [
            "type of one image <class 'torch.Tensor'>\n",
            "size of one image :  torch.Size([1, 28, 28])\n",
            "type of label :  <class 'int'>\n",
            "label :  7\n",
            "255\n"
          ],
          "name": "stdout"
        },
        {
          "output_type": "stream",
          "text": [
            "/usr/local/lib/python3.6/dist-packages/torchvision/datasets/mnist.py:58: UserWarning: train_data has been renamed data\n",
            "  warnings.warn(\"train_data has been renamed data\")\n"
          ],
          "name": "stderr"
        },
        {
          "output_type": "display_data",
          "data": {
            "image/png": "[encoded data removed]",
            "text/plain": [
              "<Figure size 432x288 with 1 Axes>"
            ]
          },
          "metadata": {
            "tags": [],
            "needs_background": "light"
          }
        }
      ]
    },
    {
      "cell_type": "code",
      "metadata": {
        "id": "lUj2JTgY4r4c"
      },
      "source": [
        "learning_rate = 0.003\n",
        "training_epochs = 600\n",
        "batch_size = 32\n",
        "drop_prob = 0.4"
      ],
      "execution_count": 6,
      "outputs": []
    },
    {
      "cell_type": "code",
      "metadata": {
        "id": "CkgCtS3b3giF"
      },
      "source": [
        "train_loader = DataLoader(dataset = data_train, batch_size = batch_size, num_workers = 2, shuffle = True) ## batch size 32 짜리 train loader 생성\n",
        "test_loader = DataLoader(dataset = data_test, batch_size = batch_size, num_workers = 2, shuffle = True) ## batch size 32 짜리 test loader 생성"
      ],
      "execution_count": 7,
      "outputs": []
    },
    {
      "cell_type": "markdown",
      "metadata": {
        "id": "SCsB9Pdk6zd7"
      },
      "source": [
        "# 3. Define Model\n",
        "<hr>"
      ]
    },
    {
      "cell_type": "code",
      "metadata": {
        "id": "-cUHqcW25etQ"
      },
      "source": [
        "class classification(nn.Module):\n",
        "    def __init__(self):\n",
        "        super(classification, self).__init__()\n",
        "        \n",
        "        self.conv_block = nn.Sequential(\n",
        "            nn.Conv2d(1, 32, kernel_size=3, stride=1, padding=1),\n",
        "            nn.BatchNorm2d(32),\n",
        "            nn.ReLU(inplace=True),\n",
        "            nn.Conv2d(32, 64, kernel_size=3, stride=1, padding=1),\n",
        "            nn.BatchNorm2d(64),\n",
        "            nn.ReLU(inplace=True),\n",
        "            nn.MaxPool2d(kernel_size=2, stride=2),\n",
        "            nn.Conv2d(64, 128, kernel_size=3, stride=1, padding=1),\n",
        "            nn.BatchNorm2d(128),\n",
        "            nn.ReLU(inplace=True),\n",
        "            nn.MaxPool2d(kernel_size=2, stride=2) \n",
        "        )\n",
        "        \n",
        "        self.linear_block = nn.Sequential(\n",
        "            nn.Dropout(p=0.5),\n",
        "            nn.Linear(128*7*7, 128),\n",
        "            nn.BatchNorm1d(128),\n",
        "            nn.ReLU(inplace=True),\n",
        "            nn.Dropout(0.5),\n",
        "            nn.Linear(128, 64),\n",
        "            nn.BatchNorm1d(64),\n",
        "            nn.ReLU(inplace=True),\n",
        "            nn.Dropout(0.5),\n",
        "            nn.Linear(64, 10)\n",
        "        )\n",
        "        \n",
        "    def forward(self, x):\n",
        "        x = self.conv_block(x)\n",
        "        x = x.view(x.size(0), -1)\n",
        "        x = self.linear_block(x)\n",
        "        \n",
        "        return x"
      ],
      "execution_count": 8,
      "outputs": []
    },
    {
      "cell_type": "code",
      "metadata": {
        "id": "MWYQ30d37dwC"
      },
      "source": [
        "model = classification().to(device)"
      ],
      "execution_count": 9,
      "outputs": []
    },
    {
      "cell_type": "code",
      "metadata": {
        "id": "-GpzWr1V64wc"
      },
      "source": [
        "criterion = nn.CrossEntropyLoss().to(device)    # Softmax is internally computed.\n",
        "optimizer = torch.optim.Adam(model.parameters(), lr=learning_rate)\n",
        "scheduler = optim.lr_scheduler.StepLR(optimizer, step_size=7, gamma=0.1)"
      ],
      "execution_count": 10,
      "outputs": []
    },
    {
      "cell_type": "markdown",
      "metadata": {
        "id": "lsNWP3Wk8Siq"
      },
      "source": [
        "# 4. Training\n",
        "<hr>"
      ]
    },
    {
      "cell_type": "code",
      "metadata": {
        "id": "1_QSSPkC7sCr"
      },
      "source": [
        "total_batch= len(train_loader)"
      ],
      "execution_count": 11,
      "outputs": []
    },
    {
      "cell_type": "code",
      "metadata": {
        "colab": {
          "base_uri": "https://localhost:8080/"
        },
        "id": "9_SeUrHB5gLH",
        "outputId": "b5b2af19-82fe-44c0-f1ff-8e5b17d1cbea"
      },
      "source": [
        "print(total_batch)"
      ],
      "execution_count": 12,
      "outputs": [
        {
          "output_type": "stream",
          "text": [
            "313\n"
          ],
          "name": "stdout"
        }
      ]
    },
    {
      "cell_type": "code",
      "metadata": {
        "id": "eaJMZ8TvcglJ"
      },
      "source": [
        "def accuracy(log_pred, y_true):\n",
        "    y_pred = torch.argmax(log_pred, dim=1)\n",
        "    return (y_pred == y_true).to(torch.float).mean()"
      ],
      "execution_count": 13,
      "outputs": []
    },
    {
      "cell_type": "code",
      "metadata": {
        "id": "Kl5FuVgt8_LF"
      },
      "source": [
        "def training(model, loss, optim, training_epochs, train_loader, test_loader):\n",
        "  L_iters_train = []\n",
        "  accuracy_train = []\n",
        "  L_iters_test = []\n",
        "  accuracy_test = []\n",
        "  for epoch in range(training_epochs):\n",
        "    total_cost_train = 0\n",
        "    total_cost_test = 0\n",
        "    total_acc_train = 0\n",
        "    total_acc_test = 0\n",
        "    model.train()\n",
        "    for X, Y in train_loader:\n",
        "      X = X.to(device)\n",
        "      Y = Y.to(device)\n",
        "\n",
        "      optim.zero_grad()\n",
        "      train_pred = model(X)\n",
        "      cost = loss(train_pred, Y)\n",
        "      cost.backward()\n",
        "      optim.step()\n",
        "\n",
        "      total_cost_train += cost\n",
        "      total_acc_train += accuracy(train_pred, Y)\n",
        "      \n",
        "    avg_cost_train = total_cost_train / len(train_loader)\n",
        "    avg_acc_train = total_acc_train / len(train_loader)\n",
        "\n",
        "    L_iters_train.append(avg_cost_train)\n",
        "    accuracy_train.append(avg_acc_train)\n",
        "    model.eval()\n",
        "    with torch.no_grad():\n",
        "      for X_test, Y_test in test_loader:\n",
        "        X_test = X_test.to(device)\n",
        "        Y_test = Y_test.to(device)\n",
        "        test_pred = model(X_test)\n",
        "        cost_test = loss(test_pred, Y_test)\n",
        "        total_cost_test += cost_test\n",
        "        total_acc_test += accuracy(test_pred, Y_test)\n",
        "      avg_cost_test = total_cost_test / len(test_loader)\n",
        "      avg_acc_test = total_acc_test / len(test_loader)\n",
        "    \n",
        "      accuracy_test.append(avg_acc_test)\n",
        "      L_iters_test.append(avg_cost_test)\n",
        "\n",
        "    print(\"Epoch: %02d Training Loss: %.9f Testing Loss: %.9f  Training Acc: %.9f Testing Acc: %.9f\" %((epoch + 1),avg_cost_train, avg_cost_test, avg_acc_train, avg_acc_test))\n",
        "  return L_iters_train, accuracy_train, L_iters_test, accuracy_test"
      ],
      "execution_count": 14,
      "outputs": []
    },
    {
      "cell_type": "code",
      "metadata": {
        "colab": {
          "base_uri": "https://localhost:8080/"
        },
        "id": "hOfKPriA84jq",
        "outputId": "c6a00395-83c2-4d9c-b672-e8ac24c0061b"
      },
      "source": [
        "L_train, A_train, L_test, A_test = training(model, criterion, optimizer, training_epochs, train_loader, test_loader)"
      ],
      "execution_count": 15,
      "outputs": [
        {
          "output_type": "stream",
          "text": [
            "Epoch: 01 Training Loss: 0.688236475 Testing Loss: 0.116430476  Training Acc: 0.799221218 Testing Acc: 0.966516674\n",
            "Epoch: 02 Training Loss: 0.326885939 Testing Loss: 0.091662206  Training Acc: 0.904452860 Testing Acc: 0.973216653\n",
            "Epoch: 03 Training Loss: 0.250883192 Testing Loss: 0.089749351  Training Acc: 0.927915335 Testing Acc: 0.974866688\n",
            "Epoch: 04 Training Loss: 0.224625677 Testing Loss: 0.080781631  Training Acc: 0.936301887 Testing Acc: 0.976333320\n",
            "Epoch: 05 Training Loss: 0.200676933 Testing Loss: 0.062062290  Training Acc: 0.943690062 Testing Acc: 0.981583357\n",
            "Epoch: 06 Training Loss: 0.192560792 Testing Loss: 0.063517228  Training Acc: 0.944688499 Testing Acc: 0.981566668\n",
            "Epoch: 07 Training Loss: 0.168564737 Testing Loss: 0.063022085  Training Acc: 0.953075051 Testing Acc: 0.981316686\n",
            "Epoch: 08 Training Loss: 0.169780388 Testing Loss: 0.063025989  Training Acc: 0.952376187 Testing Acc: 0.982333362\n",
            "Epoch: 09 Training Loss: 0.159585387 Testing Loss: 0.061976437  Training Acc: 0.954273164 Testing Acc: 0.982166648\n",
            "Epoch: 10 Training Loss: 0.139514744 Testing Loss: 0.054548655  Training Acc: 0.962260365 Testing Acc: 0.984366655\n",
            "Epoch: 11 Training Loss: 0.150770396 Testing Loss: 0.052730821  Training Acc: 0.955171704 Testing Acc: 0.985166669\n",
            "Epoch: 12 Training Loss: 0.142103747 Testing Loss: 0.048468292  Training Acc: 0.959365010 Testing Acc: 0.986016691\n",
            "Epoch: 13 Training Loss: 0.131458625 Testing Loss: 0.052413415  Training Acc: 0.963857830 Testing Acc: 0.984899998\n",
            "Epoch: 14 Training Loss: 0.127775609 Testing Loss: 0.057664562  Training Acc: 0.962360203 Testing Acc: 0.984000027\n",
            "Epoch: 15 Training Loss: 0.126471624 Testing Loss: 0.050041582  Training Acc: 0.965455234 Testing Acc: 0.985450029\n",
            "Epoch: 16 Training Loss: 0.122998491 Testing Loss: 0.053541869  Training Acc: 0.965155721 Testing Acc: 0.984533370\n",
            "Epoch: 17 Training Loss: 0.111905679 Testing Loss: 0.053474765  Training Acc: 0.969349027 Testing Acc: 0.985416651\n",
            "Epoch: 18 Training Loss: 0.124531023 Testing Loss: 0.051057491  Training Acc: 0.964057505 Testing Acc: 0.985716701\n",
            "Epoch: 19 Training Loss: 0.120800257 Testing Loss: 0.053008284  Training Acc: 0.966154158 Testing Acc: 0.985249996\n",
            "Epoch: 20 Training Loss: 0.107749499 Testing Loss: 0.049373344  Training Acc: 0.970247567 Testing Acc: 0.986533344\n",
            "Epoch: 21 Training Loss: 0.128573120 Testing Loss: 0.047643237  Training Acc: 0.963658154 Testing Acc: 0.986516654\n",
            "Epoch: 22 Training Loss: 0.112117119 Testing Loss: 0.046442889  Training Acc: 0.969149351 Testing Acc: 0.987116694\n",
            "Epoch: 23 Training Loss: 0.114114314 Testing Loss: 0.049101640  Training Acc: 0.966653347 Testing Acc: 0.986166656\n",
            "Epoch: 24 Training Loss: 0.095338777 Testing Loss: 0.045128819  Training Acc: 0.973442495 Testing Acc: 0.987616658\n",
            "Epoch: 25 Training Loss: 0.099857613 Testing Loss: 0.046578754  Training Acc: 0.972244382 Testing Acc: 0.987166703\n",
            "Epoch: 26 Training Loss: 0.094812818 Testing Loss: 0.042055693  Training Acc: 0.973542333 Testing Acc: 0.988099992\n",
            "Epoch: 27 Training Loss: 0.096882343 Testing Loss: 0.052072126  Training Acc: 0.971046329 Testing Acc: 0.986816704\n",
            "Epoch: 28 Training Loss: 0.091311201 Testing Loss: 0.052311700  Training Acc: 0.974241197 Testing Acc: 0.985566676\n",
            "Epoch: 29 Training Loss: 0.095899917 Testing Loss: 0.046053495  Training Acc: 0.973043084 Testing Acc: 0.987300038\n",
            "Epoch: 30 Training Loss: 0.096261844 Testing Loss: 0.055075653  Training Acc: 0.972943246 Testing Acc: 0.985483348\n",
            "Epoch: 31 Training Loss: 0.087317944 Testing Loss: 0.050196745  Training Acc: 0.975339413 Testing Acc: 0.986983359\n",
            "Epoch: 32 Training Loss: 0.087435678 Testing Loss: 0.048047069  Training Acc: 0.975838661 Testing Acc: 0.986750007\n",
            "Epoch: 33 Training Loss: 0.093042478 Testing Loss: 0.052048106  Training Acc: 0.974540710 Testing Acc: 0.986266673\n",
            "Epoch: 34 Training Loss: 0.102152511 Testing Loss: 0.043962900  Training Acc: 0.969848216 Testing Acc: 0.988283336\n",
            "Epoch: 35 Training Loss: 0.087697223 Testing Loss: 0.045777008  Training Acc: 0.974241197 Testing Acc: 0.987733364\n",
            "Epoch: 36 Training Loss: 0.083346695 Testing Loss: 0.046737418  Training Acc: 0.977136552 Testing Acc: 0.987816691\n",
            "Epoch: 37 Training Loss: 0.080673240 Testing Loss: 0.045657817  Training Acc: 0.978734016 Testing Acc: 0.987733364\n",
            "Epoch: 38 Training Loss: 0.082249366 Testing Loss: 0.047517017  Training Acc: 0.977136552 Testing Acc: 0.987533331\n",
            "Epoch: 39 Training Loss: 0.082463823 Testing Loss: 0.042994089  Training Acc: 0.975938499 Testing Acc: 0.988416672\n",
            "Epoch: 40 Training Loss: 0.088407226 Testing Loss: 0.048216973  Training Acc: 0.974141359 Testing Acc: 0.987216651\n",
            "Epoch: 41 Training Loss: 0.064093910 Testing Loss: 0.045535620  Training Acc: 0.981829047 Testing Acc: 0.988683343\n",
            "Epoch: 42 Training Loss: 0.076474160 Testing Loss: 0.052388962  Training Acc: 0.978134990 Testing Acc: 0.986183345\n",
            "Epoch: 43 Training Loss: 0.087218672 Testing Loss: 0.043774214  Training Acc: 0.974440873 Testing Acc: 0.988433361\n",
            "Epoch: 44 Training Loss: 0.078320272 Testing Loss: 0.053142387  Training Acc: 0.978734016 Testing Acc: 0.986683369\n",
            "Epoch: 45 Training Loss: 0.083312489 Testing Loss: 0.047119398  Training Acc: 0.978534341 Testing Acc: 0.987133324\n",
            "Epoch: 46 Training Loss: 0.067914285 Testing Loss: 0.043285593  Training Acc: 0.980131745 Testing Acc: 0.988883317\n",
            "Epoch: 47 Training Loss: 0.080083430 Testing Loss: 0.042889450  Training Acc: 0.977935314 Testing Acc: 0.988883317\n",
            "Epoch: 48 Training Loss: 0.068105474 Testing Loss: 0.041756257  Training Acc: 0.979932070 Testing Acc: 0.989050031\n",
            "Epoch: 49 Training Loss: 0.080956966 Testing Loss: 0.047109477  Training Acc: 0.979932070 Testing Acc: 0.987516701\n",
            "Epoch: 50 Training Loss: 0.066252708 Testing Loss: 0.040603671  Training Acc: 0.980331481 Testing Acc: 0.989316702\n",
            "Epoch: 51 Training Loss: 0.064985104 Testing Loss: 0.044190209  Training Acc: 0.979832232 Testing Acc: 0.988283336\n",
            "Epoch: 52 Training Loss: 0.068772107 Testing Loss: 0.042070098  Training Acc: 0.980830669 Testing Acc: 0.988916695\n",
            "Epoch: 53 Training Loss: 0.071256161 Testing Loss: 0.043988701  Training Acc: 0.979632556 Testing Acc: 0.989283323\n",
            "Epoch: 54 Training Loss: 0.071454048 Testing Loss: 0.039845392  Training Acc: 0.980231583 Testing Acc: 0.989750028\n",
            "Epoch: 55 Training Loss: 0.076994032 Testing Loss: 0.038039740  Training Acc: 0.979133368 Testing Acc: 0.989816666\n",
            "Epoch: 56 Training Loss: 0.067553923 Testing Loss: 0.044926558  Training Acc: 0.979832232 Testing Acc: 0.988266706\n",
            "Epoch: 57 Training Loss: 0.066842027 Testing Loss: 0.041111860  Training Acc: 0.981329858 Testing Acc: 0.989516675\n",
            "Epoch: 58 Training Loss: 0.063729979 Testing Loss: 0.044626180  Training Acc: 0.981928885 Testing Acc: 0.988733351\n",
            "Epoch: 59 Training Loss: 0.059999283 Testing Loss: 0.040162072  Training Acc: 0.981829047 Testing Acc: 0.989716649\n",
            "Epoch: 60 Training Loss: 0.064521998 Testing Loss: 0.044749036  Training Acc: 0.981829047 Testing Acc: 0.988950014\n",
            "Epoch: 61 Training Loss: 0.063012153 Testing Loss: 0.042568482  Training Acc: 0.982827485 Testing Acc: 0.989199996\n",
            "Epoch: 62 Training Loss: 0.065750264 Testing Loss: 0.041394915  Training Acc: 0.981729209 Testing Acc: 0.989600003\n",
            "Epoch: 63 Training Loss: 0.061851129 Testing Loss: 0.044685993  Training Acc: 0.982527912 Testing Acc: 0.988483369\n",
            "Epoch: 64 Training Loss: 0.064791881 Testing Loss: 0.043182813  Training Acc: 0.980930507 Testing Acc: 0.989250004\n",
            "Epoch: 65 Training Loss: 0.064437114 Testing Loss: 0.040240772  Training Acc: 0.982627749 Testing Acc: 0.989583373\n",
            "Epoch: 66 Training Loss: 0.061652739 Testing Loss: 0.042388543  Training Acc: 0.983326674 Testing Acc: 0.988883317\n",
            "Epoch: 67 Training Loss: 0.062370788 Testing Loss: 0.040638372  Training Acc: 0.981729209 Testing Acc: 0.989783347\n",
            "Epoch: 68 Training Loss: 0.067956492 Testing Loss: 0.039020944  Training Acc: 0.982428074 Testing Acc: 0.989766657\n",
            "Epoch: 69 Training Loss: 0.052148849 Testing Loss: 0.044199277  Training Acc: 0.983726025 Testing Acc: 0.989483356\n",
            "Epoch: 70 Training Loss: 0.053324118 Testing Loss: 0.041177895  Training Acc: 0.984325051 Testing Acc: 0.989750028\n",
            "Epoch: 71 Training Loss: 0.058740437 Testing Loss: 0.041849975  Training Acc: 0.983027160 Testing Acc: 0.989400029\n",
            "Epoch: 72 Training Loss: 0.052508380 Testing Loss: 0.042937174  Training Acc: 0.984424889 Testing Acc: 0.989216685\n",
            "Epoch: 73 Training Loss: 0.061347473 Testing Loss: 0.043770969  Training Acc: 0.982627749 Testing Acc: 0.988866687\n",
            "Epoch: 74 Training Loss: 0.061770782 Testing Loss: 0.045683291  Training Acc: 0.982527912 Testing Acc: 0.988600016\n",
            "Epoch: 75 Training Loss: 0.058196630 Testing Loss: 0.039990883  Training Acc: 0.985323489 Testing Acc: 0.989883363\n",
            "Epoch: 76 Training Loss: 0.057071477 Testing Loss: 0.040032968  Training Acc: 0.984225214 Testing Acc: 0.989849985\n",
            "Epoch: 77 Training Loss: 0.053406663 Testing Loss: 0.043480489  Training Acc: 0.983925700 Testing Acc: 0.989366651\n",
            "Epoch: 78 Training Loss: 0.059182219 Testing Loss: 0.042532012  Training Acc: 0.982827485 Testing Acc: 0.989450037\n",
            "Epoch: 79 Training Loss: 0.051890627 Testing Loss: 0.041909490  Training Acc: 0.986222029 Testing Acc: 0.989316702\n",
            "Epoch: 80 Training Loss: 0.052694496 Testing Loss: 0.040978540  Training Acc: 0.985023916 Testing Acc: 0.990016699\n",
            "Epoch: 81 Training Loss: 0.051731963 Testing Loss: 0.040522616  Training Acc: 0.987020731 Testing Acc: 0.989733338\n",
            "Epoch: 82 Training Loss: 0.063986659 Testing Loss: 0.038238686  Training Acc: 0.981529534 Testing Acc: 0.989899993\n",
            "Epoch: 83 Training Loss: 0.048221409 Testing Loss: 0.041879766  Training Acc: 0.985423326 Testing Acc: 0.989350021\n",
            "Epoch: 84 Training Loss: 0.050327353 Testing Loss: 0.043341465  Training Acc: 0.984824240 Testing Acc: 0.989483356\n",
            "Epoch: 85 Training Loss: 0.058617696 Testing Loss: 0.044008203  Training Acc: 0.984424889 Testing Acc: 0.989283323\n",
            "Epoch: 86 Training Loss: 0.055396959 Testing Loss: 0.044742323  Training Acc: 0.983925700 Testing Acc: 0.988666654\n",
            "Epoch: 87 Training Loss: 0.054695100 Testing Loss: 0.039807599  Training Acc: 0.983825862 Testing Acc: 0.989833355\n",
            "Epoch: 88 Training Loss: 0.054348934 Testing Loss: 0.041509077  Training Acc: 0.984724402 Testing Acc: 0.989466667\n",
            "Epoch: 89 Training Loss: 0.050906684 Testing Loss: 0.042809930  Training Acc: 0.985523164 Testing Acc: 0.989266694\n",
            "Epoch: 90 Training Loss: 0.050244197 Testing Loss: 0.040541459  Training Acc: 0.984724402 Testing Acc: 0.989750028\n",
            "Epoch: 91 Training Loss: 0.065218188 Testing Loss: 0.041390032  Training Acc: 0.981629372 Testing Acc: 0.989750028\n",
            "Epoch: 92 Training Loss: 0.056124080 Testing Loss: 0.038655303  Training Acc: 0.982827485 Testing Acc: 0.990033329\n",
            "Epoch: 93 Training Loss: 0.045966361 Testing Loss: 0.041626047  Training Acc: 0.986321867 Testing Acc: 0.990050018\n",
            "Epoch: 94 Training Loss: 0.052931890 Testing Loss: 0.040417634  Training Acc: 0.984025538 Testing Acc: 0.989899993\n",
            "Epoch: 95 Training Loss: 0.056478236 Testing Loss: 0.044445496  Training Acc: 0.983925700 Testing Acc: 0.989033341\n",
            "Epoch: 96 Training Loss: 0.053205509 Testing Loss: 0.040488120  Training Acc: 0.985323489 Testing Acc: 0.989716649\n",
            "Epoch: 97 Training Loss: 0.055061344 Testing Loss: 0.042221304  Training Acc: 0.984524727 Testing Acc: 0.989366651\n",
            "Epoch: 98 Training Loss: 0.047074474 Testing Loss: 0.043393601  Training Acc: 0.985922515 Testing Acc: 0.989100039\n",
            "Epoch: 99 Training Loss: 0.055310629 Testing Loss: 0.040183716  Training Acc: 0.983726025 Testing Acc: 0.990350008\n",
            "Epoch: 100 Training Loss: 0.057152648 Testing Loss: 0.041045867  Training Acc: 0.984225214 Testing Acc: 0.990033329\n",
            "Epoch: 101 Training Loss: 0.049713228 Testing Loss: 0.041298334  Training Acc: 0.985922515 Testing Acc: 0.989750028\n",
            "Epoch: 102 Training Loss: 0.045589879 Testing Loss: 0.042715691  Training Acc: 0.988518357 Testing Acc: 0.990000010\n",
            "Epoch: 103 Training Loss: 0.044112891 Testing Loss: 0.043536283  Training Acc: 0.987320244 Testing Acc: 0.990416706\n",
            "Epoch: 104 Training Loss: 0.051816627 Testing Loss: 0.044070076  Training Acc: 0.985423326 Testing Acc: 0.989750028\n",
            "Epoch: 105 Training Loss: 0.046542507 Testing Loss: 0.041522946  Training Acc: 0.985922515 Testing Acc: 0.990000010\n",
            "Epoch: 106 Training Loss: 0.043023400 Testing Loss: 0.041985184  Training Acc: 0.988318682 Testing Acc: 0.989700019\n",
            "Epoch: 107 Training Loss: 0.051172428 Testing Loss: 0.042577695  Training Acc: 0.986122191 Testing Acc: 0.989633322\n",
            "Epoch: 108 Training Loss: 0.052528221 Testing Loss: 0.046886716  Training Acc: 0.985922515 Testing Acc: 0.988983333\n",
            "Epoch: 109 Training Loss: 0.055662069 Testing Loss: 0.039489053  Training Acc: 0.986621380 Testing Acc: 0.990183353\n",
            "Epoch: 110 Training Loss: 0.044766530 Testing Loss: 0.043353155  Training Acc: 0.988817871 Testing Acc: 0.989683330\n",
            "Epoch: 111 Training Loss: 0.053061422 Testing Loss: 0.043277860  Training Acc: 0.985623002 Testing Acc: 0.989849985\n",
            "Epoch: 112 Training Loss: 0.053204216 Testing Loss: 0.043092228  Training Acc: 0.986321867 Testing Acc: 0.989616692\n",
            "Epoch: 113 Training Loss: 0.053521316 Testing Loss: 0.040637672  Training Acc: 0.986022353 Testing Acc: 0.990183353\n",
            "Epoch: 114 Training Loss: 0.044293955 Testing Loss: 0.042407908  Training Acc: 0.986821055 Testing Acc: 0.990183353\n",
            "Epoch: 115 Training Loss: 0.044622485 Testing Loss: 0.041282289  Training Acc: 0.986421704 Testing Acc: 0.990266681\n",
            "Epoch: 116 Training Loss: 0.048167132 Testing Loss: 0.041217413  Training Acc: 0.986821055 Testing Acc: 0.989899993\n",
            "Epoch: 117 Training Loss: 0.055125311 Testing Loss: 0.040279508  Training Acc: 0.983925700 Testing Acc: 0.989983320\n",
            "Epoch: 118 Training Loss: 0.041093901 Testing Loss: 0.041023504  Training Acc: 0.986920893 Testing Acc: 0.990233362\n",
            "Epoch: 119 Training Loss: 0.048631232 Testing Loss: 0.043004129  Training Acc: 0.986022353 Testing Acc: 0.989849985\n",
            "Epoch: 120 Training Loss: 0.043339841 Testing Loss: 0.044781782  Training Acc: 0.988418519 Testing Acc: 0.989899993\n",
            "Epoch: 121 Training Loss: 0.046286829 Testing Loss: 0.045299932  Training Acc: 0.987320244 Testing Acc: 0.989666700\n",
            "Epoch: 122 Training Loss: 0.042056289 Testing Loss: 0.042046983  Training Acc: 0.987420082 Testing Acc: 0.990816653\n",
            "Epoch: 123 Training Loss: 0.058144040 Testing Loss: 0.040487479  Training Acc: 0.985123813 Testing Acc: 0.990599990\n",
            "Epoch: 124 Training Loss: 0.046180025 Testing Loss: 0.045304134  Training Acc: 0.987220407 Testing Acc: 0.989016652\n",
            "Epoch: 125 Training Loss: 0.047693379 Testing Loss: 0.040377688  Training Acc: 0.986621380 Testing Acc: 0.990100026\n",
            "Epoch: 126 Training Loss: 0.055437550 Testing Loss: 0.041910846  Training Acc: 0.985223651 Testing Acc: 0.990083337\n",
            "Epoch: 127 Training Loss: 0.047922462 Testing Loss: 0.039592344  Training Acc: 0.986321867 Testing Acc: 0.990566671\n",
            "Epoch: 128 Training Loss: 0.035338078 Testing Loss: 0.042383842  Training Acc: 0.990015984 Testing Acc: 0.990100026\n",
            "Epoch: 129 Training Loss: 0.043633465 Testing Loss: 0.042660289  Training Acc: 0.987619817 Testing Acc: 0.990266681\n",
            "Epoch: 130 Training Loss: 0.039865352 Testing Loss: 0.042367425  Training Acc: 0.988418519 Testing Acc: 0.990549982\n",
            "Epoch: 131 Training Loss: 0.043881901 Testing Loss: 0.041203938  Training Acc: 0.986122191 Testing Acc: 0.990100026\n",
            "Epoch: 132 Training Loss: 0.040498476 Testing Loss: 0.042445939  Training Acc: 0.988218844 Testing Acc: 0.990599990\n",
            "Epoch: 133 Training Loss: 0.036755592 Testing Loss: 0.040630184  Training Acc: 0.989017546 Testing Acc: 0.990599990\n",
            "Epoch: 134 Training Loss: 0.043858524 Testing Loss: 0.044222936  Training Acc: 0.987120569 Testing Acc: 0.990233362\n",
            "Epoch: 135 Training Loss: 0.039600410 Testing Loss: 0.044876162  Training Acc: 0.988518357 Testing Acc: 0.990533352\n",
            "Epoch: 136 Training Loss: 0.049651485 Testing Loss: 0.038177289  Training Acc: 0.986920893 Testing Acc: 0.990800023\n",
            "Epoch: 137 Training Loss: 0.041289251 Testing Loss: 0.042399023  Training Acc: 0.988019168 Testing Acc: 0.989950001\n",
            "Epoch: 138 Training Loss: 0.039896060 Testing Loss: 0.043470953  Training Acc: 0.988218844 Testing Acc: 0.990083337\n",
            "Epoch: 139 Training Loss: 0.036781587 Testing Loss: 0.044391815  Training Acc: 0.989516735 Testing Acc: 0.990066707\n",
            "Epoch: 140 Training Loss: 0.045133542 Testing Loss: 0.046170581  Training Acc: 0.985922515 Testing Acc: 0.989583373\n",
            "Epoch: 141 Training Loss: 0.041265540 Testing Loss: 0.045599226  Training Acc: 0.988119006 Testing Acc: 0.989000022\n",
            "Epoch: 142 Training Loss: 0.047757555 Testing Loss: 0.043948352  Training Acc: 0.987519979 Testing Acc: 0.990033329\n",
            "Epoch: 143 Training Loss: 0.035843272 Testing Loss: 0.040157817  Training Acc: 0.990515172 Testing Acc: 0.990716696\n",
            "Epoch: 144 Training Loss: 0.044766199 Testing Loss: 0.040603060  Training Acc: 0.986521542 Testing Acc: 0.991200030\n",
            "Epoch: 145 Training Loss: 0.045072526 Testing Loss: 0.041575193  Training Acc: 0.987220407 Testing Acc: 0.990700006\n",
            "Epoch: 146 Training Loss: 0.038857426 Testing Loss: 0.041336611  Training Acc: 0.988817871 Testing Acc: 0.990883350\n",
            "Epoch: 147 Training Loss: 0.037546314 Testing Loss: 0.044533335  Training Acc: 0.989616573 Testing Acc: 0.989616692\n",
            "Epoch: 148 Training Loss: 0.040479224 Testing Loss: 0.041190311  Training Acc: 0.988917708 Testing Acc: 0.990649998\n",
            "Epoch: 149 Training Loss: 0.042082299 Testing Loss: 0.040073738  Training Acc: 0.987120569 Testing Acc: 0.991116703\n",
            "Epoch: 150 Training Loss: 0.036019661 Testing Loss: 0.045417342  Training Acc: 0.988618195 Testing Acc: 0.990183353\n",
            "Epoch: 151 Training Loss: 0.042472649 Testing Loss: 0.043033838  Training Acc: 0.988218844 Testing Acc: 0.990383327\n",
            "Epoch: 152 Training Loss: 0.040603943 Testing Loss: 0.043504480  Training Acc: 0.988119006 Testing Acc: 0.990199983\n",
            "Epoch: 153 Training Loss: 0.034662310 Testing Loss: 0.049900457  Training Acc: 0.990015984 Testing Acc: 0.989333332\n",
            "Epoch: 154 Training Loss: 0.038955703 Testing Loss: 0.044348165  Training Acc: 0.989117384 Testing Acc: 0.990100026\n",
            "Epoch: 155 Training Loss: 0.043722838 Testing Loss: 0.046234023  Training Acc: 0.988119006 Testing Acc: 0.989383340\n",
            "Epoch: 156 Training Loss: 0.043028634 Testing Loss: 0.043338228  Training Acc: 0.987719655 Testing Acc: 0.990216672\n",
            "Epoch: 157 Training Loss: 0.037999202 Testing Loss: 0.043422952  Training Acc: 0.989516735 Testing Acc: 0.990483344\n",
            "Epoch: 158 Training Loss: 0.042960797 Testing Loss: 0.043618660  Training Acc: 0.989117384 Testing Acc: 0.990333319\n",
            "Epoch: 159 Training Loss: 0.045140438 Testing Loss: 0.043377582  Training Acc: 0.987519979 Testing Acc: 0.990183353\n",
            "Epoch: 160 Training Loss: 0.043378919 Testing Loss: 0.041338872  Training Acc: 0.988019168 Testing Acc: 0.990316689\n",
            "Epoch: 161 Training Loss: 0.036508996 Testing Loss: 0.045420505  Training Acc: 0.989816248 Testing Acc: 0.989983320\n",
            "Epoch: 162 Training Loss: 0.037187941 Testing Loss: 0.047969874  Training Acc: 0.990315497 Testing Acc: 0.989866674\n",
            "Epoch: 163 Training Loss: 0.035442643 Testing Loss: 0.042499151  Training Acc: 0.989217222 Testing Acc: 0.990566671\n",
            "Epoch: 164 Training Loss: 0.038715880 Testing Loss: 0.045649230  Training Acc: 0.988917708 Testing Acc: 0.990249991\n",
            "Epoch: 165 Training Loss: 0.041611526 Testing Loss: 0.041808590  Training Acc: 0.987020731 Testing Acc: 0.990533352\n",
            "Epoch: 166 Training Loss: 0.033187032 Testing Loss: 0.045219149  Training Acc: 0.990415335 Testing Acc: 0.990166664\n",
            "Epoch: 167 Training Loss: 0.036232710 Testing Loss: 0.044681668  Training Acc: 0.990714848 Testing Acc: 0.990116656\n",
            "Epoch: 168 Training Loss: 0.035286728 Testing Loss: 0.043898590  Training Acc: 0.991313875 Testing Acc: 0.990016699\n",
            "Epoch: 169 Training Loss: 0.044217627 Testing Loss: 0.040915791  Training Acc: 0.987719655 Testing Acc: 0.990450025\n",
            "Epoch: 170 Training Loss: 0.042085536 Testing Loss: 0.040085152  Training Acc: 0.988917708 Testing Acc: 0.990850031\n",
            "Epoch: 171 Training Loss: 0.042817511 Testing Loss: 0.043187007  Training Acc: 0.988618195 Testing Acc: 0.990450025\n",
            "Epoch: 172 Training Loss: 0.039579462 Testing Loss: 0.039886724  Training Acc: 0.987220407 Testing Acc: 0.990833342\n",
            "Epoch: 173 Training Loss: 0.043506037 Testing Loss: 0.040294860  Training Acc: 0.989816248 Testing Acc: 0.990933359\n",
            "Epoch: 174 Training Loss: 0.033268031 Testing Loss: 0.047083113  Training Acc: 0.991313875 Testing Acc: 0.989483356\n",
            "Epoch: 175 Training Loss: 0.044229075 Testing Loss: 0.040222570  Training Acc: 0.987420082 Testing Acc: 0.990900040\n",
            "Epoch: 176 Training Loss: 0.034433216 Testing Loss: 0.040438756  Training Acc: 0.990115821 Testing Acc: 0.991150022\n",
            "Epoch: 177 Training Loss: 0.032158639 Testing Loss: 0.048345774  Training Acc: 0.990814686 Testing Acc: 0.989416659\n",
            "Epoch: 178 Training Loss: 0.033044953 Testing Loss: 0.047890980  Training Acc: 0.990814686 Testing Acc: 0.990183353\n",
            "Epoch: 179 Training Loss: 0.035173006 Testing Loss: 0.047521200  Training Acc: 0.989217222 Testing Acc: 0.990416706\n",
            "Epoch: 180 Training Loss: 0.043100480 Testing Loss: 0.047182932  Training Acc: 0.987919331 Testing Acc: 0.990150034\n",
            "Epoch: 181 Training Loss: 0.039189909 Testing Loss: 0.039723396  Training Acc: 0.989516735 Testing Acc: 0.991133332\n",
            "Epoch: 182 Training Loss: 0.044366390 Testing Loss: 0.045601629  Training Acc: 0.988218844 Testing Acc: 0.990083337\n",
            "Epoch: 183 Training Loss: 0.036538653 Testing Loss: 0.045304645  Training Acc: 0.990415335 Testing Acc: 0.989883363\n",
            "Epoch: 184 Training Loss: 0.039316718 Testing Loss: 0.042503223  Training Acc: 0.988318682 Testing Acc: 0.990466654\n",
            "Epoch: 185 Training Loss: 0.042549070 Testing Loss: 0.042327020  Training Acc: 0.989317060 Testing Acc: 0.990533352\n",
            "Epoch: 186 Training Loss: 0.038720500 Testing Loss: 0.049297407  Training Acc: 0.989317060 Testing Acc: 0.988900006\n",
            "Epoch: 187 Training Loss: 0.038395166 Testing Loss: 0.044825997  Training Acc: 0.989716411 Testing Acc: 0.990133345\n",
            "Epoch: 188 Training Loss: 0.035473060 Testing Loss: 0.041320831  Training Acc: 0.989916146 Testing Acc: 0.990450025\n",
            "Epoch: 189 Training Loss: 0.030965831 Testing Loss: 0.044896290  Training Acc: 0.991713226 Testing Acc: 0.990216672\n",
            "Epoch: 190 Training Loss: 0.031616524 Testing Loss: 0.041266251  Training Acc: 0.990615010 Testing Acc: 0.990900040\n",
            "Epoch: 191 Training Loss: 0.031042384 Testing Loss: 0.044665854  Training Acc: 0.991613388 Testing Acc: 0.990516663\n",
            "Epoch: 192 Training Loss: 0.038719200 Testing Loss: 0.042594552  Training Acc: 0.989117384 Testing Acc: 0.990700006\n",
            "Epoch: 193 Training Loss: 0.038077354 Testing Loss: 0.045969274  Training Acc: 0.989416897 Testing Acc: 0.990333319\n",
            "Epoch: 194 Training Loss: 0.033190861 Testing Loss: 0.041410048  Training Acc: 0.989816248 Testing Acc: 0.991150022\n",
            "Epoch: 195 Training Loss: 0.035918161 Testing Loss: 0.045344651  Training Acc: 0.988518357 Testing Acc: 0.990366697\n",
            "Epoch: 196 Training Loss: 0.037398327 Testing Loss: 0.041890103  Training Acc: 0.989317060 Testing Acc: 0.990700006\n",
            "Epoch: 197 Training Loss: 0.036805246 Testing Loss: 0.042868763  Training Acc: 0.989516735 Testing Acc: 0.990733325\n",
            "Epoch: 198 Training Loss: 0.033486586 Testing Loss: 0.048955049  Training Acc: 0.991413713 Testing Acc: 0.989816666\n",
            "Epoch: 199 Training Loss: 0.032011572 Testing Loss: 0.042597584  Training Acc: 0.990914524 Testing Acc: 0.990533352\n",
            "Epoch: 200 Training Loss: 0.032132428 Testing Loss: 0.045706641  Training Acc: 0.991014361 Testing Acc: 0.990883350\n",
            "Epoch: 201 Training Loss: 0.039005585 Testing Loss: 0.040852860  Training Acc: 0.990015984 Testing Acc: 0.990766704\n",
            "Epoch: 202 Training Loss: 0.036877219 Testing Loss: 0.043084379  Training Acc: 0.989516735 Testing Acc: 0.990100026\n",
            "Epoch: 203 Training Loss: 0.037988704 Testing Loss: 0.047613338  Training Acc: 0.988318682 Testing Acc: 0.990300000\n",
            "Epoch: 204 Training Loss: 0.035655517 Testing Loss: 0.044548590  Training Acc: 0.989716411 Testing Acc: 0.990416706\n",
            "Epoch: 205 Training Loss: 0.038289748 Testing Loss: 0.045680590  Training Acc: 0.989217222 Testing Acc: 0.990083337\n",
            "Epoch: 206 Training Loss: 0.040907007 Testing Loss: 0.041252445  Training Acc: 0.988618195 Testing Acc: 0.990416706\n",
            "Epoch: 207 Training Loss: 0.036098063 Testing Loss: 0.042165186  Training Acc: 0.991413713 Testing Acc: 0.990416706\n",
            "Epoch: 208 Training Loss: 0.035205048 Testing Loss: 0.043588959  Training Acc: 0.991214037 Testing Acc: 0.990433335\n",
            "Epoch: 209 Training Loss: 0.032012578 Testing Loss: 0.047056906  Training Acc: 0.990914524 Testing Acc: 0.989700019\n",
            "Epoch: 210 Training Loss: 0.039509743 Testing Loss: 0.045333181  Training Acc: 0.988718033 Testing Acc: 0.989933372\n",
            "Epoch: 211 Training Loss: 0.037252195 Testing Loss: 0.046562906  Training Acc: 0.988817871 Testing Acc: 0.989683330\n",
            "Epoch: 212 Training Loss: 0.034103114 Testing Loss: 0.045432888  Training Acc: 0.989716411 Testing Acc: 0.990716696\n",
            "Epoch: 213 Training Loss: 0.042911980 Testing Loss: 0.043082308  Training Acc: 0.989317060 Testing Acc: 0.990350008\n",
            "Epoch: 214 Training Loss: 0.030579777 Testing Loss: 0.042694405  Training Acc: 0.991014361 Testing Acc: 0.990800023\n",
            "Epoch: 215 Training Loss: 0.029606054 Testing Loss: 0.044600189  Training Acc: 0.990615010 Testing Acc: 0.990333319\n",
            "Epoch: 216 Training Loss: 0.032947574 Testing Loss: 0.041061357  Training Acc: 0.991912901 Testing Acc: 0.990583360\n",
            "Epoch: 217 Training Loss: 0.031220412 Testing Loss: 0.044200622  Training Acc: 0.990914524 Testing Acc: 0.990816653\n",
            "Epoch: 218 Training Loss: 0.031686332 Testing Loss: 0.045016140  Training Acc: 0.990515172 Testing Acc: 0.990733325\n",
            "Epoch: 219 Training Loss: 0.028634997 Testing Loss: 0.045209590  Training Acc: 0.991014361 Testing Acc: 0.990716696\n",
            "Epoch: 220 Training Loss: 0.037806958 Testing Loss: 0.045322858  Training Acc: 0.990814686 Testing Acc: 0.990383327\n",
            "Epoch: 221 Training Loss: 0.039783500 Testing Loss: 0.041861679  Training Acc: 0.989516735 Testing Acc: 0.990649998\n",
            "Epoch: 222 Training Loss: 0.038175147 Testing Loss: 0.043122511  Training Acc: 0.990714848 Testing Acc: 0.990700006\n",
            "Epoch: 223 Training Loss: 0.035983581 Testing Loss: 0.039465126  Training Acc: 0.990814686 Testing Acc: 0.990949988\n",
            "Epoch: 224 Training Loss: 0.031478692 Testing Loss: 0.046555739  Training Acc: 0.991713226 Testing Acc: 0.990350008\n",
            "Epoch: 225 Training Loss: 0.032554638 Testing Loss: 0.043344337  Training Acc: 0.990215659 Testing Acc: 0.990716696\n",
            "Epoch: 226 Training Loss: 0.028686142 Testing Loss: 0.043458585  Training Acc: 0.991014361 Testing Acc: 0.990483344\n",
            "Epoch: 227 Training Loss: 0.029713972 Testing Loss: 0.044581845  Training Acc: 0.991912901 Testing Acc: 0.990683317\n",
            "Epoch: 228 Training Loss: 0.028474515 Testing Loss: 0.048463501  Training Acc: 0.990215659 Testing Acc: 0.990583360\n",
            "Epoch: 229 Training Loss: 0.046447977 Testing Loss: 0.045917362  Training Acc: 0.987120569 Testing Acc: 0.990183353\n",
            "Epoch: 230 Training Loss: 0.039056782 Testing Loss: 0.044617746  Training Acc: 0.989616573 Testing Acc: 0.989516675\n",
            "Epoch: 231 Training Loss: 0.033302478 Testing Loss: 0.044418547  Training Acc: 0.990615010 Testing Acc: 0.989933372\n",
            "Epoch: 232 Training Loss: 0.027233344 Testing Loss: 0.045797795  Training Acc: 0.992212415 Testing Acc: 0.990283370\n",
            "Epoch: 233 Training Loss: 0.031541813 Testing Loss: 0.045068309  Training Acc: 0.991413713 Testing Acc: 0.990866661\n",
            "Epoch: 234 Training Loss: 0.033249881 Testing Loss: 0.045317184  Training Acc: 0.990814686 Testing Acc: 0.990683317\n",
            "Epoch: 235 Training Loss: 0.034223169 Testing Loss: 0.049372617  Training Acc: 0.991014361 Testing Acc: 0.989250004\n",
            "Epoch: 236 Training Loss: 0.035111398 Testing Loss: 0.044472784  Training Acc: 0.991313875 Testing Acc: 0.990283370\n",
            "Epoch: 237 Training Loss: 0.038087506 Testing Loss: 0.043055616  Training Acc: 0.988917708 Testing Acc: 0.990283370\n",
            "Epoch: 238 Training Loss: 0.030835947 Testing Loss: 0.041942924  Training Acc: 0.990315497 Testing Acc: 0.990216672\n",
            "Epoch: 239 Training Loss: 0.037346601 Testing Loss: 0.042548969  Training Acc: 0.990714848 Testing Acc: 0.990350008\n",
            "Epoch: 240 Training Loss: 0.027244721 Testing Loss: 0.041767839  Training Acc: 0.992811501 Testing Acc: 0.990983367\n",
            "Epoch: 241 Training Loss: 0.030727599 Testing Loss: 0.042418882  Training Acc: 0.991613388 Testing Acc: 0.990783334\n",
            "Epoch: 242 Training Loss: 0.025268305 Testing Loss: 0.046189494  Training Acc: 0.993111014 Testing Acc: 0.990716696\n",
            "Epoch: 243 Training Loss: 0.033286061 Testing Loss: 0.050215274  Training Acc: 0.989816248 Testing Acc: 0.989933372\n",
            "Epoch: 244 Training Loss: 0.031862412 Testing Loss: 0.047532897  Training Acc: 0.990515172 Testing Acc: 0.989950001\n",
            "Epoch: 245 Training Loss: 0.034205940 Testing Loss: 0.045100700  Training Acc: 0.990615010 Testing Acc: 0.990466654\n",
            "Epoch: 246 Training Loss: 0.042274110 Testing Loss: 0.038892806  Training Acc: 0.988418519 Testing Acc: 0.991383374\n",
            "Epoch: 247 Training Loss: 0.033088941 Testing Loss: 0.045219138  Training Acc: 0.990814686 Testing Acc: 0.990566671\n",
            "Epoch: 248 Training Loss: 0.032423090 Testing Loss: 0.040881988  Training Acc: 0.990015984 Testing Acc: 0.991166651\n",
            "Epoch: 249 Training Loss: 0.031098735 Testing Loss: 0.045673434  Training Acc: 0.990515172 Testing Acc: 0.990649998\n",
            "Epoch: 250 Training Loss: 0.035603065 Testing Loss: 0.047781028  Training Acc: 0.990615010 Testing Acc: 0.990000010\n",
            "Epoch: 251 Training Loss: 0.033088114 Testing Loss: 0.049315229  Training Acc: 0.991114199 Testing Acc: 0.989533365\n",
            "Epoch: 252 Training Loss: 0.033900715 Testing Loss: 0.042988684  Training Acc: 0.991813064 Testing Acc: 0.990549982\n",
            "Epoch: 253 Training Loss: 0.034729306 Testing Loss: 0.045109551  Training Acc: 0.991214037 Testing Acc: 0.990249991\n",
            "Epoch: 254 Training Loss: 0.029128190 Testing Loss: 0.046127196  Training Acc: 0.991413713 Testing Acc: 0.990166664\n",
            "Epoch: 255 Training Loss: 0.030085800 Testing Loss: 0.047022261  Training Acc: 0.991014361 Testing Acc: 0.990283370\n",
            "Epoch: 256 Training Loss: 0.032750148 Testing Loss: 0.042888939  Training Acc: 0.991114199 Testing Acc: 0.990783334\n",
            "Epoch: 257 Training Loss: 0.028498152 Testing Loss: 0.047111958  Training Acc: 0.991713226 Testing Acc: 0.990383327\n",
            "Epoch: 258 Training Loss: 0.033718880 Testing Loss: 0.050331689  Training Acc: 0.990515172 Testing Acc: 0.989883363\n",
            "Epoch: 259 Training Loss: 0.032777674 Testing Loss: 0.042902034  Training Acc: 0.990814686 Testing Acc: 0.990900040\n",
            "Epoch: 260 Training Loss: 0.037955943 Testing Loss: 0.040640023  Training Acc: 0.990415335 Testing Acc: 0.991550028\n",
            "Epoch: 261 Training Loss: 0.033740148 Testing Loss: 0.043719873  Training Acc: 0.990515172 Testing Acc: 0.990549982\n",
            "Epoch: 262 Training Loss: 0.030755451 Testing Loss: 0.045088708  Training Acc: 0.991713226 Testing Acc: 0.990816653\n",
            "Epoch: 263 Training Loss: 0.025846219 Testing Loss: 0.044500936  Training Acc: 0.992511988 Testing Acc: 0.991050005\n",
            "Epoch: 264 Training Loss: 0.026902184 Testing Loss: 0.047977500  Training Acc: 0.991713226 Testing Acc: 0.990466654\n",
            "Epoch: 265 Training Loss: 0.027849860 Testing Loss: 0.046929114  Training Acc: 0.991014361 Testing Acc: 0.990633368\n",
            "Epoch: 266 Training Loss: 0.024127087 Testing Loss: 0.047646709  Training Acc: 0.992012739 Testing Acc: 0.990666687\n",
            "Epoch: 267 Training Loss: 0.033016142 Testing Loss: 0.051634736  Training Acc: 0.991014361 Testing Acc: 0.989783347\n",
            "Epoch: 268 Training Loss: 0.030668259 Testing Loss: 0.046469960  Training Acc: 0.991513550 Testing Acc: 0.990433335\n",
            "Epoch: 269 Training Loss: 0.032986619 Testing Loss: 0.049640499  Training Acc: 0.991014361 Testing Acc: 0.990183353\n",
            "Epoch: 270 Training Loss: 0.036709026 Testing Loss: 0.044809680  Training Acc: 0.990415335 Testing Acc: 0.990666687\n",
            "Epoch: 271 Training Loss: 0.030127132 Testing Loss: 0.045356471  Training Acc: 0.992611825 Testing Acc: 0.990816653\n",
            "Epoch: 272 Training Loss: 0.027887329 Testing Loss: 0.045474499  Training Acc: 0.992811501 Testing Acc: 0.990433335\n",
            "Epoch: 273 Training Loss: 0.031231435 Testing Loss: 0.041705370  Training Acc: 0.992012739 Testing Acc: 0.991299987\n",
            "Epoch: 274 Training Loss: 0.033190452 Testing Loss: 0.050527979  Training Acc: 0.991413713 Testing Acc: 0.990266681\n",
            "Epoch: 275 Training Loss: 0.030815745 Testing Loss: 0.046615288  Training Acc: 0.990415335 Testing Acc: 0.990416706\n",
            "Epoch: 276 Training Loss: 0.038211498 Testing Loss: 0.039946552  Training Acc: 0.989117384 Testing Acc: 0.991333365\n",
            "Epoch: 277 Training Loss: 0.035857104 Testing Loss: 0.043162160  Training Acc: 0.990415335 Testing Acc: 0.990850031\n",
            "Epoch: 278 Training Loss: 0.028997095 Testing Loss: 0.044737600  Training Acc: 0.991513550 Testing Acc: 0.990700006\n",
            "Epoch: 279 Training Loss: 0.036326114 Testing Loss: 0.041590948  Training Acc: 0.991813064 Testing Acc: 0.991100013\n",
            "Epoch: 280 Training Loss: 0.034440685 Testing Loss: 0.045885962  Training Acc: 0.991214037 Testing Acc: 0.990300000\n",
            "Epoch: 281 Training Loss: 0.036304384 Testing Loss: 0.046003189  Training Acc: 0.990215659 Testing Acc: 0.990216672\n",
            "Epoch: 282 Training Loss: 0.029070059 Testing Loss: 0.046844564  Training Acc: 0.990714848 Testing Acc: 0.990166664\n",
            "Epoch: 283 Training Loss: 0.027032861 Testing Loss: 0.049385849  Training Acc: 0.992711663 Testing Acc: 0.990199983\n",
            "Epoch: 284 Training Loss: 0.032792136 Testing Loss: 0.045700900  Training Acc: 0.990714848 Testing Acc: 0.991116703\n",
            "Epoch: 285 Training Loss: 0.028720133 Testing Loss: 0.050437409  Training Acc: 0.991114199 Testing Acc: 0.990066707\n",
            "Epoch: 286 Training Loss: 0.028558508 Testing Loss: 0.049317934  Training Acc: 0.990415335 Testing Acc: 0.990166664\n",
            "Epoch: 287 Training Loss: 0.025725450 Testing Loss: 0.053070150  Training Acc: 0.992711663 Testing Acc: 0.990366697\n",
            "Epoch: 288 Training Loss: 0.030585008 Testing Loss: 0.047027677  Training Acc: 0.991613388 Testing Acc: 0.990750015\n",
            "Epoch: 289 Training Loss: 0.034483109 Testing Loss: 0.048173241  Training Acc: 0.990914524 Testing Acc: 0.990533352\n",
            "Epoch: 290 Training Loss: 0.029447298 Testing Loss: 0.046326619  Training Acc: 0.990714848 Testing Acc: 0.990766704\n",
            "Epoch: 291 Training Loss: 0.029827166 Testing Loss: 0.046456400  Training Acc: 0.991413713 Testing Acc: 0.990949988\n",
            "Epoch: 292 Training Loss: 0.029961329 Testing Loss: 0.047394406  Training Acc: 0.991114199 Testing Acc: 0.990783334\n",
            "Epoch: 293 Training Loss: 0.034168798 Testing Loss: 0.045207363  Training Acc: 0.991014361 Testing Acc: 0.991166651\n",
            "Epoch: 294 Training Loss: 0.026388725 Testing Loss: 0.047218625  Training Acc: 0.992212415 Testing Acc: 0.991066694\n",
            "Epoch: 295 Training Loss: 0.030424839 Testing Loss: 0.045513533  Training Acc: 0.990814686 Testing Acc: 0.990683317\n",
            "Epoch: 296 Training Loss: 0.031735152 Testing Loss: 0.047331274  Training Acc: 0.991413713 Testing Acc: 0.990466654\n",
            "Epoch: 297 Training Loss: 0.028069913 Testing Loss: 0.044152211  Training Acc: 0.992511988 Testing Acc: 0.991216660\n",
            "Epoch: 298 Training Loss: 0.033438381 Testing Loss: 0.044839974  Training Acc: 0.990814686 Testing Acc: 0.990816653\n",
            "Epoch: 299 Training Loss: 0.030693054 Testing Loss: 0.052702919  Training Acc: 0.992212415 Testing Acc: 0.989666700\n",
            "Epoch: 300 Training Loss: 0.030183578 Testing Loss: 0.043792542  Training Acc: 0.990115821 Testing Acc: 0.991450012\n",
            "Epoch: 301 Training Loss: 0.029018354 Testing Loss: 0.046926796  Training Acc: 0.992511988 Testing Acc: 0.990966678\n",
            "Epoch: 302 Training Loss: 0.031379115 Testing Loss: 0.044130404  Training Acc: 0.991912901 Testing Acc: 0.991050005\n",
            "Epoch: 303 Training Loss: 0.020217648 Testing Loss: 0.047273181  Training Acc: 0.993210852 Testing Acc: 0.991100013\n",
            "Epoch: 304 Training Loss: 0.028083984 Testing Loss: 0.046151951  Training Acc: 0.991813064 Testing Acc: 0.990966678\n",
            "Epoch: 305 Training Loss: 0.029787803 Testing Loss: 0.047610831  Training Acc: 0.992112577 Testing Acc: 0.990866661\n",
            "Epoch: 306 Training Loss: 0.026669009 Testing Loss: 0.048881717  Training Acc: 0.992412150 Testing Acc: 0.990983367\n",
            "Epoch: 307 Training Loss: 0.026436448 Testing Loss: 0.049884688  Training Acc: 0.992911339 Testing Acc: 0.990616679\n",
            "Epoch: 308 Training Loss: 0.030100727 Testing Loss: 0.047550343  Training Acc: 0.991713226 Testing Acc: 0.991150022\n",
            "Epoch: 309 Training Loss: 0.027812138 Testing Loss: 0.048434459  Training Acc: 0.991813064 Testing Acc: 0.990483344\n",
            "Epoch: 310 Training Loss: 0.037596308 Testing Loss: 0.047618680  Training Acc: 0.989017546 Testing Acc: 0.990383327\n",
            "Epoch: 311 Training Loss: 0.025922887 Testing Loss: 0.045738481  Training Acc: 0.992511988 Testing Acc: 0.991183341\n",
            "Epoch: 312 Training Loss: 0.029769424 Testing Loss: 0.050234120  Training Acc: 0.990714848 Testing Acc: 0.990616679\n",
            "Epoch: 313 Training Loss: 0.031816889 Testing Loss: 0.047803402  Training Acc: 0.990814686 Testing Acc: 0.990316689\n",
            "Epoch: 314 Training Loss: 0.034993522 Testing Loss: 0.043163143  Training Acc: 0.990914524 Testing Acc: 0.990966678\n",
            "Epoch: 315 Training Loss: 0.035140611 Testing Loss: 0.043542020  Training Acc: 0.989117384 Testing Acc: 0.991316676\n",
            "Epoch: 316 Training Loss: 0.038625531 Testing Loss: 0.043954786  Training Acc: 0.990115821 Testing Acc: 0.990933359\n",
            "Epoch: 317 Training Loss: 0.024178989 Testing Loss: 0.045416035  Training Acc: 0.993210852 Testing Acc: 0.990966678\n",
            "Epoch: 318 Training Loss: 0.025189171 Testing Loss: 0.045641895  Training Acc: 0.993310690 Testing Acc: 0.990850031\n",
            "Epoch: 319 Training Loss: 0.025588866 Testing Loss: 0.046739295  Training Acc: 0.993410528 Testing Acc: 0.990816653\n",
            "Epoch: 320 Training Loss: 0.027100602 Testing Loss: 0.048403040  Training Acc: 0.993111014 Testing Acc: 0.990683317\n",
            "Epoch: 321 Training Loss: 0.028243439 Testing Loss: 0.047028448  Training Acc: 0.992112577 Testing Acc: 0.990383327\n",
            "Epoch: 322 Training Loss: 0.030316271 Testing Loss: 0.047464784  Training Acc: 0.991912901 Testing Acc: 0.991166651\n",
            "Epoch: 323 Training Loss: 0.027227757 Testing Loss: 0.044940725  Training Acc: 0.991813064 Testing Acc: 0.991266668\n",
            "Epoch: 324 Training Loss: 0.028720196 Testing Loss: 0.047181483  Training Acc: 0.992312312 Testing Acc: 0.991233349\n",
            "Epoch: 325 Training Loss: 0.022455718 Testing Loss: 0.047177847  Training Acc: 0.993111014 Testing Acc: 0.991016686\n",
            "Epoch: 326 Training Loss: 0.028878113 Testing Loss: 0.047316212  Training Acc: 0.991114199 Testing Acc: 0.990199983\n",
            "Epoch: 327 Training Loss: 0.024960415 Testing Loss: 0.048998307  Training Acc: 0.992611825 Testing Acc: 0.990833342\n",
            "Epoch: 328 Training Loss: 0.028951589 Testing Loss: 0.046165928  Training Acc: 0.991912901 Testing Acc: 0.991250038\n",
            "Epoch: 329 Training Loss: 0.034044653 Testing Loss: 0.048584376  Training Acc: 0.990215659 Testing Acc: 0.990350008\n",
            "Epoch: 330 Training Loss: 0.027115334 Testing Loss: 0.046780799  Training Acc: 0.992112577 Testing Acc: 0.990716696\n",
            "Epoch: 331 Training Loss: 0.026985662 Testing Loss: 0.045563933  Training Acc: 0.992212415 Testing Acc: 0.990533352\n",
            "Epoch: 332 Training Loss: 0.022490330 Testing Loss: 0.050371781  Training Acc: 0.993510365 Testing Acc: 0.990566671\n",
            "Epoch: 333 Training Loss: 0.032107927 Testing Loss: 0.046133675  Training Acc: 0.991613388 Testing Acc: 0.991433322\n",
            "Epoch: 334 Training Loss: 0.029601349 Testing Loss: 0.047615100  Training Acc: 0.991613388 Testing Acc: 0.990783334\n",
            "Epoch: 335 Training Loss: 0.021296950 Testing Loss: 0.046621382  Training Acc: 0.993111014 Testing Acc: 0.990900040\n",
            "Epoch: 336 Training Loss: 0.029441576 Testing Loss: 0.049462277  Training Acc: 0.991413713 Testing Acc: 0.990783334\n",
            "Epoch: 337 Training Loss: 0.033210281 Testing Loss: 0.054892078  Training Acc: 0.990714848 Testing Acc: 0.990216672\n",
            "Epoch: 338 Training Loss: 0.030294659 Testing Loss: 0.044023879  Training Acc: 0.991114199 Testing Acc: 0.991183341\n",
            "Epoch: 339 Training Loss: 0.026258398 Testing Loss: 0.048676614  Training Acc: 0.992711663 Testing Acc: 0.990400016\n",
            "Epoch: 340 Training Loss: 0.036129251 Testing Loss: 0.045618508  Training Acc: 0.990515172 Testing Acc: 0.990883350\n",
            "Epoch: 341 Training Loss: 0.032193068 Testing Loss: 0.042491078  Training Acc: 0.989716411 Testing Acc: 0.990983367\n",
            "Epoch: 342 Training Loss: 0.031187702 Testing Loss: 0.043966774  Training Acc: 0.991313875 Testing Acc: 0.990983367\n",
            "Epoch: 343 Training Loss: 0.026849072 Testing Loss: 0.047121912  Training Acc: 0.991813064 Testing Acc: 0.990633368\n",
            "Epoch: 344 Training Loss: 0.024070986 Testing Loss: 0.053344939  Training Acc: 0.993210852 Testing Acc: 0.989916682\n",
            "Epoch: 345 Training Loss: 0.025800217 Testing Loss: 0.045877609  Training Acc: 0.992312312 Testing Acc: 0.991133332\n",
            "Epoch: 346 Training Loss: 0.019445123 Testing Loss: 0.048141964  Training Acc: 0.993809879 Testing Acc: 0.991366684\n",
            "Epoch: 347 Training Loss: 0.028548986 Testing Loss: 0.045901097  Training Acc: 0.992811501 Testing Acc: 0.991116703\n",
            "Epoch: 348 Training Loss: 0.025354303 Testing Loss: 0.046033584  Training Acc: 0.992711663 Testing Acc: 0.991400003\n",
            "Epoch: 349 Training Loss: 0.022465112 Testing Loss: 0.051908966  Training Acc: 0.993210852 Testing Acc: 0.990949988\n",
            "Epoch: 350 Training Loss: 0.024871208 Testing Loss: 0.048315525  Training Acc: 0.993410528 Testing Acc: 0.990166664\n",
            "Epoch: 351 Training Loss: 0.023463223 Testing Loss: 0.052999377  Training Acc: 0.993310690 Testing Acc: 0.989783347\n",
            "Epoch: 352 Training Loss: 0.028334577 Testing Loss: 0.051568422  Training Acc: 0.992911339 Testing Acc: 0.989816666\n",
            "Epoch: 353 Training Loss: 0.029796347 Testing Loss: 0.050211191  Training Acc: 0.992511988 Testing Acc: 0.990683317\n",
            "Epoch: 354 Training Loss: 0.031615950 Testing Loss: 0.044593781  Training Acc: 0.990415335 Testing Acc: 0.991233349\n",
            "Epoch: 355 Training Loss: 0.028789477 Testing Loss: 0.043406945  Training Acc: 0.991813064 Testing Acc: 0.991299987\n",
            "Epoch: 356 Training Loss: 0.025886796 Testing Loss: 0.043647755  Training Acc: 0.992412150 Testing Acc: 0.991383374\n",
            "Epoch: 357 Training Loss: 0.021813821 Testing Loss: 0.044640150  Training Acc: 0.993210852 Testing Acc: 0.991566658\n",
            "Epoch: 358 Training Loss: 0.029399950 Testing Loss: 0.045331903  Training Acc: 0.991114199 Testing Acc: 0.991266668\n",
            "Epoch: 359 Training Loss: 0.022830069 Testing Loss: 0.048416942  Training Acc: 0.992911339 Testing Acc: 0.991383374\n",
            "Epoch: 360 Training Loss: 0.028133335 Testing Loss: 0.055792168  Training Acc: 0.991713226 Testing Acc: 0.990533352\n",
            "Epoch: 361 Training Loss: 0.031721372 Testing Loss: 0.047570575  Training Acc: 0.991912901 Testing Acc: 0.991349995\n",
            "Epoch: 362 Training Loss: 0.030149460 Testing Loss: 0.051882759  Training Acc: 0.991613388 Testing Acc: 0.990333319\n",
            "Epoch: 363 Training Loss: 0.024462644 Testing Loss: 0.051491547  Training Acc: 0.992212415 Testing Acc: 0.990199983\n",
            "Epoch: 364 Training Loss: 0.033016354 Testing Loss: 0.051070329  Training Acc: 0.991613388 Testing Acc: 0.990633368\n",
            "Epoch: 365 Training Loss: 0.023550451 Testing Loss: 0.048061848  Training Acc: 0.992911339 Testing Acc: 0.990949988\n",
            "Epoch: 366 Training Loss: 0.030444419 Testing Loss: 0.047556937  Training Acc: 0.991513550 Testing Acc: 0.991166651\n",
            "Epoch: 367 Training Loss: 0.023246752 Testing Loss: 0.051142763  Training Acc: 0.993111014 Testing Acc: 0.990783334\n",
            "Epoch: 368 Training Loss: 0.024914877 Testing Loss: 0.053390585  Training Acc: 0.992711663 Testing Acc: 0.990766704\n",
            "Epoch: 369 Training Loss: 0.019032290 Testing Loss: 0.053429682  Training Acc: 0.994808316 Testing Acc: 0.990433335\n",
            "Epoch: 370 Training Loss: 0.029488536 Testing Loss: 0.045589507  Training Acc: 0.991014361 Testing Acc: 0.991216660\n",
            "Epoch: 371 Training Loss: 0.032342620 Testing Loss: 0.044060491  Training Acc: 0.990814686 Testing Acc: 0.991500020\n",
            "Epoch: 372 Training Loss: 0.025156530 Testing Loss: 0.051216025  Training Acc: 0.992611825 Testing Acc: 0.990666687\n",
            "Epoch: 373 Training Loss: 0.026854668 Testing Loss: 0.052845769  Training Acc: 0.991713226 Testing Acc: 0.990566671\n",
            "Epoch: 374 Training Loss: 0.022873143 Testing Loss: 0.050685287  Training Acc: 0.993210852 Testing Acc: 0.990833342\n",
            "Epoch: 375 Training Loss: 0.024473270 Testing Loss: 0.052745484  Training Acc: 0.992412150 Testing Acc: 0.989716649\n",
            "Epoch: 376 Training Loss: 0.029406074 Testing Loss: 0.050994482  Training Acc: 0.992511988 Testing Acc: 0.990683317\n",
            "Epoch: 377 Training Loss: 0.029632254 Testing Loss: 0.045061976  Training Acc: 0.991613388 Testing Acc: 0.991450012\n",
            "Epoch: 378 Training Loss: 0.027889462 Testing Loss: 0.047002807  Training Acc: 0.992511988 Testing Acc: 0.990633368\n",
            "Epoch: 379 Training Loss: 0.031161893 Testing Loss: 0.047754001  Training Acc: 0.992711663 Testing Acc: 0.990400016\n",
            "Epoch: 380 Training Loss: 0.030482547 Testing Loss: 0.045607988  Training Acc: 0.991912901 Testing Acc: 0.991283357\n",
            "Epoch: 381 Training Loss: 0.031220445 Testing Loss: 0.041259497  Training Acc: 0.990814686 Testing Acc: 0.991533339\n",
            "Epoch: 382 Training Loss: 0.025899418 Testing Loss: 0.049808778  Training Acc: 0.993410528 Testing Acc: 0.990216672\n",
            "Epoch: 383 Training Loss: 0.024347151 Testing Loss: 0.048884571  Training Acc: 0.993410528 Testing Acc: 0.990883350\n",
            "Epoch: 384 Training Loss: 0.028852474 Testing Loss: 0.047441460  Training Acc: 0.990814686 Testing Acc: 0.991050005\n",
            "Epoch: 385 Training Loss: 0.019600581 Testing Loss: 0.051181715  Training Acc: 0.994109392 Testing Acc: 0.990616679\n",
            "Epoch: 386 Training Loss: 0.028579636 Testing Loss: 0.047437582  Training Acc: 0.992611825 Testing Acc: 0.990866661\n",
            "Epoch: 387 Training Loss: 0.019584792 Testing Loss: 0.045680251  Training Acc: 0.994508743 Testing Acc: 0.991216660\n",
            "Epoch: 388 Training Loss: 0.021230090 Testing Loss: 0.047518451  Training Acc: 0.994309068 Testing Acc: 0.991583347\n",
            "Epoch: 389 Training Loss: 0.027631041 Testing Loss: 0.045041490  Training Acc: 0.992212415 Testing Acc: 0.991366684\n",
            "Epoch: 390 Training Loss: 0.027457243 Testing Loss: 0.045476887  Training Acc: 0.992112577 Testing Acc: 0.991483331\n",
            "Epoch: 391 Training Loss: 0.025121566 Testing Loss: 0.049889605  Training Acc: 0.993210852 Testing Acc: 0.990916669\n",
            "Epoch: 392 Training Loss: 0.029230958 Testing Loss: 0.046836607  Training Acc: 0.993011177 Testing Acc: 0.991183341\n",
            "Epoch: 393 Training Loss: 0.023928963 Testing Loss: 0.045903735  Training Acc: 0.993510365 Testing Acc: 0.991150022\n",
            "Epoch: 394 Training Loss: 0.022443285 Testing Loss: 0.053008575  Training Acc: 0.993210852 Testing Acc: 0.990766704\n",
            "Epoch: 395 Training Loss: 0.033777762 Testing Loss: 0.046188153  Training Acc: 0.990415335 Testing Acc: 0.991433322\n",
            "Epoch: 396 Training Loss: 0.024444973 Testing Loss: 0.048102986  Training Acc: 0.993410528 Testing Acc: 0.991233349\n",
            "Epoch: 397 Training Loss: 0.024328895 Testing Loss: 0.048202623  Training Acc: 0.993510365 Testing Acc: 0.991183341\n",
            "Epoch: 398 Training Loss: 0.027077125 Testing Loss: 0.053120118  Training Acc: 0.993310690 Testing Acc: 0.990083337\n",
            "Epoch: 399 Training Loss: 0.029393893 Testing Loss: 0.051245902  Training Acc: 0.992711663 Testing Acc: 0.990333319\n",
            "Epoch: 400 Training Loss: 0.019821689 Testing Loss: 0.052022241  Training Acc: 0.993111014 Testing Acc: 0.990633368\n",
            "Epoch: 401 Training Loss: 0.024157284 Testing Loss: 0.049043987  Training Acc: 0.993610203 Testing Acc: 0.990766704\n",
            "Epoch: 402 Training Loss: 0.028002631 Testing Loss: 0.050292581  Training Acc: 0.991313875 Testing Acc: 0.990466654\n",
            "Epoch: 403 Training Loss: 0.031099087 Testing Loss: 0.047217622  Training Acc: 0.992711663 Testing Acc: 0.991316676\n",
            "Epoch: 404 Training Loss: 0.021530924 Testing Loss: 0.048179712  Training Acc: 0.992911339 Testing Acc: 0.990700006\n",
            "Epoch: 405 Training Loss: 0.022950325 Testing Loss: 0.049058858  Training Acc: 0.992511988 Testing Acc: 0.990649998\n",
            "Epoch: 406 Training Loss: 0.029955406 Testing Loss: 0.050786614  Training Acc: 0.991613388 Testing Acc: 0.991066694\n",
            "Epoch: 407 Training Loss: 0.028881192 Testing Loss: 0.051201288  Training Acc: 0.992811501 Testing Acc: 0.991033316\n",
            "Epoch: 408 Training Loss: 0.028435048 Testing Loss: 0.051745370  Training Acc: 0.991713226 Testing Acc: 0.990766704\n",
            "Epoch: 409 Training Loss: 0.029937996 Testing Loss: 0.048598479  Training Acc: 0.992012739 Testing Acc: 0.990866661\n",
            "Epoch: 410 Training Loss: 0.032003660 Testing Loss: 0.047872409  Training Acc: 0.990914524 Testing Acc: 0.990249991\n",
            "Epoch: 411 Training Loss: 0.025229203 Testing Loss: 0.045895871  Training Acc: 0.993210852 Testing Acc: 0.991016686\n",
            "Epoch: 412 Training Loss: 0.026055807 Testing Loss: 0.047383524  Training Acc: 0.993210852 Testing Acc: 0.991050005\n",
            "Epoch: 413 Training Loss: 0.026832307 Testing Loss: 0.045914140  Training Acc: 0.993111014 Testing Acc: 0.990916669\n",
            "Epoch: 414 Training Loss: 0.020021057 Testing Loss: 0.050722186  Training Acc: 0.994209230 Testing Acc: 0.990533352\n",
            "Epoch: 415 Training Loss: 0.019072242 Testing Loss: 0.050290238  Training Acc: 0.993510365 Testing Acc: 0.990400016\n",
            "Epoch: 416 Training Loss: 0.024284473 Testing Loss: 0.045549352  Training Acc: 0.993610203 Testing Acc: 0.991050005\n",
            "Epoch: 417 Training Loss: 0.022305716 Testing Loss: 0.046089768  Training Acc: 0.994309068 Testing Acc: 0.991116703\n",
            "Epoch: 418 Training Loss: 0.026292399 Testing Loss: 0.050431557  Training Acc: 0.992711663 Testing Acc: 0.990616679\n",
            "Epoch: 419 Training Loss: 0.030342756 Testing Loss: 0.051902607  Training Acc: 0.991413713 Testing Acc: 0.990583360\n",
            "Epoch: 420 Training Loss: 0.025847604 Testing Loss: 0.045913391  Training Acc: 0.993510365 Testing Acc: 0.991649985\n",
            "Epoch: 421 Training Loss: 0.031262003 Testing Loss: 0.048190709  Training Acc: 0.991813064 Testing Acc: 0.990900040\n",
            "Epoch: 422 Training Loss: 0.027898781 Testing Loss: 0.049150921  Training Acc: 0.992811501 Testing Acc: 0.990766704\n",
            "Epoch: 423 Training Loss: 0.028506663 Testing Loss: 0.045314256  Training Acc: 0.992511988 Testing Acc: 0.991333365\n",
            "Epoch: 424 Training Loss: 0.028291369 Testing Loss: 0.051160108  Training Acc: 0.993410528 Testing Acc: 0.990300000\n",
            "Epoch: 425 Training Loss: 0.024532203 Testing Loss: 0.052391626  Training Acc: 0.993310690 Testing Acc: 0.990716696\n",
            "Epoch: 426 Training Loss: 0.027761169 Testing Loss: 0.047600437  Training Acc: 0.992112577 Testing Acc: 0.991349995\n",
            "Epoch: 427 Training Loss: 0.025158605 Testing Loss: 0.044144291  Training Acc: 0.993310690 Testing Acc: 0.991316676\n",
            "Epoch: 428 Training Loss: 0.020842431 Testing Loss: 0.046681464  Training Acc: 0.993809879 Testing Acc: 0.991400003\n",
            "Epoch: 429 Training Loss: 0.028432574 Testing Loss: 0.050702263  Training Acc: 0.992911339 Testing Acc: 0.990566671\n",
            "Epoch: 430 Training Loss: 0.023063943 Testing Loss: 0.051544081  Training Acc: 0.994209230 Testing Acc: 0.991299987\n",
            "Epoch: 431 Training Loss: 0.026477518 Testing Loss: 0.047415376  Training Acc: 0.992511988 Testing Acc: 0.991699994\n",
            "Epoch: 432 Training Loss: 0.027753187 Testing Loss: 0.044731580  Training Acc: 0.991713226 Testing Acc: 0.991366684\n",
            "Epoch: 433 Training Loss: 0.027573034 Testing Loss: 0.052844267  Training Acc: 0.992412150 Testing Acc: 0.990666687\n",
            "Epoch: 434 Training Loss: 0.024678640 Testing Loss: 0.047236368  Training Acc: 0.994309068 Testing Acc: 0.991283357\n",
            "Epoch: 435 Training Loss: 0.021928364 Testing Loss: 0.047238149  Training Acc: 0.993909717 Testing Acc: 0.991733372\n",
            "Epoch: 436 Training Loss: 0.023157341 Testing Loss: 0.050673004  Training Acc: 0.992811501 Testing Acc: 0.990999997\n",
            "Epoch: 437 Training Loss: 0.026577089 Testing Loss: 0.048838910  Training Acc: 0.993210852 Testing Acc: 0.991133332\n",
            "Epoch: 438 Training Loss: 0.029256979 Testing Loss: 0.049715675  Training Acc: 0.992212415 Testing Acc: 0.990783334\n",
            "Epoch: 439 Training Loss: 0.016957099 Testing Loss: 0.049603447  Training Acc: 0.995007992 Testing Acc: 0.990883350\n",
            "Epoch: 440 Training Loss: 0.021847123 Testing Loss: 0.052761152  Training Acc: 0.994109392 Testing Acc: 0.990633368\n",
            "Epoch: 441 Training Loss: 0.030922273 Testing Loss: 0.049560893  Training Acc: 0.993210852 Testing Acc: 0.991483331\n",
            "Epoch: 442 Training Loss: 0.020886073 Testing Loss: 0.048372354  Training Acc: 0.994309068 Testing Acc: 0.991150022\n",
            "Epoch: 443 Training Loss: 0.026960272 Testing Loss: 0.047451045  Training Acc: 0.993011177 Testing Acc: 0.990999997\n",
            "Epoch: 444 Training Loss: 0.027806876 Testing Loss: 0.045424789  Training Acc: 0.991912901 Testing Acc: 0.991133332\n",
            "Epoch: 445 Training Loss: 0.026570421 Testing Loss: 0.050400645  Training Acc: 0.992112577 Testing Acc: 0.991433322\n",
            "Epoch: 446 Training Loss: 0.025458675 Testing Loss: 0.048229612  Training Acc: 0.993310690 Testing Acc: 0.991166651\n",
            "Epoch: 447 Training Loss: 0.024723919 Testing Loss: 0.052252132  Training Acc: 0.993310690 Testing Acc: 0.990249991\n",
            "Epoch: 448 Training Loss: 0.022689613 Testing Loss: 0.048735831  Training Acc: 0.994808316 Testing Acc: 0.991483331\n",
            "Epoch: 449 Training Loss: 0.027391516 Testing Loss: 0.058571961  Training Acc: 0.992312312 Testing Acc: 0.989700019\n",
            "Epoch: 450 Training Loss: 0.027403602 Testing Loss: 0.049675990  Training Acc: 0.992112577 Testing Acc: 0.991383374\n",
            "Epoch: 451 Training Loss: 0.019085068 Testing Loss: 0.051773008  Training Acc: 0.994408906 Testing Acc: 0.990983367\n",
            "Epoch: 452 Training Loss: 0.026032651 Testing Loss: 0.049753308  Training Acc: 0.991713226 Testing Acc: 0.991166651\n",
            "Epoch: 453 Training Loss: 0.029184194 Testing Loss: 0.045947652  Training Acc: 0.992112577 Testing Acc: 0.991100013\n",
            "Epoch: 454 Training Loss: 0.028214240 Testing Loss: 0.052021697  Training Acc: 0.992611825 Testing Acc: 0.990883350\n",
            "Epoch: 455 Training Loss: 0.027133238 Testing Loss: 0.049785029  Training Acc: 0.992511988 Testing Acc: 0.990816653\n",
            "Epoch: 456 Training Loss: 0.025917364 Testing Loss: 0.047198899  Training Acc: 0.992911339 Testing Acc: 0.991183341\n",
            "Epoch: 457 Training Loss: 0.018929306 Testing Loss: 0.053729184  Training Acc: 0.994109392 Testing Acc: 0.990599990\n",
            "Epoch: 458 Training Loss: 0.019730866 Testing Loss: 0.048498642  Training Acc: 0.994808316 Testing Acc: 0.991133332\n",
            "Epoch: 459 Training Loss: 0.022235777 Testing Loss: 0.052432004  Training Acc: 0.993410528 Testing Acc: 0.990800023\n",
            "Epoch: 460 Training Loss: 0.020071542 Testing Loss: 0.054982413  Training Acc: 0.993510365 Testing Acc: 0.991316676\n",
            "Epoch: 461 Training Loss: 0.023487400 Testing Loss: 0.047638014  Training Acc: 0.993909717 Testing Acc: 0.991033316\n",
            "Epoch: 462 Training Loss: 0.026003288 Testing Loss: 0.051566578  Training Acc: 0.993011177 Testing Acc: 0.990666687\n",
            "Epoch: 463 Training Loss: 0.028735310 Testing Loss: 0.052378751  Training Acc: 0.992112577 Testing Acc: 0.990633368\n",
            "Epoch: 464 Training Loss: 0.030130785 Testing Loss: 0.047553595  Training Acc: 0.992611825 Testing Acc: 0.990850031\n",
            "Epoch: 465 Training Loss: 0.022452448 Testing Loss: 0.049306251  Training Acc: 0.994209230 Testing Acc: 0.990583360\n",
            "Epoch: 466 Training Loss: 0.026212741 Testing Loss: 0.049364489  Training Acc: 0.993510365 Testing Acc: 0.990816653\n",
            "Epoch: 467 Training Loss: 0.022967780 Testing Loss: 0.053262606  Training Acc: 0.993310690 Testing Acc: 0.990850031\n",
            "Epoch: 468 Training Loss: 0.027725723 Testing Loss: 0.046519466  Training Acc: 0.992012739 Testing Acc: 0.991483331\n",
            "Epoch: 469 Training Loss: 0.030757684 Testing Loss: 0.046580758  Training Acc: 0.992012739 Testing Acc: 0.991500020\n",
            "Epoch: 470 Training Loss: 0.027826928 Testing Loss: 0.048708379  Training Acc: 0.992212415 Testing Acc: 0.990700006\n",
            "Epoch: 471 Training Loss: 0.025080876 Testing Loss: 0.048134241  Training Acc: 0.993410528 Testing Acc: 0.991166651\n",
            "Epoch: 472 Training Loss: 0.019442033 Testing Loss: 0.048740327  Training Acc: 0.994408906 Testing Acc: 0.991116703\n",
            "Epoch: 473 Training Loss: 0.027318740 Testing Loss: 0.043841336  Training Acc: 0.992811501 Testing Acc: 0.991600037\n",
            "Epoch: 474 Training Loss: 0.027963007 Testing Loss: 0.046625238  Training Acc: 0.993111014 Testing Acc: 0.991283357\n",
            "Epoch: 475 Training Loss: 0.027317952 Testing Loss: 0.044584163  Training Acc: 0.992811501 Testing Acc: 0.991716683\n",
            "Epoch: 476 Training Loss: 0.029599162 Testing Loss: 0.046105798  Training Acc: 0.993011177 Testing Acc: 0.991583347\n",
            "Epoch: 477 Training Loss: 0.029063005 Testing Loss: 0.047367860  Training Acc: 0.992112577 Testing Acc: 0.991400003\n",
            "Epoch: 478 Training Loss: 0.019288315 Testing Loss: 0.049943510  Training Acc: 0.994309068 Testing Acc: 0.991699994\n",
            "Epoch: 479 Training Loss: 0.024719561 Testing Loss: 0.046607770  Training Acc: 0.993909717 Testing Acc: 0.991416693\n",
            "Epoch: 480 Training Loss: 0.026626986 Testing Loss: 0.048408858  Training Acc: 0.992911339 Testing Acc: 0.991083324\n",
            "Epoch: 481 Training Loss: 0.020350723 Testing Loss: 0.045199610  Training Acc: 0.993610203 Testing Acc: 0.991750002\n",
            "Epoch: 482 Training Loss: 0.024270218 Testing Loss: 0.048897091  Training Acc: 0.994109392 Testing Acc: 0.991200030\n",
            "Epoch: 483 Training Loss: 0.026559347 Testing Loss: 0.046047390  Training Acc: 0.993210852 Testing Acc: 0.991316676\n",
            "Epoch: 484 Training Loss: 0.023365581 Testing Loss: 0.045115098  Training Acc: 0.993510365 Testing Acc: 0.991066694\n",
            "Epoch: 485 Training Loss: 0.016130228 Testing Loss: 0.051575348  Training Acc: 0.995607018 Testing Acc: 0.991066694\n",
            "Epoch: 486 Training Loss: 0.023786781 Testing Loss: 0.049559738  Training Acc: 0.992711663 Testing Acc: 0.991216660\n",
            "Epoch: 487 Training Loss: 0.021642828 Testing Loss: 0.053364918  Training Acc: 0.993210852 Testing Acc: 0.991166651\n",
            "Epoch: 488 Training Loss: 0.024127210 Testing Loss: 0.052451745  Training Acc: 0.993210852 Testing Acc: 0.990783334\n",
            "Epoch: 489 Training Loss: 0.024310928 Testing Loss: 0.050575804  Training Acc: 0.993610203 Testing Acc: 0.990983367\n",
            "Epoch: 490 Training Loss: 0.024686005 Testing Loss: 0.052695073  Training Acc: 0.993710041 Testing Acc: 0.990900040\n",
            "Epoch: 491 Training Loss: 0.023756336 Testing Loss: 0.052769739  Training Acc: 0.993610203 Testing Acc: 0.991033316\n",
            "Epoch: 492 Training Loss: 0.023527673 Testing Loss: 0.049281858  Training Acc: 0.992511988 Testing Acc: 0.991233349\n",
            "Epoch: 493 Training Loss: 0.025791490 Testing Loss: 0.053433891  Training Acc: 0.993710041 Testing Acc: 0.991216660\n",
            "Epoch: 494 Training Loss: 0.030190982 Testing Loss: 0.051816124  Training Acc: 0.992611825 Testing Acc: 0.990816653\n",
            "Epoch: 495 Training Loss: 0.022707947 Testing Loss: 0.043228477  Training Acc: 0.994608581 Testing Acc: 0.991766691\n",
            "Epoch: 496 Training Loss: 0.023213953 Testing Loss: 0.055047877  Training Acc: 0.994009554 Testing Acc: 0.991016686\n",
            "Epoch: 497 Training Loss: 0.029216183 Testing Loss: 0.047448955  Training Acc: 0.992611825 Testing Acc: 0.991349995\n",
            "Epoch: 498 Training Loss: 0.026941611 Testing Loss: 0.050038315  Training Acc: 0.992711663 Testing Acc: 0.991016686\n",
            "Epoch: 499 Training Loss: 0.022614112 Testing Loss: 0.045890078  Training Acc: 0.992711663 Testing Acc: 0.991633356\n",
            "Epoch: 500 Training Loss: 0.019728536 Testing Loss: 0.048579305  Training Acc: 0.995307505 Testing Acc: 0.991316676\n",
            "Epoch: 501 Training Loss: 0.023089394 Testing Loss: 0.048740838  Training Acc: 0.992711663 Testing Acc: 0.990916669\n",
            "Epoch: 502 Training Loss: 0.023056814 Testing Loss: 0.048515994  Training Acc: 0.992811501 Testing Acc: 0.990999997\n",
            "Epoch: 503 Training Loss: 0.028835148 Testing Loss: 0.052312788  Training Acc: 0.991912901 Testing Acc: 0.990433335\n",
            "Epoch: 504 Training Loss: 0.021679226 Testing Loss: 0.051176574  Training Acc: 0.994209230 Testing Acc: 0.991266668\n",
            "Epoch: 505 Training Loss: 0.023032656 Testing Loss: 0.052861381  Training Acc: 0.993310690 Testing Acc: 0.991416693\n",
            "Epoch: 506 Training Loss: 0.020385316 Testing Loss: 0.047057968  Training Acc: 0.994009554 Testing Acc: 0.991816700\n",
            "Epoch: 507 Training Loss: 0.024690606 Testing Loss: 0.046607010  Training Acc: 0.993310690 Testing Acc: 0.991500020\n",
            "Epoch: 508 Training Loss: 0.026669011 Testing Loss: 0.049215402  Training Acc: 0.992911339 Testing Acc: 0.990900040\n",
            "Epoch: 509 Training Loss: 0.024807138 Testing Loss: 0.050525937  Training Acc: 0.992112577 Testing Acc: 0.990466654\n",
            "Epoch: 510 Training Loss: 0.019220494 Testing Loss: 0.053813547  Training Acc: 0.995107830 Testing Acc: 0.990850031\n",
            "Epoch: 511 Training Loss: 0.014885843 Testing Loss: 0.047480240  Training Acc: 0.995607018 Testing Acc: 0.991533339\n",
            "Epoch: 512 Training Loss: 0.023042018 Testing Loss: 0.048997760  Training Acc: 0.993310690 Testing Acc: 0.991783321\n",
            "Epoch: 513 Training Loss: 0.025588028 Testing Loss: 0.049602453  Training Acc: 0.993710041 Testing Acc: 0.991166651\n",
            "Epoch: 514 Training Loss: 0.023966931 Testing Loss: 0.050854903  Training Acc: 0.994009554 Testing Acc: 0.991333365\n",
            "Epoch: 515 Training Loss: 0.029218774 Testing Loss: 0.054796044  Training Acc: 0.993610203 Testing Acc: 0.990999997\n",
            "Epoch: 516 Training Loss: 0.020575324 Testing Loss: 0.050508391  Training Acc: 0.993210852 Testing Acc: 0.991200030\n",
            "Epoch: 517 Training Loss: 0.025100995 Testing Loss: 0.046795148  Training Acc: 0.992711663 Testing Acc: 0.991500020\n",
            "Epoch: 518 Training Loss: 0.029454174 Testing Loss: 0.051079098  Training Acc: 0.991613388 Testing Acc: 0.991083324\n",
            "Epoch: 519 Training Loss: 0.023029614 Testing Loss: 0.046375148  Training Acc: 0.993410528 Testing Acc: 0.991666675\n",
            "Epoch: 520 Training Loss: 0.024885867 Testing Loss: 0.050908376  Training Acc: 0.993210852 Testing Acc: 0.990883350\n",
            "Epoch: 521 Training Loss: 0.019162055 Testing Loss: 0.051678233  Training Acc: 0.994009554 Testing Acc: 0.991333365\n",
            "Epoch: 522 Training Loss: 0.016036281 Testing Loss: 0.055388350  Training Acc: 0.994408906 Testing Acc: 0.991100013\n",
            "Epoch: 523 Training Loss: 0.023163367 Testing Loss: 0.056145385  Training Acc: 0.993210852 Testing Acc: 0.990866661\n",
            "Epoch: 524 Training Loss: 0.019884402 Testing Loss: 0.052908778  Training Acc: 0.993410528 Testing Acc: 0.991116703\n",
            "Epoch: 525 Training Loss: 0.022437517 Testing Loss: 0.053955652  Training Acc: 0.992811501 Testing Acc: 0.990333319\n",
            "Epoch: 526 Training Loss: 0.025928847 Testing Loss: 0.048689943  Training Acc: 0.993210852 Testing Acc: 0.991016686\n",
            "Epoch: 527 Training Loss: 0.022171330 Testing Loss: 0.053153209  Training Acc: 0.993610203 Testing Acc: 0.990833342\n",
            "Epoch: 528 Training Loss: 0.023657208 Testing Loss: 0.045362931  Training Acc: 0.994209230 Testing Acc: 0.991649985\n",
            "Epoch: 529 Training Loss: 0.022872534 Testing Loss: 0.048869479  Training Acc: 0.993710041 Testing Acc: 0.990716696\n",
            "Epoch: 530 Training Loss: 0.022178836 Testing Loss: 0.050949968  Training Acc: 0.994209230 Testing Acc: 0.991250038\n",
            "Epoch: 531 Training Loss: 0.025500845 Testing Loss: 0.052400339  Training Acc: 0.993011177 Testing Acc: 0.990683317\n",
            "Epoch: 532 Training Loss: 0.024412869 Testing Loss: 0.050474647  Training Acc: 0.994109392 Testing Acc: 0.991050005\n",
            "Epoch: 533 Training Loss: 0.018876830 Testing Loss: 0.051010907  Training Acc: 0.995107830 Testing Acc: 0.991250038\n",
            "Epoch: 534 Training Loss: 0.020651281 Testing Loss: 0.050532434  Training Acc: 0.994508743 Testing Acc: 0.991150022\n",
            "Epoch: 535 Training Loss: 0.024936711 Testing Loss: 0.058598462  Training Acc: 0.993610203 Testing Acc: 0.990933359\n",
            "Epoch: 536 Training Loss: 0.027270027 Testing Loss: 0.048240639  Training Acc: 0.991713226 Testing Acc: 0.991316676\n",
            "Epoch: 537 Training Loss: 0.022007102 Testing Loss: 0.048820522  Training Acc: 0.993909717 Testing Acc: 0.991183341\n",
            "Epoch: 538 Training Loss: 0.024790749 Testing Loss: 0.048753757  Training Acc: 0.993510365 Testing Acc: 0.991366684\n",
            "Epoch: 539 Training Loss: 0.021796731 Testing Loss: 0.055381116  Training Acc: 0.994808316 Testing Acc: 0.990716696\n",
            "Epoch: 540 Training Loss: 0.026523216 Testing Loss: 0.050470866  Training Acc: 0.992012739 Testing Acc: 0.991250038\n",
            "Epoch: 541 Training Loss: 0.024769846 Testing Loss: 0.053579722  Training Acc: 0.993310690 Testing Acc: 0.990850031\n",
            "Epoch: 542 Training Loss: 0.023665680 Testing Loss: 0.047349822  Training Acc: 0.992212415 Testing Acc: 0.991733372\n",
            "Epoch: 543 Training Loss: 0.022402732 Testing Loss: 0.047269311  Training Acc: 0.994109392 Testing Acc: 0.991833329\n",
            "Epoch: 544 Training Loss: 0.025533017 Testing Loss: 0.047222931  Training Acc: 0.993310690 Testing Acc: 0.990733325\n",
            "Epoch: 545 Training Loss: 0.026600599 Testing Loss: 0.047142960  Training Acc: 0.993111014 Testing Acc: 0.991433322\n",
            "Epoch: 546 Training Loss: 0.019739499 Testing Loss: 0.049649402  Training Acc: 0.993809879 Testing Acc: 0.991150022\n",
            "Epoch: 547 Training Loss: 0.021346755 Testing Loss: 0.047764078  Training Acc: 0.993610203 Testing Acc: 0.991433322\n",
            "Epoch: 548 Training Loss: 0.021197787 Testing Loss: 0.046536978  Training Acc: 0.994608581 Testing Acc: 0.991516650\n",
            "Epoch: 549 Training Loss: 0.026277240 Testing Loss: 0.048337732  Training Acc: 0.992911339 Testing Acc: 0.991416693\n",
            "Epoch: 550 Training Loss: 0.020840153 Testing Loss: 0.051734332  Training Acc: 0.994009554 Testing Acc: 0.991100013\n",
            "Epoch: 551 Training Loss: 0.031562030 Testing Loss: 0.052757349  Training Acc: 0.992212415 Testing Acc: 0.990249991\n",
            "Epoch: 552 Training Loss: 0.021849392 Testing Loss: 0.052786674  Training Acc: 0.993809879 Testing Acc: 0.990116656\n",
            "Epoch: 553 Training Loss: 0.023338113 Testing Loss: 0.045177463  Training Acc: 0.993610203 Testing Acc: 0.991383374\n",
            "Epoch: 554 Training Loss: 0.026717450 Testing Loss: 0.047210183  Training Acc: 0.992412150 Testing Acc: 0.991666675\n",
            "Epoch: 555 Training Loss: 0.019800657 Testing Loss: 0.054915961  Training Acc: 0.994608581 Testing Acc: 0.990716696\n",
            "Epoch: 556 Training Loss: 0.021978132 Testing Loss: 0.053935450  Training Acc: 0.993710041 Testing Acc: 0.991183341\n",
            "Epoch: 557 Training Loss: 0.024430245 Testing Loss: 0.048979726  Training Acc: 0.992611825 Testing Acc: 0.990983367\n",
            "Epoch: 558 Training Loss: 0.022606781 Testing Loss: 0.054918341  Training Acc: 0.993909717 Testing Acc: 0.990949988\n",
            "Epoch: 559 Training Loss: 0.020619009 Testing Loss: 0.052894104  Training Acc: 0.994708478 Testing Acc: 0.990733325\n",
            "Epoch: 560 Training Loss: 0.021205364 Testing Loss: 0.048059139  Training Acc: 0.994309068 Testing Acc: 0.991450012\n",
            "Epoch: 561 Training Loss: 0.022055384 Testing Loss: 0.052945770  Training Acc: 0.993809879 Testing Acc: 0.990750015\n",
            "Epoch: 562 Training Loss: 0.023640668 Testing Loss: 0.052194748  Training Acc: 0.992412150 Testing Acc: 0.990866661\n",
            "Epoch: 563 Training Loss: 0.026541635 Testing Loss: 0.052974392  Training Acc: 0.992711663 Testing Acc: 0.990466654\n",
            "Epoch: 564 Training Loss: 0.021337477 Testing Loss: 0.049044959  Training Acc: 0.994109392 Testing Acc: 0.991500020\n",
            "Epoch: 565 Training Loss: 0.027344896 Testing Loss: 0.049827401  Training Acc: 0.992312312 Testing Acc: 0.990700006\n",
            "Epoch: 566 Training Loss: 0.026502989 Testing Loss: 0.052174419  Training Acc: 0.993111014 Testing Acc: 0.991150022\n",
            "Epoch: 567 Training Loss: 0.021696454 Testing Loss: 0.046913166  Training Acc: 0.994009554 Testing Acc: 0.991649985\n",
            "Epoch: 568 Training Loss: 0.021398192 Testing Loss: 0.050256588  Training Acc: 0.993710041 Testing Acc: 0.991083324\n",
            "Epoch: 569 Training Loss: 0.018315418 Testing Loss: 0.049673025  Training Acc: 0.994109392 Testing Acc: 0.991533339\n",
            "Epoch: 570 Training Loss: 0.025758279 Testing Loss: 0.048423596  Training Acc: 0.993809879 Testing Acc: 0.991483331\n",
            "Epoch: 571 Training Loss: 0.019231347 Testing Loss: 0.052437376  Training Acc: 0.993909717 Testing Acc: 0.990533352\n",
            "Epoch: 572 Training Loss: 0.032422628 Testing Loss: 0.050506227  Training Acc: 0.991613388 Testing Acc: 0.991266668\n",
            "Epoch: 573 Training Loss: 0.027803143 Testing Loss: 0.048605956  Training Acc: 0.992711663 Testing Acc: 0.991016686\n",
            "Epoch: 574 Training Loss: 0.023317344 Testing Loss: 0.049295135  Training Acc: 0.993011177 Testing Acc: 0.991233349\n",
            "Epoch: 575 Training Loss: 0.027463837 Testing Loss: 0.047320675  Training Acc: 0.992112577 Testing Acc: 0.991500020\n",
            "Epoch: 576 Training Loss: 0.025016444 Testing Loss: 0.043552887  Training Acc: 0.992511988 Testing Acc: 0.991566658\n",
            "Epoch: 577 Training Loss: 0.024577741 Testing Loss: 0.049353436  Training Acc: 0.993111014 Testing Acc: 0.991133332\n",
            "Epoch: 578 Training Loss: 0.022276128 Testing Loss: 0.048211694  Training Acc: 0.993011177 Testing Acc: 0.990850031\n",
            "Epoch: 579 Training Loss: 0.020920632 Testing Loss: 0.051960729  Training Acc: 0.994009554 Testing Acc: 0.991349995\n",
            "Epoch: 580 Training Loss: 0.021044040 Testing Loss: 0.051032227  Training Acc: 0.994708478 Testing Acc: 0.991150022\n",
            "Epoch: 581 Training Loss: 0.020145893 Testing Loss: 0.051752292  Training Acc: 0.994209230 Testing Acc: 0.991050005\n",
            "Epoch: 582 Training Loss: 0.019365957 Testing Loss: 0.052668102  Training Acc: 0.994009554 Testing Acc: 0.990949988\n",
            "Epoch: 583 Training Loss: 0.020527650 Testing Loss: 0.051665485  Training Acc: 0.993710041 Testing Acc: 0.990933359\n",
            "Epoch: 584 Training Loss: 0.022339020 Testing Loss: 0.045898627  Training Acc: 0.993011177 Testing Acc: 0.992250025\n",
            "Epoch: 585 Training Loss: 0.027558994 Testing Loss: 0.047349211  Training Acc: 0.993011177 Testing Acc: 0.991666675\n",
            "Epoch: 586 Training Loss: 0.026328476 Testing Loss: 0.044472724  Training Acc: 0.993111014 Testing Acc: 0.991383374\n",
            "Epoch: 587 Training Loss: 0.026796624 Testing Loss: 0.043703642  Training Acc: 0.992312312 Testing Acc: 0.991250038\n",
            "Epoch: 588 Training Loss: 0.020989161 Testing Loss: 0.047485668  Training Acc: 0.994009554 Testing Acc: 0.991349995\n",
            "Epoch: 589 Training Loss: 0.026625451 Testing Loss: 0.047802139  Training Acc: 0.993909717 Testing Acc: 0.991750002\n",
            "Epoch: 590 Training Loss: 0.019627402 Testing Loss: 0.048043963  Training Acc: 0.994808316 Testing Acc: 0.992100000\n",
            "Epoch: 591 Training Loss: 0.025106581 Testing Loss: 0.052249145  Training Acc: 0.993310690 Testing Acc: 0.990866661\n",
            "Epoch: 592 Training Loss: 0.024624743 Testing Loss: 0.051233701  Training Acc: 0.994009554 Testing Acc: 0.991100013\n",
            "Epoch: 593 Training Loss: 0.019358646 Testing Loss: 0.054615315  Training Acc: 0.994608581 Testing Acc: 0.991166651\n",
            "Epoch: 594 Training Loss: 0.017742580 Testing Loss: 0.049781099  Training Acc: 0.995607018 Testing Acc: 0.991433322\n",
            "Epoch: 595 Training Loss: 0.021802381 Testing Loss: 0.054106262  Training Acc: 0.992811501 Testing Acc: 0.990533352\n",
            "Epoch: 596 Training Loss: 0.029034032 Testing Loss: 0.048840106  Training Acc: 0.992611825 Testing Acc: 0.991200030\n",
            "Epoch: 597 Training Loss: 0.022646520 Testing Loss: 0.054368943  Training Acc: 0.993510365 Testing Acc: 0.990833342\n",
            "Epoch: 598 Training Loss: 0.020607265 Testing Loss: 0.055725940  Training Acc: 0.994209230 Testing Acc: 0.991166651\n",
            "Epoch: 599 Training Loss: 0.025491340 Testing Loss: 0.051825736  Training Acc: 0.992911339 Testing Acc: 0.991266668\n",
            "Epoch: 600 Training Loss: 0.028937330 Testing Loss: 0.053963114  Training Acc: 0.992711663 Testing Acc: 0.990766704\n"
          ],
          "name": "stdout"
        }
      ]
    },
    {
      "cell_type": "code",
      "metadata": {
        "id": "vzn6YyGw9ULY",
        "colab": {
          "base_uri": "https://localhost:8080/",
          "height": 592
        },
        "outputId": "12782f35-127f-4471-860f-636f93f7c09d"
      },
      "source": [
        "plt.figure(figsize = (10,10))\n",
        "plt.plot(L_train, linewidth = 2, c='b', label = \"train\")\n",
        "plt.plot(L_test, linewidth = 2, c='r', label = \"test\")\n",
        "plt.legend()\n",
        "plt.show()"
      ],
      "execution_count": 16,
      "outputs": [
        {
          "output_type": "display_data",
          "data": {
            "image/png": "[encoded data removed]",
            "text/plain": [
              "<Figure size 720x720 with 1 Axes>"
            ]
          },
          "metadata": {
            "tags": [],
            "needs_background": "light"
          }
        }
      ]
    },
    {
      "cell_type": "code",
      "metadata": {
        "id": "Rl1MuQhtqsg2",
        "colab": {
          "base_uri": "https://localhost:8080/",
          "height": 592
        },
        "outputId": "2ad2a67e-12ec-45ab-d004-8dc7d14ee801"
      },
      "source": [
        "plt.figure(figsize = (10,10))\n",
        "plt.plot(A_train, linewidth = 2, c='b', label = \"train\")\n",
        "plt.plot(A_test, linewidth = 2, c='r', label = \"test\")\n",
        "plt.legend()\n",
        "plt.show()"
      ],
      "execution_count": 17,
      "outputs": [
        {
          "output_type": "display_data",
          "data": {
            "image/png": "[encoded data removed]",
            "text/plain": [
              "<Figure size 720x720 with 1 Axes>"
            ]
          },
          "metadata": {
            "tags": [],
            "needs_background": "light"
          }
        }
      ]
    },
    {
      "cell_type": "code",
      "metadata": {
        "id": "4990rRublMpD",
        "colab": {
          "base_uri": "https://localhost:8080/"
        },
        "outputId": "f39185a6-b1e4-403a-81c9-42437c8d5b50"
      },
      "source": [
        "print(\"training loss    %.2f\" %(L_train[-1]))\n",
        "print(\"testing loss     %.2f\" %(L_test[-1]))\n",
        "print(\"training acc    %.2f\" %(A_train[-1]))\n",
        "print(\"testing acc     %.2f\" %(A_test[-1]))"
      ],
      "execution_count": 18,
      "outputs": [
        {
          "output_type": "stream",
          "text": [
            "training loss    0.03\n",
            "testing loss     0.05\n",
            "training acc    0.99\n",
            "testing acc     0.99\n"
          ],
          "name": "stdout"
        }
      ]
    },
    {
      "cell_type": "markdown",
      "metadata": {
        "id": "z4L9RrzOz5xl"
      },
      "source": [
        "# 5. Output\n",
        "<hr>"
      ]
    },
    {
      "cell_type": "markdown",
      "metadata": {
        "id": "alN6-n0r0DTO"
      },
      "source": [
        "## 1. Plot the training and testing losses over epochs"
      ]
    },
    {
      "cell_type": "code",
      "metadata": {
        "id": "d8WFmmL4Shvy",
        "colab": {
          "base_uri": "https://localhost:8080/",
          "height": 592
        },
        "outputId": "0f41bf99-337c-4632-c92f-d085fe130a7c"
      },
      "source": [
        "plt.figure(figsize = (10,10))\n",
        "plt.plot(L_train, linewidth = 2, c='b', label = \"train\")\n",
        "plt.plot(L_test, linewidth = 2, c='r', label = \"test\")\n",
        "plt.legend()\n",
        "plt.show()"
      ],
      "execution_count": 19,
      "outputs": [
        {
          "output_type": "display_data",
          "data": {
            "image/png": "[encoded data removed]",
            "text/plain": [
              "<Figure size 720x720 with 1 Axes>"
            ]
          },
          "metadata": {
            "tags": [],
            "needs_background": "light"
          }
        }
      ]
    },
    {
      "cell_type": "markdown",
      "metadata": {
        "id": "4t1dSyC1AVe0"
      },
      "source": [
        "## 2. Plot the training and testing accuracies over epochs"
      ]
    },
    {
      "cell_type": "code",
      "metadata": {
        "id": "xUlVVIpISjl6",
        "colab": {
          "base_uri": "https://localhost:8080/",
          "height": 592
        },
        "outputId": "ac04e71b-09bf-48ef-b57d-ca7e03f5290d"
      },
      "source": [
        "plt.figure(figsize = (10,10))\n",
        "plt.plot(A_train, linewidth = 2, c='b', label = \"train\")\n",
        "plt.plot(A_test, linewidth = 2, c='r', label = \"test\")\n",
        "plt.legend()\n",
        "plt.show()"
      ],
      "execution_count": 20,
      "outputs": [
        {
          "output_type": "display_data",
          "data": {
            "image/png": "[encoded data removed]",
            "text/plain": [
              "<Figure size 720x720 with 1 Axes>"
            ]
          },
          "metadata": {
            "tags": [],
            "needs_background": "light"
          }
        }
      ]
    },
    {
      "cell_type": "markdown",
      "metadata": {
        "id": "px7XRkcnAnc7"
      },
      "source": [
        "## 3.  Print the final training and testing losses at convergence "
      ]
    },
    {
      "cell_type": "code",
      "metadata": {
        "id": "RrvuQ_SCSlJ_",
        "colab": {
          "base_uri": "https://localhost:8080/"
        },
        "outputId": "849635ba-ce09-404a-dd74-a26a19731201"
      },
      "source": [
        "print(\"loss\")\n",
        "print(\"train    %.2f\" %(L_train[-1]))\n",
        "print(\"test     %.2f\" %(L_test[-1]))"
      ],
      "execution_count": 21,
      "outputs": [
        {
          "output_type": "stream",
          "text": [
            "loss\n",
            "train    0.03\n",
            "test     0.05\n"
          ],
          "name": "stdout"
        }
      ]
    },
    {
      "cell_type": "markdown",
      "metadata": {
        "id": "gW87VTpwAtMB"
      },
      "source": [
        "## 4. Print the final training and testing accuracies at convergence"
      ]
    },
    {
      "cell_type": "code",
      "metadata": {
        "id": "mpgCDaBpCWT_",
        "colab": {
          "base_uri": "https://localhost:8080/"
        },
        "outputId": "2980435d-7375-4726-a500-7eae41ede998"
      },
      "source": [
        "print(\"Accuracy\")\n",
        "print(\"train    %.5f, %.2f\" %(A_train[-1], A_train[-1]))\n",
        "print(\"test     %.5f, %.2f\" %(A_test[-1], A_test[-1]))"
      ],
      "execution_count": 23,
      "outputs": [
        {
          "output_type": "stream",
          "text": [
            "Accuracy\n",
            "train    0.99271, 0.99\n",
            "test     0.99077, 0.99\n"
          ],
          "name": "stdout"
        }
      ]
    },
    {
      "cell_type": "markdown",
      "metadata": {
        "id": "fzDvqXa7hEem"
      },
      "source": [
        "## 5. Print the testing accuracies within the last 10 epochs"
      ]
    },
    {
      "cell_type": "code",
      "metadata": {
        "id": "vu8Vw6cwassu",
        "colab": {
          "base_uri": "https://localhost:8080/"
        },
        "outputId": "3e16a790-5f54-46d2-9f03-f7f9119520d1"
      },
      "source": [
        "for i in range(-10, 0):\n",
        "  print(f\"Epoch = {len(A_test) + i + 1} Acc: %.5f\" %(A_train[i]))\n"
      ],
      "execution_count": 30,
      "outputs": [
        {
          "output_type": "stream",
          "text": [
            "Epoch = 591 Acc: 0.99331\n",
            "Epoch = 592 Acc: 0.99401\n",
            "Epoch = 593 Acc: 0.99461\n",
            "Epoch = 594 Acc: 0.99561\n",
            "Epoch = 595 Acc: 0.99281\n",
            "Epoch = 596 Acc: 0.99261\n",
            "Epoch = 597 Acc: 0.99351\n",
            "Epoch = 598 Acc: 0.99421\n",
            "Epoch = 599 Acc: 0.99291\n",
            "Epoch = 600 Acc: 0.99271\n"
          ],
          "name": "stdout"
        }
      ]
    },
    {
      "cell_type": "code",
      "metadata": {
        "id": "hTsLh1xUhUXY"
      },
      "source": [
        ""
      ],
      "execution_count": null,
      "outputs": []
    }
  ]
}