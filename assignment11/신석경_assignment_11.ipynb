{
  "nbformat": 4,
  "nbformat_minor": 0,
  "metadata": {
    "accelerator": "GPU",
    "colab": {
      "name": "신석경_assignment_11",
      "provenance": [],
      "collapsed_sections": [],
      "authorship_tag": "ABX9TyOwZRpxiDqqjHwTf4huHOGG",
      "include_colab_link": true
    },
    "kernelspec": {
      "display_name": "Python 3",
      "name": "python3"
    }
  },
  "cells": [
    {
      "cell_type": "markdown",
      "metadata": {
        "id": "view-in-github",
        "colab_type": "text"
      },
      "source": [
        "<a href=\"https://colab.research.google.com/github/jiku100/2020-2-machine-running-proejct/blob/master/assignment11/%EC%8B%A0%EC%84%9D%EA%B2%BD_assignment_11.ipynb\" target=\"_parent\"><img src=\"https://colab.research.google.com/assets/colab-badge.svg\" alt=\"Open In Colab\"/></a>"
      ]
    },
    {
      "cell_type": "markdown",
      "metadata": {
        "id": "0gzdXwFJz0KJ"
      },
      "source": [
        "# **Classification for Multiple Categories using Pytorch for best accuracy with CNN**\n",
        "\n"
      ]
    },
    {
      "cell_type": "markdown",
      "metadata": {
        "id": "w_C7Cujjz4ff"
      },
      "source": [
        "# 1. Import library\n",
        "<hr>"
      ]
    },
    {
      "cell_type": "code",
      "metadata": {
        "id": "gtlbKT3Izgre"
      },
      "source": [
        "import torch\n",
        "import torch.nn as nn\n",
        "import torch.optim as optim\n",
        "import torch.nn.init as init\n",
        "import torchvision\n",
        "import torchvision.transforms as transforms\n",
        "import torchvision.datasets as datasets\n",
        "from torch.utils.data import DataLoader\n",
        "\n",
        "import matplotlib.pyplot as plt\n",
        "import cv2\n",
        "import numpy as np"
      ],
      "execution_count": 1,
      "outputs": []
    },
    {
      "cell_type": "code",
      "metadata": {
        "colab": {
          "base_uri": "https://localhost:8080/"
        },
        "id": "JC9KWsHg7lTJ",
        "outputId": "975895e8-79bb-4ed5-f311-da64e4938601"
      },
      "source": [
        "USE_CUDA = torch.cuda.is_available()\n",
        "device = torch.device(\"cuda\" if USE_CUDA else \"cpu\")\n",
        "print(\"다음 기기로 학습합니다:\", device)"
      ],
      "execution_count": 2,
      "outputs": [
        {
          "output_type": "stream",
          "text": [
            "다음 기기로 학습합니다: cuda\n"
          ],
          "name": "stdout"
        }
      ]
    },
    {
      "cell_type": "markdown",
      "metadata": {
        "id": "nBCurPvD3NoM"
      },
      "source": [
        "# 2. Preprocessing Data\n",
        "<hr>"
      ]
    },
    {
      "cell_type": "code",
      "metadata": {
        "id": "4tVba13YD-s9"
      },
      "source": [
        "transform_train = transforms.Compose([\n",
        "        transforms.ToTensor(),\n",
        "        transforms.RandomRotation(20),\n",
        "        transforms.Normalize((0.1307,),(0.3081,))                    # 이미지를 텐서로 변형합니다.\n",
        "])\n",
        "\n",
        "transform_test = transforms.Compose([\n",
        "        transforms.ToTensor(), \n",
        "        transforms.Normalize((0.1307,),(0.3081,))            \n",
        "])"
      ],
      "execution_count": 3,
      "outputs": []
    },
    {
      "cell_type": "code",
      "metadata": {
        "id": "1uNdu0HqJEQv"
      },
      "source": [
        "data_path = './MNIST'\n",
        "\n",
        "data_test   = datasets.MNIST(root = data_path, train= True, download=True, transform= transform_test)\n",
        "data_train  = datasets.MNIST(root = data_path, train= False, download=True, transform= transform_train)"
      ],
      "execution_count": 4,
      "outputs": []
    },
    {
      "cell_type": "code",
      "metadata": {
        "colab": {
          "base_uri": "https://localhost:8080/",
          "height": 387
        },
        "id": "8SJcK-t2D3Bp",
        "outputId": "ce04f1cb-a711-4c11-d6b4-57fd3e3c16ea"
      },
      "source": [
        "one_image, label = data_train[0]\n",
        "print(\"type of one image\", type(one_image))\n",
        "print(\"size of one image : \", one_image.shape)\n",
        "plt.imshow(one_image.squeeze().numpy(), cmap='gray')\n",
        "print(\"type of label : \", type(label))\n",
        "print(\"label : \", label)\n",
        "print(np.max(data_train.train_data[0].view(-1).numpy()))"
      ],
      "execution_count": 5,
      "outputs": [
        {
          "output_type": "stream",
          "text": [
            "type of one image <class 'torch.Tensor'>\n",
            "size of one image :  torch.Size([1, 28, 28])\n",
            "type of label :  <class 'int'>\n",
            "label :  7\n",
            "255\n"
          ],
          "name": "stdout"
        },
        {
          "output_type": "stream",
          "text": [
            "/usr/local/lib/python3.6/dist-packages/torchvision/datasets/mnist.py:58: UserWarning: train_data has been renamed data\n",
            "  warnings.warn(\"train_data has been renamed data\")\n"
          ],
          "name": "stderr"
        },
        {
          "output_type": "display_data",
          "data": {
            "image/png": "[encoded data removed]",
            "text/plain": [
              "<Figure size 432x288 with 1 Axes>"
            ]
          },
          "metadata": {
            "tags": [],
            "needs_background": "light"
          }
        }
      ]
    },
    {
      "cell_type": "code",
      "metadata": {
        "id": "lUj2JTgY4r4c"
      },
      "source": [
        "learning_rate = 0.003\n",
        "training_epochs = 600\n",
        "batch_size = 256"
      ],
      "execution_count": 6,
      "outputs": []
    },
    {
      "cell_type": "code",
      "metadata": {
        "id": "CkgCtS3b3giF"
      },
      "source": [
        "train_loader = DataLoader(dataset = data_train, batch_size = batch_size, num_workers = 2, shuffle = True) ## batch size 32 짜리 train loader 생성\n",
        "test_loader = DataLoader(dataset = data_test, batch_size = batch_size, num_workers = 2, shuffle = True) ## batch size 32 짜리 test loader 생성"
      ],
      "execution_count": 7,
      "outputs": []
    },
    {
      "cell_type": "markdown",
      "metadata": {
        "id": "SCsB9Pdk6zd7"
      },
      "source": [
        "# 3. Define Model\n",
        "<hr>"
      ]
    },
    {
      "cell_type": "code",
      "metadata": {
        "id": "-cUHqcW25etQ"
      },
      "source": [
        "class classification(nn.Module):\n",
        "    def __init__(self):\n",
        "        super(classification, self).__init__()\n",
        "        \n",
        "        self.conv_block = nn.Sequential(\n",
        "            nn.Conv2d(1, 16, kernel_size=3, stride=1, padding=1),\n",
        "            nn.BatchNorm2d(16),\n",
        "            nn.ReLU(inplace=True),\n",
        "            nn.Conv2d(16, 32, kernel_size=3, stride=1, padding=1),\n",
        "            nn.BatchNorm2d(32),\n",
        "            nn.ReLU(inplace=True),\n",
        "            nn.MaxPool2d(kernel_size=2, stride=2),\n",
        "            nn.Conv2d(32, 64, kernel_size=3, stride=1, padding=1),\n",
        "            nn.BatchNorm2d(64),\n",
        "            nn.ReLU(inplace=True),\n",
        "            nn.MaxPool2d(kernel_size=2, stride=2) \n",
        "        )\n",
        "        \n",
        "        self.linear_block = nn.Sequential(\n",
        "            nn.Dropout(p=0.5),\n",
        "            nn.Linear(64*7*7, 128),\n",
        "            nn.BatchNorm1d(128),\n",
        "            nn.ReLU(inplace=True),\n",
        "            nn.Dropout(0.5),\n",
        "            nn.Linear(128, 64),\n",
        "            nn.BatchNorm1d(64),\n",
        "            nn.ReLU(inplace=True),\n",
        "            nn.Dropout(0.5),\n",
        "            nn.Linear(64, 10)\n",
        "        )\n",
        "        \n",
        "    def forward(self, x):\n",
        "        x = self.conv_block(x)\n",
        "        x = x.view(x.size(0), -1)\n",
        "        x = self.linear_block(x)\n",
        "        \n",
        "        return x"
      ],
      "execution_count": 8,
      "outputs": []
    },
    {
      "cell_type": "code",
      "metadata": {
        "id": "MWYQ30d37dwC"
      },
      "source": [
        "model = classification().to(device)"
      ],
      "execution_count": 9,
      "outputs": []
    },
    {
      "cell_type": "code",
      "metadata": {
        "id": "-GpzWr1V64wc"
      },
      "source": [
        "criterion = nn.CrossEntropyLoss().to(device)    # Softmax is internally computed.\n",
        "optimizer = torch.optim.Adam(model.parameters(), lr=learning_rate)\n",
        "scheduler = optim.lr_scheduler.StepLR(optimizer, step_size=20, gamma=0.1)"
      ],
      "execution_count": 10,
      "outputs": []
    },
    {
      "cell_type": "markdown",
      "metadata": {
        "id": "lsNWP3Wk8Siq"
      },
      "source": [
        "# 4. Training\n",
        "<hr>"
      ]
    },
    {
      "cell_type": "code",
      "metadata": {
        "id": "1_QSSPkC7sCr"
      },
      "source": [
        "total_batch= len(train_loader)"
      ],
      "execution_count": 11,
      "outputs": []
    },
    {
      "cell_type": "code",
      "metadata": {
        "colab": {
          "base_uri": "https://localhost:8080/"
        },
        "id": "9_SeUrHB5gLH",
        "outputId": "343f85db-be50-469f-a39f-a549993962ed"
      },
      "source": [
        "print(total_batch)"
      ],
      "execution_count": 12,
      "outputs": [
        {
          "output_type": "stream",
          "text": [
            "40\n"
          ],
          "name": "stdout"
        }
      ]
    },
    {
      "cell_type": "code",
      "metadata": {
        "id": "eaJMZ8TvcglJ"
      },
      "source": [
        "def accuracy(log_pred, y_true):\n",
        "    y_pred = torch.argmax(log_pred, dim=1)\n",
        "    return (y_pred == y_true).to(torch.float).mean()"
      ],
      "execution_count": 13,
      "outputs": []
    },
    {
      "cell_type": "code",
      "metadata": {
        "id": "Kl5FuVgt8_LF"
      },
      "source": [
        "def training(model, loss, optim, training_epochs, train_loader, test_loader):\n",
        "  L_iters_train = []\n",
        "  accuracy_train = []\n",
        "  L_iters_test = []\n",
        "  accuracy_test = []\n",
        "  for epoch in range(training_epochs):\n",
        "    total_cost_train = 0\n",
        "    total_cost_test = 0\n",
        "    total_acc_train = 0\n",
        "    total_acc_test = 0\n",
        "    model.train()\n",
        "    for X, Y in train_loader:\n",
        "      X = X.to(device)\n",
        "      Y = Y.to(device)\n",
        "\n",
        "      optim.zero_grad()\n",
        "      train_pred = model(X)\n",
        "      cost = loss(train_pred, Y)\n",
        "      cost.backward()\n",
        "      optim.step()\n",
        "\n",
        "      total_cost_train += cost\n",
        "      total_acc_train += accuracy(train_pred, Y)\n",
        "      \n",
        "    avg_cost_train = total_cost_train / len(train_loader)\n",
        "    avg_acc_train = total_acc_train / len(train_loader)\n",
        "\n",
        "    L_iters_train.append(avg_cost_train)\n",
        "    accuracy_train.append(avg_acc_train)\n",
        "    model.eval()\n",
        "    with torch.no_grad():\n",
        "      for X_test, Y_test in test_loader:\n",
        "        X_test = X_test.to(device)\n",
        "        Y_test = Y_test.to(device)\n",
        "        test_pred = model(X_test)\n",
        "        cost_test = loss(test_pred, Y_test)\n",
        "        total_cost_test += cost_test\n",
        "        total_acc_test += accuracy(test_pred, Y_test)\n",
        "      avg_cost_test = total_cost_test / len(test_loader)\n",
        "      avg_acc_test = total_acc_test / len(test_loader)\n",
        "    \n",
        "      accuracy_test.append(avg_acc_test)\n",
        "      L_iters_test.append(avg_cost_test)\n",
        "\n",
        "    print(\"Epoch: %02d Training Loss: %.9f Testing Loss: %.9f  Training Acc: %.9f Testing Acc: %.9f\" %((epoch + 1),avg_cost_train, avg_cost_test, avg_acc_train, avg_acc_test))\n",
        "  return L_iters_train, accuracy_train, L_iters_test, accuracy_test"
      ],
      "execution_count": 14,
      "outputs": []
    },
    {
      "cell_type": "code",
      "metadata": {
        "colab": {
          "base_uri": "https://localhost:8080/"
        },
        "id": "hOfKPriA84jq",
        "outputId": "50a8eec8-d3a4-440e-e871-fd7293aae108"
      },
      "source": [
        "L_train, A_train, L_test, A_test = training(model, criterion, optimizer, training_epochs, train_loader, test_loader)"
      ],
      "execution_count": 15,
      "outputs": [
        {
          "output_type": "stream",
          "text": [
            "Epoch: 01 Training Loss: 1.189365029 Testing Loss: 0.270860404  Training Acc: 0.684960961 Testing Acc: 0.949390471\n",
            "Epoch: 02 Training Loss: 0.442456007 Testing Loss: 0.112939246  Training Acc: 0.888085961 Testing Acc: 0.970334589\n",
            "Epoch: 03 Training Loss: 0.298353404 Testing Loss: 0.093013741  Training Acc: 0.920703113 Testing Acc: 0.973110557\n",
            "Epoch: 04 Training Loss: 0.247820497 Testing Loss: 0.087660223  Training Acc: 0.933300793 Testing Acc: 0.974091232\n",
            "Epoch: 05 Training Loss: 0.240169361 Testing Loss: 0.076551929  Training Acc: 0.935937524 Testing Acc: 0.977559805\n",
            "Epoch: 06 Training Loss: 0.197780415 Testing Loss: 0.074546322  Training Acc: 0.943750024 Testing Acc: 0.978213608\n",
            "Epoch: 07 Training Loss: 0.179870293 Testing Loss: 0.063667044  Training Acc: 0.949511707 Testing Acc: 0.981521428\n",
            "Epoch: 08 Training Loss: 0.153205812 Testing Loss: 0.064340375  Training Acc: 0.956542969 Testing Acc: 0.980551839\n",
            "Epoch: 09 Training Loss: 0.166030347 Testing Loss: 0.072232045  Training Acc: 0.950976551 Testing Acc: 0.979194343\n",
            "Epoch: 10 Training Loss: 0.164741263 Testing Loss: 0.063740149  Training Acc: 0.957031250 Testing Acc: 0.981466055\n",
            "Epoch: 11 Training Loss: 0.142763138 Testing Loss: 0.069586910  Training Acc: 0.963183582 Testing Acc: 0.980424345\n",
            "Epoch: 12 Training Loss: 0.129688546 Testing Loss: 0.060643140  Training Acc: 0.965527356 Testing Acc: 0.982291639\n",
            "Epoch: 13 Training Loss: 0.137294888 Testing Loss: 0.064110138  Training Acc: 0.962109387 Testing Acc: 0.981538057\n",
            "Epoch: 14 Training Loss: 0.129578441 Testing Loss: 0.055020187  Training Acc: 0.963671863 Testing Acc: 0.983632505\n",
            "Epoch: 15 Training Loss: 0.120910622 Testing Loss: 0.057731889  Training Acc: 0.964843750 Testing Acc: 0.983831942\n",
            "Epoch: 16 Training Loss: 0.114102982 Testing Loss: 0.059052922  Training Acc: 0.968750000 Testing Acc: 0.982806921\n",
            "Epoch: 17 Training Loss: 0.128163621 Testing Loss: 0.064655222  Training Acc: 0.962988317 Testing Acc: 0.981482685\n",
            "Epoch: 18 Training Loss: 0.125067815 Testing Loss: 0.059808869  Training Acc: 0.962109387 Testing Acc: 0.983593702\n",
            "Epoch: 19 Training Loss: 0.106629215 Testing Loss: 0.054782998  Training Acc: 0.971289098 Testing Acc: 0.984535694\n",
            "Epoch: 20 Training Loss: 0.098142304 Testing Loss: 0.050906211  Training Acc: 0.970996082 Testing Acc: 0.985466540\n",
            "Epoch: 21 Training Loss: 0.105095387 Testing Loss: 0.061536644  Training Acc: 0.970214844 Testing Acc: 0.983139396\n",
            "Epoch: 22 Training Loss: 0.109809354 Testing Loss: 0.053072806  Training Acc: 0.969726562 Testing Acc: 0.985521913\n",
            "Epoch: 23 Training Loss: 0.105272651 Testing Loss: 0.057436872  Training Acc: 0.971093774 Testing Acc: 0.984530091\n",
            "Epoch: 24 Training Loss: 0.099565439 Testing Loss: 0.059363827  Training Acc: 0.970898449 Testing Acc: 0.983826458\n",
            "Epoch: 25 Training Loss: 0.112781465 Testing Loss: 0.049109563  Training Acc: 0.968847692 Testing Acc: 0.986430645\n",
            "Epoch: 26 Training Loss: 0.095595129 Testing Loss: 0.054337610  Training Acc: 0.971191406 Testing Acc: 0.985538542\n",
            "Epoch: 27 Training Loss: 0.108937167 Testing Loss: 0.055278245  Training Acc: 0.969628930 Testing Acc: 0.984757304\n",
            "Epoch: 28 Training Loss: 0.099012740 Testing Loss: 0.057828207  Training Acc: 0.971777380 Testing Acc: 0.984707415\n",
            "Epoch: 29 Training Loss: 0.086409904 Testing Loss: 0.058369599  Training Acc: 0.975781262 Testing Acc: 0.984502435\n",
            "Epoch: 30 Training Loss: 0.091619685 Testing Loss: 0.053738113  Training Acc: 0.974414051 Testing Acc: 0.986037195\n",
            "Epoch: 31 Training Loss: 0.096961968 Testing Loss: 0.057994630  Training Acc: 0.973242223 Testing Acc: 0.984585524\n",
            "Epoch: 32 Training Loss: 0.077262901 Testing Loss: 0.057818811  Training Acc: 0.977929711 Testing Acc: 0.984496832\n",
            "Epoch: 33 Training Loss: 0.096679918 Testing Loss: 0.053506900  Training Acc: 0.974609375 Testing Acc: 0.985970736\n",
            "Epoch: 34 Training Loss: 0.094834961 Testing Loss: 0.051632632  Training Acc: 0.970703125 Testing Acc: 0.986829579\n",
            "Epoch: 35 Training Loss: 0.084988430 Testing Loss: 0.051952567  Training Acc: 0.976953149 Testing Acc: 0.986441672\n",
            "Epoch: 36 Training Loss: 0.091751687 Testing Loss: 0.051060583  Training Acc: 0.973144531 Testing Acc: 0.986258805\n",
            "Epoch: 37 Training Loss: 0.080697432 Testing Loss: 0.052625909  Training Acc: 0.977441430 Testing Acc: 0.985649347\n",
            "Epoch: 38 Training Loss: 0.099704213 Testing Loss: 0.052357040  Training Acc: 0.974121094 Testing Acc: 0.986258805\n",
            "Epoch: 39 Training Loss: 0.099360555 Testing Loss: 0.052318476  Training Acc: 0.972656250 Testing Acc: 0.986026108\n",
            "Epoch: 40 Training Loss: 0.086416431 Testing Loss: 0.052079909  Training Acc: 0.973437488 Testing Acc: 0.985726893\n",
            "Epoch: 41 Training Loss: 0.082858950 Testing Loss: 0.054172203  Training Acc: 0.975585938 Testing Acc: 0.985926390\n",
            "Epoch: 42 Training Loss: 0.085602269 Testing Loss: 0.049556155  Training Acc: 0.976953149 Testing Acc: 0.987095535\n",
            "Epoch: 43 Training Loss: 0.089804627 Testing Loss: 0.050013121  Training Acc: 0.978808582 Testing Acc: 0.987017930\n",
            "Epoch: 44 Training Loss: 0.086649768 Testing Loss: 0.049208779  Training Acc: 0.977636755 Testing Acc: 0.986774087\n",
            "Epoch: 45 Training Loss: 0.079034843 Testing Loss: 0.049856059  Training Acc: 0.976953149 Testing Acc: 0.986768603\n",
            "Epoch: 46 Training Loss: 0.072618835 Testing Loss: 0.047466766  Training Acc: 0.981249988 Testing Acc: 0.987422347\n",
            "Epoch: 47 Training Loss: 0.080560774 Testing Loss: 0.049342226  Training Acc: 0.977539062 Testing Acc: 0.987256169\n",
            "Epoch: 48 Training Loss: 0.076353833 Testing Loss: 0.049213614  Training Acc: 0.979101598 Testing Acc: 0.987117648\n",
            "Epoch: 49 Training Loss: 0.064301841 Testing Loss: 0.051879976  Training Acc: 0.980957031 Testing Acc: 0.986452758\n",
            "Epoch: 50 Training Loss: 0.068345003 Testing Loss: 0.049476914  Training Acc: 0.977929711 Testing Acc: 0.987029016\n",
            "Epoch: 51 Training Loss: 0.093132712 Testing Loss: 0.055873174  Training Acc: 0.973437488 Testing Acc: 0.985361218\n",
            "Epoch: 52 Training Loss: 0.072996639 Testing Loss: 0.048222702  Training Acc: 0.980175793 Testing Acc: 0.987317145\n",
            "Epoch: 53 Training Loss: 0.062274095 Testing Loss: 0.051840108  Training Acc: 0.980859399 Testing Acc: 0.986341953\n",
            "Epoch: 54 Training Loss: 0.064194202 Testing Loss: 0.050089862  Training Acc: 0.980078161 Testing Acc: 0.986873865\n",
            "Epoch: 55 Training Loss: 0.058309045 Testing Loss: 0.048232689  Training Acc: 0.983984411 Testing Acc: 0.987677276\n",
            "Epoch: 56 Training Loss: 0.064013354 Testing Loss: 0.050372478  Training Acc: 0.980957031 Testing Acc: 0.986951411\n",
            "Epoch: 57 Training Loss: 0.065727465 Testing Loss: 0.052943666  Training Acc: 0.981835961 Testing Acc: 0.985954106\n",
            "Epoch: 58 Training Loss: 0.065405615 Testing Loss: 0.047970850  Training Acc: 0.980957031 Testing Acc: 0.987566471\n",
            "Epoch: 59 Training Loss: 0.054823965 Testing Loss: 0.048314903  Training Acc: 0.983398438 Testing Acc: 0.987721562\n",
            "Epoch: 60 Training Loss: 0.063550137 Testing Loss: 0.047205981  Training Acc: 0.982812524 Testing Acc: 0.987788081\n",
            "Epoch: 61 Training Loss: 0.065517910 Testing Loss: 0.046578180  Training Acc: 0.980078161 Testing Acc: 0.987954319\n",
            "Epoch: 62 Training Loss: 0.059067842 Testing Loss: 0.045640551  Training Acc: 0.982519567 Testing Acc: 0.988563776\n",
            "Epoch: 63 Training Loss: 0.062252220 Testing Loss: 0.046940621  Training Acc: 0.983007848 Testing Acc: 0.988768756\n",
            "Epoch: 64 Training Loss: 0.063602336 Testing Loss: 0.049472772  Training Acc: 0.981738269 Testing Acc: 0.987632930\n",
            "Epoch: 65 Training Loss: 0.067325749 Testing Loss: 0.049369529  Training Acc: 0.980761707 Testing Acc: 0.987150908\n",
            "Epoch: 66 Training Loss: 0.069994442 Testing Loss: 0.050545588  Training Acc: 0.980761707 Testing Acc: 0.987533212\n",
            "Epoch: 67 Training Loss: 0.072805740 Testing Loss: 0.051351950  Training Acc: 0.979296863 Testing Acc: 0.986735344\n",
            "Epoch: 68 Training Loss: 0.075397193 Testing Loss: 0.047290687  Training Acc: 0.978320301 Testing Acc: 0.987898886\n",
            "Epoch: 69 Training Loss: 0.062968813 Testing Loss: 0.049436532  Training Acc: 0.981347680 Testing Acc: 0.987644076\n",
            "Epoch: 70 Training Loss: 0.063850187 Testing Loss: 0.049143042  Training Acc: 0.983593762 Testing Acc: 0.987699449\n",
            "Epoch: 71 Training Loss: 0.067152761 Testing Loss: 0.049879283  Training Acc: 0.979492188 Testing Acc: 0.987189651\n",
            "Epoch: 72 Training Loss: 0.061560940 Testing Loss: 0.049543850  Training Acc: 0.981054723 Testing Acc: 0.987898886\n",
            "Epoch: 73 Training Loss: 0.058298569 Testing Loss: 0.047850642  Training Acc: 0.983007848 Testing Acc: 0.988026381\n",
            "Epoch: 74 Training Loss: 0.053439148 Testing Loss: 0.048054513  Training Acc: 0.983203113 Testing Acc: 0.988386452\n",
            "Epoch: 75 Training Loss: 0.060092904 Testing Loss: 0.046340473  Training Acc: 0.983398438 Testing Acc: 0.988585949\n",
            "Epoch: 76 Training Loss: 0.056036420 Testing Loss: 0.049056895  Training Acc: 0.983886719 Testing Acc: 0.987943232\n",
            "Epoch: 77 Training Loss: 0.061351430 Testing Loss: 0.047114782  Training Acc: 0.983691394 Testing Acc: 0.988547206\n",
            "Epoch: 78 Training Loss: 0.056915265 Testing Loss: 0.049422842  Training Acc: 0.982617199 Testing Acc: 0.988314450\n",
            "Epoch: 79 Training Loss: 0.063391976 Testing Loss: 0.048856255  Training Acc: 0.981640637 Testing Acc: 0.987738192\n",
            "Epoch: 80 Training Loss: 0.054559328 Testing Loss: 0.044833817  Training Acc: 0.984375000 Testing Acc: 0.988763273\n",
            "Epoch: 81 Training Loss: 0.058504026 Testing Loss: 0.045197763  Training Acc: 0.983105481 Testing Acc: 0.988658011\n",
            "Epoch: 82 Training Loss: 0.061991155 Testing Loss: 0.045269612  Training Acc: 0.983789086 Testing Acc: 0.988785386\n",
            "Epoch: 83 Training Loss: 0.063097566 Testing Loss: 0.046567786  Training Acc: 0.983398438 Testing Acc: 0.988713384\n",
            "Epoch: 84 Training Loss: 0.099530831 Testing Loss: 0.045849964  Training Acc: 0.976171911 Testing Acc: 0.988170385\n",
            "Epoch: 85 Training Loss: 0.083304189 Testing Loss: 0.047954585  Training Acc: 0.976367176 Testing Acc: 0.987865686\n",
            "Epoch: 86 Training Loss: 0.070293367 Testing Loss: 0.047292668  Training Acc: 0.981543005 Testing Acc: 0.988020778\n",
            "Epoch: 87 Training Loss: 0.060784020 Testing Loss: 0.041907679  Training Acc: 0.983007848 Testing Acc: 0.988718927\n",
            "Epoch: 88 Training Loss: 0.051537734 Testing Loss: 0.044844799  Training Acc: 0.983691394 Testing Acc: 0.988513947\n",
            "Epoch: 89 Training Loss: 0.045770250 Testing Loss: 0.046054076  Training Acc: 0.986718774 Testing Acc: 0.988353252\n",
            "Epoch: 90 Training Loss: 0.043497831 Testing Loss: 0.048601907  Training Acc: 0.986914098 Testing Acc: 0.988059580\n",
            "Epoch: 91 Training Loss: 0.054288413 Testing Loss: 0.048613582  Training Acc: 0.984179676 Testing Acc: 0.988181472\n",
            "Epoch: 92 Training Loss: 0.045404579 Testing Loss: 0.045217834  Training Acc: 0.988964856 Testing Acc: 0.988995969\n",
            "Epoch: 93 Training Loss: 0.072471313 Testing Loss: 0.046464063  Training Acc: 0.983105481 Testing Acc: 0.988984883\n",
            "Epoch: 94 Training Loss: 0.063487068 Testing Loss: 0.048158601  Training Acc: 0.981543005 Testing Acc: 0.988203645\n",
            "Epoch: 95 Training Loss: 0.049191806 Testing Loss: 0.047988649  Training Acc: 0.986621082 Testing Acc: 0.988464057\n",
            "Epoch: 96 Training Loss: 0.046862662 Testing Loss: 0.049244791  Training Acc: 0.985546887 Testing Acc: 0.988148212\n",
            "Epoch: 97 Training Loss: 0.048026379 Testing Loss: 0.049105126  Training Acc: 0.986425817 Testing Acc: 0.987832427\n",
            "Epoch: 98 Training Loss: 0.048750624 Testing Loss: 0.050731909  Training Acc: 0.987109363 Testing Acc: 0.988020778\n",
            "Epoch: 99 Training Loss: 0.045646891 Testing Loss: 0.043855596  Training Acc: 0.987988293 Testing Acc: 0.989223182\n",
            "Epoch: 100 Training Loss: 0.045748543 Testing Loss: 0.046563599  Training Acc: 0.987402380 Testing Acc: 0.988680184\n",
            "Epoch: 101 Training Loss: 0.046611030 Testing Loss: 0.047194667  Training Acc: 0.985351562 Testing Acc: 0.988923967\n",
            "Epoch: 102 Training Loss: 0.041160554 Testing Loss: 0.045915555  Training Acc: 0.988867223 Testing Acc: 0.988785386\n",
            "Epoch: 103 Training Loss: 0.041512478 Testing Loss: 0.047990855  Training Acc: 0.987207055 Testing Acc: 0.988757730\n",
            "Epoch: 104 Training Loss: 0.056213845 Testing Loss: 0.047021784  Training Acc: 0.985449255 Testing Acc: 0.988663554\n",
            "Epoch: 105 Training Loss: 0.053916760 Testing Loss: 0.049525250  Training Acc: 0.984179676 Testing Acc: 0.987937689\n",
            "Epoch: 106 Training Loss: 0.044063088 Testing Loss: 0.049928822  Training Acc: 0.987988293 Testing Acc: 0.987948775\n",
            "Epoch: 107 Training Loss: 0.041190308 Testing Loss: 0.046154559  Training Acc: 0.988183618 Testing Acc: 0.988331079\n",
            "Epoch: 108 Training Loss: 0.046179499 Testing Loss: 0.047787007  Training Acc: 0.987597644 Testing Acc: 0.988802016\n",
            "Epoch: 109 Training Loss: 0.058478065 Testing Loss: 0.046962854  Training Acc: 0.985644519 Testing Acc: 0.988580406\n",
            "Epoch: 110 Training Loss: 0.050700929 Testing Loss: 0.051080294  Training Acc: 0.984765649 Testing Acc: 0.988131642\n",
            "Epoch: 111 Training Loss: 0.045359630 Testing Loss: 0.050063275  Training Acc: 0.986914098 Testing Acc: 0.988392055\n",
            "Epoch: 112 Training Loss: 0.054344576 Testing Loss: 0.046945985  Training Acc: 0.984863281 Testing Acc: 0.988452971\n",
            "Epoch: 113 Training Loss: 0.051087838 Testing Loss: 0.045142174  Training Acc: 0.985937536 Testing Acc: 0.989001513\n",
            "Epoch: 114 Training Loss: 0.042154353 Testing Loss: 0.048812609  Training Acc: 0.988085926 Testing Acc: 0.988187015\n",
            "Epoch: 115 Training Loss: 0.043904331 Testing Loss: 0.046087064  Training Acc: 0.986816406 Testing Acc: 0.989156663\n",
            "Epoch: 116 Training Loss: 0.039849274 Testing Loss: 0.045702353  Training Acc: 0.989062488 Testing Acc: 0.989267468\n",
            "Epoch: 117 Training Loss: 0.040885944 Testing Loss: 0.046180457  Training Acc: 0.988769531 Testing Acc: 0.989239812\n",
            "Epoch: 118 Training Loss: 0.044215128 Testing Loss: 0.049761869  Training Acc: 0.988085926 Testing Acc: 0.988475144\n",
            "Epoch: 119 Training Loss: 0.043558326 Testing Loss: 0.047788620  Training Acc: 0.988378942 Testing Acc: 0.989084601\n",
            "Epoch: 120 Training Loss: 0.041976474 Testing Loss: 0.045504559  Training Acc: 0.987792969 Testing Acc: 0.989627600\n",
            "Epoch: 121 Training Loss: 0.034758300 Testing Loss: 0.046022259  Training Acc: 0.989160180 Testing Acc: 0.989428163\n",
            "Epoch: 122 Training Loss: 0.039876077 Testing Loss: 0.045841016  Training Acc: 0.988281250 Testing Acc: 0.989500165\n",
            "Epoch: 123 Training Loss: 0.040864199 Testing Loss: 0.047316503  Training Acc: 0.989453137 Testing Acc: 0.989317298\n",
            "Epoch: 124 Training Loss: 0.043953475 Testing Loss: 0.045388110  Training Acc: 0.988769531 Testing Acc: 0.989710748\n",
            "Epoch: 125 Training Loss: 0.037583373 Testing Loss: 0.046271343  Training Acc: 0.989550769 Testing Acc: 0.989079118\n",
            "Epoch: 126 Training Loss: 0.033203218 Testing Loss: 0.045769010  Training Acc: 0.991210938 Testing Acc: 0.989660859\n",
            "Epoch: 127 Training Loss: 0.039948788 Testing Loss: 0.048088398  Training Acc: 0.987597644 Testing Acc: 0.989561141\n",
            "Epoch: 128 Training Loss: 0.044931520 Testing Loss: 0.047194224  Training Acc: 0.987011731 Testing Acc: 0.989167750\n",
            "Epoch: 129 Training Loss: 0.052712183 Testing Loss: 0.049540404  Training Acc: 0.987207055 Testing Acc: 0.988840878\n",
            "Epoch: 130 Training Loss: 0.056651451 Testing Loss: 0.052823320  Training Acc: 0.986230493 Testing Acc: 0.987987518\n",
            "Epoch: 131 Training Loss: 0.046606753 Testing Loss: 0.046654154  Training Acc: 0.986035168 Testing Acc: 0.989079118\n",
            "Epoch: 132 Training Loss: 0.038171023 Testing Loss: 0.048197910  Training Acc: 0.987109363 Testing Acc: 0.989012599\n",
            "Epoch: 133 Training Loss: 0.042255711 Testing Loss: 0.046922348  Training Acc: 0.987792969 Testing Acc: 0.989045858\n",
            "Epoch: 134 Training Loss: 0.042354979 Testing Loss: 0.045317166  Training Acc: 0.988574207 Testing Acc: 0.989672005\n",
            "Epoch: 135 Training Loss: 0.049327519 Testing Loss: 0.044882394  Training Acc: 0.986425817 Testing Acc: 0.989234209\n",
            "Epoch: 136 Training Loss: 0.056146324 Testing Loss: 0.048212752  Training Acc: 0.982421875 Testing Acc: 0.989040315\n",
            "Epoch: 137 Training Loss: 0.047352187 Testing Loss: 0.043985561  Training Acc: 0.985742211 Testing Acc: 0.989461422\n",
            "Epoch: 138 Training Loss: 0.037700977 Testing Loss: 0.043856747  Training Acc: 0.989355505 Testing Acc: 0.989256442\n",
            "Epoch: 139 Training Loss: 0.043993060 Testing Loss: 0.045015924  Training Acc: 0.986718774 Testing Acc: 0.989405990\n",
            "Epoch: 140 Training Loss: 0.041836791 Testing Loss: 0.050233278  Training Acc: 0.987988293 Testing Acc: 0.988148212\n",
            "Epoch: 141 Training Loss: 0.043295532 Testing Loss: 0.047663949  Training Acc: 0.984667957 Testing Acc: 0.989112318\n",
            "Epoch: 142 Training Loss: 0.060813237 Testing Loss: 0.053307943  Training Acc: 0.980468750 Testing Acc: 0.987605214\n",
            "Epoch: 143 Training Loss: 0.088557534 Testing Loss: 0.052430268  Training Acc: 0.975585938 Testing Acc: 0.987682819\n",
            "Epoch: 144 Training Loss: 0.072431676 Testing Loss: 0.048112143  Training Acc: 0.981054723 Testing Acc: 0.988275707\n",
            "Epoch: 145 Training Loss: 0.069518588 Testing Loss: 0.052951623  Training Acc: 0.979980469 Testing Acc: 0.987433493\n",
            "Epoch: 146 Training Loss: 0.059779733 Testing Loss: 0.050546091  Training Acc: 0.984277368 Testing Acc: 0.987549841\n",
            "Epoch: 147 Training Loss: 0.052622635 Testing Loss: 0.047968522  Training Acc: 0.984082043 Testing Acc: 0.988220274\n",
            "Epoch: 148 Training Loss: 0.044477053 Testing Loss: 0.048288587  Training Acc: 0.987792969 Testing Acc: 0.988513947\n",
            "Epoch: 149 Training Loss: 0.040746160 Testing Loss: 0.046538651  Training Acc: 0.989355505 Testing Acc: 0.988735557\n",
            "Epoch: 150 Training Loss: 0.047612429 Testing Loss: 0.045080110  Training Acc: 0.988476574 Testing Acc: 0.989134490\n",
            "Epoch: 151 Training Loss: 0.047680717 Testing Loss: 0.052818742  Training Acc: 0.986035168 Testing Acc: 0.987810254\n",
            "Epoch: 152 Training Loss: 0.059202760 Testing Loss: 0.048093364  Training Acc: 0.982910156 Testing Acc: 0.988846362\n",
            "Epoch: 153 Training Loss: 0.062672846 Testing Loss: 0.050672650  Training Acc: 0.984570324 Testing Acc: 0.988209188\n",
            "Epoch: 154 Training Loss: 0.060326762 Testing Loss: 0.045565154  Training Acc: 0.983007848 Testing Acc: 0.988763273\n",
            "Epoch: 155 Training Loss: 0.048452448 Testing Loss: 0.045808356  Training Acc: 0.985351562 Testing Acc: 0.988752186\n",
            "Epoch: 156 Training Loss: 0.039083909 Testing Loss: 0.046078075  Training Acc: 0.989355505 Testing Acc: 0.988874078\n",
            "Epoch: 157 Training Loss: 0.041578893 Testing Loss: 0.047887452  Training Acc: 0.989257812 Testing Acc: 0.988558292\n",
            "Epoch: 158 Training Loss: 0.046857882 Testing Loss: 0.046727207  Training Acc: 0.986816406 Testing Acc: 0.988968253\n",
            "Epoch: 159 Training Loss: 0.052177221 Testing Loss: 0.051481895  Training Acc: 0.985253930 Testing Acc: 0.987998664\n",
            "Epoch: 160 Training Loss: 0.042364992 Testing Loss: 0.044719245  Training Acc: 0.987207055 Testing Acc: 0.989289641\n",
            "Epoch: 161 Training Loss: 0.040614299 Testing Loss: 0.046292987  Training Acc: 0.989062488 Testing Acc: 0.989134490\n",
            "Epoch: 162 Training Loss: 0.036396239 Testing Loss: 0.044545110  Training Acc: 0.990429699 Testing Acc: 0.989267468\n",
            "Epoch: 163 Training Loss: 0.032570075 Testing Loss: 0.045050643  Training Acc: 0.990039051 Testing Acc: 0.989583254\n",
            "Epoch: 164 Training Loss: 0.035722882 Testing Loss: 0.047219530  Training Acc: 0.987695336 Testing Acc: 0.989056945\n",
            "Epoch: 165 Training Loss: 0.048548523 Testing Loss: 0.047504891  Training Acc: 0.986425817 Testing Acc: 0.988929510\n",
            "Epoch: 166 Training Loss: 0.038467087 Testing Loss: 0.048519358  Training Acc: 0.988085926 Testing Acc: 0.988918364\n",
            "Epoch: 167 Training Loss: 0.034416672 Testing Loss: 0.047311760  Training Acc: 0.989453137 Testing Acc: 0.989245296\n",
            "Epoch: 168 Training Loss: 0.041689377 Testing Loss: 0.049886979  Training Acc: 0.987988293 Testing Acc: 0.988768756\n",
            "Epoch: 169 Training Loss: 0.038221460 Testing Loss: 0.050743703  Training Acc: 0.988476574 Testing Acc: 0.988818645\n",
            "Epoch: 170 Training Loss: 0.031716179 Testing Loss: 0.048936099  Training Acc: 0.990332067 Testing Acc: 0.988957226\n",
            "Epoch: 171 Training Loss: 0.039101344 Testing Loss: 0.048633378  Training Acc: 0.989062488 Testing Acc: 0.989029229\n",
            "Epoch: 172 Training Loss: 0.035396375 Testing Loss: 0.046171743  Training Acc: 0.990429699 Testing Acc: 0.989516795\n",
            "Epoch: 173 Training Loss: 0.029709278 Testing Loss: 0.046276003  Training Acc: 0.990039051 Testing Acc: 0.989511251\n",
            "Epoch: 174 Training Loss: 0.038059991 Testing Loss: 0.045200013  Training Acc: 0.987500012 Testing Acc: 0.990070939\n",
            "Epoch: 175 Training Loss: 0.043498881 Testing Loss: 0.045615733  Training Acc: 0.987500012 Testing Acc: 0.989816010\n",
            "Epoch: 176 Training Loss: 0.039130833 Testing Loss: 0.043210071  Training Acc: 0.987988293 Testing Acc: 0.989810467\n",
            "Epoch: 177 Training Loss: 0.035325248 Testing Loss: 0.048033543  Training Acc: 0.989257812 Testing Acc: 0.989178836\n",
            "Epoch: 178 Training Loss: 0.045790330 Testing Loss: 0.049261265  Training Acc: 0.987304688 Testing Acc: 0.988685668\n",
            "Epoch: 179 Training Loss: 0.042662587 Testing Loss: 0.047351200  Training Acc: 0.987890661 Testing Acc: 0.989322901\n",
            "Epoch: 180 Training Loss: 0.056163795 Testing Loss: 0.046845872  Training Acc: 0.987011731 Testing Acc: 0.989189923\n",
            "Epoch: 181 Training Loss: 0.056690920 Testing Loss: 0.047233783  Training Acc: 0.982812524 Testing Acc: 0.989128947\n",
            "Epoch: 182 Training Loss: 0.068725310 Testing Loss: 0.046738967  Training Acc: 0.981249988 Testing Acc: 0.989522398\n",
            "Epoch: 183 Training Loss: 0.065141790 Testing Loss: 0.051335808  Training Acc: 0.979003906 Testing Acc: 0.987671733\n",
            "Epoch: 184 Training Loss: 0.050381299 Testing Loss: 0.048102532  Training Acc: 0.985449255 Testing Acc: 0.988513947\n",
            "Epoch: 185 Training Loss: 0.093055047 Testing Loss: 0.048626013  Training Acc: 0.980566442 Testing Acc: 0.988369823\n",
            "Epoch: 186 Training Loss: 0.075491190 Testing Loss: 0.051101759  Training Acc: 0.974121094 Testing Acc: 0.988303363\n",
            "Epoch: 187 Training Loss: 0.056657907 Testing Loss: 0.045165531  Training Acc: 0.984082043 Testing Acc: 0.989112318\n",
            "Epoch: 188 Training Loss: 0.044894610 Testing Loss: 0.045421872  Training Acc: 0.985937536 Testing Acc: 0.989018142\n",
            "Epoch: 189 Training Loss: 0.033351630 Testing Loss: 0.045183279  Training Acc: 0.990136743 Testing Acc: 0.989239812\n",
            "Epoch: 190 Training Loss: 0.039655883 Testing Loss: 0.046292823  Training Acc: 0.986230493 Testing Acc: 0.989162207\n",
            "Epoch: 191 Training Loss: 0.044494104 Testing Loss: 0.051834982  Training Acc: 0.986914098 Testing Acc: 0.988175988\n",
            "Epoch: 192 Training Loss: 0.034053035 Testing Loss: 0.050714467  Training Acc: 0.990332067 Testing Acc: 0.988763273\n",
            "Epoch: 193 Training Loss: 0.036461707 Testing Loss: 0.046023600  Training Acc: 0.989843786 Testing Acc: 0.989444792\n",
            "Epoch: 194 Training Loss: 0.034525752 Testing Loss: 0.045125801  Training Acc: 0.989550769 Testing Acc: 0.989566684\n",
            "Epoch: 195 Training Loss: 0.051394176 Testing Loss: 0.045404885  Training Acc: 0.987402380 Testing Acc: 0.989694118\n",
            "Epoch: 196 Training Loss: 0.075556479 Testing Loss: 0.055243418  Training Acc: 0.980664074 Testing Acc: 0.987837911\n",
            "Epoch: 197 Training Loss: 0.066292726 Testing Loss: 0.050420638  Training Acc: 0.982421875 Testing Acc: 0.988790989\n",
            "Epoch: 198 Training Loss: 0.054042995 Testing Loss: 0.051351052  Training Acc: 0.983886719 Testing Acc: 0.988192558\n",
            "Epoch: 199 Training Loss: 0.044556420 Testing Loss: 0.046203732  Training Acc: 0.986230493 Testing Acc: 0.989095688\n",
            "Epoch: 200 Training Loss: 0.042971581 Testing Loss: 0.043639164  Training Acc: 0.987304688 Testing Acc: 0.989727378\n",
            "Epoch: 201 Training Loss: 0.045810800 Testing Loss: 0.049257893  Training Acc: 0.986523449 Testing Acc: 0.989178836\n",
            "Epoch: 202 Training Loss: 0.040161017 Testing Loss: 0.046957318  Training Acc: 0.988476574 Testing Acc: 0.989405990\n",
            "Epoch: 203 Training Loss: 0.043552775 Testing Loss: 0.050721414  Training Acc: 0.986328125 Testing Acc: 0.988846362\n",
            "Epoch: 204 Training Loss: 0.052248597 Testing Loss: 0.049670056  Training Acc: 0.984277368 Testing Acc: 0.988846362\n",
            "Epoch: 205 Training Loss: 0.053033300 Testing Loss: 0.047981583  Training Acc: 0.987207055 Testing Acc: 0.989234209\n",
            "Epoch: 206 Training Loss: 0.045375660 Testing Loss: 0.048536722  Training Acc: 0.986621082 Testing Acc: 0.989073575\n",
            "Epoch: 207 Training Loss: 0.047404792 Testing Loss: 0.044866268  Training Acc: 0.985742211 Testing Acc: 0.989782751\n",
            "Epoch: 208 Training Loss: 0.043841235 Testing Loss: 0.047777243  Training Acc: 0.987304688 Testing Acc: 0.989212096\n",
            "Epoch: 209 Training Loss: 0.052168399 Testing Loss: 0.046349712  Training Acc: 0.986230493 Testing Acc: 0.989627600\n",
            "Epoch: 210 Training Loss: 0.054221042 Testing Loss: 0.046890475  Training Acc: 0.984375000 Testing Acc: 0.989777207\n",
            "Epoch: 211 Training Loss: 0.078070953 Testing Loss: 0.046747740  Training Acc: 0.984375000 Testing Acc: 0.988785386\n",
            "Epoch: 212 Training Loss: 0.049818192 Testing Loss: 0.045238908  Training Acc: 0.985156238 Testing Acc: 0.989012599\n",
            "Epoch: 213 Training Loss: 0.048234720 Testing Loss: 0.043229487  Training Acc: 0.984082043 Testing Acc: 0.989777207\n",
            "Epoch: 214 Training Loss: 0.036649611 Testing Loss: 0.043933704  Training Acc: 0.989453137 Testing Acc: 0.989433706\n",
            "Epoch: 215 Training Loss: 0.039198648 Testing Loss: 0.041882522  Training Acc: 0.988183618 Testing Acc: 0.990154028\n",
            "Epoch: 216 Training Loss: 0.046999436 Testing Loss: 0.042525232  Training Acc: 0.987207055 Testing Acc: 0.989838183\n",
            "Epoch: 217 Training Loss: 0.045027062 Testing Loss: 0.046050373  Training Acc: 0.987597644 Testing Acc: 0.989178836\n",
            "Epoch: 218 Training Loss: 0.034124892 Testing Loss: 0.043222550  Training Acc: 0.989648461 Testing Acc: 0.990142941\n",
            "Epoch: 219 Training Loss: 0.035314914 Testing Loss: 0.041533049  Training Acc: 0.989648461 Testing Acc: 0.990447640\n",
            "Epoch: 220 Training Loss: 0.042933792 Testing Loss: 0.042402275  Training Acc: 0.990625024 Testing Acc: 0.990109682\n",
            "Epoch: 221 Training Loss: 0.034170780 Testing Loss: 0.046176184  Training Acc: 0.990136743 Testing Acc: 0.989633143\n",
            "Epoch: 222 Training Loss: 0.032339972 Testing Loss: 0.042970162  Training Acc: 0.990820348 Testing Acc: 0.989943445\n",
            "Epoch: 223 Training Loss: 0.063741848 Testing Loss: 0.045824394  Training Acc: 0.985546887 Testing Acc: 0.989450276\n",
            "Epoch: 224 Training Loss: 0.051828682 Testing Loss: 0.049565706  Training Acc: 0.985449255 Testing Acc: 0.989101231\n",
            "Epoch: 225 Training Loss: 0.101896264 Testing Loss: 0.054330025  Training Acc: 0.981933594 Testing Acc: 0.988342166\n",
            "Epoch: 226 Training Loss: 0.070790410 Testing Loss: 0.051022232  Training Acc: 0.978613317 Testing Acc: 0.988231361\n",
            "Epoch: 227 Training Loss: 0.046554122 Testing Loss: 0.047035523  Training Acc: 0.985156238 Testing Acc: 0.989018142\n",
            "Epoch: 228 Training Loss: 0.038530473 Testing Loss: 0.045232367  Training Acc: 0.989648461 Testing Acc: 0.989378273\n",
            "Epoch: 229 Training Loss: 0.047158677 Testing Loss: 0.045842063  Training Acc: 0.986328125 Testing Acc: 0.989295185\n",
            "Epoch: 230 Training Loss: 0.034680076 Testing Loss: 0.044813529  Training Acc: 0.990527332 Testing Acc: 0.989278555\n",
            "Epoch: 231 Training Loss: 0.034572743 Testing Loss: 0.047592241  Training Acc: 0.990917981 Testing Acc: 0.988984883\n",
            "Epoch: 232 Training Loss: 0.037015695 Testing Loss: 0.049246754  Training Acc: 0.989257812 Testing Acc: 0.988364339\n",
            "Epoch: 233 Training Loss: 0.031014949 Testing Loss: 0.045051970  Training Acc: 0.990234375 Testing Acc: 0.989544511\n",
            "Epoch: 234 Training Loss: 0.033350877 Testing Loss: 0.045448344  Training Acc: 0.990527332 Testing Acc: 0.989466906\n",
            "Epoch: 235 Training Loss: 0.049587429 Testing Loss: 0.044337340  Training Acc: 0.988281250 Testing Acc: 0.989749491\n",
            "Epoch: 236 Training Loss: 0.052809924 Testing Loss: 0.051620286  Training Acc: 0.986425817 Testing Acc: 0.988187015\n",
            "Epoch: 237 Training Loss: 0.043217611 Testing Loss: 0.047272235  Training Acc: 0.988378942 Testing Acc: 0.988940597\n",
            "Epoch: 238 Training Loss: 0.051354993 Testing Loss: 0.047767960  Training Acc: 0.987304688 Testing Acc: 0.989162207\n",
            "Epoch: 239 Training Loss: 0.044705655 Testing Loss: 0.043901671  Training Acc: 0.986621082 Testing Acc: 0.989350557\n",
            "Epoch: 240 Training Loss: 0.041986279 Testing Loss: 0.044759661  Training Acc: 0.986328125 Testing Acc: 0.989228666\n",
            "Epoch: 241 Training Loss: 0.038760234 Testing Loss: 0.047795575  Training Acc: 0.988574207 Testing Acc: 0.988929510\n",
            "Epoch: 242 Training Loss: 0.062968455 Testing Loss: 0.047408875  Training Acc: 0.985644519 Testing Acc: 0.988934994\n",
            "Epoch: 243 Training Loss: 0.038445067 Testing Loss: 0.045955282  Training Acc: 0.989160180 Testing Acc: 0.989300728\n",
            "Epoch: 244 Training Loss: 0.033010941 Testing Loss: 0.044195488  Training Acc: 0.990820348 Testing Acc: 0.989793837\n",
            "Epoch: 245 Training Loss: 0.039515991 Testing Loss: 0.046822637  Training Acc: 0.990234375 Testing Acc: 0.989483535\n",
            "Epoch: 246 Training Loss: 0.037713103 Testing Loss: 0.046317134  Training Acc: 0.990722656 Testing Acc: 0.989466906\n",
            "Epoch: 247 Training Loss: 0.041123487 Testing Loss: 0.047724225  Training Acc: 0.987695336 Testing Acc: 0.989267468\n",
            "Epoch: 248 Training Loss: 0.039802611 Testing Loss: 0.050053135  Training Acc: 0.989062488 Testing Acc: 0.988569319\n",
            "Epoch: 249 Training Loss: 0.038562987 Testing Loss: 0.046644550  Training Acc: 0.988378942 Testing Acc: 0.988923967\n",
            "Epoch: 250 Training Loss: 0.056009252 Testing Loss: 0.049286619  Training Acc: 0.990136743 Testing Acc: 0.988879621\n",
            "Epoch: 251 Training Loss: 0.054270107 Testing Loss: 0.050522003  Training Acc: 0.986718774 Testing Acc: 0.988907337\n",
            "Epoch: 252 Training Loss: 0.037530079 Testing Loss: 0.047033738  Training Acc: 0.989746094 Testing Acc: 0.989417076\n",
            "Epoch: 253 Training Loss: 0.030826336 Testing Loss: 0.044860866  Training Acc: 0.991699219 Testing Acc: 0.989777207\n",
            "Epoch: 254 Training Loss: 0.032422286 Testing Loss: 0.045292974  Training Acc: 0.990917981 Testing Acc: 0.989804983\n",
            "Epoch: 255 Training Loss: 0.031401683 Testing Loss: 0.044396844  Training Acc: 0.991210938 Testing Acc: 0.989943445\n",
            "Epoch: 256 Training Loss: 0.033205535 Testing Loss: 0.048659470  Training Acc: 0.990332067 Testing Acc: 0.989649773\n",
            "Epoch: 257 Training Loss: 0.050920565 Testing Loss: 0.048867282  Training Acc: 0.987695336 Testing Acc: 0.989433706\n",
            "Epoch: 258 Training Loss: 0.042730913 Testing Loss: 0.047961667  Training Acc: 0.988476574 Testing Acc: 0.989079118\n",
            "Epoch: 259 Training Loss: 0.034416284 Testing Loss: 0.043779671  Training Acc: 0.988281250 Testing Acc: 0.989882469\n",
            "Epoch: 260 Training Loss: 0.029981960 Testing Loss: 0.044069830  Training Acc: 0.991406262 Testing Acc: 0.989943445\n",
            "Epoch: 261 Training Loss: 0.039168287 Testing Loss: 0.044896699  Training Acc: 0.991015613 Testing Acc: 0.989716232\n",
            "Epoch: 262 Training Loss: 0.032376599 Testing Loss: 0.041642435  Training Acc: 0.990917981 Testing Acc: 0.990093052\n",
            "Epoch: 263 Training Loss: 0.030507222 Testing Loss: 0.043697182  Training Acc: 0.988964856 Testing Acc: 0.989915729\n",
            "Epoch: 264 Training Loss: 0.037834067 Testing Loss: 0.043493725  Training Acc: 0.988671899 Testing Acc: 0.990015447\n",
            "Epoch: 265 Training Loss: 0.028024351 Testing Loss: 0.042806186  Training Acc: 0.992285192 Testing Acc: 0.990198314\n",
            "Epoch: 266 Training Loss: 0.035512608 Testing Loss: 0.041876055  Training Acc: 0.990332067 Testing Acc: 0.990259290\n",
            "Epoch: 267 Training Loss: 0.033438932 Testing Loss: 0.046399776  Training Acc: 0.989941418 Testing Acc: 0.989433706\n",
            "Epoch: 268 Training Loss: 0.027924553 Testing Loss: 0.043359905  Training Acc: 0.991894543 Testing Acc: 0.990259290\n",
            "Epoch: 269 Training Loss: 0.030503953 Testing Loss: 0.043346066  Training Acc: 0.992285192 Testing Acc: 0.989937961\n",
            "Epoch: 270 Training Loss: 0.026326319 Testing Loss: 0.045466356  Training Acc: 0.991894543 Testing Acc: 0.990181684\n",
            "Epoch: 271 Training Loss: 0.024919556 Testing Loss: 0.043924741  Training Acc: 0.993066430 Testing Acc: 0.990397751\n",
            "Epoch: 272 Training Loss: 0.026368160 Testing Loss: 0.041749913  Training Acc: 0.992675781 Testing Acc: 0.990741313\n",
            "Epoch: 273 Training Loss: 0.037145834 Testing Loss: 0.045382105  Training Acc: 0.992187500 Testing Acc: 0.990115166\n",
            "Epoch: 274 Training Loss: 0.040616218 Testing Loss: 0.044539385  Training Acc: 0.988671899 Testing Acc: 0.990214944\n",
            "Epoch: 275 Training Loss: 0.051796924 Testing Loss: 0.046467043  Training Acc: 0.986035168 Testing Acc: 0.989937961\n",
            "Epoch: 276 Training Loss: 0.049743097 Testing Loss: 0.049833164  Training Acc: 0.984765649 Testing Acc: 0.988929510\n",
            "Epoch: 277 Training Loss: 0.039813288 Testing Loss: 0.044734973  Training Acc: 0.988867223 Testing Acc: 0.989694118\n",
            "Epoch: 278 Training Loss: 0.036591347 Testing Loss: 0.045144986  Training Acc: 0.990625024 Testing Acc: 0.989710748\n",
            "Epoch: 279 Training Loss: 0.030186722 Testing Loss: 0.044534378  Training Acc: 0.989746094 Testing Acc: 0.989566684\n",
            "Epoch: 280 Training Loss: 0.056180645 Testing Loss: 0.045161903  Training Acc: 0.987792969 Testing Acc: 0.989976704\n",
            "Epoch: 281 Training Loss: 0.044735014 Testing Loss: 0.044501312  Training Acc: 0.987207055 Testing Acc: 0.989450276\n",
            "Epoch: 282 Training Loss: 0.039666973 Testing Loss: 0.040898826  Training Acc: 0.988085926 Testing Acc: 0.990309119\n",
            "Epoch: 283 Training Loss: 0.028313179 Testing Loss: 0.042525820  Training Acc: 0.992382824 Testing Acc: 0.990320265\n",
            "Epoch: 284 Training Loss: 0.030573368 Testing Loss: 0.040726546  Training Acc: 0.991601586 Testing Acc: 0.990890920\n",
            "Epoch: 285 Training Loss: 0.034294382 Testing Loss: 0.041362550  Training Acc: 0.988769531 Testing Acc: 0.990708053\n",
            "Epoch: 286 Training Loss: 0.033220496 Testing Loss: 0.039861348  Training Acc: 0.990234375 Testing Acc: 0.990990639\n",
            "Epoch: 287 Training Loss: 0.030719224 Testing Loss: 0.041296013  Training Acc: 0.992187500 Testing Acc: 0.990541875\n",
            "Epoch: 288 Training Loss: 0.027101194 Testing Loss: 0.041189104  Training Acc: 0.993359387 Testing Acc: 0.990708053\n",
            "Epoch: 289 Training Loss: 0.027812088 Testing Loss: 0.041999232  Training Acc: 0.992480457 Testing Acc: 0.990408897\n",
            "Epoch: 290 Training Loss: 0.030843114 Testing Loss: 0.043337263  Training Acc: 0.990527332 Testing Acc: 0.990580618\n",
            "Epoch: 291 Training Loss: 0.022290679 Testing Loss: 0.044797901  Training Acc: 0.993359387 Testing Acc: 0.990342379\n",
            "Epoch: 292 Training Loss: 0.028589973 Testing Loss: 0.043004759  Training Acc: 0.992871106 Testing Acc: 0.990813315\n",
            "Epoch: 293 Training Loss: 0.026170397 Testing Loss: 0.042868514  Training Acc: 0.992871106 Testing Acc: 0.990796685\n",
            "Epoch: 294 Training Loss: 0.029144218 Testing Loss: 0.045116752  Training Acc: 0.990917981 Testing Acc: 0.990176141\n",
            "Epoch: 295 Training Loss: 0.034131002 Testing Loss: 0.044275705  Training Acc: 0.990625024 Testing Acc: 0.990658224\n",
            "Epoch: 296 Training Loss: 0.042130049 Testing Loss: 0.042371955  Training Acc: 0.989843786 Testing Acc: 0.990696967\n",
            "Epoch: 297 Training Loss: 0.071032040 Testing Loss: 0.049168520  Training Acc: 0.985351562 Testing Acc: 0.989317298\n",
            "Epoch: 298 Training Loss: 0.075607508 Testing Loss: 0.049238492  Training Acc: 0.981445312 Testing Acc: 0.989045858\n",
            "Epoch: 299 Training Loss: 0.055220392 Testing Loss: 0.052083623  Training Acc: 0.984765649 Testing Acc: 0.988103867\n",
            "Epoch: 300 Training Loss: 0.039700489 Testing Loss: 0.045804296  Training Acc: 0.989062488 Testing Acc: 0.989317298\n",
            "Epoch: 301 Training Loss: 0.031011391 Testing Loss: 0.044368438  Training Acc: 0.990039051 Testing Acc: 0.989611030\n",
            "Epoch: 302 Training Loss: 0.030849529 Testing Loss: 0.048329022  Training Acc: 0.991113305 Testing Acc: 0.989195466\n",
            "Epoch: 303 Training Loss: 0.046918932 Testing Loss: 0.045214590  Training Acc: 0.989160180 Testing Acc: 0.989672005\n",
            "Epoch: 304 Training Loss: 0.090314977 Testing Loss: 0.049769741  Training Acc: 0.982714832 Testing Acc: 0.988674641\n",
            "Epoch: 305 Training Loss: 0.069308631 Testing Loss: 0.047523212  Training Acc: 0.980078161 Testing Acc: 0.988685668\n",
            "Epoch: 306 Training Loss: 0.049458820 Testing Loss: 0.045657925  Training Acc: 0.984277368 Testing Acc: 0.989151120\n",
            "Epoch: 307 Training Loss: 0.048038185 Testing Loss: 0.041951690  Training Acc: 0.985351562 Testing Acc: 0.989993334\n",
            "Epoch: 308 Training Loss: 0.050207209 Testing Loss: 0.042252537  Training Acc: 0.985742211 Testing Acc: 0.990048707\n",
            "Epoch: 309 Training Loss: 0.057849593 Testing Loss: 0.043885082  Training Acc: 0.986230493 Testing Acc: 0.989511251\n",
            "Epoch: 310 Training Loss: 0.035639010 Testing Loss: 0.043732781  Training Acc: 0.987890661 Testing Acc: 0.989583254\n",
            "Epoch: 311 Training Loss: 0.031384859 Testing Loss: 0.042309564  Training Acc: 0.989941418 Testing Acc: 0.989932358\n",
            "Epoch: 312 Training Loss: 0.036656108 Testing Loss: 0.043813162  Training Acc: 0.988769531 Testing Acc: 0.989793837\n",
            "Epoch: 313 Training Loss: 0.048761848 Testing Loss: 0.046295062  Training Acc: 0.989648461 Testing Acc: 0.989328444\n",
            "Epoch: 314 Training Loss: 0.039998200 Testing Loss: 0.044915967  Training Acc: 0.987304688 Testing Acc: 0.989450276\n",
            "Epoch: 315 Training Loss: 0.042195197 Testing Loss: 0.042879786  Training Acc: 0.986328125 Testing Acc: 0.990104139\n",
            "Epoch: 316 Training Loss: 0.047278553 Testing Loss: 0.047929093  Training Acc: 0.985449255 Testing Acc: 0.988552690\n",
            "Epoch: 317 Training Loss: 0.037322264 Testing Loss: 0.044521119  Training Acc: 0.988476574 Testing Acc: 0.989439249\n",
            "Epoch: 318 Training Loss: 0.040191468 Testing Loss: 0.041122090  Training Acc: 0.987988293 Testing Acc: 0.989943445\n",
            "Epoch: 319 Training Loss: 0.033801123 Testing Loss: 0.044724856  Training Acc: 0.990722656 Testing Acc: 0.989527881\n",
            "Epoch: 320 Training Loss: 0.027387952 Testing Loss: 0.045032956  Training Acc: 0.991894543 Testing Acc: 0.989910185\n",
            "Epoch: 321 Training Loss: 0.030388096 Testing Loss: 0.044112828  Training Acc: 0.991601586 Testing Acc: 0.990009964\n",
            "Epoch: 322 Training Loss: 0.036967404 Testing Loss: 0.045998268  Training Acc: 0.990820348 Testing Acc: 0.989727378\n",
            "Epoch: 323 Training Loss: 0.045621175 Testing Loss: 0.045375701  Training Acc: 0.991113305 Testing Acc: 0.989932358\n",
            "Epoch: 324 Training Loss: 0.035905622 Testing Loss: 0.048528478  Training Acc: 0.990332067 Testing Acc: 0.989561141\n",
            "Epoch: 325 Training Loss: 0.037634984 Testing Loss: 0.047294009  Training Acc: 0.987500012 Testing Acc: 0.989599884\n",
            "Epoch: 326 Training Loss: 0.035690501 Testing Loss: 0.049012221  Training Acc: 0.988574207 Testing Acc: 0.989594400\n",
            "Epoch: 327 Training Loss: 0.060838580 Testing Loss: 0.050630804  Training Acc: 0.986523449 Testing Acc: 0.989162207\n",
            "Epoch: 328 Training Loss: 0.046460297 Testing Loss: 0.053878319  Training Acc: 0.985644519 Testing Acc: 0.988281190\n",
            "Epoch: 329 Training Loss: 0.038642518 Testing Loss: 0.050670821  Training Acc: 0.988671899 Testing Acc: 0.988862991\n",
            "Epoch: 330 Training Loss: 0.029452665 Testing Loss: 0.048447199  Training Acc: 0.990722656 Testing Acc: 0.989261925\n",
            "Epoch: 331 Training Loss: 0.032096885 Testing Loss: 0.046059206  Training Acc: 0.990917981 Testing Acc: 0.989727378\n",
            "Epoch: 332 Training Loss: 0.032261614 Testing Loss: 0.048310541  Training Acc: 0.990332067 Testing Acc: 0.989300728\n",
            "Epoch: 333 Training Loss: 0.027927205 Testing Loss: 0.046101622  Training Acc: 0.991015613 Testing Acc: 0.990026593\n",
            "Epoch: 334 Training Loss: 0.029989153 Testing Loss: 0.045573931  Training Acc: 0.991796911 Testing Acc: 0.989744008\n",
            "Epoch: 335 Training Loss: 0.023698030 Testing Loss: 0.044397540  Training Acc: 0.993261755 Testing Acc: 0.990115166\n",
            "Epoch: 336 Training Loss: 0.101102889 Testing Loss: 0.046706162  Training Acc: 0.986621082 Testing Acc: 0.989721835\n",
            "Epoch: 337 Training Loss: 0.058793988 Testing Loss: 0.048128452  Training Acc: 0.984082043 Testing Acc: 0.988934994\n",
            "Epoch: 338 Training Loss: 0.050502308 Testing Loss: 0.043168951  Training Acc: 0.984082043 Testing Acc: 0.989577770\n",
            "Epoch: 339 Training Loss: 0.037232816 Testing Loss: 0.044656452  Training Acc: 0.989648461 Testing Acc: 0.989345074\n",
            "Epoch: 340 Training Loss: 0.047512047 Testing Loss: 0.046177350  Training Acc: 0.988964856 Testing Acc: 0.989466906\n",
            "Epoch: 341 Training Loss: 0.063354604 Testing Loss: 0.049775884  Training Acc: 0.987597644 Testing Acc: 0.988680184\n",
            "Epoch: 342 Training Loss: 0.040618166 Testing Loss: 0.050027762  Training Acc: 0.985742211 Testing Acc: 0.988718927\n",
            "Epoch: 343 Training Loss: 0.047409043 Testing Loss: 0.049009629  Training Acc: 0.986132801 Testing Acc: 0.989012599\n",
            "Epoch: 344 Training Loss: 0.035502836 Testing Loss: 0.045280941  Training Acc: 0.990039051 Testing Acc: 0.989760578\n",
            "Epoch: 345 Training Loss: 0.029505143 Testing Loss: 0.044641234  Training Acc: 0.991015613 Testing Acc: 0.990048707\n",
            "Epoch: 346 Training Loss: 0.068798266 Testing Loss: 0.043059681  Training Acc: 0.986328125 Testing Acc: 0.990165055\n",
            "Epoch: 347 Training Loss: 0.041627031 Testing Loss: 0.043774944  Training Acc: 0.988671899 Testing Acc: 0.989993334\n",
            "Epoch: 348 Training Loss: 0.033442996 Testing Loss: 0.043552753  Training Acc: 0.989550769 Testing Acc: 0.989766121\n",
            "Epoch: 349 Training Loss: 0.032635689 Testing Loss: 0.044601899  Training Acc: 0.992285192 Testing Acc: 0.989827096\n",
            "Epoch: 350 Training Loss: 0.033799086 Testing Loss: 0.043397129  Training Acc: 0.991113305 Testing Acc: 0.990115166\n",
            "Epoch: 351 Training Loss: 0.029155189 Testing Loss: 0.042994983  Training Acc: 0.991015613 Testing Acc: 0.990209401\n",
            "Epoch: 352 Training Loss: 0.023808395 Testing Loss: 0.044378951  Training Acc: 0.993945301 Testing Acc: 0.990093052\n",
            "Epoch: 353 Training Loss: 0.021712888 Testing Loss: 0.042895388  Training Acc: 0.993554711 Testing Acc: 0.990497530\n",
            "Epoch: 354 Training Loss: 0.023740463 Testing Loss: 0.044651754  Training Acc: 0.992871106 Testing Acc: 0.990237117\n",
            "Epoch: 355 Training Loss: 0.026686952 Testing Loss: 0.043751899  Training Acc: 0.992968738 Testing Acc: 0.990453243\n",
            "Epoch: 356 Training Loss: 0.022718590 Testing Loss: 0.044562619  Training Acc: 0.993066430 Testing Acc: 0.990259290\n",
            "Epoch: 357 Training Loss: 0.027040457 Testing Loss: 0.044542655  Training Acc: 0.991894543 Testing Acc: 0.990142941\n",
            "Epoch: 358 Training Loss: 0.028308479 Testing Loss: 0.041788880  Training Acc: 0.990625024 Testing Acc: 0.991129160\n",
            "Epoch: 359 Training Loss: 0.027118152 Testing Loss: 0.043833066  Training Acc: 0.991699219 Testing Acc: 0.990458727\n",
            "Epoch: 360 Training Loss: 0.023731107 Testing Loss: 0.044999909  Training Acc: 0.993261755 Testing Acc: 0.990048707\n",
            "Epoch: 361 Training Loss: 0.022928445 Testing Loss: 0.045693811  Training Acc: 0.993359387 Testing Acc: 0.990336895\n",
            "Epoch: 362 Training Loss: 0.027180249 Testing Loss: 0.043604832  Training Acc: 0.991992176 Testing Acc: 0.990630507\n",
            "Epoch: 363 Training Loss: 0.023219999 Testing Loss: 0.044034295  Training Acc: 0.991503894 Testing Acc: 0.990336895\n",
            "Epoch: 364 Training Loss: 0.028333917 Testing Loss: 0.043840036  Training Acc: 0.990722656 Testing Acc: 0.990563989\n",
            "Epoch: 365 Training Loss: 0.026883477 Testing Loss: 0.046944506  Training Acc: 0.989941418 Testing Acc: 0.990325749\n",
            "Epoch: 366 Training Loss: 0.041832268 Testing Loss: 0.048280217  Training Acc: 0.987597644 Testing Acc: 0.990059793\n",
            "Epoch: 367 Training Loss: 0.039013293 Testing Loss: 0.047494851  Training Acc: 0.988671899 Testing Acc: 0.989633143\n",
            "Epoch: 368 Training Loss: 0.031483687 Testing Loss: 0.045454372  Training Acc: 0.992187500 Testing Acc: 0.989932358\n",
            "Epoch: 369 Training Loss: 0.023513747 Testing Loss: 0.044634320  Training Acc: 0.993457019 Testing Acc: 0.990347922\n",
            "Epoch: 370 Training Loss: 0.024513654 Testing Loss: 0.045958698  Training Acc: 0.993261755 Testing Acc: 0.990314662\n",
            "Epoch: 371 Training Loss: 0.028632153 Testing Loss: 0.048673175  Training Acc: 0.991894543 Testing Acc: 0.989782751\n",
            "Epoch: 372 Training Loss: 0.024219537 Testing Loss: 0.049192458  Training Acc: 0.993164062 Testing Acc: 0.989433706\n",
            "Epoch: 373 Training Loss: 0.023493271 Testing Loss: 0.046600513  Training Acc: 0.993164062 Testing Acc: 0.990026593\n",
            "Epoch: 374 Training Loss: 0.028277982 Testing Loss: 0.045777295  Training Acc: 0.990527332 Testing Acc: 0.990181684\n",
            "Epoch: 375 Training Loss: 0.038169891 Testing Loss: 0.048463922  Training Acc: 0.990820348 Testing Acc: 0.990115166\n",
            "Epoch: 376 Training Loss: 0.037262183 Testing Loss: 0.047554389  Training Acc: 0.987988293 Testing Acc: 0.990226030\n",
            "Epoch: 377 Training Loss: 0.029267151 Testing Loss: 0.048549440  Training Acc: 0.990917981 Testing Acc: 0.989827096\n",
            "Epoch: 378 Training Loss: 0.029991928 Testing Loss: 0.043770913  Training Acc: 0.991210938 Testing Acc: 0.990658224\n",
            "Epoch: 379 Training Loss: 0.025286010 Testing Loss: 0.042837594  Training Acc: 0.993261755 Testing Acc: 0.990281403\n",
            "Epoch: 380 Training Loss: 0.023145763 Testing Loss: 0.045790043  Training Acc: 0.993261755 Testing Acc: 0.990325749\n",
            "Epoch: 381 Training Loss: 0.028859768 Testing Loss: 0.045017023  Training Acc: 0.991601586 Testing Acc: 0.990503073\n",
            "Epoch: 382 Training Loss: 0.030224001 Testing Loss: 0.046785746  Training Acc: 0.992773473 Testing Acc: 0.990015447\n",
            "Epoch: 383 Training Loss: 0.031196758 Testing Loss: 0.047525615  Training Acc: 0.990039051 Testing Acc: 0.989849210\n",
            "Epoch: 384 Training Loss: 0.032898735 Testing Loss: 0.046836313  Training Acc: 0.990820348 Testing Acc: 0.990048707\n",
            "Epoch: 385 Training Loss: 0.028619392 Testing Loss: 0.052818485  Training Acc: 0.991992176 Testing Acc: 0.989300728\n",
            "Epoch: 386 Training Loss: 0.046370622 Testing Loss: 0.046785299  Training Acc: 0.989453137 Testing Acc: 0.990170658\n",
            "Epoch: 387 Training Loss: 0.042644415 Testing Loss: 0.048186183  Training Acc: 0.987402380 Testing Acc: 0.989511251\n",
            "Epoch: 388 Training Loss: 0.030252485 Testing Loss: 0.045371473  Training Acc: 0.991406262 Testing Acc: 0.990059793\n",
            "Epoch: 389 Training Loss: 0.033901513 Testing Loss: 0.043507010  Training Acc: 0.988476574 Testing Acc: 0.990491986\n",
            "Epoch: 390 Training Loss: 0.026526162 Testing Loss: 0.046983287  Training Acc: 0.990234375 Testing Acc: 0.990015447\n",
            "Epoch: 391 Training Loss: 0.025885392 Testing Loss: 0.045588642  Training Acc: 0.992089868 Testing Acc: 0.990021050\n",
            "Epoch: 392 Training Loss: 0.021046726 Testing Loss: 0.048407651  Training Acc: 0.994433582 Testing Acc: 0.989732862\n",
            "Epoch: 393 Training Loss: 0.026620148 Testing Loss: 0.045473423  Training Acc: 0.993261755 Testing Acc: 0.990115166\n",
            "Epoch: 394 Training Loss: 0.024886159 Testing Loss: 0.045993231  Training Acc: 0.994042993 Testing Acc: 0.990541875\n",
            "Epoch: 395 Training Loss: 0.024101470 Testing Loss: 0.044182692  Training Acc: 0.991601586 Testing Acc: 0.990647137\n",
            "Epoch: 396 Training Loss: 0.023866806 Testing Loss: 0.047733687  Training Acc: 0.993261755 Testing Acc: 0.990342379\n",
            "Epoch: 397 Training Loss: 0.022681063 Testing Loss: 0.047238052  Training Acc: 0.992968738 Testing Acc: 0.990491986\n",
            "Epoch: 398 Training Loss: 0.023518527 Testing Loss: 0.047453780  Training Acc: 0.993652344 Testing Acc: 0.990048707\n",
            "Epoch: 399 Training Loss: 0.024579428 Testing Loss: 0.047941856  Training Acc: 0.992382824 Testing Acc: 0.990226030\n",
            "Epoch: 400 Training Loss: 0.032200512 Testing Loss: 0.051099695  Training Acc: 0.991015613 Testing Acc: 0.989633143\n",
            "Epoch: 401 Training Loss: 0.019526942 Testing Loss: 0.045554891  Training Acc: 0.993652344 Testing Acc: 0.990248203\n",
            "Epoch: 402 Training Loss: 0.029487198 Testing Loss: 0.047233414  Training Acc: 0.992089868 Testing Acc: 0.990309119\n",
            "Epoch: 403 Training Loss: 0.049769767 Testing Loss: 0.055786576  Training Acc: 0.989453137 Testing Acc: 0.988724530\n",
            "Epoch: 404 Training Loss: 0.032631781 Testing Loss: 0.048080925  Training Acc: 0.990820348 Testing Acc: 0.989605486\n",
            "Epoch: 405 Training Loss: 0.022533910 Testing Loss: 0.046583012  Training Acc: 0.993652344 Testing Acc: 0.989793837\n",
            "Epoch: 406 Training Loss: 0.030495733 Testing Loss: 0.047317203  Training Acc: 0.991992176 Testing Acc: 0.989804983\n",
            "Epoch: 407 Training Loss: 0.037607908 Testing Loss: 0.055001035  Training Acc: 0.990234375 Testing Acc: 0.988286734\n",
            "Epoch: 408 Training Loss: 0.094431795 Testing Loss: 0.048489939  Training Acc: 0.985253930 Testing Acc: 0.989433706\n",
            "Epoch: 409 Training Loss: 0.053135391 Testing Loss: 0.045897506  Training Acc: 0.985644519 Testing Acc: 0.989278555\n",
            "Epoch: 410 Training Loss: 0.029860398 Testing Loss: 0.047244694  Training Acc: 0.990625024 Testing Acc: 0.989217579\n",
            "Epoch: 411 Training Loss: 0.035598408 Testing Loss: 0.043727409  Training Acc: 0.988671899 Testing Acc: 0.990081966\n",
            "Epoch: 412 Training Loss: 0.026414385 Testing Loss: 0.044743408  Training Acc: 0.991113305 Testing Acc: 0.989522398\n",
            "Epoch: 413 Training Loss: 0.041628238 Testing Loss: 0.045167707  Training Acc: 0.989550769 Testing Acc: 0.989660859\n",
            "Epoch: 414 Training Loss: 0.030458996 Testing Loss: 0.042987075  Training Acc: 0.990917981 Testing Acc: 0.990359008\n",
            "Epoch: 415 Training Loss: 0.045289516 Testing Loss: 0.047263134  Training Acc: 0.988964856 Testing Acc: 0.989278555\n",
            "Epoch: 416 Training Loss: 0.046685923 Testing Loss: 0.045083940  Training Acc: 0.986425817 Testing Acc: 0.989666402\n",
            "Epoch: 417 Training Loss: 0.036607374 Testing Loss: 0.047354151  Training Acc: 0.989550769 Testing Acc: 0.989455879\n",
            "Epoch: 418 Training Loss: 0.029164655 Testing Loss: 0.045155887  Training Acc: 0.991210938 Testing Acc: 0.989982188\n",
            "Epoch: 419 Training Loss: 0.030129910 Testing Loss: 0.046798248  Training Acc: 0.991210938 Testing Acc: 0.989611030\n",
            "Epoch: 420 Training Loss: 0.025573401 Testing Loss: 0.050505735  Training Acc: 0.991992176 Testing Acc: 0.988907337\n",
            "Epoch: 421 Training Loss: 0.024103871 Testing Loss: 0.048794176  Training Acc: 0.992968738 Testing Acc: 0.989339530\n",
            "Epoch: 422 Training Loss: 0.029680926 Testing Loss: 0.047462940  Training Acc: 0.991308630 Testing Acc: 0.989505768\n",
            "Epoch: 423 Training Loss: 0.026787398 Testing Loss: 0.047676198  Training Acc: 0.991992176 Testing Acc: 0.989450276\n",
            "Epoch: 424 Training Loss: 0.028394917 Testing Loss: 0.048047338  Training Acc: 0.991308630 Testing Acc: 0.989810467\n",
            "Epoch: 425 Training Loss: 0.030275205 Testing Loss: 0.046983574  Training Acc: 0.990625024 Testing Acc: 0.990192771\n",
            "Epoch: 426 Training Loss: 0.029781425 Testing Loss: 0.044937726  Training Acc: 0.991406262 Testing Acc: 0.990298033\n",
            "Epoch: 427 Training Loss: 0.035621442 Testing Loss: 0.043769907  Training Acc: 0.989843786 Testing Acc: 0.990497530\n",
            "Epoch: 428 Training Loss: 0.028027615 Testing Loss: 0.046276815  Training Acc: 0.992773473 Testing Acc: 0.990093052\n",
            "Epoch: 429 Training Loss: 0.028731501 Testing Loss: 0.044316225  Training Acc: 0.991601586 Testing Acc: 0.990275919\n",
            "Epoch: 430 Training Loss: 0.022910183 Testing Loss: 0.046147168  Training Acc: 0.993652344 Testing Acc: 0.990176141\n",
            "Epoch: 431 Training Loss: 0.020958772 Testing Loss: 0.047570344  Training Acc: 0.993457019 Testing Acc: 0.989915729\n",
            "Epoch: 432 Training Loss: 0.023242855 Testing Loss: 0.043975025  Training Acc: 0.992968738 Testing Acc: 0.990619421\n",
            "Epoch: 433 Training Loss: 0.022393694 Testing Loss: 0.047188420  Training Acc: 0.992578149 Testing Acc: 0.989893615\n",
            "Epoch: 434 Training Loss: 0.024108853 Testing Loss: 0.044861630  Training Acc: 0.993164062 Testing Acc: 0.990658224\n",
            "Epoch: 435 Training Loss: 0.022570850 Testing Loss: 0.046524376  Training Acc: 0.993457019 Testing Acc: 0.990359008\n",
            "Epoch: 436 Training Loss: 0.016217461 Testing Loss: 0.048651140  Training Acc: 0.995117188 Testing Acc: 0.990325749\n",
            "Epoch: 437 Training Loss: 0.019951789 Testing Loss: 0.049860228  Training Acc: 0.994824231 Testing Acc: 0.989976704\n",
            "Epoch: 438 Training Loss: 0.019525031 Testing Loss: 0.047684316  Training Acc: 0.994335949 Testing Acc: 0.990503073\n",
            "Epoch: 439 Training Loss: 0.028866071 Testing Loss: 0.044747904  Training Acc: 0.989746094 Testing Acc: 0.991046071\n",
            "Epoch: 440 Training Loss: 0.031157557 Testing Loss: 0.048869144  Training Acc: 0.991406262 Testing Acc: 0.989677489\n",
            "Epoch: 441 Training Loss: 0.023266053 Testing Loss: 0.046246644  Training Acc: 0.992871106 Testing Acc: 0.990214944\n",
            "Epoch: 442 Training Loss: 0.022394894 Testing Loss: 0.044332512  Training Acc: 0.992871106 Testing Acc: 0.990957439\n",
            "Epoch: 443 Training Loss: 0.022996580 Testing Loss: 0.045615163  Training Acc: 0.993359387 Testing Acc: 0.990575075\n",
            "Epoch: 444 Training Loss: 0.019096356 Testing Loss: 0.045215301  Training Acc: 0.994335949 Testing Acc: 0.990575075\n",
            "Epoch: 445 Training Loss: 0.023036469 Testing Loss: 0.045591872  Training Acc: 0.991699219 Testing Acc: 0.990514159\n",
            "Epoch: 446 Training Loss: 0.023310518 Testing Loss: 0.050038256  Training Acc: 0.993066430 Testing Acc: 0.989810467\n",
            "Epoch: 447 Training Loss: 0.033096712 Testing Loss: 0.046521869  Training Acc: 0.989453137 Testing Acc: 0.990757942\n",
            "Epoch: 448 Training Loss: 0.023158437 Testing Loss: 0.048388433  Training Acc: 0.992871106 Testing Acc: 0.990098596\n",
            "Epoch: 449 Training Loss: 0.021927705 Testing Loss: 0.045974627  Training Acc: 0.994335949 Testing Acc: 0.990458727\n",
            "Epoch: 450 Training Loss: 0.020221738 Testing Loss: 0.045657340  Training Acc: 0.993554711 Testing Acc: 0.990752399\n",
            "Epoch: 451 Training Loss: 0.019789623 Testing Loss: 0.045190796  Training Acc: 0.994921863 Testing Acc: 0.990724683\n",
            "Epoch: 452 Training Loss: 0.037849285 Testing Loss: 0.045547303  Training Acc: 0.991796911 Testing Acc: 0.990519702\n",
            "Epoch: 453 Training Loss: 0.029824350 Testing Loss: 0.047975205  Training Acc: 0.992382824 Testing Acc: 0.989960074\n",
            "Epoch: 454 Training Loss: 0.023312075 Testing Loss: 0.042606261  Training Acc: 0.992285192 Testing Acc: 0.991034985\n",
            "Epoch: 455 Training Loss: 0.019570738 Testing Loss: 0.045022100  Training Acc: 0.994140625 Testing Acc: 0.990347922\n",
            "Epoch: 456 Training Loss: 0.021342656 Testing Loss: 0.046422657  Training Acc: 0.992968738 Testing Acc: 0.990198314\n",
            "Epoch: 457 Training Loss: 0.030410767 Testing Loss: 0.047046036  Training Acc: 0.993066430 Testing Acc: 0.990558505\n",
            "Epoch: 458 Training Loss: 0.031750251 Testing Loss: 0.050401505  Training Acc: 0.991992176 Testing Acc: 0.989378273\n",
            "Epoch: 459 Training Loss: 0.047568966 Testing Loss: 0.049293708  Training Acc: 0.989355505 Testing Acc: 0.989466906\n",
            "Epoch: 460 Training Loss: 0.038770925 Testing Loss: 0.049070857  Training Acc: 0.988281250 Testing Acc: 0.989472508\n",
            "Epoch: 461 Training Loss: 0.029828046 Testing Loss: 0.047597073  Training Acc: 0.991308630 Testing Acc: 0.989688575\n",
            "Epoch: 462 Training Loss: 0.027222086 Testing Loss: 0.046465300  Training Acc: 0.991699219 Testing Acc: 0.990165055\n",
            "Epoch: 463 Training Loss: 0.024520284 Testing Loss: 0.045055594  Training Acc: 0.993261755 Testing Acc: 0.990303636\n",
            "Epoch: 464 Training Loss: 0.025121346 Testing Loss: 0.045283508  Training Acc: 0.992285192 Testing Acc: 0.990309119\n",
            "Epoch: 465 Training Loss: 0.036185961 Testing Loss: 0.047568403  Training Acc: 0.990039051 Testing Acc: 0.990004420\n",
            "Epoch: 466 Training Loss: 0.024375355 Testing Loss: 0.047529828  Training Acc: 0.991894543 Testing Acc: 0.990148425\n",
            "Epoch: 467 Training Loss: 0.027208129 Testing Loss: 0.050028089  Training Acc: 0.992285192 Testing Acc: 0.989261925\n",
            "Epoch: 468 Training Loss: 0.031584591 Testing Loss: 0.049053263  Training Acc: 0.990917981 Testing Acc: 0.989810467\n",
            "Epoch: 469 Training Loss: 0.041370720 Testing Loss: 0.048382465  Training Acc: 0.989355505 Testing Acc: 0.989788353\n",
            "Epoch: 470 Training Loss: 0.041307081 Testing Loss: 0.050990295  Training Acc: 0.989355505 Testing Acc: 0.989284098\n",
            "Epoch: 471 Training Loss: 0.030226657 Testing Loss: 0.048170250  Training Acc: 0.993164062 Testing Acc: 0.989511251\n",
            "Epoch: 472 Training Loss: 0.027658293 Testing Loss: 0.045230612  Training Acc: 0.990429699 Testing Acc: 0.990264773\n",
            "Epoch: 473 Training Loss: 0.032342490 Testing Loss: 0.048239436  Training Acc: 0.990917981 Testing Acc: 0.989744008\n",
            "Epoch: 474 Training Loss: 0.026294146 Testing Loss: 0.049267251  Training Acc: 0.993164062 Testing Acc: 0.989400446\n",
            "Epoch: 475 Training Loss: 0.024168618 Testing Loss: 0.046625581  Training Acc: 0.993554711 Testing Acc: 0.990048707\n",
            "Epoch: 476 Training Loss: 0.022036988 Testing Loss: 0.049347512  Training Acc: 0.994628906 Testing Acc: 0.990131795\n",
            "Epoch: 477 Training Loss: 0.025506154 Testing Loss: 0.046049099  Training Acc: 0.993164062 Testing Acc: 0.990591705\n",
            "Epoch: 478 Training Loss: 0.022304555 Testing Loss: 0.046027794  Training Acc: 0.993359387 Testing Acc: 0.990431011\n",
            "Epoch: 479 Training Loss: 0.022739677 Testing Loss: 0.046288148  Training Acc: 0.993554711 Testing Acc: 0.990491986\n",
            "Epoch: 480 Training Loss: 0.056204688 Testing Loss: 0.045616377  Training Acc: 0.988964856 Testing Acc: 0.990757942\n",
            "Epoch: 481 Training Loss: 0.065949209 Testing Loss: 0.050766852  Training Acc: 0.988671899 Testing Acc: 0.989744008\n",
            "Epoch: 482 Training Loss: 0.042056695 Testing Loss: 0.049332131  Training Acc: 0.988769531 Testing Acc: 0.989400446\n",
            "Epoch: 483 Training Loss: 0.036996078 Testing Loss: 0.046347413  Training Acc: 0.990039051 Testing Acc: 0.989948988\n",
            "Epoch: 484 Training Loss: 0.026712362 Testing Loss: 0.046870604  Training Acc: 0.990234375 Testing Acc: 0.989932358\n",
            "Epoch: 485 Training Loss: 0.030379578 Testing Loss: 0.045186725  Training Acc: 0.991796911 Testing Acc: 0.990287006\n",
            "Epoch: 486 Training Loss: 0.024982732 Testing Loss: 0.045094367  Training Acc: 0.992089868 Testing Acc: 0.990142941\n",
            "Epoch: 487 Training Loss: 0.030056808 Testing Loss: 0.045045812  Training Acc: 0.992187500 Testing Acc: 0.990237117\n",
            "Epoch: 488 Training Loss: 0.021385491 Testing Loss: 0.043600310  Training Acc: 0.993457019 Testing Acc: 0.990691483\n",
            "Epoch: 489 Training Loss: 0.028247893 Testing Loss: 0.042735837  Training Acc: 0.990625024 Testing Acc: 0.990868807\n",
            "Epoch: 490 Training Loss: 0.025150046 Testing Loss: 0.045390595  Training Acc: 0.992675781 Testing Acc: 0.990491986\n",
            "Epoch: 491 Training Loss: 0.026057249 Testing Loss: 0.044184748  Training Acc: 0.993066430 Testing Acc: 0.990857661\n",
            "Epoch: 492 Training Loss: 0.051936992 Testing Loss: 0.043122914  Training Acc: 0.992968738 Testing Acc: 0.990636051\n",
            "Epoch: 493 Training Loss: 0.031605087 Testing Loss: 0.046393897  Training Acc: 0.992480457 Testing Acc: 0.990314662\n",
            "Epoch: 494 Training Loss: 0.055210710 Testing Loss: 0.045271710  Training Acc: 0.985449255 Testing Acc: 0.990464270\n",
            "Epoch: 495 Training Loss: 0.034943517 Testing Loss: 0.049327001  Training Acc: 0.990917981 Testing Acc: 0.989538968\n",
            "Epoch: 496 Training Loss: 0.031957354 Testing Loss: 0.045098286  Training Acc: 0.990917981 Testing Acc: 0.990375638\n",
            "Epoch: 497 Training Loss: 0.059595168 Testing Loss: 0.046263695  Training Acc: 0.989062488 Testing Acc: 0.990314662\n",
            "Epoch: 498 Training Loss: 0.048199859 Testing Loss: 0.052243933  Training Acc: 0.986718774 Testing Acc: 0.988857508\n",
            "Epoch: 499 Training Loss: 0.038839810 Testing Loss: 0.048268672  Training Acc: 0.989453137 Testing Acc: 0.989683032\n",
            "Epoch: 500 Training Loss: 0.030981651 Testing Loss: 0.044327669  Training Acc: 0.991503894 Testing Acc: 0.990475357\n",
            "Epoch: 501 Training Loss: 0.036397636 Testing Loss: 0.046471190  Training Acc: 0.988574207 Testing Acc: 0.990248203\n",
            "Epoch: 502 Training Loss: 0.040789731 Testing Loss: 0.045453697  Training Acc: 0.990332067 Testing Acc: 0.990032077\n",
            "Epoch: 503 Training Loss: 0.028830776 Testing Loss: 0.045660391  Training Acc: 0.992187500 Testing Acc: 0.989893615\n",
            "Epoch: 504 Training Loss: 0.025883470 Testing Loss: 0.047793865  Training Acc: 0.992578149 Testing Acc: 0.989816010\n",
            "Epoch: 505 Training Loss: 0.028659323 Testing Loss: 0.042812172  Training Acc: 0.991796911 Testing Acc: 0.990641594\n",
            "Epoch: 506 Training Loss: 0.025485942 Testing Loss: 0.043016408  Training Acc: 0.992773473 Testing Acc: 0.990641594\n",
            "Epoch: 507 Training Loss: 0.023304055 Testing Loss: 0.042411476  Training Acc: 0.993457019 Testing Acc: 0.991073787\n",
            "Epoch: 508 Training Loss: 0.022752775 Testing Loss: 0.041745327  Training Acc: 0.993945301 Testing Acc: 0.990974009\n",
            "Epoch: 509 Training Loss: 0.023724884 Testing Loss: 0.044650357  Training Acc: 0.993066430 Testing Acc: 0.990613878\n",
            "Epoch: 510 Training Loss: 0.023675516 Testing Loss: 0.042749614  Training Acc: 0.993945301 Testing Acc: 0.990924180\n",
            "Epoch: 511 Training Loss: 0.019625803 Testing Loss: 0.040882062  Training Acc: 0.994726598 Testing Acc: 0.991090417\n",
            "Epoch: 512 Training Loss: 0.044586189 Testing Loss: 0.044537745  Training Acc: 0.990722656 Testing Acc: 0.990852177\n",
            "Epoch: 513 Training Loss: 0.038311321 Testing Loss: 0.046376728  Training Acc: 0.988476574 Testing Acc: 0.989993334\n",
            "Epoch: 514 Training Loss: 0.032927144 Testing Loss: 0.046501793  Training Acc: 0.991503894 Testing Acc: 0.990176141\n",
            "Epoch: 515 Training Loss: 0.019647304 Testing Loss: 0.042176552  Training Acc: 0.993554711 Testing Acc: 0.991090417\n",
            "Epoch: 516 Training Loss: 0.022524046 Testing Loss: 0.043118656  Training Acc: 0.993847668 Testing Acc: 0.990757942\n",
            "Epoch: 517 Training Loss: 0.023072010 Testing Loss: 0.044830766  Training Acc: 0.993945301 Testing Acc: 0.990569592\n",
            "Epoch: 518 Training Loss: 0.030338550 Testing Loss: 0.040893495  Training Acc: 0.991503894 Testing Acc: 0.991173506\n",
            "Epoch: 519 Training Loss: 0.024946406 Testing Loss: 0.045169257  Training Acc: 0.991210938 Testing Acc: 0.990093052\n",
            "Epoch: 520 Training Loss: 0.029412428 Testing Loss: 0.045550350  Training Acc: 0.992285192 Testing Acc: 0.990231574\n",
            "Epoch: 521 Training Loss: 0.025299950 Testing Loss: 0.040803242  Training Acc: 0.992871106 Testing Acc: 0.990896463\n",
            "Epoch: 522 Training Loss: 0.022302574 Testing Loss: 0.042631086  Training Acc: 0.993750036 Testing Acc: 0.990791202\n",
            "Epoch: 523 Training Loss: 0.026968092 Testing Loss: 0.046665363  Training Acc: 0.992968738 Testing Acc: 0.990397751\n",
            "Epoch: 524 Training Loss: 0.023662791 Testing Loss: 0.042928815  Training Acc: 0.993261755 Testing Acc: 0.990791202\n",
            "Epoch: 525 Training Loss: 0.024256760 Testing Loss: 0.042072102  Training Acc: 0.993066430 Testing Acc: 0.990985155\n",
            "Epoch: 526 Training Loss: 0.023681395 Testing Loss: 0.042208262  Training Acc: 0.992871106 Testing Acc: 0.990935266\n",
            "Epoch: 527 Training Loss: 0.018172862 Testing Loss: 0.042275358  Training Acc: 0.995019555 Testing Acc: 0.991212249\n",
            "Epoch: 528 Training Loss: 0.021497777 Testing Loss: 0.044056941  Training Acc: 0.992675781 Testing Acc: 0.990597248\n",
            "Epoch: 529 Training Loss: 0.020380516 Testing Loss: 0.043768004  Training Acc: 0.993945301 Testing Acc: 0.990951896\n",
            "Epoch: 530 Training Loss: 0.021746960 Testing Loss: 0.044211160  Training Acc: 0.993164062 Testing Acc: 0.991046071\n",
            "Epoch: 531 Training Loss: 0.041344333 Testing Loss: 0.042790160  Training Acc: 0.991406262 Testing Acc: 0.990746856\n",
            "Epoch: 532 Training Loss: 0.033722710 Testing Loss: 0.044769913  Training Acc: 0.989941418 Testing Acc: 0.990386724\n",
            "Epoch: 533 Training Loss: 0.038844671 Testing Loss: 0.047112018  Training Acc: 0.988769531 Testing Acc: 0.990214944\n",
            "Epoch: 534 Training Loss: 0.030792633 Testing Loss: 0.046795186  Training Acc: 0.991503894 Testing Acc: 0.989793837\n",
            "Epoch: 535 Training Loss: 0.023322290 Testing Loss: 0.044658985  Training Acc: 0.992480457 Testing Acc: 0.990336895\n",
            "Epoch: 536 Training Loss: 0.023774872 Testing Loss: 0.043160345  Training Acc: 0.993164062 Testing Acc: 0.990763485\n",
            "Epoch: 537 Training Loss: 0.021246549 Testing Loss: 0.044317156  Training Acc: 0.993261755 Testing Acc: 0.990807831\n",
            "Epoch: 538 Training Loss: 0.030464847 Testing Loss: 0.045691047  Training Acc: 0.987988293 Testing Acc: 0.990491986\n",
            "Epoch: 539 Training Loss: 0.025669707 Testing Loss: 0.048729975  Training Acc: 0.992675781 Testing Acc: 0.989738464\n",
            "Epoch: 540 Training Loss: 0.025442047 Testing Loss: 0.046491139  Training Acc: 0.992968738 Testing Acc: 0.990298033\n",
            "Epoch: 541 Training Loss: 0.029673239 Testing Loss: 0.042913999  Training Acc: 0.990136743 Testing Acc: 0.990724683\n",
            "Epoch: 542 Training Loss: 0.029424910 Testing Loss: 0.048061468  Training Acc: 0.992285192 Testing Acc: 0.989876986\n",
            "Epoch: 543 Training Loss: 0.017085481 Testing Loss: 0.046574567  Training Acc: 0.993945301 Testing Acc: 0.990309119\n",
            "Epoch: 544 Training Loss: 0.029285818 Testing Loss: 0.044695780  Training Acc: 0.992675781 Testing Acc: 0.990669310\n",
            "Epoch: 545 Training Loss: 0.020893814 Testing Loss: 0.045898937  Training Acc: 0.994238317 Testing Acc: 0.990320265\n",
            "Epoch: 546 Training Loss: 0.018110499 Testing Loss: 0.046430778  Training Acc: 0.995019555 Testing Acc: 0.990419984\n",
            "Epoch: 547 Training Loss: 0.018465759 Testing Loss: 0.043870013  Training Acc: 0.994238317 Testing Acc: 0.990990639\n",
            "Epoch: 548 Training Loss: 0.020487852 Testing Loss: 0.043698765  Training Acc: 0.993652344 Testing Acc: 0.991001785\n",
            "Epoch: 549 Training Loss: 0.021204880 Testing Loss: 0.045059759  Training Acc: 0.993945301 Testing Acc: 0.990863204\n",
            "Epoch: 550 Training Loss: 0.024372837 Testing Loss: 0.046384934  Training Acc: 0.992871106 Testing Acc: 0.990503073\n",
            "Epoch: 551 Training Loss: 0.019676035 Testing Loss: 0.046451535  Training Acc: 0.993945301 Testing Acc: 0.990569592\n",
            "Epoch: 552 Training Loss: 0.025937302 Testing Loss: 0.043961000  Training Acc: 0.993750036 Testing Acc: 0.990940809\n",
            "Epoch: 553 Training Loss: 0.023241300 Testing Loss: 0.043395497  Training Acc: 0.993359387 Testing Acc: 0.990896463\n",
            "Epoch: 554 Training Loss: 0.046075877 Testing Loss: 0.044086069  Training Acc: 0.992382824 Testing Acc: 0.991007268\n",
            "Epoch: 555 Training Loss: 0.036408253 Testing Loss: 0.049833305  Training Acc: 0.990722656 Testing Acc: 0.989799380\n",
            "Epoch: 556 Training Loss: 0.068897322 Testing Loss: 0.047353949  Training Acc: 0.988867223 Testing Acc: 0.990281403\n",
            "Epoch: 557 Training Loss: 0.029507836 Testing Loss: 0.044456147  Training Acc: 0.993652344 Testing Acc: 0.990370095\n",
            "Epoch: 558 Training Loss: 0.027771672 Testing Loss: 0.046412036  Training Acc: 0.991406262 Testing Acc: 0.989982188\n",
            "Epoch: 559 Training Loss: 0.035016857 Testing Loss: 0.046419736  Training Acc: 0.989648461 Testing Acc: 0.990353465\n",
            "Epoch: 560 Training Loss: 0.032338548 Testing Loss: 0.048580557  Training Acc: 0.990234375 Testing Acc: 0.989577770\n",
            "Epoch: 561 Training Loss: 0.031498577 Testing Loss: 0.044606049  Training Acc: 0.990136743 Testing Acc: 0.990070939\n",
            "Epoch: 562 Training Loss: 0.021773962 Testing Loss: 0.042626545  Training Acc: 0.993750036 Testing Acc: 0.990769029\n",
            "Epoch: 563 Training Loss: 0.023708627 Testing Loss: 0.042516436  Training Acc: 0.992089868 Testing Acc: 0.990841031\n",
            "Epoch: 564 Training Loss: 0.025601104 Testing Loss: 0.043756034  Training Acc: 0.992871106 Testing Acc: 0.990480900\n",
            "Epoch: 565 Training Loss: 0.029255250 Testing Loss: 0.042598687  Training Acc: 0.992675781 Testing Acc: 0.990979552\n",
            "Epoch: 566 Training Loss: 0.042197019 Testing Loss: 0.043709803  Training Acc: 0.991503894 Testing Acc: 0.990641594\n",
            "Epoch: 567 Training Loss: 0.022765815 Testing Loss: 0.045154281  Training Acc: 0.993457019 Testing Acc: 0.990541875\n",
            "Epoch: 568 Training Loss: 0.024398860 Testing Loss: 0.042946160  Training Acc: 0.992773473 Testing Acc: 0.990996182\n",
            "Epoch: 569 Training Loss: 0.027932644 Testing Loss: 0.043354318  Training Acc: 0.991992176 Testing Acc: 0.991057158\n",
            "Epoch: 570 Training Loss: 0.018677918 Testing Loss: 0.045792043  Training Acc: 0.994335949 Testing Acc: 0.990497530\n",
            "Epoch: 571 Training Loss: 0.021603763 Testing Loss: 0.043852825  Training Acc: 0.994140625 Testing Acc: 0.991062641\n",
            "Epoch: 572 Training Loss: 0.018443098 Testing Loss: 0.042276755  Training Acc: 0.994531274 Testing Acc: 0.991140246\n",
            "Epoch: 573 Training Loss: 0.024098136 Testing Loss: 0.043096408  Training Acc: 0.991796911 Testing Acc: 0.991040528\n",
            "Epoch: 574 Training Loss: 0.023355363 Testing Loss: 0.043117490  Training Acc: 0.992871106 Testing Acc: 0.991289854\n",
            "Epoch: 575 Training Loss: 0.026934577 Testing Loss: 0.045702729  Training Acc: 0.990625024 Testing Acc: 0.990874290\n",
            "Epoch: 576 Training Loss: 0.070725977 Testing Loss: 0.047440235  Training Acc: 0.988281250 Testing Acc: 0.990303636\n",
            "Epoch: 577 Training Loss: 0.038436290 Testing Loss: 0.048842072  Training Acc: 0.989843786 Testing Acc: 0.989378273\n",
            "Epoch: 578 Training Loss: 0.028404383 Testing Loss: 0.043551724  Training Acc: 0.991796911 Testing Acc: 0.990641594\n",
            "Epoch: 579 Training Loss: 0.029178292 Testing Loss: 0.048347879  Training Acc: 0.990625024 Testing Acc: 0.990076423\n",
            "Epoch: 580 Training Loss: 0.024038969 Testing Loss: 0.043476179  Training Acc: 0.993457019 Testing Acc: 0.990846574\n",
            "Epoch: 581 Training Loss: 0.031206219 Testing Loss: 0.043427683  Training Acc: 0.991699219 Testing Acc: 0.991095901\n",
            "Epoch: 582 Training Loss: 0.024183430 Testing Loss: 0.043247368  Training Acc: 0.992187500 Testing Acc: 0.990558505\n",
            "Epoch: 583 Training Loss: 0.020474749 Testing Loss: 0.043652851  Training Acc: 0.995214880 Testing Acc: 0.990863204\n",
            "Epoch: 584 Training Loss: 0.047301132 Testing Loss: 0.042692512  Training Acc: 0.991113305 Testing Acc: 0.990990639\n",
            "Epoch: 585 Training Loss: 0.032906141 Testing Loss: 0.048147414  Training Acc: 0.989453137 Testing Acc: 0.990359008\n",
            "Epoch: 586 Training Loss: 0.031423803 Testing Loss: 0.044410646  Training Acc: 0.992285192 Testing Acc: 0.990630507\n",
            "Epoch: 587 Training Loss: 0.018711740 Testing Loss: 0.042909604  Training Acc: 0.993945301 Testing Acc: 0.990902007\n",
            "Epoch: 588 Training Loss: 0.017369315 Testing Loss: 0.042500701  Training Acc: 0.994824231 Testing Acc: 0.991018414\n",
            "Epoch: 589 Training Loss: 0.019317793 Testing Loss: 0.044636700  Training Acc: 0.992578149 Testing Acc: 0.990979552\n",
            "Epoch: 590 Training Loss: 0.023336655 Testing Loss: 0.046740532  Training Acc: 0.993261755 Testing Acc: 0.990636051\n",
            "Epoch: 591 Training Loss: 0.024206009 Testing Loss: 0.052800119  Training Acc: 0.993359387 Testing Acc: 0.989683032\n",
            "Epoch: 592 Training Loss: 0.023184925 Testing Loss: 0.049530972  Training Acc: 0.993457019 Testing Acc: 0.990032077\n",
            "Epoch: 593 Training Loss: 0.020628568 Testing Loss: 0.047678288  Training Acc: 0.994335949 Testing Acc: 0.990359008\n",
            "Epoch: 594 Training Loss: 0.020333761 Testing Loss: 0.047174234  Training Acc: 0.994824231 Testing Acc: 0.990558505\n",
            "Epoch: 595 Training Loss: 0.025339095 Testing Loss: 0.046644706  Training Acc: 0.993554711 Testing Acc: 0.990757942\n",
            "Epoch: 596 Training Loss: 0.046923246 Testing Loss: 0.047216542  Training Acc: 0.993750036 Testing Acc: 0.990757942\n",
            "Epoch: 597 Training Loss: 0.078438662 Testing Loss: 0.044893671  Training Acc: 0.992578149 Testing Acc: 0.990724683\n",
            "Epoch: 598 Training Loss: 0.024015982 Testing Loss: 0.044835515  Training Acc: 0.992578149 Testing Acc: 0.990414381\n",
            "Epoch: 599 Training Loss: 0.026789015 Testing Loss: 0.047053028  Training Acc: 0.992773473 Testing Acc: 0.990281403\n",
            "Epoch: 600 Training Loss: 0.030726925 Testing Loss: 0.048251159  Training Acc: 0.990429699 Testing Acc: 0.990397751\n"
          ],
          "name": "stdout"
        }
      ]
    },
    {
      "cell_type": "code",
      "metadata": {
        "id": "vzn6YyGw9ULY",
        "colab": {
          "base_uri": "https://localhost:8080/",
          "height": 592
        },
        "outputId": "8bdc18b1-99f3-4967-feb7-6d7a55df8b05"
      },
      "source": [
        "plt.figure(figsize = (10,10))\n",
        "plt.plot(L_train, linewidth = 2, c='b', label = \"train\")\n",
        "plt.plot(L_test, linewidth = 2, c='r', label = \"test\")\n",
        "plt.legend()\n",
        "plt.show()"
      ],
      "execution_count": 16,
      "outputs": [
        {
          "output_type": "display_data",
          "data": {
            "image/png": "[encoded data removed]",
            "text/plain": [
              "<Figure size 720x720 with 1 Axes>"
            ]
          },
          "metadata": {
            "tags": [],
            "needs_background": "light"
          }
        }
      ]
    },
    {
      "cell_type": "code",
      "metadata": {
        "id": "Rl1MuQhtqsg2",
        "colab": {
          "base_uri": "https://localhost:8080/",
          "height": 592
        },
        "outputId": "01ab750a-9f31-4d04-a9dc-ec6944e98410"
      },
      "source": [
        "plt.figure(figsize = (10,10))\n",
        "plt.plot(A_train, linewidth = 2, c='b', label = \"train\")\n",
        "plt.plot(A_test, linewidth = 2, c='r', label = \"test\")\n",
        "plt.legend()\n",
        "plt.show()"
      ],
      "execution_count": 17,
      "outputs": [
        {
          "output_type": "display_data",
          "data": {
            "image/png": "[encoded data removed]",
            "text/plain": [
              "<Figure size 720x720 with 1 Axes>"
            ]
          },
          "metadata": {
            "tags": [],
            "needs_background": "light"
          }
        }
      ]
    },
    {
      "cell_type": "code",
      "metadata": {
        "id": "4990rRublMpD",
        "colab": {
          "base_uri": "https://localhost:8080/"
        },
        "outputId": "65b85ea5-b8ed-4490-c550-48110c06f1ff"
      },
      "source": [
        "print(\"training loss    %.2f\" %(L_train[-1]))\n",
        "print(\"testing loss     %.2f\" %(L_test[-1]))\n",
        "print(\"training acc    %.2f\" %(A_train[-1]))\n",
        "print(\"testing acc     %.2f\" %(A_test[-1]))"
      ],
      "execution_count": 18,
      "outputs": [
        {
          "output_type": "stream",
          "text": [
            "training loss    0.03\n",
            "testing loss     0.05\n",
            "training acc    0.99\n",
            "testing acc     0.99\n"
          ],
          "name": "stdout"
        }
      ]
    },
    {
      "cell_type": "markdown",
      "metadata": {
        "id": "z4L9RrzOz5xl"
      },
      "source": [
        "# 5. Output\n",
        "<hr>"
      ]
    },
    {
      "cell_type": "markdown",
      "metadata": {
        "id": "alN6-n0r0DTO"
      },
      "source": [
        "## 1. Plot the training and testing losses over epochs"
      ]
    },
    {
      "cell_type": "code",
      "metadata": {
        "id": "d8WFmmL4Shvy",
        "colab": {
          "base_uri": "https://localhost:8080/",
          "height": 592
        },
        "outputId": "b2c1a683-8094-4874-b3c9-0e14e058fb07"
      },
      "source": [
        "plt.figure(figsize = (10,10))\n",
        "plt.plot(L_train, linewidth = 2, c='b', label = \"train\")\n",
        "plt.plot(L_test, linewidth = 2, c='r', label = \"test\")\n",
        "plt.legend()\n",
        "plt.show()"
      ],
      "execution_count": 19,
      "outputs": [
        {
          "output_type": "display_data",
          "data": {
            "image/png": "[encoded data removed]",
            "text/plain": [
              "<Figure size 720x720 with 1 Axes>"
            ]
          },
          "metadata": {
            "tags": [],
            "needs_background": "light"
          }
        }
      ]
    },
    {
      "cell_type": "markdown",
      "metadata": {
        "id": "4t1dSyC1AVe0"
      },
      "source": [
        "## 2. Plot the training and testing accuracies over epochs"
      ]
    },
    {
      "cell_type": "code",
      "metadata": {
        "id": "xUlVVIpISjl6",
        "colab": {
          "base_uri": "https://localhost:8080/",
          "height": 592
        },
        "outputId": "7887c50e-1da0-4b31-89bf-37950d066a45"
      },
      "source": [
        "plt.figure(figsize = (10,10))\n",
        "plt.plot(A_train, linewidth = 2, c='b', label = \"train\")\n",
        "plt.plot(A_test, linewidth = 2, c='r', label = \"test\")\n",
        "plt.legend()\n",
        "plt.show()"
      ],
      "execution_count": 20,
      "outputs": [
        {
          "output_type": "display_data",
          "data": {
            "image/png": "[encoded data removed]",
            "text/plain": [
              "<Figure size 720x720 with 1 Axes>"
            ]
          },
          "metadata": {
            "tags": [],
            "needs_background": "light"
          }
        }
      ]
    },
    {
      "cell_type": "markdown",
      "metadata": {
        "id": "px7XRkcnAnc7"
      },
      "source": [
        "## 3.  Print the final training and testing losses at convergence "
      ]
    },
    {
      "cell_type": "code",
      "metadata": {
        "id": "RrvuQ_SCSlJ_",
        "colab": {
          "base_uri": "https://localhost:8080/"
        },
        "outputId": "6637fc52-f539-4275-fd35-8d8193abccd5"
      },
      "source": [
        "print(\"loss\")\n",
        "print(\"train    %.2f\" %(L_train[-1]))\n",
        "print(\"test     %.2f\" %(L_test[-1]))"
      ],
      "execution_count": 21,
      "outputs": [
        {
          "output_type": "stream",
          "text": [
            "loss\n",
            "train    0.03\n",
            "test     0.05\n"
          ],
          "name": "stdout"
        }
      ]
    },
    {
      "cell_type": "markdown",
      "metadata": {
        "id": "gW87VTpwAtMB"
      },
      "source": [
        "## 4. Print the final training and testing accuracies at convergence"
      ]
    },
    {
      "cell_type": "code",
      "metadata": {
        "id": "mpgCDaBpCWT_",
        "colab": {
          "base_uri": "https://localhost:8080/"
        },
        "outputId": "1e990cd2-b2f1-441c-ea79-b21707a13f82"
      },
      "source": [
        "print(\"Accuracy\")\n",
        "print(\"train    %.5f, %.2f\" %(A_train[-1], A_train[-1]))\n",
        "print(\"test     %.5f, %.2f\" %(A_test[-1], A_test[-1]))"
      ],
      "execution_count": 22,
      "outputs": [
        {
          "output_type": "stream",
          "text": [
            "Accuracy\n",
            "train    0.99043, 0.99\n",
            "test     0.99040, 0.99\n"
          ],
          "name": "stdout"
        }
      ]
    },
    {
      "cell_type": "markdown",
      "metadata": {
        "id": "fzDvqXa7hEem"
      },
      "source": [
        "## 5. Print the testing accuracies within the last 10 epochs"
      ]
    },
    {
      "cell_type": "code",
      "metadata": {
        "id": "vu8Vw6cwassu",
        "colab": {
          "base_uri": "https://localhost:8080/"
        },
        "outputId": "783c8a16-0473-4594-9667-5455a7e60cd2"
      },
      "source": [
        "for i in range(-10, 0):\n",
        "  print(f\"Epoch = {len(A_test) + i + 1} Acc: %.5f\" %(A_test[i]))\n"
      ],
      "execution_count": 23,
      "outputs": [
        {
          "output_type": "stream",
          "text": [
            "Epoch = 591 Acc: 0.98968\n",
            "Epoch = 592 Acc: 0.99003\n",
            "Epoch = 593 Acc: 0.99036\n",
            "Epoch = 594 Acc: 0.99056\n",
            "Epoch = 595 Acc: 0.99076\n",
            "Epoch = 596 Acc: 0.99076\n",
            "Epoch = 597 Acc: 0.99072\n",
            "Epoch = 598 Acc: 0.99041\n",
            "Epoch = 599 Acc: 0.99028\n",
            "Epoch = 600 Acc: 0.99040\n"
          ],
          "name": "stdout"
        }
      ]
    },
    {
      "cell_type": "code",
      "metadata": {
        "id": "hTsLh1xUhUXY"
      },
      "source": [
        ""
      ],
      "execution_count": 23,
      "outputs": []
    }
  ]
}