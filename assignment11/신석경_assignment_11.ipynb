{
  "nbformat": 4,
  "nbformat_minor": 0,
  "metadata": {
    "accelerator": "GPU",
    "colab": {
      "name": "신석경_assignment_11",
      "provenance": [],
      "collapsed_sections": [],
      "authorship_tag": "ABX9TyOTyS+j4SMtcwtTfyA8Kq9e",
      "include_colab_link": true
    },
    "kernelspec": {
      "display_name": "Python 3",
      "name": "python3"
    },
    "widgets": {
      "application/vnd.jupyter.widget-state+json": {
        "2e2fe462c74144a8bbcc34a73ddb5258": {
          "model_module": "@jupyter-widgets/controls",
          "model_name": "HBoxModel",
          "state": {
            "_view_name": "HBoxView",
            "_dom_classes": [],
            "_model_name": "HBoxModel",
            "_view_module": "@jupyter-widgets/controls",
            "_model_module_version": "1.5.0",
            "_view_count": null,
            "_view_module_version": "1.5.0",
            "box_style": "",
            "layout": "IPY_MODEL_d073c96ae04d4818a737b1e65d0bb4bb",
            "_model_module": "@jupyter-widgets/controls",
            "children": [
              "IPY_MODEL_2f8bee0c37cb46b3949938c7312784e8",
              "IPY_MODEL_a9c5ab791e8e454d84b3db47d5488063"
            ]
          }
        },
        "d073c96ae04d4818a737b1e65d0bb4bb": {
          "model_module": "@jupyter-widgets/base",
          "model_name": "LayoutModel",
          "state": {
            "_view_name": "LayoutView",
            "grid_template_rows": null,
            "right": null,
            "justify_content": null,
            "_view_module": "@jupyter-widgets/base",
            "overflow": null,
            "_model_module_version": "1.2.0",
            "_view_count": null,
            "flex_flow": null,
            "width": null,
            "min_width": null,
            "border": null,
            "align_items": null,
            "bottom": null,
            "_model_module": "@jupyter-widgets/base",
            "top": null,
            "grid_column": null,
            "overflow_y": null,
            "overflow_x": null,
            "grid_auto_flow": null,
            "grid_area": null,
            "grid_template_columns": null,
            "flex": null,
            "_model_name": "LayoutModel",
            "justify_items": null,
            "grid_row": null,
            "max_height": null,
            "align_content": null,
            "visibility": null,
            "align_self": null,
            "height": null,
            "min_height": null,
            "padding": null,
            "grid_auto_rows": null,
            "grid_gap": null,
            "max_width": null,
            "order": null,
            "_view_module_version": "1.2.0",
            "grid_template_areas": null,
            "object_position": null,
            "object_fit": null,
            "grid_auto_columns": null,
            "margin": null,
            "display": null,
            "left": null
          }
        },
        "2f8bee0c37cb46b3949938c7312784e8": {
          "model_module": "@jupyter-widgets/controls",
          "model_name": "FloatProgressModel",
          "state": {
            "_view_name": "ProgressView",
            "style": "IPY_MODEL_326d82b8a69f46c789b28a1cdd68e298",
            "_dom_classes": [],
            "description": "",
            "_model_name": "FloatProgressModel",
            "bar_style": "success",
            "max": 1,
            "_view_module": "@jupyter-widgets/controls",
            "_model_module_version": "1.5.0",
            "value": 1,
            "_view_count": null,
            "_view_module_version": "1.5.0",
            "orientation": "horizontal",
            "min": 0,
            "description_tooltip": null,
            "_model_module": "@jupyter-widgets/controls",
            "layout": "IPY_MODEL_c4692b4d1da64f35b5dba0fa24cce13f"
          }
        },
        "a9c5ab791e8e454d84b3db47d5488063": {
          "model_module": "@jupyter-widgets/controls",
          "model_name": "HTMLModel",
          "state": {
            "_view_name": "HTMLView",
            "style": "IPY_MODEL_2f5a60a547534ded96d4a7eb3a273b3e",
            "_dom_classes": [],
            "description": "",
            "_model_name": "HTMLModel",
            "placeholder": "​",
            "_view_module": "@jupyter-widgets/controls",
            "_model_module_version": "1.5.0",
            "value": " 9920512/? [00:01&lt;00:00, 4998523.99it/s]",
            "_view_count": null,
            "_view_module_version": "1.5.0",
            "description_tooltip": null,
            "_model_module": "@jupyter-widgets/controls",
            "layout": "IPY_MODEL_f99d0c074a474455a8f48ddccce45ad0"
          }
        },
        "326d82b8a69f46c789b28a1cdd68e298": {
          "model_module": "@jupyter-widgets/controls",
          "model_name": "ProgressStyleModel",
          "state": {
            "_view_name": "StyleView",
            "_model_name": "ProgressStyleModel",
            "description_width": "initial",
            "_view_module": "@jupyter-widgets/base",
            "_model_module_version": "1.5.0",
            "_view_count": null,
            "_view_module_version": "1.2.0",
            "bar_color": null,
            "_model_module": "@jupyter-widgets/controls"
          }
        },
        "c4692b4d1da64f35b5dba0fa24cce13f": {
          "model_module": "@jupyter-widgets/base",
          "model_name": "LayoutModel",
          "state": {
            "_view_name": "LayoutView",
            "grid_template_rows": null,
            "right": null,
            "justify_content": null,
            "_view_module": "@jupyter-widgets/base",
            "overflow": null,
            "_model_module_version": "1.2.0",
            "_view_count": null,
            "flex_flow": null,
            "width": null,
            "min_width": null,
            "border": null,
            "align_items": null,
            "bottom": null,
            "_model_module": "@jupyter-widgets/base",
            "top": null,
            "grid_column": null,
            "overflow_y": null,
            "overflow_x": null,
            "grid_auto_flow": null,
            "grid_area": null,
            "grid_template_columns": null,
            "flex": null,
            "_model_name": "LayoutModel",
            "justify_items": null,
            "grid_row": null,
            "max_height": null,
            "align_content": null,
            "visibility": null,
            "align_self": null,
            "height": null,
            "min_height": null,
            "padding": null,
            "grid_auto_rows": null,
            "grid_gap": null,
            "max_width": null,
            "order": null,
            "_view_module_version": "1.2.0",
            "grid_template_areas": null,
            "object_position": null,
            "object_fit": null,
            "grid_auto_columns": null,
            "margin": null,
            "display": null,
            "left": null
          }
        },
        "2f5a60a547534ded96d4a7eb3a273b3e": {
          "model_module": "@jupyter-widgets/controls",
          "model_name": "DescriptionStyleModel",
          "state": {
            "_view_name": "StyleView",
            "_model_name": "DescriptionStyleModel",
            "description_width": "",
            "_view_module": "@jupyter-widgets/base",
            "_model_module_version": "1.5.0",
            "_view_count": null,
            "_view_module_version": "1.2.0",
            "_model_module": "@jupyter-widgets/controls"
          }
        },
        "f99d0c074a474455a8f48ddccce45ad0": {
          "model_module": "@jupyter-widgets/base",
          "model_name": "LayoutModel",
          "state": {
            "_view_name": "LayoutView",
            "grid_template_rows": null,
            "right": null,
            "justify_content": null,
            "_view_module": "@jupyter-widgets/base",
            "overflow": null,
            "_model_module_version": "1.2.0",
            "_view_count": null,
            "flex_flow": null,
            "width": null,
            "min_width": null,
            "border": null,
            "align_items": null,
            "bottom": null,
            "_model_module": "@jupyter-widgets/base",
            "top": null,
            "grid_column": null,
            "overflow_y": null,
            "overflow_x": null,
            "grid_auto_flow": null,
            "grid_area": null,
            "grid_template_columns": null,
            "flex": null,
            "_model_name": "LayoutModel",
            "justify_items": null,
            "grid_row": null,
            "max_height": null,
            "align_content": null,
            "visibility": null,
            "align_self": null,
            "height": null,
            "min_height": null,
            "padding": null,
            "grid_auto_rows": null,
            "grid_gap": null,
            "max_width": null,
            "order": null,
            "_view_module_version": "1.2.0",
            "grid_template_areas": null,
            "object_position": null,
            "object_fit": null,
            "grid_auto_columns": null,
            "margin": null,
            "display": null,
            "left": null
          }
        },
        "32d29278110145839986e38e7168efa5": {
          "model_module": "@jupyter-widgets/controls",
          "model_name": "HBoxModel",
          "state": {
            "_view_name": "HBoxView",
            "_dom_classes": [],
            "_model_name": "HBoxModel",
            "_view_module": "@jupyter-widgets/controls",
            "_model_module_version": "1.5.0",
            "_view_count": null,
            "_view_module_version": "1.5.0",
            "box_style": "",
            "layout": "IPY_MODEL_d9e815956eac436db999bdc3d6b4ad5f",
            "_model_module": "@jupyter-widgets/controls",
            "children": [
              "IPY_MODEL_bec68744bcca4ac19ad1b724b06f8b1e",
              "IPY_MODEL_a5e0cd24c6b74a37b9603e32042e08d1"
            ]
          }
        },
        "d9e815956eac436db999bdc3d6b4ad5f": {
          "model_module": "@jupyter-widgets/base",
          "model_name": "LayoutModel",
          "state": {
            "_view_name": "LayoutView",
            "grid_template_rows": null,
            "right": null,
            "justify_content": null,
            "_view_module": "@jupyter-widgets/base",
            "overflow": null,
            "_model_module_version": "1.2.0",
            "_view_count": null,
            "flex_flow": null,
            "width": null,
            "min_width": null,
            "border": null,
            "align_items": null,
            "bottom": null,
            "_model_module": "@jupyter-widgets/base",
            "top": null,
            "grid_column": null,
            "overflow_y": null,
            "overflow_x": null,
            "grid_auto_flow": null,
            "grid_area": null,
            "grid_template_columns": null,
            "flex": null,
            "_model_name": "LayoutModel",
            "justify_items": null,
            "grid_row": null,
            "max_height": null,
            "align_content": null,
            "visibility": null,
            "align_self": null,
            "height": null,
            "min_height": null,
            "padding": null,
            "grid_auto_rows": null,
            "grid_gap": null,
            "max_width": null,
            "order": null,
            "_view_module_version": "1.2.0",
            "grid_template_areas": null,
            "object_position": null,
            "object_fit": null,
            "grid_auto_columns": null,
            "margin": null,
            "display": null,
            "left": null
          }
        },
        "bec68744bcca4ac19ad1b724b06f8b1e": {
          "model_module": "@jupyter-widgets/controls",
          "model_name": "FloatProgressModel",
          "state": {
            "_view_name": "ProgressView",
            "style": "IPY_MODEL_fc7d6d68422d4a14bb2efc96c06ad91f",
            "_dom_classes": [],
            "description": "",
            "_model_name": "FloatProgressModel",
            "bar_style": "success",
            "max": 1,
            "_view_module": "@jupyter-widgets/controls",
            "_model_module_version": "1.5.0",
            "value": 1,
            "_view_count": null,
            "_view_module_version": "1.5.0",
            "orientation": "horizontal",
            "min": 0,
            "description_tooltip": null,
            "_model_module": "@jupyter-widgets/controls",
            "layout": "IPY_MODEL_c9120d6da3c44827a319f209aab4e8ce"
          }
        },
        "a5e0cd24c6b74a37b9603e32042e08d1": {
          "model_module": "@jupyter-widgets/controls",
          "model_name": "HTMLModel",
          "state": {
            "_view_name": "HTMLView",
            "style": "IPY_MODEL_a08f4435d57f4f75b99211b4b4c67e2d",
            "_dom_classes": [],
            "description": "",
            "_model_name": "HTMLModel",
            "placeholder": "​",
            "_view_module": "@jupyter-widgets/controls",
            "_model_module_version": "1.5.0",
            "value": " 32768/? [00:01&lt;00:00, 26559.89it/s]",
            "_view_count": null,
            "_view_module_version": "1.5.0",
            "description_tooltip": null,
            "_model_module": "@jupyter-widgets/controls",
            "layout": "IPY_MODEL_4e2f655e80a84819a4783b6a3cce3f72"
          }
        },
        "fc7d6d68422d4a14bb2efc96c06ad91f": {
          "model_module": "@jupyter-widgets/controls",
          "model_name": "ProgressStyleModel",
          "state": {
            "_view_name": "StyleView",
            "_model_name": "ProgressStyleModel",
            "description_width": "initial",
            "_view_module": "@jupyter-widgets/base",
            "_model_module_version": "1.5.0",
            "_view_count": null,
            "_view_module_version": "1.2.0",
            "bar_color": null,
            "_model_module": "@jupyter-widgets/controls"
          }
        },
        "c9120d6da3c44827a319f209aab4e8ce": {
          "model_module": "@jupyter-widgets/base",
          "model_name": "LayoutModel",
          "state": {
            "_view_name": "LayoutView",
            "grid_template_rows": null,
            "right": null,
            "justify_content": null,
            "_view_module": "@jupyter-widgets/base",
            "overflow": null,
            "_model_module_version": "1.2.0",
            "_view_count": null,
            "flex_flow": null,
            "width": null,
            "min_width": null,
            "border": null,
            "align_items": null,
            "bottom": null,
            "_model_module": "@jupyter-widgets/base",
            "top": null,
            "grid_column": null,
            "overflow_y": null,
            "overflow_x": null,
            "grid_auto_flow": null,
            "grid_area": null,
            "grid_template_columns": null,
            "flex": null,
            "_model_name": "LayoutModel",
            "justify_items": null,
            "grid_row": null,
            "max_height": null,
            "align_content": null,
            "visibility": null,
            "align_self": null,
            "height": null,
            "min_height": null,
            "padding": null,
            "grid_auto_rows": null,
            "grid_gap": null,
            "max_width": null,
            "order": null,
            "_view_module_version": "1.2.0",
            "grid_template_areas": null,
            "object_position": null,
            "object_fit": null,
            "grid_auto_columns": null,
            "margin": null,
            "display": null,
            "left": null
          }
        },
        "a08f4435d57f4f75b99211b4b4c67e2d": {
          "model_module": "@jupyter-widgets/controls",
          "model_name": "DescriptionStyleModel",
          "state": {
            "_view_name": "StyleView",
            "_model_name": "DescriptionStyleModel",
            "description_width": "",
            "_view_module": "@jupyter-widgets/base",
            "_model_module_version": "1.5.0",
            "_view_count": null,
            "_view_module_version": "1.2.0",
            "_model_module": "@jupyter-widgets/controls"
          }
        },
        "4e2f655e80a84819a4783b6a3cce3f72": {
          "model_module": "@jupyter-widgets/base",
          "model_name": "LayoutModel",
          "state": {
            "_view_name": "LayoutView",
            "grid_template_rows": null,
            "right": null,
            "justify_content": null,
            "_view_module": "@jupyter-widgets/base",
            "overflow": null,
            "_model_module_version": "1.2.0",
            "_view_count": null,
            "flex_flow": null,
            "width": null,
            "min_width": null,
            "border": null,
            "align_items": null,
            "bottom": null,
            "_model_module": "@jupyter-widgets/base",
            "top": null,
            "grid_column": null,
            "overflow_y": null,
            "overflow_x": null,
            "grid_auto_flow": null,
            "grid_area": null,
            "grid_template_columns": null,
            "flex": null,
            "_model_name": "LayoutModel",
            "justify_items": null,
            "grid_row": null,
            "max_height": null,
            "align_content": null,
            "visibility": null,
            "align_self": null,
            "height": null,
            "min_height": null,
            "padding": null,
            "grid_auto_rows": null,
            "grid_gap": null,
            "max_width": null,
            "order": null,
            "_view_module_version": "1.2.0",
            "grid_template_areas": null,
            "object_position": null,
            "object_fit": null,
            "grid_auto_columns": null,
            "margin": null,
            "display": null,
            "left": null
          }
        },
        "0022d152789a4222a28c1f7eddee0367": {
          "model_module": "@jupyter-widgets/controls",
          "model_name": "HBoxModel",
          "state": {
            "_view_name": "HBoxView",
            "_dom_classes": [],
            "_model_name": "HBoxModel",
            "_view_module": "@jupyter-widgets/controls",
            "_model_module_version": "1.5.0",
            "_view_count": null,
            "_view_module_version": "1.5.0",
            "box_style": "",
            "layout": "IPY_MODEL_a4ab8a129d944473aa6e1266e701c6ac",
            "_model_module": "@jupyter-widgets/controls",
            "children": [
              "IPY_MODEL_e0367bbc1a664d3fb6276174538750ad",
              "IPY_MODEL_71fedea74ef84a5ab037038c4237f91f"
            ]
          }
        },
        "a4ab8a129d944473aa6e1266e701c6ac": {
          "model_module": "@jupyter-widgets/base",
          "model_name": "LayoutModel",
          "state": {
            "_view_name": "LayoutView",
            "grid_template_rows": null,
            "right": null,
            "justify_content": null,
            "_view_module": "@jupyter-widgets/base",
            "overflow": null,
            "_model_module_version": "1.2.0",
            "_view_count": null,
            "flex_flow": null,
            "width": null,
            "min_width": null,
            "border": null,
            "align_items": null,
            "bottom": null,
            "_model_module": "@jupyter-widgets/base",
            "top": null,
            "grid_column": null,
            "overflow_y": null,
            "overflow_x": null,
            "grid_auto_flow": null,
            "grid_area": null,
            "grid_template_columns": null,
            "flex": null,
            "_model_name": "LayoutModel",
            "justify_items": null,
            "grid_row": null,
            "max_height": null,
            "align_content": null,
            "visibility": null,
            "align_self": null,
            "height": null,
            "min_height": null,
            "padding": null,
            "grid_auto_rows": null,
            "grid_gap": null,
            "max_width": null,
            "order": null,
            "_view_module_version": "1.2.0",
            "grid_template_areas": null,
            "object_position": null,
            "object_fit": null,
            "grid_auto_columns": null,
            "margin": null,
            "display": null,
            "left": null
          }
        },
        "e0367bbc1a664d3fb6276174538750ad": {
          "model_module": "@jupyter-widgets/controls",
          "model_name": "FloatProgressModel",
          "state": {
            "_view_name": "ProgressView",
            "style": "IPY_MODEL_970239e7a475420c90063dcbca9edd75",
            "_dom_classes": [],
            "description": "",
            "_model_name": "FloatProgressModel",
            "bar_style": "success",
            "max": 1,
            "_view_module": "@jupyter-widgets/controls",
            "_model_module_version": "1.5.0",
            "value": 1,
            "_view_count": null,
            "_view_module_version": "1.5.0",
            "orientation": "horizontal",
            "min": 0,
            "description_tooltip": null,
            "_model_module": "@jupyter-widgets/controls",
            "layout": "IPY_MODEL_7374f98b81644fb1a637d24b53ab3c06"
          }
        },
        "71fedea74ef84a5ab037038c4237f91f": {
          "model_module": "@jupyter-widgets/controls",
          "model_name": "HTMLModel",
          "state": {
            "_view_name": "HTMLView",
            "style": "IPY_MODEL_0b80df4a183b491fb3d253de492fc285",
            "_dom_classes": [],
            "description": "",
            "_model_name": "HTMLModel",
            "placeholder": "​",
            "_view_module": "@jupyter-widgets/controls",
            "_model_module_version": "1.5.0",
            "value": " 1654784/? [00:00&lt;00:00, 1890617.62it/s]",
            "_view_count": null,
            "_view_module_version": "1.5.0",
            "description_tooltip": null,
            "_model_module": "@jupyter-widgets/controls",
            "layout": "IPY_MODEL_ae0314699b6a4701b640aba34020d4f7"
          }
        },
        "970239e7a475420c90063dcbca9edd75": {
          "model_module": "@jupyter-widgets/controls",
          "model_name": "ProgressStyleModel",
          "state": {
            "_view_name": "StyleView",
            "_model_name": "ProgressStyleModel",
            "description_width": "initial",
            "_view_module": "@jupyter-widgets/base",
            "_model_module_version": "1.5.0",
            "_view_count": null,
            "_view_module_version": "1.2.0",
            "bar_color": null,
            "_model_module": "@jupyter-widgets/controls"
          }
        },
        "7374f98b81644fb1a637d24b53ab3c06": {
          "model_module": "@jupyter-widgets/base",
          "model_name": "LayoutModel",
          "state": {
            "_view_name": "LayoutView",
            "grid_template_rows": null,
            "right": null,
            "justify_content": null,
            "_view_module": "@jupyter-widgets/base",
            "overflow": null,
            "_model_module_version": "1.2.0",
            "_view_count": null,
            "flex_flow": null,
            "width": null,
            "min_width": null,
            "border": null,
            "align_items": null,
            "bottom": null,
            "_model_module": "@jupyter-widgets/base",
            "top": null,
            "grid_column": null,
            "overflow_y": null,
            "overflow_x": null,
            "grid_auto_flow": null,
            "grid_area": null,
            "grid_template_columns": null,
            "flex": null,
            "_model_name": "LayoutModel",
            "justify_items": null,
            "grid_row": null,
            "max_height": null,
            "align_content": null,
            "visibility": null,
            "align_self": null,
            "height": null,
            "min_height": null,
            "padding": null,
            "grid_auto_rows": null,
            "grid_gap": null,
            "max_width": null,
            "order": null,
            "_view_module_version": "1.2.0",
            "grid_template_areas": null,
            "object_position": null,
            "object_fit": null,
            "grid_auto_columns": null,
            "margin": null,
            "display": null,
            "left": null
          }
        },
        "0b80df4a183b491fb3d253de492fc285": {
          "model_module": "@jupyter-widgets/controls",
          "model_name": "DescriptionStyleModel",
          "state": {
            "_view_name": "StyleView",
            "_model_name": "DescriptionStyleModel",
            "description_width": "",
            "_view_module": "@jupyter-widgets/base",
            "_model_module_version": "1.5.0",
            "_view_count": null,
            "_view_module_version": "1.2.0",
            "_model_module": "@jupyter-widgets/controls"
          }
        },
        "ae0314699b6a4701b640aba34020d4f7": {
          "model_module": "@jupyter-widgets/base",
          "model_name": "LayoutModel",
          "state": {
            "_view_name": "LayoutView",
            "grid_template_rows": null,
            "right": null,
            "justify_content": null,
            "_view_module": "@jupyter-widgets/base",
            "overflow": null,
            "_model_module_version": "1.2.0",
            "_view_count": null,
            "flex_flow": null,
            "width": null,
            "min_width": null,
            "border": null,
            "align_items": null,
            "bottom": null,
            "_model_module": "@jupyter-widgets/base",
            "top": null,
            "grid_column": null,
            "overflow_y": null,
            "overflow_x": null,
            "grid_auto_flow": null,
            "grid_area": null,
            "grid_template_columns": null,
            "flex": null,
            "_model_name": "LayoutModel",
            "justify_items": null,
            "grid_row": null,
            "max_height": null,
            "align_content": null,
            "visibility": null,
            "align_self": null,
            "height": null,
            "min_height": null,
            "padding": null,
            "grid_auto_rows": null,
            "grid_gap": null,
            "max_width": null,
            "order": null,
            "_view_module_version": "1.2.0",
            "grid_template_areas": null,
            "object_position": null,
            "object_fit": null,
            "grid_auto_columns": null,
            "margin": null,
            "display": null,
            "left": null
          }
        },
        "915e120f4ca6466887ceee6bec44ee9d": {
          "model_module": "@jupyter-widgets/controls",
          "model_name": "HBoxModel",
          "state": {
            "_view_name": "HBoxView",
            "_dom_classes": [],
            "_model_name": "HBoxModel",
            "_view_module": "@jupyter-widgets/controls",
            "_model_module_version": "1.5.0",
            "_view_count": null,
            "_view_module_version": "1.5.0",
            "box_style": "",
            "layout": "IPY_MODEL_a2e813abf6c34ab28d373a674d0b8136",
            "_model_module": "@jupyter-widgets/controls",
            "children": [
              "IPY_MODEL_f623117f2b6d44358aabf862fe8070bf",
              "IPY_MODEL_15c2702270be445bbf2a3a0dbc176809"
            ]
          }
        },
        "a2e813abf6c34ab28d373a674d0b8136": {
          "model_module": "@jupyter-widgets/base",
          "model_name": "LayoutModel",
          "state": {
            "_view_name": "LayoutView",
            "grid_template_rows": null,
            "right": null,
            "justify_content": null,
            "_view_module": "@jupyter-widgets/base",
            "overflow": null,
            "_model_module_version": "1.2.0",
            "_view_count": null,
            "flex_flow": null,
            "width": null,
            "min_width": null,
            "border": null,
            "align_items": null,
            "bottom": null,
            "_model_module": "@jupyter-widgets/base",
            "top": null,
            "grid_column": null,
            "overflow_y": null,
            "overflow_x": null,
            "grid_auto_flow": null,
            "grid_area": null,
            "grid_template_columns": null,
            "flex": null,
            "_model_name": "LayoutModel",
            "justify_items": null,
            "grid_row": null,
            "max_height": null,
            "align_content": null,
            "visibility": null,
            "align_self": null,
            "height": null,
            "min_height": null,
            "padding": null,
            "grid_auto_rows": null,
            "grid_gap": null,
            "max_width": null,
            "order": null,
            "_view_module_version": "1.2.0",
            "grid_template_areas": null,
            "object_position": null,
            "object_fit": null,
            "grid_auto_columns": null,
            "margin": null,
            "display": null,
            "left": null
          }
        },
        "f623117f2b6d44358aabf862fe8070bf": {
          "model_module": "@jupyter-widgets/controls",
          "model_name": "FloatProgressModel",
          "state": {
            "_view_name": "ProgressView",
            "style": "IPY_MODEL_771dce9096a649f0a8f6619c559c6aff",
            "_dom_classes": [],
            "description": "",
            "_model_name": "FloatProgressModel",
            "bar_style": "success",
            "max": 1,
            "_view_module": "@jupyter-widgets/controls",
            "_model_module_version": "1.5.0",
            "value": 1,
            "_view_count": null,
            "_view_module_version": "1.5.0",
            "orientation": "horizontal",
            "min": 0,
            "description_tooltip": null,
            "_model_module": "@jupyter-widgets/controls",
            "layout": "IPY_MODEL_20895b135e714e15ae10ab3f30b019ab"
          }
        },
        "15c2702270be445bbf2a3a0dbc176809": {
          "model_module": "@jupyter-widgets/controls",
          "model_name": "HTMLModel",
          "state": {
            "_view_name": "HTMLView",
            "style": "IPY_MODEL_057a7ed32fbe4f0da351f5d04d4458b0",
            "_dom_classes": [],
            "description": "",
            "_model_name": "HTMLModel",
            "placeholder": "​",
            "_view_module": "@jupyter-widgets/controls",
            "_model_module_version": "1.5.0",
            "value": " 8192/? [00:00&lt;00:00, 13540.44it/s]",
            "_view_count": null,
            "_view_module_version": "1.5.0",
            "description_tooltip": null,
            "_model_module": "@jupyter-widgets/controls",
            "layout": "IPY_MODEL_1f94bb318e6a4e85b02fc051586085b2"
          }
        },
        "771dce9096a649f0a8f6619c559c6aff": {
          "model_module": "@jupyter-widgets/controls",
          "model_name": "ProgressStyleModel",
          "state": {
            "_view_name": "StyleView",
            "_model_name": "ProgressStyleModel",
            "description_width": "initial",
            "_view_module": "@jupyter-widgets/base",
            "_model_module_version": "1.5.0",
            "_view_count": null,
            "_view_module_version": "1.2.0",
            "bar_color": null,
            "_model_module": "@jupyter-widgets/controls"
          }
        },
        "20895b135e714e15ae10ab3f30b019ab": {
          "model_module": "@jupyter-widgets/base",
          "model_name": "LayoutModel",
          "state": {
            "_view_name": "LayoutView",
            "grid_template_rows": null,
            "right": null,
            "justify_content": null,
            "_view_module": "@jupyter-widgets/base",
            "overflow": null,
            "_model_module_version": "1.2.0",
            "_view_count": null,
            "flex_flow": null,
            "width": null,
            "min_width": null,
            "border": null,
            "align_items": null,
            "bottom": null,
            "_model_module": "@jupyter-widgets/base",
            "top": null,
            "grid_column": null,
            "overflow_y": null,
            "overflow_x": null,
            "grid_auto_flow": null,
            "grid_area": null,
            "grid_template_columns": null,
            "flex": null,
            "_model_name": "LayoutModel",
            "justify_items": null,
            "grid_row": null,
            "max_height": null,
            "align_content": null,
            "visibility": null,
            "align_self": null,
            "height": null,
            "min_height": null,
            "padding": null,
            "grid_auto_rows": null,
            "grid_gap": null,
            "max_width": null,
            "order": null,
            "_view_module_version": "1.2.0",
            "grid_template_areas": null,
            "object_position": null,
            "object_fit": null,
            "grid_auto_columns": null,
            "margin": null,
            "display": null,
            "left": null
          }
        },
        "057a7ed32fbe4f0da351f5d04d4458b0": {
          "model_module": "@jupyter-widgets/controls",
          "model_name": "DescriptionStyleModel",
          "state": {
            "_view_name": "StyleView",
            "_model_name": "DescriptionStyleModel",
            "description_width": "",
            "_view_module": "@jupyter-widgets/base",
            "_model_module_version": "1.5.0",
            "_view_count": null,
            "_view_module_version": "1.2.0",
            "_model_module": "@jupyter-widgets/controls"
          }
        },
        "1f94bb318e6a4e85b02fc051586085b2": {
          "model_module": "@jupyter-widgets/base",
          "model_name": "LayoutModel",
          "state": {
            "_view_name": "LayoutView",
            "grid_template_rows": null,
            "right": null,
            "justify_content": null,
            "_view_module": "@jupyter-widgets/base",
            "overflow": null,
            "_model_module_version": "1.2.0",
            "_view_count": null,
            "flex_flow": null,
            "width": null,
            "min_width": null,
            "border": null,
            "align_items": null,
            "bottom": null,
            "_model_module": "@jupyter-widgets/base",
            "top": null,
            "grid_column": null,
            "overflow_y": null,
            "overflow_x": null,
            "grid_auto_flow": null,
            "grid_area": null,
            "grid_template_columns": null,
            "flex": null,
            "_model_name": "LayoutModel",
            "justify_items": null,
            "grid_row": null,
            "max_height": null,
            "align_content": null,
            "visibility": null,
            "align_self": null,
            "height": null,
            "min_height": null,
            "padding": null,
            "grid_auto_rows": null,
            "grid_gap": null,
            "max_width": null,
            "order": null,
            "_view_module_version": "1.2.0",
            "grid_template_areas": null,
            "object_position": null,
            "object_fit": null,
            "grid_auto_columns": null,
            "margin": null,
            "display": null,
            "left": null
          }
        }
      }
    }
  },
  "cells": [
    {
      "cell_type": "markdown",
      "metadata": {
        "id": "view-in-github",
        "colab_type": "text"
      },
      "source": [
        "<a href=\"https://colab.research.google.com/github/jiku100/2020-2-machine-running-proejct/blob/master/assignment11/%EC%8B%A0%EC%84%9D%EA%B2%BD_assignment_11.ipynb\" target=\"_parent\"><img src=\"https://colab.research.google.com/assets/colab-badge.svg\" alt=\"Open In Colab\"/></a>"
      ]
    },
    {
      "cell_type": "markdown",
      "metadata": {
        "id": "0gzdXwFJz0KJ"
      },
      "source": [
        "# **Classification for Multiple Categories using Pytorch for best accuracy with CNN**\n",
        "\n"
      ]
    },
    {
      "cell_type": "markdown",
      "metadata": {
        "id": "w_C7Cujjz4ff"
      },
      "source": [
        "# 1. Import library\n",
        "<hr>"
      ]
    },
    {
      "cell_type": "code",
      "metadata": {
        "id": "gtlbKT3Izgre"
      },
      "source": [
        "import torch\n",
        "import torch.nn as nn\n",
        "import torch.optim as optim\n",
        "import torch.nn.init as init\n",
        "import torchvision\n",
        "import torchvision.transforms as transforms\n",
        "import torchvision.datasets as datasets\n",
        "from torch.utils.data import DataLoader\n",
        "\n",
        "import matplotlib.pyplot as plt\n",
        "import cv2\n",
        "import numpy as np"
      ],
      "execution_count": 1,
      "outputs": []
    },
    {
      "cell_type": "code",
      "metadata": {
        "colab": {
          "base_uri": "https://localhost:8080/"
        },
        "id": "JC9KWsHg7lTJ",
        "outputId": "aa23dcc7-fcb8-459b-ab1f-88e84f990d29"
      },
      "source": [
        "USE_CUDA = torch.cuda.is_available()\n",
        "device = torch.device(\"cuda\" if USE_CUDA else \"cpu\")\n",
        "print(\"다음 기기로 학습합니다:\", device)"
      ],
      "execution_count": 2,
      "outputs": [
        {
          "output_type": "stream",
          "text": [
            "다음 기기로 학습합니다: cuda\n"
          ],
          "name": "stdout"
        }
      ]
    },
    {
      "cell_type": "markdown",
      "metadata": {
        "id": "nBCurPvD3NoM"
      },
      "source": [
        "# 2. Preprocessing Data\n",
        "<hr>"
      ]
    },
    {
      "cell_type": "code",
      "metadata": {
        "id": "4tVba13YD-s9"
      },
      "source": [
        "transform_train = transforms.Compose([\n",
        "        transforms.ToTensor(),\n",
        "        transforms.RandomRotation(20),\n",
        "        transforms.Normalize((0.1307,),(0.3081,))                    # 이미지를 텐서로 변형합니다.\n",
        "])\n",
        "\n",
        "transform_test = transforms.Compose([\n",
        "        transforms.ToTensor(), \n",
        "        transforms.Normalize((0.1307,),(0.3081,))            \n",
        "])"
      ],
      "execution_count": 3,
      "outputs": []
    },
    {
      "cell_type": "code",
      "metadata": {
        "id": "1uNdu0HqJEQv",
        "colab": {
          "base_uri": "https://localhost:8080/",
          "height": 375,
          "referenced_widgets": [
            "2e2fe462c74144a8bbcc34a73ddb5258",
            "d073c96ae04d4818a737b1e65d0bb4bb",
            "2f8bee0c37cb46b3949938c7312784e8",
            "a9c5ab791e8e454d84b3db47d5488063",
            "326d82b8a69f46c789b28a1cdd68e298",
            "c4692b4d1da64f35b5dba0fa24cce13f",
            "2f5a60a547534ded96d4a7eb3a273b3e",
            "f99d0c074a474455a8f48ddccce45ad0",
            "32d29278110145839986e38e7168efa5",
            "d9e815956eac436db999bdc3d6b4ad5f",
            "bec68744bcca4ac19ad1b724b06f8b1e",
            "a5e0cd24c6b74a37b9603e32042e08d1",
            "fc7d6d68422d4a14bb2efc96c06ad91f",
            "c9120d6da3c44827a319f209aab4e8ce",
            "a08f4435d57f4f75b99211b4b4c67e2d",
            "4e2f655e80a84819a4783b6a3cce3f72",
            "0022d152789a4222a28c1f7eddee0367",
            "a4ab8a129d944473aa6e1266e701c6ac",
            "e0367bbc1a664d3fb6276174538750ad",
            "71fedea74ef84a5ab037038c4237f91f",
            "970239e7a475420c90063dcbca9edd75",
            "7374f98b81644fb1a637d24b53ab3c06",
            "0b80df4a183b491fb3d253de492fc285",
            "ae0314699b6a4701b640aba34020d4f7",
            "915e120f4ca6466887ceee6bec44ee9d",
            "a2e813abf6c34ab28d373a674d0b8136",
            "f623117f2b6d44358aabf862fe8070bf",
            "15c2702270be445bbf2a3a0dbc176809",
            "771dce9096a649f0a8f6619c559c6aff",
            "20895b135e714e15ae10ab3f30b019ab",
            "057a7ed32fbe4f0da351f5d04d4458b0",
            "1f94bb318e6a4e85b02fc051586085b2"
          ]
        },
        "outputId": "03236555-fe80-44f2-ec12-a9265518ccc9"
      },
      "source": [
        "data_path = './MNIST'\n",
        "\n",
        "data_test   = datasets.MNIST(root = data_path, train= True, download=True, transform= transform_test)\n",
        "data_train  = datasets.MNIST(root = data_path, train= False, download=True, transform= transform_train)"
      ],
      "execution_count": 4,
      "outputs": [
        {
          "output_type": "stream",
          "text": [
            "Downloading http://yann.lecun.com/exdb/mnist/train-images-idx3-ubyte.gz to ./MNIST/MNIST/raw/train-images-idx3-ubyte.gz\n"
          ],
          "name": "stdout"
        },
        {
          "output_type": "display_data",
          "data": {
            "application/vnd.jupyter.widget-view+json": {
              "model_id": "2e2fe462c74144a8bbcc34a73ddb5258",
              "version_minor": 0,
              "version_major": 2
            },
            "text/plain": [
              "HBox(children=(FloatProgress(value=1.0, bar_style='info', max=1.0), HTML(value='')))"
            ]
          },
          "metadata": {
            "tags": []
          }
        },
        {
          "output_type": "stream",
          "text": [
            "Extracting ./MNIST/MNIST/raw/train-images-idx3-ubyte.gz to ./MNIST/MNIST/raw\n",
            "Downloading http://yann.lecun.com/exdb/mnist/train-labels-idx1-ubyte.gz to ./MNIST/MNIST/raw/train-labels-idx1-ubyte.gz\n"
          ],
          "name": "stdout"
        },
        {
          "output_type": "display_data",
          "data": {
            "application/vnd.jupyter.widget-view+json": {
              "model_id": "32d29278110145839986e38e7168efa5",
              "version_minor": 0,
              "version_major": 2
            },
            "text/plain": [
              "HBox(children=(FloatProgress(value=1.0, bar_style='info', max=1.0), HTML(value='')))"
            ]
          },
          "metadata": {
            "tags": []
          }
        },
        {
          "output_type": "stream",
          "text": [
            "Extracting ./MNIST/MNIST/raw/train-labels-idx1-ubyte.gz to ./MNIST/MNIST/raw\n",
            "Downloading http://yann.lecun.com/exdb/mnist/t10k-images-idx3-ubyte.gz to ./MNIST/MNIST/raw/t10k-images-idx3-ubyte.gz\n"
          ],
          "name": "stdout"
        },
        {
          "output_type": "display_data",
          "data": {
            "application/vnd.jupyter.widget-view+json": {
              "model_id": "0022d152789a4222a28c1f7eddee0367",
              "version_minor": 0,
              "version_major": 2
            },
            "text/plain": [
              "HBox(children=(FloatProgress(value=1.0, bar_style='info', max=1.0), HTML(value='')))"
            ]
          },
          "metadata": {
            "tags": []
          }
        },
        {
          "output_type": "stream",
          "text": [
            "Extracting ./MNIST/MNIST/raw/t10k-images-idx3-ubyte.gz to ./MNIST/MNIST/raw\n",
            "Downloading http://yann.lecun.com/exdb/mnist/t10k-labels-idx1-ubyte.gz to ./MNIST/MNIST/raw/t10k-labels-idx1-ubyte.gz\n"
          ],
          "name": "stdout"
        },
        {
          "output_type": "display_data",
          "data": {
            "application/vnd.jupyter.widget-view+json": {
              "model_id": "915e120f4ca6466887ceee6bec44ee9d",
              "version_minor": 0,
              "version_major": 2
            },
            "text/plain": [
              "HBox(children=(FloatProgress(value=1.0, bar_style='info', max=1.0), HTML(value='')))"
            ]
          },
          "metadata": {
            "tags": []
          }
        },
        {
          "output_type": "stream",
          "text": [
            "Extracting ./MNIST/MNIST/raw/t10k-labels-idx1-ubyte.gz to ./MNIST/MNIST/raw\n",
            "Processing...\n",
            "Done!\n"
          ],
          "name": "stdout"
        },
        {
          "output_type": "stream",
          "text": [
            "/usr/local/lib/python3.6/dist-packages/torchvision/datasets/mnist.py:480: UserWarning: The given NumPy array is not writeable, and PyTorch does not support non-writeable tensors. This means you can write to the underlying (supposedly non-writeable) NumPy array using the tensor. You may want to copy the array to protect its data or make it writeable before converting it to a tensor. This type of warning will be suppressed for the rest of this program. (Triggered internally at  /pytorch/torch/csrc/utils/tensor_numpy.cpp:141.)\n",
            "  return torch.from_numpy(parsed.astype(m[2], copy=False)).view(*s)\n"
          ],
          "name": "stderr"
        }
      ]
    },
    {
      "cell_type": "code",
      "metadata": {
        "colab": {
          "base_uri": "https://localhost:8080/",
          "height": 457
        },
        "id": "8SJcK-t2D3Bp",
        "outputId": "e212dc7d-3712-4e53-cba6-e744db6739f5"
      },
      "source": [
        "one_image, label = data_train[0]\n",
        "print(\"type of one image\", type(one_image))\n",
        "print(\"size of one image : \", one_image.shape)\n",
        "plt.imshow(one_image.squeeze().numpy(), cmap='gray')\n",
        "print(\"type of label : \", type(label))\n",
        "print(\"label : \", label)\n",
        "print(np.max(data_train.train_data[0].view(-1).numpy()))"
      ],
      "execution_count": 5,
      "outputs": [
        {
          "output_type": "stream",
          "text": [
            "type of one image <class 'torch.Tensor'>\n",
            "size of one image :  torch.Size([1, 28, 28])\n",
            "\n",
            "\n",
            "type of label :  <class 'int'>\n",
            "label :  7\n",
            "255\n"
          ],
          "name": "stdout"
        },
        {
          "output_type": "stream",
          "text": [
            "/usr/local/lib/python3.6/dist-packages/torchvision/datasets/mnist.py:58: UserWarning: train_data has been renamed data\n",
            "  warnings.warn(\"train_data has been renamed data\")\n"
          ],
          "name": "stderr"
        },
        {
          "output_type": "display_data",
          "data": {
            "image/png": "[encoded data removed]",
            "text/plain": [
              "<Figure size 432x288 with 1 Axes>"
            ]
          },
          "metadata": {
            "tags": [],
            "needs_background": "light"
          }
        },
        {
          "output_type": "stream",
          "text": [
            "\n",
            "\n"
          ],
          "name": "stdout"
        }
      ]
    },
    {
      "cell_type": "code",
      "metadata": {
        "id": "lUj2JTgY4r4c"
      },
      "source": [
        "learning_rate = 0.003\n",
        "training_epochs = 600\n",
        "batch_size = 256"
      ],
      "execution_count": 6,
      "outputs": []
    },
    {
      "cell_type": "code",
      "metadata": {
        "id": "CkgCtS3b3giF"
      },
      "source": [
        "train_loader = DataLoader(dataset = data_train, batch_size = batch_size, num_workers = 2, shuffle = True) ## batch size 32 짜리 train loader 생성\n",
        "test_loader = DataLoader(dataset = data_test, batch_size = batch_size, num_workers = 2, shuffle = True) ## batch size 32 짜리 test loader 생성"
      ],
      "execution_count": 7,
      "outputs": []
    },
    {
      "cell_type": "markdown",
      "metadata": {
        "id": "SCsB9Pdk6zd7"
      },
      "source": [
        "# 3. Define Model\n",
        "<hr>"
      ]
    },
    {
      "cell_type": "code",
      "metadata": {
        "id": "-cUHqcW25etQ"
      },
      "source": [
        "class classification(nn.Module):\n",
        "    def __init__(self):\n",
        "        super(classification, self).__init__()\n",
        "        \n",
        "        self.conv_block = nn.Sequential(\n",
        "            nn.Conv2d(1, 32, kernel_size=3, stride=1, padding=1),\n",
        "            nn.BatchNorm2d(32),\n",
        "            nn.ReLU(inplace=True),\n",
        "            nn.Conv2d(32, 64, kernel_size=3, stride=1, padding=1),\n",
        "            nn.BatchNorm2d(64),\n",
        "            nn.ReLU(inplace=True),\n",
        "            nn.MaxPool2d(kernel_size=2, stride=2),\n",
        "            nn.Conv2d(64, 128, kernel_size=3, stride=1, padding=1),\n",
        "            nn.BatchNorm2d(128),\n",
        "            nn.ReLU(inplace=True),\n",
        "            nn.MaxPool2d(kernel_size=2, stride=2) \n",
        "        )\n",
        "        \n",
        "        self.linear_block = nn.Sequential(\n",
        "            nn.Dropout(p=0.5),\n",
        "            nn.Linear(128*7*7, 128),\n",
        "            nn.BatchNorm1d(128),\n",
        "            nn.ReLU(inplace=True),\n",
        "            nn.Dropout(0.5),\n",
        "            nn.Linear(128, 64),\n",
        "            nn.BatchNorm1d(64),\n",
        "            nn.ReLU(inplace=True),\n",
        "            nn.Dropout(0.5),\n",
        "            nn.Linear(64, 10)\n",
        "        )\n",
        "        \n",
        "    def forward(self, x):\n",
        "        x = self.conv_block(x)\n",
        "        x = x.view(x.size(0), -1)\n",
        "        x = self.linear_block(x)\n",
        "        \n",
        "        return x"
      ],
      "execution_count": 8,
      "outputs": []
    },
    {
      "cell_type": "code",
      "metadata": {
        "id": "MWYQ30d37dwC"
      },
      "source": [
        "model = classification().to(device)"
      ],
      "execution_count": 9,
      "outputs": []
    },
    {
      "cell_type": "code",
      "metadata": {
        "id": "-GpzWr1V64wc"
      },
      "source": [
        "criterion = nn.CrossEntropyLoss().to(device)    # Softmax is internally computed.\n",
        "optimizer = torch.optim.Adam(model.parameters(), lr=learning_rate)\n",
        "scheduler = optim.lr_scheduler.StepLR(optimizer, step_size=20, gamma=0.1)"
      ],
      "execution_count": 10,
      "outputs": []
    },
    {
      "cell_type": "markdown",
      "metadata": {
        "id": "lsNWP3Wk8Siq"
      },
      "source": [
        "# 4. Training\n",
        "<hr>"
      ]
    },
    {
      "cell_type": "code",
      "metadata": {
        "id": "1_QSSPkC7sCr"
      },
      "source": [
        "total_batch= len(train_loader)"
      ],
      "execution_count": 11,
      "outputs": []
    },
    {
      "cell_type": "code",
      "metadata": {
        "colab": {
          "base_uri": "https://localhost:8080/"
        },
        "id": "9_SeUrHB5gLH",
        "outputId": "854b5ba8-05cb-4aa2-972e-1a55ec2b0055"
      },
      "source": [
        "print(total_batch)"
      ],
      "execution_count": 12,
      "outputs": [
        {
          "output_type": "stream",
          "text": [
            "40\n"
          ],
          "name": "stdout"
        }
      ]
    },
    {
      "cell_type": "code",
      "metadata": {
        "id": "eaJMZ8TvcglJ"
      },
      "source": [
        "def accuracy(log_pred, y_true):\n",
        "    y_pred = torch.argmax(log_pred, dim=1)\n",
        "    return (y_pred == y_true).to(torch.float).mean()"
      ],
      "execution_count": 13,
      "outputs": []
    },
    {
      "cell_type": "code",
      "metadata": {
        "id": "Kl5FuVgt8_LF"
      },
      "source": [
        "def training(model, loss, optim, training_epochs, train_loader, test_loader):\n",
        "  L_iters_train = []\n",
        "  accuracy_train = []\n",
        "  L_iters_test = []\n",
        "  accuracy_test = []\n",
        "  for epoch in range(training_epochs):\n",
        "    total_cost_train = 0\n",
        "    total_cost_test = 0\n",
        "    total_acc_train = 0\n",
        "    total_acc_test = 0\n",
        "    model.train()\n",
        "    for X, Y in train_loader:\n",
        "      X = X.to(device)\n",
        "      Y = Y.to(device)\n",
        "\n",
        "      optim.zero_grad()\n",
        "      train_pred = model(X)\n",
        "      cost = loss(train_pred, Y)\n",
        "      cost.backward()\n",
        "      optim.step()\n",
        "\n",
        "      total_cost_train += cost\n",
        "      total_acc_train += accuracy(train_pred, Y)\n",
        "      \n",
        "    avg_cost_train = total_cost_train / len(train_loader)\n",
        "    avg_acc_train = total_acc_train / len(train_loader)\n",
        "\n",
        "    L_iters_train.append(avg_cost_train)\n",
        "    accuracy_train.append(avg_acc_train)\n",
        "    model.eval()\n",
        "    with torch.no_grad():\n",
        "      for X_test, Y_test in test_loader:\n",
        "        X_test = X_test.to(device)\n",
        "        Y_test = Y_test.to(device)\n",
        "        test_pred = model(X_test)\n",
        "        cost_test = loss(test_pred, Y_test)\n",
        "        total_cost_test += cost_test\n",
        "        total_acc_test += accuracy(test_pred, Y_test)\n",
        "      avg_cost_test = total_cost_test / len(test_loader)\n",
        "      avg_acc_test = total_acc_test / len(test_loader)\n",
        "    \n",
        "      accuracy_test.append(avg_acc_test)\n",
        "      L_iters_test.append(avg_cost_test)\n",
        "\n",
        "    print(\"Epoch: %02d Training Loss: %.9f Testing Loss: %.9f  Training Acc: %.9f Testing Acc: %.9f\" %((epoch + 1),avg_cost_train, avg_cost_test, avg_acc_train, avg_acc_test))\n",
        "  return L_iters_train, accuracy_train, L_iters_test, accuracy_test"
      ],
      "execution_count": 14,
      "outputs": []
    },
    {
      "cell_type": "code",
      "metadata": {
        "colab": {
          "base_uri": "https://localhost:8080/"
        },
        "id": "hOfKPriA84jq",
        "outputId": "e7156a16-135e-4f5a-bc41-c74d1a106586"
      },
      "source": [
        "L_train, A_train, L_test, A_test = training(model, criterion, optimizer, training_epochs, train_loader, test_loader)"
      ],
      "execution_count": 15,
      "outputs": [
        {
          "output_type": "stream",
          "text": [
            "Epoch: 01 Training Loss: 1.083456397 Testing Loss: 0.242495477  Training Acc: 0.716894567 Testing Acc: 0.955762386\n",
            "Epoch: 02 Training Loss: 0.376250297 Testing Loss: 0.117684752  Training Acc: 0.908300817 Testing Acc: 0.965730250\n",
            "Epoch: 03 Training Loss: 0.265570283 Testing Loss: 0.111232594  Training Acc: 0.930371106 Testing Acc: 0.968772113\n",
            "Epoch: 04 Training Loss: 0.234469488 Testing Loss: 0.080927752  Training Acc: 0.933691442 Testing Acc: 0.976451635\n",
            "Epoch: 05 Training Loss: 0.210900292 Testing Loss: 0.078083321  Training Acc: 0.938183606 Testing Acc: 0.976484895\n",
            "Epoch: 06 Training Loss: 0.177668020 Testing Loss: 0.068998121  Training Acc: 0.951367199 Testing Acc: 0.979654253\n",
            "Epoch: 07 Training Loss: 0.156306610 Testing Loss: 0.062689081  Training Acc: 0.958398461 Testing Acc: 0.981078207\n",
            "Epoch: 08 Training Loss: 0.133400187 Testing Loss: 0.060542889  Training Acc: 0.965039074 Testing Acc: 0.981704295\n",
            "Epoch: 09 Training Loss: 0.129918382 Testing Loss: 0.064105079  Training Acc: 0.965039074 Testing Acc: 0.981205642\n",
            "Epoch: 10 Training Loss: 0.124704935 Testing Loss: 0.059584197  Training Acc: 0.963183582 Testing Acc: 0.982768118\n",
            "Epoch: 11 Training Loss: 0.124320462 Testing Loss: 0.055767033  Training Acc: 0.964355469 Testing Acc: 0.983964920\n",
            "Epoch: 12 Training Loss: 0.119775772 Testing Loss: 0.055261798  Training Acc: 0.965039074 Testing Acc: 0.984158874\n",
            "Epoch: 13 Training Loss: 0.112618625 Testing Loss: 0.050644975  Training Acc: 0.970507801 Testing Acc: 0.985122979\n",
            "Epoch: 14 Training Loss: 0.128037497 Testing Loss: 0.056923024  Training Acc: 0.963574231 Testing Acc: 0.983942807\n",
            "Epoch: 15 Training Loss: 0.109087743 Testing Loss: 0.055506241  Training Acc: 0.967871130 Testing Acc: 0.984225392\n",
            "Epoch: 16 Training Loss: 0.109360926 Testing Loss: 0.053298067  Training Acc: 0.969238281 Testing Acc: 0.984701872\n",
            "Epoch: 17 Training Loss: 0.104046799 Testing Loss: 0.053967781  Training Acc: 0.968652368 Testing Acc: 0.984934628\n",
            "Epoch: 18 Training Loss: 0.126091763 Testing Loss: 0.057233963  Training Acc: 0.964648426 Testing Acc: 0.984208763\n",
            "Epoch: 19 Training Loss: 0.132037431 Testing Loss: 0.053356253  Training Acc: 0.963281274 Testing Acc: 0.984773934\n",
            "Epoch: 20 Training Loss: 0.116676740 Testing Loss: 0.053396657  Training Acc: 0.966113269 Testing Acc: 0.985128522\n",
            "Epoch: 21 Training Loss: 0.097769186 Testing Loss: 0.059784666  Training Acc: 0.972851574 Testing Acc: 0.983289003\n",
            "Epoch: 22 Training Loss: 0.090973280 Testing Loss: 0.056265984  Training Acc: 0.976367176 Testing Acc: 0.984524548\n",
            "Epoch: 23 Training Loss: 0.084153928 Testing Loss: 0.057762727  Training Acc: 0.975781262 Testing Acc: 0.984640956\n",
            "Epoch: 24 Training Loss: 0.081741393 Testing Loss: 0.050455585  Training Acc: 0.976171911 Testing Acc: 0.986303151\n",
            "Epoch: 25 Training Loss: 0.100131236 Testing Loss: 0.051807031  Training Acc: 0.976953149 Testing Acc: 0.986098170\n",
            "Epoch: 26 Training Loss: 0.103036545 Testing Loss: 0.053621922  Training Acc: 0.970703125 Testing Acc: 0.985222697\n",
            "Epoch: 27 Training Loss: 0.091217853 Testing Loss: 0.052731257  Training Acc: 0.973437488 Testing Acc: 0.985521913\n",
            "Epoch: 28 Training Loss: 0.093239270 Testing Loss: 0.052135471  Training Acc: 0.975585938 Testing Acc: 0.985577285\n",
            "Epoch: 29 Training Loss: 0.105014503 Testing Loss: 0.051056232  Training Acc: 0.968750000 Testing Acc: 0.985992849\n",
            "Epoch: 30 Training Loss: 0.088443063 Testing Loss: 0.049885537  Training Acc: 0.972656250 Testing Acc: 0.986308694\n",
            "Epoch: 31 Training Loss: 0.088031955 Testing Loss: 0.051670603  Training Acc: 0.973730505 Testing Acc: 0.986053824\n",
            "Epoch: 32 Training Loss: 0.093164124 Testing Loss: 0.048208017  Training Acc: 0.977343738 Testing Acc: 0.987250626\n",
            "Epoch: 33 Training Loss: 0.090932272 Testing Loss: 0.053021625  Training Acc: 0.974511743 Testing Acc: 0.986203432\n",
            "Epoch: 34 Training Loss: 0.090068378 Testing Loss: 0.050691415  Training Acc: 0.976171911 Testing Acc: 0.986425042\n",
            "Epoch: 35 Training Loss: 0.080366671 Testing Loss: 0.046960123  Training Acc: 0.975976586 Testing Acc: 0.987422347\n",
            "Epoch: 36 Training Loss: 0.082249753 Testing Loss: 0.046205625  Training Acc: 0.976074219 Testing Acc: 0.987195253\n",
            "Epoch: 37 Training Loss: 0.067012139 Testing Loss: 0.045574229  Training Acc: 0.982128918 Testing Acc: 0.987571955\n",
            "Epoch: 38 Training Loss: 0.067349665 Testing Loss: 0.047074642  Training Acc: 0.981835961 Testing Acc: 0.987638474\n",
            "Epoch: 39 Training Loss: 0.075220190 Testing Loss: 0.049156103  Training Acc: 0.978320301 Testing Acc: 0.986774087\n",
            "Epoch: 40 Training Loss: 0.071563236 Testing Loss: 0.046775255  Training Acc: 0.981738269 Testing Acc: 0.987571955\n",
            "Epoch: 41 Training Loss: 0.085048161 Testing Loss: 0.047151580  Training Acc: 0.975000024 Testing Acc: 0.987538755\n",
            "Epoch: 42 Training Loss: 0.072628267 Testing Loss: 0.045738541  Training Acc: 0.979199231 Testing Acc: 0.987416863\n",
            "Epoch: 43 Training Loss: 0.065410741 Testing Loss: 0.046007920  Training Acc: 0.981249988 Testing Acc: 0.988065124\n",
            "Epoch: 44 Training Loss: 0.066974007 Testing Loss: 0.045536708  Training Acc: 0.978320301 Testing Acc: 0.988181472\n",
            "Epoch: 45 Training Loss: 0.078187011 Testing Loss: 0.050716151  Training Acc: 0.976953149 Testing Acc: 0.987145364\n",
            "Epoch: 46 Training Loss: 0.079259939 Testing Loss: 0.051058568  Training Acc: 0.977246106 Testing Acc: 0.986945927\n",
            "Epoch: 47 Training Loss: 0.085982919 Testing Loss: 0.054718271  Training Acc: 0.975097656 Testing Acc: 0.986059368\n",
            "Epoch: 48 Training Loss: 0.073390335 Testing Loss: 0.045668602  Training Acc: 0.980078161 Testing Acc: 0.987871170\n",
            "Epoch: 49 Training Loss: 0.065686636 Testing Loss: 0.048679903  Training Acc: 0.981249988 Testing Acc: 0.987860143\n",
            "Epoch: 50 Training Loss: 0.070016868 Testing Loss: 0.048882093  Training Acc: 0.979394555 Testing Acc: 0.987366974\n",
            "Epoch: 51 Training Loss: 0.064814605 Testing Loss: 0.046190377  Training Acc: 0.980761707 Testing Acc: 0.988297820\n",
            "Epoch: 52 Training Loss: 0.046063744 Testing Loss: 0.044684827  Training Acc: 0.987304688 Testing Acc: 0.988646924\n",
            "Epoch: 53 Training Loss: 0.055980515 Testing Loss: 0.045625474  Training Acc: 0.984960973 Testing Acc: 0.988469601\n",
            "Epoch: 54 Training Loss: 0.073395245 Testing Loss: 0.047295101  Training Acc: 0.979199231 Testing Acc: 0.987677276\n",
            "Epoch: 55 Training Loss: 0.065796785 Testing Loss: 0.051279131  Training Acc: 0.979980469 Testing Acc: 0.987017930\n",
            "Epoch: 56 Training Loss: 0.059981909 Testing Loss: 0.049835287  Training Acc: 0.982812524 Testing Acc: 0.987056673\n",
            "Epoch: 57 Training Loss: 0.055997260 Testing Loss: 0.050426181  Training Acc: 0.983886719 Testing Acc: 0.987134278\n",
            "Epoch: 58 Training Loss: 0.082133584 Testing Loss: 0.048744973  Training Acc: 0.978515625 Testing Acc: 0.987001300\n",
            "Epoch: 59 Training Loss: 0.070610896 Testing Loss: 0.050120004  Training Acc: 0.979394555 Testing Acc: 0.987217367\n",
            "Epoch: 60 Training Loss: 0.061980683 Testing Loss: 0.045244794  Training Acc: 0.984179676 Testing Acc: 0.987887800\n",
            "Epoch: 61 Training Loss: 0.077731974 Testing Loss: 0.052335184  Training Acc: 0.976953149 Testing Acc: 0.986718714\n",
            "Epoch: 62 Training Loss: 0.065582298 Testing Loss: 0.046369974  Training Acc: 0.978906274 Testing Acc: 0.987749279\n",
            "Epoch: 63 Training Loss: 0.060000934 Testing Loss: 0.046309758  Training Acc: 0.983789086 Testing Acc: 0.988087296\n",
            "Epoch: 64 Training Loss: 0.049067281 Testing Loss: 0.044294685  Training Acc: 0.987500012 Testing Acc: 0.988364339\n",
            "Epoch: 65 Training Loss: 0.052201685 Testing Loss: 0.046712559  Training Acc: 0.985449255 Testing Acc: 0.988353252\n",
            "Epoch: 66 Training Loss: 0.063372456 Testing Loss: 0.048685610  Training Acc: 0.983886719 Testing Acc: 0.987871170\n",
            "Epoch: 67 Training Loss: 0.057346571 Testing Loss: 0.047474734  Training Acc: 0.984277368 Testing Acc: 0.988264620\n",
            "Epoch: 68 Training Loss: 0.054711837 Testing Loss: 0.047115721  Training Acc: 0.985156238 Testing Acc: 0.988092840\n",
            "Epoch: 69 Training Loss: 0.047666829 Testing Loss: 0.045985814  Training Acc: 0.985058606 Testing Acc: 0.988452971\n",
            "Epoch: 70 Training Loss: 0.042279799 Testing Loss: 0.051009003  Training Acc: 0.988281250 Testing Acc: 0.987677276\n",
            "Epoch: 71 Training Loss: 0.046901986 Testing Loss: 0.049452897  Training Acc: 0.985058606 Testing Acc: 0.987704933\n",
            "Epoch: 72 Training Loss: 0.050618351 Testing Loss: 0.050386660  Training Acc: 0.985156238 Testing Acc: 0.988020778\n",
            "Epoch: 73 Training Loss: 0.047078647 Testing Loss: 0.050403047  Training Acc: 0.985644519 Testing Acc: 0.987782538\n",
            "Epoch: 74 Training Loss: 0.042550821 Testing Loss: 0.046066441  Training Acc: 0.988183618 Testing Acc: 0.988752186\n",
            "Epoch: 75 Training Loss: 0.040973444 Testing Loss: 0.048678920  Training Acc: 0.987988293 Testing Acc: 0.988220274\n",
            "Epoch: 76 Training Loss: 0.050263215 Testing Loss: 0.051218368  Training Acc: 0.987597644 Testing Acc: 0.987649560\n",
            "Epoch: 77 Training Loss: 0.060061879 Testing Loss: 0.052234106  Training Acc: 0.984570324 Testing Acc: 0.987450123\n",
            "Epoch: 78 Training Loss: 0.057430942 Testing Loss: 0.051220015  Training Acc: 0.982910156 Testing Acc: 0.987616301\n",
            "Epoch: 79 Training Loss: 0.078633621 Testing Loss: 0.051292259  Training Acc: 0.978613317 Testing Acc: 0.987660646\n",
            "Epoch: 80 Training Loss: 0.053093374 Testing Loss: 0.049680103  Training Acc: 0.984960973 Testing Acc: 0.987599730\n",
            "Epoch: 81 Training Loss: 0.043921970 Testing Loss: 0.047495957  Training Acc: 0.987402380 Testing Acc: 0.988392055\n",
            "Epoch: 82 Training Loss: 0.054079074 Testing Loss: 0.050453920  Training Acc: 0.984179676 Testing Acc: 0.988048494\n",
            "Epoch: 83 Training Loss: 0.059089001 Testing Loss: 0.056373663  Training Acc: 0.981347680 Testing Acc: 0.986846149\n",
            "Epoch: 84 Training Loss: 0.062384557 Testing Loss: 0.050398391  Training Acc: 0.982617199 Testing Acc: 0.987499952\n",
            "Epoch: 85 Training Loss: 0.068667859 Testing Loss: 0.057344694  Training Acc: 0.981543005 Testing Acc: 0.986015081\n",
            "Epoch: 86 Training Loss: 0.057133503 Testing Loss: 0.049080681  Training Acc: 0.982812524 Testing Acc: 0.987616301\n",
            "Epoch: 87 Training Loss: 0.055875998 Testing Loss: 0.049482733  Training Acc: 0.984179676 Testing Acc: 0.987317145\n",
            "Epoch: 88 Training Loss: 0.068167113 Testing Loss: 0.050387349  Training Acc: 0.980957031 Testing Acc: 0.987716079\n",
            "Epoch: 89 Training Loss: 0.073423579 Testing Loss: 0.050172694  Training Acc: 0.980078161 Testing Acc: 0.987538755\n",
            "Epoch: 90 Training Loss: 0.054375183 Testing Loss: 0.047028542  Training Acc: 0.985253930 Testing Acc: 0.988126099\n",
            "Epoch: 91 Training Loss: 0.047773976 Testing Loss: 0.047552124  Training Acc: 0.985546887 Testing Acc: 0.988253474\n",
            "Epoch: 92 Training Loss: 0.043844808 Testing Loss: 0.046949752  Training Acc: 0.988085926 Testing Acc: 0.988547206\n",
            "Epoch: 93 Training Loss: 0.047931038 Testing Loss: 0.045299400  Training Acc: 0.986035168 Testing Acc: 0.988763273\n",
            "Epoch: 94 Training Loss: 0.053118821 Testing Loss: 0.051909156  Training Acc: 0.984472692 Testing Acc: 0.987932146\n",
            "Epoch: 95 Training Loss: 0.070731722 Testing Loss: 0.046247918  Training Acc: 0.979199231 Testing Acc: 0.988242447\n",
            "Epoch: 96 Training Loss: 0.063893609 Testing Loss: 0.047075722  Training Acc: 0.983886719 Testing Acc: 0.987965405\n",
            "Epoch: 97 Training Loss: 0.069386549 Testing Loss: 0.047201224  Training Acc: 0.979492188 Testing Acc: 0.988153756\n",
            "Epoch: 98 Training Loss: 0.052309055 Testing Loss: 0.048626732  Training Acc: 0.982617199 Testing Acc: 0.987837911\n",
            "Epoch: 99 Training Loss: 0.051908929 Testing Loss: 0.046955820  Training Acc: 0.985546887 Testing Acc: 0.988585949\n",
            "Epoch: 100 Training Loss: 0.063869119 Testing Loss: 0.051507000  Training Acc: 0.980664074 Testing Acc: 0.987810254\n",
            "Epoch: 101 Training Loss: 0.063682131 Testing Loss: 0.055646036  Training Acc: 0.980566442 Testing Acc: 0.987195253\n",
            "Epoch: 102 Training Loss: 0.050948370 Testing Loss: 0.052021831  Training Acc: 0.986328125 Testing Acc: 0.987605214\n",
            "Epoch: 103 Training Loss: 0.045384295 Testing Loss: 0.049213838  Training Acc: 0.986230493 Testing Acc: 0.988181472\n",
            "Epoch: 104 Training Loss: 0.041978631 Testing Loss: 0.046756085  Training Acc: 0.987695336 Testing Acc: 0.988635778\n",
            "Epoch: 105 Training Loss: 0.039621923 Testing Loss: 0.047352500  Training Acc: 0.988867223 Testing Acc: 0.988735557\n",
            "Epoch: 106 Training Loss: 0.036049675 Testing Loss: 0.046666160  Training Acc: 0.989160180 Testing Acc: 0.988790989\n",
            "Epoch: 107 Training Loss: 0.038408022 Testing Loss: 0.044796851  Training Acc: 0.988378942 Testing Acc: 0.989527881\n",
            "Epoch: 108 Training Loss: 0.037692957 Testing Loss: 0.046483427  Training Acc: 0.989355505 Testing Acc: 0.989040315\n",
            "Epoch: 109 Training Loss: 0.033778183 Testing Loss: 0.045003958  Training Acc: 0.989843786 Testing Acc: 0.989422619\n",
            "Epoch: 110 Training Loss: 0.040434998 Testing Loss: 0.050604876  Training Acc: 0.987402380 Testing Acc: 0.988292336\n",
            "Epoch: 111 Training Loss: 0.065372601 Testing Loss: 0.047698669  Training Acc: 0.982617199 Testing Acc: 0.989079118\n",
            "Epoch: 112 Training Loss: 0.058742817 Testing Loss: 0.045105703  Training Acc: 0.984277368 Testing Acc: 0.989660859\n",
            "Epoch: 113 Training Loss: 0.055145632 Testing Loss: 0.052013244  Training Acc: 0.984765649 Testing Acc: 0.987289369\n",
            "Epoch: 114 Training Loss: 0.043377869 Testing Loss: 0.044870093  Training Acc: 0.987500012 Testing Acc: 0.989178836\n",
            "Epoch: 115 Training Loss: 0.046032429 Testing Loss: 0.047996979  Training Acc: 0.987792969 Testing Acc: 0.988364339\n",
            "Epoch: 116 Training Loss: 0.045817502 Testing Loss: 0.046354353  Training Acc: 0.986523449 Testing Acc: 0.989200950\n",
            "Epoch: 117 Training Loss: 0.038183194 Testing Loss: 0.046566598  Training Acc: 0.990136743 Testing Acc: 0.988868535\n",
            "Epoch: 118 Training Loss: 0.034706902 Testing Loss: 0.045235824  Training Acc: 0.991113305 Testing Acc: 0.989478052\n",
            "Epoch: 119 Training Loss: 0.046590023 Testing Loss: 0.044427767  Training Acc: 0.986914098 Testing Acc: 0.989649773\n",
            "Epoch: 120 Training Loss: 0.038899429 Testing Loss: 0.048308425  Training Acc: 0.989453137 Testing Acc: 0.988403082\n",
            "Epoch: 121 Training Loss: 0.045392234 Testing Loss: 0.047864512  Training Acc: 0.986132801 Testing Acc: 0.988746643\n",
            "Epoch: 122 Training Loss: 0.043062489 Testing Loss: 0.047734659  Training Acc: 0.989160180 Testing Acc: 0.988968253\n",
            "Epoch: 123 Training Loss: 0.040150773 Testing Loss: 0.046539575  Training Acc: 0.988867223 Testing Acc: 0.989034772\n",
            "Epoch: 124 Training Loss: 0.042594865 Testing Loss: 0.047939755  Training Acc: 0.988281250 Testing Acc: 0.989184320\n",
            "Epoch: 125 Training Loss: 0.032304004 Testing Loss: 0.043939188  Training Acc: 0.989453137 Testing Acc: 0.989910185\n",
            "Epoch: 126 Training Loss: 0.035909917 Testing Loss: 0.045877010  Training Acc: 0.988671899 Testing Acc: 0.989411533\n",
            "Epoch: 127 Training Loss: 0.037013914 Testing Loss: 0.048019655  Training Acc: 0.990527332 Testing Acc: 0.988979340\n",
            "Epoch: 128 Training Loss: 0.040536936 Testing Loss: 0.049149744  Training Acc: 0.989257812 Testing Acc: 0.988912880\n",
            "Epoch: 129 Training Loss: 0.047677565 Testing Loss: 0.055157784  Training Acc: 0.987207055 Testing Acc: 0.988209188\n",
            "Epoch: 130 Training Loss: 0.035671294 Testing Loss: 0.052535646  Training Acc: 0.987695336 Testing Acc: 0.988491774\n",
            "Epoch: 131 Training Loss: 0.045197677 Testing Loss: 0.045594055  Training Acc: 0.987988293 Testing Acc: 0.989749491\n",
            "Epoch: 132 Training Loss: 0.052115746 Testing Loss: 0.050201882  Training Acc: 0.987011731 Testing Acc: 0.988669038\n",
            "Epoch: 133 Training Loss: 0.036002427 Testing Loss: 0.048881274  Training Acc: 0.988281250 Testing Acc: 0.989040315\n",
            "Epoch: 134 Training Loss: 0.033750907 Testing Loss: 0.045919724  Training Acc: 0.990332067 Testing Acc: 0.989638746\n",
            "Epoch: 135 Training Loss: 0.030305821 Testing Loss: 0.046431925  Training Acc: 0.990332067 Testing Acc: 0.989067972\n",
            "Epoch: 136 Training Loss: 0.032598894 Testing Loss: 0.047527436  Training Acc: 0.990234375 Testing Acc: 0.989328444\n",
            "Epoch: 137 Training Loss: 0.025574792 Testing Loss: 0.045732517  Training Acc: 0.993066430 Testing Acc: 0.989206553\n",
            "Epoch: 138 Training Loss: 0.027420608 Testing Loss: 0.044605892  Training Acc: 0.991015613 Testing Acc: 0.990032077\n",
            "Epoch: 139 Training Loss: 0.036696639 Testing Loss: 0.046428621  Training Acc: 0.988671899 Testing Acc: 0.989605486\n",
            "Epoch: 140 Training Loss: 0.036852468 Testing Loss: 0.047726877  Training Acc: 0.990332067 Testing Acc: 0.989378273\n",
            "Epoch: 141 Training Loss: 0.052276809 Testing Loss: 0.047619250  Training Acc: 0.986132801 Testing Acc: 0.989550054\n",
            "Epoch: 142 Training Loss: 0.058275640 Testing Loss: 0.054705735  Training Acc: 0.983593762 Testing Acc: 0.988513947\n",
            "Epoch: 143 Training Loss: 0.037346959 Testing Loss: 0.049937382  Training Acc: 0.988281250 Testing Acc: 0.988896251\n",
            "Epoch: 144 Training Loss: 0.033207532 Testing Loss: 0.055554293  Training Acc: 0.990136743 Testing Acc: 0.988552690\n",
            "Epoch: 145 Training Loss: 0.043021001 Testing Loss: 0.050419778  Training Acc: 0.986035168 Testing Acc: 0.989101231\n",
            "Epoch: 146 Training Loss: 0.047150616 Testing Loss: 0.055189021  Training Acc: 0.986230493 Testing Acc: 0.988497317\n",
            "Epoch: 147 Training Loss: 0.040566683 Testing Loss: 0.049221251  Training Acc: 0.988183618 Testing Acc: 0.989173293\n",
            "Epoch: 148 Training Loss: 0.031044221 Testing Loss: 0.051890634  Training Acc: 0.989453137 Testing Acc: 0.988851905\n",
            "Epoch: 149 Training Loss: 0.037034899 Testing Loss: 0.047848586  Training Acc: 0.988964856 Testing Acc: 0.989428163\n",
            "Epoch: 150 Training Loss: 0.032277603 Testing Loss: 0.050695341  Training Acc: 0.991113305 Testing Acc: 0.988724530\n",
            "Epoch: 151 Training Loss: 0.025053456 Testing Loss: 0.048150826  Training Acc: 0.992285192 Testing Acc: 0.989378273\n",
            "Epoch: 152 Training Loss: 0.031050665 Testing Loss: 0.051356979  Training Acc: 0.990722656 Testing Acc: 0.989151120\n",
            "Epoch: 153 Training Loss: 0.035426740 Testing Loss: 0.049762141  Training Acc: 0.989843786 Testing Acc: 0.989151120\n",
            "Epoch: 154 Training Loss: 0.036699105 Testing Loss: 0.050631650  Training Acc: 0.990332067 Testing Acc: 0.989062488\n",
            "Epoch: 155 Training Loss: 0.031913135 Testing Loss: 0.050875485  Training Acc: 0.990234375 Testing Acc: 0.989084601\n",
            "Epoch: 156 Training Loss: 0.066996329 Testing Loss: 0.054309256  Training Acc: 0.984765649 Testing Acc: 0.988469601\n",
            "Epoch: 157 Training Loss: 0.048766401 Testing Loss: 0.057154838  Training Acc: 0.987500012 Testing Acc: 0.987765908\n",
            "Epoch: 158 Training Loss: 0.052321143 Testing Loss: 0.052194040  Training Acc: 0.986230493 Testing Acc: 0.988469601\n",
            "Epoch: 159 Training Loss: 0.038738724 Testing Loss: 0.053003121  Training Acc: 0.989453137 Testing Acc: 0.988353252\n",
            "Epoch: 160 Training Loss: 0.034875091 Testing Loss: 0.049171597  Training Acc: 0.990820348 Testing Acc: 0.988735557\n",
            "Epoch: 161 Training Loss: 0.033286687 Testing Loss: 0.045473401  Training Acc: 0.990625024 Testing Acc: 0.989649773\n",
            "Epoch: 162 Training Loss: 0.029066226 Testing Loss: 0.050036661  Training Acc: 0.991796911 Testing Acc: 0.989345074\n",
            "Epoch: 163 Training Loss: 0.035040352 Testing Loss: 0.048641115  Training Acc: 0.989453137 Testing Acc: 0.989151120\n",
            "Epoch: 164 Training Loss: 0.034641292 Testing Loss: 0.047288895  Training Acc: 0.990136743 Testing Acc: 0.989633143\n",
            "Epoch: 165 Training Loss: 0.034483250 Testing Loss: 0.051845994  Training Acc: 0.991015613 Testing Acc: 0.989228666\n",
            "Epoch: 166 Training Loss: 0.027399585 Testing Loss: 0.047707055  Training Acc: 0.992773473 Testing Acc: 0.989489138\n",
            "Epoch: 167 Training Loss: 0.027245820 Testing Loss: 0.048400890  Training Acc: 0.991992176 Testing Acc: 0.989328444\n",
            "Epoch: 168 Training Loss: 0.033623826 Testing Loss: 0.053847920  Training Acc: 0.991406262 Testing Acc: 0.989001513\n",
            "Epoch: 169 Training Loss: 0.038126513 Testing Loss: 0.050309341  Training Acc: 0.990820348 Testing Acc: 0.989145577\n",
            "Epoch: 170 Training Loss: 0.037549991 Testing Loss: 0.047757041  Training Acc: 0.990429699 Testing Acc: 0.989710748\n",
            "Epoch: 171 Training Loss: 0.027231550 Testing Loss: 0.051599190  Training Acc: 0.992285192 Testing Acc: 0.988907337\n",
            "Epoch: 172 Training Loss: 0.026741324 Testing Loss: 0.047888629  Training Acc: 0.993359387 Testing Acc: 0.989705205\n",
            "Epoch: 173 Training Loss: 0.020779766 Testing Loss: 0.047729764  Training Acc: 0.993847668 Testing Acc: 0.989500165\n",
            "Epoch: 174 Training Loss: 0.021668350 Testing Loss: 0.045529790  Training Acc: 0.994335949 Testing Acc: 0.989904702\n",
            "Epoch: 175 Training Loss: 0.035540462 Testing Loss: 0.049441371  Training Acc: 0.991992176 Testing Acc: 0.989356160\n",
            "Epoch: 176 Training Loss: 0.040511541 Testing Loss: 0.051126000  Training Acc: 0.986914098 Testing Acc: 0.988934994\n",
            "Epoch: 177 Training Loss: 0.037336539 Testing Loss: 0.054447360  Training Acc: 0.990332067 Testing Acc: 0.988447428\n",
            "Epoch: 178 Training Loss: 0.037955262 Testing Loss: 0.052214671  Training Acc: 0.987890661 Testing Acc: 0.988530576\n",
            "Epoch: 179 Training Loss: 0.035241362 Testing Loss: 0.049229272  Training Acc: 0.989941418 Testing Acc: 0.989134490\n",
            "Epoch: 180 Training Loss: 0.036919121 Testing Loss: 0.049180999  Training Acc: 0.990527332 Testing Acc: 0.989145577\n",
            "Epoch: 181 Training Loss: 0.038369652 Testing Loss: 0.051551688  Training Acc: 0.988867223 Testing Acc: 0.988707900\n",
            "Epoch: 182 Training Loss: 0.032095294 Testing Loss: 0.048903812  Training Acc: 0.990820348 Testing Acc: 0.989306271\n",
            "Epoch: 183 Training Loss: 0.027336150 Testing Loss: 0.048366122  Training Acc: 0.991894543 Testing Acc: 0.989522398\n",
            "Epoch: 184 Training Loss: 0.033762675 Testing Loss: 0.047773756  Training Acc: 0.991210938 Testing Acc: 0.989433706\n",
            "Epoch: 185 Training Loss: 0.033388961 Testing Loss: 0.051827006  Training Acc: 0.990625024 Testing Acc: 0.989151120\n",
            "Epoch: 186 Training Loss: 0.051561724 Testing Loss: 0.053893875  Training Acc: 0.985351562 Testing Acc: 0.988730013\n",
            "Epoch: 187 Training Loss: 0.049180586 Testing Loss: 0.051082358  Training Acc: 0.983007848 Testing Acc: 0.989284098\n",
            "Epoch: 188 Training Loss: 0.041249555 Testing Loss: 0.055874132  Training Acc: 0.988378942 Testing Acc: 0.988220274\n",
            "Epoch: 189 Training Loss: 0.036161270 Testing Loss: 0.049414467  Training Acc: 0.990039051 Testing Acc: 0.989367187\n",
            "Epoch: 190 Training Loss: 0.027392561 Testing Loss: 0.051983852  Training Acc: 0.990722656 Testing Acc: 0.989018142\n",
            "Epoch: 191 Training Loss: 0.031276941 Testing Loss: 0.049901012  Training Acc: 0.990917981 Testing Acc: 0.989555597\n",
            "Epoch: 192 Training Loss: 0.032256413 Testing Loss: 0.050290890  Training Acc: 0.990625024 Testing Acc: 0.989184320\n",
            "Epoch: 193 Training Loss: 0.033555191 Testing Loss: 0.053169783  Training Acc: 0.989453137 Testing Acc: 0.988934994\n",
            "Epoch: 194 Training Loss: 0.033187073 Testing Loss: 0.050457478  Training Acc: 0.990039051 Testing Acc: 0.989184320\n",
            "Epoch: 195 Training Loss: 0.028419837 Testing Loss: 0.045174103  Training Acc: 0.991796911 Testing Acc: 0.990021050\n",
            "Epoch: 196 Training Loss: 0.030055959 Testing Loss: 0.053072866  Training Acc: 0.991503894 Testing Acc: 0.988752186\n",
            "Epoch: 197 Training Loss: 0.028338565 Testing Loss: 0.047084026  Training Acc: 0.991503894 Testing Acc: 0.990009964\n",
            "Epoch: 198 Training Loss: 0.028098974 Testing Loss: 0.049402498  Training Acc: 0.990820348 Testing Acc: 0.989500165\n",
            "Epoch: 199 Training Loss: 0.043526523 Testing Loss: 0.051746931  Training Acc: 0.988476574 Testing Acc: 0.989145577\n",
            "Epoch: 200 Training Loss: 0.029431347 Testing Loss: 0.048202965  Training Acc: 0.991406262 Testing Acc: 0.989527881\n",
            "Epoch: 201 Training Loss: 0.023009866 Testing Loss: 0.050726034  Training Acc: 0.992773473 Testing Acc: 0.988962710\n",
            "Epoch: 202 Training Loss: 0.027762285 Testing Loss: 0.050589904  Training Acc: 0.990527332 Testing Acc: 0.989079118\n",
            "Epoch: 203 Training Loss: 0.023393193 Testing Loss: 0.048762713  Training Acc: 0.993261755 Testing Acc: 0.989793837\n",
            "Epoch: 204 Training Loss: 0.023662744 Testing Loss: 0.047273479  Training Acc: 0.994140625 Testing Acc: 0.990093052\n",
            "Epoch: 205 Training Loss: 0.021289600 Testing Loss: 0.052991077  Training Acc: 0.993652344 Testing Acc: 0.989444792\n",
            "Epoch: 206 Training Loss: 0.083087176 Testing Loss: 0.052269034  Training Acc: 0.988281250 Testing Acc: 0.989694118\n",
            "Epoch: 207 Training Loss: 0.043292087 Testing Loss: 0.056809299  Training Acc: 0.988867223 Testing Acc: 0.988181472\n",
            "Epoch: 208 Training Loss: 0.039127730 Testing Loss: 0.055939909  Training Acc: 0.989453137 Testing Acc: 0.989040315\n",
            "Epoch: 209 Training Loss: 0.027873961 Testing Loss: 0.050178736  Training Acc: 0.992871106 Testing Acc: 0.989533424\n",
            "Epoch: 210 Training Loss: 0.024463927 Testing Loss: 0.053810537  Training Acc: 0.992675781 Testing Acc: 0.988896251\n",
            "Epoch: 211 Training Loss: 0.032216009 Testing Loss: 0.047241963  Training Acc: 0.991992176 Testing Acc: 0.990131795\n",
            "Epoch: 212 Training Loss: 0.022056906 Testing Loss: 0.048012327  Training Acc: 0.993750036 Testing Acc: 0.989865839\n",
            "Epoch: 213 Training Loss: 0.027135242 Testing Loss: 0.050038956  Training Acc: 0.993164062 Testing Acc: 0.989910185\n",
            "Epoch: 214 Training Loss: 0.030033136 Testing Loss: 0.050436489  Training Acc: 0.990625024 Testing Acc: 0.989865839\n",
            "Epoch: 215 Training Loss: 0.036036067 Testing Loss: 0.054725338  Training Acc: 0.991308630 Testing Acc: 0.988885164\n",
            "Epoch: 216 Training Loss: 0.027753681 Testing Loss: 0.048156474  Training Acc: 0.991503894 Testing Acc: 0.990032077\n",
            "Epoch: 217 Training Loss: 0.018172808 Testing Loss: 0.050750472  Training Acc: 0.995019555 Testing Acc: 0.989677489\n",
            "Epoch: 218 Training Loss: 0.044389840 Testing Loss: 0.052698806  Training Acc: 0.992968738 Testing Acc: 0.989378273\n",
            "Epoch: 219 Training Loss: 0.048805665 Testing Loss: 0.058839351  Training Acc: 0.986035168 Testing Acc: 0.988752186\n",
            "Epoch: 220 Training Loss: 0.064899832 Testing Loss: 0.056016061  Training Acc: 0.981640637 Testing Acc: 0.988342166\n",
            "Epoch: 221 Training Loss: 0.056473184 Testing Loss: 0.051977579  Training Acc: 0.986816406 Testing Acc: 0.988901794\n",
            "Epoch: 222 Training Loss: 0.052284747 Testing Loss: 0.050835051  Training Acc: 0.985253930 Testing Acc: 0.988934994\n",
            "Epoch: 223 Training Loss: 0.046126526 Testing Loss: 0.048220005  Training Acc: 0.987890661 Testing Acc: 0.989245296\n",
            "Epoch: 224 Training Loss: 0.046642017 Testing Loss: 0.054737303  Training Acc: 0.987109363 Testing Acc: 0.988209188\n",
            "Epoch: 225 Training Loss: 0.041550543 Testing Loss: 0.052385621  Training Acc: 0.988769531 Testing Acc: 0.988203645\n",
            "Epoch: 226 Training Loss: 0.030057454 Testing Loss: 0.051215451  Training Acc: 0.992480457 Testing Acc: 0.988646924\n",
            "Epoch: 227 Training Loss: 0.057765689 Testing Loss: 0.047043376  Training Acc: 0.989746094 Testing Acc: 0.989455879\n",
            "Epoch: 228 Training Loss: 0.034099437 Testing Loss: 0.049884129  Training Acc: 0.989648461 Testing Acc: 0.989234209\n",
            "Epoch: 229 Training Loss: 0.036892038 Testing Loss: 0.049555831  Training Acc: 0.989746094 Testing Acc: 0.989333928\n",
            "Epoch: 230 Training Loss: 0.034822680 Testing Loss: 0.047990803  Training Acc: 0.989062488 Testing Acc: 0.989694118\n",
            "Epoch: 231 Training Loss: 0.024927748 Testing Loss: 0.044829655  Training Acc: 0.992871106 Testing Acc: 0.989987791\n",
            "Epoch: 232 Training Loss: 0.025405863 Testing Loss: 0.046267059  Training Acc: 0.992871106 Testing Acc: 0.989921331\n",
            "Epoch: 233 Training Loss: 0.021507887 Testing Loss: 0.044929113  Training Acc: 0.994238317 Testing Acc: 0.990209401\n",
            "Epoch: 234 Training Loss: 0.053996302 Testing Loss: 0.051037718  Training Acc: 0.992382824 Testing Acc: 0.989694118\n",
            "Epoch: 235 Training Loss: 0.049572971 Testing Loss: 0.051540341  Training Acc: 0.986230493 Testing Acc: 0.989428163\n",
            "Epoch: 236 Training Loss: 0.026987270 Testing Loss: 0.047547460  Training Acc: 0.991894543 Testing Acc: 0.989444792\n",
            "Epoch: 237 Training Loss: 0.026627064 Testing Loss: 0.047371380  Training Acc: 0.992187500 Testing Acc: 0.989738464\n",
            "Epoch: 238 Training Loss: 0.019252557 Testing Loss: 0.046824303  Training Acc: 0.993847668 Testing Acc: 0.989893615\n",
            "Epoch: 239 Training Loss: 0.031663008 Testing Loss: 0.047495514  Training Acc: 0.991894543 Testing Acc: 0.990098596\n",
            "Epoch: 240 Training Loss: 0.024345066 Testing Loss: 0.049068555  Training Acc: 0.991992176 Testing Acc: 0.989400446\n",
            "Epoch: 241 Training Loss: 0.043950684 Testing Loss: 0.051704779  Training Acc: 0.989648461 Testing Acc: 0.989383817\n",
            "Epoch: 242 Training Loss: 0.038681991 Testing Loss: 0.055898011  Training Acc: 0.987890661 Testing Acc: 0.988746643\n",
            "Epoch: 243 Training Loss: 0.035851751 Testing Loss: 0.048963241  Training Acc: 0.990332067 Testing Acc: 0.989588857\n",
            "Epoch: 244 Training Loss: 0.032299180 Testing Loss: 0.050278410  Training Acc: 0.990429699 Testing Acc: 0.989466906\n",
            "Epoch: 245 Training Loss: 0.045829609 Testing Loss: 0.049928837  Training Acc: 0.987695336 Testing Acc: 0.989860356\n",
            "Epoch: 246 Training Loss: 0.032531988 Testing Loss: 0.051877692  Training Acc: 0.991699219 Testing Acc: 0.989128947\n",
            "Epoch: 247 Training Loss: 0.040348999 Testing Loss: 0.048185222  Training Acc: 0.990332067 Testing Acc: 0.990109682\n",
            "Epoch: 248 Training Loss: 0.039016753 Testing Loss: 0.058075309  Training Acc: 0.989160180 Testing Acc: 0.987716079\n",
            "Epoch: 249 Training Loss: 0.027209321 Testing Loss: 0.054262698  Training Acc: 0.992382824 Testing Acc: 0.988962710\n",
            "Epoch: 250 Training Loss: 0.043954175 Testing Loss: 0.051361255  Training Acc: 0.990820348 Testing Acc: 0.989466906\n",
            "Epoch: 251 Training Loss: 0.038241744 Testing Loss: 0.050932176  Training Acc: 0.990136743 Testing Acc: 0.989189923\n",
            "Epoch: 252 Training Loss: 0.033556439 Testing Loss: 0.046632018  Training Acc: 0.990429699 Testing Acc: 0.990065336\n",
            "Epoch: 253 Training Loss: 0.032043647 Testing Loss: 0.046847548  Training Acc: 0.990136743 Testing Acc: 0.990259290\n",
            "Epoch: 254 Training Loss: 0.032670535 Testing Loss: 0.052121729  Training Acc: 0.989941418 Testing Acc: 0.989217579\n",
            "Epoch: 255 Training Loss: 0.035235088 Testing Loss: 0.052010365  Training Acc: 0.990820348 Testing Acc: 0.989428163\n",
            "Epoch: 256 Training Loss: 0.038166195 Testing Loss: 0.052170120  Training Acc: 0.991113305 Testing Acc: 0.989073575\n",
            "Epoch: 257 Training Loss: 0.037855595 Testing Loss: 0.055686928  Training Acc: 0.990234375 Testing Acc: 0.988718927\n",
            "Epoch: 258 Training Loss: 0.040481564 Testing Loss: 0.053127158  Training Acc: 0.987792969 Testing Acc: 0.989300728\n",
            "Epoch: 259 Training Loss: 0.048562672 Testing Loss: 0.051041130  Training Acc: 0.987011731 Testing Acc: 0.989394903\n",
            "Epoch: 260 Training Loss: 0.038634434 Testing Loss: 0.052087482  Training Acc: 0.989941418 Testing Acc: 0.988912880\n",
            "Epoch: 261 Training Loss: 0.037863281 Testing Loss: 0.049046837  Training Acc: 0.990527332 Testing Acc: 0.989433706\n",
            "Epoch: 262 Training Loss: 0.036076151 Testing Loss: 0.047079224  Training Acc: 0.989453137 Testing Acc: 0.989965618\n",
            "Epoch: 263 Training Loss: 0.039356712 Testing Loss: 0.048064925  Training Acc: 0.988183618 Testing Acc: 0.989328444\n",
            "Epoch: 264 Training Loss: 0.027007243 Testing Loss: 0.049109858  Training Acc: 0.992480457 Testing Acc: 0.989411533\n",
            "Epoch: 265 Training Loss: 0.022595931 Testing Loss: 0.047994874  Training Acc: 0.993457019 Testing Acc: 0.989965618\n",
            "Epoch: 266 Training Loss: 0.025716478 Testing Loss: 0.046267826  Training Acc: 0.992285192 Testing Acc: 0.990009964\n",
            "Epoch: 267 Training Loss: 0.029205514 Testing Loss: 0.050206877  Training Acc: 0.991894543 Testing Acc: 0.989594400\n",
            "Epoch: 268 Training Loss: 0.022123927 Testing Loss: 0.047015965  Training Acc: 0.995117188 Testing Acc: 0.990464270\n",
            "Epoch: 269 Training Loss: 0.026548117 Testing Loss: 0.047339048  Training Acc: 0.992187500 Testing Acc: 0.990475357\n",
            "Epoch: 270 Training Loss: 0.017117856 Testing Loss: 0.045367971  Training Acc: 0.994921863 Testing Acc: 0.990580618\n",
            "Epoch: 271 Training Loss: 0.022287196 Testing Loss: 0.048943687  Training Acc: 0.993359387 Testing Acc: 0.990342379\n",
            "Epoch: 272 Training Loss: 0.023736361 Testing Loss: 0.047405042  Training Acc: 0.993457019 Testing Acc: 0.990093052\n",
            "Epoch: 273 Training Loss: 0.036768090 Testing Loss: 0.048365988  Training Acc: 0.990820348 Testing Acc: 0.990270376\n",
            "Epoch: 274 Training Loss: 0.035857223 Testing Loss: 0.047528531  Training Acc: 0.989746094 Testing Acc: 0.989954531\n",
            "Epoch: 275 Training Loss: 0.022291914 Testing Loss: 0.047362790  Training Acc: 0.993847668 Testing Acc: 0.990104139\n",
            "Epoch: 276 Training Loss: 0.023762606 Testing Loss: 0.049347188  Training Acc: 0.994042993 Testing Acc: 0.989478052\n",
            "Epoch: 277 Training Loss: 0.019870797 Testing Loss: 0.046872694  Training Acc: 0.995117188 Testing Acc: 0.990214944\n",
            "Epoch: 278 Training Loss: 0.042514887 Testing Loss: 0.052105781  Training Acc: 0.991308630 Testing Acc: 0.989616513\n",
            "Epoch: 279 Training Loss: 0.026420644 Testing Loss: 0.049756672  Training Acc: 0.991308630 Testing Acc: 0.989766121\n",
            "Epoch: 280 Training Loss: 0.033155661 Testing Loss: 0.050118711  Training Acc: 0.990722656 Testing Acc: 0.989777207\n",
            "Epoch: 281 Training Loss: 0.025773278 Testing Loss: 0.050513566  Training Acc: 0.993066430 Testing Acc: 0.989644229\n",
            "Epoch: 282 Training Loss: 0.024282513 Testing Loss: 0.052036151  Training Acc: 0.993066430 Testing Acc: 0.989350557\n",
            "Epoch: 283 Training Loss: 0.021926103 Testing Loss: 0.049893390  Training Acc: 0.994042993 Testing Acc: 0.989705205\n",
            "Epoch: 284 Training Loss: 0.027581191 Testing Loss: 0.048019938  Training Acc: 0.991796911 Testing Acc: 0.990314662\n",
            "Epoch: 285 Training Loss: 0.025722390 Testing Loss: 0.045440592  Training Acc: 0.992871106 Testing Acc: 0.990109682\n",
            "Epoch: 286 Training Loss: 0.023593998 Testing Loss: 0.045795057  Training Acc: 0.992382824 Testing Acc: 0.990214944\n",
            "Epoch: 287 Training Loss: 0.016747929 Testing Loss: 0.045915909  Training Acc: 0.994921863 Testing Acc: 0.990630507\n",
            "Epoch: 288 Training Loss: 0.027902815 Testing Loss: 0.046558123  Training Acc: 0.991992176 Testing Acc: 0.990475357\n",
            "Epoch: 289 Training Loss: 0.025773052 Testing Loss: 0.048604760  Training Acc: 0.991210938 Testing Acc: 0.990059793\n",
            "Epoch: 290 Training Loss: 0.046900313 Testing Loss: 0.051422346  Training Acc: 0.989160180 Testing Acc: 0.989644229\n",
            "Epoch: 291 Training Loss: 0.036249962 Testing Loss: 0.055557970  Training Acc: 0.989062488 Testing Acc: 0.989012599\n",
            "Epoch: 292 Training Loss: 0.032699265 Testing Loss: 0.050220672  Training Acc: 0.990136743 Testing Acc: 0.989500165\n",
            "Epoch: 293 Training Loss: 0.029742632 Testing Loss: 0.053037129  Training Acc: 0.991113305 Testing Acc: 0.989228666\n",
            "Epoch: 294 Training Loss: 0.033440333 Testing Loss: 0.050626263  Training Acc: 0.989843786 Testing Acc: 0.990098596\n",
            "Epoch: 295 Training Loss: 0.036652479 Testing Loss: 0.056342918  Training Acc: 0.989648461 Testing Acc: 0.988735557\n",
            "Epoch: 296 Training Loss: 0.028745392 Testing Loss: 0.049763579  Training Acc: 0.993164062 Testing Acc: 0.989472508\n",
            "Epoch: 297 Training Loss: 0.023045070 Testing Loss: 0.048688736  Training Acc: 0.992773473 Testing Acc: 0.989888072\n",
            "Epoch: 298 Training Loss: 0.026993131 Testing Loss: 0.049045812  Training Acc: 0.992773473 Testing Acc: 0.990104139\n",
            "Epoch: 299 Training Loss: 0.018430864 Testing Loss: 0.050177399  Training Acc: 0.994238317 Testing Acc: 0.989810467\n",
            "Epoch: 300 Training Loss: 0.020238280 Testing Loss: 0.051257953  Training Acc: 0.994140625 Testing Acc: 0.990009964\n",
            "Epoch: 301 Training Loss: 0.024126820 Testing Loss: 0.050208662  Training Acc: 0.992285192 Testing Acc: 0.989677489\n",
            "Epoch: 302 Training Loss: 0.027261665 Testing Loss: 0.052176539  Training Acc: 0.991503894 Testing Acc: 0.989527881\n",
            "Epoch: 303 Training Loss: 0.025558805 Testing Loss: 0.051150687  Training Acc: 0.991015613 Testing Acc: 0.989444792\n",
            "Epoch: 304 Training Loss: 0.032677080 Testing Loss: 0.051092725  Training Acc: 0.990625024 Testing Acc: 0.989816010\n",
            "Epoch: 305 Training Loss: 0.021472787 Testing Loss: 0.054994512  Training Acc: 0.993945301 Testing Acc: 0.988984883\n",
            "Epoch: 306 Training Loss: 0.026478335 Testing Loss: 0.055201694  Training Acc: 0.993164062 Testing Acc: 0.989117861\n",
            "Epoch: 307 Training Loss: 0.023251995 Testing Loss: 0.049475964  Training Acc: 0.993457019 Testing Acc: 0.989799380\n",
            "Epoch: 308 Training Loss: 0.016360145 Testing Loss: 0.050803866  Training Acc: 0.995312512 Testing Acc: 0.989766121\n",
            "Epoch: 309 Training Loss: 0.017159510 Testing Loss: 0.050728578  Training Acc: 0.995312512 Testing Acc: 0.989744008\n",
            "Epoch: 310 Training Loss: 0.029544001 Testing Loss: 0.051225446  Training Acc: 0.993847668 Testing Acc: 0.990131795\n",
            "Epoch: 311 Training Loss: 0.028434409 Testing Loss: 0.055174876  Training Acc: 0.991796911 Testing Acc: 0.989699662\n",
            "Epoch: 312 Training Loss: 0.030123880 Testing Loss: 0.053659655  Training Acc: 0.991796911 Testing Acc: 0.989611030\n",
            "Epoch: 313 Training Loss: 0.022922039 Testing Loss: 0.049031537  Training Acc: 0.993261755 Testing Acc: 0.990115166\n",
            "Epoch: 314 Training Loss: 0.017947268 Testing Loss: 0.052880365  Training Acc: 0.995410144 Testing Acc: 0.989566684\n",
            "Epoch: 315 Training Loss: 0.027891457 Testing Loss: 0.050369631  Training Acc: 0.991894543 Testing Acc: 0.990359008\n",
            "Epoch: 316 Training Loss: 0.022365419 Testing Loss: 0.047504038  Training Acc: 0.993945301 Testing Acc: 0.990497530\n",
            "Epoch: 317 Training Loss: 0.015963739 Testing Loss: 0.051152084  Training Acc: 0.994824231 Testing Acc: 0.990314662\n",
            "Epoch: 318 Training Loss: 0.016515629 Testing Loss: 0.049226791  Training Acc: 0.995214880 Testing Acc: 0.990563989\n",
            "Epoch: 319 Training Loss: 0.021457866 Testing Loss: 0.053285237  Training Acc: 0.995312512 Testing Acc: 0.990264773\n",
            "Epoch: 320 Training Loss: 0.023509249 Testing Loss: 0.052538302  Training Acc: 0.994238317 Testing Acc: 0.989644229\n",
            "Epoch: 321 Training Loss: 0.033149756 Testing Loss: 0.056571756  Training Acc: 0.990527332 Testing Acc: 0.988802016\n",
            "Epoch: 322 Training Loss: 0.020530870 Testing Loss: 0.050071158  Training Acc: 0.994042993 Testing Acc: 0.989976704\n",
            "Epoch: 323 Training Loss: 0.018563239 Testing Loss: 0.052132782  Training Acc: 0.994628906 Testing Acc: 0.989843726\n",
            "Epoch: 324 Training Loss: 0.020016560 Testing Loss: 0.049577769  Training Acc: 0.994140625 Testing Acc: 0.990519702\n",
            "Epoch: 325 Training Loss: 0.023271156 Testing Loss: 0.050079014  Training Acc: 0.992675781 Testing Acc: 0.990464270\n",
            "Epoch: 326 Training Loss: 0.017695000 Testing Loss: 0.053545170  Training Acc: 0.994628906 Testing Acc: 0.989605486\n",
            "Epoch: 327 Training Loss: 0.019868432 Testing Loss: 0.052602388  Training Acc: 0.993652344 Testing Acc: 0.990104139\n",
            "Epoch: 328 Training Loss: 0.027200906 Testing Loss: 0.055431221  Training Acc: 0.992773473 Testing Acc: 0.989079118\n",
            "Epoch: 329 Training Loss: 0.021619735 Testing Loss: 0.052691322  Training Acc: 0.993847668 Testing Acc: 0.989882469\n",
            "Epoch: 330 Training Loss: 0.041320648 Testing Loss: 0.052606974  Training Acc: 0.991796911 Testing Acc: 0.989910185\n",
            "Epoch: 331 Training Loss: 0.036263142 Testing Loss: 0.055277679  Training Acc: 0.989453137 Testing Acc: 0.988962710\n",
            "Epoch: 332 Training Loss: 0.024160136 Testing Loss: 0.054922163  Training Acc: 0.993750036 Testing Acc: 0.989278555\n",
            "Epoch: 333 Training Loss: 0.034591615 Testing Loss: 0.054788690  Training Acc: 0.992480457 Testing Acc: 0.989128947\n",
            "Epoch: 334 Training Loss: 0.031027963 Testing Loss: 0.054630011  Training Acc: 0.992089868 Testing Acc: 0.989328444\n",
            "Epoch: 335 Training Loss: 0.035025060 Testing Loss: 0.053273950  Training Acc: 0.988085926 Testing Acc: 0.989389420\n",
            "Epoch: 336 Training Loss: 0.028727571 Testing Loss: 0.050792534  Training Acc: 0.992187500 Testing Acc: 0.989616513\n",
            "Epoch: 337 Training Loss: 0.021696070 Testing Loss: 0.054013979  Training Acc: 0.994531274 Testing Acc: 0.989267468\n",
            "Epoch: 338 Training Loss: 0.019509945 Testing Loss: 0.052262202  Training Acc: 0.994531274 Testing Acc: 0.989688575\n",
            "Epoch: 339 Training Loss: 0.018771686 Testing Loss: 0.051904239  Training Acc: 0.995312512 Testing Acc: 0.989771724\n",
            "Epoch: 340 Training Loss: 0.019964021 Testing Loss: 0.052592617  Training Acc: 0.994433582 Testing Acc: 0.990137398\n",
            "Epoch: 341 Training Loss: 0.015502447 Testing Loss: 0.054321725  Training Acc: 0.996191442 Testing Acc: 0.989832640\n",
            "Epoch: 342 Training Loss: 0.018730670 Testing Loss: 0.054117147  Training Acc: 0.994238317 Testing Acc: 0.989694118\n",
            "Epoch: 343 Training Loss: 0.020722700 Testing Loss: 0.051887836  Training Acc: 0.994531274 Testing Acc: 0.989838183\n",
            "Epoch: 344 Training Loss: 0.021649228 Testing Loss: 0.052346159  Training Acc: 0.994531274 Testing Acc: 0.990264773\n",
            "Epoch: 345 Training Loss: 0.026593586 Testing Loss: 0.049661465  Training Acc: 0.993066430 Testing Acc: 0.990442097\n",
            "Epoch: 346 Training Loss: 0.015183120 Testing Loss: 0.052434593  Training Acc: 0.994433582 Testing Acc: 0.990015447\n",
            "Epoch: 347 Training Loss: 0.018977463 Testing Loss: 0.049331065  Training Acc: 0.994824231 Testing Acc: 0.990021050\n",
            "Epoch: 348 Training Loss: 0.046576481 Testing Loss: 0.051760476  Training Acc: 0.994824231 Testing Acc: 0.990015447\n",
            "Epoch: 349 Training Loss: 0.036275242 Testing Loss: 0.058867715  Training Acc: 0.989843786 Testing Acc: 0.988713384\n",
            "Epoch: 350 Training Loss: 0.023616787 Testing Loss: 0.052096594  Training Acc: 0.993066430 Testing Acc: 0.989633143\n",
            "Epoch: 351 Training Loss: 0.020510042 Testing Loss: 0.051989872  Training Acc: 0.995019555 Testing Acc: 0.989533424\n",
            "Epoch: 352 Training Loss: 0.027402068 Testing Loss: 0.049390610  Training Acc: 0.991699219 Testing Acc: 0.990043163\n",
            "Epoch: 353 Training Loss: 0.023922723 Testing Loss: 0.055163182  Training Acc: 0.992675781 Testing Acc: 0.989200950\n",
            "Epoch: 354 Training Loss: 0.021712041 Testing Loss: 0.052510675  Training Acc: 0.992871106 Testing Acc: 0.989538968\n",
            "Epoch: 355 Training Loss: 0.016716223 Testing Loss: 0.052267332  Training Acc: 0.995703161 Testing Acc: 0.989494622\n",
            "Epoch: 356 Training Loss: 0.019188737 Testing Loss: 0.052966792  Training Acc: 0.994628906 Testing Acc: 0.989649773\n",
            "Epoch: 357 Training Loss: 0.018225636 Testing Loss: 0.050278623  Training Acc: 0.995410144 Testing Acc: 0.990059793\n",
            "Epoch: 358 Training Loss: 0.016962443 Testing Loss: 0.050094232  Training Acc: 0.995410144 Testing Acc: 0.990314662\n",
            "Epoch: 359 Training Loss: 0.017436553 Testing Loss: 0.049972080  Training Acc: 0.995703161 Testing Acc: 0.990275919\n",
            "Epoch: 360 Training Loss: 0.013272365 Testing Loss: 0.051930055  Training Acc: 0.995605469 Testing Acc: 0.990275919\n",
            "Epoch: 361 Training Loss: 0.019938281 Testing Loss: 0.053489871  Training Acc: 0.993945301 Testing Acc: 0.990142941\n",
            "Epoch: 362 Training Loss: 0.019832073 Testing Loss: 0.053490274  Training Acc: 0.993164062 Testing Acc: 0.990364552\n",
            "Epoch: 363 Training Loss: 0.018418802 Testing Loss: 0.051344089  Training Acc: 0.994921863 Testing Acc: 0.990104139\n",
            "Epoch: 364 Training Loss: 0.027268469 Testing Loss: 0.049106225  Training Acc: 0.993750036 Testing Acc: 0.990774572\n",
            "Epoch: 365 Training Loss: 0.022014670 Testing Loss: 0.054204971  Training Acc: 0.992968738 Testing Acc: 0.989843726\n",
            "Epoch: 366 Training Loss: 0.029511465 Testing Loss: 0.058040895  Training Acc: 0.992285192 Testing Acc: 0.989145577\n",
            "Epoch: 367 Training Loss: 0.018494125 Testing Loss: 0.059810702  Training Acc: 0.995410144 Testing Acc: 0.988940597\n",
            "Epoch: 368 Training Loss: 0.020913953 Testing Loss: 0.052367143  Training Acc: 0.994531274 Testing Acc: 0.989755094\n",
            "Epoch: 369 Training Loss: 0.020312855 Testing Loss: 0.052106906  Training Acc: 0.993945301 Testing Acc: 0.989948988\n",
            "Epoch: 370 Training Loss: 0.014692639 Testing Loss: 0.049143445  Training Acc: 0.995800793 Testing Acc: 0.990442097\n",
            "Epoch: 371 Training Loss: 0.018959805 Testing Loss: 0.051271323  Training Acc: 0.992871106 Testing Acc: 0.990259290\n",
            "Epoch: 372 Training Loss: 0.016561568 Testing Loss: 0.051160928  Training Acc: 0.995312512 Testing Acc: 0.990325749\n",
            "Epoch: 373 Training Loss: 0.014261389 Testing Loss: 0.054250129  Training Acc: 0.996679723 Testing Acc: 0.990381181\n",
            "Epoch: 374 Training Loss: 0.017486792 Testing Loss: 0.054054633  Training Acc: 0.994628906 Testing Acc: 0.989926815\n",
            "Epoch: 375 Training Loss: 0.017543586 Testing Loss: 0.054004222  Training Acc: 0.993750036 Testing Acc: 0.990209401\n",
            "Epoch: 376 Training Loss: 0.018431207 Testing Loss: 0.057731591  Training Acc: 0.994531274 Testing Acc: 0.989577770\n",
            "Epoch: 377 Training Loss: 0.013799280 Testing Loss: 0.056363516  Training Acc: 0.995312512 Testing Acc: 0.989982188\n",
            "Epoch: 378 Training Loss: 0.016172417 Testing Loss: 0.054181032  Training Acc: 0.994824231 Testing Acc: 0.989932358\n",
            "Epoch: 379 Training Loss: 0.020002713 Testing Loss: 0.057514399  Training Acc: 0.992968738 Testing Acc: 0.990065336\n",
            "Epoch: 380 Training Loss: 0.055470802 Testing Loss: 0.051679734  Training Acc: 0.990332067 Testing Acc: 0.990325749\n",
            "Epoch: 381 Training Loss: 0.041527346 Testing Loss: 0.052705284  Training Acc: 0.989550769 Testing Acc: 0.989727378\n",
            "Epoch: 382 Training Loss: 0.027248729 Testing Loss: 0.054070543  Training Acc: 0.992089868 Testing Acc: 0.989566684\n",
            "Epoch: 383 Training Loss: 0.021668606 Testing Loss: 0.057641625  Training Acc: 0.993359387 Testing Acc: 0.989245296\n",
            "Epoch: 384 Training Loss: 0.020265831 Testing Loss: 0.050987728  Training Acc: 0.994628906 Testing Acc: 0.990154028\n",
            "Epoch: 385 Training Loss: 0.015963702 Testing Loss: 0.053528585  Training Acc: 0.995117188 Testing Acc: 0.989738464\n",
            "Epoch: 386 Training Loss: 0.014054923 Testing Loss: 0.055504184  Training Acc: 0.996093750 Testing Acc: 0.989461422\n",
            "Epoch: 387 Training Loss: 0.015081339 Testing Loss: 0.053815082  Training Acc: 0.994726598 Testing Acc: 0.989854813\n",
            "Epoch: 388 Training Loss: 0.015151496 Testing Loss: 0.051990300  Training Acc: 0.995996118 Testing Acc: 0.990392268\n",
            "Epoch: 389 Training Loss: 0.015587024 Testing Loss: 0.054850798  Training Acc: 0.994726598 Testing Acc: 0.989876986\n",
            "Epoch: 390 Training Loss: 0.019235915 Testing Loss: 0.053366713  Training Acc: 0.994628906 Testing Acc: 0.989899099\n",
            "Epoch: 391 Training Loss: 0.015626172 Testing Loss: 0.054734036  Training Acc: 0.995605469 Testing Acc: 0.989899099\n",
            "Epoch: 392 Training Loss: 0.026906332 Testing Loss: 0.056567878  Training Acc: 0.992578149 Testing Acc: 0.989760578\n",
            "Epoch: 393 Training Loss: 0.038259242 Testing Loss: 0.059047531  Training Acc: 0.989062488 Testing Acc: 0.988951623\n",
            "Epoch: 394 Training Loss: 0.025124490 Testing Loss: 0.054476704  Training Acc: 0.993066430 Testing Acc: 0.988907337\n",
            "Epoch: 395 Training Loss: 0.020673484 Testing Loss: 0.054506727  Training Acc: 0.992578149 Testing Acc: 0.989732862\n",
            "Epoch: 396 Training Loss: 0.022815915 Testing Loss: 0.054301098  Training Acc: 0.991894543 Testing Acc: 0.989328444\n",
            "Epoch: 397 Training Loss: 0.017654357 Testing Loss: 0.048894100  Training Acc: 0.995019555 Testing Acc: 0.990375638\n",
            "Epoch: 398 Training Loss: 0.016435737 Testing Loss: 0.053382196  Training Acc: 0.995410144 Testing Acc: 0.989865839\n",
            "Epoch: 399 Training Loss: 0.017638322 Testing Loss: 0.052534312  Training Acc: 0.994921863 Testing Acc: 0.989694118\n",
            "Epoch: 400 Training Loss: 0.027719770 Testing Loss: 0.056302462  Training Acc: 0.994628906 Testing Acc: 0.989727378\n",
            "Epoch: 401 Training Loss: 0.039312012 Testing Loss: 0.058538586  Training Acc: 0.990820348 Testing Acc: 0.989195466\n",
            "Epoch: 402 Training Loss: 0.022719957 Testing Loss: 0.055541385  Training Acc: 0.992480457 Testing Acc: 0.989461422\n",
            "Epoch: 403 Training Loss: 0.030202914 Testing Loss: 0.056201983  Training Acc: 0.991406262 Testing Acc: 0.988735557\n",
            "Epoch: 404 Training Loss: 0.027942717 Testing Loss: 0.055286020  Training Acc: 0.991601586 Testing Acc: 0.989378273\n",
            "Epoch: 405 Training Loss: 0.036818024 Testing Loss: 0.050715294  Training Acc: 0.992871106 Testing Acc: 0.990148425\n",
            "Epoch: 406 Training Loss: 0.029993987 Testing Loss: 0.052169230  Training Acc: 0.991210938 Testing Acc: 0.989511251\n",
            "Epoch: 407 Training Loss: 0.021246817 Testing Loss: 0.050768692  Training Acc: 0.994824231 Testing Acc: 0.990165055\n",
            "Epoch: 408 Training Loss: 0.056311943 Testing Loss: 0.050782960  Training Acc: 0.991210938 Testing Acc: 0.990065336\n",
            "Epoch: 409 Training Loss: 0.039305210 Testing Loss: 0.059177153  Training Acc: 0.989160180 Testing Acc: 0.988652408\n",
            "Epoch: 410 Training Loss: 0.030012695 Testing Loss: 0.057023332  Training Acc: 0.991601586 Testing Acc: 0.989051342\n",
            "Epoch: 411 Training Loss: 0.039249212 Testing Loss: 0.052453689  Training Acc: 0.987500012 Testing Acc: 0.989860356\n",
            "Epoch: 412 Training Loss: 0.039807625 Testing Loss: 0.058284085  Training Acc: 0.988964856 Testing Acc: 0.988602579\n",
            "Epoch: 413 Training Loss: 0.022332622 Testing Loss: 0.054928903  Training Acc: 0.993261755 Testing Acc: 0.989212096\n",
            "Epoch: 414 Training Loss: 0.031043330 Testing Loss: 0.052225489  Training Acc: 0.991894543 Testing Acc: 0.989494622\n",
            "Epoch: 415 Training Loss: 0.021170154 Testing Loss: 0.052278917  Training Acc: 0.993066430 Testing Acc: 0.989599884\n",
            "Epoch: 416 Training Loss: 0.022986704 Testing Loss: 0.048490830  Training Acc: 0.992382824 Testing Acc: 0.990231574\n",
            "Epoch: 417 Training Loss: 0.033715401 Testing Loss: 0.054353811  Training Acc: 0.989453137 Testing Acc: 0.989655375\n",
            "Epoch: 418 Training Loss: 0.042819843 Testing Loss: 0.059614465  Training Acc: 0.989941418 Testing Acc: 0.988497317\n",
            "Epoch: 419 Training Loss: 0.048046939 Testing Loss: 0.054624673  Training Acc: 0.987792969 Testing Acc: 0.988774359\n",
            "Epoch: 420 Training Loss: 0.028324390 Testing Loss: 0.053890012  Training Acc: 0.992089868 Testing Acc: 0.989173293\n",
            "Epoch: 421 Training Loss: 0.026306352 Testing Loss: 0.052666072  Training Acc: 0.993359387 Testing Acc: 0.989444792\n",
            "Epoch: 422 Training Loss: 0.031676620 Testing Loss: 0.050109684  Training Acc: 0.991113305 Testing Acc: 0.990148425\n",
            "Epoch: 423 Training Loss: 0.034325905 Testing Loss: 0.052364141  Training Acc: 0.989257812 Testing Acc: 0.989267468\n",
            "Epoch: 424 Training Loss: 0.025169579 Testing Loss: 0.051554136  Training Acc: 0.993066430 Testing Acc: 0.989577770\n",
            "Epoch: 425 Training Loss: 0.018569561 Testing Loss: 0.050832327  Training Acc: 0.994726598 Testing Acc: 0.990076423\n",
            "Epoch: 426 Training Loss: 0.018585091 Testing Loss: 0.049367543  Training Acc: 0.994921863 Testing Acc: 0.990242660\n",
            "Epoch: 427 Training Loss: 0.033142101 Testing Loss: 0.053515807  Training Acc: 0.991308630 Testing Acc: 0.989738464\n",
            "Epoch: 428 Training Loss: 0.037555117 Testing Loss: 0.051012147  Training Acc: 0.990429699 Testing Acc: 0.989356160\n",
            "Epoch: 429 Training Loss: 0.028767077 Testing Loss: 0.052335180  Training Acc: 0.991503894 Testing Acc: 0.989062488\n",
            "Epoch: 430 Training Loss: 0.021874247 Testing Loss: 0.051538393  Training Acc: 0.993847668 Testing Acc: 0.989184320\n",
            "Epoch: 431 Training Loss: 0.025764925 Testing Loss: 0.051594581  Training Acc: 0.992285192 Testing Acc: 0.989588857\n",
            "Epoch: 432 Training Loss: 0.019042769 Testing Loss: 0.048151322  Training Acc: 0.994140625 Testing Acc: 0.989976704\n",
            "Epoch: 433 Training Loss: 0.023096418 Testing Loss: 0.051072046  Training Acc: 0.992968738 Testing Acc: 0.989876986\n",
            "Epoch: 434 Training Loss: 0.016195096 Testing Loss: 0.050290950  Training Acc: 0.994921863 Testing Acc: 0.989976704\n",
            "Epoch: 435 Training Loss: 0.017530151 Testing Loss: 0.050687268  Training Acc: 0.995214880 Testing Acc: 0.989943445\n",
            "Epoch: 436 Training Loss: 0.017236780 Testing Loss: 0.050890505  Training Acc: 0.995019555 Testing Acc: 0.990059793\n",
            "Epoch: 437 Training Loss: 0.012557469 Testing Loss: 0.049293045  Training Acc: 0.996289074 Testing Acc: 0.990397751\n",
            "Epoch: 438 Training Loss: 0.015488641 Testing Loss: 0.051772617  Training Acc: 0.995507836 Testing Acc: 0.990192771\n",
            "Epoch: 439 Training Loss: 0.019872686 Testing Loss: 0.052488886  Training Acc: 0.993750036 Testing Acc: 0.990231574\n",
            "Epoch: 440 Training Loss: 0.012942061 Testing Loss: 0.049835816  Training Acc: 0.995996118 Testing Acc: 0.990525246\n",
            "Epoch: 441 Training Loss: 0.016339337 Testing Loss: 0.050520238  Training Acc: 0.994726598 Testing Acc: 0.990309119\n",
            "Epoch: 442 Training Loss: 0.014382288 Testing Loss: 0.053574964  Training Acc: 0.996484399 Testing Acc: 0.989893615\n",
            "Epoch: 443 Training Loss: 0.018548531 Testing Loss: 0.053214502  Training Acc: 0.995410144 Testing Acc: 0.990281403\n",
            "Epoch: 444 Training Loss: 0.052121311 Testing Loss: 0.055029422  Training Acc: 0.992968738 Testing Acc: 0.990059793\n",
            "Epoch: 445 Training Loss: 0.031595904 Testing Loss: 0.054164235  Training Acc: 0.990625024 Testing Acc: 0.989677489\n",
            "Epoch: 446 Training Loss: 0.056409001 Testing Loss: 0.051691316  Training Acc: 0.991406262 Testing Acc: 0.989893615\n",
            "Epoch: 447 Training Loss: 0.025610456 Testing Loss: 0.051984768  Training Acc: 0.992871106 Testing Acc: 0.989755094\n",
            "Epoch: 448 Training Loss: 0.021447945 Testing Loss: 0.054100394  Training Acc: 0.994042993 Testing Acc: 0.989965618\n",
            "Epoch: 449 Training Loss: 0.020815445 Testing Loss: 0.053155813  Training Acc: 0.993261755 Testing Acc: 0.989943445\n",
            "Epoch: 450 Training Loss: 0.020120725 Testing Loss: 0.049773928  Training Acc: 0.994824231 Testing Acc: 0.990597248\n",
            "Epoch: 451 Training Loss: 0.018127033 Testing Loss: 0.052976102  Training Acc: 0.993945301 Testing Acc: 0.989865839\n",
            "Epoch: 452 Training Loss: 0.016430814 Testing Loss: 0.052073151  Training Acc: 0.995800793 Testing Acc: 0.990364552\n",
            "Epoch: 453 Training Loss: 0.014378110 Testing Loss: 0.051665291  Training Acc: 0.996093750 Testing Acc: 0.990514159\n",
            "Epoch: 454 Training Loss: 0.018723661 Testing Loss: 0.052403096  Training Acc: 0.993945301 Testing Acc: 0.990480900\n",
            "Epoch: 455 Training Loss: 0.014711270 Testing Loss: 0.051792216  Training Acc: 0.995605469 Testing Acc: 0.990392268\n",
            "Epoch: 456 Training Loss: 0.015290028 Testing Loss: 0.049693298  Training Acc: 0.995214880 Testing Acc: 0.990874290\n",
            "Epoch: 457 Training Loss: 0.012397383 Testing Loss: 0.051717415  Training Acc: 0.996582031 Testing Acc: 0.990957439\n",
            "Epoch: 458 Training Loss: 0.014017299 Testing Loss: 0.049133439  Training Acc: 0.995703161 Testing Acc: 0.991118133\n",
            "Epoch: 459 Training Loss: 0.018801397 Testing Loss: 0.051875371  Training Acc: 0.994824231 Testing Acc: 0.990907550\n",
            "Epoch: 460 Training Loss: 0.014919936 Testing Loss: 0.051401686  Training Acc: 0.995019555 Testing Acc: 0.990807831\n",
            "Epoch: 461 Training Loss: 0.016692393 Testing Loss: 0.053498060  Training Acc: 0.995312512 Testing Acc: 0.990264773\n",
            "Epoch: 462 Training Loss: 0.015141407 Testing Loss: 0.051354337  Training Acc: 0.996289074 Testing Acc: 0.990591705\n",
            "Epoch: 463 Training Loss: 0.013330272 Testing Loss: 0.051229551  Training Acc: 0.995800793 Testing Acc: 0.990674853\n",
            "Epoch: 464 Training Loss: 0.034759548 Testing Loss: 0.053031091  Training Acc: 0.993457019 Testing Acc: 0.990591705\n",
            "Epoch: 465 Training Loss: 0.017805109 Testing Loss: 0.053644925  Training Acc: 0.995312512 Testing Acc: 0.990347922\n",
            "Epoch: 466 Training Loss: 0.040754896 Testing Loss: 0.053099804  Training Acc: 0.991699219 Testing Acc: 0.990525246\n",
            "Epoch: 467 Training Loss: 0.020209122 Testing Loss: 0.055061076  Training Acc: 0.993652344 Testing Acc: 0.989960074\n",
            "Epoch: 468 Training Loss: 0.028466744 Testing Loss: 0.053648956  Training Acc: 0.991894543 Testing Acc: 0.989832640\n",
            "Epoch: 469 Training Loss: 0.032931633 Testing Loss: 0.050148591  Training Acc: 0.991503894 Testing Acc: 0.990658224\n",
            "Epoch: 470 Training Loss: 0.021200804 Testing Loss: 0.052226666  Training Acc: 0.993847668 Testing Acc: 0.989976704\n",
            "Epoch: 471 Training Loss: 0.021874815 Testing Loss: 0.053838104  Training Acc: 0.995117188 Testing Acc: 0.990109682\n",
            "Epoch: 472 Training Loss: 0.021968797 Testing Loss: 0.053498551  Training Acc: 0.993652344 Testing Acc: 0.990525246\n",
            "Epoch: 473 Training Loss: 0.019801510 Testing Loss: 0.053353343  Training Acc: 0.994726598 Testing Acc: 0.990370095\n",
            "Epoch: 474 Training Loss: 0.026406977 Testing Loss: 0.054823868  Training Acc: 0.992285192 Testing Acc: 0.989716232\n",
            "Epoch: 475 Training Loss: 0.015157953 Testing Loss: 0.053078268  Training Acc: 0.995898426 Testing Acc: 0.990081966\n",
            "Epoch: 476 Training Loss: 0.015998526 Testing Loss: 0.051906731  Training Acc: 0.995312512 Testing Acc: 0.990514159\n",
            "Epoch: 477 Training Loss: 0.013991261 Testing Loss: 0.054325901  Training Acc: 0.996679723 Testing Acc: 0.990032077\n",
            "Epoch: 478 Training Loss: 0.019600216 Testing Loss: 0.052165166  Training Acc: 0.994921863 Testing Acc: 0.990658224\n",
            "Epoch: 479 Training Loss: 0.018805930 Testing Loss: 0.058508653  Training Acc: 0.993945301 Testing Acc: 0.989583254\n",
            "Epoch: 480 Training Loss: 0.029851174 Testing Loss: 0.053023919  Training Acc: 0.992187500 Testing Acc: 0.990436614\n",
            "Epoch: 481 Training Loss: 0.015967522 Testing Loss: 0.061516456  Training Acc: 0.995117188 Testing Acc: 0.989273012\n",
            "Epoch: 482 Training Loss: 0.015621418 Testing Loss: 0.054964423  Training Acc: 0.995019555 Testing Acc: 0.990087509\n",
            "Epoch: 483 Training Loss: 0.012895587 Testing Loss: 0.055098351  Training Acc: 0.996484399 Testing Acc: 0.989998817\n",
            "Epoch: 484 Training Loss: 0.016753694 Testing Loss: 0.055096302  Training Acc: 0.995800793 Testing Acc: 0.990009964\n",
            "Epoch: 485 Training Loss: 0.022901105 Testing Loss: 0.054925766  Training Acc: 0.993847668 Testing Acc: 0.990414381\n",
            "Epoch: 486 Training Loss: 0.022013722 Testing Loss: 0.063242652  Training Acc: 0.992773473 Testing Acc: 0.988951623\n",
            "Epoch: 487 Training Loss: 0.017610287 Testing Loss: 0.058309045  Training Acc: 0.995019555 Testing Acc: 0.989965618\n",
            "Epoch: 488 Training Loss: 0.064243011 Testing Loss: 0.052110869  Training Acc: 0.992968738 Testing Acc: 0.990791202\n",
            "Epoch: 489 Training Loss: 0.039851535 Testing Loss: 0.056185041  Training Acc: 0.987500012 Testing Acc: 0.989333928\n",
            "Epoch: 490 Training Loss: 0.026368249 Testing Loss: 0.052705240  Training Acc: 0.992089868 Testing Acc: 0.989926815\n",
            "Epoch: 491 Training Loss: 0.025145475 Testing Loss: 0.058074798  Training Acc: 0.992187500 Testing Acc: 0.989405990\n",
            "Epoch: 492 Training Loss: 0.020135140 Testing Loss: 0.054528788  Training Acc: 0.994726598 Testing Acc: 0.989527881\n",
            "Epoch: 493 Training Loss: 0.016885605 Testing Loss: 0.051997371  Training Acc: 0.994335949 Testing Acc: 0.990170658\n",
            "Epoch: 494 Training Loss: 0.029482597 Testing Loss: 0.051799979  Training Acc: 0.994628906 Testing Acc: 0.990059793\n",
            "Epoch: 495 Training Loss: 0.040302705 Testing Loss: 0.053304654  Training Acc: 0.991210938 Testing Acc: 0.989799380\n",
            "Epoch: 496 Training Loss: 0.032550883 Testing Loss: 0.051660646  Training Acc: 0.990527332 Testing Acc: 0.989317298\n",
            "Epoch: 497 Training Loss: 0.021609731 Testing Loss: 0.047407929  Training Acc: 0.992773473 Testing Acc: 0.990458727\n",
            "Epoch: 498 Training Loss: 0.016775135 Testing Loss: 0.050562419  Training Acc: 0.995312512 Testing Acc: 0.990015447\n",
            "Epoch: 499 Training Loss: 0.014808654 Testing Loss: 0.051880579  Training Acc: 0.995605469 Testing Acc: 0.989993334\n",
            "Epoch: 500 Training Loss: 0.015520870 Testing Loss: 0.052612610  Training Acc: 0.995214880 Testing Acc: 0.989910185\n",
            "Epoch: 501 Training Loss: 0.015767692 Testing Loss: 0.051867608  Training Acc: 0.994726598 Testing Acc: 0.990181684\n",
            "Epoch: 502 Training Loss: 0.011755669 Testing Loss: 0.051549841  Training Acc: 0.996191442 Testing Acc: 0.990530729\n",
            "Epoch: 503 Training Loss: 0.014104952 Testing Loss: 0.050024502  Training Acc: 0.996093750 Testing Acc: 0.990636051\n",
            "Epoch: 504 Training Loss: 0.011479954 Testing Loss: 0.052102886  Training Acc: 0.996484399 Testing Acc: 0.990370095\n",
            "Epoch: 505 Training Loss: 0.018245583 Testing Loss: 0.056185875  Training Acc: 0.994335949 Testing Acc: 0.990342379\n",
            "Epoch: 506 Training Loss: 0.019485779 Testing Loss: 0.057338003  Training Acc: 0.995117188 Testing Acc: 0.989705205\n",
            "Epoch: 507 Training Loss: 0.016499059 Testing Loss: 0.055611841  Training Acc: 0.994921863 Testing Acc: 0.990059793\n",
            "Epoch: 508 Training Loss: 0.015639678 Testing Loss: 0.057027631  Training Acc: 0.994335949 Testing Acc: 0.990043163\n",
            "Epoch: 509 Training Loss: 0.029460371 Testing Loss: 0.056807604  Training Acc: 0.993164062 Testing Acc: 0.989899099\n",
            "Epoch: 510 Training Loss: 0.019929813 Testing Loss: 0.054731317  Training Acc: 0.992187500 Testing Acc: 0.989566684\n",
            "Epoch: 511 Training Loss: 0.033384737 Testing Loss: 0.058735691  Training Acc: 0.993066430 Testing Acc: 0.989588857\n",
            "Epoch: 512 Training Loss: 0.071201101 Testing Loss: 0.057698622  Training Acc: 0.986816406 Testing Acc: 0.989394903\n",
            "Epoch: 513 Training Loss: 0.032057188 Testing Loss: 0.059748124  Training Acc: 0.990039051 Testing Acc: 0.989195466\n",
            "Epoch: 514 Training Loss: 0.035541084 Testing Loss: 0.052035615  Training Acc: 0.989355505 Testing Acc: 0.990009964\n",
            "Epoch: 515 Training Loss: 0.025345027 Testing Loss: 0.056458782  Training Acc: 0.993945301 Testing Acc: 0.989333928\n",
            "Epoch: 516 Training Loss: 0.022890447 Testing Loss: 0.052356165  Training Acc: 0.993945301 Testing Acc: 0.989865839\n",
            "Epoch: 517 Training Loss: 0.040702801 Testing Loss: 0.052556194  Training Acc: 0.989746094 Testing Acc: 0.990325749\n",
            "Epoch: 518 Training Loss: 0.049248047 Testing Loss: 0.051436748  Training Acc: 0.986132801 Testing Acc: 0.990264773\n",
            "Epoch: 519 Training Loss: 0.064842954 Testing Loss: 0.050943892  Training Acc: 0.988964856 Testing Acc: 0.990309119\n",
            "Epoch: 520 Training Loss: 0.035101362 Testing Loss: 0.050569661  Training Acc: 0.989453137 Testing Acc: 0.990142941\n",
            "Epoch: 521 Training Loss: 0.024677878 Testing Loss: 0.050125822  Training Acc: 0.992382824 Testing Acc: 0.990242660\n",
            "Epoch: 522 Training Loss: 0.024758499 Testing Loss: 0.049539939  Training Acc: 0.993261755 Testing Acc: 0.990425527\n",
            "Epoch: 523 Training Loss: 0.024433861 Testing Loss: 0.048739769  Training Acc: 0.992968738 Testing Acc: 0.990608335\n",
            "Epoch: 524 Training Loss: 0.016755501 Testing Loss: 0.050278518  Training Acc: 0.995019555 Testing Acc: 0.990530729\n",
            "Epoch: 525 Training Loss: 0.017685888 Testing Loss: 0.047248967  Training Acc: 0.995605469 Testing Acc: 0.990724683\n",
            "Epoch: 526 Training Loss: 0.029421246 Testing Loss: 0.052502833  Training Acc: 0.993652344 Testing Acc: 0.990248203\n",
            "Epoch: 527 Training Loss: 0.035121184 Testing Loss: 0.052284766  Training Acc: 0.992480457 Testing Acc: 0.989937961\n",
            "Epoch: 528 Training Loss: 0.035207063 Testing Loss: 0.054437570  Training Acc: 0.992480457 Testing Acc: 0.989810467\n",
            "Epoch: 529 Training Loss: 0.022280116 Testing Loss: 0.052341580  Training Acc: 0.992480457 Testing Acc: 0.989910185\n",
            "Epoch: 530 Training Loss: 0.024664998 Testing Loss: 0.054314543  Training Acc: 0.992773473 Testing Acc: 0.989710748\n",
            "Epoch: 531 Training Loss: 0.032113489 Testing Loss: 0.053156648  Training Acc: 0.991601586 Testing Acc: 0.990115166\n",
            "Epoch: 532 Training Loss: 0.033226505 Testing Loss: 0.050460111  Training Acc: 0.992187500 Testing Acc: 0.989882469\n",
            "Epoch: 533 Training Loss: 0.018807121 Testing Loss: 0.048873801  Training Acc: 0.994335949 Testing Acc: 0.990525246\n",
            "Epoch: 534 Training Loss: 0.018612681 Testing Loss: 0.050510820  Training Acc: 0.994140625 Testing Acc: 0.990469873\n",
            "Epoch: 535 Training Loss: 0.066760443 Testing Loss: 0.052183654  Training Acc: 0.989550769 Testing Acc: 0.990342379\n",
            "Epoch: 536 Training Loss: 0.058007207 Testing Loss: 0.059593260  Training Acc: 0.987988293 Testing Acc: 0.988818645\n",
            "Epoch: 537 Training Loss: 0.039856967 Testing Loss: 0.053912748  Training Acc: 0.989062488 Testing Acc: 0.989599884\n",
            "Epoch: 538 Training Loss: 0.024123149 Testing Loss: 0.050154436  Training Acc: 0.993457019 Testing Acc: 0.990170658\n",
            "Epoch: 539 Training Loss: 0.027501458 Testing Loss: 0.049552646  Training Acc: 0.992382824 Testing Acc: 0.989993334\n",
            "Epoch: 540 Training Loss: 0.041378468 Testing Loss: 0.050866161  Training Acc: 0.990820348 Testing Acc: 0.990226030\n",
            "Epoch: 541 Training Loss: 0.053532135 Testing Loss: 0.051801577  Training Acc: 0.986621082 Testing Acc: 0.990248203\n",
            "Epoch: 542 Training Loss: 0.028636253 Testing Loss: 0.051572580  Training Acc: 0.991601586 Testing Acc: 0.989793837\n",
            "Epoch: 543 Training Loss: 0.028724199 Testing Loss: 0.046670444  Training Acc: 0.992675781 Testing Acc: 0.990541875\n",
            "Epoch: 544 Training Loss: 0.023568120 Testing Loss: 0.049044445  Training Acc: 0.993164062 Testing Acc: 0.990325749\n",
            "Epoch: 545 Training Loss: 0.020359917 Testing Loss: 0.048454635  Training Acc: 0.994335949 Testing Acc: 0.990381181\n",
            "Epoch: 546 Training Loss: 0.026184255 Testing Loss: 0.051714890  Training Acc: 0.992089868 Testing Acc: 0.990203917\n",
            "Epoch: 547 Training Loss: 0.021090021 Testing Loss: 0.047945846  Training Acc: 0.994042993 Testing Acc: 0.990342379\n",
            "Epoch: 548 Training Loss: 0.017460203 Testing Loss: 0.048842918  Training Acc: 0.995214880 Testing Acc: 0.990442097\n",
            "Epoch: 549 Training Loss: 0.015533810 Testing Loss: 0.047560494  Training Acc: 0.995898426 Testing Acc: 0.990547359\n",
            "Epoch: 550 Training Loss: 0.031295724 Testing Loss: 0.049693439  Training Acc: 0.993261755 Testing Acc: 0.990447640\n",
            "Epoch: 551 Training Loss: 0.019210262 Testing Loss: 0.052726313  Training Acc: 0.993945301 Testing Acc: 0.990032077\n",
            "Epoch: 552 Training Loss: 0.014992354 Testing Loss: 0.052917119  Training Acc: 0.995214880 Testing Acc: 0.989987791\n",
            "Epoch: 553 Training Loss: 0.028057873 Testing Loss: 0.049679410  Training Acc: 0.992773473 Testing Acc: 0.990530729\n",
            "Epoch: 554 Training Loss: 0.016608404 Testing Loss: 0.051824380  Training Acc: 0.995312512 Testing Acc: 0.990137398\n",
            "Epoch: 555 Training Loss: 0.013470982 Testing Loss: 0.050378889  Training Acc: 0.996093750 Testing Acc: 0.990436614\n",
            "Epoch: 556 Training Loss: 0.017090544 Testing Loss: 0.048013683  Training Acc: 0.995117188 Testing Acc: 0.990863204\n",
            "Epoch: 557 Training Loss: 0.012582718 Testing Loss: 0.048083927  Training Acc: 0.996289074 Testing Acc: 0.990708053\n",
            "Epoch: 558 Training Loss: 0.020661145 Testing Loss: 0.050015289  Training Acc: 0.994335949 Testing Acc: 0.990314662\n",
            "Epoch: 559 Training Loss: 0.015568040 Testing Loss: 0.048706900  Training Acc: 0.993847668 Testing Acc: 0.990475357\n",
            "Epoch: 560 Training Loss: 0.012948266 Testing Loss: 0.052198693  Training Acc: 0.996777356 Testing Acc: 0.990032077\n",
            "Epoch: 561 Training Loss: 0.012372395 Testing Loss: 0.053434376  Training Acc: 0.996093750 Testing Acc: 0.990214944\n",
            "Epoch: 562 Training Loss: 0.018016918 Testing Loss: 0.049959466  Training Acc: 0.993750036 Testing Acc: 0.990791202\n",
            "Epoch: 563 Training Loss: 0.015750846 Testing Loss: 0.050184418  Training Acc: 0.996386707 Testing Acc: 0.990342379\n",
            "Epoch: 564 Training Loss: 0.012080230 Testing Loss: 0.050497439  Training Acc: 0.997363269 Testing Acc: 0.990359008\n",
            "Epoch: 565 Training Loss: 0.017849389 Testing Loss: 0.053109262  Training Acc: 0.995117188 Testing Acc: 0.990347922\n",
            "Epoch: 566 Training Loss: 0.051317293 Testing Loss: 0.053344894  Training Acc: 0.995019555 Testing Acc: 0.990070939\n",
            "Epoch: 567 Training Loss: 0.025209490 Testing Loss: 0.054955792  Training Acc: 0.993261755 Testing Acc: 0.989295185\n",
            "Epoch: 568 Training Loss: 0.019937266 Testing Loss: 0.050684355  Training Acc: 0.994726598 Testing Acc: 0.990032077\n",
            "Epoch: 569 Training Loss: 0.019325107 Testing Loss: 0.049457610  Training Acc: 0.994726598 Testing Acc: 0.990281403\n",
            "Epoch: 570 Training Loss: 0.016218752 Testing Loss: 0.047823753  Training Acc: 0.995214880 Testing Acc: 0.990530729\n",
            "Epoch: 571 Training Loss: 0.019811392 Testing Loss: 0.049983528  Training Acc: 0.995019555 Testing Acc: 0.990170658\n",
            "Epoch: 572 Training Loss: 0.011957887 Testing Loss: 0.048203565  Training Acc: 0.996582031 Testing Acc: 0.990242660\n",
            "Epoch: 573 Training Loss: 0.016628651 Testing Loss: 0.050080195  Training Acc: 0.995605469 Testing Acc: 0.990381181\n",
            "Epoch: 574 Training Loss: 0.011082256 Testing Loss: 0.048151933  Training Acc: 0.996972680 Testing Acc: 0.990741313\n",
            "Epoch: 575 Training Loss: 0.012621718 Testing Loss: 0.049306024  Training Acc: 0.996093750 Testing Acc: 0.990613878\n",
            "Epoch: 576 Training Loss: 0.012797087 Testing Loss: 0.050801367  Training Acc: 0.996777356 Testing Acc: 0.990503073\n",
            "Epoch: 577 Training Loss: 0.011404639 Testing Loss: 0.051264655  Training Acc: 0.997265637 Testing Acc: 0.990475357\n",
            "Epoch: 578 Training Loss: 0.012118042 Testing Loss: 0.049996223  Training Acc: 0.996386707 Testing Acc: 0.990907550\n",
            "Epoch: 579 Training Loss: 0.012835586 Testing Loss: 0.051038712  Training Acc: 0.996289074 Testing Acc: 0.990602851\n",
            "Epoch: 580 Training Loss: 0.014367607 Testing Loss: 0.053216305  Training Acc: 0.995898426 Testing Acc: 0.990298033\n",
            "Epoch: 581 Training Loss: 0.009951721 Testing Loss: 0.054201089  Training Acc: 0.997265637 Testing Acc: 0.990198314\n",
            "Epoch: 582 Training Loss: 0.014234485 Testing Loss: 0.050732952  Training Acc: 0.996484399 Testing Acc: 0.990580618\n",
            "Epoch: 583 Training Loss: 0.010200294 Testing Loss: 0.052159656  Training Acc: 0.996582031 Testing Acc: 0.990658224\n",
            "Epoch: 584 Training Loss: 0.009322278 Testing Loss: 0.050531469  Training Acc: 0.997363269 Testing Acc: 0.990730226\n",
            "Epoch: 585 Training Loss: 0.011363417 Testing Loss: 0.052604456  Training Acc: 0.996582031 Testing Acc: 0.990741313\n",
            "Epoch: 586 Training Loss: 0.010517373 Testing Loss: 0.055070061  Training Acc: 0.996679723 Testing Acc: 0.990691483\n",
            "Epoch: 587 Training Loss: 0.010615394 Testing Loss: 0.054800492  Training Acc: 0.996289074 Testing Acc: 0.990741313\n",
            "Epoch: 588 Training Loss: 0.009171761 Testing Loss: 0.055923514  Training Acc: 0.997168005 Testing Acc: 0.990608335\n",
            "Epoch: 589 Training Loss: 0.010253984 Testing Loss: 0.051836584  Training Acc: 0.996874988 Testing Acc: 0.990558505\n",
            "Epoch: 590 Training Loss: 0.016453492 Testing Loss: 0.053225480  Training Acc: 0.995703161 Testing Acc: 0.990641594\n",
            "Epoch: 591 Training Loss: 0.014933899 Testing Loss: 0.051132414  Training Acc: 0.995117188 Testing Acc: 0.991007268\n",
            "Epoch: 592 Training Loss: 0.017393170 Testing Loss: 0.053668085  Training Acc: 0.994824231 Testing Acc: 0.990563989\n",
            "Epoch: 593 Training Loss: 0.035688687 Testing Loss: 0.054481875  Training Acc: 0.989453137 Testing Acc: 0.990076423\n",
            "Epoch: 594 Training Loss: 0.033646945 Testing Loss: 0.055034660  Training Acc: 0.991601586 Testing Acc: 0.990259290\n",
            "Epoch: 595 Training Loss: 0.025478477 Testing Loss: 0.053929724  Training Acc: 0.992968738 Testing Acc: 0.989882469\n",
            "Epoch: 596 Training Loss: 0.019312009 Testing Loss: 0.052577257  Training Acc: 0.993164062 Testing Acc: 0.990708053\n",
            "Epoch: 597 Training Loss: 0.019075235 Testing Loss: 0.056872752  Training Acc: 0.993554711 Testing Acc: 0.989755094\n",
            "Epoch: 598 Training Loss: 0.017979851 Testing Loss: 0.054026198  Training Acc: 0.994531274 Testing Acc: 0.990397751\n",
            "Epoch: 599 Training Loss: 0.018093830 Testing Loss: 0.052847937  Training Acc: 0.994726598 Testing Acc: 0.990475357\n",
            "Epoch: 600 Training Loss: 0.017298130 Testing Loss: 0.054721929  Training Acc: 0.995117188 Testing Acc: 0.990314662\n"
          ],
          "name": "stdout"
        }
      ]
    },
    {
      "cell_type": "code",
      "metadata": {
        "id": "vzn6YyGw9ULY",
        "colab": {
          "base_uri": "https://localhost:8080/",
          "height": 592
        },
        "outputId": "f3676cd8-30ed-429d-8d3f-a5e192bc3743"
      },
      "source": [
        "plt.figure(figsize = (10,10))\n",
        "plt.plot(L_train, linewidth = 2, c='b', label = \"train\")\n",
        "plt.plot(L_test, linewidth = 2, c='r', label = \"test\")\n",
        "plt.legend()\n",
        "plt.show()"
      ],
      "execution_count": 16,
      "outputs": [
        {
          "output_type": "display_data",
          "data": {
            "image/png": "[encoded data removed]",
            "text/plain": [
              "<Figure size 720x720 with 1 Axes>"
            ]
          },
          "metadata": {
            "tags": [],
            "needs_background": "light"
          }
        }
      ]
    },
    {
      "cell_type": "code",
      "metadata": {
        "id": "Rl1MuQhtqsg2",
        "colab": {
          "base_uri": "https://localhost:8080/",
          "height": 592
        },
        "outputId": "515db32d-7e57-444a-f01c-51b2d641f177"
      },
      "source": [
        "plt.figure(figsize = (10,10))\n",
        "plt.plot(A_train, linewidth = 2, c='b', label = \"train\")\n",
        "plt.plot(A_test, linewidth = 2, c='r', label = \"test\")\n",
        "plt.legend()\n",
        "plt.show()"
      ],
      "execution_count": 17,
      "outputs": [
        {
          "output_type": "display_data",
          "data": {
            "image/png": "[encoded data removed]",
            "text/plain": [
              "<Figure size 720x720 with 1 Axes>"
            ]
          },
          "metadata": {
            "tags": [],
            "needs_background": "light"
          }
        }
      ]
    },
    {
      "cell_type": "code",
      "metadata": {
        "id": "4990rRublMpD",
        "colab": {
          "base_uri": "https://localhost:8080/"
        },
        "outputId": "48930f67-5d47-47c3-a940-f0fa00832dae"
      },
      "source": [
        "print(\"training loss    %.2f\" %(L_train[-1]))\n",
        "print(\"testing loss     %.2f\" %(L_test[-1]))\n",
        "print(\"training acc    %.2f\" %(A_train[-1]))\n",
        "print(\"testing acc     %.2f\" %(A_test[-1]))"
      ],
      "execution_count": 18,
      "outputs": [
        {
          "output_type": "stream",
          "text": [
            "training loss    0.02\n",
            "testing loss     0.05\n",
            "training acc    1.00\n",
            "testing acc     0.99\n"
          ],
          "name": "stdout"
        }
      ]
    },
    {
      "cell_type": "markdown",
      "metadata": {
        "id": "z4L9RrzOz5xl"
      },
      "source": [
        "# 5. Output\n",
        "<hr>"
      ]
    },
    {
      "cell_type": "markdown",
      "metadata": {
        "id": "alN6-n0r0DTO"
      },
      "source": [
        "## 1. Plot the training and testing losses over epochs"
      ]
    },
    {
      "cell_type": "code",
      "metadata": {
        "id": "d8WFmmL4Shvy",
        "colab": {
          "base_uri": "https://localhost:8080/",
          "height": 592
        },
        "outputId": "ed73c98b-39f3-462c-8823-981c31afe56c"
      },
      "source": [
        "plt.figure(figsize = (10,10))\n",
        "plt.plot(L_train, linewidth = 2, c='b', label = \"train\")\n",
        "plt.plot(L_test, linewidth = 2, c='r', label = \"test\")\n",
        "plt.legend()\n",
        "plt.show()"
      ],
      "execution_count": 19,
      "outputs": [
        {
          "output_type": "display_data",
          "data": {
            "image/png": "[encoded data removed]",
            "text/plain": [
              "<Figure size 720x720 with 1 Axes>"
            ]
          },
          "metadata": {
            "tags": [],
            "needs_background": "light"
          }
        }
      ]
    },
    {
      "cell_type": "markdown",
      "metadata": {
        "id": "4t1dSyC1AVe0"
      },
      "source": [
        "## 2. Plot the training and testing accuracies over epochs"
      ]
    },
    {
      "cell_type": "code",
      "metadata": {
        "id": "xUlVVIpISjl6",
        "colab": {
          "base_uri": "https://localhost:8080/",
          "height": 592
        },
        "outputId": "bed24eaa-4fc4-4d7d-cdc1-f5ba074675a6"
      },
      "source": [
        "plt.figure(figsize = (10,10))\n",
        "plt.plot(A_train, linewidth = 2, c='b', label = \"train\")\n",
        "plt.plot(A_test, linewidth = 2, c='r', label = \"test\")\n",
        "plt.legend()\n",
        "plt.show()"
      ],
      "execution_count": 20,
      "outputs": [
        {
          "output_type": "display_data",
          "data": {
            "image/png": "[encoded data removed]",
            "text/plain": [
              "<Figure size 720x720 with 1 Axes>"
            ]
          },
          "metadata": {
            "tags": [],
            "needs_background": "light"
          }
        }
      ]
    },
    {
      "cell_type": "markdown",
      "metadata": {
        "id": "px7XRkcnAnc7"
      },
      "source": [
        "## 3.  Print the final training and testing losses at convergence "
      ]
    },
    {
      "cell_type": "code",
      "metadata": {
        "id": "RrvuQ_SCSlJ_",
        "colab": {
          "base_uri": "https://localhost:8080/"
        },
        "outputId": "653e0a9f-f826-4ad6-e3a1-c8fcb36fe999"
      },
      "source": [
        "print(\"loss\")\n",
        "print(\"train    %.2f\" %(L_train[-1]))\n",
        "print(\"test     %.2f\" %(L_test[-1]))"
      ],
      "execution_count": 21,
      "outputs": [
        {
          "output_type": "stream",
          "text": [
            "loss\n",
            "train    0.02\n",
            "test     0.05\n"
          ],
          "name": "stdout"
        }
      ]
    },
    {
      "cell_type": "markdown",
      "metadata": {
        "id": "gW87VTpwAtMB"
      },
      "source": [
        "## 4. Print the final training and testing accuracies at convergence"
      ]
    },
    {
      "cell_type": "code",
      "metadata": {
        "id": "mpgCDaBpCWT_",
        "colab": {
          "base_uri": "https://localhost:8080/"
        },
        "outputId": "9d8ce2d4-ec59-48fb-cd8c-6f5a688e07da"
      },
      "source": [
        "print(\"Accuracy\")\n",
        "print(\"train    %.5f, %.2f\" %(A_train[-1], A_train[-1]))\n",
        "print(\"test     %.5f, %.2f\" %(A_test[-1], A_test[-1]))"
      ],
      "execution_count": 22,
      "outputs": [
        {
          "output_type": "stream",
          "text": [
            "Accuracy\n",
            "train    0.99512, 1.00\n",
            "test     0.99031, 0.99\n"
          ],
          "name": "stdout"
        }
      ]
    },
    {
      "cell_type": "markdown",
      "metadata": {
        "id": "fzDvqXa7hEem"
      },
      "source": [
        "## 5. Print the testing accuracies within the last 10 epochs"
      ]
    },
    {
      "cell_type": "code",
      "metadata": {
        "id": "vu8Vw6cwassu",
        "colab": {
          "base_uri": "https://localhost:8080/"
        },
        "outputId": "37863871-dad1-4d02-9b51-6a969589cda5"
      },
      "source": [
        "for i in range(-10, 0):\n",
        "  print(f\"Epoch = {len(A_test) + i + 1} Acc: %.5f\" %(A_test[i]))\n"
      ],
      "execution_count": 23,
      "outputs": [
        {
          "output_type": "stream",
          "text": [
            "Epoch = 591 Acc: 0.99101\n",
            "Epoch = 592 Acc: 0.99056\n",
            "Epoch = 593 Acc: 0.99008\n",
            "Epoch = 594 Acc: 0.99026\n",
            "Epoch = 595 Acc: 0.98988\n",
            "Epoch = 596 Acc: 0.99071\n",
            "Epoch = 597 Acc: 0.98976\n",
            "Epoch = 598 Acc: 0.99040\n",
            "Epoch = 599 Acc: 0.99048\n",
            "Epoch = 600 Acc: 0.99031\n"
          ],
          "name": "stdout"
        }
      ]
    },
    {
      "cell_type": "code",
      "metadata": {
        "id": "hTsLh1xUhUXY"
      },
      "source": [
        ""
      ],
      "execution_count": 23,
      "outputs": []
    }
  ]
}