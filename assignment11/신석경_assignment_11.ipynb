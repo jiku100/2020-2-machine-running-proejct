{
  "nbformat": 4,
  "nbformat_minor": 0,
  "metadata": {
    "accelerator": "GPU",
    "colab": {
      "name": "신석경_assignment_11",
      "provenance": [],
      "collapsed_sections": [],
      "authorship_tag": "ABX9TyMc63D0N+N5QOpsk/h914UG",
      "include_colab_link": true
    },
    "kernelspec": {
      "display_name": "Python 3",
      "name": "python3"
    }
  },
  "cells": [
    {
      "cell_type": "markdown",
      "metadata": {
        "id": "view-in-github",
        "colab_type": "text"
      },
      "source": [
        "<a href=\"https://colab.research.google.com/github/jiku100/2020-2-machine-running-proejct/blob/master/assignment11/%EC%8B%A0%EC%84%9D%EA%B2%BD_assignment_11.ipynb\" target=\"_parent\"><img src=\"https://colab.research.google.com/assets/colab-badge.svg\" alt=\"Open In Colab\"/></a>"
      ]
    },
    {
      "cell_type": "markdown",
      "metadata": {
        "id": "0gzdXwFJz0KJ"
      },
      "source": [
        "# **Classification for Multiple Categories using Pytorch for best accuracy with CNN**\n",
        "\n"
      ]
    },
    {
      "cell_type": "markdown",
      "metadata": {
        "id": "w_C7Cujjz4ff"
      },
      "source": [
        "# 1. Import library\n",
        "<hr>"
      ]
    },
    {
      "cell_type": "code",
      "metadata": {
        "id": "gtlbKT3Izgre"
      },
      "source": [
        "import torch\n",
        "import torch.nn as nn\n",
        "import torch.optim as optim\n",
        "import torch.nn.init as init\n",
        "import torchvision\n",
        "import torchvision.transforms as transforms\n",
        "import torchvision.datasets as datasets\n",
        "from torch.utils.data import DataLoader\n",
        "\n",
        "import matplotlib.pyplot as plt\n",
        "import cv2\n",
        "import numpy as np"
      ],
      "execution_count": 1,
      "outputs": []
    },
    {
      "cell_type": "code",
      "metadata": {
        "colab": {
          "base_uri": "https://localhost:8080/"
        },
        "id": "JC9KWsHg7lTJ",
        "outputId": "a77c24fc-591c-41b8-c8a2-72c878261929"
      },
      "source": [
        "USE_CUDA = torch.cuda.is_available()\n",
        "device = torch.device(\"cuda\" if USE_CUDA else \"cpu\")\n",
        "print(\"다음 기기로 학습합니다:\", device)"
      ],
      "execution_count": 2,
      "outputs": [
        {
          "output_type": "stream",
          "text": [
            "다음 기기로 학습합니다: cuda\n"
          ],
          "name": "stdout"
        }
      ]
    },
    {
      "cell_type": "markdown",
      "metadata": {
        "id": "nBCurPvD3NoM"
      },
      "source": [
        "# 2. Preprocessing Data\n",
        "<hr>"
      ]
    },
    {
      "cell_type": "code",
      "metadata": {
        "id": "4tVba13YD-s9"
      },
      "source": [
        "transform_train = transforms.Compose([\n",
        "        transforms.ToTensor(),\n",
        "        transforms.RandomRotation(20),\n",
        "        transforms.Normalize((0.1307,),(0.3081,))                    # 이미지를 텐서로 변형합니다.\n",
        "])\n",
        "\n",
        "transform_test = transforms.Compose([\n",
        "        transforms.ToTensor(), \n",
        "        transforms.Normalize((0.1307,),(0.3081,))            \n",
        "])"
      ],
      "execution_count": 3,
      "outputs": []
    },
    {
      "cell_type": "code",
      "metadata": {
        "id": "1uNdu0HqJEQv"
      },
      "source": [
        "data_path = './MNIST'\n",
        "\n",
        "data_test   = datasets.MNIST(root = data_path, train= True, download=True, transform= transform_test)\n",
        "data_train  = datasets.MNIST(root = data_path, train= False, download=True, transform= transform_train)"
      ],
      "execution_count": 4,
      "outputs": []
    },
    {
      "cell_type": "code",
      "metadata": {
        "colab": {
          "base_uri": "https://localhost:8080/",
          "height": 387
        },
        "id": "8SJcK-t2D3Bp",
        "outputId": "fc74b32f-9d85-43c2-be74-c183eea1fcc5"
      },
      "source": [
        "one_image, label = data_train[0]\n",
        "print(\"type of one image\", type(one_image))\n",
        "print(\"size of one image : \", one_image.shape)\n",
        "plt.imshow(one_image.squeeze().numpy(), cmap='gray')\n",
        "print(\"type of label : \", type(label))\n",
        "print(\"label : \", label)\n",
        "print(np.max(data_train.train_data[0].view(-1).numpy()))"
      ],
      "execution_count": 5,
      "outputs": [
        {
          "output_type": "stream",
          "text": [
            "type of one image <class 'torch.Tensor'>\n",
            "size of one image :  torch.Size([1, 28, 28])\n",
            "type of label :  <class 'int'>\n",
            "label :  7\n",
            "255\n"
          ],
          "name": "stdout"
        },
        {
          "output_type": "stream",
          "text": [
            "/usr/local/lib/python3.6/dist-packages/torchvision/datasets/mnist.py:58: UserWarning: train_data has been renamed data\n",
            "  warnings.warn(\"train_data has been renamed data\")\n"
          ],
          "name": "stderr"
        },
        {
          "output_type": "display_data",
          "data": {
            "image/png": "[encoded data removed]",
            "text/plain": [
              "<Figure size 432x288 with 1 Axes>"
            ]
          },
          "metadata": {
            "tags": [],
            "needs_background": "light"
          }
        }
      ]
    },
    {
      "cell_type": "code",
      "metadata": {
        "id": "lUj2JTgY4r4c"
      },
      "source": [
        "learning_rate = 0.003\n",
        "training_epochs = 600\n",
        "batch_size = 32"
      ],
      "execution_count": 17,
      "outputs": []
    },
    {
      "cell_type": "code",
      "metadata": {
        "id": "CkgCtS3b3giF"
      },
      "source": [
        "train_loader = DataLoader(dataset = data_train, batch_size = batch_size, num_workers = 2, shuffle = True) ## batch size 32 짜리 train loader 생성\n",
        "test_loader = DataLoader(dataset = data_test, batch_size = batch_size, num_workers = 2, shuffle = True) ## batch size 32 짜리 test loader 생성"
      ],
      "execution_count": 18,
      "outputs": []
    },
    {
      "cell_type": "markdown",
      "metadata": {
        "id": "SCsB9Pdk6zd7"
      },
      "source": [
        "# 3. Define Model\n",
        "<hr>"
      ]
    },
    {
      "cell_type": "code",
      "metadata": {
        "id": "-cUHqcW25etQ"
      },
      "source": [
        "class classification(nn.Module):\n",
        "    def __init__(self):\n",
        "        super(classification, self).__init__()\n",
        "        \n",
        "        self.conv_block = nn.Sequential(\n",
        "            nn.Conv2d(1, 16, kernel_size=3, stride=1, padding=1),\n",
        "            nn.BatchNorm2d(16),\n",
        "            nn.ReLU(inplace=True),\n",
        "            nn.Conv2d(16, 32, kernel_size=3, stride=1, padding=1),\n",
        "            nn.BatchNorm2d(32),\n",
        "            nn.ReLU(inplace=True),\n",
        "            nn.MaxPool2d(kernel_size=2, stride=2),\n",
        "            nn.Conv2d(32, 64, kernel_size=3, stride=1, padding=1),\n",
        "            nn.BatchNorm2d(64),\n",
        "            nn.ReLU(inplace=True),\n",
        "            nn.MaxPool2d(kernel_size=2, stride=2) \n",
        "        )\n",
        "        \n",
        "        self.linear_block = nn.Sequential(\n",
        "            nn.Dropout(p=0.5),\n",
        "            nn.Linear(64*7*7, 128),\n",
        "            nn.BatchNorm1d(128),\n",
        "            nn.ReLU(inplace=True),\n",
        "            nn.Dropout(0.5),\n",
        "            nn.Linear(128, 64),\n",
        "            nn.BatchNorm1d(64),\n",
        "            nn.ReLU(inplace=True),\n",
        "            nn.Dropout(0.5),\n",
        "            nn.Linear(64, 10)\n",
        "        )\n",
        "        \n",
        "    def forward(self, x):\n",
        "        x = self.conv_block(x)\n",
        "        x = x.view(x.size(0), -1)\n",
        "        x = self.linear_block(x)\n",
        "        \n",
        "        return x"
      ],
      "execution_count": 19,
      "outputs": []
    },
    {
      "cell_type": "code",
      "metadata": {
        "id": "MWYQ30d37dwC"
      },
      "source": [
        "model = classification().to(device)"
      ],
      "execution_count": 20,
      "outputs": []
    },
    {
      "cell_type": "code",
      "metadata": {
        "id": "-GpzWr1V64wc"
      },
      "source": [
        "criterion = nn.CrossEntropyLoss().to(device)    # Softmax is internally computed.\n",
        "optimizer = torch.optim.Adam(model.parameters(), lr=learning_rate)\n",
        "scheduler = optim.lr_scheduler.StepLR(optimizer, step_size=20, gamma=0.1)"
      ],
      "execution_count": 21,
      "outputs": []
    },
    {
      "cell_type": "markdown",
      "metadata": {
        "id": "lsNWP3Wk8Siq"
      },
      "source": [
        "# 4. Training\n",
        "<hr>"
      ]
    },
    {
      "cell_type": "code",
      "metadata": {
        "id": "1_QSSPkC7sCr"
      },
      "source": [
        "total_batch= len(train_loader)"
      ],
      "execution_count": 22,
      "outputs": []
    },
    {
      "cell_type": "code",
      "metadata": {
        "colab": {
          "base_uri": "https://localhost:8080/"
        },
        "id": "9_SeUrHB5gLH",
        "outputId": "2f151809-d119-49f1-b571-9e687e6120b5"
      },
      "source": [
        "print(total_batch)"
      ],
      "execution_count": 23,
      "outputs": [
        {
          "output_type": "stream",
          "text": [
            "313\n"
          ],
          "name": "stdout"
        }
      ]
    },
    {
      "cell_type": "code",
      "metadata": {
        "id": "eaJMZ8TvcglJ"
      },
      "source": [
        "def accuracy(log_pred, y_true):\n",
        "    y_pred = torch.argmax(log_pred, dim=1)\n",
        "    return (y_pred == y_true).to(torch.float).mean()"
      ],
      "execution_count": 24,
      "outputs": []
    },
    {
      "cell_type": "code",
      "metadata": {
        "id": "Kl5FuVgt8_LF"
      },
      "source": [
        "def training(model, loss, optim, training_epochs, train_loader, test_loader):\n",
        "  L_iters_train = []\n",
        "  accuracy_train = []\n",
        "  L_iters_test = []\n",
        "  accuracy_test = []\n",
        "  for epoch in range(training_epochs):\n",
        "    total_cost_train = 0\n",
        "    total_cost_test = 0\n",
        "    total_acc_train = 0\n",
        "    total_acc_test = 0\n",
        "    model.train()\n",
        "    for X, Y in train_loader:\n",
        "      X = X.to(device)\n",
        "      Y = Y.to(device)\n",
        "\n",
        "      optim.zero_grad()\n",
        "      train_pred = model(X)\n",
        "      cost = loss(train_pred, Y)\n",
        "      cost.backward()\n",
        "      optim.step()\n",
        "\n",
        "      total_cost_train += cost\n",
        "      total_acc_train += accuracy(train_pred, Y)\n",
        "      \n",
        "    avg_cost_train = total_cost_train / len(train_loader)\n",
        "    avg_acc_train = total_acc_train / len(train_loader)\n",
        "\n",
        "    L_iters_train.append(avg_cost_train)\n",
        "    accuracy_train.append(avg_acc_train)\n",
        "    model.eval()\n",
        "    with torch.no_grad():\n",
        "      for X_test, Y_test in test_loader:\n",
        "        X_test = X_test.to(device)\n",
        "        Y_test = Y_test.to(device)\n",
        "        test_pred = model(X_test)\n",
        "        cost_test = loss(test_pred, Y_test)\n",
        "        total_cost_test += cost_test\n",
        "        total_acc_test += accuracy(test_pred, Y_test)\n",
        "      avg_cost_test = total_cost_test / len(test_loader)\n",
        "      avg_acc_test = total_acc_test / len(test_loader)\n",
        "    \n",
        "      accuracy_test.append(avg_acc_test)\n",
        "      L_iters_test.append(avg_cost_test)\n",
        "\n",
        "    print(\"Epoch: %02d Training Loss: %.9f Testing Loss: %.9f  Training Acc: %.9f Testing Acc: %.9f\" %((epoch + 1),avg_cost_train, avg_cost_test, avg_acc_train, avg_acc_test))\n",
        "  return L_iters_train, accuracy_train, L_iters_test, accuracy_test"
      ],
      "execution_count": 25,
      "outputs": []
    },
    {
      "cell_type": "code",
      "metadata": {
        "colab": {
          "base_uri": "https://localhost:8080/"
        },
        "id": "hOfKPriA84jq",
        "outputId": "32c87be7-6a10-4fdd-c3d6-0a352f5c9dcd"
      },
      "source": [
        "L_train, A_train, L_test, A_test = training(model, criterion, optimizer, training_epochs, train_loader, test_loader)"
      ],
      "execution_count": 26,
      "outputs": [
        {
          "output_type": "stream",
          "text": [
            "Epoch: 01 Training Loss: 0.749376059 Testing Loss: 0.111950293  Training Acc: 0.779952049 Testing Acc: 0.969866693\n",
            "Epoch: 02 Training Loss: 0.342660159 Testing Loss: 0.125347927  Training Acc: 0.902256370 Testing Acc: 0.961233318\n",
            "Epoch: 03 Training Loss: 0.272220999 Testing Loss: 0.080293514  Training Acc: 0.922424078 Testing Acc: 0.975700021\n",
            "Epoch: 04 Training Loss: 0.261958301 Testing Loss: 0.073930711  Training Acc: 0.929113388 Testing Acc: 0.978550017\n",
            "Epoch: 05 Training Loss: 0.223948509 Testing Loss: 0.071465515  Training Acc: 0.937000811 Testing Acc: 0.979250014\n",
            "Epoch: 06 Training Loss: 0.199499086 Testing Loss: 0.063648880  Training Acc: 0.941693246 Testing Acc: 0.981500030\n",
            "Epoch: 07 Training Loss: 0.182982102 Testing Loss: 0.058701873  Training Acc: 0.948682070 Testing Acc: 0.982516706\n",
            "Epoch: 08 Training Loss: 0.184796378 Testing Loss: 0.063416719  Training Acc: 0.947883368 Testing Acc: 0.981150031\n",
            "Epoch: 09 Training Loss: 0.175795704 Testing Loss: 0.062722050  Training Acc: 0.953773916 Testing Acc: 0.981683373\n",
            "Epoch: 10 Training Loss: 0.170209631 Testing Loss: 0.056170169  Training Acc: 0.952276349 Testing Acc: 0.983266652\n",
            "Epoch: 11 Training Loss: 0.163358912 Testing Loss: 0.060696200  Training Acc: 0.953174889 Testing Acc: 0.982366681\n",
            "Epoch: 12 Training Loss: 0.157635227 Testing Loss: 0.068859555  Training Acc: 0.954872191 Testing Acc: 0.979350030\n",
            "Epoch: 13 Training Loss: 0.148558468 Testing Loss: 0.049923439  Training Acc: 0.959564686 Testing Acc: 0.985599995\n",
            "Epoch: 14 Training Loss: 0.145122096 Testing Loss: 0.050737746  Training Acc: 0.958566248 Testing Acc: 0.984883368\n",
            "Epoch: 15 Training Loss: 0.149913296 Testing Loss: 0.058332227  Training Acc: 0.956669331 Testing Acc: 0.983533323\n",
            "Epoch: 16 Training Loss: 0.139371470 Testing Loss: 0.053597588  Training Acc: 0.960463226 Testing Acc: 0.984716654\n",
            "Epoch: 17 Training Loss: 0.140181243 Testing Loss: 0.052051026  Training Acc: 0.961361825 Testing Acc: 0.984933317\n",
            "Epoch: 18 Training Loss: 0.151798740 Testing Loss: 0.051792849  Training Acc: 0.957168519 Testing Acc: 0.985166669\n",
            "Epoch: 19 Training Loss: 0.125171497 Testing Loss: 0.057984404  Training Acc: 0.966753185 Testing Acc: 0.983449996\n",
            "Epoch: 20 Training Loss: 0.128286749 Testing Loss: 0.052475680  Training Acc: 0.964257181 Testing Acc: 0.985350013\n",
            "Epoch: 21 Training Loss: 0.125878230 Testing Loss: 0.050467793  Training Acc: 0.962360203 Testing Acc: 0.985116661\n",
            "Epoch: 22 Training Loss: 0.125616819 Testing Loss: 0.047082983  Training Acc: 0.964656532 Testing Acc: 0.986466706\n",
            "Epoch: 23 Training Loss: 0.121172190 Testing Loss: 0.051149141  Training Acc: 0.965954483 Testing Acc: 0.985183358\n",
            "Epoch: 24 Training Loss: 0.115970731 Testing Loss: 0.050624587  Training Acc: 0.966753185 Testing Acc: 0.986066699\n",
            "Epoch: 25 Training Loss: 0.119394273 Testing Loss: 0.051258069  Training Acc: 0.966253996 Testing Acc: 0.985416651\n",
            "Epoch: 26 Training Loss: 0.115004726 Testing Loss: 0.050504506  Training Acc: 0.967851400 Testing Acc: 0.986016691\n",
            "Epoch: 27 Training Loss: 0.113042578 Testing Loss: 0.048648339  Training Acc: 0.967651725 Testing Acc: 0.986366689\n",
            "Epoch: 28 Training Loss: 0.105042651 Testing Loss: 0.045377184  Training Acc: 0.970447242 Testing Acc: 0.987083316\n",
            "Epoch: 29 Training Loss: 0.114917830 Testing Loss: 0.046705775  Training Acc: 0.967551887 Testing Acc: 0.986666679\n",
            "Epoch: 30 Training Loss: 0.099977456 Testing Loss: 0.045921769  Training Acc: 0.969548702 Testing Acc: 0.986950040\n",
            "Epoch: 31 Training Loss: 0.098771356 Testing Loss: 0.052364897  Training Acc: 0.972543895 Testing Acc: 0.985316694\n",
            "Epoch: 32 Training Loss: 0.109971628 Testing Loss: 0.042224832  Training Acc: 0.968450487 Testing Acc: 0.988333344\n",
            "Epoch: 33 Training Loss: 0.110412240 Testing Loss: 0.048170291  Training Acc: 0.968150914 Testing Acc: 0.986883342\n",
            "Epoch: 34 Training Loss: 0.098156832 Testing Loss: 0.045124441  Training Acc: 0.972444057 Testing Acc: 0.987300038\n",
            "Epoch: 35 Training Loss: 0.104436025 Testing Loss: 0.047142722  Training Acc: 0.969548702 Testing Acc: 0.987049997\n",
            "Epoch: 36 Training Loss: 0.105223216 Testing Loss: 0.043447740  Training Acc: 0.970946491 Testing Acc: 0.987933338\n",
            "Epoch: 37 Training Loss: 0.103666149 Testing Loss: 0.042385172  Training Acc: 0.968650162 Testing Acc: 0.988483369\n",
            "Epoch: 38 Training Loss: 0.103235640 Testing Loss: 0.045359347  Training Acc: 0.971745193 Testing Acc: 0.987699986\n",
            "Epoch: 39 Training Loss: 0.099109001 Testing Loss: 0.042290431  Training Acc: 0.970147729 Testing Acc: 0.988566697\n",
            "Epoch: 40 Training Loss: 0.101859845 Testing Loss: 0.044041172  Training Acc: 0.971645355 Testing Acc: 0.987699986\n",
            "Epoch: 41 Training Loss: 0.089877121 Testing Loss: 0.042510390  Training Acc: 0.974141359 Testing Acc: 0.987833321\n",
            "Epoch: 42 Training Loss: 0.100661337 Testing Loss: 0.043152522  Training Acc: 0.971645355 Testing Acc: 0.987716675\n",
            "Epoch: 43 Training Loss: 0.087558448 Testing Loss: 0.045122810  Training Acc: 0.974840224 Testing Acc: 0.987550020\n",
            "Epoch: 44 Training Loss: 0.084065907 Testing Loss: 0.044098221  Training Acc: 0.976637363 Testing Acc: 0.987683356\n",
            "Epoch: 45 Training Loss: 0.098612674 Testing Loss: 0.050268531  Training Acc: 0.972843409 Testing Acc: 0.986450016\n",
            "Epoch: 46 Training Loss: 0.097148813 Testing Loss: 0.041244786  Training Acc: 0.972843409 Testing Acc: 0.988350034\n",
            "Epoch: 47 Training Loss: 0.104787953 Testing Loss: 0.042865723  Training Acc: 0.972244382 Testing Acc: 0.987950027\n",
            "Epoch: 48 Training Loss: 0.089687280 Testing Loss: 0.042592332  Training Acc: 0.973742008 Testing Acc: 0.988099992\n",
            "Epoch: 49 Training Loss: 0.085177079 Testing Loss: 0.042504411  Training Acc: 0.977036715 Testing Acc: 0.988566697\n",
            "Epoch: 50 Training Loss: 0.092600644 Testing Loss: 0.040554274  Training Acc: 0.974341035 Testing Acc: 0.988516688\n",
            "Epoch: 51 Training Loss: 0.086374156 Testing Loss: 0.041185189  Training Acc: 0.976337850 Testing Acc: 0.988550007\n",
            "Epoch: 52 Training Loss: 0.083287328 Testing Loss: 0.045809865  Training Acc: 0.976138175 Testing Acc: 0.987583339\n",
            "Epoch: 53 Training Loss: 0.083145984 Testing Loss: 0.046210308  Training Acc: 0.974740386 Testing Acc: 0.987833321\n",
            "Epoch: 54 Training Loss: 0.085001841 Testing Loss: 0.042402644  Training Acc: 0.975938499 Testing Acc: 0.988250017\n",
            "Epoch: 55 Training Loss: 0.085407831 Testing Loss: 0.042427119  Training Acc: 0.975339413 Testing Acc: 0.988766670\n",
            "Epoch: 56 Training Loss: 0.082491808 Testing Loss: 0.044765241  Training Acc: 0.976038337 Testing Acc: 0.987983346\n",
            "Epoch: 57 Training Loss: 0.078505956 Testing Loss: 0.044207305  Training Acc: 0.976737201 Testing Acc: 0.988183320\n",
            "Epoch: 58 Training Loss: 0.080174327 Testing Loss: 0.044620238  Training Acc: 0.974640548 Testing Acc: 0.988266706\n",
            "Epoch: 59 Training Loss: 0.085391909 Testing Loss: 0.040392850  Training Acc: 0.974640548 Testing Acc: 0.989066660\n",
            "Epoch: 60 Training Loss: 0.081148192 Testing Loss: 0.046827953  Training Acc: 0.976637363 Testing Acc: 0.987716675\n",
            "Epoch: 61 Training Loss: 0.078553937 Testing Loss: 0.043364633  Training Acc: 0.977535903 Testing Acc: 0.988233328\n",
            "Epoch: 62 Training Loss: 0.078044012 Testing Loss: 0.040670842  Training Acc: 0.975539148 Testing Acc: 0.989483356\n",
            "Epoch: 63 Training Loss: 0.080394074 Testing Loss: 0.041218873  Training Acc: 0.978234828 Testing Acc: 0.989216685\n",
            "Epoch: 64 Training Loss: 0.071831465 Testing Loss: 0.045870304  Training Acc: 0.978434503 Testing Acc: 0.987716675\n",
            "Epoch: 65 Training Loss: 0.086182445 Testing Loss: 0.042748462  Training Acc: 0.976537526 Testing Acc: 0.988533318\n",
            "Epoch: 66 Training Loss: 0.085687131 Testing Loss: 0.042829525  Training Acc: 0.977835417 Testing Acc: 0.988799989\n",
            "Epoch: 67 Training Loss: 0.078136511 Testing Loss: 0.040612787  Training Acc: 0.979133368 Testing Acc: 0.988766670\n",
            "Epoch: 68 Training Loss: 0.074083112 Testing Loss: 0.040621247  Training Acc: 0.977835417 Testing Acc: 0.988783360\n",
            "Epoch: 69 Training Loss: 0.080582559 Testing Loss: 0.044523772  Training Acc: 0.976537526 Testing Acc: 0.987883329\n",
            "Epoch: 70 Training Loss: 0.068217605 Testing Loss: 0.046364672  Training Acc: 0.981329858 Testing Acc: 0.987933338\n",
            "Epoch: 71 Training Loss: 0.079295516 Testing Loss: 0.040548146  Training Acc: 0.979133368 Testing Acc: 0.988966703\n",
            "Epoch: 72 Training Loss: 0.070688017 Testing Loss: 0.043058582  Training Acc: 0.980730832 Testing Acc: 0.988933325\n",
            "Epoch: 73 Training Loss: 0.067780733 Testing Loss: 0.038603541  Training Acc: 0.980131745 Testing Acc: 0.989166677\n",
            "Epoch: 74 Training Loss: 0.064672366 Testing Loss: 0.046252269  Training Acc: 0.980830669 Testing Acc: 0.988166690\n",
            "Epoch: 75 Training Loss: 0.068833679 Testing Loss: 0.041788869  Training Acc: 0.978833854 Testing Acc: 0.989283323\n",
            "Epoch: 76 Training Loss: 0.081028879 Testing Loss: 0.045841660  Training Acc: 0.978334665 Testing Acc: 0.988350034\n",
            "Epoch: 77 Training Loss: 0.069227114 Testing Loss: 0.042921063  Training Acc: 0.980630994 Testing Acc: 0.988783360\n",
            "Epoch: 78 Training Loss: 0.074372508 Testing Loss: 0.039673828  Training Acc: 0.979832232 Testing Acc: 0.988983333\n",
            "Epoch: 79 Training Loss: 0.076281853 Testing Loss: 0.037476175  Training Acc: 0.978134990 Testing Acc: 0.989683330\n",
            "Epoch: 80 Training Loss: 0.069156893 Testing Loss: 0.041032940  Training Acc: 0.979932070 Testing Acc: 0.989133358\n",
            "Epoch: 81 Training Loss: 0.079419293 Testing Loss: 0.038839910  Training Acc: 0.977935314 Testing Acc: 0.989166677\n",
            "Epoch: 82 Training Loss: 0.072013400 Testing Loss: 0.039528102  Training Acc: 0.980131745 Testing Acc: 0.989366651\n",
            "Epoch: 83 Training Loss: 0.071613744 Testing Loss: 0.041658077  Training Acc: 0.979333043 Testing Acc: 0.989199996\n",
            "Epoch: 84 Training Loss: 0.071674824 Testing Loss: 0.041281398  Training Acc: 0.979333043 Testing Acc: 0.989333332\n",
            "Epoch: 85 Training Loss: 0.064292043 Testing Loss: 0.039887622  Training Acc: 0.980231583 Testing Acc: 0.989499986\n",
            "Epoch: 86 Training Loss: 0.068621933 Testing Loss: 0.037027568  Training Acc: 0.981230021 Testing Acc: 0.990150034\n",
            "Epoch: 87 Training Loss: 0.070405014 Testing Loss: 0.044207562  Training Acc: 0.980930507 Testing Acc: 0.988433361\n",
            "Epoch: 88 Training Loss: 0.065732561 Testing Loss: 0.045535643  Training Acc: 0.982627749 Testing Acc: 0.988700032\n",
            "Epoch: 89 Training Loss: 0.067971662 Testing Loss: 0.043946970  Training Acc: 0.978434503 Testing Acc: 0.988616705\n",
            "Epoch: 90 Training Loss: 0.071946472 Testing Loss: 0.041972548  Training Acc: 0.978734016 Testing Acc: 0.988716662\n",
            "Epoch: 91 Training Loss: 0.075933136 Testing Loss: 0.041306604  Training Acc: 0.978734016 Testing Acc: 0.989466667\n",
            "Epoch: 92 Training Loss: 0.072383590 Testing Loss: 0.039622441  Training Acc: 0.980630994 Testing Acc: 0.989700019\n",
            "Epoch: 93 Training Loss: 0.069872923 Testing Loss: 0.044894055  Training Acc: 0.978334665 Testing Acc: 0.988700032\n",
            "Epoch: 94 Training Loss: 0.069835640 Testing Loss: 0.041749440  Training Acc: 0.980930507 Testing Acc: 0.988933325\n",
            "Epoch: 95 Training Loss: 0.060429424 Testing Loss: 0.038827363  Training Acc: 0.984025538 Testing Acc: 0.989283323\n",
            "Epoch: 96 Training Loss: 0.065493442 Testing Loss: 0.044052109  Training Acc: 0.980331481 Testing Acc: 0.988283336\n",
            "Epoch: 97 Training Loss: 0.069582008 Testing Loss: 0.043329965  Training Acc: 0.978734016 Testing Acc: 0.989116669\n",
            "Epoch: 98 Training Loss: 0.065341011 Testing Loss: 0.037676673  Training Acc: 0.981429696 Testing Acc: 0.990616679\n",
            "Epoch: 99 Training Loss: 0.071908645 Testing Loss: 0.036998264  Training Acc: 0.979432881 Testing Acc: 0.990033329\n",
            "Epoch: 100 Training Loss: 0.063264899 Testing Loss: 0.038791496  Training Acc: 0.982527912 Testing Acc: 0.990183353\n",
            "Epoch: 101 Training Loss: 0.054332398 Testing Loss: 0.037236478  Training Acc: 0.985323489 Testing Acc: 0.990599990\n",
            "Epoch: 102 Training Loss: 0.069943026 Testing Loss: 0.038664337  Training Acc: 0.979532719 Testing Acc: 0.990016699\n",
            "Epoch: 103 Training Loss: 0.063272618 Testing Loss: 0.040501975  Training Acc: 0.979932070 Testing Acc: 0.989416659\n",
            "Epoch: 104 Training Loss: 0.061900213 Testing Loss: 0.038533244  Training Acc: 0.981429696 Testing Acc: 0.989783347\n",
            "Epoch: 105 Training Loss: 0.055829410 Testing Loss: 0.043408994  Training Acc: 0.982128561 Testing Acc: 0.989416659\n",
            "Epoch: 106 Training Loss: 0.063068129 Testing Loss: 0.039570522  Training Acc: 0.982228398 Testing Acc: 0.989516675\n",
            "Epoch: 107 Training Loss: 0.067119069 Testing Loss: 0.037966445  Training Acc: 0.982128561 Testing Acc: 0.989516675\n",
            "Epoch: 108 Training Loss: 0.057982307 Testing Loss: 0.049747489  Training Acc: 0.982727647 Testing Acc: 0.987900019\n",
            "Epoch: 109 Training Loss: 0.059365526 Testing Loss: 0.040351421  Training Acc: 0.984225214 Testing Acc: 0.989283323\n",
            "Epoch: 110 Training Loss: 0.058616824 Testing Loss: 0.045151208  Training Acc: 0.983626187 Testing Acc: 0.988600016\n",
            "Epoch: 111 Training Loss: 0.056830749 Testing Loss: 0.040208176  Training Acc: 0.984624565 Testing Acc: 0.989833355\n",
            "Epoch: 112 Training Loss: 0.065940596 Testing Loss: 0.040798485  Training Acc: 0.982627749 Testing Acc: 0.989733338\n",
            "Epoch: 113 Training Loss: 0.063175403 Testing Loss: 0.044109326  Training Acc: 0.981329858 Testing Acc: 0.989400029\n",
            "Epoch: 114 Training Loss: 0.057789620 Testing Loss: 0.041593190  Training Acc: 0.982028723 Testing Acc: 0.989633322\n",
            "Epoch: 115 Training Loss: 0.061368618 Testing Loss: 0.041774504  Training Acc: 0.981729209 Testing Acc: 0.989733338\n",
            "Epoch: 116 Training Loss: 0.054465011 Testing Loss: 0.045180887  Training Acc: 0.983426511 Testing Acc: 0.988966703\n",
            "Epoch: 117 Training Loss: 0.059883073 Testing Loss: 0.040587693  Training Acc: 0.983027160 Testing Acc: 0.989766657\n",
            "Epoch: 118 Training Loss: 0.063641489 Testing Loss: 0.043308396  Training Acc: 0.982627749 Testing Acc: 0.989300013\n",
            "Epoch: 119 Training Loss: 0.064275309 Testing Loss: 0.043459795  Training Acc: 0.981429696 Testing Acc: 0.989000022\n",
            "Epoch: 120 Training Loss: 0.056876246 Testing Loss: 0.037922665  Training Acc: 0.983925700 Testing Acc: 0.990333319\n",
            "Epoch: 121 Training Loss: 0.053720303 Testing Loss: 0.039037012  Training Acc: 0.983825862 Testing Acc: 0.990033329\n",
            "Epoch: 122 Training Loss: 0.064022027 Testing Loss: 0.038821556  Training Acc: 0.983925700 Testing Acc: 0.990016699\n",
            "Epoch: 123 Training Loss: 0.049807113 Testing Loss: 0.038936220  Training Acc: 0.985822678 Testing Acc: 0.990416706\n",
            "Epoch: 124 Training Loss: 0.064794153 Testing Loss: 0.040458590  Training Acc: 0.982428074 Testing Acc: 0.989650011\n",
            "Epoch: 125 Training Loss: 0.063022979 Testing Loss: 0.039816752  Training Acc: 0.982328236 Testing Acc: 0.989549994\n",
            "Epoch: 126 Training Loss: 0.057333414 Testing Loss: 0.036089059  Training Acc: 0.983027160 Testing Acc: 0.990450025\n",
            "Epoch: 127 Training Loss: 0.063990705 Testing Loss: 0.042044826  Training Acc: 0.982627749 Testing Acc: 0.989466667\n",
            "Epoch: 128 Training Loss: 0.062485442 Testing Loss: 0.041232958  Training Acc: 0.982627749 Testing Acc: 0.989849985\n",
            "Epoch: 129 Training Loss: 0.054899268 Testing Loss: 0.037755311  Training Acc: 0.982428074 Testing Acc: 0.990416706\n",
            "Epoch: 130 Training Loss: 0.054888964 Testing Loss: 0.043035205  Training Acc: 0.984624565 Testing Acc: 0.989400029\n",
            "Epoch: 131 Training Loss: 0.058236130 Testing Loss: 0.041642651  Training Acc: 0.983126998 Testing Acc: 0.989533365\n",
            "Epoch: 132 Training Loss: 0.056193974 Testing Loss: 0.039596006  Training Acc: 0.983726025 Testing Acc: 0.989583373\n",
            "Epoch: 133 Training Loss: 0.063039839 Testing Loss: 0.038191475  Training Acc: 0.981429696 Testing Acc: 0.990100026\n",
            "Epoch: 134 Training Loss: 0.063793696 Testing Loss: 0.037487060  Training Acc: 0.981329858 Testing Acc: 0.990300000\n",
            "Epoch: 135 Training Loss: 0.055767100 Testing Loss: 0.037630416  Training Acc: 0.985223651 Testing Acc: 0.990166664\n",
            "Epoch: 136 Training Loss: 0.049647409 Testing Loss: 0.040861208  Training Acc: 0.986321867 Testing Acc: 0.989849985\n",
            "Epoch: 137 Training Loss: 0.057285041 Testing Loss: 0.043256056  Training Acc: 0.986421704 Testing Acc: 0.989983320\n",
            "Epoch: 138 Training Loss: 0.059389990 Testing Loss: 0.039382506  Training Acc: 0.982627749 Testing Acc: 0.990633368\n",
            "Epoch: 139 Training Loss: 0.053293299 Testing Loss: 0.037177354  Training Acc: 0.984125376 Testing Acc: 0.990733325\n",
            "Epoch: 140 Training Loss: 0.054004211 Testing Loss: 0.041163471  Training Acc: 0.984824240 Testing Acc: 0.989450037\n",
            "Epoch: 141 Training Loss: 0.057260916 Testing Loss: 0.039747905  Training Acc: 0.983027160 Testing Acc: 0.989533365\n",
            "Epoch: 142 Training Loss: 0.055503808 Testing Loss: 0.038758270  Training Acc: 0.984524727 Testing Acc: 0.989750028\n",
            "Epoch: 143 Training Loss: 0.061562188 Testing Loss: 0.037652377  Training Acc: 0.984025538 Testing Acc: 0.990333319\n",
            "Epoch: 144 Training Loss: 0.049346559 Testing Loss: 0.037581649  Training Acc: 0.986321867 Testing Acc: 0.990450025\n",
            "Epoch: 145 Training Loss: 0.056303132 Testing Loss: 0.040607762  Training Acc: 0.984125376 Testing Acc: 0.989566684\n",
            "Epoch: 146 Training Loss: 0.065770246 Testing Loss: 0.035007335  Training Acc: 0.981629372 Testing Acc: 0.990916669\n",
            "Epoch: 147 Training Loss: 0.053172540 Testing Loss: 0.041295730  Training Acc: 0.984824240 Testing Acc: 0.989316702\n",
            "Epoch: 148 Training Loss: 0.054198120 Testing Loss: 0.041669864  Training Acc: 0.983027160 Testing Acc: 0.990150034\n",
            "Epoch: 149 Training Loss: 0.055406436 Testing Loss: 0.039589420  Training Acc: 0.983027160 Testing Acc: 0.990566671\n",
            "Epoch: 150 Training Loss: 0.054965850 Testing Loss: 0.037054855  Training Acc: 0.984025538 Testing Acc: 0.990400016\n",
            "Epoch: 151 Training Loss: 0.053489592 Testing Loss: 0.037504476  Training Acc: 0.986122191 Testing Acc: 0.990233362\n",
            "Epoch: 152 Training Loss: 0.061276052 Testing Loss: 0.041504439  Training Acc: 0.983226836 Testing Acc: 0.989533365\n",
            "Epoch: 153 Training Loss: 0.062689938 Testing Loss: 0.039301254  Training Acc: 0.982727647 Testing Acc: 0.989666700\n",
            "Epoch: 154 Training Loss: 0.048251562 Testing Loss: 0.040688105  Training Acc: 0.985323489 Testing Acc: 0.989950001\n",
            "Epoch: 155 Training Loss: 0.052805707 Testing Loss: 0.040148366  Training Acc: 0.984025538 Testing Acc: 0.990050018\n",
            "Epoch: 156 Training Loss: 0.052542407 Testing Loss: 0.040686250  Training Acc: 0.985922515 Testing Acc: 0.989616692\n",
            "Epoch: 157 Training Loss: 0.046318717 Testing Loss: 0.039452672  Training Acc: 0.986621380 Testing Acc: 0.990516663\n",
            "Epoch: 158 Training Loss: 0.049248051 Testing Loss: 0.041012093  Training Acc: 0.986421704 Testing Acc: 0.990066707\n",
            "Epoch: 159 Training Loss: 0.055159826 Testing Loss: 0.037888315  Training Acc: 0.983626187 Testing Acc: 0.990316689\n",
            "Epoch: 160 Training Loss: 0.049174607 Testing Loss: 0.041224256  Training Acc: 0.986222029 Testing Acc: 0.990016699\n",
            "Epoch: 161 Training Loss: 0.062326826 Testing Loss: 0.038400307  Training Acc: 0.983126998 Testing Acc: 0.990500033\n",
            "Epoch: 162 Training Loss: 0.048643116 Testing Loss: 0.039046347  Training Acc: 0.986321867 Testing Acc: 0.990783334\n",
            "Epoch: 163 Training Loss: 0.053296383 Testing Loss: 0.035902169  Training Acc: 0.985523164 Testing Acc: 0.991133332\n",
            "Epoch: 164 Training Loss: 0.059588689 Testing Loss: 0.036710698  Training Acc: 0.984225214 Testing Acc: 0.990883350\n",
            "Epoch: 165 Training Loss: 0.044172291 Testing Loss: 0.046954282  Training Acc: 0.985722840 Testing Acc: 0.989233315\n",
            "Epoch: 166 Training Loss: 0.060652252 Testing Loss: 0.038797334  Training Acc: 0.983126998 Testing Acc: 0.989899993\n",
            "Epoch: 167 Training Loss: 0.044571385 Testing Loss: 0.041005451  Training Acc: 0.987020731 Testing Acc: 0.990283370\n",
            "Epoch: 168 Training Loss: 0.057739653 Testing Loss: 0.044093635  Training Acc: 0.983126998 Testing Acc: 0.989766657\n",
            "Epoch: 169 Training Loss: 0.058258086 Testing Loss: 0.038724944  Training Acc: 0.983825862 Testing Acc: 0.990133345\n",
            "Epoch: 170 Training Loss: 0.052498970 Testing Loss: 0.041929420  Training Acc: 0.984724402 Testing Acc: 0.989666700\n",
            "Epoch: 171 Training Loss: 0.044249609 Testing Loss: 0.041084334  Training Acc: 0.986421704 Testing Acc: 0.990150034\n",
            "Epoch: 172 Training Loss: 0.052117400 Testing Loss: 0.041915610  Training Acc: 0.985623002 Testing Acc: 0.989666700\n",
            "Epoch: 173 Training Loss: 0.047387987 Testing Loss: 0.040675674  Training Acc: 0.986421704 Testing Acc: 0.990750015\n",
            "Epoch: 174 Training Loss: 0.046163447 Testing Loss: 0.044807311  Training Acc: 0.985922515 Testing Acc: 0.989566684\n",
            "Epoch: 175 Training Loss: 0.055408046 Testing Loss: 0.039500121  Training Acc: 0.985423326 Testing Acc: 0.990083337\n",
            "Epoch: 176 Training Loss: 0.048533771 Testing Loss: 0.044248026  Training Acc: 0.986022353 Testing Acc: 0.989683330\n",
            "Epoch: 177 Training Loss: 0.057524767 Testing Loss: 0.040246345  Training Acc: 0.984025538 Testing Acc: 0.990050018\n",
            "Epoch: 178 Training Loss: 0.053358100 Testing Loss: 0.039657161  Training Acc: 0.984225214 Testing Acc: 0.990599990\n",
            "Epoch: 179 Training Loss: 0.056522783 Testing Loss: 0.040691569  Training Acc: 0.984025538 Testing Acc: 0.990249991\n",
            "Epoch: 180 Training Loss: 0.045787591 Testing Loss: 0.038470343  Training Acc: 0.987020731 Testing Acc: 0.990566671\n",
            "Epoch: 181 Training Loss: 0.048014585 Testing Loss: 0.037867617  Training Acc: 0.986222029 Testing Acc: 0.990549982\n",
            "Epoch: 182 Training Loss: 0.051740736 Testing Loss: 0.039123047  Training Acc: 0.986122191 Testing Acc: 0.990400016\n",
            "Epoch: 183 Training Loss: 0.049829293 Testing Loss: 0.039028838  Training Acc: 0.984624565 Testing Acc: 0.990716696\n",
            "Epoch: 184 Training Loss: 0.052643899 Testing Loss: 0.042716753  Training Acc: 0.985423326 Testing Acc: 0.989983320\n",
            "Epoch: 185 Training Loss: 0.050239440 Testing Loss: 0.038738880  Training Acc: 0.985323489 Testing Acc: 0.990683317\n",
            "Epoch: 186 Training Loss: 0.057516318 Testing Loss: 0.044246376  Training Acc: 0.983626187 Testing Acc: 0.988883317\n",
            "Epoch: 187 Training Loss: 0.049903523 Testing Loss: 0.036858227  Training Acc: 0.984424889 Testing Acc: 0.990283370\n",
            "Epoch: 188 Training Loss: 0.046315067 Testing Loss: 0.037142541  Training Acc: 0.986321867 Testing Acc: 0.990599990\n",
            "Epoch: 189 Training Loss: 0.049737629 Testing Loss: 0.044617459  Training Acc: 0.985423326 Testing Acc: 0.989750028\n",
            "Epoch: 190 Training Loss: 0.051793370 Testing Loss: 0.041249845  Training Acc: 0.986022353 Testing Acc: 0.990166664\n",
            "Epoch: 191 Training Loss: 0.052895714 Testing Loss: 0.039665822  Training Acc: 0.986222029 Testing Acc: 0.990500033\n",
            "Epoch: 192 Training Loss: 0.047493264 Testing Loss: 0.039556239  Training Acc: 0.986821055 Testing Acc: 0.990333319\n",
            "Epoch: 193 Training Loss: 0.050654624 Testing Loss: 0.037548300  Training Acc: 0.986521542 Testing Acc: 0.990766704\n",
            "Epoch: 194 Training Loss: 0.041097786 Testing Loss: 0.042659257  Training Acc: 0.988817871 Testing Acc: 0.989849985\n",
            "Epoch: 195 Training Loss: 0.042879019 Testing Loss: 0.046510633  Training Acc: 0.987320244 Testing Acc: 0.989516675\n",
            "Epoch: 196 Training Loss: 0.042885080 Testing Loss: 0.040845141  Training Acc: 0.987819493 Testing Acc: 0.990450025\n",
            "Epoch: 197 Training Loss: 0.044884305 Testing Loss: 0.040796783  Training Acc: 0.987719655 Testing Acc: 0.990516663\n",
            "Epoch: 198 Training Loss: 0.045692883 Testing Loss: 0.044590317  Training Acc: 0.986821055 Testing Acc: 0.989533365\n",
            "Epoch: 199 Training Loss: 0.051961500 Testing Loss: 0.040314138  Training Acc: 0.985822678 Testing Acc: 0.990616679\n",
            "Epoch: 200 Training Loss: 0.045413394 Testing Loss: 0.041672073  Training Acc: 0.986721218 Testing Acc: 0.990316689\n",
            "Epoch: 201 Training Loss: 0.046460625 Testing Loss: 0.041783050  Training Acc: 0.986421704 Testing Acc: 0.990800023\n",
            "Epoch: 202 Training Loss: 0.056159649 Testing Loss: 0.044173248  Training Acc: 0.985223651 Testing Acc: 0.989166677\n",
            "Epoch: 203 Training Loss: 0.044850960 Testing Loss: 0.036265593  Training Acc: 0.985922515 Testing Acc: 0.990850031\n",
            "Epoch: 204 Training Loss: 0.040783584 Testing Loss: 0.041475613  Training Acc: 0.988917708 Testing Acc: 0.990400016\n",
            "Epoch: 205 Training Loss: 0.046827402 Testing Loss: 0.041495521  Training Acc: 0.985822678 Testing Acc: 0.990116656\n",
            "Epoch: 206 Training Loss: 0.049219552 Testing Loss: 0.039015576  Training Acc: 0.987420082 Testing Acc: 0.990516663\n",
            "Epoch: 207 Training Loss: 0.045500409 Testing Loss: 0.043409675  Training Acc: 0.987420082 Testing Acc: 0.989849985\n",
            "Epoch: 208 Training Loss: 0.047456302 Testing Loss: 0.038625184  Training Acc: 0.986122191 Testing Acc: 0.990533352\n",
            "Epoch: 209 Training Loss: 0.053281438 Testing Loss: 0.041759036  Training Acc: 0.986421704 Testing Acc: 0.990500033\n",
            "Epoch: 210 Training Loss: 0.054823000 Testing Loss: 0.036792502  Training Acc: 0.985423326 Testing Acc: 0.991116703\n",
            "Epoch: 211 Training Loss: 0.042950403 Testing Loss: 0.040333018  Training Acc: 0.988119006 Testing Acc: 0.991033316\n",
            "Epoch: 212 Training Loss: 0.054831252 Testing Loss: 0.038591027  Training Acc: 0.984724402 Testing Acc: 0.990850031\n",
            "Epoch: 213 Training Loss: 0.052479289 Testing Loss: 0.037669890  Training Acc: 0.985123813 Testing Acc: 0.990833342\n",
            "Epoch: 214 Training Loss: 0.049091008 Testing Loss: 0.039661694  Training Acc: 0.985722840 Testing Acc: 0.989899993\n",
            "Epoch: 215 Training Loss: 0.042141218 Testing Loss: 0.038302246  Training Acc: 0.987420082 Testing Acc: 0.990916669\n",
            "Epoch: 216 Training Loss: 0.045613986 Testing Loss: 0.039470743  Training Acc: 0.987220407 Testing Acc: 0.990649998\n",
            "Epoch: 217 Training Loss: 0.050401624 Testing Loss: 0.035980988  Training Acc: 0.985423326 Testing Acc: 0.991266668\n",
            "Epoch: 218 Training Loss: 0.047550775 Testing Loss: 0.037925478  Training Acc: 0.986621380 Testing Acc: 0.990766704\n",
            "Epoch: 219 Training Loss: 0.043052375 Testing Loss: 0.040340342  Training Acc: 0.988218844 Testing Acc: 0.990383327\n",
            "Epoch: 220 Training Loss: 0.045384277 Testing Loss: 0.041116208  Training Acc: 0.987220407 Testing Acc: 0.990683317\n",
            "Epoch: 221 Training Loss: 0.041106284 Testing Loss: 0.040139083  Training Acc: 0.988917708 Testing Acc: 0.990750015\n",
            "Epoch: 222 Training Loss: 0.045748834 Testing Loss: 0.041639559  Training Acc: 0.986721218 Testing Acc: 0.990266681\n",
            "Epoch: 223 Training Loss: 0.045744348 Testing Loss: 0.040211428  Training Acc: 0.987220407 Testing Acc: 0.990683317\n",
            "Epoch: 224 Training Loss: 0.043256547 Testing Loss: 0.040536847  Training Acc: 0.988318682 Testing Acc: 0.990466654\n",
            "Epoch: 225 Training Loss: 0.045643982 Testing Loss: 0.043855228  Training Acc: 0.986920893 Testing Acc: 0.989583373\n",
            "Epoch: 226 Training Loss: 0.039840564 Testing Loss: 0.042315803  Training Acc: 0.988019168 Testing Acc: 0.990249991\n",
            "Epoch: 227 Training Loss: 0.046384390 Testing Loss: 0.041280307  Training Acc: 0.988218844 Testing Acc: 0.990616679\n",
            "Epoch: 228 Training Loss: 0.044922411 Testing Loss: 0.041471530  Training Acc: 0.986821055 Testing Acc: 0.990466654\n",
            "Epoch: 229 Training Loss: 0.045863841 Testing Loss: 0.044384785  Training Acc: 0.986721218 Testing Acc: 0.990083337\n",
            "Epoch: 230 Training Loss: 0.049062051 Testing Loss: 0.041149896  Training Acc: 0.985323489 Testing Acc: 0.990466654\n",
            "Epoch: 231 Training Loss: 0.041543473 Testing Loss: 0.043223575  Training Acc: 0.988218844 Testing Acc: 0.990500033\n",
            "Epoch: 232 Training Loss: 0.039650608 Testing Loss: 0.042225130  Training Acc: 0.988418519 Testing Acc: 0.990883350\n",
            "Epoch: 233 Training Loss: 0.041177820 Testing Loss: 0.041409038  Training Acc: 0.988718033 Testing Acc: 0.990599990\n",
            "Epoch: 234 Training Loss: 0.046763938 Testing Loss: 0.039617464  Training Acc: 0.986621380 Testing Acc: 0.990649998\n",
            "Epoch: 235 Training Loss: 0.040186886 Testing Loss: 0.039891187  Training Acc: 0.989317060 Testing Acc: 0.990700006\n",
            "Epoch: 236 Training Loss: 0.051002357 Testing Loss: 0.040720135  Training Acc: 0.984824240 Testing Acc: 0.990583360\n",
            "Epoch: 237 Training Loss: 0.044512469 Testing Loss: 0.044293266  Training Acc: 0.987020731 Testing Acc: 0.989816666\n",
            "Epoch: 238 Training Loss: 0.041847281 Testing Loss: 0.042744875  Training Acc: 0.988618195 Testing Acc: 0.989966691\n",
            "Epoch: 239 Training Loss: 0.043394569 Testing Loss: 0.043263339  Training Acc: 0.988418519 Testing Acc: 0.990150034\n",
            "Epoch: 240 Training Loss: 0.048955053 Testing Loss: 0.040886238  Training Acc: 0.985223651 Testing Acc: 0.990383327\n",
            "Epoch: 241 Training Loss: 0.048630107 Testing Loss: 0.038275987  Training Acc: 0.986521542 Testing Acc: 0.990800023\n",
            "Epoch: 242 Training Loss: 0.039989829 Testing Loss: 0.040126052  Training Acc: 0.987919331 Testing Acc: 0.990766704\n",
            "Epoch: 243 Training Loss: 0.035519276 Testing Loss: 0.044921398  Training Acc: 0.989117384 Testing Acc: 0.989733338\n",
            "Epoch: 244 Training Loss: 0.047864992 Testing Loss: 0.042137537  Training Acc: 0.985922515 Testing Acc: 0.990333319\n",
            "Epoch: 245 Training Loss: 0.046591695 Testing Loss: 0.042464491  Training Acc: 0.986421704 Testing Acc: 0.989833355\n",
            "Epoch: 246 Training Loss: 0.038048066 Testing Loss: 0.040112201  Training Acc: 0.989117384 Testing Acc: 0.990800023\n",
            "Epoch: 247 Training Loss: 0.040545132 Testing Loss: 0.045174204  Training Acc: 0.988817871 Testing Acc: 0.989350021\n",
            "Epoch: 248 Training Loss: 0.045854047 Testing Loss: 0.038057178  Training Acc: 0.987719655 Testing Acc: 0.990500033\n",
            "Epoch: 249 Training Loss: 0.041979529 Testing Loss: 0.044434648  Training Acc: 0.988917708 Testing Acc: 0.989750028\n",
            "Epoch: 250 Training Loss: 0.050962798 Testing Loss: 0.042656861  Training Acc: 0.985223651 Testing Acc: 0.990283370\n",
            "Epoch: 251 Training Loss: 0.040014341 Testing Loss: 0.040978286  Training Acc: 0.987919331 Testing Acc: 0.990766704\n",
            "Epoch: 252 Training Loss: 0.045358367 Testing Loss: 0.040546261  Training Acc: 0.988418519 Testing Acc: 0.990500033\n",
            "Epoch: 253 Training Loss: 0.042195719 Testing Loss: 0.042849433  Training Acc: 0.987220407 Testing Acc: 0.990500033\n",
            "Epoch: 254 Training Loss: 0.044469427 Testing Loss: 0.038959771  Training Acc: 0.986821055 Testing Acc: 0.990400016\n",
            "Epoch: 255 Training Loss: 0.049930539 Testing Loss: 0.037749454  Training Acc: 0.986521542 Testing Acc: 0.990816653\n",
            "Epoch: 256 Training Loss: 0.042806644 Testing Loss: 0.039694242  Training Acc: 0.989017546 Testing Acc: 0.990750015\n",
            "Epoch: 257 Training Loss: 0.040950026 Testing Loss: 0.040836427  Training Acc: 0.988418519 Testing Acc: 0.990999997\n",
            "Epoch: 258 Training Loss: 0.037499957 Testing Loss: 0.038947761  Training Acc: 0.988318682 Testing Acc: 0.990800023\n",
            "Epoch: 259 Training Loss: 0.039852675 Testing Loss: 0.041444842  Training Acc: 0.987619817 Testing Acc: 0.990549982\n",
            "Epoch: 260 Training Loss: 0.040666766 Testing Loss: 0.036830951  Training Acc: 0.988518357 Testing Acc: 0.990883350\n",
            "Epoch: 261 Training Loss: 0.043474805 Testing Loss: 0.039494056  Training Acc: 0.988318682 Testing Acc: 0.990666687\n",
            "Epoch: 262 Training Loss: 0.042317189 Testing Loss: 0.040520556  Training Acc: 0.987120569 Testing Acc: 0.990683317\n",
            "Epoch: 263 Training Loss: 0.039385151 Testing Loss: 0.041668855  Training Acc: 0.988518357 Testing Acc: 0.990700006\n",
            "Epoch: 264 Training Loss: 0.045273110 Testing Loss: 0.041217051  Training Acc: 0.988418519 Testing Acc: 0.990516663\n",
            "Epoch: 265 Training Loss: 0.042126354 Testing Loss: 0.047786012  Training Acc: 0.988718033 Testing Acc: 0.989516675\n",
            "Epoch: 266 Training Loss: 0.042646199 Testing Loss: 0.039438449  Training Acc: 0.987619817 Testing Acc: 0.990599990\n",
            "Epoch: 267 Training Loss: 0.039908946 Testing Loss: 0.042593788  Training Acc: 0.988718033 Testing Acc: 0.990583360\n",
            "Epoch: 268 Training Loss: 0.040787827 Testing Loss: 0.045587935  Training Acc: 0.986821055 Testing Acc: 0.989766657\n",
            "Epoch: 269 Training Loss: 0.037822679 Testing Loss: 0.044915736  Training Acc: 0.989017546 Testing Acc: 0.990083337\n",
            "Epoch: 270 Training Loss: 0.041945815 Testing Loss: 0.043530442  Training Acc: 0.987519979 Testing Acc: 0.990249991\n",
            "Epoch: 271 Training Loss: 0.035378948 Testing Loss: 0.047120374  Training Acc: 0.987919331 Testing Acc: 0.989883363\n",
            "Epoch: 272 Training Loss: 0.047194667 Testing Loss: 0.043634258  Training Acc: 0.986920893 Testing Acc: 0.990216672\n",
            "Epoch: 273 Training Loss: 0.041949127 Testing Loss: 0.040518533  Training Acc: 0.986721218 Testing Acc: 0.990850031\n",
            "Epoch: 274 Training Loss: 0.043536741 Testing Loss: 0.042116046  Training Acc: 0.986920893 Testing Acc: 0.990100026\n",
            "Epoch: 275 Training Loss: 0.038557544 Testing Loss: 0.047224518  Training Acc: 0.988518357 Testing Acc: 0.989483356\n",
            "Epoch: 276 Training Loss: 0.041702054 Testing Loss: 0.042318188  Training Acc: 0.989616573 Testing Acc: 0.990166664\n",
            "Epoch: 277 Training Loss: 0.052452005 Testing Loss: 0.042442068  Training Acc: 0.987320244 Testing Acc: 0.990300000\n",
            "Epoch: 278 Training Loss: 0.043789934 Testing Loss: 0.041257087  Training Acc: 0.987719655 Testing Acc: 0.990533352\n",
            "Epoch: 279 Training Loss: 0.044758949 Testing Loss: 0.042551063  Training Acc: 0.987320244 Testing Acc: 0.990350008\n",
            "Epoch: 280 Training Loss: 0.041698895 Testing Loss: 0.040831562  Training Acc: 0.987919331 Testing Acc: 0.990549982\n",
            "Epoch: 281 Training Loss: 0.041908484 Testing Loss: 0.042194240  Training Acc: 0.988318682 Testing Acc: 0.990233362\n",
            "Epoch: 282 Training Loss: 0.044594571 Testing Loss: 0.038330689  Training Acc: 0.986521542 Testing Acc: 0.990999997\n",
            "Epoch: 283 Training Loss: 0.041362438 Testing Loss: 0.037657823  Training Acc: 0.988917708 Testing Acc: 0.990783334\n",
            "Epoch: 284 Training Loss: 0.043996740 Testing Loss: 0.041772634  Training Acc: 0.988618195 Testing Acc: 0.990683317\n",
            "Epoch: 285 Training Loss: 0.041864160 Testing Loss: 0.041551813  Training Acc: 0.989117384 Testing Acc: 0.990833342\n",
            "Epoch: 286 Training Loss: 0.038167521 Testing Loss: 0.039705142  Training Acc: 0.989017546 Testing Acc: 0.991183341\n",
            "Epoch: 287 Training Loss: 0.044967353 Testing Loss: 0.036706924  Training Acc: 0.988218844 Testing Acc: 0.991083324\n",
            "Epoch: 288 Training Loss: 0.046454318 Testing Loss: 0.042650614  Training Acc: 0.987919331 Testing Acc: 0.990533352\n",
            "Epoch: 289 Training Loss: 0.035916567 Testing Loss: 0.042150587  Training Acc: 0.990215659 Testing Acc: 0.990433335\n",
            "Epoch: 290 Training Loss: 0.038633835 Testing Loss: 0.041077469  Training Acc: 0.987919331 Testing Acc: 0.990916669\n",
            "Epoch: 291 Training Loss: 0.038665939 Testing Loss: 0.044408545  Training Acc: 0.990315497 Testing Acc: 0.990416706\n",
            "Epoch: 292 Training Loss: 0.046104569 Testing Loss: 0.044716042  Training Acc: 0.987020731 Testing Acc: 0.990083337\n",
            "Epoch: 293 Training Loss: 0.036826886 Testing Loss: 0.043175265  Training Acc: 0.989416897 Testing Acc: 0.990566671\n",
            "Epoch: 294 Training Loss: 0.043667775 Testing Loss: 0.041388419  Training Acc: 0.987619817 Testing Acc: 0.990683317\n",
            "Epoch: 295 Training Loss: 0.046359506 Testing Loss: 0.039361276  Training Acc: 0.986321867 Testing Acc: 0.990933359\n",
            "Epoch: 296 Training Loss: 0.040934812 Testing Loss: 0.041258521  Training Acc: 0.987619817 Testing Acc: 0.990700006\n",
            "Epoch: 297 Training Loss: 0.041862801 Testing Loss: 0.042975552  Training Acc: 0.988817871 Testing Acc: 0.990483344\n",
            "Epoch: 298 Training Loss: 0.037209213 Testing Loss: 0.047632478  Training Acc: 0.988019168 Testing Acc: 0.989533365\n",
            "Epoch: 299 Training Loss: 0.034647260 Testing Loss: 0.045315854  Training Acc: 0.990115821 Testing Acc: 0.990016699\n",
            "Epoch: 300 Training Loss: 0.031283930 Testing Loss: 0.043502320  Training Acc: 0.990515172 Testing Acc: 0.990433335\n",
            "Epoch: 301 Training Loss: 0.034547776 Testing Loss: 0.044663120  Training Acc: 0.990415335 Testing Acc: 0.990166664\n",
            "Epoch: 302 Training Loss: 0.032616258 Testing Loss: 0.042265024  Training Acc: 0.990315497 Testing Acc: 0.990949988\n",
            "Epoch: 303 Training Loss: 0.053269949 Testing Loss: 0.042419124  Training Acc: 0.986222029 Testing Acc: 0.990716696\n",
            "Epoch: 304 Training Loss: 0.045766350 Testing Loss: 0.042181559  Training Acc: 0.987120569 Testing Acc: 0.990700006\n",
            "Epoch: 305 Training Loss: 0.042459588 Testing Loss: 0.043066505  Training Acc: 0.988019168 Testing Acc: 0.990333319\n",
            "Epoch: 306 Training Loss: 0.038650647 Testing Loss: 0.045786981  Training Acc: 0.988318682 Testing Acc: 0.990133345\n",
            "Epoch: 307 Training Loss: 0.041489422 Testing Loss: 0.042914536  Training Acc: 0.988218844 Testing Acc: 0.990800023\n",
            "Epoch: 308 Training Loss: 0.044598553 Testing Loss: 0.040331520  Training Acc: 0.989416897 Testing Acc: 0.990750015\n",
            "Epoch: 309 Training Loss: 0.038007166 Testing Loss: 0.040143017  Training Acc: 0.989516735 Testing Acc: 0.990450025\n",
            "Epoch: 310 Training Loss: 0.039555799 Testing Loss: 0.038652450  Training Acc: 0.988618195 Testing Acc: 0.990766704\n",
            "Epoch: 311 Training Loss: 0.040286329 Testing Loss: 0.042366542  Training Acc: 0.989816248 Testing Acc: 0.990466654\n",
            "Epoch: 312 Training Loss: 0.038702089 Testing Loss: 0.040073927  Training Acc: 0.989516735 Testing Acc: 0.990433335\n",
            "Epoch: 313 Training Loss: 0.048439935 Testing Loss: 0.040566675  Training Acc: 0.987020731 Testing Acc: 0.990316689\n",
            "Epoch: 314 Training Loss: 0.035053343 Testing Loss: 0.042593140  Training Acc: 0.989816248 Testing Acc: 0.990016699\n",
            "Epoch: 315 Training Loss: 0.038073078 Testing Loss: 0.046318792  Training Acc: 0.989616573 Testing Acc: 0.989966691\n",
            "Epoch: 316 Training Loss: 0.038570683 Testing Loss: 0.044933170  Training Acc: 0.989117384 Testing Acc: 0.990400016\n",
            "Epoch: 317 Training Loss: 0.041191842 Testing Loss: 0.040606808  Training Acc: 0.988718033 Testing Acc: 0.990400016\n",
            "Epoch: 318 Training Loss: 0.043469097 Testing Loss: 0.045068841  Training Acc: 0.987020731 Testing Acc: 0.990199983\n",
            "Epoch: 319 Training Loss: 0.039698455 Testing Loss: 0.040870696  Training Acc: 0.989616573 Testing Acc: 0.990483344\n",
            "Epoch: 320 Training Loss: 0.042842090 Testing Loss: 0.039259680  Training Acc: 0.989117384 Testing Acc: 0.990816653\n",
            "Epoch: 321 Training Loss: 0.047648985 Testing Loss: 0.037231553  Training Acc: 0.987519979 Testing Acc: 0.991299987\n",
            "Epoch: 322 Training Loss: 0.040966842 Testing Loss: 0.042951226  Training Acc: 0.988817871 Testing Acc: 0.990483344\n",
            "Epoch: 323 Training Loss: 0.039713603 Testing Loss: 0.042847794  Training Acc: 0.988817871 Testing Acc: 0.990316689\n",
            "Epoch: 324 Training Loss: 0.035384741 Testing Loss: 0.044606719  Training Acc: 0.989816248 Testing Acc: 0.990266681\n",
            "Epoch: 325 Training Loss: 0.036658026 Testing Loss: 0.039893936  Training Acc: 0.989616573 Testing Acc: 0.991083324\n",
            "Epoch: 326 Training Loss: 0.036816645 Testing Loss: 0.041178964  Training Acc: 0.989317060 Testing Acc: 0.990833342\n",
            "Epoch: 327 Training Loss: 0.037780609 Testing Loss: 0.041401543  Training Acc: 0.991014361 Testing Acc: 0.990983367\n",
            "Epoch: 328 Training Loss: 0.032462683 Testing Loss: 0.042465895  Training Acc: 0.990415335 Testing Acc: 0.991166651\n",
            "Epoch: 329 Training Loss: 0.041029099 Testing Loss: 0.045030393  Training Acc: 0.989017546 Testing Acc: 0.990850031\n",
            "Epoch: 330 Training Loss: 0.035551816 Testing Loss: 0.047189891  Training Acc: 0.989616573 Testing Acc: 0.990400016\n",
            "Epoch: 331 Training Loss: 0.037926666 Testing Loss: 0.043713816  Training Acc: 0.988917708 Testing Acc: 0.990249991\n",
            "Epoch: 332 Training Loss: 0.038228888 Testing Loss: 0.042695411  Training Acc: 0.989416897 Testing Acc: 0.990249991\n",
            "Epoch: 333 Training Loss: 0.046566214 Testing Loss: 0.043884739  Training Acc: 0.988318682 Testing Acc: 0.990516663\n",
            "Epoch: 334 Training Loss: 0.042529695 Testing Loss: 0.040896557  Training Acc: 0.987220407 Testing Acc: 0.990833342\n",
            "Epoch: 335 Training Loss: 0.033662334 Testing Loss: 0.043661661  Training Acc: 0.992312312 Testing Acc: 0.990866661\n",
            "Epoch: 336 Training Loss: 0.036741849 Testing Loss: 0.047998719  Training Acc: 0.988817871 Testing Acc: 0.990050018\n",
            "Epoch: 337 Training Loss: 0.035657085 Testing Loss: 0.041221291  Training Acc: 0.990215659 Testing Acc: 0.990866661\n",
            "Epoch: 338 Training Loss: 0.042958800 Testing Loss: 0.042950902  Training Acc: 0.989916146 Testing Acc: 0.990199983\n",
            "Epoch: 339 Training Loss: 0.044708490 Testing Loss: 0.040441781  Training Acc: 0.987619817 Testing Acc: 0.990716696\n",
            "Epoch: 340 Training Loss: 0.036988340 Testing Loss: 0.043467615  Training Acc: 0.989716411 Testing Acc: 0.990133345\n",
            "Epoch: 341 Training Loss: 0.037781373 Testing Loss: 0.044627938  Training Acc: 0.989716411 Testing Acc: 0.989899993\n",
            "Epoch: 342 Training Loss: 0.035529345 Testing Loss: 0.046452198  Training Acc: 0.988718033 Testing Acc: 0.989616692\n",
            "Epoch: 343 Training Loss: 0.038187858 Testing Loss: 0.045390557  Training Acc: 0.988119006 Testing Acc: 0.990233362\n",
            "Epoch: 344 Training Loss: 0.035356075 Testing Loss: 0.043928225  Training Acc: 0.990115821 Testing Acc: 0.990783334\n",
            "Epoch: 345 Training Loss: 0.046846930 Testing Loss: 0.040821295  Training Acc: 0.987519979 Testing Acc: 0.990766704\n",
            "Epoch: 346 Training Loss: 0.038638640 Testing Loss: 0.040318802  Training Acc: 0.987719655 Testing Acc: 0.990700006\n",
            "Epoch: 347 Training Loss: 0.034369141 Testing Loss: 0.043621391  Training Acc: 0.989117384 Testing Acc: 0.990783334\n",
            "Epoch: 348 Training Loss: 0.039161403 Testing Loss: 0.042085286  Training Acc: 0.989217222 Testing Acc: 0.990616679\n",
            "Epoch: 349 Training Loss: 0.040143084 Testing Loss: 0.048159372  Training Acc: 0.987120569 Testing Acc: 0.989666700\n",
            "Epoch: 350 Training Loss: 0.049742710 Testing Loss: 0.042170081  Training Acc: 0.986521542 Testing Acc: 0.990350008\n",
            "Epoch: 351 Training Loss: 0.031831991 Testing Loss: 0.044032969  Training Acc: 0.990315497 Testing Acc: 0.990366697\n",
            "Epoch: 352 Training Loss: 0.036225595 Testing Loss: 0.045566659  Training Acc: 0.988917708 Testing Acc: 0.990433335\n",
            "Epoch: 353 Training Loss: 0.039514430 Testing Loss: 0.043357264  Training Acc: 0.988917708 Testing Acc: 0.990433335\n",
            "Epoch: 354 Training Loss: 0.037225515 Testing Loss: 0.041096166  Training Acc: 0.988917708 Testing Acc: 0.990516663\n",
            "Epoch: 355 Training Loss: 0.041207854 Testing Loss: 0.041298889  Training Acc: 0.988917708 Testing Acc: 0.990866661\n",
            "Epoch: 356 Training Loss: 0.046068799 Testing Loss: 0.043587413  Training Acc: 0.987519979 Testing Acc: 0.990366697\n",
            "Epoch: 357 Training Loss: 0.036719218 Testing Loss: 0.040209584  Training Acc: 0.988817871 Testing Acc: 0.990883350\n",
            "Epoch: 358 Training Loss: 0.040810637 Testing Loss: 0.042890042  Training Acc: 0.987619817 Testing Acc: 0.990716696\n",
            "Epoch: 359 Training Loss: 0.033245008 Testing Loss: 0.043334480  Training Acc: 0.989816248 Testing Acc: 0.991083324\n",
            "Epoch: 360 Training Loss: 0.031544145 Testing Loss: 0.044905961  Training Acc: 0.991014361 Testing Acc: 0.990616679\n",
            "Epoch: 361 Training Loss: 0.033852126 Testing Loss: 0.041860081  Training Acc: 0.990315497 Testing Acc: 0.990850031\n",
            "Epoch: 362 Training Loss: 0.040911920 Testing Loss: 0.045270383  Training Acc: 0.989916146 Testing Acc: 0.990633368\n",
            "Epoch: 363 Training Loss: 0.039615683 Testing Loss: 0.040769756  Training Acc: 0.988418519 Testing Acc: 0.991316676\n",
            "Epoch: 364 Training Loss: 0.035365544 Testing Loss: 0.039680164  Training Acc: 0.991014361 Testing Acc: 0.991299987\n",
            "Epoch: 365 Training Loss: 0.045131575 Testing Loss: 0.042263918  Training Acc: 0.988418519 Testing Acc: 0.990316689\n",
            "Epoch: 366 Training Loss: 0.042837184 Testing Loss: 0.045939893  Training Acc: 0.987320244 Testing Acc: 0.990383327\n",
            "Epoch: 367 Training Loss: 0.042353883 Testing Loss: 0.039210215  Training Acc: 0.987719655 Testing Acc: 0.990616679\n",
            "Epoch: 368 Training Loss: 0.038177781 Testing Loss: 0.044057138  Training Acc: 0.988817871 Testing Acc: 0.990316689\n",
            "Epoch: 369 Training Loss: 0.034360297 Testing Loss: 0.044824798  Training Acc: 0.989217222 Testing Acc: 0.990366697\n",
            "Epoch: 370 Training Loss: 0.031188808 Testing Loss: 0.046389833  Training Acc: 0.991912901 Testing Acc: 0.990166664\n",
            "Epoch: 371 Training Loss: 0.037297938 Testing Loss: 0.044840381  Training Acc: 0.989816248 Testing Acc: 0.990833342\n",
            "Epoch: 372 Training Loss: 0.040685277 Testing Loss: 0.044796392  Training Acc: 0.988418519 Testing Acc: 0.990883350\n",
            "Epoch: 373 Training Loss: 0.035157572 Testing Loss: 0.045072131  Training Acc: 0.989217222 Testing Acc: 0.990566671\n",
            "Epoch: 374 Training Loss: 0.036474984 Testing Loss: 0.042484324  Training Acc: 0.990115821 Testing Acc: 0.990833342\n",
            "Epoch: 375 Training Loss: 0.040752493 Testing Loss: 0.040955879  Training Acc: 0.989916146 Testing Acc: 0.991050005\n",
            "Epoch: 376 Training Loss: 0.043216866 Testing Loss: 0.044564039  Training Acc: 0.986122191 Testing Acc: 0.990716696\n",
            "Epoch: 377 Training Loss: 0.041638296 Testing Loss: 0.042319406  Training Acc: 0.988318682 Testing Acc: 0.990966678\n",
            "Epoch: 378 Training Loss: 0.038839046 Testing Loss: 0.041313641  Training Acc: 0.988718033 Testing Acc: 0.990716696\n",
            "Epoch: 379 Training Loss: 0.031677384 Testing Loss: 0.043089267  Training Acc: 0.991014361 Testing Acc: 0.990700006\n",
            "Epoch: 380 Training Loss: 0.045809194 Testing Loss: 0.040236089  Training Acc: 0.987420082 Testing Acc: 0.990883350\n",
            "Epoch: 381 Training Loss: 0.042479318 Testing Loss: 0.039156724  Training Acc: 0.988817871 Testing Acc: 0.991233349\n",
            "Epoch: 382 Training Loss: 0.035521176 Testing Loss: 0.044551983  Training Acc: 0.990115821 Testing Acc: 0.990183353\n",
            "Epoch: 383 Training Loss: 0.034839649 Testing Loss: 0.042993285  Training Acc: 0.989816248 Testing Acc: 0.990500033\n",
            "Epoch: 384 Training Loss: 0.038771495 Testing Loss: 0.048960477  Training Acc: 0.989416897 Testing Acc: 0.989816666\n",
            "Epoch: 385 Training Loss: 0.043620903 Testing Loss: 0.042037178  Training Acc: 0.987619817 Testing Acc: 0.990683317\n",
            "Epoch: 386 Training Loss: 0.036291461 Testing Loss: 0.040330350  Training Acc: 0.990115821 Testing Acc: 0.990850031\n",
            "Epoch: 387 Training Loss: 0.038580850 Testing Loss: 0.041833896  Training Acc: 0.987220407 Testing Acc: 0.990549982\n",
            "Epoch: 388 Training Loss: 0.033096924 Testing Loss: 0.041962318  Training Acc: 0.989117384 Testing Acc: 0.990633368\n",
            "Epoch: 389 Training Loss: 0.034871116 Testing Loss: 0.043483160  Training Acc: 0.989716411 Testing Acc: 0.990783334\n",
            "Epoch: 390 Training Loss: 0.033990089 Testing Loss: 0.050173145  Training Acc: 0.990615010 Testing Acc: 0.990000010\n",
            "Epoch: 391 Training Loss: 0.038357180 Testing Loss: 0.042097796  Training Acc: 0.989816248 Testing Acc: 0.990700006\n",
            "Epoch: 392 Training Loss: 0.042204589 Testing Loss: 0.042497545  Training Acc: 0.989117384 Testing Acc: 0.990316689\n",
            "Epoch: 393 Training Loss: 0.038283788 Testing Loss: 0.041974992  Training Acc: 0.989516735 Testing Acc: 0.991016686\n",
            "Epoch: 394 Training Loss: 0.043213900 Testing Loss: 0.041713957  Training Acc: 0.989317060 Testing Acc: 0.990750015\n",
            "Epoch: 395 Training Loss: 0.036581885 Testing Loss: 0.044653915  Training Acc: 0.989317060 Testing Acc: 0.990466654\n",
            "Epoch: 396 Training Loss: 0.037504986 Testing Loss: 0.045835197  Training Acc: 0.990215659 Testing Acc: 0.990116656\n",
            "Epoch: 397 Training Loss: 0.038865123 Testing Loss: 0.042095523  Training Acc: 0.988718033 Testing Acc: 0.991116703\n",
            "Epoch: 398 Training Loss: 0.031265702 Testing Loss: 0.044561300  Training Acc: 0.989516735 Testing Acc: 0.990450025\n",
            "Epoch: 399 Training Loss: 0.033872142 Testing Loss: 0.038603645  Training Acc: 0.989616573 Testing Acc: 0.991066694\n",
            "Epoch: 400 Training Loss: 0.034086384 Testing Loss: 0.043842781  Training Acc: 0.991014361 Testing Acc: 0.990649998\n",
            "Epoch: 401 Training Loss: 0.036697086 Testing Loss: 0.045548655  Training Acc: 0.989616573 Testing Acc: 0.990450025\n",
            "Epoch: 402 Training Loss: 0.043799225 Testing Loss: 0.041939527  Training Acc: 0.987919331 Testing Acc: 0.990683317\n",
            "Epoch: 403 Training Loss: 0.035587408 Testing Loss: 0.037984677  Training Acc: 0.989816248 Testing Acc: 0.991433322\n",
            "Epoch: 404 Training Loss: 0.034212321 Testing Loss: 0.039479069  Training Acc: 0.989816248 Testing Acc: 0.990666687\n",
            "Epoch: 405 Training Loss: 0.035822261 Testing Loss: 0.044037268  Training Acc: 0.990515172 Testing Acc: 0.990216672\n",
            "Epoch: 406 Training Loss: 0.034143899 Testing Loss: 0.045264736  Training Acc: 0.990015984 Testing Acc: 0.989950001\n",
            "Epoch: 407 Training Loss: 0.032535017 Testing Loss: 0.040706743  Training Acc: 0.990914524 Testing Acc: 0.990999997\n",
            "Epoch: 408 Training Loss: 0.036843225 Testing Loss: 0.042084228  Training Acc: 0.988518357 Testing Acc: 0.990599990\n",
            "Epoch: 409 Training Loss: 0.041207369 Testing Loss: 0.045344479  Training Acc: 0.989716411 Testing Acc: 0.989983320\n",
            "Epoch: 410 Training Loss: 0.033410586 Testing Loss: 0.044571586  Training Acc: 0.991413713 Testing Acc: 0.990816653\n",
            "Epoch: 411 Training Loss: 0.039952297 Testing Loss: 0.045167770  Training Acc: 0.988718033 Testing Acc: 0.990199983\n",
            "Epoch: 412 Training Loss: 0.039368659 Testing Loss: 0.043511361  Training Acc: 0.988618195 Testing Acc: 0.990233362\n",
            "Epoch: 413 Training Loss: 0.034708068 Testing Loss: 0.042898506  Training Acc: 0.990714848 Testing Acc: 0.990233362\n",
            "Epoch: 414 Training Loss: 0.034569889 Testing Loss: 0.038168043  Training Acc: 0.989017546 Testing Acc: 0.991133332\n",
            "Epoch: 415 Training Loss: 0.037659019 Testing Loss: 0.041023958  Training Acc: 0.989217222 Testing Acc: 0.991100013\n",
            "Epoch: 416 Training Loss: 0.034874570 Testing Loss: 0.045126088  Training Acc: 0.990615010 Testing Acc: 0.990033329\n",
            "Epoch: 417 Training Loss: 0.031561535 Testing Loss: 0.040973827  Training Acc: 0.990015984 Testing Acc: 0.990866661\n",
            "Epoch: 418 Training Loss: 0.037406441 Testing Loss: 0.041954491  Training Acc: 0.988618195 Testing Acc: 0.990700006\n",
            "Epoch: 419 Training Loss: 0.033461168 Testing Loss: 0.041944589  Training Acc: 0.989616573 Testing Acc: 0.990500033\n",
            "Epoch: 420 Training Loss: 0.036050204 Testing Loss: 0.042714335  Training Acc: 0.988718033 Testing Acc: 0.990983367\n",
            "Epoch: 421 Training Loss: 0.034575839 Testing Loss: 0.043806393  Training Acc: 0.990714848 Testing Acc: 0.990366697\n",
            "Epoch: 422 Training Loss: 0.033494759 Testing Loss: 0.040324297  Training Acc: 0.991114199 Testing Acc: 0.991283357\n",
            "Epoch: 423 Training Loss: 0.029479587 Testing Loss: 0.045888454  Training Acc: 0.990814686 Testing Acc: 0.990433335\n",
            "Epoch: 424 Training Loss: 0.037300449 Testing Loss: 0.043475281  Training Acc: 0.989716411 Testing Acc: 0.990916669\n",
            "Epoch: 425 Training Loss: 0.032938328 Testing Loss: 0.049437188  Training Acc: 0.990515172 Testing Acc: 0.990249991\n",
            "Epoch: 426 Training Loss: 0.035501268 Testing Loss: 0.046221063  Training Acc: 0.990415335 Testing Acc: 0.990633368\n",
            "Epoch: 427 Training Loss: 0.039598733 Testing Loss: 0.041584615  Training Acc: 0.989117384 Testing Acc: 0.990483344\n",
            "Epoch: 428 Training Loss: 0.037656788 Testing Loss: 0.045710135  Training Acc: 0.990015984 Testing Acc: 0.990100026\n",
            "Epoch: 429 Training Loss: 0.032064304 Testing Loss: 0.042908333  Training Acc: 0.990615010 Testing Acc: 0.990999997\n",
            "Epoch: 430 Training Loss: 0.036456201 Testing Loss: 0.042689048  Training Acc: 0.990415335 Testing Acc: 0.990616679\n",
            "Epoch: 431 Training Loss: 0.032350056 Testing Loss: 0.049014363  Training Acc: 0.990814686 Testing Acc: 0.990333319\n",
            "Epoch: 432 Training Loss: 0.040249784 Testing Loss: 0.044286177  Training Acc: 0.987519979 Testing Acc: 0.990150034\n",
            "Epoch: 433 Training Loss: 0.037555519 Testing Loss: 0.045836832  Training Acc: 0.989217222 Testing Acc: 0.990666687\n",
            "Epoch: 434 Training Loss: 0.033275262 Testing Loss: 0.044625770  Training Acc: 0.989516735 Testing Acc: 0.990716696\n",
            "Epoch: 435 Training Loss: 0.031488344 Testing Loss: 0.045300227  Training Acc: 0.991014361 Testing Acc: 0.990533352\n",
            "Epoch: 436 Training Loss: 0.037085984 Testing Loss: 0.044241779  Training Acc: 0.989017546 Testing Acc: 0.989933372\n",
            "Epoch: 437 Training Loss: 0.043260280 Testing Loss: 0.041348405  Training Acc: 0.988019168 Testing Acc: 0.990566671\n",
            "Epoch: 438 Training Loss: 0.034571167 Testing Loss: 0.042675581  Training Acc: 0.990315497 Testing Acc: 0.990516663\n",
            "Epoch: 439 Training Loss: 0.038575981 Testing Loss: 0.042942226  Training Acc: 0.989516735 Testing Acc: 0.990833342\n",
            "Epoch: 440 Training Loss: 0.037271969 Testing Loss: 0.042908054  Training Acc: 0.990015984 Testing Acc: 0.990900040\n",
            "Epoch: 441 Training Loss: 0.032494366 Testing Loss: 0.045399155  Training Acc: 0.992012739 Testing Acc: 0.990316689\n",
            "Epoch: 442 Training Loss: 0.032855842 Testing Loss: 0.045160048  Training Acc: 0.991513550 Testing Acc: 0.990599990\n",
            "Epoch: 443 Training Loss: 0.036153499 Testing Loss: 0.041072574  Training Acc: 0.989816248 Testing Acc: 0.990750015\n",
            "Epoch: 444 Training Loss: 0.032892693 Testing Loss: 0.043860372  Training Acc: 0.989916146 Testing Acc: 0.990616679\n",
            "Epoch: 445 Training Loss: 0.037905660 Testing Loss: 0.046887349  Training Acc: 0.989416897 Testing Acc: 0.989933372\n",
            "Epoch: 446 Training Loss: 0.031554125 Testing Loss: 0.045597237  Training Acc: 0.991214037 Testing Acc: 0.990383327\n",
            "Epoch: 447 Training Loss: 0.033595074 Testing Loss: 0.045306280  Training Acc: 0.990115821 Testing Acc: 0.990900040\n",
            "Epoch: 448 Training Loss: 0.035655595 Testing Loss: 0.044648636  Training Acc: 0.989317060 Testing Acc: 0.990283370\n",
            "Epoch: 449 Training Loss: 0.030804159 Testing Loss: 0.044445731  Training Acc: 0.992112577 Testing Acc: 0.990466654\n",
            "Epoch: 450 Training Loss: 0.032091167 Testing Loss: 0.043036927  Training Acc: 0.990714848 Testing Acc: 0.990683317\n",
            "Epoch: 451 Training Loss: 0.035351556 Testing Loss: 0.047621001  Training Acc: 0.990215659 Testing Acc: 0.989933372\n",
            "Epoch: 452 Training Loss: 0.036226608 Testing Loss: 0.046602570  Training Acc: 0.989117384 Testing Acc: 0.990016699\n",
            "Epoch: 453 Training Loss: 0.033411779 Testing Loss: 0.047616459  Training Acc: 0.990315497 Testing Acc: 0.989866674\n",
            "Epoch: 454 Training Loss: 0.038714424 Testing Loss: 0.043452036  Training Acc: 0.988518357 Testing Acc: 0.990333319\n",
            "Epoch: 455 Training Loss: 0.043900527 Testing Loss: 0.042226411  Training Acc: 0.988019168 Testing Acc: 0.990516663\n",
            "Epoch: 456 Training Loss: 0.033015549 Testing Loss: 0.042208951  Training Acc: 0.991413713 Testing Acc: 0.990816653\n",
            "Epoch: 457 Training Loss: 0.032526903 Testing Loss: 0.048577525  Training Acc: 0.991313875 Testing Acc: 0.990083337\n",
            "Epoch: 458 Training Loss: 0.031225665 Testing Loss: 0.041303977  Training Acc: 0.990515172 Testing Acc: 0.991083324\n",
            "Epoch: 459 Training Loss: 0.028649747 Testing Loss: 0.046832472  Training Acc: 0.991713226 Testing Acc: 0.990916669\n",
            "Epoch: 460 Training Loss: 0.029309092 Testing Loss: 0.044375613  Training Acc: 0.991413713 Testing Acc: 0.991100013\n",
            "Epoch: 461 Training Loss: 0.041891992 Testing Loss: 0.042991392  Training Acc: 0.989017546 Testing Acc: 0.991050005\n",
            "Epoch: 462 Training Loss: 0.036040895 Testing Loss: 0.040277228  Training Acc: 0.989716411 Testing Acc: 0.990916669\n",
            "Epoch: 463 Training Loss: 0.034002557 Testing Loss: 0.042776413  Training Acc: 0.990714848 Testing Acc: 0.990750015\n",
            "Epoch: 464 Training Loss: 0.032710716 Testing Loss: 0.042433441  Training Acc: 0.991613388 Testing Acc: 0.991083324\n",
            "Epoch: 465 Training Loss: 0.027877048 Testing Loss: 0.044518620  Training Acc: 0.992312312 Testing Acc: 0.990783334\n",
            "Epoch: 466 Training Loss: 0.036888797 Testing Loss: 0.039158970  Training Acc: 0.990515172 Testing Acc: 0.991100013\n",
            "Epoch: 467 Training Loss: 0.034176078 Testing Loss: 0.044615030  Training Acc: 0.991313875 Testing Acc: 0.990766704\n",
            "Epoch: 468 Training Loss: 0.032014567 Testing Loss: 0.040438611  Training Acc: 0.990914524 Testing Acc: 0.990800023\n",
            "Epoch: 469 Training Loss: 0.039159827 Testing Loss: 0.042354546  Training Acc: 0.988518357 Testing Acc: 0.990800023\n",
            "Epoch: 470 Training Loss: 0.036021955 Testing Loss: 0.043471660  Training Acc: 0.990415335 Testing Acc: 0.990466654\n",
            "Epoch: 471 Training Loss: 0.036272574 Testing Loss: 0.040926553  Training Acc: 0.989716411 Testing Acc: 0.990766704\n",
            "Epoch: 472 Training Loss: 0.034330357 Testing Loss: 0.042421628  Training Acc: 0.991613388 Testing Acc: 0.991116703\n",
            "Epoch: 473 Training Loss: 0.035157260 Testing Loss: 0.044813722  Training Acc: 0.989916146 Testing Acc: 0.990583360\n",
            "Epoch: 474 Training Loss: 0.035824962 Testing Loss: 0.042208575  Training Acc: 0.990515172 Testing Acc: 0.990750015\n",
            "Epoch: 475 Training Loss: 0.031893976 Testing Loss: 0.045061026  Training Acc: 0.991613388 Testing Acc: 0.990383327\n",
            "Epoch: 476 Training Loss: 0.030079842 Testing Loss: 0.043402348  Training Acc: 0.991413713 Testing Acc: 0.991250038\n",
            "Epoch: 477 Training Loss: 0.033471301 Testing Loss: 0.046049900  Training Acc: 0.990315497 Testing Acc: 0.990383327\n",
            "Epoch: 478 Training Loss: 0.043168552 Testing Loss: 0.044493746  Training Acc: 0.986821055 Testing Acc: 0.990383327\n",
            "Epoch: 479 Training Loss: 0.034984794 Testing Loss: 0.043230172  Training Acc: 0.989416897 Testing Acc: 0.991050005\n",
            "Epoch: 480 Training Loss: 0.032350872 Testing Loss: 0.044855393  Training Acc: 0.990215659 Testing Acc: 0.990733325\n",
            "Epoch: 481 Training Loss: 0.034311853 Testing Loss: 0.044371925  Training Acc: 0.989816248 Testing Acc: 0.990716696\n",
            "Epoch: 482 Training Loss: 0.033943050 Testing Loss: 0.038165212  Training Acc: 0.989716411 Testing Acc: 0.991416693\n",
            "Epoch: 483 Training Loss: 0.037660163 Testing Loss: 0.043853857  Training Acc: 0.988718033 Testing Acc: 0.990850031\n",
            "Epoch: 484 Training Loss: 0.032497428 Testing Loss: 0.047469400  Training Acc: 0.989916146 Testing Acc: 0.990199983\n",
            "Epoch: 485 Training Loss: 0.040692884 Testing Loss: 0.041806269  Training Acc: 0.990015984 Testing Acc: 0.991016686\n",
            "Epoch: 486 Training Loss: 0.038553048 Testing Loss: 0.042404067  Training Acc: 0.988618195 Testing Acc: 0.990766704\n",
            "Epoch: 487 Training Loss: 0.033451296 Testing Loss: 0.043298870  Training Acc: 0.990814686 Testing Acc: 0.990566671\n",
            "Epoch: 488 Training Loss: 0.038775112 Testing Loss: 0.042818800  Training Acc: 0.989616573 Testing Acc: 0.990733325\n",
            "Epoch: 489 Training Loss: 0.033582892 Testing Loss: 0.042300012  Training Acc: 0.990515172 Testing Acc: 0.990900040\n",
            "Epoch: 490 Training Loss: 0.039209995 Testing Loss: 0.046286855  Training Acc: 0.988218844 Testing Acc: 0.990133345\n",
            "Epoch: 491 Training Loss: 0.035250921 Testing Loss: 0.044172738  Training Acc: 0.990515172 Testing Acc: 0.990233362\n",
            "Epoch: 492 Training Loss: 0.036864288 Testing Loss: 0.043856315  Training Acc: 0.989516735 Testing Acc: 0.990416706\n",
            "Epoch: 493 Training Loss: 0.037170310 Testing Loss: 0.042553809  Training Acc: 0.990814686 Testing Acc: 0.990683317\n",
            "Epoch: 494 Training Loss: 0.038544830 Testing Loss: 0.040635899  Training Acc: 0.989616573 Testing Acc: 0.990983367\n",
            "Epoch: 495 Training Loss: 0.031017980 Testing Loss: 0.045895673  Training Acc: 0.991114199 Testing Acc: 0.990716696\n",
            "Epoch: 496 Training Loss: 0.028639881 Testing Loss: 0.044313356  Training Acc: 0.992212415 Testing Acc: 0.990733325\n",
            "Epoch: 497 Training Loss: 0.037101939 Testing Loss: 0.048399054  Training Acc: 0.989616573 Testing Acc: 0.989983320\n",
            "Epoch: 498 Training Loss: 0.035799239 Testing Loss: 0.043261237  Training Acc: 0.989716411 Testing Acc: 0.990733325\n",
            "Epoch: 499 Training Loss: 0.032664604 Testing Loss: 0.046704970  Training Acc: 0.991313875 Testing Acc: 0.990666687\n",
            "Epoch: 500 Training Loss: 0.040143806 Testing Loss: 0.040832825  Training Acc: 0.989516735 Testing Acc: 0.991100013\n",
            "Epoch: 501 Training Loss: 0.036331169 Testing Loss: 0.044327084  Training Acc: 0.990215659 Testing Acc: 0.990649998\n",
            "Epoch: 502 Training Loss: 0.030174797 Testing Loss: 0.042763494  Training Acc: 0.990814686 Testing Acc: 0.990883350\n",
            "Epoch: 503 Training Loss: 0.037343264 Testing Loss: 0.044070739  Training Acc: 0.989916146 Testing Acc: 0.990616679\n",
            "Epoch: 504 Training Loss: 0.034120165 Testing Loss: 0.045215067  Training Acc: 0.989916146 Testing Acc: 0.990599990\n",
            "Epoch: 505 Training Loss: 0.032955125 Testing Loss: 0.046296716  Training Acc: 0.990814686 Testing Acc: 0.990466654\n",
            "Epoch: 506 Training Loss: 0.040436529 Testing Loss: 0.047192808  Training Acc: 0.989916146 Testing Acc: 0.990666687\n",
            "Epoch: 507 Training Loss: 0.041440621 Testing Loss: 0.044524841  Training Acc: 0.988218844 Testing Acc: 0.990933359\n",
            "Epoch: 508 Training Loss: 0.032205258 Testing Loss: 0.043080520  Training Acc: 0.991413713 Testing Acc: 0.990900040\n",
            "Epoch: 509 Training Loss: 0.033975087 Testing Loss: 0.044470489  Training Acc: 0.989816248 Testing Acc: 0.990800023\n",
            "Epoch: 510 Training Loss: 0.031475522 Testing Loss: 0.043104343  Training Acc: 0.990615010 Testing Acc: 0.990383327\n",
            "Epoch: 511 Training Loss: 0.031841967 Testing Loss: 0.044814605  Training Acc: 0.990215659 Testing Acc: 0.990150034\n",
            "Epoch: 512 Training Loss: 0.035389654 Testing Loss: 0.044048946  Training Acc: 0.990215659 Testing Acc: 0.990116656\n",
            "Epoch: 513 Training Loss: 0.032558080 Testing Loss: 0.043882854  Training Acc: 0.991513550 Testing Acc: 0.991033316\n",
            "Epoch: 514 Training Loss: 0.032578662 Testing Loss: 0.044857483  Training Acc: 0.990415335 Testing Acc: 0.990833342\n",
            "Epoch: 515 Training Loss: 0.035753593 Testing Loss: 0.041268334  Training Acc: 0.990015984 Testing Acc: 0.990999997\n",
            "Epoch: 516 Training Loss: 0.036991477 Testing Loss: 0.039059661  Training Acc: 0.990115821 Testing Acc: 0.991583347\n",
            "Epoch: 517 Training Loss: 0.032812785 Testing Loss: 0.045041461  Training Acc: 0.991014361 Testing Acc: 0.990933359\n",
            "Epoch: 518 Training Loss: 0.041382667 Testing Loss: 0.042922702  Training Acc: 0.990315497 Testing Acc: 0.990800023\n",
            "Epoch: 519 Training Loss: 0.035087664 Testing Loss: 0.044553604  Training Acc: 0.989916146 Testing Acc: 0.990866661\n",
            "Epoch: 520 Training Loss: 0.030101068 Testing Loss: 0.049045838  Training Acc: 0.990315497 Testing Acc: 0.990599990\n",
            "Epoch: 521 Training Loss: 0.037307445 Testing Loss: 0.041453525  Training Acc: 0.989317060 Testing Acc: 0.991050005\n",
            "Epoch: 522 Training Loss: 0.035700802 Testing Loss: 0.041640576  Training Acc: 0.990714848 Testing Acc: 0.990733325\n",
            "Epoch: 523 Training Loss: 0.038532119 Testing Loss: 0.037917249  Training Acc: 0.989117384 Testing Acc: 0.991333365\n",
            "Epoch: 524 Training Loss: 0.032709368 Testing Loss: 0.046883829  Training Acc: 0.992012739 Testing Acc: 0.990583360\n",
            "Epoch: 525 Training Loss: 0.031848062 Testing Loss: 0.043906715  Training Acc: 0.991313875 Testing Acc: 0.990483344\n",
            "Epoch: 526 Training Loss: 0.029421946 Testing Loss: 0.043057185  Training Acc: 0.991313875 Testing Acc: 0.991116703\n",
            "Epoch: 527 Training Loss: 0.039178152 Testing Loss: 0.042061538  Training Acc: 0.989516735 Testing Acc: 0.990783334\n",
            "Epoch: 528 Training Loss: 0.034430843 Testing Loss: 0.045073960  Training Acc: 0.990315497 Testing Acc: 0.990850031\n",
            "Epoch: 529 Training Loss: 0.029926799 Testing Loss: 0.044374589  Training Acc: 0.991313875 Testing Acc: 0.990783334\n",
            "Epoch: 530 Training Loss: 0.032767814 Testing Loss: 0.046643186  Training Acc: 0.990415335 Testing Acc: 0.990716696\n",
            "Epoch: 531 Training Loss: 0.039282564 Testing Loss: 0.040671460  Training Acc: 0.989017546 Testing Acc: 0.991200030\n",
            "Epoch: 532 Training Loss: 0.031414654 Testing Loss: 0.046200417  Training Acc: 0.989816248 Testing Acc: 0.990533352\n",
            "Epoch: 533 Training Loss: 0.039538532 Testing Loss: 0.041741941  Training Acc: 0.989716411 Testing Acc: 0.990933359\n",
            "Epoch: 534 Training Loss: 0.035096634 Testing Loss: 0.047361840  Training Acc: 0.990515172 Testing Acc: 0.990599990\n",
            "Epoch: 535 Training Loss: 0.029186653 Testing Loss: 0.043621607  Training Acc: 0.991912901 Testing Acc: 0.990966678\n",
            "Epoch: 536 Training Loss: 0.041647371 Testing Loss: 0.040018056  Training Acc: 0.989017546 Testing Acc: 0.991133332\n",
            "Epoch: 537 Training Loss: 0.037088159 Testing Loss: 0.050541475  Training Acc: 0.990814686 Testing Acc: 0.990033329\n",
            "Epoch: 538 Training Loss: 0.034140065 Testing Loss: 0.048134148  Training Acc: 0.990914524 Testing Acc: 0.990616679\n",
            "Epoch: 539 Training Loss: 0.032133676 Testing Loss: 0.043116748  Training Acc: 0.991713226 Testing Acc: 0.990933359\n",
            "Epoch: 540 Training Loss: 0.031016767 Testing Loss: 0.040527940  Training Acc: 0.990714848 Testing Acc: 0.991016686\n",
            "Epoch: 541 Training Loss: 0.032408163 Testing Loss: 0.048222087  Training Acc: 0.991313875 Testing Acc: 0.990166664\n",
            "Epoch: 542 Training Loss: 0.031793933 Testing Loss: 0.044999186  Training Acc: 0.991114199 Testing Acc: 0.990750015\n",
            "Epoch: 543 Training Loss: 0.039173454 Testing Loss: 0.043477640  Training Acc: 0.989217222 Testing Acc: 0.990733325\n",
            "Epoch: 544 Training Loss: 0.029269023 Testing Loss: 0.046900187  Training Acc: 0.991713226 Testing Acc: 0.990516663\n",
            "Epoch: 545 Training Loss: 0.029881904 Testing Loss: 0.044250783  Training Acc: 0.991713226 Testing Acc: 0.990783334\n",
            "Epoch: 546 Training Loss: 0.033381935 Testing Loss: 0.044898223  Training Acc: 0.991413713 Testing Acc: 0.990616679\n",
            "Epoch: 547 Training Loss: 0.025690833 Testing Loss: 0.047046777  Training Acc: 0.992412150 Testing Acc: 0.990866661\n",
            "Epoch: 548 Training Loss: 0.030296240 Testing Loss: 0.051264238  Training Acc: 0.992412150 Testing Acc: 0.990133345\n",
            "Epoch: 549 Training Loss: 0.031338289 Testing Loss: 0.045187443  Training Acc: 0.990315497 Testing Acc: 0.990916669\n",
            "Epoch: 550 Training Loss: 0.034990091 Testing Loss: 0.044073425  Training Acc: 0.989916146 Testing Acc: 0.991116703\n",
            "Epoch: 551 Training Loss: 0.035610057 Testing Loss: 0.046489198  Training Acc: 0.989317060 Testing Acc: 0.990333319\n",
            "Epoch: 552 Training Loss: 0.031114839 Testing Loss: 0.045497864  Training Acc: 0.991214037 Testing Acc: 0.990633368\n",
            "Epoch: 553 Training Loss: 0.029737789 Testing Loss: 0.046070244  Training Acc: 0.991413713 Testing Acc: 0.990900040\n",
            "Epoch: 554 Training Loss: 0.027309822 Testing Loss: 0.052080255  Training Acc: 0.992212415 Testing Acc: 0.990133345\n",
            "Epoch: 555 Training Loss: 0.033721175 Testing Loss: 0.049429029  Training Acc: 0.991214037 Testing Acc: 0.989950001\n",
            "Epoch: 556 Training Loss: 0.031692132 Testing Loss: 0.047716402  Training Acc: 0.991014361 Testing Acc: 0.990150034\n",
            "Epoch: 557 Training Loss: 0.034044024 Testing Loss: 0.047009401  Training Acc: 0.991313875 Testing Acc: 0.990649998\n",
            "Epoch: 558 Training Loss: 0.027453901 Testing Loss: 0.047307286  Training Acc: 0.992312312 Testing Acc: 0.990900040\n",
            "Epoch: 559 Training Loss: 0.033853199 Testing Loss: 0.045140672  Training Acc: 0.991214037 Testing Acc: 0.990833342\n",
            "Epoch: 560 Training Loss: 0.033387363 Testing Loss: 0.042474933  Training Acc: 0.990215659 Testing Acc: 0.990983367\n",
            "Epoch: 561 Training Loss: 0.036351472 Testing Loss: 0.042930756  Training Acc: 0.990415335 Testing Acc: 0.990549982\n",
            "Epoch: 562 Training Loss: 0.035517629 Testing Loss: 0.046626188  Training Acc: 0.990315497 Testing Acc: 0.990383327\n",
            "Epoch: 563 Training Loss: 0.036649566 Testing Loss: 0.049115870  Training Acc: 0.989217222 Testing Acc: 0.990166664\n",
            "Epoch: 564 Training Loss: 0.030947322 Testing Loss: 0.049979061  Training Acc: 0.990415335 Testing Acc: 0.990216672\n",
            "Epoch: 565 Training Loss: 0.032244146 Testing Loss: 0.048198998  Training Acc: 0.991014361 Testing Acc: 0.990033329\n",
            "Epoch: 566 Training Loss: 0.030025976 Testing Loss: 0.047846943  Training Acc: 0.991014361 Testing Acc: 0.990466654\n",
            "Epoch: 567 Training Loss: 0.035531793 Testing Loss: 0.043144647  Training Acc: 0.989416897 Testing Acc: 0.991033316\n",
            "Epoch: 568 Training Loss: 0.034633029 Testing Loss: 0.044242408  Training Acc: 0.989816248 Testing Acc: 0.990583360\n",
            "Epoch: 569 Training Loss: 0.031889956 Testing Loss: 0.043827064  Training Acc: 0.990515172 Testing Acc: 0.991166651\n",
            "Epoch: 570 Training Loss: 0.036629010 Testing Loss: 0.045318142  Training Acc: 0.990814686 Testing Acc: 0.990283370\n",
            "Epoch: 571 Training Loss: 0.029625688 Testing Loss: 0.046234149  Training Acc: 0.992312312 Testing Acc: 0.990966678\n",
            "Epoch: 572 Training Loss: 0.037135080 Testing Loss: 0.044120375  Training Acc: 0.989217222 Testing Acc: 0.990833342\n",
            "Epoch: 573 Training Loss: 0.033623409 Testing Loss: 0.049851850  Training Acc: 0.989616573 Testing Acc: 0.990166664\n",
            "Epoch: 574 Training Loss: 0.036380086 Testing Loss: 0.041419335  Training Acc: 0.990515172 Testing Acc: 0.991083324\n",
            "Epoch: 575 Training Loss: 0.031080406 Testing Loss: 0.044106986  Training Acc: 0.991613388 Testing Acc: 0.990783334\n",
            "Epoch: 576 Training Loss: 0.031636782 Testing Loss: 0.042980399  Training Acc: 0.991214037 Testing Acc: 0.990766704\n",
            "Epoch: 577 Training Loss: 0.036597539 Testing Loss: 0.039386708  Training Acc: 0.990215659 Testing Acc: 0.991116703\n",
            "Epoch: 578 Training Loss: 0.027750475 Testing Loss: 0.044593267  Training Acc: 0.993310690 Testing Acc: 0.990549982\n",
            "Epoch: 579 Training Loss: 0.030107848 Testing Loss: 0.045093194  Training Acc: 0.991014361 Testing Acc: 0.990816653\n",
            "Epoch: 580 Training Loss: 0.030341532 Testing Loss: 0.045379709  Training Acc: 0.991313875 Testing Acc: 0.990883350\n",
            "Epoch: 581 Training Loss: 0.028170587 Testing Loss: 0.044938814  Training Acc: 0.992511988 Testing Acc: 0.990483344\n",
            "Epoch: 582 Training Loss: 0.034189615 Testing Loss: 0.043679155  Training Acc: 0.989217222 Testing Acc: 0.990966678\n",
            "Epoch: 583 Training Loss: 0.032519929 Testing Loss: 0.048689567  Training Acc: 0.990215659 Testing Acc: 0.990166664\n",
            "Epoch: 584 Training Loss: 0.030150093 Testing Loss: 0.047876328  Training Acc: 0.991214037 Testing Acc: 0.990716696\n",
            "Epoch: 585 Training Loss: 0.030965360 Testing Loss: 0.047376089  Training Acc: 0.991014361 Testing Acc: 0.990700006\n",
            "Epoch: 586 Training Loss: 0.031994071 Testing Loss: 0.048509844  Training Acc: 0.991513550 Testing Acc: 0.990549982\n",
            "Epoch: 587 Training Loss: 0.035792448 Testing Loss: 0.047686119  Training Acc: 0.989716411 Testing Acc: 0.990666687\n",
            "Epoch: 588 Training Loss: 0.038789771 Testing Loss: 0.047703229  Training Acc: 0.989416897 Testing Acc: 0.990549982\n",
            "Epoch: 589 Training Loss: 0.037358589 Testing Loss: 0.044188514  Training Acc: 0.989916146 Testing Acc: 0.990966678\n",
            "Epoch: 590 Training Loss: 0.038744040 Testing Loss: 0.040463082  Training Acc: 0.989117384 Testing Acc: 0.991200030\n",
            "Epoch: 591 Training Loss: 0.034880836 Testing Loss: 0.040626362  Training Acc: 0.992012739 Testing Acc: 0.991083324\n",
            "Epoch: 592 Training Loss: 0.024053300 Testing Loss: 0.046831023  Training Acc: 0.993011177 Testing Acc: 0.990633368\n",
            "Epoch: 593 Training Loss: 0.032408450 Testing Loss: 0.049130466  Training Acc: 0.991114199 Testing Acc: 0.990333319\n",
            "Epoch: 594 Training Loss: 0.031794328 Testing Loss: 0.047122903  Training Acc: 0.990415335 Testing Acc: 0.990416706\n",
            "Epoch: 595 Training Loss: 0.031227071 Testing Loss: 0.046366941  Training Acc: 0.991713226 Testing Acc: 0.990750015\n",
            "Epoch: 596 Training Loss: 0.027315367 Testing Loss: 0.046540376  Training Acc: 0.991813064 Testing Acc: 0.990916669\n",
            "Epoch: 597 Training Loss: 0.029566934 Testing Loss: 0.047145050  Training Acc: 0.991813064 Testing Acc: 0.990266681\n",
            "Epoch: 598 Training Loss: 0.031185735 Testing Loss: 0.044926770  Training Acc: 0.990914524 Testing Acc: 0.990900040\n",
            "Epoch: 599 Training Loss: 0.031445593 Testing Loss: 0.047209810  Training Acc: 0.990415335 Testing Acc: 0.990383327\n",
            "Epoch: 600 Training Loss: 0.031370699 Testing Loss: 0.041710760  Training Acc: 0.991513550 Testing Acc: 0.991416693\n"
          ],
          "name": "stdout"
        }
      ]
    },
    {
      "cell_type": "code",
      "metadata": {
        "id": "vzn6YyGw9ULY",
        "colab": {
          "base_uri": "https://localhost:8080/",
          "height": 592
        },
        "outputId": "55c5ddb2-9709-4b80-ab5c-9769800f13e1"
      },
      "source": [
        "plt.figure(figsize = (10,10))\n",
        "plt.plot(L_train, linewidth = 2, c='b', label = \"train\")\n",
        "plt.plot(L_test, linewidth = 2, c='r', label = \"test\")\n",
        "plt.legend()\n",
        "plt.show()"
      ],
      "execution_count": 27,
      "outputs": [
        {
          "output_type": "display_data",
          "data": {
            "image/png": "[encoded data removed]",
            "text/plain": [
              "<Figure size 720x720 with 1 Axes>"
            ]
          },
          "metadata": {
            "tags": [],
            "needs_background": "light"
          }
        }
      ]
    },
    {
      "cell_type": "code",
      "metadata": {
        "id": "Rl1MuQhtqsg2",
        "colab": {
          "base_uri": "https://localhost:8080/",
          "height": 592
        },
        "outputId": "c2aa58f6-c231-485f-e1a3-845ee3981ab9"
      },
      "source": [
        "plt.figure(figsize = (10,10))\n",
        "plt.plot(A_train, linewidth = 2, c='b', label = \"train\")\n",
        "plt.plot(A_test, linewidth = 2, c='r', label = \"test\")\n",
        "plt.legend()\n",
        "plt.show()"
      ],
      "execution_count": 28,
      "outputs": [
        {
          "output_type": "display_data",
          "data": {
            "image/png": "[encoded data removed]",
            "text/plain": [
              "<Figure size 720x720 with 1 Axes>"
            ]
          },
          "metadata": {
            "tags": [],
            "needs_background": "light"
          }
        }
      ]
    },
    {
      "cell_type": "code",
      "metadata": {
        "id": "4990rRublMpD",
        "colab": {
          "base_uri": "https://localhost:8080/"
        },
        "outputId": "424521e1-c3e2-4cc9-93f6-1a14d68236af"
      },
      "source": [
        "print(\"training loss    %.2f\" %(L_train[-1]))\n",
        "print(\"testing loss     %.2f\" %(L_test[-1]))\n",
        "print(\"training acc    %.2f\" %(A_train[-1]))\n",
        "print(\"testing acc     %.2f\" %(A_test[-1]))"
      ],
      "execution_count": 29,
      "outputs": [
        {
          "output_type": "stream",
          "text": [
            "training loss    0.03\n",
            "testing loss     0.04\n",
            "training acc    0.99\n",
            "testing acc     0.99\n"
          ],
          "name": "stdout"
        }
      ]
    },
    {
      "cell_type": "markdown",
      "metadata": {
        "id": "z4L9RrzOz5xl"
      },
      "source": [
        "# 5. Output\n",
        "<hr>"
      ]
    },
    {
      "cell_type": "markdown",
      "metadata": {
        "id": "alN6-n0r0DTO"
      },
      "source": [
        "## 1. Plot the training and testing losses over epochs"
      ]
    },
    {
      "cell_type": "code",
      "metadata": {
        "id": "d8WFmmL4Shvy",
        "colab": {
          "base_uri": "https://localhost:8080/",
          "height": 592
        },
        "outputId": "a836d9bc-7d14-48ab-ba39-01c146092794"
      },
      "source": [
        "plt.figure(figsize = (10,10))\n",
        "plt.plot(L_train, linewidth = 2, c='b', label = \"train\")\n",
        "plt.plot(L_test, linewidth = 2, c='r', label = \"test\")\n",
        "plt.legend()\n",
        "plt.show()"
      ],
      "execution_count": 30,
      "outputs": [
        {
          "output_type": "display_data",
          "data": {
            "image/png": "[encoded data removed]",
            "text/plain": [
              "<Figure size 720x720 with 1 Axes>"
            ]
          },
          "metadata": {
            "tags": [],
            "needs_background": "light"
          }
        }
      ]
    },
    {
      "cell_type": "markdown",
      "metadata": {
        "id": "4t1dSyC1AVe0"
      },
      "source": [
        "## 2. Plot the training and testing accuracies over epochs"
      ]
    },
    {
      "cell_type": "code",
      "metadata": {
        "id": "xUlVVIpISjl6",
        "colab": {
          "base_uri": "https://localhost:8080/",
          "height": 592
        },
        "outputId": "c99c2535-0672-410b-e6fe-44820559fc2c"
      },
      "source": [
        "plt.figure(figsize = (10,10))\n",
        "plt.plot(A_train, linewidth = 2, c='b', label = \"train\")\n",
        "plt.plot(A_test, linewidth = 2, c='r', label = \"test\")\n",
        "plt.legend()\n",
        "plt.show()"
      ],
      "execution_count": 31,
      "outputs": [
        {
          "output_type": "display_data",
          "data": {
            "image/png": "[encoded data removed]",
            "text/plain": [
              "<Figure size 720x720 with 1 Axes>"
            ]
          },
          "metadata": {
            "tags": [],
            "needs_background": "light"
          }
        }
      ]
    },
    {
      "cell_type": "markdown",
      "metadata": {
        "id": "px7XRkcnAnc7"
      },
      "source": [
        "## 3.  Print the final training and testing losses at convergence "
      ]
    },
    {
      "cell_type": "code",
      "metadata": {
        "id": "RrvuQ_SCSlJ_",
        "colab": {
          "base_uri": "https://localhost:8080/"
        },
        "outputId": "b2dd607e-4de5-4bf3-dbae-a5718ab91ef3"
      },
      "source": [
        "print(\"loss\")\n",
        "print(\"train    %.2f\" %(L_train[-1]))\n",
        "print(\"test     %.2f\" %(L_test[-1]))"
      ],
      "execution_count": 32,
      "outputs": [
        {
          "output_type": "stream",
          "text": [
            "loss\n",
            "train    0.03\n",
            "test     0.04\n"
          ],
          "name": "stdout"
        }
      ]
    },
    {
      "cell_type": "markdown",
      "metadata": {
        "id": "gW87VTpwAtMB"
      },
      "source": [
        "## 4. Print the final training and testing accuracies at convergence"
      ]
    },
    {
      "cell_type": "code",
      "metadata": {
        "id": "mpgCDaBpCWT_",
        "colab": {
          "base_uri": "https://localhost:8080/"
        },
        "outputId": "73bf2def-ab6f-46cd-dcfe-075e15261d1f"
      },
      "source": [
        "print(\"Accuracy\")\n",
        "print(\"train    %.5f, %.2f\" %(A_train[-1], A_train[-1]))\n",
        "print(\"test     %.5f, %.2f\" %(A_test[-1], A_test[-1]))"
      ],
      "execution_count": 33,
      "outputs": [
        {
          "output_type": "stream",
          "text": [
            "Accuracy\n",
            "train    0.99151, 0.99\n",
            "test     0.99142, 0.99\n"
          ],
          "name": "stdout"
        }
      ]
    },
    {
      "cell_type": "markdown",
      "metadata": {
        "id": "fzDvqXa7hEem"
      },
      "source": [
        "## 5. Print the testing accuracies within the last 10 epochs"
      ]
    },
    {
      "cell_type": "code",
      "metadata": {
        "id": "vu8Vw6cwassu",
        "colab": {
          "base_uri": "https://localhost:8080/"
        },
        "outputId": "c5ac9165-f595-4707-a42b-dd8628a6a53c"
      },
      "source": [
        "for i in range(-10, 0):\n",
        "  print(f\"Epoch = {len(A_test) + i + 1} Acc: %.5f\" %(A_test[i]))\n"
      ],
      "execution_count": 34,
      "outputs": [
        {
          "output_type": "stream",
          "text": [
            "Epoch = 591 Acc: 0.99108\n",
            "Epoch = 592 Acc: 0.99063\n",
            "Epoch = 593 Acc: 0.99033\n",
            "Epoch = 594 Acc: 0.99042\n",
            "Epoch = 595 Acc: 0.99075\n",
            "Epoch = 596 Acc: 0.99092\n",
            "Epoch = 597 Acc: 0.99027\n",
            "Epoch = 598 Acc: 0.99090\n",
            "Epoch = 599 Acc: 0.99038\n",
            "Epoch = 600 Acc: 0.99142\n"
          ],
          "name": "stdout"
        }
      ]
    },
    {
      "cell_type": "code",
      "metadata": {
        "id": "hTsLh1xUhUXY"
      },
      "source": [
        ""
      ],
      "execution_count": null,
      "outputs": []
    }
  ]
}