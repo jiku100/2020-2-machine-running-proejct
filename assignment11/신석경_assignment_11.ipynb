{
  "nbformat": 4,
  "nbformat_minor": 0,
  "metadata": {
    "accelerator": "GPU",
    "colab": {
      "name": "신석경_assignment_11",
      "provenance": [],
      "collapsed_sections": [],
      "authorship_tag": "ABX9TyOswEdcrLhGxv+hohvfveal",
      "include_colab_link": true
    },
    "kernelspec": {
      "display_name": "Python 3",
      "name": "python3"
    },
    "widgets": {
      "application/vnd.jupyter.widget-state+json": {
        "30187b16ea98469bb98ac85672286bad": {
          "model_module": "@jupyter-widgets/controls",
          "model_name": "HBoxModel",
          "state": {
            "_view_name": "HBoxView",
            "_dom_classes": [],
            "_model_name": "HBoxModel",
            "_view_module": "@jupyter-widgets/controls",
            "_model_module_version": "1.5.0",
            "_view_count": null,
            "_view_module_version": "1.5.0",
            "box_style": "",
            "layout": "IPY_MODEL_172d76109b19479abc9497897583497b",
            "_model_module": "@jupyter-widgets/controls",
            "children": [
              "IPY_MODEL_7879688c3e504bc783b73068ec69b8cb",
              "IPY_MODEL_5f2646fb118b4cdf9b91fc8a7c191acd"
            ]
          }
        },
        "172d76109b19479abc9497897583497b": {
          "model_module": "@jupyter-widgets/base",
          "model_name": "LayoutModel",
          "state": {
            "_view_name": "LayoutView",
            "grid_template_rows": null,
            "right": null,
            "justify_content": null,
            "_view_module": "@jupyter-widgets/base",
            "overflow": null,
            "_model_module_version": "1.2.0",
            "_view_count": null,
            "flex_flow": null,
            "width": null,
            "min_width": null,
            "border": null,
            "align_items": null,
            "bottom": null,
            "_model_module": "@jupyter-widgets/base",
            "top": null,
            "grid_column": null,
            "overflow_y": null,
            "overflow_x": null,
            "grid_auto_flow": null,
            "grid_area": null,
            "grid_template_columns": null,
            "flex": null,
            "_model_name": "LayoutModel",
            "justify_items": null,
            "grid_row": null,
            "max_height": null,
            "align_content": null,
            "visibility": null,
            "align_self": null,
            "height": null,
            "min_height": null,
            "padding": null,
            "grid_auto_rows": null,
            "grid_gap": null,
            "max_width": null,
            "order": null,
            "_view_module_version": "1.2.0",
            "grid_template_areas": null,
            "object_position": null,
            "object_fit": null,
            "grid_auto_columns": null,
            "margin": null,
            "display": null,
            "left": null
          }
        },
        "7879688c3e504bc783b73068ec69b8cb": {
          "model_module": "@jupyter-widgets/controls",
          "model_name": "FloatProgressModel",
          "state": {
            "_view_name": "ProgressView",
            "style": "IPY_MODEL_8cb1fb084e5e4e9483382767e9b3d37d",
            "_dom_classes": [],
            "description": "",
            "_model_name": "FloatProgressModel",
            "bar_style": "success",
            "max": 1,
            "_view_module": "@jupyter-widgets/controls",
            "_model_module_version": "1.5.0",
            "value": 1,
            "_view_count": null,
            "_view_module_version": "1.5.0",
            "orientation": "horizontal",
            "min": 0,
            "description_tooltip": null,
            "_model_module": "@jupyter-widgets/controls",
            "layout": "IPY_MODEL_08a8daf4bc1b4ec1b052189bd82e1227"
          }
        },
        "5f2646fb118b4cdf9b91fc8a7c191acd": {
          "model_module": "@jupyter-widgets/controls",
          "model_name": "HTMLModel",
          "state": {
            "_view_name": "HTMLView",
            "style": "IPY_MODEL_912d12ef31f941c3ae116c5bb183d69f",
            "_dom_classes": [],
            "description": "",
            "_model_name": "HTMLModel",
            "placeholder": "​",
            "_view_module": "@jupyter-widgets/controls",
            "_model_module_version": "1.5.0",
            "value": " 9920512/? [00:06&lt;00:00, 1424554.85it/s]",
            "_view_count": null,
            "_view_module_version": "1.5.0",
            "description_tooltip": null,
            "_model_module": "@jupyter-widgets/controls",
            "layout": "IPY_MODEL_1cb3763c5cf3416fa1e681ca02246efe"
          }
        },
        "8cb1fb084e5e4e9483382767e9b3d37d": {
          "model_module": "@jupyter-widgets/controls",
          "model_name": "ProgressStyleModel",
          "state": {
            "_view_name": "StyleView",
            "_model_name": "ProgressStyleModel",
            "description_width": "initial",
            "_view_module": "@jupyter-widgets/base",
            "_model_module_version": "1.5.0",
            "_view_count": null,
            "_view_module_version": "1.2.0",
            "bar_color": null,
            "_model_module": "@jupyter-widgets/controls"
          }
        },
        "08a8daf4bc1b4ec1b052189bd82e1227": {
          "model_module": "@jupyter-widgets/base",
          "model_name": "LayoutModel",
          "state": {
            "_view_name": "LayoutView",
            "grid_template_rows": null,
            "right": null,
            "justify_content": null,
            "_view_module": "@jupyter-widgets/base",
            "overflow": null,
            "_model_module_version": "1.2.0",
            "_view_count": null,
            "flex_flow": null,
            "width": null,
            "min_width": null,
            "border": null,
            "align_items": null,
            "bottom": null,
            "_model_module": "@jupyter-widgets/base",
            "top": null,
            "grid_column": null,
            "overflow_y": null,
            "overflow_x": null,
            "grid_auto_flow": null,
            "grid_area": null,
            "grid_template_columns": null,
            "flex": null,
            "_model_name": "LayoutModel",
            "justify_items": null,
            "grid_row": null,
            "max_height": null,
            "align_content": null,
            "visibility": null,
            "align_self": null,
            "height": null,
            "min_height": null,
            "padding": null,
            "grid_auto_rows": null,
            "grid_gap": null,
            "max_width": null,
            "order": null,
            "_view_module_version": "1.2.0",
            "grid_template_areas": null,
            "object_position": null,
            "object_fit": null,
            "grid_auto_columns": null,
            "margin": null,
            "display": null,
            "left": null
          }
        },
        "912d12ef31f941c3ae116c5bb183d69f": {
          "model_module": "@jupyter-widgets/controls",
          "model_name": "DescriptionStyleModel",
          "state": {
            "_view_name": "StyleView",
            "_model_name": "DescriptionStyleModel",
            "description_width": "",
            "_view_module": "@jupyter-widgets/base",
            "_model_module_version": "1.5.0",
            "_view_count": null,
            "_view_module_version": "1.2.0",
            "_model_module": "@jupyter-widgets/controls"
          }
        },
        "1cb3763c5cf3416fa1e681ca02246efe": {
          "model_module": "@jupyter-widgets/base",
          "model_name": "LayoutModel",
          "state": {
            "_view_name": "LayoutView",
            "grid_template_rows": null,
            "right": null,
            "justify_content": null,
            "_view_module": "@jupyter-widgets/base",
            "overflow": null,
            "_model_module_version": "1.2.0",
            "_view_count": null,
            "flex_flow": null,
            "width": null,
            "min_width": null,
            "border": null,
            "align_items": null,
            "bottom": null,
            "_model_module": "@jupyter-widgets/base",
            "top": null,
            "grid_column": null,
            "overflow_y": null,
            "overflow_x": null,
            "grid_auto_flow": null,
            "grid_area": null,
            "grid_template_columns": null,
            "flex": null,
            "_model_name": "LayoutModel",
            "justify_items": null,
            "grid_row": null,
            "max_height": null,
            "align_content": null,
            "visibility": null,
            "align_self": null,
            "height": null,
            "min_height": null,
            "padding": null,
            "grid_auto_rows": null,
            "grid_gap": null,
            "max_width": null,
            "order": null,
            "_view_module_version": "1.2.0",
            "grid_template_areas": null,
            "object_position": null,
            "object_fit": null,
            "grid_auto_columns": null,
            "margin": null,
            "display": null,
            "left": null
          }
        },
        "f7e71ed62ee647bc834c7f09048ef3e6": {
          "model_module": "@jupyter-widgets/controls",
          "model_name": "HBoxModel",
          "state": {
            "_view_name": "HBoxView",
            "_dom_classes": [],
            "_model_name": "HBoxModel",
            "_view_module": "@jupyter-widgets/controls",
            "_model_module_version": "1.5.0",
            "_view_count": null,
            "_view_module_version": "1.5.0",
            "box_style": "",
            "layout": "IPY_MODEL_79a2a03204f043cc823a319b7c247789",
            "_model_module": "@jupyter-widgets/controls",
            "children": [
              "IPY_MODEL_4efd0cac1cc84e838f507a77fa8f91e2",
              "IPY_MODEL_99567ff4e4c84e8ab43372322b8590a2"
            ]
          }
        },
        "79a2a03204f043cc823a319b7c247789": {
          "model_module": "@jupyter-widgets/base",
          "model_name": "LayoutModel",
          "state": {
            "_view_name": "LayoutView",
            "grid_template_rows": null,
            "right": null,
            "justify_content": null,
            "_view_module": "@jupyter-widgets/base",
            "overflow": null,
            "_model_module_version": "1.2.0",
            "_view_count": null,
            "flex_flow": null,
            "width": null,
            "min_width": null,
            "border": null,
            "align_items": null,
            "bottom": null,
            "_model_module": "@jupyter-widgets/base",
            "top": null,
            "grid_column": null,
            "overflow_y": null,
            "overflow_x": null,
            "grid_auto_flow": null,
            "grid_area": null,
            "grid_template_columns": null,
            "flex": null,
            "_model_name": "LayoutModel",
            "justify_items": null,
            "grid_row": null,
            "max_height": null,
            "align_content": null,
            "visibility": null,
            "align_self": null,
            "height": null,
            "min_height": null,
            "padding": null,
            "grid_auto_rows": null,
            "grid_gap": null,
            "max_width": null,
            "order": null,
            "_view_module_version": "1.2.0",
            "grid_template_areas": null,
            "object_position": null,
            "object_fit": null,
            "grid_auto_columns": null,
            "margin": null,
            "display": null,
            "left": null
          }
        },
        "4efd0cac1cc84e838f507a77fa8f91e2": {
          "model_module": "@jupyter-widgets/controls",
          "model_name": "FloatProgressModel",
          "state": {
            "_view_name": "ProgressView",
            "style": "IPY_MODEL_9167227a293e4da4a746281b62f11ab1",
            "_dom_classes": [],
            "description": "",
            "_model_name": "FloatProgressModel",
            "bar_style": "success",
            "max": 1,
            "_view_module": "@jupyter-widgets/controls",
            "_model_module_version": "1.5.0",
            "value": 1,
            "_view_count": null,
            "_view_module_version": "1.5.0",
            "orientation": "horizontal",
            "min": 0,
            "description_tooltip": null,
            "_model_module": "@jupyter-widgets/controls",
            "layout": "IPY_MODEL_11ae615168d54753acfe05649ba3d27d"
          }
        },
        "99567ff4e4c84e8ab43372322b8590a2": {
          "model_module": "@jupyter-widgets/controls",
          "model_name": "HTMLModel",
          "state": {
            "_view_name": "HTMLView",
            "style": "IPY_MODEL_9f8a55e705c84b12a0d94d7188edbab4",
            "_dom_classes": [],
            "description": "",
            "_model_name": "HTMLModel",
            "placeholder": "​",
            "_view_module": "@jupyter-widgets/controls",
            "_model_module_version": "1.5.0",
            "value": " 32768/? [00:03&lt;00:00, 8676.99it/s]",
            "_view_count": null,
            "_view_module_version": "1.5.0",
            "description_tooltip": null,
            "_model_module": "@jupyter-widgets/controls",
            "layout": "IPY_MODEL_2841dc46d5aa4d719651ec17316afcfd"
          }
        },
        "9167227a293e4da4a746281b62f11ab1": {
          "model_module": "@jupyter-widgets/controls",
          "model_name": "ProgressStyleModel",
          "state": {
            "_view_name": "StyleView",
            "_model_name": "ProgressStyleModel",
            "description_width": "initial",
            "_view_module": "@jupyter-widgets/base",
            "_model_module_version": "1.5.0",
            "_view_count": null,
            "_view_module_version": "1.2.0",
            "bar_color": null,
            "_model_module": "@jupyter-widgets/controls"
          }
        },
        "11ae615168d54753acfe05649ba3d27d": {
          "model_module": "@jupyter-widgets/base",
          "model_name": "LayoutModel",
          "state": {
            "_view_name": "LayoutView",
            "grid_template_rows": null,
            "right": null,
            "justify_content": null,
            "_view_module": "@jupyter-widgets/base",
            "overflow": null,
            "_model_module_version": "1.2.0",
            "_view_count": null,
            "flex_flow": null,
            "width": null,
            "min_width": null,
            "border": null,
            "align_items": null,
            "bottom": null,
            "_model_module": "@jupyter-widgets/base",
            "top": null,
            "grid_column": null,
            "overflow_y": null,
            "overflow_x": null,
            "grid_auto_flow": null,
            "grid_area": null,
            "grid_template_columns": null,
            "flex": null,
            "_model_name": "LayoutModel",
            "justify_items": null,
            "grid_row": null,
            "max_height": null,
            "align_content": null,
            "visibility": null,
            "align_self": null,
            "height": null,
            "min_height": null,
            "padding": null,
            "grid_auto_rows": null,
            "grid_gap": null,
            "max_width": null,
            "order": null,
            "_view_module_version": "1.2.0",
            "grid_template_areas": null,
            "object_position": null,
            "object_fit": null,
            "grid_auto_columns": null,
            "margin": null,
            "display": null,
            "left": null
          }
        },
        "9f8a55e705c84b12a0d94d7188edbab4": {
          "model_module": "@jupyter-widgets/controls",
          "model_name": "DescriptionStyleModel",
          "state": {
            "_view_name": "StyleView",
            "_model_name": "DescriptionStyleModel",
            "description_width": "",
            "_view_module": "@jupyter-widgets/base",
            "_model_module_version": "1.5.0",
            "_view_count": null,
            "_view_module_version": "1.2.0",
            "_model_module": "@jupyter-widgets/controls"
          }
        },
        "2841dc46d5aa4d719651ec17316afcfd": {
          "model_module": "@jupyter-widgets/base",
          "model_name": "LayoutModel",
          "state": {
            "_view_name": "LayoutView",
            "grid_template_rows": null,
            "right": null,
            "justify_content": null,
            "_view_module": "@jupyter-widgets/base",
            "overflow": null,
            "_model_module_version": "1.2.0",
            "_view_count": null,
            "flex_flow": null,
            "width": null,
            "min_width": null,
            "border": null,
            "align_items": null,
            "bottom": null,
            "_model_module": "@jupyter-widgets/base",
            "top": null,
            "grid_column": null,
            "overflow_y": null,
            "overflow_x": null,
            "grid_auto_flow": null,
            "grid_area": null,
            "grid_template_columns": null,
            "flex": null,
            "_model_name": "LayoutModel",
            "justify_items": null,
            "grid_row": null,
            "max_height": null,
            "align_content": null,
            "visibility": null,
            "align_self": null,
            "height": null,
            "min_height": null,
            "padding": null,
            "grid_auto_rows": null,
            "grid_gap": null,
            "max_width": null,
            "order": null,
            "_view_module_version": "1.2.0",
            "grid_template_areas": null,
            "object_position": null,
            "object_fit": null,
            "grid_auto_columns": null,
            "margin": null,
            "display": null,
            "left": null
          }
        },
        "ea95d632a19c40b7914cfce94642c5bd": {
          "model_module": "@jupyter-widgets/controls",
          "model_name": "HBoxModel",
          "state": {
            "_view_name": "HBoxView",
            "_dom_classes": [],
            "_model_name": "HBoxModel",
            "_view_module": "@jupyter-widgets/controls",
            "_model_module_version": "1.5.0",
            "_view_count": null,
            "_view_module_version": "1.5.0",
            "box_style": "",
            "layout": "IPY_MODEL_61b86eae85e5426fb1b566009de96842",
            "_model_module": "@jupyter-widgets/controls",
            "children": [
              "IPY_MODEL_066feda105c740e4b3169380875ba18e",
              "IPY_MODEL_6403bf2d08dc423d898b2fe119c0a0f6"
            ]
          }
        },
        "61b86eae85e5426fb1b566009de96842": {
          "model_module": "@jupyter-widgets/base",
          "model_name": "LayoutModel",
          "state": {
            "_view_name": "LayoutView",
            "grid_template_rows": null,
            "right": null,
            "justify_content": null,
            "_view_module": "@jupyter-widgets/base",
            "overflow": null,
            "_model_module_version": "1.2.0",
            "_view_count": null,
            "flex_flow": null,
            "width": null,
            "min_width": null,
            "border": null,
            "align_items": null,
            "bottom": null,
            "_model_module": "@jupyter-widgets/base",
            "top": null,
            "grid_column": null,
            "overflow_y": null,
            "overflow_x": null,
            "grid_auto_flow": null,
            "grid_area": null,
            "grid_template_columns": null,
            "flex": null,
            "_model_name": "LayoutModel",
            "justify_items": null,
            "grid_row": null,
            "max_height": null,
            "align_content": null,
            "visibility": null,
            "align_self": null,
            "height": null,
            "min_height": null,
            "padding": null,
            "grid_auto_rows": null,
            "grid_gap": null,
            "max_width": null,
            "order": null,
            "_view_module_version": "1.2.0",
            "grid_template_areas": null,
            "object_position": null,
            "object_fit": null,
            "grid_auto_columns": null,
            "margin": null,
            "display": null,
            "left": null
          }
        },
        "066feda105c740e4b3169380875ba18e": {
          "model_module": "@jupyter-widgets/controls",
          "model_name": "FloatProgressModel",
          "state": {
            "_view_name": "ProgressView",
            "style": "IPY_MODEL_54fd79e2f7c54d25915f3a1ed48a76ad",
            "_dom_classes": [],
            "description": "",
            "_model_name": "FloatProgressModel",
            "bar_style": "success",
            "max": 1,
            "_view_module": "@jupyter-widgets/controls",
            "_model_module_version": "1.5.0",
            "value": 1,
            "_view_count": null,
            "_view_module_version": "1.5.0",
            "orientation": "horizontal",
            "min": 0,
            "description_tooltip": null,
            "_model_module": "@jupyter-widgets/controls",
            "layout": "IPY_MODEL_7817b670e44740fb9be085984dcaba34"
          }
        },
        "6403bf2d08dc423d898b2fe119c0a0f6": {
          "model_module": "@jupyter-widgets/controls",
          "model_name": "HTMLModel",
          "state": {
            "_view_name": "HTMLView",
            "style": "IPY_MODEL_eacf3d31689b42b09a565bd9d9c5eb9b",
            "_dom_classes": [],
            "description": "",
            "_model_name": "HTMLModel",
            "placeholder": "​",
            "_view_module": "@jupyter-widgets/controls",
            "_model_module_version": "1.5.0",
            "value": " 1654784/? [00:02&lt;00:00, 565639.92it/s]",
            "_view_count": null,
            "_view_module_version": "1.5.0",
            "description_tooltip": null,
            "_model_module": "@jupyter-widgets/controls",
            "layout": "IPY_MODEL_a097a7e8c8e64115a3135e77bae05e9c"
          }
        },
        "54fd79e2f7c54d25915f3a1ed48a76ad": {
          "model_module": "@jupyter-widgets/controls",
          "model_name": "ProgressStyleModel",
          "state": {
            "_view_name": "StyleView",
            "_model_name": "ProgressStyleModel",
            "description_width": "initial",
            "_view_module": "@jupyter-widgets/base",
            "_model_module_version": "1.5.0",
            "_view_count": null,
            "_view_module_version": "1.2.0",
            "bar_color": null,
            "_model_module": "@jupyter-widgets/controls"
          }
        },
        "7817b670e44740fb9be085984dcaba34": {
          "model_module": "@jupyter-widgets/base",
          "model_name": "LayoutModel",
          "state": {
            "_view_name": "LayoutView",
            "grid_template_rows": null,
            "right": null,
            "justify_content": null,
            "_view_module": "@jupyter-widgets/base",
            "overflow": null,
            "_model_module_version": "1.2.0",
            "_view_count": null,
            "flex_flow": null,
            "width": null,
            "min_width": null,
            "border": null,
            "align_items": null,
            "bottom": null,
            "_model_module": "@jupyter-widgets/base",
            "top": null,
            "grid_column": null,
            "overflow_y": null,
            "overflow_x": null,
            "grid_auto_flow": null,
            "grid_area": null,
            "grid_template_columns": null,
            "flex": null,
            "_model_name": "LayoutModel",
            "justify_items": null,
            "grid_row": null,
            "max_height": null,
            "align_content": null,
            "visibility": null,
            "align_self": null,
            "height": null,
            "min_height": null,
            "padding": null,
            "grid_auto_rows": null,
            "grid_gap": null,
            "max_width": null,
            "order": null,
            "_view_module_version": "1.2.0",
            "grid_template_areas": null,
            "object_position": null,
            "object_fit": null,
            "grid_auto_columns": null,
            "margin": null,
            "display": null,
            "left": null
          }
        },
        "eacf3d31689b42b09a565bd9d9c5eb9b": {
          "model_module": "@jupyter-widgets/controls",
          "model_name": "DescriptionStyleModel",
          "state": {
            "_view_name": "StyleView",
            "_model_name": "DescriptionStyleModel",
            "description_width": "",
            "_view_module": "@jupyter-widgets/base",
            "_model_module_version": "1.5.0",
            "_view_count": null,
            "_view_module_version": "1.2.0",
            "_model_module": "@jupyter-widgets/controls"
          }
        },
        "a097a7e8c8e64115a3135e77bae05e9c": {
          "model_module": "@jupyter-widgets/base",
          "model_name": "LayoutModel",
          "state": {
            "_view_name": "LayoutView",
            "grid_template_rows": null,
            "right": null,
            "justify_content": null,
            "_view_module": "@jupyter-widgets/base",
            "overflow": null,
            "_model_module_version": "1.2.0",
            "_view_count": null,
            "flex_flow": null,
            "width": null,
            "min_width": null,
            "border": null,
            "align_items": null,
            "bottom": null,
            "_model_module": "@jupyter-widgets/base",
            "top": null,
            "grid_column": null,
            "overflow_y": null,
            "overflow_x": null,
            "grid_auto_flow": null,
            "grid_area": null,
            "grid_template_columns": null,
            "flex": null,
            "_model_name": "LayoutModel",
            "justify_items": null,
            "grid_row": null,
            "max_height": null,
            "align_content": null,
            "visibility": null,
            "align_self": null,
            "height": null,
            "min_height": null,
            "padding": null,
            "grid_auto_rows": null,
            "grid_gap": null,
            "max_width": null,
            "order": null,
            "_view_module_version": "1.2.0",
            "grid_template_areas": null,
            "object_position": null,
            "object_fit": null,
            "grid_auto_columns": null,
            "margin": null,
            "display": null,
            "left": null
          }
        },
        "aa69d610c0e142c687fbdee86c36d224": {
          "model_module": "@jupyter-widgets/controls",
          "model_name": "HBoxModel",
          "state": {
            "_view_name": "HBoxView",
            "_dom_classes": [],
            "_model_name": "HBoxModel",
            "_view_module": "@jupyter-widgets/controls",
            "_model_module_version": "1.5.0",
            "_view_count": null,
            "_view_module_version": "1.5.0",
            "box_style": "",
            "layout": "IPY_MODEL_d74eb202c47049ddb329cf9a501fb399",
            "_model_module": "@jupyter-widgets/controls",
            "children": [
              "IPY_MODEL_4bd562604c744b5ebe1bc4504491b348",
              "IPY_MODEL_027476f4c2a949b083f1e2de07e80b38"
            ]
          }
        },
        "d74eb202c47049ddb329cf9a501fb399": {
          "model_module": "@jupyter-widgets/base",
          "model_name": "LayoutModel",
          "state": {
            "_view_name": "LayoutView",
            "grid_template_rows": null,
            "right": null,
            "justify_content": null,
            "_view_module": "@jupyter-widgets/base",
            "overflow": null,
            "_model_module_version": "1.2.0",
            "_view_count": null,
            "flex_flow": null,
            "width": null,
            "min_width": null,
            "border": null,
            "align_items": null,
            "bottom": null,
            "_model_module": "@jupyter-widgets/base",
            "top": null,
            "grid_column": null,
            "overflow_y": null,
            "overflow_x": null,
            "grid_auto_flow": null,
            "grid_area": null,
            "grid_template_columns": null,
            "flex": null,
            "_model_name": "LayoutModel",
            "justify_items": null,
            "grid_row": null,
            "max_height": null,
            "align_content": null,
            "visibility": null,
            "align_self": null,
            "height": null,
            "min_height": null,
            "padding": null,
            "grid_auto_rows": null,
            "grid_gap": null,
            "max_width": null,
            "order": null,
            "_view_module_version": "1.2.0",
            "grid_template_areas": null,
            "object_position": null,
            "object_fit": null,
            "grid_auto_columns": null,
            "margin": null,
            "display": null,
            "left": null
          }
        },
        "4bd562604c744b5ebe1bc4504491b348": {
          "model_module": "@jupyter-widgets/controls",
          "model_name": "FloatProgressModel",
          "state": {
            "_view_name": "ProgressView",
            "style": "IPY_MODEL_b5331048e8d54f2a9e59c7cefd590e14",
            "_dom_classes": [],
            "description": "",
            "_model_name": "FloatProgressModel",
            "bar_style": "success",
            "max": 1,
            "_view_module": "@jupyter-widgets/controls",
            "_model_module_version": "1.5.0",
            "value": 1,
            "_view_count": null,
            "_view_module_version": "1.5.0",
            "orientation": "horizontal",
            "min": 0,
            "description_tooltip": null,
            "_model_module": "@jupyter-widgets/controls",
            "layout": "IPY_MODEL_5609221dcde04e04a7e0f77d1bd2aa2e"
          }
        },
        "027476f4c2a949b083f1e2de07e80b38": {
          "model_module": "@jupyter-widgets/controls",
          "model_name": "HTMLModel",
          "state": {
            "_view_name": "HTMLView",
            "style": "IPY_MODEL_115b51062a5a4c5d93121a6a54584fb2",
            "_dom_classes": [],
            "description": "",
            "_model_name": "HTMLModel",
            "placeholder": "​",
            "_view_module": "@jupyter-widgets/controls",
            "_model_module_version": "1.5.0",
            "value": " 8192/? [00:01&lt;00:00, 6805.19it/s]",
            "_view_count": null,
            "_view_module_version": "1.5.0",
            "description_tooltip": null,
            "_model_module": "@jupyter-widgets/controls",
            "layout": "IPY_MODEL_c18dd5ac98834eac96731ecf541db76c"
          }
        },
        "b5331048e8d54f2a9e59c7cefd590e14": {
          "model_module": "@jupyter-widgets/controls",
          "model_name": "ProgressStyleModel",
          "state": {
            "_view_name": "StyleView",
            "_model_name": "ProgressStyleModel",
            "description_width": "initial",
            "_view_module": "@jupyter-widgets/base",
            "_model_module_version": "1.5.0",
            "_view_count": null,
            "_view_module_version": "1.2.0",
            "bar_color": null,
            "_model_module": "@jupyter-widgets/controls"
          }
        },
        "5609221dcde04e04a7e0f77d1bd2aa2e": {
          "model_module": "@jupyter-widgets/base",
          "model_name": "LayoutModel",
          "state": {
            "_view_name": "LayoutView",
            "grid_template_rows": null,
            "right": null,
            "justify_content": null,
            "_view_module": "@jupyter-widgets/base",
            "overflow": null,
            "_model_module_version": "1.2.0",
            "_view_count": null,
            "flex_flow": null,
            "width": null,
            "min_width": null,
            "border": null,
            "align_items": null,
            "bottom": null,
            "_model_module": "@jupyter-widgets/base",
            "top": null,
            "grid_column": null,
            "overflow_y": null,
            "overflow_x": null,
            "grid_auto_flow": null,
            "grid_area": null,
            "grid_template_columns": null,
            "flex": null,
            "_model_name": "LayoutModel",
            "justify_items": null,
            "grid_row": null,
            "max_height": null,
            "align_content": null,
            "visibility": null,
            "align_self": null,
            "height": null,
            "min_height": null,
            "padding": null,
            "grid_auto_rows": null,
            "grid_gap": null,
            "max_width": null,
            "order": null,
            "_view_module_version": "1.2.0",
            "grid_template_areas": null,
            "object_position": null,
            "object_fit": null,
            "grid_auto_columns": null,
            "margin": null,
            "display": null,
            "left": null
          }
        },
        "115b51062a5a4c5d93121a6a54584fb2": {
          "model_module": "@jupyter-widgets/controls",
          "model_name": "DescriptionStyleModel",
          "state": {
            "_view_name": "StyleView",
            "_model_name": "DescriptionStyleModel",
            "description_width": "",
            "_view_module": "@jupyter-widgets/base",
            "_model_module_version": "1.5.0",
            "_view_count": null,
            "_view_module_version": "1.2.0",
            "_model_module": "@jupyter-widgets/controls"
          }
        },
        "c18dd5ac98834eac96731ecf541db76c": {
          "model_module": "@jupyter-widgets/base",
          "model_name": "LayoutModel",
          "state": {
            "_view_name": "LayoutView",
            "grid_template_rows": null,
            "right": null,
            "justify_content": null,
            "_view_module": "@jupyter-widgets/base",
            "overflow": null,
            "_model_module_version": "1.2.0",
            "_view_count": null,
            "flex_flow": null,
            "width": null,
            "min_width": null,
            "border": null,
            "align_items": null,
            "bottom": null,
            "_model_module": "@jupyter-widgets/base",
            "top": null,
            "grid_column": null,
            "overflow_y": null,
            "overflow_x": null,
            "grid_auto_flow": null,
            "grid_area": null,
            "grid_template_columns": null,
            "flex": null,
            "_model_name": "LayoutModel",
            "justify_items": null,
            "grid_row": null,
            "max_height": null,
            "align_content": null,
            "visibility": null,
            "align_self": null,
            "height": null,
            "min_height": null,
            "padding": null,
            "grid_auto_rows": null,
            "grid_gap": null,
            "max_width": null,
            "order": null,
            "_view_module_version": "1.2.0",
            "grid_template_areas": null,
            "object_position": null,
            "object_fit": null,
            "grid_auto_columns": null,
            "margin": null,
            "display": null,
            "left": null
          }
        }
      }
    }
  },
  "cells": [
    {
      "cell_type": "markdown",
      "metadata": {
        "id": "view-in-github",
        "colab_type": "text"
      },
      "source": [
        "<a href=\"https://colab.research.google.com/github/jiku100/2020-2-machine-running-proejct/blob/master/assignment11/%EC%8B%A0%EC%84%9D%EA%B2%BD_assignment_11.ipynb\" target=\"_parent\"><img src=\"https://colab.research.google.com/assets/colab-badge.svg\" alt=\"Open In Colab\"/></a>"
      ]
    },
    {
      "cell_type": "markdown",
      "metadata": {
        "id": "0gzdXwFJz0KJ"
      },
      "source": [
        "# **Classification for Multiple Categories using Pytorch for best accuracy with CNN**\n",
        "\n"
      ]
    },
    {
      "cell_type": "markdown",
      "metadata": {
        "id": "w_C7Cujjz4ff"
      },
      "source": [
        "# 1. Import library\n",
        "<hr>"
      ]
    },
    {
      "cell_type": "code",
      "metadata": {
        "id": "gtlbKT3Izgre"
      },
      "source": [
        "import torch\n",
        "import torch.nn as nn\n",
        "import torch.optim as optim\n",
        "import torch.nn.init as init\n",
        "import torchvision\n",
        "import torchvision.transforms as transforms\n",
        "import torchvision.datasets as datasets\n",
        "from torch.utils.data import DataLoader\n",
        "\n",
        "import matplotlib.pyplot as plt\n",
        "import cv2\n",
        "import numpy as np"
      ],
      "execution_count": 1,
      "outputs": []
    },
    {
      "cell_type": "code",
      "metadata": {
        "colab": {
          "base_uri": "https://localhost:8080/"
        },
        "id": "JC9KWsHg7lTJ",
        "outputId": "f604d184-8b42-438a-ff09-98fe116f2e24"
      },
      "source": [
        "USE_CUDA = torch.cuda.is_available()\n",
        "device = torch.device(\"cuda\" if USE_CUDA else \"cpu\")\n",
        "print(\"다음 기기로 학습합니다:\", device)"
      ],
      "execution_count": 2,
      "outputs": [
        {
          "output_type": "stream",
          "text": [
            "다음 기기로 학습합니다: cuda\n"
          ],
          "name": "stdout"
        }
      ]
    },
    {
      "cell_type": "markdown",
      "metadata": {
        "id": "nBCurPvD3NoM"
      },
      "source": [
        "# 2. Preprocessing Data\n",
        "<hr>"
      ]
    },
    {
      "cell_type": "code",
      "metadata": {
        "id": "4tVba13YD-s9"
      },
      "source": [
        "transform_train = transforms.Compose([\n",
        "        transforms.ToTensor(),\n",
        "        transforms.RandomRotation(20),\n",
        "        transforms.Normalize((0.1307,),(0.3081,))                    # 이미지를 텐서로 변형합니다.\n",
        "])\n",
        "\n",
        "transform_test = transforms.Compose([\n",
        "        transforms.ToTensor(), \n",
        "        transforms.Normalize((0.1307,),(0.3081,))            \n",
        "])"
      ],
      "execution_count": 3,
      "outputs": []
    },
    {
      "cell_type": "code",
      "metadata": {
        "id": "1uNdu0HqJEQv",
        "colab": {
          "base_uri": "https://localhost:8080/",
          "height": 375,
          "referenced_widgets": [
            "30187b16ea98469bb98ac85672286bad",
            "172d76109b19479abc9497897583497b",
            "7879688c3e504bc783b73068ec69b8cb",
            "5f2646fb118b4cdf9b91fc8a7c191acd",
            "8cb1fb084e5e4e9483382767e9b3d37d",
            "08a8daf4bc1b4ec1b052189bd82e1227",
            "912d12ef31f941c3ae116c5bb183d69f",
            "1cb3763c5cf3416fa1e681ca02246efe",
            "f7e71ed62ee647bc834c7f09048ef3e6",
            "79a2a03204f043cc823a319b7c247789",
            "4efd0cac1cc84e838f507a77fa8f91e2",
            "99567ff4e4c84e8ab43372322b8590a2",
            "9167227a293e4da4a746281b62f11ab1",
            "11ae615168d54753acfe05649ba3d27d",
            "9f8a55e705c84b12a0d94d7188edbab4",
            "2841dc46d5aa4d719651ec17316afcfd",
            "ea95d632a19c40b7914cfce94642c5bd",
            "61b86eae85e5426fb1b566009de96842",
            "066feda105c740e4b3169380875ba18e",
            "6403bf2d08dc423d898b2fe119c0a0f6",
            "54fd79e2f7c54d25915f3a1ed48a76ad",
            "7817b670e44740fb9be085984dcaba34",
            "eacf3d31689b42b09a565bd9d9c5eb9b",
            "a097a7e8c8e64115a3135e77bae05e9c",
            "aa69d610c0e142c687fbdee86c36d224",
            "d74eb202c47049ddb329cf9a501fb399",
            "4bd562604c744b5ebe1bc4504491b348",
            "027476f4c2a949b083f1e2de07e80b38",
            "b5331048e8d54f2a9e59c7cefd590e14",
            "5609221dcde04e04a7e0f77d1bd2aa2e",
            "115b51062a5a4c5d93121a6a54584fb2",
            "c18dd5ac98834eac96731ecf541db76c"
          ]
        },
        "outputId": "0cc2d9a5-8c00-4243-f60f-e379d747729b"
      },
      "source": [
        "data_path = './MNIST'\n",
        "\n",
        "data_test   = datasets.MNIST(root = data_path, train= True, download=True, transform= transform_test)\n",
        "data_train  = datasets.MNIST(root = data_path, train= False, download=True, transform= transform_train)"
      ],
      "execution_count": 4,
      "outputs": [
        {
          "output_type": "stream",
          "text": [
            "Downloading http://yann.lecun.com/exdb/mnist/train-images-idx3-ubyte.gz to ./MNIST/MNIST/raw/train-images-idx3-ubyte.gz\n"
          ],
          "name": "stdout"
        },
        {
          "output_type": "display_data",
          "data": {
            "application/vnd.jupyter.widget-view+json": {
              "model_id": "30187b16ea98469bb98ac85672286bad",
              "version_minor": 0,
              "version_major": 2
            },
            "text/plain": [
              "HBox(children=(FloatProgress(value=1.0, bar_style='info', max=1.0), HTML(value='')))"
            ]
          },
          "metadata": {
            "tags": []
          }
        },
        {
          "output_type": "stream",
          "text": [
            "Extracting ./MNIST/MNIST/raw/train-images-idx3-ubyte.gz to ./MNIST/MNIST/raw\n",
            "Downloading http://yann.lecun.com/exdb/mnist/train-labels-idx1-ubyte.gz to ./MNIST/MNIST/raw/train-labels-idx1-ubyte.gz\n"
          ],
          "name": "stdout"
        },
        {
          "output_type": "display_data",
          "data": {
            "application/vnd.jupyter.widget-view+json": {
              "model_id": "f7e71ed62ee647bc834c7f09048ef3e6",
              "version_minor": 0,
              "version_major": 2
            },
            "text/plain": [
              "HBox(children=(FloatProgress(value=1.0, bar_style='info', max=1.0), HTML(value='')))"
            ]
          },
          "metadata": {
            "tags": []
          }
        },
        {
          "output_type": "stream",
          "text": [
            "Extracting ./MNIST/MNIST/raw/train-labels-idx1-ubyte.gz to ./MNIST/MNIST/raw\n",
            "Downloading http://yann.lecun.com/exdb/mnist/t10k-images-idx3-ubyte.gz to ./MNIST/MNIST/raw/t10k-images-idx3-ubyte.gz\n"
          ],
          "name": "stdout"
        },
        {
          "output_type": "display_data",
          "data": {
            "application/vnd.jupyter.widget-view+json": {
              "model_id": "ea95d632a19c40b7914cfce94642c5bd",
              "version_minor": 0,
              "version_major": 2
            },
            "text/plain": [
              "HBox(children=(FloatProgress(value=1.0, bar_style='info', max=1.0), HTML(value='')))"
            ]
          },
          "metadata": {
            "tags": []
          }
        },
        {
          "output_type": "stream",
          "text": [
            "Extracting ./MNIST/MNIST/raw/t10k-images-idx3-ubyte.gz to ./MNIST/MNIST/raw\n",
            "Downloading http://yann.lecun.com/exdb/mnist/t10k-labels-idx1-ubyte.gz to ./MNIST/MNIST/raw/t10k-labels-idx1-ubyte.gz\n"
          ],
          "name": "stdout"
        },
        {
          "output_type": "display_data",
          "data": {
            "application/vnd.jupyter.widget-view+json": {
              "model_id": "aa69d610c0e142c687fbdee86c36d224",
              "version_minor": 0,
              "version_major": 2
            },
            "text/plain": [
              "HBox(children=(FloatProgress(value=1.0, bar_style='info', max=1.0), HTML(value='')))"
            ]
          },
          "metadata": {
            "tags": []
          }
        },
        {
          "output_type": "stream",
          "text": [
            "Extracting ./MNIST/MNIST/raw/t10k-labels-idx1-ubyte.gz to ./MNIST/MNIST/raw\n",
            "Processing...\n",
            "Done!\n"
          ],
          "name": "stdout"
        },
        {
          "output_type": "stream",
          "text": [
            "/usr/local/lib/python3.6/dist-packages/torchvision/datasets/mnist.py:480: UserWarning: The given NumPy array is not writeable, and PyTorch does not support non-writeable tensors. This means you can write to the underlying (supposedly non-writeable) NumPy array using the tensor. You may want to copy the array to protect its data or make it writeable before converting it to a tensor. This type of warning will be suppressed for the rest of this program. (Triggered internally at  /pytorch/torch/csrc/utils/tensor_numpy.cpp:141.)\n",
            "  return torch.from_numpy(parsed.astype(m[2], copy=False)).view(*s)\n"
          ],
          "name": "stderr"
        }
      ]
    },
    {
      "cell_type": "code",
      "metadata": {
        "colab": {
          "base_uri": "https://localhost:8080/",
          "height": 457
        },
        "id": "8SJcK-t2D3Bp",
        "outputId": "f14b97a5-04a1-43f4-89d3-0aa1c5bc2722"
      },
      "source": [
        "one_image, label = data_train[0]\n",
        "print(\"type of one image\", type(one_image))\n",
        "print(\"size of one image : \", one_image.shape)\n",
        "plt.imshow(one_image.squeeze().numpy(), cmap='gray')\n",
        "print(\"type of label : \", type(label))\n",
        "print(\"label : \", label)\n",
        "print(np.max(data_train.train_data[0].view(-1).numpy()))"
      ],
      "execution_count": 5,
      "outputs": [
        {
          "output_type": "stream",
          "text": [
            "type of one image <class 'torch.Tensor'>\n",
            "size of one image :  torch.Size([1, 28, 28])\n",
            "\n",
            "\n",
            "type of label :  <class 'int'>\n",
            "label :  7\n",
            "255\n"
          ],
          "name": "stdout"
        },
        {
          "output_type": "stream",
          "text": [
            "/usr/local/lib/python3.6/dist-packages/torchvision/datasets/mnist.py:58: UserWarning: train_data has been renamed data\n",
            "  warnings.warn(\"train_data has been renamed data\")\n"
          ],
          "name": "stderr"
        },
        {
          "output_type": "display_data",
          "data": {
            "image/png": "[encoded data removed]",
            "text/plain": [
              "<Figure size 432x288 with 1 Axes>"
            ]
          },
          "metadata": {
            "tags": [],
            "needs_background": "light"
          }
        },
        {
          "output_type": "stream",
          "text": [
            "\n",
            "\n"
          ],
          "name": "stdout"
        }
      ]
    },
    {
      "cell_type": "code",
      "metadata": {
        "id": "lUj2JTgY4r4c"
      },
      "source": [
        "learning_rate = 0.003\n",
        "training_epochs = 600\n",
        "batch_size = 256"
      ],
      "execution_count": 6,
      "outputs": []
    },
    {
      "cell_type": "code",
      "metadata": {
        "id": "CkgCtS3b3giF"
      },
      "source": [
        "train_loader = DataLoader(dataset = data_train, batch_size = batch_size, num_workers = 2, shuffle = True) ## batch size 32 짜리 train loader 생성\n",
        "test_loader = DataLoader(dataset = data_test, batch_size = batch_size, num_workers = 2, shuffle = True) ## batch size 32 짜리 test loader 생성"
      ],
      "execution_count": 7,
      "outputs": []
    },
    {
      "cell_type": "markdown",
      "metadata": {
        "id": "SCsB9Pdk6zd7"
      },
      "source": [
        "# 3. Define Model\n",
        "<hr>"
      ]
    },
    {
      "cell_type": "code",
      "metadata": {
        "id": "-cUHqcW25etQ"
      },
      "source": [
        "class classification(nn.Module):\n",
        "    def __init__(self):\n",
        "        super(classification, self).__init__()\n",
        "        \n",
        "        self.conv_block = nn.Sequential(\n",
        "            nn.Conv2d(1, 32, kernel_size=3, stride=1, padding=1),\n",
        "            nn.BatchNorm2d(32),\n",
        "            nn.ReLU(inplace=True),\n",
        "            nn.Conv2d(32, 64, kernel_size=3, stride=1, padding=1),\n",
        "            nn.BatchNorm2d(64),\n",
        "            nn.ReLU(inplace=True),\n",
        "            nn.MaxPool2d(kernel_size=2, stride=2),\n",
        "            nn.Conv2d(64, 128, kernel_size=3, stride=1, padding=1),\n",
        "            nn.BatchNorm2d(128),\n",
        "            nn.ReLU(inplace=True),\n",
        "            nn.MaxPool2d(kernel_size=2, stride=2) \n",
        "        )\n",
        "        \n",
        "        self.linear_block = nn.Sequential(\n",
        "            nn.Dropout(p=0.5),\n",
        "            nn.Linear(128*7*7, 128),\n",
        "            nn.BatchNorm1d(128),\n",
        "            nn.ReLU(inplace=True),\n",
        "            nn.Dropout(0.5),\n",
        "            nn.Linear(128, 64),\n",
        "            nn.BatchNorm1d(64),\n",
        "            nn.ReLU(inplace=True),\n",
        "            nn.Dropout(0.5),\n",
        "            nn.Linear(64, 10)\n",
        "        )\n",
        "        \n",
        "    def forward(self, x):\n",
        "        x = self.conv_block(x)\n",
        "        x = x.view(x.size(0), -1)\n",
        "        x = self.linear_block(x)\n",
        "        \n",
        "        return x"
      ],
      "execution_count": 8,
      "outputs": []
    },
    {
      "cell_type": "code",
      "metadata": {
        "id": "MWYQ30d37dwC"
      },
      "source": [
        "model = classification().to(device)"
      ],
      "execution_count": 9,
      "outputs": []
    },
    {
      "cell_type": "code",
      "metadata": {
        "id": "-GpzWr1V64wc"
      },
      "source": [
        "criterion = nn.CrossEntropyLoss().to(device)    # Softmax is internally computed.\n",
        "optimizer = torch.optim.Adam(model.parameters(), lr=learning_rate)\n",
        "scheduler = optim.lr_scheduler.StepLR(optimizer, step_size=50, gamma=0.1)"
      ],
      "execution_count": 10,
      "outputs": []
    },
    {
      "cell_type": "markdown",
      "metadata": {
        "id": "lsNWP3Wk8Siq"
      },
      "source": [
        "# 4. Training\n",
        "<hr>"
      ]
    },
    {
      "cell_type": "code",
      "metadata": {
        "id": "1_QSSPkC7sCr"
      },
      "source": [
        "total_batch= len(train_loader)"
      ],
      "execution_count": 11,
      "outputs": []
    },
    {
      "cell_type": "code",
      "metadata": {
        "colab": {
          "base_uri": "https://localhost:8080/"
        },
        "id": "9_SeUrHB5gLH",
        "outputId": "56a7b176-0943-4c50-aece-c01cf3e3aed2"
      },
      "source": [
        "print(total_batch)"
      ],
      "execution_count": 12,
      "outputs": [
        {
          "output_type": "stream",
          "text": [
            "40\n"
          ],
          "name": "stdout"
        }
      ]
    },
    {
      "cell_type": "code",
      "metadata": {
        "id": "eaJMZ8TvcglJ"
      },
      "source": [
        "def accuracy(log_pred, y_true):\n",
        "    y_pred = torch.argmax(log_pred, dim=1)\n",
        "    return (y_pred == y_true).to(torch.float).mean()"
      ],
      "execution_count": 13,
      "outputs": []
    },
    {
      "cell_type": "code",
      "metadata": {
        "id": "Kl5FuVgt8_LF"
      },
      "source": [
        "def training(model, loss, optim, training_epochs, train_loader, test_loader):\n",
        "  L_iters_train = []\n",
        "  accuracy_train = []\n",
        "  L_iters_test = []\n",
        "  accuracy_test = []\n",
        "  for epoch in range(training_epochs):\n",
        "    total_cost_train = 0\n",
        "    total_cost_test = 0\n",
        "    total_acc_train = 0\n",
        "    total_acc_test = 0\n",
        "    model.train()\n",
        "    for X, Y in train_loader:\n",
        "      X = X.to(device)\n",
        "      Y = Y.to(device)\n",
        "\n",
        "      optim.zero_grad()\n",
        "      train_pred = model(X)\n",
        "      cost = loss(train_pred, Y)\n",
        "      cost.backward()\n",
        "      optim.step()\n",
        "\n",
        "      total_cost_train += cost\n",
        "      total_acc_train += accuracy(train_pred, Y)\n",
        "      \n",
        "    avg_cost_train = total_cost_train / len(train_loader)\n",
        "    avg_acc_train = total_acc_train / len(train_loader)\n",
        "\n",
        "    L_iters_train.append(avg_cost_train)\n",
        "    accuracy_train.append(avg_acc_train)\n",
        "    model.eval()\n",
        "    with torch.no_grad():\n",
        "      for X_test, Y_test in test_loader:\n",
        "        X_test = X_test.to(device)\n",
        "        Y_test = Y_test.to(device)\n",
        "        test_pred = model(X_test)\n",
        "        cost_test = loss(test_pred, Y_test)\n",
        "        total_cost_test += cost_test\n",
        "        total_acc_test += accuracy(test_pred, Y_test)\n",
        "      avg_cost_test = total_cost_test / len(test_loader)\n",
        "      avg_acc_test = total_acc_test / len(test_loader)\n",
        "    \n",
        "      accuracy_test.append(avg_acc_test)\n",
        "      L_iters_test.append(avg_cost_test)\n",
        "\n",
        "    print(\"Epoch: %02d Training Loss: %.9f Testing Loss: %.9f  Training Acc: %.9f Testing Acc: %.9f\" %((epoch + 1),avg_cost_train, avg_cost_test, avg_acc_train, avg_acc_test))\n",
        "  return L_iters_train, accuracy_train, L_iters_test, accuracy_test"
      ],
      "execution_count": 14,
      "outputs": []
    },
    {
      "cell_type": "code",
      "metadata": {
        "colab": {
          "base_uri": "https://localhost:8080/"
        },
        "id": "hOfKPriA84jq",
        "outputId": "10faf847-f719-4dea-d1b4-ca549a421177"
      },
      "source": [
        "L_train, A_train, L_test, A_test = training(model, criterion, optimizer, training_epochs, train_loader, test_loader)"
      ],
      "execution_count": 15,
      "outputs": [
        {
          "output_type": "stream",
          "text": [
            "Epoch: 01 Training Loss: 1.107043147 Testing Loss: 0.236132964  Training Acc: 0.699511707 Testing Acc: 0.959624290\n",
            "Epoch: 02 Training Loss: 0.395495504 Testing Loss: 0.112441748  Training Acc: 0.902734399 Testing Acc: 0.970484197\n",
            "Epoch: 03 Training Loss: 0.263176978 Testing Loss: 0.168173403  Training Acc: 0.931542993 Testing Acc: 0.949977815\n",
            "Epoch: 04 Training Loss: 0.217313007 Testing Loss: 0.073577188  Training Acc: 0.941699207 Testing Acc: 0.977526546\n",
            "Epoch: 05 Training Loss: 0.182849422 Testing Loss: 0.066633105  Training Acc: 0.951074243 Testing Acc: 0.979532361\n",
            "Epoch: 06 Training Loss: 0.165380403 Testing Loss: 0.068324484  Training Acc: 0.955175817 Testing Acc: 0.979803801\n",
            "Epoch: 07 Training Loss: 0.167623535 Testing Loss: 0.064631782  Training Acc: 0.953515649 Testing Acc: 0.980546296\n",
            "Epoch: 08 Training Loss: 0.161342502 Testing Loss: 0.061378382  Training Acc: 0.956250012 Testing Acc: 0.981848359\n",
            "Epoch: 09 Training Loss: 0.143638059 Testing Loss: 0.056913354  Training Acc: 0.958593786 Testing Acc: 0.983333290\n",
            "Epoch: 10 Training Loss: 0.131102130 Testing Loss: 0.058644697  Training Acc: 0.960156262 Testing Acc: 0.982618511\n",
            "Epoch: 11 Training Loss: 0.122630909 Testing Loss: 0.058321696  Training Acc: 0.964160144 Testing Acc: 0.983477354\n",
            "Epoch: 12 Training Loss: 0.119456880 Testing Loss: 0.061640587  Training Acc: 0.967382848 Testing Acc: 0.981072664\n",
            "Epoch: 13 Training Loss: 0.112132870 Testing Loss: 0.053919040  Training Acc: 0.968652368 Testing Acc: 0.984048069\n",
            "Epoch: 14 Training Loss: 0.110416591 Testing Loss: 0.060050633  Training Acc: 0.971191406 Testing Acc: 0.982884467\n",
            "Epoch: 15 Training Loss: 0.110111825 Testing Loss: 0.055813938  Training Acc: 0.969042957 Testing Acc: 0.984103501\n",
            "Epoch: 16 Training Loss: 0.100936629 Testing Loss: 0.054518897  Training Acc: 0.973046899 Testing Acc: 0.984386086\n",
            "Epoch: 17 Training Loss: 0.091584243 Testing Loss: 0.050779585  Training Acc: 0.975292981 Testing Acc: 0.985477567\n",
            "Epoch: 18 Training Loss: 0.095849663 Testing Loss: 0.065744147  Training Acc: 0.972070336 Testing Acc: 0.982385814\n",
            "Epoch: 19 Training Loss: 0.118696652 Testing Loss: 0.052715294  Training Acc: 0.970019519 Testing Acc: 0.985189438\n",
            "Epoch: 20 Training Loss: 0.113557532 Testing Loss: 0.057036296  Training Acc: 0.967089832 Testing Acc: 0.984585524\n",
            "Epoch: 21 Training Loss: 0.110573284 Testing Loss: 0.058210850  Training Acc: 0.969921887 Testing Acc: 0.983948290\n",
            "Epoch: 22 Training Loss: 0.087375514 Testing Loss: 0.054198660  Training Acc: 0.975292981 Testing Acc: 0.985355675\n",
            "Epoch: 23 Training Loss: 0.083528608 Testing Loss: 0.053592309  Training Acc: 0.976269543 Testing Acc: 0.985776782\n",
            "Epoch: 24 Training Loss: 0.097600743 Testing Loss: 0.055139232  Training Acc: 0.969531238 Testing Acc: 0.984984457\n",
            "Epoch: 25 Training Loss: 0.123939037 Testing Loss: 0.052028403  Training Acc: 0.964648426 Testing Acc: 0.985555172\n",
            "Epoch: 26 Training Loss: 0.115746990 Testing Loss: 0.051860794  Training Acc: 0.967480481 Testing Acc: 0.985660434\n",
            "Epoch: 27 Training Loss: 0.084822051 Testing Loss: 0.049633242  Training Acc: 0.978027344 Testing Acc: 0.986458302\n",
            "Epoch: 28 Training Loss: 0.081878029 Testing Loss: 0.053223383  Training Acc: 0.978613317 Testing Acc: 0.985571802\n",
            "Epoch: 29 Training Loss: 0.088790990 Testing Loss: 0.051203966  Training Acc: 0.976269543 Testing Acc: 0.986391783\n",
            "Epoch: 30 Training Loss: 0.065740027 Testing Loss: 0.050480708  Training Acc: 0.980566442 Testing Acc: 0.986341953\n",
            "Epoch: 31 Training Loss: 0.071260594 Testing Loss: 0.048018437  Training Acc: 0.978125036 Testing Acc: 0.987067759\n",
            "Epoch: 32 Training Loss: 0.070603065 Testing Loss: 0.053945880  Training Acc: 0.980761707 Testing Acc: 0.985754609\n",
            "Epoch: 33 Training Loss: 0.073208295 Testing Loss: 0.050461378  Training Acc: 0.979101598 Testing Acc: 0.987488866\n",
            "Epoch: 34 Training Loss: 0.068341099 Testing Loss: 0.053259179  Training Acc: 0.981152356 Testing Acc: 0.986585736\n",
            "Epoch: 35 Training Loss: 0.072599463 Testing Loss: 0.051782489  Training Acc: 0.979296863 Testing Acc: 0.986940324\n",
            "Epoch: 36 Training Loss: 0.055395972 Testing Loss: 0.051612277  Training Acc: 0.984472692 Testing Acc: 0.986968040\n",
            "Epoch: 37 Training Loss: 0.059698958 Testing Loss: 0.048740823  Training Acc: 0.982714832 Testing Acc: 0.987455606\n",
            "Epoch: 38 Training Loss: 0.075737163 Testing Loss: 0.047266398  Training Acc: 0.975878894 Testing Acc: 0.987644076\n",
            "Epoch: 39 Training Loss: 0.089523397 Testing Loss: 0.057797782  Training Acc: 0.974609375 Testing Acc: 0.985521913\n",
            "Epoch: 40 Training Loss: 0.068025522 Testing Loss: 0.049339022  Training Acc: 0.982714832 Testing Acc: 0.986884952\n",
            "Epoch: 41 Training Loss: 0.068822972 Testing Loss: 0.052405976  Training Acc: 0.979980469 Testing Acc: 0.986497104\n",
            "Epoch: 42 Training Loss: 0.055563744 Testing Loss: 0.050131969  Training Acc: 0.983593762 Testing Acc: 0.986973584\n",
            "Epoch: 43 Training Loss: 0.064236023 Testing Loss: 0.046845995  Training Acc: 0.980566442 Testing Acc: 0.987932146\n",
            "Epoch: 44 Training Loss: 0.061774880 Testing Loss: 0.050454188  Training Acc: 0.982714832 Testing Acc: 0.987350345\n",
            "Epoch: 45 Training Loss: 0.054699060 Testing Loss: 0.047185253  Training Acc: 0.984960973 Testing Acc: 0.988198102\n",
            "Epoch: 46 Training Loss: 0.060321946 Testing Loss: 0.049264662  Training Acc: 0.981249988 Testing Acc: 0.987921059\n",
            "Epoch: 47 Training Loss: 0.072446808 Testing Loss: 0.047331821  Training Acc: 0.979101598 Testing Acc: 0.987588584\n",
            "Epoch: 48 Training Loss: 0.067429081 Testing Loss: 0.049182143  Training Acc: 0.978906274 Testing Acc: 0.987699449\n",
            "Epoch: 49 Training Loss: 0.062413841 Testing Loss: 0.053033423  Training Acc: 0.981933594 Testing Acc: 0.986923695\n",
            "Epoch: 50 Training Loss: 0.062762760 Testing Loss: 0.052011449  Training Acc: 0.980078161 Testing Acc: 0.987078905\n",
            "Epoch: 51 Training Loss: 0.063815802 Testing Loss: 0.048570611  Training Acc: 0.983398438 Testing Acc: 0.987605214\n",
            "Epoch: 52 Training Loss: 0.069608770 Testing Loss: 0.051543511  Training Acc: 0.981738269 Testing Acc: 0.987189651\n",
            "Epoch: 53 Training Loss: 0.059835996 Testing Loss: 0.051827807  Training Acc: 0.981738269 Testing Acc: 0.987267256\n",
            "Epoch: 54 Training Loss: 0.055972755 Testing Loss: 0.048105266  Training Acc: 0.983007848 Testing Acc: 0.988231361\n",
            "Epoch: 55 Training Loss: 0.062795214 Testing Loss: 0.054969944  Training Acc: 0.980468750 Testing Acc: 0.986790717\n",
            "Epoch: 56 Training Loss: 0.062096413 Testing Loss: 0.048503295  Training Acc: 0.981933594 Testing Acc: 0.988103867\n",
            "Epoch: 57 Training Loss: 0.053392272 Testing Loss: 0.046026953  Training Acc: 0.983007848 Testing Acc: 0.988669038\n",
            "Epoch: 58 Training Loss: 0.051180791 Testing Loss: 0.049185563  Training Acc: 0.984667957 Testing Acc: 0.988475144\n",
            "Epoch: 59 Training Loss: 0.049037751 Testing Loss: 0.048416764  Training Acc: 0.986132801 Testing Acc: 0.988303363\n",
            "Epoch: 60 Training Loss: 0.050245848 Testing Loss: 0.048459087  Training Acc: 0.986425817 Testing Acc: 0.988502800\n",
            "Epoch: 61 Training Loss: 0.058108207 Testing Loss: 0.046830434  Training Acc: 0.983886719 Testing Acc: 0.988796532\n",
            "Epoch: 62 Training Loss: 0.048110366 Testing Loss: 0.047718048  Training Acc: 0.984667957 Testing Acc: 0.988658011\n",
            "Epoch: 63 Training Loss: 0.044810671 Testing Loss: 0.050453868  Training Acc: 0.987792969 Testing Acc: 0.988187015\n",
            "Epoch: 64 Training Loss: 0.049107447 Testing Loss: 0.047533106  Training Acc: 0.984765649 Testing Acc: 0.988536060\n",
            "Epoch: 65 Training Loss: 0.063720666 Testing Loss: 0.046277482  Training Acc: 0.982324243 Testing Acc: 0.988513947\n",
            "Epoch: 66 Training Loss: 0.046042103 Testing Loss: 0.048454646  Training Acc: 0.986035168 Testing Acc: 0.988685668\n",
            "Epoch: 67 Training Loss: 0.055252999 Testing Loss: 0.053555649  Training Acc: 0.984570324 Testing Acc: 0.987527668\n",
            "Epoch: 68 Training Loss: 0.055148728 Testing Loss: 0.047822081  Training Acc: 0.985156238 Testing Acc: 0.988652408\n",
            "Epoch: 69 Training Loss: 0.058920562 Testing Loss: 0.047355201  Training Acc: 0.985742211 Testing Acc: 0.989212096\n",
            "Epoch: 70 Training Loss: 0.048665084 Testing Loss: 0.049389504  Training Acc: 0.984667957 Testing Acc: 0.988730013\n",
            "Epoch: 71 Training Loss: 0.050459802 Testing Loss: 0.054313440  Training Acc: 0.985351562 Testing Acc: 0.987505496\n",
            "Epoch: 72 Training Loss: 0.081786066 Testing Loss: 0.062434398  Training Acc: 0.978808582 Testing Acc: 0.986391783\n",
            "Epoch: 73 Training Loss: 0.074746393 Testing Loss: 0.052102797  Training Acc: 0.981445312 Testing Acc: 0.987837911\n",
            "Epoch: 74 Training Loss: 0.065489821 Testing Loss: 0.052327491  Training Acc: 0.980468750 Testing Acc: 0.987671733\n",
            "Epoch: 75 Training Loss: 0.052328862 Testing Loss: 0.048991013  Training Acc: 0.984375000 Testing Acc: 0.988380969\n",
            "Epoch: 76 Training Loss: 0.043489870 Testing Loss: 0.046394255  Training Acc: 0.986328125 Testing Acc: 0.988608122\n",
            "Epoch: 77 Training Loss: 0.045016862 Testing Loss: 0.045467742  Training Acc: 0.986328125 Testing Acc: 0.988962710\n",
            "Epoch: 78 Training Loss: 0.041085027 Testing Loss: 0.050421856  Training Acc: 0.988964856 Testing Acc: 0.988281190\n",
            "Epoch: 79 Training Loss: 0.042116240 Testing Loss: 0.050776809  Training Acc: 0.988574207 Testing Acc: 0.988464057\n",
            "Epoch: 80 Training Loss: 0.044235040 Testing Loss: 0.048367571  Training Acc: 0.987890661 Testing Acc: 0.988846362\n",
            "Epoch: 81 Training Loss: 0.039023049 Testing Loss: 0.050612640  Training Acc: 0.989941418 Testing Acc: 0.988519430\n",
            "Epoch: 82 Training Loss: 0.048727311 Testing Loss: 0.049811259  Training Acc: 0.984960973 Testing Acc: 0.988419712\n",
            "Epoch: 83 Training Loss: 0.060104873 Testing Loss: 0.051257759  Training Acc: 0.981738269 Testing Acc: 0.988115013\n",
            "Epoch: 84 Training Loss: 0.046394497 Testing Loss: 0.052791368  Training Acc: 0.986328125 Testing Acc: 0.987887800\n",
            "Epoch: 85 Training Loss: 0.065884851 Testing Loss: 0.049272742  Training Acc: 0.981152356 Testing Acc: 0.988574922\n",
            "Epoch: 86 Training Loss: 0.058941122 Testing Loss: 0.048424240  Training Acc: 0.983886719 Testing Acc: 0.988358796\n",
            "Epoch: 87 Training Loss: 0.044421662 Testing Loss: 0.046744224  Training Acc: 0.986718774 Testing Acc: 0.988630295\n",
            "Epoch: 88 Training Loss: 0.056666005 Testing Loss: 0.055506125  Training Acc: 0.985839844 Testing Acc: 0.987123191\n",
            "Epoch: 89 Training Loss: 0.077353872 Testing Loss: 0.053524990  Training Acc: 0.979785144 Testing Acc: 0.987256169\n",
            "Epoch: 90 Training Loss: 0.061002892 Testing Loss: 0.051158436  Training Acc: 0.984082043 Testing Acc: 0.987716079\n",
            "Epoch: 91 Training Loss: 0.039824925 Testing Loss: 0.050089199  Training Acc: 0.988867223 Testing Acc: 0.988297820\n",
            "Epoch: 92 Training Loss: 0.042292349 Testing Loss: 0.048116036  Training Acc: 0.987402380 Testing Acc: 0.988862991\n",
            "Epoch: 93 Training Loss: 0.044955302 Testing Loss: 0.044149794  Training Acc: 0.986621082 Testing Acc: 0.989588857\n",
            "Epoch: 94 Training Loss: 0.074034125 Testing Loss: 0.053447478  Training Acc: 0.978417993 Testing Acc: 0.988247991\n",
            "Epoch: 95 Training Loss: 0.047139782 Testing Loss: 0.050206095  Training Acc: 0.987402380 Testing Acc: 0.988602579\n",
            "Epoch: 96 Training Loss: 0.046245132 Testing Loss: 0.049200311  Training Acc: 0.986132801 Testing Acc: 0.988962710\n",
            "Epoch: 97 Training Loss: 0.057032611 Testing Loss: 0.048941344  Training Acc: 0.982910156 Testing Acc: 0.988696754\n",
            "Epoch: 98 Training Loss: 0.043594997 Testing Loss: 0.050849862  Training Acc: 0.985937536 Testing Acc: 0.988170385\n",
            "Epoch: 99 Training Loss: 0.062287170 Testing Loss: 0.058150131  Training Acc: 0.983789086 Testing Acc: 0.987001300\n",
            "Epoch: 100 Training Loss: 0.047031585 Testing Loss: 0.049893185  Training Acc: 0.985937536 Testing Acc: 0.988054037\n",
            "Epoch: 101 Training Loss: 0.063285835 Testing Loss: 0.050368417  Training Acc: 0.985156238 Testing Acc: 0.988264620\n",
            "Epoch: 102 Training Loss: 0.047984365 Testing Loss: 0.050154347  Training Acc: 0.985644519 Testing Acc: 0.988613665\n",
            "Epoch: 103 Training Loss: 0.037995744 Testing Loss: 0.047650989  Training Acc: 0.988183618 Testing Acc: 0.988785386\n",
            "Epoch: 104 Training Loss: 0.037122548 Testing Loss: 0.046326634  Training Acc: 0.988867223 Testing Acc: 0.989151120\n",
            "Epoch: 105 Training Loss: 0.040222656 Testing Loss: 0.046305351  Training Acc: 0.989355505 Testing Acc: 0.989162207\n",
            "Epoch: 106 Training Loss: 0.045892160 Testing Loss: 0.051761288  Training Acc: 0.988183618 Testing Acc: 0.988231361\n",
            "Epoch: 107 Training Loss: 0.072029606 Testing Loss: 0.058216110  Training Acc: 0.982519567 Testing Acc: 0.987416863\n",
            "Epoch: 108 Training Loss: 0.079925105 Testing Loss: 0.052756462  Training Acc: 0.981249988 Testing Acc: 0.988220274\n",
            "Epoch: 109 Training Loss: 0.064572714 Testing Loss: 0.050212342  Training Acc: 0.980957031 Testing Acc: 0.987915516\n",
            "Epoch: 110 Training Loss: 0.060040664 Testing Loss: 0.047592834  Training Acc: 0.982617199 Testing Acc: 0.988790989\n",
            "Epoch: 111 Training Loss: 0.048533123 Testing Loss: 0.047658339  Training Acc: 0.986425817 Testing Acc: 0.989250839\n",
            "Epoch: 112 Training Loss: 0.039156336 Testing Loss: 0.047819793  Training Acc: 0.988281250 Testing Acc: 0.989034772\n",
            "Epoch: 113 Training Loss: 0.035860691 Testing Loss: 0.043964721  Training Acc: 0.988964856 Testing Acc: 0.989810467\n",
            "Epoch: 114 Training Loss: 0.057091247 Testing Loss: 0.055166889  Training Acc: 0.986132801 Testing Acc: 0.988198102\n",
            "Epoch: 115 Training Loss: 0.072542332 Testing Loss: 0.053695180  Training Acc: 0.982226551 Testing Acc: 0.988325596\n",
            "Epoch: 116 Training Loss: 0.052089907 Testing Loss: 0.050829407  Training Acc: 0.983886719 Testing Acc: 0.988131642\n",
            "Epoch: 117 Training Loss: 0.044578210 Testing Loss: 0.049328405  Training Acc: 0.988183618 Testing Acc: 0.988779902\n",
            "Epoch: 118 Training Loss: 0.036986753 Testing Loss: 0.050352413  Training Acc: 0.989941418 Testing Acc: 0.988995969\n",
            "Epoch: 119 Training Loss: 0.037546374 Testing Loss: 0.049223103  Training Acc: 0.990234375 Testing Acc: 0.989228666\n",
            "Epoch: 120 Training Loss: 0.037517808 Testing Loss: 0.046174835  Training Acc: 0.987890661 Testing Acc: 0.989583254\n",
            "Epoch: 121 Training Loss: 0.032178234 Testing Loss: 0.048981335  Training Acc: 0.990332067 Testing Acc: 0.989533424\n",
            "Epoch: 122 Training Loss: 0.052644271 Testing Loss: 0.047434859  Training Acc: 0.987792969 Testing Acc: 0.989810467\n",
            "Epoch: 123 Training Loss: 0.037777569 Testing Loss: 0.047607165  Training Acc: 0.989160180 Testing Acc: 0.989533424\n",
            "Epoch: 124 Training Loss: 0.032428067 Testing Loss: 0.047669537  Training Acc: 0.992187500 Testing Acc: 0.989588857\n",
            "Epoch: 125 Training Loss: 0.045543708 Testing Loss: 0.047385786  Training Acc: 0.986132801 Testing Acc: 0.989372790\n",
            "Epoch: 126 Training Loss: 0.054886866 Testing Loss: 0.054201707  Training Acc: 0.986914098 Testing Acc: 0.987799168\n",
            "Epoch: 127 Training Loss: 0.036262482 Testing Loss: 0.048950378  Training Acc: 0.989257812 Testing Acc: 0.989422619\n",
            "Epoch: 128 Training Loss: 0.034927208 Testing Loss: 0.047273237  Training Acc: 0.991113305 Testing Acc: 0.989394903\n",
            "Epoch: 129 Training Loss: 0.032736104 Testing Loss: 0.045825832  Training Acc: 0.989453137 Testing Acc: 0.989744008\n",
            "Epoch: 130 Training Loss: 0.033041637 Testing Loss: 0.046668179  Training Acc: 0.989355505 Testing Acc: 0.989727378\n",
            "Epoch: 131 Training Loss: 0.045436244 Testing Loss: 0.056706700  Training Acc: 0.989746094 Testing Acc: 0.988192558\n",
            "Epoch: 132 Training Loss: 0.041224003 Testing Loss: 0.054412890  Training Acc: 0.988281250 Testing Acc: 0.988126099\n",
            "Epoch: 133 Training Loss: 0.058469404 Testing Loss: 0.052169371  Training Acc: 0.984570324 Testing Acc: 0.989300728\n",
            "Epoch: 134 Training Loss: 0.084822498 Testing Loss: 0.051349025  Training Acc: 0.983007848 Testing Acc: 0.988242447\n",
            "Epoch: 135 Training Loss: 0.045995604 Testing Loss: 0.047922473  Training Acc: 0.985644519 Testing Acc: 0.988752186\n",
            "Epoch: 136 Training Loss: 0.036043912 Testing Loss: 0.046266437  Training Acc: 0.989453137 Testing Acc: 0.989228666\n",
            "Epoch: 137 Training Loss: 0.035855561 Testing Loss: 0.047341149  Training Acc: 0.988378942 Testing Acc: 0.989550054\n",
            "Epoch: 138 Training Loss: 0.047683176 Testing Loss: 0.048768796  Training Acc: 0.986816406 Testing Acc: 0.988602579\n",
            "Epoch: 139 Training Loss: 0.038564898 Testing Loss: 0.050752889  Training Acc: 0.988476574 Testing Acc: 0.988779902\n",
            "Epoch: 140 Training Loss: 0.033853870 Testing Loss: 0.047981754  Training Acc: 0.990722656 Testing Acc: 0.989084601\n",
            "Epoch: 141 Training Loss: 0.042471990 Testing Loss: 0.048555337  Training Acc: 0.987500012 Testing Acc: 0.988918364\n",
            "Epoch: 142 Training Loss: 0.035466027 Testing Loss: 0.050468374  Training Acc: 0.989355505 Testing Acc: 0.988696754\n",
            "Epoch: 143 Training Loss: 0.034345280 Testing Loss: 0.051070202  Training Acc: 0.991796911 Testing Acc: 0.989084601\n",
            "Epoch: 144 Training Loss: 0.038527846 Testing Loss: 0.049727067  Training Acc: 0.988867223 Testing Acc: 0.989117861\n",
            "Epoch: 145 Training Loss: 0.032885097 Testing Loss: 0.047833785  Training Acc: 0.988769531 Testing Acc: 0.989500165\n",
            "Epoch: 146 Training Loss: 0.029273910 Testing Loss: 0.049697679  Training Acc: 0.990429699 Testing Acc: 0.989228666\n",
            "Epoch: 147 Training Loss: 0.033561524 Testing Loss: 0.046806928  Training Acc: 0.990527332 Testing Acc: 0.989876986\n",
            "Epoch: 148 Training Loss: 0.025669429 Testing Loss: 0.046869200  Training Acc: 0.992968738 Testing Acc: 0.989849210\n",
            "Epoch: 149 Training Loss: 0.033626270 Testing Loss: 0.048812047  Training Acc: 0.990820348 Testing Acc: 0.989860356\n",
            "Epoch: 150 Training Loss: 0.047825828 Testing Loss: 0.052825719  Training Acc: 0.986328125 Testing Acc: 0.988824248\n",
            "Epoch: 151 Training Loss: 0.041484021 Testing Loss: 0.050392751  Training Acc: 0.988574207 Testing Acc: 0.988995969\n",
            "Epoch: 152 Training Loss: 0.039756570 Testing Loss: 0.051882587  Training Acc: 0.989062488 Testing Acc: 0.988513947\n",
            "Epoch: 153 Training Loss: 0.035426714 Testing Loss: 0.046959274  Training Acc: 0.990234375 Testing Acc: 0.989494622\n",
            "Epoch: 154 Training Loss: 0.029031366 Testing Loss: 0.047499485  Training Acc: 0.991699219 Testing Acc: 0.989660859\n",
            "Epoch: 155 Training Loss: 0.028875811 Testing Loss: 0.047324061  Training Acc: 0.991601586 Testing Acc: 0.989561141\n",
            "Epoch: 156 Training Loss: 0.026033277 Testing Loss: 0.050369430  Training Acc: 0.992871106 Testing Acc: 0.989550054\n",
            "Epoch: 157 Training Loss: 0.031138828 Testing Loss: 0.046988029  Training Acc: 0.989941418 Testing Acc: 0.989760578\n",
            "Epoch: 158 Training Loss: 0.033341300 Testing Loss: 0.047649160  Training Acc: 0.991406262 Testing Acc: 0.989627600\n",
            "Epoch: 159 Training Loss: 0.031898689 Testing Loss: 0.048596293  Training Acc: 0.990722656 Testing Acc: 0.989350557\n",
            "Epoch: 160 Training Loss: 0.039730173 Testing Loss: 0.048058439  Training Acc: 0.987792969 Testing Acc: 0.989599884\n",
            "Epoch: 161 Training Loss: 0.028227443 Testing Loss: 0.049883071  Training Acc: 0.990722656 Testing Acc: 0.989727378\n",
            "Epoch: 162 Training Loss: 0.037079982 Testing Loss: 0.047499709  Training Acc: 0.990722656 Testing Acc: 0.989943445\n",
            "Epoch: 163 Training Loss: 0.036743384 Testing Loss: 0.050369609  Training Acc: 0.988867223 Testing Acc: 0.989345074\n",
            "Epoch: 164 Training Loss: 0.033519387 Testing Loss: 0.051552154  Training Acc: 0.989843786 Testing Acc: 0.988901794\n",
            "Epoch: 165 Training Loss: 0.029303161 Testing Loss: 0.047433373  Training Acc: 0.991699219 Testing Acc: 0.989960074\n",
            "Epoch: 166 Training Loss: 0.034507465 Testing Loss: 0.045710541  Training Acc: 0.990625024 Testing Acc: 0.990641594\n",
            "Epoch: 167 Training Loss: 0.042533930 Testing Loss: 0.049654420  Training Acc: 0.987304688 Testing Acc: 0.989500165\n",
            "Epoch: 168 Training Loss: 0.027038682 Testing Loss: 0.045725960  Training Acc: 0.991699219 Testing Acc: 0.990480900\n",
            "Epoch: 169 Training Loss: 0.027434690 Testing Loss: 0.048184704  Training Acc: 0.992285192 Testing Acc: 0.989910185\n",
            "Epoch: 170 Training Loss: 0.032895356 Testing Loss: 0.044973403  Training Acc: 0.990429699 Testing Acc: 0.990431011\n",
            "Epoch: 171 Training Loss: 0.031924885 Testing Loss: 0.047720660  Training Acc: 0.992382824 Testing Acc: 0.989816010\n",
            "Epoch: 172 Training Loss: 0.022784593 Testing Loss: 0.046956681  Training Acc: 0.993164062 Testing Acc: 0.990165055\n",
            "Epoch: 173 Training Loss: 0.023381682 Testing Loss: 0.050819036  Training Acc: 0.992578149 Testing Acc: 0.989356160\n",
            "Epoch: 174 Training Loss: 0.028898433 Testing Loss: 0.048565622  Training Acc: 0.991308630 Testing Acc: 0.990109682\n",
            "Epoch: 175 Training Loss: 0.024576046 Testing Loss: 0.049760573  Training Acc: 0.992285192 Testing Acc: 0.989699662\n",
            "Epoch: 176 Training Loss: 0.033242919 Testing Loss: 0.046469148  Training Acc: 0.990429699 Testing Acc: 0.990131795\n",
            "Epoch: 177 Training Loss: 0.033162933 Testing Loss: 0.054974306  Training Acc: 0.990332067 Testing Acc: 0.988929510\n",
            "Epoch: 178 Training Loss: 0.031401183 Testing Loss: 0.049897663  Training Acc: 0.991894543 Testing Acc: 0.989910185\n",
            "Epoch: 179 Training Loss: 0.047376286 Testing Loss: 0.055019680  Training Acc: 0.990136743 Testing Acc: 0.989007056\n",
            "Epoch: 180 Training Loss: 0.056475788 Testing Loss: 0.053301599  Training Acc: 0.984960973 Testing Acc: 0.988486230\n",
            "Epoch: 181 Training Loss: 0.046912894 Testing Loss: 0.050863910  Training Acc: 0.985937536 Testing Acc: 0.988641381\n",
            "Epoch: 182 Training Loss: 0.039837029 Testing Loss: 0.048684895  Training Acc: 0.987695336 Testing Acc: 0.989328444\n",
            "Epoch: 183 Training Loss: 0.043335762 Testing Loss: 0.048866190  Training Acc: 0.987304688 Testing Acc: 0.989051342\n",
            "Epoch: 184 Training Loss: 0.049672481 Testing Loss: 0.055289105  Training Acc: 0.985644519 Testing Acc: 0.987849057\n",
            "Epoch: 185 Training Loss: 0.040690433 Testing Loss: 0.054808248  Training Acc: 0.989160180 Testing Acc: 0.988286734\n",
            "Epoch: 186 Training Loss: 0.049467396 Testing Loss: 0.054793306  Training Acc: 0.985449255 Testing Acc: 0.988225818\n",
            "Epoch: 187 Training Loss: 0.054857802 Testing Loss: 0.049307600  Training Acc: 0.985546887 Testing Acc: 0.989145577\n",
            "Epoch: 188 Training Loss: 0.038667675 Testing Loss: 0.042179469  Training Acc: 0.987304688 Testing Acc: 0.990043163\n",
            "Epoch: 189 Training Loss: 0.033721521 Testing Loss: 0.048471455  Training Acc: 0.989257812 Testing Acc: 0.989245296\n",
            "Epoch: 190 Training Loss: 0.030970825 Testing Loss: 0.049167454  Training Acc: 0.990722656 Testing Acc: 0.989333928\n",
            "Epoch: 191 Training Loss: 0.026966160 Testing Loss: 0.046304613  Training Acc: 0.992285192 Testing Acc: 0.990065336\n",
            "Epoch: 192 Training Loss: 0.024821389 Testing Loss: 0.046762273  Training Acc: 0.993164062 Testing Acc: 0.990347922\n",
            "Epoch: 193 Training Loss: 0.025442129 Testing Loss: 0.048062108  Training Acc: 0.993066430 Testing Acc: 0.989827096\n",
            "Epoch: 194 Training Loss: 0.030046893 Testing Loss: 0.048116863  Training Acc: 0.992187500 Testing Acc: 0.989644229\n",
            "Epoch: 195 Training Loss: 0.025760969 Testing Loss: 0.046754569  Training Acc: 0.992675781 Testing Acc: 0.990015447\n",
            "Epoch: 196 Training Loss: 0.034906454 Testing Loss: 0.053977095  Training Acc: 0.987890661 Testing Acc: 0.989162207\n",
            "Epoch: 197 Training Loss: 0.061815202 Testing Loss: 0.053851161  Training Acc: 0.985742211 Testing Acc: 0.988862991\n",
            "Epoch: 198 Training Loss: 0.045383014 Testing Loss: 0.052631225  Training Acc: 0.987207055 Testing Acc: 0.988984883\n",
            "Epoch: 199 Training Loss: 0.037577089 Testing Loss: 0.047306448  Training Acc: 0.990136743 Testing Acc: 0.989793837\n",
            "Epoch: 200 Training Loss: 0.031984400 Testing Loss: 0.046756037  Training Acc: 0.990429699 Testing Acc: 0.990442097\n",
            "Epoch: 201 Training Loss: 0.030341852 Testing Loss: 0.047986254  Training Acc: 0.990332067 Testing Acc: 0.989948988\n",
            "Epoch: 202 Training Loss: 0.036119796 Testing Loss: 0.050489400  Training Acc: 0.990625024 Testing Acc: 0.989350557\n",
            "Epoch: 203 Training Loss: 0.033020657 Testing Loss: 0.048175585  Training Acc: 0.990332067 Testing Acc: 0.989993334\n",
            "Epoch: 204 Training Loss: 0.025566051 Testing Loss: 0.047407329  Training Acc: 0.992089868 Testing Acc: 0.989943445\n",
            "Epoch: 205 Training Loss: 0.027980918 Testing Loss: 0.047532056  Training Acc: 0.991699219 Testing Acc: 0.989993334\n",
            "Epoch: 206 Training Loss: 0.028828744 Testing Loss: 0.046380743  Training Acc: 0.989160180 Testing Acc: 0.990264773\n",
            "Epoch: 207 Training Loss: 0.024461536 Testing Loss: 0.048549868  Training Acc: 0.992578149 Testing Acc: 0.990076423\n",
            "Epoch: 208 Training Loss: 0.024383100 Testing Loss: 0.048855044  Training Acc: 0.992382824 Testing Acc: 0.990248203\n",
            "Epoch: 209 Training Loss: 0.026451273 Testing Loss: 0.048880428  Training Acc: 0.992675781 Testing Acc: 0.990281403\n",
            "Epoch: 210 Training Loss: 0.027485479 Testing Loss: 0.049833503  Training Acc: 0.992285192 Testing Acc: 0.989694118\n",
            "Epoch: 211 Training Loss: 0.037729170 Testing Loss: 0.051081859  Training Acc: 0.991113305 Testing Acc: 0.989799380\n",
            "Epoch: 212 Training Loss: 0.041013218 Testing Loss: 0.051062603  Training Acc: 0.988378942 Testing Acc: 0.989167750\n",
            "Epoch: 213 Training Loss: 0.045382969 Testing Loss: 0.051639821  Training Acc: 0.990234375 Testing Acc: 0.989710748\n",
            "Epoch: 214 Training Loss: 0.034568209 Testing Loss: 0.050877623  Training Acc: 0.989257812 Testing Acc: 0.989683032\n",
            "Epoch: 215 Training Loss: 0.044373017 Testing Loss: 0.052190736  Training Acc: 0.989648461 Testing Acc: 0.989184320\n",
            "Epoch: 216 Training Loss: 0.036782373 Testing Loss: 0.052854057  Training Acc: 0.989062488 Testing Acc: 0.988796532\n",
            "Epoch: 217 Training Loss: 0.031970810 Testing Loss: 0.046980526  Training Acc: 0.991113305 Testing Acc: 0.989926815\n",
            "Epoch: 218 Training Loss: 0.025827615 Testing Loss: 0.048117876  Training Acc: 0.992285192 Testing Acc: 0.989926815\n",
            "Epoch: 219 Training Loss: 0.021873826 Testing Loss: 0.047482278  Training Acc: 0.993261755 Testing Acc: 0.990226030\n",
            "Epoch: 220 Training Loss: 0.024446458 Testing Loss: 0.052141223  Training Acc: 0.993750036 Testing Acc: 0.989871442\n",
            "Epoch: 221 Training Loss: 0.029651409 Testing Loss: 0.047126729  Training Acc: 0.990917981 Testing Acc: 0.990342379\n",
            "Epoch: 222 Training Loss: 0.041831225 Testing Loss: 0.047858123  Training Acc: 0.987792969 Testing Acc: 0.990165055\n",
            "Epoch: 223 Training Loss: 0.032311041 Testing Loss: 0.052145969  Training Acc: 0.991503894 Testing Acc: 0.989527881\n",
            "Epoch: 224 Training Loss: 0.027209824 Testing Loss: 0.052437637  Training Acc: 0.992089868 Testing Acc: 0.989317298\n",
            "Epoch: 225 Training Loss: 0.023611650 Testing Loss: 0.049018633  Training Acc: 0.992773473 Testing Acc: 0.990032077\n",
            "Epoch: 226 Training Loss: 0.034857057 Testing Loss: 0.050035536  Training Acc: 0.992382824 Testing Acc: 0.990176141\n",
            "Epoch: 227 Training Loss: 0.029161030 Testing Loss: 0.051032212  Training Acc: 0.991015613 Testing Acc: 0.989527881\n",
            "Epoch: 228 Training Loss: 0.028154233 Testing Loss: 0.048935883  Training Acc: 0.991308630 Testing Acc: 0.990043163\n",
            "Epoch: 229 Training Loss: 0.043464523 Testing Loss: 0.050590489  Training Acc: 0.988574207 Testing Acc: 0.989915729\n",
            "Epoch: 230 Training Loss: 0.059159230 Testing Loss: 0.067780159  Training Acc: 0.984960973 Testing Acc: 0.987743795\n",
            "Epoch: 231 Training Loss: 0.043591611 Testing Loss: 0.053001076  Training Acc: 0.986718774 Testing Acc: 0.988862991\n",
            "Epoch: 232 Training Loss: 0.032618564 Testing Loss: 0.051428173  Training Acc: 0.990429699 Testing Acc: 0.989483535\n",
            "Epoch: 233 Training Loss: 0.034168750 Testing Loss: 0.053496782  Training Acc: 0.991992176 Testing Acc: 0.989156663\n",
            "Epoch: 234 Training Loss: 0.050730851 Testing Loss: 0.049960554  Training Acc: 0.981152356 Testing Acc: 0.989744008\n",
            "Epoch: 235 Training Loss: 0.052742101 Testing Loss: 0.058845136  Training Acc: 0.985742211 Testing Acc: 0.987677276\n",
            "Epoch: 236 Training Loss: 0.034459881 Testing Loss: 0.052134611  Training Acc: 0.989648461 Testing Acc: 0.989079118\n",
            "Epoch: 237 Training Loss: 0.035005953 Testing Loss: 0.049869217  Training Acc: 0.991894543 Testing Acc: 0.989300728\n",
            "Epoch: 238 Training Loss: 0.028986657 Testing Loss: 0.049900513  Training Acc: 0.991601586 Testing Acc: 0.989544511\n",
            "Epoch: 239 Training Loss: 0.025210833 Testing Loss: 0.051153187  Training Acc: 0.992871106 Testing Acc: 0.989367187\n",
            "Epoch: 240 Training Loss: 0.022311246 Testing Loss: 0.049018607  Training Acc: 0.993164062 Testing Acc: 0.989738464\n",
            "Epoch: 241 Training Loss: 0.021630943 Testing Loss: 0.050675735  Training Acc: 0.993945301 Testing Acc: 0.989677489\n",
            "Epoch: 242 Training Loss: 0.041312572 Testing Loss: 0.052604470  Training Acc: 0.988378942 Testing Acc: 0.989378273\n",
            "Epoch: 243 Training Loss: 0.055026080 Testing Loss: 0.053972822  Training Acc: 0.983496130 Testing Acc: 0.989090204\n",
            "Epoch: 244 Training Loss: 0.038220551 Testing Loss: 0.053056963  Training Acc: 0.988378942 Testing Acc: 0.988984883\n",
            "Epoch: 245 Training Loss: 0.034176040 Testing Loss: 0.050332773  Training Acc: 0.990039051 Testing Acc: 0.989178836\n",
            "Epoch: 246 Training Loss: 0.032328062 Testing Loss: 0.048834078  Training Acc: 0.991894543 Testing Acc: 0.989261925\n",
            "Epoch: 247 Training Loss: 0.035773456 Testing Loss: 0.047825992  Training Acc: 0.990917981 Testing Acc: 0.989494622\n",
            "Epoch: 248 Training Loss: 0.026896089 Testing Loss: 0.052333493  Training Acc: 0.991894543 Testing Acc: 0.988613665\n",
            "Epoch: 249 Training Loss: 0.028891832 Testing Loss: 0.052391268  Training Acc: 0.990625024 Testing Acc: 0.989239812\n",
            "Epoch: 250 Training Loss: 0.030417262 Testing Loss: 0.050244227  Training Acc: 0.991699219 Testing Acc: 0.989328444\n",
            "Epoch: 251 Training Loss: 0.048564363 Testing Loss: 0.055892531  Training Acc: 0.990820348 Testing Acc: 0.988663554\n",
            "Epoch: 252 Training Loss: 0.032886654 Testing Loss: 0.053991754  Training Acc: 0.989550769 Testing Acc: 0.988680184\n",
            "Epoch: 253 Training Loss: 0.049357839 Testing Loss: 0.052167319  Training Acc: 0.988476574 Testing Acc: 0.989145577\n",
            "Epoch: 254 Training Loss: 0.052110821 Testing Loss: 0.051024027  Training Acc: 0.986425817 Testing Acc: 0.988569319\n",
            "Epoch: 255 Training Loss: 0.042318210 Testing Loss: 0.048938502  Training Acc: 0.989257812 Testing Acc: 0.989112318\n",
            "Epoch: 256 Training Loss: 0.029617608 Testing Loss: 0.047046512  Training Acc: 0.991699219 Testing Acc: 0.989577770\n",
            "Epoch: 257 Training Loss: 0.028447142 Testing Loss: 0.045769669  Training Acc: 0.991406262 Testing Acc: 0.989804983\n",
            "Epoch: 258 Training Loss: 0.026333628 Testing Loss: 0.045960605  Training Acc: 0.993945301 Testing Acc: 0.989932358\n",
            "Epoch: 259 Training Loss: 0.028598523 Testing Loss: 0.047483675  Training Acc: 0.992285192 Testing Acc: 0.989793837\n",
            "Epoch: 260 Training Loss: 0.036316317 Testing Loss: 0.047239281  Training Acc: 0.989355505 Testing Acc: 0.989976704\n",
            "Epoch: 261 Training Loss: 0.034541365 Testing Loss: 0.048358623  Training Acc: 0.990625024 Testing Acc: 0.989550054\n",
            "Epoch: 262 Training Loss: 0.027376324 Testing Loss: 0.045973435  Training Acc: 0.991210938 Testing Acc: 0.990209401\n",
            "Epoch: 263 Training Loss: 0.023331804 Testing Loss: 0.047583338  Training Acc: 0.993945301 Testing Acc: 0.990076423\n",
            "Epoch: 264 Training Loss: 0.027667437 Testing Loss: 0.047623336  Training Acc: 0.991406262 Testing Acc: 0.990176141\n",
            "Epoch: 265 Training Loss: 0.093156658 Testing Loss: 0.050425533  Training Acc: 0.990722656 Testing Acc: 0.989544511\n",
            "Epoch: 266 Training Loss: 0.036319703 Testing Loss: 0.049959742  Training Acc: 0.989257812 Testing Acc: 0.989666402\n",
            "Epoch: 267 Training Loss: 0.052609395 Testing Loss: 0.051165070  Training Acc: 0.988867223 Testing Acc: 0.989128947\n",
            "Epoch: 268 Training Loss: 0.066357389 Testing Loss: 0.054486424  Training Acc: 0.983789086 Testing Acc: 0.988331079\n",
            "Epoch: 269 Training Loss: 0.054413985 Testing Loss: 0.054581832  Training Acc: 0.983496130 Testing Acc: 0.988319993\n",
            "Epoch: 270 Training Loss: 0.049565341 Testing Loss: 0.049262341  Training Acc: 0.984765649 Testing Acc: 0.989128947\n",
            "Epoch: 271 Training Loss: 0.042957079 Testing Loss: 0.047940314  Training Acc: 0.989062488 Testing Acc: 0.989483535\n",
            "Epoch: 272 Training Loss: 0.034345709 Testing Loss: 0.048212990  Training Acc: 0.990136743 Testing Acc: 0.989538968\n",
            "Epoch: 273 Training Loss: 0.038346786 Testing Loss: 0.047771409  Training Acc: 0.986621082 Testing Acc: 0.990043163\n",
            "Epoch: 274 Training Loss: 0.033686329 Testing Loss: 0.052642219  Training Acc: 0.989941418 Testing Acc: 0.988929510\n",
            "Epoch: 275 Training Loss: 0.027468769 Testing Loss: 0.048365440  Training Acc: 0.992382824 Testing Acc: 0.989527881\n",
            "Epoch: 276 Training Loss: 0.023547238 Testing Loss: 0.047273751  Training Acc: 0.993554711 Testing Acc: 0.990131795\n",
            "Epoch: 277 Training Loss: 0.024276404 Testing Loss: 0.049180172  Training Acc: 0.992285192 Testing Acc: 0.990104139\n",
            "Epoch: 278 Training Loss: 0.023467144 Testing Loss: 0.048927736  Training Acc: 0.992480457 Testing Acc: 0.989943445\n",
            "Epoch: 279 Training Loss: 0.023084447 Testing Loss: 0.046932310  Training Acc: 0.992871106 Testing Acc: 0.990331292\n",
            "Epoch: 280 Training Loss: 0.020474451 Testing Loss: 0.050629895  Training Acc: 0.994531274 Testing Acc: 0.989727378\n",
            "Epoch: 281 Training Loss: 0.038025849 Testing Loss: 0.048197318  Training Acc: 0.990039051 Testing Acc: 0.990203917\n",
            "Epoch: 282 Training Loss: 0.030485302 Testing Loss: 0.049779240  Training Acc: 0.990722656 Testing Acc: 0.990109682\n",
            "Epoch: 283 Training Loss: 0.029091854 Testing Loss: 0.051531158  Training Acc: 0.990917981 Testing Acc: 0.989500165\n",
            "Epoch: 284 Training Loss: 0.026226724 Testing Loss: 0.049882229  Training Acc: 0.992968738 Testing Acc: 0.989960074\n",
            "Epoch: 285 Training Loss: 0.025964776 Testing Loss: 0.049484845  Training Acc: 0.992089868 Testing Acc: 0.990015447\n",
            "Epoch: 286 Training Loss: 0.021145726 Testing Loss: 0.051954307  Training Acc: 0.992871106 Testing Acc: 0.989705205\n",
            "Epoch: 287 Training Loss: 0.077129126 Testing Loss: 0.050522033  Training Acc: 0.988574207 Testing Acc: 0.989727378\n",
            "Epoch: 288 Training Loss: 0.033881031 Testing Loss: 0.052665245  Training Acc: 0.990429699 Testing Acc: 0.989383817\n",
            "Epoch: 289 Training Loss: 0.025972579 Testing Loss: 0.047027972  Training Acc: 0.991992176 Testing Acc: 0.990165055\n",
            "Epoch: 290 Training Loss: 0.017863005 Testing Loss: 0.048897032  Training Acc: 0.995019555 Testing Acc: 0.990309119\n",
            "Epoch: 291 Training Loss: 0.020917481 Testing Loss: 0.046208732  Training Acc: 0.991796911 Testing Acc: 0.990663707\n",
            "Epoch: 292 Training Loss: 0.017285882 Testing Loss: 0.049294524  Training Acc: 0.994531274 Testing Acc: 0.990270376\n",
            "Epoch: 293 Training Loss: 0.017271301 Testing Loss: 0.051631171  Training Acc: 0.995605469 Testing Acc: 0.990386724\n",
            "Epoch: 294 Training Loss: 0.033769526 Testing Loss: 0.052495200  Training Acc: 0.993457019 Testing Acc: 0.990226030\n",
            "Epoch: 295 Training Loss: 0.022764904 Testing Loss: 0.050852485  Training Acc: 0.992871106 Testing Acc: 0.989749491\n",
            "Epoch: 296 Training Loss: 0.020276638 Testing Loss: 0.048365209  Training Acc: 0.994042993 Testing Acc: 0.990503073\n",
            "Epoch: 297 Training Loss: 0.016376864 Testing Loss: 0.052447263  Training Acc: 0.995410144 Testing Acc: 0.990065336\n",
            "Epoch: 298 Training Loss: 0.021284459 Testing Loss: 0.049085416  Training Acc: 0.994238317 Testing Acc: 0.990170658\n",
            "Epoch: 299 Training Loss: 0.017146664 Testing Loss: 0.047496844  Training Acc: 0.995410144 Testing Acc: 0.990392268\n",
            "Epoch: 300 Training Loss: 0.016415959 Testing Loss: 0.047992818  Training Acc: 0.994433582 Testing Acc: 0.990636051\n",
            "Epoch: 301 Training Loss: 0.016254969 Testing Loss: 0.046792619  Training Acc: 0.995117188 Testing Acc: 0.990929663\n",
            "Epoch: 302 Training Loss: 0.016240587 Testing Loss: 0.048989300  Training Acc: 0.994921863 Testing Acc: 0.990669310\n",
            "Epoch: 303 Training Loss: 0.024168452 Testing Loss: 0.050625019  Training Acc: 0.993359387 Testing Acc: 0.990408897\n",
            "Epoch: 304 Training Loss: 0.042131282 Testing Loss: 0.053959630  Training Acc: 0.990136743 Testing Acc: 0.989261925\n",
            "Epoch: 305 Training Loss: 0.034913979 Testing Loss: 0.052164152  Training Acc: 0.990429699 Testing Acc: 0.989672005\n",
            "Epoch: 306 Training Loss: 0.018733168 Testing Loss: 0.051107362  Training Acc: 0.994531274 Testing Acc: 0.990187287\n",
            "Epoch: 307 Training Loss: 0.018579343 Testing Loss: 0.050773188  Training Acc: 0.994433582 Testing Acc: 0.990253747\n",
            "Epoch: 308 Training Loss: 0.022959443 Testing Loss: 0.056165870  Training Acc: 0.994531274 Testing Acc: 0.989245296\n",
            "Epoch: 309 Training Loss: 0.022152748 Testing Loss: 0.053606719  Training Acc: 0.993261755 Testing Acc: 0.989527881\n",
            "Epoch: 310 Training Loss: 0.023342680 Testing Loss: 0.052393332  Training Acc: 0.991503894 Testing Acc: 0.989655375\n",
            "Epoch: 311 Training Loss: 0.021146243 Testing Loss: 0.052579321  Training Acc: 0.993847668 Testing Acc: 0.989666402\n",
            "Epoch: 312 Training Loss: 0.043095246 Testing Loss: 0.051439289  Training Acc: 0.993164062 Testing Acc: 0.989982188\n",
            "Epoch: 313 Training Loss: 0.027837396 Testing Loss: 0.051650621  Training Acc: 0.991210938 Testing Acc: 0.989577770\n",
            "Epoch: 314 Training Loss: 0.032771695 Testing Loss: 0.048170600  Training Acc: 0.992382824 Testing Acc: 0.990093052\n",
            "Epoch: 315 Training Loss: 0.026229853 Testing Loss: 0.055356674  Training Acc: 0.992578149 Testing Acc: 0.989145577\n",
            "Epoch: 316 Training Loss: 0.021751938 Testing Loss: 0.046858694  Training Acc: 0.993945301 Testing Acc: 0.990569592\n",
            "Epoch: 317 Training Loss: 0.018350508 Testing Loss: 0.047909554  Training Acc: 0.994531274 Testing Acc: 0.990165055\n",
            "Epoch: 318 Training Loss: 0.019788807 Testing Loss: 0.054034691  Training Acc: 0.994238317 Testing Acc: 0.989943445\n",
            "Epoch: 319 Training Loss: 0.022061994 Testing Loss: 0.049450420  Training Acc: 0.994140625 Testing Acc: 0.990303636\n",
            "Epoch: 320 Training Loss: 0.017957779 Testing Loss: 0.050477032  Training Acc: 0.995117188 Testing Acc: 0.989910185\n",
            "Epoch: 321 Training Loss: 0.027735943 Testing Loss: 0.050834496  Training Acc: 0.991503894 Testing Acc: 0.989893615\n",
            "Epoch: 322 Training Loss: 0.028954882 Testing Loss: 0.053645596  Training Acc: 0.991699219 Testing Acc: 0.989167750\n",
            "Epoch: 323 Training Loss: 0.030999934 Testing Loss: 0.054753251  Training Acc: 0.989746094 Testing Acc: 0.989633143\n",
            "Epoch: 324 Training Loss: 0.049297787 Testing Loss: 0.054291300  Training Acc: 0.991015613 Testing Acc: 0.989644229\n",
            "Epoch: 325 Training Loss: 0.037353821 Testing Loss: 0.052568547  Training Acc: 0.991503894 Testing Acc: 0.989755094\n",
            "Epoch: 326 Training Loss: 0.018451488 Testing Loss: 0.050882917  Training Acc: 0.993945301 Testing Acc: 0.990148425\n",
            "Epoch: 327 Training Loss: 0.032314148 Testing Loss: 0.054587651  Training Acc: 0.991503894 Testing Acc: 0.989372790\n",
            "Epoch: 328 Training Loss: 0.034820091 Testing Loss: 0.052090526  Training Acc: 0.990332067 Testing Acc: 0.989466906\n",
            "Epoch: 329 Training Loss: 0.025487332 Testing Loss: 0.053730268  Training Acc: 0.991601586 Testing Acc: 0.989212096\n",
            "Epoch: 330 Training Loss: 0.025187165 Testing Loss: 0.052055407  Training Acc: 0.993066430 Testing Acc: 0.989533424\n",
            "Epoch: 331 Training Loss: 0.024855932 Testing Loss: 0.051490836  Training Acc: 0.991308630 Testing Acc: 0.989417076\n",
            "Epoch: 332 Training Loss: 0.022366269 Testing Loss: 0.049022686  Training Acc: 0.993652344 Testing Acc: 0.989982188\n",
            "Epoch: 333 Training Loss: 0.019162057 Testing Loss: 0.052724902  Training Acc: 0.994335949 Testing Acc: 0.989317298\n",
            "Epoch: 334 Training Loss: 0.023840731 Testing Loss: 0.048517797  Training Acc: 0.993457019 Testing Acc: 0.990309119\n",
            "Epoch: 335 Training Loss: 0.021133915 Testing Loss: 0.046866663  Training Acc: 0.994140625 Testing Acc: 0.990774572\n",
            "Epoch: 336 Training Loss: 0.018608307 Testing Loss: 0.052530758  Training Acc: 0.994433582 Testing Acc: 0.989982188\n",
            "Epoch: 337 Training Loss: 0.018543592 Testing Loss: 0.049697362  Training Acc: 0.995214880 Testing Acc: 0.990298033\n",
            "Epoch: 338 Training Loss: 0.015781298 Testing Loss: 0.050046138  Training Acc: 0.994335949 Testing Acc: 0.990530729\n",
            "Epoch: 339 Training Loss: 0.020183166 Testing Loss: 0.050136808  Training Acc: 0.994726598 Testing Acc: 0.990325749\n",
            "Epoch: 340 Training Loss: 0.017454222 Testing Loss: 0.049501613  Training Acc: 0.994531274 Testing Acc: 0.990464270\n",
            "Epoch: 341 Training Loss: 0.021966312 Testing Loss: 0.051426068  Training Acc: 0.991699219 Testing Acc: 0.990431011\n",
            "Epoch: 342 Training Loss: 0.018417977 Testing Loss: 0.050313227  Training Acc: 0.994433582 Testing Acc: 0.990381181\n",
            "Epoch: 343 Training Loss: 0.023283575 Testing Loss: 0.050340530  Training Acc: 0.993847668 Testing Acc: 0.990486443\n",
            "Epoch: 344 Training Loss: 0.028093621 Testing Loss: 0.050850898  Training Acc: 0.991015613 Testing Acc: 0.990541875\n",
            "Epoch: 345 Training Loss: 0.027157305 Testing Loss: 0.052392188  Training Acc: 0.992187500 Testing Acc: 0.989860356\n",
            "Epoch: 346 Training Loss: 0.021300282 Testing Loss: 0.051605389  Training Acc: 0.993359387 Testing Acc: 0.990104139\n",
            "Epoch: 347 Training Loss: 0.017955273 Testing Loss: 0.051541407  Training Acc: 0.995019555 Testing Acc: 0.990104139\n",
            "Epoch: 348 Training Loss: 0.016957870 Testing Loss: 0.054067224  Training Acc: 0.994921863 Testing Acc: 0.989932358\n",
            "Epoch: 349 Training Loss: 0.019007333 Testing Loss: 0.055038646  Training Acc: 0.995117188 Testing Acc: 0.989965618\n",
            "Epoch: 350 Training Loss: 0.025521656 Testing Loss: 0.050953668  Training Acc: 0.992480457 Testing Acc: 0.990602851\n",
            "Epoch: 351 Training Loss: 0.016633591 Testing Loss: 0.051468451  Training Acc: 0.995117188 Testing Acc: 0.990214944\n",
            "Epoch: 352 Training Loss: 0.016989488 Testing Loss: 0.050440848  Training Acc: 0.995507836 Testing Acc: 0.990841031\n",
            "Epoch: 353 Training Loss: 0.015073563 Testing Loss: 0.052268755  Training Acc: 0.994531274 Testing Acc: 0.990508616\n",
            "Epoch: 354 Training Loss: 0.016213268 Testing Loss: 0.050636925  Training Acc: 0.994824231 Testing Acc: 0.990475357\n",
            "Epoch: 355 Training Loss: 0.042659730 Testing Loss: 0.052264247  Training Acc: 0.990039051 Testing Acc: 0.990347922\n",
            "Epoch: 356 Training Loss: 0.023624964 Testing Loss: 0.055361249  Training Acc: 0.992871106 Testing Acc: 0.989683032\n",
            "Epoch: 357 Training Loss: 0.021333279 Testing Loss: 0.051777709  Training Acc: 0.994335949 Testing Acc: 0.990242660\n",
            "Epoch: 358 Training Loss: 0.016955901 Testing Loss: 0.052823856  Training Acc: 0.994921863 Testing Acc: 0.990098596\n",
            "Epoch: 359 Training Loss: 0.020433223 Testing Loss: 0.048189830  Training Acc: 0.994433582 Testing Acc: 0.990896463\n",
            "Epoch: 360 Training Loss: 0.015822612 Testing Loss: 0.047652002  Training Acc: 0.995605469 Testing Acc: 0.990890920\n",
            "Epoch: 361 Training Loss: 0.013112306 Testing Loss: 0.050446071  Training Acc: 0.996191442 Testing Acc: 0.990442097\n",
            "Epoch: 362 Training Loss: 0.016196828 Testing Loss: 0.048729170  Training Acc: 0.995800793 Testing Acc: 0.991018414\n",
            "Epoch: 363 Training Loss: 0.017738048 Testing Loss: 0.051911280  Training Acc: 0.994921863 Testing Acc: 0.990525246\n",
            "Epoch: 364 Training Loss: 0.021289051 Testing Loss: 0.055847198  Training Acc: 0.993554711 Testing Acc: 0.989982188\n",
            "Epoch: 365 Training Loss: 0.016817773 Testing Loss: 0.051571317  Training Acc: 0.994433582 Testing Acc: 0.990624964\n",
            "Epoch: 366 Training Loss: 0.017369088 Testing Loss: 0.050307624  Training Acc: 0.994726598 Testing Acc: 0.990580618\n",
            "Epoch: 367 Training Loss: 0.016949713 Testing Loss: 0.053529177  Training Acc: 0.995019555 Testing Acc: 0.990203917\n",
            "Epoch: 368 Training Loss: 0.018003002 Testing Loss: 0.050313499  Training Acc: 0.994433582 Testing Acc: 0.990536332\n",
            "Epoch: 369 Training Loss: 0.059360523 Testing Loss: 0.050000031  Training Acc: 0.990820348 Testing Acc: 0.990680337\n",
            "Epoch: 370 Training Loss: 0.028037995 Testing Loss: 0.057547830  Training Acc: 0.991406262 Testing Acc: 0.989156663\n",
            "Epoch: 371 Training Loss: 0.056142908 Testing Loss: 0.059201404  Training Acc: 0.990429699 Testing Acc: 0.989804983\n",
            "Epoch: 372 Training Loss: 0.063902937 Testing Loss: 0.062485795  Training Acc: 0.985937536 Testing Acc: 0.988469601\n",
            "Epoch: 373 Training Loss: 0.040293526 Testing Loss: 0.050900269  Training Acc: 0.988085926 Testing Acc: 0.989444792\n",
            "Epoch: 374 Training Loss: 0.029118879 Testing Loss: 0.050546445  Training Acc: 0.991894543 Testing Acc: 0.989683032\n",
            "Epoch: 375 Training Loss: 0.051677059 Testing Loss: 0.050720282  Training Acc: 0.989257812 Testing Acc: 0.990131795\n",
            "Epoch: 376 Training Loss: 0.050050568 Testing Loss: 0.054185938  Training Acc: 0.989843786 Testing Acc: 0.989405990\n",
            "Epoch: 377 Training Loss: 0.047543149 Testing Loss: 0.055476222  Training Acc: 0.989550769 Testing Acc: 0.988868535\n",
            "Epoch: 378 Training Loss: 0.053582009 Testing Loss: 0.051912498  Training Acc: 0.987207055 Testing Acc: 0.989356160\n",
            "Epoch: 379 Training Loss: 0.036094677 Testing Loss: 0.050867807  Training Acc: 0.989843786 Testing Acc: 0.989444792\n",
            "Epoch: 380 Training Loss: 0.056624152 Testing Loss: 0.051578891  Training Acc: 0.988769531 Testing Acc: 0.989245296\n",
            "Epoch: 381 Training Loss: 0.040116318 Testing Loss: 0.051140018  Training Acc: 0.987792969 Testing Acc: 0.989228666\n",
            "Epoch: 382 Training Loss: 0.029931525 Testing Loss: 0.049913030  Training Acc: 0.991796911 Testing Acc: 0.989439249\n",
            "Epoch: 383 Training Loss: 0.024862809 Testing Loss: 0.048535056  Training Acc: 0.992578149 Testing Acc: 0.989721835\n",
            "Epoch: 384 Training Loss: 0.027459934 Testing Loss: 0.049071155  Training Acc: 0.991113305 Testing Acc: 0.989904702\n",
            "Epoch: 385 Training Loss: 0.027148375 Testing Loss: 0.050942782  Training Acc: 0.990917981 Testing Acc: 0.989311814\n",
            "Epoch: 386 Training Loss: 0.018792979 Testing Loss: 0.050579667  Training Acc: 0.994921863 Testing Acc: 0.989954531\n",
            "Epoch: 387 Training Loss: 0.021213232 Testing Loss: 0.052266736  Training Acc: 0.993164062 Testing Acc: 0.989710748\n",
            "Epoch: 388 Training Loss: 0.025653888 Testing Loss: 0.049182791  Training Acc: 0.993359387 Testing Acc: 0.990209401\n",
            "Epoch: 389 Training Loss: 0.017739518 Testing Loss: 0.050166894  Training Acc: 0.995214880 Testing Acc: 0.990142941\n",
            "Epoch: 390 Training Loss: 0.024458315 Testing Loss: 0.052043688  Training Acc: 0.993066430 Testing Acc: 0.989960074\n",
            "Epoch: 391 Training Loss: 0.033801354 Testing Loss: 0.053748894  Training Acc: 0.992089868 Testing Acc: 0.989400446\n",
            "Epoch: 392 Training Loss: 0.022941517 Testing Loss: 0.053719036  Training Acc: 0.992675781 Testing Acc: 0.989683032\n",
            "Epoch: 393 Training Loss: 0.019719331 Testing Loss: 0.050464738  Training Acc: 0.994628906 Testing Acc: 0.990226030\n",
            "Epoch: 394 Training Loss: 0.018677754 Testing Loss: 0.050125256  Training Acc: 0.994238317 Testing Acc: 0.990392268\n",
            "Epoch: 395 Training Loss: 0.024042046 Testing Loss: 0.050811905  Training Acc: 0.993359387 Testing Acc: 0.990419984\n",
            "Epoch: 396 Training Loss: 0.017013483 Testing Loss: 0.050206695  Training Acc: 0.995019555 Testing Acc: 0.990331292\n",
            "Epoch: 397 Training Loss: 0.015829356 Testing Loss: 0.051532675  Training Acc: 0.995605469 Testing Acc: 0.990098596\n",
            "Epoch: 398 Training Loss: 0.015088527 Testing Loss: 0.049502969  Training Acc: 0.995410144 Testing Acc: 0.990525246\n",
            "Epoch: 399 Training Loss: 0.019429823 Testing Loss: 0.050342675  Training Acc: 0.993554711 Testing Acc: 0.990414381\n",
            "Epoch: 400 Training Loss: 0.019922137 Testing Loss: 0.052004728  Training Acc: 0.994238317 Testing Acc: 0.990087509\n",
            "Epoch: 401 Training Loss: 0.036816083 Testing Loss: 0.053579561  Training Acc: 0.991015613 Testing Acc: 0.989483535\n",
            "Epoch: 402 Training Loss: 0.032705497 Testing Loss: 0.049051847  Training Acc: 0.991113305 Testing Acc: 0.990896463\n",
            "Epoch: 403 Training Loss: 0.021416385 Testing Loss: 0.050588045  Training Acc: 0.992968738 Testing Acc: 0.990475357\n",
            "Epoch: 404 Training Loss: 0.023752643 Testing Loss: 0.047429346  Training Acc: 0.992382824 Testing Acc: 0.990497530\n",
            "Epoch: 405 Training Loss: 0.014135571 Testing Loss: 0.051204834  Training Acc: 0.996386707 Testing Acc: 0.990009964\n",
            "Epoch: 406 Training Loss: 0.013065762 Testing Loss: 0.052421395  Training Acc: 0.996484399 Testing Acc: 0.990320265\n",
            "Epoch: 407 Training Loss: 0.013329945 Testing Loss: 0.050613768  Training Acc: 0.995800793 Testing Acc: 0.990519702\n",
            "Epoch: 408 Training Loss: 0.025695873 Testing Loss: 0.051473197  Training Acc: 0.992285192 Testing Acc: 0.990309119\n",
            "Epoch: 409 Training Loss: 0.016592963 Testing Loss: 0.056809776  Training Acc: 0.994921863 Testing Acc: 0.989295185\n",
            "Epoch: 410 Training Loss: 0.018554555 Testing Loss: 0.050031446  Training Acc: 0.995507836 Testing Acc: 0.990242660\n",
            "Epoch: 411 Training Loss: 0.018261783 Testing Loss: 0.048966713  Training Acc: 0.994726598 Testing Acc: 0.990408897\n",
            "Epoch: 412 Training Loss: 0.015872994 Testing Loss: 0.049093660  Training Acc: 0.995410144 Testing Acc: 0.990591705\n",
            "Epoch: 413 Training Loss: 0.012014724 Testing Loss: 0.048984244  Training Acc: 0.996386707 Testing Acc: 0.990713596\n",
            "Epoch: 414 Training Loss: 0.015592299 Testing Loss: 0.048007514  Training Acc: 0.995214880 Testing Acc: 0.990985155\n",
            "Epoch: 415 Training Loss: 0.011779527 Testing Loss: 0.051107746  Training Acc: 0.996679723 Testing Acc: 0.990752399\n",
            "Epoch: 416 Training Loss: 0.014561770 Testing Loss: 0.052790519  Training Acc: 0.996386707 Testing Acc: 0.990137398\n",
            "Epoch: 417 Training Loss: 0.014501879 Testing Loss: 0.050342456  Training Acc: 0.995019555 Testing Acc: 0.990325749\n",
            "Epoch: 418 Training Loss: 0.018240908 Testing Loss: 0.050995842  Training Acc: 0.995019555 Testing Acc: 0.990425527\n",
            "Epoch: 419 Training Loss: 0.019023571 Testing Loss: 0.050840996  Training Acc: 0.994531274 Testing Acc: 0.990514159\n",
            "Epoch: 420 Training Loss: 0.052994102 Testing Loss: 0.047952063  Training Acc: 0.991308630 Testing Acc: 0.990624964\n",
            "Epoch: 421 Training Loss: 0.034730256 Testing Loss: 0.052024223  Training Acc: 0.990820348 Testing Acc: 0.989644229\n",
            "Epoch: 422 Training Loss: 0.019110369 Testing Loss: 0.049531382  Training Acc: 0.995117188 Testing Acc: 0.990131795\n",
            "Epoch: 423 Training Loss: 0.021190535 Testing Loss: 0.053388488  Training Acc: 0.993750036 Testing Acc: 0.989455879\n",
            "Epoch: 424 Training Loss: 0.019156612 Testing Loss: 0.050950974  Training Acc: 0.994726598 Testing Acc: 0.990176141\n",
            "Epoch: 425 Training Loss: 0.040354587 Testing Loss: 0.051526144  Training Acc: 0.992089868 Testing Acc: 0.990547359\n",
            "Epoch: 426 Training Loss: 0.027959211 Testing Loss: 0.057102084  Training Acc: 0.992187500 Testing Acc: 0.988558292\n",
            "Epoch: 427 Training Loss: 0.020081764 Testing Loss: 0.054822743  Training Acc: 0.994238317 Testing Acc: 0.989627600\n",
            "Epoch: 428 Training Loss: 0.020787757 Testing Loss: 0.052528683  Training Acc: 0.994433582 Testing Acc: 0.989926815\n",
            "Epoch: 429 Training Loss: 0.017614052 Testing Loss: 0.050467458  Training Acc: 0.994921863 Testing Acc: 0.990298033\n",
            "Epoch: 430 Training Loss: 0.015637051 Testing Loss: 0.050671156  Training Acc: 0.995214880 Testing Acc: 0.990436614\n",
            "Epoch: 431 Training Loss: 0.014614283 Testing Loss: 0.050737418  Training Acc: 0.995703161 Testing Acc: 0.990652680\n",
            "Epoch: 432 Training Loss: 0.014013775 Testing Loss: 0.051223624  Training Acc: 0.995507836 Testing Acc: 0.990364552\n",
            "Epoch: 433 Training Loss: 0.020737469 Testing Loss: 0.050892401  Training Acc: 0.992187500 Testing Acc: 0.990392268\n",
            "Epoch: 434 Training Loss: 0.020784898 Testing Loss: 0.056649655  Training Acc: 0.993652344 Testing Acc: 0.989411533\n",
            "Epoch: 435 Training Loss: 0.020696865 Testing Loss: 0.052493695  Training Acc: 0.994335949 Testing Acc: 0.990126312\n",
            "Epoch: 436 Training Loss: 0.015271435 Testing Loss: 0.052205890  Training Acc: 0.996582031 Testing Acc: 0.990375638\n",
            "Epoch: 437 Training Loss: 0.042422127 Testing Loss: 0.053465120  Training Acc: 0.990820348 Testing Acc: 0.990009964\n",
            "Epoch: 438 Training Loss: 0.029247088 Testing Loss: 0.054134563  Training Acc: 0.990820348 Testing Acc: 0.989217579\n",
            "Epoch: 439 Training Loss: 0.022469305 Testing Loss: 0.051870085  Training Acc: 0.993457019 Testing Acc: 0.989948988\n",
            "Epoch: 440 Training Loss: 0.020062685 Testing Loss: 0.053149849  Training Acc: 0.994335949 Testing Acc: 0.989915729\n",
            "Epoch: 441 Training Loss: 0.016922101 Testing Loss: 0.051839251  Training Acc: 0.995800793 Testing Acc: 0.990154028\n",
            "Epoch: 442 Training Loss: 0.015188632 Testing Loss: 0.052421194  Training Acc: 0.996582031 Testing Acc: 0.989932358\n",
            "Epoch: 443 Training Loss: 0.015255294 Testing Loss: 0.050010417  Training Acc: 0.995117188 Testing Acc: 0.990458727\n",
            "Epoch: 444 Training Loss: 0.046113182 Testing Loss: 0.055001400  Training Acc: 0.992773473 Testing Acc: 0.990115166\n",
            "Epoch: 445 Training Loss: 0.055757921 Testing Loss: 0.055004247  Training Acc: 0.990527332 Testing Acc: 0.989660859\n",
            "Epoch: 446 Training Loss: 0.025170540 Testing Loss: 0.050540734  Training Acc: 0.991699219 Testing Acc: 0.989982188\n",
            "Epoch: 447 Training Loss: 0.021645624 Testing Loss: 0.049582664  Training Acc: 0.994433582 Testing Acc: 0.990203917\n",
            "Epoch: 448 Training Loss: 0.019005045 Testing Loss: 0.049349889  Training Acc: 0.994628906 Testing Acc: 0.990447640\n",
            "Epoch: 449 Training Loss: 0.028038144 Testing Loss: 0.050168511  Training Acc: 0.992382824 Testing Acc: 0.990685940\n",
            "Epoch: 450 Training Loss: 0.031059265 Testing Loss: 0.049100392  Training Acc: 0.990722656 Testing Acc: 0.990680337\n",
            "Epoch: 451 Training Loss: 0.029047286 Testing Loss: 0.048304055  Training Acc: 0.992285192 Testing Acc: 0.990630507\n",
            "Epoch: 452 Training Loss: 0.026732227 Testing Loss: 0.049510699  Training Acc: 0.991796911 Testing Acc: 0.990425527\n",
            "Epoch: 453 Training Loss: 0.021056386 Testing Loss: 0.051853612  Training Acc: 0.994140625 Testing Acc: 0.989899099\n",
            "Epoch: 454 Training Loss: 0.015968645 Testing Loss: 0.054344833  Training Acc: 0.996093750 Testing Acc: 0.989527881\n",
            "Epoch: 455 Training Loss: 0.015942430 Testing Loss: 0.053930268  Training Acc: 0.995312512 Testing Acc: 0.989921331\n",
            "Epoch: 456 Training Loss: 0.023105010 Testing Loss: 0.056021057  Training Acc: 0.993457019 Testing Acc: 0.989915729\n",
            "Epoch: 457 Training Loss: 0.024426077 Testing Loss: 0.052477058  Training Acc: 0.992089868 Testing Acc: 0.989688575\n",
            "Epoch: 458 Training Loss: 0.023449292 Testing Loss: 0.051484134  Training Acc: 0.992968738 Testing Acc: 0.990176141\n",
            "Epoch: 459 Training Loss: 0.022747522 Testing Loss: 0.052889664  Training Acc: 0.994824231 Testing Acc: 0.990170658\n",
            "Epoch: 460 Training Loss: 0.018389054 Testing Loss: 0.052673135  Training Acc: 0.993847668 Testing Acc: 0.990159571\n",
            "Epoch: 461 Training Loss: 0.023337435 Testing Loss: 0.049970057  Training Acc: 0.993750036 Testing Acc: 0.990436614\n",
            "Epoch: 462 Training Loss: 0.017638441 Testing Loss: 0.053552054  Training Acc: 0.995117188 Testing Acc: 0.990109682\n",
            "Epoch: 463 Training Loss: 0.022552803 Testing Loss: 0.059159812  Training Acc: 0.992578149 Testing Acc: 0.989117861\n",
            "Epoch: 464 Training Loss: 0.026292304 Testing Loss: 0.053284805  Training Acc: 0.989941418 Testing Acc: 0.990431011\n",
            "Epoch: 465 Training Loss: 0.025179405 Testing Loss: 0.054894157  Training Acc: 0.993066430 Testing Acc: 0.989516795\n",
            "Epoch: 466 Training Loss: 0.023640733 Testing Loss: 0.053172611  Training Acc: 0.993847668 Testing Acc: 0.989782751\n",
            "Epoch: 467 Training Loss: 0.020845290 Testing Loss: 0.053859159  Training Acc: 0.993554711 Testing Acc: 0.989976704\n",
            "Epoch: 468 Training Loss: 0.017953508 Testing Loss: 0.053651053  Training Acc: 0.993457019 Testing Acc: 0.990032077\n",
            "Epoch: 469 Training Loss: 0.024265094 Testing Loss: 0.060273793  Training Acc: 0.992089868 Testing Acc: 0.989444792\n",
            "Epoch: 470 Training Loss: 0.015530460 Testing Loss: 0.059333451  Training Acc: 0.994921863 Testing Acc: 0.989394903\n",
            "Epoch: 471 Training Loss: 0.016215593 Testing Loss: 0.053501818  Training Acc: 0.994238317 Testing Acc: 0.990059793\n",
            "Epoch: 472 Training Loss: 0.013606369 Testing Loss: 0.056197252  Training Acc: 0.995800793 Testing Acc: 0.990181684\n",
            "Epoch: 473 Training Loss: 0.016494310 Testing Loss: 0.058876369  Training Acc: 0.994042993 Testing Acc: 0.989544511\n",
            "Epoch: 474 Training Loss: 0.031735923 Testing Loss: 0.057291389  Training Acc: 0.991308630 Testing Acc: 0.989777207\n",
            "Epoch: 475 Training Loss: 0.031464130 Testing Loss: 0.066350274  Training Acc: 0.991308630 Testing Acc: 0.988369823\n",
            "Epoch: 476 Training Loss: 0.019450122 Testing Loss: 0.056546628  Training Acc: 0.994433582 Testing Acc: 0.989854813\n",
            "Epoch: 477 Training Loss: 0.016695444 Testing Loss: 0.054271720  Training Acc: 0.994921863 Testing Acc: 0.989821553\n",
            "Epoch: 478 Training Loss: 0.018258130 Testing Loss: 0.051064126  Training Acc: 0.994335949 Testing Acc: 0.990209401\n",
            "Epoch: 479 Training Loss: 0.064257942 Testing Loss: 0.055053316  Training Acc: 0.991015613 Testing Acc: 0.990021050\n",
            "Epoch: 480 Training Loss: 0.023539083 Testing Loss: 0.052137591  Training Acc: 0.991894543 Testing Acc: 0.990214944\n",
            "Epoch: 481 Training Loss: 0.018798027 Testing Loss: 0.051728398  Training Acc: 0.994140625 Testing Acc: 0.990292549\n",
            "Epoch: 482 Training Loss: 0.025407029 Testing Loss: 0.054914068  Training Acc: 0.992675781 Testing Acc: 0.990076423\n",
            "Epoch: 483 Training Loss: 0.037253793 Testing Loss: 0.052002553  Training Acc: 0.991406262 Testing Acc: 0.990425527\n",
            "Epoch: 484 Training Loss: 0.034222931 Testing Loss: 0.055193033  Training Acc: 0.990332067 Testing Acc: 0.989771724\n",
            "Epoch: 485 Training Loss: 0.029611466 Testing Loss: 0.055898141  Training Acc: 0.992578149 Testing Acc: 0.989672005\n",
            "Epoch: 486 Training Loss: 0.020858925 Testing Loss: 0.051981777  Training Acc: 0.994921863 Testing Acc: 0.989932358\n",
            "Epoch: 487 Training Loss: 0.025628287 Testing Loss: 0.052415501  Training Acc: 0.993945301 Testing Acc: 0.990325749\n",
            "Epoch: 488 Training Loss: 0.063856386 Testing Loss: 0.055815544  Training Acc: 0.988867223 Testing Acc: 0.989793837\n",
            "Epoch: 489 Training Loss: 0.035541795 Testing Loss: 0.055795379  Training Acc: 0.989746094 Testing Acc: 0.989394903\n",
            "Epoch: 490 Training Loss: 0.019789929 Testing Loss: 0.054451708  Training Acc: 0.993847668 Testing Acc: 0.989910185\n",
            "Epoch: 491 Training Loss: 0.021974832 Testing Loss: 0.053462718  Training Acc: 0.992675781 Testing Acc: 0.990120769\n",
            "Epoch: 492 Training Loss: 0.023280157 Testing Loss: 0.057368945  Training Acc: 0.992675781 Testing Acc: 0.989533424\n",
            "Epoch: 493 Training Loss: 0.026585067 Testing Loss: 0.056456808  Training Acc: 0.991113305 Testing Acc: 0.989998817\n",
            "Epoch: 494 Training Loss: 0.058506485 Testing Loss: 0.058951702  Training Acc: 0.990332067 Testing Acc: 0.989550054\n",
            "Epoch: 495 Training Loss: 0.022872185 Testing Loss: 0.054963548  Training Acc: 0.993945301 Testing Acc: 0.989594400\n",
            "Epoch: 496 Training Loss: 0.021191401 Testing Loss: 0.051399797  Training Acc: 0.992871106 Testing Acc: 0.990331292\n",
            "Epoch: 497 Training Loss: 0.045187086 Testing Loss: 0.053707350  Training Acc: 0.989648461 Testing Acc: 0.990032077\n",
            "Epoch: 498 Training Loss: 0.021270292 Testing Loss: 0.049883079  Training Acc: 0.994140625 Testing Acc: 0.990226030\n",
            "Epoch: 499 Training Loss: 0.042710107 Testing Loss: 0.049066164  Training Acc: 0.989941418 Testing Acc: 0.990486443\n",
            "Epoch: 500 Training Loss: 0.023039101 Testing Loss: 0.052845236  Training Acc: 0.992968738 Testing Acc: 0.989910185\n",
            "Epoch: 501 Training Loss: 0.027329160 Testing Loss: 0.050030198  Training Acc: 0.993457019 Testing Acc: 0.990547359\n",
            "Epoch: 502 Training Loss: 0.021063559 Testing Loss: 0.055568926  Training Acc: 0.993945301 Testing Acc: 0.989721835\n",
            "Epoch: 503 Training Loss: 0.026147369 Testing Loss: 0.052731432  Training Acc: 0.992285192 Testing Acc: 0.990347922\n",
            "Epoch: 504 Training Loss: 0.029330228 Testing Loss: 0.052478775  Training Acc: 0.990136743 Testing Acc: 0.989948988\n",
            "Epoch: 505 Training Loss: 0.025405133 Testing Loss: 0.053154588  Training Acc: 0.993652344 Testing Acc: 0.989982188\n",
            "Epoch: 506 Training Loss: 0.029478246 Testing Loss: 0.053286523  Training Acc: 0.991894543 Testing Acc: 0.990142941\n",
            "Epoch: 507 Training Loss: 0.035012346 Testing Loss: 0.057885561  Training Acc: 0.988867223 Testing Acc: 0.989084601\n",
            "Epoch: 508 Training Loss: 0.028630579 Testing Loss: 0.058615144  Training Acc: 0.992675781 Testing Acc: 0.988840878\n",
            "Epoch: 509 Training Loss: 0.024334956 Testing Loss: 0.054485865  Training Acc: 0.993261755 Testing Acc: 0.989555597\n",
            "Epoch: 510 Training Loss: 0.019397667 Testing Loss: 0.052354366  Training Acc: 0.992578149 Testing Acc: 0.989810467\n",
            "Epoch: 511 Training Loss: 0.025268480 Testing Loss: 0.051499564  Training Acc: 0.993457019 Testing Acc: 0.990109682\n",
            "Epoch: 512 Training Loss: 0.019047130 Testing Loss: 0.051169671  Training Acc: 0.995410144 Testing Acc: 0.990381181\n",
            "Epoch: 513 Training Loss: 0.014572910 Testing Loss: 0.055076431  Training Acc: 0.995019555 Testing Acc: 0.989899099\n",
            "Epoch: 514 Training Loss: 0.019645875 Testing Loss: 0.049964979  Training Acc: 0.994140625 Testing Acc: 0.990364552\n",
            "Epoch: 515 Training Loss: 0.019052871 Testing Loss: 0.050900143  Training Acc: 0.994921863 Testing Acc: 0.990491986\n",
            "Epoch: 516 Training Loss: 0.015561066 Testing Loss: 0.053029437  Training Acc: 0.995019555 Testing Acc: 0.990259290\n",
            "Epoch: 517 Training Loss: 0.013146932 Testing Loss: 0.050405640  Training Acc: 0.995703161 Testing Acc: 0.990242660\n",
            "Epoch: 518 Training Loss: 0.018337952 Testing Loss: 0.051683459  Training Acc: 0.994824231 Testing Acc: 0.990591705\n",
            "Epoch: 519 Training Loss: 0.027917255 Testing Loss: 0.057185616  Training Acc: 0.994238317 Testing Acc: 0.989766121\n",
            "Epoch: 520 Training Loss: 0.030769661 Testing Loss: 0.060259949  Training Acc: 0.992089868 Testing Acc: 0.989450276\n",
            "Epoch: 521 Training Loss: 0.019721692 Testing Loss: 0.056835607  Training Acc: 0.994628906 Testing Acc: 0.989666402\n",
            "Epoch: 522 Training Loss: 0.015788648 Testing Loss: 0.052651204  Training Acc: 0.994726598 Testing Acc: 0.990148425\n",
            "Epoch: 523 Training Loss: 0.019419167 Testing Loss: 0.057390716  Training Acc: 0.994335949 Testing Acc: 0.990021050\n",
            "Epoch: 524 Training Loss: 0.019337460 Testing Loss: 0.055416044  Training Acc: 0.994140625 Testing Acc: 0.990325749\n",
            "Epoch: 525 Training Loss: 0.019911388 Testing Loss: 0.056579202  Training Acc: 0.993554711 Testing Acc: 0.989865839\n",
            "Epoch: 526 Training Loss: 0.018023672 Testing Loss: 0.054333888  Training Acc: 0.995410144 Testing Acc: 0.990026593\n",
            "Epoch: 527 Training Loss: 0.025338400 Testing Loss: 0.054400675  Training Acc: 0.993066430 Testing Acc: 0.990259290\n",
            "Epoch: 528 Training Loss: 0.029588103 Testing Loss: 0.051282290  Training Acc: 0.992480457 Testing Acc: 0.990475357\n",
            "Epoch: 529 Training Loss: 0.016779644 Testing Loss: 0.052066352  Training Acc: 0.995800793 Testing Acc: 0.990541875\n",
            "Epoch: 530 Training Loss: 0.015435186 Testing Loss: 0.050762258  Training Acc: 0.996289074 Testing Acc: 0.990514159\n",
            "Epoch: 531 Training Loss: 0.017863927 Testing Loss: 0.051229771  Training Acc: 0.995019555 Testing Acc: 0.990508616\n",
            "Epoch: 532 Training Loss: 0.016833464 Testing Loss: 0.050997086  Training Acc: 0.996093750 Testing Acc: 0.990608335\n",
            "Epoch: 533 Training Loss: 0.015455130 Testing Loss: 0.049462706  Training Acc: 0.995605469 Testing Acc: 0.990780115\n",
            "Epoch: 534 Training Loss: 0.018098680 Testing Loss: 0.050439563  Training Acc: 0.994824231 Testing Acc: 0.990946293\n",
            "Epoch: 535 Training Loss: 0.016833356 Testing Loss: 0.049406707  Training Acc: 0.995019555 Testing Acc: 0.991040528\n",
            "Epoch: 536 Training Loss: 0.012544118 Testing Loss: 0.049849547  Training Acc: 0.996484399 Testing Acc: 0.990835547\n",
            "Epoch: 537 Training Loss: 0.010044743 Testing Loss: 0.053400859  Training Acc: 0.997265637 Testing Acc: 0.990586221\n",
            "Epoch: 538 Training Loss: 0.011546418 Testing Loss: 0.052298848  Training Acc: 0.996484399 Testing Acc: 0.990525246\n",
            "Epoch: 539 Training Loss: 0.009740782 Testing Loss: 0.052434031  Training Acc: 0.997460961 Testing Acc: 0.990730226\n",
            "Epoch: 540 Training Loss: 0.018804492 Testing Loss: 0.053532124  Training Acc: 0.994531274 Testing Acc: 0.990597248\n",
            "Epoch: 541 Training Loss: 0.016366150 Testing Loss: 0.055687368  Training Acc: 0.993945301 Testing Acc: 0.990203917\n",
            "Epoch: 542 Training Loss: 0.022515481 Testing Loss: 0.059266966  Training Acc: 0.993359387 Testing Acc: 0.989178836\n",
            "Epoch: 543 Training Loss: 0.022598719 Testing Loss: 0.057330560  Training Acc: 0.993554711 Testing Acc: 0.989744008\n",
            "Epoch: 544 Training Loss: 0.017525377 Testing Loss: 0.053792611  Training Acc: 0.995410144 Testing Acc: 0.990248203\n",
            "Epoch: 545 Training Loss: 0.016641056 Testing Loss: 0.056962121  Training Acc: 0.995703161 Testing Acc: 0.989732862\n",
            "Epoch: 546 Training Loss: 0.014479619 Testing Loss: 0.054941837  Training Acc: 0.995800793 Testing Acc: 0.989976704\n",
            "Epoch: 547 Training Loss: 0.019498318 Testing Loss: 0.055079844  Training Acc: 0.994824231 Testing Acc: 0.990093052\n",
            "Epoch: 548 Training Loss: 0.032173321 Testing Loss: 0.054824065  Training Acc: 0.990332067 Testing Acc: 0.990281403\n",
            "Epoch: 549 Training Loss: 0.023355220 Testing Loss: 0.054981057  Training Acc: 0.993164062 Testing Acc: 0.989882469\n",
            "Epoch: 550 Training Loss: 0.021387247 Testing Loss: 0.055552874  Training Acc: 0.993554711 Testing Acc: 0.989865839\n",
            "Epoch: 551 Training Loss: 0.017145311 Testing Loss: 0.059590265  Training Acc: 0.993652344 Testing Acc: 0.989317298\n",
            "Epoch: 552 Training Loss: 0.019240981 Testing Loss: 0.056718800  Training Acc: 0.995214880 Testing Acc: 0.989993334\n",
            "Epoch: 553 Training Loss: 0.018297603 Testing Loss: 0.052612040  Training Acc: 0.994531274 Testing Acc: 0.990165055\n",
            "Epoch: 554 Training Loss: 0.015595148 Testing Loss: 0.053506207  Training Acc: 0.995410144 Testing Acc: 0.990004420\n",
            "Epoch: 555 Training Loss: 0.048604798 Testing Loss: 0.053592600  Training Acc: 0.991796911 Testing Acc: 0.990098596\n",
            "Epoch: 556 Training Loss: 0.049195826 Testing Loss: 0.055005424  Training Acc: 0.989160180 Testing Acc: 0.989915729\n",
            "Epoch: 557 Training Loss: 0.030225605 Testing Loss: 0.052899141  Training Acc: 0.990722656 Testing Acc: 0.989594400\n",
            "Epoch: 558 Training Loss: 0.036459055 Testing Loss: 0.052067947  Training Acc: 0.991113305 Testing Acc: 0.990442097\n",
            "Epoch: 559 Training Loss: 0.044399835 Testing Loss: 0.057277512  Training Acc: 0.991894543 Testing Acc: 0.988929510\n",
            "Epoch: 560 Training Loss: 0.017611658 Testing Loss: 0.055095427  Training Acc: 0.994726598 Testing Acc: 0.989527881\n",
            "Epoch: 561 Training Loss: 0.031212095 Testing Loss: 0.050551493  Training Acc: 0.991699219 Testing Acc: 0.990325749\n",
            "Epoch: 562 Training Loss: 0.021064701 Testing Loss: 0.052539077  Training Acc: 0.994531274 Testing Acc: 0.990154028\n",
            "Epoch: 563 Training Loss: 0.014936353 Testing Loss: 0.051339068  Training Acc: 0.995507836 Testing Acc: 0.990231574\n",
            "Epoch: 564 Training Loss: 0.022426546 Testing Loss: 0.050448377  Training Acc: 0.992871106 Testing Acc: 0.990486443\n",
            "Epoch: 565 Training Loss: 0.019117473 Testing Loss: 0.054683492  Training Acc: 0.993359387 Testing Acc: 0.990181684\n",
            "Epoch: 566 Training Loss: 0.017366482 Testing Loss: 0.054491699  Training Acc: 0.995703161 Testing Acc: 0.990148425\n",
            "Epoch: 567 Training Loss: 0.022842571 Testing Loss: 0.050032679  Training Acc: 0.994140625 Testing Acc: 0.990480900\n",
            "Epoch: 568 Training Loss: 0.016005989 Testing Loss: 0.054521777  Training Acc: 0.995312512 Testing Acc: 0.990148425\n",
            "Epoch: 569 Training Loss: 0.018103732 Testing Loss: 0.055462465  Training Acc: 0.995703161 Testing Acc: 0.990021050\n",
            "Epoch: 570 Training Loss: 0.016932923 Testing Loss: 0.052088544  Training Acc: 0.995605469 Testing Acc: 0.990353465\n",
            "Epoch: 571 Training Loss: 0.013674905 Testing Loss: 0.053866785  Training Acc: 0.994921863 Testing Acc: 0.990519702\n",
            "Epoch: 572 Training Loss: 0.014218993 Testing Loss: 0.054633897  Training Acc: 0.995898426 Testing Acc: 0.989899099\n",
            "Epoch: 573 Training Loss: 0.014291274 Testing Loss: 0.052591644  Training Acc: 0.996191442 Testing Acc: 0.990347922\n",
            "Epoch: 574 Training Loss: 0.012600603 Testing Loss: 0.053496227  Training Acc: 0.995800793 Testing Acc: 0.990541875\n",
            "Epoch: 575 Training Loss: 0.014503825 Testing Loss: 0.052598838  Training Acc: 0.995507836 Testing Acc: 0.990724683\n",
            "Epoch: 576 Training Loss: 0.021363381 Testing Loss: 0.053000305  Training Acc: 0.993554711 Testing Acc: 0.990680337\n",
            "Epoch: 577 Training Loss: 0.025099343 Testing Loss: 0.051666871  Training Acc: 0.991992176 Testing Acc: 0.990519702\n",
            "Epoch: 578 Training Loss: 0.039098680 Testing Loss: 0.050865240  Training Acc: 0.992578149 Testing Acc: 0.990680337\n",
            "Epoch: 579 Training Loss: 0.021030081 Testing Loss: 0.056939673  Training Acc: 0.993554711 Testing Acc: 0.989738464\n",
            "Epoch: 580 Training Loss: 0.014528145 Testing Loss: 0.051004257  Training Acc: 0.995898426 Testing Acc: 0.990525246\n",
            "Epoch: 581 Training Loss: 0.039382864 Testing Loss: 0.054130863  Training Acc: 0.990234375 Testing Acc: 0.990569592\n",
            "Epoch: 582 Training Loss: 0.037755400 Testing Loss: 0.056218844  Training Acc: 0.993261755 Testing Acc: 0.989865839\n",
            "Epoch: 583 Training Loss: 0.025746405 Testing Loss: 0.053815078  Training Acc: 0.991015613 Testing Acc: 0.990192771\n",
            "Epoch: 584 Training Loss: 0.032804370 Testing Loss: 0.051612645  Training Acc: 0.991308630 Testing Acc: 0.990259290\n",
            "Epoch: 585 Training Loss: 0.040579945 Testing Loss: 0.056883320  Training Acc: 0.988378942 Testing Acc: 0.989217579\n",
            "Epoch: 586 Training Loss: 0.021026200 Testing Loss: 0.055858344  Training Acc: 0.994042993 Testing Acc: 0.989450276\n",
            "Epoch: 587 Training Loss: 0.033537392 Testing Loss: 0.052972827  Training Acc: 0.990625024 Testing Acc: 0.990159571\n",
            "Epoch: 588 Training Loss: 0.035320014 Testing Loss: 0.057328679  Training Acc: 0.992968738 Testing Acc: 0.989023685\n",
            "Epoch: 589 Training Loss: 0.040092275 Testing Loss: 0.057051547  Training Acc: 0.989648461 Testing Acc: 0.988669038\n",
            "Epoch: 590 Training Loss: 0.047760751 Testing Loss: 0.053518862  Training Acc: 0.988476574 Testing Acc: 0.989926815\n",
            "Epoch: 591 Training Loss: 0.032210227 Testing Loss: 0.052497838  Training Acc: 0.991015613 Testing Acc: 0.989971161\n",
            "Epoch: 592 Training Loss: 0.048651841 Testing Loss: 0.054284371  Training Acc: 0.989160180 Testing Acc: 0.989777207\n",
            "Epoch: 593 Training Loss: 0.037863065 Testing Loss: 0.054549322  Training Acc: 0.988183618 Testing Acc: 0.989777207\n",
            "Epoch: 594 Training Loss: 0.023139460 Testing Loss: 0.049067516  Training Acc: 0.993359387 Testing Acc: 0.990342379\n",
            "Epoch: 595 Training Loss: 0.023290880 Testing Loss: 0.050818413  Training Acc: 0.993750036 Testing Acc: 0.990065336\n",
            "Epoch: 596 Training Loss: 0.021446260 Testing Loss: 0.049715281  Training Acc: 0.994042993 Testing Acc: 0.990431011\n",
            "Epoch: 597 Training Loss: 0.015885172 Testing Loss: 0.047688726  Training Acc: 0.993945301 Testing Acc: 0.990674853\n",
            "Epoch: 598 Training Loss: 0.017355850 Testing Loss: 0.049967770  Training Acc: 0.994921863 Testing Acc: 0.990375638\n",
            "Epoch: 599 Training Loss: 0.025971979 Testing Loss: 0.049054984  Training Acc: 0.993261755 Testing Acc: 0.990691483\n",
            "Epoch: 600 Training Loss: 0.021224311 Testing Loss: 0.050324742  Training Acc: 0.993945301 Testing Acc: 0.990447640\n"
          ],
          "name": "stdout"
        }
      ]
    },
    {
      "cell_type": "code",
      "metadata": {
        "id": "vzn6YyGw9ULY",
        "colab": {
          "base_uri": "https://localhost:8080/",
          "height": 592
        },
        "outputId": "1ab649d6-8347-496b-c233-9a9d2a6e5875"
      },
      "source": [
        "plt.figure(figsize = (10,10))\n",
        "plt.plot(L_train, linewidth = 2, c='b', label = \"train\")\n",
        "plt.plot(L_test, linewidth = 2, c='r', label = \"test\")\n",
        "plt.legend()\n",
        "plt.show()"
      ],
      "execution_count": 16,
      "outputs": [
        {
          "output_type": "display_data",
          "data": {
            "image/png": "[encoded data removed]",
            "text/plain": [
              "<Figure size 720x720 with 1 Axes>"
            ]
          },
          "metadata": {
            "tags": [],
            "needs_background": "light"
          }
        }
      ]
    },
    {
      "cell_type": "code",
      "metadata": {
        "id": "Rl1MuQhtqsg2",
        "colab": {
          "base_uri": "https://localhost:8080/",
          "height": 592
        },
        "outputId": "3ecca571-2993-46d7-89d2-1e6fcfa19c8d"
      },
      "source": [
        "plt.figure(figsize = (10,10))\n",
        "plt.plot(A_train, linewidth = 2, c='b', label = \"train\")\n",
        "plt.plot(A_test, linewidth = 2, c='r', label = \"test\")\n",
        "plt.legend()\n",
        "plt.show()"
      ],
      "execution_count": 17,
      "outputs": [
        {
          "output_type": "display_data",
          "data": {
            "image/png": "[encoded data removed]",
            "text/plain": [
              "<Figure size 720x720 with 1 Axes>"
            ]
          },
          "metadata": {
            "tags": [],
            "needs_background": "light"
          }
        }
      ]
    },
    {
      "cell_type": "code",
      "metadata": {
        "id": "4990rRublMpD",
        "colab": {
          "base_uri": "https://localhost:8080/"
        },
        "outputId": "67dea8ee-9931-4fdc-d7a2-44657763096c"
      },
      "source": [
        "print(\"training loss    %.2f\" %(L_train[-1]))\n",
        "print(\"testing loss     %.2f\" %(L_test[-1]))\n",
        "print(\"training acc    %.2f\" %(A_train[-1]))\n",
        "print(\"testing acc     %.2f\" %(A_test[-1]))"
      ],
      "execution_count": 18,
      "outputs": [
        {
          "output_type": "stream",
          "text": [
            "training loss    0.02\n",
            "testing loss     0.05\n",
            "training acc    0.99\n",
            "testing acc     0.99\n"
          ],
          "name": "stdout"
        }
      ]
    },
    {
      "cell_type": "markdown",
      "metadata": {
        "id": "z4L9RrzOz5xl"
      },
      "source": [
        "# 5. Output\n",
        "<hr>"
      ]
    },
    {
      "cell_type": "markdown",
      "metadata": {
        "id": "alN6-n0r0DTO"
      },
      "source": [
        "## 1. Plot the training and testing losses over epochs"
      ]
    },
    {
      "cell_type": "code",
      "metadata": {
        "id": "d8WFmmL4Shvy",
        "colab": {
          "base_uri": "https://localhost:8080/",
          "height": 592
        },
        "outputId": "0e2688c2-b256-4fdc-9376-551309892858"
      },
      "source": [
        "plt.figure(figsize = (10,10))\n",
        "plt.plot(L_train, linewidth = 2, c='b', label = \"train\")\n",
        "plt.plot(L_test, linewidth = 2, c='r', label = \"test\")\n",
        "plt.legend()\n",
        "plt.show()"
      ],
      "execution_count": 19,
      "outputs": [
        {
          "output_type": "display_data",
          "data": {
            "image/png": "[encoded data removed]",
            "text/plain": [
              "<Figure size 720x720 with 1 Axes>"
            ]
          },
          "metadata": {
            "tags": [],
            "needs_background": "light"
          }
        }
      ]
    },
    {
      "cell_type": "markdown",
      "metadata": {
        "id": "4t1dSyC1AVe0"
      },
      "source": [
        "## 2. Plot the training and testing accuracies over epochs"
      ]
    },
    {
      "cell_type": "code",
      "metadata": {
        "id": "xUlVVIpISjl6",
        "colab": {
          "base_uri": "https://localhost:8080/",
          "height": 592
        },
        "outputId": "4f2bdc63-848f-43b6-d6a9-8bb8db011c02"
      },
      "source": [
        "plt.figure(figsize = (10,10))\n",
        "plt.plot(A_train, linewidth = 2, c='b', label = \"train\")\n",
        "plt.plot(A_test, linewidth = 2, c='r', label = \"test\")\n",
        "plt.legend()\n",
        "plt.show()"
      ],
      "execution_count": 20,
      "outputs": [
        {
          "output_type": "display_data",
          "data": {
            "image/png": "[encoded data removed]",
            "text/plain": [
              "<Figure size 720x720 with 1 Axes>"
            ]
          },
          "metadata": {
            "tags": [],
            "needs_background": "light"
          }
        }
      ]
    },
    {
      "cell_type": "markdown",
      "metadata": {
        "id": "px7XRkcnAnc7"
      },
      "source": [
        "## 3.  Print the final training and testing losses at convergence "
      ]
    },
    {
      "cell_type": "code",
      "metadata": {
        "id": "RrvuQ_SCSlJ_",
        "colab": {
          "base_uri": "https://localhost:8080/"
        },
        "outputId": "6292312c-812e-4dc0-e968-a82259b4b6b2"
      },
      "source": [
        "print(\"loss\")\n",
        "print(\"train    %.2f\" %(L_train[-1]))\n",
        "print(\"test     %.2f\" %(L_test[-1]))"
      ],
      "execution_count": 21,
      "outputs": [
        {
          "output_type": "stream",
          "text": [
            "loss\n",
            "train    0.02\n",
            "test     0.05\n"
          ],
          "name": "stdout"
        }
      ]
    },
    {
      "cell_type": "markdown",
      "metadata": {
        "id": "gW87VTpwAtMB"
      },
      "source": [
        "## 4. Print the final training and testing accuracies at convergence"
      ]
    },
    {
      "cell_type": "code",
      "metadata": {
        "id": "mpgCDaBpCWT_",
        "colab": {
          "base_uri": "https://localhost:8080/"
        },
        "outputId": "ccc65d3a-fcbd-417e-8346-cc900f8399f7"
      },
      "source": [
        "print(\"Accuracy\")\n",
        "print(\"train    %.5f, %.2f\" %(A_train[-1], A_train[-1]))\n",
        "print(\"test     %.5f, %.2f\" %(A_test[-1], A_test[-1]))"
      ],
      "execution_count": 22,
      "outputs": [
        {
          "output_type": "stream",
          "text": [
            "Accuracy\n",
            "train    0.99395, 0.99\n",
            "test     0.99045, 0.99\n"
          ],
          "name": "stdout"
        }
      ]
    },
    {
      "cell_type": "markdown",
      "metadata": {
        "id": "fzDvqXa7hEem"
      },
      "source": [
        "## 5. Print the testing accuracies within the last 10 epochs"
      ]
    },
    {
      "cell_type": "code",
      "metadata": {
        "id": "vu8Vw6cwassu",
        "colab": {
          "base_uri": "https://localhost:8080/"
        },
        "outputId": "8b277645-00c1-460e-93ce-d43e6367fe93"
      },
      "source": [
        "for i in range(-10, 0):\n",
        "  print(f\"Epoch = {len(A_test) + i + 1} Acc: %.5f\" %(A_test[i]))\n"
      ],
      "execution_count": 23,
      "outputs": [
        {
          "output_type": "stream",
          "text": [
            "Epoch = 591 Acc: 0.98997\n",
            "Epoch = 592 Acc: 0.98978\n",
            "Epoch = 593 Acc: 0.98978\n",
            "Epoch = 594 Acc: 0.99034\n",
            "Epoch = 595 Acc: 0.99007\n",
            "Epoch = 596 Acc: 0.99043\n",
            "Epoch = 597 Acc: 0.99067\n",
            "Epoch = 598 Acc: 0.99038\n",
            "Epoch = 599 Acc: 0.99069\n",
            "Epoch = 600 Acc: 0.99045\n"
          ],
          "name": "stdout"
        }
      ]
    },
    {
      "cell_type": "code",
      "metadata": {
        "id": "hTsLh1xUhUXY"
      },
      "source": [
        ""
      ],
      "execution_count": 23,
      "outputs": []
    }
  ]
}