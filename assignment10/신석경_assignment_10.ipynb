{
  "nbformat": 4,
  "nbformat_minor": 0,
  "metadata": {
    "accelerator": "GPU",
    "colab": {
      "name": "신석경_assignment_10",
      "provenance": [],
      "collapsed_sections": [],
      "authorship_tag": "ABX9TyOYf9DFtFWoMDZTNuwHdCSl",
      "include_colab_link": true
    },
    "kernelspec": {
      "display_name": "Python 3",
      "name": "python3"
    },
    "widgets": {
      "application/vnd.jupyter.widget-state+json": {
        "66d94a68609e4643a726c071b0b98bfc": {
          "model_module": "@jupyter-widgets/controls",
          "model_name": "HBoxModel",
          "state": {
            "_view_name": "HBoxView",
            "_dom_classes": [],
            "_model_name": "HBoxModel",
            "_view_module": "@jupyter-widgets/controls",
            "_model_module_version": "1.5.0",
            "_view_count": null,
            "_view_module_version": "1.5.0",
            "box_style": "",
            "layout": "IPY_MODEL_d0ec430f860e4257a9211360e3aa6ccd",
            "_model_module": "@jupyter-widgets/controls",
            "children": [
              "IPY_MODEL_c8f901660cd24620ade88ca187b99d96",
              "IPY_MODEL_33e097b3b3464444b8bf6d801777c30f"
            ]
          }
        },
        "d0ec430f860e4257a9211360e3aa6ccd": {
          "model_module": "@jupyter-widgets/base",
          "model_name": "LayoutModel",
          "state": {
            "_view_name": "LayoutView",
            "grid_template_rows": null,
            "right": null,
            "justify_content": null,
            "_view_module": "@jupyter-widgets/base",
            "overflow": null,
            "_model_module_version": "1.2.0",
            "_view_count": null,
            "flex_flow": null,
            "width": null,
            "min_width": null,
            "border": null,
            "align_items": null,
            "bottom": null,
            "_model_module": "@jupyter-widgets/base",
            "top": null,
            "grid_column": null,
            "overflow_y": null,
            "overflow_x": null,
            "grid_auto_flow": null,
            "grid_area": null,
            "grid_template_columns": null,
            "flex": null,
            "_model_name": "LayoutModel",
            "justify_items": null,
            "grid_row": null,
            "max_height": null,
            "align_content": null,
            "visibility": null,
            "align_self": null,
            "height": null,
            "min_height": null,
            "padding": null,
            "grid_auto_rows": null,
            "grid_gap": null,
            "max_width": null,
            "order": null,
            "_view_module_version": "1.2.0",
            "grid_template_areas": null,
            "object_position": null,
            "object_fit": null,
            "grid_auto_columns": null,
            "margin": null,
            "display": null,
            "left": null
          }
        },
        "c8f901660cd24620ade88ca187b99d96": {
          "model_module": "@jupyter-widgets/controls",
          "model_name": "FloatProgressModel",
          "state": {
            "_view_name": "ProgressView",
            "style": "IPY_MODEL_fdf9758948d446678ac28bdd064ef26d",
            "_dom_classes": [],
            "description": "",
            "_model_name": "FloatProgressModel",
            "bar_style": "success",
            "max": 1,
            "_view_module": "@jupyter-widgets/controls",
            "_model_module_version": "1.5.0",
            "value": 1,
            "_view_count": null,
            "_view_module_version": "1.5.0",
            "orientation": "horizontal",
            "min": 0,
            "description_tooltip": null,
            "_model_module": "@jupyter-widgets/controls",
            "layout": "IPY_MODEL_1ceee82f43814eb38e93024552ba03ad"
          }
        },
        "33e097b3b3464444b8bf6d801777c30f": {
          "model_module": "@jupyter-widgets/controls",
          "model_name": "HTMLModel",
          "state": {
            "_view_name": "HTMLView",
            "style": "IPY_MODEL_b06e0f68a87340b881422bf6b8a941c9",
            "_dom_classes": [],
            "description": "",
            "_model_name": "HTMLModel",
            "placeholder": "​",
            "_view_module": "@jupyter-widgets/controls",
            "_model_module_version": "1.5.0",
            "value": " 9920512/? [00:03&lt;00:00, 2505818.55it/s]",
            "_view_count": null,
            "_view_module_version": "1.5.0",
            "description_tooltip": null,
            "_model_module": "@jupyter-widgets/controls",
            "layout": "IPY_MODEL_138857cc8f72456193f7d23c4301dcf4"
          }
        },
        "fdf9758948d446678ac28bdd064ef26d": {
          "model_module": "@jupyter-widgets/controls",
          "model_name": "ProgressStyleModel",
          "state": {
            "_view_name": "StyleView",
            "_model_name": "ProgressStyleModel",
            "description_width": "initial",
            "_view_module": "@jupyter-widgets/base",
            "_model_module_version": "1.5.0",
            "_view_count": null,
            "_view_module_version": "1.2.0",
            "bar_color": null,
            "_model_module": "@jupyter-widgets/controls"
          }
        },
        "1ceee82f43814eb38e93024552ba03ad": {
          "model_module": "@jupyter-widgets/base",
          "model_name": "LayoutModel",
          "state": {
            "_view_name": "LayoutView",
            "grid_template_rows": null,
            "right": null,
            "justify_content": null,
            "_view_module": "@jupyter-widgets/base",
            "overflow": null,
            "_model_module_version": "1.2.0",
            "_view_count": null,
            "flex_flow": null,
            "width": null,
            "min_width": null,
            "border": null,
            "align_items": null,
            "bottom": null,
            "_model_module": "@jupyter-widgets/base",
            "top": null,
            "grid_column": null,
            "overflow_y": null,
            "overflow_x": null,
            "grid_auto_flow": null,
            "grid_area": null,
            "grid_template_columns": null,
            "flex": null,
            "_model_name": "LayoutModel",
            "justify_items": null,
            "grid_row": null,
            "max_height": null,
            "align_content": null,
            "visibility": null,
            "align_self": null,
            "height": null,
            "min_height": null,
            "padding": null,
            "grid_auto_rows": null,
            "grid_gap": null,
            "max_width": null,
            "order": null,
            "_view_module_version": "1.2.0",
            "grid_template_areas": null,
            "object_position": null,
            "object_fit": null,
            "grid_auto_columns": null,
            "margin": null,
            "display": null,
            "left": null
          }
        },
        "b06e0f68a87340b881422bf6b8a941c9": {
          "model_module": "@jupyter-widgets/controls",
          "model_name": "DescriptionStyleModel",
          "state": {
            "_view_name": "StyleView",
            "_model_name": "DescriptionStyleModel",
            "description_width": "",
            "_view_module": "@jupyter-widgets/base",
            "_model_module_version": "1.5.0",
            "_view_count": null,
            "_view_module_version": "1.2.0",
            "_model_module": "@jupyter-widgets/controls"
          }
        },
        "138857cc8f72456193f7d23c4301dcf4": {
          "model_module": "@jupyter-widgets/base",
          "model_name": "LayoutModel",
          "state": {
            "_view_name": "LayoutView",
            "grid_template_rows": null,
            "right": null,
            "justify_content": null,
            "_view_module": "@jupyter-widgets/base",
            "overflow": null,
            "_model_module_version": "1.2.0",
            "_view_count": null,
            "flex_flow": null,
            "width": null,
            "min_width": null,
            "border": null,
            "align_items": null,
            "bottom": null,
            "_model_module": "@jupyter-widgets/base",
            "top": null,
            "grid_column": null,
            "overflow_y": null,
            "overflow_x": null,
            "grid_auto_flow": null,
            "grid_area": null,
            "grid_template_columns": null,
            "flex": null,
            "_model_name": "LayoutModel",
            "justify_items": null,
            "grid_row": null,
            "max_height": null,
            "align_content": null,
            "visibility": null,
            "align_self": null,
            "height": null,
            "min_height": null,
            "padding": null,
            "grid_auto_rows": null,
            "grid_gap": null,
            "max_width": null,
            "order": null,
            "_view_module_version": "1.2.0",
            "grid_template_areas": null,
            "object_position": null,
            "object_fit": null,
            "grid_auto_columns": null,
            "margin": null,
            "display": null,
            "left": null
          }
        },
        "5edd0572482145a3a873b2572ace6fa0": {
          "model_module": "@jupyter-widgets/controls",
          "model_name": "HBoxModel",
          "state": {
            "_view_name": "HBoxView",
            "_dom_classes": [],
            "_model_name": "HBoxModel",
            "_view_module": "@jupyter-widgets/controls",
            "_model_module_version": "1.5.0",
            "_view_count": null,
            "_view_module_version": "1.5.0",
            "box_style": "",
            "layout": "IPY_MODEL_d4652c767762440e8b541e54c1aa2b85",
            "_model_module": "@jupyter-widgets/controls",
            "children": [
              "IPY_MODEL_19b0d7ac1ae14bdb942b46f6b85db874",
              "IPY_MODEL_9b5d08fccbe64264aed2b3fd7e830e51"
            ]
          }
        },
        "d4652c767762440e8b541e54c1aa2b85": {
          "model_module": "@jupyter-widgets/base",
          "model_name": "LayoutModel",
          "state": {
            "_view_name": "LayoutView",
            "grid_template_rows": null,
            "right": null,
            "justify_content": null,
            "_view_module": "@jupyter-widgets/base",
            "overflow": null,
            "_model_module_version": "1.2.0",
            "_view_count": null,
            "flex_flow": null,
            "width": null,
            "min_width": null,
            "border": null,
            "align_items": null,
            "bottom": null,
            "_model_module": "@jupyter-widgets/base",
            "top": null,
            "grid_column": null,
            "overflow_y": null,
            "overflow_x": null,
            "grid_auto_flow": null,
            "grid_area": null,
            "grid_template_columns": null,
            "flex": null,
            "_model_name": "LayoutModel",
            "justify_items": null,
            "grid_row": null,
            "max_height": null,
            "align_content": null,
            "visibility": null,
            "align_self": null,
            "height": null,
            "min_height": null,
            "padding": null,
            "grid_auto_rows": null,
            "grid_gap": null,
            "max_width": null,
            "order": null,
            "_view_module_version": "1.2.0",
            "grid_template_areas": null,
            "object_position": null,
            "object_fit": null,
            "grid_auto_columns": null,
            "margin": null,
            "display": null,
            "left": null
          }
        },
        "19b0d7ac1ae14bdb942b46f6b85db874": {
          "model_module": "@jupyter-widgets/controls",
          "model_name": "FloatProgressModel",
          "state": {
            "_view_name": "ProgressView",
            "style": "IPY_MODEL_1dc6d8d01c5b4105976b3dcbe72e14e9",
            "_dom_classes": [],
            "description": "",
            "_model_name": "FloatProgressModel",
            "bar_style": "success",
            "max": 1,
            "_view_module": "@jupyter-widgets/controls",
            "_model_module_version": "1.5.0",
            "value": 1,
            "_view_count": null,
            "_view_module_version": "1.5.0",
            "orientation": "horizontal",
            "min": 0,
            "description_tooltip": null,
            "_model_module": "@jupyter-widgets/controls",
            "layout": "IPY_MODEL_e9a28c19f14249bdb527d784d0f63cab"
          }
        },
        "9b5d08fccbe64264aed2b3fd7e830e51": {
          "model_module": "@jupyter-widgets/controls",
          "model_name": "HTMLModel",
          "state": {
            "_view_name": "HTMLView",
            "style": "IPY_MODEL_dd3261d7c16d4134bb2d3108caf60133",
            "_dom_classes": [],
            "description": "",
            "_model_name": "HTMLModel",
            "placeholder": "​",
            "_view_module": "@jupyter-widgets/controls",
            "_model_module_version": "1.5.0",
            "value": " 32768/? [00:02&lt;00:00, 15494.72it/s]",
            "_view_count": null,
            "_view_module_version": "1.5.0",
            "description_tooltip": null,
            "_model_module": "@jupyter-widgets/controls",
            "layout": "IPY_MODEL_9d7a242a05f3487fbe76b1c0b86bd001"
          }
        },
        "1dc6d8d01c5b4105976b3dcbe72e14e9": {
          "model_module": "@jupyter-widgets/controls",
          "model_name": "ProgressStyleModel",
          "state": {
            "_view_name": "StyleView",
            "_model_name": "ProgressStyleModel",
            "description_width": "initial",
            "_view_module": "@jupyter-widgets/base",
            "_model_module_version": "1.5.0",
            "_view_count": null,
            "_view_module_version": "1.2.0",
            "bar_color": null,
            "_model_module": "@jupyter-widgets/controls"
          }
        },
        "e9a28c19f14249bdb527d784d0f63cab": {
          "model_module": "@jupyter-widgets/base",
          "model_name": "LayoutModel",
          "state": {
            "_view_name": "LayoutView",
            "grid_template_rows": null,
            "right": null,
            "justify_content": null,
            "_view_module": "@jupyter-widgets/base",
            "overflow": null,
            "_model_module_version": "1.2.0",
            "_view_count": null,
            "flex_flow": null,
            "width": null,
            "min_width": null,
            "border": null,
            "align_items": null,
            "bottom": null,
            "_model_module": "@jupyter-widgets/base",
            "top": null,
            "grid_column": null,
            "overflow_y": null,
            "overflow_x": null,
            "grid_auto_flow": null,
            "grid_area": null,
            "grid_template_columns": null,
            "flex": null,
            "_model_name": "LayoutModel",
            "justify_items": null,
            "grid_row": null,
            "max_height": null,
            "align_content": null,
            "visibility": null,
            "align_self": null,
            "height": null,
            "min_height": null,
            "padding": null,
            "grid_auto_rows": null,
            "grid_gap": null,
            "max_width": null,
            "order": null,
            "_view_module_version": "1.2.0",
            "grid_template_areas": null,
            "object_position": null,
            "object_fit": null,
            "grid_auto_columns": null,
            "margin": null,
            "display": null,
            "left": null
          }
        },
        "dd3261d7c16d4134bb2d3108caf60133": {
          "model_module": "@jupyter-widgets/controls",
          "model_name": "DescriptionStyleModel",
          "state": {
            "_view_name": "StyleView",
            "_model_name": "DescriptionStyleModel",
            "description_width": "",
            "_view_module": "@jupyter-widgets/base",
            "_model_module_version": "1.5.0",
            "_view_count": null,
            "_view_module_version": "1.2.0",
            "_model_module": "@jupyter-widgets/controls"
          }
        },
        "9d7a242a05f3487fbe76b1c0b86bd001": {
          "model_module": "@jupyter-widgets/base",
          "model_name": "LayoutModel",
          "state": {
            "_view_name": "LayoutView",
            "grid_template_rows": null,
            "right": null,
            "justify_content": null,
            "_view_module": "@jupyter-widgets/base",
            "overflow": null,
            "_model_module_version": "1.2.0",
            "_view_count": null,
            "flex_flow": null,
            "width": null,
            "min_width": null,
            "border": null,
            "align_items": null,
            "bottom": null,
            "_model_module": "@jupyter-widgets/base",
            "top": null,
            "grid_column": null,
            "overflow_y": null,
            "overflow_x": null,
            "grid_auto_flow": null,
            "grid_area": null,
            "grid_template_columns": null,
            "flex": null,
            "_model_name": "LayoutModel",
            "justify_items": null,
            "grid_row": null,
            "max_height": null,
            "align_content": null,
            "visibility": null,
            "align_self": null,
            "height": null,
            "min_height": null,
            "padding": null,
            "grid_auto_rows": null,
            "grid_gap": null,
            "max_width": null,
            "order": null,
            "_view_module_version": "1.2.0",
            "grid_template_areas": null,
            "object_position": null,
            "object_fit": null,
            "grid_auto_columns": null,
            "margin": null,
            "display": null,
            "left": null
          }
        },
        "7e120ca49bc04b91912d7a95fa6f8bfb": {
          "model_module": "@jupyter-widgets/controls",
          "model_name": "HBoxModel",
          "state": {
            "_view_name": "HBoxView",
            "_dom_classes": [],
            "_model_name": "HBoxModel",
            "_view_module": "@jupyter-widgets/controls",
            "_model_module_version": "1.5.0",
            "_view_count": null,
            "_view_module_version": "1.5.0",
            "box_style": "",
            "layout": "IPY_MODEL_c93f9814c2814bf88a59b48ac72d9475",
            "_model_module": "@jupyter-widgets/controls",
            "children": [
              "IPY_MODEL_9ddcd36e6de54397a5b5402c47678d82",
              "IPY_MODEL_bd2d832ac007462fb9b2b38bf16cd81e"
            ]
          }
        },
        "c93f9814c2814bf88a59b48ac72d9475": {
          "model_module": "@jupyter-widgets/base",
          "model_name": "LayoutModel",
          "state": {
            "_view_name": "LayoutView",
            "grid_template_rows": null,
            "right": null,
            "justify_content": null,
            "_view_module": "@jupyter-widgets/base",
            "overflow": null,
            "_model_module_version": "1.2.0",
            "_view_count": null,
            "flex_flow": null,
            "width": null,
            "min_width": null,
            "border": null,
            "align_items": null,
            "bottom": null,
            "_model_module": "@jupyter-widgets/base",
            "top": null,
            "grid_column": null,
            "overflow_y": null,
            "overflow_x": null,
            "grid_auto_flow": null,
            "grid_area": null,
            "grid_template_columns": null,
            "flex": null,
            "_model_name": "LayoutModel",
            "justify_items": null,
            "grid_row": null,
            "max_height": null,
            "align_content": null,
            "visibility": null,
            "align_self": null,
            "height": null,
            "min_height": null,
            "padding": null,
            "grid_auto_rows": null,
            "grid_gap": null,
            "max_width": null,
            "order": null,
            "_view_module_version": "1.2.0",
            "grid_template_areas": null,
            "object_position": null,
            "object_fit": null,
            "grid_auto_columns": null,
            "margin": null,
            "display": null,
            "left": null
          }
        },
        "9ddcd36e6de54397a5b5402c47678d82": {
          "model_module": "@jupyter-widgets/controls",
          "model_name": "FloatProgressModel",
          "state": {
            "_view_name": "ProgressView",
            "style": "IPY_MODEL_f499e42844cc4197bdd835399c21d1a8",
            "_dom_classes": [],
            "description": "",
            "_model_name": "FloatProgressModel",
            "bar_style": "success",
            "max": 1,
            "_view_module": "@jupyter-widgets/controls",
            "_model_module_version": "1.5.0",
            "value": 1,
            "_view_count": null,
            "_view_module_version": "1.5.0",
            "orientation": "horizontal",
            "min": 0,
            "description_tooltip": null,
            "_model_module": "@jupyter-widgets/controls",
            "layout": "IPY_MODEL_8ee3d68fed5741cea07a2d8180676042"
          }
        },
        "bd2d832ac007462fb9b2b38bf16cd81e": {
          "model_module": "@jupyter-widgets/controls",
          "model_name": "HTMLModel",
          "state": {
            "_view_name": "HTMLView",
            "style": "IPY_MODEL_39162794121141328e87eb0bb19ebdb8",
            "_dom_classes": [],
            "description": "",
            "_model_name": "HTMLModel",
            "placeholder": "​",
            "_view_module": "@jupyter-widgets/controls",
            "_model_module_version": "1.5.0",
            "value": " 1654784/? [00:01&lt;00:00, 1089261.44it/s]",
            "_view_count": null,
            "_view_module_version": "1.5.0",
            "description_tooltip": null,
            "_model_module": "@jupyter-widgets/controls",
            "layout": "IPY_MODEL_067a8d239a534815bb9e5e0dc449bf78"
          }
        },
        "f499e42844cc4197bdd835399c21d1a8": {
          "model_module": "@jupyter-widgets/controls",
          "model_name": "ProgressStyleModel",
          "state": {
            "_view_name": "StyleView",
            "_model_name": "ProgressStyleModel",
            "description_width": "initial",
            "_view_module": "@jupyter-widgets/base",
            "_model_module_version": "1.5.0",
            "_view_count": null,
            "_view_module_version": "1.2.0",
            "bar_color": null,
            "_model_module": "@jupyter-widgets/controls"
          }
        },
        "8ee3d68fed5741cea07a2d8180676042": {
          "model_module": "@jupyter-widgets/base",
          "model_name": "LayoutModel",
          "state": {
            "_view_name": "LayoutView",
            "grid_template_rows": null,
            "right": null,
            "justify_content": null,
            "_view_module": "@jupyter-widgets/base",
            "overflow": null,
            "_model_module_version": "1.2.0",
            "_view_count": null,
            "flex_flow": null,
            "width": null,
            "min_width": null,
            "border": null,
            "align_items": null,
            "bottom": null,
            "_model_module": "@jupyter-widgets/base",
            "top": null,
            "grid_column": null,
            "overflow_y": null,
            "overflow_x": null,
            "grid_auto_flow": null,
            "grid_area": null,
            "grid_template_columns": null,
            "flex": null,
            "_model_name": "LayoutModel",
            "justify_items": null,
            "grid_row": null,
            "max_height": null,
            "align_content": null,
            "visibility": null,
            "align_self": null,
            "height": null,
            "min_height": null,
            "padding": null,
            "grid_auto_rows": null,
            "grid_gap": null,
            "max_width": null,
            "order": null,
            "_view_module_version": "1.2.0",
            "grid_template_areas": null,
            "object_position": null,
            "object_fit": null,
            "grid_auto_columns": null,
            "margin": null,
            "display": null,
            "left": null
          }
        },
        "39162794121141328e87eb0bb19ebdb8": {
          "model_module": "@jupyter-widgets/controls",
          "model_name": "DescriptionStyleModel",
          "state": {
            "_view_name": "StyleView",
            "_model_name": "DescriptionStyleModel",
            "description_width": "",
            "_view_module": "@jupyter-widgets/base",
            "_model_module_version": "1.5.0",
            "_view_count": null,
            "_view_module_version": "1.2.0",
            "_model_module": "@jupyter-widgets/controls"
          }
        },
        "067a8d239a534815bb9e5e0dc449bf78": {
          "model_module": "@jupyter-widgets/base",
          "model_name": "LayoutModel",
          "state": {
            "_view_name": "LayoutView",
            "grid_template_rows": null,
            "right": null,
            "justify_content": null,
            "_view_module": "@jupyter-widgets/base",
            "overflow": null,
            "_model_module_version": "1.2.0",
            "_view_count": null,
            "flex_flow": null,
            "width": null,
            "min_width": null,
            "border": null,
            "align_items": null,
            "bottom": null,
            "_model_module": "@jupyter-widgets/base",
            "top": null,
            "grid_column": null,
            "overflow_y": null,
            "overflow_x": null,
            "grid_auto_flow": null,
            "grid_area": null,
            "grid_template_columns": null,
            "flex": null,
            "_model_name": "LayoutModel",
            "justify_items": null,
            "grid_row": null,
            "max_height": null,
            "align_content": null,
            "visibility": null,
            "align_self": null,
            "height": null,
            "min_height": null,
            "padding": null,
            "grid_auto_rows": null,
            "grid_gap": null,
            "max_width": null,
            "order": null,
            "_view_module_version": "1.2.0",
            "grid_template_areas": null,
            "object_position": null,
            "object_fit": null,
            "grid_auto_columns": null,
            "margin": null,
            "display": null,
            "left": null
          }
        },
        "573ce740afd049ee80cf4b7375c5390e": {
          "model_module": "@jupyter-widgets/controls",
          "model_name": "HBoxModel",
          "state": {
            "_view_name": "HBoxView",
            "_dom_classes": [],
            "_model_name": "HBoxModel",
            "_view_module": "@jupyter-widgets/controls",
            "_model_module_version": "1.5.0",
            "_view_count": null,
            "_view_module_version": "1.5.0",
            "box_style": "",
            "layout": "IPY_MODEL_0cef2e857c6d41e3b4723cbec0b1dd97",
            "_model_module": "@jupyter-widgets/controls",
            "children": [
              "IPY_MODEL_96757f9cd5a448af883dbb00189e455c",
              "IPY_MODEL_cdd13ab59b124788b58cb26508df1306"
            ]
          }
        },
        "0cef2e857c6d41e3b4723cbec0b1dd97": {
          "model_module": "@jupyter-widgets/base",
          "model_name": "LayoutModel",
          "state": {
            "_view_name": "LayoutView",
            "grid_template_rows": null,
            "right": null,
            "justify_content": null,
            "_view_module": "@jupyter-widgets/base",
            "overflow": null,
            "_model_module_version": "1.2.0",
            "_view_count": null,
            "flex_flow": null,
            "width": null,
            "min_width": null,
            "border": null,
            "align_items": null,
            "bottom": null,
            "_model_module": "@jupyter-widgets/base",
            "top": null,
            "grid_column": null,
            "overflow_y": null,
            "overflow_x": null,
            "grid_auto_flow": null,
            "grid_area": null,
            "grid_template_columns": null,
            "flex": null,
            "_model_name": "LayoutModel",
            "justify_items": null,
            "grid_row": null,
            "max_height": null,
            "align_content": null,
            "visibility": null,
            "align_self": null,
            "height": null,
            "min_height": null,
            "padding": null,
            "grid_auto_rows": null,
            "grid_gap": null,
            "max_width": null,
            "order": null,
            "_view_module_version": "1.2.0",
            "grid_template_areas": null,
            "object_position": null,
            "object_fit": null,
            "grid_auto_columns": null,
            "margin": null,
            "display": null,
            "left": null
          }
        },
        "96757f9cd5a448af883dbb00189e455c": {
          "model_module": "@jupyter-widgets/controls",
          "model_name": "FloatProgressModel",
          "state": {
            "_view_name": "ProgressView",
            "style": "IPY_MODEL_b5cdc236b5bd4a41b5e39aff437703ce",
            "_dom_classes": [],
            "description": "",
            "_model_name": "FloatProgressModel",
            "bar_style": "success",
            "max": 1,
            "_view_module": "@jupyter-widgets/controls",
            "_model_module_version": "1.5.0",
            "value": 1,
            "_view_count": null,
            "_view_module_version": "1.5.0",
            "orientation": "horizontal",
            "min": 0,
            "description_tooltip": null,
            "_model_module": "@jupyter-widgets/controls",
            "layout": "IPY_MODEL_052c910e7bfe49a9888becd1fde96aaf"
          }
        },
        "cdd13ab59b124788b58cb26508df1306": {
          "model_module": "@jupyter-widgets/controls",
          "model_name": "HTMLModel",
          "state": {
            "_view_name": "HTMLView",
            "style": "IPY_MODEL_90cdf02e557844cbb76bf8e1b4bec7e2",
            "_dom_classes": [],
            "description": "",
            "_model_name": "HTMLModel",
            "placeholder": "​",
            "_view_module": "@jupyter-widgets/controls",
            "_model_module_version": "1.5.0",
            "value": " 8192/? [00:00&lt;00:00, 11553.41it/s]",
            "_view_count": null,
            "_view_module_version": "1.5.0",
            "description_tooltip": null,
            "_model_module": "@jupyter-widgets/controls",
            "layout": "IPY_MODEL_691a7b288b404befbdb9d565cb521a17"
          }
        },
        "b5cdc236b5bd4a41b5e39aff437703ce": {
          "model_module": "@jupyter-widgets/controls",
          "model_name": "ProgressStyleModel",
          "state": {
            "_view_name": "StyleView",
            "_model_name": "ProgressStyleModel",
            "description_width": "initial",
            "_view_module": "@jupyter-widgets/base",
            "_model_module_version": "1.5.0",
            "_view_count": null,
            "_view_module_version": "1.2.0",
            "bar_color": null,
            "_model_module": "@jupyter-widgets/controls"
          }
        },
        "052c910e7bfe49a9888becd1fde96aaf": {
          "model_module": "@jupyter-widgets/base",
          "model_name": "LayoutModel",
          "state": {
            "_view_name": "LayoutView",
            "grid_template_rows": null,
            "right": null,
            "justify_content": null,
            "_view_module": "@jupyter-widgets/base",
            "overflow": null,
            "_model_module_version": "1.2.0",
            "_view_count": null,
            "flex_flow": null,
            "width": null,
            "min_width": null,
            "border": null,
            "align_items": null,
            "bottom": null,
            "_model_module": "@jupyter-widgets/base",
            "top": null,
            "grid_column": null,
            "overflow_y": null,
            "overflow_x": null,
            "grid_auto_flow": null,
            "grid_area": null,
            "grid_template_columns": null,
            "flex": null,
            "_model_name": "LayoutModel",
            "justify_items": null,
            "grid_row": null,
            "max_height": null,
            "align_content": null,
            "visibility": null,
            "align_self": null,
            "height": null,
            "min_height": null,
            "padding": null,
            "grid_auto_rows": null,
            "grid_gap": null,
            "max_width": null,
            "order": null,
            "_view_module_version": "1.2.0",
            "grid_template_areas": null,
            "object_position": null,
            "object_fit": null,
            "grid_auto_columns": null,
            "margin": null,
            "display": null,
            "left": null
          }
        },
        "90cdf02e557844cbb76bf8e1b4bec7e2": {
          "model_module": "@jupyter-widgets/controls",
          "model_name": "DescriptionStyleModel",
          "state": {
            "_view_name": "StyleView",
            "_model_name": "DescriptionStyleModel",
            "description_width": "",
            "_view_module": "@jupyter-widgets/base",
            "_model_module_version": "1.5.0",
            "_view_count": null,
            "_view_module_version": "1.2.0",
            "_model_module": "@jupyter-widgets/controls"
          }
        },
        "691a7b288b404befbdb9d565cb521a17": {
          "model_module": "@jupyter-widgets/base",
          "model_name": "LayoutModel",
          "state": {
            "_view_name": "LayoutView",
            "grid_template_rows": null,
            "right": null,
            "justify_content": null,
            "_view_module": "@jupyter-widgets/base",
            "overflow": null,
            "_model_module_version": "1.2.0",
            "_view_count": null,
            "flex_flow": null,
            "width": null,
            "min_width": null,
            "border": null,
            "align_items": null,
            "bottom": null,
            "_model_module": "@jupyter-widgets/base",
            "top": null,
            "grid_column": null,
            "overflow_y": null,
            "overflow_x": null,
            "grid_auto_flow": null,
            "grid_area": null,
            "grid_template_columns": null,
            "flex": null,
            "_model_name": "LayoutModel",
            "justify_items": null,
            "grid_row": null,
            "max_height": null,
            "align_content": null,
            "visibility": null,
            "align_self": null,
            "height": null,
            "min_height": null,
            "padding": null,
            "grid_auto_rows": null,
            "grid_gap": null,
            "max_width": null,
            "order": null,
            "_view_module_version": "1.2.0",
            "grid_template_areas": null,
            "object_position": null,
            "object_fit": null,
            "grid_auto_columns": null,
            "margin": null,
            "display": null,
            "left": null
          }
        }
      }
    }
  },
  "cells": [
    {
      "cell_type": "markdown",
      "metadata": {
        "id": "view-in-github",
        "colab_type": "text"
      },
      "source": [
        "<a href=\"https://colab.research.google.com/github/jiku100/2020-2-machine-running-proejct/blob/master/assignment10/%EC%8B%A0%EC%84%9D%EA%B2%BD_assignment_10.ipynb\" target=\"_parent\"><img src=\"https://colab.research.google.com/assets/colab-badge.svg\" alt=\"Open In Colab\"/></a>"
      ]
    },
    {
      "cell_type": "markdown",
      "metadata": {
        "id": "0gzdXwFJz0KJ"
      },
      "source": [
        "# **Classification for Multiple Categories using Pytorch for best accuracy**\n",
        "\n"
      ]
    },
    {
      "cell_type": "markdown",
      "metadata": {
        "id": "w_C7Cujjz4ff"
      },
      "source": [
        "# 1. Import library\n",
        "<hr>"
      ]
    },
    {
      "cell_type": "code",
      "metadata": {
        "id": "gtlbKT3Izgre"
      },
      "source": [
        "import torch\n",
        "import torch.nn as nn\n",
        "import torch.optim as optim\n",
        "import torch.nn.init as init\n",
        "import torchvision\n",
        "import torchvision.transforms as transforms\n",
        "import torchvision.datasets as datasets\n",
        "from torch.utils.data import DataLoader\n",
        "\n",
        "import matplotlib.pyplot as plt\n",
        "import cv2\n",
        "import numpy as np"
      ],
      "execution_count": 1,
      "outputs": []
    },
    {
      "cell_type": "code",
      "metadata": {
        "colab": {
          "base_uri": "https://localhost:8080/"
        },
        "id": "JC9KWsHg7lTJ",
        "outputId": "cb5711b5-f77f-49f5-ded2-a744251bdae5"
      },
      "source": [
        "USE_CUDA = torch.cuda.is_available()\n",
        "device = torch.device(\"cuda\" if USE_CUDA else \"cpu\")\n",
        "print(\"다음 기기로 학습합니다:\", device)"
      ],
      "execution_count": 2,
      "outputs": [
        {
          "output_type": "stream",
          "text": [
            "다음 기기로 학습합니다: cuda\n"
          ],
          "name": "stdout"
        }
      ]
    },
    {
      "cell_type": "markdown",
      "metadata": {
        "id": "nBCurPvD3NoM"
      },
      "source": [
        "# 2. Preprocessing Data\n",
        "<hr>"
      ]
    },
    {
      "cell_type": "code",
      "metadata": {
        "id": "4tVba13YD-s9"
      },
      "source": [
        "transform_train = transforms.Compose([\n",
        "        transforms.ToTensor(),\n",
        "        transforms.RandomRotation(15),\n",
        "        transforms.Normalize((0.1307,),(0.3081,))                    # 이미지를 텐서로 변형합니다.\n",
        "])\n",
        "\n",
        "transform_test = transforms.Compose([\n",
        "        transforms.ToTensor(), \n",
        "        transforms.Normalize((0.1307,),(0.3081,))            \n",
        "])"
      ],
      "execution_count": 3,
      "outputs": []
    },
    {
      "cell_type": "code",
      "metadata": {
        "colab": {
          "base_uri": "https://localhost:8080/",
          "height": 375,
          "referenced_widgets": [
            "66d94a68609e4643a726c071b0b98bfc",
            "d0ec430f860e4257a9211360e3aa6ccd",
            "c8f901660cd24620ade88ca187b99d96",
            "33e097b3b3464444b8bf6d801777c30f",
            "fdf9758948d446678ac28bdd064ef26d",
            "1ceee82f43814eb38e93024552ba03ad",
            "b06e0f68a87340b881422bf6b8a941c9",
            "138857cc8f72456193f7d23c4301dcf4",
            "5edd0572482145a3a873b2572ace6fa0",
            "d4652c767762440e8b541e54c1aa2b85",
            "19b0d7ac1ae14bdb942b46f6b85db874",
            "9b5d08fccbe64264aed2b3fd7e830e51",
            "1dc6d8d01c5b4105976b3dcbe72e14e9",
            "e9a28c19f14249bdb527d784d0f63cab",
            "dd3261d7c16d4134bb2d3108caf60133",
            "9d7a242a05f3487fbe76b1c0b86bd001",
            "7e120ca49bc04b91912d7a95fa6f8bfb",
            "c93f9814c2814bf88a59b48ac72d9475",
            "9ddcd36e6de54397a5b5402c47678d82",
            "bd2d832ac007462fb9b2b38bf16cd81e",
            "f499e42844cc4197bdd835399c21d1a8",
            "8ee3d68fed5741cea07a2d8180676042",
            "39162794121141328e87eb0bb19ebdb8",
            "067a8d239a534815bb9e5e0dc449bf78",
            "573ce740afd049ee80cf4b7375c5390e",
            "0cef2e857c6d41e3b4723cbec0b1dd97",
            "96757f9cd5a448af883dbb00189e455c",
            "cdd13ab59b124788b58cb26508df1306",
            "b5cdc236b5bd4a41b5e39aff437703ce",
            "052c910e7bfe49a9888becd1fde96aaf",
            "90cdf02e557844cbb76bf8e1b4bec7e2",
            "691a7b288b404befbdb9d565cb521a17"
          ]
        },
        "id": "1uNdu0HqJEQv",
        "outputId": "8cd9b84f-9f4d-45d6-e99c-f10cf1ed0938"
      },
      "source": [
        "data_path = './MNIST'\n",
        "\n",
        "data_test   = datasets.MNIST(root = data_path, train= True, download=True, transform= transform_test)\n",
        "data_train  = datasets.MNIST(root = data_path, train= False, download=True, transform= transform_train)"
      ],
      "execution_count": 4,
      "outputs": [
        {
          "output_type": "stream",
          "text": [
            "Downloading http://yann.lecun.com/exdb/mnist/train-images-idx3-ubyte.gz to ./MNIST/MNIST/raw/train-images-idx3-ubyte.gz\n"
          ],
          "name": "stdout"
        },
        {
          "output_type": "display_data",
          "data": {
            "application/vnd.jupyter.widget-view+json": {
              "model_id": "66d94a68609e4643a726c071b0b98bfc",
              "version_minor": 0,
              "version_major": 2
            },
            "text/plain": [
              "HBox(children=(FloatProgress(value=1.0, bar_style='info', max=1.0), HTML(value='')))"
            ]
          },
          "metadata": {
            "tags": []
          }
        },
        {
          "output_type": "stream",
          "text": [
            "Extracting ./MNIST/MNIST/raw/train-images-idx3-ubyte.gz to ./MNIST/MNIST/raw\n",
            "Downloading http://yann.lecun.com/exdb/mnist/train-labels-idx1-ubyte.gz to ./MNIST/MNIST/raw/train-labels-idx1-ubyte.gz\n"
          ],
          "name": "stdout"
        },
        {
          "output_type": "display_data",
          "data": {
            "application/vnd.jupyter.widget-view+json": {
              "model_id": "5edd0572482145a3a873b2572ace6fa0",
              "version_minor": 0,
              "version_major": 2
            },
            "text/plain": [
              "HBox(children=(FloatProgress(value=1.0, bar_style='info', max=1.0), HTML(value='')))"
            ]
          },
          "metadata": {
            "tags": []
          }
        },
        {
          "output_type": "stream",
          "text": [
            "Extracting ./MNIST/MNIST/raw/train-labels-idx1-ubyte.gz to ./MNIST/MNIST/raw\n",
            "Downloading http://yann.lecun.com/exdb/mnist/t10k-images-idx3-ubyte.gz to ./MNIST/MNIST/raw/t10k-images-idx3-ubyte.gz\n"
          ],
          "name": "stdout"
        },
        {
          "output_type": "display_data",
          "data": {
            "application/vnd.jupyter.widget-view+json": {
              "model_id": "7e120ca49bc04b91912d7a95fa6f8bfb",
              "version_minor": 0,
              "version_major": 2
            },
            "text/plain": [
              "HBox(children=(FloatProgress(value=1.0, bar_style='info', max=1.0), HTML(value='')))"
            ]
          },
          "metadata": {
            "tags": []
          }
        },
        {
          "output_type": "stream",
          "text": [
            "Extracting ./MNIST/MNIST/raw/t10k-images-idx3-ubyte.gz to ./MNIST/MNIST/raw\n",
            "Downloading http://yann.lecun.com/exdb/mnist/t10k-labels-idx1-ubyte.gz to ./MNIST/MNIST/raw/t10k-labels-idx1-ubyte.gz\n"
          ],
          "name": "stdout"
        },
        {
          "output_type": "display_data",
          "data": {
            "application/vnd.jupyter.widget-view+json": {
              "model_id": "573ce740afd049ee80cf4b7375c5390e",
              "version_minor": 0,
              "version_major": 2
            },
            "text/plain": [
              "HBox(children=(FloatProgress(value=1.0, bar_style='info', max=1.0), HTML(value='')))"
            ]
          },
          "metadata": {
            "tags": []
          }
        },
        {
          "output_type": "stream",
          "text": [
            "Extracting ./MNIST/MNIST/raw/t10k-labels-idx1-ubyte.gz to ./MNIST/MNIST/raw\n",
            "Processing...\n",
            "Done!\n"
          ],
          "name": "stdout"
        },
        {
          "output_type": "stream",
          "text": [
            "/usr/local/lib/python3.6/dist-packages/torchvision/datasets/mnist.py:480: UserWarning: The given NumPy array is not writeable, and PyTorch does not support non-writeable tensors. This means you can write to the underlying (supposedly non-writeable) NumPy array using the tensor. You may want to copy the array to protect its data or make it writeable before converting it to a tensor. This type of warning will be suppressed for the rest of this program. (Triggered internally at  /pytorch/torch/csrc/utils/tensor_numpy.cpp:141.)\n",
            "  return torch.from_numpy(parsed.astype(m[2], copy=False)).view(*s)\n"
          ],
          "name": "stderr"
        }
      ]
    },
    {
      "cell_type": "code",
      "metadata": {
        "colab": {
          "base_uri": "https://localhost:8080/",
          "height": 457
        },
        "id": "8SJcK-t2D3Bp",
        "outputId": "0b6ab838-9210-4224-bc45-ca5fc8e637a6"
      },
      "source": [
        "one_image, label = data_train[0]\n",
        "print(\"type of one image\", type(one_image))\n",
        "print(\"size of one image : \", one_image.shape)\n",
        "plt.imshow(one_image.squeeze().numpy(), cmap='gray')\n",
        "print(\"type of label : \", type(label))\n",
        "print(\"label : \", label)\n",
        "print(np.max(data_train.train_data[0].view(-1).numpy()))"
      ],
      "execution_count": 5,
      "outputs": [
        {
          "output_type": "stream",
          "text": [
            "type of one image <class 'torch.Tensor'>\n",
            "size of one image :  torch.Size([1, 28, 28])\n",
            "\n",
            "\n",
            "type of label :  <class 'int'>\n",
            "label :  7\n",
            "255\n"
          ],
          "name": "stdout"
        },
        {
          "output_type": "stream",
          "text": [
            "/usr/local/lib/python3.6/dist-packages/torchvision/datasets/mnist.py:58: UserWarning: train_data has been renamed data\n",
            "  warnings.warn(\"train_data has been renamed data\")\n"
          ],
          "name": "stderr"
        },
        {
          "output_type": "display_data",
          "data": {
            "image/png": "[encoded data removed]",
            "text/plain": [
              "<Figure size 432x288 with 1 Axes>"
            ]
          },
          "metadata": {
            "tags": [],
            "needs_background": "light"
          }
        },
        {
          "output_type": "stream",
          "text": [
            "\n",
            "\n"
          ],
          "name": "stdout"
        }
      ]
    },
    {
      "cell_type": "code",
      "metadata": {
        "id": "lUj2JTgY4r4c"
      },
      "source": [
        "learning_rate = 0.0015\n",
        "training_epochs = 200\n",
        "batch_size = 16\n",
        "drop_prob = 0.3"
      ],
      "execution_count": 6,
      "outputs": []
    },
    {
      "cell_type": "code",
      "metadata": {
        "id": "CkgCtS3b3giF"
      },
      "source": [
        "train_loader = DataLoader(dataset = data_train, batch_size = batch_size, num_workers = 2, shuffle = True) ## batch size 32 짜리 train loader 생성\n",
        "test_loader = DataLoader(dataset = data_test, batch_size = batch_size, num_workers = 2, shuffle = True) ## batch size 32 짜리 test loader 생성"
      ],
      "execution_count": 7,
      "outputs": []
    },
    {
      "cell_type": "markdown",
      "metadata": {
        "id": "SCsB9Pdk6zd7"
      },
      "source": [
        "# 3. Define Model\n",
        "<hr>"
      ]
    },
    {
      "cell_type": "code",
      "metadata": {
        "id": "-cUHqcW25etQ"
      },
      "source": [
        "class classification(nn.Module):\n",
        "    def __init__(self):\n",
        "        super(classification, self).__init__()\n",
        "        \n",
        "        # construct layers for a neural network\n",
        "        self.classifier1 = nn.Sequential(\n",
        "            nn.Linear(in_features=28*28, out_features=20*20),\n",
        "            nn.BatchNorm1d(20*20),\n",
        "            nn.ReLU(),\n",
        "            nn.Dropout(p=drop_prob)\n",
        "        ) \n",
        "        self.classifier2 = nn.Sequential(\n",
        "            nn.Linear(in_features=20*20, out_features=200),\n",
        "            nn.BatchNorm1d(200),\n",
        "            nn.ReLU(),\n",
        "            nn.Dropout(p=drop_prob)\n",
        "        ) \n",
        "        self.classifier3 = nn.Sequential(\n",
        "            nn.Linear(in_features=200, out_features=10),\n",
        "        ) \n",
        "\n",
        "        for m in self.modules():\n",
        "          if isinstance(m, nn.Linear):\n",
        "            init.kaiming_normal_(m.weight.data) # Kaming He Initialization\n",
        "            m.bias.data.fill_(0)                # 편차를 0으로 초기화 \n",
        "\n",
        "    def forward(self, inputs):                 # [batchSize, 1, 28, 28]\n",
        "        x = inputs.view(inputs.size(0), -1)    # [batchSize, 28*28]\n",
        "        x = self.classifier1(x)                # [batchSize, 20*20]\n",
        "        x = self.classifier2(x)                # [batchSize, 10*10]\n",
        "        out = self.classifier3(x)              # [batchSize, 10]\n",
        "        \n",
        "        return out\n",
        "\n"
      ],
      "execution_count": 8,
      "outputs": []
    },
    {
      "cell_type": "code",
      "metadata": {
        "id": "MWYQ30d37dwC"
      },
      "source": [
        "model = classification().to(device)"
      ],
      "execution_count": 9,
      "outputs": []
    },
    {
      "cell_type": "code",
      "metadata": {
        "id": "-GpzWr1V64wc"
      },
      "source": [
        "criterion = nn.CrossEntropyLoss().to(device)    # Softmax is internally computed.\n",
        "optimizer = torch.optim.Adam(model.parameters(), lr=learning_rate)\n",
        "scheduler = optim.lr_scheduler.StepLR(optimizer, 5, gamma=0.1, last_epoch=-1)"
      ],
      "execution_count": 10,
      "outputs": []
    },
    {
      "cell_type": "markdown",
      "metadata": {
        "id": "lsNWP3Wk8Siq"
      },
      "source": [
        "# 4. Training\n",
        "<hr>"
      ]
    },
    {
      "cell_type": "code",
      "metadata": {
        "id": "1_QSSPkC7sCr"
      },
      "source": [
        "total_batch= len(train_loader)"
      ],
      "execution_count": 11,
      "outputs": []
    },
    {
      "cell_type": "code",
      "metadata": {
        "colab": {
          "base_uri": "https://localhost:8080/"
        },
        "id": "9_SeUrHB5gLH",
        "outputId": "815c4b1b-4c21-4e86-ff80-77a1e406f216"
      },
      "source": [
        "print(total_batch)"
      ],
      "execution_count": 12,
      "outputs": [
        {
          "output_type": "stream",
          "text": [
            "625\n"
          ],
          "name": "stdout"
        }
      ]
    },
    {
      "cell_type": "code",
      "metadata": {
        "id": "eaJMZ8TvcglJ"
      },
      "source": [
        "def accuracy(log_pred, y_true):\n",
        "    y_pred = torch.argmax(log_pred, dim=1)\n",
        "    return (y_pred == y_true).to(torch.float).mean()"
      ],
      "execution_count": 13,
      "outputs": []
    },
    {
      "cell_type": "code",
      "metadata": {
        "id": "Kl5FuVgt8_LF"
      },
      "source": [
        "def training(model, loss, optim, training_epochs, train_loader, test_loader):\n",
        "  L_iters_train = []\n",
        "  accuracy_train = []\n",
        "  L_iters_test = []\n",
        "  accuracy_test = []\n",
        "  for epoch in range(training_epochs):\n",
        "    total_cost_train = 0\n",
        "    total_cost_test = 0\n",
        "    total_acc_train = 0\n",
        "    total_acc_test = 0\n",
        "    model.train()\n",
        "    for X, Y in train_loader:\n",
        "      X = X.to(device)\n",
        "      Y = Y.to(device)\n",
        "\n",
        "      optim.zero_grad()\n",
        "      train_pred = model(X)\n",
        "      cost = loss(train_pred, Y)\n",
        "      cost.backward()\n",
        "      optim.step()\n",
        "\n",
        "      total_cost_train += cost\n",
        "      total_acc_train += accuracy(train_pred, Y)\n",
        "      \n",
        "    avg_cost_train = total_cost_train / len(train_loader)\n",
        "    avg_acc_train = total_acc_train / len(train_loader)\n",
        "\n",
        "    L_iters_train.append(avg_cost_train)\n",
        "    accuracy_train.append(avg_acc_train)\n",
        "    model.eval()\n",
        "    with torch.no_grad():\n",
        "      for X_test, Y_test in test_loader:\n",
        "        X_test = X_test.to(device)\n",
        "        Y_test = Y_test.to(device)\n",
        "        test_pred = model(X_test)\n",
        "        cost_test = loss(test_pred, Y_test)\n",
        "        total_cost_test += cost_test\n",
        "        total_acc_test += accuracy(test_pred, Y_test)\n",
        "      avg_cost_test = total_cost_test / len(test_loader)\n",
        "      avg_acc_test = total_acc_test / len(test_loader)\n",
        "    \n",
        "      accuracy_test.append(avg_acc_test)\n",
        "      L_iters_test.append(avg_cost_test)\n",
        "\n",
        "    print(\"Epoch: %02d Training Loss: %.9f Testing Loss: %.9f  Training Acc: %.9f Testing Acc: %.9f\" %((epoch + 1),avg_cost_train, avg_cost_test, avg_acc_train, avg_acc_test))\n",
        "  return L_iters_train, accuracy_train, L_iters_test, accuracy_test"
      ],
      "execution_count": 14,
      "outputs": []
    },
    {
      "cell_type": "code",
      "metadata": {
        "colab": {
          "base_uri": "https://localhost:8080/"
        },
        "id": "hOfKPriA84jq",
        "outputId": "f80d0888-77db-4979-8eea-75e9aadc9516"
      },
      "source": [
        "L_train, A_train, L_test, A_test = training(model, criterion, optimizer, training_epochs, train_loader, test_loader)"
      ],
      "execution_count": 15,
      "outputs": [
        {
          "output_type": "stream",
          "text": [
            "Epoch: 01 Training Loss: 0.597854316 Testing Loss: 0.235329524  Training Acc: 0.813299954 Testing Acc: 0.929833353\n",
            "Epoch: 02 Training Loss: 0.362548590 Testing Loss: 0.198736072  Training Acc: 0.888399959 Testing Acc: 0.939966679\n",
            "Epoch: 03 Training Loss: 0.318300217 Testing Loss: 0.181055591  Training Acc: 0.898199975 Testing Acc: 0.944516659\n",
            "Epoch: 04 Training Loss: 0.288982064 Testing Loss: 0.159625679  Training Acc: 0.903199971 Testing Acc: 0.952416658\n",
            "Epoch: 05 Training Loss: 0.244087026 Testing Loss: 0.149492666  Training Acc: 0.924099982 Testing Acc: 0.955633342\n",
            "Epoch: 06 Training Loss: 0.232680753 Testing Loss: 0.149157375  Training Acc: 0.923799992 Testing Acc: 0.954450011\n",
            "Epoch: 07 Training Loss: 0.234643474 Testing Loss: 0.141574308  Training Acc: 0.923299968 Testing Acc: 0.958800018\n",
            "Epoch: 08 Training Loss: 0.204299822 Testing Loss: 0.137430310  Training Acc: 0.933299959 Testing Acc: 0.959016681\n",
            "Epoch: 09 Training Loss: 0.198457181 Testing Loss: 0.122799911  Training Acc: 0.935299993 Testing Acc: 0.963533342\n",
            "Epoch: 10 Training Loss: 0.187148347 Testing Loss: 0.125321865  Training Acc: 0.938799977 Testing Acc: 0.962783337\n",
            "Epoch: 11 Training Loss: 0.188579872 Testing Loss: 0.126538113  Training Acc: 0.939699948 Testing Acc: 0.961750031\n",
            "Epoch: 12 Training Loss: 0.178048447 Testing Loss: 0.119064242  Training Acc: 0.941799998 Testing Acc: 0.965683341\n",
            "Epoch: 13 Training Loss: 0.167620689 Testing Loss: 0.122772262  Training Acc: 0.943899989 Testing Acc: 0.963800013\n",
            "Epoch: 14 Training Loss: 0.170638099 Testing Loss: 0.122917362  Training Acc: 0.944399953 Testing Acc: 0.964833319\n",
            "Epoch: 15 Training Loss: 0.160747960 Testing Loss: 0.124679208  Training Acc: 0.950699985 Testing Acc: 0.963416696\n",
            "Epoch: 16 Training Loss: 0.159612194 Testing Loss: 0.112907082  Training Acc: 0.949499965 Testing Acc: 0.967516661\n",
            "Epoch: 17 Training Loss: 0.151540786 Testing Loss: 0.112793684  Training Acc: 0.953599989 Testing Acc: 0.966966689\n",
            "Epoch: 18 Training Loss: 0.144638211 Testing Loss: 0.106481314  Training Acc: 0.953499973 Testing Acc: 0.969633341\n",
            "Epoch: 19 Training Loss: 0.142073482 Testing Loss: 0.102815710  Training Acc: 0.954599977 Testing Acc: 0.969616652\n",
            "Epoch: 20 Training Loss: 0.139730930 Testing Loss: 0.106652051  Training Acc: 0.956399977 Testing Acc: 0.969966650\n",
            "Epoch: 21 Training Loss: 0.144936457 Testing Loss: 0.116131835  Training Acc: 0.953799963 Testing Acc: 0.965900004\n",
            "Epoch: 22 Training Loss: 0.129015774 Testing Loss: 0.107184492  Training Acc: 0.960899949 Testing Acc: 0.969766676\n",
            "Epoch: 23 Training Loss: 0.130835429 Testing Loss: 0.107451797  Training Acc: 0.957399964 Testing Acc: 0.968566656\n",
            "Epoch: 24 Training Loss: 0.132640973 Testing Loss: 0.111824185  Training Acc: 0.954599977 Testing Acc: 0.968883336\n",
            "Epoch: 25 Training Loss: 0.119674824 Testing Loss: 0.102941401  Training Acc: 0.959299982 Testing Acc: 0.971100032\n",
            "Epoch: 26 Training Loss: 0.113336265 Testing Loss: 0.102192968  Training Acc: 0.963299990 Testing Acc: 0.971149981\n",
            "Epoch: 27 Training Loss: 0.112213463 Testing Loss: 0.110613443  Training Acc: 0.963699996 Testing Acc: 0.969550014\n",
            "Epoch: 28 Training Loss: 0.115292512 Testing Loss: 0.107515730  Training Acc: 0.960999966 Testing Acc: 0.969749987\n",
            "Epoch: 29 Training Loss: 0.125036120 Testing Loss: 0.108230814  Training Acc: 0.958399951 Testing Acc: 0.969583333\n",
            "Epoch: 30 Training Loss: 0.120078377 Testing Loss: 0.102517262  Training Acc: 0.960299969 Testing Acc: 0.971783340\n",
            "Epoch: 31 Training Loss: 0.119161814 Testing Loss: 0.103387520  Training Acc: 0.961099982 Testing Acc: 0.970750034\n",
            "Epoch: 32 Training Loss: 0.117504060 Testing Loss: 0.104360647  Training Acc: 0.963599980 Testing Acc: 0.971616685\n",
            "Epoch: 33 Training Loss: 0.108744100 Testing Loss: 0.110110044  Training Acc: 0.963000000 Testing Acc: 0.969150007\n",
            "Epoch: 34 Training Loss: 0.100032635 Testing Loss: 0.106132008  Training Acc: 0.967700005 Testing Acc: 0.970650017\n",
            "Epoch: 35 Training Loss: 0.099757381 Testing Loss: 0.107310906  Training Acc: 0.968099952 Testing Acc: 0.970866680\n",
            "Epoch: 36 Training Loss: 0.102784932 Testing Loss: 0.105663367  Training Acc: 0.966699958 Testing Acc: 0.971533358\n",
            "Epoch: 37 Training Loss: 0.102621369 Testing Loss: 0.108917907  Training Acc: 0.967799962 Testing Acc: 0.971466660\n",
            "Epoch: 38 Training Loss: 0.103096113 Testing Loss: 0.106909215  Training Acc: 0.967099965 Testing Acc: 0.970149994\n",
            "Epoch: 39 Training Loss: 0.107336029 Testing Loss: 0.109363168  Training Acc: 0.965099990 Testing Acc: 0.971433342\n",
            "Epoch: 40 Training Loss: 0.097955450 Testing Loss: 0.104715504  Training Acc: 0.966399968 Testing Acc: 0.971966684\n",
            "Epoch: 41 Training Loss: 0.099741690 Testing Loss: 0.107096717  Training Acc: 0.967399955 Testing Acc: 0.971000016\n",
            "Epoch: 42 Training Loss: 0.100885026 Testing Loss: 0.103146963  Training Acc: 0.968699992 Testing Acc: 0.971633315\n",
            "Epoch: 43 Training Loss: 0.098265998 Testing Loss: 0.103465453  Training Acc: 0.967099965 Testing Acc: 0.972350001\n",
            "Epoch: 44 Training Loss: 0.090750039 Testing Loss: 0.102169663  Training Acc: 0.970200002 Testing Acc: 0.971750021\n",
            "Epoch: 45 Training Loss: 0.089839406 Testing Loss: 0.103654198  Training Acc: 0.970299959 Testing Acc: 0.972483337\n",
            "Epoch: 46 Training Loss: 0.094327174 Testing Loss: 0.098391756  Training Acc: 0.970599949 Testing Acc: 0.972249985\n",
            "Epoch: 47 Training Loss: 0.089369588 Testing Loss: 0.104988664  Training Acc: 0.969599962 Testing Acc: 0.971583366\n",
            "Epoch: 48 Training Loss: 0.092047460 Testing Loss: 0.100162655  Training Acc: 0.969399989 Testing Acc: 0.972350001\n",
            "Epoch: 49 Training Loss: 0.083500370 Testing Loss: 0.104824051  Training Acc: 0.972299993 Testing Acc: 0.971516669\n",
            "Epoch: 50 Training Loss: 0.095660731 Testing Loss: 0.101403795  Training Acc: 0.969399989 Testing Acc: 0.973883331\n",
            "Epoch: 51 Training Loss: 0.083562754 Testing Loss: 0.105421804  Training Acc: 0.972599983 Testing Acc: 0.971800029\n",
            "Epoch: 52 Training Loss: 0.084647156 Testing Loss: 0.101415277  Training Acc: 0.972599983 Testing Acc: 0.972983360\n",
            "Epoch: 53 Training Loss: 0.087874591 Testing Loss: 0.103974298  Training Acc: 0.971499979 Testing Acc: 0.972316682\n",
            "Epoch: 54 Training Loss: 0.090067998 Testing Loss: 0.106407307  Training Acc: 0.971099973 Testing Acc: 0.971266687\n",
            "Epoch: 55 Training Loss: 0.082627460 Testing Loss: 0.100008413  Training Acc: 0.972999990 Testing Acc: 0.973933339\n",
            "Epoch: 56 Training Loss: 0.085674137 Testing Loss: 0.097918957  Training Acc: 0.972299993 Testing Acc: 0.973266661\n",
            "Epoch: 57 Training Loss: 0.079162896 Testing Loss: 0.100433439  Training Acc: 0.972399950 Testing Acc: 0.974166691\n",
            "Epoch: 58 Training Loss: 0.075630173 Testing Loss: 0.097616896  Training Acc: 0.976799965 Testing Acc: 0.974933326\n",
            "Epoch: 59 Training Loss: 0.075141728 Testing Loss: 0.099693291  Training Acc: 0.975199997 Testing Acc: 0.974166691\n",
            "Epoch: 60 Training Loss: 0.083519936 Testing Loss: 0.093856327  Training Acc: 0.972899973 Testing Acc: 0.975633323\n",
            "Epoch: 61 Training Loss: 0.078222647 Testing Loss: 0.100316346  Training Acc: 0.975499988 Testing Acc: 0.974600017\n",
            "Epoch: 62 Training Loss: 0.077231318 Testing Loss: 0.106313109  Training Acc: 0.973699987 Testing Acc: 0.973200023\n",
            "Epoch: 63 Training Loss: 0.075434707 Testing Loss: 0.106209949  Training Acc: 0.977099955 Testing Acc: 0.973749995\n",
            "Epoch: 64 Training Loss: 0.076134309 Testing Loss: 0.106020600  Training Acc: 0.975199997 Testing Acc: 0.973399997\n",
            "Epoch: 65 Training Loss: 0.078022957 Testing Loss: 0.101752721  Training Acc: 0.975199997 Testing Acc: 0.974399984\n",
            "Epoch: 66 Training Loss: 0.069740020 Testing Loss: 0.098819375  Training Acc: 0.976499975 Testing Acc: 0.974950016\n",
            "Epoch: 67 Training Loss: 0.082582586 Testing Loss: 0.098601587  Training Acc: 0.974599957 Testing Acc: 0.974866688\n",
            "Epoch: 68 Training Loss: 0.080486186 Testing Loss: 0.100783482  Training Acc: 0.973499954 Testing Acc: 0.974449992\n",
            "Epoch: 69 Training Loss: 0.076518409 Testing Loss: 0.098679356  Training Acc: 0.976199985 Testing Acc: 0.974650025\n",
            "Epoch: 70 Training Loss: 0.082616225 Testing Loss: 0.097139314  Training Acc: 0.974399984 Testing Acc: 0.974983335\n",
            "Epoch: 71 Training Loss: 0.073104799 Testing Loss: 0.101784691  Training Acc: 0.976999998 Testing Acc: 0.974600017\n",
            "Epoch: 72 Training Loss: 0.071733646 Testing Loss: 0.098741628  Training Acc: 0.979199946 Testing Acc: 0.975266695\n",
            "Epoch: 73 Training Loss: 0.077581845 Testing Loss: 0.102797478  Training Acc: 0.974399984 Testing Acc: 0.973316669\n",
            "Epoch: 74 Training Loss: 0.070756629 Testing Loss: 0.101249285  Training Acc: 0.975199997 Testing Acc: 0.974433362\n",
            "Epoch: 75 Training Loss: 0.067205831 Testing Loss: 0.104878545  Training Acc: 0.979499996 Testing Acc: 0.973616660\n",
            "Epoch: 76 Training Loss: 0.067669101 Testing Loss: 0.101908974  Training Acc: 0.976699948 Testing Acc: 0.975250006\n",
            "Epoch: 77 Training Loss: 0.075056255 Testing Loss: 0.114924207  Training Acc: 0.975499988 Testing Acc: 0.971583366\n",
            "Epoch: 78 Training Loss: 0.072760724 Testing Loss: 0.110146634  Training Acc: 0.976699948 Testing Acc: 0.973183334\n",
            "Epoch: 79 Training Loss: 0.073651277 Testing Loss: 0.102198526  Training Acc: 0.974399984 Testing Acc: 0.974399984\n",
            "Epoch: 80 Training Loss: 0.072534695 Testing Loss: 0.109596655  Training Acc: 0.976699948 Testing Acc: 0.973800004\n",
            "Epoch: 81 Training Loss: 0.070178047 Testing Loss: 0.108222783  Training Acc: 0.975799978 Testing Acc: 0.973833323\n",
            "Epoch: 82 Training Loss: 0.072440520 Testing Loss: 0.105836198  Training Acc: 0.976899981 Testing Acc: 0.973800004\n",
            "Epoch: 83 Training Loss: 0.072923787 Testing Loss: 0.106503792  Training Acc: 0.978100002 Testing Acc: 0.972816706\n",
            "Epoch: 84 Training Loss: 0.071608797 Testing Loss: 0.102536023  Training Acc: 0.977099955 Testing Acc: 0.974550009\n",
            "Epoch: 85 Training Loss: 0.065063879 Testing Loss: 0.106120557  Training Acc: 0.979299963 Testing Acc: 0.974516690\n",
            "Epoch: 86 Training Loss: 0.070114963 Testing Loss: 0.106119387  Training Acc: 0.976999998 Testing Acc: 0.975283325\n",
            "Epoch: 87 Training Loss: 0.064014010 Testing Loss: 0.106844254  Training Acc: 0.978799999 Testing Acc: 0.974799991\n",
            "Epoch: 88 Training Loss: 0.069678321 Testing Loss: 0.111461952  Training Acc: 0.977499962 Testing Acc: 0.974033356\n",
            "Epoch: 89 Training Loss: 0.066185445 Testing Loss: 0.104128905  Training Acc: 0.978199959 Testing Acc: 0.975866675\n",
            "Epoch: 90 Training Loss: 0.065657787 Testing Loss: 0.104227722  Training Acc: 0.978299975 Testing Acc: 0.975666702\n",
            "Epoch: 91 Training Loss: 0.063881293 Testing Loss: 0.104246877  Training Acc: 0.979299963 Testing Acc: 0.974900007\n",
            "Epoch: 92 Training Loss: 0.063475288 Testing Loss: 0.101277575  Training Acc: 0.979699969 Testing Acc: 0.975366652\n",
            "Epoch: 93 Training Loss: 0.065159157 Testing Loss: 0.104293935  Training Acc: 0.978899956 Testing Acc: 0.974799991\n",
            "Epoch: 94 Training Loss: 0.079675443 Testing Loss: 0.108257458  Training Acc: 0.975099981 Testing Acc: 0.973316669\n",
            "Epoch: 95 Training Loss: 0.071603723 Testing Loss: 0.097804032  Training Acc: 0.976999998 Testing Acc: 0.975216687\n",
            "Epoch: 96 Training Loss: 0.052949332 Testing Loss: 0.099516273  Training Acc: 0.983799994 Testing Acc: 0.976166666\n",
            "Epoch: 97 Training Loss: 0.074039206 Testing Loss: 0.103140399  Training Acc: 0.977400005 Testing Acc: 0.974316657\n",
            "Epoch: 98 Training Loss: 0.059648566 Testing Loss: 0.111236751  Training Acc: 0.980099976 Testing Acc: 0.974333346\n",
            "Epoch: 99 Training Loss: 0.056471452 Testing Loss: 0.115188994  Training Acc: 0.981199980 Testing Acc: 0.972400010\n",
            "Epoch: 100 Training Loss: 0.066326790 Testing Loss: 0.104407482  Training Acc: 0.978100002 Testing Acc: 0.974533319\n",
            "Epoch: 101 Training Loss: 0.062203802 Testing Loss: 0.106641188  Training Acc: 0.981299996 Testing Acc: 0.975149989\n",
            "Epoch: 102 Training Loss: 0.069545664 Testing Loss: 0.107222281  Training Acc: 0.977599978 Testing Acc: 0.974200010\n",
            "Epoch: 103 Training Loss: 0.059284363 Testing Loss: 0.101314895  Training Acc: 0.979999959 Testing Acc: 0.975683331\n",
            "Epoch: 104 Training Loss: 0.067108072 Testing Loss: 0.108092137  Training Acc: 0.977499962 Testing Acc: 0.974783361\n",
            "Epoch: 105 Training Loss: 0.052896418 Testing Loss: 0.105489098  Training Acc: 0.984299958 Testing Acc: 0.974900007\n",
            "Epoch: 106 Training Loss: 0.060843267 Testing Loss: 0.107097432  Training Acc: 0.979900002 Testing Acc: 0.975366652\n",
            "Epoch: 107 Training Loss: 0.061944444 Testing Loss: 0.105762891  Training Acc: 0.980099976 Testing Acc: 0.974849999\n",
            "Epoch: 108 Training Loss: 0.060999546 Testing Loss: 0.102877550  Training Acc: 0.979999959 Testing Acc: 0.975316703\n",
            "Epoch: 109 Training Loss: 0.053896606 Testing Loss: 0.101686127  Training Acc: 0.982699990 Testing Acc: 0.975616693\n",
            "Epoch: 110 Training Loss: 0.053187616 Testing Loss: 0.109563127  Training Acc: 0.981099963 Testing Acc: 0.974066675\n",
            "Epoch: 111 Training Loss: 0.056653976 Testing Loss: 0.112395465  Training Acc: 0.979799986 Testing Acc: 0.974150002\n",
            "Epoch: 112 Training Loss: 0.059104100 Testing Loss: 0.103069954  Training Acc: 0.981299996 Testing Acc: 0.976733327\n",
            "Epoch: 113 Training Loss: 0.059745476 Testing Loss: 0.103934802  Training Acc: 0.980199993 Testing Acc: 0.976350009\n",
            "Epoch: 114 Training Loss: 0.052481528 Testing Loss: 0.103392564  Training Acc: 0.981399953 Testing Acc: 0.976350009\n",
            "Epoch: 115 Training Loss: 0.065711476 Testing Loss: 0.100700662  Training Acc: 0.978499949 Testing Acc: 0.975849986\n",
            "Epoch: 116 Training Loss: 0.060343906 Testing Loss: 0.108032621  Training Acc: 0.979699969 Testing Acc: 0.974916697\n",
            "Epoch: 117 Training Loss: 0.056780163 Testing Loss: 0.102709159  Training Acc: 0.982400000 Testing Acc: 0.975499988\n",
            "Epoch: 118 Training Loss: 0.056047667 Testing Loss: 0.102888837  Training Acc: 0.982299984 Testing Acc: 0.975166678\n",
            "Epoch: 119 Training Loss: 0.057213634 Testing Loss: 0.111809187  Training Acc: 0.981299996 Testing Acc: 0.973616660\n",
            "Epoch: 120 Training Loss: 0.063002989 Testing Loss: 0.103900269  Training Acc: 0.978699982 Testing Acc: 0.975633323\n",
            "Epoch: 121 Training Loss: 0.054087497 Testing Loss: 0.105561316  Training Acc: 0.981799960 Testing Acc: 0.975450039\n",
            "Epoch: 122 Training Loss: 0.061547734 Testing Loss: 0.100166880  Training Acc: 0.979499996 Testing Acc: 0.975600004\n",
            "Epoch: 123 Training Loss: 0.064176664 Testing Loss: 0.103950784  Training Acc: 0.979199946 Testing Acc: 0.975683331\n",
            "Epoch: 124 Training Loss: 0.051447362 Testing Loss: 0.108092390  Training Acc: 0.983199954 Testing Acc: 0.975450039\n",
            "Epoch: 125 Training Loss: 0.064079836 Testing Loss: 0.104760028  Training Acc: 0.979099989 Testing Acc: 0.974716663\n",
            "Epoch: 126 Training Loss: 0.054680388 Testing Loss: 0.114138640  Training Acc: 0.981999993 Testing Acc: 0.974250019\n",
            "Epoch: 127 Training Loss: 0.053422600 Testing Loss: 0.104206048  Training Acc: 0.981899977 Testing Acc: 0.975549996\n",
            "Epoch: 128 Training Loss: 0.052837357 Testing Loss: 0.108994573  Training Acc: 0.984200001 Testing Acc: 0.975450039\n",
            "Epoch: 129 Training Loss: 0.056395054 Testing Loss: 0.112339266  Training Acc: 0.981599987 Testing Acc: 0.974550009\n",
            "Epoch: 130 Training Loss: 0.060292389 Testing Loss: 0.107045002  Training Acc: 0.980799973 Testing Acc: 0.975316703\n",
            "Epoch: 131 Training Loss: 0.054716803 Testing Loss: 0.109701633  Training Acc: 0.982899964 Testing Acc: 0.974483371\n",
            "Epoch: 132 Training Loss: 0.053923570 Testing Loss: 0.106593229  Training Acc: 0.982199967 Testing Acc: 0.975800037\n",
            "Epoch: 133 Training Loss: 0.056414068 Testing Loss: 0.110162728  Training Acc: 0.980499983 Testing Acc: 0.974933326\n",
            "Epoch: 134 Training Loss: 0.052050140 Testing Loss: 0.112992704  Training Acc: 0.983699977 Testing Acc: 0.974166691\n",
            "Epoch: 135 Training Loss: 0.051072117 Testing Loss: 0.108230248  Training Acc: 0.983799994 Testing Acc: 0.975416660\n",
            "Epoch: 136 Training Loss: 0.054413531 Testing Loss: 0.106858559  Training Acc: 0.981499970 Testing Acc: 0.975933373\n",
            "Epoch: 137 Training Loss: 0.055508301 Testing Loss: 0.103253439  Training Acc: 0.982199967 Testing Acc: 0.976416707\n",
            "Epoch: 138 Training Loss: 0.049662609 Testing Loss: 0.107709460  Training Acc: 0.983299971 Testing Acc: 0.976083338\n",
            "Epoch: 139 Training Loss: 0.059259921 Testing Loss: 0.109762974  Training Acc: 0.981199980 Testing Acc: 0.975083351\n",
            "Epoch: 140 Training Loss: 0.050218567 Testing Loss: 0.107759438  Training Acc: 0.983500004 Testing Acc: 0.975149989\n",
            "Epoch: 141 Training Loss: 0.056272149 Testing Loss: 0.104980052  Training Acc: 0.981599987 Testing Acc: 0.975016654\n",
            "Epoch: 142 Training Loss: 0.050010104 Testing Loss: 0.103450201  Training Acc: 0.983299971 Testing Acc: 0.976800025\n",
            "Epoch: 143 Training Loss: 0.054774046 Testing Loss: 0.105376907  Training Acc: 0.982099950 Testing Acc: 0.976116657\n",
            "Epoch: 144 Training Loss: 0.053571299 Testing Loss: 0.115518369  Training Acc: 0.982699990 Testing Acc: 0.974950016\n",
            "Epoch: 145 Training Loss: 0.048155095 Testing Loss: 0.109824881  Training Acc: 0.984099984 Testing Acc: 0.975566685\n",
            "Epoch: 146 Training Loss: 0.049256012 Testing Loss: 0.109866582  Training Acc: 0.983699977 Testing Acc: 0.975033343\n",
            "Epoch: 147 Training Loss: 0.057894945 Testing Loss: 0.115638018  Training Acc: 0.981700003 Testing Acc: 0.974683344\n",
            "Epoch: 148 Training Loss: 0.051966324 Testing Loss: 0.107200094  Training Acc: 0.982599974 Testing Acc: 0.975883365\n",
            "Epoch: 149 Training Loss: 0.055224724 Testing Loss: 0.107185312  Training Acc: 0.983099997 Testing Acc: 0.975433350\n",
            "Epoch: 150 Training Loss: 0.055070970 Testing Loss: 0.111378729  Training Acc: 0.982799947 Testing Acc: 0.975050032\n",
            "Epoch: 151 Training Loss: 0.057733726 Testing Loss: 0.105091028  Training Acc: 0.982999980 Testing Acc: 0.975433350\n",
            "Epoch: 152 Training Loss: 0.057740878 Testing Loss: 0.102454096  Training Acc: 0.981999993 Testing Acc: 0.976000011\n",
            "Epoch: 153 Training Loss: 0.052352823 Testing Loss: 0.108787313  Training Acc: 0.983099997 Testing Acc: 0.975350022\n",
            "Epoch: 154 Training Loss: 0.053000700 Testing Loss: 0.102363810  Training Acc: 0.983199954 Testing Acc: 0.977033317\n",
            "Epoch: 155 Training Loss: 0.047928721 Testing Loss: 0.108269818  Training Acc: 0.984099984 Testing Acc: 0.975683331\n",
            "Epoch: 156 Training Loss: 0.051431414 Testing Loss: 0.104574636  Training Acc: 0.982799947 Testing Acc: 0.975933373\n",
            "Epoch: 157 Training Loss: 0.048181117 Testing Loss: 0.106931001  Training Acc: 0.984299958 Testing Acc: 0.976599991\n",
            "Epoch: 158 Training Loss: 0.053629577 Testing Loss: 0.110434033  Training Acc: 0.982699990 Testing Acc: 0.975483358\n",
            "Epoch: 159 Training Loss: 0.041480403 Testing Loss: 0.106922224  Training Acc: 0.984699965 Testing Acc: 0.976166666\n",
            "Epoch: 160 Training Loss: 0.043470476 Testing Loss: 0.106837422  Training Acc: 0.985699952 Testing Acc: 0.975583315\n",
            "Epoch: 161 Training Loss: 0.049468387 Testing Loss: 0.112389907  Training Acc: 0.983599961 Testing Acc: 0.975250006\n",
            "Epoch: 162 Training Loss: 0.047976770 Testing Loss: 0.105316915  Training Acc: 0.985199988 Testing Acc: 0.976850033\n",
            "Epoch: 163 Training Loss: 0.055998240 Testing Loss: 0.111773320  Training Acc: 0.982699990 Testing Acc: 0.975750029\n",
            "Epoch: 164 Training Loss: 0.049225911 Testing Loss: 0.104169063  Training Acc: 0.984699965 Testing Acc: 0.976633370\n",
            "Epoch: 165 Training Loss: 0.052866325 Testing Loss: 0.109980598  Training Acc: 0.983199954 Testing Acc: 0.975783348\n",
            "Epoch: 166 Training Loss: 0.051219318 Testing Loss: 0.105791278  Training Acc: 0.983299971 Testing Acc: 0.976683319\n",
            "Epoch: 167 Training Loss: 0.052538175 Testing Loss: 0.113143183  Training Acc: 0.983399987 Testing Acc: 0.975600004\n",
            "Epoch: 168 Training Loss: 0.051552989 Testing Loss: 0.106659681  Training Acc: 0.982599974 Testing Acc: 0.976133347\n",
            "Epoch: 169 Training Loss: 0.050248988 Testing Loss: 0.104000814  Training Acc: 0.984399974 Testing Acc: 0.976883352\n",
            "Epoch: 170 Training Loss: 0.049707916 Testing Loss: 0.108367428  Training Acc: 0.985599995 Testing Acc: 0.975683331\n",
            "Epoch: 171 Training Loss: 0.045546409 Testing Loss: 0.108456351  Training Acc: 0.984499991 Testing Acc: 0.976183355\n",
            "Epoch: 172 Training Loss: 0.052087549 Testing Loss: 0.109345198  Training Acc: 0.984499991 Testing Acc: 0.975533366\n",
            "Epoch: 173 Training Loss: 0.056616466 Testing Loss: 0.100637957  Training Acc: 0.981599987 Testing Acc: 0.976866663\n",
            "Epoch: 174 Training Loss: 0.050698616 Testing Loss: 0.105958790  Training Acc: 0.984299958 Testing Acc: 0.976266682\n",
            "Epoch: 175 Training Loss: 0.048838966 Testing Loss: 0.106393591  Training Acc: 0.984399974 Testing Acc: 0.976150036\n",
            "Epoch: 176 Training Loss: 0.047539223 Testing Loss: 0.105039805  Training Acc: 0.983500004 Testing Acc: 0.975566685\n",
            "Epoch: 177 Training Loss: 0.040715314 Testing Loss: 0.106062822  Training Acc: 0.986799955 Testing Acc: 0.976450026\n",
            "Epoch: 178 Training Loss: 0.053873673 Testing Loss: 0.110791780  Training Acc: 0.984399974 Testing Acc: 0.975466669\n",
            "Epoch: 179 Training Loss: 0.053059421 Testing Loss: 0.106541686  Training Acc: 0.981399953 Testing Acc: 0.975950003\n",
            "Epoch: 180 Training Loss: 0.048535660 Testing Loss: 0.109717898  Training Acc: 0.985099971 Testing Acc: 0.975266695\n",
            "Epoch: 181 Training Loss: 0.047950950 Testing Loss: 0.104298480  Training Acc: 0.985599995 Testing Acc: 0.977366686\n",
            "Epoch: 182 Training Loss: 0.037310980 Testing Loss: 0.112080142  Training Acc: 0.988899946 Testing Acc: 0.975333333\n",
            "Epoch: 183 Training Loss: 0.044133987 Testing Loss: 0.119937785  Training Acc: 0.984999955 Testing Acc: 0.974516690\n",
            "Epoch: 184 Training Loss: 0.052306835 Testing Loss: 0.104655899  Training Acc: 0.983199954 Testing Acc: 0.976933360\n",
            "Epoch: 185 Training Loss: 0.046934951 Testing Loss: 0.107115954  Training Acc: 0.986299992 Testing Acc: 0.976483345\n",
            "Epoch: 186 Training Loss: 0.048223604 Testing Loss: 0.103034094  Training Acc: 0.984499991 Testing Acc: 0.976566672\n",
            "Epoch: 187 Training Loss: 0.038975123 Testing Loss: 0.107014611  Training Acc: 0.988099992 Testing Acc: 0.976050019\n",
            "Epoch: 188 Training Loss: 0.042998925 Testing Loss: 0.115436375  Training Acc: 0.985099971 Testing Acc: 0.974783361\n",
            "Epoch: 189 Training Loss: 0.045296513 Testing Loss: 0.107772730  Training Acc: 0.986799955 Testing Acc: 0.975533366\n",
            "Epoch: 190 Training Loss: 0.048649743 Testing Loss: 0.106615268  Training Acc: 0.984399974 Testing Acc: 0.976083338\n",
            "Epoch: 191 Training Loss: 0.047728151 Testing Loss: 0.112430483  Training Acc: 0.983899951 Testing Acc: 0.975016654\n",
            "Epoch: 192 Training Loss: 0.048710104 Testing Loss: 0.109219588  Training Acc: 0.983699977 Testing Acc: 0.976050019\n",
            "Epoch: 193 Training Loss: 0.053040788 Testing Loss: 0.107009165  Training Acc: 0.983199954 Testing Acc: 0.976233363\n",
            "Epoch: 194 Training Loss: 0.047892891 Testing Loss: 0.105523668  Training Acc: 0.985499978 Testing Acc: 0.976700008\n",
            "Epoch: 195 Training Loss: 0.047288120 Testing Loss: 0.114602432  Training Acc: 0.985599995 Testing Acc: 0.975616693\n",
            "Epoch: 196 Training Loss: 0.048413943 Testing Loss: 0.110983714  Training Acc: 0.985099971 Testing Acc: 0.975433350\n",
            "Epoch: 197 Training Loss: 0.048927255 Testing Loss: 0.112455919  Training Acc: 0.984599948 Testing Acc: 0.975600004\n",
            "Epoch: 198 Training Loss: 0.044826359 Testing Loss: 0.108716741  Training Acc: 0.985199988 Testing Acc: 0.975750029\n",
            "Epoch: 199 Training Loss: 0.044246078 Testing Loss: 0.108867139  Training Acc: 0.985699952 Testing Acc: 0.976166666\n",
            "Epoch: 200 Training Loss: 0.040506829 Testing Loss: 0.115042426  Training Acc: 0.986299992 Testing Acc: 0.975416660\n"
          ],
          "name": "stdout"
        }
      ]
    },
    {
      "cell_type": "code",
      "metadata": {
        "colab": {
          "base_uri": "https://localhost:8080/",
          "height": 592
        },
        "id": "vzn6YyGw9ULY",
        "outputId": "dafceb2a-a2f7-4877-c8f1-274c0a5878df"
      },
      "source": [
        "plt.figure(figsize = (10,10))\n",
        "plt.plot(L_train, linewidth = 2, c='b', label = \"train\")\n",
        "plt.plot(L_test, linewidth = 2, c='r', label = \"test\")\n",
        "plt.legend()\n",
        "plt.show()"
      ],
      "execution_count": 16,
      "outputs": [
        {
          "output_type": "display_data",
          "data": {
            "image/png": "[encoded data removed]",
            "text/plain": [
              "<Figure size 720x720 with 1 Axes>"
            ]
          },
          "metadata": {
            "tags": [],
            "needs_background": "light"
          }
        }
      ]
    },
    {
      "cell_type": "code",
      "metadata": {
        "colab": {
          "base_uri": "https://localhost:8080/",
          "height": 592
        },
        "id": "Rl1MuQhtqsg2",
        "outputId": "7b5d3865-5834-4cc6-c9a2-058f3f75c707"
      },
      "source": [
        "plt.figure(figsize = (10,10))\n",
        "plt.plot(A_train, linewidth = 2, c='b', label = \"train\")\n",
        "plt.plot(A_test, linewidth = 2, c='r', label = \"test\")\n",
        "plt.legend()\n",
        "plt.show()"
      ],
      "execution_count": 17,
      "outputs": [
        {
          "output_type": "display_data",
          "data": {
            "image/png": "[encoded data removed]",
            "text/plain": [
              "<Figure size 720x720 with 1 Axes>"
            ]
          },
          "metadata": {
            "tags": [],
            "needs_background": "light"
          }
        }
      ]
    },
    {
      "cell_type": "code",
      "metadata": {
        "colab": {
          "base_uri": "https://localhost:8080/"
        },
        "id": "4990rRublMpD",
        "outputId": "14c561e3-eb60-433b-a266-b520eb5a122e"
      },
      "source": [
        "print(\"training loss    %.2f\" %(L_train[-1]))\n",
        "print(\"testing loss     %.2f\" %(L_test[-1]))\n",
        "print(\"training acc    %.2f\" %(A_train[-1]))\n",
        "print(\"testing acc     %.2f\" %(A_test[-1]))"
      ],
      "execution_count": 18,
      "outputs": [
        {
          "output_type": "stream",
          "text": [
            "training loss    0.04\n",
            "testing loss     0.12\n",
            "training acc    0.99\n",
            "testing acc     0.98\n"
          ],
          "name": "stdout"
        }
      ]
    },
    {
      "cell_type": "markdown",
      "metadata": {
        "id": "z4L9RrzOz5xl"
      },
      "source": [
        "# 5. Output\n",
        "<hr>"
      ]
    },
    {
      "cell_type": "markdown",
      "metadata": {
        "id": "alN6-n0r0DTO"
      },
      "source": [
        "## 1. Plot the training and testing losses with a batch size of 32"
      ]
    },
    {
      "cell_type": "markdown",
      "metadata": {
        "id": "4t1dSyC1AVe0"
      },
      "source": [
        "## 2. Plot the training and testing accuracies with a batch size of 32"
      ]
    },
    {
      "cell_type": "markdown",
      "metadata": {
        "id": "px7XRkcnAnc7"
      },
      "source": [
        "## 3. Plot the training and testing losses with a batch size of 64"
      ]
    },
    {
      "cell_type": "markdown",
      "metadata": {
        "id": "gW87VTpwAtMB"
      },
      "source": [
        "## 4. Plot the training and testing accuracies with a batch size of 64"
      ]
    },
    {
      "cell_type": "markdown",
      "metadata": {
        "id": "Kl5XI9EVA6QH"
      },
      "source": [
        "## 5. Plot the training and testing losses with a batch size of 128"
      ]
    },
    {
      "cell_type": "markdown",
      "metadata": {
        "id": "10I91neJBHb1"
      },
      "source": [
        "## 6. Plot the training and testing accuracies with a batch size of 128"
      ]
    },
    {
      "cell_type": "markdown",
      "metadata": {
        "id": "iDI0NljKBNF9"
      },
      "source": [
        "## 7. Print the loss at convergence with different mini-batch sizes"
      ]
    },
    {
      "cell_type": "markdown",
      "metadata": {
        "id": "ifTX7c5MCLSf"
      },
      "source": [
        "## 8. Print the accuracy at convergence with different mini-batch sizes"
      ]
    },
    {
      "cell_type": "code",
      "metadata": {
        "id": "mpgCDaBpCWT_"
      },
      "source": [
        ""
      ],
      "execution_count": null,
      "outputs": []
    }
  ]
}