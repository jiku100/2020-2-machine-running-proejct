{
  "nbformat": 4,
  "nbformat_minor": 0,
  "metadata": {
    "accelerator": "GPU",
    "colab": {
      "name": "신석경_assignment_10",
      "provenance": [],
      "collapsed_sections": [],
      "authorship_tag": "ABX9TyOvkScLMgxbjKkClsD2w524",
      "include_colab_link": true
    },
    "kernelspec": {
      "display_name": "Python 3",
      "name": "python3"
    },
    "widgets": {
      "application/vnd.jupyter.widget-state+json": {
        "735582499aff4ec5b5eddca1c82a1e1b": {
          "model_module": "@jupyter-widgets/controls",
          "model_name": "HBoxModel",
          "state": {
            "_view_name": "HBoxView",
            "_dom_classes": [],
            "_model_name": "HBoxModel",
            "_view_module": "@jupyter-widgets/controls",
            "_model_module_version": "1.5.0",
            "_view_count": null,
            "_view_module_version": "1.5.0",
            "box_style": "",
            "layout": "IPY_MODEL_80be3eb41f1a4688a5ba3de58d502210",
            "_model_module": "@jupyter-widgets/controls",
            "children": [
              "IPY_MODEL_1a037645dea744828810752f7a741421",
              "IPY_MODEL_de655ec80e354a6aa8a707c1567c3a65"
            ]
          }
        },
        "80be3eb41f1a4688a5ba3de58d502210": {
          "model_module": "@jupyter-widgets/base",
          "model_name": "LayoutModel",
          "state": {
            "_view_name": "LayoutView",
            "grid_template_rows": null,
            "right": null,
            "justify_content": null,
            "_view_module": "@jupyter-widgets/base",
            "overflow": null,
            "_model_module_version": "1.2.0",
            "_view_count": null,
            "flex_flow": null,
            "width": null,
            "min_width": null,
            "border": null,
            "align_items": null,
            "bottom": null,
            "_model_module": "@jupyter-widgets/base",
            "top": null,
            "grid_column": null,
            "overflow_y": null,
            "overflow_x": null,
            "grid_auto_flow": null,
            "grid_area": null,
            "grid_template_columns": null,
            "flex": null,
            "_model_name": "LayoutModel",
            "justify_items": null,
            "grid_row": null,
            "max_height": null,
            "align_content": null,
            "visibility": null,
            "align_self": null,
            "height": null,
            "min_height": null,
            "padding": null,
            "grid_auto_rows": null,
            "grid_gap": null,
            "max_width": null,
            "order": null,
            "_view_module_version": "1.2.0",
            "grid_template_areas": null,
            "object_position": null,
            "object_fit": null,
            "grid_auto_columns": null,
            "margin": null,
            "display": null,
            "left": null
          }
        },
        "1a037645dea744828810752f7a741421": {
          "model_module": "@jupyter-widgets/controls",
          "model_name": "FloatProgressModel",
          "state": {
            "_view_name": "ProgressView",
            "style": "IPY_MODEL_9289f6240f2a4292a5433c5a5c28754b",
            "_dom_classes": [],
            "description": "",
            "_model_name": "FloatProgressModel",
            "bar_style": "success",
            "max": 1,
            "_view_module": "@jupyter-widgets/controls",
            "_model_module_version": "1.5.0",
            "value": 1,
            "_view_count": null,
            "_view_module_version": "1.5.0",
            "orientation": "horizontal",
            "min": 0,
            "description_tooltip": null,
            "_model_module": "@jupyter-widgets/controls",
            "layout": "IPY_MODEL_0938c80273084cf9a67605b015fb6512"
          }
        },
        "de655ec80e354a6aa8a707c1567c3a65": {
          "model_module": "@jupyter-widgets/controls",
          "model_name": "HTMLModel",
          "state": {
            "_view_name": "HTMLView",
            "style": "IPY_MODEL_c202a602b481428abf1cb8739d6a678b",
            "_dom_classes": [],
            "description": "",
            "_model_name": "HTMLModel",
            "placeholder": "​",
            "_view_module": "@jupyter-widgets/controls",
            "_model_module_version": "1.5.0",
            "value": " 9920512/? [00:03&lt;00:00, 2640561.15it/s]",
            "_view_count": null,
            "_view_module_version": "1.5.0",
            "description_tooltip": null,
            "_model_module": "@jupyter-widgets/controls",
            "layout": "IPY_MODEL_04ae3461624e48578edc942c4ae0359c"
          }
        },
        "9289f6240f2a4292a5433c5a5c28754b": {
          "model_module": "@jupyter-widgets/controls",
          "model_name": "ProgressStyleModel",
          "state": {
            "_view_name": "StyleView",
            "_model_name": "ProgressStyleModel",
            "description_width": "initial",
            "_view_module": "@jupyter-widgets/base",
            "_model_module_version": "1.5.0",
            "_view_count": null,
            "_view_module_version": "1.2.0",
            "bar_color": null,
            "_model_module": "@jupyter-widgets/controls"
          }
        },
        "0938c80273084cf9a67605b015fb6512": {
          "model_module": "@jupyter-widgets/base",
          "model_name": "LayoutModel",
          "state": {
            "_view_name": "LayoutView",
            "grid_template_rows": null,
            "right": null,
            "justify_content": null,
            "_view_module": "@jupyter-widgets/base",
            "overflow": null,
            "_model_module_version": "1.2.0",
            "_view_count": null,
            "flex_flow": null,
            "width": null,
            "min_width": null,
            "border": null,
            "align_items": null,
            "bottom": null,
            "_model_module": "@jupyter-widgets/base",
            "top": null,
            "grid_column": null,
            "overflow_y": null,
            "overflow_x": null,
            "grid_auto_flow": null,
            "grid_area": null,
            "grid_template_columns": null,
            "flex": null,
            "_model_name": "LayoutModel",
            "justify_items": null,
            "grid_row": null,
            "max_height": null,
            "align_content": null,
            "visibility": null,
            "align_self": null,
            "height": null,
            "min_height": null,
            "padding": null,
            "grid_auto_rows": null,
            "grid_gap": null,
            "max_width": null,
            "order": null,
            "_view_module_version": "1.2.0",
            "grid_template_areas": null,
            "object_position": null,
            "object_fit": null,
            "grid_auto_columns": null,
            "margin": null,
            "display": null,
            "left": null
          }
        },
        "c202a602b481428abf1cb8739d6a678b": {
          "model_module": "@jupyter-widgets/controls",
          "model_name": "DescriptionStyleModel",
          "state": {
            "_view_name": "StyleView",
            "_model_name": "DescriptionStyleModel",
            "description_width": "",
            "_view_module": "@jupyter-widgets/base",
            "_model_module_version": "1.5.0",
            "_view_count": null,
            "_view_module_version": "1.2.0",
            "_model_module": "@jupyter-widgets/controls"
          }
        },
        "04ae3461624e48578edc942c4ae0359c": {
          "model_module": "@jupyter-widgets/base",
          "model_name": "LayoutModel",
          "state": {
            "_view_name": "LayoutView",
            "grid_template_rows": null,
            "right": null,
            "justify_content": null,
            "_view_module": "@jupyter-widgets/base",
            "overflow": null,
            "_model_module_version": "1.2.0",
            "_view_count": null,
            "flex_flow": null,
            "width": null,
            "min_width": null,
            "border": null,
            "align_items": null,
            "bottom": null,
            "_model_module": "@jupyter-widgets/base",
            "top": null,
            "grid_column": null,
            "overflow_y": null,
            "overflow_x": null,
            "grid_auto_flow": null,
            "grid_area": null,
            "grid_template_columns": null,
            "flex": null,
            "_model_name": "LayoutModel",
            "justify_items": null,
            "grid_row": null,
            "max_height": null,
            "align_content": null,
            "visibility": null,
            "align_self": null,
            "height": null,
            "min_height": null,
            "padding": null,
            "grid_auto_rows": null,
            "grid_gap": null,
            "max_width": null,
            "order": null,
            "_view_module_version": "1.2.0",
            "grid_template_areas": null,
            "object_position": null,
            "object_fit": null,
            "grid_auto_columns": null,
            "margin": null,
            "display": null,
            "left": null
          }
        },
        "150e33e0420f47b3b5a6a639109ab680": {
          "model_module": "@jupyter-widgets/controls",
          "model_name": "HBoxModel",
          "state": {
            "_view_name": "HBoxView",
            "_dom_classes": [],
            "_model_name": "HBoxModel",
            "_view_module": "@jupyter-widgets/controls",
            "_model_module_version": "1.5.0",
            "_view_count": null,
            "_view_module_version": "1.5.0",
            "box_style": "",
            "layout": "IPY_MODEL_a32e5a69c34443bea410a7c4d0cac327",
            "_model_module": "@jupyter-widgets/controls",
            "children": [
              "IPY_MODEL_69f333ed02bc441d9a6f08226fc83ab5",
              "IPY_MODEL_4c855257fa9a498bb331e64bf02b05b3"
            ]
          }
        },
        "a32e5a69c34443bea410a7c4d0cac327": {
          "model_module": "@jupyter-widgets/base",
          "model_name": "LayoutModel",
          "state": {
            "_view_name": "LayoutView",
            "grid_template_rows": null,
            "right": null,
            "justify_content": null,
            "_view_module": "@jupyter-widgets/base",
            "overflow": null,
            "_model_module_version": "1.2.0",
            "_view_count": null,
            "flex_flow": null,
            "width": null,
            "min_width": null,
            "border": null,
            "align_items": null,
            "bottom": null,
            "_model_module": "@jupyter-widgets/base",
            "top": null,
            "grid_column": null,
            "overflow_y": null,
            "overflow_x": null,
            "grid_auto_flow": null,
            "grid_area": null,
            "grid_template_columns": null,
            "flex": null,
            "_model_name": "LayoutModel",
            "justify_items": null,
            "grid_row": null,
            "max_height": null,
            "align_content": null,
            "visibility": null,
            "align_self": null,
            "height": null,
            "min_height": null,
            "padding": null,
            "grid_auto_rows": null,
            "grid_gap": null,
            "max_width": null,
            "order": null,
            "_view_module_version": "1.2.0",
            "grid_template_areas": null,
            "object_position": null,
            "object_fit": null,
            "grid_auto_columns": null,
            "margin": null,
            "display": null,
            "left": null
          }
        },
        "69f333ed02bc441d9a6f08226fc83ab5": {
          "model_module": "@jupyter-widgets/controls",
          "model_name": "FloatProgressModel",
          "state": {
            "_view_name": "ProgressView",
            "style": "IPY_MODEL_e3a7f03c3cdc45a1950d516412a231f0",
            "_dom_classes": [],
            "description": "",
            "_model_name": "FloatProgressModel",
            "bar_style": "success",
            "max": 1,
            "_view_module": "@jupyter-widgets/controls",
            "_model_module_version": "1.5.0",
            "value": 1,
            "_view_count": null,
            "_view_module_version": "1.5.0",
            "orientation": "horizontal",
            "min": 0,
            "description_tooltip": null,
            "_model_module": "@jupyter-widgets/controls",
            "layout": "IPY_MODEL_15d43fd8ce604fa288c9d1150b332ddb"
          }
        },
        "4c855257fa9a498bb331e64bf02b05b3": {
          "model_module": "@jupyter-widgets/controls",
          "model_name": "HTMLModel",
          "state": {
            "_view_name": "HTMLView",
            "style": "IPY_MODEL_66ef0305cfa0499d97053e86c01acfcd",
            "_dom_classes": [],
            "description": "",
            "_model_name": "HTMLModel",
            "placeholder": "​",
            "_view_module": "@jupyter-widgets/controls",
            "_model_module_version": "1.5.0",
            "value": " 32768/? [00:01&lt;00:00, 17182.96it/s]",
            "_view_count": null,
            "_view_module_version": "1.5.0",
            "description_tooltip": null,
            "_model_module": "@jupyter-widgets/controls",
            "layout": "IPY_MODEL_0f8d757b5c9446f5a1d878c77166dd5c"
          }
        },
        "e3a7f03c3cdc45a1950d516412a231f0": {
          "model_module": "@jupyter-widgets/controls",
          "model_name": "ProgressStyleModel",
          "state": {
            "_view_name": "StyleView",
            "_model_name": "ProgressStyleModel",
            "description_width": "initial",
            "_view_module": "@jupyter-widgets/base",
            "_model_module_version": "1.5.0",
            "_view_count": null,
            "_view_module_version": "1.2.0",
            "bar_color": null,
            "_model_module": "@jupyter-widgets/controls"
          }
        },
        "15d43fd8ce604fa288c9d1150b332ddb": {
          "model_module": "@jupyter-widgets/base",
          "model_name": "LayoutModel",
          "state": {
            "_view_name": "LayoutView",
            "grid_template_rows": null,
            "right": null,
            "justify_content": null,
            "_view_module": "@jupyter-widgets/base",
            "overflow": null,
            "_model_module_version": "1.2.0",
            "_view_count": null,
            "flex_flow": null,
            "width": null,
            "min_width": null,
            "border": null,
            "align_items": null,
            "bottom": null,
            "_model_module": "@jupyter-widgets/base",
            "top": null,
            "grid_column": null,
            "overflow_y": null,
            "overflow_x": null,
            "grid_auto_flow": null,
            "grid_area": null,
            "grid_template_columns": null,
            "flex": null,
            "_model_name": "LayoutModel",
            "justify_items": null,
            "grid_row": null,
            "max_height": null,
            "align_content": null,
            "visibility": null,
            "align_self": null,
            "height": null,
            "min_height": null,
            "padding": null,
            "grid_auto_rows": null,
            "grid_gap": null,
            "max_width": null,
            "order": null,
            "_view_module_version": "1.2.0",
            "grid_template_areas": null,
            "object_position": null,
            "object_fit": null,
            "grid_auto_columns": null,
            "margin": null,
            "display": null,
            "left": null
          }
        },
        "66ef0305cfa0499d97053e86c01acfcd": {
          "model_module": "@jupyter-widgets/controls",
          "model_name": "DescriptionStyleModel",
          "state": {
            "_view_name": "StyleView",
            "_model_name": "DescriptionStyleModel",
            "description_width": "",
            "_view_module": "@jupyter-widgets/base",
            "_model_module_version": "1.5.0",
            "_view_count": null,
            "_view_module_version": "1.2.0",
            "_model_module": "@jupyter-widgets/controls"
          }
        },
        "0f8d757b5c9446f5a1d878c77166dd5c": {
          "model_module": "@jupyter-widgets/base",
          "model_name": "LayoutModel",
          "state": {
            "_view_name": "LayoutView",
            "grid_template_rows": null,
            "right": null,
            "justify_content": null,
            "_view_module": "@jupyter-widgets/base",
            "overflow": null,
            "_model_module_version": "1.2.0",
            "_view_count": null,
            "flex_flow": null,
            "width": null,
            "min_width": null,
            "border": null,
            "align_items": null,
            "bottom": null,
            "_model_module": "@jupyter-widgets/base",
            "top": null,
            "grid_column": null,
            "overflow_y": null,
            "overflow_x": null,
            "grid_auto_flow": null,
            "grid_area": null,
            "grid_template_columns": null,
            "flex": null,
            "_model_name": "LayoutModel",
            "justify_items": null,
            "grid_row": null,
            "max_height": null,
            "align_content": null,
            "visibility": null,
            "align_self": null,
            "height": null,
            "min_height": null,
            "padding": null,
            "grid_auto_rows": null,
            "grid_gap": null,
            "max_width": null,
            "order": null,
            "_view_module_version": "1.2.0",
            "grid_template_areas": null,
            "object_position": null,
            "object_fit": null,
            "grid_auto_columns": null,
            "margin": null,
            "display": null,
            "left": null
          }
        },
        "f8a660b01b5e4892a4b3dd323048fb9b": {
          "model_module": "@jupyter-widgets/controls",
          "model_name": "HBoxModel",
          "state": {
            "_view_name": "HBoxView",
            "_dom_classes": [],
            "_model_name": "HBoxModel",
            "_view_module": "@jupyter-widgets/controls",
            "_model_module_version": "1.5.0",
            "_view_count": null,
            "_view_module_version": "1.5.0",
            "box_style": "",
            "layout": "IPY_MODEL_c7f707ef10c841db9e6a0a3ef64a42f5",
            "_model_module": "@jupyter-widgets/controls",
            "children": [
              "IPY_MODEL_7cd7e0758df34bf8a51459121fdf883a",
              "IPY_MODEL_2ac0367f87a94cb18d9a68b0966fb6b0"
            ]
          }
        },
        "c7f707ef10c841db9e6a0a3ef64a42f5": {
          "model_module": "@jupyter-widgets/base",
          "model_name": "LayoutModel",
          "state": {
            "_view_name": "LayoutView",
            "grid_template_rows": null,
            "right": null,
            "justify_content": null,
            "_view_module": "@jupyter-widgets/base",
            "overflow": null,
            "_model_module_version": "1.2.0",
            "_view_count": null,
            "flex_flow": null,
            "width": null,
            "min_width": null,
            "border": null,
            "align_items": null,
            "bottom": null,
            "_model_module": "@jupyter-widgets/base",
            "top": null,
            "grid_column": null,
            "overflow_y": null,
            "overflow_x": null,
            "grid_auto_flow": null,
            "grid_area": null,
            "grid_template_columns": null,
            "flex": null,
            "_model_name": "LayoutModel",
            "justify_items": null,
            "grid_row": null,
            "max_height": null,
            "align_content": null,
            "visibility": null,
            "align_self": null,
            "height": null,
            "min_height": null,
            "padding": null,
            "grid_auto_rows": null,
            "grid_gap": null,
            "max_width": null,
            "order": null,
            "_view_module_version": "1.2.0",
            "grid_template_areas": null,
            "object_position": null,
            "object_fit": null,
            "grid_auto_columns": null,
            "margin": null,
            "display": null,
            "left": null
          }
        },
        "7cd7e0758df34bf8a51459121fdf883a": {
          "model_module": "@jupyter-widgets/controls",
          "model_name": "FloatProgressModel",
          "state": {
            "_view_name": "ProgressView",
            "style": "IPY_MODEL_a753a9c18d8d40e1b5098c0d72d6048d",
            "_dom_classes": [],
            "description": "",
            "_model_name": "FloatProgressModel",
            "bar_style": "success",
            "max": 1,
            "_view_module": "@jupyter-widgets/controls",
            "_model_module_version": "1.5.0",
            "value": 1,
            "_view_count": null,
            "_view_module_version": "1.5.0",
            "orientation": "horizontal",
            "min": 0,
            "description_tooltip": null,
            "_model_module": "@jupyter-widgets/controls",
            "layout": "IPY_MODEL_b24b15f4062549bebbb88ad6f1164291"
          }
        },
        "2ac0367f87a94cb18d9a68b0966fb6b0": {
          "model_module": "@jupyter-widgets/controls",
          "model_name": "HTMLModel",
          "state": {
            "_view_name": "HTMLView",
            "style": "IPY_MODEL_ec59d9f3e59c4a95a329d5d3af65dac4",
            "_dom_classes": [],
            "description": "",
            "_model_name": "HTMLModel",
            "placeholder": "​",
            "_view_module": "@jupyter-widgets/controls",
            "_model_module_version": "1.5.0",
            "value": " 1654784/? [00:01&lt;00:00, 1062890.44it/s]",
            "_view_count": null,
            "_view_module_version": "1.5.0",
            "description_tooltip": null,
            "_model_module": "@jupyter-widgets/controls",
            "layout": "IPY_MODEL_e446fde9b62b4787ac7c356d575cfeca"
          }
        },
        "a753a9c18d8d40e1b5098c0d72d6048d": {
          "model_module": "@jupyter-widgets/controls",
          "model_name": "ProgressStyleModel",
          "state": {
            "_view_name": "StyleView",
            "_model_name": "ProgressStyleModel",
            "description_width": "initial",
            "_view_module": "@jupyter-widgets/base",
            "_model_module_version": "1.5.0",
            "_view_count": null,
            "_view_module_version": "1.2.0",
            "bar_color": null,
            "_model_module": "@jupyter-widgets/controls"
          }
        },
        "b24b15f4062549bebbb88ad6f1164291": {
          "model_module": "@jupyter-widgets/base",
          "model_name": "LayoutModel",
          "state": {
            "_view_name": "LayoutView",
            "grid_template_rows": null,
            "right": null,
            "justify_content": null,
            "_view_module": "@jupyter-widgets/base",
            "overflow": null,
            "_model_module_version": "1.2.0",
            "_view_count": null,
            "flex_flow": null,
            "width": null,
            "min_width": null,
            "border": null,
            "align_items": null,
            "bottom": null,
            "_model_module": "@jupyter-widgets/base",
            "top": null,
            "grid_column": null,
            "overflow_y": null,
            "overflow_x": null,
            "grid_auto_flow": null,
            "grid_area": null,
            "grid_template_columns": null,
            "flex": null,
            "_model_name": "LayoutModel",
            "justify_items": null,
            "grid_row": null,
            "max_height": null,
            "align_content": null,
            "visibility": null,
            "align_self": null,
            "height": null,
            "min_height": null,
            "padding": null,
            "grid_auto_rows": null,
            "grid_gap": null,
            "max_width": null,
            "order": null,
            "_view_module_version": "1.2.0",
            "grid_template_areas": null,
            "object_position": null,
            "object_fit": null,
            "grid_auto_columns": null,
            "margin": null,
            "display": null,
            "left": null
          }
        },
        "ec59d9f3e59c4a95a329d5d3af65dac4": {
          "model_module": "@jupyter-widgets/controls",
          "model_name": "DescriptionStyleModel",
          "state": {
            "_view_name": "StyleView",
            "_model_name": "DescriptionStyleModel",
            "description_width": "",
            "_view_module": "@jupyter-widgets/base",
            "_model_module_version": "1.5.0",
            "_view_count": null,
            "_view_module_version": "1.2.0",
            "_model_module": "@jupyter-widgets/controls"
          }
        },
        "e446fde9b62b4787ac7c356d575cfeca": {
          "model_module": "@jupyter-widgets/base",
          "model_name": "LayoutModel",
          "state": {
            "_view_name": "LayoutView",
            "grid_template_rows": null,
            "right": null,
            "justify_content": null,
            "_view_module": "@jupyter-widgets/base",
            "overflow": null,
            "_model_module_version": "1.2.0",
            "_view_count": null,
            "flex_flow": null,
            "width": null,
            "min_width": null,
            "border": null,
            "align_items": null,
            "bottom": null,
            "_model_module": "@jupyter-widgets/base",
            "top": null,
            "grid_column": null,
            "overflow_y": null,
            "overflow_x": null,
            "grid_auto_flow": null,
            "grid_area": null,
            "grid_template_columns": null,
            "flex": null,
            "_model_name": "LayoutModel",
            "justify_items": null,
            "grid_row": null,
            "max_height": null,
            "align_content": null,
            "visibility": null,
            "align_self": null,
            "height": null,
            "min_height": null,
            "padding": null,
            "grid_auto_rows": null,
            "grid_gap": null,
            "max_width": null,
            "order": null,
            "_view_module_version": "1.2.0",
            "grid_template_areas": null,
            "object_position": null,
            "object_fit": null,
            "grid_auto_columns": null,
            "margin": null,
            "display": null,
            "left": null
          }
        },
        "fbd3d552bd9e4d2789d67467038a15cf": {
          "model_module": "@jupyter-widgets/controls",
          "model_name": "HBoxModel",
          "state": {
            "_view_name": "HBoxView",
            "_dom_classes": [],
            "_model_name": "HBoxModel",
            "_view_module": "@jupyter-widgets/controls",
            "_model_module_version": "1.5.0",
            "_view_count": null,
            "_view_module_version": "1.5.0",
            "box_style": "",
            "layout": "IPY_MODEL_b461a20138914115b1a4112a0a057d82",
            "_model_module": "@jupyter-widgets/controls",
            "children": [
              "IPY_MODEL_9f90d0295d8e4bbea866c0ea9fb82c5b",
              "IPY_MODEL_a84b014056d64c17ad62de0810140c28"
            ]
          }
        },
        "b461a20138914115b1a4112a0a057d82": {
          "model_module": "@jupyter-widgets/base",
          "model_name": "LayoutModel",
          "state": {
            "_view_name": "LayoutView",
            "grid_template_rows": null,
            "right": null,
            "justify_content": null,
            "_view_module": "@jupyter-widgets/base",
            "overflow": null,
            "_model_module_version": "1.2.0",
            "_view_count": null,
            "flex_flow": null,
            "width": null,
            "min_width": null,
            "border": null,
            "align_items": null,
            "bottom": null,
            "_model_module": "@jupyter-widgets/base",
            "top": null,
            "grid_column": null,
            "overflow_y": null,
            "overflow_x": null,
            "grid_auto_flow": null,
            "grid_area": null,
            "grid_template_columns": null,
            "flex": null,
            "_model_name": "LayoutModel",
            "justify_items": null,
            "grid_row": null,
            "max_height": null,
            "align_content": null,
            "visibility": null,
            "align_self": null,
            "height": null,
            "min_height": null,
            "padding": null,
            "grid_auto_rows": null,
            "grid_gap": null,
            "max_width": null,
            "order": null,
            "_view_module_version": "1.2.0",
            "grid_template_areas": null,
            "object_position": null,
            "object_fit": null,
            "grid_auto_columns": null,
            "margin": null,
            "display": null,
            "left": null
          }
        },
        "9f90d0295d8e4bbea866c0ea9fb82c5b": {
          "model_module": "@jupyter-widgets/controls",
          "model_name": "FloatProgressModel",
          "state": {
            "_view_name": "ProgressView",
            "style": "IPY_MODEL_e00b513238084964b30370857fb33c1c",
            "_dom_classes": [],
            "description": "",
            "_model_name": "FloatProgressModel",
            "bar_style": "success",
            "max": 1,
            "_view_module": "@jupyter-widgets/controls",
            "_model_module_version": "1.5.0",
            "value": 1,
            "_view_count": null,
            "_view_module_version": "1.5.0",
            "orientation": "horizontal",
            "min": 0,
            "description_tooltip": null,
            "_model_module": "@jupyter-widgets/controls",
            "layout": "IPY_MODEL_b1c028dc937e442c9d229a47072da77e"
          }
        },
        "a84b014056d64c17ad62de0810140c28": {
          "model_module": "@jupyter-widgets/controls",
          "model_name": "HTMLModel",
          "state": {
            "_view_name": "HTMLView",
            "style": "IPY_MODEL_408114eb6d7447fcac926a672214faf1",
            "_dom_classes": [],
            "description": "",
            "_model_name": "HTMLModel",
            "placeholder": "​",
            "_view_module": "@jupyter-widgets/controls",
            "_model_module_version": "1.5.0",
            "value": " 8192/? [00:00&lt;00:00, 15241.28it/s]",
            "_view_count": null,
            "_view_module_version": "1.5.0",
            "description_tooltip": null,
            "_model_module": "@jupyter-widgets/controls",
            "layout": "IPY_MODEL_fc9c44301cda487cb5662bea158209b2"
          }
        },
        "e00b513238084964b30370857fb33c1c": {
          "model_module": "@jupyter-widgets/controls",
          "model_name": "ProgressStyleModel",
          "state": {
            "_view_name": "StyleView",
            "_model_name": "ProgressStyleModel",
            "description_width": "initial",
            "_view_module": "@jupyter-widgets/base",
            "_model_module_version": "1.5.0",
            "_view_count": null,
            "_view_module_version": "1.2.0",
            "bar_color": null,
            "_model_module": "@jupyter-widgets/controls"
          }
        },
        "b1c028dc937e442c9d229a47072da77e": {
          "model_module": "@jupyter-widgets/base",
          "model_name": "LayoutModel",
          "state": {
            "_view_name": "LayoutView",
            "grid_template_rows": null,
            "right": null,
            "justify_content": null,
            "_view_module": "@jupyter-widgets/base",
            "overflow": null,
            "_model_module_version": "1.2.0",
            "_view_count": null,
            "flex_flow": null,
            "width": null,
            "min_width": null,
            "border": null,
            "align_items": null,
            "bottom": null,
            "_model_module": "@jupyter-widgets/base",
            "top": null,
            "grid_column": null,
            "overflow_y": null,
            "overflow_x": null,
            "grid_auto_flow": null,
            "grid_area": null,
            "grid_template_columns": null,
            "flex": null,
            "_model_name": "LayoutModel",
            "justify_items": null,
            "grid_row": null,
            "max_height": null,
            "align_content": null,
            "visibility": null,
            "align_self": null,
            "height": null,
            "min_height": null,
            "padding": null,
            "grid_auto_rows": null,
            "grid_gap": null,
            "max_width": null,
            "order": null,
            "_view_module_version": "1.2.0",
            "grid_template_areas": null,
            "object_position": null,
            "object_fit": null,
            "grid_auto_columns": null,
            "margin": null,
            "display": null,
            "left": null
          }
        },
        "408114eb6d7447fcac926a672214faf1": {
          "model_module": "@jupyter-widgets/controls",
          "model_name": "DescriptionStyleModel",
          "state": {
            "_view_name": "StyleView",
            "_model_name": "DescriptionStyleModel",
            "description_width": "",
            "_view_module": "@jupyter-widgets/base",
            "_model_module_version": "1.5.0",
            "_view_count": null,
            "_view_module_version": "1.2.0",
            "_model_module": "@jupyter-widgets/controls"
          }
        },
        "fc9c44301cda487cb5662bea158209b2": {
          "model_module": "@jupyter-widgets/base",
          "model_name": "LayoutModel",
          "state": {
            "_view_name": "LayoutView",
            "grid_template_rows": null,
            "right": null,
            "justify_content": null,
            "_view_module": "@jupyter-widgets/base",
            "overflow": null,
            "_model_module_version": "1.2.0",
            "_view_count": null,
            "flex_flow": null,
            "width": null,
            "min_width": null,
            "border": null,
            "align_items": null,
            "bottom": null,
            "_model_module": "@jupyter-widgets/base",
            "top": null,
            "grid_column": null,
            "overflow_y": null,
            "overflow_x": null,
            "grid_auto_flow": null,
            "grid_area": null,
            "grid_template_columns": null,
            "flex": null,
            "_model_name": "LayoutModel",
            "justify_items": null,
            "grid_row": null,
            "max_height": null,
            "align_content": null,
            "visibility": null,
            "align_self": null,
            "height": null,
            "min_height": null,
            "padding": null,
            "grid_auto_rows": null,
            "grid_gap": null,
            "max_width": null,
            "order": null,
            "_view_module_version": "1.2.0",
            "grid_template_areas": null,
            "object_position": null,
            "object_fit": null,
            "grid_auto_columns": null,
            "margin": null,
            "display": null,
            "left": null
          }
        }
      }
    }
  },
  "cells": [
    {
      "cell_type": "markdown",
      "metadata": {
        "id": "view-in-github",
        "colab_type": "text"
      },
      "source": [
        "<a href=\"https://colab.research.google.com/github/jiku100/2020-2-machine-running-proejct/blob/master/assignment10/%EC%8B%A0%EC%84%9D%EA%B2%BD_assignment_10.ipynb\" target=\"_parent\"><img src=\"https://colab.research.google.com/assets/colab-badge.svg\" alt=\"Open In Colab\"/></a>"
      ]
    },
    {
      "cell_type": "markdown",
      "metadata": {
        "id": "0gzdXwFJz0KJ"
      },
      "source": [
        "# **Classification for Multiple Categories using Pytorch for best accuracy**\n",
        "\n"
      ]
    },
    {
      "cell_type": "markdown",
      "metadata": {
        "id": "w_C7Cujjz4ff"
      },
      "source": [
        "# 1. Import library\n",
        "<hr>"
      ]
    },
    {
      "cell_type": "code",
      "metadata": {
        "id": "gtlbKT3Izgre"
      },
      "source": [
        "import torch\n",
        "import torch.nn as nn\n",
        "import torch.optim as optim\n",
        "import torch.nn.init as init\n",
        "import torchvision\n",
        "import torchvision.transforms as transforms\n",
        "import torchvision.datasets as datasets\n",
        "from torch.utils.data import DataLoader\n",
        "\n",
        "import matplotlib.pyplot as plt\n",
        "import cv2\n",
        "import numpy as np"
      ],
      "execution_count": 1,
      "outputs": []
    },
    {
      "cell_type": "code",
      "metadata": {
        "colab": {
          "base_uri": "https://localhost:8080/"
        },
        "id": "JC9KWsHg7lTJ",
        "outputId": "67258116-4795-484d-f399-f38514b29ff2"
      },
      "source": [
        "USE_CUDA = torch.cuda.is_available()\n",
        "device = torch.device(\"cuda\" if USE_CUDA else \"cpu\")\n",
        "print(\"다음 기기로 학습합니다:\", device)"
      ],
      "execution_count": 2,
      "outputs": [
        {
          "output_type": "stream",
          "text": [
            "다음 기기로 학습합니다: cuda\n"
          ],
          "name": "stdout"
        }
      ]
    },
    {
      "cell_type": "markdown",
      "metadata": {
        "id": "nBCurPvD3NoM"
      },
      "source": [
        "# 2. Preprocessing Data\n",
        "<hr>"
      ]
    },
    {
      "cell_type": "code",
      "metadata": {
        "id": "4tVba13YD-s9"
      },
      "source": [
        "transform_train = transforms.Compose([\n",
        "        transforms.ToTensor(),\n",
        "        transforms.Normalize((0.1307,),(0.3081,))                    # 이미지를 텐서로 변형합니다.\n",
        "])\n",
        "\n",
        "transform_test = transforms.Compose([\n",
        "        transforms.ToTensor(), \n",
        "        transforms.Normalize((0.1307,),(0.3081,))            \n",
        "])"
      ],
      "execution_count": 3,
      "outputs": []
    },
    {
      "cell_type": "code",
      "metadata": {
        "id": "1uNdu0HqJEQv",
        "outputId": "34df43e7-8689-42c6-b684-0a5dde4424d8",
        "colab": {
          "base_uri": "https://localhost:8080/",
          "height": 375,
          "referenced_widgets": [
            "735582499aff4ec5b5eddca1c82a1e1b",
            "80be3eb41f1a4688a5ba3de58d502210",
            "1a037645dea744828810752f7a741421",
            "de655ec80e354a6aa8a707c1567c3a65",
            "9289f6240f2a4292a5433c5a5c28754b",
            "0938c80273084cf9a67605b015fb6512",
            "c202a602b481428abf1cb8739d6a678b",
            "04ae3461624e48578edc942c4ae0359c",
            "150e33e0420f47b3b5a6a639109ab680",
            "a32e5a69c34443bea410a7c4d0cac327",
            "69f333ed02bc441d9a6f08226fc83ab5",
            "4c855257fa9a498bb331e64bf02b05b3",
            "e3a7f03c3cdc45a1950d516412a231f0",
            "15d43fd8ce604fa288c9d1150b332ddb",
            "66ef0305cfa0499d97053e86c01acfcd",
            "0f8d757b5c9446f5a1d878c77166dd5c",
            "f8a660b01b5e4892a4b3dd323048fb9b",
            "c7f707ef10c841db9e6a0a3ef64a42f5",
            "7cd7e0758df34bf8a51459121fdf883a",
            "2ac0367f87a94cb18d9a68b0966fb6b0",
            "a753a9c18d8d40e1b5098c0d72d6048d",
            "b24b15f4062549bebbb88ad6f1164291",
            "ec59d9f3e59c4a95a329d5d3af65dac4",
            "e446fde9b62b4787ac7c356d575cfeca",
            "fbd3d552bd9e4d2789d67467038a15cf",
            "b461a20138914115b1a4112a0a057d82",
            "9f90d0295d8e4bbea866c0ea9fb82c5b",
            "a84b014056d64c17ad62de0810140c28",
            "e00b513238084964b30370857fb33c1c",
            "b1c028dc937e442c9d229a47072da77e",
            "408114eb6d7447fcac926a672214faf1",
            "fc9c44301cda487cb5662bea158209b2"
          ]
        }
      },
      "source": [
        "data_path = './MNIST'\n",
        "\n",
        "data_test   = datasets.MNIST(root = data_path, train= True, download=True, transform= transform_test)\n",
        "data_train  = datasets.MNIST(root = data_path, train= False, download=True, transform= transform_train)"
      ],
      "execution_count": 4,
      "outputs": [
        {
          "output_type": "stream",
          "text": [
            "Downloading http://yann.lecun.com/exdb/mnist/train-images-idx3-ubyte.gz to ./MNIST/MNIST/raw/train-images-idx3-ubyte.gz\n"
          ],
          "name": "stdout"
        },
        {
          "output_type": "display_data",
          "data": {
            "application/vnd.jupyter.widget-view+json": {
              "model_id": "735582499aff4ec5b5eddca1c82a1e1b",
              "version_minor": 0,
              "version_major": 2
            },
            "text/plain": [
              "HBox(children=(FloatProgress(value=1.0, bar_style='info', max=1.0), HTML(value='')))"
            ]
          },
          "metadata": {
            "tags": []
          }
        },
        {
          "output_type": "stream",
          "text": [
            "Extracting ./MNIST/MNIST/raw/train-images-idx3-ubyte.gz to ./MNIST/MNIST/raw\n",
            "Downloading http://yann.lecun.com/exdb/mnist/train-labels-idx1-ubyte.gz to ./MNIST/MNIST/raw/train-labels-idx1-ubyte.gz\n"
          ],
          "name": "stdout"
        },
        {
          "output_type": "display_data",
          "data": {
            "application/vnd.jupyter.widget-view+json": {
              "model_id": "150e33e0420f47b3b5a6a639109ab680",
              "version_minor": 0,
              "version_major": 2
            },
            "text/plain": [
              "HBox(children=(FloatProgress(value=1.0, bar_style='info', max=1.0), HTML(value='')))"
            ]
          },
          "metadata": {
            "tags": []
          }
        },
        {
          "output_type": "stream",
          "text": [
            "Extracting ./MNIST/MNIST/raw/train-labels-idx1-ubyte.gz to ./MNIST/MNIST/raw\n",
            "Downloading http://yann.lecun.com/exdb/mnist/t10k-images-idx3-ubyte.gz to ./MNIST/MNIST/raw/t10k-images-idx3-ubyte.gz\n"
          ],
          "name": "stdout"
        },
        {
          "output_type": "display_data",
          "data": {
            "application/vnd.jupyter.widget-view+json": {
              "model_id": "f8a660b01b5e4892a4b3dd323048fb9b",
              "version_minor": 0,
              "version_major": 2
            },
            "text/plain": [
              "HBox(children=(FloatProgress(value=1.0, bar_style='info', max=1.0), HTML(value='')))"
            ]
          },
          "metadata": {
            "tags": []
          }
        },
        {
          "output_type": "stream",
          "text": [
            "Extracting ./MNIST/MNIST/raw/t10k-images-idx3-ubyte.gz to ./MNIST/MNIST/raw\n",
            "Downloading http://yann.lecun.com/exdb/mnist/t10k-labels-idx1-ubyte.gz to ./MNIST/MNIST/raw/t10k-labels-idx1-ubyte.gz\n"
          ],
          "name": "stdout"
        },
        {
          "output_type": "display_data",
          "data": {
            "application/vnd.jupyter.widget-view+json": {
              "model_id": "fbd3d552bd9e4d2789d67467038a15cf",
              "version_minor": 0,
              "version_major": 2
            },
            "text/plain": [
              "HBox(children=(FloatProgress(value=1.0, bar_style='info', max=1.0), HTML(value='')))"
            ]
          },
          "metadata": {
            "tags": []
          }
        },
        {
          "output_type": "stream",
          "text": [
            "Extracting ./MNIST/MNIST/raw/t10k-labels-idx1-ubyte.gz to ./MNIST/MNIST/raw\n",
            "Processing...\n",
            "Done!\n"
          ],
          "name": "stdout"
        },
        {
          "output_type": "stream",
          "text": [
            "/usr/local/lib/python3.6/dist-packages/torchvision/datasets/mnist.py:480: UserWarning: The given NumPy array is not writeable, and PyTorch does not support non-writeable tensors. This means you can write to the underlying (supposedly non-writeable) NumPy array using the tensor. You may want to copy the array to protect its data or make it writeable before converting it to a tensor. This type of warning will be suppressed for the rest of this program. (Triggered internally at  /pytorch/torch/csrc/utils/tensor_numpy.cpp:141.)\n",
            "  return torch.from_numpy(parsed.astype(m[2], copy=False)).view(*s)\n"
          ],
          "name": "stderr"
        }
      ]
    },
    {
      "cell_type": "code",
      "metadata": {
        "colab": {
          "base_uri": "https://localhost:8080/",
          "height": 457
        },
        "id": "8SJcK-t2D3Bp",
        "outputId": "f6c6c87f-88a4-4c6d-a2a6-e5ac1fc7c6b7"
      },
      "source": [
        "one_image, label = data_train[0]\n",
        "print(\"type of one image\", type(one_image))\n",
        "print(\"size of one image : \", one_image.shape)\n",
        "plt.imshow(one_image.squeeze().numpy(), cmap='gray')\n",
        "print(\"type of label : \", type(label))\n",
        "print(\"label : \", label)\n",
        "print(np.max(data_train.train_data[0].view(-1).numpy()))"
      ],
      "execution_count": 5,
      "outputs": [
        {
          "output_type": "stream",
          "text": [
            "type of one image <class 'torch.Tensor'>\n",
            "size of one image :  torch.Size([1, 28, 28])\n",
            "\n",
            "\n",
            "type of label :  <class 'int'>\n",
            "label :  7\n",
            "255\n"
          ],
          "name": "stdout"
        },
        {
          "output_type": "stream",
          "text": [
            "/usr/local/lib/python3.6/dist-packages/torchvision/datasets/mnist.py:58: UserWarning: train_data has been renamed data\n",
            "  warnings.warn(\"train_data has been renamed data\")\n"
          ],
          "name": "stderr"
        },
        {
          "output_type": "display_data",
          "data": {
            "image/png": "[encoded data removed]",
            "text/plain": [
              "<Figure size 432x288 with 1 Axes>"
            ]
          },
          "metadata": {
            "tags": [],
            "needs_background": "light"
          }
        },
        {
          "output_type": "stream",
          "text": [
            "\n",
            "\n"
          ],
          "name": "stdout"
        }
      ]
    },
    {
      "cell_type": "code",
      "metadata": {
        "id": "lUj2JTgY4r4c"
      },
      "source": [
        "learning_rate = 0.0015\n",
        "training_epochs = 200\n",
        "batch_size = 16\n",
        "drop_prob = 0.3"
      ],
      "execution_count": 6,
      "outputs": []
    },
    {
      "cell_type": "code",
      "metadata": {
        "id": "CkgCtS3b3giF"
      },
      "source": [
        "train_loader = DataLoader(dataset = data_train, batch_size = batch_size, num_workers = 2, shuffle = True) ## batch size 32 짜리 train loader 생성\n",
        "test_loader = DataLoader(dataset = data_test, batch_size = batch_size, num_workers = 2, shuffle = True) ## batch size 32 짜리 test loader 생성"
      ],
      "execution_count": 7,
      "outputs": []
    },
    {
      "cell_type": "markdown",
      "metadata": {
        "id": "SCsB9Pdk6zd7"
      },
      "source": [
        "# 3. Define Model\n",
        "<hr>"
      ]
    },
    {
      "cell_type": "code",
      "metadata": {
        "id": "-cUHqcW25etQ"
      },
      "source": [
        "class classification(nn.Module):\n",
        "    def __init__(self):\n",
        "        super(classification, self).__init__()\n",
        "        \n",
        "        # construct layers for a neural network\n",
        "        self.classifier1 = nn.Sequential(\n",
        "            nn.Linear(in_features=28*28, out_features=400),\n",
        "            nn.BatchNorm1d(400),\n",
        "            nn.ReLU(),\n",
        "            nn.Dropout(p=drop_prob)\n",
        "        ) \n",
        "        self.classifier2 = nn.Sequential(\n",
        "            nn.Linear(in_features=400, out_features=100),\n",
        "            nn.BatchNorm1d(100),\n",
        "            nn.ReLU(),\n",
        "            nn.Dropout(p=drop_prob)\n",
        "        ) \n",
        "        self.classifier3 = nn.Sequential(\n",
        "            nn.Linear(in_features=100, out_features=10),\n",
        "        ) \n",
        "\n",
        "        for m in self.modules():\n",
        "          if isinstance(m, nn.Linear):\n",
        "            init.kaiming_normal_(m.weight.data) # Kaming He Initialization\n",
        "            m.bias.data.fill_(0)                # 편차를 0으로 초기화 \n",
        "\n",
        "    def forward(self, inputs):                 # [batchSize, 1, 28, 28]\n",
        "        x = inputs.view(inputs.size(0), -1)    # [batchSize, 28*28]\n",
        "        x = self.classifier1(x)                # [batchSize, 20*20]\n",
        "        x = self.classifier2(x)                # [batchSize, 10*10]\n",
        "        out = self.classifier3(x)              # [batchSize, 10]\n",
        "        \n",
        "        return out\n",
        "\n"
      ],
      "execution_count": 8,
      "outputs": []
    },
    {
      "cell_type": "code",
      "metadata": {
        "id": "MWYQ30d37dwC"
      },
      "source": [
        "model = classification().to(device)"
      ],
      "execution_count": 9,
      "outputs": []
    },
    {
      "cell_type": "code",
      "metadata": {
        "id": "-GpzWr1V64wc"
      },
      "source": [
        "criterion = nn.CrossEntropyLoss().to(device)    # Softmax is internally computed.\n",
        "optimizer = torch.optim.Adam(model.parameters(), lr=learning_rate)\n",
        "scheduler = optim.lr_scheduler.StepLR(optimizer, 15, gamma=0.1, last_epoch=-1)"
      ],
      "execution_count": 10,
      "outputs": []
    },
    {
      "cell_type": "markdown",
      "metadata": {
        "id": "lsNWP3Wk8Siq"
      },
      "source": [
        "# 4. Training\n",
        "<hr>"
      ]
    },
    {
      "cell_type": "code",
      "metadata": {
        "id": "1_QSSPkC7sCr"
      },
      "source": [
        "total_batch= len(train_loader)"
      ],
      "execution_count": 11,
      "outputs": []
    },
    {
      "cell_type": "code",
      "metadata": {
        "colab": {
          "base_uri": "https://localhost:8080/"
        },
        "id": "9_SeUrHB5gLH",
        "outputId": "9cdb9149-0c83-4f68-d081-4b481d83f1dc"
      },
      "source": [
        "print(total_batch)"
      ],
      "execution_count": 12,
      "outputs": [
        {
          "output_type": "stream",
          "text": [
            "625\n"
          ],
          "name": "stdout"
        }
      ]
    },
    {
      "cell_type": "code",
      "metadata": {
        "id": "eaJMZ8TvcglJ"
      },
      "source": [
        "def accuracy(log_pred, y_true):\n",
        "    y_pred = torch.argmax(log_pred, dim=1)\n",
        "    return (y_pred == y_true).to(torch.float).mean()"
      ],
      "execution_count": 13,
      "outputs": []
    },
    {
      "cell_type": "code",
      "metadata": {
        "id": "Kl5FuVgt8_LF"
      },
      "source": [
        "def training(model, loss, optim, training_epochs, train_loader, test_loader):\n",
        "  L_iters_train = []\n",
        "  accuracy_train = []\n",
        "  L_iters_test = []\n",
        "  accuracy_test = []\n",
        "  for epoch in range(training_epochs):\n",
        "    total_cost_train = 0\n",
        "    total_cost_test = 0\n",
        "    total_acc_train = 0\n",
        "    total_acc_test = 0\n",
        "    model.train()\n",
        "    for X, Y in train_loader:\n",
        "      X = X.to(device)\n",
        "      Y = Y.to(device)\n",
        "\n",
        "      optim.zero_grad()\n",
        "      train_pred = model(X)\n",
        "      cost = loss(train_pred, Y)\n",
        "      cost.backward()\n",
        "      optim.step()\n",
        "\n",
        "      total_cost_train += cost\n",
        "      total_acc_train += accuracy(train_pred, Y)\n",
        "      \n",
        "    avg_cost_train = total_cost_train / len(train_loader)\n",
        "    avg_acc_train = total_acc_train / len(train_loader)\n",
        "\n",
        "    L_iters_train.append(avg_cost_train)\n",
        "    accuracy_train.append(avg_acc_train)\n",
        "    model.eval()\n",
        "    with torch.no_grad():\n",
        "      for X_test, Y_test in test_loader:\n",
        "        X_test = X_test.to(device)\n",
        "        Y_test = Y_test.to(device)\n",
        "        test_pred = model(X_test)\n",
        "        cost_test = loss(test_pred, Y_test)\n",
        "        total_cost_test += cost_test\n",
        "        total_acc_test += accuracy(test_pred, Y_test)\n",
        "      avg_cost_test = total_cost_test / len(test_loader)\n",
        "      avg_acc_test = total_acc_test / len(test_loader)\n",
        "    \n",
        "      accuracy_test.append(avg_acc_test)\n",
        "      L_iters_test.append(avg_cost_test)\n",
        "\n",
        "    print(\"Epoch: %02d Training Loss: %.9f Testing Loss: %.9f  Training Acc: %.9f Testing Acc: %.9f\" %((epoch + 1),avg_cost_train, avg_cost_test, avg_acc_train, avg_acc_test))\n",
        "  return L_iters_train, accuracy_train, L_iters_test, accuracy_test"
      ],
      "execution_count": 14,
      "outputs": []
    },
    {
      "cell_type": "code",
      "metadata": {
        "colab": {
          "base_uri": "https://localhost:8080/",
          "height": 1000
        },
        "id": "hOfKPriA84jq",
        "outputId": "ad1c816e-7bda-4893-f906-7b2c8d0b9de4"
      },
      "source": [
        "L_train, A_train, L_test, A_test = training(model, criterion, optimizer, training_epochs, train_loader, test_loader)"
      ],
      "execution_count": 15,
      "outputs": [
        {
          "output_type": "stream",
          "text": [
            "Epoch: 01 Training Loss: 0.563168824 Testing Loss: 0.247505888  Training Acc: 0.829299986 Testing Acc: 0.927800000\n",
            "Epoch: 02 Training Loss: 0.324723244 Testing Loss: 0.216191396  Training Acc: 0.896699965 Testing Acc: 0.936500013\n",
            "Epoch: 03 Training Loss: 0.267241657 Testing Loss: 0.179699257  Training Acc: 0.918799996 Testing Acc: 0.945516706\n",
            "Epoch: 04 Training Loss: 0.223800242 Testing Loss: 0.164511293  Training Acc: 0.930700004 Testing Acc: 0.951200008\n",
            "Epoch: 05 Training Loss: 0.198124856 Testing Loss: 0.158605263  Training Acc: 0.937599957 Testing Acc: 0.952766657\n",
            "Epoch: 06 Training Loss: 0.177129090 Testing Loss: 0.161499202  Training Acc: 0.944299996 Testing Acc: 0.952166677\n",
            "Epoch: 07 Training Loss: 0.158913076 Testing Loss: 0.166491494  Training Acc: 0.947799981 Testing Acc: 0.952983320\n",
            "Epoch: 08 Training Loss: 0.146384746 Testing Loss: 0.143239602  Training Acc: 0.954599977 Testing Acc: 0.958933353\n",
            "Epoch: 09 Training Loss: 0.141838372 Testing Loss: 0.146349102  Training Acc: 0.953499973 Testing Acc: 0.958066702\n",
            "Epoch: 10 Training Loss: 0.132477224 Testing Loss: 0.145345658  Training Acc: 0.955899954 Testing Acc: 0.958816648\n",
            "Epoch: 11 Training Loss: 0.118373558 Testing Loss: 0.143140242  Training Acc: 0.960500002 Testing Acc: 0.959833324\n",
            "Epoch: 12 Training Loss: 0.111517370 Testing Loss: 0.142552897  Training Acc: 0.962699950 Testing Acc: 0.960016668\n",
            "Epoch: 13 Training Loss: 0.108848535 Testing Loss: 0.146727055  Training Acc: 0.964899957 Testing Acc: 0.958683372\n",
            "Epoch: 14 Training Loss: 0.107203595 Testing Loss: 0.138258353  Training Acc: 0.965099990 Testing Acc: 0.962266684\n",
            "Epoch: 15 Training Loss: 0.089575544 Testing Loss: 0.143237919  Training Acc: 0.970799983 Testing Acc: 0.959900022\n",
            "Epoch: 16 Training Loss: 0.096040614 Testing Loss: 0.144711167  Training Acc: 0.968099952 Testing Acc: 0.960983336\n",
            "Epoch: 17 Training Loss: 0.087549835 Testing Loss: 0.137001678  Training Acc: 0.971099973 Testing Acc: 0.963150024\n",
            "Epoch: 18 Training Loss: 0.096800409 Testing Loss: 0.142396078  Training Acc: 0.969699979 Testing Acc: 0.962033331\n",
            "Epoch: 19 Training Loss: 0.080512807 Testing Loss: 0.138802290  Training Acc: 0.974399984 Testing Acc: 0.963050008\n",
            "Epoch: 20 Training Loss: 0.076055728 Testing Loss: 0.136095896  Training Acc: 0.972999990 Testing Acc: 0.964566648\n",
            "Epoch: 21 Training Loss: 0.071662731 Testing Loss: 0.144799829  Training Acc: 0.974999964 Testing Acc: 0.961700022\n",
            "Epoch: 22 Training Loss: 0.080210455 Testing Loss: 0.155752122  Training Acc: 0.974399984 Testing Acc: 0.960116684\n",
            "Epoch: 23 Training Loss: 0.076995835 Testing Loss: 0.144267857  Training Acc: 0.975799978 Testing Acc: 0.963699996\n",
            "Epoch: 24 Training Loss: 0.072235785 Testing Loss: 0.137292877  Training Acc: 0.975999951 Testing Acc: 0.964150012\n",
            "Epoch: 25 Training Loss: 0.066263102 Testing Loss: 0.141340569  Training Acc: 0.976999998 Testing Acc: 0.964266658\n",
            "Epoch: 26 Training Loss: 0.067312568 Testing Loss: 0.146997884  Training Acc: 0.978699982 Testing Acc: 0.962800026\n",
            "Epoch: 27 Training Loss: 0.073425181 Testing Loss: 0.148354828  Training Acc: 0.976099968 Testing Acc: 0.963033319\n",
            "Epoch: 28 Training Loss: 0.065158889 Testing Loss: 0.144827247  Training Acc: 0.979099989 Testing Acc: 0.964200020\n",
            "Epoch: 29 Training Loss: 0.057043243 Testing Loss: 0.142453611  Training Acc: 0.980499983 Testing Acc: 0.964516699\n",
            "Epoch: 30 Training Loss: 0.059109330 Testing Loss: 0.159486324  Training Acc: 0.981999993 Testing Acc: 0.962533355\n",
            "Epoch: 31 Training Loss: 0.059938390 Testing Loss: 0.159755915  Training Acc: 0.979499996 Testing Acc: 0.962599993\n",
            "Epoch: 32 Training Loss: 0.051324982 Testing Loss: 0.150673777  Training Acc: 0.982699990 Testing Acc: 0.963216662\n",
            "Epoch: 33 Training Loss: 0.060180932 Testing Loss: 0.156662256  Training Acc: 0.979799986 Testing Acc: 0.962633371\n",
            "Epoch: 34 Training Loss: 0.056485772 Testing Loss: 0.151961833  Training Acc: 0.981700003 Testing Acc: 0.964233339\n",
            "Epoch: 35 Training Loss: 0.061335754 Testing Loss: 0.151317149  Training Acc: 0.979900002 Testing Acc: 0.964333355\n",
            "Epoch: 36 Training Loss: 0.062391289 Testing Loss: 0.155705631  Training Acc: 0.980999947 Testing Acc: 0.963450015\n",
            "Epoch: 37 Training Loss: 0.054046441 Testing Loss: 0.153447151  Training Acc: 0.981099963 Testing Acc: 0.964816689\n",
            "Epoch: 38 Training Loss: 0.049846414 Testing Loss: 0.149728596  Training Acc: 0.984200001 Testing Acc: 0.964566648\n",
            "Epoch: 39 Training Loss: 0.048257574 Testing Loss: 0.156650275  Training Acc: 0.983999968 Testing Acc: 0.963600039\n",
            "Epoch: 40 Training Loss: 0.051906627 Testing Loss: 0.151139855  Training Acc: 0.984099984 Testing Acc: 0.964466691\n",
            "Epoch: 41 Training Loss: 0.047763158 Testing Loss: 0.152024627  Training Acc: 0.983399987 Testing Acc: 0.965116680\n",
            "Epoch: 42 Training Loss: 0.049926307 Testing Loss: 0.151747033  Training Acc: 0.982799947 Testing Acc: 0.965283334\n",
            "Epoch: 43 Training Loss: 0.042742454 Testing Loss: 0.160735369  Training Acc: 0.986599982 Testing Acc: 0.963716686\n",
            "Epoch: 44 Training Loss: 0.048767868 Testing Loss: 0.168007478  Training Acc: 0.986099958 Testing Acc: 0.962616682\n",
            "Epoch: 45 Training Loss: 0.052232262 Testing Loss: 0.154110208  Training Acc: 0.983500004 Testing Acc: 0.965683341\n",
            "Epoch: 46 Training Loss: 0.040435672 Testing Loss: 0.153891623  Training Acc: 0.985799968 Testing Acc: 0.964883327\n",
            "Epoch: 47 Training Loss: 0.039767403 Testing Loss: 0.153785646  Training Acc: 0.987899959 Testing Acc: 0.965250015\n",
            "Epoch: 48 Training Loss: 0.052269015 Testing Loss: 0.168586686  Training Acc: 0.984099984 Testing Acc: 0.962899983\n",
            "Epoch: 49 Training Loss: 0.040906891 Testing Loss: 0.162675798  Training Acc: 0.986799955 Testing Acc: 0.964016676\n",
            "Epoch: 50 Training Loss: 0.045022793 Testing Loss: 0.166928738  Training Acc: 0.985599995 Testing Acc: 0.963666677\n",
            "Epoch: 51 Training Loss: 0.042011172 Testing Loss: 0.160472751  Training Acc: 0.986000001 Testing Acc: 0.964433372\n",
            "Epoch: 52 Training Loss: 0.045991562 Testing Loss: 0.165654078  Training Acc: 0.985399961 Testing Acc: 0.963850021\n",
            "Epoch: 53 Training Loss: 0.037754107 Testing Loss: 0.161066160  Training Acc: 0.986799955 Testing Acc: 0.964816689\n",
            "Epoch: 54 Training Loss: 0.042300150 Testing Loss: 0.165796638  Training Acc: 0.986399949 Testing Acc: 0.965400040\n",
            "Epoch: 55 Training Loss: 0.042259727 Testing Loss: 0.173659056  Training Acc: 0.986499965 Testing Acc: 0.962983370\n",
            "Epoch: 56 Training Loss: 0.042334154 Testing Loss: 0.179664686  Training Acc: 0.985599995 Testing Acc: 0.962666690\n",
            "Epoch: 57 Training Loss: 0.038732577 Testing Loss: 0.175842360  Training Acc: 0.986599982 Testing Acc: 0.962800026\n",
            "Epoch: 58 Training Loss: 0.044196811 Testing Loss: 0.175659299  Training Acc: 0.985499978 Testing Acc: 0.964083374\n",
            "Epoch: 59 Training Loss: 0.039746046 Testing Loss: 0.162744895  Training Acc: 0.988899946 Testing Acc: 0.965766668\n",
            "Epoch: 60 Training Loss: 0.043201443 Testing Loss: 0.156457946  Training Acc: 0.986799955 Testing Acc: 0.966233373\n",
            "Epoch: 61 Training Loss: 0.040122759 Testing Loss: 0.162460700  Training Acc: 0.987199962 Testing Acc: 0.965300024\n",
            "Epoch: 62 Training Loss: 0.033047844 Testing Loss: 0.167674258  Training Acc: 0.987899959 Testing Acc: 0.965033352\n",
            "Epoch: 63 Training Loss: 0.040063508 Testing Loss: 0.159526482  Training Acc: 0.987699986 Testing Acc: 0.966050029\n",
            "Epoch: 64 Training Loss: 0.036364805 Testing Loss: 0.165475085  Training Acc: 0.988499999 Testing Acc: 0.965600014\n",
            "Epoch: 65 Training Loss: 0.035844110 Testing Loss: 0.167123333  Training Acc: 0.988499999 Testing Acc: 0.965333343\n",
            "Epoch: 66 Training Loss: 0.031779043 Testing Loss: 0.165415376  Training Acc: 0.989699960 Testing Acc: 0.966533363\n",
            "Epoch: 67 Training Loss: 0.035827078 Testing Loss: 0.178580254  Training Acc: 0.989199996 Testing Acc: 0.964216650\n",
            "Epoch: 68 Training Loss: 0.036408518 Testing Loss: 0.169398174  Training Acc: 0.987899959 Testing Acc: 0.966066658\n",
            "Epoch: 69 Training Loss: 0.037831903 Testing Loss: 0.168489143  Training Acc: 0.987899959 Testing Acc: 0.965849996\n",
            "Epoch: 70 Training Loss: 0.033960555 Testing Loss: 0.175947875  Training Acc: 0.987399995 Testing Acc: 0.964133322\n",
            "Epoch: 71 Training Loss: 0.031043980 Testing Loss: 0.166879684  Training Acc: 0.989399970 Testing Acc: 0.965250015\n",
            "Epoch: 72 Training Loss: 0.035804123 Testing Loss: 0.169903129  Training Acc: 0.988699973 Testing Acc: 0.965366662\n",
            "Epoch: 73 Training Loss: 0.041488804 Testing Loss: 0.173369303  Training Acc: 0.986499965 Testing Acc: 0.964733362\n",
            "Epoch: 74 Training Loss: 0.036746275 Testing Loss: 0.174786389  Training Acc: 0.988399982 Testing Acc: 0.964600027\n",
            "Epoch: 75 Training Loss: 0.029599763 Testing Loss: 0.161660016  Training Acc: 0.990499973 Testing Acc: 0.966250002\n",
            "Epoch: 76 Training Loss: 0.031079492 Testing Loss: 0.166978508  Training Acc: 0.989699960 Testing Acc: 0.965916693\n",
            "Epoch: 77 Training Loss: 0.029509714 Testing Loss: 0.163358212  Training Acc: 0.990799963 Testing Acc: 0.966700017\n",
            "Epoch: 78 Training Loss: 0.037851244 Testing Loss: 0.176351056  Training Acc: 0.987899959 Testing Acc: 0.964966655\n",
            "Epoch: 79 Training Loss: 0.033677392 Testing Loss: 0.172298834  Training Acc: 0.988199949 Testing Acc: 0.966333330\n",
            "Epoch: 80 Training Loss: 0.032132607 Testing Loss: 0.175852612  Training Acc: 0.989899993 Testing Acc: 0.965616703\n",
            "Epoch: 81 Training Loss: 0.023648499 Testing Loss: 0.171021774  Training Acc: 0.992199957 Testing Acc: 0.966400027\n",
            "Epoch: 82 Training Loss: 0.029485162 Testing Loss: 0.178263694  Training Acc: 0.989499986 Testing Acc: 0.965250015\n",
            "Epoch: 83 Training Loss: 0.029857177 Testing Loss: 0.175412625  Training Acc: 0.989799976 Testing Acc: 0.965783358\n",
            "Epoch: 84 Training Loss: 0.035280924 Testing Loss: 0.171469375  Training Acc: 0.988899946 Testing Acc: 0.966783345\n",
            "Epoch: 85 Training Loss: 0.033197563 Testing Loss: 0.177365139  Training Acc: 0.989699960 Testing Acc: 0.966016650\n",
            "Epoch: 86 Training Loss: 0.032224085 Testing Loss: 0.168584839  Training Acc: 0.988999963 Testing Acc: 0.966549993\n",
            "Epoch: 87 Training Loss: 0.031737406 Testing Loss: 0.171802446  Training Acc: 0.988899946 Testing Acc: 0.966149986\n",
            "Epoch: 88 Training Loss: 0.025329078 Testing Loss: 0.174806267  Training Acc: 0.992100000 Testing Acc: 0.965666652\n",
            "Epoch: 89 Training Loss: 0.030682070 Testing Loss: 0.178214267  Training Acc: 0.989499986 Testing Acc: 0.965416670\n",
            "Epoch: 90 Training Loss: 0.033144020 Testing Loss: 0.174801171  Training Acc: 0.989899993 Testing Acc: 0.966149986\n",
            "Epoch: 91 Training Loss: 0.030198809 Testing Loss: 0.176070809  Training Acc: 0.988699973 Testing Acc: 0.965683341\n",
            "Epoch: 92 Training Loss: 0.027884373 Testing Loss: 0.177602112  Training Acc: 0.990999997 Testing Acc: 0.965916693\n",
            "Epoch: 93 Training Loss: 0.023452748 Testing Loss: 0.172689155  Training Acc: 0.992299974 Testing Acc: 0.967299998\n",
            "Epoch: 94 Training Loss: 0.031447385 Testing Loss: 0.170592129  Training Acc: 0.989899993 Testing Acc: 0.966833353\n",
            "Epoch: 95 Training Loss: 0.036273148 Testing Loss: 0.180267483  Training Acc: 0.988199949 Testing Acc: 0.964883327\n",
            "Epoch: 96 Training Loss: 0.027708413 Testing Loss: 0.178557396  Training Acc: 0.989799976 Testing Acc: 0.966166675\n",
            "Epoch: 97 Training Loss: 0.029620651 Testing Loss: 0.188876256  Training Acc: 0.991999984 Testing Acc: 0.964883327\n",
            "Epoch: 98 Training Loss: 0.032793153 Testing Loss: 0.174887881  Training Acc: 0.989699960 Testing Acc: 0.966316700\n",
            "Epoch: 99 Training Loss: 0.022185851 Testing Loss: 0.176515669  Training Acc: 0.991400003 Testing Acc: 0.966183364\n",
            "Epoch: 100 Training Loss: 0.027427990 Testing Loss: 0.176951006  Training Acc: 0.991099954 Testing Acc: 0.966899991\n",
            "Epoch: 101 Training Loss: 0.033270437 Testing Loss: 0.180537403  Training Acc: 0.989299953 Testing Acc: 0.965250015\n",
            "Epoch: 102 Training Loss: 0.031044057 Testing Loss: 0.173821881  Training Acc: 0.990099967 Testing Acc: 0.966499984\n",
            "Epoch: 103 Training Loss: 0.028841881 Testing Loss: 0.174111769  Training Acc: 0.990799963 Testing Acc: 0.966600001\n",
            "Epoch: 104 Training Loss: 0.035075326 Testing Loss: 0.174053073  Training Acc: 0.988499999 Testing Acc: 0.966250002\n",
            "Epoch: 105 Training Loss: 0.026933847 Testing Loss: 0.173644722  Training Acc: 0.991099954 Testing Acc: 0.966216683\n",
            "Epoch: 106 Training Loss: 0.026473483 Testing Loss: 0.188830584  Training Acc: 0.991199970 Testing Acc: 0.965066671\n",
            "Epoch: 107 Training Loss: 0.027045617 Testing Loss: 0.179354429  Training Acc: 0.991099954 Testing Acc: 0.966183364\n",
            "Epoch: 108 Training Loss: 0.031694774 Testing Loss: 0.185688138  Training Acc: 0.989999950 Testing Acc: 0.964933336\n",
            "Epoch: 109 Training Loss: 0.031231100 Testing Loss: 0.187500820  Training Acc: 0.990099967 Testing Acc: 0.964900017\n",
            "Epoch: 110 Training Loss: 0.022445122 Testing Loss: 0.172558784  Training Acc: 0.992999971 Testing Acc: 0.967266679\n",
            "Epoch: 111 Training Loss: 0.021099135 Testing Loss: 0.186954021  Training Acc: 0.993399978 Testing Acc: 0.966166675\n",
            "Epoch: 112 Training Loss: 0.022920014 Testing Loss: 0.181774959  Training Acc: 0.992299974 Testing Acc: 0.966966689\n",
            "Epoch: 113 Training Loss: 0.027763598 Testing Loss: 0.194951400  Training Acc: 0.990499973 Testing Acc: 0.964816689\n",
            "Epoch: 114 Training Loss: 0.027332211 Testing Loss: 0.181452304  Training Acc: 0.990999997 Testing Acc: 0.966549993\n",
            "Epoch: 115 Training Loss: 0.029041460 Testing Loss: 0.184076861  Training Acc: 0.990599990 Testing Acc: 0.966033340\n",
            "Epoch: 116 Training Loss: 0.023879183 Testing Loss: 0.182417810  Training Acc: 0.991999984 Testing Acc: 0.966849983\n",
            "Epoch: 117 Training Loss: 0.028932970 Testing Loss: 0.181761786  Training Acc: 0.990699947 Testing Acc: 0.966800034\n",
            "Epoch: 118 Training Loss: 0.026250444 Testing Loss: 0.186671317  Training Acc: 0.992199957 Testing Acc: 0.965183318\n",
            "Epoch: 119 Training Loss: 0.033994932 Testing Loss: 0.177815020  Training Acc: 0.990499973 Testing Acc: 0.966899991\n",
            "Epoch: 120 Training Loss: 0.024715655 Testing Loss: 0.174793661  Training Acc: 0.992299974 Testing Acc: 0.967199981\n",
            "Epoch: 121 Training Loss: 0.024130123 Testing Loss: 0.172278896  Training Acc: 0.991299987 Testing Acc: 0.967283368\n",
            "Epoch: 122 Training Loss: 0.021969704 Testing Loss: 0.172645658  Training Acc: 0.991599977 Testing Acc: 0.968033373\n",
            "Epoch: 123 Training Loss: 0.024705233 Testing Loss: 0.170799345  Training Acc: 0.991999984 Testing Acc: 0.968716681\n",
            "Epoch: 124 Training Loss: 0.023328124 Testing Loss: 0.181685701  Training Acc: 0.992999971 Testing Acc: 0.967183352\n",
            "Epoch: 125 Training Loss: 0.027492397 Testing Loss: 0.180133000  Training Acc: 0.991899967 Testing Acc: 0.967400014\n",
            "Epoch: 126 Training Loss: 0.031767722 Testing Loss: 0.195424303  Training Acc: 0.990599990 Testing Acc: 0.965183318\n",
            "Epoch: 127 Training Loss: 0.019435339 Testing Loss: 0.187155321  Training Acc: 0.993900001 Testing Acc: 0.966250002\n",
            "Epoch: 128 Training Loss: 0.022352334 Testing Loss: 0.195267841  Training Acc: 0.992499948 Testing Acc: 0.965149999\n",
            "Epoch: 129 Training Loss: 0.021086056 Testing Loss: 0.189806968  Training Acc: 0.993200004 Testing Acc: 0.965149999\n",
            "Epoch: 130 Training Loss: 0.020792816 Testing Loss: 0.189994201  Training Acc: 0.992699981 Testing Acc: 0.966849983\n",
            "Epoch: 131 Training Loss: 0.021909006 Testing Loss: 0.183530629  Training Acc: 0.992699981 Testing Acc: 0.966600001\n",
            "Epoch: 132 Training Loss: 0.023533192 Testing Loss: 0.190678492  Training Acc: 0.993099988 Testing Acc: 0.966616690\n",
            "Epoch: 133 Training Loss: 0.018337626 Testing Loss: 0.186083332  Training Acc: 0.994299948 Testing Acc: 0.966866672\n",
            "Epoch: 134 Training Loss: 0.024781363 Testing Loss: 0.193937480  Training Acc: 0.992100000 Testing Acc: 0.965016663\n",
            "Epoch: 135 Training Loss: 0.026618438 Testing Loss: 0.190696359  Training Acc: 0.990999997 Testing Acc: 0.966616690\n",
            "Epoch: 136 Training Loss: 0.018529201 Testing Loss: 0.194471702  Training Acc: 0.993499994 Testing Acc: 0.966533363\n",
            "Epoch: 137 Training Loss: 0.020407155 Testing Loss: 0.191527948  Training Acc: 0.993599951 Testing Acc: 0.966949999\n",
            "Epoch: 138 Training Loss: 0.023553170 Testing Loss: 0.189575642  Training Acc: 0.992599964 Testing Acc: 0.966983318\n",
            "Epoch: 139 Training Loss: 0.019463262 Testing Loss: 0.196512893  Training Acc: 0.994299948 Testing Acc: 0.965366662\n",
            "Epoch: 140 Training Loss: 0.024814026 Testing Loss: 0.200939015  Training Acc: 0.992199957 Testing Acc: 0.965816677\n",
            "Epoch: 141 Training Loss: 0.027338650 Testing Loss: 0.197435141  Training Acc: 0.991799951 Testing Acc: 0.965333343\n",
            "Epoch: 142 Training Loss: 0.031281766 Testing Loss: 0.186923191  Training Acc: 0.990899980 Testing Acc: 0.966483355\n",
            "Epoch: 143 Training Loss: 0.021251567 Testing Loss: 0.190928653  Training Acc: 0.993699968 Testing Acc: 0.966666698\n",
            "Epoch: 144 Training Loss: 0.023020234 Testing Loss: 0.174249426  Training Acc: 0.991999984 Testing Acc: 0.967833340\n",
            "Epoch: 145 Training Loss: 0.030987781 Testing Loss: 0.182194084  Training Acc: 0.990999997 Testing Acc: 0.967483342\n",
            "Epoch: 146 Training Loss: 0.022040898 Testing Loss: 0.190005258  Training Acc: 0.991799951 Testing Acc: 0.965283334\n",
            "Epoch: 147 Training Loss: 0.021862214 Testing Loss: 0.187979758  Training Acc: 0.993200004 Testing Acc: 0.967233360\n",
            "Epoch: 148 Training Loss: 0.020205606 Testing Loss: 0.186081097  Training Acc: 0.993499994 Testing Acc: 0.967633367\n",
            "Epoch: 149 Training Loss: 0.019478064 Testing Loss: 0.177364752  Training Acc: 0.994599998 Testing Acc: 0.967966676\n",
            "Epoch: 150 Training Loss: 0.024477104 Testing Loss: 0.192851409  Training Acc: 0.992499948 Testing Acc: 0.966849983\n",
            "Epoch: 151 Training Loss: 0.024501624 Testing Loss: 0.192527562  Training Acc: 0.992399991 Testing Acc: 0.966083348\n",
            "Epoch: 152 Training Loss: 0.017182762 Testing Loss: 0.197212204  Training Acc: 0.994499981 Testing Acc: 0.965966702\n",
            "Epoch: 153 Training Loss: 0.021621000 Testing Loss: 0.187566072  Training Acc: 0.992699981 Testing Acc: 0.966516674\n",
            "Epoch: 154 Training Loss: 0.022404501 Testing Loss: 0.192683190  Training Acc: 0.992499948 Testing Acc: 0.966383338\n",
            "Epoch: 155 Training Loss: 0.022687536 Testing Loss: 0.185837626  Training Acc: 0.992799997 Testing Acc: 0.967416704\n",
            "Epoch: 156 Training Loss: 0.018614171 Testing Loss: 0.187575936  Training Acc: 0.994399965 Testing Acc: 0.968133330\n",
            "Epoch: 157 Training Loss: 0.020501450 Testing Loss: 0.195508704  Training Acc: 0.992599964 Testing Acc: 0.966466665\n",
            "Epoch: 158 Training Loss: 0.018359749 Testing Loss: 0.190027773  Training Acc: 0.994599998 Testing Acc: 0.966466665\n",
            "Epoch: 159 Training Loss: 0.021865617 Testing Loss: 0.192686975  Training Acc: 0.992299974 Testing Acc: 0.966483355\n",
            "Epoch: 160 Training Loss: 0.023661619 Testing Loss: 0.196563095  Training Acc: 0.992100000 Testing Acc: 0.966450036\n",
            "Epoch: 161 Training Loss: 0.024704998 Testing Loss: 0.189384460  Training Acc: 0.992199957 Testing Acc: 0.966483355\n"
          ],
          "name": "stdout"
        },
        {
          "output_type": "error",
          "ename": "KeyboardInterrupt",
          "evalue": "ignored",
          "traceback": [
            "\u001b[0;31m---------------------------------------------------------------------------\u001b[0m",
            "\u001b[0;31mKeyboardInterrupt\u001b[0m                         Traceback (most recent call last)",
            "\u001b[0;32m<ipython-input-15-1bca7f7eb6d3>\u001b[0m in \u001b[0;36m<module>\u001b[0;34m()\u001b[0m\n\u001b[0;32m----> 1\u001b[0;31m \u001b[0mL_train\u001b[0m\u001b[0;34m,\u001b[0m \u001b[0mA_train\u001b[0m\u001b[0;34m,\u001b[0m \u001b[0mL_test\u001b[0m\u001b[0;34m,\u001b[0m \u001b[0mA_test\u001b[0m \u001b[0;34m=\u001b[0m \u001b[0mtraining\u001b[0m\u001b[0;34m(\u001b[0m\u001b[0mmodel\u001b[0m\u001b[0;34m,\u001b[0m \u001b[0mcriterion\u001b[0m\u001b[0;34m,\u001b[0m \u001b[0moptimizer\u001b[0m\u001b[0;34m,\u001b[0m \u001b[0mtraining_epochs\u001b[0m\u001b[0;34m,\u001b[0m \u001b[0mtrain_loader\u001b[0m\u001b[0;34m,\u001b[0m \u001b[0mtest_loader\u001b[0m\u001b[0;34m)\u001b[0m\u001b[0;34m\u001b[0m\u001b[0;34m\u001b[0m\u001b[0m\n\u001b[0m",
            "\u001b[0;32m<ipython-input-14-034bb72c9863>\u001b[0m in \u001b[0;36mtraining\u001b[0;34m(model, loss, optim, training_epochs, train_loader, test_loader)\u001b[0m\n\u001b[1;32m     11\u001b[0m     \u001b[0mmodel\u001b[0m\u001b[0;34m.\u001b[0m\u001b[0mtrain\u001b[0m\u001b[0;34m(\u001b[0m\u001b[0;34m)\u001b[0m\u001b[0;34m\u001b[0m\u001b[0;34m\u001b[0m\u001b[0m\n\u001b[1;32m     12\u001b[0m     \u001b[0;32mfor\u001b[0m \u001b[0mX\u001b[0m\u001b[0;34m,\u001b[0m \u001b[0mY\u001b[0m \u001b[0;32min\u001b[0m \u001b[0mtrain_loader\u001b[0m\u001b[0;34m:\u001b[0m\u001b[0;34m\u001b[0m\u001b[0;34m\u001b[0m\u001b[0m\n\u001b[0;32m---> 13\u001b[0;31m       \u001b[0mX\u001b[0m \u001b[0;34m=\u001b[0m \u001b[0mX\u001b[0m\u001b[0;34m.\u001b[0m\u001b[0mto\u001b[0m\u001b[0;34m(\u001b[0m\u001b[0mdevice\u001b[0m\u001b[0;34m)\u001b[0m\u001b[0;34m\u001b[0m\u001b[0;34m\u001b[0m\u001b[0m\n\u001b[0m\u001b[1;32m     14\u001b[0m       \u001b[0mY\u001b[0m \u001b[0;34m=\u001b[0m \u001b[0mY\u001b[0m\u001b[0;34m.\u001b[0m\u001b[0mto\u001b[0m\u001b[0;34m(\u001b[0m\u001b[0mdevice\u001b[0m\u001b[0;34m)\u001b[0m\u001b[0;34m\u001b[0m\u001b[0;34m\u001b[0m\u001b[0m\n\u001b[1;32m     15\u001b[0m \u001b[0;34m\u001b[0m\u001b[0m\n",
            "\u001b[0;31mKeyboardInterrupt\u001b[0m: "
          ]
        }
      ]
    },
    {
      "cell_type": "code",
      "metadata": {
        "id": "vzn6YyGw9ULY"
      },
      "source": [
        "plt.figure(figsize = (10,10))\n",
        "plt.plot(L_train, linewidth = 2, c='b', label = \"train\")\n",
        "plt.plot(L_test, linewidth = 2, c='r', label = \"test\")\n",
        "plt.legend()\n",
        "plt.show()"
      ],
      "execution_count": null,
      "outputs": []
    },
    {
      "cell_type": "code",
      "metadata": {
        "id": "Rl1MuQhtqsg2"
      },
      "source": [
        "plt.figure(figsize = (10,10))\n",
        "plt.plot(A_train, linewidth = 2, c='b', label = \"train\")\n",
        "plt.plot(A_test, linewidth = 2, c='r', label = \"test\")\n",
        "plt.legend()\n",
        "plt.show()"
      ],
      "execution_count": null,
      "outputs": []
    },
    {
      "cell_type": "code",
      "metadata": {
        "id": "4990rRublMpD"
      },
      "source": [
        "print(\"training loss    %.2f\" %(L_train[-1]))\n",
        "print(\"testing loss     %.2f\" %(L_test[-1]))\n",
        "print(\"training acc    %.2f\" %(A_train[-1]))\n",
        "print(\"testing acc     %.2f\" %(A_test[-1]))"
      ],
      "execution_count": null,
      "outputs": []
    },
    {
      "cell_type": "markdown",
      "metadata": {
        "id": "z4L9RrzOz5xl"
      },
      "source": [
        "# 5. Output\n",
        "<hr>"
      ]
    },
    {
      "cell_type": "markdown",
      "metadata": {
        "id": "alN6-n0r0DTO"
      },
      "source": [
        "## 1. Plot the training and testing losses with a batch size of 32"
      ]
    },
    {
      "cell_type": "markdown",
      "metadata": {
        "id": "4t1dSyC1AVe0"
      },
      "source": [
        "## 2. Plot the training and testing accuracies with a batch size of 32"
      ]
    },
    {
      "cell_type": "markdown",
      "metadata": {
        "id": "px7XRkcnAnc7"
      },
      "source": [
        "## 3. Plot the training and testing losses with a batch size of 64"
      ]
    },
    {
      "cell_type": "markdown",
      "metadata": {
        "id": "gW87VTpwAtMB"
      },
      "source": [
        "## 4. Plot the training and testing accuracies with a batch size of 64"
      ]
    },
    {
      "cell_type": "markdown",
      "metadata": {
        "id": "Kl5XI9EVA6QH"
      },
      "source": [
        "## 5. Plot the training and testing losses with a batch size of 128"
      ]
    },
    {
      "cell_type": "markdown",
      "metadata": {
        "id": "10I91neJBHb1"
      },
      "source": [
        "## 6. Plot the training and testing accuracies with a batch size of 128"
      ]
    },
    {
      "cell_type": "markdown",
      "metadata": {
        "id": "iDI0NljKBNF9"
      },
      "source": [
        "## 7. Print the loss at convergence with different mini-batch sizes"
      ]
    },
    {
      "cell_type": "markdown",
      "metadata": {
        "id": "ifTX7c5MCLSf"
      },
      "source": [
        "## 8. Print the accuracy at convergence with different mini-batch sizes"
      ]
    },
    {
      "cell_type": "code",
      "metadata": {
        "id": "mpgCDaBpCWT_"
      },
      "source": [
        ""
      ],
      "execution_count": null,
      "outputs": []
    }
  ]
}