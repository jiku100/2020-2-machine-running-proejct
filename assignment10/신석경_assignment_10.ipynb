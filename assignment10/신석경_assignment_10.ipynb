{
  "nbformat": 4,
  "nbformat_minor": 0,
  "metadata": {
    "accelerator": "GPU",
    "colab": {
      "name": "신석경_assignment_10",
      "provenance": [],
      "collapsed_sections": [],
      "authorship_tag": "ABX9TyNNwWY4MF4+SwTtSx6Uba+V",
      "include_colab_link": true
    },
    "kernelspec": {
      "display_name": "Python 3",
      "name": "python3"
    }
  },
  "cells": [
    {
      "cell_type": "markdown",
      "metadata": {
        "id": "view-in-github",
        "colab_type": "text"
      },
      "source": [
        "<a href=\"https://colab.research.google.com/github/jiku100/2020-2-machine-running-proejct/blob/master/assignment10/%EC%8B%A0%EC%84%9D%EA%B2%BD_assignment_10.ipynb\" target=\"_parent\"><img src=\"https://colab.research.google.com/assets/colab-badge.svg\" alt=\"Open In Colab\"/></a>"
      ]
    },
    {
      "cell_type": "markdown",
      "metadata": {
        "id": "0gzdXwFJz0KJ"
      },
      "source": [
        "# **Classification for Multiple Categories using Pytorch for best accuracy**\n",
        "\n"
      ]
    },
    {
      "cell_type": "markdown",
      "metadata": {
        "id": "w_C7Cujjz4ff"
      },
      "source": [
        "# 1. Import library\n",
        "<hr>"
      ]
    },
    {
      "cell_type": "code",
      "metadata": {
        "id": "gtlbKT3Izgre"
      },
      "source": [
        "import torch\n",
        "import torch.nn as nn\n",
        "import torch.optim as optim\n",
        "import torch.nn.init as init\n",
        "import torchvision\n",
        "import torchvision.transforms as transforms\n",
        "import torchvision.datasets as datasets\n",
        "from torch.utils.data import DataLoader\n",
        "\n",
        "import matplotlib.pyplot as plt\n",
        "import cv2\n",
        "import numpy as np"
      ],
      "execution_count": 1,
      "outputs": []
    },
    {
      "cell_type": "code",
      "metadata": {
        "colab": {
          "base_uri": "https://localhost:8080/"
        },
        "id": "JC9KWsHg7lTJ",
        "outputId": "36f0e0da-6917-4ba8-fae7-301a6f44283a"
      },
      "source": [
        "USE_CUDA = torch.cuda.is_available()\n",
        "device = torch.device(\"cuda\" if USE_CUDA else \"cpu\")\n",
        "print(\"다음 기기로 학습합니다:\", device)"
      ],
      "execution_count": 2,
      "outputs": [
        {
          "output_type": "stream",
          "text": [
            "다음 기기로 학습합니다: cuda\n"
          ],
          "name": "stdout"
        }
      ]
    },
    {
      "cell_type": "markdown",
      "metadata": {
        "id": "nBCurPvD3NoM"
      },
      "source": [
        "# 2. Preprocessing Data\n",
        "<hr>"
      ]
    },
    {
      "cell_type": "code",
      "metadata": {
        "id": "4tVba13YD-s9"
      },
      "source": [
        "transform_train = transforms.Compose([\n",
        "        transforms.ToTensor(),\n",
        "        transforms.RandomRotation(30),\n",
        "        transforms.Normalize((0.1307,),(0.3081,))                    # 이미지를 텐서로 변형합니다.\n",
        "])\n",
        "\n",
        "transform_test = transforms.Compose([\n",
        "        transforms.ToTensor(), \n",
        "        transforms.Normalize((0.1307,),(0.3081,))            \n",
        "])"
      ],
      "execution_count": 18,
      "outputs": []
    },
    {
      "cell_type": "code",
      "metadata": {
        "id": "1uNdu0HqJEQv"
      },
      "source": [
        "data_path = './MNIST'\n",
        "\n",
        "data_test   = datasets.MNIST(root = data_path, train= True, download=True, transform= transform_test)\n",
        "data_train  = datasets.MNIST(root = data_path, train= False, download=True, transform= transform_train)"
      ],
      "execution_count": 19,
      "outputs": []
    },
    {
      "cell_type": "code",
      "metadata": {
        "colab": {
          "base_uri": "https://localhost:8080/",
          "height": 387
        },
        "id": "8SJcK-t2D3Bp",
        "outputId": "1695b4eb-21d2-4213-add1-054f49a1653e"
      },
      "source": [
        "one_image, label = data_train[0]\n",
        "print(\"type of one image\", type(one_image))\n",
        "print(\"size of one image : \", one_image.shape)\n",
        "plt.imshow(one_image.squeeze().numpy(), cmap='gray')\n",
        "print(\"type of label : \", type(label))\n",
        "print(\"label : \", label)\n",
        "print(np.max(data_train.train_data[0].view(-1).numpy()))"
      ],
      "execution_count": 20,
      "outputs": [
        {
          "output_type": "stream",
          "text": [
            "type of one image <class 'torch.Tensor'>\n",
            "size of one image :  torch.Size([1, 28, 28])\n",
            "type of label :  <class 'int'>\n",
            "label :  7\n",
            "255\n"
          ],
          "name": "stdout"
        },
        {
          "output_type": "stream",
          "text": [
            "/usr/local/lib/python3.6/dist-packages/torchvision/datasets/mnist.py:58: UserWarning: train_data has been renamed data\n",
            "  warnings.warn(\"train_data has been renamed data\")\n"
          ],
          "name": "stderr"
        },
        {
          "output_type": "display_data",
          "data": {
            "image/png": "[encoded data removed]",
            "text/plain": [
              "<Figure size 432x288 with 1 Axes>"
            ]
          },
          "metadata": {
            "tags": [],
            "needs_background": "light"
          }
        }
      ]
    },
    {
      "cell_type": "code",
      "metadata": {
        "id": "lUj2JTgY4r4c"
      },
      "source": [
        "learning_rate = 0.0015\n",
        "training_epochs = 100\n",
        "batch_size = 16\n",
        "drop_prob = 0.3"
      ],
      "execution_count": 21,
      "outputs": []
    },
    {
      "cell_type": "code",
      "metadata": {
        "id": "CkgCtS3b3giF"
      },
      "source": [
        "train_loader = DataLoader(dataset = data_train, batch_size = batch_size, num_workers = 2, shuffle = True) ## batch size 32 짜리 train loader 생성\n",
        "test_loader = DataLoader(dataset = data_test, batch_size = batch_size, num_workers = 2, shuffle = True) ## batch size 32 짜리 test loader 생성"
      ],
      "execution_count": 22,
      "outputs": []
    },
    {
      "cell_type": "markdown",
      "metadata": {
        "id": "SCsB9Pdk6zd7"
      },
      "source": [
        "# 3. Define Model\n",
        "<hr>"
      ]
    },
    {
      "cell_type": "code",
      "metadata": {
        "id": "-cUHqcW25etQ"
      },
      "source": [
        "class classification(nn.Module):\n",
        "    def __init__(self):\n",
        "        super(classification, self).__init__()\n",
        "        \n",
        "        # construct layers for a neural network\n",
        "        self.classifier1 = nn.Sequential(\n",
        "            nn.Linear(in_features=28*28, out_features=20*20),\n",
        "            nn.BatchNorm1d(20*20),\n",
        "            nn.ReLU(inplace=True),\n",
        "            nn.Dropout(p=drop_prob)\n",
        "        ) \n",
        "        self.classifier2 = nn.Sequential(\n",
        "            nn.Linear(in_features=20*20, out_features=10*10),\n",
        "            nn.BatchNorm1d(10*10),\n",
        "            nn.ReLU(inplace=True),\n",
        "            nn.Dropout(p=drop_prob)\n",
        "        ) \n",
        "        self.classifier3 = nn.Sequential(\n",
        "            nn.Linear(in_features=100, out_features=10),\n",
        "        ) \n",
        "\n",
        "        for m in self.modules():\n",
        "          if isinstance(m, nn.Linear):\n",
        "            init.kaiming_normal_(m.weight.data) # Kaming He Initialization\n",
        "            m.bias.data.fill_(0)                # 편차를 0으로 초기화 \n",
        "\n",
        "    def forward(self, inputs):                 # [batchSize, 1, 28, 28]\n",
        "        x = inputs.view(inputs.size(0), -1)    # [batchSize, 28*28]\n",
        "        x = self.classifier1(x)                # [batchSize, 20*20]\n",
        "        x = self.classifier2(x)                # [batchSize, 10*10]\n",
        "        out = self.classifier3(x)              # [batchSize, 10]\n",
        "        \n",
        "        return out\n",
        "\n"
      ],
      "execution_count": 23,
      "outputs": []
    },
    {
      "cell_type": "code",
      "metadata": {
        "id": "MWYQ30d37dwC"
      },
      "source": [
        "model = classification().to(device)"
      ],
      "execution_count": 24,
      "outputs": []
    },
    {
      "cell_type": "code",
      "metadata": {
        "id": "-GpzWr1V64wc"
      },
      "source": [
        "criterion = nn.CrossEntropyLoss().to(device)    # Softmax is internally computed.\n",
        "optimizer = torch.optim.Adam(model.parameters(), lr=learning_rate)\n",
        "scheduler = optim.lr_scheduler.StepLR(optimizer, 5, gamma=0.1, last_epoch=-1)"
      ],
      "execution_count": 25,
      "outputs": []
    },
    {
      "cell_type": "markdown",
      "metadata": {
        "id": "lsNWP3Wk8Siq"
      },
      "source": [
        "# 4. Training\n",
        "<hr>"
      ]
    },
    {
      "cell_type": "code",
      "metadata": {
        "id": "1_QSSPkC7sCr"
      },
      "source": [
        "total_batch= len(train_loader)"
      ],
      "execution_count": 26,
      "outputs": []
    },
    {
      "cell_type": "code",
      "metadata": {
        "colab": {
          "base_uri": "https://localhost:8080/"
        },
        "id": "9_SeUrHB5gLH",
        "outputId": "510a6637-7825-4240-c343-61d4956bd0e9"
      },
      "source": [
        "print(total_batch)"
      ],
      "execution_count": 27,
      "outputs": [
        {
          "output_type": "stream",
          "text": [
            "625\n"
          ],
          "name": "stdout"
        }
      ]
    },
    {
      "cell_type": "code",
      "metadata": {
        "id": "eaJMZ8TvcglJ"
      },
      "source": [
        "def accuracy(log_pred, y_true):\n",
        "    y_pred = torch.argmax(log_pred, dim=1)\n",
        "    return (y_pred == y_true).to(torch.float).mean()"
      ],
      "execution_count": 28,
      "outputs": []
    },
    {
      "cell_type": "code",
      "metadata": {
        "id": "Kl5FuVgt8_LF"
      },
      "source": [
        "def training(model, loss, optim, training_epochs, train_loader, test_loader):\n",
        "  L_iters_train = []\n",
        "  accuracy_train = []\n",
        "  L_iters_test = []\n",
        "  accuracy_test = []\n",
        "  for epoch in range(training_epochs):\n",
        "    total_cost_train = 0\n",
        "    total_cost_test = 0\n",
        "    total_acc_train = 0\n",
        "    total_acc_test = 0\n",
        "    model.train()\n",
        "    for X, Y in train_loader:\n",
        "      X = X.to(device)\n",
        "      Y = Y.to(device)\n",
        "\n",
        "      optim.zero_grad()\n",
        "      train_pred = model(X)\n",
        "      cost = loss(train_pred, Y)\n",
        "      cost.backward()\n",
        "      optim.step()\n",
        "\n",
        "      total_cost_train += cost\n",
        "      total_acc_train += accuracy(train_pred, Y)\n",
        "      \n",
        "    avg_cost_train = total_cost_train / len(train_loader)\n",
        "    avg_acc_train = total_acc_train / len(train_loader)\n",
        "\n",
        "    L_iters_train.append(avg_cost_train)\n",
        "    accuracy_train.append(avg_acc_train)\n",
        "    model.eval()\n",
        "    with torch.no_grad():\n",
        "      for X_test, Y_test in test_loader:\n",
        "        X_test = X_test.to(device)\n",
        "        Y_test = Y_test.to(device)\n",
        "        test_pred = model(X_test)\n",
        "        cost_test = loss(test_pred, Y_test)\n",
        "        total_cost_test += cost_test\n",
        "        total_acc_test += accuracy(test_pred, Y_test)\n",
        "      avg_cost_test = total_cost_test / len(test_loader)\n",
        "      avg_acc_test = total_acc_test / len(test_loader)\n",
        "    \n",
        "      accuracy_test.append(avg_acc_test)\n",
        "      L_iters_test.append(avg_cost_test)\n",
        "\n",
        "    print(\"Epoch: %02d Training Loss: %.9f Testing Loss: %.9f  Training Acc: %.9f Testing Acc: %.9f\" %((epoch + 1),avg_cost_train, avg_cost_test, avg_acc_train, avg_acc_test))\n",
        "  return L_iters_train, accuracy_train, L_iters_test, accuracy_test"
      ],
      "execution_count": 29,
      "outputs": []
    },
    {
      "cell_type": "code",
      "metadata": {
        "colab": {
          "base_uri": "https://localhost:8080/"
        },
        "id": "hOfKPriA84jq",
        "outputId": "03982d34-2350-4366-fc1a-5af7ab1edba8"
      },
      "source": [
        "L_train, A_train, L_test, A_test = training(model, criterion, optimizer, training_epochs, train_loader, test_loader)"
      ],
      "execution_count": 30,
      "outputs": [
        {
          "output_type": "stream",
          "text": [
            "Epoch: 01 Training Loss: 0.765769303 Testing Loss: 0.305391163  Training Acc: 0.751100004 Testing Acc: 0.908533335\n",
            "Epoch: 02 Training Loss: 0.498973429 Testing Loss: 0.232037842  Training Acc: 0.842099965 Testing Acc: 0.931733370\n",
            "Epoch: 03 Training Loss: 0.423137158 Testing Loss: 0.219279394  Training Acc: 0.863199949 Testing Acc: 0.935550034\n",
            "Epoch: 04 Training Loss: 0.395658314 Testing Loss: 0.192951053  Training Acc: 0.878299952 Testing Acc: 0.942733347\n",
            "Epoch: 05 Training Loss: 0.354303151 Testing Loss: 0.169818237  Training Acc: 0.886399984 Testing Acc: 0.949649990\n",
            "Epoch: 06 Training Loss: 0.340031236 Testing Loss: 0.159025237  Training Acc: 0.890799999 Testing Acc: 0.953900039\n",
            "Epoch: 07 Training Loss: 0.318857908 Testing Loss: 0.153280720  Training Acc: 0.901600003 Testing Acc: 0.955733359\n",
            "Epoch: 08 Training Loss: 0.301838309 Testing Loss: 0.145747691  Training Acc: 0.904100001 Testing Acc: 0.957750022\n",
            "Epoch: 09 Training Loss: 0.294721484 Testing Loss: 0.147003934  Training Acc: 0.905499995 Testing Acc: 0.956499994\n",
            "Epoch: 10 Training Loss: 0.272929817 Testing Loss: 0.140173748  Training Acc: 0.912199974 Testing Acc: 0.958266675\n",
            "Epoch: 11 Training Loss: 0.264132023 Testing Loss: 0.139979154  Training Acc: 0.912899971 Testing Acc: 0.958216667\n",
            "Epoch: 12 Training Loss: 0.259610265 Testing Loss: 0.137750939  Training Acc: 0.916799963 Testing Acc: 0.958516657\n",
            "Epoch: 13 Training Loss: 0.247161418 Testing Loss: 0.126098439  Training Acc: 0.921199977 Testing Acc: 0.962283373\n",
            "Epoch: 14 Training Loss: 0.240299508 Testing Loss: 0.121967375  Training Acc: 0.922800004 Testing Acc: 0.963816702\n",
            "Epoch: 15 Training Loss: 0.248332530 Testing Loss: 0.122766390  Training Acc: 0.921999991 Testing Acc: 0.962566674\n",
            "Epoch: 16 Training Loss: 0.237750098 Testing Loss: 0.120827079  Training Acc: 0.927100003 Testing Acc: 0.963900030\n",
            "Epoch: 17 Training Loss: 0.232701525 Testing Loss: 0.117937587  Training Acc: 0.924600005 Testing Acc: 0.965200007\n",
            "Epoch: 18 Training Loss: 0.221564323 Testing Loss: 0.118544951  Training Acc: 0.929699957 Testing Acc: 0.964833319\n",
            "Epoch: 19 Training Loss: 0.221280187 Testing Loss: 0.115625039  Training Acc: 0.929699957 Testing Acc: 0.965750039\n",
            "Epoch: 20 Training Loss: 0.223060474 Testing Loss: 0.113543883  Training Acc: 0.927199960 Testing Acc: 0.967550039\n",
            "Epoch: 21 Training Loss: 0.213748023 Testing Loss: 0.113198847  Training Acc: 0.934399962 Testing Acc: 0.966683328\n",
            "Epoch: 22 Training Loss: 0.196221411 Testing Loss: 0.113444306  Training Acc: 0.938199997 Testing Acc: 0.966683328\n",
            "Epoch: 23 Training Loss: 0.218920797 Testing Loss: 0.110966735  Training Acc: 0.933099985 Testing Acc: 0.967450023\n",
            "Epoch: 24 Training Loss: 0.204206109 Testing Loss: 0.107798055  Training Acc: 0.936699986 Testing Acc: 0.968433321\n",
            "Epoch: 25 Training Loss: 0.205617815 Testing Loss: 0.110089570  Training Acc: 0.933299959 Testing Acc: 0.967633367\n",
            "Epoch: 26 Training Loss: 0.208253190 Testing Loss: 0.110529400  Training Acc: 0.935899973 Testing Acc: 0.967450023\n",
            "Epoch: 27 Training Loss: 0.191871136 Testing Loss: 0.108709499  Training Acc: 0.939599991 Testing Acc: 0.968266666\n",
            "Epoch: 28 Training Loss: 0.189255640 Testing Loss: 0.112184189  Training Acc: 0.941699982 Testing Acc: 0.967733324\n",
            "Epoch: 29 Training Loss: 0.189140782 Testing Loss: 0.107425272  Training Acc: 0.940799952 Testing Acc: 0.968316674\n",
            "Epoch: 30 Training Loss: 0.187264174 Testing Loss: 0.105720624  Training Acc: 0.939399958 Testing Acc: 0.968866706\n",
            "Epoch: 31 Training Loss: 0.189120218 Testing Loss: 0.106686778  Training Acc: 0.939199984 Testing Acc: 0.968983352\n",
            "Epoch: 32 Training Loss: 0.177543312 Testing Loss: 0.109391980  Training Acc: 0.944000006 Testing Acc: 0.968633354\n",
            "Epoch: 33 Training Loss: 0.185907140 Testing Loss: 0.104524046  Training Acc: 0.941599965 Testing Acc: 0.969650030\n",
            "Epoch: 34 Training Loss: 0.174065113 Testing Loss: 0.106324203  Training Acc: 0.943899989 Testing Acc: 0.969366670\n",
            "Epoch: 35 Training Loss: 0.188857868 Testing Loss: 0.103527710  Training Acc: 0.940999985 Testing Acc: 0.969516695\n",
            "Epoch: 36 Training Loss: 0.177211255 Testing Loss: 0.099260047  Training Acc: 0.944799960 Testing Acc: 0.970633328\n",
            "Epoch: 37 Training Loss: 0.173372507 Testing Loss: 0.107511632  Training Acc: 0.945299983 Testing Acc: 0.967700005\n",
            "Epoch: 38 Training Loss: 0.171363875 Testing Loss: 0.099942945  Training Acc: 0.941799998 Testing Acc: 0.970166683\n",
            "Epoch: 39 Training Loss: 0.169453546 Testing Loss: 0.101180241  Training Acc: 0.945499957 Testing Acc: 0.970733345\n",
            "Epoch: 40 Training Loss: 0.169214740 Testing Loss: 0.104482420  Training Acc: 0.943499982 Testing Acc: 0.969166696\n",
            "Epoch: 41 Training Loss: 0.164826155 Testing Loss: 0.106006593  Training Acc: 0.946699977 Testing Acc: 0.969300032\n",
            "Epoch: 42 Training Loss: 0.170230255 Testing Loss: 0.098627701  Training Acc: 0.947499990 Testing Acc: 0.971083343\n",
            "Epoch: 43 Training Loss: 0.166325197 Testing Loss: 0.096871957  Training Acc: 0.946399987 Testing Acc: 0.971050024\n",
            "Epoch: 44 Training Loss: 0.166210786 Testing Loss: 0.095668562  Training Acc: 0.946699977 Testing Acc: 0.971450031\n",
            "Epoch: 45 Training Loss: 0.158023477 Testing Loss: 0.092451058  Training Acc: 0.947499990 Testing Acc: 0.972583354\n",
            "Epoch: 46 Training Loss: 0.163509294 Testing Loss: 0.091843560  Training Acc: 0.950499952 Testing Acc: 0.973283350\n",
            "Epoch: 47 Training Loss: 0.159780130 Testing Loss: 0.098622255  Training Acc: 0.947999954 Testing Acc: 0.971016705\n",
            "Epoch: 48 Training Loss: 0.162906244 Testing Loss: 0.095367767  Training Acc: 0.946299970 Testing Acc: 0.971883357\n",
            "Epoch: 49 Training Loss: 0.161754861 Testing Loss: 0.095734887  Training Acc: 0.948899984 Testing Acc: 0.972083330\n",
            "Epoch: 50 Training Loss: 0.145922586 Testing Loss: 0.098858133  Training Acc: 0.951099992 Testing Acc: 0.971866667\n",
            "Epoch: 51 Training Loss: 0.159652010 Testing Loss: 0.094128951  Training Acc: 0.948699951 Testing Acc: 0.972316682\n",
            "Epoch: 52 Training Loss: 0.159362778 Testing Loss: 0.094200648  Training Acc: 0.947999954 Testing Acc: 0.972550035\n",
            "Epoch: 53 Training Loss: 0.152206704 Testing Loss: 0.095656201  Training Acc: 0.950899959 Testing Acc: 0.972183347\n",
            "Epoch: 54 Training Loss: 0.155080765 Testing Loss: 0.095184579  Training Acc: 0.950399995 Testing Acc: 0.971983373\n",
            "Epoch: 55 Training Loss: 0.149218485 Testing Loss: 0.098591335  Training Acc: 0.951299965 Testing Acc: 0.971599996\n",
            "Epoch: 56 Training Loss: 0.137804568 Testing Loss: 0.098752521  Training Acc: 0.955899954 Testing Acc: 0.970950007\n",
            "Epoch: 57 Training Loss: 0.147034705 Testing Loss: 0.097224787  Training Acc: 0.954400003 Testing Acc: 0.972233355\n",
            "Epoch: 58 Training Loss: 0.145174071 Testing Loss: 0.094956048  Training Acc: 0.951699972 Testing Acc: 0.972433329\n",
            "Epoch: 59 Training Loss: 0.157327980 Testing Loss: 0.090601288  Training Acc: 0.948899984 Testing Acc: 0.974033356\n",
            "Epoch: 60 Training Loss: 0.138938919 Testing Loss: 0.090111345  Training Acc: 0.955899954 Testing Acc: 0.974150002\n",
            "Epoch: 61 Training Loss: 0.140000403 Testing Loss: 0.103359371  Training Acc: 0.956200004 Testing Acc: 0.970416665\n",
            "Epoch: 62 Training Loss: 0.144115701 Testing Loss: 0.097576015  Training Acc: 0.955299973 Testing Acc: 0.971533358\n",
            "Epoch: 63 Training Loss: 0.138084173 Testing Loss: 0.095506459  Training Acc: 0.954400003 Testing Acc: 0.972433329\n",
            "Epoch: 64 Training Loss: 0.138973892 Testing Loss: 0.093043044  Training Acc: 0.957299948 Testing Acc: 0.972716689\n",
            "Epoch: 65 Training Loss: 0.149234369 Testing Loss: 0.095722944  Training Acc: 0.951199949 Testing Acc: 0.972083330\n",
            "Epoch: 66 Training Loss: 0.135174289 Testing Loss: 0.092591085  Training Acc: 0.958099961 Testing Acc: 0.972649992\n",
            "Epoch: 67 Training Loss: 0.149838150 Testing Loss: 0.091644324  Training Acc: 0.954400003 Testing Acc: 0.972916663\n",
            "Epoch: 68 Training Loss: 0.137642369 Testing Loss: 0.088705562  Training Acc: 0.955899954 Testing Acc: 0.973450005\n",
            "Epoch: 69 Training Loss: 0.132607505 Testing Loss: 0.095220119  Training Acc: 0.954499960 Testing Acc: 0.972400010\n",
            "Epoch: 70 Training Loss: 0.135831952 Testing Loss: 0.103208810  Training Acc: 0.956699967 Testing Acc: 0.970799983\n",
            "Epoch: 71 Training Loss: 0.146339983 Testing Loss: 0.097961575  Training Acc: 0.953399956 Testing Acc: 0.971966684\n",
            "Epoch: 72 Training Loss: 0.134803414 Testing Loss: 0.094983488  Training Acc: 0.957399964 Testing Acc: 0.973133326\n",
            "Epoch: 73 Training Loss: 0.140735090 Testing Loss: 0.089419305  Training Acc: 0.954799950 Testing Acc: 0.974216700\n",
            "Epoch: 74 Training Loss: 0.130428538 Testing Loss: 0.087455623  Training Acc: 0.956799984 Testing Acc: 0.974316657\n",
            "Epoch: 75 Training Loss: 0.130740061 Testing Loss: 0.091722503  Training Acc: 0.956599951 Testing Acc: 0.973699987\n",
            "Epoch: 76 Training Loss: 0.131891727 Testing Loss: 0.090894893  Training Acc: 0.958700001 Testing Acc: 0.973150015\n",
            "Epoch: 77 Training Loss: 0.138280869 Testing Loss: 0.090748720  Training Acc: 0.955699980 Testing Acc: 0.974683344\n",
            "Epoch: 78 Training Loss: 0.136135131 Testing Loss: 0.092819341  Training Acc: 0.957499981 Testing Acc: 0.973300040\n",
            "Epoch: 79 Training Loss: 0.137936428 Testing Loss: 0.091004081  Training Acc: 0.956399977 Testing Acc: 0.973716676\n",
            "Epoch: 80 Training Loss: 0.133189335 Testing Loss: 0.095616706  Training Acc: 0.956900001 Testing Acc: 0.972283363\n",
            "Epoch: 81 Training Loss: 0.130325004 Testing Loss: 0.087243237  Training Acc: 0.960199952 Testing Acc: 0.975533366\n",
            "Epoch: 82 Training Loss: 0.132051259 Testing Loss: 0.091450393  Training Acc: 0.958199978 Testing Acc: 0.973883331\n",
            "Epoch: 83 Training Loss: 0.134130940 Testing Loss: 0.095168859  Training Acc: 0.956799984 Testing Acc: 0.972983360\n",
            "Epoch: 84 Training Loss: 0.130009055 Testing Loss: 0.092260793  Training Acc: 0.957499981 Testing Acc: 0.973466694\n",
            "Epoch: 85 Training Loss: 0.127921790 Testing Loss: 0.089371510  Training Acc: 0.960599959 Testing Acc: 0.973966658\n",
            "Epoch: 86 Training Loss: 0.124238618 Testing Loss: 0.086537130  Training Acc: 0.961099982 Testing Acc: 0.975149989\n",
            "Epoch: 87 Training Loss: 0.121367171 Testing Loss: 0.091077194  Training Acc: 0.961399972 Testing Acc: 0.974716663\n",
            "Epoch: 88 Training Loss: 0.131402016 Testing Loss: 0.093673438  Training Acc: 0.958000004 Testing Acc: 0.973616660\n",
            "Epoch: 89 Training Loss: 0.125036135 Testing Loss: 0.087440863  Training Acc: 0.958799958 Testing Acc: 0.974900007\n",
            "Epoch: 90 Training Loss: 0.121387862 Testing Loss: 0.090652213  Training Acc: 0.960799992 Testing Acc: 0.974399984\n",
            "Epoch: 91 Training Loss: 0.120860323 Testing Loss: 0.088763282  Training Acc: 0.960699975 Testing Acc: 0.974783361\n",
            "Epoch: 92 Training Loss: 0.130681887 Testing Loss: 0.087648913  Training Acc: 0.958199978 Testing Acc: 0.974733353\n",
            "Epoch: 93 Training Loss: 0.117944099 Testing Loss: 0.092497170  Training Acc: 0.962699950 Testing Acc: 0.974799991\n",
            "Epoch: 94 Training Loss: 0.116640560 Testing Loss: 0.091936246  Training Acc: 0.962300003 Testing Acc: 0.974416673\n",
            "Epoch: 95 Training Loss: 0.124367945 Testing Loss: 0.095443718  Training Acc: 0.957499981 Testing Acc: 0.973900020\n",
            "Epoch: 96 Training Loss: 0.122777082 Testing Loss: 0.090050466  Training Acc: 0.959599972 Testing Acc: 0.974200010\n",
            "Epoch: 97 Training Loss: 0.115611725 Testing Loss: 0.088439174  Training Acc: 0.962599993 Testing Acc: 0.975199997\n",
            "Epoch: 98 Training Loss: 0.126925096 Testing Loss: 0.095781624  Training Acc: 0.961299956 Testing Acc: 0.973433316\n",
            "Epoch: 99 Training Loss: 0.116202302 Testing Loss: 0.090082690  Training Acc: 0.960999966 Testing Acc: 0.974716663\n",
            "Epoch: 100 Training Loss: 0.124962643 Testing Loss: 0.094270743  Training Acc: 0.960099995 Testing Acc: 0.973150015\n"
          ],
          "name": "stdout"
        }
      ]
    },
    {
      "cell_type": "code",
      "metadata": {
        "colab": {
          "base_uri": "https://localhost:8080/",
          "height": 592
        },
        "id": "vzn6YyGw9ULY",
        "outputId": "52fe356d-f5f3-4b63-85ac-05b4f32157b9"
      },
      "source": [
        "plt.figure(figsize = (10,10))\n",
        "plt.plot(L_train, linewidth = 2, c='b', label = \"train\")\n",
        "plt.plot(L_test, linewidth = 2, c='r', label = \"test\")\n",
        "plt.legend()\n",
        "plt.show()"
      ],
      "execution_count": 31,
      "outputs": [
        {
          "output_type": "display_data",
          "data": {
            "image/png": "[encoded data removed]",
            "text/plain": [
              "<Figure size 720x720 with 1 Axes>"
            ]
          },
          "metadata": {
            "tags": [],
            "needs_background": "light"
          }
        }
      ]
    },
    {
      "cell_type": "code",
      "metadata": {
        "colab": {
          "base_uri": "https://localhost:8080/",
          "height": 592
        },
        "id": "Rl1MuQhtqsg2",
        "outputId": "48923e90-2857-4139-addf-312497321327"
      },
      "source": [
        "plt.figure(figsize = (10,10))\n",
        "plt.plot(A_train, linewidth = 2, c='b', label = \"train\")\n",
        "plt.plot(A_test, linewidth = 2, c='r', label = \"test\")\n",
        "plt.legend()\n",
        "plt.show()"
      ],
      "execution_count": 32,
      "outputs": [
        {
          "output_type": "display_data",
          "data": {
            "image/png": "[encoded data removed]",
            "text/plain": [
              "<Figure size 720x720 with 1 Axes>"
            ]
          },
          "metadata": {
            "tags": [],
            "needs_background": "light"
          }
        }
      ]
    },
    {
      "cell_type": "code",
      "metadata": {
        "colab": {
          "base_uri": "https://localhost:8080/"
        },
        "id": "4990rRublMpD",
        "outputId": "ac4a061f-9419-4f61-d45c-6c370e776a0b"
      },
      "source": [
        "print(\"training loss    %.2f\" %(L_train[-1]))\n",
        "print(\"testing loss     %.2f\" %(L_test[-1]))\n",
        "print(\"training acc    %.2f\" %(A_train[-1]))\n",
        "print(\"testing acc     %.2f\" %(A_test[-1]))"
      ],
      "execution_count": 34,
      "outputs": [
        {
          "output_type": "stream",
          "text": [
            "training loss    0.12\n",
            "testing loss     0.09\n",
            "training acc    0.96\n",
            "testing acc     0.97\n"
          ],
          "name": "stdout"
        }
      ]
    },
    {
      "cell_type": "markdown",
      "metadata": {
        "id": "z4L9RrzOz5xl"
      },
      "source": [
        "# 5. Output\n",
        "<hr>"
      ]
    },
    {
      "cell_type": "markdown",
      "metadata": {
        "id": "alN6-n0r0DTO"
      },
      "source": [
        "## 1. Plot the training and testing losses with a batch size of 32"
      ]
    },
    {
      "cell_type": "markdown",
      "metadata": {
        "id": "4t1dSyC1AVe0"
      },
      "source": [
        "## 2. Plot the training and testing accuracies with a batch size of 32"
      ]
    },
    {
      "cell_type": "markdown",
      "metadata": {
        "id": "px7XRkcnAnc7"
      },
      "source": [
        "## 3. Plot the training and testing losses with a batch size of 64"
      ]
    },
    {
      "cell_type": "markdown",
      "metadata": {
        "id": "gW87VTpwAtMB"
      },
      "source": [
        "## 4. Plot the training and testing accuracies with a batch size of 64"
      ]
    },
    {
      "cell_type": "markdown",
      "metadata": {
        "id": "Kl5XI9EVA6QH"
      },
      "source": [
        "## 5. Plot the training and testing losses with a batch size of 128"
      ]
    },
    {
      "cell_type": "markdown",
      "metadata": {
        "id": "10I91neJBHb1"
      },
      "source": [
        "## 6. Plot the training and testing accuracies with a batch size of 128"
      ]
    },
    {
      "cell_type": "markdown",
      "metadata": {
        "id": "iDI0NljKBNF9"
      },
      "source": [
        "## 7. Print the loss at convergence with different mini-batch sizes"
      ]
    },
    {
      "cell_type": "markdown",
      "metadata": {
        "id": "ifTX7c5MCLSf"
      },
      "source": [
        "## 8. Print the accuracy at convergence with different mini-batch sizes"
      ]
    },
    {
      "cell_type": "code",
      "metadata": {
        "id": "mpgCDaBpCWT_"
      },
      "source": [
        ""
      ],
      "execution_count": null,
      "outputs": []
    }
  ]
}