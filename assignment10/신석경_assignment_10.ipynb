{
  "nbformat": 4,
  "nbformat_minor": 0,
  "metadata": {
    "accelerator": "GPU",
    "colab": {
      "name": "신석경_assignment_10",
      "provenance": [],
      "collapsed_sections": [],
      "authorship_tag": "ABX9TyMC1pNSyrQ5T4TCw9Wmvmkl",
      "include_colab_link": true
    },
    "kernelspec": {
      "display_name": "Python 3",
      "name": "python3"
    }
  },
  "cells": [
    {
      "cell_type": "markdown",
      "metadata": {
        "id": "view-in-github",
        "colab_type": "text"
      },
      "source": [
        "<a href=\"https://colab.research.google.com/github/jiku100/2020-2-machine-running-proejct/blob/master/assignment10/%EC%8B%A0%EC%84%9D%EA%B2%BD_assignment_10.ipynb\" target=\"_parent\"><img src=\"https://colab.research.google.com/assets/colab-badge.svg\" alt=\"Open In Colab\"/></a>"
      ]
    },
    {
      "cell_type": "markdown",
      "metadata": {
        "id": "0gzdXwFJz0KJ"
      },
      "source": [
        "# **Classification for Multiple Categories using Pytorch for best accuracy**\n",
        "\n"
      ]
    },
    {
      "cell_type": "markdown",
      "metadata": {
        "id": "w_C7Cujjz4ff"
      },
      "source": [
        "# 1. Import library\n",
        "<hr>"
      ]
    },
    {
      "cell_type": "code",
      "metadata": {
        "id": "gtlbKT3Izgre"
      },
      "source": [
        "import torch\n",
        "import torch.nn as nn\n",
        "import torch.optim as optim\n",
        "import torch.nn.init as init\n",
        "import torchvision\n",
        "import torchvision.transforms as transforms\n",
        "import torchvision.datasets as datasets\n",
        "from torch.utils.data import DataLoader\n",
        "\n",
        "import matplotlib.pyplot as plt\n",
        "import cv2\n",
        "import numpy as np"
      ],
      "execution_count": 1,
      "outputs": []
    },
    {
      "cell_type": "code",
      "metadata": {
        "colab": {
          "base_uri": "https://localhost:8080/"
        },
        "id": "JC9KWsHg7lTJ",
        "outputId": "a6a46df4-5f78-4268-e943-5df2ebebd0f5"
      },
      "source": [
        "USE_CUDA = torch.cuda.is_available()\n",
        "device = torch.device(\"cuda\" if USE_CUDA else \"cpu\")\n",
        "print(\"다음 기기로 학습합니다:\", device)"
      ],
      "execution_count": 2,
      "outputs": [
        {
          "output_type": "stream",
          "text": [
            "다음 기기로 학습합니다: cuda\n"
          ],
          "name": "stdout"
        }
      ]
    },
    {
      "cell_type": "markdown",
      "metadata": {
        "id": "nBCurPvD3NoM"
      },
      "source": [
        "# 2. Preprocessing Data\n",
        "<hr>"
      ]
    },
    {
      "cell_type": "code",
      "metadata": {
        "id": "4tVba13YD-s9"
      },
      "source": [
        "transform_train = transforms.Compose([\n",
        "        transforms.ToTensor(), \n",
        "        transforms.Normalize((0.1307,),(0.3081,))                    # 이미지를 텐서로 변형합니다.\n",
        "])\n",
        "\n",
        "transform_test = transforms.Compose([\n",
        "        transforms.ToTensor(), \n",
        "        transforms.Normalize((0.1307,),(0.3081,))            \n",
        "])"
      ],
      "execution_count": 3,
      "outputs": []
    },
    {
      "cell_type": "code",
      "metadata": {
        "id": "1uNdu0HqJEQv"
      },
      "source": [
        "data_path = './MNIST'\n",
        "\n",
        "data_test   = datasets.MNIST(root = data_path, train= True, download=True, transform= transform_test)\n",
        "data_train  = datasets.MNIST(root = data_path, train= False, download=True, transform= transform_train)"
      ],
      "execution_count": 4,
      "outputs": []
    },
    {
      "cell_type": "code",
      "metadata": {
        "colab": {
          "base_uri": "https://localhost:8080/",
          "height": 387
        },
        "id": "8SJcK-t2D3Bp",
        "outputId": "6d278f7d-2c57-457a-f9d4-ae0e42daed39"
      },
      "source": [
        "one_image, label = data_train[0]\n",
        "print(\"type of one image\", type(one_image))\n",
        "print(\"size of one image : \", one_image.shape)\n",
        "plt.imshow(one_image.squeeze().numpy(), cmap='gray')\n",
        "print(\"type of label : \", type(label))\n",
        "print(\"label : \", label)\n",
        "print(np.max(data_train.train_data[0].view(-1).numpy()))"
      ],
      "execution_count": 5,
      "outputs": [
        {
          "output_type": "stream",
          "text": [
            "type of one image <class 'torch.Tensor'>\n",
            "size of one image :  torch.Size([1, 28, 28])\n",
            "type of label :  <class 'int'>\n",
            "label :  7\n",
            "255\n"
          ],
          "name": "stdout"
        },
        {
          "output_type": "stream",
          "text": [
            "/usr/local/lib/python3.6/dist-packages/torchvision/datasets/mnist.py:58: UserWarning: train_data has been renamed data\n",
            "  warnings.warn(\"train_data has been renamed data\")\n"
          ],
          "name": "stderr"
        },
        {
          "output_type": "display_data",
          "data": {
            "image/png": "[encoded data removed]",
            "text/plain": [
              "<Figure size 432x288 with 1 Axes>"
            ]
          },
          "metadata": {
            "tags": [],
            "needs_background": "light"
          }
        }
      ]
    },
    {
      "cell_type": "code",
      "metadata": {
        "id": "lUj2JTgY4r4c"
      },
      "source": [
        "learning_rate = 0.002\n",
        "training_epochs = 100\n",
        "batch_size = 64\n",
        "drop_prob = 0.3"
      ],
      "execution_count": 6,
      "outputs": []
    },
    {
      "cell_type": "code",
      "metadata": {
        "id": "CkgCtS3b3giF"
      },
      "source": [
        "train_loader = DataLoader(dataset = data_train, batch_size = batch_size, num_workers = 2, shuffle = True) ## batch size 32 짜리 train loader 생성\n",
        "test_loader = DataLoader(dataset = data_test, batch_size = batch_size, num_workers = 2, shuffle = True) ## batch size 32 짜리 test loader 생성"
      ],
      "execution_count": 7,
      "outputs": []
    },
    {
      "cell_type": "markdown",
      "metadata": {
        "id": "SCsB9Pdk6zd7"
      },
      "source": [
        "# 3. Define Model\n",
        "<hr>"
      ]
    },
    {
      "cell_type": "code",
      "metadata": {
        "id": "-cUHqcW25etQ"
      },
      "source": [
        "class classification(nn.Module):\n",
        "    def __init__(self):\n",
        "        super(classification, self).__init__()\n",
        "        \n",
        "        # construct layers for a neural network\n",
        "        self.classifier1 = nn.Sequential(\n",
        "            nn.Linear(in_features=28*28, out_features=20*20),\n",
        "            nn.BatchNorm1d(20*20),\n",
        "            nn.ReLU(inplace=True),\n",
        "            nn.Dropout(p=drop_prob)\n",
        "        ) \n",
        "        self.classifier2 = nn.Sequential(\n",
        "            nn.Linear(in_features=20*20, out_features=10*10),\n",
        "            nn.BatchNorm1d(10*10),\n",
        "            nn.ReLU(inplace=True),\n",
        "            nn.Dropout(p=drop_prob)\n",
        "        ) \n",
        "        self.classifier3 = nn.Sequential(\n",
        "            nn.Linear(in_features=100, out_features=10),\n",
        "            nn.LogSoftmax(dim=1),\n",
        "        ) \n",
        "\n",
        "        for m in self.modules():\n",
        "          if isinstance(m, nn.Linear):\n",
        "            init.kaiming_normal_(m.weight.data) # Kaming He Initialization\n",
        "            m.bias.data.fill_(0)                # 편차를 0으로 초기화 \n",
        "\n",
        "    def forward(self, inputs):                 # [batchSize, 1, 28, 28]\n",
        "        x = inputs.view(inputs.size(0), -1)    # [batchSize, 28*28]\n",
        "        x = self.classifier1(x)                # [batchSize, 20*20]\n",
        "        x = self.classifier2(x)                # [batchSize, 10*10]\n",
        "        out = self.classifier3(x)              # [batchSize, 10]\n",
        "        \n",
        "        return out\n",
        "\n"
      ],
      "execution_count": 8,
      "outputs": []
    },
    {
      "cell_type": "code",
      "metadata": {
        "id": "MWYQ30d37dwC"
      },
      "source": [
        "model = classification().to(device)"
      ],
      "execution_count": 9,
      "outputs": []
    },
    {
      "cell_type": "code",
      "metadata": {
        "id": "-GpzWr1V64wc"
      },
      "source": [
        "criterion = nn.CrossEntropyLoss().to(device)    # Softmax is internally computed.\n",
        "optimizer = torch.optim.Adam(model.parameters(), lr=learning_rate)\n",
        "scheduler = optim.lr_scheduler.StepLR(optimizer, 5, gamma=0.1, last_epoch=-1)"
      ],
      "execution_count": 10,
      "outputs": []
    },
    {
      "cell_type": "markdown",
      "metadata": {
        "id": "lsNWP3Wk8Siq"
      },
      "source": [
        "# 4. Training\n",
        "<hr>"
      ]
    },
    {
      "cell_type": "code",
      "metadata": {
        "id": "1_QSSPkC7sCr"
      },
      "source": [
        "total_batch= len(train_loader)"
      ],
      "execution_count": 11,
      "outputs": []
    },
    {
      "cell_type": "code",
      "metadata": {
        "colab": {
          "base_uri": "https://localhost:8080/"
        },
        "id": "9_SeUrHB5gLH",
        "outputId": "260c1195-2899-47b6-9d55-3a7c6745d359"
      },
      "source": [
        "print(total_batch)"
      ],
      "execution_count": 12,
      "outputs": [
        {
          "output_type": "stream",
          "text": [
            "157\n"
          ],
          "name": "stdout"
        }
      ]
    },
    {
      "cell_type": "code",
      "metadata": {
        "id": "eaJMZ8TvcglJ"
      },
      "source": [
        "def accuracy(log_pred, y_true):\n",
        "    y_pred = torch.argmax(log_pred, dim=1)\n",
        "    return (y_pred == y_true).to(torch.float).mean()"
      ],
      "execution_count": 13,
      "outputs": []
    },
    {
      "cell_type": "code",
      "metadata": {
        "id": "Kl5FuVgt8_LF"
      },
      "source": [
        "def training(model, loss, optim, training_epochs, train_loader, test_loader):\n",
        "  L_iters_train = []\n",
        "  accuracy_train = []\n",
        "  L_iters_test = []\n",
        "  accuracy_test = []\n",
        "  for epoch in range(training_epochs):\n",
        "    total_cost_train = 0\n",
        "    total_cost_test = 0\n",
        "    total_acc_train = 0\n",
        "    total_acc_test = 0\n",
        "    model.train()\n",
        "    for X, Y in train_loader:\n",
        "      X = X.to(device)\n",
        "      Y = Y.to(device)\n",
        "\n",
        "      optim.zero_grad()\n",
        "      train_pred = model(X)\n",
        "      cost = loss(train_pred, Y)\n",
        "      cost.backward()\n",
        "      optim.step()\n",
        "\n",
        "      total_cost_train += cost\n",
        "      total_acc_train += accuracy(train_pred, Y)\n",
        "      \n",
        "    avg_cost_train = total_cost_train / len(train_loader)\n",
        "    avg_acc_train = total_acc_train / len(train_loader)\n",
        "\n",
        "    L_iters_train.append(avg_cost_train)\n",
        "    accuracy_train.append(avg_acc_train)\n",
        "    model.eval()\n",
        "    with torch.no_grad():\n",
        "      for X_test, Y_test in test_loader:\n",
        "        X_test = X_test.to(device)\n",
        "        Y_test = Y_test.to(device)\n",
        "        test_pred = model(X_test)\n",
        "        cost_test = loss(test_pred, Y_test)\n",
        "        total_cost_test += cost_test\n",
        "        total_acc_test += accuracy(test_pred, Y_test)\n",
        "      avg_cost_test = total_cost_test / len(test_loader)\n",
        "      avg_acc_test = total_acc_test / len(test_loader)\n",
        "    \n",
        "      accuracy_test.append(avg_acc_test)\n",
        "      L_iters_test.append(avg_cost_test)\n",
        "\n",
        "    print(\"Epoch: %02d Training Loss: %.9f Testing Loss: %.9f  Training Acc: %.9f Testing Acc: %.9f\" %((epoch + 1),avg_cost_train, avg_cost_test, avg_acc_train, avg_acc_test))\n",
        "  return L_iters_train, accuracy_train, L_iters_test, accuracy_test"
      ],
      "execution_count": 14,
      "outputs": []
    },
    {
      "cell_type": "code",
      "metadata": {
        "colab": {
          "base_uri": "https://localhost:8080/"
        },
        "id": "hOfKPriA84jq",
        "outputId": "ee29ce52-45c4-4de6-d1e3-26afeec4af9f"
      },
      "source": [
        "L_train, A_train, L_test, A_test = training(model, criterion, optimizer, training_epochs, train_loader, test_loader)"
      ],
      "execution_count": 15,
      "outputs": [
        {
          "output_type": "stream",
          "text": [
            "Epoch: 01 Training Loss: 0.516245782 Testing Loss: 0.236466378  Training Acc: 0.844944298 Testing Acc: 0.930603683\n",
            "Epoch: 02 Training Loss: 0.241492987 Testing Loss: 0.209162995  Training Acc: 0.926851153 Testing Acc: 0.937300146\n",
            "Epoch: 03 Training Loss: 0.172970280 Testing Loss: 0.179871172  Training Acc: 0.948248446 Testing Acc: 0.944229782\n",
            "Epoch: 04 Training Loss: 0.140242517 Testing Loss: 0.171264842  Training Acc: 0.955115438 Testing Acc: 0.948527455\n",
            "Epoch: 05 Training Loss: 0.118150420 Testing Loss: 0.159414947  Training Acc: 0.959494412 Testing Acc: 0.954174459\n",
            "Epoch: 06 Training Loss: 0.098376662 Testing Loss: 0.149164811  Training Acc: 0.968252420 Testing Acc: 0.955773592\n",
            "Epoch: 07 Training Loss: 0.073238857 Testing Loss: 0.150879875  Training Acc: 0.976512730 Testing Acc: 0.956556499\n",
            "Epoch: 08 Training Loss: 0.071346566 Testing Loss: 0.167305887  Training Acc: 0.976811349 Testing Acc: 0.953658044\n",
            "Epoch: 09 Training Loss: 0.065909788 Testing Loss: 0.146535277  Training Acc: 0.978304148 Testing Acc: 0.959754825\n",
            "Epoch: 10 Training Loss: 0.063462332 Testing Loss: 0.154143676  Training Acc: 0.978801787 Testing Acc: 0.958039045\n",
            "Epoch: 11 Training Loss: 0.058691416 Testing Loss: 0.154145718  Training Acc: 0.980593145 Testing Acc: 0.959621549\n",
            "Epoch: 12 Training Loss: 0.048678968 Testing Loss: 0.155599922  Training Acc: 0.982484102 Testing Acc: 0.958522141\n",
            "Epoch: 13 Training Loss: 0.046017494 Testing Loss: 0.163095221  Training Acc: 0.985469759 Testing Acc: 0.958322227\n",
            "Epoch: 14 Training Loss: 0.046498246 Testing Loss: 0.168392554  Training Acc: 0.985270739 Testing Acc: 0.956723094\n",
            "Epoch: 15 Training Loss: 0.045147061 Testing Loss: 0.156968355  Training Acc: 0.984076440 Testing Acc: 0.960004687\n",
            "Epoch: 16 Training Loss: 0.038142171 Testing Loss: 0.158051193  Training Acc: 0.988753974 Testing Acc: 0.960104644\n",
            "Epoch: 17 Training Loss: 0.044242311 Testing Loss: 0.161026433  Training Acc: 0.985370219 Testing Acc: 0.960587680\n",
            "Epoch: 18 Training Loss: 0.037890170 Testing Loss: 0.158920884  Training Acc: 0.986464977 Testing Acc: 0.960021317\n",
            "Epoch: 19 Training Loss: 0.031289004 Testing Loss: 0.158785000  Training Acc: 0.989450634 Testing Acc: 0.961720467\n",
            "Epoch: 20 Training Loss: 0.032396328 Testing Loss: 0.162092626  Training Acc: 0.988355935 Testing Acc: 0.960487783\n",
            "Epoch: 21 Training Loss: 0.036813140 Testing Loss: 0.170905918  Training Acc: 0.986464977 Testing Acc: 0.959171772\n",
            "Epoch: 22 Training Loss: 0.037514947 Testing Loss: 0.169900790  Training Acc: 0.987858295 Testing Acc: 0.959854782\n",
            "Epoch: 23 Training Loss: 0.041018307 Testing Loss: 0.156506673  Training Acc: 0.986464977 Testing Acc: 0.961887002\n",
            "Epoch: 24 Training Loss: 0.035602938 Testing Loss: 0.161331430  Training Acc: 0.988554955 Testing Acc: 0.961803734\n",
            "Epoch: 25 Training Loss: 0.028716858 Testing Loss: 0.166044638  Training Acc: 0.990147293 Testing Acc: 0.961037457\n",
            "Epoch: 26 Training Loss: 0.025373373 Testing Loss: 0.163312241  Training Acc: 0.992535830 Testing Acc: 0.962520003\n",
            "Epoch: 27 Training Loss: 0.028260032 Testing Loss: 0.167096868  Training Acc: 0.990744412 Testing Acc: 0.961104095\n",
            "Epoch: 28 Training Loss: 0.024903657 Testing Loss: 0.160813123  Training Acc: 0.991739690 Testing Acc: 0.963286281\n",
            "Epoch: 29 Training Loss: 0.024006994 Testing Loss: 0.162338883  Training Acc: 0.992436349 Testing Acc: 0.963036418\n",
            "Epoch: 30 Training Loss: 0.020776246 Testing Loss: 0.164143920  Training Acc: 0.993132949 Testing Acc: 0.963053048\n",
            "Epoch: 31 Training Loss: 0.020169757 Testing Loss: 0.166696444  Training Acc: 0.993829608 Testing Acc: 0.962719917\n",
            "Epoch: 32 Training Loss: 0.021854093 Testing Loss: 0.161794037  Training Acc: 0.992038250 Testing Acc: 0.963519454\n",
            "Epoch: 33 Training Loss: 0.019446094 Testing Loss: 0.154722676  Training Acc: 0.994128227 Testing Acc: 0.965535045\n",
            "Epoch: 34 Training Loss: 0.021021059 Testing Loss: 0.184463561  Training Acc: 0.993630588 Testing Acc: 0.961220682\n",
            "Epoch: 35 Training Loss: 0.022601277 Testing Loss: 0.177895159  Training Acc: 0.993132949 Testing Acc: 0.962020278\n",
            "Epoch: 36 Training Loss: 0.024366731 Testing Loss: 0.185661867  Training Acc: 0.992038250 Testing Acc: 0.960521102\n",
            "Epoch: 37 Training Loss: 0.025613260 Testing Loss: 0.173908815  Training Acc: 0.992635369 Testing Acc: 0.963386238\n",
            "Epoch: 38 Training Loss: 0.025630580 Testing Loss: 0.172739759  Training Acc: 0.991540611 Testing Acc: 0.962636590\n",
            "Epoch: 39 Training Loss: 0.023858894 Testing Loss: 0.183964565  Training Acc: 0.992734909 Testing Acc: 0.962336779\n",
            "Epoch: 40 Training Loss: 0.025214966 Testing Loss: 0.171680689  Training Acc: 0.991242051 Testing Acc: 0.963636100\n",
            "Epoch: 41 Training Loss: 0.024430443 Testing Loss: 0.182732627  Training Acc: 0.992535830 Testing Acc: 0.961070776\n",
            "Epoch: 42 Training Loss: 0.019816972 Testing Loss: 0.184984550  Training Acc: 0.992635369 Testing Acc: 0.961187363\n",
            "Epoch: 43 Training Loss: 0.015528139 Testing Loss: 0.175366879  Training Acc: 0.995322466 Testing Acc: 0.963436186\n",
            "Epoch: 44 Training Loss: 0.015144714 Testing Loss: 0.182561368  Training Acc: 0.995023906 Testing Acc: 0.963153005\n",
            "Epoch: 45 Training Loss: 0.016045988 Testing Loss: 0.176133424  Training Acc: 0.994924366 Testing Acc: 0.963003099\n",
            "Epoch: 46 Training Loss: 0.017348835 Testing Loss: 0.179343849  Training Acc: 0.994227707 Testing Acc: 0.963236272\n",
            "Epoch: 47 Training Loss: 0.017581495 Testing Loss: 0.180281982  Training Acc: 0.994327247 Testing Acc: 0.962769866\n",
            "Epoch: 48 Training Loss: 0.017467923 Testing Loss: 0.173975527  Training Acc: 0.994625807 Testing Acc: 0.964735508\n",
            "Epoch: 49 Training Loss: 0.019104423 Testing Loss: 0.174290463  Training Acc: 0.993929148 Testing Acc: 0.963902593\n",
            "Epoch: 50 Training Loss: 0.017443581 Testing Loss: 0.181290507  Training Acc: 0.993730128 Testing Acc: 0.962769866\n",
            "Epoch: 51 Training Loss: 0.019928487 Testing Loss: 0.182173118  Training Acc: 0.994426787 Testing Acc: 0.963436186\n",
            "Epoch: 52 Training Loss: 0.012642118 Testing Loss: 0.173063576  Training Acc: 0.995521486 Testing Acc: 0.964985371\n",
            "Epoch: 53 Training Loss: 0.015744444 Testing Loss: 0.186541587  Training Acc: 0.994924366 Testing Acc: 0.962886512\n",
            "Epoch: 54 Training Loss: 0.014530702 Testing Loss: 0.187373206  Training Acc: 0.995919585 Testing Acc: 0.963136375\n",
            "Epoch: 55 Training Loss: 0.015304004 Testing Loss: 0.195918798  Training Acc: 0.994426787 Testing Acc: 0.962270141\n",
            "Epoch: 56 Training Loss: 0.016037004 Testing Loss: 0.188284248  Training Acc: 0.994725347 Testing Acc: 0.964252412\n",
            "Epoch: 57 Training Loss: 0.013865807 Testing Loss: 0.183815360  Training Acc: 0.996218145 Testing Acc: 0.965368509\n",
            "Epoch: 58 Training Loss: 0.017302684 Testing Loss: 0.182760641  Training Acc: 0.993431568 Testing Acc: 0.964768827\n",
            "Epoch: 59 Training Loss: 0.016230561 Testing Loss: 0.181190148  Training Acc: 0.994028687 Testing Acc: 0.964252412\n",
            "Epoch: 60 Training Loss: 0.012780542 Testing Loss: 0.200944662  Training Acc: 0.995222926 Testing Acc: 0.963086367\n",
            "Epoch: 61 Training Loss: 0.012788635 Testing Loss: 0.179897189  Training Acc: 0.996019125 Testing Acc: 0.965235233\n",
            "Epoch: 62 Training Loss: 0.014843295 Testing Loss: 0.191031232  Training Acc: 0.995422006 Testing Acc: 0.963319600\n",
            "Epoch: 63 Training Loss: 0.012690605 Testing Loss: 0.189931199  Training Acc: 0.995621026 Testing Acc: 0.964652181\n",
            "Epoch: 64 Training Loss: 0.016825160 Testing Loss: 0.185141951  Training Acc: 0.994227707 Testing Acc: 0.965551734\n",
            "Epoch: 65 Training Loss: 0.018262189 Testing Loss: 0.192615852  Training Acc: 0.993630588 Testing Acc: 0.964285731\n",
            "Epoch: 66 Training Loss: 0.016663682 Testing Loss: 0.184119195  Training Acc: 0.994327247 Testing Acc: 0.965401828\n",
            "Epoch: 67 Training Loss: 0.015077800 Testing Loss: 0.191215217  Training Acc: 0.995322466 Testing Acc: 0.964052498\n",
            "Epoch: 68 Training Loss: 0.014028571 Testing Loss: 0.201301560  Training Acc: 0.995322466 Testing Acc: 0.962903142\n",
            "Epoch: 69 Training Loss: 0.013992905 Testing Loss: 0.203842476  Training Acc: 0.995621026 Testing Acc: 0.962270141\n",
            "Epoch: 70 Training Loss: 0.013446528 Testing Loss: 0.197548032  Training Acc: 0.995720565 Testing Acc: 0.963969231\n",
            "Epoch: 71 Training Loss: 0.010919387 Testing Loss: 0.188314021  Training Acc: 0.996317685 Testing Acc: 0.965018690\n",
            "Epoch: 72 Training Loss: 0.013237461 Testing Loss: 0.190595359  Training Acc: 0.995820105 Testing Acc: 0.965618372\n",
            "Epoch: 73 Training Loss: 0.012412999 Testing Loss: 0.201872170  Training Acc: 0.995621026 Testing Acc: 0.964035869\n",
            "Epoch: 74 Training Loss: 0.013336104 Testing Loss: 0.188768640  Training Acc: 0.995521486 Testing Acc: 0.965435147\n",
            "Epoch: 75 Training Loss: 0.014195162 Testing Loss: 0.194088399  Training Acc: 0.995023906 Testing Acc: 0.963935912\n",
            "Epoch: 76 Training Loss: 0.017265696 Testing Loss: 0.190565258  Training Acc: 0.994824827 Testing Acc: 0.964668870\n",
            "Epoch: 77 Training Loss: 0.015936270 Testing Loss: 0.213108465  Training Acc: 0.994924366 Testing Acc: 0.961187363\n",
            "Epoch: 78 Training Loss: 0.011014411 Testing Loss: 0.195204005  Training Acc: 0.996417224 Testing Acc: 0.964202464\n",
            "Epoch: 79 Training Loss: 0.009479825 Testing Loss: 0.198592708  Training Acc: 0.996815324 Testing Acc: 0.964635551\n",
            "Epoch: 80 Training Loss: 0.012560194 Testing Loss: 0.191594973  Training Acc: 0.996516764 Testing Acc: 0.964902103\n",
            "Epoch: 81 Training Loss: 0.018332101 Testing Loss: 0.195800081  Training Acc: 0.995123446 Testing Acc: 0.963869274\n",
            "Epoch: 82 Training Loss: 0.018702395 Testing Loss: 0.194526762  Training Acc: 0.993929148 Testing Acc: 0.964935362\n",
            "Epoch: 83 Training Loss: 0.012765058 Testing Loss: 0.200075462  Training Acc: 0.996218145 Testing Acc: 0.964002550\n",
            "Epoch: 84 Training Loss: 0.011636742 Testing Loss: 0.200755164  Training Acc: 0.996218145 Testing Acc: 0.963985920\n",
            "Epoch: 85 Training Loss: 0.010396058 Testing Loss: 0.202082619  Training Acc: 0.996218145 Testing Acc: 0.964202464\n",
            "Epoch: 86 Training Loss: 0.011857057 Testing Loss: 0.190637290  Training Acc: 0.996218145 Testing Acc: 0.965851545\n",
            "Epoch: 87 Training Loss: 0.008334175 Testing Loss: 0.193065643  Training Acc: 0.997213364 Testing Acc: 0.965868235\n",
            "Epoch: 88 Training Loss: 0.011644387 Testing Loss: 0.197401032  Training Acc: 0.996417224 Testing Acc: 0.965002000\n",
            "Epoch: 89 Training Loss: 0.009158934 Testing Loss: 0.198894650  Training Acc: 0.996317685 Testing Acc: 0.965135276\n",
            "Epoch: 90 Training Loss: 0.010413687 Testing Loss: 0.200301394  Training Acc: 0.996715784 Testing Acc: 0.965285182\n",
            "Epoch: 91 Training Loss: 0.008895294 Testing Loss: 0.194669828  Training Acc: 0.997412443 Testing Acc: 0.966218054\n",
            "Epoch: 92 Training Loss: 0.009766738 Testing Loss: 0.201200590  Training Acc: 0.996715784 Testing Acc: 0.965585053\n",
            "Epoch: 93 Training Loss: 0.008669938 Testing Loss: 0.195979878  Training Acc: 0.997511983 Testing Acc: 0.966617823\n",
            "Epoch: 94 Training Loss: 0.008495286 Testing Loss: 0.200522095  Training Acc: 0.997711003 Testing Acc: 0.965651691\n",
            "Epoch: 95 Training Loss: 0.010389511 Testing Loss: 0.206344441  Training Acc: 0.996118665 Testing Acc: 0.964818776\n",
            "Epoch: 96 Training Loss: 0.009525411 Testing Loss: 0.202538207  Training Acc: 0.997312903 Testing Acc: 0.964635551\n",
            "Epoch: 97 Training Loss: 0.007543977 Testing Loss: 0.198742077  Training Acc: 0.997412443 Testing Acc: 0.965701640\n",
            "Epoch: 98 Training Loss: 0.007050074 Testing Loss: 0.200110584  Training Acc: 0.997312903 Testing Acc: 0.966834366\n",
            "Epoch: 99 Training Loss: 0.009305943 Testing Loss: 0.213967174  Training Acc: 0.997312903 Testing Acc: 0.965268552\n",
            "Epoch: 100 Training Loss: 0.008893891 Testing Loss: 0.216857880  Training Acc: 0.996815324 Testing Acc: 0.964535594\n"
          ],
          "name": "stdout"
        }
      ]
    },
    {
      "cell_type": "code",
      "metadata": {
        "colab": {
          "base_uri": "https://localhost:8080/",
          "height": 592
        },
        "id": "vzn6YyGw9ULY",
        "outputId": "6419555f-77f1-4d01-da8d-cc54e05f1139"
      },
      "source": [
        "plt.figure(figsize = (10,10))\n",
        "plt.plot(L_train, linewidth = 2, c='b', label = \"train\")\n",
        "plt.plot(L_test, linewidth = 2, c='r', label = \"test\")\n",
        "plt.legend()\n",
        "plt.show()"
      ],
      "execution_count": 16,
      "outputs": [
        {
          "output_type": "display_data",
          "data": {
            "image/png": "[encoded data removed]",
            "text/plain": [
              "<Figure size 720x720 with 1 Axes>"
            ]
          },
          "metadata": {
            "tags": [],
            "needs_background": "light"
          }
        }
      ]
    },
    {
      "cell_type": "code",
      "metadata": {
        "colab": {
          "base_uri": "https://localhost:8080/",
          "height": 592
        },
        "id": "Rl1MuQhtqsg2",
        "outputId": "2fab0b54-02ba-4133-ed5b-45156d85b8c4"
      },
      "source": [
        "plt.figure(figsize = (10,10))\n",
        "plt.plot(A_train, linewidth = 2, c='b', label = \"train\")\n",
        "plt.plot(A_test, linewidth = 2, c='r', label = \"test\")\n",
        "plt.legend()\n",
        "plt.show()"
      ],
      "execution_count": 17,
      "outputs": [
        {
          "output_type": "display_data",
          "data": {
            "image/png": "[encoded data removed]",
            "text/plain": [
              "<Figure size 720x720 with 1 Axes>"
            ]
          },
          "metadata": {
            "tags": [],
            "needs_background": "light"
          }
        }
      ]
    },
    {
      "cell_type": "code",
      "metadata": {
        "colab": {
          "base_uri": "https://localhost:8080/",
          "height": 221
        },
        "id": "4990rRublMpD",
        "outputId": "861e6328-f880-44a0-bad8-b3a49bdb8da1"
      },
      "source": [
        "print(\"training loss    %.2f\" %(L_train))\n",
        "print(\"testing loss     %.2f\" %(L_test))\n",
        "print(\"training acc    %.2f\" %(A_train))\n",
        "print(\"testing acc     %.2f\" %(A_test))"
      ],
      "execution_count": 18,
      "outputs": [
        {
          "output_type": "error",
          "ename": "TypeError",
          "evalue": "ignored",
          "traceback": [
            "\u001b[0;31m---------------------------------------------------------------------------\u001b[0m",
            "\u001b[0;31mTypeError\u001b[0m                                 Traceback (most recent call last)",
            "\u001b[0;32m<ipython-input-18-828fe074e138>\u001b[0m in \u001b[0;36m<module>\u001b[0;34m()\u001b[0m\n\u001b[0;32m----> 1\u001b[0;31m \u001b[0mprint\u001b[0m\u001b[0;34m(\u001b[0m\u001b[0;34m\"training loss    %.2f\"\u001b[0m \u001b[0;34m%\u001b[0m\u001b[0;34m(\u001b[0m\u001b[0mL_train\u001b[0m\u001b[0;34m)\u001b[0m\u001b[0;34m)\u001b[0m\u001b[0;34m\u001b[0m\u001b[0;34m\u001b[0m\u001b[0m\n\u001b[0m\u001b[1;32m      2\u001b[0m \u001b[0mprint\u001b[0m\u001b[0;34m(\u001b[0m\u001b[0;34m\"testing loss     %.2f\"\u001b[0m \u001b[0;34m%\u001b[0m\u001b[0;34m(\u001b[0m\u001b[0mL_test\u001b[0m\u001b[0;34m)\u001b[0m\u001b[0;34m)\u001b[0m\u001b[0;34m\u001b[0m\u001b[0;34m\u001b[0m\u001b[0m\n\u001b[1;32m      3\u001b[0m \u001b[0mprint\u001b[0m\u001b[0;34m(\u001b[0m\u001b[0;34m\"training acc    %.2f\"\u001b[0m \u001b[0;34m%\u001b[0m\u001b[0;34m(\u001b[0m\u001b[0mA_train\u001b[0m\u001b[0;34m)\u001b[0m\u001b[0;34m)\u001b[0m\u001b[0;34m\u001b[0m\u001b[0;34m\u001b[0m\u001b[0m\n\u001b[1;32m      4\u001b[0m \u001b[0mprint\u001b[0m\u001b[0;34m(\u001b[0m\u001b[0;34m\"testing acc     %.2f\"\u001b[0m \u001b[0;34m%\u001b[0m\u001b[0;34m(\u001b[0m\u001b[0mA_test\u001b[0m\u001b[0;34m)\u001b[0m\u001b[0;34m)\u001b[0m\u001b[0;34m\u001b[0m\u001b[0;34m\u001b[0m\u001b[0m\n",
            "\u001b[0;31mTypeError\u001b[0m: must be real number, not list"
          ]
        }
      ]
    },
    {
      "cell_type": "markdown",
      "metadata": {
        "id": "z4L9RrzOz5xl"
      },
      "source": [
        "# 5. Output\n",
        "<hr>"
      ]
    },
    {
      "cell_type": "markdown",
      "metadata": {
        "id": "alN6-n0r0DTO"
      },
      "source": [
        "## 1. Plot the training and testing losses with a batch size of 32"
      ]
    },
    {
      "cell_type": "markdown",
      "metadata": {
        "id": "4t1dSyC1AVe0"
      },
      "source": [
        "## 2. Plot the training and testing accuracies with a batch size of 32"
      ]
    },
    {
      "cell_type": "markdown",
      "metadata": {
        "id": "px7XRkcnAnc7"
      },
      "source": [
        "## 3. Plot the training and testing losses with a batch size of 64"
      ]
    },
    {
      "cell_type": "markdown",
      "metadata": {
        "id": "gW87VTpwAtMB"
      },
      "source": [
        "## 4. Plot the training and testing accuracies with a batch size of 64"
      ]
    },
    {
      "cell_type": "markdown",
      "metadata": {
        "id": "Kl5XI9EVA6QH"
      },
      "source": [
        "## 5. Plot the training and testing losses with a batch size of 128"
      ]
    },
    {
      "cell_type": "markdown",
      "metadata": {
        "id": "10I91neJBHb1"
      },
      "source": [
        "## 6. Plot the training and testing accuracies with a batch size of 128"
      ]
    },
    {
      "cell_type": "markdown",
      "metadata": {
        "id": "iDI0NljKBNF9"
      },
      "source": [
        "## 7. Print the loss at convergence with different mini-batch sizes"
      ]
    },
    {
      "cell_type": "markdown",
      "metadata": {
        "id": "ifTX7c5MCLSf"
      },
      "source": [
        "## 8. Print the accuracy at convergence with different mini-batch sizes"
      ]
    },
    {
      "cell_type": "code",
      "metadata": {
        "id": "mpgCDaBpCWT_"
      },
      "source": [
        ""
      ],
      "execution_count": null,
      "outputs": []
    }
  ]
}