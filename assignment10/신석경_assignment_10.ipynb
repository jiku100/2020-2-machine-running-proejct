{
  "nbformat": 4,
  "nbformat_minor": 0,
  "metadata": {
    "accelerator": "GPU",
    "colab": {
      "name": "신석경_assignment_10",
      "provenance": [],
      "collapsed_sections": [],
      "authorship_tag": "ABX9TyMV5OgtK4IxzzuePG+LMyqh",
      "include_colab_link": true
    },
    "kernelspec": {
      "display_name": "Python 3",
      "name": "python3"
    },
    "widgets": {
      "application/vnd.jupyter.widget-state+json": {
        "d3cf28764168402ab11aa560a7980690": {
          "model_module": "@jupyter-widgets/controls",
          "model_name": "HBoxModel",
          "state": {
            "_view_name": "HBoxView",
            "_dom_classes": [],
            "_model_name": "HBoxModel",
            "_view_module": "@jupyter-widgets/controls",
            "_model_module_version": "1.5.0",
            "_view_count": null,
            "_view_module_version": "1.5.0",
            "box_style": "",
            "layout": "IPY_MODEL_25fd060983fb4cd38b96b8a850bbdf6e",
            "_model_module": "@jupyter-widgets/controls",
            "children": [
              "IPY_MODEL_cf5210bcfc284d0390c04a2efd6c0ba5",
              "IPY_MODEL_9f7d05c19ac440329bb88def4f78bfa6"
            ]
          }
        },
        "25fd060983fb4cd38b96b8a850bbdf6e": {
          "model_module": "@jupyter-widgets/base",
          "model_name": "LayoutModel",
          "state": {
            "_view_name": "LayoutView",
            "grid_template_rows": null,
            "right": null,
            "justify_content": null,
            "_view_module": "@jupyter-widgets/base",
            "overflow": null,
            "_model_module_version": "1.2.0",
            "_view_count": null,
            "flex_flow": null,
            "width": null,
            "min_width": null,
            "border": null,
            "align_items": null,
            "bottom": null,
            "_model_module": "@jupyter-widgets/base",
            "top": null,
            "grid_column": null,
            "overflow_y": null,
            "overflow_x": null,
            "grid_auto_flow": null,
            "grid_area": null,
            "grid_template_columns": null,
            "flex": null,
            "_model_name": "LayoutModel",
            "justify_items": null,
            "grid_row": null,
            "max_height": null,
            "align_content": null,
            "visibility": null,
            "align_self": null,
            "height": null,
            "min_height": null,
            "padding": null,
            "grid_auto_rows": null,
            "grid_gap": null,
            "max_width": null,
            "order": null,
            "_view_module_version": "1.2.0",
            "grid_template_areas": null,
            "object_position": null,
            "object_fit": null,
            "grid_auto_columns": null,
            "margin": null,
            "display": null,
            "left": null
          }
        },
        "cf5210bcfc284d0390c04a2efd6c0ba5": {
          "model_module": "@jupyter-widgets/controls",
          "model_name": "FloatProgressModel",
          "state": {
            "_view_name": "ProgressView",
            "style": "IPY_MODEL_daf62d7786db4fa2ae9ad85857d07506",
            "_dom_classes": [],
            "description": "",
            "_model_name": "FloatProgressModel",
            "bar_style": "success",
            "max": 1,
            "_view_module": "@jupyter-widgets/controls",
            "_model_module_version": "1.5.0",
            "value": 1,
            "_view_count": null,
            "_view_module_version": "1.5.0",
            "orientation": "horizontal",
            "min": 0,
            "description_tooltip": null,
            "_model_module": "@jupyter-widgets/controls",
            "layout": "IPY_MODEL_c4b2bc0cfcbb4b7597ec711d1e763445"
          }
        },
        "9f7d05c19ac440329bb88def4f78bfa6": {
          "model_module": "@jupyter-widgets/controls",
          "model_name": "HTMLModel",
          "state": {
            "_view_name": "HTMLView",
            "style": "IPY_MODEL_abedbb714f38432084e634b56ce63f78",
            "_dom_classes": [],
            "description": "",
            "_model_name": "HTMLModel",
            "placeholder": "​",
            "_view_module": "@jupyter-widgets/controls",
            "_model_module_version": "1.5.0",
            "value": " 9920512/? [00:03&lt;00:00, 2963282.34it/s]",
            "_view_count": null,
            "_view_module_version": "1.5.0",
            "description_tooltip": null,
            "_model_module": "@jupyter-widgets/controls",
            "layout": "IPY_MODEL_28480491f9c9458480094ca82c20cf72"
          }
        },
        "daf62d7786db4fa2ae9ad85857d07506": {
          "model_module": "@jupyter-widgets/controls",
          "model_name": "ProgressStyleModel",
          "state": {
            "_view_name": "StyleView",
            "_model_name": "ProgressStyleModel",
            "description_width": "initial",
            "_view_module": "@jupyter-widgets/base",
            "_model_module_version": "1.5.0",
            "_view_count": null,
            "_view_module_version": "1.2.0",
            "bar_color": null,
            "_model_module": "@jupyter-widgets/controls"
          }
        },
        "c4b2bc0cfcbb4b7597ec711d1e763445": {
          "model_module": "@jupyter-widgets/base",
          "model_name": "LayoutModel",
          "state": {
            "_view_name": "LayoutView",
            "grid_template_rows": null,
            "right": null,
            "justify_content": null,
            "_view_module": "@jupyter-widgets/base",
            "overflow": null,
            "_model_module_version": "1.2.0",
            "_view_count": null,
            "flex_flow": null,
            "width": null,
            "min_width": null,
            "border": null,
            "align_items": null,
            "bottom": null,
            "_model_module": "@jupyter-widgets/base",
            "top": null,
            "grid_column": null,
            "overflow_y": null,
            "overflow_x": null,
            "grid_auto_flow": null,
            "grid_area": null,
            "grid_template_columns": null,
            "flex": null,
            "_model_name": "LayoutModel",
            "justify_items": null,
            "grid_row": null,
            "max_height": null,
            "align_content": null,
            "visibility": null,
            "align_self": null,
            "height": null,
            "min_height": null,
            "padding": null,
            "grid_auto_rows": null,
            "grid_gap": null,
            "max_width": null,
            "order": null,
            "_view_module_version": "1.2.0",
            "grid_template_areas": null,
            "object_position": null,
            "object_fit": null,
            "grid_auto_columns": null,
            "margin": null,
            "display": null,
            "left": null
          }
        },
        "abedbb714f38432084e634b56ce63f78": {
          "model_module": "@jupyter-widgets/controls",
          "model_name": "DescriptionStyleModel",
          "state": {
            "_view_name": "StyleView",
            "_model_name": "DescriptionStyleModel",
            "description_width": "",
            "_view_module": "@jupyter-widgets/base",
            "_model_module_version": "1.5.0",
            "_view_count": null,
            "_view_module_version": "1.2.0",
            "_model_module": "@jupyter-widgets/controls"
          }
        },
        "28480491f9c9458480094ca82c20cf72": {
          "model_module": "@jupyter-widgets/base",
          "model_name": "LayoutModel",
          "state": {
            "_view_name": "LayoutView",
            "grid_template_rows": null,
            "right": null,
            "justify_content": null,
            "_view_module": "@jupyter-widgets/base",
            "overflow": null,
            "_model_module_version": "1.2.0",
            "_view_count": null,
            "flex_flow": null,
            "width": null,
            "min_width": null,
            "border": null,
            "align_items": null,
            "bottom": null,
            "_model_module": "@jupyter-widgets/base",
            "top": null,
            "grid_column": null,
            "overflow_y": null,
            "overflow_x": null,
            "grid_auto_flow": null,
            "grid_area": null,
            "grid_template_columns": null,
            "flex": null,
            "_model_name": "LayoutModel",
            "justify_items": null,
            "grid_row": null,
            "max_height": null,
            "align_content": null,
            "visibility": null,
            "align_self": null,
            "height": null,
            "min_height": null,
            "padding": null,
            "grid_auto_rows": null,
            "grid_gap": null,
            "max_width": null,
            "order": null,
            "_view_module_version": "1.2.0",
            "grid_template_areas": null,
            "object_position": null,
            "object_fit": null,
            "grid_auto_columns": null,
            "margin": null,
            "display": null,
            "left": null
          }
        },
        "25ff35dac40b485c91eea344b0be94eb": {
          "model_module": "@jupyter-widgets/controls",
          "model_name": "HBoxModel",
          "state": {
            "_view_name": "HBoxView",
            "_dom_classes": [],
            "_model_name": "HBoxModel",
            "_view_module": "@jupyter-widgets/controls",
            "_model_module_version": "1.5.0",
            "_view_count": null,
            "_view_module_version": "1.5.0",
            "box_style": "",
            "layout": "IPY_MODEL_512bd6a79b63441897cbb6ee316bec4f",
            "_model_module": "@jupyter-widgets/controls",
            "children": [
              "IPY_MODEL_bc6722af2f2f44e7a8755a0cd2e3ef66",
              "IPY_MODEL_d8e73fe2f6ea42c28bd622ae6398a5ae"
            ]
          }
        },
        "512bd6a79b63441897cbb6ee316bec4f": {
          "model_module": "@jupyter-widgets/base",
          "model_name": "LayoutModel",
          "state": {
            "_view_name": "LayoutView",
            "grid_template_rows": null,
            "right": null,
            "justify_content": null,
            "_view_module": "@jupyter-widgets/base",
            "overflow": null,
            "_model_module_version": "1.2.0",
            "_view_count": null,
            "flex_flow": null,
            "width": null,
            "min_width": null,
            "border": null,
            "align_items": null,
            "bottom": null,
            "_model_module": "@jupyter-widgets/base",
            "top": null,
            "grid_column": null,
            "overflow_y": null,
            "overflow_x": null,
            "grid_auto_flow": null,
            "grid_area": null,
            "grid_template_columns": null,
            "flex": null,
            "_model_name": "LayoutModel",
            "justify_items": null,
            "grid_row": null,
            "max_height": null,
            "align_content": null,
            "visibility": null,
            "align_self": null,
            "height": null,
            "min_height": null,
            "padding": null,
            "grid_auto_rows": null,
            "grid_gap": null,
            "max_width": null,
            "order": null,
            "_view_module_version": "1.2.0",
            "grid_template_areas": null,
            "object_position": null,
            "object_fit": null,
            "grid_auto_columns": null,
            "margin": null,
            "display": null,
            "left": null
          }
        },
        "bc6722af2f2f44e7a8755a0cd2e3ef66": {
          "model_module": "@jupyter-widgets/controls",
          "model_name": "FloatProgressModel",
          "state": {
            "_view_name": "ProgressView",
            "style": "IPY_MODEL_982c849b629348e5a76bc7c7e6a0ca91",
            "_dom_classes": [],
            "description": "",
            "_model_name": "FloatProgressModel",
            "bar_style": "success",
            "max": 1,
            "_view_module": "@jupyter-widgets/controls",
            "_model_module_version": "1.5.0",
            "value": 1,
            "_view_count": null,
            "_view_module_version": "1.5.0",
            "orientation": "horizontal",
            "min": 0,
            "description_tooltip": null,
            "_model_module": "@jupyter-widgets/controls",
            "layout": "IPY_MODEL_18aaae41d0444ddfa2c9d8f1f3bad937"
          }
        },
        "d8e73fe2f6ea42c28bd622ae6398a5ae": {
          "model_module": "@jupyter-widgets/controls",
          "model_name": "HTMLModel",
          "state": {
            "_view_name": "HTMLView",
            "style": "IPY_MODEL_1b04057b60a94e53a2ee7650c2475fc1",
            "_dom_classes": [],
            "description": "",
            "_model_name": "HTMLModel",
            "placeholder": "​",
            "_view_module": "@jupyter-widgets/controls",
            "_model_module_version": "1.5.0",
            "value": " 32768/? [00:01&lt;00:00, 21199.11it/s]",
            "_view_count": null,
            "_view_module_version": "1.5.0",
            "description_tooltip": null,
            "_model_module": "@jupyter-widgets/controls",
            "layout": "IPY_MODEL_ee2d8f36daa14f749b0e679d541fa892"
          }
        },
        "982c849b629348e5a76bc7c7e6a0ca91": {
          "model_module": "@jupyter-widgets/controls",
          "model_name": "ProgressStyleModel",
          "state": {
            "_view_name": "StyleView",
            "_model_name": "ProgressStyleModel",
            "description_width": "initial",
            "_view_module": "@jupyter-widgets/base",
            "_model_module_version": "1.5.0",
            "_view_count": null,
            "_view_module_version": "1.2.0",
            "bar_color": null,
            "_model_module": "@jupyter-widgets/controls"
          }
        },
        "18aaae41d0444ddfa2c9d8f1f3bad937": {
          "model_module": "@jupyter-widgets/base",
          "model_name": "LayoutModel",
          "state": {
            "_view_name": "LayoutView",
            "grid_template_rows": null,
            "right": null,
            "justify_content": null,
            "_view_module": "@jupyter-widgets/base",
            "overflow": null,
            "_model_module_version": "1.2.0",
            "_view_count": null,
            "flex_flow": null,
            "width": null,
            "min_width": null,
            "border": null,
            "align_items": null,
            "bottom": null,
            "_model_module": "@jupyter-widgets/base",
            "top": null,
            "grid_column": null,
            "overflow_y": null,
            "overflow_x": null,
            "grid_auto_flow": null,
            "grid_area": null,
            "grid_template_columns": null,
            "flex": null,
            "_model_name": "LayoutModel",
            "justify_items": null,
            "grid_row": null,
            "max_height": null,
            "align_content": null,
            "visibility": null,
            "align_self": null,
            "height": null,
            "min_height": null,
            "padding": null,
            "grid_auto_rows": null,
            "grid_gap": null,
            "max_width": null,
            "order": null,
            "_view_module_version": "1.2.0",
            "grid_template_areas": null,
            "object_position": null,
            "object_fit": null,
            "grid_auto_columns": null,
            "margin": null,
            "display": null,
            "left": null
          }
        },
        "1b04057b60a94e53a2ee7650c2475fc1": {
          "model_module": "@jupyter-widgets/controls",
          "model_name": "DescriptionStyleModel",
          "state": {
            "_view_name": "StyleView",
            "_model_name": "DescriptionStyleModel",
            "description_width": "",
            "_view_module": "@jupyter-widgets/base",
            "_model_module_version": "1.5.0",
            "_view_count": null,
            "_view_module_version": "1.2.0",
            "_model_module": "@jupyter-widgets/controls"
          }
        },
        "ee2d8f36daa14f749b0e679d541fa892": {
          "model_module": "@jupyter-widgets/base",
          "model_name": "LayoutModel",
          "state": {
            "_view_name": "LayoutView",
            "grid_template_rows": null,
            "right": null,
            "justify_content": null,
            "_view_module": "@jupyter-widgets/base",
            "overflow": null,
            "_model_module_version": "1.2.0",
            "_view_count": null,
            "flex_flow": null,
            "width": null,
            "min_width": null,
            "border": null,
            "align_items": null,
            "bottom": null,
            "_model_module": "@jupyter-widgets/base",
            "top": null,
            "grid_column": null,
            "overflow_y": null,
            "overflow_x": null,
            "grid_auto_flow": null,
            "grid_area": null,
            "grid_template_columns": null,
            "flex": null,
            "_model_name": "LayoutModel",
            "justify_items": null,
            "grid_row": null,
            "max_height": null,
            "align_content": null,
            "visibility": null,
            "align_self": null,
            "height": null,
            "min_height": null,
            "padding": null,
            "grid_auto_rows": null,
            "grid_gap": null,
            "max_width": null,
            "order": null,
            "_view_module_version": "1.2.0",
            "grid_template_areas": null,
            "object_position": null,
            "object_fit": null,
            "grid_auto_columns": null,
            "margin": null,
            "display": null,
            "left": null
          }
        },
        "17bb2d74782c4ada9e422de89f6902a0": {
          "model_module": "@jupyter-widgets/controls",
          "model_name": "HBoxModel",
          "state": {
            "_view_name": "HBoxView",
            "_dom_classes": [],
            "_model_name": "HBoxModel",
            "_view_module": "@jupyter-widgets/controls",
            "_model_module_version": "1.5.0",
            "_view_count": null,
            "_view_module_version": "1.5.0",
            "box_style": "",
            "layout": "IPY_MODEL_884f3eed53d14e52ba14fddfabed7869",
            "_model_module": "@jupyter-widgets/controls",
            "children": [
              "IPY_MODEL_b83289fdbca9462fb398e2a1415e7806",
              "IPY_MODEL_3461b2e5e10947688cfec1d9e300138c"
            ]
          }
        },
        "884f3eed53d14e52ba14fddfabed7869": {
          "model_module": "@jupyter-widgets/base",
          "model_name": "LayoutModel",
          "state": {
            "_view_name": "LayoutView",
            "grid_template_rows": null,
            "right": null,
            "justify_content": null,
            "_view_module": "@jupyter-widgets/base",
            "overflow": null,
            "_model_module_version": "1.2.0",
            "_view_count": null,
            "flex_flow": null,
            "width": null,
            "min_width": null,
            "border": null,
            "align_items": null,
            "bottom": null,
            "_model_module": "@jupyter-widgets/base",
            "top": null,
            "grid_column": null,
            "overflow_y": null,
            "overflow_x": null,
            "grid_auto_flow": null,
            "grid_area": null,
            "grid_template_columns": null,
            "flex": null,
            "_model_name": "LayoutModel",
            "justify_items": null,
            "grid_row": null,
            "max_height": null,
            "align_content": null,
            "visibility": null,
            "align_self": null,
            "height": null,
            "min_height": null,
            "padding": null,
            "grid_auto_rows": null,
            "grid_gap": null,
            "max_width": null,
            "order": null,
            "_view_module_version": "1.2.0",
            "grid_template_areas": null,
            "object_position": null,
            "object_fit": null,
            "grid_auto_columns": null,
            "margin": null,
            "display": null,
            "left": null
          }
        },
        "b83289fdbca9462fb398e2a1415e7806": {
          "model_module": "@jupyter-widgets/controls",
          "model_name": "FloatProgressModel",
          "state": {
            "_view_name": "ProgressView",
            "style": "IPY_MODEL_b19d17a111d042a5873651d050c2e6c8",
            "_dom_classes": [],
            "description": "",
            "_model_name": "FloatProgressModel",
            "bar_style": "success",
            "max": 1,
            "_view_module": "@jupyter-widgets/controls",
            "_model_module_version": "1.5.0",
            "value": 1,
            "_view_count": null,
            "_view_module_version": "1.5.0",
            "orientation": "horizontal",
            "min": 0,
            "description_tooltip": null,
            "_model_module": "@jupyter-widgets/controls",
            "layout": "IPY_MODEL_bbf9b0b0b1024521a92c18860f9de115"
          }
        },
        "3461b2e5e10947688cfec1d9e300138c": {
          "model_module": "@jupyter-widgets/controls",
          "model_name": "HTMLModel",
          "state": {
            "_view_name": "HTMLView",
            "style": "IPY_MODEL_ee30a9dbb9fb434cb8f2df66ca38cad9",
            "_dom_classes": [],
            "description": "",
            "_model_name": "HTMLModel",
            "placeholder": "​",
            "_view_module": "@jupyter-widgets/controls",
            "_model_module_version": "1.5.0",
            "value": " 1654784/? [00:01&lt;00:00, 1454804.50it/s]",
            "_view_count": null,
            "_view_module_version": "1.5.0",
            "description_tooltip": null,
            "_model_module": "@jupyter-widgets/controls",
            "layout": "IPY_MODEL_37ab1eba0d6342aaa5fed9112e174f4f"
          }
        },
        "b19d17a111d042a5873651d050c2e6c8": {
          "model_module": "@jupyter-widgets/controls",
          "model_name": "ProgressStyleModel",
          "state": {
            "_view_name": "StyleView",
            "_model_name": "ProgressStyleModel",
            "description_width": "initial",
            "_view_module": "@jupyter-widgets/base",
            "_model_module_version": "1.5.0",
            "_view_count": null,
            "_view_module_version": "1.2.0",
            "bar_color": null,
            "_model_module": "@jupyter-widgets/controls"
          }
        },
        "bbf9b0b0b1024521a92c18860f9de115": {
          "model_module": "@jupyter-widgets/base",
          "model_name": "LayoutModel",
          "state": {
            "_view_name": "LayoutView",
            "grid_template_rows": null,
            "right": null,
            "justify_content": null,
            "_view_module": "@jupyter-widgets/base",
            "overflow": null,
            "_model_module_version": "1.2.0",
            "_view_count": null,
            "flex_flow": null,
            "width": null,
            "min_width": null,
            "border": null,
            "align_items": null,
            "bottom": null,
            "_model_module": "@jupyter-widgets/base",
            "top": null,
            "grid_column": null,
            "overflow_y": null,
            "overflow_x": null,
            "grid_auto_flow": null,
            "grid_area": null,
            "grid_template_columns": null,
            "flex": null,
            "_model_name": "LayoutModel",
            "justify_items": null,
            "grid_row": null,
            "max_height": null,
            "align_content": null,
            "visibility": null,
            "align_self": null,
            "height": null,
            "min_height": null,
            "padding": null,
            "grid_auto_rows": null,
            "grid_gap": null,
            "max_width": null,
            "order": null,
            "_view_module_version": "1.2.0",
            "grid_template_areas": null,
            "object_position": null,
            "object_fit": null,
            "grid_auto_columns": null,
            "margin": null,
            "display": null,
            "left": null
          }
        },
        "ee30a9dbb9fb434cb8f2df66ca38cad9": {
          "model_module": "@jupyter-widgets/controls",
          "model_name": "DescriptionStyleModel",
          "state": {
            "_view_name": "StyleView",
            "_model_name": "DescriptionStyleModel",
            "description_width": "",
            "_view_module": "@jupyter-widgets/base",
            "_model_module_version": "1.5.0",
            "_view_count": null,
            "_view_module_version": "1.2.0",
            "_model_module": "@jupyter-widgets/controls"
          }
        },
        "37ab1eba0d6342aaa5fed9112e174f4f": {
          "model_module": "@jupyter-widgets/base",
          "model_name": "LayoutModel",
          "state": {
            "_view_name": "LayoutView",
            "grid_template_rows": null,
            "right": null,
            "justify_content": null,
            "_view_module": "@jupyter-widgets/base",
            "overflow": null,
            "_model_module_version": "1.2.0",
            "_view_count": null,
            "flex_flow": null,
            "width": null,
            "min_width": null,
            "border": null,
            "align_items": null,
            "bottom": null,
            "_model_module": "@jupyter-widgets/base",
            "top": null,
            "grid_column": null,
            "overflow_y": null,
            "overflow_x": null,
            "grid_auto_flow": null,
            "grid_area": null,
            "grid_template_columns": null,
            "flex": null,
            "_model_name": "LayoutModel",
            "justify_items": null,
            "grid_row": null,
            "max_height": null,
            "align_content": null,
            "visibility": null,
            "align_self": null,
            "height": null,
            "min_height": null,
            "padding": null,
            "grid_auto_rows": null,
            "grid_gap": null,
            "max_width": null,
            "order": null,
            "_view_module_version": "1.2.0",
            "grid_template_areas": null,
            "object_position": null,
            "object_fit": null,
            "grid_auto_columns": null,
            "margin": null,
            "display": null,
            "left": null
          }
        },
        "9dd1605fd72146a5b96d7ab86e9492d1": {
          "model_module": "@jupyter-widgets/controls",
          "model_name": "HBoxModel",
          "state": {
            "_view_name": "HBoxView",
            "_dom_classes": [],
            "_model_name": "HBoxModel",
            "_view_module": "@jupyter-widgets/controls",
            "_model_module_version": "1.5.0",
            "_view_count": null,
            "_view_module_version": "1.5.0",
            "box_style": "",
            "layout": "IPY_MODEL_fda55ddfc5d243d9a0db2812d0a66cb5",
            "_model_module": "@jupyter-widgets/controls",
            "children": [
              "IPY_MODEL_4afb2bf0df964fb3b08bf3e5b51b7ff1",
              "IPY_MODEL_c1a898ad4ba24c6689d2b1fad7b8f7ea"
            ]
          }
        },
        "fda55ddfc5d243d9a0db2812d0a66cb5": {
          "model_module": "@jupyter-widgets/base",
          "model_name": "LayoutModel",
          "state": {
            "_view_name": "LayoutView",
            "grid_template_rows": null,
            "right": null,
            "justify_content": null,
            "_view_module": "@jupyter-widgets/base",
            "overflow": null,
            "_model_module_version": "1.2.0",
            "_view_count": null,
            "flex_flow": null,
            "width": null,
            "min_width": null,
            "border": null,
            "align_items": null,
            "bottom": null,
            "_model_module": "@jupyter-widgets/base",
            "top": null,
            "grid_column": null,
            "overflow_y": null,
            "overflow_x": null,
            "grid_auto_flow": null,
            "grid_area": null,
            "grid_template_columns": null,
            "flex": null,
            "_model_name": "LayoutModel",
            "justify_items": null,
            "grid_row": null,
            "max_height": null,
            "align_content": null,
            "visibility": null,
            "align_self": null,
            "height": null,
            "min_height": null,
            "padding": null,
            "grid_auto_rows": null,
            "grid_gap": null,
            "max_width": null,
            "order": null,
            "_view_module_version": "1.2.0",
            "grid_template_areas": null,
            "object_position": null,
            "object_fit": null,
            "grid_auto_columns": null,
            "margin": null,
            "display": null,
            "left": null
          }
        },
        "4afb2bf0df964fb3b08bf3e5b51b7ff1": {
          "model_module": "@jupyter-widgets/controls",
          "model_name": "FloatProgressModel",
          "state": {
            "_view_name": "ProgressView",
            "style": "IPY_MODEL_bf32ef1a07b3492c8b91c8a39a7e76b2",
            "_dom_classes": [],
            "description": "  0%",
            "_model_name": "FloatProgressModel",
            "bar_style": "info",
            "max": 1,
            "_view_module": "@jupyter-widgets/controls",
            "_model_module_version": "1.5.0",
            "value": 0,
            "_view_count": null,
            "_view_module_version": "1.5.0",
            "orientation": "horizontal",
            "min": 0,
            "description_tooltip": null,
            "_model_module": "@jupyter-widgets/controls",
            "layout": "IPY_MODEL_bdb8acc8242a4eb7a52322cb24bdafe4"
          }
        },
        "c1a898ad4ba24c6689d2b1fad7b8f7ea": {
          "model_module": "@jupyter-widgets/controls",
          "model_name": "HTMLModel",
          "state": {
            "_view_name": "HTMLView",
            "style": "IPY_MODEL_ff243e9c8f76480c86c23288e06019f4",
            "_dom_classes": [],
            "description": "",
            "_model_name": "HTMLModel",
            "placeholder": "​",
            "_view_module": "@jupyter-widgets/controls",
            "_model_module_version": "1.5.0",
            "value": " 0/4542 [00:00&lt;?, ?it/s]",
            "_view_count": null,
            "_view_module_version": "1.5.0",
            "description_tooltip": null,
            "_model_module": "@jupyter-widgets/controls",
            "layout": "IPY_MODEL_3facf296ce9549fd84cc17aaf895b7c7"
          }
        },
        "bf32ef1a07b3492c8b91c8a39a7e76b2": {
          "model_module": "@jupyter-widgets/controls",
          "model_name": "ProgressStyleModel",
          "state": {
            "_view_name": "StyleView",
            "_model_name": "ProgressStyleModel",
            "description_width": "initial",
            "_view_module": "@jupyter-widgets/base",
            "_model_module_version": "1.5.0",
            "_view_count": null,
            "_view_module_version": "1.2.0",
            "bar_color": null,
            "_model_module": "@jupyter-widgets/controls"
          }
        },
        "bdb8acc8242a4eb7a52322cb24bdafe4": {
          "model_module": "@jupyter-widgets/base",
          "model_name": "LayoutModel",
          "state": {
            "_view_name": "LayoutView",
            "grid_template_rows": null,
            "right": null,
            "justify_content": null,
            "_view_module": "@jupyter-widgets/base",
            "overflow": null,
            "_model_module_version": "1.2.0",
            "_view_count": null,
            "flex_flow": null,
            "width": null,
            "min_width": null,
            "border": null,
            "align_items": null,
            "bottom": null,
            "_model_module": "@jupyter-widgets/base",
            "top": null,
            "grid_column": null,
            "overflow_y": null,
            "overflow_x": null,
            "grid_auto_flow": null,
            "grid_area": null,
            "grid_template_columns": null,
            "flex": null,
            "_model_name": "LayoutModel",
            "justify_items": null,
            "grid_row": null,
            "max_height": null,
            "align_content": null,
            "visibility": null,
            "align_self": null,
            "height": null,
            "min_height": null,
            "padding": null,
            "grid_auto_rows": null,
            "grid_gap": null,
            "max_width": null,
            "order": null,
            "_view_module_version": "1.2.0",
            "grid_template_areas": null,
            "object_position": null,
            "object_fit": null,
            "grid_auto_columns": null,
            "margin": null,
            "display": null,
            "left": null
          }
        },
        "ff243e9c8f76480c86c23288e06019f4": {
          "model_module": "@jupyter-widgets/controls",
          "model_name": "DescriptionStyleModel",
          "state": {
            "_view_name": "StyleView",
            "_model_name": "DescriptionStyleModel",
            "description_width": "",
            "_view_module": "@jupyter-widgets/base",
            "_model_module_version": "1.5.0",
            "_view_count": null,
            "_view_module_version": "1.2.0",
            "_model_module": "@jupyter-widgets/controls"
          }
        },
        "3facf296ce9549fd84cc17aaf895b7c7": {
          "model_module": "@jupyter-widgets/base",
          "model_name": "LayoutModel",
          "state": {
            "_view_name": "LayoutView",
            "grid_template_rows": null,
            "right": null,
            "justify_content": null,
            "_view_module": "@jupyter-widgets/base",
            "overflow": null,
            "_model_module_version": "1.2.0",
            "_view_count": null,
            "flex_flow": null,
            "width": null,
            "min_width": null,
            "border": null,
            "align_items": null,
            "bottom": null,
            "_model_module": "@jupyter-widgets/base",
            "top": null,
            "grid_column": null,
            "overflow_y": null,
            "overflow_x": null,
            "grid_auto_flow": null,
            "grid_area": null,
            "grid_template_columns": null,
            "flex": null,
            "_model_name": "LayoutModel",
            "justify_items": null,
            "grid_row": null,
            "max_height": null,
            "align_content": null,
            "visibility": null,
            "align_self": null,
            "height": null,
            "min_height": null,
            "padding": null,
            "grid_auto_rows": null,
            "grid_gap": null,
            "max_width": null,
            "order": null,
            "_view_module_version": "1.2.0",
            "grid_template_areas": null,
            "object_position": null,
            "object_fit": null,
            "grid_auto_columns": null,
            "margin": null,
            "display": null,
            "left": null
          }
        }
      }
    }
  },
  "cells": [
    {
      "cell_type": "markdown",
      "metadata": {
        "id": "view-in-github",
        "colab_type": "text"
      },
      "source": [
        "<a href=\"https://colab.research.google.com/github/jiku100/2020-2-machine-running-proejct/blob/master/assignment10/%EC%8B%A0%EC%84%9D%EA%B2%BD_assignment_10.ipynb\" target=\"_parent\"><img src=\"https://colab.research.google.com/assets/colab-badge.svg\" alt=\"Open In Colab\"/></a>"
      ]
    },
    {
      "cell_type": "markdown",
      "metadata": {
        "id": "0gzdXwFJz0KJ"
      },
      "source": [
        "# **Classification for Multiple Categories using Pytorch for best accuracy**\n",
        "\n"
      ]
    },
    {
      "cell_type": "markdown",
      "metadata": {
        "id": "w_C7Cujjz4ff"
      },
      "source": [
        "# 1. Import library\n",
        "<hr>"
      ]
    },
    {
      "cell_type": "code",
      "metadata": {
        "id": "gtlbKT3Izgre"
      },
      "source": [
        "import torch\n",
        "import torch.nn as nn\n",
        "import torch.optim as optim\n",
        "import torch.nn.init as init\n",
        "import torchvision\n",
        "import torchvision.transforms as transforms\n",
        "import torchvision.datasets as datasets\n",
        "from torch.utils.data import DataLoader\n",
        "\n",
        "import matplotlib.pyplot as plt\n",
        "import cv2\n",
        "import numpy as np"
      ],
      "execution_count": 1,
      "outputs": []
    },
    {
      "cell_type": "code",
      "metadata": {
        "colab": {
          "base_uri": "https://localhost:8080/"
        },
        "id": "JC9KWsHg7lTJ",
        "outputId": "59197d36-e267-4bca-95ee-cce165e66bac"
      },
      "source": [
        "USE_CUDA = torch.cuda.is_available()\n",
        "device = torch.device(\"cuda\" if USE_CUDA else \"cpu\")\n",
        "print(\"다음 기기로 학습합니다:\", device)"
      ],
      "execution_count": 2,
      "outputs": [
        {
          "output_type": "stream",
          "text": [
            "다음 기기로 학습합니다: cuda\n"
          ],
          "name": "stdout"
        }
      ]
    },
    {
      "cell_type": "markdown",
      "metadata": {
        "id": "nBCurPvD3NoM"
      },
      "source": [
        "# 2. Preprocessing Data\n",
        "<hr>"
      ]
    },
    {
      "cell_type": "code",
      "metadata": {
        "id": "4tVba13YD-s9"
      },
      "source": [
        "transform = transforms.Compose([\n",
        "    transforms.ToTensor(),\n",
        "    transforms.Normalize((0.1307,),(0.3081,)),  # mean value = 0.1307, standard deviation value = 0.3081\n",
        "])"
      ],
      "execution_count": 16,
      "outputs": []
    },
    {
      "cell_type": "code",
      "metadata": {
        "colab": {
          "base_uri": "https://localhost:8080/",
          "height": 372,
          "referenced_widgets": [
            "d3cf28764168402ab11aa560a7980690",
            "25fd060983fb4cd38b96b8a850bbdf6e",
            "cf5210bcfc284d0390c04a2efd6c0ba5",
            "9f7d05c19ac440329bb88def4f78bfa6",
            "daf62d7786db4fa2ae9ad85857d07506",
            "c4b2bc0cfcbb4b7597ec711d1e763445",
            "abedbb714f38432084e634b56ce63f78",
            "28480491f9c9458480094ca82c20cf72",
            "25ff35dac40b485c91eea344b0be94eb",
            "512bd6a79b63441897cbb6ee316bec4f",
            "bc6722af2f2f44e7a8755a0cd2e3ef66",
            "d8e73fe2f6ea42c28bd622ae6398a5ae",
            "982c849b629348e5a76bc7c7e6a0ca91",
            "18aaae41d0444ddfa2c9d8f1f3bad937",
            "1b04057b60a94e53a2ee7650c2475fc1",
            "ee2d8f36daa14f749b0e679d541fa892",
            "17bb2d74782c4ada9e422de89f6902a0",
            "884f3eed53d14e52ba14fddfabed7869",
            "b83289fdbca9462fb398e2a1415e7806",
            "3461b2e5e10947688cfec1d9e300138c",
            "b19d17a111d042a5873651d050c2e6c8",
            "bbf9b0b0b1024521a92c18860f9de115",
            "ee30a9dbb9fb434cb8f2df66ca38cad9",
            "37ab1eba0d6342aaa5fed9112e174f4f",
            "9dd1605fd72146a5b96d7ab86e9492d1",
            "fda55ddfc5d243d9a0db2812d0a66cb5",
            "4afb2bf0df964fb3b08bf3e5b51b7ff1",
            "c1a898ad4ba24c6689d2b1fad7b8f7ea",
            "bf32ef1a07b3492c8b91c8a39a7e76b2",
            "bdb8acc8242a4eb7a52322cb24bdafe4",
            "ff243e9c8f76480c86c23288e06019f4",
            "3facf296ce9549fd84cc17aaf895b7c7"
          ]
        },
        "id": "1uNdu0HqJEQv",
        "outputId": "f726e5d5-e96e-488c-ff6c-332800d32104"
      },
      "source": [
        "data_path = './MNIST'\n",
        "\n",
        "data_test   = datasets.MNIST(root = data_path, train= True, download=True, transform= transform)\n",
        "data_train  = datasets.MNIST(root = data_path, train= False, download=True, transform= transform)"
      ],
      "execution_count": 17,
      "outputs": [
        {
          "output_type": "stream",
          "text": [
            "Downloading http://yann.lecun.com/exdb/mnist/train-images-idx3-ubyte.gz to ./MNIST/MNIST/raw/train-images-idx3-ubyte.gz\n"
          ],
          "name": "stdout"
        },
        {
          "output_type": "display_data",
          "data": {
            "application/vnd.jupyter.widget-view+json": {
              "model_id": "d3cf28764168402ab11aa560a7980690",
              "version_minor": 0,
              "version_major": 2
            },
            "text/plain": [
              "HBox(children=(FloatProgress(value=1.0, bar_style='info', max=1.0), HTML(value='')))"
            ]
          },
          "metadata": {
            "tags": []
          }
        },
        {
          "output_type": "stream",
          "text": [
            "Extracting ./MNIST/MNIST/raw/train-images-idx3-ubyte.gz to ./MNIST/MNIST/raw\n",
            "Downloading http://yann.lecun.com/exdb/mnist/train-labels-idx1-ubyte.gz to ./MNIST/MNIST/raw/train-labels-idx1-ubyte.gz\n"
          ],
          "name": "stdout"
        },
        {
          "output_type": "display_data",
          "data": {
            "application/vnd.jupyter.widget-view+json": {
              "model_id": "25ff35dac40b485c91eea344b0be94eb",
              "version_minor": 0,
              "version_major": 2
            },
            "text/plain": [
              "HBox(children=(FloatProgress(value=1.0, bar_style='info', max=1.0), HTML(value='')))"
            ]
          },
          "metadata": {
            "tags": []
          }
        },
        {
          "output_type": "stream",
          "text": [
            "Extracting ./MNIST/MNIST/raw/train-labels-idx1-ubyte.gz to ./MNIST/MNIST/raw\n",
            "Downloading http://yann.lecun.com/exdb/mnist/t10k-images-idx3-ubyte.gz to ./MNIST/MNIST/raw/t10k-images-idx3-ubyte.gz\n"
          ],
          "name": "stdout"
        },
        {
          "output_type": "display_data",
          "data": {
            "application/vnd.jupyter.widget-view+json": {
              "model_id": "17bb2d74782c4ada9e422de89f6902a0",
              "version_minor": 0,
              "version_major": 2
            },
            "text/plain": [
              "HBox(children=(FloatProgress(value=1.0, bar_style='info', max=1.0), HTML(value='')))"
            ]
          },
          "metadata": {
            "tags": []
          }
        },
        {
          "output_type": "stream",
          "text": [
            "Extracting ./MNIST/MNIST/raw/t10k-images-idx3-ubyte.gz to ./MNIST/MNIST/raw\n",
            "Downloading http://yann.lecun.com/exdb/mnist/t10k-labels-idx1-ubyte.gz to ./MNIST/MNIST/raw/t10k-labels-idx1-ubyte.gz\n",
            "\n",
            "\n",
            "\n"
          ],
          "name": "stdout"
        },
        {
          "output_type": "display_data",
          "data": {
            "application/vnd.jupyter.widget-view+json": {
              "model_id": "9dd1605fd72146a5b96d7ab86e9492d1",
              "version_minor": 0,
              "version_major": 2
            },
            "text/plain": [
              "HBox(children=(FloatProgress(value=1.0, bar_style='info', max=1.0), HTML(value='')))"
            ]
          },
          "metadata": {
            "tags": []
          }
        },
        {
          "output_type": "stream",
          "text": [
            "Extracting ./MNIST/MNIST/raw/t10k-labels-idx1-ubyte.gz to ./MNIST/MNIST/raw\n",
            "Processing...\n",
            "Done!\n"
          ],
          "name": "stdout"
        }
      ]
    },
    {
      "cell_type": "code",
      "metadata": {
        "colab": {
          "base_uri": "https://localhost:8080/",
          "height": 387
        },
        "id": "8SJcK-t2D3Bp",
        "outputId": "8512650c-c4ff-4c65-fcf7-b8443bb48416"
      },
      "source": [
        "one_image, label = data_train[0]\n",
        "print(\"type of one image\", type(one_image))\n",
        "print(\"size of one image : \", one_image.shape)\n",
        "plt.imshow(one_image.squeeze().numpy(), cmap='gray')\n",
        "print(\"type of label : \", type(label))\n",
        "print(\"label : \", label)\n",
        "print(np.max(data_train.train_data[0].view(-1).numpy()))"
      ],
      "execution_count": 18,
      "outputs": [
        {
          "output_type": "stream",
          "text": [
            "type of one image <class 'torch.Tensor'>\n",
            "size of one image :  torch.Size([1, 28, 28])\n",
            "type of label :  <class 'int'>\n",
            "label :  7\n",
            "255\n"
          ],
          "name": "stdout"
        },
        {
          "output_type": "stream",
          "text": [
            "/usr/local/lib/python3.6/dist-packages/torchvision/datasets/mnist.py:58: UserWarning: train_data has been renamed data\n",
            "  warnings.warn(\"train_data has been renamed data\")\n"
          ],
          "name": "stderr"
        },
        {
          "output_type": "display_data",
          "data": {
            "image/png": "[encoded data removed]",
            "text/plain": [
              "<Figure size 432x288 with 1 Axes>"
            ]
          },
          "metadata": {
            "tags": [],
            "needs_background": "light"
          }
        }
      ]
    },
    {
      "cell_type": "code",
      "metadata": {
        "id": "lUj2JTgY4r4c"
      },
      "source": [
        "learning_rate = 0.001\n",
        "training_epochs = 100\n",
        "batch_size = 32\n",
        "drop_prob = 0.3"
      ],
      "execution_count": 34,
      "outputs": []
    },
    {
      "cell_type": "code",
      "metadata": {
        "id": "CkgCtS3b3giF"
      },
      "source": [
        "train_loader = DataLoader(dataset = data_train, batch_size = batch, shuffle = True) ## batch size 32 짜리 train loader 생성\n",
        "test_loader = DataLoader(dataset = data_test, batch_size = batch, shuffle = True) ## batch size 32 짜리 test loader 생성"
      ],
      "execution_count": 35,
      "outputs": []
    },
    {
      "cell_type": "markdown",
      "metadata": {
        "id": "SCsB9Pdk6zd7"
      },
      "source": [
        "# 3. Define Model\n",
        "<hr>"
      ]
    },
    {
      "cell_type": "code",
      "metadata": {
        "id": "-cUHqcW25etQ"
      },
      "source": [
        "class classification(nn.Module):\n",
        "    def __init__(self):\n",
        "        super(classification, self).__init__()\n",
        "        \n",
        "        # construct layers for a neural network\n",
        "        self.classifier1 = nn.Sequential(\n",
        "            nn.Linear(in_features=28*28, out_features=20*20, bias = True),\n",
        "            nn.ReLU(),\n",
        "            nn.Dropout(p=drop_prob)\n",
        "        ) \n",
        "        self.classifier2 = nn.Sequential(\n",
        "            nn.Linear(in_features=20*20, out_features=64, bias = True),\n",
        "            nn.ReLU(),\n",
        "            nn.Dropout(p=drop_prob)\n",
        "        ) \n",
        "        self.classifier3 = nn.Sequential(\n",
        "            nn.Linear(in_features=64, out_features=10, bias = True),\n",
        "            nn.LogSoftmax(dim=1),\n",
        "        ) \n",
        "\n",
        "    def forward(self, inputs):                 # [batchSize, 1, 28, 28]\n",
        "        x = inputs.view(inputs.size(0), -1)    # [batchSize, 28*28]\n",
        "        x = self.classifier1(x)                # [batchSize, 20*20]\n",
        "        x = self.classifier2(x)                # [batchSize, 10*10]\n",
        "        out = self.classifier3(x)              # [batchSize, 10]\n",
        "        \n",
        "        return out\n",
        "\n"
      ],
      "execution_count": 36,
      "outputs": []
    },
    {
      "cell_type": "code",
      "metadata": {
        "id": "MWYQ30d37dwC"
      },
      "source": [
        "model = classification().to(device)"
      ],
      "execution_count": 37,
      "outputs": []
    },
    {
      "cell_type": "code",
      "metadata": {
        "id": "-GpzWr1V64wc"
      },
      "source": [
        "criterion = nn.CrossEntropyLoss().to(device)    # Softmax is internally computed.\n",
        "optimizer = torch.optim.Adam(model.parameters(), lr=learning_rate)"
      ],
      "execution_count": 38,
      "outputs": []
    },
    {
      "cell_type": "markdown",
      "metadata": {
        "id": "lsNWP3Wk8Siq"
      },
      "source": [
        "# 4. Training\n",
        "<hr>"
      ]
    },
    {
      "cell_type": "code",
      "metadata": {
        "id": "1_QSSPkC7sCr"
      },
      "source": [
        "total_batch= len(train_loader)"
      ],
      "execution_count": 39,
      "outputs": []
    },
    {
      "cell_type": "code",
      "metadata": {
        "colab": {
          "base_uri": "https://localhost:8080/"
        },
        "id": "9_SeUrHB5gLH",
        "outputId": "dab3d009-e5f3-4818-a619-f8ab17a653b7"
      },
      "source": [
        "print(total_batch)"
      ],
      "execution_count": 40,
      "outputs": [
        {
          "output_type": "stream",
          "text": [
            "313\n"
          ],
          "name": "stdout"
        }
      ]
    },
    {
      "cell_type": "code",
      "metadata": {
        "id": "eaJMZ8TvcglJ"
      },
      "source": [
        "def accuracy(log_pred, y_true):\n",
        "    y_pred = torch.argmax(log_pred, dim=1)\n",
        "    return (y_pred == y_true).to(torch.float).mean()"
      ],
      "execution_count": 41,
      "outputs": []
    },
    {
      "cell_type": "code",
      "metadata": {
        "id": "Kl5FuVgt8_LF"
      },
      "source": [
        "def training(model, loss, optim, training_epochs, train_loader, test_loader):\n",
        "  L_iters_train = []\n",
        "  accuracy_train = []\n",
        "  L_iters_test = []\n",
        "  accuracy_test = []\n",
        "  for epoch in range(training_epochs):\n",
        "    total_cost_train = 0\n",
        "    total_cost_test = 0\n",
        "    total_acc_train = 0\n",
        "    total_acc_test = 0\n",
        "    model.train()\n",
        "    for X, Y in train_loader:\n",
        "      X = X.to(device)\n",
        "      Y = Y.to(device)\n",
        "\n",
        "      optim.zero_grad()\n",
        "      train_pred = model(X)\n",
        "      cost = loss(train_pred, Y)\n",
        "      cost.backward()\n",
        "      optim.step()\n",
        "      total_cost_train += cost\n",
        "      total_acc_train += accuracy(train_pred, Y)\n",
        "      \n",
        "    avg_cost_train = total_cost_train / len(train_loader)\n",
        "    avg_acc_train = total_acc_train / len(train_loader)\n",
        "\n",
        "    L_iters_train.append(avg_cost_train)\n",
        "    accuracy_train.append(avg_acc_train)\n",
        "    model.eval()\n",
        "    with torch.no_grad():\n",
        "      for X_test, Y_test in test_loader:\n",
        "        X_test = X_test.to(device)\n",
        "        Y_test = Y_test.to(device)\n",
        "        test_pred = model(X_test)\n",
        "        cost_test = loss(test_pred, Y_test)\n",
        "        total_cost_test += cost_test\n",
        "        total_acc_test += accuracy(test_pred, Y_test)\n",
        "      avg_cost_test = total_cost_test / len(test_loader)\n",
        "      avg_acc_test = total_acc_test / len(test_loader)\n",
        "    \n",
        "      accuracy_test.append(avg_acc_test)\n",
        "      L_iters_test.append(avg_cost_test)\n",
        "\n",
        "    print(\"Epoch: %02d Training Loss: %.9f Testing Loss: %.9f  Training Acc: %.9f Testing Acc: %.9f\" %((epoch + 1),avg_cost_train, avg_cost_test, avg_acc_train, avg_acc_test))\n",
        "  return L_iters_train, accuracy_train, L_iters_test, accuracy_test"
      ],
      "execution_count": 42,
      "outputs": []
    },
    {
      "cell_type": "code",
      "metadata": {
        "colab": {
          "base_uri": "https://localhost:8080/"
        },
        "id": "hOfKPriA84jq",
        "outputId": "c00d2fff-f6ee-450a-bcd7-c01580f6968a"
      },
      "source": [
        "L_train, A_train, L_test, A_test = training(model, criterion, optimizer, training_epochs, train_loader, test_loader)"
      ],
      "execution_count": 43,
      "outputs": [
        {
          "output_type": "stream",
          "text": [
            "Epoch: 01 Training Loss: 0.814707041 Testing Loss: 0.443375617  Training Acc: 0.738318682 Testing Acc: 0.866116703\n",
            "Epoch: 02 Training Loss: 0.415672809 Testing Loss: 0.379977584  Training Acc: 0.872903347 Testing Acc: 0.878833354\n",
            "Epoch: 03 Training Loss: 0.336174577 Testing Loss: 0.270712763  Training Acc: 0.898562312 Testing Acc: 0.919616699\n",
            "Epoch: 04 Training Loss: 0.282525539 Testing Loss: 0.244691521  Training Acc: 0.912539899 Testing Acc: 0.926166654\n",
            "Epoch: 05 Training Loss: 0.247300476 Testing Loss: 0.243293673  Training Acc: 0.923023164 Testing Acc: 0.928083360\n",
            "Epoch: 06 Training Loss: 0.230170548 Testing Loss: 0.252179652  Training Acc: 0.929013550 Testing Acc: 0.925633371\n",
            "Epoch: 07 Training Loss: 0.208969131 Testing Loss: 0.228791475  Training Acc: 0.933606207 Testing Acc: 0.930283368\n",
            "Epoch: 08 Training Loss: 0.196169481 Testing Loss: 0.260337621  Training Acc: 0.938099027 Testing Acc: 0.926950037\n",
            "Epoch: 09 Training Loss: 0.184936941 Testing Loss: 0.199572176  Training Acc: 0.943490386 Testing Acc: 0.942449987\n",
            "Epoch: 10 Training Loss: 0.167743728 Testing Loss: 0.218071565  Training Acc: 0.945786715 Testing Acc: 0.938716650\n",
            "Epoch: 11 Training Loss: 0.154800043 Testing Loss: 0.196816608  Training Acc: 0.949680507 Testing Acc: 0.945416689\n",
            "Epoch: 12 Training Loss: 0.145378873 Testing Loss: 0.215733871  Training Acc: 0.953474402 Testing Acc: 0.939016700\n",
            "Epoch: 13 Training Loss: 0.146237805 Testing Loss: 0.191161886  Training Acc: 0.953075051 Testing Acc: 0.947266698\n",
            "Epoch: 14 Training Loss: 0.146896809 Testing Loss: 0.211174786  Training Acc: 0.956968844 Testing Acc: 0.943433344\n",
            "Epoch: 15 Training Loss: 0.129592717 Testing Loss: 0.216536686  Training Acc: 0.959265172 Testing Acc: 0.942983329\n",
            "Epoch: 16 Training Loss: 0.124835834 Testing Loss: 0.193812743  Training Acc: 0.959165335 Testing Acc: 0.949000001\n",
            "Epoch: 17 Training Loss: 0.121379010 Testing Loss: 0.201708362  Training Acc: 0.960563064 Testing Acc: 0.947066665\n",
            "Epoch: 18 Training Loss: 0.123389930 Testing Loss: 0.186242789  Training Acc: 0.960063875 Testing Acc: 0.950183332\n",
            "Epoch: 19 Training Loss: 0.108758964 Testing Loss: 0.183999449  Training Acc: 0.964956045 Testing Acc: 0.950049996\n",
            "Epoch: 20 Training Loss: 0.106351309 Testing Loss: 0.178715423  Training Acc: 0.961761177 Testing Acc: 0.953033328\n",
            "Epoch: 21 Training Loss: 0.118955456 Testing Loss: 0.207082838  Training Acc: 0.959564686 Testing Acc: 0.946516693\n",
            "Epoch: 22 Training Loss: 0.104895569 Testing Loss: 0.217899144  Training Acc: 0.967551887 Testing Acc: 0.945216656\n",
            "Epoch: 23 Training Loss: 0.097171456 Testing Loss: 0.187286422  Training Acc: 0.967551887 Testing Acc: 0.952383339\n",
            "Epoch: 24 Training Loss: 0.088395581 Testing Loss: 0.250231892  Training Acc: 0.970047891 Testing Acc: 0.941600025\n",
            "Epoch: 25 Training Loss: 0.099529915 Testing Loss: 0.206130788  Training Acc: 0.971445680 Testing Acc: 0.949599981\n",
            "Epoch: 26 Training Loss: 0.096716754 Testing Loss: 0.188152477  Training Acc: 0.967452049 Testing Acc: 0.954699993\n",
            "Epoch: 27 Training Loss: 0.094245352 Testing Loss: 0.203015193  Training Acc: 0.970047891 Testing Acc: 0.951933324\n",
            "Epoch: 28 Training Loss: 0.098419346 Testing Loss: 0.190954104  Training Acc: 0.970447242 Testing Acc: 0.954699993\n",
            "Epoch: 29 Training Loss: 0.091013908 Testing Loss: 0.198910594  Training Acc: 0.969249189 Testing Acc: 0.954416692\n",
            "Epoch: 30 Training Loss: 0.087141044 Testing Loss: 0.215531930  Training Acc: 0.972344220 Testing Acc: 0.952700019\n",
            "Epoch: 31 Training Loss: 0.094790578 Testing Loss: 0.214334160  Training Acc: 0.970047891 Testing Acc: 0.951916695\n",
            "Epoch: 32 Training Loss: 0.078826867 Testing Loss: 0.221112862  Training Acc: 0.974141359 Testing Acc: 0.951116681\n",
            "Epoch: 33 Training Loss: 0.088914491 Testing Loss: 0.181372643  Training Acc: 0.970247567 Testing Acc: 0.957783341\n",
            "Epoch: 34 Training Loss: 0.068425179 Testing Loss: 0.234523028  Training Acc: 0.978334665 Testing Acc: 0.950666666\n",
            "Epoch: 35 Training Loss: 0.085797139 Testing Loss: 0.211724192  Training Acc: 0.971745193 Testing Acc: 0.953733325\n",
            "Epoch: 36 Training Loss: 0.080027603 Testing Loss: 0.226401582  Training Acc: 0.973542333 Testing Acc: 0.949433327\n",
            "Epoch: 37 Training Loss: 0.091857143 Testing Loss: 0.233225927  Training Acc: 0.970147729 Testing Acc: 0.947683334\n",
            "Epoch: 38 Training Loss: 0.077539779 Testing Loss: 0.245165974  Training Acc: 0.975339413 Testing Acc: 0.949299991\n",
            "Epoch: 39 Training Loss: 0.080963410 Testing Loss: 0.211946771  Training Acc: 0.973542333 Testing Acc: 0.953766704\n",
            "Epoch: 40 Training Loss: 0.066636048 Testing Loss: 0.220362261  Training Acc: 0.977635741 Testing Acc: 0.953133345\n",
            "Epoch: 41 Training Loss: 0.077350684 Testing Loss: 0.230912566  Training Acc: 0.974241197 Testing Acc: 0.950116694\n",
            "Epoch: 42 Training Loss: 0.070475407 Testing Loss: 0.217986345  Training Acc: 0.977835417 Testing Acc: 0.954483330\n",
            "Epoch: 43 Training Loss: 0.059106302 Testing Loss: 0.245520338  Training Acc: 0.979333043 Testing Acc: 0.952983320\n",
            "Epoch: 44 Training Loss: 0.080708876 Testing Loss: 0.229438931  Training Acc: 0.974041522 Testing Acc: 0.952849984\n",
            "Epoch: 45 Training Loss: 0.067770302 Testing Loss: 0.231956854  Training Acc: 0.978534341 Testing Acc: 0.955500007\n",
            "Epoch: 46 Training Loss: 0.074392490 Testing Loss: 0.224924177  Training Acc: 0.977336228 Testing Acc: 0.953983366\n",
            "Epoch: 47 Training Loss: 0.074347645 Testing Loss: 0.229666293  Training Acc: 0.976737201 Testing Acc: 0.951783359\n",
            "Epoch: 48 Training Loss: 0.070393868 Testing Loss: 0.229295239  Training Acc: 0.975738823 Testing Acc: 0.954950035\n",
            "Epoch: 49 Training Loss: 0.062312085 Testing Loss: 0.221288994  Training Acc: 0.979532719 Testing Acc: 0.956566691\n",
            "Epoch: 50 Training Loss: 0.075868458 Testing Loss: 0.229646474  Training Acc: 0.975339413 Testing Acc: 0.953433335\n",
            "Epoch: 51 Training Loss: 0.063737646 Testing Loss: 0.204355255  Training Acc: 0.978734016 Testing Acc: 0.957283318\n",
            "Epoch: 52 Training Loss: 0.049009569 Testing Loss: 0.279196233  Training Acc: 0.982927322 Testing Acc: 0.949633360\n",
            "Epoch: 53 Training Loss: 0.067394853 Testing Loss: 0.243946299  Training Acc: 0.977336228 Testing Acc: 0.952849984\n",
            "Epoch: 54 Training Loss: 0.072038397 Testing Loss: 0.231776893  Training Acc: 0.975838661 Testing Acc: 0.955416679\n",
            "Epoch: 55 Training Loss: 0.065984212 Testing Loss: 0.221303031  Training Acc: 0.977935314 Testing Acc: 0.955433369\n",
            "Epoch: 56 Training Loss: 0.052564602 Testing Loss: 0.263999999  Training Acc: 0.983027160 Testing Acc: 0.950433373\n",
            "Epoch: 57 Training Loss: 0.064323336 Testing Loss: 0.227275342  Training Acc: 0.979532719 Testing Acc: 0.957149982\n",
            "Epoch: 58 Training Loss: 0.058927309 Testing Loss: 0.256813377  Training Acc: 0.982627749 Testing Acc: 0.953133345\n",
            "Epoch: 59 Training Loss: 0.054608330 Testing Loss: 0.229183763  Training Acc: 0.979732394 Testing Acc: 0.955466688\n",
            "Epoch: 60 Training Loss: 0.068838291 Testing Loss: 0.222733885  Training Acc: 0.978833854 Testing Acc: 0.956566691\n",
            "Epoch: 61 Training Loss: 0.055329897 Testing Loss: 0.261475921  Training Acc: 0.981629372 Testing Acc: 0.950049996\n",
            "Epoch: 62 Training Loss: 0.053358797 Testing Loss: 0.237488970  Training Acc: 0.981829047 Testing Acc: 0.956216693\n",
            "Epoch: 63 Training Loss: 0.064603180 Testing Loss: 0.248658478  Training Acc: 0.979632556 Testing Acc: 0.953850031\n",
            "Epoch: 64 Training Loss: 0.063802473 Testing Loss: 0.232879639  Training Acc: 0.979432881 Testing Acc: 0.956633329\n",
            "Epoch: 65 Training Loss: 0.054079305 Testing Loss: 0.234433636  Training Acc: 0.981928885 Testing Acc: 0.957100034\n",
            "Epoch: 66 Training Loss: 0.050553564 Testing Loss: 0.247547567  Training Acc: 0.985423326 Testing Acc: 0.953700006\n",
            "Epoch: 67 Training Loss: 0.061288718 Testing Loss: 0.284819752  Training Acc: 0.980630994 Testing Acc: 0.947983325\n",
            "Epoch: 68 Training Loss: 0.049214300 Testing Loss: 0.241977870  Training Acc: 0.983626187 Testing Acc: 0.955933332\n",
            "Epoch: 69 Training Loss: 0.064807601 Testing Loss: 0.234023169  Training Acc: 0.980730832 Testing Acc: 0.956633329\n",
            "Epoch: 70 Training Loss: 0.049894806 Testing Loss: 0.263484359  Training Acc: 0.984924078 Testing Acc: 0.953233361\n",
            "Epoch: 71 Training Loss: 0.067907177 Testing Loss: 0.248840779  Training Acc: 0.978734016 Testing Acc: 0.954116702\n",
            "Epoch: 72 Training Loss: 0.050256599 Testing Loss: 0.246962130  Training Acc: 0.984025538 Testing Acc: 0.956300020\n",
            "Epoch: 73 Training Loss: 0.051589385 Testing Loss: 0.233632267  Training Acc: 0.983726025 Testing Acc: 0.957166672\n",
            "Epoch: 74 Training Loss: 0.052418754 Testing Loss: 0.239897043  Training Acc: 0.983226836 Testing Acc: 0.957000017\n",
            "Epoch: 75 Training Loss: 0.050768897 Testing Loss: 0.247389182  Training Acc: 0.984524727 Testing Acc: 0.955850005\n",
            "Epoch: 76 Training Loss: 0.049098060 Testing Loss: 0.228182778  Training Acc: 0.983925700 Testing Acc: 0.958016694\n",
            "Epoch: 77 Training Loss: 0.050092183 Testing Loss: 0.260207921  Training Acc: 0.986122191 Testing Acc: 0.954766691\n",
            "Epoch: 78 Training Loss: 0.052256215 Testing Loss: 0.286462992  Training Acc: 0.983326674 Testing Acc: 0.951216698\n",
            "Epoch: 79 Training Loss: 0.055861279 Testing Loss: 0.246784911  Training Acc: 0.982128561 Testing Acc: 0.957199991\n",
            "Epoch: 80 Training Loss: 0.053119585 Testing Loss: 0.237899944  Training Acc: 0.982927322 Testing Acc: 0.957100034\n",
            "Epoch: 81 Training Loss: 0.058786459 Testing Loss: 0.269122303  Training Acc: 0.981529534 Testing Acc: 0.953199983\n",
            "Epoch: 82 Training Loss: 0.053267468 Testing Loss: 0.238996327  Training Acc: 0.981829047 Testing Acc: 0.957199991\n",
            "Epoch: 83 Training Loss: 0.057854831 Testing Loss: 0.245168597  Training Acc: 0.980531156 Testing Acc: 0.957816660\n",
            "Epoch: 84 Training Loss: 0.052858640 Testing Loss: 0.272952855  Training Acc: 0.983226836 Testing Acc: 0.952100039\n",
            "Epoch: 85 Training Loss: 0.044767436 Testing Loss: 0.257660031  Training Acc: 0.986721218 Testing Acc: 0.958516657\n",
            "Epoch: 86 Training Loss: 0.060349986 Testing Loss: 0.251323283  Training Acc: 0.982527912 Testing Acc: 0.954566658\n",
            "Epoch: 87 Training Loss: 0.046664678 Testing Loss: 0.248301700  Training Acc: 0.986621380 Testing Acc: 0.956966698\n",
            "Epoch: 88 Training Loss: 0.045217186 Testing Loss: 0.273133397  Training Acc: 0.984524727 Testing Acc: 0.954150021\n",
            "Epoch: 89 Training Loss: 0.056812737 Testing Loss: 0.247965753  Training Acc: 0.981928885 Testing Acc: 0.958166659\n",
            "Epoch: 90 Training Loss: 0.052868411 Testing Loss: 0.258210182  Training Acc: 0.982727647 Testing Acc: 0.956200004\n",
            "Epoch: 91 Training Loss: 0.049065743 Testing Loss: 0.268999070  Training Acc: 0.983626187 Testing Acc: 0.955616653\n",
            "Epoch: 92 Training Loss: 0.045549691 Testing Loss: 0.311502516  Training Acc: 0.985423326 Testing Acc: 0.949649990\n",
            "Epoch: 93 Training Loss: 0.037770450 Testing Loss: 0.258180618  Training Acc: 0.988019168 Testing Acc: 0.958150029\n",
            "Epoch: 94 Training Loss: 0.049183711 Testing Loss: 0.261023998  Training Acc: 0.983626187 Testing Acc: 0.958200037\n",
            "Epoch: 95 Training Loss: 0.056952648 Testing Loss: 0.276302636  Training Acc: 0.983426511 Testing Acc: 0.955533326\n",
            "Epoch: 96 Training Loss: 0.043256287 Testing Loss: 0.255955338  Training Acc: 0.986122191 Testing Acc: 0.958249986\n",
            "Epoch: 97 Training Loss: 0.051005773 Testing Loss: 0.281539828  Training Acc: 0.985523164 Testing Acc: 0.955083370\n",
            "Epoch: 98 Training Loss: 0.046727668 Testing Loss: 0.241181850  Training Acc: 0.984924078 Testing Acc: 0.959316671\n",
            "Epoch: 99 Training Loss: 0.050664339 Testing Loss: 0.268457472  Training Acc: 0.984325051 Testing Acc: 0.954766691\n",
            "Epoch: 100 Training Loss: 0.039541591 Testing Loss: 0.259061247  Training Acc: 0.987120569 Testing Acc: 0.957750022\n"
          ],
          "name": "stdout"
        }
      ]
    },
    {
      "cell_type": "code",
      "metadata": {
        "colab": {
          "base_uri": "https://localhost:8080/",
          "height": 592
        },
        "id": "vzn6YyGw9ULY",
        "outputId": "30b53c5f-e037-43d7-ded5-83fc5fd8f877"
      },
      "source": [
        "plt.figure(figsize = (10,10))\n",
        "plt.plot(L_train, linewidth = 2, c='b', label = \"train\")\n",
        "plt.plot(L_test, linewidth = 2, c='r', label = \"test\")\n",
        "plt.legend()\n",
        "plt.show()"
      ],
      "execution_count": 44,
      "outputs": [
        {
          "output_type": "display_data",
          "data": {
            "image/png": "[encoded data removed]",
            "text/plain": [
              "<Figure size 720x720 with 1 Axes>"
            ]
          },
          "metadata": {
            "tags": [],
            "needs_background": "light"
          }
        }
      ]
    },
    {
      "cell_type": "code",
      "metadata": {
        "colab": {
          "base_uri": "https://localhost:8080/",
          "height": 595
        },
        "id": "Rl1MuQhtqsg2",
        "outputId": "096bda8a-a733-4bb3-e560-5fe18015b982"
      },
      "source": [
        "plt.figure(figsize = (10,10))\n",
        "plt.plot(A_train, linewidth = 2, c='b', label = \"train\")\n",
        "plt.plot(A_test, linewidth = 2, c='r', label = \"test\")\n",
        "plt.legend()\n",
        "plt.show()"
      ],
      "execution_count": 45,
      "outputs": [
        {
          "output_type": "display_data",
          "data": {
            "image/png": "[encoded data removed]",
            "text/plain": [
              "<Figure size 720x720 with 1 Axes>"
            ]
          },
          "metadata": {
            "tags": [],
            "needs_background": "light"
          }
        }
      ]
    },
    {
      "cell_type": "code",
      "metadata": {
        "colab": {
          "base_uri": "https://localhost:8080/",
          "height": 592
        },
        "id": "kvKCJtoFEvt4",
        "outputId": "28a5afb9-ac12-4054-ed88-d82da4ed01ff"
      },
      "source": [
        "plt.figure(figsize = (10,10))\n",
        "plt.plot(L_train_128, linewidth = 2, c='b', label = \"train\")\n",
        "plt.plot(L_test_128, linewidth = 2, c='r', label = \"test\")\n",
        "plt.legend()\n",
        "plt.show()"
      ],
      "execution_count": null,
      "outputs": [
        {
          "output_type": "display_data",
          "data": {
            "image/png": "[encoded data removed]",
            "text/plain": [
              "<Figure size 720x720 with 1 Axes>"
            ]
          },
          "metadata": {
            "tags": [],
            "needs_background": "light"
          }
        }
      ]
    },
    {
      "cell_type": "code",
      "metadata": {
        "colab": {
          "base_uri": "https://localhost:8080/",
          "height": 592
        },
        "id": "UFN7TrxPExrP",
        "outputId": "4a7bf50b-83d3-43ba-c483-ff89d0cbc07e"
      },
      "source": [
        "plt.figure(figsize = (10,10))\n",
        "plt.plot(A_train_128, linewidth = 2, c='b', label = \"train\")\n",
        "plt.plot(A_test_128, linewidth = 2, c='r', label = \"test\")\n",
        "plt.legend()\n",
        "plt.show()"
      ],
      "execution_count": null,
      "outputs": [
        {
          "output_type": "display_data",
          "data": {
            "image/png": "[encoded data removed]",
            "text/plain": [
              "<Figure size 720x720 with 1 Axes>"
            ]
          },
          "metadata": {
            "tags": [],
            "needs_background": "light"
          }
        }
      ]
    },
    {
      "cell_type": "markdown",
      "metadata": {
        "id": "z4L9RrzOz5xl"
      },
      "source": [
        "# 5. Output\n",
        "<hr>"
      ]
    },
    {
      "cell_type": "markdown",
      "metadata": {
        "id": "alN6-n0r0DTO"
      },
      "source": [
        "## 1. Plot the training and testing losses with a batch size of 32"
      ]
    },
    {
      "cell_type": "code",
      "metadata": {
        "colab": {
          "base_uri": "https://localhost:8080/",
          "height": 612
        },
        "id": "JkmViURKU3EK",
        "outputId": "fced09f0-a857-4144-cdf0-bfcaaef6c268"
      },
      "source": [
        "plt.figure(figsize = (10,10))\n",
        "plt.title(\"Loss Batch size = 32\", fontsize = 20)\n",
        "plt.plot(L_train_32, linewidth = 2, c='b', label = \"train\")\n",
        "plt.plot(L_test_32, linewidth = 2, c='r', label = \"test\")\n",
        "plt.legend()\n",
        "plt.show()"
      ],
      "execution_count": null,
      "outputs": [
        {
          "output_type": "display_data",
          "data": {
            "image/png": "[encoded data removed]",
            "text/plain": [
              "<Figure size 720x720 with 1 Axes>"
            ]
          },
          "metadata": {
            "tags": [],
            "needs_background": "light"
          }
        }
      ]
    },
    {
      "cell_type": "markdown",
      "metadata": {
        "id": "4t1dSyC1AVe0"
      },
      "source": [
        "## 2. Plot the training and testing accuracies with a batch size of 32"
      ]
    },
    {
      "cell_type": "code",
      "metadata": {
        "colab": {
          "base_uri": "https://localhost:8080/",
          "height": 612
        },
        "id": "2HR7uJ6eAAyH",
        "outputId": "b96338ad-1fc2-4b48-b899-dfcb7f4428a5"
      },
      "source": [
        "plt.figure(figsize = (10,10))\n",
        "plt.title(\"Accuracy Batch size = 32\", fontsize = 20)\n",
        "plt.plot(A_train_32, linewidth = 2, c='b', label = \"train\")\n",
        "plt.plot(A_test_32, linewidth = 2, c='r', label = \"test\")\n",
        "plt.legend()\n",
        "plt.show()"
      ],
      "execution_count": null,
      "outputs": [
        {
          "output_type": "display_data",
          "data": {
            "image/png": "[encoded data removed]",
            "text/plain": [
              "<Figure size 720x720 with 1 Axes>"
            ]
          },
          "metadata": {
            "tags": [],
            "needs_background": "light"
          }
        }
      ]
    },
    {
      "cell_type": "markdown",
      "metadata": {
        "id": "px7XRkcnAnc7"
      },
      "source": [
        "## 3. Plot the training and testing losses with a batch size of 64"
      ]
    },
    {
      "cell_type": "code",
      "metadata": {
        "colab": {
          "base_uri": "https://localhost:8080/",
          "height": 612
        },
        "id": "uPdBBYyQAeCs",
        "outputId": "ac130c8e-e70f-4216-90c1-b0526e321005"
      },
      "source": [
        "plt.figure(figsize = (10,10))\n",
        "plt.title(\"Loss Batch size = 64\", fontsize = 20)\n",
        "plt.plot(L_train_64, linewidth = 2, c='b', label = \"train\")\n",
        "plt.plot(L_test_64, linewidth = 2, c='r', label = \"test\")\n",
        "plt.legend()\n",
        "plt.show()"
      ],
      "execution_count": null,
      "outputs": [
        {
          "output_type": "display_data",
          "data": {
            "image/png": "[encoded data removed]",
            "text/plain": [
              "<Figure size 720x720 with 1 Axes>"
            ]
          },
          "metadata": {
            "tags": [],
            "needs_background": "light"
          }
        }
      ]
    },
    {
      "cell_type": "markdown",
      "metadata": {
        "id": "gW87VTpwAtMB"
      },
      "source": [
        "## 4. Plot the training and testing accuracies with a batch size of 64"
      ]
    },
    {
      "cell_type": "code",
      "metadata": {
        "colab": {
          "base_uri": "https://localhost:8080/",
          "height": 612
        },
        "id": "yLWQ3VQ6Asaw",
        "outputId": "5ae25950-6f96-4799-fe13-09b576ade00b"
      },
      "source": [
        "plt.figure(figsize = (10,10))\n",
        "plt.title(\"Accuracy Batch size = 64\", fontsize = 20)\n",
        "plt.plot(A_train_64, linewidth = 2, c='b', label = \"train\")\n",
        "plt.plot(A_test_64, linewidth = 2, c='r', label = \"test\")\n",
        "plt.legend()\n",
        "plt.show()"
      ],
      "execution_count": null,
      "outputs": [
        {
          "output_type": "display_data",
          "data": {
            "image/png": "[encoded data removed]",
            "text/plain": [
              "<Figure size 720x720 with 1 Axes>"
            ]
          },
          "metadata": {
            "tags": [],
            "needs_background": "light"
          }
        }
      ]
    },
    {
      "cell_type": "markdown",
      "metadata": {
        "id": "Kl5XI9EVA6QH"
      },
      "source": [
        "## 5. Plot the training and testing losses with a batch size of 128"
      ]
    },
    {
      "cell_type": "code",
      "metadata": {
        "colab": {
          "base_uri": "https://localhost:8080/",
          "height": 612
        },
        "id": "Q8dt46BJA5jZ",
        "outputId": "2451d01c-6a89-488a-f498-e3029acbe938"
      },
      "source": [
        "plt.figure(figsize = (10,10))\n",
        "plt.title(\"Loss Batch size = 128\", fontsize = 20)\n",
        "plt.plot(L_train_128, linewidth = 2, c='b', label = \"train\")\n",
        "plt.plot(L_test_128, linewidth = 2, c='r', label = \"test\")\n",
        "plt.legend()\n",
        "plt.show()"
      ],
      "execution_count": null,
      "outputs": [
        {
          "output_type": "display_data",
          "data": {
            "image/png": "[encoded data removed]",
            "text/plain": [
              "<Figure size 720x720 with 1 Axes>"
            ]
          },
          "metadata": {
            "tags": [],
            "needs_background": "light"
          }
        }
      ]
    },
    {
      "cell_type": "markdown",
      "metadata": {
        "id": "10I91neJBHb1"
      },
      "source": [
        "## 6. Plot the training and testing accuracies with a batch size of 128"
      ]
    },
    {
      "cell_type": "code",
      "metadata": {
        "colab": {
          "base_uri": "https://localhost:8080/",
          "height": 612
        },
        "id": "l-3GWT9QBD6l",
        "outputId": "529b98a4-b7c6-4bd6-bf74-3b15cdc9f339"
      },
      "source": [
        "plt.figure(figsize = (10,10))\n",
        "plt.title(\"Accuracy Batch size = 128\", fontsize = 20)\n",
        "plt.plot(A_train_128, linewidth = 2, c='b', label = \"train\")\n",
        "plt.plot(A_test_128, linewidth = 2, c='r', label = \"test\")\n",
        "plt.legend()\n",
        "plt.show()"
      ],
      "execution_count": null,
      "outputs": [
        {
          "output_type": "display_data",
          "data": {
            "image/png": "[encoded data removed]",
            "text/plain": [
              "<Figure size 720x720 with 1 Axes>"
            ]
          },
          "metadata": {
            "tags": [],
            "needs_background": "light"
          }
        }
      ]
    },
    {
      "cell_type": "markdown",
      "metadata": {
        "id": "iDI0NljKBNF9"
      },
      "source": [
        "## 7. Print the loss at convergence with different mini-batch sizes"
      ]
    },
    {
      "cell_type": "code",
      "metadata": {
        "colab": {
          "base_uri": "https://localhost:8080/"
        },
        "id": "g8fXzh2gBL2i",
        "outputId": "055350b4-a822-42e0-da76-526cdd2d1baf"
      },
      "source": [
        "print(\"mini-batch size   32    64    128\")\n",
        "print(\"training loss    %.2f  %.2f   %.2f\" %(L_train_32[-1], L_train_64[-1], L_train_128[-1]))\n",
        "print(\"testing loss     %.2f  %.2f   %.2f\" %(L_test_32[-1], L_test_64[-1], L_test_128[-1]))"
      ],
      "execution_count": null,
      "outputs": [
        {
          "output_type": "stream",
          "text": [
            "mini-batch size   32    64    128\n",
            "training loss    0.07  0.15   0.24\n",
            "testing loss     0.09  0.15   0.23\n"
          ],
          "name": "stdout"
        }
      ]
    },
    {
      "cell_type": "markdown",
      "metadata": {
        "id": "ifTX7c5MCLSf"
      },
      "source": [
        "## 8. Print the accuracy at convergence with different mini-batch sizes"
      ]
    },
    {
      "cell_type": "code",
      "metadata": {
        "colab": {
          "base_uri": "https://localhost:8080/"
        },
        "id": "znr9ilrfBid7",
        "outputId": "2f4f31c0-0e42-4f35-8340-a70e54d14ce0"
      },
      "source": [
        "print(\"mini-batch size   32    64    128\")\n",
        "print(\"training loss    %.2f  %.2f   %.2f\" %(A_train_32[-1], A_train_64[-1], A_train_128[-1]))\n",
        "print(\"testing loss     %.2f  %.2f   %.2f\" %(A_test_32[-1], A_test_64[-1], A_test_128[-1]))"
      ],
      "execution_count": null,
      "outputs": [
        {
          "output_type": "stream",
          "text": [
            "mini-batch size   32    64    128\n",
            "training loss    0.98  0.96   0.93\n",
            "testing loss     0.97  0.96   0.93\n"
          ],
          "name": "stdout"
        }
      ]
    },
    {
      "cell_type": "code",
      "metadata": {
        "id": "mpgCDaBpCWT_"
      },
      "source": [
        ""
      ],
      "execution_count": null,
      "outputs": []
    }
  ]
}