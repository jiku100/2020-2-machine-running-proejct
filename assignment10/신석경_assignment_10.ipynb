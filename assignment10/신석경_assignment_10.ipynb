{
  "nbformat": 4,
  "nbformat_minor": 0,
  "metadata": {
    "accelerator": "GPU",
    "colab": {
      "name": "신석경_assignment_10",
      "provenance": [],
      "collapsed_sections": [],
      "authorship_tag": "ABX9TyP3Ua0ppGSAccU9mJITnHuT",
      "include_colab_link": true
    },
    "kernelspec": {
      "display_name": "Python 3",
      "name": "python3"
    }
  },
  "cells": [
    {
      "cell_type": "markdown",
      "metadata": {
        "id": "view-in-github",
        "colab_type": "text"
      },
      "source": [
        "<a href=\"https://colab.research.google.com/github/jiku100/2020-2-machine-running-proejct/blob/master/assignment10/%EC%8B%A0%EC%84%9D%EA%B2%BD_assignment_10.ipynb\" target=\"_parent\"><img src=\"https://colab.research.google.com/assets/colab-badge.svg\" alt=\"Open In Colab\"/></a>"
      ]
    },
    {
      "cell_type": "markdown",
      "metadata": {
        "id": "0gzdXwFJz0KJ"
      },
      "source": [
        "# **Classification for Multiple Categories using Pytorch for best accuracy**\n",
        "\n"
      ]
    },
    {
      "cell_type": "markdown",
      "metadata": {
        "id": "w_C7Cujjz4ff"
      },
      "source": [
        "# 1. Import library\n",
        "<hr>"
      ]
    },
    {
      "cell_type": "code",
      "metadata": {
        "id": "gtlbKT3Izgre"
      },
      "source": [
        "import torch\n",
        "import torch.nn as nn\n",
        "import torch.optim as optim\n",
        "import torch.nn.init as init\n",
        "import torchvision\n",
        "import torchvision.transforms as transforms\n",
        "import torchvision.datasets as datasets\n",
        "from torch.utils.data import DataLoader\n",
        "\n",
        "import matplotlib.pyplot as plt\n",
        "import cv2\n",
        "import numpy as np"
      ],
      "execution_count": 1,
      "outputs": []
    },
    {
      "cell_type": "code",
      "metadata": {
        "colab": {
          "base_uri": "https://localhost:8080/"
        },
        "id": "JC9KWsHg7lTJ",
        "outputId": "948e2798-614c-49f2-e1bb-f50c73c0f517"
      },
      "source": [
        "USE_CUDA = torch.cuda.is_available()\n",
        "device = torch.device(\"cuda\" if USE_CUDA else \"cpu\")\n",
        "print(\"다음 기기로 학습합니다:\", device)"
      ],
      "execution_count": 2,
      "outputs": [
        {
          "output_type": "stream",
          "text": [
            "다음 기기로 학습합니다: cuda\n"
          ],
          "name": "stdout"
        }
      ]
    },
    {
      "cell_type": "markdown",
      "metadata": {
        "id": "nBCurPvD3NoM"
      },
      "source": [
        "# 2. Preprocessing Data\n",
        "<hr>"
      ]
    },
    {
      "cell_type": "code",
      "metadata": {
        "id": "4tVba13YD-s9"
      },
      "source": [
        "transform_train = transforms.Compose([\n",
        "        transforms.ToTensor(),\n",
        "        transforms.RandomRotation(20),\n",
        "        transforms.Normalize((0.1307,),(0.3081,))                    # 이미지를 텐서로 변형합니다.\n",
        "])\n",
        "\n",
        "transform_test = transforms.Compose([\n",
        "        transforms.ToTensor(), \n",
        "        transforms.Normalize((0.1307,),(0.3081,))            \n",
        "])"
      ],
      "execution_count": 3,
      "outputs": []
    },
    {
      "cell_type": "code",
      "metadata": {
        "id": "1uNdu0HqJEQv"
      },
      "source": [
        "data_path = './MNIST'\n",
        "\n",
        "data_test   = datasets.MNIST(root = data_path, train= True, download=True, transform= transform_test)\n",
        "data_train  = datasets.MNIST(root = data_path, train= False, download=True, transform= transform_train)"
      ],
      "execution_count": 4,
      "outputs": []
    },
    {
      "cell_type": "code",
      "metadata": {
        "colab": {
          "base_uri": "https://localhost:8080/",
          "height": 387
        },
        "id": "8SJcK-t2D3Bp",
        "outputId": "66f10ce3-7130-4ae3-e166-875b60e044a4"
      },
      "source": [
        "one_image, label = data_train[0]\n",
        "print(\"type of one image\", type(one_image))\n",
        "print(\"size of one image : \", one_image.shape)\n",
        "plt.imshow(one_image.squeeze().numpy(), cmap='gray')\n",
        "print(\"type of label : \", type(label))\n",
        "print(\"label : \", label)\n",
        "print(np.max(data_train.train_data[0].view(-1).numpy()))"
      ],
      "execution_count": 5,
      "outputs": [
        {
          "output_type": "stream",
          "text": [
            "type of one image <class 'torch.Tensor'>\n",
            "size of one image :  torch.Size([1, 28, 28])\n",
            "type of label :  <class 'int'>\n",
            "label :  7\n",
            "255\n"
          ],
          "name": "stdout"
        },
        {
          "output_type": "stream",
          "text": [
            "/usr/local/lib/python3.6/dist-packages/torchvision/datasets/mnist.py:58: UserWarning: train_data has been renamed data\n",
            "  warnings.warn(\"train_data has been renamed data\")\n"
          ],
          "name": "stderr"
        },
        {
          "output_type": "display_data",
          "data": {
            "image/png": "[encoded data removed]",
            "text/plain": [
              "<Figure size 432x288 with 1 Axes>"
            ]
          },
          "metadata": {
            "tags": [],
            "needs_background": "light"
          }
        }
      ]
    },
    {
      "cell_type": "code",
      "metadata": {
        "id": "lUj2JTgY4r4c"
      },
      "source": [
        "learning_rate = 0.0015\n",
        "training_epochs = 600\n",
        "batch_size = 32\n",
        "drop_prob = 0.4"
      ],
      "execution_count": 6,
      "outputs": []
    },
    {
      "cell_type": "code",
      "metadata": {
        "id": "CkgCtS3b3giF"
      },
      "source": [
        "train_loader = DataLoader(dataset = data_train, batch_size = batch_size, num_workers = 2, shuffle = True) ## batch size 32 짜리 train loader 생성\n",
        "test_loader = DataLoader(dataset = data_test, batch_size = batch_size, num_workers = 2, shuffle = True) ## batch size 32 짜리 test loader 생성"
      ],
      "execution_count": 7,
      "outputs": []
    },
    {
      "cell_type": "markdown",
      "metadata": {
        "id": "SCsB9Pdk6zd7"
      },
      "source": [
        "# 3. Define Model\n",
        "<hr>"
      ]
    },
    {
      "cell_type": "code",
      "metadata": {
        "id": "-cUHqcW25etQ"
      },
      "source": [
        "class classification(nn.Module):\n",
        "    def __init__(self):\n",
        "        super(classification, self).__init__()\n",
        "        \n",
        "        # construct layers for a neural network\n",
        "        self.classifier1 = nn.Sequential(\n",
        "            nn.Linear(in_features=28*28, out_features=400),\n",
        "            nn.BatchNorm1d(400),\n",
        "            nn.ReLU(),\n",
        "            nn.Dropout(p=drop_prob)\n",
        "        ) \n",
        "        self.classifier2 = nn.Sequential(\n",
        "            nn.Linear(in_features=400, out_features=100),\n",
        "            nn.BatchNorm1d(100),\n",
        "            nn.ReLU(),\n",
        "            nn.Dropout(p=drop_prob)\n",
        "        ) \n",
        "        self.classifier3 = nn.Sequential(\n",
        "            nn.Linear(in_features=100, out_features=10),\n",
        "        ) \n",
        "\n",
        "        # for m in self.modules():\n",
        "        #   if isinstance(m, nn.Linear):\n",
        "        #     init.kaiming_normal_(m.weight.data) # Kaming He Initialization\n",
        "        #     m.bias.data.fill_(0)                # 편차를 0으로 초기화 \n",
        "\n",
        "    def forward(self, inputs):                 # [batchSize, 1, 28, 28]\n",
        "        x = inputs.view(inputs.size(0), -1)    # [batchSize, 28*28]\n",
        "        x = self.classifier1(x)                # [batchSize, 20*20]\n",
        "        x = self.classifier2(x)                # [batchSize, 10*10]\n",
        "        out = self.classifier3(x)              # [batchSize, 10]\n",
        "        \n",
        "        return out\n",
        "\n"
      ],
      "execution_count": 8,
      "outputs": []
    },
    {
      "cell_type": "code",
      "metadata": {
        "id": "MWYQ30d37dwC"
      },
      "source": [
        "model = classification().to(device)"
      ],
      "execution_count": 9,
      "outputs": []
    },
    {
      "cell_type": "code",
      "metadata": {
        "id": "-GpzWr1V64wc"
      },
      "source": [
        "criterion = nn.CrossEntropyLoss().to(device)    # Softmax is internally computed.\n",
        "optimizer = torch.optim.Adam(model.parameters(), lr=learning_rate)\n",
        "scheduler = optim.lr_scheduler.StepLR(optimizer, 100, gamma=0.1, last_epoch=-1)"
      ],
      "execution_count": 10,
      "outputs": []
    },
    {
      "cell_type": "markdown",
      "metadata": {
        "id": "lsNWP3Wk8Siq"
      },
      "source": [
        "# 4. Training\n",
        "<hr>"
      ]
    },
    {
      "cell_type": "code",
      "metadata": {
        "id": "1_QSSPkC7sCr"
      },
      "source": [
        "total_batch= len(train_loader)"
      ],
      "execution_count": 11,
      "outputs": []
    },
    {
      "cell_type": "code",
      "metadata": {
        "colab": {
          "base_uri": "https://localhost:8080/"
        },
        "id": "9_SeUrHB5gLH",
        "outputId": "76dbb2c2-4454-4005-ba46-665801bc754d"
      },
      "source": [
        "print(total_batch)"
      ],
      "execution_count": 12,
      "outputs": [
        {
          "output_type": "stream",
          "text": [
            "313\n"
          ],
          "name": "stdout"
        }
      ]
    },
    {
      "cell_type": "code",
      "metadata": {
        "id": "eaJMZ8TvcglJ"
      },
      "source": [
        "def accuracy(log_pred, y_true):\n",
        "    y_pred = torch.argmax(log_pred, dim=1)\n",
        "    return (y_pred == y_true).to(torch.float).mean()"
      ],
      "execution_count": 13,
      "outputs": []
    },
    {
      "cell_type": "code",
      "metadata": {
        "id": "Kl5FuVgt8_LF"
      },
      "source": [
        "def training(model, loss, optim, training_epochs, train_loader, test_loader):\n",
        "  L_iters_train = []\n",
        "  accuracy_train = []\n",
        "  L_iters_test = []\n",
        "  accuracy_test = []\n",
        "  for epoch in range(training_epochs):\n",
        "    total_cost_train = 0\n",
        "    total_cost_test = 0\n",
        "    total_acc_train = 0\n",
        "    total_acc_test = 0\n",
        "    model.train()\n",
        "    for X, Y in train_loader:\n",
        "      X = X.to(device)\n",
        "      Y = Y.to(device)\n",
        "\n",
        "      optim.zero_grad()\n",
        "      train_pred = model(X)\n",
        "      cost = loss(train_pred, Y)\n",
        "      cost.backward()\n",
        "      optim.step()\n",
        "\n",
        "      total_cost_train += cost\n",
        "      total_acc_train += accuracy(train_pred, Y)\n",
        "      \n",
        "    avg_cost_train = total_cost_train / len(train_loader)\n",
        "    avg_acc_train = total_acc_train / len(train_loader)\n",
        "\n",
        "    L_iters_train.append(avg_cost_train)\n",
        "    accuracy_train.append(avg_acc_train)\n",
        "    model.eval()\n",
        "    with torch.no_grad():\n",
        "      for X_test, Y_test in test_loader:\n",
        "        X_test = X_test.to(device)\n",
        "        Y_test = Y_test.to(device)\n",
        "        test_pred = model(X_test)\n",
        "        cost_test = loss(test_pred, Y_test)\n",
        "        total_cost_test += cost_test\n",
        "        total_acc_test += accuracy(test_pred, Y_test)\n",
        "      avg_cost_test = total_cost_test / len(test_loader)\n",
        "      avg_acc_test = total_acc_test / len(test_loader)\n",
        "    \n",
        "      accuracy_test.append(avg_acc_test)\n",
        "      L_iters_test.append(avg_cost_test)\n",
        "\n",
        "    print(\"Epoch: %02d Training Loss: %.9f Testing Loss: %.9f  Training Acc: %.9f Testing Acc: %.9f\" %((epoch + 1),avg_cost_train, avg_cost_test, avg_acc_train, avg_acc_test))\n",
        "  return L_iters_train, accuracy_train, L_iters_test, accuracy_test"
      ],
      "execution_count": 14,
      "outputs": []
    },
    {
      "cell_type": "code",
      "metadata": {
        "colab": {
          "base_uri": "https://localhost:8080/"
        },
        "id": "hOfKPriA84jq",
        "outputId": "1c4346ad-3a3b-452d-debb-99535330ffa9"
      },
      "source": [
        "L_train, A_train, L_test, A_test = training(model, criterion, optimizer, training_epochs, train_loader, test_loader)"
      ],
      "execution_count": 15,
      "outputs": [
        {
          "output_type": "stream",
          "text": [
            "Epoch: 01 Training Loss: 0.674379110 Testing Loss: 0.282798052  Training Acc: 0.810702860 Testing Acc: 0.915950000\n",
            "Epoch: 02 Training Loss: 0.391580403 Testing Loss: 0.211681306  Training Acc: 0.877196491 Testing Acc: 0.938066661\n",
            "Epoch: 03 Training Loss: 0.337955147 Testing Loss: 0.182519987  Training Acc: 0.895367384 Testing Acc: 0.945100009\n",
            "Epoch: 04 Training Loss: 0.295732945 Testing Loss: 0.161198899  Training Acc: 0.905551076 Testing Acc: 0.951483369\n",
            "Epoch: 05 Training Loss: 0.273140341 Testing Loss: 0.158408776  Training Acc: 0.914636552 Testing Acc: 0.952000022\n",
            "Epoch: 06 Training Loss: 0.247542411 Testing Loss: 0.137817040  Training Acc: 0.922224402 Testing Acc: 0.958100021\n",
            "Epoch: 07 Training Loss: 0.237068146 Testing Loss: 0.137817860  Training Acc: 0.925818682 Testing Acc: 0.958633363\n",
            "Epoch: 08 Training Loss: 0.231049329 Testing Loss: 0.131560475  Training Acc: 0.930311501 Testing Acc: 0.960666656\n",
            "Epoch: 09 Training Loss: 0.215406030 Testing Loss: 0.128056869  Training Acc: 0.930710852 Testing Acc: 0.961816669\n",
            "Epoch: 10 Training Loss: 0.200686321 Testing Loss: 0.127483562  Training Acc: 0.938498378 Testing Acc: 0.960616648\n",
            "Epoch: 11 Training Loss: 0.194943398 Testing Loss: 0.128546938  Training Acc: 0.939097404 Testing Acc: 0.961233318\n",
            "Epoch: 12 Training Loss: 0.205095351 Testing Loss: 0.122581787  Training Acc: 0.933406532 Testing Acc: 0.963616669\n",
            "Epoch: 13 Training Loss: 0.187343821 Testing Loss: 0.126293793  Training Acc: 0.939596653 Testing Acc: 0.962416649\n",
            "Epoch: 14 Training Loss: 0.188488379 Testing Loss: 0.113661826  Training Acc: 0.942392170 Testing Acc: 0.965700030\n",
            "Epoch: 15 Training Loss: 0.186724007 Testing Loss: 0.114345908  Training Acc: 0.941593409 Testing Acc: 0.965083361\n",
            "Epoch: 16 Training Loss: 0.173156917 Testing Loss: 0.112073213  Training Acc: 0.945686877 Testing Acc: 0.966499984\n",
            "Epoch: 17 Training Loss: 0.163682029 Testing Loss: 0.110035375  Training Acc: 0.947184503 Testing Acc: 0.967216671\n",
            "Epoch: 18 Training Loss: 0.170887917 Testing Loss: 0.111481234  Training Acc: 0.945686877 Testing Acc: 0.966616690\n",
            "Epoch: 19 Training Loss: 0.165214255 Testing Loss: 0.109609678  Training Acc: 0.948083043 Testing Acc: 0.967766702\n",
            "Epoch: 20 Training Loss: 0.155688480 Testing Loss: 0.110020980  Training Acc: 0.951277912 Testing Acc: 0.966583371\n",
            "Epoch: 21 Training Loss: 0.156399071 Testing Loss: 0.109415524  Training Acc: 0.950878561 Testing Acc: 0.967150033\n",
            "Epoch: 22 Training Loss: 0.155479148 Testing Loss: 0.100573428  Training Acc: 0.949480832 Testing Acc: 0.969883323\n",
            "Epoch: 23 Training Loss: 0.143972665 Testing Loss: 0.106971860  Training Acc: 0.955171704 Testing Acc: 0.967833340\n",
            "Epoch: 24 Training Loss: 0.155525312 Testing Loss: 0.109256610  Training Acc: 0.952875376 Testing Acc: 0.967533350\n",
            "Epoch: 25 Training Loss: 0.143976331 Testing Loss: 0.101026051  Training Acc: 0.955670893 Testing Acc: 0.970449984\n",
            "Epoch: 26 Training Loss: 0.148746312 Testing Loss: 0.097978428  Training Acc: 0.954672515 Testing Acc: 0.970966697\n",
            "Epoch: 27 Training Loss: 0.134952962 Testing Loss: 0.099652849  Training Acc: 0.953474402 Testing Acc: 0.970600009\n",
            "Epoch: 28 Training Loss: 0.153934851 Testing Loss: 0.100843444  Training Acc: 0.951477647 Testing Acc: 0.969733357\n",
            "Epoch: 29 Training Loss: 0.133764222 Testing Loss: 0.104636379  Training Acc: 0.956269979 Testing Acc: 0.969133317\n",
            "Epoch: 30 Training Loss: 0.136124432 Testing Loss: 0.103244230  Training Acc: 0.957867384 Testing Acc: 0.970266700\n",
            "Epoch: 31 Training Loss: 0.137189507 Testing Loss: 0.097734995  Training Acc: 0.954472840 Testing Acc: 0.970183372\n",
            "Epoch: 32 Training Loss: 0.127909333 Testing Loss: 0.098458037  Training Acc: 0.958666146 Testing Acc: 0.971599996\n",
            "Epoch: 33 Training Loss: 0.131355032 Testing Loss: 0.099089429  Training Acc: 0.958067060 Testing Acc: 0.970966697\n",
            "Epoch: 34 Training Loss: 0.132426366 Testing Loss: 0.103155538  Training Acc: 0.956669331 Testing Acc: 0.969266653\n",
            "Epoch: 35 Training Loss: 0.120471656 Testing Loss: 0.104713395  Training Acc: 0.961062312 Testing Acc: 0.969783366\n",
            "Epoch: 36 Training Loss: 0.120700441 Testing Loss: 0.095589019  Training Acc: 0.960762739 Testing Acc: 0.972533345\n",
            "Epoch: 37 Training Loss: 0.117604069 Testing Loss: 0.096984975  Training Acc: 0.962060690 Testing Acc: 0.972516656\n",
            "Epoch: 38 Training Loss: 0.115041211 Testing Loss: 0.103353605  Training Acc: 0.963458478 Testing Acc: 0.968800008\n",
            "Epoch: 39 Training Loss: 0.115919925 Testing Loss: 0.098956063  Training Acc: 0.962659717 Testing Acc: 0.971616685\n",
            "Epoch: 40 Training Loss: 0.116131485 Testing Loss: 0.095084228  Training Acc: 0.962060690 Testing Acc: 0.973200023\n",
            "Epoch: 41 Training Loss: 0.123459592 Testing Loss: 0.094112173  Training Acc: 0.961861014 Testing Acc: 0.973633349\n",
            "Epoch: 42 Training Loss: 0.110909253 Testing Loss: 0.094149858  Training Acc: 0.965055883 Testing Acc: 0.973466694\n",
            "Epoch: 43 Training Loss: 0.112766095 Testing Loss: 0.093879148  Training Acc: 0.964956045 Testing Acc: 0.972599983\n",
            "Epoch: 44 Training Loss: 0.101845764 Testing Loss: 0.092695393  Training Acc: 0.967551887 Testing Acc: 0.973616660\n",
            "Epoch: 45 Training Loss: 0.114965953 Testing Loss: 0.094435394  Training Acc: 0.964956045 Testing Acc: 0.972649992\n",
            "Epoch: 46 Training Loss: 0.106461078 Testing Loss: 0.091923520  Training Acc: 0.965555072 Testing Acc: 0.974150002\n",
            "Epoch: 47 Training Loss: 0.105390526 Testing Loss: 0.093634143  Training Acc: 0.965455234 Testing Acc: 0.973466694\n",
            "Epoch: 48 Training Loss: 0.098083772 Testing Loss: 0.099921308  Training Acc: 0.968450487 Testing Acc: 0.972566664\n",
            "Epoch: 49 Training Loss: 0.100870855 Testing Loss: 0.095050521  Training Acc: 0.965055883 Testing Acc: 0.973300040\n",
            "Epoch: 50 Training Loss: 0.106073581 Testing Loss: 0.097280078  Training Acc: 0.966353834 Testing Acc: 0.972316682\n",
            "Epoch: 51 Training Loss: 0.109088980 Testing Loss: 0.104403608  Training Acc: 0.966253996 Testing Acc: 0.971533358\n",
            "Epoch: 52 Training Loss: 0.099409580 Testing Loss: 0.093008116  Training Acc: 0.966154158 Testing Acc: 0.973466694\n",
            "Epoch: 53 Training Loss: 0.100310944 Testing Loss: 0.096831165  Training Acc: 0.968750000 Testing Acc: 0.973600030\n",
            "Epoch: 54 Training Loss: 0.103253387 Testing Loss: 0.092327632  Training Acc: 0.965954483 Testing Acc: 0.974083364\n",
            "Epoch: 55 Training Loss: 0.107421510 Testing Loss: 0.093551174  Training Acc: 0.964756370 Testing Acc: 0.973983347\n",
            "Epoch: 56 Training Loss: 0.093075424 Testing Loss: 0.094267763  Training Acc: 0.969648540 Testing Acc: 0.974083364\n",
            "Epoch: 57 Training Loss: 0.095478661 Testing Loss: 0.096540973  Training Acc: 0.967651725 Testing Acc: 0.973950028\n",
            "Epoch: 58 Training Loss: 0.096215837 Testing Loss: 0.098587908  Training Acc: 0.969349027 Testing Acc: 0.973416686\n",
            "Epoch: 59 Training Loss: 0.103136897 Testing Loss: 0.091957048  Training Acc: 0.966154158 Testing Acc: 0.974766672\n",
            "Epoch: 60 Training Loss: 0.094983779 Testing Loss: 0.094595075  Training Acc: 0.969249189 Testing Acc: 0.973833323\n",
            "Epoch: 61 Training Loss: 0.097378246 Testing Loss: 0.092190892  Training Acc: 0.969648540 Testing Acc: 0.975199997\n",
            "Epoch: 62 Training Loss: 0.090899177 Testing Loss: 0.091705292  Training Acc: 0.969448864 Testing Acc: 0.975266695\n",
            "Epoch: 63 Training Loss: 0.089923836 Testing Loss: 0.087308034  Training Acc: 0.970047891 Testing Acc: 0.975633323\n",
            "Epoch: 64 Training Loss: 0.087103203 Testing Loss: 0.094414398  Training Acc: 0.970247567 Testing Acc: 0.974283338\n",
            "Epoch: 65 Training Loss: 0.092737541 Testing Loss: 0.095136538  Training Acc: 0.969848216 Testing Acc: 0.973950028\n",
            "Epoch: 66 Training Loss: 0.092676289 Testing Loss: 0.091820762  Training Acc: 0.969448864 Testing Acc: 0.974783361\n",
            "Epoch: 67 Training Loss: 0.092184938 Testing Loss: 0.093245104  Training Acc: 0.970746815 Testing Acc: 0.974666655\n",
            "Epoch: 68 Training Loss: 0.088927567 Testing Loss: 0.093516588  Training Acc: 0.973442495 Testing Acc: 0.974483371\n",
            "Epoch: 69 Training Loss: 0.084928997 Testing Loss: 0.094373010  Training Acc: 0.972643733 Testing Acc: 0.974966705\n",
            "Epoch: 70 Training Loss: 0.082950346 Testing Loss: 0.093973048  Training Acc: 0.974041522 Testing Acc: 0.974733353\n",
            "Epoch: 71 Training Loss: 0.092852578 Testing Loss: 0.092191376  Training Acc: 0.969848216 Testing Acc: 0.974583328\n",
            "Epoch: 72 Training Loss: 0.086964697 Testing Loss: 0.094648145  Training Acc: 0.971645355 Testing Acc: 0.974600017\n",
            "Epoch: 73 Training Loss: 0.094234139 Testing Loss: 0.096220650  Training Acc: 0.968849838 Testing Acc: 0.974700034\n",
            "Epoch: 74 Training Loss: 0.098061323 Testing Loss: 0.093982451  Training Acc: 0.967551887 Testing Acc: 0.975433350\n",
            "Epoch: 75 Training Loss: 0.100606568 Testing Loss: 0.092570245  Training Acc: 0.968350649 Testing Acc: 0.974466681\n",
            "Epoch: 76 Training Loss: 0.081364997 Testing Loss: 0.086210638  Training Acc: 0.971345842 Testing Acc: 0.975966692\n",
            "Epoch: 77 Training Loss: 0.087162912 Testing Loss: 0.092370644  Training Acc: 0.972543895 Testing Acc: 0.975750029\n",
            "Epoch: 78 Training Loss: 0.080780536 Testing Loss: 0.092427753  Training Acc: 0.973642170 Testing Acc: 0.975000024\n",
            "Epoch: 79 Training Loss: 0.079464339 Testing Loss: 0.095411949  Training Acc: 0.973841846 Testing Acc: 0.974233329\n",
            "Epoch: 80 Training Loss: 0.078094125 Testing Loss: 0.095124282  Training Acc: 0.975539148 Testing Acc: 0.974416673\n",
            "Epoch: 81 Training Loss: 0.081169933 Testing Loss: 0.092741959  Training Acc: 0.972643733 Testing Acc: 0.975483358\n",
            "Epoch: 82 Training Loss: 0.079092816 Testing Loss: 0.091829181  Training Acc: 0.975139737 Testing Acc: 0.975233316\n",
            "Epoch: 83 Training Loss: 0.085589193 Testing Loss: 0.093204439  Training Acc: 0.972943246 Testing Acc: 0.975633323\n",
            "Epoch: 84 Training Loss: 0.082250379 Testing Loss: 0.087734677  Training Acc: 0.970946491 Testing Acc: 0.976266682\n",
            "Epoch: 85 Training Loss: 0.080211423 Testing Loss: 0.094076030  Training Acc: 0.974540710 Testing Acc: 0.974816680\n",
            "Epoch: 86 Training Loss: 0.093974084 Testing Loss: 0.091005415  Training Acc: 0.970746815 Testing Acc: 0.975499988\n",
            "Epoch: 87 Training Loss: 0.076529130 Testing Loss: 0.089728378  Training Acc: 0.977036715 Testing Acc: 0.976199985\n",
            "Epoch: 88 Training Loss: 0.084511280 Testing Loss: 0.089739330  Training Acc: 0.972144544 Testing Acc: 0.975600004\n",
            "Epoch: 89 Training Loss: 0.080587208 Testing Loss: 0.090891361  Training Acc: 0.973742008 Testing Acc: 0.975716650\n",
            "Epoch: 90 Training Loss: 0.081191450 Testing Loss: 0.093014501  Training Acc: 0.974041522 Testing Acc: 0.975899994\n",
            "Epoch: 91 Training Loss: 0.077609383 Testing Loss: 0.093816429  Training Acc: 0.975239575 Testing Acc: 0.975700021\n",
            "Epoch: 92 Training Loss: 0.085489094 Testing Loss: 0.098454870  Training Acc: 0.974241197 Testing Acc: 0.974799991\n",
            "Epoch: 93 Training Loss: 0.081184529 Testing Loss: 0.095300280  Training Acc: 0.971845031 Testing Acc: 0.975266695\n",
            "Epoch: 94 Training Loss: 0.078311175 Testing Loss: 0.093968302  Training Acc: 0.976737201 Testing Acc: 0.975400031\n",
            "Epoch: 95 Training Loss: 0.081957079 Testing Loss: 0.092178077  Training Acc: 0.975439250 Testing Acc: 0.976383328\n",
            "Epoch: 96 Training Loss: 0.081156403 Testing Loss: 0.099682830  Training Acc: 0.975439250 Testing Acc: 0.974449992\n",
            "Epoch: 97 Training Loss: 0.082260817 Testing Loss: 0.091815703  Training Acc: 0.973742008 Testing Acc: 0.976416707\n",
            "Epoch: 98 Training Loss: 0.080927432 Testing Loss: 0.091481641  Training Acc: 0.973742008 Testing Acc: 0.976166666\n",
            "Epoch: 99 Training Loss: 0.075096481 Testing Loss: 0.091796339  Training Acc: 0.976038337 Testing Acc: 0.975450039\n",
            "Epoch: 100 Training Loss: 0.072258681 Testing Loss: 0.092614785  Training Acc: 0.976138175 Testing Acc: 0.975916684\n",
            "Epoch: 101 Training Loss: 0.073751830 Testing Loss: 0.098536141  Training Acc: 0.975139737 Testing Acc: 0.974916697\n",
            "Epoch: 102 Training Loss: 0.081000388 Testing Loss: 0.093338162  Training Acc: 0.974341035 Testing Acc: 0.975549996\n",
            "Epoch: 103 Training Loss: 0.080697797 Testing Loss: 0.095541038  Training Acc: 0.974241197 Testing Acc: 0.975316703\n",
            "Epoch: 104 Training Loss: 0.076227717 Testing Loss: 0.095800377  Training Acc: 0.976038337 Testing Acc: 0.975283325\n",
            "Epoch: 105 Training Loss: 0.071314923 Testing Loss: 0.099207886  Training Acc: 0.975039899 Testing Acc: 0.974583328\n",
            "Epoch: 106 Training Loss: 0.072247833 Testing Loss: 0.093726687  Training Acc: 0.978134990 Testing Acc: 0.975166678\n",
            "Epoch: 107 Training Loss: 0.081743315 Testing Loss: 0.092307784  Training Acc: 0.972643733 Testing Acc: 0.975899994\n",
            "Epoch: 108 Training Loss: 0.073592141 Testing Loss: 0.095401883  Training Acc: 0.976238012 Testing Acc: 0.975233316\n",
            "Epoch: 109 Training Loss: 0.075877331 Testing Loss: 0.095576979  Training Acc: 0.976837039 Testing Acc: 0.974533319\n",
            "Epoch: 110 Training Loss: 0.079525493 Testing Loss: 0.103474565  Training Acc: 0.974540710 Testing Acc: 0.973150015\n",
            "Epoch: 111 Training Loss: 0.075267032 Testing Loss: 0.090726063  Training Acc: 0.975039899 Testing Acc: 0.976083338\n",
            "Epoch: 112 Training Loss: 0.070787169 Testing Loss: 0.092119694  Training Acc: 0.976637363 Testing Acc: 0.976533353\n",
            "Epoch: 113 Training Loss: 0.067160830 Testing Loss: 0.094252616  Training Acc: 0.978434503 Testing Acc: 0.975616693\n",
            "Epoch: 114 Training Loss: 0.066201381 Testing Loss: 0.097024091  Training Acc: 0.977336228 Testing Acc: 0.975350022\n",
            "Epoch: 115 Training Loss: 0.063849933 Testing Loss: 0.092926115  Training Acc: 0.979233205 Testing Acc: 0.976583362\n",
            "Epoch: 116 Training Loss: 0.069882415 Testing Loss: 0.096941724  Training Acc: 0.976737201 Testing Acc: 0.975233316\n",
            "Epoch: 117 Training Loss: 0.080052070 Testing Loss: 0.094677329  Training Acc: 0.974141359 Testing Acc: 0.976066649\n",
            "Epoch: 118 Training Loss: 0.071960337 Testing Loss: 0.092404343  Training Acc: 0.976437688 Testing Acc: 0.976283371\n",
            "Epoch: 119 Training Loss: 0.068837360 Testing Loss: 0.093765572  Training Acc: 0.978035152 Testing Acc: 0.976133347\n",
            "Epoch: 120 Training Loss: 0.061352786 Testing Loss: 0.099895261  Training Acc: 0.981130183 Testing Acc: 0.974416673\n",
            "Epoch: 121 Training Loss: 0.068426080 Testing Loss: 0.100954287  Training Acc: 0.977036715 Testing Acc: 0.973416686\n",
            "Epoch: 122 Training Loss: 0.068814993 Testing Loss: 0.098461173  Training Acc: 0.975638986 Testing Acc: 0.975416660\n",
            "Epoch: 123 Training Loss: 0.064624384 Testing Loss: 0.095342211  Training Acc: 0.977935314 Testing Acc: 0.976249993\n",
            "Epoch: 124 Training Loss: 0.072274230 Testing Loss: 0.092247240  Training Acc: 0.979033530 Testing Acc: 0.976483345\n",
            "Epoch: 125 Training Loss: 0.068592511 Testing Loss: 0.097781546  Training Acc: 0.978035152 Testing Acc: 0.974883318\n",
            "Epoch: 126 Training Loss: 0.070228040 Testing Loss: 0.095258571  Training Acc: 0.977635741 Testing Acc: 0.975800037\n",
            "Epoch: 127 Training Loss: 0.058712389 Testing Loss: 0.092542350  Training Acc: 0.979932070 Testing Acc: 0.977033317\n",
            "Epoch: 128 Training Loss: 0.078000054 Testing Loss: 0.092702478  Training Acc: 0.977036715 Testing Acc: 0.976466656\n",
            "Epoch: 129 Training Loss: 0.076058075 Testing Loss: 0.093434855  Training Acc: 0.974440873 Testing Acc: 0.976566672\n",
            "Epoch: 130 Training Loss: 0.062385712 Testing Loss: 0.093531244  Training Acc: 0.978334665 Testing Acc: 0.976549983\n",
            "Epoch: 131 Training Loss: 0.069146857 Testing Loss: 0.093251072  Training Acc: 0.978634179 Testing Acc: 0.976549983\n",
            "Epoch: 132 Training Loss: 0.070306733 Testing Loss: 0.098121285  Training Acc: 0.977535903 Testing Acc: 0.975400031\n",
            "Epoch: 133 Training Loss: 0.074980192 Testing Loss: 0.096069396  Training Acc: 0.975139737 Testing Acc: 0.975883365\n",
            "Epoch: 134 Training Loss: 0.068096854 Testing Loss: 0.099958867  Training Acc: 0.977735579 Testing Acc: 0.975600004\n",
            "Epoch: 135 Training Loss: 0.072188728 Testing Loss: 0.090305358  Training Acc: 0.974840224 Testing Acc: 0.976899981\n",
            "Epoch: 136 Training Loss: 0.064569600 Testing Loss: 0.093964808  Training Acc: 0.978833854 Testing Acc: 0.976249993\n",
            "Epoch: 137 Training Loss: 0.070374250 Testing Loss: 0.090979382  Training Acc: 0.977735579 Testing Acc: 0.976599991\n",
            "Epoch: 138 Training Loss: 0.062706575 Testing Loss: 0.106065601  Training Acc: 0.980131745 Testing Acc: 0.973866701\n",
            "Epoch: 139 Training Loss: 0.069622077 Testing Loss: 0.090201281  Training Acc: 0.977236390 Testing Acc: 0.977800012\n",
            "Epoch: 140 Training Loss: 0.072461762 Testing Loss: 0.096824236  Training Acc: 0.975239575 Testing Acc: 0.975849986\n",
            "Epoch: 141 Training Loss: 0.071375810 Testing Loss: 0.091384664  Training Acc: 0.976936877 Testing Acc: 0.976816654\n",
            "Epoch: 142 Training Loss: 0.061636358 Testing Loss: 0.097705968  Training Acc: 0.979832232 Testing Acc: 0.975166678\n",
            "Epoch: 143 Training Loss: 0.066247948 Testing Loss: 0.098055102  Training Acc: 0.979033530 Testing Acc: 0.975966692\n",
            "Epoch: 144 Training Loss: 0.061108742 Testing Loss: 0.097015083  Training Acc: 0.978933692 Testing Acc: 0.976116657\n",
            "Epoch: 145 Training Loss: 0.065514907 Testing Loss: 0.096339092  Training Acc: 0.978933692 Testing Acc: 0.976366699\n",
            "Epoch: 146 Training Loss: 0.067430288 Testing Loss: 0.093723550  Training Acc: 0.977535903 Testing Acc: 0.976816654\n",
            "Epoch: 147 Training Loss: 0.063131317 Testing Loss: 0.090459466  Training Acc: 0.980331481 Testing Acc: 0.977366686\n",
            "Epoch: 148 Training Loss: 0.066030510 Testing Loss: 0.096677057  Training Acc: 0.979133368 Testing Acc: 0.975966692\n",
            "Epoch: 149 Training Loss: 0.062675960 Testing Loss: 0.093847223  Training Acc: 0.980031908 Testing Acc: 0.976483345\n",
            "Epoch: 150 Training Loss: 0.070248522 Testing Loss: 0.094645858  Training Acc: 0.980131745 Testing Acc: 0.976300001\n",
            "Epoch: 151 Training Loss: 0.058987156 Testing Loss: 0.098590448  Training Acc: 0.979932070 Testing Acc: 0.975266695\n",
            "Epoch: 152 Training Loss: 0.058642510 Testing Loss: 0.100459062  Training Acc: 0.980331481 Testing Acc: 0.975583315\n",
            "Epoch: 153 Training Loss: 0.064910822 Testing Loss: 0.091013312  Training Acc: 0.978334665 Testing Acc: 0.977783322\n",
            "Epoch: 154 Training Loss: 0.066298932 Testing Loss: 0.091805339  Training Acc: 0.980431318 Testing Acc: 0.977466702\n",
            "Epoch: 155 Training Loss: 0.058866702 Testing Loss: 0.093077078  Training Acc: 0.980231583 Testing Acc: 0.976866663\n",
            "Epoch: 156 Training Loss: 0.062885590 Testing Loss: 0.091900058  Training Acc: 0.979033530 Testing Acc: 0.976366699\n",
            "Epoch: 157 Training Loss: 0.066166677 Testing Loss: 0.096683443  Training Acc: 0.979133368 Testing Acc: 0.976716697\n",
            "Epoch: 158 Training Loss: 0.056104958 Testing Loss: 0.094376080  Training Acc: 0.981629372 Testing Acc: 0.977233350\n",
            "Epoch: 159 Training Loss: 0.060164180 Testing Loss: 0.094012216  Training Acc: 0.980531156 Testing Acc: 0.976733327\n",
            "Epoch: 160 Training Loss: 0.068602823 Testing Loss: 0.093344249  Training Acc: 0.977436066 Testing Acc: 0.976733327\n",
            "Epoch: 161 Training Loss: 0.063947737 Testing Loss: 0.092054851  Training Acc: 0.978434503 Testing Acc: 0.976716697\n",
            "Epoch: 162 Training Loss: 0.062678121 Testing Loss: 0.096915223  Training Acc: 0.979732394 Testing Acc: 0.976350009\n",
            "Epoch: 163 Training Loss: 0.062670819 Testing Loss: 0.100904755  Training Acc: 0.979432881 Testing Acc: 0.975083351\n",
            "Epoch: 164 Training Loss: 0.059232820 Testing Loss: 0.092465468  Training Acc: 0.979832232 Testing Acc: 0.976833344\n",
            "Epoch: 165 Training Loss: 0.057352271 Testing Loss: 0.093900479  Training Acc: 0.981429696 Testing Acc: 0.975566685\n",
            "Epoch: 166 Training Loss: 0.066625632 Testing Loss: 0.095604137  Training Acc: 0.979233205 Testing Acc: 0.976083338\n",
            "Epoch: 167 Training Loss: 0.065456226 Testing Loss: 0.095218331  Training Acc: 0.978534341 Testing Acc: 0.975816667\n",
            "Epoch: 168 Training Loss: 0.071656555 Testing Loss: 0.096527897  Training Acc: 0.977036715 Testing Acc: 0.975633323\n",
            "Epoch: 169 Training Loss: 0.055588804 Testing Loss: 0.097669832  Training Acc: 0.981230021 Testing Acc: 0.976316690\n",
            "Epoch: 170 Training Loss: 0.061684642 Testing Loss: 0.093357965  Training Acc: 0.980531156 Testing Acc: 0.977100015\n",
            "Epoch: 171 Training Loss: 0.059227996 Testing Loss: 0.098880477  Training Acc: 0.982028723 Testing Acc: 0.976116657\n",
            "Epoch: 172 Training Loss: 0.063173689 Testing Loss: 0.091153696  Training Acc: 0.979432881 Testing Acc: 0.977600038\n",
            "Epoch: 173 Training Loss: 0.056311306 Testing Loss: 0.091452666  Training Acc: 0.982328236 Testing Acc: 0.977416694\n",
            "Epoch: 174 Training Loss: 0.069918402 Testing Loss: 0.098860823  Training Acc: 0.978634179 Testing Acc: 0.976100028\n",
            "Epoch: 175 Training Loss: 0.058055785 Testing Loss: 0.102814294  Training Acc: 0.980231583 Testing Acc: 0.975416660\n",
            "Epoch: 176 Training Loss: 0.058946956 Testing Loss: 0.097275943  Training Acc: 0.982228398 Testing Acc: 0.976283371\n",
            "Epoch: 177 Training Loss: 0.065480992 Testing Loss: 0.091784410  Training Acc: 0.979932070 Testing Acc: 0.977383316\n",
            "Epoch: 178 Training Loss: 0.062165245 Testing Loss: 0.092501417  Training Acc: 0.981329858 Testing Acc: 0.977033317\n",
            "Epoch: 179 Training Loss: 0.059930015 Testing Loss: 0.094426811  Training Acc: 0.980231583 Testing Acc: 0.977050006\n",
            "Epoch: 180 Training Loss: 0.061725330 Testing Loss: 0.096414745  Training Acc: 0.979732394 Testing Acc: 0.976333320\n",
            "Epoch: 181 Training Loss: 0.061740339 Testing Loss: 0.094388120  Training Acc: 0.980630994 Testing Acc: 0.977283359\n",
            "Epoch: 182 Training Loss: 0.057706248 Testing Loss: 0.094297126  Training Acc: 0.980630994 Testing Acc: 0.977450013\n",
            "Epoch: 183 Training Loss: 0.060838643 Testing Loss: 0.092516638  Training Acc: 0.980730832 Testing Acc: 0.977583349\n",
            "Epoch: 184 Training Loss: 0.061752636 Testing Loss: 0.092706390  Training Acc: 0.981230021 Testing Acc: 0.977366686\n",
            "Epoch: 185 Training Loss: 0.059123076 Testing Loss: 0.103526466  Training Acc: 0.979732394 Testing Acc: 0.975333333\n",
            "Epoch: 186 Training Loss: 0.056397002 Testing Loss: 0.096451953  Training Acc: 0.981429696 Testing Acc: 0.977216661\n",
            "Epoch: 187 Training Loss: 0.059867285 Testing Loss: 0.095087454  Training Acc: 0.981629372 Testing Acc: 0.977266669\n",
            "Epoch: 188 Training Loss: 0.055321731 Testing Loss: 0.093717970  Training Acc: 0.980331481 Testing Acc: 0.976933360\n",
            "Epoch: 189 Training Loss: 0.057490107 Testing Loss: 0.097247198  Training Acc: 0.983027160 Testing Acc: 0.976650000\n",
            "Epoch: 190 Training Loss: 0.057685923 Testing Loss: 0.101945117  Training Acc: 0.980630994 Testing Acc: 0.976549983\n",
            "Epoch: 191 Training Loss: 0.057976324 Testing Loss: 0.097249091  Training Acc: 0.981230021 Testing Acc: 0.977016687\n",
            "Epoch: 192 Training Loss: 0.059427112 Testing Loss: 0.097581275  Training Acc: 0.981230021 Testing Acc: 0.976566672\n",
            "Epoch: 193 Training Loss: 0.055808552 Testing Loss: 0.098566674  Training Acc: 0.982727647 Testing Acc: 0.976933360\n",
            "Epoch: 194 Training Loss: 0.058564473 Testing Loss: 0.099176101  Training Acc: 0.982428074 Testing Acc: 0.976916671\n",
            "Epoch: 195 Training Loss: 0.050836436 Testing Loss: 0.100641772  Training Acc: 0.983526349 Testing Acc: 0.976333320\n",
            "Epoch: 196 Training Loss: 0.055630852 Testing Loss: 0.102651909  Training Acc: 0.981729209 Testing Acc: 0.975716650\n",
            "Epoch: 197 Training Loss: 0.058192443 Testing Loss: 0.097411752  Training Acc: 0.980331481 Testing Acc: 0.976899981\n",
            "Epoch: 198 Training Loss: 0.051121399 Testing Loss: 0.104355179  Training Acc: 0.983426511 Testing Acc: 0.975250006\n",
            "Epoch: 199 Training Loss: 0.048949648 Testing Loss: 0.099266209  Training Acc: 0.983626187 Testing Acc: 0.977283359\n",
            "Epoch: 200 Training Loss: 0.060062390 Testing Loss: 0.101946302  Training Acc: 0.981629372 Testing Acc: 0.975899994\n",
            "Epoch: 201 Training Loss: 0.050389785 Testing Loss: 0.101503126  Training Acc: 0.983326674 Testing Acc: 0.976400018\n",
            "Epoch: 202 Training Loss: 0.064563155 Testing Loss: 0.107082479  Training Acc: 0.980031908 Testing Acc: 0.975533366\n",
            "Epoch: 203 Training Loss: 0.054566670 Testing Loss: 0.097726785  Training Acc: 0.981928885 Testing Acc: 0.977433324\n",
            "Epoch: 204 Training Loss: 0.059750639 Testing Loss: 0.096503742  Training Acc: 0.979632556 Testing Acc: 0.976733327\n",
            "Epoch: 205 Training Loss: 0.055930804 Testing Loss: 0.106114529  Training Acc: 0.981928885 Testing Acc: 0.975250006\n",
            "Epoch: 206 Training Loss: 0.061258387 Testing Loss: 0.096712284  Training Acc: 0.980930507 Testing Acc: 0.976383328\n",
            "Epoch: 207 Training Loss: 0.060163215 Testing Loss: 0.101011418  Training Acc: 0.983027160 Testing Acc: 0.975983322\n",
            "Epoch: 208 Training Loss: 0.053938434 Testing Loss: 0.095320903  Training Acc: 0.981829047 Testing Acc: 0.976949990\n",
            "Epoch: 209 Training Loss: 0.057568114 Testing Loss: 0.098214105  Training Acc: 0.981529534 Testing Acc: 0.977183342\n",
            "Epoch: 210 Training Loss: 0.052095786 Testing Loss: 0.099045031  Training Acc: 0.981030345 Testing Acc: 0.977016687\n",
            "Epoch: 211 Training Loss: 0.056123320 Testing Loss: 0.101183929  Training Acc: 0.981729209 Testing Acc: 0.975866675\n",
            "Epoch: 212 Training Loss: 0.061792701 Testing Loss: 0.102616303  Training Acc: 0.981230021 Testing Acc: 0.975766659\n",
            "Epoch: 213 Training Loss: 0.057778232 Testing Loss: 0.098178409  Training Acc: 0.982328236 Testing Acc: 0.976066649\n",
            "Epoch: 214 Training Loss: 0.057113498 Testing Loss: 0.102683060  Training Acc: 0.981130183 Testing Acc: 0.975549996\n",
            "Epoch: 215 Training Loss: 0.055186421 Testing Loss: 0.095382392  Training Acc: 0.982627749 Testing Acc: 0.977299988\n",
            "Epoch: 216 Training Loss: 0.054672442 Testing Loss: 0.095255680  Training Acc: 0.981829047 Testing Acc: 0.977649987\n",
            "Epoch: 217 Training Loss: 0.054679692 Testing Loss: 0.103770927  Training Acc: 0.982128561 Testing Acc: 0.976516664\n",
            "Epoch: 218 Training Loss: 0.051708274 Testing Loss: 0.096069060  Training Acc: 0.982927322 Testing Acc: 0.977333367\n",
            "Epoch: 219 Training Loss: 0.051264375 Testing Loss: 0.095320769  Training Acc: 0.982428074 Testing Acc: 0.977699995\n",
            "Epoch: 220 Training Loss: 0.058035001 Testing Loss: 0.100779764  Training Acc: 0.981429696 Testing Acc: 0.976233363\n",
            "Epoch: 221 Training Loss: 0.057899181 Testing Loss: 0.097577490  Training Acc: 0.980531156 Testing Acc: 0.977500021\n",
            "Epoch: 222 Training Loss: 0.058225919 Testing Loss: 0.105817869  Training Acc: 0.981629372 Testing Acc: 0.975316703\n",
            "Epoch: 223 Training Loss: 0.056884050 Testing Loss: 0.095732361  Training Acc: 0.980531156 Testing Acc: 0.977083325\n",
            "Epoch: 224 Training Loss: 0.053843036 Testing Loss: 0.098859668  Training Acc: 0.981429696 Testing Acc: 0.976549983\n",
            "Epoch: 225 Training Loss: 0.050205011 Testing Loss: 0.098812044  Training Acc: 0.984824240 Testing Acc: 0.977266669\n",
            "Epoch: 226 Training Loss: 0.053362958 Testing Loss: 0.095778592  Training Acc: 0.983626187 Testing Acc: 0.976933360\n",
            "Epoch: 227 Training Loss: 0.056152690 Testing Loss: 0.101075292  Training Acc: 0.982727647 Testing Acc: 0.976050019\n",
            "Epoch: 228 Training Loss: 0.057342380 Testing Loss: 0.096996292  Training Acc: 0.983426511 Testing Acc: 0.977083325\n",
            "Epoch: 229 Training Loss: 0.057996914 Testing Loss: 0.099280953  Training Acc: 0.981230021 Testing Acc: 0.976183355\n",
            "Epoch: 230 Training Loss: 0.056924697 Testing Loss: 0.099926792  Training Acc: 0.982128561 Testing Acc: 0.976850033\n",
            "Epoch: 231 Training Loss: 0.051472757 Testing Loss: 0.098981611  Training Acc: 0.984824240 Testing Acc: 0.976650000\n",
            "Epoch: 232 Training Loss: 0.049081970 Testing Loss: 0.100585550  Training Acc: 0.984025538 Testing Acc: 0.976800025\n",
            "Epoch: 233 Training Loss: 0.049129564 Testing Loss: 0.105138145  Training Acc: 0.984325051 Testing Acc: 0.976266682\n",
            "Epoch: 234 Training Loss: 0.052817103 Testing Loss: 0.100760475  Training Acc: 0.983726025 Testing Acc: 0.976783335\n",
            "Epoch: 235 Training Loss: 0.056465141 Testing Loss: 0.105173029  Training Acc: 0.981729209 Testing Acc: 0.976116657\n",
            "Epoch: 236 Training Loss: 0.053825416 Testing Loss: 0.099450223  Training Acc: 0.982827485 Testing Acc: 0.976783335\n",
            "Epoch: 237 Training Loss: 0.053953487 Testing Loss: 0.098197199  Training Acc: 0.982827485 Testing Acc: 0.977016687\n",
            "Epoch: 238 Training Loss: 0.061148651 Testing Loss: 0.101356998  Training Acc: 0.981230021 Testing Acc: 0.976633370\n",
            "Epoch: 239 Training Loss: 0.051046036 Testing Loss: 0.097234823  Training Acc: 0.984025538 Testing Acc: 0.977366686\n",
            "Epoch: 240 Training Loss: 0.049396344 Testing Loss: 0.099129930  Training Acc: 0.984325051 Testing Acc: 0.977266669\n",
            "Epoch: 241 Training Loss: 0.043597575 Testing Loss: 0.112038888  Training Acc: 0.984424889 Testing Acc: 0.974983335\n",
            "Epoch: 242 Training Loss: 0.052242231 Testing Loss: 0.098270431  Training Acc: 0.982927322 Testing Acc: 0.977066696\n",
            "Epoch: 243 Training Loss: 0.050696962 Testing Loss: 0.100668252  Training Acc: 0.985023916 Testing Acc: 0.977683365\n",
            "Epoch: 244 Training Loss: 0.047277253 Testing Loss: 0.103349157  Training Acc: 0.984424889 Testing Acc: 0.976650000\n",
            "Epoch: 245 Training Loss: 0.051390413 Testing Loss: 0.108259596  Training Acc: 0.985123813 Testing Acc: 0.975716650\n",
            "Epoch: 246 Training Loss: 0.049294788 Testing Loss: 0.109653711  Training Acc: 0.983726025 Testing Acc: 0.975433350\n",
            "Epoch: 247 Training Loss: 0.052290119 Testing Loss: 0.102411494  Training Acc: 0.983626187 Testing Acc: 0.976549983\n",
            "Epoch: 248 Training Loss: 0.048076589 Testing Loss: 0.102892794  Training Acc: 0.984524727 Testing Acc: 0.976433337\n",
            "Epoch: 249 Training Loss: 0.054073643 Testing Loss: 0.099214032  Training Acc: 0.983426511 Testing Acc: 0.976733327\n",
            "Epoch: 250 Training Loss: 0.049468379 Testing Loss: 0.100336470  Training Acc: 0.983326674 Testing Acc: 0.976866663\n",
            "Epoch: 251 Training Loss: 0.057115506 Testing Loss: 0.101006582  Training Acc: 0.981829047 Testing Acc: 0.976166666\n",
            "Epoch: 252 Training Loss: 0.055454325 Testing Loss: 0.097506799  Training Acc: 0.981529534 Testing Acc: 0.977216661\n",
            "Epoch: 253 Training Loss: 0.053750429 Testing Loss: 0.092953123  Training Acc: 0.983825862 Testing Acc: 0.978133321\n",
            "Epoch: 254 Training Loss: 0.048971672 Testing Loss: 0.091376998  Training Acc: 0.985023916 Testing Acc: 0.978316665\n",
            "Epoch: 255 Training Loss: 0.051404320 Testing Loss: 0.102876633  Training Acc: 0.982228398 Testing Acc: 0.977016687\n",
            "Epoch: 256 Training Loss: 0.048644818 Testing Loss: 0.096792400  Training Acc: 0.983526349 Testing Acc: 0.977349997\n",
            "Epoch: 257 Training Loss: 0.046384625 Testing Loss: 0.099326730  Training Acc: 0.985023916 Testing Acc: 0.976983368\n",
            "Epoch: 258 Training Loss: 0.051504575 Testing Loss: 0.096970625  Training Acc: 0.982028723 Testing Acc: 0.977699995\n",
            "Epoch: 259 Training Loss: 0.052171592 Testing Loss: 0.100367025  Training Acc: 0.981629372 Testing Acc: 0.976916671\n",
            "Epoch: 260 Training Loss: 0.050648928 Testing Loss: 0.102527931  Training Acc: 0.982228398 Testing Acc: 0.977133334\n",
            "Epoch: 261 Training Loss: 0.046571352 Testing Loss: 0.098502517  Training Acc: 0.984125376 Testing Acc: 0.977533340\n",
            "Epoch: 262 Training Loss: 0.053441569 Testing Loss: 0.105237268  Training Acc: 0.982428074 Testing Acc: 0.976733327\n",
            "Epoch: 263 Training Loss: 0.049836665 Testing Loss: 0.102780104  Training Acc: 0.984025538 Testing Acc: 0.977266669\n",
            "Epoch: 264 Training Loss: 0.048710424 Testing Loss: 0.101560012  Training Acc: 0.984225214 Testing Acc: 0.977400005\n",
            "Epoch: 265 Training Loss: 0.048868299 Testing Loss: 0.103826202  Training Acc: 0.983426511 Testing Acc: 0.976266682\n",
            "Epoch: 266 Training Loss: 0.055398125 Testing Loss: 0.096585751  Training Acc: 0.981629372 Testing Acc: 0.977833331\n",
            "Epoch: 267 Training Loss: 0.045008682 Testing Loss: 0.102451697  Training Acc: 0.985123813 Testing Acc: 0.976233363\n",
            "Epoch: 268 Training Loss: 0.053162593 Testing Loss: 0.098265611  Training Acc: 0.984125376 Testing Acc: 0.977033317\n",
            "Epoch: 269 Training Loss: 0.052400094 Testing Loss: 0.104572423  Training Acc: 0.984924078 Testing Acc: 0.976416707\n",
            "Epoch: 270 Training Loss: 0.047919486 Testing Loss: 0.103049181  Training Acc: 0.984325051 Testing Acc: 0.976500034\n",
            "Epoch: 271 Training Loss: 0.045226417 Testing Loss: 0.098823018  Training Acc: 0.985323489 Testing Acc: 0.977250040\n",
            "Epoch: 272 Training Loss: 0.043483805 Testing Loss: 0.098402753  Training Acc: 0.986521542 Testing Acc: 0.977816701\n",
            "Epoch: 273 Training Loss: 0.051757362 Testing Loss: 0.097458333  Training Acc: 0.982128561 Testing Acc: 0.978100002\n",
            "Epoch: 274 Training Loss: 0.053756025 Testing Loss: 0.100847319  Training Acc: 0.983226836 Testing Acc: 0.976566672\n",
            "Epoch: 275 Training Loss: 0.048026457 Testing Loss: 0.099972464  Training Acc: 0.985023916 Testing Acc: 0.976366699\n",
            "Epoch: 276 Training Loss: 0.050524916 Testing Loss: 0.096487701  Training Acc: 0.983426511 Testing Acc: 0.977666676\n",
            "Epoch: 277 Training Loss: 0.046217218 Testing Loss: 0.096230149  Training Acc: 0.985223651 Testing Acc: 0.977516651\n",
            "Epoch: 278 Training Loss: 0.050862294 Testing Loss: 0.101488464  Training Acc: 0.982228398 Testing Acc: 0.977616668\n",
            "Epoch: 279 Training Loss: 0.050090190 Testing Loss: 0.104716413  Training Acc: 0.982727647 Testing Acc: 0.976116657\n",
            "Epoch: 280 Training Loss: 0.051402137 Testing Loss: 0.097337730  Training Acc: 0.982428074 Testing Acc: 0.977999985\n",
            "Epoch: 281 Training Loss: 0.045908000 Testing Loss: 0.103642724  Training Acc: 0.984325051 Testing Acc: 0.976466656\n",
            "Epoch: 282 Training Loss: 0.051817011 Testing Loss: 0.097145386  Training Acc: 0.981829047 Testing Acc: 0.977600038\n",
            "Epoch: 283 Training Loss: 0.048568483 Testing Loss: 0.100023828  Training Acc: 0.984125376 Testing Acc: 0.976500034\n",
            "Epoch: 284 Training Loss: 0.046503004 Testing Loss: 0.101527922  Training Acc: 0.987120569 Testing Acc: 0.977033317\n",
            "Epoch: 285 Training Loss: 0.043939620 Testing Loss: 0.100731723  Training Acc: 0.985523164 Testing Acc: 0.977166653\n",
            "Epoch: 286 Training Loss: 0.046737902 Testing Loss: 0.100646570  Training Acc: 0.983925700 Testing Acc: 0.977100015\n",
            "Epoch: 287 Training Loss: 0.038557690 Testing Loss: 0.102271691  Training Acc: 0.987120569 Testing Acc: 0.976966679\n",
            "Epoch: 288 Training Loss: 0.044225372 Testing Loss: 0.105328709  Training Acc: 0.985223651 Testing Acc: 0.976650000\n",
            "Epoch: 289 Training Loss: 0.047344893 Testing Loss: 0.101172969  Training Acc: 0.984225214 Testing Acc: 0.977150023\n",
            "Epoch: 290 Training Loss: 0.049184736 Testing Loss: 0.102947742  Training Acc: 0.985623002 Testing Acc: 0.977016687\n",
            "Epoch: 291 Training Loss: 0.048263058 Testing Loss: 0.101103522  Training Acc: 0.984225214 Testing Acc: 0.977150023\n",
            "Epoch: 292 Training Loss: 0.050761905 Testing Loss: 0.104780383  Training Acc: 0.983626187 Testing Acc: 0.976183355\n",
            "Epoch: 293 Training Loss: 0.050350878 Testing Loss: 0.099069417  Training Acc: 0.983925700 Testing Acc: 0.977750003\n",
            "Epoch: 294 Training Loss: 0.053417858 Testing Loss: 0.101539262  Training Acc: 0.982228398 Testing Acc: 0.975866675\n",
            "Epoch: 295 Training Loss: 0.050881535 Testing Loss: 0.104233630  Training Acc: 0.983126998 Testing Acc: 0.975899994\n",
            "Epoch: 296 Training Loss: 0.048972372 Testing Loss: 0.098998442  Training Acc: 0.983726025 Testing Acc: 0.977733374\n",
            "Epoch: 297 Training Loss: 0.046248373 Testing Loss: 0.100668475  Training Acc: 0.985523164 Testing Acc: 0.977050006\n",
            "Epoch: 298 Training Loss: 0.043597691 Testing Loss: 0.100149445  Training Acc: 0.984924078 Testing Acc: 0.977283359\n",
            "Epoch: 299 Training Loss: 0.046801914 Testing Loss: 0.103271067  Training Acc: 0.986022353 Testing Acc: 0.977133334\n",
            "Epoch: 300 Training Loss: 0.044404238 Testing Loss: 0.105846994  Training Acc: 0.985523164 Testing Acc: 0.976433337\n",
            "Epoch: 301 Training Loss: 0.047111116 Testing Loss: 0.106281012  Training Acc: 0.985523164 Testing Acc: 0.976766706\n",
            "Epoch: 302 Training Loss: 0.048894688 Testing Loss: 0.108339332  Training Acc: 0.984524727 Testing Acc: 0.976433337\n",
            "Epoch: 303 Training Loss: 0.044015825 Testing Loss: 0.102471225  Training Acc: 0.986521542 Testing Acc: 0.977333367\n",
            "Epoch: 304 Training Loss: 0.053065278 Testing Loss: 0.101168223  Training Acc: 0.983226836 Testing Acc: 0.976866663\n",
            "Epoch: 305 Training Loss: 0.052286860 Testing Loss: 0.103741229  Training Acc: 0.984624565 Testing Acc: 0.977033317\n",
            "Epoch: 306 Training Loss: 0.045188710 Testing Loss: 0.099089488  Training Acc: 0.984524727 Testing Acc: 0.977033317\n",
            "Epoch: 307 Training Loss: 0.042177718 Testing Loss: 0.101668604  Training Acc: 0.987220407 Testing Acc: 0.977366686\n",
            "Epoch: 308 Training Loss: 0.038918186 Testing Loss: 0.103365235  Training Acc: 0.986222029 Testing Acc: 0.976050019\n",
            "Epoch: 309 Training Loss: 0.057805143 Testing Loss: 0.103493661  Training Acc: 0.981529534 Testing Acc: 0.976783335\n",
            "Epoch: 310 Training Loss: 0.047999196 Testing Loss: 0.101499878  Training Acc: 0.984924078 Testing Acc: 0.976866663\n",
            "Epoch: 311 Training Loss: 0.055054266 Testing Loss: 0.102716021  Training Acc: 0.983126998 Testing Acc: 0.977033317\n",
            "Epoch: 312 Training Loss: 0.044152305 Testing Loss: 0.100616120  Training Acc: 0.986022353 Testing Acc: 0.976949990\n",
            "Epoch: 313 Training Loss: 0.043212660 Testing Loss: 0.106467284  Training Acc: 0.984824240 Testing Acc: 0.976683319\n",
            "Epoch: 314 Training Loss: 0.051706217 Testing Loss: 0.098690666  Training Acc: 0.984325051 Testing Acc: 0.977683365\n",
            "Epoch: 315 Training Loss: 0.050029088 Testing Loss: 0.099286042  Training Acc: 0.983825862 Testing Acc: 0.977250040\n",
            "Epoch: 316 Training Loss: 0.050070219 Testing Loss: 0.105195865  Training Acc: 0.981429696 Testing Acc: 0.976483345\n",
            "Epoch: 317 Training Loss: 0.048448287 Testing Loss: 0.102337718  Training Acc: 0.983126998 Testing Acc: 0.976766706\n",
            "Epoch: 318 Training Loss: 0.050340153 Testing Loss: 0.104987584  Training Acc: 0.982428074 Testing Acc: 0.976033330\n",
            "Epoch: 319 Training Loss: 0.041643586 Testing Loss: 0.104287244  Training Acc: 0.985323489 Testing Acc: 0.976233363\n",
            "Epoch: 320 Training Loss: 0.044421099 Testing Loss: 0.105358154  Training Acc: 0.985623002 Testing Acc: 0.976783335\n",
            "Epoch: 321 Training Loss: 0.041831005 Testing Loss: 0.107229434  Training Acc: 0.986721218 Testing Acc: 0.976599991\n",
            "Epoch: 322 Training Loss: 0.051395427 Testing Loss: 0.104683444  Training Acc: 0.984125376 Testing Acc: 0.976999998\n",
            "Epoch: 323 Training Loss: 0.042887710 Testing Loss: 0.100202762  Training Acc: 0.986920893 Testing Acc: 0.977633357\n",
            "Epoch: 324 Training Loss: 0.051818315 Testing Loss: 0.101157255  Training Acc: 0.982428074 Testing Acc: 0.977166653\n",
            "Epoch: 325 Training Loss: 0.048601039 Testing Loss: 0.100389488  Training Acc: 0.985623002 Testing Acc: 0.977483332\n",
            "Epoch: 326 Training Loss: 0.041391008 Testing Loss: 0.101048917  Training Acc: 0.985822678 Testing Acc: 0.977316678\n",
            "Epoch: 327 Training Loss: 0.049140129 Testing Loss: 0.100470901  Training Acc: 0.984524727 Testing Acc: 0.977383316\n",
            "Epoch: 328 Training Loss: 0.043713629 Testing Loss: 0.098704882  Training Acc: 0.985623002 Testing Acc: 0.978083372\n",
            "Epoch: 329 Training Loss: 0.046825211 Testing Loss: 0.101255126  Training Acc: 0.984724402 Testing Acc: 0.977649987\n",
            "Epoch: 330 Training Loss: 0.041025601 Testing Loss: 0.105220906  Training Acc: 0.985523164 Testing Acc: 0.976483345\n",
            "Epoch: 331 Training Loss: 0.046889257 Testing Loss: 0.103283495  Training Acc: 0.986122191 Testing Acc: 0.976500034\n",
            "Epoch: 332 Training Loss: 0.043312680 Testing Loss: 0.102318965  Training Acc: 0.986321867 Testing Acc: 0.977150023\n",
            "Epoch: 333 Training Loss: 0.048083156 Testing Loss: 0.107316196  Training Acc: 0.984824240 Testing Acc: 0.976199985\n",
            "Epoch: 334 Training Loss: 0.045558091 Testing Loss: 0.104406603  Training Acc: 0.984924078 Testing Acc: 0.976850033\n",
            "Epoch: 335 Training Loss: 0.046451122 Testing Loss: 0.108414128  Training Acc: 0.983925700 Testing Acc: 0.975616693\n",
            "Epoch: 336 Training Loss: 0.049311448 Testing Loss: 0.101439036  Training Acc: 0.984924078 Testing Acc: 0.977150023\n",
            "Epoch: 337 Training Loss: 0.043408729 Testing Loss: 0.105614871  Training Acc: 0.986022353 Testing Acc: 0.976733327\n",
            "Epoch: 338 Training Loss: 0.045661278 Testing Loss: 0.102564491  Training Acc: 0.985023916 Testing Acc: 0.977566659\n",
            "Epoch: 339 Training Loss: 0.051764157 Testing Loss: 0.101789489  Training Acc: 0.983326674 Testing Acc: 0.976883352\n",
            "Epoch: 340 Training Loss: 0.045442514 Testing Loss: 0.098276384  Training Acc: 0.984824240 Testing Acc: 0.977250040\n",
            "Epoch: 341 Training Loss: 0.044400033 Testing Loss: 0.103040457  Training Acc: 0.986122191 Testing Acc: 0.976316690\n",
            "Epoch: 342 Training Loss: 0.039315324 Testing Loss: 0.099616498  Training Acc: 0.985523164 Testing Acc: 0.977316678\n",
            "Epoch: 343 Training Loss: 0.042985424 Testing Loss: 0.103264593  Training Acc: 0.985822678 Testing Acc: 0.976850033\n",
            "Epoch: 344 Training Loss: 0.042153582 Testing Loss: 0.104283735  Training Acc: 0.985323489 Testing Acc: 0.976866663\n",
            "Epoch: 345 Training Loss: 0.039853387 Testing Loss: 0.104345508  Training Acc: 0.986821055 Testing Acc: 0.976383328\n",
            "Epoch: 346 Training Loss: 0.045767792 Testing Loss: 0.104065157  Training Acc: 0.986721218 Testing Acc: 0.976500034\n",
            "Epoch: 347 Training Loss: 0.046222609 Testing Loss: 0.103227369  Training Acc: 0.985323489 Testing Acc: 0.976549983\n",
            "Epoch: 348 Training Loss: 0.043661393 Testing Loss: 0.111399136  Training Acc: 0.985523164 Testing Acc: 0.976050019\n",
            "Epoch: 349 Training Loss: 0.039880842 Testing Loss: 0.106401138  Training Acc: 0.985223651 Testing Acc: 0.976666689\n",
            "Epoch: 350 Training Loss: 0.044544812 Testing Loss: 0.105100021  Training Acc: 0.984624565 Testing Acc: 0.977066696\n",
            "Epoch: 351 Training Loss: 0.046125948 Testing Loss: 0.102767467  Training Acc: 0.986222029 Testing Acc: 0.977383316\n",
            "Epoch: 352 Training Loss: 0.046450518 Testing Loss: 0.106768839  Training Acc: 0.985023916 Testing Acc: 0.976466656\n",
            "Epoch: 353 Training Loss: 0.037925541 Testing Loss: 0.101953156  Training Acc: 0.987619817 Testing Acc: 0.977916658\n",
            "Epoch: 354 Training Loss: 0.039689865 Testing Loss: 0.104491405  Training Acc: 0.987320244 Testing Acc: 0.977416694\n",
            "Epoch: 355 Training Loss: 0.045003701 Testing Loss: 0.103824548  Training Acc: 0.986920893 Testing Acc: 0.976733327\n",
            "Epoch: 356 Training Loss: 0.042212311 Testing Loss: 0.104729548  Training Acc: 0.986821055 Testing Acc: 0.976999998\n",
            "Epoch: 357 Training Loss: 0.040179104 Testing Loss: 0.102628164  Training Acc: 0.986122191 Testing Acc: 0.977633357\n",
            "Epoch: 358 Training Loss: 0.048268385 Testing Loss: 0.110101134  Training Acc: 0.984025538 Testing Acc: 0.976483345\n",
            "Epoch: 359 Training Loss: 0.037933767 Testing Loss: 0.107457861  Training Acc: 0.987819493 Testing Acc: 0.976899981\n",
            "Epoch: 360 Training Loss: 0.053323884 Testing Loss: 0.103389449  Training Acc: 0.984924078 Testing Acc: 0.977466702\n",
            "Epoch: 361 Training Loss: 0.047818694 Testing Loss: 0.101796240  Training Acc: 0.984424889 Testing Acc: 0.977333367\n",
            "Epoch: 362 Training Loss: 0.045750588 Testing Loss: 0.110516340  Training Acc: 0.984125376 Testing Acc: 0.976716697\n",
            "Epoch: 363 Training Loss: 0.041428488 Testing Loss: 0.101082861  Training Acc: 0.986821055 Testing Acc: 0.977316678\n",
            "Epoch: 364 Training Loss: 0.044892654 Testing Loss: 0.104885928  Training Acc: 0.986022353 Testing Acc: 0.977366686\n",
            "Epoch: 365 Training Loss: 0.047005825 Testing Loss: 0.104743011  Training Acc: 0.984125376 Testing Acc: 0.976566672\n",
            "Epoch: 366 Training Loss: 0.038035884 Testing Loss: 0.105439104  Training Acc: 0.987619817 Testing Acc: 0.977716684\n",
            "Epoch: 367 Training Loss: 0.047344230 Testing Loss: 0.106572695  Training Acc: 0.985023916 Testing Acc: 0.976300001\n",
            "Epoch: 368 Training Loss: 0.042293236 Testing Loss: 0.106195107  Training Acc: 0.986821055 Testing Acc: 0.976316690\n",
            "Epoch: 369 Training Loss: 0.043995522 Testing Loss: 0.100747779  Training Acc: 0.985123813 Testing Acc: 0.977683365\n",
            "Epoch: 370 Training Loss: 0.041155536 Testing Loss: 0.101433262  Training Acc: 0.985822678 Testing Acc: 0.978083372\n",
            "Epoch: 371 Training Loss: 0.045648094 Testing Loss: 0.102949709  Training Acc: 0.985323489 Testing Acc: 0.977400005\n",
            "Epoch: 372 Training Loss: 0.041254729 Testing Loss: 0.103179231  Training Acc: 0.986721218 Testing Acc: 0.977416694\n",
            "Epoch: 373 Training Loss: 0.047723453 Testing Loss: 0.107788742  Training Acc: 0.984624565 Testing Acc: 0.976500034\n",
            "Epoch: 374 Training Loss: 0.047527768 Testing Loss: 0.099917509  Training Acc: 0.985423326 Testing Acc: 0.977999985\n",
            "Epoch: 375 Training Loss: 0.044504069 Testing Loss: 0.102250800  Training Acc: 0.984025538 Testing Acc: 0.977600038\n",
            "Epoch: 376 Training Loss: 0.045817412 Testing Loss: 0.107481964  Training Acc: 0.984724402 Testing Acc: 0.976533353\n",
            "Epoch: 377 Training Loss: 0.043793939 Testing Loss: 0.106205836  Training Acc: 0.985922515 Testing Acc: 0.976916671\n",
            "Epoch: 378 Training Loss: 0.040589806 Testing Loss: 0.102988809  Training Acc: 0.986421704 Testing Acc: 0.977166653\n",
            "Epoch: 379 Training Loss: 0.035981245 Testing Loss: 0.104526736  Training Acc: 0.987619817 Testing Acc: 0.977583349\n",
            "Epoch: 380 Training Loss: 0.041544836 Testing Loss: 0.101873681  Training Acc: 0.988318682 Testing Acc: 0.977500021\n",
            "Epoch: 381 Training Loss: 0.042630263 Testing Loss: 0.104389325  Training Acc: 0.986721218 Testing Acc: 0.977383316\n",
            "Epoch: 382 Training Loss: 0.043615147 Testing Loss: 0.100766458  Training Acc: 0.984924078 Testing Acc: 0.978349984\n",
            "Epoch: 383 Training Loss: 0.043161776 Testing Loss: 0.102093115  Training Acc: 0.984624565 Testing Acc: 0.977616668\n",
            "Epoch: 384 Training Loss: 0.042532120 Testing Loss: 0.105688371  Training Acc: 0.986321867 Testing Acc: 0.976850033\n",
            "Epoch: 385 Training Loss: 0.033139139 Testing Loss: 0.105855346  Training Acc: 0.989616573 Testing Acc: 0.976599991\n",
            "Epoch: 386 Training Loss: 0.045538612 Testing Loss: 0.107550144  Training Acc: 0.986421704 Testing Acc: 0.976516664\n",
            "Epoch: 387 Training Loss: 0.049452968 Testing Loss: 0.102240145  Training Acc: 0.982827485 Testing Acc: 0.977400005\n",
            "Epoch: 388 Training Loss: 0.044209961 Testing Loss: 0.105159298  Training Acc: 0.986022353 Testing Acc: 0.977133334\n",
            "Epoch: 389 Training Loss: 0.043503288 Testing Loss: 0.099567190  Training Acc: 0.986421704 Testing Acc: 0.977833331\n",
            "Epoch: 390 Training Loss: 0.043063466 Testing Loss: 0.103518941  Training Acc: 0.986721218 Testing Acc: 0.977016687\n",
            "Epoch: 391 Training Loss: 0.043823581 Testing Loss: 0.104492284  Training Acc: 0.986621380 Testing Acc: 0.977283359\n",
            "Epoch: 392 Training Loss: 0.046648048 Testing Loss: 0.106221110  Training Acc: 0.985223651 Testing Acc: 0.976733327\n",
            "Epoch: 393 Training Loss: 0.037061594 Testing Loss: 0.107287176  Training Acc: 0.987420082 Testing Acc: 0.976616681\n",
            "Epoch: 394 Training Loss: 0.047189347 Testing Loss: 0.104858346  Training Acc: 0.985822678 Testing Acc: 0.977116704\n",
            "Epoch: 395 Training Loss: 0.041131727 Testing Loss: 0.103802703  Training Acc: 0.986521542 Testing Acc: 0.976666689\n",
            "Epoch: 396 Training Loss: 0.045625225 Testing Loss: 0.105343953  Training Acc: 0.984724402 Testing Acc: 0.976566672\n",
            "Epoch: 397 Training Loss: 0.042883795 Testing Loss: 0.099496804  Training Acc: 0.985922515 Testing Acc: 0.977933347\n",
            "Epoch: 398 Training Loss: 0.037892599 Testing Loss: 0.101252384  Training Acc: 0.988418519 Testing Acc: 0.977866650\n",
            "Epoch: 399 Training Loss: 0.046153650 Testing Loss: 0.101915695  Training Acc: 0.985123813 Testing Acc: 0.977800012\n",
            "Epoch: 400 Training Loss: 0.040753316 Testing Loss: 0.101439878  Training Acc: 0.986821055 Testing Acc: 0.977850020\n",
            "Epoch: 401 Training Loss: 0.044536427 Testing Loss: 0.099607296  Training Acc: 0.985223651 Testing Acc: 0.977966666\n",
            "Epoch: 402 Training Loss: 0.044077523 Testing Loss: 0.104464136  Training Acc: 0.986721218 Testing Acc: 0.977349997\n",
            "Epoch: 403 Training Loss: 0.040620778 Testing Loss: 0.102719679  Training Acc: 0.987919331 Testing Acc: 0.977833331\n",
            "Epoch: 404 Training Loss: 0.045015402 Testing Loss: 0.106589243  Training Acc: 0.985123813 Testing Acc: 0.976650000\n",
            "Epoch: 405 Training Loss: 0.035408180 Testing Loss: 0.102884889  Training Acc: 0.987220407 Testing Acc: 0.977866650\n",
            "Epoch: 406 Training Loss: 0.046303846 Testing Loss: 0.102722444  Training Acc: 0.984824240 Testing Acc: 0.977266669\n",
            "Epoch: 407 Training Loss: 0.037026934 Testing Loss: 0.102719054  Training Acc: 0.988019168 Testing Acc: 0.977716684\n",
            "Epoch: 408 Training Loss: 0.036481794 Testing Loss: 0.105137616  Training Acc: 0.988518357 Testing Acc: 0.977333367\n",
            "Epoch: 409 Training Loss: 0.041878354 Testing Loss: 0.102605812  Training Acc: 0.986521542 Testing Acc: 0.977349997\n",
            "Epoch: 410 Training Loss: 0.042540640 Testing Loss: 0.105097525  Training Acc: 0.986621380 Testing Acc: 0.977266669\n",
            "Epoch: 411 Training Loss: 0.044586454 Testing Loss: 0.110544652  Training Acc: 0.985523164 Testing Acc: 0.977133334\n",
            "Epoch: 412 Training Loss: 0.045651905 Testing Loss: 0.104694970  Training Acc: 0.984524727 Testing Acc: 0.977299988\n",
            "Epoch: 413 Training Loss: 0.041370783 Testing Loss: 0.106371485  Training Acc: 0.986821055 Testing Acc: 0.977450013\n",
            "Epoch: 414 Training Loss: 0.042297788 Testing Loss: 0.109821916  Training Acc: 0.987120569 Testing Acc: 0.976616681\n",
            "Epoch: 415 Training Loss: 0.042437993 Testing Loss: 0.101355411  Training Acc: 0.985523164 Testing Acc: 0.977183342\n",
            "Epoch: 416 Training Loss: 0.041006912 Testing Loss: 0.102018841  Training Acc: 0.986022353 Testing Acc: 0.977816701\n",
            "Epoch: 417 Training Loss: 0.046654206 Testing Loss: 0.104663305  Training Acc: 0.985722840 Testing Acc: 0.977050006\n",
            "Epoch: 418 Training Loss: 0.039518129 Testing Loss: 0.106408238  Training Acc: 0.989916146 Testing Acc: 0.976549983\n",
            "Epoch: 419 Training Loss: 0.040432390 Testing Loss: 0.107735544  Training Acc: 0.985623002 Testing Acc: 0.977333367\n",
            "Epoch: 420 Training Loss: 0.051536281 Testing Loss: 0.109598167  Training Acc: 0.985722840 Testing Acc: 0.976566672\n",
            "Epoch: 421 Training Loss: 0.045213562 Testing Loss: 0.105042793  Training Acc: 0.985123813 Testing Acc: 0.976633370\n",
            "Epoch: 422 Training Loss: 0.040712025 Testing Loss: 0.102569066  Training Acc: 0.986222029 Testing Acc: 0.977200031\n",
            "Epoch: 423 Training Loss: 0.038763341 Testing Loss: 0.108554885  Training Acc: 0.986421704 Testing Acc: 0.976616681\n",
            "Epoch: 424 Training Loss: 0.041166160 Testing Loss: 0.103631064  Training Acc: 0.986521542 Testing Acc: 0.977133334\n",
            "Epoch: 425 Training Loss: 0.044271681 Testing Loss: 0.106141351  Training Acc: 0.985922515 Testing Acc: 0.977033317\n",
            "Epoch: 426 Training Loss: 0.046142627 Testing Loss: 0.100863054  Training Acc: 0.986022353 Testing Acc: 0.977666676\n",
            "Epoch: 427 Training Loss: 0.043910112 Testing Loss: 0.104095809  Training Acc: 0.986521542 Testing Acc: 0.976916671\n",
            "Epoch: 428 Training Loss: 0.050595324 Testing Loss: 0.104177624  Training Acc: 0.985223651 Testing Acc: 0.976949990\n",
            "Epoch: 429 Training Loss: 0.042602848 Testing Loss: 0.099982262  Training Acc: 0.985123813 Testing Acc: 0.977150023\n",
            "Epoch: 430 Training Loss: 0.037734628 Testing Loss: 0.107392743  Training Acc: 0.987420082 Testing Acc: 0.977166653\n",
            "Epoch: 431 Training Loss: 0.040382400 Testing Loss: 0.103755899  Training Acc: 0.986222029 Testing Acc: 0.977083325\n",
            "Epoch: 432 Training Loss: 0.040914256 Testing Loss: 0.100806981  Training Acc: 0.986920893 Testing Acc: 0.977133334\n",
            "Epoch: 433 Training Loss: 0.037292119 Testing Loss: 0.101515487  Training Acc: 0.987719655 Testing Acc: 0.977916658\n",
            "Epoch: 434 Training Loss: 0.034707543 Testing Loss: 0.103372604  Training Acc: 0.988718033 Testing Acc: 0.977750003\n",
            "Epoch: 435 Training Loss: 0.043785900 Testing Loss: 0.104174443  Training Acc: 0.985922515 Testing Acc: 0.977416694\n",
            "Epoch: 436 Training Loss: 0.044483464 Testing Loss: 0.101453699  Training Acc: 0.986821055 Testing Acc: 0.977200031\n",
            "Epoch: 437 Training Loss: 0.040001012 Testing Loss: 0.109541856  Training Acc: 0.988418519 Testing Acc: 0.976433337\n",
            "Epoch: 438 Training Loss: 0.040384181 Testing Loss: 0.104560085  Training Acc: 0.987220407 Testing Acc: 0.976616681\n",
            "Epoch: 439 Training Loss: 0.037703473 Testing Loss: 0.111008644  Training Acc: 0.986721218 Testing Acc: 0.975933373\n",
            "Epoch: 440 Training Loss: 0.033940699 Testing Loss: 0.110283203  Training Acc: 0.988718033 Testing Acc: 0.976150036\n",
            "Epoch: 441 Training Loss: 0.042079918 Testing Loss: 0.106346793  Training Acc: 0.984724402 Testing Acc: 0.977583349\n",
            "Epoch: 442 Training Loss: 0.036853861 Testing Loss: 0.107973143  Training Acc: 0.988019168 Testing Acc: 0.977216661\n",
            "Epoch: 443 Training Loss: 0.038254593 Testing Loss: 0.111044042  Training Acc: 0.988917708 Testing Acc: 0.975916684\n",
            "Epoch: 444 Training Loss: 0.037519325 Testing Loss: 0.113536686  Training Acc: 0.988019168 Testing Acc: 0.976300001\n",
            "Epoch: 445 Training Loss: 0.036696479 Testing Loss: 0.106182791  Training Acc: 0.987519979 Testing Acc: 0.977250040\n",
            "Epoch: 446 Training Loss: 0.044877443 Testing Loss: 0.121571407  Training Acc: 0.986521542 Testing Acc: 0.975466669\n",
            "Epoch: 447 Training Loss: 0.038437486 Testing Loss: 0.104891874  Training Acc: 0.986621380 Testing Acc: 0.977250040\n",
            "Epoch: 448 Training Loss: 0.035741642 Testing Loss: 0.104246594  Training Acc: 0.987819493 Testing Acc: 0.977566659\n",
            "Epoch: 449 Training Loss: 0.036580823 Testing Loss: 0.106328107  Training Acc: 0.987819493 Testing Acc: 0.976949990\n",
            "Epoch: 450 Training Loss: 0.037566382 Testing Loss: 0.105824068  Training Acc: 0.988817871 Testing Acc: 0.977533340\n",
            "Epoch: 451 Training Loss: 0.046685569 Testing Loss: 0.108107656  Training Acc: 0.985423326 Testing Acc: 0.976433337\n",
            "Epoch: 452 Training Loss: 0.040523142 Testing Loss: 0.110489108  Training Acc: 0.986920893 Testing Acc: 0.976516664\n",
            "Epoch: 453 Training Loss: 0.034740962 Testing Loss: 0.105524220  Training Acc: 0.988817871 Testing Acc: 0.976983368\n",
            "Epoch: 454 Training Loss: 0.038310602 Testing Loss: 0.109370254  Training Acc: 0.988418519 Testing Acc: 0.977383316\n",
            "Epoch: 455 Training Loss: 0.040820725 Testing Loss: 0.114788041  Training Acc: 0.988019168 Testing Acc: 0.976800025\n",
            "Epoch: 456 Training Loss: 0.039303117 Testing Loss: 0.109029233  Training Acc: 0.987320244 Testing Acc: 0.976866663\n",
            "Epoch: 457 Training Loss: 0.036834523 Testing Loss: 0.105838113  Training Acc: 0.987719655 Testing Acc: 0.977166653\n",
            "Epoch: 458 Training Loss: 0.040419213 Testing Loss: 0.108478941  Training Acc: 0.986621380 Testing Acc: 0.977466702\n",
            "Epoch: 459 Training Loss: 0.044342015 Testing Loss: 0.107321776  Training Acc: 0.985223651 Testing Acc: 0.976983368\n",
            "Epoch: 460 Training Loss: 0.039263505 Testing Loss: 0.108228654  Training Acc: 0.987819493 Testing Acc: 0.977500021\n",
            "Epoch: 461 Training Loss: 0.039943695 Testing Loss: 0.107181795  Training Acc: 0.986521542 Testing Acc: 0.977416694\n",
            "Epoch: 462 Training Loss: 0.040187594 Testing Loss: 0.109571353  Training Acc: 0.987519979 Testing Acc: 0.976850033\n",
            "Epoch: 463 Training Loss: 0.035417847 Testing Loss: 0.108846165  Training Acc: 0.987819493 Testing Acc: 0.977649987\n",
            "Epoch: 464 Training Loss: 0.037380975 Testing Loss: 0.108642414  Training Acc: 0.986621380 Testing Acc: 0.976783335\n",
            "Epoch: 465 Training Loss: 0.038482960 Testing Loss: 0.107993253  Training Acc: 0.987619817 Testing Acc: 0.977016687\n",
            "Epoch: 466 Training Loss: 0.047329593 Testing Loss: 0.103852957  Training Acc: 0.984325051 Testing Acc: 0.977900028\n",
            "Epoch: 467 Training Loss: 0.036873471 Testing Loss: 0.107503042  Training Acc: 0.988019168 Testing Acc: 0.977116704\n",
            "Epoch: 468 Training Loss: 0.036549788 Testing Loss: 0.106856942  Training Acc: 0.987919331 Testing Acc: 0.976850033\n",
            "Epoch: 469 Training Loss: 0.038490951 Testing Loss: 0.107664533  Training Acc: 0.988119006 Testing Acc: 0.977666676\n",
            "Epoch: 470 Training Loss: 0.038207699 Testing Loss: 0.109695777  Training Acc: 0.987320244 Testing Acc: 0.977266669\n",
            "Epoch: 471 Training Loss: 0.039971244 Testing Loss: 0.109426707  Training Acc: 0.988218844 Testing Acc: 0.976433337\n",
            "Epoch: 472 Training Loss: 0.036324792 Testing Loss: 0.109317206  Training Acc: 0.988618195 Testing Acc: 0.976650000\n",
            "Epoch: 473 Training Loss: 0.039361093 Testing Loss: 0.110354006  Training Acc: 0.986920893 Testing Acc: 0.976949990\n",
            "Epoch: 474 Training Loss: 0.039455287 Testing Loss: 0.104672194  Training Acc: 0.986920893 Testing Acc: 0.977550030\n",
            "Epoch: 475 Training Loss: 0.039501630 Testing Loss: 0.106194668  Training Acc: 0.986521542 Testing Acc: 0.977483332\n",
            "Epoch: 476 Training Loss: 0.037178937 Testing Loss: 0.111417815  Training Acc: 0.988817871 Testing Acc: 0.977016687\n",
            "Epoch: 477 Training Loss: 0.042442486 Testing Loss: 0.107013442  Training Acc: 0.986621380 Testing Acc: 0.977233350\n",
            "Epoch: 478 Training Loss: 0.038413387 Testing Loss: 0.106126130  Training Acc: 0.987819493 Testing Acc: 0.977383316\n",
            "Epoch: 479 Training Loss: 0.035124611 Testing Loss: 0.113303490  Training Acc: 0.988718033 Testing Acc: 0.976400018\n",
            "Epoch: 480 Training Loss: 0.036623038 Testing Loss: 0.109409675  Training Acc: 0.988518357 Testing Acc: 0.977766693\n",
            "Epoch: 481 Training Loss: 0.039945513 Testing Loss: 0.112694472  Training Acc: 0.987919331 Testing Acc: 0.976750016\n",
            "Epoch: 482 Training Loss: 0.042288858 Testing Loss: 0.109812878  Training Acc: 0.986521542 Testing Acc: 0.977366686\n",
            "Epoch: 483 Training Loss: 0.044112980 Testing Loss: 0.107319012  Training Acc: 0.986821055 Testing Acc: 0.976700008\n",
            "Epoch: 484 Training Loss: 0.039582651 Testing Loss: 0.109508380  Training Acc: 0.988418519 Testing Acc: 0.977416694\n",
            "Epoch: 485 Training Loss: 0.037674591 Testing Loss: 0.107449770  Training Acc: 0.989017546 Testing Acc: 0.977649987\n",
            "Epoch: 486 Training Loss: 0.039959978 Testing Loss: 0.106907845  Training Acc: 0.987320244 Testing Acc: 0.976983368\n",
            "Epoch: 487 Training Loss: 0.046652954 Testing Loss: 0.103473835  Training Acc: 0.985423326 Testing Acc: 0.976949990\n",
            "Epoch: 488 Training Loss: 0.042450778 Testing Loss: 0.110815212  Training Acc: 0.986222029 Testing Acc: 0.976883352\n",
            "Epoch: 489 Training Loss: 0.033876982 Testing Loss: 0.100338288  Training Acc: 0.987919331 Testing Acc: 0.978633344\n",
            "Epoch: 490 Training Loss: 0.038879883 Testing Loss: 0.109115519  Training Acc: 0.988518357 Testing Acc: 0.977066696\n",
            "Epoch: 491 Training Loss: 0.041464157 Testing Loss: 0.106783822  Training Acc: 0.987519979 Testing Acc: 0.977333367\n",
            "Epoch: 492 Training Loss: 0.037059546 Testing Loss: 0.110031970  Training Acc: 0.987919331 Testing Acc: 0.977016687\n",
            "Epoch: 493 Training Loss: 0.042832948 Testing Loss: 0.109660655  Training Acc: 0.987020731 Testing Acc: 0.977600038\n",
            "Epoch: 494 Training Loss: 0.042230099 Testing Loss: 0.112367094  Training Acc: 0.985922515 Testing Acc: 0.976933360\n",
            "Epoch: 495 Training Loss: 0.043425813 Testing Loss: 0.104944207  Training Acc: 0.985423326 Testing Acc: 0.977733374\n",
            "Epoch: 496 Training Loss: 0.035048727 Testing Loss: 0.111449718  Training Acc: 0.989117384 Testing Acc: 0.977016687\n",
            "Epoch: 497 Training Loss: 0.039472200 Testing Loss: 0.105290487  Training Acc: 0.986421704 Testing Acc: 0.978333354\n",
            "Epoch: 498 Training Loss: 0.035745375 Testing Loss: 0.112135544  Training Acc: 0.988318682 Testing Acc: 0.976883352\n",
            "Epoch: 499 Training Loss: 0.041261777 Testing Loss: 0.110232271  Training Acc: 0.985523164 Testing Acc: 0.977116704\n",
            "Epoch: 500 Training Loss: 0.038724642 Testing Loss: 0.107329465  Training Acc: 0.986621380 Testing Acc: 0.977466702\n",
            "Epoch: 501 Training Loss: 0.041626066 Testing Loss: 0.103442833  Training Acc: 0.986721218 Testing Acc: 0.976650000\n",
            "Epoch: 502 Training Loss: 0.038853545 Testing Loss: 0.109202161  Training Acc: 0.986521542 Testing Acc: 0.976533353\n",
            "Epoch: 503 Training Loss: 0.039129145 Testing Loss: 0.107779339  Training Acc: 0.987919331 Testing Acc: 0.976616681\n",
            "Epoch: 504 Training Loss: 0.039344124 Testing Loss: 0.117989749  Training Acc: 0.987220407 Testing Acc: 0.976050019\n",
            "Epoch: 505 Training Loss: 0.039216347 Testing Loss: 0.115178436  Training Acc: 0.986521542 Testing Acc: 0.977333367\n",
            "Epoch: 506 Training Loss: 0.035501953 Testing Loss: 0.114670247  Training Acc: 0.988917708 Testing Acc: 0.976633370\n",
            "Epoch: 507 Training Loss: 0.031729471 Testing Loss: 0.114838876  Training Acc: 0.989816248 Testing Acc: 0.976733327\n",
            "Epoch: 508 Training Loss: 0.036673952 Testing Loss: 0.110280931  Training Acc: 0.989716411 Testing Acc: 0.977433324\n",
            "Epoch: 509 Training Loss: 0.033687357 Testing Loss: 0.106714562  Training Acc: 0.989516735 Testing Acc: 0.977699995\n",
            "Epoch: 510 Training Loss: 0.033172201 Testing Loss: 0.109158278  Training Acc: 0.989317060 Testing Acc: 0.976949990\n",
            "Epoch: 511 Training Loss: 0.034830216 Testing Loss: 0.107302181  Training Acc: 0.988618195 Testing Acc: 0.977699995\n",
            "Epoch: 512 Training Loss: 0.045469824 Testing Loss: 0.102751136  Training Acc: 0.986321867 Testing Acc: 0.978349984\n",
            "Epoch: 513 Training Loss: 0.040735148 Testing Loss: 0.107792571  Training Acc: 0.986821055 Testing Acc: 0.977516651\n",
            "Epoch: 514 Training Loss: 0.047097798 Testing Loss: 0.110028125  Training Acc: 0.985623002 Testing Acc: 0.976933360\n",
            "Epoch: 515 Training Loss: 0.039338548 Testing Loss: 0.105700083  Training Acc: 0.987020731 Testing Acc: 0.977183342\n",
            "Epoch: 516 Training Loss: 0.034281135 Testing Loss: 0.102918014  Training Acc: 0.988917708 Testing Acc: 0.977950037\n",
            "Epoch: 517 Training Loss: 0.039132234 Testing Loss: 0.105453297  Training Acc: 0.988218844 Testing Acc: 0.977433324\n",
            "Epoch: 518 Training Loss: 0.035288721 Testing Loss: 0.111326769  Training Acc: 0.987519979 Testing Acc: 0.976883352\n",
            "Epoch: 519 Training Loss: 0.033464182 Testing Loss: 0.107112654  Training Acc: 0.990215659 Testing Acc: 0.978366673\n",
            "Epoch: 520 Training Loss: 0.040284477 Testing Loss: 0.108676717  Training Acc: 0.987320244 Testing Acc: 0.977733374\n",
            "Epoch: 521 Training Loss: 0.035891801 Testing Loss: 0.102303565  Training Acc: 0.989416897 Testing Acc: 0.978466690\n",
            "Epoch: 522 Training Loss: 0.032945566 Testing Loss: 0.099651374  Training Acc: 0.988318682 Testing Acc: 0.978716671\n",
            "Epoch: 523 Training Loss: 0.033677902 Testing Loss: 0.109729454  Training Acc: 0.989217222 Testing Acc: 0.977183342\n",
            "Epoch: 524 Training Loss: 0.040787134 Testing Loss: 0.109226026  Training Acc: 0.986222029 Testing Acc: 0.977083325\n",
            "Epoch: 525 Training Loss: 0.040911075 Testing Loss: 0.114674777  Training Acc: 0.987120569 Testing Acc: 0.976433337\n",
            "Epoch: 526 Training Loss: 0.035018306 Testing Loss: 0.111221291  Training Acc: 0.987919331 Testing Acc: 0.976850033\n",
            "Epoch: 527 Training Loss: 0.032659709 Testing Loss: 0.104099996  Training Acc: 0.988917708 Testing Acc: 0.977816701\n",
            "Epoch: 528 Training Loss: 0.033530287 Testing Loss: 0.107916340  Training Acc: 0.988817871 Testing Acc: 0.977750003\n",
            "Epoch: 529 Training Loss: 0.035218295 Testing Loss: 0.106505610  Training Acc: 0.988418519 Testing Acc: 0.977450013\n",
            "Epoch: 530 Training Loss: 0.033948608 Testing Loss: 0.110364348  Training Acc: 0.989416897 Testing Acc: 0.977233350\n",
            "Epoch: 531 Training Loss: 0.034250710 Testing Loss: 0.109117702  Training Acc: 0.987719655 Testing Acc: 0.977483332\n",
            "Epoch: 532 Training Loss: 0.038765535 Testing Loss: 0.106511399  Training Acc: 0.988119006 Testing Acc: 0.977583349\n",
            "Epoch: 533 Training Loss: 0.034893442 Testing Loss: 0.113503940  Training Acc: 0.988518357 Testing Acc: 0.977266669\n",
            "Epoch: 534 Training Loss: 0.032482538 Testing Loss: 0.105524674  Training Acc: 0.989017546 Testing Acc: 0.978316665\n",
            "Epoch: 535 Training Loss: 0.033782732 Testing Loss: 0.104896374  Training Acc: 0.989916146 Testing Acc: 0.978250027\n",
            "Epoch: 536 Training Loss: 0.035021398 Testing Loss: 0.101393960  Training Acc: 0.988019168 Testing Acc: 0.978733361\n",
            "Epoch: 537 Training Loss: 0.037207175 Testing Loss: 0.108944096  Training Acc: 0.988119006 Testing Acc: 0.977283359\n",
            "Epoch: 538 Training Loss: 0.039128449 Testing Loss: 0.108396240  Training Acc: 0.987819493 Testing Acc: 0.977866650\n",
            "Epoch: 539 Training Loss: 0.035115208 Testing Loss: 0.109797306  Training Acc: 0.989117384 Testing Acc: 0.977649987\n",
            "Epoch: 540 Training Loss: 0.035713635 Testing Loss: 0.105747446  Training Acc: 0.988917708 Testing Acc: 0.977883339\n",
            "Epoch: 541 Training Loss: 0.034284450 Testing Loss: 0.103105493  Training Acc: 0.989017546 Testing Acc: 0.978200018\n",
            "Epoch: 542 Training Loss: 0.044214122 Testing Loss: 0.104948148  Training Acc: 0.985722840 Testing Acc: 0.977916658\n",
            "Epoch: 543 Training Loss: 0.038413860 Testing Loss: 0.106462590  Training Acc: 0.986421704 Testing Acc: 0.977083325\n",
            "Epoch: 544 Training Loss: 0.038736109 Testing Loss: 0.101002038  Training Acc: 0.987020731 Testing Acc: 0.978166699\n",
            "Epoch: 545 Training Loss: 0.032230716 Testing Loss: 0.110669449  Training Acc: 0.988917708 Testing Acc: 0.977416694\n",
            "Epoch: 546 Training Loss: 0.031002099 Testing Loss: 0.107793242  Training Acc: 0.989916146 Testing Acc: 0.978216648\n",
            "Epoch: 547 Training Loss: 0.037670642 Testing Loss: 0.109171681  Training Acc: 0.987719655 Testing Acc: 0.978133321\n",
            "Epoch: 548 Training Loss: 0.032460973 Testing Loss: 0.107851163  Training Acc: 0.989816248 Testing Acc: 0.977716684\n",
            "Epoch: 549 Training Loss: 0.034148239 Testing Loss: 0.113217302  Training Acc: 0.989816248 Testing Acc: 0.977200031\n",
            "Epoch: 550 Training Loss: 0.033553340 Testing Loss: 0.110389188  Training Acc: 0.988618195 Testing Acc: 0.977333367\n",
            "Epoch: 551 Training Loss: 0.043303058 Testing Loss: 0.104945756  Training Acc: 0.987919331 Testing Acc: 0.977866650\n",
            "Epoch: 552 Training Loss: 0.037600871 Testing Loss: 0.108986005  Training Acc: 0.988119006 Testing Acc: 0.977016687\n",
            "Epoch: 553 Training Loss: 0.035821568 Testing Loss: 0.105597988  Training Acc: 0.988119006 Testing Acc: 0.978183329\n",
            "Epoch: 554 Training Loss: 0.035355143 Testing Loss: 0.107414097  Training Acc: 0.987519979 Testing Acc: 0.977416694\n",
            "Epoch: 555 Training Loss: 0.038621925 Testing Loss: 0.111800596  Training Acc: 0.987519979 Testing Acc: 0.976983368\n",
            "Epoch: 556 Training Loss: 0.036547396 Testing Loss: 0.107296154  Training Acc: 0.988518357 Testing Acc: 0.976883352\n",
            "Epoch: 557 Training Loss: 0.032517321 Testing Loss: 0.107206486  Training Acc: 0.989416897 Testing Acc: 0.977850020\n",
            "Epoch: 558 Training Loss: 0.038672227 Testing Loss: 0.107135937  Training Acc: 0.989416897 Testing Acc: 0.977699995\n",
            "Epoch: 559 Training Loss: 0.036318745 Testing Loss: 0.108556569  Training Acc: 0.988218844 Testing Acc: 0.977383316\n",
            "Epoch: 560 Training Loss: 0.031986415 Testing Loss: 0.114252567  Training Acc: 0.988917708 Testing Acc: 0.977750003\n",
            "Epoch: 561 Training Loss: 0.037539866 Testing Loss: 0.111693211  Training Acc: 0.988019168 Testing Acc: 0.976650000\n",
            "Epoch: 562 Training Loss: 0.042591251 Testing Loss: 0.105024420  Training Acc: 0.986721218 Testing Acc: 0.977750003\n",
            "Epoch: 563 Training Loss: 0.037387513 Testing Loss: 0.104365312  Training Acc: 0.988318682 Testing Acc: 0.977750003\n",
            "Epoch: 564 Training Loss: 0.032543816 Testing Loss: 0.109561965  Training Acc: 0.989616573 Testing Acc: 0.977383316\n",
            "Epoch: 565 Training Loss: 0.040524486 Testing Loss: 0.106351204  Training Acc: 0.986521542 Testing Acc: 0.977999985\n",
            "Epoch: 566 Training Loss: 0.035327882 Testing Loss: 0.107549332  Training Acc: 0.989017546 Testing Acc: 0.977833331\n",
            "Epoch: 567 Training Loss: 0.037964925 Testing Loss: 0.106751144  Training Acc: 0.988817871 Testing Acc: 0.978183329\n",
            "Epoch: 568 Training Loss: 0.037724182 Testing Loss: 0.105279140  Training Acc: 0.987619817 Testing Acc: 0.978183329\n",
            "Epoch: 569 Training Loss: 0.035878289 Testing Loss: 0.106107369  Training Acc: 0.988418519 Testing Acc: 0.978300035\n",
            "Epoch: 570 Training Loss: 0.032243002 Testing Loss: 0.106400415  Training Acc: 0.990115821 Testing Acc: 0.978699982\n",
            "Epoch: 571 Training Loss: 0.034633290 Testing Loss: 0.106334276  Training Acc: 0.988618195 Testing Acc: 0.977966666\n",
            "Epoch: 572 Training Loss: 0.035954390 Testing Loss: 0.112881899  Training Acc: 0.989217222 Testing Acc: 0.977416694\n",
            "Epoch: 573 Training Loss: 0.034548156 Testing Loss: 0.110504523  Training Acc: 0.987819493 Testing Acc: 0.977050006\n",
            "Epoch: 574 Training Loss: 0.035056051 Testing Loss: 0.108121827  Training Acc: 0.988718033 Testing Acc: 0.977666676\n",
            "Epoch: 575 Training Loss: 0.037305932 Testing Loss: 0.110622190  Training Acc: 0.988718033 Testing Acc: 0.977333367\n",
            "Epoch: 576 Training Loss: 0.037805147 Testing Loss: 0.108560637  Training Acc: 0.987519979 Testing Acc: 0.977600038\n",
            "Epoch: 577 Training Loss: 0.039906505 Testing Loss: 0.113035679  Training Acc: 0.987320244 Testing Acc: 0.976800025\n",
            "Epoch: 578 Training Loss: 0.035491847 Testing Loss: 0.117619708  Training Acc: 0.988718033 Testing Acc: 0.976800025\n",
            "Epoch: 579 Training Loss: 0.041845463 Testing Loss: 0.107716352  Training Acc: 0.987320244 Testing Acc: 0.977816701\n",
            "Epoch: 580 Training Loss: 0.030708097 Testing Loss: 0.106118076  Training Acc: 0.989616573 Testing Acc: 0.977933347\n",
            "Epoch: 581 Training Loss: 0.036353972 Testing Loss: 0.109116226  Training Acc: 0.987619817 Testing Acc: 0.977900028\n",
            "Epoch: 582 Training Loss: 0.035976399 Testing Loss: 0.104282849  Training Acc: 0.987919331 Testing Acc: 0.977999985\n",
            "Epoch: 583 Training Loss: 0.037580371 Testing Loss: 0.113618977  Training Acc: 0.988218844 Testing Acc: 0.976283371\n",
            "Epoch: 584 Training Loss: 0.044851322 Testing Loss: 0.109510943  Training Acc: 0.985123813 Testing Acc: 0.977033317\n",
            "Epoch: 585 Training Loss: 0.036304846 Testing Loss: 0.107054524  Training Acc: 0.989117384 Testing Acc: 0.977366686\n",
            "Epoch: 586 Training Loss: 0.037357520 Testing Loss: 0.105646826  Training Acc: 0.988218844 Testing Acc: 0.977233350\n",
            "Epoch: 587 Training Loss: 0.042125858 Testing Loss: 0.105107859  Training Acc: 0.987420082 Testing Acc: 0.977366686\n",
            "Epoch: 588 Training Loss: 0.029882461 Testing Loss: 0.106237553  Training Acc: 0.989416897 Testing Acc: 0.976800025\n",
            "Epoch: 589 Training Loss: 0.038963042 Testing Loss: 0.107586280  Training Acc: 0.988318682 Testing Acc: 0.976999998\n",
            "Epoch: 590 Training Loss: 0.040286593 Testing Loss: 0.109338969  Training Acc: 0.986222029 Testing Acc: 0.977066696\n",
            "Epoch: 591 Training Loss: 0.033519566 Testing Loss: 0.107177272  Training Acc: 0.988518357 Testing Acc: 0.977533340\n",
            "Epoch: 592 Training Loss: 0.038258307 Testing Loss: 0.106591366  Training Acc: 0.987619817 Testing Acc: 0.977816701\n",
            "Epoch: 593 Training Loss: 0.044262078 Testing Loss: 0.110930935  Training Acc: 0.985223651 Testing Acc: 0.976899981\n",
            "Epoch: 594 Training Loss: 0.033218209 Testing Loss: 0.106036648  Training Acc: 0.989916146 Testing Acc: 0.977566659\n",
            "Epoch: 595 Training Loss: 0.042406324 Testing Loss: 0.111865550  Training Acc: 0.987020731 Testing Acc: 0.976150036\n",
            "Epoch: 596 Training Loss: 0.039255712 Testing Loss: 0.110879615  Training Acc: 0.987420082 Testing Acc: 0.976233363\n",
            "Epoch: 597 Training Loss: 0.032913428 Testing Loss: 0.112514861  Training Acc: 0.989317060 Testing Acc: 0.976650000\n",
            "Epoch: 598 Training Loss: 0.037769154 Testing Loss: 0.111880347  Training Acc: 0.988218844 Testing Acc: 0.976933360\n",
            "Epoch: 599 Training Loss: 0.035252575 Testing Loss: 0.112419792  Training Acc: 0.988817871 Testing Acc: 0.976716697\n",
            "Epoch: 600 Training Loss: 0.035702478 Testing Loss: 0.105297476  Training Acc: 0.989716411 Testing Acc: 0.977900028\n"
          ],
          "name": "stdout"
        }
      ]
    },
    {
      "cell_type": "code",
      "metadata": {
        "colab": {
          "base_uri": "https://localhost:8080/",
          "height": 592
        },
        "id": "vzn6YyGw9ULY",
        "outputId": "a4beb5ef-ee6a-46f1-b401-059ef9769a11"
      },
      "source": [
        "plt.figure(figsize = (10,10))\n",
        "plt.plot(L_train, linewidth = 2, c='b', label = \"train\")\n",
        "plt.plot(L_test, linewidth = 2, c='r', label = \"test\")\n",
        "plt.legend()\n",
        "plt.show()"
      ],
      "execution_count": 16,
      "outputs": [
        {
          "output_type": "display_data",
          "data": {
            "image/png": "[encoded data removed]",
            "text/plain": [
              "<Figure size 720x720 with 1 Axes>"
            ]
          },
          "metadata": {
            "tags": [],
            "needs_background": "light"
          }
        }
      ]
    },
    {
      "cell_type": "code",
      "metadata": {
        "colab": {
          "base_uri": "https://localhost:8080/",
          "height": 592
        },
        "id": "Rl1MuQhtqsg2",
        "outputId": "e4137f35-89c6-4b8c-da65-0de7cf076f6e"
      },
      "source": [
        "plt.figure(figsize = (10,10))\n",
        "plt.plot(A_train, linewidth = 2, c='b', label = \"train\")\n",
        "plt.plot(A_test, linewidth = 2, c='r', label = \"test\")\n",
        "plt.legend()\n",
        "plt.show()"
      ],
      "execution_count": 17,
      "outputs": [
        {
          "output_type": "display_data",
          "data": {
            "image/png": "[encoded data removed]",
            "text/plain": [
              "<Figure size 720x720 with 1 Axes>"
            ]
          },
          "metadata": {
            "tags": [],
            "needs_background": "light"
          }
        }
      ]
    },
    {
      "cell_type": "code",
      "metadata": {
        "colab": {
          "base_uri": "https://localhost:8080/"
        },
        "id": "4990rRublMpD",
        "outputId": "bd884663-5001-4cde-a776-16b8b62b960d"
      },
      "source": [
        "print(\"training loss    %.2f\" %(L_train[-1]))\n",
        "print(\"testing loss     %.2f\" %(L_test[-1]))\n",
        "print(\"training acc    %.2f\" %(A_train[-1]))\n",
        "print(\"testing acc     %.2f\" %(A_test[-1]))"
      ],
      "execution_count": 18,
      "outputs": [
        {
          "output_type": "stream",
          "text": [
            "training loss    0.04\n",
            "testing loss     0.11\n",
            "training acc    0.99\n",
            "testing acc     0.98\n"
          ],
          "name": "stdout"
        }
      ]
    },
    {
      "cell_type": "markdown",
      "metadata": {
        "id": "z4L9RrzOz5xl"
      },
      "source": [
        "# 5. Output\n",
        "<hr>"
      ]
    },
    {
      "cell_type": "markdown",
      "metadata": {
        "id": "alN6-n0r0DTO"
      },
      "source": [
        "## 1. Plot the training and testing losses over epochs"
      ]
    },
    {
      "cell_type": "code",
      "metadata": {
        "id": "d8WFmmL4Shvy",
        "outputId": "cdb32a87-4a07-4349-83fb-3e9d09e08ca4",
        "colab": {
          "base_uri": "https://localhost:8080/",
          "height": 592
        }
      },
      "source": [
        "plt.figure(figsize = (10,10))\n",
        "plt.plot(L_train, linewidth = 2, c='b', label = \"train\")\n",
        "plt.plot(L_test, linewidth = 2, c='r', label = \"test\")\n",
        "plt.legend()\n",
        "plt.show()"
      ],
      "execution_count": 19,
      "outputs": [
        {
          "output_type": "display_data",
          "data": {
            "image/png": "[encoded data removed]",
            "text/plain": [
              "<Figure size 720x720 with 1 Axes>"
            ]
          },
          "metadata": {
            "tags": [],
            "needs_background": "light"
          }
        }
      ]
    },
    {
      "cell_type": "markdown",
      "metadata": {
        "id": "4t1dSyC1AVe0"
      },
      "source": [
        "## 2. Plot the training and testing accuracies over epochs"
      ]
    },
    {
      "cell_type": "code",
      "metadata": {
        "id": "xUlVVIpISjl6",
        "outputId": "00acceaf-0b87-432b-b01a-c4cd5917c752",
        "colab": {
          "base_uri": "https://localhost:8080/",
          "height": 592
        }
      },
      "source": [
        "plt.figure(figsize = (10,10))\n",
        "plt.plot(A_train, linewidth = 2, c='b', label = \"train\")\n",
        "plt.plot(A_test, linewidth = 2, c='r', label = \"test\")\n",
        "plt.legend()\n",
        "plt.show()"
      ],
      "execution_count": 20,
      "outputs": [
        {
          "output_type": "display_data",
          "data": {
            "image/png": "[encoded data removed]",
            "text/plain": [
              "<Figure size 720x720 with 1 Axes>"
            ]
          },
          "metadata": {
            "tags": [],
            "needs_background": "light"
          }
        }
      ]
    },
    {
      "cell_type": "markdown",
      "metadata": {
        "id": "px7XRkcnAnc7"
      },
      "source": [
        "## 3.  Print the final training and testing losses at convergence "
      ]
    },
    {
      "cell_type": "code",
      "metadata": {
        "id": "RrvuQ_SCSlJ_",
        "outputId": "3ac075fd-754e-47be-8d47-462f1e1b6fa2",
        "colab": {
          "base_uri": "https://localhost:8080/"
        }
      },
      "source": [
        "print(\"loss\")\n",
        "print(\"train    %.2f\" %(L_train[-1]))\n",
        "print(\"test     %.2f\" %(L_test[-1]))"
      ],
      "execution_count": 21,
      "outputs": [
        {
          "output_type": "stream",
          "text": [
            "loss\n",
            "train    0.04\n",
            "test     0.11\n"
          ],
          "name": "stdout"
        }
      ]
    },
    {
      "cell_type": "markdown",
      "metadata": {
        "id": "gW87VTpwAtMB"
      },
      "source": [
        "## 4. Print the final training and testing accuracies at convergence"
      ]
    },
    {
      "cell_type": "code",
      "metadata": {
        "id": "mpgCDaBpCWT_",
        "outputId": "efda424e-f852-4bac-f9a8-3a54474a9665",
        "colab": {
          "base_uri": "https://localhost:8080/"
        }
      },
      "source": [
        "print(\"Accuracy\")\n",
        "print(\"train    %.6f, %.2f\" %(A_train[-1], A_train[-1]))\n",
        "print(\"test     %.6f, %.2f\" %(A_test[-1], A_test[-1]))"
      ],
      "execution_count": 23,
      "outputs": [
        {
          "output_type": "stream",
          "text": [
            "Accuracy\n",
            "train    0.989716, 0.99\n",
            "test     0.977900, 0.98\n"
          ],
          "name": "stdout"
        }
      ]
    },
    {
      "cell_type": "code",
      "metadata": {
        "id": "vu8Vw6cwassu"
      },
      "source": [
        ""
      ],
      "execution_count": null,
      "outputs": []
    }
  ]
}