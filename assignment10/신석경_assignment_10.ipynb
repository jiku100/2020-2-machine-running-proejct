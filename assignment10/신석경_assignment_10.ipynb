{
  "nbformat": 4,
  "nbformat_minor": 0,
  "metadata": {
    "accelerator": "GPU",
    "colab": {
      "name": "신석경_assignment_10",
      "provenance": [],
      "collapsed_sections": [],
      "authorship_tag": "ABX9TyPpuo9qFWcW1H6GM7yD3bVY",
      "include_colab_link": true
    },
    "kernelspec": {
      "display_name": "Python 3",
      "name": "python3"
    }
  },
  "cells": [
    {
      "cell_type": "markdown",
      "metadata": {
        "id": "view-in-github",
        "colab_type": "text"
      },
      "source": [
        "<a href=\"https://colab.research.google.com/github/jiku100/2020-2-machine-running-proejct/blob/master/assignment10/%EC%8B%A0%EC%84%9D%EA%B2%BD_assignment_10.ipynb\" target=\"_parent\"><img src=\"https://colab.research.google.com/assets/colab-badge.svg\" alt=\"Open In Colab\"/></a>"
      ]
    },
    {
      "cell_type": "markdown",
      "metadata": {
        "id": "0gzdXwFJz0KJ"
      },
      "source": [
        "# **Classification for Multiple Categories using Pytorch for best accuracy**\n",
        "\n"
      ]
    },
    {
      "cell_type": "markdown",
      "metadata": {
        "id": "w_C7Cujjz4ff"
      },
      "source": [
        "# 1. Import library\n",
        "<hr>"
      ]
    },
    {
      "cell_type": "code",
      "metadata": {
        "id": "gtlbKT3Izgre"
      },
      "source": [
        "import torch\n",
        "import torch.nn as nn\n",
        "import torch.optim as optim\n",
        "import torch.nn.init as init\n",
        "import torchvision\n",
        "import torchvision.transforms as transforms\n",
        "import torchvision.datasets as datasets\n",
        "from torch.utils.data import DataLoader\n",
        "\n",
        "import matplotlib.pyplot as plt\n",
        "import cv2\n",
        "import numpy as np"
      ],
      "execution_count": 1,
      "outputs": []
    },
    {
      "cell_type": "code",
      "metadata": {
        "colab": {
          "base_uri": "https://localhost:8080/"
        },
        "id": "JC9KWsHg7lTJ",
        "outputId": "1514fe27-4ce9-4fb4-f7ec-3d8325c689f5"
      },
      "source": [
        "USE_CUDA = torch.cuda.is_available()\n",
        "device = torch.device(\"cuda\" if USE_CUDA else \"cpu\")\n",
        "print(\"다음 기기로 학습합니다:\", device)"
      ],
      "execution_count": 2,
      "outputs": [
        {
          "output_type": "stream",
          "text": [
            "다음 기기로 학습합니다: cuda\n"
          ],
          "name": "stdout"
        }
      ]
    },
    {
      "cell_type": "markdown",
      "metadata": {
        "id": "nBCurPvD3NoM"
      },
      "source": [
        "# 2. Preprocessing Data\n",
        "<hr>"
      ]
    },
    {
      "cell_type": "code",
      "metadata": {
        "id": "4tVba13YD-s9"
      },
      "source": [
        "transform_train = transforms.Compose([\n",
        "        transforms.ToTensor(),\n",
        "        transforms.RandomRotation(15),\n",
        "        transforms.Normalize((0.1307,),(0.3081,))                    # 이미지를 텐서로 변형합니다.\n",
        "])\n",
        "\n",
        "transform_test = transforms.Compose([\n",
        "        transforms.ToTensor(), \n",
        "        transforms.Normalize((0.1307,),(0.3081,))            \n",
        "])"
      ],
      "execution_count": 3,
      "outputs": []
    },
    {
      "cell_type": "code",
      "metadata": {
        "id": "1uNdu0HqJEQv"
      },
      "source": [
        "data_path = './MNIST'\n",
        "\n",
        "data_test   = datasets.MNIST(root = data_path, train= True, download=True, transform= transform_test)\n",
        "data_train  = datasets.MNIST(root = data_path, train= False, download=True, transform= transform_train)"
      ],
      "execution_count": 4,
      "outputs": []
    },
    {
      "cell_type": "code",
      "metadata": {
        "colab": {
          "base_uri": "https://localhost:8080/",
          "height": 387
        },
        "id": "8SJcK-t2D3Bp",
        "outputId": "70052211-f738-49eb-a17a-69e4cd93a92e"
      },
      "source": [
        "one_image, label = data_train[0]\n",
        "print(\"type of one image\", type(one_image))\n",
        "print(\"size of one image : \", one_image.shape)\n",
        "plt.imshow(one_image.squeeze().numpy(), cmap='gray')\n",
        "print(\"type of label : \", type(label))\n",
        "print(\"label : \", label)\n",
        "print(np.max(data_train.train_data[0].view(-1).numpy()))"
      ],
      "execution_count": 5,
      "outputs": [
        {
          "output_type": "stream",
          "text": [
            "type of one image <class 'torch.Tensor'>\n",
            "size of one image :  torch.Size([1, 28, 28])\n",
            "type of label :  <class 'int'>\n",
            "label :  7\n",
            "255\n"
          ],
          "name": "stdout"
        },
        {
          "output_type": "stream",
          "text": [
            "/usr/local/lib/python3.6/dist-packages/torchvision/datasets/mnist.py:58: UserWarning: train_data has been renamed data\n",
            "  warnings.warn(\"train_data has been renamed data\")\n"
          ],
          "name": "stderr"
        },
        {
          "output_type": "display_data",
          "data": {
            "image/png": "[encoded data removed]",
            "text/plain": [
              "<Figure size 432x288 with 1 Axes>"
            ]
          },
          "metadata": {
            "tags": [],
            "needs_background": "light"
          }
        }
      ]
    },
    {
      "cell_type": "code",
      "metadata": {
        "id": "lUj2JTgY4r4c"
      },
      "source": [
        "learning_rate = 0.0015\n",
        "training_epochs = 200\n",
        "batch_size = 32\n",
        "drop_prob = 0.5"
      ],
      "execution_count": 6,
      "outputs": []
    },
    {
      "cell_type": "code",
      "metadata": {
        "id": "CkgCtS3b3giF"
      },
      "source": [
        "train_loader = DataLoader(dataset = data_train, batch_size = batch_size, num_workers = 2, shuffle = True) ## batch size 32 짜리 train loader 생성\n",
        "test_loader = DataLoader(dataset = data_test, batch_size = batch_size, num_workers = 2, shuffle = True) ## batch size 32 짜리 test loader 생성"
      ],
      "execution_count": 7,
      "outputs": []
    },
    {
      "cell_type": "markdown",
      "metadata": {
        "id": "SCsB9Pdk6zd7"
      },
      "source": [
        "# 3. Define Model\n",
        "<hr>"
      ]
    },
    {
      "cell_type": "code",
      "metadata": {
        "id": "-cUHqcW25etQ"
      },
      "source": [
        "class classification(nn.Module):\n",
        "    def __init__(self):\n",
        "        super(classification, self).__init__()\n",
        "        \n",
        "        # construct layers for a neural network\n",
        "        self.classifier1 = nn.Sequential(\n",
        "            nn.Linear(in_features=28*28, out_features=400),\n",
        "            nn.BatchNorm1d(400),\n",
        "            nn.ReLU(),\n",
        "            nn.Dropout(p=drop_prob)\n",
        "        ) \n",
        "        self.classifier2 = nn.Sequential(\n",
        "            nn.Linear(in_features=400, out_features=225),\n",
        "            nn.BatchNorm1d(225),\n",
        "            nn.ReLU(),\n",
        "            nn.Dropout(p=drop_prob)\n",
        "        ) \n",
        "        self.classifier3 = nn.Sequential(\n",
        "            nn.Linear(in_features=225, out_features=10),\n",
        "        ) \n",
        "\n",
        "        for m in self.modules():\n",
        "          if isinstance(m, nn.Linear):\n",
        "            init.kaiming_normal_(m.weight.data) # Kaming He Initialization\n",
        "            m.bias.data.fill_(0)                # 편차를 0으로 초기화 \n",
        "\n",
        "    def forward(self, inputs):                 # [batchSize, 1, 28, 28]\n",
        "        x = inputs.view(inputs.size(0), -1)    # [batchSize, 28*28]\n",
        "        x = self.classifier1(x)                # [batchSize, 20*20]\n",
        "        x = self.classifier2(x)                # [batchSize, 10*10]\n",
        "        out = self.classifier3(x)              # [batchSize, 10]\n",
        "        \n",
        "        return out\n",
        "\n"
      ],
      "execution_count": 8,
      "outputs": []
    },
    {
      "cell_type": "code",
      "metadata": {
        "id": "MWYQ30d37dwC"
      },
      "source": [
        "model = classification().to(device)"
      ],
      "execution_count": 9,
      "outputs": []
    },
    {
      "cell_type": "code",
      "metadata": {
        "id": "-GpzWr1V64wc"
      },
      "source": [
        "criterion = nn.CrossEntropyLoss().to(device)    # Softmax is internally computed.\n",
        "optimizer = torch.optim.Adam(model.parameters(), lr=learning_rate)\n",
        "scheduler = optim.lr_scheduler.StepLR(optimizer, 10, gamma=0.1, last_epoch=-1)"
      ],
      "execution_count": 10,
      "outputs": []
    },
    {
      "cell_type": "markdown",
      "metadata": {
        "id": "lsNWP3Wk8Siq"
      },
      "source": [
        "# 4. Training\n",
        "<hr>"
      ]
    },
    {
      "cell_type": "code",
      "metadata": {
        "id": "1_QSSPkC7sCr"
      },
      "source": [
        "total_batch= len(train_loader)"
      ],
      "execution_count": 11,
      "outputs": []
    },
    {
      "cell_type": "code",
      "metadata": {
        "colab": {
          "base_uri": "https://localhost:8080/"
        },
        "id": "9_SeUrHB5gLH",
        "outputId": "d014a336-8b60-431b-aa04-bf7949359f12"
      },
      "source": [
        "print(total_batch)"
      ],
      "execution_count": 12,
      "outputs": [
        {
          "output_type": "stream",
          "text": [
            "313\n"
          ],
          "name": "stdout"
        }
      ]
    },
    {
      "cell_type": "code",
      "metadata": {
        "id": "eaJMZ8TvcglJ"
      },
      "source": [
        "def accuracy(log_pred, y_true):\n",
        "    y_pred = torch.argmax(log_pred, dim=1)\n",
        "    return (y_pred == y_true).to(torch.float).mean()"
      ],
      "execution_count": 13,
      "outputs": []
    },
    {
      "cell_type": "code",
      "metadata": {
        "id": "Kl5FuVgt8_LF"
      },
      "source": [
        "def training(model, loss, optim, training_epochs, train_loader, test_loader):\n",
        "  L_iters_train = []\n",
        "  accuracy_train = []\n",
        "  L_iters_test = []\n",
        "  accuracy_test = []\n",
        "  for epoch in range(training_epochs):\n",
        "    total_cost_train = 0\n",
        "    total_cost_test = 0\n",
        "    total_acc_train = 0\n",
        "    total_acc_test = 0\n",
        "    model.train()\n",
        "    for X, Y in train_loader:\n",
        "      X = X.to(device)\n",
        "      Y = Y.to(device)\n",
        "\n",
        "      optim.zero_grad()\n",
        "      train_pred = model(X)\n",
        "      cost = loss(train_pred, Y)\n",
        "      cost.backward()\n",
        "      optim.step()\n",
        "\n",
        "      total_cost_train += cost\n",
        "      total_acc_train += accuracy(train_pred, Y)\n",
        "      \n",
        "    avg_cost_train = total_cost_train / len(train_loader)\n",
        "    avg_acc_train = total_acc_train / len(train_loader)\n",
        "\n",
        "    L_iters_train.append(avg_cost_train)\n",
        "    accuracy_train.append(avg_acc_train)\n",
        "    model.eval()\n",
        "    with torch.no_grad():\n",
        "      for X_test, Y_test in test_loader:\n",
        "        X_test = X_test.to(device)\n",
        "        Y_test = Y_test.to(device)\n",
        "        test_pred = model(X_test)\n",
        "        cost_test = loss(test_pred, Y_test)\n",
        "        total_cost_test += cost_test\n",
        "        total_acc_test += accuracy(test_pred, Y_test)\n",
        "      avg_cost_test = total_cost_test / len(test_loader)\n",
        "      avg_acc_test = total_acc_test / len(test_loader)\n",
        "    \n",
        "      accuracy_test.append(avg_acc_test)\n",
        "      L_iters_test.append(avg_cost_test)\n",
        "\n",
        "    print(\"Epoch: %02d Training Loss: %.9f Testing Loss: %.9f  Training Acc: %.9f Testing Acc: %.9f\" %((epoch + 1),avg_cost_train, avg_cost_test, avg_acc_train, avg_acc_test))\n",
        "  return L_iters_train, accuracy_train, L_iters_test, accuracy_test"
      ],
      "execution_count": 14,
      "outputs": []
    },
    {
      "cell_type": "code",
      "metadata": {
        "colab": {
          "base_uri": "https://localhost:8080/"
        },
        "id": "hOfKPriA84jq",
        "outputId": "09da82a8-ef44-400c-9e89-6e881ea9c08d"
      },
      "source": [
        "L_train, A_train, L_test, A_test = training(model, criterion, optimizer, training_epochs, train_loader, test_loader)"
      ],
      "execution_count": 15,
      "outputs": [
        {
          "output_type": "stream",
          "text": [
            "Epoch: 01 Training Loss: 0.755622923 Testing Loss: 0.280405730  Training Acc: 0.752496004 Testing Acc: 0.916866660\n",
            "Epoch: 02 Training Loss: 0.430110633 Testing Loss: 0.228513733  Training Acc: 0.863917708 Testing Acc: 0.931550026\n",
            "Epoch: 03 Training Loss: 0.362293154 Testing Loss: 0.206482902  Training Acc: 0.885682881 Testing Acc: 0.938416660\n",
            "Epoch: 04 Training Loss: 0.331663728 Testing Loss: 0.177935570  Training Acc: 0.895567060 Testing Acc: 0.946500003\n",
            "Epoch: 05 Training Loss: 0.288435787 Testing Loss: 0.172011584  Training Acc: 0.908146977 Testing Acc: 0.947899997\n",
            "Epoch: 06 Training Loss: 0.279735863 Testing Loss: 0.155221090  Training Acc: 0.912539899 Testing Acc: 0.953683317\n",
            "Epoch: 07 Training Loss: 0.260206997 Testing Loss: 0.146618783  Training Acc: 0.916533530 Testing Acc: 0.955616653\n",
            "Epoch: 08 Training Loss: 0.253630728 Testing Loss: 0.146833286  Training Acc: 0.920127749 Testing Acc: 0.955966651\n",
            "Epoch: 09 Training Loss: 0.227212429 Testing Loss: 0.147214338  Training Acc: 0.925519168 Testing Acc: 0.955933332\n",
            "Epoch: 10 Training Loss: 0.220049992 Testing Loss: 0.137503356  Training Acc: 0.927316248 Testing Acc: 0.958983362\n",
            "Epoch: 11 Training Loss: 0.219737813 Testing Loss: 0.141563952  Training Acc: 0.929712415 Testing Acc: 0.958949983\n",
            "Epoch: 12 Training Loss: 0.213603422 Testing Loss: 0.132013440  Training Acc: 0.932108581 Testing Acc: 0.960500002\n",
            "Epoch: 13 Training Loss: 0.206325203 Testing Loss: 0.125935704  Training Acc: 0.932707667 Testing Acc: 0.962233365\n",
            "Epoch: 14 Training Loss: 0.204445347 Testing Loss: 0.121199809  Training Acc: 0.933306694 Testing Acc: 0.964016676\n",
            "Epoch: 15 Training Loss: 0.186390981 Testing Loss: 0.115006641  Training Acc: 0.942392170 Testing Acc: 0.964733362\n",
            "Epoch: 16 Training Loss: 0.173255101 Testing Loss: 0.115116663  Training Acc: 0.943490386 Testing Acc: 0.965266705\n",
            "Epoch: 17 Training Loss: 0.186072037 Testing Loss: 0.113112211  Training Acc: 0.941493571 Testing Acc: 0.966383338\n",
            "Epoch: 18 Training Loss: 0.170439422 Testing Loss: 0.117215209  Training Acc: 0.944189310 Testing Acc: 0.965333343\n",
            "Epoch: 19 Training Loss: 0.176791728 Testing Loss: 0.109420463  Training Acc: 0.943091035 Testing Acc: 0.967850029\n",
            "Epoch: 20 Training Loss: 0.169778526 Testing Loss: 0.113957576  Training Acc: 0.948282719 Testing Acc: 0.966066658\n",
            "Epoch: 21 Training Loss: 0.158740789 Testing Loss: 0.108559459  Training Acc: 0.947184503 Testing Acc: 0.968066692\n",
            "Epoch: 22 Training Loss: 0.149927914 Testing Loss: 0.107526079  Training Acc: 0.947783530 Testing Acc: 0.968616664\n",
            "Epoch: 23 Training Loss: 0.144335836 Testing Loss: 0.111184008  Training Acc: 0.953274727 Testing Acc: 0.968050003\n",
            "Epoch: 24 Training Loss: 0.149979666 Testing Loss: 0.109650783  Training Acc: 0.951777160 Testing Acc: 0.967866659\n",
            "Epoch: 25 Training Loss: 0.140806437 Testing Loss: 0.109148011  Training Acc: 0.954472840 Testing Acc: 0.968916655\n",
            "Epoch: 26 Training Loss: 0.143657744 Testing Loss: 0.105250761  Training Acc: 0.952975214 Testing Acc: 0.969550014\n",
            "Epoch: 27 Training Loss: 0.150215983 Testing Loss: 0.111735903  Training Acc: 0.950179696 Testing Acc: 0.968083322\n",
            "Epoch: 28 Training Loss: 0.144862071 Testing Loss: 0.106460981  Training Acc: 0.953274727 Testing Acc: 0.969033360\n",
            "Epoch: 29 Training Loss: 0.136759385 Testing Loss: 0.107984059  Training Acc: 0.954872191 Testing Acc: 0.968683362\n",
            "Epoch: 30 Training Loss: 0.135129571 Testing Loss: 0.109515578  Training Acc: 0.955471218 Testing Acc: 0.968783319\n",
            "Epoch: 31 Training Loss: 0.129195929 Testing Loss: 0.101885468  Training Acc: 0.957867384 Testing Acc: 0.970516682\n",
            "Epoch: 32 Training Loss: 0.134791598 Testing Loss: 0.102713674  Training Acc: 0.957068682 Testing Acc: 0.970750034\n",
            "Epoch: 33 Training Loss: 0.134670109 Testing Loss: 0.101819396  Training Acc: 0.957767546 Testing Acc: 0.970250010\n",
            "Epoch: 34 Training Loss: 0.139701754 Testing Loss: 0.104604132  Training Acc: 0.955071867 Testing Acc: 0.970516682\n",
            "Epoch: 35 Training Loss: 0.117993474 Testing Loss: 0.103581503  Training Acc: 0.961861014 Testing Acc: 0.970300019\n",
            "Epoch: 36 Training Loss: 0.125881016 Testing Loss: 0.102190375  Training Acc: 0.959165335 Testing Acc: 0.971199989\n",
            "Epoch: 37 Training Loss: 0.122755408 Testing Loss: 0.105190776  Training Acc: 0.960862577 Testing Acc: 0.970266700\n",
            "Epoch: 38 Training Loss: 0.117755860 Testing Loss: 0.099897973  Training Acc: 0.961861014 Testing Acc: 0.972150028\n",
            "Epoch: 39 Training Loss: 0.126271680 Testing Loss: 0.102928929  Training Acc: 0.958765984 Testing Acc: 0.970216691\n",
            "Epoch: 40 Training Loss: 0.123906605 Testing Loss: 0.104096822  Training Acc: 0.959764361 Testing Acc: 0.970750034\n",
            "Epoch: 41 Training Loss: 0.122880302 Testing Loss: 0.102944084  Training Acc: 0.960463226 Testing Acc: 0.971666694\n",
            "Epoch: 42 Training Loss: 0.109902672 Testing Loss: 0.100743823  Training Acc: 0.964656532 Testing Acc: 0.972050011\n",
            "Epoch: 43 Training Loss: 0.116209961 Testing Loss: 0.105993249  Training Acc: 0.963957667 Testing Acc: 0.970266700\n",
            "Epoch: 44 Training Loss: 0.106157273 Testing Loss: 0.105284870  Training Acc: 0.966853023 Testing Acc: 0.970633328\n",
            "Epoch: 45 Training Loss: 0.110107675 Testing Loss: 0.097938254  Training Acc: 0.963857830 Testing Acc: 0.972416699\n",
            "Epoch: 46 Training Loss: 0.113760829 Testing Loss: 0.100249879  Training Acc: 0.963558316 Testing Acc: 0.972016692\n",
            "Epoch: 47 Training Loss: 0.112798817 Testing Loss: 0.103023171  Training Acc: 0.964856207 Testing Acc: 0.970816672\n",
            "Epoch: 48 Training Loss: 0.110119827 Testing Loss: 0.100077428  Training Acc: 0.963458478 Testing Acc: 0.971933365\n",
            "Epoch: 49 Training Loss: 0.110158972 Testing Loss: 0.100258902  Training Acc: 0.965055883 Testing Acc: 0.972133338\n",
            "Epoch: 50 Training Loss: 0.104114421 Testing Loss: 0.096683010  Training Acc: 0.965854645 Testing Acc: 0.973349988\n",
            "Epoch: 51 Training Loss: 0.103055984 Testing Loss: 0.102054231  Training Acc: 0.966653347 Testing Acc: 0.972166657\n",
            "Epoch: 52 Training Loss: 0.112551339 Testing Loss: 0.106733195  Training Acc: 0.960862577 Testing Acc: 0.971266687\n",
            "Epoch: 53 Training Loss: 0.104220517 Testing Loss: 0.096239008  Training Acc: 0.963558316 Testing Acc: 0.973216653\n",
            "Epoch: 54 Training Loss: 0.099433906 Testing Loss: 0.098403655  Training Acc: 0.965954483 Testing Acc: 0.973049998\n",
            "Epoch: 55 Training Loss: 0.101682328 Testing Loss: 0.098892361  Training Acc: 0.967152536 Testing Acc: 0.973283350\n",
            "Epoch: 56 Training Loss: 0.111984864 Testing Loss: 0.100422390  Training Acc: 0.962559879 Testing Acc: 0.973200023\n",
            "Epoch: 57 Training Loss: 0.099781677 Testing Loss: 0.095643088  Training Acc: 0.967651725 Testing Acc: 0.973450005\n",
            "Epoch: 58 Training Loss: 0.106301203 Testing Loss: 0.094049081  Training Acc: 0.967452049 Testing Acc: 0.973616660\n",
            "Epoch: 59 Training Loss: 0.095120341 Testing Loss: 0.099601716  Training Acc: 0.967551887 Testing Acc: 0.973150015\n",
            "Epoch: 60 Training Loss: 0.096661940 Testing Loss: 0.093699917  Training Acc: 0.971146166 Testing Acc: 0.973816693\n",
            "Epoch: 61 Training Loss: 0.098572932 Testing Loss: 0.098393515  Training Acc: 0.968150914 Testing Acc: 0.973150015\n",
            "Epoch: 62 Training Loss: 0.099756517 Testing Loss: 0.098261259  Training Acc: 0.967252374 Testing Acc: 0.973850012\n",
            "Epoch: 63 Training Loss: 0.096483879 Testing Loss: 0.100211017  Training Acc: 0.967851400 Testing Acc: 0.972516656\n",
            "Epoch: 64 Training Loss: 0.102908723 Testing Loss: 0.100048341  Training Acc: 0.967152536 Testing Acc: 0.972900033\n",
            "Epoch: 65 Training Loss: 0.091500469 Testing Loss: 0.100650072  Training Acc: 0.969848216 Testing Acc: 0.973116696\n",
            "Epoch: 66 Training Loss: 0.095126562 Testing Loss: 0.101396389  Training Acc: 0.967851400 Testing Acc: 0.972550035\n",
            "Epoch: 67 Training Loss: 0.094456926 Testing Loss: 0.102108598  Training Acc: 0.971545517 Testing Acc: 0.973133326\n",
            "Epoch: 68 Training Loss: 0.090481341 Testing Loss: 0.096159734  Training Acc: 0.969249189 Testing Acc: 0.973850012\n",
            "Epoch: 69 Training Loss: 0.086331375 Testing Loss: 0.100225560  Training Acc: 0.971445680 Testing Acc: 0.973166704\n",
            "Epoch: 70 Training Loss: 0.092569135 Testing Loss: 0.104557879  Training Acc: 0.968051076 Testing Acc: 0.972649992\n",
            "Epoch: 71 Training Loss: 0.086221211 Testing Loss: 0.103933737  Training Acc: 0.970347404 Testing Acc: 0.971899986\n",
            "Epoch: 72 Training Loss: 0.092616841 Testing Loss: 0.101488158  Training Acc: 0.968350649 Testing Acc: 0.972733319\n",
            "Epoch: 73 Training Loss: 0.085118532 Testing Loss: 0.099529870  Training Acc: 0.972244382 Testing Acc: 0.973483324\n",
            "Epoch: 74 Training Loss: 0.090949997 Testing Loss: 0.101387836  Training Acc: 0.970646977 Testing Acc: 0.973033369\n",
            "Epoch: 75 Training Loss: 0.077903874 Testing Loss: 0.093277581  Training Acc: 0.976337850 Testing Acc: 0.974916697\n",
            "Epoch: 76 Training Loss: 0.090405233 Testing Loss: 0.093469359  Training Acc: 0.971246004 Testing Acc: 0.974666655\n",
            "Epoch: 77 Training Loss: 0.095070183 Testing Loss: 0.094874650  Training Acc: 0.970047891 Testing Acc: 0.974849999\n",
            "Epoch: 78 Training Loss: 0.089667320 Testing Loss: 0.100336149  Training Acc: 0.969648540 Testing Acc: 0.973349988\n",
            "Epoch: 79 Training Loss: 0.086117238 Testing Loss: 0.099499345  Training Acc: 0.970447242 Testing Acc: 0.974033356\n",
            "Epoch: 80 Training Loss: 0.089303464 Testing Loss: 0.097552106  Training Acc: 0.970047891 Testing Acc: 0.973816693\n",
            "Epoch: 81 Training Loss: 0.087559961 Testing Loss: 0.096202530  Training Acc: 0.970746815 Testing Acc: 0.974500000\n",
            "Epoch: 82 Training Loss: 0.087532379 Testing Loss: 0.097162649  Training Acc: 0.971246004 Testing Acc: 0.974783361\n",
            "Epoch: 83 Training Loss: 0.083326854 Testing Loss: 0.101312436  Training Acc: 0.971845031 Testing Acc: 0.973066688\n",
            "Epoch: 84 Training Loss: 0.083845437 Testing Loss: 0.094708443  Training Acc: 0.973043084 Testing Acc: 0.975300014\n",
            "Epoch: 85 Training Loss: 0.080607541 Testing Loss: 0.097006470  Training Acc: 0.972743571 Testing Acc: 0.974583328\n",
            "Epoch: 86 Training Loss: 0.086385466 Testing Loss: 0.097661860  Training Acc: 0.972044706 Testing Acc: 0.974350035\n",
            "Epoch: 87 Training Loss: 0.083778791 Testing Loss: 0.094063029  Training Acc: 0.972743571 Testing Acc: 0.975350022\n",
            "Epoch: 88 Training Loss: 0.080633625 Testing Loss: 0.100364774  Training Acc: 0.975439250 Testing Acc: 0.973816693\n",
            "Epoch: 89 Training Loss: 0.090815261 Testing Loss: 0.099570476  Training Acc: 0.970147729 Testing Acc: 0.973583341\n",
            "Epoch: 90 Training Loss: 0.088988908 Testing Loss: 0.098504014  Training Acc: 0.969648540 Testing Acc: 0.974833369\n",
            "Epoch: 91 Training Loss: 0.086871304 Testing Loss: 0.097382098  Training Acc: 0.971845031 Testing Acc: 0.974733353\n",
            "Epoch: 92 Training Loss: 0.080861799 Testing Loss: 0.095483691  Training Acc: 0.975439250 Testing Acc: 0.975100040\n",
            "Epoch: 93 Training Loss: 0.075334325 Testing Loss: 0.103914738  Training Acc: 0.976038337 Testing Acc: 0.973366678\n",
            "Epoch: 94 Training Loss: 0.078067675 Testing Loss: 0.101750419  Training Acc: 0.974840224 Testing Acc: 0.974200010\n",
            "Epoch: 95 Training Loss: 0.075051546 Testing Loss: 0.096602850  Training Acc: 0.975539148 Testing Acc: 0.976000011\n",
            "Epoch: 96 Training Loss: 0.072822273 Testing Loss: 0.103465229  Training Acc: 0.974640548 Testing Acc: 0.974483371\n",
            "Epoch: 97 Training Loss: 0.083638459 Testing Loss: 0.098706260  Training Acc: 0.974241197 Testing Acc: 0.975000024\n",
            "Epoch: 98 Training Loss: 0.075496837 Testing Loss: 0.097495370  Training Acc: 0.974540710 Testing Acc: 0.974866688\n",
            "Epoch: 99 Training Loss: 0.073646620 Testing Loss: 0.099273987  Training Acc: 0.976038337 Testing Acc: 0.974633336\n",
            "Epoch: 100 Training Loss: 0.069106452 Testing Loss: 0.096556351  Training Acc: 0.976737201 Testing Acc: 0.975283325\n",
            "Epoch: 101 Training Loss: 0.077607132 Testing Loss: 0.098902546  Training Acc: 0.975938499 Testing Acc: 0.974616706\n",
            "Epoch: 102 Training Loss: 0.073663309 Testing Loss: 0.100521818  Training Acc: 0.974341035 Testing Acc: 0.974633336\n",
            "Epoch: 103 Training Loss: 0.081799202 Testing Loss: 0.098349273  Training Acc: 0.974640548 Testing Acc: 0.974916697\n",
            "Epoch: 104 Training Loss: 0.078920618 Testing Loss: 0.096449181  Training Acc: 0.975139737 Testing Acc: 0.974883318\n",
            "Epoch: 105 Training Loss: 0.072395101 Testing Loss: 0.096296616  Training Acc: 0.977136552 Testing Acc: 0.975383341\n",
            "Epoch: 106 Training Loss: 0.074485220 Testing Loss: 0.095225595  Training Acc: 0.974640548 Testing Acc: 0.976199985\n",
            "Epoch: 107 Training Loss: 0.076943338 Testing Loss: 0.102992386  Training Acc: 0.976138175 Testing Acc: 0.973933339\n",
            "Epoch: 108 Training Loss: 0.072877981 Testing Loss: 0.099253662  Training Acc: 0.976737201 Testing Acc: 0.975383341\n",
            "Epoch: 109 Training Loss: 0.079399429 Testing Loss: 0.099125497  Training Acc: 0.975139737 Testing Acc: 0.974516690\n",
            "Epoch: 110 Training Loss: 0.075009137 Testing Loss: 0.099740699  Training Acc: 0.973542333 Testing Acc: 0.974749982\n",
            "Epoch: 111 Training Loss: 0.077729248 Testing Loss: 0.095562071  Training Acc: 0.975838661 Testing Acc: 0.976000011\n",
            "Epoch: 112 Training Loss: 0.066142231 Testing Loss: 0.099731758  Training Acc: 0.978534341 Testing Acc: 0.975199997\n",
            "Epoch: 113 Training Loss: 0.072424248 Testing Loss: 0.103771284  Training Acc: 0.975539148 Testing Acc: 0.974550009\n",
            "Epoch: 114 Training Loss: 0.072617903 Testing Loss: 0.098273151  Training Acc: 0.977935314 Testing Acc: 0.975100040\n",
            "Epoch: 115 Training Loss: 0.074282065 Testing Loss: 0.096906118  Training Acc: 0.977635741 Testing Acc: 0.975600004\n",
            "Epoch: 116 Training Loss: 0.061895832 Testing Loss: 0.100228712  Training Acc: 0.979832232 Testing Acc: 0.975300014\n",
            "Epoch: 117 Training Loss: 0.065932438 Testing Loss: 0.100114413  Training Acc: 0.979033530 Testing Acc: 0.974700034\n",
            "Epoch: 118 Training Loss: 0.074823804 Testing Loss: 0.105317898  Training Acc: 0.975439250 Testing Acc: 0.973349988\n",
            "Epoch: 119 Training Loss: 0.069094554 Testing Loss: 0.099017717  Training Acc: 0.977036715 Testing Acc: 0.974333346\n",
            "Epoch: 120 Training Loss: 0.077842623 Testing Loss: 0.094125792  Training Acc: 0.976038337 Testing Acc: 0.975833356\n",
            "Epoch: 121 Training Loss: 0.076726258 Testing Loss: 0.096894145  Training Acc: 0.975738823 Testing Acc: 0.975616693\n",
            "Epoch: 122 Training Loss: 0.068322420 Testing Loss: 0.097501896  Training Acc: 0.978534341 Testing Acc: 0.975600004\n",
            "Epoch: 123 Training Loss: 0.071049511 Testing Loss: 0.096876316  Training Acc: 0.977835417 Testing Acc: 0.976050019\n",
            "Epoch: 124 Training Loss: 0.066792786 Testing Loss: 0.095975235  Training Acc: 0.979133368 Testing Acc: 0.976133347\n",
            "Epoch: 125 Training Loss: 0.070907727 Testing Loss: 0.097756535  Training Acc: 0.976936877 Testing Acc: 0.975300014\n",
            "Epoch: 126 Training Loss: 0.074798509 Testing Loss: 0.105860256  Training Acc: 0.976138175 Testing Acc: 0.973216653\n",
            "Epoch: 127 Training Loss: 0.064179301 Testing Loss: 0.096340902  Training Acc: 0.977336228 Testing Acc: 0.975333333\n",
            "Epoch: 128 Training Loss: 0.064324982 Testing Loss: 0.098790154  Training Acc: 0.978035152 Testing Acc: 0.975499988\n",
            "Epoch: 129 Training Loss: 0.073110178 Testing Loss: 0.095940553  Training Acc: 0.976337850 Testing Acc: 0.975366652\n",
            "Epoch: 130 Training Loss: 0.077658117 Testing Loss: 0.093459085  Training Acc: 0.974440873 Testing Acc: 0.975583315\n",
            "Epoch: 131 Training Loss: 0.070147730 Testing Loss: 0.100060515  Training Acc: 0.975738823 Testing Acc: 0.974983335\n",
            "Epoch: 132 Training Loss: 0.074246913 Testing Loss: 0.100786872  Training Acc: 0.974840224 Testing Acc: 0.974266648\n",
            "Epoch: 133 Training Loss: 0.069910005 Testing Loss: 0.097861208  Training Acc: 0.975738823 Testing Acc: 0.975149989\n",
            "Epoch: 134 Training Loss: 0.067315698 Testing Loss: 0.097114369  Training Acc: 0.978334665 Testing Acc: 0.976000011\n",
            "Epoch: 135 Training Loss: 0.061575215 Testing Loss: 0.096182123  Training Acc: 0.980730832 Testing Acc: 0.975966692\n",
            "Epoch: 136 Training Loss: 0.072222419 Testing Loss: 0.097723700  Training Acc: 0.977935314 Testing Acc: 0.975333333\n",
            "Epoch: 137 Training Loss: 0.063103311 Testing Loss: 0.098135673  Training Acc: 0.979432881 Testing Acc: 0.975966692\n",
            "Epoch: 138 Training Loss: 0.070612170 Testing Loss: 0.094393581  Training Acc: 0.977835417 Testing Acc: 0.976199985\n",
            "Epoch: 139 Training Loss: 0.065436743 Testing Loss: 0.098416328  Training Acc: 0.979632556 Testing Acc: 0.976166666\n",
            "Epoch: 140 Training Loss: 0.059475712 Testing Loss: 0.099929869  Training Acc: 0.982228398 Testing Acc: 0.974883318\n",
            "Epoch: 141 Training Loss: 0.059054043 Testing Loss: 0.097704180  Training Acc: 0.981429696 Testing Acc: 0.976166666\n",
            "Epoch: 142 Training Loss: 0.061524004 Testing Loss: 0.097770408  Training Acc: 0.980131745 Testing Acc: 0.976233363\n",
            "Epoch: 143 Training Loss: 0.069222867 Testing Loss: 0.093021922  Training Acc: 0.978734016 Testing Acc: 0.976716697\n",
            "Epoch: 144 Training Loss: 0.067078851 Testing Loss: 0.098641962  Training Acc: 0.977535903 Testing Acc: 0.975450039\n",
            "Epoch: 145 Training Loss: 0.071914449 Testing Loss: 0.095234036  Training Acc: 0.976038337 Testing Acc: 0.976466656\n",
            "Epoch: 146 Training Loss: 0.066407531 Testing Loss: 0.099736273  Training Acc: 0.976138175 Testing Acc: 0.975800037\n",
            "Epoch: 147 Training Loss: 0.065801427 Testing Loss: 0.097992554  Training Acc: 0.978334665 Testing Acc: 0.976083338\n",
            "Epoch: 148 Training Loss: 0.065127768 Testing Loss: 0.095185347  Training Acc: 0.977835417 Testing Acc: 0.975866675\n",
            "Epoch: 149 Training Loss: 0.062595397 Testing Loss: 0.098350793  Training Acc: 0.979033530 Testing Acc: 0.976116657\n",
            "Epoch: 150 Training Loss: 0.062128346 Testing Loss: 0.100284807  Training Acc: 0.980131745 Testing Acc: 0.975750029\n",
            "Epoch: 151 Training Loss: 0.066734321 Testing Loss: 0.096446835  Training Acc: 0.977935314 Testing Acc: 0.976266682\n",
            "Epoch: 152 Training Loss: 0.060274430 Testing Loss: 0.100266382  Training Acc: 0.979632556 Testing Acc: 0.976599991\n",
            "Epoch: 153 Training Loss: 0.060021684 Testing Loss: 0.099731043  Training Acc: 0.981329858 Testing Acc: 0.976133347\n",
            "Epoch: 154 Training Loss: 0.064174898 Testing Loss: 0.100916356  Training Acc: 0.978134990 Testing Acc: 0.975566685\n",
            "Epoch: 155 Training Loss: 0.065222904 Testing Loss: 0.102825560  Training Acc: 0.977236390 Testing Acc: 0.975283325\n",
            "Epoch: 156 Training Loss: 0.056434136 Testing Loss: 0.101809517  Training Acc: 0.981030345 Testing Acc: 0.976033330\n",
            "Epoch: 157 Training Loss: 0.064342365 Testing Loss: 0.101838760  Training Acc: 0.980531156 Testing Acc: 0.975383341\n",
            "Epoch: 158 Training Loss: 0.057753701 Testing Loss: 0.103627153  Training Acc: 0.980830669 Testing Acc: 0.974983335\n",
            "Epoch: 159 Training Loss: 0.068196006 Testing Loss: 0.101503380  Training Acc: 0.977236390 Testing Acc: 0.975450039\n",
            "Epoch: 160 Training Loss: 0.064890712 Testing Loss: 0.095611855  Training Acc: 0.979432881 Testing Acc: 0.976850033\n",
            "Epoch: 161 Training Loss: 0.062265292 Testing Loss: 0.098339327  Training Acc: 0.978534341 Testing Acc: 0.976283371\n",
            "Epoch: 162 Training Loss: 0.067654394 Testing Loss: 0.098761067  Training Acc: 0.977635741 Testing Acc: 0.975966692\n",
            "Epoch: 163 Training Loss: 0.065859631 Testing Loss: 0.106314331  Training Acc: 0.980031908 Testing Acc: 0.974700034\n",
            "Epoch: 164 Training Loss: 0.061013360 Testing Loss: 0.101559661  Training Acc: 0.980531156 Testing Acc: 0.975466669\n",
            "Epoch: 165 Training Loss: 0.056212872 Testing Loss: 0.103008285  Training Acc: 0.981230021 Testing Acc: 0.975600004\n",
            "Epoch: 166 Training Loss: 0.069308437 Testing Loss: 0.095451601  Training Acc: 0.979333043 Testing Acc: 0.976700008\n",
            "Epoch: 167 Training Loss: 0.063053913 Testing Loss: 0.101012133  Training Acc: 0.980930507 Testing Acc: 0.975566685\n",
            "Epoch: 168 Training Loss: 0.066000797 Testing Loss: 0.097718015  Training Acc: 0.980131745 Testing Acc: 0.976166666\n",
            "Epoch: 169 Training Loss: 0.057456348 Testing Loss: 0.095812038  Training Acc: 0.980930507 Testing Acc: 0.976583362\n",
            "Epoch: 170 Training Loss: 0.060752247 Testing Loss: 0.099344812  Training Acc: 0.980031908 Testing Acc: 0.976700008\n",
            "Epoch: 171 Training Loss: 0.062877096 Testing Loss: 0.096593998  Training Acc: 0.979932070 Testing Acc: 0.975800037\n",
            "Epoch: 172 Training Loss: 0.063326642 Testing Loss: 0.100451328  Training Acc: 0.979333043 Testing Acc: 0.975549996\n",
            "Epoch: 173 Training Loss: 0.071078241 Testing Loss: 0.097714834  Training Acc: 0.978534341 Testing Acc: 0.976199985\n",
            "Epoch: 174 Training Loss: 0.057592738 Testing Loss: 0.098599866  Training Acc: 0.980930507 Testing Acc: 0.976249993\n",
            "Epoch: 175 Training Loss: 0.063506342 Testing Loss: 0.097661316  Training Acc: 0.980231583 Testing Acc: 0.975366652\n",
            "Epoch: 176 Training Loss: 0.058315404 Testing Loss: 0.095701054  Training Acc: 0.982328236 Testing Acc: 0.975983322\n",
            "Epoch: 177 Training Loss: 0.055563942 Testing Loss: 0.097889356  Training Acc: 0.983326674 Testing Acc: 0.975549996\n",
            "Epoch: 178 Training Loss: 0.062955648 Testing Loss: 0.102085873  Training Acc: 0.979133368 Testing Acc: 0.975516677\n",
            "Epoch: 179 Training Loss: 0.065524295 Testing Loss: 0.101235911  Training Acc: 0.979133368 Testing Acc: 0.975233316\n",
            "Epoch: 180 Training Loss: 0.068748787 Testing Loss: 0.107481077  Training Acc: 0.979033530 Testing Acc: 0.975066662\n",
            "Epoch: 181 Training Loss: 0.061915625 Testing Loss: 0.099329047  Training Acc: 0.979133368 Testing Acc: 0.976066649\n",
            "Epoch: 182 Training Loss: 0.057036567 Testing Loss: 0.097065851  Training Acc: 0.981729209 Testing Acc: 0.977166653\n",
            "Epoch: 183 Training Loss: 0.060140915 Testing Loss: 0.099305756  Training Acc: 0.980630994 Testing Acc: 0.976333320\n",
            "Epoch: 184 Training Loss: 0.058962189 Testing Loss: 0.097750068  Training Acc: 0.980830669 Testing Acc: 0.977166653\n",
            "Epoch: 185 Training Loss: 0.068135254 Testing Loss: 0.096467353  Training Acc: 0.978734016 Testing Acc: 0.976350009\n",
            "Epoch: 186 Training Loss: 0.058725387 Testing Loss: 0.096216254  Training Acc: 0.980730832 Testing Acc: 0.977083325\n",
            "Epoch: 187 Training Loss: 0.060588889 Testing Loss: 0.100912951  Training Acc: 0.980131745 Testing Acc: 0.975433350\n",
            "Epoch: 188 Training Loss: 0.058421705 Testing Loss: 0.097231925  Training Acc: 0.980531156 Testing Acc: 0.976949990\n",
            "Epoch: 189 Training Loss: 0.052627586 Testing Loss: 0.098424442  Training Acc: 0.984225214 Testing Acc: 0.976350009\n",
            "Epoch: 190 Training Loss: 0.052170139 Testing Loss: 0.100761980  Training Acc: 0.982727647 Testing Acc: 0.976983368\n",
            "Epoch: 191 Training Loss: 0.054406602 Testing Loss: 0.103944980  Training Acc: 0.981429696 Testing Acc: 0.976249993\n",
            "Epoch: 192 Training Loss: 0.058841947 Testing Loss: 0.101548612  Training Acc: 0.982028723 Testing Acc: 0.976116657\n",
            "Epoch: 193 Training Loss: 0.054694530 Testing Loss: 0.102450073  Training Acc: 0.982128561 Testing Acc: 0.976100028\n",
            "Epoch: 194 Training Loss: 0.061633568 Testing Loss: 0.102558739  Training Acc: 0.981130183 Testing Acc: 0.975983322\n",
            "Epoch: 195 Training Loss: 0.049650468 Testing Loss: 0.102406420  Training Acc: 0.982028723 Testing Acc: 0.976283371\n",
            "Epoch: 196 Training Loss: 0.056561228 Testing Loss: 0.103642397  Training Acc: 0.982428074 Testing Acc: 0.976033330\n",
            "Epoch: 197 Training Loss: 0.060014125 Testing Loss: 0.105595686  Training Acc: 0.979432881 Testing Acc: 0.974983335\n",
            "Epoch: 198 Training Loss: 0.058988400 Testing Loss: 0.102524862  Training Acc: 0.980231583 Testing Acc: 0.976416707\n",
            "Epoch: 199 Training Loss: 0.055716548 Testing Loss: 0.101927578  Training Acc: 0.981429696 Testing Acc: 0.976066649\n",
            "Epoch: 200 Training Loss: 0.061246902 Testing Loss: 0.105497748  Training Acc: 0.980231583 Testing Acc: 0.975516677\n"
          ],
          "name": "stdout"
        }
      ]
    },
    {
      "cell_type": "code",
      "metadata": {
        "colab": {
          "base_uri": "https://localhost:8080/",
          "height": 592
        },
        "id": "vzn6YyGw9ULY",
        "outputId": "730c1d74-7f69-47c3-f892-5a0b28c47ee2"
      },
      "source": [
        "plt.figure(figsize = (10,10))\n",
        "plt.plot(L_train, linewidth = 2, c='b', label = \"train\")\n",
        "plt.plot(L_test, linewidth = 2, c='r', label = \"test\")\n",
        "plt.legend()\n",
        "plt.show()"
      ],
      "execution_count": 16,
      "outputs": [
        {
          "output_type": "display_data",
          "data": {
            "image/png": "[encoded data removed]",
            "text/plain": [
              "<Figure size 720x720 with 1 Axes>"
            ]
          },
          "metadata": {
            "tags": [],
            "needs_background": "light"
          }
        }
      ]
    },
    {
      "cell_type": "code",
      "metadata": {
        "colab": {
          "base_uri": "https://localhost:8080/",
          "height": 592
        },
        "id": "Rl1MuQhtqsg2",
        "outputId": "83b8ae47-1e3e-4b32-edc7-031c4443fe30"
      },
      "source": [
        "plt.figure(figsize = (10,10))\n",
        "plt.plot(A_train, linewidth = 2, c='b', label = \"train\")\n",
        "plt.plot(A_test, linewidth = 2, c='r', label = \"test\")\n",
        "plt.legend()\n",
        "plt.show()"
      ],
      "execution_count": 17,
      "outputs": [
        {
          "output_type": "display_data",
          "data": {
            "image/png": "[encoded data removed]",
            "text/plain": [
              "<Figure size 720x720 with 1 Axes>"
            ]
          },
          "metadata": {
            "tags": [],
            "needs_background": "light"
          }
        }
      ]
    },
    {
      "cell_type": "code",
      "metadata": {
        "colab": {
          "base_uri": "https://localhost:8080/"
        },
        "id": "4990rRublMpD",
        "outputId": "8202c5e3-f6e0-4054-c6fd-30075c266a15"
      },
      "source": [
        "print(\"training loss    %.2f\" %(L_train[-1]))\n",
        "print(\"testing loss     %.2f\" %(L_test[-1]))\n",
        "print(\"training acc    %.2f\" %(A_train[-1]))\n",
        "print(\"testing acc     %.2f\" %(A_test[-1]))"
      ],
      "execution_count": 18,
      "outputs": [
        {
          "output_type": "stream",
          "text": [
            "training loss    0.06\n",
            "testing loss     0.11\n",
            "training acc    0.98\n",
            "testing acc     0.98\n"
          ],
          "name": "stdout"
        }
      ]
    },
    {
      "cell_type": "markdown",
      "metadata": {
        "id": "z4L9RrzOz5xl"
      },
      "source": [
        "# 5. Output\n",
        "<hr>"
      ]
    },
    {
      "cell_type": "markdown",
      "metadata": {
        "id": "alN6-n0r0DTO"
      },
      "source": [
        "## 1. Plot the training and testing losses with a batch size of 32"
      ]
    },
    {
      "cell_type": "markdown",
      "metadata": {
        "id": "4t1dSyC1AVe0"
      },
      "source": [
        "## 2. Plot the training and testing accuracies with a batch size of 32"
      ]
    },
    {
      "cell_type": "markdown",
      "metadata": {
        "id": "px7XRkcnAnc7"
      },
      "source": [
        "## 3. Plot the training and testing losses with a batch size of 64"
      ]
    },
    {
      "cell_type": "markdown",
      "metadata": {
        "id": "gW87VTpwAtMB"
      },
      "source": [
        "## 4. Plot the training and testing accuracies with a batch size of 64"
      ]
    },
    {
      "cell_type": "markdown",
      "metadata": {
        "id": "Kl5XI9EVA6QH"
      },
      "source": [
        "## 5. Plot the training and testing losses with a batch size of 128"
      ]
    },
    {
      "cell_type": "markdown",
      "metadata": {
        "id": "10I91neJBHb1"
      },
      "source": [
        "## 6. Plot the training and testing accuracies with a batch size of 128"
      ]
    },
    {
      "cell_type": "markdown",
      "metadata": {
        "id": "iDI0NljKBNF9"
      },
      "source": [
        "## 7. Print the loss at convergence with different mini-batch sizes"
      ]
    },
    {
      "cell_type": "markdown",
      "metadata": {
        "id": "ifTX7c5MCLSf"
      },
      "source": [
        "## 8. Print the accuracy at convergence with different mini-batch sizes"
      ]
    },
    {
      "cell_type": "code",
      "metadata": {
        "id": "mpgCDaBpCWT_"
      },
      "source": [
        ""
      ],
      "execution_count": 18,
      "outputs": []
    }
  ]
}