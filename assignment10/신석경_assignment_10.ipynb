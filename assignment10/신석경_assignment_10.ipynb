{
  "nbformat": 4,
  "nbformat_minor": 0,
  "metadata": {
    "accelerator": "GPU",
    "colab": {
      "name": "신석경_assignment_10",
      "provenance": [],
      "collapsed_sections": [],
      "authorship_tag": "ABX9TyNRPrq8Q4a/lv9Ofi0yGxZS",
      "include_colab_link": true
    },
    "kernelspec": {
      "display_name": "Python 3",
      "name": "python3"
    }
  },
  "cells": [
    {
      "cell_type": "markdown",
      "metadata": {
        "id": "view-in-github",
        "colab_type": "text"
      },
      "source": [
        "<a href=\"https://colab.research.google.com/github/jiku100/2020-2-machine-running-proejct/blob/master/assignment10/%EC%8B%A0%EC%84%9D%EA%B2%BD_assignment_10.ipynb\" target=\"_parent\"><img src=\"https://colab.research.google.com/assets/colab-badge.svg\" alt=\"Open In Colab\"/></a>"
      ]
    },
    {
      "cell_type": "markdown",
      "metadata": {
        "id": "0gzdXwFJz0KJ"
      },
      "source": [
        "# **Classification for Multiple Categories using Pytorch for best accuracy**\n",
        "\n"
      ]
    },
    {
      "cell_type": "markdown",
      "metadata": {
        "id": "w_C7Cujjz4ff"
      },
      "source": [
        "# 1. Import library\n",
        "<hr>"
      ]
    },
    {
      "cell_type": "code",
      "metadata": {
        "id": "gtlbKT3Izgre"
      },
      "source": [
        "import torch\n",
        "import torch.nn as nn\n",
        "import torch.optim as optim\n",
        "import torch.nn.init as init\n",
        "import torchvision\n",
        "import torchvision.transforms as transforms\n",
        "import torchvision.datasets as datasets\n",
        "from torch.utils.data import DataLoader\n",
        "\n",
        "import matplotlib.pyplot as plt\n",
        "import cv2\n",
        "import numpy as np"
      ],
      "execution_count": 1,
      "outputs": []
    },
    {
      "cell_type": "code",
      "metadata": {
        "colab": {
          "base_uri": "https://localhost:8080/"
        },
        "id": "JC9KWsHg7lTJ",
        "outputId": "36faf951-e0ad-485b-fa66-031cf20b92d2"
      },
      "source": [
        "USE_CUDA = torch.cuda.is_available()\n",
        "device = torch.device(\"cuda\" if USE_CUDA else \"cpu\")\n",
        "print(\"다음 기기로 학습합니다:\", device)"
      ],
      "execution_count": 2,
      "outputs": [
        {
          "output_type": "stream",
          "text": [
            "다음 기기로 학습합니다: cuda\n"
          ],
          "name": "stdout"
        }
      ]
    },
    {
      "cell_type": "markdown",
      "metadata": {
        "id": "nBCurPvD3NoM"
      },
      "source": [
        "# 2. Preprocessing Data\n",
        "<hr>"
      ]
    },
    {
      "cell_type": "code",
      "metadata": {
        "id": "4tVba13YD-s9"
      },
      "source": [
        "transform_train = transforms.Compose([\n",
        "        transforms.ToTensor(),\n",
        "        transforms.RandomRotation(15),\n",
        "        transforms.Normalize((0.1307,),(0.3081,))                    # 이미지를 텐서로 변형합니다.\n",
        "])\n",
        "\n",
        "transform_test = transforms.Compose([\n",
        "        transforms.ToTensor(), \n",
        "        transforms.Normalize((0.1307,),(0.3081,))            \n",
        "])"
      ],
      "execution_count": 3,
      "outputs": []
    },
    {
      "cell_type": "code",
      "metadata": {
        "id": "1uNdu0HqJEQv"
      },
      "source": [
        "data_path = './MNIST'\n",
        "\n",
        "data_test   = datasets.MNIST(root = data_path, train= True, download=True, transform= transform_test)\n",
        "data_train  = datasets.MNIST(root = data_path, train= False, download=True, transform= transform_train)"
      ],
      "execution_count": 4,
      "outputs": []
    },
    {
      "cell_type": "code",
      "metadata": {
        "colab": {
          "base_uri": "https://localhost:8080/",
          "height": 387
        },
        "id": "8SJcK-t2D3Bp",
        "outputId": "ccc7990f-89ac-4da0-9713-8fbb1ae91208"
      },
      "source": [
        "one_image, label = data_train[0]\n",
        "print(\"type of one image\", type(one_image))\n",
        "print(\"size of one image : \", one_image.shape)\n",
        "plt.imshow(one_image.squeeze().numpy(), cmap='gray')\n",
        "print(\"type of label : \", type(label))\n",
        "print(\"label : \", label)\n",
        "print(np.max(data_train.train_data[0].view(-1).numpy()))"
      ],
      "execution_count": 5,
      "outputs": [
        {
          "output_type": "stream",
          "text": [
            "type of one image <class 'torch.Tensor'>\n",
            "size of one image :  torch.Size([1, 28, 28])\n",
            "type of label :  <class 'int'>\n",
            "label :  7\n",
            "255\n"
          ],
          "name": "stdout"
        },
        {
          "output_type": "stream",
          "text": [
            "/usr/local/lib/python3.6/dist-packages/torchvision/datasets/mnist.py:58: UserWarning: train_data has been renamed data\n",
            "  warnings.warn(\"train_data has been renamed data\")\n"
          ],
          "name": "stderr"
        },
        {
          "output_type": "display_data",
          "data": {
            "image/png": "[encoded data removed]",
            "text/plain": [
              "<Figure size 432x288 with 1 Axes>"
            ]
          },
          "metadata": {
            "tags": [],
            "needs_background": "light"
          }
        }
      ]
    },
    {
      "cell_type": "code",
      "metadata": {
        "id": "lUj2JTgY4r4c"
      },
      "source": [
        "learning_rate = 0.0015\n",
        "training_epochs = 200\n",
        "batch_size = 16\n",
        "drop_prob = 0.3"
      ],
      "execution_count": 6,
      "outputs": []
    },
    {
      "cell_type": "code",
      "metadata": {
        "id": "CkgCtS3b3giF"
      },
      "source": [
        "train_loader = DataLoader(dataset = data_train, batch_size = batch_size, num_workers = 2, shuffle = True) ## batch size 32 짜리 train loader 생성\n",
        "test_loader = DataLoader(dataset = data_test, batch_size = batch_size, num_workers = 2, shuffle = True) ## batch size 32 짜리 test loader 생성"
      ],
      "execution_count": 7,
      "outputs": []
    },
    {
      "cell_type": "markdown",
      "metadata": {
        "id": "SCsB9Pdk6zd7"
      },
      "source": [
        "# 3. Define Model\n",
        "<hr>"
      ]
    },
    {
      "cell_type": "code",
      "metadata": {
        "id": "-cUHqcW25etQ"
      },
      "source": [
        "class classification(nn.Module):\n",
        "    def __init__(self):\n",
        "        super(classification, self).__init__()\n",
        "        \n",
        "        # construct layers for a neural network\n",
        "        self.classifier1 = nn.Sequential(\n",
        "            nn.Linear(in_features=28*28, out_features=514),\n",
        "            nn.BatchNorm1d(514),\n",
        "            nn.ReLU(),\n",
        "            nn.Dropout(p=drop_prob)\n",
        "        ) \n",
        "        self.classifier2 = nn.Sequential(\n",
        "            nn.Linear(in_features=514, out_features=200),\n",
        "            nn.BatchNorm1d(200),\n",
        "            nn.ReLU(),\n",
        "            nn.Dropout(p=drop_prob)\n",
        "        ) \n",
        "        self.classifier3 = nn.Sequential(\n",
        "            nn.Linear(in_features=200, out_features=10),\n",
        "        ) \n",
        "\n",
        "        for m in self.modules():\n",
        "          if isinstance(m, nn.Linear):\n",
        "            init.kaiming_normal_(m.weight.data) # Kaming He Initialization\n",
        "            m.bias.data.fill_(0)                # 편차를 0으로 초기화 \n",
        "\n",
        "    def forward(self, inputs):                 # [batchSize, 1, 28, 28]\n",
        "        x = inputs.view(inputs.size(0), -1)    # [batchSize, 28*28]\n",
        "        x = self.classifier1(x)                # [batchSize, 20*20]\n",
        "        x = self.classifier2(x)                # [batchSize, 10*10]\n",
        "        out = self.classifier3(x)              # [batchSize, 10]\n",
        "        \n",
        "        return out\n",
        "\n"
      ],
      "execution_count": 16,
      "outputs": []
    },
    {
      "cell_type": "code",
      "metadata": {
        "id": "MWYQ30d37dwC"
      },
      "source": [
        "model = classification().to(device)"
      ],
      "execution_count": 17,
      "outputs": []
    },
    {
      "cell_type": "code",
      "metadata": {
        "id": "-GpzWr1V64wc"
      },
      "source": [
        "criterion = nn.CrossEntropyLoss().to(device)    # Softmax is internally computed.\n",
        "optimizer = torch.optim.Adam(model.parameters(), lr=learning_rate)\n",
        "scheduler = optim.lr_scheduler.StepLR(optimizer, 5, gamma=0.1, last_epoch=-1)"
      ],
      "execution_count": 18,
      "outputs": []
    },
    {
      "cell_type": "markdown",
      "metadata": {
        "id": "lsNWP3Wk8Siq"
      },
      "source": [
        "# 4. Training\n",
        "<hr>"
      ]
    },
    {
      "cell_type": "code",
      "metadata": {
        "id": "1_QSSPkC7sCr"
      },
      "source": [
        "total_batch= len(train_loader)"
      ],
      "execution_count": 19,
      "outputs": []
    },
    {
      "cell_type": "code",
      "metadata": {
        "colab": {
          "base_uri": "https://localhost:8080/"
        },
        "id": "9_SeUrHB5gLH",
        "outputId": "b8b42be0-8c92-4005-85d5-ba128fcdc10b"
      },
      "source": [
        "print(total_batch)"
      ],
      "execution_count": 20,
      "outputs": [
        {
          "output_type": "stream",
          "text": [
            "625\n"
          ],
          "name": "stdout"
        }
      ]
    },
    {
      "cell_type": "code",
      "metadata": {
        "id": "eaJMZ8TvcglJ"
      },
      "source": [
        "def accuracy(log_pred, y_true):\n",
        "    y_pred = torch.argmax(log_pred, dim=1)\n",
        "    return (y_pred == y_true).to(torch.float).mean()"
      ],
      "execution_count": 21,
      "outputs": []
    },
    {
      "cell_type": "code",
      "metadata": {
        "id": "Kl5FuVgt8_LF"
      },
      "source": [
        "def training(model, loss, optim, training_epochs, train_loader, test_loader):\n",
        "  L_iters_train = []\n",
        "  accuracy_train = []\n",
        "  L_iters_test = []\n",
        "  accuracy_test = []\n",
        "  for epoch in range(training_epochs):\n",
        "    total_cost_train = 0\n",
        "    total_cost_test = 0\n",
        "    total_acc_train = 0\n",
        "    total_acc_test = 0\n",
        "    model.train()\n",
        "    for X, Y in train_loader:\n",
        "      X = X.to(device)\n",
        "      Y = Y.to(device)\n",
        "\n",
        "      optim.zero_grad()\n",
        "      train_pred = model(X)\n",
        "      cost = loss(train_pred, Y)\n",
        "      cost.backward()\n",
        "      optim.step()\n",
        "\n",
        "      total_cost_train += cost\n",
        "      total_acc_train += accuracy(train_pred, Y)\n",
        "      \n",
        "    avg_cost_train = total_cost_train / len(train_loader)\n",
        "    avg_acc_train = total_acc_train / len(train_loader)\n",
        "\n",
        "    L_iters_train.append(avg_cost_train)\n",
        "    accuracy_train.append(avg_acc_train)\n",
        "    model.eval()\n",
        "    with torch.no_grad():\n",
        "      for X_test, Y_test in test_loader:\n",
        "        X_test = X_test.to(device)\n",
        "        Y_test = Y_test.to(device)\n",
        "        test_pred = model(X_test)\n",
        "        cost_test = loss(test_pred, Y_test)\n",
        "        total_cost_test += cost_test\n",
        "        total_acc_test += accuracy(test_pred, Y_test)\n",
        "      avg_cost_test = total_cost_test / len(test_loader)\n",
        "      avg_acc_test = total_acc_test / len(test_loader)\n",
        "    \n",
        "      accuracy_test.append(avg_acc_test)\n",
        "      L_iters_test.append(avg_cost_test)\n",
        "\n",
        "    print(\"Epoch: %02d Training Loss: %.9f Testing Loss: %.9f  Training Acc: %.9f Testing Acc: %.9f\" %((epoch + 1),avg_cost_train, avg_cost_test, avg_acc_train, avg_acc_test))\n",
        "  return L_iters_train, accuracy_train, L_iters_test, accuracy_test"
      ],
      "execution_count": 22,
      "outputs": []
    },
    {
      "cell_type": "code",
      "metadata": {
        "colab": {
          "base_uri": "https://localhost:8080/"
        },
        "id": "hOfKPriA84jq",
        "outputId": "f18327ee-6b08-4fb2-edff-0ee54af25561"
      },
      "source": [
        "L_train, A_train, L_test, A_test = training(model, criterion, optimizer, training_epochs, train_loader, test_loader)"
      ],
      "execution_count": 23,
      "outputs": [
        {
          "output_type": "stream",
          "text": [
            "Epoch: 01 Training Loss: 0.572133780 Testing Loss: 0.237694353  Training Acc: 0.814499974 Testing Acc: 0.928300023\n",
            "Epoch: 02 Training Loss: 0.344344050 Testing Loss: 0.190061972  Training Acc: 0.887899995 Testing Acc: 0.943783343\n",
            "Epoch: 03 Training Loss: 0.312887371 Testing Loss: 0.173149735  Training Acc: 0.903699994 Testing Acc: 0.948850036\n",
            "Epoch: 04 Training Loss: 0.268483639 Testing Loss: 0.147253260  Training Acc: 0.914599955 Testing Acc: 0.956633329\n",
            "Epoch: 05 Training Loss: 0.244474038 Testing Loss: 0.154354915  Training Acc: 0.921499968 Testing Acc: 0.953233361\n",
            "Epoch: 06 Training Loss: 0.211563379 Testing Loss: 0.149634942  Training Acc: 0.929999948 Testing Acc: 0.956400037\n",
            "Epoch: 07 Training Loss: 0.216026023 Testing Loss: 0.132489875  Training Acc: 0.932099998 Testing Acc: 0.960099995\n",
            "Epoch: 08 Training Loss: 0.198249891 Testing Loss: 0.125634670  Training Acc: 0.936399996 Testing Acc: 0.962150037\n",
            "Epoch: 09 Training Loss: 0.201695070 Testing Loss: 0.141067758  Training Acc: 0.936399996 Testing Acc: 0.957683325\n",
            "Epoch: 10 Training Loss: 0.184667259 Testing Loss: 0.120891981  Training Acc: 0.939799964 Testing Acc: 0.963533342\n",
            "Epoch: 11 Training Loss: 0.172194004 Testing Loss: 0.125930637  Training Acc: 0.943199992 Testing Acc: 0.962616682\n",
            "Epoch: 12 Training Loss: 0.172874734 Testing Loss: 0.118317530  Training Acc: 0.944899976 Testing Acc: 0.965316653\n",
            "Epoch: 13 Training Loss: 0.157002881 Testing Loss: 0.118428469  Training Acc: 0.949899971 Testing Acc: 0.965516686\n",
            "Epoch: 14 Training Loss: 0.154699951 Testing Loss: 0.114479057  Training Acc: 0.948499978 Testing Acc: 0.965916693\n",
            "Epoch: 15 Training Loss: 0.145420283 Testing Loss: 0.114325546  Training Acc: 0.954400003 Testing Acc: 0.965900004\n",
            "Epoch: 16 Training Loss: 0.141267613 Testing Loss: 0.124606811  Training Acc: 0.954299986 Testing Acc: 0.963666677\n",
            "Epoch: 17 Training Loss: 0.144628406 Testing Loss: 0.120635465  Training Acc: 0.953099966 Testing Acc: 0.965883315\n",
            "Epoch: 18 Training Loss: 0.138868347 Testing Loss: 0.109998666  Training Acc: 0.955299973 Testing Acc: 0.969133317\n",
            "Epoch: 19 Training Loss: 0.132638574 Testing Loss: 0.103746645  Training Acc: 0.957399964 Testing Acc: 0.970816672\n",
            "Epoch: 20 Training Loss: 0.122973859 Testing Loss: 0.108611576  Training Acc: 0.960599959 Testing Acc: 0.968800008\n",
            "Epoch: 21 Training Loss: 0.129879907 Testing Loss: 0.103988014  Training Acc: 0.957499981 Testing Acc: 0.969433367\n",
            "Epoch: 22 Training Loss: 0.119109213 Testing Loss: 0.107215092  Training Acc: 0.963699996 Testing Acc: 0.969216704\n",
            "Epoch: 23 Training Loss: 0.115492940 Testing Loss: 0.107925586  Training Acc: 0.963899970 Testing Acc: 0.969416678\n",
            "Epoch: 24 Training Loss: 0.115618005 Testing Loss: 0.102182083  Training Acc: 0.963699996 Testing Acc: 0.970633328\n",
            "Epoch: 25 Training Loss: 0.111425109 Testing Loss: 0.106491439  Training Acc: 0.965900004 Testing Acc: 0.969933331\n",
            "Epoch: 26 Training Loss: 0.107310407 Testing Loss: 0.113221712  Training Acc: 0.963299990 Testing Acc: 0.968883336\n",
            "Epoch: 27 Training Loss: 0.118396886 Testing Loss: 0.101083726  Training Acc: 0.961599946 Testing Acc: 0.972016692\n",
            "Epoch: 28 Training Loss: 0.107821211 Testing Loss: 0.106064811  Training Acc: 0.965399981 Testing Acc: 0.970583320\n",
            "Epoch: 29 Training Loss: 0.108106636 Testing Loss: 0.101865232  Training Acc: 0.964899957 Testing Acc: 0.972183347\n",
            "Epoch: 30 Training Loss: 0.104625449 Testing Loss: 0.114384510  Training Acc: 0.965599954 Testing Acc: 0.968883336\n",
            "Epoch: 31 Training Loss: 0.108300172 Testing Loss: 0.106661513  Training Acc: 0.963399947 Testing Acc: 0.971850038\n",
            "Epoch: 32 Training Loss: 0.103902705 Testing Loss: 0.103123598  Training Acc: 0.966699958 Testing Acc: 0.972516656\n",
            "Epoch: 33 Training Loss: 0.097384170 Testing Loss: 0.104409762  Training Acc: 0.967499971 Testing Acc: 0.972016692\n",
            "Epoch: 34 Training Loss: 0.102098010 Testing Loss: 0.101209179  Training Acc: 0.966699958 Testing Acc: 0.973033369\n",
            "Epoch: 35 Training Loss: 0.097277611 Testing Loss: 0.105541110  Training Acc: 0.968499959 Testing Acc: 0.971266687\n",
            "Epoch: 36 Training Loss: 0.093369946 Testing Loss: 0.103358813  Training Acc: 0.969699979 Testing Acc: 0.972533345\n",
            "Epoch: 37 Training Loss: 0.088362791 Testing Loss: 0.108683340  Training Acc: 0.971099973 Testing Acc: 0.971916676\n",
            "Epoch: 38 Training Loss: 0.098031953 Testing Loss: 0.101506189  Training Acc: 0.967299998 Testing Acc: 0.972683370\n",
            "Epoch: 39 Training Loss: 0.092388980 Testing Loss: 0.103851892  Training Acc: 0.968099952 Testing Acc: 0.972583354\n",
            "Epoch: 40 Training Loss: 0.087321393 Testing Loss: 0.101340063  Training Acc: 0.971299946 Testing Acc: 0.973183334\n",
            "Epoch: 41 Training Loss: 0.087654613 Testing Loss: 0.097444154  Training Acc: 0.969500005 Testing Acc: 0.973716676\n",
            "Epoch: 42 Training Loss: 0.086968623 Testing Loss: 0.099808551  Training Acc: 0.971899986 Testing Acc: 0.973550022\n",
            "Epoch: 43 Training Loss: 0.082566738 Testing Loss: 0.098575011  Training Acc: 0.973099947 Testing Acc: 0.973850012\n",
            "Epoch: 44 Training Loss: 0.082643181 Testing Loss: 0.102314062  Training Acc: 0.972399950 Testing Acc: 0.973100007\n",
            "Epoch: 45 Training Loss: 0.095376238 Testing Loss: 0.107386522  Training Acc: 0.968199968 Testing Acc: 0.971433342\n",
            "Epoch: 46 Training Loss: 0.086871937 Testing Loss: 0.101892866  Training Acc: 0.971599996 Testing Acc: 0.972516656\n",
            "Epoch: 47 Training Loss: 0.080613077 Testing Loss: 0.104777098  Training Acc: 0.973299980 Testing Acc: 0.972450018\n",
            "Epoch: 48 Training Loss: 0.090013914 Testing Loss: 0.099562876  Training Acc: 0.970299959 Testing Acc: 0.974583328\n",
            "Epoch: 49 Training Loss: 0.081746690 Testing Loss: 0.101374291  Training Acc: 0.974599957 Testing Acc: 0.973150015\n",
            "Epoch: 50 Training Loss: 0.078956701 Testing Loss: 0.103466116  Training Acc: 0.972799957 Testing Acc: 0.973233342\n",
            "Epoch: 51 Training Loss: 0.083346315 Testing Loss: 0.103774905  Training Acc: 0.972099960 Testing Acc: 0.972633362\n",
            "Epoch: 52 Training Loss: 0.072724253 Testing Loss: 0.102538958  Training Acc: 0.976099968 Testing Acc: 0.973316669\n",
            "Epoch: 53 Training Loss: 0.074102998 Testing Loss: 0.100488476  Training Acc: 0.976799965 Testing Acc: 0.974433362\n",
            "Epoch: 54 Training Loss: 0.085044704 Testing Loss: 0.101856433  Training Acc: 0.973999977 Testing Acc: 0.973983347\n",
            "Epoch: 55 Training Loss: 0.072866619 Testing Loss: 0.107157253  Training Acc: 0.974899948 Testing Acc: 0.971916676\n",
            "Epoch: 56 Training Loss: 0.076728232 Testing Loss: 0.097852044  Training Acc: 0.974099994 Testing Acc: 0.974150002\n",
            "Epoch: 57 Training Loss: 0.072582394 Testing Loss: 0.101981580  Training Acc: 0.977400005 Testing Acc: 0.973566651\n",
            "Epoch: 58 Training Loss: 0.077780873 Testing Loss: 0.106222481  Training Acc: 0.975699961 Testing Acc: 0.973366678\n",
            "Epoch: 59 Training Loss: 0.074217588 Testing Loss: 0.108791374  Training Acc: 0.975899994 Testing Acc: 0.972900033\n",
            "Epoch: 60 Training Loss: 0.070726827 Testing Loss: 0.102473393  Training Acc: 0.977799952 Testing Acc: 0.974449992\n",
            "Epoch: 61 Training Loss: 0.073470935 Testing Loss: 0.100304104  Training Acc: 0.976300001 Testing Acc: 0.974350035\n",
            "Epoch: 62 Training Loss: 0.071555004 Testing Loss: 0.106947266  Training Acc: 0.976099968 Testing Acc: 0.973450005\n",
            "Epoch: 63 Training Loss: 0.061684784 Testing Loss: 0.099510990  Training Acc: 0.978999972 Testing Acc: 0.973850012\n",
            "Epoch: 64 Training Loss: 0.065188624 Testing Loss: 0.101980060  Training Acc: 0.978899956 Testing Acc: 0.974516690\n",
            "Epoch: 65 Training Loss: 0.065691762 Testing Loss: 0.104443364  Training Acc: 0.978399992 Testing Acc: 0.974183321\n",
            "Epoch: 66 Training Loss: 0.074343733 Testing Loss: 0.105152801  Training Acc: 0.974099994 Testing Acc: 0.974033356\n",
            "Epoch: 67 Training Loss: 0.071551576 Testing Loss: 0.101125151  Training Acc: 0.976799965 Testing Acc: 0.973600030\n",
            "Epoch: 68 Training Loss: 0.066710278 Testing Loss: 0.098503530  Training Acc: 0.977599978 Testing Acc: 0.975216687\n",
            "Epoch: 69 Training Loss: 0.073846579 Testing Loss: 0.101866908  Training Acc: 0.977499962 Testing Acc: 0.973900020\n",
            "Epoch: 70 Training Loss: 0.069453537 Testing Loss: 0.101000927  Training Acc: 0.975899994 Testing Acc: 0.974233329\n",
            "Epoch: 71 Training Loss: 0.068644300 Testing Loss: 0.101956397  Training Acc: 0.978599966 Testing Acc: 0.974533319\n",
            "Epoch: 72 Training Loss: 0.071264565 Testing Loss: 0.105206035  Training Acc: 0.975999951 Testing Acc: 0.974083364\n",
            "Epoch: 73 Training Loss: 0.064987160 Testing Loss: 0.098293580  Training Acc: 0.978999972 Testing Acc: 0.974849999\n",
            "Epoch: 74 Training Loss: 0.070450999 Testing Loss: 0.106094077  Training Acc: 0.977999985 Testing Acc: 0.973800004\n",
            "Epoch: 75 Training Loss: 0.068144791 Testing Loss: 0.102532573  Training Acc: 0.978699982 Testing Acc: 0.974749982\n",
            "Epoch: 76 Training Loss: 0.067582749 Testing Loss: 0.104743868  Training Acc: 0.976899981 Testing Acc: 0.974366665\n",
            "Epoch: 77 Training Loss: 0.067178033 Testing Loss: 0.102295510  Training Acc: 0.978499949 Testing Acc: 0.975083351\n",
            "Epoch: 78 Training Loss: 0.064124390 Testing Loss: 0.103428587  Training Acc: 0.980399966 Testing Acc: 0.974866688\n",
            "Epoch: 79 Training Loss: 0.074173443 Testing Loss: 0.107320346  Training Acc: 0.976899981 Testing Acc: 0.973349988\n",
            "Epoch: 80 Training Loss: 0.061647642 Testing Loss: 0.102575563  Training Acc: 0.978299975 Testing Acc: 0.974449992\n",
            "Epoch: 81 Training Loss: 0.059293725 Testing Loss: 0.104127832  Training Acc: 0.981599987 Testing Acc: 0.974550009\n",
            "Epoch: 82 Training Loss: 0.065679267 Testing Loss: 0.102645800  Training Acc: 0.980499983 Testing Acc: 0.973699987\n",
            "Epoch: 83 Training Loss: 0.062627770 Testing Loss: 0.101965599  Training Acc: 0.980099976 Testing Acc: 0.975149989\n",
            "Epoch: 84 Training Loss: 0.064712778 Testing Loss: 0.107671276  Training Acc: 0.979299963 Testing Acc: 0.974583328\n",
            "Epoch: 85 Training Loss: 0.065549545 Testing Loss: 0.105553284  Training Acc: 0.978999972 Testing Acc: 0.974766672\n",
            "Epoch: 86 Training Loss: 0.069913089 Testing Loss: 0.106874228  Training Acc: 0.978399992 Testing Acc: 0.974616706\n",
            "Epoch: 87 Training Loss: 0.055918094 Testing Loss: 0.101186588  Training Acc: 0.982699990 Testing Acc: 0.974900007\n",
            "Epoch: 88 Training Loss: 0.060685709 Testing Loss: 0.106003448  Training Acc: 0.980899990 Testing Acc: 0.974116683\n",
            "Epoch: 89 Training Loss: 0.063729711 Testing Loss: 0.105483010  Training Acc: 0.980599999 Testing Acc: 0.974116683\n",
            "Epoch: 90 Training Loss: 0.058663622 Testing Loss: 0.103807084  Training Acc: 0.981799960 Testing Acc: 0.974600017\n",
            "Epoch: 91 Training Loss: 0.055530887 Testing Loss: 0.112522237  Training Acc: 0.981599987 Testing Acc: 0.974000037\n",
            "Epoch: 92 Training Loss: 0.059689038 Testing Loss: 0.105975084  Training Acc: 0.981599987 Testing Acc: 0.974666655\n",
            "Epoch: 93 Training Loss: 0.050635602 Testing Loss: 0.106791899  Training Acc: 0.982299984 Testing Acc: 0.975083351\n",
            "Epoch: 94 Training Loss: 0.064974643 Testing Loss: 0.101589933  Training Acc: 0.979799986 Testing Acc: 0.975533366\n",
            "Epoch: 95 Training Loss: 0.061419327 Testing Loss: 0.106070466  Training Acc: 0.980199993 Testing Acc: 0.975300014\n",
            "Epoch: 96 Training Loss: 0.059818730 Testing Loss: 0.105887756  Training Acc: 0.980499983 Testing Acc: 0.974916697\n",
            "Epoch: 97 Training Loss: 0.056426786 Testing Loss: 0.107957996  Training Acc: 0.982299984 Testing Acc: 0.973783374\n",
            "Epoch: 98 Training Loss: 0.060968284 Testing Loss: 0.102532059  Training Acc: 0.978899956 Testing Acc: 0.974933326\n",
            "Epoch: 99 Training Loss: 0.052366629 Testing Loss: 0.103744484  Training Acc: 0.982799947 Testing Acc: 0.975050032\n",
            "Epoch: 100 Training Loss: 0.059376284 Testing Loss: 0.105547398  Training Acc: 0.981799960 Testing Acc: 0.974683344\n",
            "Epoch: 101 Training Loss: 0.060675565 Testing Loss: 0.104634188  Training Acc: 0.979999959 Testing Acc: 0.973950028\n",
            "Epoch: 102 Training Loss: 0.062767737 Testing Loss: 0.108093791  Training Acc: 0.980399966 Testing Acc: 0.974799991\n",
            "Epoch: 103 Training Loss: 0.060962766 Testing Loss: 0.105637871  Training Acc: 0.981199980 Testing Acc: 0.974533319\n",
            "Epoch: 104 Training Loss: 0.056965649 Testing Loss: 0.107162803  Training Acc: 0.982299984 Testing Acc: 0.975050032\n",
            "Epoch: 105 Training Loss: 0.050074842 Testing Loss: 0.111731529  Training Acc: 0.984299958 Testing Acc: 0.974583328\n",
            "Epoch: 106 Training Loss: 0.057476714 Testing Loss: 0.104737438  Training Acc: 0.981700003 Testing Acc: 0.974966705\n",
            "Epoch: 107 Training Loss: 0.051341776 Testing Loss: 0.105303876  Training Acc: 0.983099997 Testing Acc: 0.975499988\n",
            "Epoch: 108 Training Loss: 0.050668661 Testing Loss: 0.108819291  Training Acc: 0.984399974 Testing Acc: 0.974916697\n",
            "Epoch: 109 Training Loss: 0.050459687 Testing Loss: 0.107166454  Training Acc: 0.983500004 Testing Acc: 0.975183368\n",
            "Epoch: 110 Training Loss: 0.054345299 Testing Loss: 0.100363545  Training Acc: 0.981999993 Testing Acc: 0.976899981\n",
            "Epoch: 111 Training Loss: 0.052713737 Testing Loss: 0.108890422  Training Acc: 0.983500004 Testing Acc: 0.974633336\n",
            "Epoch: 112 Training Loss: 0.052996729 Testing Loss: 0.108525492  Training Acc: 0.982899964 Testing Acc: 0.975000024\n",
            "Epoch: 113 Training Loss: 0.056054760 Testing Loss: 0.105139844  Training Acc: 0.981199980 Testing Acc: 0.976083338\n",
            "Epoch: 114 Training Loss: 0.057218254 Testing Loss: 0.102094308  Training Acc: 0.981299996 Testing Acc: 0.975350022\n",
            "Epoch: 115 Training Loss: 0.055544604 Testing Loss: 0.106173374  Training Acc: 0.981999993 Testing Acc: 0.974833369\n",
            "Epoch: 116 Training Loss: 0.046728373 Testing Loss: 0.107962534  Training Acc: 0.983799994 Testing Acc: 0.974483371\n",
            "Epoch: 117 Training Loss: 0.052230615 Testing Loss: 0.108831123  Training Acc: 0.984699965 Testing Acc: 0.974283338\n",
            "Epoch: 118 Training Loss: 0.059337329 Testing Loss: 0.102026001  Training Acc: 0.980199993 Testing Acc: 0.975466669\n",
            "Epoch: 119 Training Loss: 0.052249242 Testing Loss: 0.103260115  Training Acc: 0.984599948 Testing Acc: 0.974883318\n",
            "Epoch: 120 Training Loss: 0.055688825 Testing Loss: 0.107850201  Training Acc: 0.982599974 Testing Acc: 0.974749982\n",
            "Epoch: 121 Training Loss: 0.056253433 Testing Loss: 0.102072276  Training Acc: 0.981499970 Testing Acc: 0.976266682\n",
            "Epoch: 122 Training Loss: 0.049171869 Testing Loss: 0.102263279  Training Acc: 0.983999968 Testing Acc: 0.976350009\n",
            "Epoch: 123 Training Loss: 0.052553531 Testing Loss: 0.102874674  Training Acc: 0.983799994 Testing Acc: 0.976383328\n",
            "Epoch: 124 Training Loss: 0.046282746 Testing Loss: 0.105260313  Training Acc: 0.986299992 Testing Acc: 0.975433350\n",
            "Epoch: 125 Training Loss: 0.045925613 Testing Loss: 0.105261616  Training Acc: 0.985799968 Testing Acc: 0.975583315\n",
            "Epoch: 126 Training Loss: 0.053392820 Testing Loss: 0.107798204  Training Acc: 0.983999968 Testing Acc: 0.975600004\n",
            "Epoch: 127 Training Loss: 0.047813777 Testing Loss: 0.102095857  Training Acc: 0.983199954 Testing Acc: 0.976899981\n",
            "Epoch: 128 Training Loss: 0.048546284 Testing Loss: 0.110517554  Training Acc: 0.984599948 Testing Acc: 0.975549996\n",
            "Epoch: 129 Training Loss: 0.059947021 Testing Loss: 0.102696441  Training Acc: 0.981899977 Testing Acc: 0.975033343\n",
            "Epoch: 130 Training Loss: 0.051369768 Testing Loss: 0.102855437  Training Acc: 0.983399987 Testing Acc: 0.975300014\n",
            "Epoch: 131 Training Loss: 0.042281937 Testing Loss: 0.104380414  Training Acc: 0.986499965 Testing Acc: 0.975899994\n",
            "Epoch: 132 Training Loss: 0.054840129 Testing Loss: 0.106084466  Training Acc: 0.983699977 Testing Acc: 0.975050032\n",
            "Epoch: 133 Training Loss: 0.045684256 Testing Loss: 0.101133771  Training Acc: 0.984899998 Testing Acc: 0.977100015\n",
            "Epoch: 134 Training Loss: 0.051709514 Testing Loss: 0.103945605  Training Acc: 0.981999993 Testing Acc: 0.975800037\n",
            "Epoch: 135 Training Loss: 0.049029410 Testing Loss: 0.109706685  Training Acc: 0.984599948 Testing Acc: 0.975050032\n",
            "Epoch: 136 Training Loss: 0.054537326 Testing Loss: 0.108104512  Training Acc: 0.982999980 Testing Acc: 0.974916697\n",
            "Epoch: 137 Training Loss: 0.052392334 Testing Loss: 0.107123509  Training Acc: 0.983399987 Testing Acc: 0.975133359\n",
            "Epoch: 138 Training Loss: 0.046701424 Testing Loss: 0.107677199  Training Acc: 0.986599982 Testing Acc: 0.975950003\n",
            "Epoch: 139 Training Loss: 0.048077408 Testing Loss: 0.116781957  Training Acc: 0.987299979 Testing Acc: 0.973616660\n",
            "Epoch: 140 Training Loss: 0.049665891 Testing Loss: 0.105212130  Training Acc: 0.983399987 Testing Acc: 0.975616693\n",
            "Epoch: 141 Training Loss: 0.047926586 Testing Loss: 0.108018175  Training Acc: 0.983799994 Testing Acc: 0.975166678\n",
            "Epoch: 142 Training Loss: 0.039458930 Testing Loss: 0.107446924  Training Acc: 0.986799955 Testing Acc: 0.976283371\n",
            "Epoch: 143 Training Loss: 0.046750326 Testing Loss: 0.102694549  Training Acc: 0.984499991 Testing Acc: 0.976533353\n",
            "Epoch: 144 Training Loss: 0.041427068 Testing Loss: 0.107375659  Training Acc: 0.986799955 Testing Acc: 0.975616693\n",
            "Epoch: 145 Training Loss: 0.044526279 Testing Loss: 0.105525546  Training Acc: 0.986099958 Testing Acc: 0.976050019\n",
            "Epoch: 146 Training Loss: 0.045654822 Testing Loss: 0.105201557  Training Acc: 0.985199988 Testing Acc: 0.976450026\n",
            "Epoch: 147 Training Loss: 0.038626738 Testing Loss: 0.112938307  Training Acc: 0.986299992 Testing Acc: 0.974583328\n",
            "Epoch: 148 Training Loss: 0.048897449 Testing Loss: 0.107405007  Training Acc: 0.984699965 Testing Acc: 0.975616693\n",
            "Epoch: 149 Training Loss: 0.047156494 Testing Loss: 0.103095762  Training Acc: 0.984299958 Testing Acc: 0.976883352\n",
            "Epoch: 150 Training Loss: 0.051305376 Testing Loss: 0.100563385  Training Acc: 0.983500004 Testing Acc: 0.976316690\n",
            "Epoch: 151 Training Loss: 0.044202119 Testing Loss: 0.103585064  Training Acc: 0.986599982 Testing Acc: 0.977050006\n",
            "Epoch: 152 Training Loss: 0.053309772 Testing Loss: 0.111394353  Training Acc: 0.983500004 Testing Acc: 0.974966705\n",
            "Epoch: 153 Training Loss: 0.039335772 Testing Loss: 0.112632513  Training Acc: 0.987499952 Testing Acc: 0.975466669\n",
            "Epoch: 154 Training Loss: 0.047222037 Testing Loss: 0.113601044  Training Acc: 0.985399961 Testing Acc: 0.975549996\n",
            "Epoch: 155 Training Loss: 0.047002960 Testing Loss: 0.111055784  Training Acc: 0.984999955 Testing Acc: 0.975149989\n",
            "Epoch: 156 Training Loss: 0.041426197 Testing Loss: 0.108156294  Training Acc: 0.985899985 Testing Acc: 0.976133347\n",
            "Epoch: 157 Training Loss: 0.058751237 Testing Loss: 0.109148890  Training Acc: 0.980899990 Testing Acc: 0.975466669\n",
            "Epoch: 158 Training Loss: 0.045120269 Testing Loss: 0.110599354  Training Acc: 0.985499978 Testing Acc: 0.975516677\n",
            "Epoch: 159 Training Loss: 0.045437843 Testing Loss: 0.103234611  Training Acc: 0.985599995 Testing Acc: 0.977116704\n",
            "Epoch: 160 Training Loss: 0.038583983 Testing Loss: 0.104512475  Training Acc: 0.987499952 Testing Acc: 0.976266682\n",
            "Epoch: 161 Training Loss: 0.044031262 Testing Loss: 0.107781991  Training Acc: 0.985699952 Testing Acc: 0.977150023\n",
            "Epoch: 162 Training Loss: 0.049779914 Testing Loss: 0.106208622  Training Acc: 0.984799981 Testing Acc: 0.976133347\n",
            "Epoch: 163 Training Loss: 0.037561860 Testing Loss: 0.103093006  Training Acc: 0.988299966 Testing Acc: 0.977466702\n",
            "Epoch: 164 Training Loss: 0.044585098 Testing Loss: 0.112714484  Training Acc: 0.986199975 Testing Acc: 0.975050032\n",
            "Epoch: 165 Training Loss: 0.052419364 Testing Loss: 0.102222726  Training Acc: 0.982999980 Testing Acc: 0.976933360\n",
            "Epoch: 166 Training Loss: 0.042592164 Testing Loss: 0.100999832  Training Acc: 0.986799955 Testing Acc: 0.977766693\n",
            "Epoch: 167 Training Loss: 0.042589083 Testing Loss: 0.104261786  Training Acc: 0.985799968 Testing Acc: 0.977066696\n",
            "Epoch: 168 Training Loss: 0.043712463 Testing Loss: 0.106097095  Training Acc: 0.986399949 Testing Acc: 0.976466656\n",
            "Epoch: 169 Training Loss: 0.043329686 Testing Loss: 0.101377025  Training Acc: 0.985599995 Testing Acc: 0.977250040\n",
            "Epoch: 170 Training Loss: 0.045638524 Testing Loss: 0.106113784  Training Acc: 0.986000001 Testing Acc: 0.976433337\n",
            "Epoch: 171 Training Loss: 0.042879611 Testing Loss: 0.104573861  Training Acc: 0.985799968 Testing Acc: 0.977583349\n",
            "Epoch: 172 Training Loss: 0.045890376 Testing Loss: 0.097420178  Training Acc: 0.985899985 Testing Acc: 0.978183329\n",
            "Epoch: 173 Training Loss: 0.039203215 Testing Loss: 0.102789171  Training Acc: 0.987699986 Testing Acc: 0.977766693\n",
            "Epoch: 174 Training Loss: 0.047585901 Testing Loss: 0.106897965  Training Acc: 0.986699998 Testing Acc: 0.976066649\n",
            "Epoch: 175 Training Loss: 0.046724238 Testing Loss: 0.105418317  Training Acc: 0.986000001 Testing Acc: 0.976733327\n",
            "Epoch: 176 Training Loss: 0.038615473 Testing Loss: 0.109797925  Training Acc: 0.987299979 Testing Acc: 0.976183355\n",
            "Epoch: 177 Training Loss: 0.037519976 Testing Loss: 0.105621330  Training Acc: 0.988199949 Testing Acc: 0.977283359\n",
            "Epoch: 178 Training Loss: 0.041306898 Testing Loss: 0.113382965  Training Acc: 0.987399995 Testing Acc: 0.975250006\n",
            "Epoch: 179 Training Loss: 0.046549536 Testing Loss: 0.115774840  Training Acc: 0.986599982 Testing Acc: 0.975600004\n",
            "Epoch: 180 Training Loss: 0.045661185 Testing Loss: 0.111271828  Training Acc: 0.985899985 Testing Acc: 0.976166666\n",
            "Epoch: 181 Training Loss: 0.053428434 Testing Loss: 0.106760316  Training Acc: 0.983699977 Testing Acc: 0.975950003\n",
            "Epoch: 182 Training Loss: 0.043209571 Testing Loss: 0.113293141  Training Acc: 0.987199962 Testing Acc: 0.976150036\n",
            "Epoch: 183 Training Loss: 0.039245181 Testing Loss: 0.104224898  Training Acc: 0.988299966 Testing Acc: 0.976816654\n",
            "Epoch: 184 Training Loss: 0.041099012 Testing Loss: 0.106882311  Training Acc: 0.986999989 Testing Acc: 0.976050019\n",
            "Epoch: 185 Training Loss: 0.036567051 Testing Loss: 0.117687404  Training Acc: 0.988399982 Testing Acc: 0.974816680\n",
            "Epoch: 186 Training Loss: 0.037745524 Testing Loss: 0.112387769  Training Acc: 0.987199962 Testing Acc: 0.976133347\n",
            "Epoch: 187 Training Loss: 0.039093427 Testing Loss: 0.115608878  Training Acc: 0.987099946 Testing Acc: 0.975549996\n",
            "Epoch: 188 Training Loss: 0.036501762 Testing Loss: 0.112834536  Training Acc: 0.987499952 Testing Acc: 0.976050019\n",
            "Epoch: 189 Training Loss: 0.039457437 Testing Loss: 0.107809544  Training Acc: 0.988899946 Testing Acc: 0.976883352\n",
            "Epoch: 190 Training Loss: 0.042024631 Testing Loss: 0.111940823  Training Acc: 0.986299992 Testing Acc: 0.976400018\n",
            "Epoch: 191 Training Loss: 0.046777904 Testing Loss: 0.108482212  Training Acc: 0.985699952 Testing Acc: 0.976650000\n",
            "Epoch: 192 Training Loss: 0.043245401 Testing Loss: 0.104831137  Training Acc: 0.986399949 Testing Acc: 0.977266669\n",
            "Epoch: 193 Training Loss: 0.039080400 Testing Loss: 0.110990532  Training Acc: 0.988999963 Testing Acc: 0.975666702\n",
            "Epoch: 194 Training Loss: 0.045896549 Testing Loss: 0.109459072  Training Acc: 0.986099958 Testing Acc: 0.977216661\n",
            "Epoch: 195 Training Loss: 0.036468897 Testing Loss: 0.115231887  Training Acc: 0.987499952 Testing Acc: 0.975750029\n",
            "Epoch: 196 Training Loss: 0.037648704 Testing Loss: 0.115184866  Training Acc: 0.988899946 Testing Acc: 0.975833356\n",
            "Epoch: 197 Training Loss: 0.043149415 Testing Loss: 0.105467983  Training Acc: 0.986399949 Testing Acc: 0.977050006\n",
            "Epoch: 198 Training Loss: 0.042666204 Testing Loss: 0.107108302  Training Acc: 0.985499978 Testing Acc: 0.976750016\n",
            "Epoch: 199 Training Loss: 0.039817229 Testing Loss: 0.111857779  Training Acc: 0.987099946 Testing Acc: 0.975400031\n",
            "Epoch: 200 Training Loss: 0.038111426 Testing Loss: 0.109508492  Training Acc: 0.988299966 Testing Acc: 0.976350009\n"
          ],
          "name": "stdout"
        }
      ]
    },
    {
      "cell_type": "code",
      "metadata": {
        "colab": {
          "base_uri": "https://localhost:8080/",
          "height": 592
        },
        "id": "vzn6YyGw9ULY",
        "outputId": "220225c1-e7c1-4379-d098-846b62264a4a"
      },
      "source": [
        "plt.figure(figsize = (10,10))\n",
        "plt.plot(L_train, linewidth = 2, c='b', label = \"train\")\n",
        "plt.plot(L_test, linewidth = 2, c='r', label = \"test\")\n",
        "plt.legend()\n",
        "plt.show()"
      ],
      "execution_count": 24,
      "outputs": [
        {
          "output_type": "display_data",
          "data": {
            "image/png": "[encoded data removed]",
            "text/plain": [
              "<Figure size 720x720 with 1 Axes>"
            ]
          },
          "metadata": {
            "tags": [],
            "needs_background": "light"
          }
        }
      ]
    },
    {
      "cell_type": "code",
      "metadata": {
        "colab": {
          "base_uri": "https://localhost:8080/",
          "height": 592
        },
        "id": "Rl1MuQhtqsg2",
        "outputId": "af90ddf4-3305-4cc0-e15a-33bd32aa1c14"
      },
      "source": [
        "plt.figure(figsize = (10,10))\n",
        "plt.plot(A_train, linewidth = 2, c='b', label = \"train\")\n",
        "plt.plot(A_test, linewidth = 2, c='r', label = \"test\")\n",
        "plt.legend()\n",
        "plt.show()"
      ],
      "execution_count": 25,
      "outputs": [
        {
          "output_type": "display_data",
          "data": {
            "image/png": "[encoded data removed]",
            "text/plain": [
              "<Figure size 720x720 with 1 Axes>"
            ]
          },
          "metadata": {
            "tags": [],
            "needs_background": "light"
          }
        }
      ]
    },
    {
      "cell_type": "code",
      "metadata": {
        "colab": {
          "base_uri": "https://localhost:8080/"
        },
        "id": "4990rRublMpD",
        "outputId": "1288b674-3733-4344-e344-ee90418b5f57"
      },
      "source": [
        "print(\"training loss    %.2f\" %(L_train[-1]))\n",
        "print(\"testing loss     %.2f\" %(L_test[-1]))\n",
        "print(\"training acc    %.2f\" %(A_train[-1]))\n",
        "print(\"testing acc     %.2f\" %(A_test[-1]))"
      ],
      "execution_count": 26,
      "outputs": [
        {
          "output_type": "stream",
          "text": [
            "training loss    0.04\n",
            "testing loss     0.11\n",
            "training acc    0.99\n",
            "testing acc     0.98\n"
          ],
          "name": "stdout"
        }
      ]
    },
    {
      "cell_type": "markdown",
      "metadata": {
        "id": "z4L9RrzOz5xl"
      },
      "source": [
        "# 5. Output\n",
        "<hr>"
      ]
    },
    {
      "cell_type": "markdown",
      "metadata": {
        "id": "alN6-n0r0DTO"
      },
      "source": [
        "## 1. Plot the training and testing losses with a batch size of 32"
      ]
    },
    {
      "cell_type": "markdown",
      "metadata": {
        "id": "4t1dSyC1AVe0"
      },
      "source": [
        "## 2. Plot the training and testing accuracies with a batch size of 32"
      ]
    },
    {
      "cell_type": "markdown",
      "metadata": {
        "id": "px7XRkcnAnc7"
      },
      "source": [
        "## 3. Plot the training and testing losses with a batch size of 64"
      ]
    },
    {
      "cell_type": "markdown",
      "metadata": {
        "id": "gW87VTpwAtMB"
      },
      "source": [
        "## 4. Plot the training and testing accuracies with a batch size of 64"
      ]
    },
    {
      "cell_type": "markdown",
      "metadata": {
        "id": "Kl5XI9EVA6QH"
      },
      "source": [
        "## 5. Plot the training and testing losses with a batch size of 128"
      ]
    },
    {
      "cell_type": "markdown",
      "metadata": {
        "id": "10I91neJBHb1"
      },
      "source": [
        "## 6. Plot the training and testing accuracies with a batch size of 128"
      ]
    },
    {
      "cell_type": "markdown",
      "metadata": {
        "id": "iDI0NljKBNF9"
      },
      "source": [
        "## 7. Print the loss at convergence with different mini-batch sizes"
      ]
    },
    {
      "cell_type": "markdown",
      "metadata": {
        "id": "ifTX7c5MCLSf"
      },
      "source": [
        "## 8. Print the accuracy at convergence with different mini-batch sizes"
      ]
    },
    {
      "cell_type": "code",
      "metadata": {
        "id": "mpgCDaBpCWT_"
      },
      "source": [
        ""
      ],
      "execution_count": null,
      "outputs": []
    }
  ]
}