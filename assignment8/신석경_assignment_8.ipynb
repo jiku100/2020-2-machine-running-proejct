{
  "nbformat": 4,
  "nbformat_minor": 0,
  "metadata": {
    "colab": {
      "name": "신석경_assignment_8",
      "provenance": [],
      "authorship_tag": "ABX9TyNB8iwHOAX7SlYeBf0dpmp3",
      "include_colab_link": true
    },
    "kernelspec": {
      "name": "python3",
      "display_name": "Python 3"
    }
  },
  "cells": [
    {
      "cell_type": "markdown",
      "metadata": {
        "id": "view-in-github",
        "colab_type": "text"
      },
      "source": [
        "<a href=\"https://colab.research.google.com/github/jiku100/2020-2-machine-running-proejct/blob/master/assignment8/%EC%8B%A0%EC%84%9D%EA%B2%BD_assignment_8.ipynb\" target=\"_parent\"><img src=\"https://colab.research.google.com/assets/colab-badge.svg\" alt=\"Open In Colab\"/></a>"
      ]
    },
    {
      "cell_type": "markdown",
      "metadata": {
        "id": "BZt9dJpertAM"
      },
      "source": [
        "# **PCA**\n",
        "\n"
      ]
    },
    {
      "cell_type": "markdown",
      "metadata": {
        "id": "M5Kn6OoVr1BS"
      },
      "source": [
        "# 1. Load Data\n",
        "<hr>"
      ]
    },
    {
      "cell_type": "code",
      "metadata": {
        "id": "RnAxOoGurXgf",
        "outputId": "c48e1476-fc2d-4890-fdf2-188d11fca773",
        "colab": {
          "base_uri": "https://localhost:8080/"
        }
      },
      "source": [
        "import numpy as np\n",
        "import matplotlib.pyplot as plt\n",
        "import pandas as pd\n",
        "import math\n",
        "\n",
        "data = np.loadtxt('data-pca.txt', delimiter=',')\n",
        "\n",
        "x = data[:,0]\n",
        "y = data[:,1]\n",
        "z = data\n",
        "print(f\"X shape = {x.shape}\")\n",
        "print(f\"Y shape = {y.shape}\")\n",
        "print(f\"Z shape = {z.shape}\")"
      ],
      "execution_count": 52,
      "outputs": [
        {
          "output_type": "stream",
          "text": [
            "X shape = (50,)\n",
            "Y shape = (50,)\n",
            "Z shape = (50, 2)\n"
          ],
          "name": "stdout"
        }
      ]
    },
    {
      "cell_type": "code",
      "metadata": {
        "id": "v5FuifRWsO6e",
        "outputId": "2bf10ee7-dfa4-45a4-a869-90250c8c37d7",
        "colab": {
          "base_uri": "https://localhost:8080/",
          "height": 612
        }
      },
      "source": [
        "plt.figure(figsize=(10,10))\n",
        "plt.scatter(x,y, marker = \"+\", s = 100, c=\"r\")\n",
        "plt.title(\"original data points\", fontsize = 20)\n",
        "plt.xlim([0, 7])\n",
        "plt.ylim([2, 8])\n",
        "plt.show()"
      ],
      "execution_count": 53,
      "outputs": [
        {
          "output_type": "display_data",
          "data": {
            "image/png": "[encoded data removed]",
            "text/plain": [
              "<Figure size 720x720 with 1 Axes>"
            ]
          },
          "metadata": {
            "tags": [],
            "needs_background": "light"
          }
        }
      ]
    },
    {
      "cell_type": "markdown",
      "metadata": {
        "id": "wvpDMYeIuGr7"
      },
      "source": [
        "# 2. Normalize Data\n",
        "<hr>"
      ]
    },
    {
      "cell_type": "code",
      "metadata": {
        "id": "kNNssKLTsTNp"
      },
      "source": [
        "def normalize_data(x, y):\n",
        "\n",
        "    xn = (x - np.mean(x))/np.std(x)\n",
        "    yn = (y - np.mean(y))/np.std(y)\n",
        "\n",
        "    return xn, yn"
      ],
      "execution_count": 54,
      "outputs": []
    },
    {
      "cell_type": "code",
      "metadata": {
        "id": "u_AT9uaGueQM"
      },
      "source": [
        "x_normalize, y_normalize = normalize_data(x,y)"
      ],
      "execution_count": 55,
      "outputs": []
    },
    {
      "cell_type": "code",
      "metadata": {
        "id": "bXvpoumbufPb",
        "outputId": "2a7fbd5b-4028-465e-ab00-43b8c29fd6ee",
        "colab": {
          "base_uri": "https://localhost:8080/",
          "height": 612
        }
      },
      "source": [
        "plt.figure(figsize=(10,10))\n",
        "plt.scatter(x_normalize,y_normalize, marker = \"+\", s = 100, c=\"r\")\n",
        "plt.title(\"data normalized by z-scoring\", fontsize = 20)\n",
        "plt.xlim([-3, 3])\n",
        "plt.ylim([-3, 3])\n",
        "plt.show()"
      ],
      "execution_count": 56,
      "outputs": [
        {
          "output_type": "display_data",
          "data": {
            "image/png": "[encoded data removed]",
            "text/plain": [
              "<Figure size 720x720 with 1 Axes>"
            ]
          },
          "metadata": {
            "tags": [],
            "needs_background": "light"
          }
        }
      ]
    },
    {
      "cell_type": "markdown",
      "metadata": {
        "id": "iVjBT_z2xffH"
      },
      "source": [
        "# 3. Find Principal Direction\n",
        "<hr>"
      ]
    },
    {
      "cell_type": "code",
      "metadata": {
        "id": "tSQuusj4OBuR",
        "outputId": "0993349d-1f11-4909-ecb5-b4aa0587cfb7",
        "colab": {
          "base_uri": "https://localhost:8080/"
        }
      },
      "source": [
        "z_normalize = np.vstack([x_normalize, y_normalize]).T\n",
        "print(z_normalize.shape)"
      ],
      "execution_count": 90,
      "outputs": [
        {
          "output_type": "stream",
          "text": [
            "(50, 2)\n"
          ],
          "name": "stdout"
        }
      ]
    },
    {
      "cell_type": "code",
      "metadata": {
        "id": "UzgEzzlxOzD4",
        "outputId": "2feef2e8-d218-4c35-e99c-7f780a897e49",
        "colab": {
          "base_uri": "https://localhost:8080/"
        }
      },
      "source": [
        "print(x_normalize[:5])"
      ],
      "execution_count": 92,
      "outputs": [
        {
          "output_type": "stream",
          "text": [
            "[-0.5233151   0.46381907 -1.14839444 -1.0540573  -0.98402134]\n"
          ],
          "name": "stdout"
        }
      ]
    },
    {
      "cell_type": "code",
      "metadata": {
        "id": "ohLp8KHWOwHR",
        "outputId": "04443128-57f9-4e71-eaa2-3cc0162a429c",
        "colab": {
          "base_uri": "https://localhost:8080/"
        }
      },
      "source": [
        "print(z_normalize[:5])"
      ],
      "execution_count": 91,
      "outputs": [
        {
          "output_type": "stream",
          "text": [
            "[[-0.5233151  -1.59279489]\n",
            " [ 0.46381907  0.84034673]\n",
            " [-1.14839444 -0.58316356]\n",
            " [-1.0540573  -1.27072124]\n",
            " [-0.98402134 -0.8165806 ]]\n"
          ],
          "name": "stdout"
        }
      ]
    },
    {
      "cell_type": "code",
      "metadata": {
        "id": "Qd0XJPM4vBUx"
      },
      "source": [
        "def compute_covariance(Z):\n",
        "\n",
        "    covar = np.cov(Z.T)# compute the covariance matrix #\n",
        "    ## 실제 수식으로 구해보았지만, numpy의 소숫점 정확도가 더 정확해 numpy를 선택\n",
        "    return covar\n",
        "  \n",
        "def compute_principal_direction(covariance):\n",
        "\n",
        "    eigenvalues, eigenvectors = np.linalg.eig(covariance)\n",
        "    eigenvectors = eigenvectors.T\n",
        "    idx = np.argsort(eigenvalues)[::-1]\n",
        "    eigenvalues = eigenvalues[idx]\n",
        "    \n",
        "    return eigenvalues, eigenvectors, idx\n",
        "#idx는 eigenvalue가 큰 순서부터의 index를 가짐"
      ],
      "execution_count": 129,
      "outputs": []
    },
    {
      "cell_type": "code",
      "metadata": {
        "id": "iCisUqu8441F",
        "outputId": "66e33311-2167-4118-8078-b36b34afd53a",
        "colab": {
          "base_uri": "https://localhost:8080/"
        }
      },
      "source": [
        "## co variance matrix 구하기\n",
        "cov = compute_covariance(z_normalize)\n",
        "print(cov)\n",
        "print(cov.shape)"
      ],
      "execution_count": 95,
      "outputs": [
        {
          "output_type": "stream",
          "text": [
            "[[1.02040816 0.75054082]\n",
            " [0.75054082 1.02040816]]\n",
            "(2, 2)\n"
          ],
          "name": "stdout"
        }
      ]
    },
    {
      "cell_type": "code",
      "metadata": {
        "id": "r7XQQO0lUG7a",
        "outputId": "356ef57d-d7f1-4ac8-8d21-e2041905bf4a",
        "colab": {
          "base_uri": "https://localhost:8080/"
        }
      },
      "source": [
        "## eigenvector, eigenvalue 구하기\n",
        "eigenvalues, eigenvectors, eigen_order = compute_principal_direction(cov)\n",
        "print(eigenvalues.shape)\n",
        "print(eigenvectors.shape)\n",
        "print(eigenvalues)\n",
        "print(eigenvectors)\n",
        "print(eigen_order)"
      ],
      "execution_count": 131,
      "outputs": [
        {
          "output_type": "stream",
          "text": [
            "(2,)\n",
            "(2, 2)\n",
            "[1.77094898 0.26986734]\n",
            "[[ 0.70710678  0.70710678]\n",
            " [-0.70710678  0.70710678]]\n",
            "[0 1]\n"
          ],
          "name": "stdout"
        }
      ]
    },
    {
      "cell_type": "code",
      "metadata": {
        "id": "YXIf0tHxT-hC"
      },
      "source": [
        "## vector를 그릴 점 구하기\n",
        "x_vector_1 = -eigenvalues[eigen_order[0]]\n",
        "y_vector_1 = eigenvectors_t[0][1]/eigenvectors_t[0][0] * x_vector_1\n",
        "x_vector_2 = -eigenvalues[eigen_order[1]]\n",
        "y_vector_2 = eigenvectors_t[1][1]/eigenvectors_t[1][0] * x_vector_2"
      ],
      "execution_count": 134,
      "outputs": []
    },
    {
      "cell_type": "code",
      "metadata": {
        "id": "OfICHzURRvOl",
        "outputId": "1a5fa59c-4f9f-435c-c4e3-bf3c25313960",
        "colab": {
          "base_uri": "https://localhost:8080/",
          "height": 612
        }
      },
      "source": [
        "plt.figure(figsize=(10,10))\n",
        "plt.scatter(x_normalize,y_normalize, marker = \"+\", s = 100, c=\"r\")\n",
        "plt.arrow(0, 0, x_vector_1, y_vector_1, width = 0.04, ec='blue')\n",
        "plt.arrow(0, 0, x_vector_2, y_vector_2, width = 0.04, ec='green')\n",
        "plt.title(\"Principal Directions\", fontsize = 20)\n",
        "plt.xlim([-3, 3])\n",
        "plt.ylim([-3, 3])\n",
        "plt.show()"
      ],
      "execution_count": 136,
      "outputs": [
        {
          "output_type": "display_data",
          "data": {
            "image/png": "[encoded data removed]",
            "text/plain": [
              "<Figure size 720x720 with 1 Axes>"
            ]
          },
          "metadata": {
            "tags": [],
            "needs_background": "light"
          }
        }
      ]
    },
    {
      "cell_type": "code",
      "metadata": {
        "id": "q5eJOdcW47iy",
        "outputId": "6e95c2d7-afcc-4d00-b6e3-8de4b2322697",
        "colab": {
          "base_uri": "https://localhost:8080/"
        }
      },
      "source": [
        ""
      ],
      "execution_count": 96,
      "outputs": [
        {
          "output_type": "stream",
          "text": [
            "(2,)\n",
            "(2, 2)\n"
          ],
          "name": "stdout"
        }
      ]
    },
    {
      "cell_type": "code",
      "metadata": {
        "id": "L58cnkww9Xhy",
        "outputId": "0e2ab462-7285-4a15-b837-de9e2a27118a",
        "colab": {
          "base_uri": "https://localhost:8080/"
        }
      },
      "source": [
        "print(eigenvectors)"
      ],
      "execution_count": 97,
      "outputs": [
        {
          "output_type": "stream",
          "text": [
            "[[ 0.70710678  0.70710678]\n",
            " [-0.70710678  0.70710678]]\n"
          ],
          "name": "stdout"
        }
      ]
    },
    {
      "cell_type": "code",
      "metadata": {
        "id": "hREYguF89awk",
        "outputId": "8fcbd052-c485-434b-9f9f-877fd1a06df7",
        "colab": {
          "base_uri": "https://localhost:8080/",
          "height": 612
        }
      },
      "source": [
        "x_test = np.linspace(-2.5,2.5)\n",
        "y_test = eigenvectors[0][1]/eigenvectors[0][0] * x_test\n",
        "plt.figure(figsize=(10,10))\n",
        "plt.scatter(x_normalize,y_normalize, marker = \"+\", s = 100, c=\"r\")\n",
        "plt.plot(x_test,y_test)\n",
        "plt.title(\"data normalized by z-scoring\", fontsize = 20)\n",
        "plt.xlim([-3, 3])\n",
        "plt.ylim([-3, 3])\n",
        "plt.show()"
      ],
      "execution_count": 101,
      "outputs": [
        {
          "output_type": "display_data",
          "data": {
            "image/png": "[encoded data removed]",
            "text/plain": [
              "<Figure size 720x720 with 1 Axes>"
            ]
          },
          "metadata": {
            "tags": [],
            "needs_background": "light"
          }
        }
      ]
    },
    {
      "cell_type": "code",
      "metadata": {
        "id": "Z_lKTfhsNpQh"
      },
      "source": [
        ""
      ],
      "execution_count": null,
      "outputs": []
    }
  ]
}