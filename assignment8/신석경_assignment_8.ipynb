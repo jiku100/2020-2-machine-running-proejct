{
  "nbformat": 4,
  "nbformat_minor": 0,
  "metadata": {
    "colab": {
      "name": "신석경_assignment_8",
      "provenance": [],
      "authorship_tag": "ABX9TyPRAa+7NP4MltkMRaDs82AH",
      "include_colab_link": true
    },
    "kernelspec": {
      "name": "python3",
      "display_name": "Python 3"
    }
  },
  "cells": [
    {
      "cell_type": "markdown",
      "metadata": {
        "id": "view-in-github",
        "colab_type": "text"
      },
      "source": [
        "<a href=\"https://colab.research.google.com/github/jiku100/2020-2-machine-running-proejct/blob/master/assignment8/%EC%8B%A0%EC%84%9D%EA%B2%BD_assignment_8.ipynb\" target=\"_parent\"><img src=\"https://colab.research.google.com/assets/colab-badge.svg\" alt=\"Open In Colab\"/></a>"
      ]
    },
    {
      "cell_type": "markdown",
      "metadata": {
        "id": "BZt9dJpertAM"
      },
      "source": [
        "# **PCA**\n",
        "\n"
      ]
    },
    {
      "cell_type": "markdown",
      "metadata": {
        "id": "M5Kn6OoVr1BS"
      },
      "source": [
        "# 1. Load Data\n",
        "<hr>"
      ]
    },
    {
      "cell_type": "code",
      "metadata": {
        "id": "RnAxOoGurXgf"
      },
      "source": [
        "import numpy as np\n",
        "import matplotlib.pyplot as plt\n",
        "import pandas as pd\n",
        "import math\n",
        "\n",
        "data = np.loadtxt('data-pca.txt', delimiter=',')\n",
        "\n",
        "x = data[:,0]\n",
        "y = data[:,1]"
      ],
      "execution_count": 1,
      "outputs": []
    },
    {
      "cell_type": "code",
      "metadata": {
        "id": "v5FuifRWsO6e",
        "outputId": "0ec45bac-7296-4cfb-e73e-869e2e32ca40",
        "colab": {
          "base_uri": "https://localhost:8080/",
          "height": 612
        }
      },
      "source": [
        "plt.figure(figsize=(10,10))\n",
        "plt.scatter(x,y, marker = \"+\", s = 100, c=\"r\")\n",
        "plt.title(\"original data points\", fontsize = 20)\n",
        "plt.xlim([0, 7])\n",
        "plt.ylim([2, 8])\n",
        "plt.show()"
      ],
      "execution_count": 20,
      "outputs": [
        {
          "output_type": "display_data",
          "data": {
            "image/png": "[encoded data removed]",
            "text/plain": [
              "<Figure size 720x720 with 1 Axes>"
            ]
          },
          "metadata": {
            "tags": [],
            "needs_background": "light"
          }
        }
      ]
    },
    {
      "cell_type": "code",
      "metadata": {
        "id": "kNNssKLTsTNp"
      },
      "source": [
        ""
      ],
      "execution_count": null,
      "outputs": []
    }
  ]
}