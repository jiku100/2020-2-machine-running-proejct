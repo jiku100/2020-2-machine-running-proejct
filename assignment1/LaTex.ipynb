{
  "nbformat": 4,
  "nbformat_minor": 0,
  "metadata": {
    "colab": {
      "name": "LaTex",
      "provenance": [],
      "collapsed_sections": [],
      "authorship_tag": "ABX9TyOLTUtrjJhK9HEsK2Rb44/6",
      "include_colab_link": true
    },
    "kernelspec": {
      "name": "python3",
      "display_name": "Python 3"
    }
  },
  "cells": [
    {
      "cell_type": "markdown",
      "metadata": {
        "id": "view-in-github",
        "colab_type": "text"
      },
      "source": [
        "<a href=\"https://colab.research.google.com/github/jiku100/2020-2-machine-running-proejct/blob/master/assignment1/LaTex.ipynb\" target=\"_parent\"><img src=\"https://colab.research.google.com/assets/colab-badge.svg\" alt=\"Open In Colab\"/></a>"
      ]
    },
    {
      "cell_type": "markdown",
      "metadata": {
        "id": "AgIWutJ0PiND",
        "colab_type": "text"
      },
      "source": [
        "$(1)\\ f(x) = ax^2 + bx + c$"
      ]
    },
    {
      "cell_type": "markdown",
      "metadata": {
        "id": "9TKmZpFBPtTN",
        "colab_type": "text"
      },
      "source": [
        "$(2)\\ f(x) = \\exp(x)$"
      ]
    },
    {
      "cell_type": "markdown",
      "metadata": {
        "id": "DgqeubMJPt7V",
        "colab_type": "text"
      },
      "source": [
        "$(3)\\ f(x) = \\frac{a}{b},\\quad  a\\in\\mathbb{R},\\ b\\in\\mathbb{R} $"
      ]
    },
    {
      "cell_type": "markdown",
      "metadata": {
        "id": "UBiledPCPuQ9",
        "colab_type": "text"
      },
      "source": [
        "$(4)\\ f(x) = \\sum_{i=1}^n x_i, \\quad x = (x_1,x_2,\\cdot\\cdot\\cdot,x_n)$"
      ]
    },
    {
      "cell_type": "markdown",
      "metadata": {
        "id": "PpwBtD7bPugB",
        "colab_type": "text"
      },
      "source": [
        "$(5)\\ f(x) = \\int_{\\Omega} \\sigma(x,t) dt$"
      ]
    },
    {
      "cell_type": "markdown",
      "metadata": {
        "id": "lb5iQqW3R6RX",
        "colab_type": "text"
      },
      "source": [
        "$(6)\\ {\\partial\\mathbb{E}\\over\\partial w }$"
      ]
    },
    {
      "cell_type": "code",
      "metadata": {
        "id": "UJ7OtN52Se0J",
        "colab_type": "code",
        "colab": {}
      },
      "source": [
        ""
      ],
      "execution_count": null,
      "outputs": []
    }
  ]
}