{
  "nbformat": 4,
  "nbformat_minor": 0,
  "metadata": {
    "colab": {
      "name": "신석경_assignment_07",
      "provenance": [],
      "collapsed_sections": [],
      "authorship_tag": "ABX9TyMncolSvFZ7FHwiuvs2kP3k",
      "include_colab_link": true
    },
    "kernelspec": {
      "name": "python3",
      "display_name": "Python 3"
    }
  },
  "cells": [
    {
      "cell_type": "markdown",
      "metadata": {
        "id": "view-in-github",
        "colab_type": "text"
      },
      "source": [
        "<a href=\"https://colab.research.google.com/github/jiku100/2020-2-machine-running-proejct/blob/master/assignment7/%EC%8B%A0%EC%84%9D%EA%B2%BD_assignment_07.ipynb\" target=\"_parent\"><img src=\"https://colab.research.google.com/assets/colab-badge.svg\" alt=\"Open In Colab\"/></a>"
      ]
    },
    {
      "cell_type": "markdown",
      "metadata": {
        "id": "Gdjf1lnl6fyz"
      },
      "source": [
        "# **Cluster**"
      ]
    },
    {
      "cell_type": "markdown",
      "metadata": {
        "id": "uEOYtBra6pGg"
      },
      "source": [
        "# 1. Load Data\n",
        "<hr>"
      ]
    },
    {
      "cell_type": "code",
      "metadata": {
        "id": "CLY2ypru6U0u",
        "outputId": "06f0cb06-ec1d-4f8d-a4eb-9c0c7fa1645c",
        "colab": {
          "base_uri": "https://localhost:8080/"
        }
      },
      "source": [
        "import numpy as np\n",
        "import matplotlib.pyplot as plt\n",
        "import pandas as pd\n",
        "import math\n",
        "dataset = pd.read_csv('data-kmeans.csv')\n",
        "data = dataset.values\n",
        "print(data.shape)\n",
        "print(f\"{data[0][0]} {data[0][1]}\")"
      ],
      "execution_count": null,
      "outputs": [
        {
          "output_type": "stream",
          "text": [
            "(200, 2)\n",
            "15 39\n"
          ],
          "name": "stdout"
        }
      ]
    },
    {
      "cell_type": "code",
      "metadata": {
        "id": "Mx3UoSOD7FnT",
        "outputId": "ccacd4e6-01eb-4654-d4fd-21ee22672672",
        "colab": {
          "base_uri": "https://localhost:8080/"
        }
      },
      "source": [
        "X = data[:, 0]\n",
        "Y = data[:, 1]\n",
        "Z = data\n",
        "print(X.shape)\n",
        "print(Y.shape)\n",
        "print(Z.shape)"
      ],
      "execution_count": null,
      "outputs": [
        {
          "output_type": "stream",
          "text": [
            "(200,)\n",
            "(200,)\n",
            "(200, 2)\n"
          ],
          "name": "stdout"
        }
      ]
    },
    {
      "cell_type": "code",
      "metadata": {
        "id": "If8ABTvl6sWu",
        "outputId": "c739bc6b-53b8-4a7f-b7e0-e0b1b9ac6c47",
        "colab": {
          "base_uri": "https://localhost:8080/",
          "height": 499
        }
      },
      "source": [
        "plt.figure(1, figsize=(8,8))\n",
        "plt.scatter(X,Y, s= 50, c=\"k\", label=\"data\")\n",
        "plt.title(\"data point\")\n",
        "plt.legend()\n",
        "plt.show()"
      ],
      "execution_count": null,
      "outputs": [
        {
          "output_type": "display_data",
          "data": {
            "image/png": "[encoded data removed]",
            "text/plain": [
              "<Figure size 576x576 with 1 Axes>"
            ]
          },
          "metadata": {
            "tags": [],
            "needs_background": "light"
          }
        }
      ]
    },
    {
      "cell_type": "markdown",
      "metadata": {
        "id": "_is4zhYt9jRQ"
      },
      "source": [
        "# 2. Implement function\n",
        "<hr>"
      ]
    },
    {
      "cell_type": "code",
      "metadata": {
        "id": "8vbgtVt59ngT",
        "outputId": "34c2610f-01c6-4dc0-cf37-7811bb75399d",
        "colab": {
          "base_uri": "https://localhost:8080/"
        }
      },
      "source": [
        "def compute_distance(a, b):\n",
        "\n",
        "    dist = math.sqrt((a[0] - b[0])**2 + (a[1] - b[1])**2)\n",
        "\n",
        "    return dist\n",
        "\n",
        "def compute_centroid(Z):\n",
        "\n",
        "    center = np.mean(Z, axis = 0) #centroid of a set of points in P#\n",
        "    \n",
        "    return center\n",
        "\n",
        "def compute_label(z, M):\n",
        "\n",
        "    distance = list(map(lambda x: compute_distance(z, x), M))\n",
        "    label = np.argmin(distance)   #label of point z with a set of centroids M#\n",
        "    \n",
        "    return label\n",
        "\n",
        "def compute_loss(C, M):\n",
        "    n = 0\n",
        "    loss = 0\n",
        "    for i in range(len(C)):\n",
        "      idx = (C[:,0]==i)\n",
        "      C_idx = C[idx]\n",
        "      for z in C_idx:\n",
        "        loss += compute_distance(z[1:], M[i])\n",
        "        n += 1\n",
        "    loss = 1/n * loss\n",
        "\n",
        "    return loss\n",
        "\n",
        "\n",
        "## Test Code\n",
        "test_z1 = np.array([2,5])\n",
        "test_z2 = np.array([5,1])\n",
        "print(f\"Compute_distance test: {compute_distance(test_z1, test_z2)}\")\n",
        "\n",
        "test_Z = np.array([test_z1, test_z2])\n",
        "print(f\"Compute_centroid test: {compute_centroid(test_Z)}\")\n",
        "\n",
        "test_z3 = np.array([1,1])\n",
        "test_M = np.array([[5,1], [2,4], [2,2]])\n",
        "print(f\"Compute_label test: {compute_label(test_z3, test_M)}\")\n",
        "\n",
        "test_C = np.array([[0,1,2],[1,2,3],[2,3,4],[1,4,5],[0,5,6],[2,6,7]])\n",
        "print(test_C.shape)\n",
        "print(f\"Compute_loss test: {compute_loss(test_C, test_M)}\")"
      ],
      "execution_count": 92,
      "outputs": [
        {
          "output_type": "stream",
          "text": [
            "Compute_distance test: 5.0\n",
            "Compute_centroid test: [3.5 3. ]\n",
            "Compute_label test: 2\n",
            "(6, 3)\n",
            "[ True False False False  True False]\n",
            "[[0 1 2]\n",
            " [0 5 6]]\n",
            "[1 2]\n",
            "[5 1]\n",
            "4.123105625617661\n",
            "[5 6]\n",
            "[5 1]\n",
            "5.0\n",
            "[False  True False  True False False]\n",
            "[[1 2 3]\n",
            " [1 4 5]]\n",
            "[2 3]\n",
            "[2 4]\n",
            "1.0\n",
            "[4 5]\n",
            "[2 4]\n",
            "2.23606797749979\n",
            "[False False  True False False  True]\n",
            "[[2 3 4]\n",
            " [2 6 7]]\n",
            "[3 4]\n",
            "[2 2]\n",
            "2.23606797749979\n",
            "[6 7]\n",
            "[2 2]\n",
            "6.4031242374328485\n",
            "[False False False False False False]\n",
            "[]\n",
            "[False False False False False False]\n",
            "[]\n",
            "[False False False False False False]\n",
            "[]\n",
            "Compute_loss test: 3.4997276363416816\n"
          ],
          "name": "stdout"
        }
      ]
    },
    {
      "cell_type": "markdown",
      "metadata": {
        "id": "Vco0aXY_9ZIF"
      },
      "source": [
        "# 3. Initialize Cluster\n",
        "<hr>"
      ]
    },
    {
      "cell_type": "code",
      "metadata": {
        "id": "dU3ErSXX7rUi",
        "outputId": "ac42e970-dd59-4a04-cc7c-d93866b61272",
        "colab": {
          "base_uri": "https://localhost:8080/"
        }
      },
      "source": [
        "C_idx = np.random.randint(0,5,200)[:,None]\n",
        "C = np.hstack((C_idx, data))\n",
        "print(C.shape)\n",
        "print(C[:5])"
      ],
      "execution_count": 58,
      "outputs": [
        {
          "output_type": "stream",
          "text": [
            "(200, 3)\n",
            "[[ 4 15 39]\n",
            " [ 1 15 81]\n",
            " [ 0 16  6]\n",
            " [ 4 16 77]\n",
            " [ 3 17 40]]\n"
          ],
          "name": "stdout"
        }
      ]
    },
    {
      "cell_type": "code",
      "metadata": {
        "id": "J88ueNLTiCjY",
        "outputId": "0fe52923-271b-46e1-ede8-f6c569a11ae4",
        "colab": {
          "base_uri": "https://localhost:8080/"
        }
      },
      "source": [
        "print(idx_0)\n",
        "C_0 = C[idx_0]\n",
        "print(C_0)"
      ],
      "execution_count": 82,
      "outputs": [
        {
          "output_type": "stream",
          "text": [
            "[False False  True False False False False False False False False False\n",
            " False False False  True  True  True False  True False False False  True\n",
            " False False False False False False False  True  True False False False\n",
            " False False False False  True False False  True False False False  True\n",
            "  True False  True  True False False  True False False False False  True\n",
            " False False  True  True False  True  True False False False False False\n",
            " False False False False False False False False  True False False False\n",
            " False False  True False False False False False False False False False\n",
            " False False False False False False  True False False False False False\n",
            " False False  True False False False False False False False False False\n",
            "  True False False False False False  True False False False  True False\n",
            " False False  True False False False False False False False  True False\n",
            " False False False False  True  True False False False False False False\n",
            " False  True False False False False False False  True False False False\n",
            "  True False False False False False False  True False False False False\n",
            "  True False  True False False False False  True False  True False False\n",
            " False False False False False False False False]\n",
            "[[  0  16   6]\n",
            " [  0  20  79]\n",
            " [  0  21  35]\n",
            " [  0  21  66]\n",
            " [  0  23  98]\n",
            " [  0  25  73]\n",
            " [  0  30  73]\n",
            " [  0  33   4]\n",
            " [  0  38  35]\n",
            " [  0  39  61]\n",
            " [  0  40  47]\n",
            " [  0  40  42]\n",
            " [  0  42  52]\n",
            " [  0  42  60]\n",
            " [  0  43  45]\n",
            " [  0  46  46]\n",
            " [  0  47  52]\n",
            " [  0  47  59]\n",
            " [  0  48  59]\n",
            " [  0  48  50]\n",
            " [  0  54  51]\n",
            " [  0  57  58]\n",
            " [  0  62  59]\n",
            " [  0  63  52]\n",
            " [  0  67  56]\n",
            " [  0  71  35]\n",
            " [  0  71   9]\n",
            " [  0  73   5]\n",
            " [  0  76  40]\n",
            " [  0  78  22]\n",
            " [  0  78  90]\n",
            " [  0  78  78]\n",
            " [  0  85  26]\n",
            " [  0  87  27]\n",
            " [  0  88  86]\n",
            " [  0  97  32]\n",
            " [  0  98  15]\n",
            " [  0 101  68]\n",
            " [  0 103  85]]\n"
          ],
          "name": "stdout"
        }
      ]
    },
    {
      "cell_type": "code",
      "metadata": {
        "id": "n9n-Ks3O8wMt",
        "outputId": "bdf88f3f-de8c-494d-9cf0-8ee653ae3575",
        "colab": {
          "base_uri": "https://localhost:8080/",
          "height": 499
        }
      },
      "source": [
        "idx_0 = (C[:,0]==0)\n",
        "idx_1 = (C[:,0]==1)\n",
        "idx_2 = (C[:,0]==2)\n",
        "idx_3 = (C[:,0]==3)\n",
        "idx_4 = (C[:,0]==4)\n",
        "\n",
        "plt.figure(1, figsize=(8,8))\n",
        "plt.scatter(C[idx_0, 1],C[idx_0, 2], s= 50, c=\"r\", label=\"Cluster 1\")\n",
        "plt.scatter(C[idx_1, 1],C[idx_1, 2], s= 50, c=\"b\", label=\"Cluster 2\")\n",
        "plt.scatter(C[idx_2, 1],C[idx_2, 2], s= 50, c=\"g\", label=\"Cluster 3\")\n",
        "plt.scatter(C[idx_3, 1],C[idx_3, 2], s= 50, c=\"aqua\", label=\"Cluster 4\")\n",
        "plt.scatter(C[idx_4, 1],C[idx_4, 2], s= 50, c=\"fuchsia\", label=\"Cluster 5\")\n",
        "\n",
        "plt.title(\"data point\")\n",
        "plt.legend()\n",
        "plt.show()"
      ],
      "execution_count": 72,
      "outputs": [
        {
          "output_type": "display_data",
          "data": {
            "image/png": "[encoded data removed]",
            "text/plain": [
              "<Figure size 576x576 with 1 Axes>"
            ]
          },
          "metadata": {
            "tags": [],
            "needs_background": "light"
          }
        }
      ]
    },
    {
      "cell_type": "code",
      "metadata": {
        "id": "V5O97o4EePd9"
      },
      "source": [
        ""
      ],
      "execution_count": null,
      "outputs": []
    }
  ]
}