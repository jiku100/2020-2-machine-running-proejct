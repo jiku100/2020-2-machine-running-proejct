{
  "nbformat": 4,
  "nbformat_minor": 0,
  "metadata": {
    "colab": {
      "name": "신석경_assignment_07",
      "provenance": [],
      "collapsed_sections": [],
      "authorship_tag": "ABX9TyMBZ6mA3u4XgiZTAvQl0JxP",
      "include_colab_link": true
    },
    "kernelspec": {
      "name": "python3",
      "display_name": "Python 3"
    }
  },
  "cells": [
    {
      "cell_type": "markdown",
      "metadata": {
        "id": "view-in-github",
        "colab_type": "text"
      },
      "source": [
        "<a href=\"https://colab.research.google.com/github/jiku100/2020-2-machine-running-proejct/blob/master/assignment7/%EC%8B%A0%EC%84%9D%EA%B2%BD_assignment_07.ipynb\" target=\"_parent\"><img src=\"https://colab.research.google.com/assets/colab-badge.svg\" alt=\"Open In Colab\"/></a>"
      ]
    },
    {
      "cell_type": "markdown",
      "metadata": {
        "id": "Gdjf1lnl6fyz"
      },
      "source": [
        "# **Cluster**"
      ]
    },
    {
      "cell_type": "markdown",
      "metadata": {
        "id": "uEOYtBra6pGg"
      },
      "source": [
        "# 1. Load Data\n",
        "<hr>"
      ]
    },
    {
      "cell_type": "code",
      "metadata": {
        "id": "CLY2ypru6U0u",
        "outputId": "ec9f3fef-3fb0-46e7-cf67-857a3bd4a838",
        "colab": {
          "base_uri": "https://localhost:8080/"
        }
      },
      "source": [
        "import numpy as np\n",
        "import matplotlib.pyplot as plt\n",
        "import pandas as pd\n",
        "import math\n",
        "dataset = pd.read_csv('data-kmeans.csv')\n",
        "data = dataset.values\n",
        "print(data.shape)\n",
        "print(f\"{data[0][0]} {data[0][1]}\")"
      ],
      "execution_count": 1,
      "outputs": [
        {
          "output_type": "stream",
          "text": [
            "(200, 2)\n",
            "15 39\n"
          ],
          "name": "stdout"
        }
      ]
    },
    {
      "cell_type": "code",
      "metadata": {
        "id": "Mx3UoSOD7FnT",
        "outputId": "29d7ce69-247e-4314-8ca8-26e1aaf3b96f",
        "colab": {
          "base_uri": "https://localhost:8080/"
        }
      },
      "source": [
        "X = data[:, 0]\n",
        "Y = data[:, 1]\n",
        "Z = data\n",
        "print(X.shape)\n",
        "print(Y.shape)\n",
        "print(Z.shape)"
      ],
      "execution_count": 2,
      "outputs": [
        {
          "output_type": "stream",
          "text": [
            "(200,)\n",
            "(200,)\n",
            "(200, 2)\n"
          ],
          "name": "stdout"
        }
      ]
    },
    {
      "cell_type": "code",
      "metadata": {
        "id": "If8ABTvl6sWu",
        "outputId": "1574b6c8-5779-4196-fba1-7b0e8a544f2a",
        "colab": {
          "base_uri": "https://localhost:8080/",
          "height": 607
        }
      },
      "source": [
        "plt.figure(1, figsize=(10,10))\n",
        "plt.scatter(X,Y, s= 75, c=\"k\", label=\"data\")\n",
        "plt.title(\"data point\")\n",
        "plt.legend()\n",
        "plt.show()"
      ],
      "execution_count": 3,
      "outputs": [
        {
          "output_type": "display_data",
          "data": {
            "image/png": "[encoded data removed]",
            "text/plain": [
              "<Figure size 720x720 with 1 Axes>"
            ]
          },
          "metadata": {
            "tags": [],
            "needs_background": "light"
          }
        }
      ]
    },
    {
      "cell_type": "markdown",
      "metadata": {
        "id": "_is4zhYt9jRQ"
      },
      "source": [
        "# 2. Implement function\n",
        "<hr>"
      ]
    },
    {
      "cell_type": "code",
      "metadata": {
        "id": "8vbgtVt59ngT",
        "outputId": "7f3e71b9-c658-4faa-8c4b-20d526bb247d",
        "colab": {
          "base_uri": "https://localhost:8080/"
        }
      },
      "source": [
        "def compute_distance(a, b):\n",
        "\n",
        "    dist = math.sqrt((a[0] - b[0])**2 + (a[1] - b[1])**2)\n",
        "\n",
        "    return dist\n",
        "\n",
        "def compute_centroid(Z):\n",
        "\n",
        "    center = np.mean(Z, axis = 0) #centroid of a set of points in P#\n",
        "    \n",
        "    return center\n",
        "\n",
        "def compute_label(z, M):\n",
        "\n",
        "    distance = list(map(lambda x: compute_distance(z, x), M))\n",
        "    label = np.argmin(distance)   #label of point z with a set of centroids M#\n",
        "    \n",
        "    return label\n",
        "\n",
        "def compute_loss(C, M):\n",
        "    n = 0\n",
        "    loss = 0\n",
        "    for i in range(len(C)):\n",
        "      idx = (C[:,0]==i)\n",
        "      C_idx = C[idx]\n",
        "      for z in C_idx:\n",
        "        loss += compute_distance(z[1:], M[i])\n",
        "        n += 1\n",
        "    loss = 1/n * loss\n",
        "\n",
        "    return loss\n",
        "\n",
        "\n",
        "## Test Code\n",
        "test_z1 = np.array([2,5])\n",
        "test_z2 = np.array([5,1])\n",
        "print(f\"Compute_distance test: {compute_distance(test_z1, test_z2)}\")\n",
        "\n",
        "test_Z = np.array([test_z1, test_z2])\n",
        "print(f\"Compute_centroid test: {compute_centroid(test_Z)}\")\n",
        "\n",
        "test_z3 = np.array([1,1])\n",
        "test_M = np.array([[5,1], [2,4], [2,2]])\n",
        "print(f\"Compute_label test: {compute_label(test_z3, test_M)}\")\n",
        "\n",
        "test_C = np.array([[0,1,2],[1,2,3],[2,3,4],[1,4,5],[0,5,6],[2,6,7]])\n",
        "print(test_C.shape)\n",
        "print(f\"Compute_loss test: {compute_loss(test_C, test_M)}\")"
      ],
      "execution_count": 4,
      "outputs": [
        {
          "output_type": "stream",
          "text": [
            "Compute_distance test: 5.0\n",
            "Compute_centroid test: [3.5 3. ]\n",
            "Compute_label test: 2\n",
            "(6, 3)\n",
            "Compute_loss test: 3.4997276363416816\n"
          ],
          "name": "stdout"
        }
      ]
    },
    {
      "cell_type": "markdown",
      "metadata": {
        "id": "Vco0aXY_9ZIF"
      },
      "source": [
        "# 3. Initialize Cluster\n",
        "<hr>"
      ]
    },
    {
      "cell_type": "code",
      "metadata": {
        "id": "dU3ErSXX7rUi",
        "outputId": "8a0997f2-3f86-42cd-9c39-66973c4f264d",
        "colab": {
          "base_uri": "https://localhost:8080/"
        }
      },
      "source": [
        "C_idx = np.random.randint(0,5,200)[:,None]\n",
        "C = np.hstack((C_idx, data))\n",
        "print(C.shape)\n",
        "print(C[:5])"
      ],
      "execution_count": 5,
      "outputs": [
        {
          "output_type": "stream",
          "text": [
            "(200, 3)\n",
            "[[ 1 15 39]\n",
            " [ 2 15 81]\n",
            " [ 3 16  6]\n",
            " [ 4 16 77]\n",
            " [ 0 17 40]]\n"
          ],
          "name": "stdout"
        }
      ]
    },
    {
      "cell_type": "code",
      "metadata": {
        "id": "n9n-Ks3O8wMt",
        "outputId": "fa07b64e-6c48-488c-8e12-03fd0697bbbb",
        "colab": {
          "base_uri": "https://localhost:8080/",
          "height": 616
        }
      },
      "source": [
        "idx_0 = (C[:,0]==0)\n",
        "idx_1 = (C[:,0]==1)\n",
        "idx_2 = (C[:,0]==2)\n",
        "idx_3 = (C[:,0]==3)\n",
        "idx_4 = (C[:,0]==4)\n",
        "\n",
        "C_0 = C[idx_0]\n",
        "C_1 = C[idx_1]\n",
        "C_2 = C[idx_2]\n",
        "C_3 = C[idx_3]\n",
        "C_4 = C[idx_4]\n",
        "\n",
        "M = []\n",
        "M.append(compute_centroid(C_0[:,1:]))\n",
        "M.append(compute_centroid(C_1[:,1:]))\n",
        "M.append(compute_centroid(C_2[:,1:]))\n",
        "M.append(compute_centroid(C_3[:,1:]))\n",
        "M.append(compute_centroid(C_4[:,1:]))\n",
        "M = np.array(M)\n",
        "\n",
        "plt.figure(1, figsize=(10,10))\n",
        "plt.scatter(C[idx_0, 1],C[idx_0, 2], s= 75, c=\"r\", label=\"Cluster 1\")\n",
        "plt.scatter(C[idx_1, 1],C[idx_1, 2], s= 75, c=\"b\", label=\"Cluster 2\")\n",
        "plt.scatter(C[idx_2, 1],C[idx_2, 2], s= 75, c=\"g\", label=\"Cluster 3\")\n",
        "plt.scatter(C[idx_3, 1],C[idx_3, 2], s= 75, c=\"aqua\", label=\"Cluster 4\")\n",
        "plt.scatter(C[idx_4, 1],C[idx_4, 2], s= 75, c=\"fuchsia\", label=\"Cluster 5\")\n",
        "plt.scatter(M[:, 0], M[:, 1], marker = \"+\", s = 150, c='k', label=\"Centroids\")\n",
        "plt.title(\"Initial cluster\", fontsize=25)\n",
        "plt.legend()\n",
        "plt.show()"
      ],
      "execution_count": 6,
      "outputs": [
        {
          "output_type": "display_data",
          "data": {
            "image/png": "[encoded data removed]",
            "text/plain": [
              "<Figure size 720x720 with 1 Axes>"
            ]
          },
          "metadata": {
            "tags": [],
            "needs_background": "light"
          }
        }
      ]
    },
    {
      "cell_type": "markdown",
      "metadata": {
        "id": "aIsRh4c5J8MR"
      },
      "source": [
        "# 4. Optimisation\n",
        "<hr>"
      ]
    },
    {
      "cell_type": "code",
      "metadata": {
        "id": "S-7nf_obKCJN"
      },
      "source": [
        "K = 5\n",
        "iter = 18\n",
        "center1_distance = []\n",
        "center2_distance = []\n",
        "center3_distance = []\n",
        "center4_distance = []\n",
        "center5_distance = []"
      ],
      "execution_count": 14,
      "outputs": []
    },
    {
      "cell_type": "code",
      "metadata": {
        "id": "j8CI9a-mLfKf"
      },
      "source": [
        "def optim_label(C, M):\n",
        "  for z in C:\n",
        "    label = compute_label(z[1:], M)\n",
        "    z[0] = label\n",
        "\n",
        "def optim_center(C, M):\n",
        "  for i in range(K):\n",
        "    idx = (C[:,0] == i)\n",
        "    C_sub = C[idx]\n",
        "    M[i] = compute_centroid(C_sub[:, 1:])"
      ],
      "execution_count": 15,
      "outputs": []
    },
    {
      "cell_type": "code",
      "metadata": {
        "id": "1lBmBfiUNbp3",
        "outputId": "b6ea4ae1-4d89-4382-8f98-5753878bc089",
        "colab": {
          "base_uri": "https://localhost:8080/"
        }
      },
      "source": [
        "print(M)\n",
        "optim_center(C,M)\n",
        "print(M)"
      ],
      "execution_count": 16,
      "outputs": [
        {
          "output_type": "stream",
          "text": [
            "[[63.44186047 46.13953488]\n",
            " [60.90697674 51.69767442]\n",
            " [54.2972973  42.81081081]\n",
            " [61.46511628 49.79069767]\n",
            " [62.14705882 62.        ]]\n",
            "[[81.60416667 26.02083333]\n",
            " [56.58823529 54.35294118]\n",
            " [39.73684211 34.96491228]\n",
            " [61.57142857 49.        ]\n",
            " [63.90140845 77.90140845]]\n"
          ],
          "name": "stdout"
        }
      ]
    },
    {
      "cell_type": "code",
      "metadata": {
        "id": "DLW6uRKDOkoa",
        "outputId": "86f0099e-376a-4336-fa64-5ddc9a3f07ca",
        "colab": {
          "base_uri": "https://localhost:8080/",
          "height": 616
        }
      },
      "source": [
        "idx_0 = (C[:,0]==0)\n",
        "idx_1 = (C[:,0]==1)\n",
        "idx_2 = (C[:,0]==2)\n",
        "idx_3 = (C[:,0]==3)\n",
        "idx_4 = (C[:,0]==4)\n",
        "\n",
        "C_0 = C[idx_0]\n",
        "C_1 = C[idx_1]\n",
        "C_2 = C[idx_2]\n",
        "C_3 = C[idx_3]\n",
        "C_4 = C[idx_4]\n",
        "\n",
        "plt.figure(1, figsize=(10,10))\n",
        "plt.scatter(C[idx_0, 1],C[idx_0, 2], s= 75, c=\"r\", label=\"Cluster 1\")\n",
        "plt.scatter(C[idx_1, 1],C[idx_1, 2], s= 75, c=\"b\", label=\"Cluster 2\")\n",
        "plt.scatter(C[idx_2, 1],C[idx_2, 2], s= 75, c=\"g\", label=\"Cluster 3\")\n",
        "plt.scatter(C[idx_3, 1],C[idx_3, 2], s= 75, c=\"aqua\", label=\"Cluster 4\")\n",
        "plt.scatter(C[idx_4, 1],C[idx_4, 2], s= 75, c=\"fuchsia\", label=\"Cluster 5\")\n",
        "plt.scatter(M[:, 0], M[:, 1], marker = \"+\", s = 150, c='k', label=\"Centroids\")\n",
        "plt.title(\"Initial cluster\", fontsize=25)\n",
        "plt.legend()\n",
        "plt.show()"
      ],
      "execution_count": 17,
      "outputs": [
        {
          "output_type": "display_data",
          "data": {
            "image/png": "[encoded data removed]",
            "text/plain": [
              "<Figure size 720x720 with 1 Axes>"
            ]
          },
          "metadata": {
            "tags": [],
            "needs_background": "light"
          }
        }
      ]
    },
    {
      "cell_type": "code",
      "metadata": {
        "id": "URWRepbTLzpk",
        "outputId": "d2ae15dc-6034-4699-cae8-df78796d77b4",
        "colab": {
          "base_uri": "https://localhost:8080/"
        }
      },
      "source": [
        "optim_label(C, M)\n",
        "for z in C:\n",
        "  print(z)"
      ],
      "execution_count": 12,
      "outputs": [
        {
          "output_type": "stream",
          "text": [
            "[ 2 15 39]\n",
            "[ 4 15 81]\n",
            "[ 2 16  6]\n",
            "[ 4 16 77]\n",
            "[ 2 17 40]\n",
            "[ 4 17 76]\n",
            "[ 2 18  6]\n",
            "[ 4 18 94]\n",
            "[ 2 19  3]\n",
            "[ 4 19 72]\n",
            "[ 2 19 14]\n",
            "[ 4 19 99]\n",
            "[ 2 20 15]\n",
            "[ 4 20 77]\n",
            "[ 2 20 13]\n",
            "[ 4 20 79]\n",
            "[ 2 21 35]\n",
            "[ 2 21 66]\n",
            "[ 2 23 29]\n",
            "[ 4 23 98]\n",
            "[ 2 24 35]\n",
            "[ 4 24 73]\n",
            "[ 2 25  5]\n",
            "[ 4 25 73]\n",
            "[ 2 28 14]\n",
            "[ 4 28 82]\n",
            "[ 2 28 32]\n",
            "[ 2 28 61]\n",
            "[ 2 29 31]\n",
            "[ 4 29 87]\n",
            "[ 2 30  4]\n",
            "[ 4 30 73]\n",
            "[ 2 33  4]\n",
            "[ 4 33 92]\n",
            "[ 2 33 14]\n",
            "[ 4 33 81]\n",
            "[ 2 34 17]\n",
            "[ 4 34 73]\n",
            "[ 2 37 26]\n",
            "[ 4 37 75]\n",
            "[ 2 38 35]\n",
            "[ 4 38 92]\n",
            "[ 2 39 36]\n",
            "[ 4 39 61]\n",
            "[ 2 39 28]\n",
            "[ 4 39 65]\n",
            "[ 2 40 55]\n",
            "[ 2 40 47]\n",
            "[ 2 40 42]\n",
            "[ 2 40 42]\n",
            "[ 2 42 52]\n",
            "[ 4 42 60]\n",
            "[ 2 43 54]\n",
            "[ 4 43 60]\n",
            "[ 2 43 45]\n",
            "[ 2 43 41]\n",
            "[ 2 44 50]\n",
            "[ 2 44 46]\n",
            "[ 2 46 51]\n",
            "[ 2 46 46]\n",
            "[ 1 46 56]\n",
            "[ 2 46 55]\n",
            "[ 2 47 52]\n",
            "[ 4 47 59]\n",
            "[ 2 48 51]\n",
            "[ 4 48 59]\n",
            "[ 2 48 50]\n",
            "[ 2 48 48]\n",
            "[ 4 48 59]\n",
            "[ 2 48 47]\n",
            "[ 1 49 55]\n",
            "[ 2 49 42]\n",
            "[ 2 50 49]\n",
            "[ 1 50 56]\n",
            "[ 2 54 47]\n",
            "[ 1 54 54]\n",
            "[ 1 54 53]\n",
            "[ 2 54 48]\n",
            "[ 1 54 52]\n",
            "[ 2 54 42]\n",
            "[ 1 54 51]\n",
            "[ 1 54 55]\n",
            "[ 2 54 41]\n",
            "[ 2 54 44]\n",
            "[ 1 54 57]\n",
            "[ 2 54 46]\n",
            "[ 4 57 58]\n",
            "[ 1 57 55]\n",
            "[ 4 58 60]\n",
            "[ 2 58 46]\n",
            "[ 1 59 55]\n",
            "[ 2 59 41]\n",
            "[ 3 60 49]\n",
            "[ 2 60 40]\n",
            "[ 0 60 42]\n",
            "[ 1 60 52]\n",
            "[ 3 60 47]\n",
            "[ 3 60 50]\n",
            "[ 0 61 42]\n",
            "[ 3 61 49]\n",
            "[ 0 62 41]\n",
            "[ 3 62 48]\n",
            "[ 4 62 59]\n",
            "[ 1 62 55]\n",
            "[ 1 62 56]\n",
            "[ 0 62 42]\n",
            "[ 3 63 50]\n",
            "[ 0 63 46]\n",
            "[ 0 63 43]\n",
            "[ 0 63 48]\n",
            "[ 1 63 52]\n",
            "[ 1 63 54]\n",
            "[ 0 64 42]\n",
            "[ 0 64 46]\n",
            "[ 0 65 48]\n",
            "[ 3 65 50]\n",
            "[ 0 65 43]\n",
            "[ 4 65 59]\n",
            "[ 0 67 43]\n",
            "[ 4 67 57]\n",
            "[ 1 67 56]\n",
            "[ 0 67 40]\n",
            "[ 4 69 58]\n",
            "[ 4 69 91]\n",
            "[ 0 70 29]\n",
            "[ 4 70 77]\n",
            "[ 0 71 35]\n",
            "[ 4 71 95]\n",
            "[ 2 71 11]\n",
            "[ 4 71 75]\n",
            "[ 2 71  9]\n",
            "[ 4 71 75]\n",
            "[ 0 72 34]\n",
            "[ 4 72 71]\n",
            "[ 2 73  5]\n",
            "[ 4 73 88]\n",
            "[ 0 73  7]\n",
            "[ 4 73 73]\n",
            "[ 0 74 10]\n",
            "[ 4 74 72]\n",
            "[ 0 75  5]\n",
            "[ 4 75 93]\n",
            "[ 0 76 40]\n",
            "[ 4 76 87]\n",
            "[ 0 77 12]\n",
            "[ 4 77 97]\n",
            "[ 0 77 36]\n",
            "[ 4 77 74]\n",
            "[ 0 78 22]\n",
            "[ 4 78 90]\n",
            "[ 0 78 17]\n",
            "[ 4 78 88]\n",
            "[ 0 78 20]\n",
            "[ 4 78 76]\n",
            "[ 0 78 16]\n",
            "[ 4 78 89]\n",
            "[ 0 78  1]\n",
            "[ 4 78 78]\n",
            "[ 0 78  1]\n",
            "[ 4 78 73]\n",
            "[ 0 79 35]\n",
            "[ 4 79 83]\n",
            "[ 0 81  5]\n",
            "[ 4 81 93]\n",
            "[ 0 85 26]\n",
            "[ 4 85 75]\n",
            "[ 0 86 20]\n",
            "[ 4 86 95]\n",
            "[ 0 87 27]\n",
            "[ 4 87 63]\n",
            "[ 0 87 13]\n",
            "[ 4 87 75]\n",
            "[ 0 87 10]\n",
            "[ 4 87 92]\n",
            "[ 0 88 13]\n",
            "[ 4 88 86]\n",
            "[ 0 88 15]\n",
            "[ 4 88 69]\n",
            "[ 0 93 14]\n",
            "[ 4 93 90]\n",
            "[ 0 97 32]\n",
            "[ 4 97 86]\n",
            "[ 0 98 15]\n",
            "[ 4 98 88]\n",
            "[ 0 99 39]\n",
            "[ 4 99 97]\n",
            "[  0 101  24]\n",
            "[  4 101  68]\n",
            "[  0 103  17]\n",
            "[  4 103  85]\n",
            "[  0 103  23]\n",
            "[  4 103  69]\n",
            "[  0 113   8]\n",
            "[  4 113  91]\n",
            "[  0 120  16]\n",
            "[  4 120  79]\n",
            "[  0 126  28]\n",
            "[  4 126  74]\n",
            "[  0 137  18]\n",
            "[  4 137  83]\n"
          ],
          "name": "stdout"
        }
      ]
    },
    {
      "cell_type": "code",
      "metadata": {
        "id": "0_tz3nqUL0qN"
      },
      "source": [
        ""
      ],
      "execution_count": null,
      "outputs": []
    }
  ]
}