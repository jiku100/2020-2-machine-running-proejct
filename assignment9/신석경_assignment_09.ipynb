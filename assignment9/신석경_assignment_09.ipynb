{
  "nbformat": 4,
  "nbformat_minor": 0,
  "metadata": {
    "colab": {
      "name": "신석경_assignment_09",
      "provenance": [],
      "collapsed_sections": [],
      "authorship_tag": "ABX9TyMZbXc0AiayX/EMepkbeGfZ",
      "include_colab_link": true
    },
    "kernelspec": {
      "name": "python3",
      "display_name": "Python 3"
    },
    "accelerator": "GPU"
  },
  "cells": [
    {
      "cell_type": "markdown",
      "metadata": {
        "id": "view-in-github",
        "colab_type": "text"
      },
      "source": [
        "<a href=\"https://colab.research.google.com/github/jiku100/2020-2-machine-running-proejct/blob/master/assignment9/%EC%8B%A0%EC%84%9D%EA%B2%BD_assignment_09.ipynb\" target=\"_parent\"><img src=\"https://colab.research.google.com/assets/colab-badge.svg\" alt=\"Open In Colab\"/></a>"
      ]
    },
    {
      "cell_type": "markdown",
      "metadata": {
        "id": "0gzdXwFJz0KJ"
      },
      "source": [
        "# **Classification for Multiple Categories using Pytorch**\n",
        "\n"
      ]
    },
    {
      "cell_type": "markdown",
      "metadata": {
        "id": "w_C7Cujjz4ff"
      },
      "source": [
        "# 1. Import library\n",
        "<hr>"
      ]
    },
    {
      "cell_type": "code",
      "metadata": {
        "id": "gtlbKT3Izgre"
      },
      "source": [
        "import torch\n",
        "import torch.nn as nn\n",
        "import torch.optim as optim\n",
        "import torch.nn.init as init\n",
        "import torchvision\n",
        "import torchvision.transforms as transforms\n",
        "import torchvision.datasets as datasets\n",
        "from torch.utils.data import DataLoader\n",
        "\n",
        "import matplotlib.pyplot as plt\n",
        "import cv2\n",
        "import numpy as np"
      ],
      "execution_count": 1,
      "outputs": []
    },
    {
      "cell_type": "code",
      "metadata": {
        "id": "JC9KWsHg7lTJ",
        "outputId": "6f9929aa-a958-4a2e-8df9-850c78ed112f",
        "colab": {
          "base_uri": "https://localhost:8080/"
        }
      },
      "source": [
        "USE_CUDA = torch.cuda.is_available()\n",
        "device = torch.device(\"cuda\" if USE_CUDA else \"cpu\")\n",
        "print(\"다음 기기로 학습합니다:\", device)"
      ],
      "execution_count": 2,
      "outputs": [
        {
          "output_type": "stream",
          "text": [
            "다음 기기로 학습합니다: cuda\n"
          ],
          "name": "stdout"
        }
      ]
    },
    {
      "cell_type": "markdown",
      "metadata": {
        "id": "nBCurPvD3NoM"
      },
      "source": [
        "# 2. Load Data\n",
        "<hr>"
      ]
    },
    {
      "cell_type": "code",
      "metadata": {
        "id": "mPY4_F790FTB"
      },
      "source": [
        "transform = transforms.Compose([\n",
        "    transforms.ToTensor(),\n",
        "    transforms.Normalize((0.1307,),(0.3081,)),  # mean value = 0.1307, standard deviation value = 0.3081\n",
        "])"
      ],
      "execution_count": 3,
      "outputs": []
    },
    {
      "cell_type": "code",
      "metadata": {
        "id": "Mlkn2L_m3TGH"
      },
      "source": [
        "data_path = './MNIST'\n",
        "\n",
        "training_set = datasets.MNIST(root = data_path, train= True, download=True, transform= transform)\n",
        "testing_set = datasets.MNIST(root = data_path, train= False, download=True, transform= transform)"
      ],
      "execution_count": 4,
      "outputs": []
    },
    {
      "cell_type": "code",
      "metadata": {
        "id": "lUj2JTgY4r4c"
      },
      "source": [
        "batch_32 = 32\n",
        "batch_64 = 64\n",
        "batch_128 = 128\n",
        "learning_rate_value = 1e-2"
      ],
      "execution_count": 5,
      "outputs": []
    },
    {
      "cell_type": "code",
      "metadata": {
        "id": "CkgCtS3b3giF"
      },
      "source": [
        "train_loader_32 = DataLoader(dataset = training_set, batch_size = batch_32, shuffle = True) ## batch size 32 짜리 train loader 생성\n",
        "test_loader_32 = DataLoader(dataset = testing_set, batch_size = batch_32, shuffle = True) ## batch size 32 짜리 test loader 생성\n",
        "\n",
        "train_loader_64 = DataLoader(dataset = training_set, batch_size = batch_64, shuffle = True) ## batch size 64 짜리 train loader 생성\n",
        "test_loader_64 = DataLoader(dataset = testing_set, batch_size = batch_64, shuffle = True) ## batch size 64 짜리 test loader 생성\n",
        "\n",
        "train_loader_128 = DataLoader(dataset = training_set, batch_size = batch_128, shuffle = True) ## batch size 128 짜리 train loader 생성\n",
        "test_loader_128 = DataLoader(dataset = testing_set, batch_size = batch_128, shuffle = True) ## batch size 128 짜리 test loader 생성"
      ],
      "execution_count": 6,
      "outputs": []
    },
    {
      "cell_type": "code",
      "metadata": {
        "id": "rnv1UBAk3qtB",
        "outputId": "aa544919-8e18-4953-8da6-16e031c2ddae",
        "colab": {
          "base_uri": "https://localhost:8080/",
          "height": 282
        }
      },
      "source": [
        "for X, Y in train_loader_64:\n",
        "  plt.imshow(X[0][0].numpy())\n",
        "  print(f\"Target: {Y[0]}\")\n",
        "  break"
      ],
      "execution_count": 7,
      "outputs": [
        {
          "output_type": "stream",
          "text": [
            "Target: 5\n"
          ],
          "name": "stdout"
        },
        {
          "output_type": "display_data",
          "data": {
            "image/png": "[encoded data removed]",
            "text/plain": [
              "<Figure size 432x288 with 1 Axes>"
            ]
          },
          "metadata": {
            "tags": [],
            "needs_background": "light"
          }
        }
      ]
    },
    {
      "cell_type": "markdown",
      "metadata": {
        "id": "SCsB9Pdk6zd7"
      },
      "source": [
        "# 3. Define Model\n",
        "<hr>"
      ]
    },
    {
      "cell_type": "code",
      "metadata": {
        "id": "-cUHqcW25etQ"
      },
      "source": [
        "class classification(nn.Module):\n",
        "    def __init__(self):\n",
        "        super(classification, self).__init__()\n",
        "        \n",
        "        # construct layers for a neural network\n",
        "        self.classifier1 = nn.Sequential(\n",
        "            nn.Linear(in_features=28*28, out_features=20*20),\n",
        "            nn.Sigmoid(),\n",
        "        ) \n",
        "        self.classifier2 = nn.Sequential(\n",
        "            nn.Linear(in_features=20*20, out_features=10*10),\n",
        "            nn.Sigmoid(),\n",
        "        ) \n",
        "        self.classifier3 = nn.Sequential(\n",
        "            nn.Linear(in_features=10*10, out_features=10),\n",
        "            nn.LogSoftmax(dim=1),\n",
        "        ) \n",
        "        \n",
        "        \n",
        "    def forward(self, inputs):                 # [batchSize, 1, 28, 28]\n",
        "        x = inputs.view(inputs.size(0), -1)    # [batchSize, 28*28]\n",
        "        x = self.classifier1(x)                # [batchSize, 20*20]\n",
        "        x = self.classifier2(x)                # [batchSize, 10*10]\n",
        "        out = self.classifier3(x)              # [batchSize, 10]\n",
        "        \n",
        "        return out\n"
      ],
      "execution_count": 8,
      "outputs": []
    },
    {
      "cell_type": "code",
      "metadata": {
        "id": "MWYQ30d37dwC"
      },
      "source": [
        "classifier_32 = classification().to(device)\n",
        "classifier_64 = classification().to(device)\n",
        "classifier_128 = classification().to(device)"
      ],
      "execution_count": 9,
      "outputs": []
    },
    {
      "cell_type": "code",
      "metadata": {
        "id": "-GpzWr1V64wc"
      },
      "source": [
        "## Loss function\n",
        "criterion = nn.NLLLoss()\n",
        "\n",
        "# Optimization\n",
        "optimizer_32 = torch.optim.SGD(classifier_32.parameters(), lr=learning_rate_value)\n",
        "optimizer_64 = torch.optim.SGD(classifier_64.parameters(), lr=learning_rate_value)\n",
        "optimizer_128 = torch.optim.SGD(classifier_128.parameters(), lr=learning_rate_value)"
      ],
      "execution_count": 23,
      "outputs": []
    },
    {
      "cell_type": "markdown",
      "metadata": {
        "id": "lsNWP3Wk8Siq"
      },
      "source": [
        "# 4. Training\n",
        "<hr>"
      ]
    },
    {
      "cell_type": "code",
      "metadata": {
        "id": "1_QSSPkC7sCr"
      },
      "source": [
        "training_epochs = 60\n",
        "total_batch_32 = len(train_loader_32)\n",
        "total_batch_64 = len(train_loader_64)\n",
        "total_batch_128 = len(train_loader_128)"
      ],
      "execution_count": 11,
      "outputs": []
    },
    {
      "cell_type": "code",
      "metadata": {
        "id": "9_SeUrHB5gLH",
        "outputId": "bc16c97d-354d-4624-d654-fee75313f0da",
        "colab": {
          "base_uri": "https://localhost:8080/"
        }
      },
      "source": [
        "print(total_batch_64)"
      ],
      "execution_count": 12,
      "outputs": [
        {
          "output_type": "stream",
          "text": [
            "938\n"
          ],
          "name": "stdout"
        }
      ]
    },
    {
      "cell_type": "code",
      "metadata": {
        "id": "eaJMZ8TvcglJ"
      },
      "source": [
        "def accuracy(log_pred, y_true):\n",
        "    y_pred = torch.argmax(log_pred, dim=1)\n",
        "    return (y_pred == y_true).to(torch.float).mean()"
      ],
      "execution_count": 13,
      "outputs": []
    },
    {
      "cell_type": "code",
      "metadata": {
        "id": "CX_ljI5M1-5U",
        "outputId": "5d46a3f5-69bc-4e4f-fc5b-1ded1627c78d",
        "colab": {
          "base_uri": "https://localhost:8080/"
        }
      },
      "source": [
        "for X, Y in train_loader_32:\n",
        "  X = X.to(device)\n",
        "  Y = Y.to(device)\n",
        "  pred = classifier_32(X)\n",
        "  print(torch.argmax(pred, dim=1))\n",
        "  print(Y)\n",
        "  print((torch.argmax(pred, dim=1) == Y).to(torch.float).mean())\n",
        "  break"
      ],
      "execution_count": 14,
      "outputs": [
        {
          "output_type": "stream",
          "text": [
            "tensor([7, 7, 7, 7, 7, 7, 7, 7, 7, 7, 7, 7, 7, 7, 7, 7, 7, 7, 7, 7, 7, 7, 7, 7,\n",
            "        7, 7, 1, 7, 7, 1, 7, 7], device='cuda:0')\n",
            "tensor([1, 8, 5, 7, 3, 7, 5, 5, 6, 1, 9, 6, 9, 3, 8, 6, 9, 9, 1, 5, 2, 7, 5, 9,\n",
            "        5, 4, 5, 6, 8, 8, 6, 1], device='cuda:0')\n",
            "tensor(0.0938, device='cuda:0')\n"
          ],
          "name": "stdout"
        }
      ]
    },
    {
      "cell_type": "code",
      "metadata": {
        "id": "Kl5FuVgt8_LF"
      },
      "source": [
        "def training(model, loss, optim, training_epochs, train_loader, test_loader):\n",
        "  L_iters_train = []\n",
        "  accuracy_train = []\n",
        "  L_iters_test = []\n",
        "  accuracy_test = []\n",
        "  for epoch in range(training_epochs):\n",
        "    total_cost_train = 0\n",
        "    total_cost_test = 0\n",
        "    total_acc_train = 0\n",
        "    total_acc_test = 0\n",
        "\n",
        "    for X, Y in train_loader:\n",
        "      X = X.to(device)\n",
        "      Y = Y.to(device)\n",
        "\n",
        "      optim.zero_grad()\n",
        "      train_pred = model(X)\n",
        "      cost = loss(train_pred, Y)\n",
        "      cost.backward()\n",
        "      optim.step()\n",
        "      total_cost_train += cost\n",
        "      total_acc_train += accuracy(train_pred, Y)\n",
        "      \n",
        "    avg_cost_train = total_cost_train / len(train_loader)\n",
        "    avg_acc_train = total_acc_train / len(train_loader)\n",
        "\n",
        "    L_iters_train.append(avg_cost_train)\n",
        "    accuracy_train.append(avg_acc_train)\n",
        "    with torch.no_grad():\n",
        "      for X_test, Y_test in test_loader:\n",
        "        X_test = X_test.to(device)\n",
        "        Y_test = Y_test.to(device)\n",
        "        test_pred = model(X_test)\n",
        "        cost_test = loss(test_pred, Y_test)\n",
        "        total_cost_test += cost_test\n",
        "        total_acc_test += accuracy(test_pred, Y_test)\n",
        "      avg_cost_test = total_cost_test / len(test_loader)\n",
        "      avg_acc_test = total_acc_test / len(test_loader)\n",
        "    \n",
        "      accuracy_test.append(avg_acc_test)\n",
        "      L_iters_test.append(avg_cost_test)\n",
        "\n",
        "    print(\"Epoch: %02d Training Loss: %.9f Testing Loss: %.9f  Training Acc: %.9f Testing Acc: %.9f\" %((epoch + 1),avg_cost_train, avg_cost_test, avg_acc_train, avg_acc_test))\n",
        "  return L_iters_train, accuracy_train, L_iters_test, accuracy_test"
      ],
      "execution_count": 15,
      "outputs": []
    },
    {
      "cell_type": "code",
      "metadata": {
        "id": "hOfKPriA84jq",
        "outputId": "8f044b27-eb6d-467e-dff3-a96498a7de2e",
        "colab": {
          "base_uri": "https://localhost:8080/"
        }
      },
      "source": [
        "L_train_32, A_train_32, L_test_32, A_test_32 = training(classifier_32, criterion, optimizer_32, training_epochs, train_loader_32, test_loader_32)"
      ],
      "execution_count": 16,
      "outputs": [
        {
          "output_type": "stream",
          "text": [
            "Epoch: 01 Training Loss: 2.149753332 Testing Loss: 1.775298119  Training Acc: 0.329466671 Testing Acc: 0.573881805\n",
            "Epoch: 02 Training Loss: 1.254785538 Testing Loss: 0.873651087  Training Acc: 0.683183312 Testing Acc: 0.779752374\n",
            "Epoch: 03 Training Loss: 0.714236379 Testing Loss: 0.575361133  Training Acc: 0.814116657 Testing Acc: 0.846445680\n",
            "Epoch: 04 Training Loss: 0.523175359 Testing Loss: 0.455460310  Training Acc: 0.858283341 Testing Acc: 0.874400914\n",
            "Epoch: 05 Training Loss: 0.435686976 Testing Loss: 0.391868144  Training Acc: 0.880283356 Testing Acc: 0.893170893\n",
            "Epoch: 06 Training Loss: 0.386093795 Testing Loss: 0.356098950  Training Acc: 0.892849982 Testing Acc: 0.900858581\n",
            "Epoch: 07 Training Loss: 0.354180843 Testing Loss: 0.329601020  Training Acc: 0.900749981 Testing Acc: 0.906749189\n",
            "Epoch: 08 Training Loss: 0.331518441 Testing Loss: 0.310821027  Training Acc: 0.905933321 Testing Acc: 0.911841035\n",
            "Epoch: 09 Training Loss: 0.313635260 Testing Loss: 0.296942800  Training Acc: 0.910316706 Testing Acc: 0.915335476\n",
            "Epoch: 10 Training Loss: 0.298555821 Testing Loss: 0.284895420  Training Acc: 0.914833367 Testing Acc: 0.920626998\n",
            "Epoch: 11 Training Loss: 0.285527676 Testing Loss: 0.273719668  Training Acc: 0.917983353 Testing Acc: 0.923222840\n",
            "Epoch: 12 Training Loss: 0.273858219 Testing Loss: 0.262454689  Training Acc: 0.921066701 Testing Acc: 0.924820244\n",
            "Epoch: 13 Training Loss: 0.262969017 Testing Loss: 0.253141910  Training Acc: 0.924616694 Testing Acc: 0.927016735\n",
            "Epoch: 14 Training Loss: 0.252905190 Testing Loss: 0.243821084  Training Acc: 0.926316679 Testing Acc: 0.929213226\n",
            "Epoch: 15 Training Loss: 0.243499100 Testing Loss: 0.236993313  Training Acc: 0.929549992 Testing Acc: 0.930810690\n",
            "Epoch: 16 Training Loss: 0.234472752 Testing Loss: 0.228006110  Training Acc: 0.932150006 Testing Acc: 0.934604645\n",
            "Epoch: 17 Training Loss: 0.225881442 Testing Loss: 0.220117420  Training Acc: 0.934450030 Testing Acc: 0.936501563\n",
            "Epoch: 18 Training Loss: 0.217975944 Testing Loss: 0.212829873  Training Acc: 0.937583327 Testing Acc: 0.938498378\n",
            "Epoch: 19 Training Loss: 0.210151047 Testing Loss: 0.206378385  Training Acc: 0.939583361 Testing Acc: 0.940894544\n",
            "Epoch: 20 Training Loss: 0.202894121 Testing Loss: 0.201626018  Training Acc: 0.941183329 Testing Acc: 0.941593409\n",
            "Epoch: 21 Training Loss: 0.196040094 Testing Loss: 0.195590585  Training Acc: 0.943733335 Testing Acc: 0.943789899\n",
            "Epoch: 22 Training Loss: 0.189392209 Testing Loss: 0.187602744  Training Acc: 0.945566654 Testing Acc: 0.946186066\n",
            "Epoch: 23 Training Loss: 0.182909131 Testing Loss: 0.181708843  Training Acc: 0.947583318 Testing Acc: 0.946984828\n",
            "Epoch: 24 Training Loss: 0.176929399 Testing Loss: 0.178132474  Training Acc: 0.949150026 Testing Acc: 0.947284341\n",
            "Epoch: 25 Training Loss: 0.171244144 Testing Loss: 0.171585843  Training Acc: 0.951266706 Testing Acc: 0.949181318\n",
            "Epoch: 26 Training Loss: 0.165831864 Testing Loss: 0.166570708  Training Acc: 0.952199996 Testing Acc: 0.949380994\n",
            "Epoch: 27 Training Loss: 0.160582229 Testing Loss: 0.163295522  Training Acc: 0.954083323 Testing Acc: 0.951976836\n",
            "Epoch: 28 Training Loss: 0.155697301 Testing Loss: 0.158058316  Training Acc: 0.955250025 Testing Acc: 0.952376187\n",
            "Epoch: 29 Training Loss: 0.150957495 Testing Loss: 0.154137641  Training Acc: 0.956783354 Testing Acc: 0.954472840\n",
            "Epoch: 30 Training Loss: 0.146446809 Testing Loss: 0.150916621  Training Acc: 0.958350003 Testing Acc: 0.954972029\n",
            "Epoch: 31 Training Loss: 0.142175376 Testing Loss: 0.146280393  Training Acc: 0.959383368 Testing Acc: 0.956569493\n",
            "Epoch: 32 Training Loss: 0.137897417 Testing Loss: 0.142966688  Training Acc: 0.960866690 Testing Acc: 0.957168519\n",
            "Epoch: 33 Training Loss: 0.134065062 Testing Loss: 0.140700668  Training Acc: 0.961783350 Testing Acc: 0.957468033\n",
            "Epoch: 34 Training Loss: 0.130257517 Testing Loss: 0.136378378  Training Acc: 0.962899983 Testing Acc: 0.958865821\n",
            "Epoch: 35 Training Loss: 0.126556918 Testing Loss: 0.134639695  Training Acc: 0.964016676 Testing Acc: 0.959165335\n",
            "Epoch: 36 Training Loss: 0.123106539 Testing Loss: 0.130345926  Training Acc: 0.965049982 Testing Acc: 0.961461663\n",
            "Epoch: 37 Training Loss: 0.119806208 Testing Loss: 0.128111273  Training Acc: 0.966033340 Testing Acc: 0.961861014\n",
            "Epoch: 38 Training Loss: 0.116463438 Testing Loss: 0.126832739  Training Acc: 0.966983318 Testing Acc: 0.962559879\n",
            "Epoch: 39 Training Loss: 0.113600202 Testing Loss: 0.123618044  Training Acc: 0.967999995 Testing Acc: 0.962859392\n",
            "Epoch: 40 Training Loss: 0.110574119 Testing Loss: 0.120219514  Training Acc: 0.968933344 Testing Acc: 0.964257181\n",
            "Epoch: 41 Training Loss: 0.107778110 Testing Loss: 0.117792599  Training Acc: 0.969783366 Testing Acc: 0.965355396\n",
            "Epoch: 42 Training Loss: 0.105028473 Testing Loss: 0.116760485  Training Acc: 0.970883369 Testing Acc: 0.964756370\n",
            "Epoch: 43 Training Loss: 0.102436841 Testing Loss: 0.114422083  Training Acc: 0.971416652 Testing Acc: 0.966253996\n",
            "Epoch: 44 Training Loss: 0.099872299 Testing Loss: 0.112886555  Training Acc: 0.972299993 Testing Acc: 0.966253996\n",
            "Epoch: 45 Training Loss: 0.097368501 Testing Loss: 0.110615812  Training Acc: 0.973333359 Testing Acc: 0.967252374\n",
            "Epoch: 46 Training Loss: 0.095184542 Testing Loss: 0.109107286  Training Acc: 0.973833323 Testing Acc: 0.967252374\n",
            "Epoch: 47 Training Loss: 0.092796706 Testing Loss: 0.106915496  Training Acc: 0.974449992 Testing Acc: 0.968051076\n",
            "Epoch: 48 Training Loss: 0.090661697 Testing Loss: 0.106017113  Training Acc: 0.975050032 Testing Acc: 0.967751563\n",
            "Epoch: 49 Training Loss: 0.088561006 Testing Loss: 0.103034265  Training Acc: 0.975800037 Testing Acc: 0.969049513\n",
            "Epoch: 50 Training Loss: 0.086454026 Testing Loss: 0.101695180  Training Acc: 0.976533353 Testing Acc: 0.969848216\n",
            "Epoch: 51 Training Loss: 0.084483333 Testing Loss: 0.100681558  Training Acc: 0.977266669 Testing Acc: 0.969648540\n",
            "Epoch: 52 Training Loss: 0.082604319 Testing Loss: 0.097934142  Training Acc: 0.977550030 Testing Acc: 0.970147729\n",
            "Epoch: 53 Training Loss: 0.080796599 Testing Loss: 0.097886510  Training Acc: 0.977933347 Testing Acc: 0.970646977\n",
            "Epoch: 54 Training Loss: 0.078937165 Testing Loss: 0.096130751  Training Acc: 0.978550017 Testing Acc: 0.971046329\n",
            "Epoch: 55 Training Loss: 0.077145092 Testing Loss: 0.095451429  Training Acc: 0.979099989 Testing Acc: 0.971046329\n",
            "Epoch: 56 Training Loss: 0.075471826 Testing Loss: 0.093699828  Training Acc: 0.979650021 Testing Acc: 0.971645355\n",
            "Epoch: 57 Training Loss: 0.073863536 Testing Loss: 0.092554867  Training Acc: 0.980366707 Testing Acc: 0.971445680\n",
            "Epoch: 58 Training Loss: 0.072114423 Testing Loss: 0.091363914  Training Acc: 0.980716705 Testing Acc: 0.972044706\n",
            "Epoch: 59 Training Loss: 0.070592292 Testing Loss: 0.089488573  Training Acc: 0.981166661 Testing Acc: 0.972344220\n",
            "Epoch: 60 Training Loss: 0.069172330 Testing Loss: 0.088772327  Training Acc: 0.981900036 Testing Acc: 0.973342657\n"
          ],
          "name": "stdout"
        }
      ]
    },
    {
      "cell_type": "code",
      "metadata": {
        "id": "vzn6YyGw9ULY",
        "outputId": "37598108-a544-4efc-aefb-373af3a0c059",
        "colab": {
          "base_uri": "https://localhost:8080/",
          "height": 592
        }
      },
      "source": [
        "plt.figure(figsize = (10,10))\n",
        "plt.plot(L_train_32, linewidth = 2, c='b')\n",
        "plt.plot(L_test_32, linewidth = 2, c='r')\n",
        "plt.show()"
      ],
      "execution_count": 17,
      "outputs": [
        {
          "output_type": "display_data",
          "data": {
            "image/png": "[encoded data removed]",
            "text/plain": [
              "<Figure size 720x720 with 1 Axes>"
            ]
          },
          "metadata": {
            "tags": [],
            "needs_background": "light"
          }
        }
      ]
    },
    {
      "cell_type": "code",
      "metadata": {
        "id": "Rl1MuQhtqsg2",
        "outputId": "2aec90fd-2b58-44f1-f5fa-f5268e4fbeec",
        "colab": {
          "base_uri": "https://localhost:8080/",
          "height": 592
        }
      },
      "source": [
        "plt.figure(figsize = (10,10))\n",
        "plt.plot(A_train_32, linewidth = 2, c='b')\n",
        "plt.plot(A_test_32, linewidth = 2, c='r')\n",
        "plt.show()"
      ],
      "execution_count": 18,
      "outputs": [
        {
          "output_type": "display_data",
          "data": {
            "image/png": "[encoded data removed]",
            "text/plain": [
              "<Figure size 720x720 with 1 Axes>"
            ]
          },
          "metadata": {
            "tags": [],
            "needs_background": "light"
          }
        }
      ]
    },
    {
      "cell_type": "code",
      "metadata": {
        "id": "-X-MPa8z9uci",
        "outputId": "e0e29226-2a0d-4ccf-8060-b03b24954a74",
        "colab": {
          "base_uri": "https://localhost:8080/"
        }
      },
      "source": [
        "L_train_64, A_train_64, L_test_64, A_test_64 = training(classifier_64, criterion, optimizer_64, training_epochs, train_loader_64, test_loader_64)"
      ],
      "execution_count": 24,
      "outputs": [
        {
          "output_type": "stream",
          "text": [
            "Epoch: 01 Training Loss: 2.267910004 Testing Loss: 2.217391491  Training Acc: 0.218416855 Testing Acc: 0.399382979\n",
            "Epoch: 02 Training Loss: 2.082724810 Testing Loss: 1.850738406  Training Acc: 0.494802773 Testing Acc: 0.541500807\n",
            "Epoch: 03 Training Loss: 1.540864468 Testing Loss: 1.254214406  Training Acc: 0.613173008 Testing Acc: 0.686007202\n",
            "Epoch: 04 Training Loss: 1.076659918 Testing Loss: 0.913942218  Training Acc: 0.720965505 Testing Acc: 0.767217398\n",
            "Epoch: 05 Training Loss: 0.818406224 Testing Loss: 0.715586901  Training Acc: 0.789145827 Testing Acc: 0.819168031\n",
            "Epoch: 06 Training Loss: 0.662578464 Testing Loss: 0.594166517  Training Acc: 0.829507589 Testing Acc: 0.846934736\n",
            "Epoch: 07 Training Loss: 0.565106630 Testing Loss: 0.513381124  Training Acc: 0.851212680 Testing Acc: 0.865843952\n",
            "Epoch: 08 Training Loss: 0.501844525 Testing Loss: 0.462934166  Training Acc: 0.865655005 Testing Acc: 0.874203861\n",
            "Epoch: 09 Training Loss: 0.457541347 Testing Loss: 0.424871266  Training Acc: 0.876166046 Testing Acc: 0.883359909\n",
            "Epoch: 10 Training Loss: 0.424925923 Testing Loss: 0.400506377  Training Acc: 0.883712053 Testing Acc: 0.888236463\n",
            "Epoch: 11 Training Loss: 0.400139600 Testing Loss: 0.373847365  Training Acc: 0.889325738 Testing Acc: 0.895003974\n",
            "Epoch: 12 Training Loss: 0.380306810 Testing Loss: 0.359289438  Training Acc: 0.893640101 Testing Acc: 0.898387730\n",
            "Epoch: 13 Training Loss: 0.364185721 Testing Loss: 0.344671488  Training Acc: 0.897754550 Testing Acc: 0.901373446\n",
            "Epoch: 14 Training Loss: 0.350793302 Testing Loss: 0.332081944  Training Acc: 0.900919557 Testing Acc: 0.904956222\n",
            "Epoch: 15 Training Loss: 0.339071095 Testing Loss: 0.321356297  Training Acc: 0.903851330 Testing Acc: 0.908738077\n",
            "Epoch: 16 Training Loss: 0.328832120 Testing Loss: 0.313323379  Training Acc: 0.906166732 Testing Acc: 0.910828054\n",
            "Epoch: 17 Training Loss: 0.319833964 Testing Loss: 0.307969391  Training Acc: 0.908765376 Testing Acc: 0.912022293\n",
            "Epoch: 18 Training Loss: 0.311623514 Testing Loss: 0.297367066  Training Acc: 0.911363959 Testing Acc: 0.915306568\n",
            "Epoch: 19 Training Loss: 0.303852528 Testing Loss: 0.292480439  Training Acc: 0.912530005 Testing Acc: 0.915605128\n",
            "Epoch: 20 Training Loss: 0.296647489 Testing Loss: 0.285733402  Training Acc: 0.914678872 Testing Acc: 0.918192685\n",
            "Epoch: 21 Training Loss: 0.290236622 Testing Loss: 0.279734224  Training Acc: 0.916627824 Testing Acc: 0.920282662\n",
            "Epoch: 22 Training Loss: 0.284066677 Testing Loss: 0.274476916  Training Acc: 0.917943776 Testing Acc: 0.921377420\n",
            "Epoch: 23 Training Loss: 0.278014809 Testing Loss: 0.266745150  Training Acc: 0.919592917 Testing Acc: 0.922870219\n",
            "Epoch: 24 Training Loss: 0.272281528 Testing Loss: 0.262782604  Training Acc: 0.921408594 Testing Acc: 0.924562097\n",
            "Epoch: 25 Training Loss: 0.266699672 Testing Loss: 0.259256780  Training Acc: 0.922857821 Testing Acc: 0.925159276\n",
            "Epoch: 26 Training Loss: 0.261412829 Testing Loss: 0.257342517  Training Acc: 0.924207091 Testing Acc: 0.925457835\n",
            "Epoch: 27 Training Loss: 0.256375670 Testing Loss: 0.251078844  Training Acc: 0.925673008 Testing Acc: 0.926453054\n",
            "Epoch: 28 Training Loss: 0.251363784 Testing Loss: 0.244230777  Training Acc: 0.927355409 Testing Acc: 0.929239690\n",
            "Epoch: 29 Training Loss: 0.246658519 Testing Loss: 0.239636421  Training Acc: 0.928721368 Testing Acc: 0.929339170\n",
            "Epoch: 30 Training Loss: 0.241877764 Testing Loss: 0.236317530  Training Acc: 0.930070639 Testing Acc: 0.930931568\n",
            "Epoch: 31 Training Loss: 0.237518549 Testing Loss: 0.231536716  Training Acc: 0.931569874 Testing Acc: 0.932424366\n",
            "Epoch: 32 Training Loss: 0.232968792 Testing Loss: 0.227764517  Training Acc: 0.932469368 Testing Acc: 0.933917224\n",
            "Epoch: 33 Training Loss: 0.228586137 Testing Loss: 0.223575622  Training Acc: 0.933951914 Testing Acc: 0.934812903\n",
            "Epoch: 34 Training Loss: 0.224507198 Testing Loss: 0.219527081  Training Acc: 0.935184598 Testing Acc: 0.936206222\n",
            "Epoch: 35 Training Loss: 0.220404074 Testing Loss: 0.216970846  Training Acc: 0.936783731 Testing Acc: 0.937500000\n",
            "Epoch: 36 Training Loss: 0.216435239 Testing Loss: 0.215097949  Training Acc: 0.937516689 Testing Acc: 0.937798560\n",
            "Epoch: 37 Training Loss: 0.212524906 Testing Loss: 0.210173443  Training Acc: 0.938582778 Testing Acc: 0.938196659\n",
            "Epoch: 38 Training Loss: 0.208680719 Testing Loss: 0.205976963  Training Acc: 0.939798772 Testing Acc: 0.940286636\n",
            "Epoch: 39 Training Loss: 0.205021277 Testing Loss: 0.203449190  Training Acc: 0.940914869 Testing Acc: 0.940585196\n",
            "Epoch: 40 Training Loss: 0.201410845 Testing Loss: 0.200855032  Training Acc: 0.941914320 Testing Acc: 0.942973733\n",
            "Epoch: 41 Training Loss: 0.197882280 Testing Loss: 0.197104782  Training Acc: 0.942980409 Testing Acc: 0.942376614\n",
            "Epoch: 42 Training Loss: 0.194465622 Testing Loss: 0.193546027  Training Acc: 0.944313049 Testing Acc: 0.943570852\n",
            "Epoch: 43 Training Loss: 0.191180557 Testing Loss: 0.190421179  Training Acc: 0.945595682 Testing Acc: 0.944964170\n",
            "Epoch: 44 Training Loss: 0.187986463 Testing Loss: 0.187544495  Training Acc: 0.946128726 Testing Acc: 0.945959389\n",
            "Epoch: 45 Training Loss: 0.184729442 Testing Loss: 0.184673324  Training Acc: 0.947294772 Testing Acc: 0.946755588\n",
            "Epoch: 46 Training Loss: 0.181714520 Testing Loss: 0.182089299  Training Acc: 0.948011100 Testing Acc: 0.946755588\n",
            "Epoch: 47 Training Loss: 0.178657323 Testing Loss: 0.180293486  Training Acc: 0.949277103 Testing Acc: 0.947850347\n",
            "Epoch: 48 Training Loss: 0.175951421 Testing Loss: 0.176838323  Training Acc: 0.949793458 Testing Acc: 0.949243665\n",
            "Epoch: 49 Training Loss: 0.172923535 Testing Loss: 0.174163595  Training Acc: 0.950842917 Testing Acc: 0.950039804\n",
            "Epoch: 50 Training Loss: 0.170039445 Testing Loss: 0.171901390  Training Acc: 0.951575875 Testing Acc: 0.949940324\n",
            "Epoch: 51 Training Loss: 0.167434424 Testing Loss: 0.169933528  Training Acc: 0.952408731 Testing Acc: 0.950537443\n",
            "Epoch: 52 Training Loss: 0.164787993 Testing Loss: 0.167059511  Training Acc: 0.953125000 Testing Acc: 0.951433122\n",
            "Epoch: 53 Training Loss: 0.162171379 Testing Loss: 0.165682480  Training Acc: 0.954257727 Testing Acc: 0.952030241\n",
            "Epoch: 54 Training Loss: 0.159651548 Testing Loss: 0.162928492  Training Acc: 0.954890728 Testing Acc: 0.951930761\n",
            "Epoch: 55 Training Loss: 0.157167137 Testing Loss: 0.161606312  Training Acc: 0.955473781 Testing Acc: 0.952030241\n",
            "Epoch: 56 Training Loss: 0.154752836 Testing Loss: 0.158057362  Training Acc: 0.956456602 Testing Acc: 0.954020739\n",
            "Epoch: 57 Training Loss: 0.152513891 Testing Loss: 0.155902267  Training Acc: 0.956889689 Testing Acc: 0.954319298\n",
            "Epoch: 58 Training Loss: 0.150090694 Testing Loss: 0.155387655  Training Acc: 0.957605958 Testing Acc: 0.955115438\n",
            "Epoch: 59 Training Loss: 0.147829384 Testing Loss: 0.152488291  Training Acc: 0.958122373 Testing Acc: 0.955812097\n",
            "Epoch: 60 Training Loss: 0.145757690 Testing Loss: 0.150069833  Training Acc: 0.958588779 Testing Acc: 0.955812097\n"
          ],
          "name": "stdout"
        }
      ]
    },
    {
      "cell_type": "code",
      "metadata": {
        "id": "z43mK4_4d5jo",
        "outputId": "2657ad03-0a3e-4b42-8db3-7bfc4601a4a6",
        "colab": {
          "base_uri": "https://localhost:8080/",
          "height": 592
        }
      },
      "source": [
        "plt.figure(figsize = (10,10))\n",
        "plt.plot(L_train_64, linewidth = 2, c='b')\n",
        "plt.plot(L_test_64, linewidth = 2, c='r')\n",
        "plt.show()"
      ],
      "execution_count": 25,
      "outputs": [
        {
          "output_type": "display_data",
          "data": {
            "image/png": "[encoded data removed]",
            "text/plain": [
              "<Figure size 720x720 with 1 Axes>"
            ]
          },
          "metadata": {
            "tags": [],
            "needs_background": "light"
          }
        }
      ]
    },
    {
      "cell_type": "code",
      "metadata": {
        "id": "o_QvapQkDxfX",
        "outputId": "8633bb99-4c6d-4ee2-c9c8-b4767ae31f16",
        "colab": {
          "base_uri": "https://localhost:8080/",
          "height": 592
        }
      },
      "source": [
        "plt.figure(figsize = (10,10))\n",
        "plt.plot(A_train_64, linewidth = 2, c='b')\n",
        "plt.plot(A_test_64, linewidth = 2, c='r')\n",
        "plt.show()"
      ],
      "execution_count": 26,
      "outputs": [
        {
          "output_type": "display_data",
          "data": {
            "image/png": "[encoded data removed]",
            "text/plain": [
              "<Figure size 720x720 with 1 Axes>"
            ]
          },
          "metadata": {
            "tags": [],
            "needs_background": "light"
          }
        }
      ]
    },
    {
      "cell_type": "code",
      "metadata": {
        "id": "6I6rEAlyDzeO",
        "outputId": "810eee32-dc84-4256-fccd-47ad070b4270",
        "colab": {
          "base_uri": "https://localhost:8080/"
        }
      },
      "source": [
        "L_train_128, A_train_128, L_test_128, A_test_128 = training(classifier_128, criterion, optimizer_128, training_epochs, train_loader_128, test_loader_128)"
      ],
      "execution_count": 27,
      "outputs": [
        {
          "output_type": "stream",
          "text": [
            "Epoch: 01 Training Loss: 2.283799887 Testing Loss: 2.263685942  Training Acc: 0.140747160 Testing Acc: 0.263844937\n",
            "Epoch: 02 Training Loss: 2.238509893 Testing Loss: 2.204364061  Training Acc: 0.307913542 Testing Acc: 0.422369480\n",
            "Epoch: 03 Training Loss: 2.149590015 Testing Loss: 2.069040775  Training Acc: 0.477584213 Testing Acc: 0.530953348\n",
            "Epoch: 04 Training Loss: 1.947384357 Testing Loss: 1.785430908  Training Acc: 0.552316606 Testing Acc: 0.585443079\n",
            "Epoch: 05 Training Loss: 1.626077414 Testing Loss: 1.454366326  Training Acc: 0.598214328 Testing Acc: 0.642800629\n",
            "Epoch: 06 Training Loss: 1.331399679 Testing Loss: 1.201330185  Training Acc: 0.657305002 Testing Acc: 0.691851258\n",
            "Epoch: 07 Training Loss: 1.113745213 Testing Loss: 1.015234590  Training Acc: 0.709099650 Testing Acc: 0.733682752\n",
            "Epoch: 08 Training Loss: 0.957674146 Testing Loss: 0.885669470  Training Acc: 0.749689043 Testing Acc: 0.770668507\n",
            "Epoch: 09 Training Loss: 0.843126416 Testing Loss: 0.783169806  Training Acc: 0.781949639 Testing Acc: 0.802116334\n",
            "Epoch: 10 Training Loss: 0.754529893 Testing Loss: 0.705195308  Training Acc: 0.808052421 Testing Acc: 0.819323599\n",
            "Epoch: 11 Training Loss: 0.683406174 Testing Loss: 0.641428173  Training Acc: 0.826320469 Testing Acc: 0.836827576\n",
            "Epoch: 12 Training Loss: 0.625976503 Testing Loss: 0.593358397  Training Acc: 0.840174139 Testing Acc: 0.847606838\n",
            "Epoch: 13 Training Loss: 0.579173207 Testing Loss: 0.544827104  Training Acc: 0.850657463 Testing Acc: 0.859968364\n",
            "Epoch: 14 Training Loss: 0.541037261 Testing Loss: 0.510946929  Training Acc: 0.859308362 Testing Acc: 0.866297483\n",
            "Epoch: 15 Training Loss: 0.509407640 Testing Loss: 0.483368367  Training Acc: 0.866065919 Testing Acc: 0.873121083\n",
            "Epoch: 16 Training Loss: 0.483138293 Testing Loss: 0.458903134  Training Acc: 0.872490227 Testing Acc: 0.876977861\n",
            "Epoch: 17 Training Loss: 0.461181670 Testing Loss: 0.437897265  Training Acc: 0.876926780 Testing Acc: 0.883010328\n",
            "Epoch: 18 Training Loss: 0.442331314 Testing Loss: 0.421281278  Training Acc: 0.881407738 Testing Acc: 0.885680377\n",
            "Epoch: 19 Training Loss: 0.426313102 Testing Loss: 0.404838771  Training Acc: 0.884594917 Testing Acc: 0.889042735\n",
            "Epoch: 20 Training Loss: 0.412415177 Testing Loss: 0.392722398  Training Acc: 0.887543321 Testing Acc: 0.892701745\n",
            "Epoch: 21 Training Loss: 0.400462955 Testing Loss: 0.385295004  Training Acc: 0.890430629 Testing Acc: 0.894679606\n",
            "Epoch: 22 Training Loss: 0.389768124 Testing Loss: 0.374468237  Training Acc: 0.892757237 Testing Acc: 0.897151947\n",
            "Epoch: 23 Training Loss: 0.380520999 Testing Loss: 0.366645575  Training Acc: 0.895128131 Testing Acc: 0.896459699\n",
            "Epoch: 24 Training Loss: 0.371958017 Testing Loss: 0.356988668  Training Acc: 0.896805048 Testing Acc: 0.897943079\n",
            "Epoch: 25 Training Loss: 0.364304602 Testing Loss: 0.352480680  Training Acc: 0.898659587 Testing Acc: 0.900613129\n",
            "Epoch: 26 Training Loss: 0.357283354 Testing Loss: 0.341779262  Training Acc: 0.899903417 Testing Acc: 0.903283238\n",
            "Epoch: 27 Training Loss: 0.350890219 Testing Loss: 0.336004317  Training Acc: 0.901435912 Testing Acc: 0.904568851\n",
            "Epoch: 28 Training Loss: 0.345080495 Testing Loss: 0.338431209  Training Acc: 0.902590811 Testing Acc: 0.904371083\n",
            "Epoch: 29 Training Loss: 0.339489251 Testing Loss: 0.326325595  Training Acc: 0.903557003 Testing Acc: 0.907337844\n",
            "Epoch: 30 Training Loss: 0.334433764 Testing Loss: 0.323807061  Training Acc: 0.905378282 Testing Acc: 0.907140076\n",
            "Epoch: 31 Training Loss: 0.329515308 Testing Loss: 0.324380279  Training Acc: 0.906544328 Testing Acc: 0.906052232\n",
            "Epoch: 32 Training Loss: 0.324886441 Testing Loss: 0.317952603  Training Acc: 0.907682598 Testing Acc: 0.908920109\n",
            "Epoch: 33 Training Loss: 0.320593715 Testing Loss: 0.309662580  Training Acc: 0.908920825 Testing Acc: 0.910403490\n",
            "Epoch: 34 Training Loss: 0.316402346 Testing Loss: 0.304805011  Training Acc: 0.909975827 Testing Acc: 0.912678003\n",
            "Epoch: 35 Training Loss: 0.312423199 Testing Loss: 0.303321183  Training Acc: 0.911069632 Testing Acc: 0.912183583\n",
            "Epoch: 36 Training Loss: 0.308640242 Testing Loss: 0.301519364  Training Acc: 0.911958098 Testing Acc: 0.912381351\n",
            "Epoch: 37 Training Loss: 0.305017292 Testing Loss: 0.293958277  Training Acc: 0.913157463 Testing Acc: 0.915644825\n",
            "Epoch: 38 Training Loss: 0.301514387 Testing Loss: 0.293733329  Training Acc: 0.913651586 Testing Acc: 0.914359212\n",
            "Epoch: 39 Training Loss: 0.297974765 Testing Loss: 0.290166587  Training Acc: 0.914628863 Testing Acc: 0.915941477\n",
            "Epoch: 40 Training Loss: 0.294667602 Testing Loss: 0.284980506  Training Acc: 0.915961504 Testing Acc: 0.916831493\n",
            "Epoch: 41 Training Loss: 0.291394055 Testing Loss: 0.282851249  Training Acc: 0.916627824 Testing Acc: 0.918314874\n",
            "Epoch: 42 Training Loss: 0.288330764 Testing Loss: 0.280647755  Training Acc: 0.917677283 Testing Acc: 0.918512702\n",
            "Epoch: 43 Training Loss: 0.285272717 Testing Loss: 0.278101712  Training Acc: 0.918288052 Testing Acc: 0.920094967\n",
            "Epoch: 44 Training Loss: 0.282289684 Testing Loss: 0.274262637  Training Acc: 0.919226408 Testing Acc: 0.921281695\n",
            "Epoch: 45 Training Loss: 0.279298544 Testing Loss: 0.273445487  Training Acc: 0.920164824 Testing Acc: 0.921083868\n",
            "Epoch: 46 Training Loss: 0.276441008 Testing Loss: 0.269241542  Training Acc: 0.920897722 Testing Acc: 0.921578348\n",
            "Epoch: 47 Training Loss: 0.273786873 Testing Loss: 0.269402087  Training Acc: 0.921464086 Testing Acc: 0.920886099\n",
            "Epoch: 48 Training Loss: 0.270998806 Testing Loss: 0.268423676  Training Acc: 0.922302604 Testing Acc: 0.924248457\n",
            "Epoch: 49 Training Loss: 0.268165261 Testing Loss: 0.265508652  Training Acc: 0.923052192 Testing Acc: 0.921479464\n",
            "Epoch: 50 Training Loss: 0.265628099 Testing Loss: 0.259549707  Training Acc: 0.924123824 Testing Acc: 0.924742877\n",
            "Epoch: 51 Training Loss: 0.262989879 Testing Loss: 0.256944150  Training Acc: 0.924534738 Testing Acc: 0.924643993\n",
            "Epoch: 52 Training Loss: 0.260376602 Testing Loss: 0.254023463  Training Acc: 0.925267696 Testing Acc: 0.926028490\n",
            "Epoch: 53 Training Loss: 0.257850766 Testing Loss: 0.252790689  Training Acc: 0.926028311 Testing Acc: 0.927017450\n",
            "Epoch: 54 Training Loss: 0.255356163 Testing Loss: 0.250317663  Training Acc: 0.926272690 Testing Acc: 0.927017450\n",
            "Epoch: 55 Training Loss: 0.252903402 Testing Loss: 0.249095157  Training Acc: 0.927111089 Testing Acc: 0.927412987\n",
            "Epoch: 56 Training Loss: 0.250486344 Testing Loss: 0.247839317  Training Acc: 0.928127229 Testing Acc: 0.927215219\n",
            "Epoch: 57 Training Loss: 0.248116493 Testing Loss: 0.247165248  Training Acc: 0.928432643 Testing Acc: 0.927709699\n",
            "Epoch: 58 Training Loss: 0.245712921 Testing Loss: 0.245461345  Training Acc: 0.929326594 Testing Acc: 0.927610755\n",
            "Epoch: 59 Training Loss: 0.243539467 Testing Loss: 0.243362308  Training Acc: 0.929904044 Testing Acc: 0.929291964\n",
            "Epoch: 60 Training Loss: 0.241065949 Testing Loss: 0.238669440  Training Acc: 0.930459321 Testing Acc: 0.929687500\n"
          ],
          "name": "stdout"
        }
      ]
    },
    {
      "cell_type": "code",
      "metadata": {
        "id": "kvKCJtoFEvt4",
        "outputId": "3f8cc6be-06bf-4a52-ad10-c6785b630969",
        "colab": {
          "base_uri": "https://localhost:8080/",
          "height": 592
        }
      },
      "source": [
        "plt.figure(figsize = (10,10))\n",
        "plt.plot(L_train_128, linewidth = 2, c='b')\n",
        "plt.plot(L_test_128, linewidth = 2, c='r')\n",
        "plt.show()"
      ],
      "execution_count": 28,
      "outputs": [
        {
          "output_type": "display_data",
          "data": {
            "image/png": "[encoded data removed]",
            "text/plain": [
              "<Figure size 720x720 with 1 Axes>"
            ]
          },
          "metadata": {
            "tags": [],
            "needs_background": "light"
          }
        }
      ]
    },
    {
      "cell_type": "code",
      "metadata": {
        "id": "UFN7TrxPExrP",
        "outputId": "da0d92cd-fedb-46c8-b755-a4b29953118f",
        "colab": {
          "base_uri": "https://localhost:8080/",
          "height": 592
        }
      },
      "source": [
        "plt.figure(figsize = (10,10))\n",
        "plt.plot(A_train_128, linewidth = 2, c='b')\n",
        "plt.plot(A_test_128, linewidth = 2, c='r')\n",
        "plt.show()"
      ],
      "execution_count": 29,
      "outputs": [
        {
          "output_type": "display_data",
          "data": {
            "image/png": "[encoded data removed]",
            "text/plain": [
              "<Figure size 720x720 with 1 Axes>"
            ]
          },
          "metadata": {
            "tags": [],
            "needs_background": "light"
          }
        }
      ]
    },
    {
      "cell_type": "code",
      "metadata": {
        "id": "JkmViURKU3EK"
      },
      "source": [
        ""
      ],
      "execution_count": null,
      "outputs": []
    }
  ]
}