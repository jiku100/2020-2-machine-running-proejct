{
  "nbformat": 4,
  "nbformat_minor": 0,
  "metadata": {
    "accelerator": "GPU",
    "colab": {
      "name": "신석경_assignment_09",
      "provenance": [],
      "collapsed_sections": [],
      "authorship_tag": "ABX9TyNeb/O+R0ADZWffSfc4FngR",
      "include_colab_link": true
    },
    "kernelspec": {
      "display_name": "Python 3",
      "name": "python3"
    },
    "widgets": {
      "application/vnd.jupyter.widget-state+json": {
        "97965c5ea6ff4d5d8045f0ce4a2e2274": {
          "model_module": "@jupyter-widgets/controls",
          "model_name": "HBoxModel",
          "state": {
            "_view_name": "HBoxView",
            "_dom_classes": [],
            "_model_name": "HBoxModel",
            "_view_module": "@jupyter-widgets/controls",
            "_model_module_version": "1.5.0",
            "_view_count": null,
            "_view_module_version": "1.5.0",
            "box_style": "",
            "layout": "IPY_MODEL_ef7fb9d3b13244ce97f51aa2d56599a6",
            "_model_module": "@jupyter-widgets/controls",
            "children": [
              "IPY_MODEL_247104414ff64ff08aafce24f0ee2c51",
              "IPY_MODEL_2cbd37d626dc4804abfd471f5841ac34"
            ]
          }
        },
        "ef7fb9d3b13244ce97f51aa2d56599a6": {
          "model_module": "@jupyter-widgets/base",
          "model_name": "LayoutModel",
          "state": {
            "_view_name": "LayoutView",
            "grid_template_rows": null,
            "right": null,
            "justify_content": null,
            "_view_module": "@jupyter-widgets/base",
            "overflow": null,
            "_model_module_version": "1.2.0",
            "_view_count": null,
            "flex_flow": null,
            "width": null,
            "min_width": null,
            "border": null,
            "align_items": null,
            "bottom": null,
            "_model_module": "@jupyter-widgets/base",
            "top": null,
            "grid_column": null,
            "overflow_y": null,
            "overflow_x": null,
            "grid_auto_flow": null,
            "grid_area": null,
            "grid_template_columns": null,
            "flex": null,
            "_model_name": "LayoutModel",
            "justify_items": null,
            "grid_row": null,
            "max_height": null,
            "align_content": null,
            "visibility": null,
            "align_self": null,
            "height": null,
            "min_height": null,
            "padding": null,
            "grid_auto_rows": null,
            "grid_gap": null,
            "max_width": null,
            "order": null,
            "_view_module_version": "1.2.0",
            "grid_template_areas": null,
            "object_position": null,
            "object_fit": null,
            "grid_auto_columns": null,
            "margin": null,
            "display": null,
            "left": null
          }
        },
        "247104414ff64ff08aafce24f0ee2c51": {
          "model_module": "@jupyter-widgets/controls",
          "model_name": "FloatProgressModel",
          "state": {
            "_view_name": "ProgressView",
            "style": "IPY_MODEL_69798a177ba94720b9b5a57d6a20e347",
            "_dom_classes": [],
            "description": "",
            "_model_name": "FloatProgressModel",
            "bar_style": "success",
            "max": 1,
            "_view_module": "@jupyter-widgets/controls",
            "_model_module_version": "1.5.0",
            "value": 1,
            "_view_count": null,
            "_view_module_version": "1.5.0",
            "orientation": "horizontal",
            "min": 0,
            "description_tooltip": null,
            "_model_module": "@jupyter-widgets/controls",
            "layout": "IPY_MODEL_cac70cade2374ceea7d14984efee4434"
          }
        },
        "2cbd37d626dc4804abfd471f5841ac34": {
          "model_module": "@jupyter-widgets/controls",
          "model_name": "HTMLModel",
          "state": {
            "_view_name": "HTMLView",
            "style": "IPY_MODEL_042ec369ef6644cfbb4e709f30306e26",
            "_dom_classes": [],
            "description": "",
            "_model_name": "HTMLModel",
            "placeholder": "​",
            "_view_module": "@jupyter-widgets/controls",
            "_model_module_version": "1.5.0",
            "value": " 9920512/? [00:07&lt;00:00, 1385049.27it/s]",
            "_view_count": null,
            "_view_module_version": "1.5.0",
            "description_tooltip": null,
            "_model_module": "@jupyter-widgets/controls",
            "layout": "IPY_MODEL_57c148cc8bec48a0bb77a6db49b35cd6"
          }
        },
        "69798a177ba94720b9b5a57d6a20e347": {
          "model_module": "@jupyter-widgets/controls",
          "model_name": "ProgressStyleModel",
          "state": {
            "_view_name": "StyleView",
            "_model_name": "ProgressStyleModel",
            "description_width": "initial",
            "_view_module": "@jupyter-widgets/base",
            "_model_module_version": "1.5.0",
            "_view_count": null,
            "_view_module_version": "1.2.0",
            "bar_color": null,
            "_model_module": "@jupyter-widgets/controls"
          }
        },
        "cac70cade2374ceea7d14984efee4434": {
          "model_module": "@jupyter-widgets/base",
          "model_name": "LayoutModel",
          "state": {
            "_view_name": "LayoutView",
            "grid_template_rows": null,
            "right": null,
            "justify_content": null,
            "_view_module": "@jupyter-widgets/base",
            "overflow": null,
            "_model_module_version": "1.2.0",
            "_view_count": null,
            "flex_flow": null,
            "width": null,
            "min_width": null,
            "border": null,
            "align_items": null,
            "bottom": null,
            "_model_module": "@jupyter-widgets/base",
            "top": null,
            "grid_column": null,
            "overflow_y": null,
            "overflow_x": null,
            "grid_auto_flow": null,
            "grid_area": null,
            "grid_template_columns": null,
            "flex": null,
            "_model_name": "LayoutModel",
            "justify_items": null,
            "grid_row": null,
            "max_height": null,
            "align_content": null,
            "visibility": null,
            "align_self": null,
            "height": null,
            "min_height": null,
            "padding": null,
            "grid_auto_rows": null,
            "grid_gap": null,
            "max_width": null,
            "order": null,
            "_view_module_version": "1.2.0",
            "grid_template_areas": null,
            "object_position": null,
            "object_fit": null,
            "grid_auto_columns": null,
            "margin": null,
            "display": null,
            "left": null
          }
        },
        "042ec369ef6644cfbb4e709f30306e26": {
          "model_module": "@jupyter-widgets/controls",
          "model_name": "DescriptionStyleModel",
          "state": {
            "_view_name": "StyleView",
            "_model_name": "DescriptionStyleModel",
            "description_width": "",
            "_view_module": "@jupyter-widgets/base",
            "_model_module_version": "1.5.0",
            "_view_count": null,
            "_view_module_version": "1.2.0",
            "_model_module": "@jupyter-widgets/controls"
          }
        },
        "57c148cc8bec48a0bb77a6db49b35cd6": {
          "model_module": "@jupyter-widgets/base",
          "model_name": "LayoutModel",
          "state": {
            "_view_name": "LayoutView",
            "grid_template_rows": null,
            "right": null,
            "justify_content": null,
            "_view_module": "@jupyter-widgets/base",
            "overflow": null,
            "_model_module_version": "1.2.0",
            "_view_count": null,
            "flex_flow": null,
            "width": null,
            "min_width": null,
            "border": null,
            "align_items": null,
            "bottom": null,
            "_model_module": "@jupyter-widgets/base",
            "top": null,
            "grid_column": null,
            "overflow_y": null,
            "overflow_x": null,
            "grid_auto_flow": null,
            "grid_area": null,
            "grid_template_columns": null,
            "flex": null,
            "_model_name": "LayoutModel",
            "justify_items": null,
            "grid_row": null,
            "max_height": null,
            "align_content": null,
            "visibility": null,
            "align_self": null,
            "height": null,
            "min_height": null,
            "padding": null,
            "grid_auto_rows": null,
            "grid_gap": null,
            "max_width": null,
            "order": null,
            "_view_module_version": "1.2.0",
            "grid_template_areas": null,
            "object_position": null,
            "object_fit": null,
            "grid_auto_columns": null,
            "margin": null,
            "display": null,
            "left": null
          }
        },
        "806755b1f53c474fadb7dd3f937a79fa": {
          "model_module": "@jupyter-widgets/controls",
          "model_name": "HBoxModel",
          "state": {
            "_view_name": "HBoxView",
            "_dom_classes": [],
            "_model_name": "HBoxModel",
            "_view_module": "@jupyter-widgets/controls",
            "_model_module_version": "1.5.0",
            "_view_count": null,
            "_view_module_version": "1.5.0",
            "box_style": "",
            "layout": "IPY_MODEL_7ae69ecdeaaa487f998c86cf2380957d",
            "_model_module": "@jupyter-widgets/controls",
            "children": [
              "IPY_MODEL_d64b24438e134ac38194c99dbad2cb9b",
              "IPY_MODEL_fa644fd30b0241be904b46fccad22e43"
            ]
          }
        },
        "7ae69ecdeaaa487f998c86cf2380957d": {
          "model_module": "@jupyter-widgets/base",
          "model_name": "LayoutModel",
          "state": {
            "_view_name": "LayoutView",
            "grid_template_rows": null,
            "right": null,
            "justify_content": null,
            "_view_module": "@jupyter-widgets/base",
            "overflow": null,
            "_model_module_version": "1.2.0",
            "_view_count": null,
            "flex_flow": null,
            "width": null,
            "min_width": null,
            "border": null,
            "align_items": null,
            "bottom": null,
            "_model_module": "@jupyter-widgets/base",
            "top": null,
            "grid_column": null,
            "overflow_y": null,
            "overflow_x": null,
            "grid_auto_flow": null,
            "grid_area": null,
            "grid_template_columns": null,
            "flex": null,
            "_model_name": "LayoutModel",
            "justify_items": null,
            "grid_row": null,
            "max_height": null,
            "align_content": null,
            "visibility": null,
            "align_self": null,
            "height": null,
            "min_height": null,
            "padding": null,
            "grid_auto_rows": null,
            "grid_gap": null,
            "max_width": null,
            "order": null,
            "_view_module_version": "1.2.0",
            "grid_template_areas": null,
            "object_position": null,
            "object_fit": null,
            "grid_auto_columns": null,
            "margin": null,
            "display": null,
            "left": null
          }
        },
        "d64b24438e134ac38194c99dbad2cb9b": {
          "model_module": "@jupyter-widgets/controls",
          "model_name": "FloatProgressModel",
          "state": {
            "_view_name": "ProgressView",
            "style": "IPY_MODEL_92e7b30e922a403fa256fbe37f3feff2",
            "_dom_classes": [],
            "description": "",
            "_model_name": "FloatProgressModel",
            "bar_style": "success",
            "max": 1,
            "_view_module": "@jupyter-widgets/controls",
            "_model_module_version": "1.5.0",
            "value": 1,
            "_view_count": null,
            "_view_module_version": "1.5.0",
            "orientation": "horizontal",
            "min": 0,
            "description_tooltip": null,
            "_model_module": "@jupyter-widgets/controls",
            "layout": "IPY_MODEL_c0f038dc28674be1ba57e57a4a45dc98"
          }
        },
        "fa644fd30b0241be904b46fccad22e43": {
          "model_module": "@jupyter-widgets/controls",
          "model_name": "HTMLModel",
          "state": {
            "_view_name": "HTMLView",
            "style": "IPY_MODEL_1de6efca74fd42a18dbbdb7057989a92",
            "_dom_classes": [],
            "description": "",
            "_model_name": "HTMLModel",
            "placeholder": "​",
            "_view_module": "@jupyter-widgets/controls",
            "_model_module_version": "1.5.0",
            "value": " 32768/? [00:02&lt;00:00, 13326.11it/s]",
            "_view_count": null,
            "_view_module_version": "1.5.0",
            "description_tooltip": null,
            "_model_module": "@jupyter-widgets/controls",
            "layout": "IPY_MODEL_bfa90a103ca34e4d98888a91c7c691d6"
          }
        },
        "92e7b30e922a403fa256fbe37f3feff2": {
          "model_module": "@jupyter-widgets/controls",
          "model_name": "ProgressStyleModel",
          "state": {
            "_view_name": "StyleView",
            "_model_name": "ProgressStyleModel",
            "description_width": "initial",
            "_view_module": "@jupyter-widgets/base",
            "_model_module_version": "1.5.0",
            "_view_count": null,
            "_view_module_version": "1.2.0",
            "bar_color": null,
            "_model_module": "@jupyter-widgets/controls"
          }
        },
        "c0f038dc28674be1ba57e57a4a45dc98": {
          "model_module": "@jupyter-widgets/base",
          "model_name": "LayoutModel",
          "state": {
            "_view_name": "LayoutView",
            "grid_template_rows": null,
            "right": null,
            "justify_content": null,
            "_view_module": "@jupyter-widgets/base",
            "overflow": null,
            "_model_module_version": "1.2.0",
            "_view_count": null,
            "flex_flow": null,
            "width": null,
            "min_width": null,
            "border": null,
            "align_items": null,
            "bottom": null,
            "_model_module": "@jupyter-widgets/base",
            "top": null,
            "grid_column": null,
            "overflow_y": null,
            "overflow_x": null,
            "grid_auto_flow": null,
            "grid_area": null,
            "grid_template_columns": null,
            "flex": null,
            "_model_name": "LayoutModel",
            "justify_items": null,
            "grid_row": null,
            "max_height": null,
            "align_content": null,
            "visibility": null,
            "align_self": null,
            "height": null,
            "min_height": null,
            "padding": null,
            "grid_auto_rows": null,
            "grid_gap": null,
            "max_width": null,
            "order": null,
            "_view_module_version": "1.2.0",
            "grid_template_areas": null,
            "object_position": null,
            "object_fit": null,
            "grid_auto_columns": null,
            "margin": null,
            "display": null,
            "left": null
          }
        },
        "1de6efca74fd42a18dbbdb7057989a92": {
          "model_module": "@jupyter-widgets/controls",
          "model_name": "DescriptionStyleModel",
          "state": {
            "_view_name": "StyleView",
            "_model_name": "DescriptionStyleModel",
            "description_width": "",
            "_view_module": "@jupyter-widgets/base",
            "_model_module_version": "1.5.0",
            "_view_count": null,
            "_view_module_version": "1.2.0",
            "_model_module": "@jupyter-widgets/controls"
          }
        },
        "bfa90a103ca34e4d98888a91c7c691d6": {
          "model_module": "@jupyter-widgets/base",
          "model_name": "LayoutModel",
          "state": {
            "_view_name": "LayoutView",
            "grid_template_rows": null,
            "right": null,
            "justify_content": null,
            "_view_module": "@jupyter-widgets/base",
            "overflow": null,
            "_model_module_version": "1.2.0",
            "_view_count": null,
            "flex_flow": null,
            "width": null,
            "min_width": null,
            "border": null,
            "align_items": null,
            "bottom": null,
            "_model_module": "@jupyter-widgets/base",
            "top": null,
            "grid_column": null,
            "overflow_y": null,
            "overflow_x": null,
            "grid_auto_flow": null,
            "grid_area": null,
            "grid_template_columns": null,
            "flex": null,
            "_model_name": "LayoutModel",
            "justify_items": null,
            "grid_row": null,
            "max_height": null,
            "align_content": null,
            "visibility": null,
            "align_self": null,
            "height": null,
            "min_height": null,
            "padding": null,
            "grid_auto_rows": null,
            "grid_gap": null,
            "max_width": null,
            "order": null,
            "_view_module_version": "1.2.0",
            "grid_template_areas": null,
            "object_position": null,
            "object_fit": null,
            "grid_auto_columns": null,
            "margin": null,
            "display": null,
            "left": null
          }
        },
        "223d20a315374a099d819667ab52dfbb": {
          "model_module": "@jupyter-widgets/controls",
          "model_name": "HBoxModel",
          "state": {
            "_view_name": "HBoxView",
            "_dom_classes": [],
            "_model_name": "HBoxModel",
            "_view_module": "@jupyter-widgets/controls",
            "_model_module_version": "1.5.0",
            "_view_count": null,
            "_view_module_version": "1.5.0",
            "box_style": "",
            "layout": "IPY_MODEL_64c9c47254b44aaf99480959ed9154f7",
            "_model_module": "@jupyter-widgets/controls",
            "children": [
              "IPY_MODEL_4174880775fb42bf92fb7a9ea9482475",
              "IPY_MODEL_369a6aa3eafc476b8dd62459458c820e"
            ]
          }
        },
        "64c9c47254b44aaf99480959ed9154f7": {
          "model_module": "@jupyter-widgets/base",
          "model_name": "LayoutModel",
          "state": {
            "_view_name": "LayoutView",
            "grid_template_rows": null,
            "right": null,
            "justify_content": null,
            "_view_module": "@jupyter-widgets/base",
            "overflow": null,
            "_model_module_version": "1.2.0",
            "_view_count": null,
            "flex_flow": null,
            "width": null,
            "min_width": null,
            "border": null,
            "align_items": null,
            "bottom": null,
            "_model_module": "@jupyter-widgets/base",
            "top": null,
            "grid_column": null,
            "overflow_y": null,
            "overflow_x": null,
            "grid_auto_flow": null,
            "grid_area": null,
            "grid_template_columns": null,
            "flex": null,
            "_model_name": "LayoutModel",
            "justify_items": null,
            "grid_row": null,
            "max_height": null,
            "align_content": null,
            "visibility": null,
            "align_self": null,
            "height": null,
            "min_height": null,
            "padding": null,
            "grid_auto_rows": null,
            "grid_gap": null,
            "max_width": null,
            "order": null,
            "_view_module_version": "1.2.0",
            "grid_template_areas": null,
            "object_position": null,
            "object_fit": null,
            "grid_auto_columns": null,
            "margin": null,
            "display": null,
            "left": null
          }
        },
        "4174880775fb42bf92fb7a9ea9482475": {
          "model_module": "@jupyter-widgets/controls",
          "model_name": "FloatProgressModel",
          "state": {
            "_view_name": "ProgressView",
            "style": "IPY_MODEL_2b403125322c4f298a7b174547745355",
            "_dom_classes": [],
            "description": "",
            "_model_name": "FloatProgressModel",
            "bar_style": "success",
            "max": 1,
            "_view_module": "@jupyter-widgets/controls",
            "_model_module_version": "1.5.0",
            "value": 1,
            "_view_count": null,
            "_view_module_version": "1.5.0",
            "orientation": "horizontal",
            "min": 0,
            "description_tooltip": null,
            "_model_module": "@jupyter-widgets/controls",
            "layout": "IPY_MODEL_873e3a386a804c0997203accee6ace7d"
          }
        },
        "369a6aa3eafc476b8dd62459458c820e": {
          "model_module": "@jupyter-widgets/controls",
          "model_name": "HTMLModel",
          "state": {
            "_view_name": "HTMLView",
            "style": "IPY_MODEL_a7972ebeaa9b4778a8d0907a4ba9fa86",
            "_dom_classes": [],
            "description": "",
            "_model_name": "HTMLModel",
            "placeholder": "​",
            "_view_module": "@jupyter-widgets/controls",
            "_model_module_version": "1.5.0",
            "value": " 1654784/? [00:01&lt;00:00, 939777.32it/s]",
            "_view_count": null,
            "_view_module_version": "1.5.0",
            "description_tooltip": null,
            "_model_module": "@jupyter-widgets/controls",
            "layout": "IPY_MODEL_e56ac3fd0cca419d9f1b8c7d9dc2dc0a"
          }
        },
        "2b403125322c4f298a7b174547745355": {
          "model_module": "@jupyter-widgets/controls",
          "model_name": "ProgressStyleModel",
          "state": {
            "_view_name": "StyleView",
            "_model_name": "ProgressStyleModel",
            "description_width": "initial",
            "_view_module": "@jupyter-widgets/base",
            "_model_module_version": "1.5.0",
            "_view_count": null,
            "_view_module_version": "1.2.0",
            "bar_color": null,
            "_model_module": "@jupyter-widgets/controls"
          }
        },
        "873e3a386a804c0997203accee6ace7d": {
          "model_module": "@jupyter-widgets/base",
          "model_name": "LayoutModel",
          "state": {
            "_view_name": "LayoutView",
            "grid_template_rows": null,
            "right": null,
            "justify_content": null,
            "_view_module": "@jupyter-widgets/base",
            "overflow": null,
            "_model_module_version": "1.2.0",
            "_view_count": null,
            "flex_flow": null,
            "width": null,
            "min_width": null,
            "border": null,
            "align_items": null,
            "bottom": null,
            "_model_module": "@jupyter-widgets/base",
            "top": null,
            "grid_column": null,
            "overflow_y": null,
            "overflow_x": null,
            "grid_auto_flow": null,
            "grid_area": null,
            "grid_template_columns": null,
            "flex": null,
            "_model_name": "LayoutModel",
            "justify_items": null,
            "grid_row": null,
            "max_height": null,
            "align_content": null,
            "visibility": null,
            "align_self": null,
            "height": null,
            "min_height": null,
            "padding": null,
            "grid_auto_rows": null,
            "grid_gap": null,
            "max_width": null,
            "order": null,
            "_view_module_version": "1.2.0",
            "grid_template_areas": null,
            "object_position": null,
            "object_fit": null,
            "grid_auto_columns": null,
            "margin": null,
            "display": null,
            "left": null
          }
        },
        "a7972ebeaa9b4778a8d0907a4ba9fa86": {
          "model_module": "@jupyter-widgets/controls",
          "model_name": "DescriptionStyleModel",
          "state": {
            "_view_name": "StyleView",
            "_model_name": "DescriptionStyleModel",
            "description_width": "",
            "_view_module": "@jupyter-widgets/base",
            "_model_module_version": "1.5.0",
            "_view_count": null,
            "_view_module_version": "1.2.0",
            "_model_module": "@jupyter-widgets/controls"
          }
        },
        "e56ac3fd0cca419d9f1b8c7d9dc2dc0a": {
          "model_module": "@jupyter-widgets/base",
          "model_name": "LayoutModel",
          "state": {
            "_view_name": "LayoutView",
            "grid_template_rows": null,
            "right": null,
            "justify_content": null,
            "_view_module": "@jupyter-widgets/base",
            "overflow": null,
            "_model_module_version": "1.2.0",
            "_view_count": null,
            "flex_flow": null,
            "width": null,
            "min_width": null,
            "border": null,
            "align_items": null,
            "bottom": null,
            "_model_module": "@jupyter-widgets/base",
            "top": null,
            "grid_column": null,
            "overflow_y": null,
            "overflow_x": null,
            "grid_auto_flow": null,
            "grid_area": null,
            "grid_template_columns": null,
            "flex": null,
            "_model_name": "LayoutModel",
            "justify_items": null,
            "grid_row": null,
            "max_height": null,
            "align_content": null,
            "visibility": null,
            "align_self": null,
            "height": null,
            "min_height": null,
            "padding": null,
            "grid_auto_rows": null,
            "grid_gap": null,
            "max_width": null,
            "order": null,
            "_view_module_version": "1.2.0",
            "grid_template_areas": null,
            "object_position": null,
            "object_fit": null,
            "grid_auto_columns": null,
            "margin": null,
            "display": null,
            "left": null
          }
        },
        "33cbf6a764934c988a09077999fb3552": {
          "model_module": "@jupyter-widgets/controls",
          "model_name": "HBoxModel",
          "state": {
            "_view_name": "HBoxView",
            "_dom_classes": [],
            "_model_name": "HBoxModel",
            "_view_module": "@jupyter-widgets/controls",
            "_model_module_version": "1.5.0",
            "_view_count": null,
            "_view_module_version": "1.5.0",
            "box_style": "",
            "layout": "IPY_MODEL_5a135843e00b478f92c7656ffa3ecaa5",
            "_model_module": "@jupyter-widgets/controls",
            "children": [
              "IPY_MODEL_2363184ea3dc457084502056d46ee13e",
              "IPY_MODEL_fb5c1ea0edb74c46ad2b82749dcdfb0c"
            ]
          }
        },
        "5a135843e00b478f92c7656ffa3ecaa5": {
          "model_module": "@jupyter-widgets/base",
          "model_name": "LayoutModel",
          "state": {
            "_view_name": "LayoutView",
            "grid_template_rows": null,
            "right": null,
            "justify_content": null,
            "_view_module": "@jupyter-widgets/base",
            "overflow": null,
            "_model_module_version": "1.2.0",
            "_view_count": null,
            "flex_flow": null,
            "width": null,
            "min_width": null,
            "border": null,
            "align_items": null,
            "bottom": null,
            "_model_module": "@jupyter-widgets/base",
            "top": null,
            "grid_column": null,
            "overflow_y": null,
            "overflow_x": null,
            "grid_auto_flow": null,
            "grid_area": null,
            "grid_template_columns": null,
            "flex": null,
            "_model_name": "LayoutModel",
            "justify_items": null,
            "grid_row": null,
            "max_height": null,
            "align_content": null,
            "visibility": null,
            "align_self": null,
            "height": null,
            "min_height": null,
            "padding": null,
            "grid_auto_rows": null,
            "grid_gap": null,
            "max_width": null,
            "order": null,
            "_view_module_version": "1.2.0",
            "grid_template_areas": null,
            "object_position": null,
            "object_fit": null,
            "grid_auto_columns": null,
            "margin": null,
            "display": null,
            "left": null
          }
        },
        "2363184ea3dc457084502056d46ee13e": {
          "model_module": "@jupyter-widgets/controls",
          "model_name": "FloatProgressModel",
          "state": {
            "_view_name": "ProgressView",
            "style": "IPY_MODEL_5ef38fb3d053425dba2ec5a69bece4a6",
            "_dom_classes": [],
            "description": "",
            "_model_name": "FloatProgressModel",
            "bar_style": "success",
            "max": 1,
            "_view_module": "@jupyter-widgets/controls",
            "_model_module_version": "1.5.0",
            "value": 1,
            "_view_count": null,
            "_view_module_version": "1.5.0",
            "orientation": "horizontal",
            "min": 0,
            "description_tooltip": null,
            "_model_module": "@jupyter-widgets/controls",
            "layout": "IPY_MODEL_8942d9f0a9ef47b69bd2b139562ecc82"
          }
        },
        "fb5c1ea0edb74c46ad2b82749dcdfb0c": {
          "model_module": "@jupyter-widgets/controls",
          "model_name": "HTMLModel",
          "state": {
            "_view_name": "HTMLView",
            "style": "IPY_MODEL_4e1d37e996b9426a886f5a86d28b0b75",
            "_dom_classes": [],
            "description": "",
            "_model_name": "HTMLModel",
            "placeholder": "​",
            "_view_module": "@jupyter-widgets/controls",
            "_model_module_version": "1.5.0",
            "value": " 8192/? [00:00&lt;00:00, 11099.15it/s]",
            "_view_count": null,
            "_view_module_version": "1.5.0",
            "description_tooltip": null,
            "_model_module": "@jupyter-widgets/controls",
            "layout": "IPY_MODEL_7b4b3344445847a789a1d4f6ebee6322"
          }
        },
        "5ef38fb3d053425dba2ec5a69bece4a6": {
          "model_module": "@jupyter-widgets/controls",
          "model_name": "ProgressStyleModel",
          "state": {
            "_view_name": "StyleView",
            "_model_name": "ProgressStyleModel",
            "description_width": "initial",
            "_view_module": "@jupyter-widgets/base",
            "_model_module_version": "1.5.0",
            "_view_count": null,
            "_view_module_version": "1.2.0",
            "bar_color": null,
            "_model_module": "@jupyter-widgets/controls"
          }
        },
        "8942d9f0a9ef47b69bd2b139562ecc82": {
          "model_module": "@jupyter-widgets/base",
          "model_name": "LayoutModel",
          "state": {
            "_view_name": "LayoutView",
            "grid_template_rows": null,
            "right": null,
            "justify_content": null,
            "_view_module": "@jupyter-widgets/base",
            "overflow": null,
            "_model_module_version": "1.2.0",
            "_view_count": null,
            "flex_flow": null,
            "width": null,
            "min_width": null,
            "border": null,
            "align_items": null,
            "bottom": null,
            "_model_module": "@jupyter-widgets/base",
            "top": null,
            "grid_column": null,
            "overflow_y": null,
            "overflow_x": null,
            "grid_auto_flow": null,
            "grid_area": null,
            "grid_template_columns": null,
            "flex": null,
            "_model_name": "LayoutModel",
            "justify_items": null,
            "grid_row": null,
            "max_height": null,
            "align_content": null,
            "visibility": null,
            "align_self": null,
            "height": null,
            "min_height": null,
            "padding": null,
            "grid_auto_rows": null,
            "grid_gap": null,
            "max_width": null,
            "order": null,
            "_view_module_version": "1.2.0",
            "grid_template_areas": null,
            "object_position": null,
            "object_fit": null,
            "grid_auto_columns": null,
            "margin": null,
            "display": null,
            "left": null
          }
        },
        "4e1d37e996b9426a886f5a86d28b0b75": {
          "model_module": "@jupyter-widgets/controls",
          "model_name": "DescriptionStyleModel",
          "state": {
            "_view_name": "StyleView",
            "_model_name": "DescriptionStyleModel",
            "description_width": "",
            "_view_module": "@jupyter-widgets/base",
            "_model_module_version": "1.5.0",
            "_view_count": null,
            "_view_module_version": "1.2.0",
            "_model_module": "@jupyter-widgets/controls"
          }
        },
        "7b4b3344445847a789a1d4f6ebee6322": {
          "model_module": "@jupyter-widgets/base",
          "model_name": "LayoutModel",
          "state": {
            "_view_name": "LayoutView",
            "grid_template_rows": null,
            "right": null,
            "justify_content": null,
            "_view_module": "@jupyter-widgets/base",
            "overflow": null,
            "_model_module_version": "1.2.0",
            "_view_count": null,
            "flex_flow": null,
            "width": null,
            "min_width": null,
            "border": null,
            "align_items": null,
            "bottom": null,
            "_model_module": "@jupyter-widgets/base",
            "top": null,
            "grid_column": null,
            "overflow_y": null,
            "overflow_x": null,
            "grid_auto_flow": null,
            "grid_area": null,
            "grid_template_columns": null,
            "flex": null,
            "_model_name": "LayoutModel",
            "justify_items": null,
            "grid_row": null,
            "max_height": null,
            "align_content": null,
            "visibility": null,
            "align_self": null,
            "height": null,
            "min_height": null,
            "padding": null,
            "grid_auto_rows": null,
            "grid_gap": null,
            "max_width": null,
            "order": null,
            "_view_module_version": "1.2.0",
            "grid_template_areas": null,
            "object_position": null,
            "object_fit": null,
            "grid_auto_columns": null,
            "margin": null,
            "display": null,
            "left": null
          }
        }
      }
    }
  },
  "cells": [
    {
      "cell_type": "markdown",
      "metadata": {
        "id": "view-in-github",
        "colab_type": "text"
      },
      "source": [
        "<a href=\"https://colab.research.google.com/github/jiku100/2020-2-machine-running-proejct/blob/master/assignment9/%EC%8B%A0%EC%84%9D%EA%B2%BD_assignment_09.ipynb\" target=\"_parent\"><img src=\"https://colab.research.google.com/assets/colab-badge.svg\" alt=\"Open In Colab\"/></a>"
      ]
    },
    {
      "cell_type": "markdown",
      "metadata": {
        "id": "0gzdXwFJz0KJ"
      },
      "source": [
        "# **Classification for Multiple Categories using Pytorch**\n",
        "\n"
      ]
    },
    {
      "cell_type": "markdown",
      "metadata": {
        "id": "w_C7Cujjz4ff"
      },
      "source": [
        "# 1. Import library\n",
        "<hr>"
      ]
    },
    {
      "cell_type": "code",
      "metadata": {
        "id": "gtlbKT3Izgre"
      },
      "source": [
        "import torch\n",
        "import torch.nn as nn\n",
        "import torch.optim as optim\n",
        "import torch.nn.init as init\n",
        "import torchvision\n",
        "import torchvision.transforms as transforms\n",
        "import torchvision.datasets as datasets\n",
        "from torch.utils.data import DataLoader\n",
        "\n",
        "import matplotlib.pyplot as plt\n",
        "import cv2\n",
        "import numpy as np"
      ],
      "execution_count": 1,
      "outputs": []
    },
    {
      "cell_type": "code",
      "metadata": {
        "colab": {
          "base_uri": "https://localhost:8080/"
        },
        "id": "JC9KWsHg7lTJ",
        "outputId": "67198646-bee6-4257-cd9a-85f9d355e792"
      },
      "source": [
        "USE_CUDA = torch.cuda.is_available()\n",
        "device = torch.device(\"cuda\" if USE_CUDA else \"cpu\")\n",
        "print(\"다음 기기로 학습합니다:\", device)"
      ],
      "execution_count": 2,
      "outputs": [
        {
          "output_type": "stream",
          "text": [
            "다음 기기로 학습합니다: cuda\n"
          ],
          "name": "stdout"
        }
      ]
    },
    {
      "cell_type": "markdown",
      "metadata": {
        "id": "nBCurPvD3NoM"
      },
      "source": [
        "# 2. Load Data\n",
        "<hr>"
      ]
    },
    {
      "cell_type": "code",
      "metadata": {
        "id": "mPY4_F790FTB"
      },
      "source": [
        "transform = transforms.Compose([\n",
        "    transforms.ToTensor(),\n",
        "    transforms.Normalize((0.1307,),(0.3081,)),  # mean value = 0.1307, standard deviation value = 0.3081\n",
        "])"
      ],
      "execution_count": 3,
      "outputs": []
    },
    {
      "cell_type": "code",
      "metadata": {
        "colab": {
          "base_uri": "https://localhost:8080/",
          "height": 375,
          "referenced_widgets": [
            "97965c5ea6ff4d5d8045f0ce4a2e2274",
            "ef7fb9d3b13244ce97f51aa2d56599a6",
            "247104414ff64ff08aafce24f0ee2c51",
            "2cbd37d626dc4804abfd471f5841ac34",
            "69798a177ba94720b9b5a57d6a20e347",
            "cac70cade2374ceea7d14984efee4434",
            "042ec369ef6644cfbb4e709f30306e26",
            "57c148cc8bec48a0bb77a6db49b35cd6",
            "806755b1f53c474fadb7dd3f937a79fa",
            "7ae69ecdeaaa487f998c86cf2380957d",
            "d64b24438e134ac38194c99dbad2cb9b",
            "fa644fd30b0241be904b46fccad22e43",
            "92e7b30e922a403fa256fbe37f3feff2",
            "c0f038dc28674be1ba57e57a4a45dc98",
            "1de6efca74fd42a18dbbdb7057989a92",
            "bfa90a103ca34e4d98888a91c7c691d6",
            "223d20a315374a099d819667ab52dfbb",
            "64c9c47254b44aaf99480959ed9154f7",
            "4174880775fb42bf92fb7a9ea9482475",
            "369a6aa3eafc476b8dd62459458c820e",
            "2b403125322c4f298a7b174547745355",
            "873e3a386a804c0997203accee6ace7d",
            "a7972ebeaa9b4778a8d0907a4ba9fa86",
            "e56ac3fd0cca419d9f1b8c7d9dc2dc0a",
            "33cbf6a764934c988a09077999fb3552",
            "5a135843e00b478f92c7656ffa3ecaa5",
            "2363184ea3dc457084502056d46ee13e",
            "fb5c1ea0edb74c46ad2b82749dcdfb0c",
            "5ef38fb3d053425dba2ec5a69bece4a6",
            "8942d9f0a9ef47b69bd2b139562ecc82",
            "4e1d37e996b9426a886f5a86d28b0b75",
            "7b4b3344445847a789a1d4f6ebee6322"
          ]
        },
        "id": "Mlkn2L_m3TGH",
        "outputId": "6b3d57f4-bcba-469c-9dac-822b773c4863"
      },
      "source": [
        "data_path = './MNIST'\n",
        "\n",
        "training_set = datasets.MNIST(root = data_path, train= True, download=True, transform= transform)\n",
        "testing_set = datasets.MNIST(root = data_path, train= False, download=True, transform= transform)"
      ],
      "execution_count": 4,
      "outputs": [
        {
          "output_type": "stream",
          "text": [
            "Downloading http://yann.lecun.com/exdb/mnist/train-images-idx3-ubyte.gz to ./MNIST/MNIST/raw/train-images-idx3-ubyte.gz\n"
          ],
          "name": "stdout"
        },
        {
          "output_type": "display_data",
          "data": {
            "application/vnd.jupyter.widget-view+json": {
              "model_id": "97965c5ea6ff4d5d8045f0ce4a2e2274",
              "version_minor": 0,
              "version_major": 2
            },
            "text/plain": [
              "HBox(children=(FloatProgress(value=1.0, bar_style='info', max=1.0), HTML(value='')))"
            ]
          },
          "metadata": {
            "tags": []
          }
        },
        {
          "output_type": "stream",
          "text": [
            "Extracting ./MNIST/MNIST/raw/train-images-idx3-ubyte.gz to ./MNIST/MNIST/raw\n",
            "Downloading http://yann.lecun.com/exdb/mnist/train-labels-idx1-ubyte.gz to ./MNIST/MNIST/raw/train-labels-idx1-ubyte.gz\n"
          ],
          "name": "stdout"
        },
        {
          "output_type": "display_data",
          "data": {
            "application/vnd.jupyter.widget-view+json": {
              "model_id": "806755b1f53c474fadb7dd3f937a79fa",
              "version_minor": 0,
              "version_major": 2
            },
            "text/plain": [
              "HBox(children=(FloatProgress(value=1.0, bar_style='info', max=1.0), HTML(value='')))"
            ]
          },
          "metadata": {
            "tags": []
          }
        },
        {
          "output_type": "stream",
          "text": [
            "Extracting ./MNIST/MNIST/raw/train-labels-idx1-ubyte.gz to ./MNIST/MNIST/raw\n",
            "Downloading http://yann.lecun.com/exdb/mnist/t10k-images-idx3-ubyte.gz to ./MNIST/MNIST/raw/t10k-images-idx3-ubyte.gz\n"
          ],
          "name": "stdout"
        },
        {
          "output_type": "display_data",
          "data": {
            "application/vnd.jupyter.widget-view+json": {
              "model_id": "223d20a315374a099d819667ab52dfbb",
              "version_minor": 0,
              "version_major": 2
            },
            "text/plain": [
              "HBox(children=(FloatProgress(value=1.0, bar_style='info', max=1.0), HTML(value='')))"
            ]
          },
          "metadata": {
            "tags": []
          }
        },
        {
          "output_type": "stream",
          "text": [
            "Extracting ./MNIST/MNIST/raw/t10k-images-idx3-ubyte.gz to ./MNIST/MNIST/raw\n",
            "Downloading http://yann.lecun.com/exdb/mnist/t10k-labels-idx1-ubyte.gz to ./MNIST/MNIST/raw/t10k-labels-idx1-ubyte.gz\n"
          ],
          "name": "stdout"
        },
        {
          "output_type": "display_data",
          "data": {
            "application/vnd.jupyter.widget-view+json": {
              "model_id": "33cbf6a764934c988a09077999fb3552",
              "version_minor": 0,
              "version_major": 2
            },
            "text/plain": [
              "HBox(children=(FloatProgress(value=1.0, bar_style='info', max=1.0), HTML(value='')))"
            ]
          },
          "metadata": {
            "tags": []
          }
        },
        {
          "output_type": "stream",
          "text": [
            "Extracting ./MNIST/MNIST/raw/t10k-labels-idx1-ubyte.gz to ./MNIST/MNIST/raw\n",
            "Processing...\n",
            "Done!\n"
          ],
          "name": "stdout"
        },
        {
          "output_type": "stream",
          "text": [
            "/usr/local/lib/python3.6/dist-packages/torchvision/datasets/mnist.py:480: UserWarning: The given NumPy array is not writeable, and PyTorch does not support non-writeable tensors. This means you can write to the underlying (supposedly non-writeable) NumPy array using the tensor. You may want to copy the array to protect its data or make it writeable before converting it to a tensor. This type of warning will be suppressed for the rest of this program. (Triggered internally at  /pytorch/torch/csrc/utils/tensor_numpy.cpp:141.)\n",
            "  return torch.from_numpy(parsed.astype(m[2], copy=False)).view(*s)\n"
          ],
          "name": "stderr"
        }
      ]
    },
    {
      "cell_type": "code",
      "metadata": {
        "id": "lUj2JTgY4r4c"
      },
      "source": [
        "batch_32 = 32\n",
        "batch_64 = 64\n",
        "batch_128 = 128\n",
        "learning_rate_value = 1e-2"
      ],
      "execution_count": 5,
      "outputs": []
    },
    {
      "cell_type": "code",
      "metadata": {
        "id": "CkgCtS3b3giF"
      },
      "source": [
        "train_loader_32 = DataLoader(dataset = training_set, batch_size = batch_32, shuffle = True) ## batch size 32 짜리 train loader 생성\n",
        "test_loader_32 = DataLoader(dataset = testing_set, batch_size = batch_32, shuffle = True) ## batch size 32 짜리 test loader 생성\n",
        "\n",
        "train_loader_64 = DataLoader(dataset = training_set, batch_size = batch_64, shuffle = True) ## batch size 64 짜리 train loader 생성\n",
        "test_loader_64 = DataLoader(dataset = testing_set, batch_size = batch_64, shuffle = True) ## batch size 64 짜리 test loader 생성\n",
        "\n",
        "train_loader_128 = DataLoader(dataset = training_set, batch_size = batch_128, shuffle = True) ## batch size 128 짜리 train loader 생성\n",
        "test_loader_128 = DataLoader(dataset = testing_set, batch_size = batch_128, shuffle = True) ## batch size 128 짜리 test loader 생성"
      ],
      "execution_count": 6,
      "outputs": []
    },
    {
      "cell_type": "code",
      "metadata": {
        "colab": {
          "base_uri": "https://localhost:8080/",
          "height": 352
        },
        "id": "rnv1UBAk3qtB",
        "outputId": "cee482ad-9449-433c-8315-2e38c80d0370"
      },
      "source": [
        "for X, Y in train_loader_64:\n",
        "  plt.imshow(X[0][0].numpy())\n",
        "  print(f\"Target: {Y[0]}\")\n",
        "  break"
      ],
      "execution_count": 7,
      "outputs": [
        {
          "output_type": "stream",
          "text": [
            "\n",
            "\n",
            "Target: 1\n"
          ],
          "name": "stdout"
        },
        {
          "output_type": "display_data",
          "data": {
            "image/png": "[encoded data removed]",
            "text/plain": [
              "<Figure size 432x288 with 1 Axes>"
            ]
          },
          "metadata": {
            "tags": [],
            "needs_background": "light"
          }
        },
        {
          "output_type": "stream",
          "text": [
            "\n",
            "\n"
          ],
          "name": "stdout"
        }
      ]
    },
    {
      "cell_type": "markdown",
      "metadata": {
        "id": "SCsB9Pdk6zd7"
      },
      "source": [
        "# 3. Define Model\n",
        "<hr>"
      ]
    },
    {
      "cell_type": "code",
      "metadata": {
        "id": "-cUHqcW25etQ"
      },
      "source": [
        "class classification(nn.Module):\n",
        "    def __init__(self):\n",
        "        super(classification, self).__init__()\n",
        "        \n",
        "        # construct layers for a neural network\n",
        "        self.classifier1 = nn.Sequential(\n",
        "            nn.Linear(in_features=28*28, out_features=20*20),\n",
        "            nn.Sigmoid(),\n",
        "        ) \n",
        "        self.classifier2 = nn.Sequential(\n",
        "            nn.Linear(in_features=20*20, out_features=10*10),\n",
        "            nn.Sigmoid(),\n",
        "        ) \n",
        "        self.classifier3 = nn.Sequential(\n",
        "            nn.Linear(in_features=10*10, out_features=10),\n",
        "            nn.LogSoftmax(dim=1),\n",
        "        ) \n",
        "        \n",
        "        \n",
        "    def forward(self, inputs):                 # [batchSize, 1, 28, 28]\n",
        "        x = inputs.view(inputs.size(0), -1)    # [batchSize, 28*28]\n",
        "        x = self.classifier1(x)                # [batchSize, 20*20]\n",
        "        x = self.classifier2(x)                # [batchSize, 10*10]\n",
        "        out = self.classifier3(x)              # [batchSize, 10]\n",
        "        \n",
        "        return out\n"
      ],
      "execution_count": 8,
      "outputs": []
    },
    {
      "cell_type": "code",
      "metadata": {
        "id": "MWYQ30d37dwC"
      },
      "source": [
        "classifier_32 = classification().to(device)\n",
        "classifier_64 = classification().to(device)\n",
        "classifier_128 = classification().to(device)"
      ],
      "execution_count": 9,
      "outputs": []
    },
    {
      "cell_type": "code",
      "metadata": {
        "id": "-GpzWr1V64wc"
      },
      "source": [
        "## Loss function\n",
        "criterion = nn.NLLLoss()\n",
        "\n",
        "# Optimization\n",
        "optimizer_32 = torch.optim.SGD(classifier_32.parameters(), lr=learning_rate_value)\n",
        "optimizer_64 = torch.optim.SGD(classifier_64.parameters(), lr=learning_rate_value)\n",
        "optimizer_128 = torch.optim.SGD(classifier_128.parameters(), lr=learning_rate_value)"
      ],
      "execution_count": 10,
      "outputs": []
    },
    {
      "cell_type": "markdown",
      "metadata": {
        "id": "lsNWP3Wk8Siq"
      },
      "source": [
        "# 4. Training\n",
        "<hr>"
      ]
    },
    {
      "cell_type": "code",
      "metadata": {
        "id": "1_QSSPkC7sCr"
      },
      "source": [
        "training_epochs = 60\n",
        "total_batch_32 = len(train_loader_32)\n",
        "total_batch_64 = len(train_loader_64)\n",
        "total_batch_128 = len(train_loader_128)"
      ],
      "execution_count": 11,
      "outputs": []
    },
    {
      "cell_type": "code",
      "metadata": {
        "colab": {
          "base_uri": "https://localhost:8080/"
        },
        "id": "9_SeUrHB5gLH",
        "outputId": "401af2dc-ba67-4e9d-bb35-447aa7fe4c64"
      },
      "source": [
        "print(total_batch_64)"
      ],
      "execution_count": 12,
      "outputs": [
        {
          "output_type": "stream",
          "text": [
            "938\n"
          ],
          "name": "stdout"
        }
      ]
    },
    {
      "cell_type": "code",
      "metadata": {
        "id": "eaJMZ8TvcglJ"
      },
      "source": [
        "def accuracy(log_pred, y_true):\n",
        "    y_pred = torch.argmax(log_pred, dim=1)\n",
        "    return (y_pred == y_true).to(torch.float).mean()"
      ],
      "execution_count": 13,
      "outputs": []
    },
    {
      "cell_type": "code",
      "metadata": {
        "colab": {
          "base_uri": "https://localhost:8080/"
        },
        "id": "CX_ljI5M1-5U",
        "outputId": "8dec1a43-552c-475f-f42e-95d43b9902d7"
      },
      "source": [
        "for X, Y in train_loader_32:\n",
        "  X = X.to(device)\n",
        "  Y = Y.to(device)\n",
        "  pred = classifier_32(X)\n",
        "  print(torch.argmax(pred, dim=1))\n",
        "  print(Y)\n",
        "  print((torch.argmax(pred, dim=1) == Y).to(torch.float).mean())\n",
        "  break"
      ],
      "execution_count": 14,
      "outputs": [
        {
          "output_type": "stream",
          "text": [
            "tensor([1, 1, 1, 1, 1, 2, 1, 1, 1, 1, 1, 1, 1, 1, 1, 1, 1, 1, 1, 1, 2, 1, 1, 1,\n",
            "        1, 1, 1, 1, 1, 2, 1, 1], device='cuda:0')\n",
            "tensor([5, 9, 7, 0, 8, 9, 6, 9, 2, 5, 4, 1, 4, 3, 5, 9, 1, 5, 6, 9, 8, 3, 4, 6,\n",
            "        6, 2, 8, 8, 2, 3, 5, 4], device='cuda:0')\n",
            "tensor(0.0625, device='cuda:0')\n"
          ],
          "name": "stdout"
        }
      ]
    },
    {
      "cell_type": "code",
      "metadata": {
        "id": "Kl5FuVgt8_LF"
      },
      "source": [
        "def training(model, loss, optim, training_epochs, train_loader, test_loader):\n",
        "  L_iters_train = []\n",
        "  accuracy_train = []\n",
        "  L_iters_test = []\n",
        "  accuracy_test = []\n",
        "  for epoch in range(training_epochs):\n",
        "    total_cost_train = 0\n",
        "    total_cost_test = 0\n",
        "    total_acc_train = 0\n",
        "    total_acc_test = 0\n",
        "\n",
        "    for X, Y in train_loader:\n",
        "      X = X.to(device)\n",
        "      Y = Y.to(device)\n",
        "\n",
        "      optim.zero_grad()\n",
        "      train_pred = model(X)\n",
        "      cost = loss(train_pred, Y)\n",
        "      cost.backward()\n",
        "      optim.step()\n",
        "      total_cost_train += cost\n",
        "      total_acc_train += accuracy(train_pred, Y)\n",
        "      \n",
        "    avg_cost_train = total_cost_train / len(train_loader)\n",
        "    avg_acc_train = total_acc_train / len(train_loader)\n",
        "\n",
        "    L_iters_train.append(avg_cost_train)\n",
        "    accuracy_train.append(avg_acc_train)\n",
        "    with torch.no_grad():\n",
        "      for X_test, Y_test in test_loader:\n",
        "        X_test = X_test.to(device)\n",
        "        Y_test = Y_test.to(device)\n",
        "        test_pred = model(X_test)\n",
        "        cost_test = loss(test_pred, Y_test)\n",
        "        total_cost_test += cost_test\n",
        "        total_acc_test += accuracy(test_pred, Y_test)\n",
        "      avg_cost_test = total_cost_test / len(test_loader)\n",
        "      avg_acc_test = total_acc_test / len(test_loader)\n",
        "    \n",
        "      accuracy_test.append(avg_acc_test)\n",
        "      L_iters_test.append(avg_cost_test)\n",
        "\n",
        "    print(\"Epoch: %02d Training Loss: %.9f Testing Loss: %.9f  Training Acc: %.9f Testing Acc: %.9f\" %((epoch + 1),avg_cost_train, avg_cost_test, avg_acc_train, avg_acc_test))\n",
        "  return L_iters_train, accuracy_train, L_iters_test, accuracy_test"
      ],
      "execution_count": 15,
      "outputs": []
    },
    {
      "cell_type": "code",
      "metadata": {
        "colab": {
          "base_uri": "https://localhost:8080/"
        },
        "id": "hOfKPriA84jq",
        "outputId": "31a4ecb3-2111-4950-a8fe-a9fcc502fc1c"
      },
      "source": [
        "L_train_32, A_train_32, L_test_32, A_test_32 = training(classifier_32, criterion, optimizer_32, training_epochs, train_loader_32, test_loader_32)"
      ],
      "execution_count": 16,
      "outputs": [
        {
          "output_type": "stream",
          "text": [
            "Epoch: 01 Training Loss: 2.144883394 Testing Loss: 1.768218637  Training Acc: 0.322916657 Testing Acc: 0.508286715\n",
            "Epoch: 02 Training Loss: 1.262552381 Testing Loss: 0.902980387  Training Acc: 0.646466672 Testing Acc: 0.768570244\n",
            "Epoch: 03 Training Loss: 0.744534373 Testing Loss: 0.600973248  Training Acc: 0.806699991 Testing Acc: 0.843750000\n",
            "Epoch: 04 Training Loss: 0.538277686 Testing Loss: 0.465664685  Training Acc: 0.859883368 Testing Acc: 0.875798702\n",
            "Epoch: 05 Training Loss: 0.442839146 Testing Loss: 0.397838533  Training Acc: 0.881116688 Testing Acc: 0.890075862\n",
            "Epoch: 06 Training Loss: 0.391405344 Testing Loss: 0.360379934  Training Acc: 0.891833365 Testing Acc: 0.899660528\n",
            "Epoch: 07 Training Loss: 0.358887255 Testing Loss: 0.335996509  Training Acc: 0.900049984 Testing Acc: 0.906050324\n",
            "Epoch: 08 Training Loss: 0.336116433 Testing Loss: 0.316255450  Training Acc: 0.904900014 Testing Acc: 0.909744382\n",
            "Epoch: 09 Training Loss: 0.318039209 Testing Loss: 0.300507426  Training Acc: 0.909816682 Testing Acc: 0.915235579\n",
            "Epoch: 10 Training Loss: 0.303073883 Testing Loss: 0.287295371  Training Acc: 0.913550019 Testing Acc: 0.916833043\n",
            "Epoch: 11 Training Loss: 0.289692700 Testing Loss: 0.276631474  Training Acc: 0.917083323 Testing Acc: 0.919129372\n",
            "Epoch: 12 Training Loss: 0.277869195 Testing Loss: 0.265439689  Training Acc: 0.920516670 Testing Acc: 0.922823489\n",
            "Epoch: 13 Training Loss: 0.266864300 Testing Loss: 0.255331039  Training Acc: 0.923066676 Testing Acc: 0.926717222\n",
            "Epoch: 14 Training Loss: 0.256329447 Testing Loss: 0.247669131  Training Acc: 0.926816702 Testing Acc: 0.928714037\n",
            "Epoch: 15 Training Loss: 0.246776626 Testing Loss: 0.238570407  Training Acc: 0.929016650 Testing Acc: 0.931409717\n",
            "Epoch: 16 Training Loss: 0.237567127 Testing Loss: 0.230082884  Training Acc: 0.931716681 Testing Acc: 0.933406532\n",
            "Epoch: 17 Training Loss: 0.228598520 Testing Loss: 0.221806437  Training Acc: 0.934199989 Testing Acc: 0.936401725\n",
            "Epoch: 18 Training Loss: 0.220338196 Testing Loss: 0.214220703  Training Acc: 0.936683357 Testing Acc: 0.937899351\n",
            "Epoch: 19 Training Loss: 0.212269083 Testing Loss: 0.207520038  Training Acc: 0.938300014 Testing Acc: 0.940095842\n",
            "Epoch: 20 Training Loss: 0.204726756 Testing Loss: 0.199824154  Training Acc: 0.940999985 Testing Acc: 0.942392170\n",
            "Epoch: 21 Training Loss: 0.197487667 Testing Loss: 0.193827808  Training Acc: 0.943233371 Testing Acc: 0.944289148\n",
            "Epoch: 22 Training Loss: 0.190584645 Testing Loss: 0.187887207  Training Acc: 0.945466697 Testing Acc: 0.945587039\n",
            "Epoch: 23 Training Loss: 0.184121758 Testing Loss: 0.182917193  Training Acc: 0.947216690 Testing Acc: 0.947783530\n",
            "Epoch: 24 Training Loss: 0.177886248 Testing Loss: 0.176188305  Training Acc: 0.949166656 Testing Acc: 0.948781908\n",
            "Epoch: 25 Training Loss: 0.172192276 Testing Loss: 0.172423124  Training Acc: 0.951033354 Testing Acc: 0.949480832\n",
            "Epoch: 26 Training Loss: 0.166552335 Testing Loss: 0.166544482  Training Acc: 0.952750027 Testing Acc: 0.951777160\n",
            "Epoch: 27 Training Loss: 0.161183968 Testing Loss: 0.162350908  Training Acc: 0.954183340 Testing Acc: 0.952176511\n",
            "Epoch: 28 Training Loss: 0.156132698 Testing Loss: 0.158176988  Training Acc: 0.955349982 Testing Acc: 0.953973651\n",
            "Epoch: 29 Training Loss: 0.151410103 Testing Loss: 0.153649747  Training Acc: 0.957183361 Testing Acc: 0.954273164\n",
            "Epoch: 30 Training Loss: 0.146842331 Testing Loss: 0.149465173  Training Acc: 0.958483338 Testing Acc: 0.956170082\n",
            "Epoch: 31 Training Loss: 0.142396525 Testing Loss: 0.146252096  Training Acc: 0.959616661 Testing Acc: 0.957268357\n",
            "Epoch: 32 Training Loss: 0.138222098 Testing Loss: 0.144034728  Training Acc: 0.960716665 Testing Acc: 0.958765984\n",
            "Epoch: 33 Training Loss: 0.134267375 Testing Loss: 0.139959037  Training Acc: 0.961983323 Testing Acc: 0.958765984\n",
            "Epoch: 34 Training Loss: 0.130531505 Testing Loss: 0.135619551  Training Acc: 0.962966681 Testing Acc: 0.961162150\n",
            "Epoch: 35 Training Loss: 0.126832500 Testing Loss: 0.133713201  Training Acc: 0.964483321 Testing Acc: 0.961661339\n",
            "Epoch: 36 Training Loss: 0.123396456 Testing Loss: 0.130358055  Training Acc: 0.965233326 Testing Acc: 0.963059068\n",
            "Epoch: 37 Training Loss: 0.120008670 Testing Loss: 0.127809018  Training Acc: 0.966283321 Testing Acc: 0.963458478\n",
            "Epoch: 38 Training Loss: 0.116834037 Testing Loss: 0.125614524  Training Acc: 0.967249990 Testing Acc: 0.965155721\n",
            "Epoch: 39 Training Loss: 0.113729864 Testing Loss: 0.122731507  Training Acc: 0.968183339 Testing Acc: 0.965455234\n",
            "Epoch: 40 Training Loss: 0.110870756 Testing Loss: 0.120040298  Training Acc: 0.969166696 Testing Acc: 0.965954483\n",
            "Epoch: 41 Training Loss: 0.107951358 Testing Loss: 0.117362410  Training Acc: 0.969933331 Testing Acc: 0.965255558\n",
            "Epoch: 42 Training Loss: 0.105304278 Testing Loss: 0.116556756  Training Acc: 0.970466673 Testing Acc: 0.966253996\n",
            "Epoch: 43 Training Loss: 0.102684580 Testing Loss: 0.113348633  Training Acc: 0.971650004 Testing Acc: 0.967551887\n",
            "Epoch: 44 Training Loss: 0.100184262 Testing Loss: 0.112163380  Training Acc: 0.972066700 Testing Acc: 0.967551887\n",
            "Epoch: 45 Training Loss: 0.097652957 Testing Loss: 0.109075047  Training Acc: 0.972816706 Testing Acc: 0.968051076\n",
            "Epoch: 46 Training Loss: 0.095307119 Testing Loss: 0.107476436  Training Acc: 0.973683357 Testing Acc: 0.968150914\n",
            "Epoch: 47 Training Loss: 0.093071267 Testing Loss: 0.107121758  Training Acc: 0.974433362 Testing Acc: 0.968750000\n",
            "Epoch: 48 Training Loss: 0.091015719 Testing Loss: 0.104613744  Training Acc: 0.974983335 Testing Acc: 0.969448864\n",
            "Epoch: 49 Training Loss: 0.088814095 Testing Loss: 0.103476249  Training Acc: 0.975549996 Testing Acc: 0.969848216\n",
            "Epoch: 50 Training Loss: 0.086851493 Testing Loss: 0.101142064  Training Acc: 0.976283371 Testing Acc: 0.969948053\n",
            "Epoch: 51 Training Loss: 0.084827431 Testing Loss: 0.100681327  Training Acc: 0.976633370 Testing Acc: 0.970547080\n",
            "Epoch: 52 Training Loss: 0.082996547 Testing Loss: 0.098480269  Training Acc: 0.977400005 Testing Acc: 0.971445680\n",
            "Epoch: 53 Training Loss: 0.081153996 Testing Loss: 0.097734869  Training Acc: 0.978066683 Testing Acc: 0.970946491\n",
            "Epoch: 54 Training Loss: 0.079228945 Testing Loss: 0.095236808  Training Acc: 0.978666663 Testing Acc: 0.971545517\n",
            "Epoch: 55 Training Loss: 0.077529296 Testing Loss: 0.094490901  Training Acc: 0.979133368 Testing Acc: 0.972743571\n",
            "Epoch: 56 Training Loss: 0.075902186 Testing Loss: 0.092643276  Training Acc: 0.979433358 Testing Acc: 0.971745193\n",
            "Epoch: 57 Training Loss: 0.074273989 Testing Loss: 0.091702305  Training Acc: 0.980100036 Testing Acc: 0.972444057\n",
            "Epoch: 58 Training Loss: 0.072749369 Testing Loss: 0.090669230  Training Acc: 0.980433345 Testing Acc: 0.973342657\n",
            "Epoch: 59 Training Loss: 0.071056992 Testing Loss: 0.089334369  Training Acc: 0.980966687 Testing Acc: 0.972743571\n",
            "Epoch: 60 Training Loss: 0.069634691 Testing Loss: 0.088548794  Training Acc: 0.981100023 Testing Acc: 0.974041522\n"
          ],
          "name": "stdout"
        }
      ]
    },
    {
      "cell_type": "code",
      "metadata": {
        "colab": {
          "base_uri": "https://localhost:8080/",
          "height": 592
        },
        "id": "vzn6YyGw9ULY",
        "outputId": "8eb26ed1-7c25-436f-8ee5-76262dac63d8"
      },
      "source": [
        "plt.figure(figsize = (10,10))\n",
        "plt.plot(L_train_32, linewidth = 2, c='b', label = \"train\")\n",
        "plt.plot(L_test_32, linewidth = 2, c='r', label = \"test\")\n",
        "plt.legend()\n",
        "plt.show()"
      ],
      "execution_count": 17,
      "outputs": [
        {
          "output_type": "display_data",
          "data": {
            "image/png": "[encoded data removed]",
            "text/plain": [
              "<Figure size 720x720 with 1 Axes>"
            ]
          },
          "metadata": {
            "tags": [],
            "needs_background": "light"
          }
        }
      ]
    },
    {
      "cell_type": "code",
      "metadata": {
        "colab": {
          "base_uri": "https://localhost:8080/",
          "height": 592
        },
        "id": "Rl1MuQhtqsg2",
        "outputId": "b8d3ebac-d0b7-40a8-e108-075d6d1cb35e"
      },
      "source": [
        "plt.figure(figsize = (10,10))\n",
        "plt.plot(A_train_32, linewidth = 2, c='b', label = \"train\")\n",
        "plt.plot(A_test_32, linewidth = 2, c='r', label = \"test\")\n",
        "plt.legend()\n",
        "plt.show()"
      ],
      "execution_count": 18,
      "outputs": [
        {
          "output_type": "display_data",
          "data": {
            "image/png": "[encoded data removed]",
            "text/plain": [
              "<Figure size 720x720 with 1 Axes>"
            ]
          },
          "metadata": {
            "tags": [],
            "needs_background": "light"
          }
        }
      ]
    },
    {
      "cell_type": "code",
      "metadata": {
        "colab": {
          "base_uri": "https://localhost:8080/"
        },
        "id": "-X-MPa8z9uci",
        "outputId": "56f2b433-49c5-43ee-e387-9f59b46e8e36"
      },
      "source": [
        "L_train_64, A_train_64, L_test_64, A_test_64 = training(classifier_64, criterion, optimizer_64, training_epochs, train_loader_64, test_loader_64)"
      ],
      "execution_count": 19,
      "outputs": [
        {
          "output_type": "stream",
          "text": [
            "Epoch: 01 Training Loss: 2.266192436 Testing Loss: 2.212422848  Training Acc: 0.214952037 Testing Acc: 0.409633756\n",
            "Epoch: 02 Training Loss: 2.069086790 Testing Loss: 1.823312759  Training Acc: 0.470215887 Testing Acc: 0.530354321\n",
            "Epoch: 03 Training Loss: 1.520716906 Testing Loss: 1.245139480  Training Acc: 0.597231507 Testing Acc: 0.666500807\n",
            "Epoch: 04 Training Loss: 1.077415228 Testing Loss: 0.924537718  Training Acc: 0.715734959 Testing Acc: 0.759255588\n",
            "Epoch: 05 Training Loss: 0.833771765 Testing Loss: 0.733340263  Training Acc: 0.780217230 Testing Acc: 0.808718145\n",
            "Epoch: 06 Training Loss: 0.681983709 Testing Loss: 0.613703668  Training Acc: 0.819313049 Testing Acc: 0.837579608\n",
            "Epoch: 07 Training Loss: 0.585026205 Testing Loss: 0.533548415  Training Acc: 0.842184186 Testing Acc: 0.855593145\n",
            "Epoch: 08 Training Loss: 0.520377517 Testing Loss: 0.478680372  Training Acc: 0.859858096 Testing Acc: 0.869128227\n",
            "Epoch: 09 Training Loss: 0.474326909 Testing Loss: 0.442339778  Training Acc: 0.871018827 Testing Acc: 0.876592398\n",
            "Epoch: 10 Training Loss: 0.439897686 Testing Loss: 0.412402689  Training Acc: 0.879697502 Testing Acc: 0.884653687\n",
            "Epoch: 11 Training Loss: 0.413408905 Testing Loss: 0.390680015  Training Acc: 0.885977507 Testing Acc: 0.890127420\n",
            "Epoch: 12 Training Loss: 0.392416656 Testing Loss: 0.371041030  Training Acc: 0.890491784 Testing Acc: 0.895999193\n",
            "Epoch: 13 Training Loss: 0.375059903 Testing Loss: 0.357194930  Training Acc: 0.896022141 Testing Acc: 0.898586810\n",
            "Epoch: 14 Training Loss: 0.360502154 Testing Loss: 0.343321353  Training Acc: 0.899270415 Testing Acc: 0.902368665\n",
            "Epoch: 15 Training Loss: 0.347974032 Testing Loss: 0.334322274  Training Acc: 0.902585328 Testing Acc: 0.903761983\n",
            "Epoch: 16 Training Loss: 0.337224096 Testing Loss: 0.324445754  Training Acc: 0.905500412 Testing Acc: 0.905752420\n",
            "Epoch: 17 Training Loss: 0.327236086 Testing Loss: 0.313618422  Training Acc: 0.908198953 Testing Acc: 0.908140957\n",
            "Epoch: 18 Training Loss: 0.318282306 Testing Loss: 0.306695789  Training Acc: 0.910564363 Testing Acc: 0.911126614\n",
            "Epoch: 19 Training Loss: 0.310113996 Testing Loss: 0.299457252  Training Acc: 0.912846506 Testing Acc: 0.913117051\n",
            "Epoch: 20 Training Loss: 0.302443892 Testing Loss: 0.294219136  Training Acc: 0.914728820 Testing Acc: 0.914609909\n",
            "Epoch: 21 Training Loss: 0.295471072 Testing Loss: 0.286046892  Training Acc: 0.916611135 Testing Acc: 0.916799366\n",
            "Epoch: 22 Training Loss: 0.288696647 Testing Loss: 0.279076427  Training Acc: 0.918127000 Testing Acc: 0.917993665\n",
            "Epoch: 23 Training Loss: 0.282457352 Testing Loss: 0.277968794  Training Acc: 0.919276416 Testing Acc: 0.918690324\n",
            "Epoch: 24 Training Loss: 0.276315033 Testing Loss: 0.268702120  Training Acc: 0.921075463 Testing Acc: 0.921377420\n",
            "Epoch: 25 Training Loss: 0.270584792 Testing Loss: 0.264595002  Training Acc: 0.922258139 Testing Acc: 0.922969759\n",
            "Epoch: 26 Training Loss: 0.265252829 Testing Loss: 0.258921206  Training Acc: 0.923607409 Testing Acc: 0.923865438\n",
            "Epoch: 27 Training Loss: 0.259713650 Testing Loss: 0.254723489  Training Acc: 0.925273180 Testing Acc: 0.924562097\n",
            "Epoch: 28 Training Loss: 0.254769266 Testing Loss: 0.249756500  Training Acc: 0.926306009 Testing Acc: 0.927149713\n",
            "Epoch: 29 Training Loss: 0.249799550 Testing Loss: 0.246501416  Training Acc: 0.927605271 Testing Acc: 0.927448273\n",
            "Epoch: 30 Training Loss: 0.244825229 Testing Loss: 0.240499943  Training Acc: 0.929004550 Testing Acc: 0.929239690\n",
            "Epoch: 31 Training Loss: 0.240348607 Testing Loss: 0.238746598  Training Acc: 0.930403829 Testing Acc: 0.929836810\n",
            "Epoch: 32 Training Loss: 0.235798597 Testing Loss: 0.232172325  Training Acc: 0.931653142 Testing Acc: 0.931926787\n",
            "Epoch: 33 Training Loss: 0.231361106 Testing Loss: 0.227631494  Training Acc: 0.932869136 Testing Acc: 0.932623446\n",
            "Epoch: 34 Training Loss: 0.227190703 Testing Loss: 0.224821612  Training Acc: 0.934068501 Testing Acc: 0.933220565\n",
            "Epoch: 35 Training Loss: 0.223203912 Testing Loss: 0.222886249  Training Acc: 0.935267866 Testing Acc: 0.934514344\n",
            "Epoch: 36 Training Loss: 0.218839720 Testing Loss: 0.216274917  Training Acc: 0.936767101 Testing Acc: 0.937400520\n",
            "Epoch: 37 Training Loss: 0.214804351 Testing Loss: 0.214318827  Training Acc: 0.937566638 Testing Acc: 0.937699080\n",
            "Epoch: 38 Training Loss: 0.210997432 Testing Loss: 0.210164919  Training Acc: 0.938949227 Testing Acc: 0.939291418\n",
            "Epoch: 39 Training Loss: 0.207072258 Testing Loss: 0.206549242  Training Acc: 0.940065324 Testing Acc: 0.940386176\n",
            "Epoch: 40 Training Loss: 0.203371957 Testing Loss: 0.203124389  Training Acc: 0.941198051 Testing Acc: 0.940585196\n",
            "Epoch: 41 Training Loss: 0.199789256 Testing Loss: 0.200225845  Training Acc: 0.942464054 Testing Acc: 0.941281855\n",
            "Epoch: 42 Training Loss: 0.196239114 Testing Loss: 0.196405694  Training Acc: 0.943613410 Testing Acc: 0.942874193\n",
            "Epoch: 43 Training Loss: 0.192870706 Testing Loss: 0.193827465  Training Acc: 0.944646239 Testing Acc: 0.943570852\n",
            "Epoch: 44 Training Loss: 0.189477444 Testing Loss: 0.189928249  Training Acc: 0.945579052 Testing Acc: 0.944964170\n",
            "Epoch: 45 Training Loss: 0.186203197 Testing Loss: 0.186640739  Training Acc: 0.946845055 Testing Acc: 0.944765151\n",
            "Epoch: 46 Training Loss: 0.182839096 Testing Loss: 0.184431106  Training Acc: 0.947544694 Testing Acc: 0.945959389\n",
            "Epoch: 47 Training Loss: 0.179916546 Testing Loss: 0.181722522  Training Acc: 0.948860645 Testing Acc: 0.946954608\n",
            "Epoch: 48 Training Loss: 0.176708072 Testing Loss: 0.178970784  Training Acc: 0.949526966 Testing Acc: 0.947153687\n",
            "Epoch: 49 Training Loss: 0.173770994 Testing Loss: 0.176991418  Training Acc: 0.950643003 Testing Acc: 0.947651267\n",
            "Epoch: 50 Training Loss: 0.170780331 Testing Loss: 0.173558980  Training Acc: 0.951309323 Testing Acc: 0.948945105\n",
            "Epoch: 51 Training Loss: 0.168014944 Testing Loss: 0.171354949  Training Acc: 0.952258825 Testing Acc: 0.949641705\n",
            "Epoch: 52 Training Loss: 0.165208623 Testing Loss: 0.168082654  Training Acc: 0.952875137 Testing Acc: 0.950039804\n",
            "Epoch: 53 Training Loss: 0.162454665 Testing Loss: 0.166251197  Training Acc: 0.953341603 Testing Acc: 0.950537443\n",
            "Epoch: 54 Training Loss: 0.159864917 Testing Loss: 0.164251208  Training Acc: 0.954624236 Testing Acc: 0.951632202\n",
            "Epoch: 55 Training Loss: 0.157511458 Testing Loss: 0.162374616  Training Acc: 0.954990685 Testing Acc: 0.951831222\n",
            "Epoch: 56 Training Loss: 0.154902637 Testing Loss: 0.159859776  Training Acc: 0.955890238 Testing Acc: 0.953722119\n",
            "Epoch: 57 Training Loss: 0.152345702 Testing Loss: 0.157954231  Training Acc: 0.956606507 Testing Acc: 0.954219759\n",
            "Epoch: 58 Training Loss: 0.149987787 Testing Loss: 0.155352667  Training Acc: 0.957322776 Testing Acc: 0.954916418\n",
            "Epoch: 59 Training Loss: 0.147743016 Testing Loss: 0.153136835  Training Acc: 0.957922459 Testing Acc: 0.956110656\n",
            "Epoch: 60 Training Loss: 0.145449460 Testing Loss: 0.151194915  Training Acc: 0.958538830 Testing Acc: 0.956707835\n"
          ],
          "name": "stdout"
        }
      ]
    },
    {
      "cell_type": "code",
      "metadata": {
        "colab": {
          "base_uri": "https://localhost:8080/",
          "height": 592
        },
        "id": "z43mK4_4d5jo",
        "outputId": "e4a8ec6b-b97b-435f-8a93-caae5692c00a"
      },
      "source": [
        "plt.figure(figsize = (10,10))\n",
        "plt.plot(L_train_64, linewidth = 2, c='b', label = \"train\")\n",
        "plt.plot(L_test_64, linewidth = 2, c='r', label = \"test\")\n",
        "plt.legend()\n",
        "plt.show()"
      ],
      "execution_count": 20,
      "outputs": [
        {
          "output_type": "display_data",
          "data": {
            "image/png": "[encoded data removed]",
            "text/plain": [
              "<Figure size 720x720 with 1 Axes>"
            ]
          },
          "metadata": {
            "tags": [],
            "needs_background": "light"
          }
        }
      ]
    },
    {
      "cell_type": "code",
      "metadata": {
        "colab": {
          "base_uri": "https://localhost:8080/",
          "height": 592
        },
        "id": "o_QvapQkDxfX",
        "outputId": "8faf0de2-6b1c-46fe-ab9f-b62efb456ce6"
      },
      "source": [
        "plt.figure(figsize = (10,10))\n",
        "plt.plot(A_train_64, linewidth = 2, c='b', label = \"train\")\n",
        "plt.plot(A_test_64, linewidth = 2, c='r', label = \"test\")\n",
        "plt.legend()\n",
        "plt.show()"
      ],
      "execution_count": 21,
      "outputs": [
        {
          "output_type": "display_data",
          "data": {
            "image/png": "[encoded data removed]",
            "text/plain": [
              "<Figure size 720x720 with 1 Axes>"
            ]
          },
          "metadata": {
            "tags": [],
            "needs_background": "light"
          }
        }
      ]
    },
    {
      "cell_type": "code",
      "metadata": {
        "colab": {
          "base_uri": "https://localhost:8080/"
        },
        "id": "6I6rEAlyDzeO",
        "outputId": "5321ab70-7c96-4945-a615-990360d16d96"
      },
      "source": [
        "L_train_128, A_train_128, L_test_128, A_test_128 = training(classifier_128, criterion, optimizer_128, training_epochs, train_loader_128, test_loader_128)"
      ],
      "execution_count": 22,
      "outputs": [
        {
          "output_type": "stream",
          "text": [
            "Epoch: 01 Training Loss: 2.288439989 Testing Loss: 2.267014980  Training Acc: 0.127959535 Testing Acc: 0.120154276\n",
            "Epoch: 02 Training Loss: 2.243486166 Testing Loss: 2.210860491  Training Acc: 0.282549322 Testing Acc: 0.428401917\n",
            "Epoch: 03 Training Loss: 2.158898830 Testing Loss: 2.083311558  Training Acc: 0.454851866 Testing Acc: 0.467464417\n",
            "Epoch: 04 Training Loss: 1.967103958 Testing Loss: 1.814421654  Training Acc: 0.506463230 Testing Acc: 0.526305377\n",
            "Epoch: 05 Training Loss: 1.655637264 Testing Loss: 1.492081046  Training Acc: 0.571856141 Testing Acc: 0.608979464\n",
            "Epoch: 06 Training Loss: 1.361608028 Testing Loss: 1.230768681  Training Acc: 0.641035914 Testing Acc: 0.677709699\n",
            "Epoch: 07 Training Loss: 1.140764713 Testing Loss: 1.045940042  Training Acc: 0.697189331 Testing Acc: 0.716969967\n",
            "Epoch: 08 Training Loss: 0.979527116 Testing Loss: 0.906365991  Training Acc: 0.740927041 Testing Acc: 0.765031636\n",
            "Epoch: 09 Training Loss: 0.859164238 Testing Loss: 0.800153792  Training Acc: 0.777490914 Testing Acc: 0.797468364\n",
            "Epoch: 10 Training Loss: 0.764378786 Testing Loss: 0.714557350  Training Acc: 0.804559767 Testing Acc: 0.818928003\n",
            "Epoch: 11 Training Loss: 0.688022852 Testing Loss: 0.643695533  Training Acc: 0.825259864 Testing Acc: 0.835146368\n",
            "Epoch: 12 Training Loss: 0.626413643 Testing Loss: 0.592259884  Training Acc: 0.838963687 Testing Acc: 0.846321225\n",
            "Epoch: 13 Training Loss: 0.577160180 Testing Loss: 0.543113887  Training Acc: 0.850390971 Testing Acc: 0.859375000\n",
            "Epoch: 14 Training Loss: 0.537827730 Testing Loss: 0.510199904  Training Acc: 0.859569371 Testing Acc: 0.864912987\n",
            "Epoch: 15 Training Loss: 0.506142199 Testing Loss: 0.479716599  Training Acc: 0.866471231 Testing Acc: 0.869659841\n",
            "Epoch: 16 Training Loss: 0.480093062 Testing Loss: 0.455700457  Training Acc: 0.871723950 Testing Acc: 0.875692248\n",
            "Epoch: 17 Training Loss: 0.458358228 Testing Loss: 0.437227428  Training Acc: 0.876743555 Testing Acc: 0.879549086\n",
            "Epoch: 18 Training Loss: 0.439948827 Testing Loss: 0.417494625  Training Acc: 0.880735815 Testing Acc: 0.886768222\n",
            "Epoch: 19 Training Loss: 0.424212009 Testing Loss: 0.407950401  Training Acc: 0.884067357 Testing Acc: 0.888844967\n",
            "Epoch: 20 Training Loss: 0.410553932 Testing Loss: 0.392532498  Training Acc: 0.887393415 Testing Acc: 0.890921712\n",
            "Epoch: 21 Training Loss: 0.398583323 Testing Loss: 0.381141931  Training Acc: 0.890741646 Testing Acc: 0.894382954\n",
            "Epoch: 22 Training Loss: 0.388012439 Testing Loss: 0.368558139  Training Acc: 0.892401874 Testing Acc: 0.896558583\n",
            "Epoch: 23 Training Loss: 0.378659457 Testing Loss: 0.360263556  Training Acc: 0.895333648 Testing Acc: 0.899327576\n",
            "Epoch: 24 Training Loss: 0.370086730 Testing Loss: 0.355747849  Training Acc: 0.897604644 Testing Acc: 0.899723113\n",
            "Epoch: 25 Training Loss: 0.362404019 Testing Loss: 0.347684711  Training Acc: 0.898770690 Testing Acc: 0.901305377\n",
            "Epoch: 26 Training Loss: 0.355280340 Testing Loss: 0.339856267  Training Acc: 0.900158823 Testing Acc: 0.902195454\n",
            "Epoch: 27 Training Loss: 0.348790288 Testing Loss: 0.336560369  Training Acc: 0.901780188 Testing Acc: 0.903678834\n",
            "Epoch: 28 Training Loss: 0.342717916 Testing Loss: 0.329313695  Training Acc: 0.903373778 Testing Acc: 0.905557752\n",
            "Epoch: 29 Training Loss: 0.337075502 Testing Loss: 0.329345673  Training Acc: 0.904495418 Testing Acc: 0.905162215\n",
            "Epoch: 30 Training Loss: 0.331899166 Testing Loss: 0.319804549  Training Acc: 0.905711412 Testing Acc: 0.908425629\n",
            "Epoch: 31 Training Loss: 0.326821625 Testing Loss: 0.321298927  Training Acc: 0.907221675 Testing Acc: 0.909216821\n",
            "Epoch: 32 Training Loss: 0.322134346 Testing Loss: 0.308840156  Training Acc: 0.908243418 Testing Acc: 0.912282467\n",
            "Epoch: 33 Training Loss: 0.317726940 Testing Loss: 0.306935400  Training Acc: 0.909626007 Testing Acc: 0.912579119\n",
            "Epoch: 34 Training Loss: 0.313559294 Testing Loss: 0.305234104  Training Acc: 0.910375595 Testing Acc: 0.912776947\n",
            "Epoch: 35 Training Loss: 0.309409708 Testing Loss: 0.299343020  Training Acc: 0.911419451 Testing Acc: 0.914062500\n",
            "Epoch: 36 Training Loss: 0.305613190 Testing Loss: 0.297797382  Training Acc: 0.912530005 Testing Acc: 0.914458096\n",
            "Epoch: 37 Training Loss: 0.301830351 Testing Loss: 0.292049766  Training Acc: 0.913490653 Testing Acc: 0.914952576\n",
            "Epoch: 38 Training Loss: 0.298291087 Testing Loss: 0.287731618  Training Acc: 0.914939880 Testing Acc: 0.918314874\n",
            "Epoch: 39 Training Loss: 0.294738501 Testing Loss: 0.286078334  Training Acc: 0.915467322 Testing Acc: 0.917325974\n",
            "Epoch: 40 Training Loss: 0.291397810 Testing Loss: 0.283084720  Training Acc: 0.916366816 Testing Acc: 0.919007123\n",
            "Epoch: 41 Training Loss: 0.288209498 Testing Loss: 0.280635804  Training Acc: 0.917371869 Testing Acc: 0.919007123\n",
            "Epoch: 42 Training Loss: 0.285054177 Testing Loss: 0.281711221  Training Acc: 0.917932630 Testing Acc: 0.917227089\n",
            "Epoch: 43 Training Loss: 0.281909287 Testing Loss: 0.275006831  Training Acc: 0.918793321 Testing Acc: 0.921182752\n",
            "Epoch: 44 Training Loss: 0.278901011 Testing Loss: 0.271070749  Training Acc: 0.919809461 Testing Acc: 0.920490503\n",
            "Epoch: 45 Training Loss: 0.276034027 Testing Loss: 0.269435406  Training Acc: 0.920731187 Testing Acc: 0.922072828\n",
            "Epoch: 46 Training Loss: 0.273184270 Testing Loss: 0.264509737  Training Acc: 0.921275318 Testing Acc: 0.924149573\n",
            "Epoch: 47 Training Loss: 0.270421386 Testing Loss: 0.264485121  Training Acc: 0.922186017 Testing Acc: 0.923556209\n",
            "Epoch: 48 Training Loss: 0.267774045 Testing Loss: 0.260158300  Training Acc: 0.923057735 Testing Acc: 0.924742877\n",
            "Epoch: 49 Training Loss: 0.264948130 Testing Loss: 0.265501946  Training Acc: 0.923685193 Testing Acc: 0.923951745\n",
            "Epoch: 50 Training Loss: 0.262248367 Testing Loss: 0.255581379  Training Acc: 0.924784601 Testing Acc: 0.926522970\n",
            "Epoch: 51 Training Loss: 0.259746909 Testing Loss: 0.256768703  Training Acc: 0.925223231 Testing Acc: 0.924841821\n",
            "Epoch: 52 Training Loss: 0.257189542 Testing Loss: 0.251061857  Training Acc: 0.926367104 Testing Acc: 0.926819623\n",
            "Epoch: 53 Training Loss: 0.254792660 Testing Loss: 0.248596996  Training Acc: 0.926622510 Testing Acc: 0.927511871\n",
            "Epoch: 54 Training Loss: 0.252337158 Testing Loss: 0.250710577  Training Acc: 0.927283287 Testing Acc: 0.925731838\n",
            "Epoch: 55 Training Loss: 0.249942437 Testing Loss: 0.251968175  Training Acc: 0.928221643 Testing Acc: 0.926720738\n",
            "Epoch: 56 Training Loss: 0.247522265 Testing Loss: 0.245892957  Training Acc: 0.928971231 Testing Acc: 0.927907467\n",
            "Epoch: 57 Training Loss: 0.245189130 Testing Loss: 0.239405692  Training Acc: 0.929476500 Testing Acc: 0.930676460\n",
            "Epoch: 58 Training Loss: 0.242894411 Testing Loss: 0.240269989  Training Acc: 0.929998517 Testing Acc: 0.929094195\n",
            "Epoch: 59 Training Loss: 0.240638986 Testing Loss: 0.236231923  Training Acc: 0.930559278 Testing Acc: 0.930973113\n",
            "Epoch: 60 Training Loss: 0.238406032 Testing Loss: 0.234925941  Training Acc: 0.931025684 Testing Acc: 0.929193079\n"
          ],
          "name": "stdout"
        }
      ]
    },
    {
      "cell_type": "code",
      "metadata": {
        "colab": {
          "base_uri": "https://localhost:8080/",
          "height": 592
        },
        "id": "kvKCJtoFEvt4",
        "outputId": "28a5afb9-ac12-4054-ed88-d82da4ed01ff"
      },
      "source": [
        "plt.figure(figsize = (10,10))\n",
        "plt.plot(L_train_128, linewidth = 2, c='b', label = \"train\")\n",
        "plt.plot(L_test_128, linewidth = 2, c='r', label = \"test\")\n",
        "plt.legend()\n",
        "plt.show()"
      ],
      "execution_count": 24,
      "outputs": [
        {
          "output_type": "display_data",
          "data": {
            "image/png": "[encoded data removed]",
            "text/plain": [
              "<Figure size 720x720 with 1 Axes>"
            ]
          },
          "metadata": {
            "tags": [],
            "needs_background": "light"
          }
        }
      ]
    },
    {
      "cell_type": "code",
      "metadata": {
        "colab": {
          "base_uri": "https://localhost:8080/",
          "height": 592
        },
        "id": "UFN7TrxPExrP",
        "outputId": "4a7bf50b-83d3-43ba-c483-ff89d0cbc07e"
      },
      "source": [
        "plt.figure(figsize = (10,10))\n",
        "plt.plot(A_train_128, linewidth = 2, c='b', label = \"train\")\n",
        "plt.plot(A_test_128, linewidth = 2, c='r', label = \"test\")\n",
        "plt.legend()\n",
        "plt.show()"
      ],
      "execution_count": 25,
      "outputs": [
        {
          "output_type": "display_data",
          "data": {
            "image/png": "[encoded data removed]",
            "text/plain": [
              "<Figure size 720x720 with 1 Axes>"
            ]
          },
          "metadata": {
            "tags": [],
            "needs_background": "light"
          }
        }
      ]
    },
    {
      "cell_type": "markdown",
      "metadata": {
        "id": "z4L9RrzOz5xl"
      },
      "source": [
        "# 5. Output\n",
        "<hr>"
      ]
    },
    {
      "cell_type": "markdown",
      "metadata": {
        "id": "alN6-n0r0DTO"
      },
      "source": [
        "## 1. Plot the training and testing losses with a batch size of 32"
      ]
    },
    {
      "cell_type": "code",
      "metadata": {
        "colab": {
          "base_uri": "https://localhost:8080/",
          "height": 612
        },
        "id": "JkmViURKU3EK",
        "outputId": "fced09f0-a857-4144-cdf0-bfcaaef6c268"
      },
      "source": [
        "plt.figure(figsize = (10,10))\n",
        "plt.title(\"Loss Batch size = 32\", fontsize = 20)\n",
        "plt.plot(L_train_32, linewidth = 2, c='b', label = \"train\")\n",
        "plt.plot(L_test_32, linewidth = 2, c='r', label = \"test\")\n",
        "plt.legend()\n",
        "plt.show()"
      ],
      "execution_count": 27,
      "outputs": [
        {
          "output_type": "display_data",
          "data": {
            "image/png": "[encoded data removed]",
            "text/plain": [
              "<Figure size 720x720 with 1 Axes>"
            ]
          },
          "metadata": {
            "tags": [],
            "needs_background": "light"
          }
        }
      ]
    },
    {
      "cell_type": "code",
      "metadata": {
        "id": "2HR7uJ6eAAyH"
      },
      "source": [
        ""
      ],
      "execution_count": null,
      "outputs": []
    }
  ]
}