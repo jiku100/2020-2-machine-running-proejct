{
  "nbformat": 4,
  "nbformat_minor": 0,
  "metadata": {
    "colab": {
      "name": "신석경_assignment_09",
      "provenance": [],
      "collapsed_sections": [],
      "authorship_tag": "ABX9TyO3utQfnSombeqKOZ3W5ljV",
      "include_colab_link": true
    },
    "kernelspec": {
      "name": "python3",
      "display_name": "Python 3"
    },
    "accelerator": "GPU"
  },
  "cells": [
    {
      "cell_type": "markdown",
      "metadata": {
        "id": "view-in-github",
        "colab_type": "text"
      },
      "source": [
        "<a href=\"https://colab.research.google.com/github/jiku100/2020-2-machine-running-proejct/blob/master/assignment9/%EC%8B%A0%EC%84%9D%EA%B2%BD_assignment_09.ipynb\" target=\"_parent\"><img src=\"https://colab.research.google.com/assets/colab-badge.svg\" alt=\"Open In Colab\"/></a>"
      ]
    },
    {
      "cell_type": "markdown",
      "metadata": {
        "id": "0gzdXwFJz0KJ"
      },
      "source": [
        "# **Classification for Multiple Categories using Pytorch**\n",
        "\n"
      ]
    },
    {
      "cell_type": "markdown",
      "metadata": {
        "id": "w_C7Cujjz4ff"
      },
      "source": [
        "# 1. Import library\n",
        "<hr>"
      ]
    },
    {
      "cell_type": "code",
      "metadata": {
        "id": "gtlbKT3Izgre"
      },
      "source": [
        "import torch\n",
        "import torch.nn as nn\n",
        "import torch.optim as optim\n",
        "import torch.nn.init as init\n",
        "import torchvision\n",
        "import torchvision.transforms as transforms\n",
        "import torchvision.datasets as datasets\n",
        "from torch.utils.data import DataLoader\n",
        "\n",
        "import matplotlib.pyplot as plt\n",
        "import cv2\n",
        "import numpy as np"
      ],
      "execution_count": 1,
      "outputs": []
    },
    {
      "cell_type": "code",
      "metadata": {
        "id": "JC9KWsHg7lTJ",
        "outputId": "54471e2f-f8da-41f5-a708-2233566511ef",
        "colab": {
          "base_uri": "https://localhost:8080/"
        }
      },
      "source": [
        "USE_CUDA = torch.cuda.is_available()\n",
        "device = torch.device(\"cuda\" if USE_CUDA else \"cpu\")\n",
        "print(\"다음 기기로 학습합니다:\", device)"
      ],
      "execution_count": 2,
      "outputs": [
        {
          "output_type": "stream",
          "text": [
            "다음 기기로 학습합니다: cuda\n"
          ],
          "name": "stdout"
        }
      ]
    },
    {
      "cell_type": "markdown",
      "metadata": {
        "id": "nBCurPvD3NoM"
      },
      "source": [
        "# 2. Load Data\n",
        "<hr>"
      ]
    },
    {
      "cell_type": "code",
      "metadata": {
        "id": "mPY4_F790FTB"
      },
      "source": [
        "transform = transforms.Compose([\n",
        "    transforms.ToTensor(),\n",
        "    transforms.Normalize((0.1307,),(0.3081,)),  # mean value = 0.1307, standard deviation value = 0.3081\n",
        "])"
      ],
      "execution_count": 3,
      "outputs": []
    },
    {
      "cell_type": "code",
      "metadata": {
        "id": "Mlkn2L_m3TGH"
      },
      "source": [
        "data_path = './MNIST'\n",
        "\n",
        "training_set = datasets.MNIST(root = data_path, train= True, download=True, transform= transform)\n",
        "testing_set = datasets.MNIST(root = data_path, train= False, download=True, transform= transform)"
      ],
      "execution_count": 4,
      "outputs": []
    },
    {
      "cell_type": "code",
      "metadata": {
        "id": "lUj2JTgY4r4c"
      },
      "source": [
        "batch_32 = 32\n",
        "batch_64 = 64\n",
        "batch_128 = 128\n",
        "learning_rate_value = 1e-2"
      ],
      "execution_count": 5,
      "outputs": []
    },
    {
      "cell_type": "code",
      "metadata": {
        "id": "CkgCtS3b3giF"
      },
      "source": [
        "train_loader_32 = DataLoader(dataset = training_set, batch_size = batch_32, shuffle = True) ## batch size 32 짜리 train loader 생성\n",
        "test_loader_32 = DataLoader(dataset = testing_set, batch_size = batch_32, shuffle = True) ## batch size 32 짜리 test loader 생성\n",
        "\n",
        "train_loader_64 = DataLoader(dataset = training_set, batch_size = batch_64, shuffle = True) ## batch size 64 짜리 train loader 생성\n",
        "test_loader_64 = DataLoader(dataset = testing_set, batch_size = batch_64, shuffle = True) ## batch size 64 짜리 test loader 생성\n",
        "\n",
        "train_loader_128 = DataLoader(dataset = training_set, batch_size = batch_128, shuffle = True) ## batch size 128 짜리 train loader 생성\n",
        "test_loader_128 = DataLoader(dataset = testing_set, batch_size = batch_128, shuffle = True) ## batch size 128 짜리 test loader 생성"
      ],
      "execution_count": 6,
      "outputs": []
    },
    {
      "cell_type": "code",
      "metadata": {
        "id": "rnv1UBAk3qtB",
        "outputId": "7c622dea-f188-4817-b586-bdc5692d2a25",
        "colab": {
          "base_uri": "https://localhost:8080/",
          "height": 282
        }
      },
      "source": [
        "for X, Y in train_loader_32:\n",
        "  plt.imshow(X[0][0].numpy())\n",
        "  print(f\"Target: {Y[0]}\")\n",
        "  break"
      ],
      "execution_count": 7,
      "outputs": [
        {
          "output_type": "stream",
          "text": [
            "Target: 2\n"
          ],
          "name": "stdout"
        },
        {
          "output_type": "display_data",
          "data": {
            "image/png": "[encoded data removed]",
            "text/plain": [
              "<Figure size 432x288 with 1 Axes>"
            ]
          },
          "metadata": {
            "tags": [],
            "needs_background": "light"
          }
        }
      ]
    },
    {
      "cell_type": "markdown",
      "metadata": {
        "id": "SCsB9Pdk6zd7"
      },
      "source": [
        "# 3. Define Model\n",
        "<hr>"
      ]
    },
    {
      "cell_type": "code",
      "metadata": {
        "id": "-cUHqcW25etQ"
      },
      "source": [
        "class classification(nn.Module):\n",
        "    def __init__(self):\n",
        "        super(classification, self).__init__()\n",
        "        \n",
        "        # construct layers for a neural network\n",
        "        self.classifier1 = nn.Sequential(\n",
        "            nn.Linear(in_features=28*28, out_features=20*20),\n",
        "            nn.Sigmoid(),\n",
        "        ) \n",
        "        self.classifier2 = nn.Sequential(\n",
        "            nn.Linear(in_features=20*20, out_features=10*10),\n",
        "            nn.Sigmoid(),\n",
        "        ) \n",
        "        self.classifier3 = nn.Sequential(\n",
        "            nn.Linear(in_features=10*10, out_features=10),\n",
        "            nn.LogSoftmax(dim=1),\n",
        "        ) \n",
        "        \n",
        "        \n",
        "    def forward(self, inputs):                 # [batchSize, 1, 28, 28]\n",
        "        x = inputs.view(inputs.size(0), -1)    # [batchSize, 28*28]\n",
        "        x = self.classifier1(x)                # [batchSize, 20*20]\n",
        "        x = self.classifier2(x)                # [batchSize, 10*10]\n",
        "        out = self.classifier3(x)              # [batchSize, 10]\n",
        "        \n",
        "        return out\n"
      ],
      "execution_count": 8,
      "outputs": []
    },
    {
      "cell_type": "code",
      "metadata": {
        "id": "MWYQ30d37dwC"
      },
      "source": [
        "classifier_32 = classification().to(device)\n",
        "classifier_64 = classification().to(device)\n",
        "classifier_128 = classification().to(device)"
      ],
      "execution_count": 9,
      "outputs": []
    },
    {
      "cell_type": "code",
      "metadata": {
        "id": "-GpzWr1V64wc"
      },
      "source": [
        "## Loss function\n",
        "criterion = nn.NLLLoss()\n",
        "\n",
        "# Optimization\n",
        "optimizer = torch.optim.SGD(classifier_32.parameters(), lr=learning_rate_value)"
      ],
      "execution_count": 10,
      "outputs": []
    },
    {
      "cell_type": "markdown",
      "metadata": {
        "id": "lsNWP3Wk8Siq"
      },
      "source": [
        "# 4. Training\n",
        "<hr>"
      ]
    },
    {
      "cell_type": "code",
      "metadata": {
        "id": "1_QSSPkC7sCr"
      },
      "source": [
        "training_epochs = 60\n",
        "total_batch_32 = len(train_loader_32)\n",
        "total_batch_64 = len(train_loader_64)\n",
        "total_batch_128 = len(train_loader_128)"
      ],
      "execution_count": 11,
      "outputs": []
    },
    {
      "cell_type": "code",
      "metadata": {
        "id": "9_SeUrHB5gLH",
        "outputId": "0ae72b9a-53b5-457c-d85e-b16765f510b1",
        "colab": {
          "base_uri": "https://localhost:8080/"
        }
      },
      "source": [
        "print(total_batch_32)"
      ],
      "execution_count": 12,
      "outputs": [
        {
          "output_type": "stream",
          "text": [
            "1875\n"
          ],
          "name": "stdout"
        }
      ]
    },
    {
      "cell_type": "code",
      "metadata": {
        "id": "eaJMZ8TvcglJ"
      },
      "source": [
        "def accuracy(log_pred, y_true):\n",
        "    y_pred = torch.argmax(log_pred, dim=1)\n",
        "    return (y_pred == y_true).to(torch.float).mean()"
      ],
      "execution_count": 13,
      "outputs": []
    },
    {
      "cell_type": "code",
      "metadata": {
        "id": "CX_ljI5M1-5U",
        "outputId": "2117726f-6432-443c-8821-25d86e0b2c31",
        "colab": {
          "base_uri": "https://localhost:8080/"
        }
      },
      "source": [
        "for X, Y in train_loader_32:\n",
        "  X = X.to(device)\n",
        "  Y = Y.to(device)\n",
        "  pred = classifier_32(X)\n",
        "  print(torch.argmax(pred, dim=1))\n",
        "  print(Y)\n",
        "  print((torch.argmax(pred, dim=1) == Y).to(torch.float).mean())\n",
        "  break"
      ],
      "execution_count": 14,
      "outputs": [
        {
          "output_type": "stream",
          "text": [
            "tensor([7, 7, 7, 7, 7, 7, 7, 7, 7, 7, 7, 7, 7, 7, 7, 7, 7, 7, 7, 7, 7, 7, 7, 7,\n",
            "        7, 7, 7, 7, 7, 7, 7, 7], device='cuda:0')\n",
            "tensor([9, 9, 3, 7, 9, 3, 0, 1, 1, 5, 2, 6, 7, 0, 9, 2, 1, 3, 8, 3, 1, 9, 9, 1,\n",
            "        9, 9, 3, 1, 4, 7, 7, 1], device='cuda:0')\n",
            "tensor(0.1250, device='cuda:0')\n"
          ],
          "name": "stdout"
        }
      ]
    },
    {
      "cell_type": "code",
      "metadata": {
        "id": "Kl5FuVgt8_LF"
      },
      "source": [
        "def training(model, loss, optim, training_epochs, train_loader, test_loader):\n",
        "  L_iters_train = []\n",
        "  accuracy_train = []\n",
        "  L_iters_test = []\n",
        "  accuracy_test = []\n",
        "  for epoch in range(training_epochs):\n",
        "    total_cost_train = 0\n",
        "    total_cost_test = 0\n",
        "    total_acc_train = 0\n",
        "    total_acc_test = 0\n",
        "\n",
        "    for X, Y in train_loader:\n",
        "      X = X.to(device)\n",
        "      Y = Y.to(device)\n",
        "\n",
        "      optim.zero_grad()\n",
        "      train_pred = model(X)\n",
        "      cost = loss(train_pred, Y)\n",
        "      cost.backward()\n",
        "      optim.step()\n",
        "      total_cost_train += cost\n",
        "      total_acc_train += accuracy(train_pred, Y)\n",
        "      \n",
        "    avg_cost_train = total_cost_train / len(train_loader)\n",
        "    avg_acc_train = total_acc_train / len(train_loader)\n",
        "\n",
        "    L_iters_train.append(avg_cost_train)\n",
        "    accuracy_train.append(avg_acc_train)\n",
        "    with torch.no_grad():\n",
        "      for X_test, Y_test in test_loader:\n",
        "        X_test = X_test.to(device)\n",
        "        Y_test = Y_test.to(device)\n",
        "        test_pred = model(X_test)\n",
        "        cost_test = loss(test_pred, Y_test)\n",
        "        total_cost_test += cost_test\n",
        "        total_acc_test += accuracy(test_pred, Y_test)\n",
        "      avg_cost_test = total_cost_test / len(test_loader)\n",
        "      avg_acc_test = total_acc_test / len(test_loader)\n",
        "    \n",
        "      accuracy_test.append(avg_acc_test)\n",
        "      L_iters_test.append(avg_cost_test)\n",
        "\n",
        "    print(\"Epoch: %02d Training Loss: %.9f Testing Loss: %.9f  Training Acc: %.9f Testing Acc: %.9f\" %((epoch + 1),avg_cost_train, avg_cost_test, avg_acc_train, avg_acc_test))\n",
        "  return L_iters_train, accuracy_train, L_iters_test, accuracy_test"
      ],
      "execution_count": 15,
      "outputs": []
    },
    {
      "cell_type": "code",
      "metadata": {
        "id": "hOfKPriA84jq",
        "outputId": "82e5abff-5f1f-404f-a25c-e4561cd4a114",
        "colab": {
          "base_uri": "https://localhost:8080/"
        }
      },
      "source": [
        "L_train_32, A_train_32, L_test_32, A_test_32 = training(classifier_32, criterion, optimizer, training_epochs, train_loader_32, test_loader_32)"
      ],
      "execution_count": 16,
      "outputs": [
        {
          "output_type": "stream",
          "text": [
            "Epoch: 01 Training Loss: 2.165584087 Testing Loss: 1.813946843  Training Acc: 0.348700017 Testing Acc: 0.608925700\n",
            "Epoch: 02 Training Loss: 1.274011254 Testing Loss: 0.905810654  Training Acc: 0.671666682 Testing Acc: 0.754492819\n",
            "Epoch: 03 Training Loss: 0.756060362 Testing Loss: 0.619610965  Training Acc: 0.793033361 Testing Acc: 0.833466411\n",
            "Epoch: 04 Training Loss: 0.559077919 Testing Loss: 0.482919544  Training Acc: 0.848699987 Testing Acc: 0.868909717\n",
            "Epoch: 05 Training Loss: 0.457443595 Testing Loss: 0.411810517  Training Acc: 0.875766695 Testing Acc: 0.888079047\n",
            "Epoch: 06 Training Loss: 0.399590760 Testing Loss: 0.365500093  Training Acc: 0.889649987 Testing Acc: 0.897563875\n",
            "Epoch: 07 Training Loss: 0.363075942 Testing Loss: 0.336923987  Training Acc: 0.898299992 Testing Acc: 0.904452860\n",
            "Epoch: 08 Training Loss: 0.337513238 Testing Loss: 0.317033559  Training Acc: 0.903966665 Testing Acc: 0.910742819\n",
            "Epoch: 09 Training Loss: 0.317925155 Testing Loss: 0.300933361  Training Acc: 0.909816682 Testing Acc: 0.912939310\n",
            "Epoch: 10 Training Loss: 0.301950991 Testing Loss: 0.287727594  Training Acc: 0.914083362 Testing Acc: 0.916733205\n",
            "Epoch: 11 Training Loss: 0.288262963 Testing Loss: 0.275303245  Training Acc: 0.917450011 Testing Acc: 0.919428885\n",
            "Epoch: 12 Training Loss: 0.276141703 Testing Loss: 0.264659315  Training Acc: 0.920400023 Testing Acc: 0.923422515\n",
            "Epoch: 13 Training Loss: 0.265151292 Testing Loss: 0.255801976  Training Acc: 0.923716664 Testing Acc: 0.925419331\n",
            "Epoch: 14 Training Loss: 0.254924208 Testing Loss: 0.248160318  Training Acc: 0.926316679 Testing Acc: 0.926617384\n",
            "Epoch: 15 Training Loss: 0.245321319 Testing Loss: 0.239098877  Training Acc: 0.929383337 Testing Acc: 0.930611014\n",
            "Epoch: 16 Training Loss: 0.236576855 Testing Loss: 0.230269238  Training Acc: 0.931516647 Testing Acc: 0.932907343\n",
            "Epoch: 17 Training Loss: 0.227972046 Testing Loss: 0.222875819  Training Acc: 0.933700025 Testing Acc: 0.935902536\n",
            "Epoch: 18 Training Loss: 0.220040172 Testing Loss: 0.216255158  Training Acc: 0.936550021 Testing Acc: 0.937000811\n",
            "Epoch: 19 Training Loss: 0.212392241 Testing Loss: 0.211277649  Training Acc: 0.938416660 Testing Acc: 0.939097404\n",
            "Epoch: 20 Training Loss: 0.205144778 Testing Loss: 0.202408493  Training Acc: 0.940183342 Testing Acc: 0.941393733\n",
            "Epoch: 21 Training Loss: 0.198306873 Testing Loss: 0.195987955  Training Acc: 0.942600012 Testing Acc: 0.942791522\n",
            "Epoch: 22 Training Loss: 0.191667363 Testing Loss: 0.190615162  Training Acc: 0.944599986 Testing Acc: 0.943690062\n",
            "Epoch: 23 Training Loss: 0.185372770 Testing Loss: 0.184926495  Training Acc: 0.947016656 Testing Acc: 0.946685314\n",
            "Epoch: 24 Training Loss: 0.179440215 Testing Loss: 0.178924382  Training Acc: 0.947966695 Testing Acc: 0.948083043\n",
            "Epoch: 25 Training Loss: 0.173805952 Testing Loss: 0.175461307  Training Acc: 0.950366676 Testing Acc: 0.947983205\n",
            "Epoch: 26 Training Loss: 0.168318123 Testing Loss: 0.168946281  Training Acc: 0.952050030 Testing Acc: 0.949980021\n",
            "Epoch: 27 Training Loss: 0.163112774 Testing Loss: 0.166303217  Training Acc: 0.953599989 Testing Acc: 0.952775538\n",
            "Epoch: 28 Training Loss: 0.158128977 Testing Loss: 0.160901099  Training Acc: 0.954816699 Testing Acc: 0.952875376\n",
            "Epoch: 29 Training Loss: 0.153503001 Testing Loss: 0.156010270  Training Acc: 0.956016660 Testing Acc: 0.954373002\n",
            "Epoch: 30 Training Loss: 0.148909897 Testing Loss: 0.153140709  Training Acc: 0.957666695 Testing Acc: 0.954472840\n",
            "Epoch: 31 Training Loss: 0.144675583 Testing Loss: 0.149423108  Training Acc: 0.959266663 Testing Acc: 0.956070244\n",
            "Epoch: 32 Training Loss: 0.140504047 Testing Loss: 0.146491423  Training Acc: 0.960266650 Testing Acc: 0.956968844\n",
            "Epoch: 33 Training Loss: 0.136553198 Testing Loss: 0.142689615  Training Acc: 0.961499989 Testing Acc: 0.958266735\n",
            "Epoch: 34 Training Loss: 0.132794440 Testing Loss: 0.139893666  Training Acc: 0.962633371 Testing Acc: 0.958566248\n",
            "Epoch: 35 Training Loss: 0.129050508 Testing Loss: 0.136747509  Training Acc: 0.963766694 Testing Acc: 0.958965659\n",
            "Epoch: 36 Training Loss: 0.125620157 Testing Loss: 0.133908451  Training Acc: 0.964850008 Testing Acc: 0.959864199\n",
            "Epoch: 37 Training Loss: 0.122245438 Testing Loss: 0.130427584  Training Acc: 0.966033340 Testing Acc: 0.960962415\n",
            "Epoch: 38 Training Loss: 0.119007640 Testing Loss: 0.127427191  Training Acc: 0.966899991 Testing Acc: 0.961960852\n",
            "Epoch: 39 Training Loss: 0.115962140 Testing Loss: 0.124981180  Training Acc: 0.967633367 Testing Acc: 0.962360203\n",
            "Epoch: 40 Training Loss: 0.112979881 Testing Loss: 0.123227417  Training Acc: 0.968516648 Testing Acc: 0.963458478\n",
            "Epoch: 41 Training Loss: 0.110143766 Testing Loss: 0.121805862  Training Acc: 0.969733357 Testing Acc: 0.964257181\n",
            "Epoch: 42 Training Loss: 0.107416041 Testing Loss: 0.118541375  Training Acc: 0.970250010 Testing Acc: 0.964357018\n",
            "Epoch: 43 Training Loss: 0.104722574 Testing Loss: 0.116399683  Training Acc: 0.970799983 Testing Acc: 0.965055883\n",
            "Epoch: 44 Training Loss: 0.102128275 Testing Loss: 0.114840753  Training Acc: 0.971583366 Testing Acc: 0.966453671\n",
            "Epoch: 45 Training Loss: 0.099637657 Testing Loss: 0.112013645  Training Acc: 0.972500026 Testing Acc: 0.966952860\n",
            "Epoch: 46 Training Loss: 0.097356685 Testing Loss: 0.110868484  Training Acc: 0.972966671 Testing Acc: 0.967452049\n",
            "Epoch: 47 Training Loss: 0.095108613 Testing Loss: 0.108995795  Training Acc: 0.973900020 Testing Acc: 0.967651725\n",
            "Epoch: 48 Training Loss: 0.092902079 Testing Loss: 0.107094891  Training Acc: 0.974433362 Testing Acc: 0.967851400\n",
            "Epoch: 49 Training Loss: 0.090716429 Testing Loss: 0.105153516  Training Acc: 0.975350022 Testing Acc: 0.968051076\n",
            "Epoch: 50 Training Loss: 0.088605128 Testing Loss: 0.103960052  Training Acc: 0.975683331 Testing Acc: 0.968150914\n",
            "Epoch: 51 Training Loss: 0.086561337 Testing Loss: 0.102743849  Training Acc: 0.976500034 Testing Acc: 0.969149351\n",
            "Epoch: 52 Training Loss: 0.084647439 Testing Loss: 0.101047724  Training Acc: 0.977050006 Testing Acc: 0.969848216\n",
            "Epoch: 53 Training Loss: 0.082791418 Testing Loss: 0.100793019  Training Acc: 0.977633357 Testing Acc: 0.969548702\n",
            "Epoch: 54 Training Loss: 0.080995217 Testing Loss: 0.098353833  Training Acc: 0.978216648 Testing Acc: 0.970347404\n",
            "Epoch: 55 Training Loss: 0.079238832 Testing Loss: 0.098171078  Training Acc: 0.978799999 Testing Acc: 0.970047891\n",
            "Epoch: 56 Training Loss: 0.077533849 Testing Loss: 0.096781410  Training Acc: 0.979483366 Testing Acc: 0.970946491\n",
            "Epoch: 57 Training Loss: 0.075831987 Testing Loss: 0.095118493  Training Acc: 0.979650021 Testing Acc: 0.971345842\n",
            "Epoch: 58 Training Loss: 0.074227385 Testing Loss: 0.092694566  Training Acc: 0.980149984 Testing Acc: 0.970646977\n",
            "Epoch: 59 Training Loss: 0.072608382 Testing Loss: 0.091858238  Training Acc: 0.980466664 Testing Acc: 0.971944869\n",
            "Epoch: 60 Training Loss: 0.070987932 Testing Loss: 0.091103032  Training Acc: 0.981366694 Testing Acc: 0.971645355\n"
          ],
          "name": "stdout"
        }
      ]
    },
    {
      "cell_type": "code",
      "metadata": {
        "id": "vzn6YyGw9ULY",
        "outputId": "72c1b154-84e5-4be3-80c0-c52b5d84b1e6",
        "colab": {
          "base_uri": "https://localhost:8080/",
          "height": 592
        }
      },
      "source": [
        "plt.figure(figsize = (10,10))\n",
        "plt.plot(L_train_32, linewidth = 2, c='b')\n",
        "plt.plot(L_test_32, linewidth = 2, c='r')\n",
        "plt.show()"
      ],
      "execution_count": 17,
      "outputs": [
        {
          "output_type": "display_data",
          "data": {
            "image/png": "[encoded data removed]",
            "text/plain": [
              "<Figure size 720x720 with 1 Axes>"
            ]
          },
          "metadata": {
            "tags": [],
            "needs_background": "light"
          }
        }
      ]
    },
    {
      "cell_type": "code",
      "metadata": {
        "id": "Rl1MuQhtqsg2",
        "outputId": "f0cb916c-a424-4946-945a-99a8c6df6d2a",
        "colab": {
          "base_uri": "https://localhost:8080/",
          "height": 592
        }
      },
      "source": [
        "plt.figure(figsize = (10,10))\n",
        "plt.plot(A_train_32, linewidth = 2, c='b')\n",
        "plt.plot(A_test_32, linewidth = 2, c='r')\n",
        "plt.show()"
      ],
      "execution_count": 18,
      "outputs": [
        {
          "output_type": "display_data",
          "data": {
            "image/png": "[encoded data removed]",
            "text/plain": [
              "<Figure size 720x720 with 1 Axes>"
            ]
          },
          "metadata": {
            "tags": [],
            "needs_background": "light"
          }
        }
      ]
    },
    {
      "cell_type": "code",
      "metadata": {
        "id": "-X-MPa8z9uci",
        "outputId": "280be56d-f236-4383-ee2f-16cf44a8a334",
        "colab": {
          "base_uri": "https://localhost:8080/",
          "height": 282
        }
      },
      "source": [
        "for X, Y in test_loader_32:\n",
        "    plt.imshow(X[0][0].numpy())\n",
        "    X_1 = X.to(device)\n",
        "    pred = classifier_32(X_1)\n",
        "    print(torch.argmax(pred[0]))\n",
        "    break"
      ],
      "execution_count": 19,
      "outputs": [
        {
          "output_type": "stream",
          "text": [
            "tensor(9, device='cuda:0')\n"
          ],
          "name": "stdout"
        },
        {
          "output_type": "display_data",
          "data": {
            "image/png": "[encoded data removed]",
            "text/plain": [
              "<Figure size 432x288 with 1 Axes>"
            ]
          },
          "metadata": {
            "tags": [],
            "needs_background": "light"
          }
        }
      ]
    },
    {
      "cell_type": "code",
      "metadata": {
        "id": "z43mK4_4d5jo"
      },
      "source": [
        ""
      ],
      "execution_count": 19,
      "outputs": []
    }
  ]
}