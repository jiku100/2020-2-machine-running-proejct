{
  "nbformat": 4,
  "nbformat_minor": 0,
  "metadata": {
    "colab": {
      "name": "신석경_assignment_06",
      "provenance": [],
      "authorship_tag": "ABX9TyMelharEgj0rksKE4QDYipi",
      "include_colab_link": true
    },
    "kernelspec": {
      "name": "python3",
      "display_name": "Python 3"
    }
  },
  "cells": [
    {
      "cell_type": "markdown",
      "metadata": {
        "id": "view-in-github",
        "colab_type": "text"
      },
      "source": [
        "<a href=\"https://colab.research.google.com/github/jiku100/2020-2-machine-running-proejct/blob/master/assignment6/%EC%8B%A0%EC%84%9D%EA%B2%BD_assignment_06.ipynb\" target=\"_parent\"><img src=\"https://colab.research.google.com/assets/colab-badge.svg\" alt=\"Open In Colab\"/></a>"
      ]
    },
    {
      "cell_type": "markdown",
      "metadata": {
        "id": "zWDtO81MjPsl"
      },
      "source": [
        "# **Regularization**"
      ]
    },
    {
      "cell_type": "markdown",
      "metadata": {
        "id": "Z1lMlNc6jUW5"
      },
      "source": [
        "# 1. Load Data\n",
        "<hr>"
      ]
    },
    {
      "cell_type": "code",
      "metadata": {
        "id": "aE5tzW7KjGeK",
        "outputId": "3aedcd04-628f-4f44-d793-52886e682103",
        "colab": {
          "base_uri": "https://localhost:8080/",
          "height": 122
        }
      },
      "source": [
        "import numpy as np\n",
        "import matplotlib.pyplot as plt\n",
        "\n",
        "# import data with numpy\n",
        "data_train  = np.loadtxt('training.txt', delimiter=',')\n",
        "data_test   = np.loadtxt('testing.txt', delimiter=',')\n",
        "\n",
        "# number of training data\n",
        "number_data_train   = data_train.shape[0] \n",
        "number_data_test    = data_test.shape[0]\n",
        "\n",
        "# training data\n",
        "x1_train            = data_train[:,0] # feature 1\n",
        "x2_train            = data_train[:,1] # feature 2\n",
        "idx_class0_train    = (data_train[:,2]==0) # index of class0\n",
        "idx_class1_train    = (data_train[:,2]==1) # index of class1\n",
        "\n",
        "# testing data\n",
        "x1_test             = data_test[:,0] # feature 1\n",
        "x2_test             = data_test[:,1] # feature 2\n",
        "idx_class0_test     = (data_test[:,2]==0) # index of class0\n",
        "idx_class1_test     = (data_test[:,2]==1) # index of class1\n",
        "\n",
        "print(f\"x1_train shape = {x1_train.shape}\")\n",
        "print(f\"x2_train shape = {x2_train.shape}\")\n",
        "print(f\"label_train shape = {data_train[:, 2].shape}\")\n",
        "\n",
        "print(f\"x1_test shape = {x1_test.shape}\")\n",
        "print(f\"x2_test shape = {x2_test.shape}\")\n",
        "print(f\"label_test shape = {data_test[:, 2].shape}\")"
      ],
      "execution_count": 1,
      "outputs": [
        {
          "output_type": "stream",
          "text": [
            "x1_train shape = (200,)\n",
            "x2_train shape = (200,)\n",
            "label_train shape = (200,)\n",
            "x1_test shape = (200,)\n",
            "x2_test shape = (200,)\n",
            "label_test shape = (200,)\n"
          ],
          "name": "stdout"
        }
      ]
    },
    {
      "cell_type": "code",
      "metadata": {
        "id": "4PzdDJB9lM4a",
        "outputId": "52d7f3d7-b722-41c0-cbde-b2099d16501e",
        "colab": {
          "base_uri": "https://localhost:8080/",
          "height": 499
        }
      },
      "source": [
        "f = plt.figure(1, figsize=(12,8))\n",
        "ax1 = f.add_subplot(121)\n",
        "ax1.set(xlim=[-2, 3], ylim=[-1, 1.2], title='Training data')\n",
        "ax1.scatter(x1_train[idx_class0_train], x2_train[idx_class0_train], s=50, c='r', marker=\".\", label=\"class0\")\n",
        "ax1.scatter(x1_train[idx_class1_train], x2_train[idx_class1_train], s=50, c='b', marker=\".\", label=\"class1\")\n",
        "ax1.legend()\n",
        "\n",
        "ax2 = f.add_subplot(122)\n",
        "ax2.set(xlim=[-2, 3], ylim=[-1, 1.2], title='Testing data')\n",
        "ax2.scatter(x1_test[idx_class0_train], x2_test[idx_class0_train], s=50, c='r', marker=\".\", label=\"class0\")\n",
        "ax2.scatter(x1_test[idx_class1_train], x2_test[idx_class1_train], s=50, c='b', marker=\".\", label=\"class1\")\n",
        "ax2.legend()\n",
        "\n",
        "plt.show()"
      ],
      "execution_count": 14,
      "outputs": [
        {
          "output_type": "display_data",
          "data": {
            "image/png": "[encoded data removed]",
            "text/plain": [
              "<Figure size 864x576 with 2 Axes>"
            ]
          },
          "metadata": {
            "tags": [],
            "needs_background": "light"
          }
        }
      ]
    },
    {
      "cell_type": "markdown",
      "metadata": {
        "id": "eUCkXF7E8MrV"
      },
      "source": [
        "# 2. Make train, test, theta Matrix\n",
        "<hr>"
      ]
    },
    {
      "cell_type": "code",
      "metadata": {
        "id": "sAKVLd_mm2RJ",
        "outputId": "4cc9908e-6db9-46fb-ccb8-e52744e4c7d7",
        "colab": {
          "base_uri": "https://localhost:8080/",
          "height": 69
        }
      },
      "source": [
        "## make train theta and train matrix\n",
        "n = data_train.shape[0]\n",
        "theta = np.zeros((9*9))[:,None]\n",
        "X_train = np.ones((n,9*9))\n",
        "\n",
        "k = 0;\n",
        "for i in range(9):\n",
        "  for j in range(9):\n",
        "    X_train[:,k] = pow(x1_train, i) * pow(x2_train, j)\n",
        "    k += 1\n",
        "\n",
        "## make test matrix\n",
        "X_test = np.ones((n,9*9))\n",
        "\n",
        "k = 0\n",
        "for i in range(9):\n",
        "  for j in range(9):\n",
        "    X_test[:,k] = pow(x1_test, i) * pow(x2_test, j)\n",
        "    k += 1\n",
        "\n",
        "# print matrix shape\n",
        "print(f\"theta shape = {theta.shape}\")\n",
        "print(f\"X_train shape = {X_train.shape}\")\n",
        "print(f\"X_test shape = {X_test.shape}\")"
      ],
      "execution_count": 90,
      "outputs": [
        {
          "output_type": "stream",
          "text": [
            "theta shape = (81, 1)\n",
            "X_train shape = (200, 81)\n",
            "X_test shape = (200, 81)\n"
          ],
          "name": "stdout"
        }
      ]
    },
    {
      "cell_type": "markdown",
      "metadata": {
        "id": "MARGUKbM8blf"
      },
      "source": [
        "# 3. Define a logistic regression loss function and its gradient\n",
        "<hr>"
      ]
    },
    {
      "cell_type": "code",
      "metadata": {
        "id": "o6hN_6Iloe9u"
      },
      "source": [
        "# sigmoid function\n",
        "def sigmoid(z):\n",
        "    sigmoid_f = 1/(1+np.exp(-z))\n",
        "    return sigmoid_f \n",
        "\n",
        "# predictive function definition\n",
        "def f_pred(X,theta): \n",
        "    p = sigmoid(np.dot(X,w))\n",
        "    return p\n",
        "\n",
        "# loss function definition\n",
        "def loss_logreg(y_pred,y, theta, lda): \n",
        "    n = len(y)\n",
        "    y_pred = np.clip(y_pred, 1e-10, 1-1e-10)\n",
        "    loss = -1/n * (np.dot(y.T, np.log(y_pred)) + np.dot((1-y).T, np.log(1-y_pred))) + lda/2 * np.dot(theta.T, theta)\n",
        "    return loss\n",
        "\n",
        "# gradient function definition\n",
        "def grad_loss_ce(y_pred, y, X, theta, lda):\n",
        "    n = len(y)\n",
        "    grad = 1/n * np.dot(X.T, (y_pred - y)) + lda * theta\n",
        "    return grad"
      ],
      "execution_count": 91,
      "outputs": []
    },
    {
      "cell_type": "code",
      "metadata": {
        "id": "knAOzSfftwoR",
        "outputId": "c6a8158a-e08c-46a5-a00d-b334bc92ad1a",
        "colab": {
          "base_uri": "https://localhost:8080/",
          "height": 34
        }
      },
      "source": [
        "print(np.sum(X_train).shape)"
      ],
      "execution_count": 79,
      "outputs": [
        {
          "output_type": "stream",
          "text": [
            "()\n"
          ],
          "name": "stdout"
        }
      ]
    },
    {
      "cell_type": "code",
      "metadata": {
        "id": "sOiHIZMI9YcD",
        "outputId": "734c3830-3ddc-4187-c867-7b30a710da79",
        "colab": {
          "base_uri": "https://localhost:8080/",
          "height": 52
        }
      },
      "source": [
        "a1 = np.array([[[1,1,1],[1,1,1],[1,1,1]],[[2,2,2],[2,2,2],[2,2,2]],[[3,3,3],[3,3,3],[3,3,3]]])\n",
        "a2 = np.array([[4,4,4],[4,4,4],[4,4,4]])\n",
        "print(a2.shape)\n",
        "b1 = np.sum(a1*a2, axis=(1,2))\n",
        "print((b1))"
      ],
      "execution_count": 87,
      "outputs": [
        {
          "output_type": "stream",
          "text": [
            "(3, 3)\n",
            "[ 36  72 108]\n"
          ],
          "name": "stdout"
        }
      ]
    },
    {
      "cell_type": "code",
      "metadata": {
        "id": "oO9TLE8b-Eg0"
      },
      "source": [
        ""
      ],
      "execution_count": null,
      "outputs": []
    }
  ]
}