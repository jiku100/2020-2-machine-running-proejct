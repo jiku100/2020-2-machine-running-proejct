{
  "nbformat": 4,
  "nbformat_minor": 0,
  "metadata": {
    "kernelspec": {
      "display_name": "Python 3",
      "language": "python",
      "name": "python3"
    },
    "language_info": {
      "codemirror_mode": {
        "name": "ipython",
        "version": 3
      },
      "file_extension": ".py",
      "mimetype": "text/x-python",
      "name": "python",
      "nbconvert_exporter": "python",
      "pygments_lexer": "ipython3",
      "version": "3.6.8"
    },
    "colab": {
      "name": "신석경 - assignment-03-a.ipynb",
      "provenance": [],
      "collapsed_sections": [],
      "include_colab_link": true
    }
  },
  "cells": [
    {
      "cell_type": "markdown",
      "metadata": {
        "id": "view-in-github",
        "colab_type": "text"
      },
      "source": [
        "<a href=\"https://colab.research.google.com/github/jiku100/2020-2-machine-running-proejct/blob/master/assignment3/%EC%8B%A0%EC%84%9D%EA%B2%BD_assignment_03_a.ipynb\" target=\"_parent\"><img src=\"https://colab.research.google.com/assets/colab-badge.svg\" alt=\"Open In Colab\"/></a>"
      ]
    },
    {
      "cell_type": "markdown",
      "metadata": {
        "id": "77M5JzE-xRbK",
        "colab_type": "text"
      },
      "source": [
        "# Manipulate PyTorch Tensors\n",
        "<hr>\n",
        "\n",
        "## Matrix manipulation"
      ]
    },
    {
      "cell_type": "code",
      "metadata": {
        "id": "DjqjmiGgxRbM",
        "colab_type": "code",
        "colab": {}
      },
      "source": [
        "import torch"
      ],
      "execution_count": null,
      "outputs": []
    },
    {
      "cell_type": "markdown",
      "metadata": {
        "id": "FJWJR5m5xRbS",
        "colab_type": "text"
      },
      "source": [
        "### Make the matrices A and B below. Add them together to obtain a matrix C. Print these three matrices.\n",
        "$$\n",
        "A =\\begin{bmatrix}\n",
        "1 & 2 \\\\ 3 & 4\n",
        "\\end{bmatrix}  \n",
        "\\qquad \n",
        "B =\\begin{bmatrix}\n",
        "10 & 20 \\\\ 30 & 40\n",
        "\\end{bmatrix}  \\qquad C=A+B =?\n",
        "$$"
      ]
    },
    {
      "cell_type": "code",
      "metadata": {
        "id": "igLMJ_yjxRbS",
        "colab_type": "code",
        "colab": {
          "base_uri": "https://localhost:8080/",
          "height": 167
        },
        "outputId": "583637e9-b890-47eb-fd9e-927d0549b1c5"
      },
      "source": [
        "\n",
        "# write your code here\n",
        "\n",
        "A = torch.tensor([[1.,2.],[3.,4.]])\n",
        "B = torch.tensor([[10.,20.],[30.,40.]])\n",
        "C = A + B\n",
        "\n",
        "# print\n",
        "print(A)\n",
        "print('')\n",
        "print(B)\n",
        "print('')\n",
        "print(C)"
      ],
      "execution_count": null,
      "outputs": [
        {
          "output_type": "stream",
          "text": [
            "tensor([[1., 2.],\n",
            "        [3., 4.]])\n",
            "\n",
            "tensor([[10., 20.],\n",
            "        [30., 40.]])\n",
            "\n",
            "tensor([[11., 22.],\n",
            "        [33., 44.]])\n"
          ],
          "name": "stdout"
        }
      ]
    },
    {
      "cell_type": "markdown",
      "metadata": {
        "id": "2FkTBS_dxRbW",
        "colab_type": "text"
      },
      "source": [
        "### Print the dimension, size and type of the matrix A. Remember, the commands are dim(), size() and type()"
      ]
    },
    {
      "cell_type": "code",
      "metadata": {
        "id": "_wkPaPU3xRbX",
        "colab_type": "code",
        "colab": {
          "base_uri": "https://localhost:8080/",
          "height": 111
        },
        "outputId": "7c619812-6ea7-47a0-e104-ed15d27092a1"
      },
      "source": [
        "\n",
        "# write your code here\n",
        "\n",
        "print(A.dim())    # print the dimension of the matrix A\n",
        "print('')\n",
        "print(A.size())    # print the size of the matrix A\n",
        "print('')\n",
        "print(A.dtype)    # print the type of the matrix A"
      ],
      "execution_count": null,
      "outputs": [
        {
          "output_type": "stream",
          "text": [
            "2\n",
            "\n",
            "torch.Size([2, 2])\n",
            "\n",
            "torch.float32\n"
          ],
          "name": "stdout"
        }
      ]
    },
    {
      "cell_type": "markdown",
      "metadata": {
        "id": "EPlUl1RIxRbc",
        "colab_type": "text"
      },
      "source": [
        "### Convert the matrix A to be an integer matrix  (type LongTensor). Remember, the command is long(). Then print the type to check it was indeed converted."
      ]
    },
    {
      "cell_type": "code",
      "metadata": {
        "id": "IQyx3wixxRbe",
        "colab_type": "code",
        "colab": {
          "base_uri": "https://localhost:8080/",
          "height": 73
        },
        "outputId": "ed990551-5766-41b9-89e8-303a8da14a30"
      },
      "source": [
        "\n",
        "# write your code here\n",
        "\n",
        "A_long = A.long()\n",
        "\n",
        "print(A_long.dtype)    # print the type of A_long\n",
        "print('')\n",
        "print(A.dtype)    # print the type of A"
      ],
      "execution_count": null,
      "outputs": [
        {
          "output_type": "stream",
          "text": [
            "torch.int64\n",
            "\n",
            "torch.float32\n"
          ],
          "name": "stdout"
        }
      ]
    },
    {
      "cell_type": "markdown",
      "metadata": {
        "id": "TdMZku3FxRbj",
        "colab_type": "text"
      },
      "source": [
        "### Make a random 5 x 2 x 3 Tensor. The command is torch.rand.  Then do the following:   1) Print the tensor,  2) Print its type, 3) Print its dimension,  4) Print its size, 5) Print the size of its middle dimension."
      ]
    },
    {
      "cell_type": "code",
      "metadata": {
        "id": "J0zY4gghxRbk",
        "colab_type": "code",
        "colab": {
          "base_uri": "https://localhost:8080/",
          "height": 353
        },
        "outputId": "c4936081-5858-499e-f53e-dd13236874d6"
      },
      "source": [
        "\n",
        "# write your code here\n",
        "\n",
        "A = torch.rand(5, 2, 3)\n",
        "\n",
        "print(A)\n",
        "print(A.dtype)    # print the type of A\n",
        "print(A.dim())    # print the dimension of A\n",
        "print(A.size())    # print the size of A\n",
        "print(A.size()[1])    # print the size of the middle (second) dimension"
      ],
      "execution_count": null,
      "outputs": [
        {
          "output_type": "stream",
          "text": [
            "tensor([[[0.4679, 0.9255, 0.2345],\n",
            "         [0.7901, 0.5932, 0.4890]],\n",
            "\n",
            "        [[0.8673, 0.2743, 0.3380],\n",
            "         [0.4803, 0.4979, 0.5206]],\n",
            "\n",
            "        [[0.0201, 0.8772, 0.8262],\n",
            "         [0.4346, 0.5516, 0.0641]],\n",
            "\n",
            "        [[0.7839, 0.0737, 0.1642],\n",
            "         [0.0246, 0.2567, 0.0396]],\n",
            "\n",
            "        [[0.2179, 0.5114, 0.4571],\n",
            "         [0.6231, 0.5645, 0.0715]]])\n",
            "torch.float32\n",
            "3\n",
            "torch.Size([5, 2, 3])\n",
            "2\n"
          ],
          "name": "stdout"
        }
      ]
    },
    {
      "cell_type": "markdown",
      "metadata": {
        "id": "2NJGMu2nxRbo",
        "colab_type": "text"
      },
      "source": [
        "### Make 2 x 3 x 4 x 5 tensor filled with zeros then print it. (The command is torch.zeros). See if you can make sense of the display."
      ]
    },
    {
      "cell_type": "code",
      "metadata": {
        "id": "nPfdIavdxRbq",
        "colab_type": "code",
        "colab": {
          "base_uri": "https://localhost:8080/",
          "height": 577
        },
        "outputId": "2f3b0caa-f74a-4b0e-dc68-12920ca848a2"
      },
      "source": [
        "\n",
        "# write your code here\n",
        "\n",
        "A = torch.zeros(2,3,4,5)\n",
        "\n",
        "print(A)\n"
      ],
      "execution_count": null,
      "outputs": [
        {
          "output_type": "stream",
          "text": [
            "tensor([[[[0., 0., 0., 0., 0.],\n",
            "          [0., 0., 0., 0., 0.],\n",
            "          [0., 0., 0., 0., 0.],\n",
            "          [0., 0., 0., 0., 0.]],\n",
            "\n",
            "         [[0., 0., 0., 0., 0.],\n",
            "          [0., 0., 0., 0., 0.],\n",
            "          [0., 0., 0., 0., 0.],\n",
            "          [0., 0., 0., 0., 0.]],\n",
            "\n",
            "         [[0., 0., 0., 0., 0.],\n",
            "          [0., 0., 0., 0., 0.],\n",
            "          [0., 0., 0., 0., 0.],\n",
            "          [0., 0., 0., 0., 0.]]],\n",
            "\n",
            "\n",
            "        [[[0., 0., 0., 0., 0.],\n",
            "          [0., 0., 0., 0., 0.],\n",
            "          [0., 0., 0., 0., 0.],\n",
            "          [0., 0., 0., 0., 0.]],\n",
            "\n",
            "         [[0., 0., 0., 0., 0.],\n",
            "          [0., 0., 0., 0., 0.],\n",
            "          [0., 0., 0., 0., 0.],\n",
            "          [0., 0., 0., 0., 0.]],\n",
            "\n",
            "         [[0., 0., 0., 0., 0.],\n",
            "          [0., 0., 0., 0., 0.],\n",
            "          [0., 0., 0., 0., 0.],\n",
            "          [0., 0., 0., 0., 0.]]]])\n"
          ],
          "name": "stdout"
        }
      ]
    },
    {
      "cell_type": "code",
      "metadata": {
        "id": "lge6pBg54GFq",
        "colab_type": "code",
        "colab": {}
      },
      "source": [
        ""
      ],
      "execution_count": null,
      "outputs": []
    }
  ]
}